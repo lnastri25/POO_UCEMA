{
 "cells": [
  {
   "cell_type": "markdown",
   "metadata": {
    "collapsed": false,
    "pycharm": {
     "name": "#%% md\n"
    }
   },
   "source": [
    "# Contiene duplicados\n",
    "\n",
    "Dado un arreglo de enteros `nums`, devuelve `True` si algún valor aparece al menos dos veces en el arreglo, y devuelve `False` si cada elemento es distinto.\n",
    "\n",
    "## Ejemplo 1:\n",
    "Entrada: nums = [1,2,3,1]\n",
    "Salida: True\n",
    "\n",
    "## Ejemplo 2:\n",
    "Entrada: nums = [1,2,3,4]\n",
    "Salida: False\n",
    "\n",
    "## Ejemplo 3:\n",
    "Entrada: nums = [1,1,1,3,3,4,3,2,4,2]\n",
    "Salida: True\n",
    "\n",
    "## Restricciones:\n",
    "1 <= nums.length <= 105\n",
    "-109 <= nums[i] <= 109\n"
   ]
  },
  {
   "cell_type": "code",
   "execution_count": 2,
   "metadata": {
    "ExecuteTime": {
     "end_time": "2023-08-02T21:22:41.712594300Z",
     "start_time": "2023-08-02T21:22:41.683704900Z"
    },
    "collapsed": false,
    "pycharm": {
     "name": "#%%\n"
    }
   },
   "outputs": [],
   "source": [
    "# Función para completar\n",
    "def containsDuplicate(nums):\n",
    "        hashset = set()\n",
    "\n",
    "        for n in nums:\n",
    "            if n in hashset:\n",
    "                return True\n",
    "            hashset.add(n)\n",
    "        return False\n"
   ]
  },
  {
   "cell_type": "code",
   "execution_count": 3,
   "metadata": {
    "ExecuteTime": {
     "end_time": "2023-08-02T21:22:45.063725200Z",
     "start_time": "2023-08-02T21:22:44.826353800Z"
    },
    "collapsed": false,
    "pycharm": {
     "name": "#%%\n"
    }
   },
   "outputs": [
    {
     "name": "stdout",
     "output_type": "stream",
     "text": [
      "\u001b[1m======================================= test session starts =======================================\u001b[0m\n",
      "platform win32 -- Python 3.9.13, pytest-7.4.0, pluggy-1.2.0 -- C:\\Users\\Admin\\PycharmProjects\\UCEMA_2023\\venv\\Scripts\\python.exe\n",
      "cachedir: .pytest_cache\n",
      "rootdir: C:\\Users\\Admin\\PycharmProjects\\UCEMA_2023\\part-1\\clase1\\02-duplicados\n",
      "plugins: anyio-3.7.1\n",
      "\u001b[1mcollecting ... \u001b[0mcollected 3 items\n",
      "\n",
      "t_f7402b14bc90470990278a1b72dd2f59.py::TestContainsDuplicate::test_contains_duplicate1 \u001b[32mPASSED\u001b[0m\u001b[32m [ 33%]\u001b[0m\n",
      "t_f7402b14bc90470990278a1b72dd2f59.py::TestContainsDuplicate::test_contains_duplicate2 \u001b[32mPASSED\u001b[0m\u001b[32m [ 66%]\u001b[0m\n",
      "t_f7402b14bc90470990278a1b72dd2f59.py::TestContainsDuplicate::test_contains_duplicate3 \u001b[32mPASSED\u001b[0m\u001b[32m [100%]\u001b[0m\n",
      "\n",
      "\u001b[32m======================================== \u001b[32m\u001b[1m3 passed\u001b[0m\u001b[32m in 0.02s\u001b[0m\u001b[32m ========================================\u001b[0m\n"
     ]
    },
    {
     "data": {
      "text/plain": [
       "<ExitCode.OK: 0>"
      ]
     },
     "execution_count": 3,
     "metadata": {},
     "output_type": "execute_result"
    }
   ],
   "source": [
    "import ipytest\n",
    "from test_dupli.test_dupli import TestContainsDuplicate\n",
    "TestContainsDuplicate.contains_duplicate = containsDuplicate\n",
    "ipytest.run(\"-vv\")"
   ]
  },
  {
   "cell_type": "code",
   "execution_count": 4,
   "metadata": {
    "ExecuteTime": {
     "end_time": "2023-08-02T21:22:47.235579700Z",
     "start_time": "2023-08-02T21:22:47.188000500Z"
    },
    "collapsed": false,
    "pycharm": {
     "name": "#%%\n"
    }
   },
   "outputs": [
    {
     "name": "stderr",
     "output_type": "stream",
     "text": [
      "ipytest.clean_tests is deprecated in favor of ipytest.clean\n"
     ]
    }
   ],
   "source": [
    "ipytest.clean_tests()"
   ]
  }
 ],
 "metadata": {
  "kernelspec": {
   "display_name": "Python 3",
   "language": "python",
   "name": "python3"
  },
  "language_info": {
   "codemirror_mode": {
    "name": "ipython",
    "version": 2
   },
   "file_extension": ".py",
   "mimetype": "text/x-python",
   "name": "python",
   "nbconvert_exporter": "python",
   "pygments_lexer": "ipython2",
   "version": "2.7.6"
  }
 },
 "nbformat": 4,
 "nbformat_minor": 0
}
