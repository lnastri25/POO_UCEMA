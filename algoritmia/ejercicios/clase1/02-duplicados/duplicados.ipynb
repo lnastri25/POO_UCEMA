{
 "cells": [
  {
   "cell_type": "markdown",
   "metadata": {
    "collapsed": false,
    "pycharm": {
     "name": "#%% md\n"
    }
   },
   "source": [
    "# Contiene duplicados\n",
    "\n",
    "Dado un arreglo de enteros `nums`, devuelve `True` si algún valor aparece al menos dos veces en el arreglo, y devuelve `False` si cada elemento es distinto.\n",
    "\n",
    "## Ejemplo 1:\n",
    "Entrada: nums = [1,2,3,1]\n",
    "Salida: True\n",
    "\n",
    "## Ejemplo 2:\n",
    "Entrada: nums = [1,2,3,4]\n",
    "Salida: False\n",
    "\n",
    "## Ejemplo 3:\n",
    "Entrada: nums = [1,1,1,3,3,4,3,2,4,2]\n",
    "Salida: True\n",
    "\n",
    "## Restricciones:\n",
    "1 <= nums.length <= 105\n",
    "-109 <= nums[i] <= 109\n"
   ]
  },
  {
   "cell_type": "code",
   "execution_count": 2,
   "metadata": {
    "collapsed": false
   },
   "outputs": [],
   "source": [
    "# Función para completar\n",
    "def containsDuplicate(nums) -> bool:\n",
    "    numeros_vistos = set()\n",
    "    for num in nums:\n",
    "      if num in numeros_vistos:\n",
    "        return True\n",
    "      numeros_vistos.add(num)\n",
    "    return False"
   ]
  },
  {
   "cell_type": "code",
   "execution_count": 3,
   "metadata": {
    "collapsed": false
   },
   "outputs": [
    {
     "name": "stdout",
     "output_type": "stream",
     "text": [
      "\u001b[1m======================================= test session starts ========================================\u001b[0m\n",
      "platform darwin -- Python 3.11.4, pytest-7.4.0, pluggy-1.0.0 -- /Users/lolonastri/opt/anaconda3/envs/POO-env/bin/python\n",
      "cachedir: .pytest_cache\n",
      "rootdir: /Users/lolonastri/Desktop/POO_UCEMA/algoritmia/ejercicios/clase1/02-duplicados\n",
      "\u001b[1mcollecting ... \u001b[0mcollected 3 items\n",
      "\n",
      "t_c455ab52bc8b4f62926cbcb361b97539.py::TestContainsDuplicate::test_contains_duplicate1 \u001b[32mPASSED\u001b[0m\u001b[32m [ 33%]\u001b[0m\n",
      "t_c455ab52bc8b4f62926cbcb361b97539.py::TestContainsDuplicate::test_contains_duplicate2 \u001b[32mPASSED\u001b[0m\u001b[32m [ 66%]\u001b[0m\n",
      "t_c455ab52bc8b4f62926cbcb361b97539.py::TestContainsDuplicate::test_contains_duplicate3 \u001b[32mPASSED\u001b[0m\u001b[32m [100%]\u001b[0m\n",
      "\n",
      "\u001b[32m======================================== \u001b[32m\u001b[1m3 passed\u001b[0m\u001b[32m in 0.01s\u001b[0m\u001b[32m =========================================\u001b[0m\n"
     ]
    },
    {
     "data": {
      "text/plain": [
       "<ExitCode.OK: 0>"
      ]
     },
     "execution_count": 3,
     "metadata": {},
     "output_type": "execute_result"
    }
   ],
   "source": [
    "import ipytest\n",
    "from test_dupli.test_dupli import TestContainsDuplicate\n",
    "TestContainsDuplicate.contains_duplicate = containsDuplicate\n",
    "ipytest.run(\"-vv\")"
   ]
  },
  {
   "cell_type": "code",
   "execution_count": 3,
   "metadata": {
    "ExecuteTime": {
     "end_time": "2023-07-05T20:06:32.679772Z",
     "start_time": "2023-07-05T20:06:32.661064Z"
    },
    "collapsed": false,
    "pycharm": {
     "name": "#%%\n"
    }
   },
   "outputs": [
    {
     "name": "stderr",
     "output_type": "stream",
     "text": [
      "ipytest.clean_tests is deprecated in favor of ipytest.clean\n"
     ]
    }
   ],
   "source": [
    "ipytest.clean_tests()"
   ]
  }
 ],
 "metadata": {
  "kernelspec": {
   "display_name": "Python 3",
   "language": "python",
   "name": "python3"
  },
  "language_info": {
   "codemirror_mode": {
    "name": "ipython",
    "version": 3
   },
   "file_extension": ".py",
   "mimetype": "text/x-python",
   "name": "python",
   "nbconvert_exporter": "python",
   "pygments_lexer": "ipython3",
   "version": "3.11.4"
  }
 },
 "nbformat": 4,
 "nbformat_minor": 0
}
