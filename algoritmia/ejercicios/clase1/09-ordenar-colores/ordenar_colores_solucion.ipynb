{
 "cells": [
  {
   "cell_type": "markdown",
   "metadata": {
    "collapsed": false,
    "pycharm": {
     "name": "#%% md\n"
    }
   },
   "source": [
    "# Ordenar colores\n",
    "\n",
    "Dada una matriz nums con n objetos de color rojo, blanco o azul, ordénelos en el mismo lugar para que los objetos del mismo color sean adyacentes, con los colores en el orden rojo, blanco y azul.\n",
    "\n",
    "Usaremos los números enteros 0, 1 y 2 para representar el color rojo, blanco y azul, respectivamente.\n",
    "\n",
    "Debe resolver este problema sin utilizar la función de clasificación de la biblioteca.\n",
    "\n",
    "\n",
    "\n",
    "## Ejemplo 1:\n",
    "\n",
    "Entrada: números = [2,0,2,1,1,0]\n",
    "Salida: [0,0,1,1,2,2]\n",
    "\n",
    "## Ejemplo 2:\n",
    "\n",
    "Entrada: números = [2,0,1]\n",
    "Salida: [0,1,2]\n"
   ]
  },
  {
   "cell_type": "code",
   "execution_count": 1,
   "metadata": {
    "ExecuteTime": {
     "end_time": "2023-08-02T22:28:12.809420900Z",
     "start_time": "2023-08-02T22:28:12.793689100Z"
    },
    "collapsed": false,
    "pycharm": {
     "name": "#%%\n"
    }
   },
   "outputs": [],
   "source": [
    "from typing import List\n",
    "\n",
    "def ordenar_colores(nums: List[int]) -> None:\n",
    "    low = 0\n",
    "    high = len(nums) - 1\n",
    "    mid = 0\n",
    "\n",
    "    while mid <= high:\n",
    "        if nums[mid] == 0:\n",
    "            nums[low], nums[mid] = nums[mid], nums[low]\n",
    "            low += 1\n",
    "            mid += 1\n",
    "        elif nums[mid] == 1:\n",
    "            mid +=1\n",
    "        else:\n",
    "            nums[mid], nums[high] = nums[high], nums[mid]\n",
    "            high -= 1\n",
    "    return nums\n",
    "\n"
   ]
  },
  {
   "cell_type": "code",
   "execution_count": 2,
   "metadata": {
    "ExecuteTime": {
     "end_time": "2023-08-02T22:28:12.954833700Z",
     "start_time": "2023-08-02T22:28:12.809420900Z"
    },
    "collapsed": false,
    "pycharm": {
     "name": "#%%\n"
    }
   },
   "outputs": [
    {
     "ename": "ModuleNotFoundError",
     "evalue": "No module named 'ordenar_colores'",
     "output_type": "error",
     "traceback": [
      "\u001b[0;31m---------------------------------------------------------------------------\u001b[0m",
      "\u001b[0;31mModuleNotFoundError\u001b[0m                       Traceback (most recent call last)",
      "Cell \u001b[0;32mIn[2], line 2\u001b[0m\n\u001b[1;32m      1\u001b[0m \u001b[39mimport\u001b[39;00m \u001b[39mipytest\u001b[39;00m\n\u001b[0;32m----> 2\u001b[0m \u001b[39mfrom\u001b[39;00m \u001b[39mordenar_colores\u001b[39;00m\u001b[39m.\u001b[39;00m\u001b[39mtest_ordenar_colores\u001b[39;00m \u001b[39mimport\u001b[39;00m TestOrdenarColores\n\u001b[1;32m      3\u001b[0m TestOrdenarColores\u001b[39m.\u001b[39mvalidar_ordenar_colores \u001b[39m=\u001b[39m ordenar_colores\n\u001b[1;32m      4\u001b[0m ipytest\u001b[39m.\u001b[39mrun(\u001b[39m\"\u001b[39m\u001b[39m-vv\u001b[39m\u001b[39m\"\u001b[39m)\n",
      "\u001b[0;31mModuleNotFoundError\u001b[0m: No module named 'ordenar_colores'"
     ]
    }
   ],
   "source": [
    "import ipytest\n",
    "from ordenar_colores.test_ordenar_colores import TestOrdenarColores\n",
    "TestOrdenarColores.validar_ordenar_colores = ordenar_colores\n",
    "ipytest.run(\"-vv\")"
   ]
  },
  {
   "cell_type": "code",
   "execution_count": null,
   "metadata": {
    "ExecuteTime": {
     "end_time": "2023-08-02T22:28:13.001761900Z",
     "start_time": "2023-08-02T22:28:12.954833700Z"
    },
    "collapsed": false,
    "pycharm": {
     "name": "#%%\n"
    }
   },
   "outputs": [],
   "source": []
  }
 ],
 "metadata": {
  "kernelspec": {
   "display_name": "Python 3",
   "language": "python",
   "name": "python3"
  },
  "language_info": {
   "codemirror_mode": {
    "name": "ipython",
    "version": 3
   },
   "file_extension": ".py",
   "mimetype": "text/x-python",
   "name": "python",
   "nbconvert_exporter": "python",
   "pygments_lexer": "ipython3",
   "version": "3.11.4"
  }
 },
 "nbformat": 4,
 "nbformat_minor": 0
}
