{
 "cells": [
  {
   "cell_type": "markdown",
   "metadata": {
    "collapsed": false
   },
   "source": [
    "# Calcular la media\n",
    "Dado un arreglo de números, la función calculate_mean debe devolver la media de esos números.\n",
    "\n",
    "Ejemplo 1:\n",
    "Entrada: arr = [1,2,3,4,5]\n",
    "Salida: 3.0\n",
    "\n",
    "Ejemplo 2:\n",
    "Entrada: arr = [1,2,3,4,10]\n",
    "Salida: 4.0\n",
    "\n",
    "Ejemplo 3:\n",
    "Entrada: arr = [-1,0,1]\n",
    "Salida: 0.0\n",
    "\n",
    "Restricciones:\n",
    "1 <= arr.length <= 105\n",
    "-109 <= arr[i] <= 109"
   ]
  },
  {
   "cell_type": "code",
   "execution_count": 1,
   "metadata": {
    "ExecuteTime": {
     "end_time": "2023-08-02T12:52:32.211797200Z",
     "start_time": "2023-08-02T12:52:32.201413300Z"
    },
    "collapsed": false
   },
   "outputs": [],
   "source": [
    "def calculate_mean(arr):\n",
    "    ''' calcula la media de una array sin usar librerias'''\n",
    "    return sum(arr)/len(arr)"
   ]
  },
  {
   "cell_type": "code",
   "execution_count": 2,
   "metadata": {
    "ExecuteTime": {
     "end_time": "2023-08-02T12:52:32.479024600Z",
     "start_time": "2023-08-02T12:52:32.214735500Z"
    },
    "collapsed": false
   },
   "outputs": [
    {
     "name": "stdout",
     "output_type": "stream",
     "text": [
      "\u001b[1m======================================= test session starts ========================================\u001b[0m\n",
      "platform darwin -- Python 3.11.4, pytest-7.4.0, pluggy-1.0.0 -- /Users/lolonastri/opt/anaconda3/envs/POO-env/bin/python\n",
      "cachedir: .pytest_cache\n",
      "rootdir: /Users/lolonastri/Desktop/POO_UCEMA/algoritmia/ejercicios/clase1/00-media\n",
      "\u001b[1mcollecting ... \u001b[0mcollected 3 items\n",
      "\n",
      "t_a73ebb7433754df3b09dc7e28a71229c.py::TestCalculateMean::test_calculo_101 \u001b[32mPASSED\u001b[0m\u001b[32m            [ 33%]\u001b[0m\n",
      "t_a73ebb7433754df3b09dc7e28a71229c.py::TestCalculateMean::test_calculo_123410 \u001b[32mPASSED\u001b[0m\u001b[32m         [ 66%]\u001b[0m\n",
      "t_a73ebb7433754df3b09dc7e28a71229c.py::TestCalculateMean::test_calculo_12345 \u001b[32mPASSED\u001b[0m\u001b[32m          [100%]\u001b[0m\n",
      "\n",
      "\u001b[32m======================================== \u001b[32m\u001b[1m3 passed\u001b[0m\u001b[32m in 0.01s\u001b[0m\u001b[32m =========================================\u001b[0m\n"
     ]
    },
    {
     "data": {
      "text/plain": [
       "<ExitCode.OK: 0>"
      ]
     },
     "execution_count": 2,
     "metadata": {},
     "output_type": "execute_result"
    }
   ],
   "source": [
    "\n",
    "import ipytest\n",
    "from test_mean.test_media import TestCalculateMean\n",
    "\n",
    "TestCalculateMean.calculate_mean = calculate_mean\n",
    "ipytest.run(\"-vv\")"
   ]
  }
 ],
 "metadata": {
  "kernelspec": {
   "display_name": "Python 3",
   "language": "python",
   "name": "python3"
  },
  "language_info": {
   "codemirror_mode": {
    "name": "ipython",
    "version": 3
   },
   "file_extension": ".py",
   "mimetype": "text/x-python",
   "name": "python",
   "nbconvert_exporter": "python",
   "pygments_lexer": "ipython3",
   "version": "3.11.4"
  }
 },
 "nbformat": 4,
 "nbformat_minor": 0
}
