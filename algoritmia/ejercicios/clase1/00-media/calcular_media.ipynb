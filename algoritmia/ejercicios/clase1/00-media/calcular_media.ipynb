{
 "cells": [
  {
   "cell_type": "code",
   "execution_count": 1,
   "metadata": {},
   "outputs": [
    {
     "name": "stdout",
     "output_type": "stream",
     "text": [
      "Requirement already satisfied: ipytest in /Users/lolonastri/opt/anaconda3/envs/POO-env/lib/python3.11/site-packages (0.13.3)\n",
      "Requirement already satisfied: ipython in /Users/lolonastri/opt/anaconda3/envs/POO-env/lib/python3.11/site-packages (from ipytest) (8.14.0)\n",
      "Requirement already satisfied: packaging in /Users/lolonastri/opt/anaconda3/envs/POO-env/lib/python3.11/site-packages (from ipytest) (23.0)\n",
      "Requirement already satisfied: pytest>=5.4 in /Users/lolonastri/opt/anaconda3/envs/POO-env/lib/python3.11/site-packages (from ipytest) (7.4.0)\n",
      "Requirement already satisfied: iniconfig in /Users/lolonastri/opt/anaconda3/envs/POO-env/lib/python3.11/site-packages (from pytest>=5.4->ipytest) (1.1.1)\n",
      "Requirement already satisfied: pluggy<2.0,>=0.12 in /Users/lolonastri/opt/anaconda3/envs/POO-env/lib/python3.11/site-packages (from pytest>=5.4->ipytest) (1.0.0)\n",
      "Requirement already satisfied: backcall in /Users/lolonastri/opt/anaconda3/envs/POO-env/lib/python3.11/site-packages (from ipython->ipytest) (0.2.0)\n",
      "Requirement already satisfied: decorator in /Users/lolonastri/opt/anaconda3/envs/POO-env/lib/python3.11/site-packages (from ipython->ipytest) (5.1.1)\n",
      "Requirement already satisfied: jedi>=0.16 in /Users/lolonastri/opt/anaconda3/envs/POO-env/lib/python3.11/site-packages (from ipython->ipytest) (0.19.0)\n",
      "Requirement already satisfied: matplotlib-inline in /Users/lolonastri/opt/anaconda3/envs/POO-env/lib/python3.11/site-packages (from ipython->ipytest) (0.1.6)\n",
      "Requirement already satisfied: pickleshare in /Users/lolonastri/opt/anaconda3/envs/POO-env/lib/python3.11/site-packages (from ipython->ipytest) (0.7.5)\n",
      "Requirement already satisfied: prompt-toolkit!=3.0.37,<3.1.0,>=3.0.30 in /Users/lolonastri/opt/anaconda3/envs/POO-env/lib/python3.11/site-packages (from ipython->ipytest) (3.0.39)\n",
      "Requirement already satisfied: pygments>=2.4.0 in /Users/lolonastri/opt/anaconda3/envs/POO-env/lib/python3.11/site-packages (from ipython->ipytest) (2.16.1)\n",
      "Requirement already satisfied: stack-data in /Users/lolonastri/opt/anaconda3/envs/POO-env/lib/python3.11/site-packages (from ipython->ipytest) (0.6.2)\n",
      "Requirement already satisfied: traitlets>=5 in /Users/lolonastri/opt/anaconda3/envs/POO-env/lib/python3.11/site-packages (from ipython->ipytest) (5.9.0)\n",
      "Requirement already satisfied: pexpect>4.3 in /Users/lolonastri/opt/anaconda3/envs/POO-env/lib/python3.11/site-packages (from ipython->ipytest) (4.8.0)\n",
      "Requirement already satisfied: appnope in /Users/lolonastri/opt/anaconda3/envs/POO-env/lib/python3.11/site-packages (from ipython->ipytest) (0.1.3)\n",
      "Requirement already satisfied: parso<0.9.0,>=0.8.3 in /Users/lolonastri/opt/anaconda3/envs/POO-env/lib/python3.11/site-packages (from jedi>=0.16->ipython->ipytest) (0.8.3)\n",
      "Requirement already satisfied: ptyprocess>=0.5 in /Users/lolonastri/opt/anaconda3/envs/POO-env/lib/python3.11/site-packages (from pexpect>4.3->ipython->ipytest) (0.7.0)\n",
      "Requirement already satisfied: wcwidth in /Users/lolonastri/opt/anaconda3/envs/POO-env/lib/python3.11/site-packages (from prompt-toolkit!=3.0.37,<3.1.0,>=3.0.30->ipython->ipytest) (0.2.6)\n",
      "Requirement already satisfied: executing>=1.2.0 in /Users/lolonastri/opt/anaconda3/envs/POO-env/lib/python3.11/site-packages (from stack-data->ipython->ipytest) (1.2.0)\n",
      "Requirement already satisfied: asttokens>=2.1.0 in /Users/lolonastri/opt/anaconda3/envs/POO-env/lib/python3.11/site-packages (from stack-data->ipython->ipytest) (2.2.1)\n",
      "Requirement already satisfied: pure-eval in /Users/lolonastri/opt/anaconda3/envs/POO-env/lib/python3.11/site-packages (from stack-data->ipython->ipytest) (0.2.2)\n",
      "Requirement already satisfied: six in /Users/lolonastri/opt/anaconda3/envs/POO-env/lib/python3.11/site-packages (from asttokens>=2.1.0->stack-data->ipython->ipytest) (1.16.0)\n"
     ]
    }
   ],
   "source": [
    "!pip install ipytest"
   ]
  },
  {
   "cell_type": "markdown",
   "metadata": {
    "collapsed": false
   },
   "source": [
    "# Calcular la media\n",
    "Dado un arreglo de números, la función calculate_mean debe devolver la media de esos números.\n",
    "\n",
    "Ejemplo 1:\n",
    "Entrada: arr = [1,2,3,4,5]\n",
    "Salida: 3.0\n",
    "\n",
    "Ejemplo 2:\n",
    "Entrada: arr = [1,2,3,4,10]\n",
    "Salida: 4.0\n",
    "\n",
    "Ejemplo 3:\n",
    "Entrada: arr = [-1,0,1]\n",
    "Salida: 0.0\n",
    "\n",
    "Restricciones:\n",
    "1 <= arr.length <= 105\n",
    "-109 <= arr[i] <= 109"
   ]
  },
  {
   "cell_type": "code",
   "execution_count": 2,
   "metadata": {
    "ExecuteTime": {
     "end_time": "2023-08-02T12:52:32.211797200Z",
     "start_time": "2023-08-02T12:52:32.201413300Z"
    },
    "collapsed": false
   },
   "outputs": [],
   "source": [
    "def calculate_mean(numero):\n",
    "    suma_total = sum(numero)\n",
    "    mean = suma_total / len(numero)\n",
    "    return mean\n",
    "\n",
    "def calculate_mean(arr):\n",
    "    return sum(arr) / len(arr)\n",
    "\n",
    "    # 1) Dada una lista, lo primero que hago es crear una variable que se llame suma_total en donde sumamos los numeros.\n",
    "    # 2) Obtenemos la cantidad de 'n' con un len().\n",
    "    # 3) Creamos una variable que la podemos llamar 'mean' y hacemos suma_total / len()\n",
    "    # 4) Retornamos la variable.\n",
    "    pass"
   ]
  },
  {
   "cell_type": "code",
   "execution_count": 3,
   "metadata": {
    "ExecuteTime": {
     "end_time": "2023-08-02T12:52:32.479024600Z",
     "start_time": "2023-08-02T12:52:32.214735500Z"
    },
    "collapsed": false
   },
   "outputs": [
    {
     "name": "stdout",
     "output_type": "stream",
     "text": [
      "\u001b[1m======================================= test session starts ========================================\u001b[0m\n",
      "platform darwin -- Python 3.11.4, pytest-7.4.0, pluggy-1.0.0 -- /Users/lolonastri/opt/anaconda3/envs/POO-env/bin/python\n",
      "cachedir: .pytest_cache\n",
      "rootdir: /Users/lolonastri/Desktop/POO_UCEMA/algoritmia/ejercicios/clase1/00-media\n",
      "\u001b[1mcollecting ... \u001b[0mcollected 3 items\n",
      "\n",
      "t_3d17e356420142898a00ee8642957b55.py::TestCalculateMean::test_calculo_101 \u001b[32mPASSED\u001b[0m\u001b[32m            [ 33%]\u001b[0m\n",
      "t_3d17e356420142898a00ee8642957b55.py::TestCalculateMean::test_calculo_123410 \u001b[32mPASSED\u001b[0m\u001b[32m         [ 66%]\u001b[0m\n",
      "t_3d17e356420142898a00ee8642957b55.py::TestCalculateMean::test_calculo_12345 \u001b[32mPASSED\u001b[0m\u001b[32m          [100%]\u001b[0m\n",
      "\n",
      "\u001b[32m======================================== \u001b[32m\u001b[1m3 passed\u001b[0m\u001b[32m in 0.01s\u001b[0m\u001b[32m =========================================\u001b[0m\n"
     ]
    },
    {
     "data": {
      "text/plain": [
       "<ExitCode.OK: 0>"
      ]
     },
     "execution_count": 3,
     "metadata": {},
     "output_type": "execute_result"
    }
   ],
   "source": [
    "\n",
    "import ipytest\n",
    "from test_mean.test_media import TestCalculateMean\n",
    "\n",
    "TestCalculateMean.calculate_mean = calculate_mean\n",
    "ipytest.run(\"-vv\")"
   ]
  }
 ],
 "metadata": {
  "kernelspec": {
   "display_name": "Python 3",
   "language": "python",
   "name": "python3"
  },
  "language_info": {
   "codemirror_mode": {
    "name": "ipython",
    "version": 3
   },
   "file_extension": ".py",
   "mimetype": "text/x-python",
   "name": "python",
   "nbconvert_exporter": "python",
   "pygments_lexer": "ipython3",
   "version": "3.11.4"
  }
 },
 "nbformat": 4,
 "nbformat_minor": 0
}
