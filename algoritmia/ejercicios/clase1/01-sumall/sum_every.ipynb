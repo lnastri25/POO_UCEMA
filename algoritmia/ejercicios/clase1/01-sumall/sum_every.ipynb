{
 "cells": [
  {
   "cell_type": "markdown",
   "id": "facf4302fd857902",
   "metadata": {
    "collapsed": false
   },
   "source": [
    "# Sumar todos los argumentos\n",
    "Dado\n",
    "un\n",
    "número\n",
    "variable\n",
    "de\n",
    "argumentos, la\n",
    "función\n",
    "`sum_every`\n",
    "debe\n",
    "devolver\n",
    "la\n",
    "suma\n",
    "de\n",
    "todos\n",
    "esos\n",
    "números.\n",
    "\n",
    "Ejemplo\n",
    "1:\n",
    "Entrada: args = (1, 2, 3)\n",
    "Salida: 6\n",
    "\n",
    "Ejemplo\n",
    "2:\n",
    "Entrada: args = (5, -5, 10)\n",
    "Salida: 10\n",
    "\n",
    "Ejemplo\n",
    "3:\n",
    "Entrada: args = (-3, -3, -3)\n",
    "Salida: -9\n",
    "\n",
    "Restricciones:\n",
    "-1000 <= args[i] <= 1000\n"
   ]
  },
  {
   "cell_type": "code",
   "execution_count": 2,
   "id": "initial_id",
   "metadata": {
    "ExecuteTime": {
     "end_time": "2023-08-02T12:52:50.287538700Z",
     "start_time": "2023-08-02T12:52:50.267302700Z"
    },
    "collapsed": true
   },
   "outputs": [],
   "source": [
    "def sum_every(*numeros):\n",
    "    suma_total = 0\n",
    "    for numero in numeros:\n",
    "      suma_total += numero\n",
    "    return suma_total"
   ]
  },
  {
   "cell_type": "code",
   "execution_count": 3,
   "id": "89a5e73b3316b7e2",
   "metadata": {
    "ExecuteTime": {
     "end_time": "2023-08-02T12:52:50.537344200Z",
     "start_time": "2023-08-02T12:52:50.288544600Z"
    },
    "collapsed": false
   },
   "outputs": [
    {
     "name": "stdout",
     "output_type": "stream",
     "text": [
      "\u001b[1m======================================= test session starts ========================================\u001b[0m\n",
      "platform darwin -- Python 3.11.4, pytest-7.4.0, pluggy-1.0.0 -- /Users/lolonastri/opt/anaconda3/envs/POO-env/bin/python\n",
      "cachedir: .pytest_cache\n",
      "rootdir: /Users/lolonastri/Desktop/POO_UCEMA/algoritmia/ejercicios/clase1/01-sumall\n",
      "\u001b[1mcollecting ... \u001b[0mcollected 5 items\n",
      "\n",
      "t_80eb6b77ae7649cf86e568b7b5b920be.py::TestSumEvery::test_sum_empty \u001b[32mPASSED\u001b[0m\u001b[32m                   [ 20%]\u001b[0m\n",
      "t_80eb6b77ae7649cf86e568b7b5b920be.py::TestSumEvery::test_sum_multiple_values \u001b[32mPASSED\u001b[0m\u001b[32m         [ 40%]\u001b[0m\n",
      "t_80eb6b77ae7649cf86e568b7b5b920be.py::TestSumEvery::test_sum_negative_values \u001b[32mPASSED\u001b[0m\u001b[32m         [ 60%]\u001b[0m\n",
      "t_80eb6b77ae7649cf86e568b7b5b920be.py::TestSumEvery::test_sum_single_value \u001b[32mPASSED\u001b[0m\u001b[32m            [ 80%]\u001b[0m\n",
      "t_80eb6b77ae7649cf86e568b7b5b920be.py::TestSumEvery::test_sum_two_values \u001b[32mPASSED\u001b[0m\u001b[32m              [100%]\u001b[0m\n",
      "\n",
      "\u001b[32m======================================== \u001b[32m\u001b[1m5 passed\u001b[0m\u001b[32m in 0.01s\u001b[0m\u001b[32m =========================================\u001b[0m\n"
     ]
    }
   ],
   "source": [
    "import ipytest\n",
    "\n",
    "from test_sum_every.test_every import TestSumEvery\n",
    "\n",
    "TestSumEvery.sum_every = sum_every\n",
    "ipytest.run(\"-vv\")\n",
    "import ipytest\n"
   ]
  },
  {
   "cell_type": "code",
   "execution_count": 3,
   "id": "1e798436d0957ade",
   "metadata": {
    "ExecuteTime": {
     "end_time": "2023-08-02T12:52:50.553390500Z",
     "start_time": "2023-08-02T12:52:50.537344200Z"
    },
    "collapsed": false
   },
   "outputs": [],
   "source": [
    "#!pip install ipytest"
   ]
  }
 ],
 "metadata": {
  "kernelspec": {
   "display_name": "Python 3",
   "language": "python",
   "name": "python3"
  },
  "language_info": {
   "codemirror_mode": {
    "name": "ipython",
    "version": 3
   },
   "file_extension": ".py",
   "mimetype": "text/x-python",
   "name": "python",
   "nbconvert_exporter": "python",
   "pygments_lexer": "ipython3",
   "version": "3.11.4"
  }
 },
 "nbformat": 4,
 "nbformat_minor": 5
}
