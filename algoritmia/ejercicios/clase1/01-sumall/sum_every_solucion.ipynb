{
 "cells": [
  {
   "cell_type": "markdown",
   "source": [
    "# Sumar todos los argumentos\n",
    "Dado\n",
    "un\n",
    "número\n",
    "variable\n",
    "de\n",
    "argumentos, la\n",
    "función\n",
    "`sum_every`\n",
    "debe\n",
    "devolver\n",
    "la\n",
    "suma\n",
    "de\n",
    "todos\n",
    "esos\n",
    "números.\n",
    "\n",
    "Ejemplo\n",
    "1:\n",
    "Entrada: args = (1, 2, 3)\n",
    "Salida: 6\n",
    "\n",
    "Ejemplo\n",
    "2:\n",
    "Entrada: args = (5, -5, 10)\n",
    "Salida: 10\n",
    "\n",
    "Ejemplo\n",
    "3:\n",
    "Entrada: args = (-3, -3, -3)\n",
    "Salida: -9\n",
    "\n",
    "Restricciones:\n",
    "-1000 <= args[i] <= 1000\n"
   ],
   "metadata": {
    "collapsed": false
   },
   "id": "facf4302fd857902"
  },
  {
   "cell_type": "code",
   "execution_count": 1,
   "id": "initial_id",
   "metadata": {
    "collapsed": true,
    "ExecuteTime": {
     "end_time": "2023-08-02T12:52:50.287538700Z",
     "start_time": "2023-08-02T12:52:50.267302700Z"
    }
   },
   "outputs": [],
   "source": [
    "def sum_every(*args):\n",
    "    total = 0\n",
    "    for one_number in args:\n",
    "        total += one_number\n",
    "    return total\n"
   ]
  },
  {
   "cell_type": "code",
   "execution_count": 2,
   "outputs": [
    {
     "name": "stdout",
     "output_type": "stream",
     "text": [
      "\u001B[1m======================================= test session starts =======================================\u001B[0m\n",
      "platform win32 -- Python 3.9.13, pytest-7.4.0, pluggy-1.2.0 -- C:\\Users\\Admin\\PycharmProjects\\UCEMA_2023\\venv\\Scripts\\python.exe\n",
      "cachedir: .pytest_cache\n",
      "rootdir: C:\\Users\\Admin\\PycharmProjects\\UCEMA_2023\\part-1\\clase1\\01-sumall\n",
      "plugins: anyio-3.7.1\n",
      "\u001B[1mcollecting ... \u001B[0mcollected 5 items\n",
      "\n",
      "t_65ac2ba5f9b04fdf95ecf7a77712739e.py::TestSumEvery::test_sum_empty \u001B[32mPASSED\u001B[0m\u001B[32m                   [ 20%]\u001B[0m\n",
      "t_65ac2ba5f9b04fdf95ecf7a77712739e.py::TestSumEvery::test_sum_multiple_values \u001B[32mPASSED\u001B[0m\u001B[32m         [ 40%]\u001B[0m\n",
      "t_65ac2ba5f9b04fdf95ecf7a77712739e.py::TestSumEvery::test_sum_negative_values \u001B[32mPASSED\u001B[0m\u001B[32m         [ 60%]\u001B[0m\n",
      "t_65ac2ba5f9b04fdf95ecf7a77712739e.py::TestSumEvery::test_sum_single_value \u001B[32mPASSED\u001B[0m\u001B[32m            [ 80%]\u001B[0m\n",
      "t_65ac2ba5f9b04fdf95ecf7a77712739e.py::TestSumEvery::test_sum_two_values \u001B[32mPASSED\u001B[0m\u001B[32m              [100%]\u001B[0m\n",
      "\n",
      "\u001B[32m======================================== \u001B[32m\u001B[1m5 passed\u001B[0m\u001B[32m in 0.07s\u001B[0m\u001B[32m ========================================\u001B[0m\n"
     ]
    }
   ],
   "source": [
    "import ipytest\n",
    "\n",
    "from test_sum_every.test_every import TestSumEvery\n",
    "\n",
    "TestSumEvery.sum_every = sum_every\n",
    "ipytest.run(\"-vv\")\n",
    "import ipytest\n"
   ],
   "metadata": {
    "collapsed": false,
    "ExecuteTime": {
     "end_time": "2023-08-02T12:52:50.537344200Z",
     "start_time": "2023-08-02T12:52:50.288544600Z"
    }
   },
   "id": "89a5e73b3316b7e2"
  },
  {
   "cell_type": "code",
   "execution_count": 3,
   "outputs": [],
   "source": [
    "#!pip install ipytest"
   ],
   "metadata": {
    "collapsed": false,
    "ExecuteTime": {
     "end_time": "2023-08-02T12:52:50.553390500Z",
     "start_time": "2023-08-02T12:52:50.537344200Z"
    }
   },
   "id": "1e798436d0957ade"
  },
  {
   "cell_type": "code",
   "execution_count": 3,
   "outputs": [],
   "source": [],
   "metadata": {
    "collapsed": false,
    "ExecuteTime": {
     "end_time": "2023-08-02T12:52:50.570173Z",
     "start_time": "2023-08-02T12:52:50.553390500Z"
    }
   },
   "id": "2a7c79dbc50b9bd5"
  }
 ],
 "metadata": {
  "kernelspec": {
   "display_name": "Python 3",
   "language": "python",
   "name": "python3"
  },
  "language_info": {
   "codemirror_mode": {
    "name": "ipython",
    "version": 2
   },
   "file_extension": ".py",
   "mimetype": "text/x-python",
   "name": "python",
   "nbconvert_exporter": "python",
   "pygments_lexer": "ipython2",
   "version": "2.7.6"
  }
 },
 "nbformat": 4,
 "nbformat_minor": 5
}
