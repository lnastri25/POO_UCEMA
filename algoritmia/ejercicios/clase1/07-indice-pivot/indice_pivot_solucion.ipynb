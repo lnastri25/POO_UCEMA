{
 "cells": [
  {
   "cell_type": "markdown",
   "metadata": {
    "collapsed": false,
    "pycharm": {
     "name": "#%% md\n"
    }
   },
   "source": [
    "# Buscar índice de pivote\n",
    "\n",
    "Dada una matriz de números enteros, calcule el índice pivote de esta matriz.\n",
    "\n",
    "El índice pivote es el índice donde la suma de todos los números estrictamente a la izquierda del índice es igual a la suma de todos los números estrictamente a la derecha del índice.\n",
    "\n",
    "Si el índice está en el borde izquierdo de la matriz, entonces la suma de la izquierda es 0 porque no hay elementos a la izquierda. Esto también se aplica al borde derecho de la matriz.\n",
    "\n",
    "Devuelve el índice pivote más a la izquierda. Si no existe tal índice, devuelve -1.\n",
    "\n",
    "\n",
    "\n",
    "Ejemplo 1:\n",
    "\n",
    "Entrada: números = [1,7,3,6,5,6]\n",
    "Salida: 3\n",
    "Explicación:\n",
    "El índice de pivote es 3.\n",
    "Suma izquierda = nums[0] + nums[1] + nums[2] = 1 + 7 + 3 = 11\n",
    "Suma derecha = nums[4] + nums[5] = 5 + 6 = 11\n",
    "Ejemplo 2:\n",
    "\n",
    "Entrada: números = [1,2,3]\n",
    "Salida: -1\n",
    "Explicación:\n",
    "No existe un índice que satisfaga las condiciones del enunciado del problema.\n",
    "Ejemplo 3:\n",
    "\n",
    "Entrada: números = [2,1,-1]\n",
    "Salida: 0\n",
    "Explicación:\n",
    "El índice de pivote es 0.\n",
    "Suma izquierda = 0 (sin elementos a la izquierda del índice 0)\n",
    "Suma derecha = nums[1] + nums[2] = 1 + -1 = 0\n"
   ]
  },
  {
   "cell_type": "code",
   "execution_count": 1,
   "metadata": {
    "ExecuteTime": {
     "end_time": "2023-08-02T22:28:12.809420900Z",
     "start_time": "2023-08-02T22:28:12.793689100Z"
    },
    "collapsed": false,
    "pycharm": {
     "name": "#%%\n"
    }
   },
   "outputs": [],
   "source": [
    "from typing import List\n",
    "\n",
    "def pivotIndex(nums: List[int]) -> int:\n",
    "    total = sum(nums)  # O(n)\n",
    "\n",
    "    leftSum = 0\n",
    "    for i in range(len(nums)):\n",
    "        rightSum = total - nums[i] - leftSum\n",
    "        if leftSum == rightSum:\n",
    "            return i\n",
    "        leftSum += nums[i]\n",
    "    return -1"
   ]
  },
  {
   "cell_type": "code",
   "execution_count": 2,
   "metadata": {
    "ExecuteTime": {
     "end_time": "2023-08-02T22:28:12.954833700Z",
     "start_time": "2023-08-02T22:28:12.809420900Z"
    },
    "collapsed": false,
    "pycharm": {
     "name": "#%%\n"
    }
   },
   "outputs": [
    {
     "name": "stdout",
     "output_type": "stream",
     "text": [
      "\u001b[1m======================================= test session starts =======================================\u001b[0m\n",
      "platform win32 -- Python 3.9.13, pytest-7.4.0, pluggy-1.2.0 -- C:\\Users\\Admin\\PycharmProjects\\UCEMA_2023\\venv\\Scripts\\python.exe\n",
      "cachedir: .pytest_cache\n",
      "rootdir: C:\\Users\\Admin\\PycharmProjects\\UCEMA_2023\\part-1\\clase1\\07 - Indice Pivot\n",
      "plugins: anyio-3.7.1\n",
      "\u001b[1mcollecting ... \u001b[0mcollected 3 items\n",
      "\n",
      "t_dc5d845687ba4e9f92ca63e7da52d07d.py::TestPivotIndex::test_pivot_index1 \u001b[32mPASSED\u001b[0m\u001b[32m              [ 33%]\u001b[0m\n",
      "t_dc5d845687ba4e9f92ca63e7da52d07d.py::TestPivotIndex::test_pivot_index2 \u001b[32mPASSED\u001b[0m\u001b[32m              [ 66%]\u001b[0m\n",
      "t_dc5d845687ba4e9f92ca63e7da52d07d.py::TestPivotIndex::test_pivot_index3 \u001b[32mPASSED\u001b[0m\u001b[32m              [100%]\u001b[0m\n",
      "\n",
      "\u001b[32m======================================== \u001b[32m\u001b[1m3 passed\u001b[0m\u001b[32m in 0.02s\u001b[0m\u001b[32m ========================================\u001b[0m\n"
     ]
    },
    {
     "data": {
      "text/plain": [
       "<ExitCode.OK: 0>"
      ]
     },
     "execution_count": 2,
     "metadata": {},
     "output_type": "execute_result"
    }
   ],
   "source": [
    "import ipytest\n",
    "from test_indice_pivot.test_indice_pivot import TestPivotIndex\n",
    "TestPivotIndex.validar_indice = pivotIndex\n",
    "ipytest.run(\"-vv\")"
   ]
  }
 ],
 "metadata": {
  "kernelspec": {
   "display_name": "Python 3",
   "language": "python",
   "name": "python3"
  },
  "language_info": {
   "codemirror_mode": {
    "name": "ipython",
    "version": 2
   },
   "file_extension": ".py",
   "mimetype": "text/x-python",
   "name": "python",
   "nbconvert_exporter": "python",
   "pygments_lexer": "ipython2",
   "version": "2.7.6"
  }
 },
 "nbformat": 4,
 "nbformat_minor": 0
}
