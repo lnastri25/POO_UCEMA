{
 "cells": [
  {
   "cell_type": "markdown",
   "metadata": {
    "collapsed": false,
    "pycharm": {
     "name": "#%% md\n"
    }
   },
   "source": [
    "# Subsecuencias palindrómicas de longitud única-3\n",
    "\n",
    "Dada una cadena s, devuelve el número de palíndromos únicos de longitud tres que son una subsecuencia de s.\n",
    "\n",
    "Tenga en cuenta que incluso si hay varias formas de obtener la misma subsecuencia, solo se cuenta una vez.\n",
    "\n",
    "Un palíndromo es una cadena que se lee igual hacia adelante y hacia atrás.\n",
    "\n",
    "Una subsecuencia de una cadena es una nueva cadena generada a partir de la cadena original con algunos caracteres (puede no ser ninguno) eliminados sin cambiar el orden relativo de los caracteres restantes.\n",
    "\n",
    "Por ejemplo, \"ace\" es una subsecuencia de \"abcde\".\n",
    "\n",
    "## Ejemplo 1:\n",
    "\n",
    "Entrada: s = \"aabca\"\n",
    "Salida: 3\n",
    "Explicación: Las 3 subsecuencias palindrómicas de longitud 3 son:\n",
    "- \"aba\" (secuencia de \"aabca\")\n",
    "- \"aaa\" (secuencia de \"aabca\")\n",
    "- \"aca\" (secuencia de \"aabca\")\n",
    "\n",
    "## Ejemplo 2:\n",
    "\n",
    "Entrada: s = \"adc\"\n",
    "Salida: 0\n",
    "Explicación: No hay subsecuencias palindrómicas de longitud 3 en \"adc\".\n",
    "\n",
    "## Ejemplo 3:\n",
    "\n",
    "Entrada: s = \"bbcbaba\"\n",
    "Salida: 4\n",
    "Explicación: Las 4 subsecuencias palindrómicas de longitud 3 son:\n",
    "- \"bbb\" (secuencia de \"bbcbaba\")\n",
    "- \"bcb\" (secuencia de \"bbcbaba\")\n",
    "- \"bab\" (secuencia de \"bbcbaba\")\n",
    "- \"aba\" (secuencia de \"bbcbaba\")\n",
    "\n",
    "\n",
    "## Restricciones:\n",
    "\n",
    "3 <= s.longitud <= 105\n",
    "s consta solo de letras minúsculas\n"
   ]
  },
  {
   "cell_type": "code",
   "execution_count": 1,
   "metadata": {
    "ExecuteTime": {
     "end_time": "2023-08-02T22:28:12.809420900Z",
     "start_time": "2023-08-02T22:28:12.793689100Z"
    },
    "collapsed": false,
    "pycharm": {
     "name": "#%%\n"
    }
   },
   "outputs": [],
   "source": [
    "\n",
    "def palindromo_string(s: str) -> int:\n",
    "    count = 0\n",
    "    chars = set(s)\n",
    "    for char in chars:\n",
    "        first,last = s.find(char),s.rfind(char)\n",
    "        count += len(set(s[first+1:last]))\n",
    "    return count\n"
   ]
  },
  {
   "cell_type": "code",
   "execution_count": 2,
   "metadata": {
    "ExecuteTime": {
     "end_time": "2023-08-02T22:28:12.954833700Z",
     "start_time": "2023-08-02T22:28:12.809420900Z"
    },
    "collapsed": false,
    "pycharm": {
     "name": "#%%\n"
    }
   },
   "outputs": [
    {
     "ename": "ModuleNotFoundError",
     "evalue": "No module named 'test_palindromo'",
     "output_type": "error",
     "traceback": [
      "\u001b[0;31m---------------------------------------------------------------------------\u001b[0m",
      "\u001b[0;31mModuleNotFoundError\u001b[0m                       Traceback (most recent call last)",
      "Cell \u001b[0;32mIn[2], line 2\u001b[0m\n\u001b[1;32m      1\u001b[0m \u001b[39mimport\u001b[39;00m \u001b[39mipytest\u001b[39;00m\n\u001b[0;32m----> 2\u001b[0m \u001b[39mfrom\u001b[39;00m \u001b[39mtest_palindromo\u001b[39;00m\u001b[39m.\u001b[39;00m\u001b[39mtest_palindromo\u001b[39;00m \u001b[39mimport\u001b[39;00m TestPalindromoString\n\u001b[1;32m      3\u001b[0m TestPalindromoString\u001b[39m.\u001b[39mvalidar_palindromo_string \u001b[39m=\u001b[39m palindromo_string\n\u001b[1;32m      4\u001b[0m ipytest\u001b[39m.\u001b[39mrun(\u001b[39m\"\u001b[39m\u001b[39m-vv\u001b[39m\u001b[39m\"\u001b[39m)\n",
      "\u001b[0;31mModuleNotFoundError\u001b[0m: No module named 'test_palindromo'"
     ]
    }
   ],
   "source": [
    "import ipytest\n",
    "from test_palindromo.test_palindromo import TestPalindromoString\n",
    "TestPalindromoString.validar_palindromo_string = palindromo_string\n",
    "ipytest.run(\"-vv\")"
   ]
  },
  {
   "cell_type": "code",
   "execution_count": 2,
   "metadata": {
    "ExecuteTime": {
     "end_time": "2023-08-02T22:28:13.001761900Z",
     "start_time": "2023-08-02T22:28:12.954833700Z"
    },
    "collapsed": false,
    "pycharm": {
     "name": "#%%\n"
    }
   },
   "outputs": [],
   "source": []
  }
 ],
 "metadata": {
  "kernelspec": {
   "display_name": "Python 3",
   "language": "python",
   "name": "python3"
  },
  "language_info": {
   "codemirror_mode": {
    "name": "ipython",
    "version": 3
   },
   "file_extension": ".py",
   "mimetype": "text/x-python",
   "name": "python",
   "nbconvert_exporter": "python",
   "pygments_lexer": "ipython3",
   "version": "3.11.4"
  }
 },
 "nbformat": 4,
 "nbformat_minor": 0
}
