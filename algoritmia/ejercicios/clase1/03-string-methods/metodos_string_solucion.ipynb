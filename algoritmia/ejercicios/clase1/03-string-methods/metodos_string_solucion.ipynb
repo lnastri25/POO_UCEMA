{
 "cells": [
  {
   "cell_type": "markdown",
   "id": "be4398bdaab037ac",
   "metadata": {
    "collapsed": false
   },
   "source": [
    "# Métodos con Strings\n",
    "\n",
    "En este ejercicio, exploraremos varias operaciones comunes que se pueden realizar con strings en Python. Las funciones que vamos a utilizar son:\n",
    "\n",
    "1. **es_una_pregunta(a_string)**: Retorna `True` si el string termina con un signo de interrogación.\n",
    "2. **pertenece_a(a_string, a_word)**: Retorna `True` si `a_word` está en `a_string`.\n",
    "3. **agregar_coma(a_string)**: Retorna una copia del string con una coma en lugar de un espacio.\n",
    "4. **cuenta_repetido(a_string, a_substring)**: Retorna cuántas veces `a_substring` ocurre en `a_string`.\n",
    "5. **eliminar_espacios_exteriores(a_string)**: Retorna una copia del string sin espacios en los extremos.\n",
    "6. **reemplazar_una_letra(initial_string, old_letter, new_letter)**: Retorna una copia del string con la letra `old_letter` reemplazada por `new_letter`.\n",
    "7. **f_string_nombreyapellido(nombre, apellido, edad)**: Retorna una frase con el nombre y apellido en mayúsculas y la edad.\n",
    "\n",
    "Cada una de estas funciones realiza una operación única en un string, lo que permite practicar diferentes técnicas de manipulación de strings.\n",
    "\n",
    "## Ejemplos\n",
    "\n",
    "### es_una_pregunta\n",
    "- Entrada: `\"¿Cómo estás?\"`\n",
    "- Salida: `True`\n",
    "\n",
    "### pertenece_a\n",
    "- Entrada: `\"Hola Mundo\", \"Mundo\"`\n",
    "- Salida: `True`\n",
    "\n",
    "## Restricciones\n",
    "- Todos los strings tienen una longitud máxima de 1000.\n",
    "- `a_substring`, `a_word`, `old_letter`, `new_letter` tienen una longitud de 1.\n",
    "- `edad` es un entero en el rango [0, 150].\n",
    "\n",
    "## Pruebas\n",
    "Las pruebas unitarias se han implementado para cada función, asegurando que cumplan con los requisitos especificados.\n"
   ]
  },
  {
   "cell_type": "code",
   "execution_count": 1,
   "id": "initial_id",
   "metadata": {
    "ExecuteTime": {
     "end_time": "2023-08-02T22:20:03.241375700Z",
     "start_time": "2023-08-02T22:20:03.230868Z"
    },
    "collapsed": true
   },
   "outputs": [],
   "source": [
    "# pylint: disable=missing-docstring\n",
    "\n",
    "def es_una_pregunta(a_string):\n",
    "    \"\"\"\n",
    "    returns True if a_string termina con \"?\"\n",
    "    example: is_a_question(\"Cómo andas?\") => True\n",
    "    \"\"\"\n",
    "    \n",
    "    return a_string.endswith('?')\n",
    "    \n",
    "\n",
    "def pertence_a(a_string, a_word):\n",
    "    \"\"\"\n",
    "    retorna True si a_word esta en a_string\n",
    "    ejemplo: (\"hey jude\", \"jude\") => True\n",
    "    \"\"\"\n",
    "    \n",
    "    return a_word in a_string\n",
    "    \n",
    "\n",
    "def agregar_coma(a_string):\n",
    "    \"\"\"\n",
    "    retorna una copia del string con una coma al final\n",
    "    \"\"\"\n",
    "    \n",
    "    return ', '.join(a_string.split()) # or a_string.replace(' ', ', ')\n",
    "    \n",
    "\n",
    "\n",
    "def cuenta_repetido(a_string, a_substring):\n",
    "    \"\"\"\n",
    "    returns cuantas veces a_substring ocurre en a_string\n",
    "    ejemplo: cuenta_repetido(\"000123000123\", \"0\") => 6\n",
    "    \"\"\"\n",
    "\n",
    "    return a_string.count(a_substring)\n",
    "    \n",
    "\n",
    "\n",
    "\n",
    "def eliminar_espacios_exteriores(a_string):\n",
    "    \"\"\"\n",
    "    retorna una copia del string sin espacios exteriores\n",
    "    ejemplo: eliminar_espacios_exteriores(\"  hey yo  \") => \"hey yo\"\n",
    "    \"\"\"\n",
    "    \n",
    "    return a_string.strip()\n",
    "    \n",
    "\n",
    "def reemplazar_una_letra(initial_string, old_letter, new_letter):\n",
    "    \"\"\"\n",
    "    retorna una copia del string con la letra old_letter reemplazada por new_letter\n",
    "    ejemplo: replace(\"argentina\", \"a\", \"o\") => \"argentino\"\n",
    "    \"\"\"\n",
    "    \n",
    "    return initial_string.replace(old_letter, new_letter)\n",
    "    \n",
    "\n",
    "\n",
    "def f_string_nombreyapellido(nombre, apellido, edad):\n",
    "    \"\"\"\n",
    "    retorna una frase con el nombre y apellido mayúsuclas y la edad\n",
    "    ejemplo: f_string_nombreyapellido(\"fede\", \"moreno\", 33) => \"Fede Moreno tiene 33\"\n",
    "    \"\"\"\n",
    "    return f\"{nombre.capitalize()} {apellido.capitalize()} tiene {edad}\"\n",
    "    \n",
    "\n"
   ]
  },
  {
   "cell_type": "code",
   "execution_count": 2,
   "id": "e76c41b916bd9c44",
   "metadata": {
    "ExecuteTime": {
     "end_time": "2023-08-02T22:20:03.431127800Z",
     "start_time": "2023-08-02T22:20:03.241375700Z"
    },
    "collapsed": false
   },
   "outputs": [
    {
     "name": "stdout",
     "output_type": "stream",
     "text": [
      "\u001b[1m======================================= test session starts =======================================\u001b[0m\n",
      "platform win32 -- Python 3.9.13, pytest-7.4.0, pluggy-1.2.0 -- C:\\Users\\Admin\\PycharmProjects\\UCEMA_2023\\venv\\Scripts\\python.exe\n",
      "cachedir: .pytest_cache\n",
      "rootdir: C:\\Users\\Admin\\PycharmProjects\\UCEMA_2023\\part-1\\clase1\\03-string-methods\n",
      "plugins: anyio-3.7.1\n",
      "\u001b[1mcollecting ... \u001b[0mcollected 14 items\n",
      "\n",
      "t_c83fe143a61441a184b7670a42ac7115.py::TestAgregarComa::test_strings_juan_pedro_seba \u001b[32mPASSED\u001b[0m\u001b[32m  [  7%]\u001b[0m\n",
      "t_c83fe143a61441a184b7670a42ac7115.py::TestAgregarComa::test_strings_juan_seba_pedro \u001b[32mPASSED\u001b[0m\u001b[32m  [ 14%]\u001b[0m\n",
      "t_c83fe143a61441a184b7670a42ac7115.py::TestPerteneceA::test_do_not_include_word \u001b[32mPASSED\u001b[0m\u001b[32m       [ 21%]\u001b[0m\n",
      "t_c83fe143a61441a184b7670a42ac7115.py::TestPerteneceA::test_include_word \u001b[32mPASSED\u001b[0m\u001b[32m              [ 28%]\u001b[0m\n",
      "t_c83fe143a61441a184b7670a42ac7115.py::TestCuentaRep::test_numbers_0_0_1_2_0_on_0 \u001b[32mPASSED\u001b[0m\u001b[32m     [ 35%]\u001b[0m\n",
      "t_c83fe143a61441a184b7670a42ac7115.py::TestCuentaRep::test_numbers_0_0_1_2_0_on_3 \u001b[32mPASSED\u001b[0m\u001b[32m     [ 42%]\u001b[0m\n",
      "t_c83fe143a61441a184b7670a42ac7115.py::TestEsUnaPregunta::test_es_una_pregunta \u001b[32mPASSED\u001b[0m\u001b[32m        [ 50%]\u001b[0m\n",
      "t_c83fe143a61441a184b7670a42ac7115.py::TestEsUnaPregunta::test_is_not_a_question \u001b[32mPASSED\u001b[0m\u001b[32m      [ 57%]\u001b[0m\n",
      "t_c83fe143a61441a184b7670a42ac7115.py::TestWhitespace::test_leading_whitespaces \u001b[32mPASSED\u001b[0m\u001b[32m       [ 64%]\u001b[0m\n",
      "t_c83fe143a61441a184b7670a42ac7115.py::TestWhitespace::test_trailing_whitespaces \u001b[32mPASSED\u001b[0m\u001b[32m      [ 71%]\u001b[0m\n",
      "t_c83fe143a61441a184b7670a42ac7115.py::TestWhitespace::test_whitespaces \u001b[32mPASSED\u001b[0m\u001b[32m               [ 78%]\u001b[0m\n",
      "t_c83fe143a61441a184b7670a42ac7115.py::TestFString::test_john_doe_33_formatting \u001b[32mPASSED\u001b[0m\u001b[32m       [ 85%]\u001b[0m\n",
      "t_c83fe143a61441a184b7670a42ac7115.py::Testreemplazar_una_letra::test_casanova_to_cosonovo \u001b[32mPASSED\u001b[0m\u001b[32m [ 92%]\u001b[0m\n",
      "t_c83fe143a61441a184b7670a42ac7115.py::Testreemplazar_una_letra::test_kosovo_to_kasava \u001b[32mPASSED\u001b[0m\u001b[32m [100%]\u001b[0m\n",
      "\n",
      "\u001b[32m======================================= \u001b[32m\u001b[1m14 passed\u001b[0m\u001b[32m in 0.05s\u001b[0m\u001b[32m ========================================\u001b[0m\n"
     ]
    },
    {
     "data": {
      "text/plain": [
       "<ExitCode.OK: 0>"
      ]
     },
     "execution_count": 2,
     "metadata": {},
     "output_type": "execute_result"
    }
   ],
   "source": [
    "import ipytest\n",
    "from test_string.test_string import TestAgregarComa, TestPerteneceA, TestCuentaRep, TestEsUnaPregunta, TestWhitespace,  TestFString,Testreemplazar_una_letra\n",
    "\n",
    "TestAgregarComa.agregar_coma = agregar_coma\n",
    "TestPerteneceA.pertence_a = pertence_a\n",
    "TestCuentaRep.cuenta_repetido = cuenta_repetido\n",
    "TestEsUnaPregunta.es_una_pregunta = es_una_pregunta\n",
    "TestWhitespace.eliminar_espacios_exteriores = eliminar_espacios_exteriores\n",
    "Testreemplazar_una_letra.reemplazar_una_letra = reemplazar_una_letra\n",
    "TestFString.f_string_nombreyapellido = f_string_nombreyapellido\n",
    "\n",
    "ipytest.run(\"-vv\")\n"
   ]
  }
 ],
 "metadata": {
  "kernelspec": {
   "display_name": "Python 3",
   "language": "python",
   "name": "python3"
  },
  "language_info": {
   "codemirror_mode": {
    "name": "ipython",
    "version": 2
   },
   "file_extension": ".py",
   "mimetype": "text/x-python",
   "name": "python",
   "nbconvert_exporter": "python",
   "pygments_lexer": "ipython2",
   "version": "2.7.6"
  }
 },
 "nbformat": 4,
 "nbformat_minor": 5
}
