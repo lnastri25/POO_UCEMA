{
 "cells": [
  {
   "cell_type": "markdown",
   "metadata": {
    "collapsed": false
   },
   "source": [
    "# Anagrama válidos\n",
    "\n",
    "Dadas dos cadenas 's' y 't', devuelve verdadero si 't' es un anagrama de 's', y falso en caso contrario.\n",
    "\n",
    "Un anagrama es una palabra o frase formada al reorganizar las letras de una palabra o frase diferente, generalmente usando todas las letras originales exactamente una vez.\n",
    "\n",
    "\n",
    "\n",
    "## Ejemplo 1:\n",
    "\n",
    "Entrada: s = \"anagrama\", t = \"nagaram\"\n",
    "Salida: verdadero\n",
    "\n",
    "## Ejemplo 2:\n",
    "\n",
    "Entrada: s = \"rata\", t = \"coche\"\n",
    "Salida: falso\n",
    "\n",
    "## Restricciones:\n",
    "\n",
    "1 <= s.longitud, t.longitud <= 5 * 104\n",
    "s y t consisten en letras minúsculas en inglés.\n",
    "\n",
    "\n",
    "Seguimiento: ¿Qué sucede si las entradas contienen caracteres Unicode? ¿Cómo adaptaría su solución a tal caso?\n"
   ]
  },
  {
   "cell_type": "code",
   "execution_count": 1,
   "metadata": {
    "ExecuteTime": {
     "end_time": "2023-07-24T14:15:21.809100Z",
     "start_time": "2023-07-24T14:15:21.302202Z"
    },
    "collapsed": false
   },
   "outputs": [],
   "source": [
    "# Función para completar\n",
    "def validaranagrama(s: str, t: str) -> bool:\n",
    "    return sorted(s) == sorted(t)\n",
    "\n",
    "\n",
    "def validaranagrama(s: str, t: str):\n",
    "    nuevo = \"\"\n",
    "    for letra in t:\n",
    "      if letra in s:\n",
    "        nuevo += letra\n",
    "      else:\n",
    "        return False\n",
    "    return len(nuevo) == len(s)"
   ]
  },
  {
   "cell_type": "code",
   "execution_count": 2,
   "metadata": {
    "ExecuteTime": {
     "end_time": "2023-07-24T14:15:22.207585Z",
     "start_time": "2023-07-24T14:15:21.790580Z"
    },
    "collapsed": false
   },
   "outputs": [
    {
     "name": "stdout",
     "output_type": "stream",
     "text": [
      "\u001b[1m======================================= test session starts ========================================\u001b[0m\n",
      "platform darwin -- Python 3.11.4, pytest-7.4.0, pluggy-1.0.0 -- /Users/lolonastri/opt/anaconda3/envs/POO-env/bin/python\n",
      "cachedir: .pytest_cache\n",
      "rootdir: /Users/lolonastri/Desktop/POO_UCEMA/algoritmia/ejercicios/clase1/05-anagrama\n",
      "\u001b[1mcollecting ... \u001b[0mcollected 4 items\n",
      "\n",
      "t_9cf6447aad124b8d95d65cff4f0e728d.py::TestValidAnagram::test_triangle_integral \u001b[32mPASSED\u001b[0m\u001b[32m       [ 25%]\u001b[0m\n",
      "t_9cf6447aad124b8d95d65cff4f0e728d.py::TestValidAnagram::test_valid_anagram1 \u001b[32mPASSED\u001b[0m\u001b[32m          [ 50%]\u001b[0m\n",
      "t_9cf6447aad124b8d95d65cff4f0e728d.py::TestValidAnagram::test_valid_anagram3 \u001b[32mPASSED\u001b[0m\u001b[32m          [ 75%]\u001b[0m\n",
      "t_9cf6447aad124b8d95d65cff4f0e728d.py::TestValidAnagram::test_valid_anagram4 \u001b[32mPASSED\u001b[0m\u001b[32m          [100%]\u001b[0m\n",
      "\n",
      "\u001b[32m======================================== \u001b[32m\u001b[1m4 passed\u001b[0m\u001b[32m in 0.01s\u001b[0m\u001b[32m =========================================\u001b[0m\n"
     ]
    },
    {
     "data": {
      "text/plain": [
       "<ExitCode.OK: 0>"
      ]
     },
     "execution_count": 2,
     "metadata": {},
     "output_type": "execute_result"
    }
   ],
   "source": [
    "import ipytest\n",
    "from test_anagram.test_anagram import TestValidAnagram\n",
    "TestValidAnagram.validaranagrama = validaranagrama\n",
    "ipytest.run(\"-vv\")"
   ]
  },
  {
   "cell_type": "code",
   "execution_count": null,
   "metadata": {
    "collapsed": false
   },
   "outputs": [],
   "source": []
  }
 ],
 "metadata": {
  "kernelspec": {
   "display_name": "Python 3",
   "language": "python",
   "name": "python3"
  },
  "language_info": {
   "codemirror_mode": {
    "name": "ipython",
    "version": 3
   },
   "file_extension": ".py",
   "mimetype": "text/x-python",
   "name": "python",
   "nbconvert_exporter": "python",
   "pygments_lexer": "ipython3",
   "version": "3.11.4"
  }
 },
 "nbformat": 4,
 "nbformat_minor": 0
}
