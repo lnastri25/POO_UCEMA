{
 "cells": [
  {
   "cell_type": "markdown",
   "metadata": {
    "collapsed": false
   },
   "source": [
    "# Consigna Juego\n",
    "\n",
    "Objetivo del juego: Tu desafío es determinar el daño que tus ataques han infligido a las diversas ciudades de Buenos Aires. Los nombres de las ciudades a las que se ha lanzado cada misil se enumeran en un listado. Cada ciudad tiene un valor asignado de daño en un diccionario, representando el impacto de cada misil lanzado a esa ciudad.\n",
    "\n",
    "\n",
    "Herramientas:\n",
    "Código postal\n",
    "Puntaje del ataque de un misil a una ciudad\n",
    "Listado del grupo con nombres de ciudades atacadas (Cada mención es un misil)\n",
    "\n",
    "\n",
    "codigos_postales = {\n",
    "    \"6640\": \"Bragado\",\n",
    "    \"6646\": \"Junin\",\n",
    "    \"6620\": \"Chivilcoy\",\n",
    "    \"8000\": \"Bahía Blanca\",\n",
    "    \"7600\": \"Mar del Plata\",\n",
    "    \"1704\": \"Morón\",\n",
    "    \"1824\": \"Lanús\",\n",
    "    \"1871\": \"Avellaneda\",\n",
    "    \"5500\": \"Mendoza\",\n",
    "    \"5000\": \"Córdoba\",\n",
    "    \"9400\": \"Río Gallegos\"\n",
    "}\n",
    "\n",
    "\n",
    "\n",
    "\n",
    "Puntaje_por_ciudad = {\n",
    "    \"1871\": 80,  \n",
    "    \"7600\": 50,  \n",
    "    \"1824\": 70,  \n",
    "    \"9400\": 110,  \n",
    "    \"5000\": 100, \n",
    "    \"6640\": 10,  \n",
    "    \"1704\": 60,  \n",
    "    \"8000\": 40,  \n",
    "    \"5500\": 90,  \n",
    "    \"6620\": 30,  \n",
    "    \"6646\": 20\n",
    "}\n",
    "\n",
    "\n",
    "\n",
    "Listado_de_misiles_grupo2 = [\"Mar del Plata\", \"Junin\", \"Avellaneda\", \"Mar del Plata\", \"Río Gallegos\", \"Córdoba\", \"Lanús\", \"Río Gallegos\", \"Junin\", \"Morón\", \"Morón\", \"Avellaneda\", \"Córdoba\", \"Bragado\", \"Río Gallegos\", \"Lanús\", \"Mar del Plata\", \"Río Gallegos\", \"Morón\", \"Bragado\", \"Bahía Blanca\", \"Chivilcoy\", \"Avellaneda\", \"Córdoba\", \"Lanús\", \"Chivilcoy\", \"Río Gallegos\", \"Bragado\", \"Mar del Plata\", \"Avellaneda\", \"Córdoba\", \"Lanús\", \"Bragado\", \"Bahía Blanca\", \"Mendoza\", \"Junin\", \"Río Gallegos\", \"Avellaneda\", \"Lanús\", \"Morón\", \"Mendoza\", \"Chivilcoy\", \"Bragado\", \"Bahía Blanca\", \"Río Gallegos\", \"Avellaneda\", \"Chivilcoy\", \"Morón\", \"Córdoba\", \"Bragado\", \"Mendoza\"]\n",
    "\n",
    "\n"
   ]
  },
  {
   "cell_type": "markdown",
   "metadata": {
    "collapsed": false
   },
   "source": [
    "\n",
    "# instrucciones\n",
    "Paso 1: Generar el diccionario inverso ciudades_postales\n",
    "Crea un diccionario llamado ciudades_postales. Para cada par de clave-valor en codigos_postales, añade un par de clave-valor en ciudades_postales donde la clave es el valor del par original y el valor es la clave del par original. Este paso nos permitirá buscar fácilmente el código postal de una ciudad a partir de su nombre.\n",
    "\n",
    "Paso 2: Inicializar el diccionario de daño por ciudad\n",
    "Crea un diccionario llamado danos_por_ciudad. Para cada ciudad en codigos_postales.values(), añade un par de clave-valor en danos_por_ciudad donde la clave es la ciudad y el valor es 0. Este diccionario almacenará el daño total infligido a cada ciudad.\n",
    "\n",
    "Paso 3: Inicializar el daño total\n",
    "Crea una variable llamada dano_total e inicialízala a 0. Esta variable mantendrá la suma del daño total infligido a todas las ciudades.\n",
    "\n",
    "Paso 4: Calcular el daño\n",
    "Recorre cada ciudad en Listado_de_misiles_grupo2. Para cada ciudad, realiza los siguientes pasos:\n",
    "\n",
    "Paso 4.1: Buscar el código postal\n",
    "Busca el código postal de la ciudad en ciudades_postales y almacénalo en una variable llamada postal.\n",
    "\n",
    "Paso 4.2: Incrementar el daño total\n",
    "Busca el daño que un misil inflige a la ciudad con código postal postal en Puntaje_por_ciudad y añade este valor a dano_total.\n",
    "\n",
    "Paso 4.3: Incrementar el daño de la ciudad\n",
    "Añade el daño que un misil inflige a la ciudad con código postal postal en Puntaje_por_ciudad al valor correspondiente a la ciudad en danos_por_ciudad.\n",
    "\n",
    "Paso 5: Imprimir los resultados\n",
    "Finalmente, imprime el daño total y el daño por ciudad utilizando la función print. Estos son los resultados de nuestro cálculo."
   ]
  },
  {
   "cell_type": "code",
   "execution_count": 1,
   "metadata": {
    "ExecuteTime": {
     "end_time": "2023-07-20T13:18:40.474969Z",
     "start_time": "2023-07-20T13:18:40.465996Z"
    },
    "collapsed": true
   },
   "outputs": [],
   "source": [
    "codigos_postales = {\n",
    "    \"6640\": \"Bragado\",\n",
    "    \"6646\": \"Junin\",\n",
    "    \"6620\": \"Chivilcoy\",\n",
    "    \"8000\": \"Bahía Blanca\",\n",
    "    \"7600\": \"Mar del Plata\",\n",
    "    \"1704\": \"Morón\",\n",
    "    \"1824\": \"Lanús\",\n",
    "    \"1871\": \"Avellaneda\",\n",
    "    \"5500\": \"Mendoza\",\n",
    "    \"5000\": \"Córdoba\",\n",
    "    \"9400\": \"Río Gallegos\"\n",
    "}\n",
    "\n",
    "\n",
    "Puntaje_por_ciudad = {\n",
    "    \"1871\": 80,\n",
    "    \"7600\": 50,\n",
    "    \"1824\": 70,\n",
    "    \"9400\": 110,\n",
    "    \"5000\": 100,\n",
    "    \"6640\": 10,\n",
    "    \"1704\": 60,\n",
    "    \"8000\": 40,\n",
    "    \"5500\": 90,\n",
    "    \"6620\": 30,\n",
    "    \"6646\": 20\n",
    "}\n",
    "\n",
    "\n",
    "\n",
    "# Diccionario inverso para acceder al código postal a partir del nombre de la ciudad\n",
    "ciudades_postales = {v: k for k, v in codigos_postales.items()}\n",
    "\n",
    "# Inicializa un diccionario para almacenar los daños por ciudad\n",
    "danos_por_ciudad = {ciudad: 0 for ciudad in codigos_postales.values()}\n",
    "\n",
    "# Inicializa una variable para almacenar el daño total\n",
    "dano_total = 0\n",
    "\n"
   ]
  },
  {
   "cell_type": "code",
   "execution_count": 2,
   "metadata": {
    "ExecuteTime": {
     "end_time": "2023-07-20T13:18:40.484734Z",
     "start_time": "2023-07-20T13:18:40.480910Z"
    },
    "collapsed": false
   },
   "outputs": [
    {
     "name": "stdout",
     "output_type": "stream",
     "text": [
      "Daño por ciudad: {'Bragado': 60, 'Junin': 60, 'Chivilcoy': 120, 'Bahía Blanca': 120, 'Mar del Plata': 200, 'Morón': 300, 'Lanús': 350, 'Avellaneda': 480, 'Mendoza': 270, 'Córdoba': 500, 'Río Gallegos': 770}\n",
      "Daño total: 3230\n"
     ]
    }
   ],
   "source": [
    "Listado_de_misiles_grupo = [\"Mar del Plata\", \"Junin\", \"Avellaneda\", \"Mar del Plata\", \"Río Gallegos\", \"Córdoba\", \"Lanús\", \"Río Gallegos\", \"Junin\", \"Morón\", \"Morón\", \"Avellaneda\", \"Córdoba\", \"Bragado\", \"Río Gallegos\", \"Lanús\", \"Mar del Plata\", \"Río Gallegos\", \"Morón\", \"Bragado\", \"Bahía Blanca\", \"Chivilcoy\", \"Avellaneda\", \"Córdoba\", \"Lanús\", \"Chivilcoy\", \"Río Gallegos\", \"Bragado\", \"Mar del Plata\", \"Avellaneda\", \"Córdoba\", \"Lanús\", \"Bragado\", \"Bahía Blanca\", \"Mendoza\", \"Junin\", \"Río Gallegos\", \"Avellaneda\", \"Lanús\", \"Morón\", \"Mendoza\", \"Chivilcoy\", \"Bragado\", \"Bahía Blanca\", \"Río Gallegos\", \"Avellaneda\", \"Chivilcoy\", \"Morón\", \"Córdoba\", \"Bragado\", \"Mendoza\"]\n",
    "\n",
    "# Recorre la lista de ataques de misiles\n",
    "for ciudad in Listado_de_misiles_grupo:\n",
    "    # Encuentra el código postal de la ciudad\n",
    "    postal = ciudades_postales[ciudad]\n",
    "    # Añade el daño de la ciudad al total\n",
    "    dano_total += Puntaje_por_ciudad[postal]\n",
    "    # Añade el daño al total de la ciudad específica\n",
    "    danos_por_ciudad[ciudad] += Puntaje_por_ciudad[postal]\n",
    "\n",
    "# Imprime el daño por ciudad y el daño total\n",
    "print(\"Daño por ciudad:\", danos_por_ciudad)\n",
    "print(\"Daño total:\", dano_total)"
   ]
  }
 ],
 "metadata": {
  "kernelspec": {
   "display_name": "Python 3",
   "language": "python",
   "name": "python3"
  },
  "language_info": {
   "codemirror_mode": {
    "name": "ipython",
    "version": 3
   },
   "file_extension": ".py",
   "mimetype": "text/x-python",
   "name": "python",
   "nbconvert_exporter": "python",
   "pygments_lexer": "ipython3",
   "version": "3.11.4"
  }
 },
 "nbformat": 4,
 "nbformat_minor": 0
}
