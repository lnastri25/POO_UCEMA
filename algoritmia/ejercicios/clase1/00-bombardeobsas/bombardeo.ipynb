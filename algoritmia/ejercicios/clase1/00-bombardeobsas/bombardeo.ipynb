{
 "cells": [
  {
   "cell_type": "code",
   "execution_count": 15,
   "metadata": {},
   "outputs": [],
   "source": [
    "codigos_postales = {\n",
    "    \"6640\": \"Bragado\",\n",
    "    \"6646\": \"Junin\",\n",
    "    \"6620\": \"Chivilcoy\",\n",
    "    \"8000\": \"Bahía Blanca\",\n",
    "    \"7600\": \"Mar del Plata\",\n",
    "    \"1704\": \"Morón\",\n",
    "    \"1824\": \"Lanús\",\n",
    "    \"1871\": \"Avellaneda\",\n",
    "    \"5500\": \"Mendoza\",\n",
    "    \"5000\": \"Córdoba\",\n",
    "    \"9400\": \"Río Gallegos\"\n",
    "}\n",
    "\n",
    "Puntaje_por_ciudad = {\n",
    "    \"1871\": 80,\n",
    "    \"7600\": 50,\n",
    "    \"1824\": 70,\n",
    "    \"9400\": 110,\n",
    "    \"5000\": 100,\n",
    "    \"6640\": 10,\n",
    "    \"1704\": 60,\n",
    "    \"8000\": 40,\n",
    "    \"5500\": 90,\n",
    "    \"6620\": 30,\n",
    "    \"6646\": 20\n",
    "}\n",
    "\n",
    "Listado_de_misiles_grupo = [\"Mar del Plata\", \"Junin\", \"Avellaneda\", \"Mar del Plata\", \"Río Gallegos\", \"Córdoba\", \"Lanús\", \"Río Gallegos\", \"Junin\", \"Morón\", \"Morón\", \"Avellaneda\", \"Córdoba\", \"Bragado\", \"Río Gallegos\", \"Lanús\", \"Mar del Plata\", \"Río Gallegos\", \"Morón\", \"Bragado\", \"Bahía Blanca\", \"Chivilcoy\", \"Avellaneda\", \"Córdoba\", \"Lanús\", \"Chivilcoy\", \"Río Gallegos\", \"Bragado\", \"Mar del Plata\", \"Avellaneda\", \"Córdoba\", \"Lanús\", \"Bragado\", \"Bahía Blanca\", \"Mendoza\", \"Junin\", \"Río Gallegos\", \"Avellaneda\", \"Lanús\", \"Morón\", \"Mendoza\", \"Chivilcoy\", \"Bragado\", \"Bahía Blanca\", \"Río Gallegos\", \"Avellaneda\", \"Chivilcoy\", \"Morón\", \"Córdoba\", \"Bragado\", \"Mendoza\"]"
   ]
  },
  {
   "cell_type": "code",
   "execution_count": 16,
   "metadata": {},
   "outputs": [],
   "source": [
    "def bombardeo (codigos, puntaje, input):\n",
    "  dict = {}"
   ]
  },
  {
   "cell_type": "code",
   "execution_count": 17,
   "metadata": {},
   "outputs": [
    {
     "name": "stdout",
     "output_type": "stream",
     "text": [
      "Bragado\n",
      "Junin\n",
      "Chivilcoy\n",
      "Bahía Blanca\n",
      "Mar del Plata\n",
      "Morón\n",
      "Lanús\n",
      "Avellaneda\n",
      "Mendoza\n",
      "Córdoba\n",
      "Río Gallegos\n"
     ]
    }
   ],
   "source": [
    "for ciudad in codigos_postales.values():\n",
    "  print(ciudad)"
   ]
  },
  {
   "cell_type": "code",
   "execution_count": 18,
   "metadata": {},
   "outputs": [
    {
     "name": "stdout",
     "output_type": "stream",
     "text": [
      "10\n",
      "80\n"
     ]
    }
   ],
   "source": [
    "for codigo in [\"6640\", \"1871\"]:\n",
    "  print (Puntaje_por_ciudad[codigo])"
   ]
  },
  {
   "cell_type": "code",
   "execution_count": 19,
   "metadata": {},
   "outputs": [
    {
     "name": "stdout",
     "output_type": "stream",
     "text": [
      "1871\n",
      "7600\n",
      "1824\n",
      "9400\n",
      "5000\n",
      "6640\n",
      "1704\n",
      "8000\n",
      "5500\n",
      "6620\n",
      "6646\n"
     ]
    }
   ],
   "source": [
    "for codigo in Puntaje_por_ciudad:\n",
    "  print (codigo)"
   ]
  },
  {
   "cell_type": "code",
   "execution_count": 20,
   "metadata": {},
   "outputs": [
    {
     "name": "stdout",
     "output_type": "stream",
     "text": [
      "6640\n",
      "6646\n",
      "6620\n",
      "8000\n",
      "7600\n",
      "1704\n",
      "1824\n",
      "1871\n",
      "5500\n",
      "5000\n",
      "9400\n"
     ]
    }
   ],
   "source": [
    "for ciudad in codigos_postales.keys():\n",
    "  print(ciudad)"
   ]
  },
  {
   "cell_type": "code",
   "execution_count": 21,
   "metadata": {},
   "outputs": [
    {
     "name": "stdout",
     "output_type": "stream",
     "text": [
      "Mar del Plata\n",
      "Junin\n",
      "Avellaneda\n",
      "Mar del Plata\n",
      "Río Gallegos\n",
      "Córdoba\n",
      "Lanús\n",
      "Río Gallegos\n",
      "Junin\n",
      "Morón\n",
      "Morón\n",
      "Avellaneda\n",
      "Córdoba\n",
      "Bragado\n",
      "Río Gallegos\n",
      "Lanús\n",
      "Mar del Plata\n",
      "Río Gallegos\n",
      "Morón\n",
      "Bragado\n",
      "Bahía Blanca\n",
      "Chivilcoy\n",
      "Avellaneda\n",
      "Córdoba\n",
      "Lanús\n",
      "Chivilcoy\n",
      "Río Gallegos\n",
      "Bragado\n",
      "Mar del Plata\n",
      "Avellaneda\n",
      "Córdoba\n",
      "Lanús\n",
      "Bragado\n",
      "Bahía Blanca\n",
      "Mendoza\n",
      "Junin\n",
      "Río Gallegos\n",
      "Avellaneda\n",
      "Lanús\n",
      "Morón\n",
      "Mendoza\n",
      "Chivilcoy\n",
      "Bragado\n",
      "Bahía Blanca\n",
      "Río Gallegos\n",
      "Avellaneda\n",
      "Chivilcoy\n",
      "Morón\n",
      "Córdoba\n",
      "Bragado\n",
      "Mendoza\n"
     ]
    }
   ],
   "source": [
    "for daño in Listado_de_misiles_grupo:\n",
    "  print(daño)"
   ]
  },
  {
   "cell_type": "code",
   "execution_count": 22,
   "metadata": {},
   "outputs": [
    {
     "data": {
      "text/plain": [
       "'Bragado'"
      ]
     },
     "execution_count": 22,
     "metadata": {},
     "output_type": "execute_result"
    }
   ],
   "source": [
    "codigos_postales[\"6640\"]"
   ]
  },
  {
   "cell_type": "code",
   "execution_count": 23,
   "metadata": {},
   "outputs": [
    {
     "data": {
      "text/plain": [
       "dict_items([('6640', 'Bragado'), ('6646', 'Junin'), ('6620', 'Chivilcoy'), ('8000', 'Bahía Blanca'), ('7600', 'Mar del Plata'), ('1704', 'Morón'), ('1824', 'Lanús'), ('1871', 'Avellaneda'), ('5500', 'Mendoza'), ('5000', 'Córdoba'), ('9400', 'Río Gallegos')])"
      ]
     },
     "execution_count": 23,
     "metadata": {},
     "output_type": "execute_result"
    }
   ],
   "source": [
    "codigos_postales.items()"
   ]
  },
  {
   "cell_type": "code",
   "execution_count": 24,
   "metadata": {},
   "outputs": [
    {
     "name": "stdout",
     "output_type": "stream",
     "text": [
      "{'6640': 'Bragado'}\n",
      "{'6640': 'Bragado', '6646': 'Junin'}\n",
      "{'6640': 'Bragado', '6646': 'Junin', '6620': 'Chivilcoy'}\n",
      "{'6640': 'Bragado', '6646': 'Junin', '6620': 'Chivilcoy', '8000': 'Bahía Blanca'}\n",
      "{'6640': 'Bragado', '6646': 'Junin', '6620': 'Chivilcoy', '8000': 'Bahía Blanca', '7600': 'Mar del Plata'}\n",
      "{'6640': 'Bragado', '6646': 'Junin', '6620': 'Chivilcoy', '8000': 'Bahía Blanca', '7600': 'Mar del Plata', '1704': 'Morón'}\n",
      "{'6640': 'Bragado', '6646': 'Junin', '6620': 'Chivilcoy', '8000': 'Bahía Blanca', '7600': 'Mar del Plata', '1704': 'Morón', '1824': 'Lanús'}\n",
      "{'6640': 'Bragado', '6646': 'Junin', '6620': 'Chivilcoy', '8000': 'Bahía Blanca', '7600': 'Mar del Plata', '1704': 'Morón', '1824': 'Lanús', '1871': 'Avellaneda'}\n",
      "{'6640': 'Bragado', '6646': 'Junin', '6620': 'Chivilcoy', '8000': 'Bahía Blanca', '7600': 'Mar del Plata', '1704': 'Morón', '1824': 'Lanús', '1871': 'Avellaneda', '5500': 'Mendoza'}\n",
      "{'6640': 'Bragado', '6646': 'Junin', '6620': 'Chivilcoy', '8000': 'Bahía Blanca', '7600': 'Mar del Plata', '1704': 'Morón', '1824': 'Lanús', '1871': 'Avellaneda', '5500': 'Mendoza', '5000': 'Córdoba'}\n",
      "{'6640': 'Bragado', '6646': 'Junin', '6620': 'Chivilcoy', '8000': 'Bahía Blanca', '7600': 'Mar del Plata', '1704': 'Morón', '1824': 'Lanús', '1871': 'Avellaneda', '5500': 'Mendoza', '5000': 'Córdoba', '9400': 'Río Gallegos'}\n"
     ]
    }
   ],
   "source": [
    "ciudad_codigopostal = {} # Armo diccionari vacio para ir almacenando\n",
    "for ciudad, codigo_postal in codigos_postales.items(): # Para cada key, value en codigos_postales.items()\n",
    "  ciudad_codigopostal[ciudad] = codigo_postal # Agrega un clave(cp)-valor(ciudad) al dict --> para cada cp en el dict se obtiene en el nombre de la ciudad que le corresponde\n",
    "  print(ciudad_codigopostal)"
   ]
  },
  {
   "cell_type": "code",
   "execution_count": 25,
   "metadata": {},
   "outputs": [
    {
     "name": "stdout",
     "output_type": "stream",
     "text": [
      "{'Bragado': 0}\n",
      "{'Bragado': 0, 'Junin': 0}\n",
      "{'Bragado': 0, 'Junin': 0, 'Chivilcoy': 0}\n",
      "{'Bragado': 0, 'Junin': 0, 'Chivilcoy': 0, 'Bahía Blanca': 0}\n",
      "{'Bragado': 0, 'Junin': 0, 'Chivilcoy': 0, 'Bahía Blanca': 0, 'Mar del Plata': 0}\n",
      "{'Bragado': 0, 'Junin': 0, 'Chivilcoy': 0, 'Bahía Blanca': 0, 'Mar del Plata': 0, 'Morón': 0}\n",
      "{'Bragado': 0, 'Junin': 0, 'Chivilcoy': 0, 'Bahía Blanca': 0, 'Mar del Plata': 0, 'Morón': 0, 'Lanús': 0}\n",
      "{'Bragado': 0, 'Junin': 0, 'Chivilcoy': 0, 'Bahía Blanca': 0, 'Mar del Plata': 0, 'Morón': 0, 'Lanús': 0, 'Avellaneda': 0}\n",
      "{'Bragado': 0, 'Junin': 0, 'Chivilcoy': 0, 'Bahía Blanca': 0, 'Mar del Plata': 0, 'Morón': 0, 'Lanús': 0, 'Avellaneda': 0, 'Mendoza': 0}\n",
      "{'Bragado': 0, 'Junin': 0, 'Chivilcoy': 0, 'Bahía Blanca': 0, 'Mar del Plata': 0, 'Morón': 0, 'Lanús': 0, 'Avellaneda': 0, 'Mendoza': 0, 'Córdoba': 0}\n",
      "{'Bragado': 0, 'Junin': 0, 'Chivilcoy': 0, 'Bahía Blanca': 0, 'Mar del Plata': 0, 'Morón': 0, 'Lanús': 0, 'Avellaneda': 0, 'Mendoza': 0, 'Córdoba': 0, 'Río Gallegos': 0}\n"
     ]
    }
   ],
   "source": [
    "daños_por_ciudad = {}\n",
    "for ciudad in codigos_postales.values():\n",
    "    daños_por_ciudad[ciudad] = 0\n",
    "    print(daños_por_ciudad)\n"
   ]
  },
  {
   "cell_type": "code",
   "execution_count": 26,
   "metadata": {},
   "outputs": [],
   "source": [
    "# print(\"Daño por ciudad:\", daños_por_ciudad)\n",
    "# print(\"Daño total:\", dano_total)"
   ]
  }
 ],
 "metadata": {
  "kernelspec": {
   "display_name": "POO-env",
   "language": "python",
   "name": "python3"
  },
  "language_info": {
   "codemirror_mode": {
    "name": "ipython",
    "version": 3
   },
   "file_extension": ".py",
   "mimetype": "text/x-python",
   "name": "python",
   "nbconvert_exporter": "python",
   "pygments_lexer": "ipython3",
   "version": "3.11.4"
  },
  "orig_nbformat": 4
 },
 "nbformat": 4,
 "nbformat_minor": 2
}
