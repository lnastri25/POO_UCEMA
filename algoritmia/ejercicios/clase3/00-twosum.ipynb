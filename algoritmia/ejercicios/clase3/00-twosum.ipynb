{
 "cells": [
  {
   "cell_type": "code",
   "execution_count": 1,
   "outputs": [],
   "source": [
    "nums = [2,3,4,5,10]"
   ],
   "metadata": {
    "collapsed": false,
    "ExecuteTime": {
     "end_time": "2023-08-17T13:18:15.814498200Z",
     "start_time": "2023-08-17T13:18:15.751379300Z"
    }
   },
   "id": "11a0538f6060eba4"
  },
  {
   "cell_type": "code",
   "execution_count": 2,
   "outputs": [],
   "source": [
    "num_map = {} #diccionario vacio"
   ],
   "metadata": {
    "collapsed": false,
    "ExecuteTime": {
     "end_time": "2023-08-17T13:57:37.706429100Z",
     "start_time": "2023-08-17T13:57:37.670056200Z"
    }
   },
   "id": "a33fa9402a58eaa3"
  },
  {
   "cell_type": "code",
   "execution_count": 4,
   "outputs": [
    {
     "name": "stdout",
     "output_type": "stream",
     "text": [
      "0 2\n",
      "1 3\n",
      "2 4\n",
      "3 5\n",
      "4 10\n"
     ]
    }
   ],
   "source": [
    "for indice,valor in enumerate(nums):\n",
    "    print(indice,valor)"
   ],
   "metadata": {
    "collapsed": false,
    "ExecuteTime": {
     "end_time": "2023-08-17T13:58:11.717027400Z",
     "start_time": "2023-08-17T13:58:11.663965700Z"
    }
   },
   "id": "4b641c8bef225521"
  },
  {
   "cell_type": "code",
   "execution_count": 6,
   "id": "initial_id",
   "metadata": {
    "collapsed": true,
    "ExecuteTime": {
     "end_time": "2023-08-17T14:00:00.025252500Z",
     "start_time": "2023-08-17T14:00:00.010699600Z"
    }
   },
   "outputs": [],
   "source": [
    "# Función para completar\n",
    "def pareja_de_suma(nums, target):\n",
    "    n\n",
    "    return []\n",
    "   "
   ]
  },
  {
   "cell_type": "code",
   "execution_count": 10,
   "outputs": [
    {
     "name": "stdout",
     "output_type": "stream",
     "text": [
      "la variable x es 9 y la variable y es tanto\n"
     ]
    }
   ],
   "source": [
    "variable_x = 4\n",
    "print(f\"la variable x es {variable_x+5} y la variable y es tanto\")"
   ],
   "metadata": {
    "collapsed": false,
    "ExecuteTime": {
     "end_time": "2023-08-17T14:00:53.973913800Z",
     "start_time": "2023-08-17T14:00:53.942663600Z"
    }
   },
   "id": "6f058f35fae20b09"
  },
  {
   "cell_type": "markdown",
   "source": [
    "### Dos valores  de la lista num que sumen 8\n",
    "\n",
    "num = [2,3,4,5,10] \n",
    "target = 8"
   ],
   "metadata": {
    "collapsed": false
   },
   "id": "63bfb5784e24e7b2"
  },
  {
   "cell_type": "code",
   "execution_count": 14,
   "outputs": [],
   "source": [
    "nums = [2,3,4,5,10,5]\n",
    "target = 8"
   ],
   "metadata": {
    "collapsed": false,
    "ExecuteTime": {
     "end_time": "2023-08-17T14:02:51.266683600Z",
     "start_time": "2023-08-17T14:02:51.241635500Z"
    }
   },
   "id": "aab4219a5cd557b3"
  },
  {
   "cell_type": "code",
   "execution_count": 15,
   "outputs": [
    {
     "name": "stdout",
     "output_type": "stream",
     "text": [
      "diferencia 3\n",
      "Hasmap : 1\n"
     ]
    },
    {
     "data": {
      "text/plain": "[1, 3]"
     },
     "execution_count": 15,
     "metadata": {},
     "output_type": "execute_result"
    }
   ],
   "source": [
    "pareja_de_suma(nums, target)"
   ],
   "metadata": {
    "collapsed": false,
    "ExecuteTime": {
     "end_time": "2023-08-17T14:02:55.709872500Z",
     "start_time": "2023-08-17T14:02:55.646693600Z"
    }
   },
   "id": "b90b27f0b89149ae"
  },
  {
   "cell_type": "code",
   "execution_count": 13,
   "outputs": [
    {
     "name": "stdout",
     "output_type": "stream",
     "text": [
      "i 0\n",
      "num 2\n",
      "i 1\n",
      "num 3\n",
      "i 2\n",
      "num 4\n",
      "i 3\n",
      "num 5\n",
      "diferencia 3\n",
      "Hasmap : 1\n",
      "[1, 3]\n",
      "i 4\n",
      "num 10\n"
     ]
    }
   ],
   "source": [
    "num_map = {}\n",
    "for i, num in enumerate(nums):\n",
    "    print(\"i\", i)\n",
    "    print(\"num\", num)\n",
    "    diff = target - num\n",
    "    if diff in num_map:\n",
    "        print(f\"diferencia {diff}\")\n",
    "        print(f\"Hasmap : {num_map[diff]}\")\n",
    "        print([num_map[diff], i])\n",
    "    num_map[num] = i"
   ],
   "metadata": {
    "collapsed": false,
    "ExecuteTime": {
     "end_time": "2023-08-17T14:02:09.128751200Z",
     "start_time": "2023-08-17T14:02:09.071439100Z"
    }
   },
   "id": "9befd588a8acd467"
  },
  {
   "cell_type": "code",
   "execution_count": null,
   "outputs": [],
   "source": [],
   "metadata": {
    "collapsed": false
   },
   "id": "db748f46de792517"
  }
 ],
 "metadata": {
  "kernelspec": {
   "display_name": "Python 3",
   "language": "python",
   "name": "python3"
  },
  "language_info": {
   "codemirror_mode": {
    "name": "ipython",
    "version": 2
   },
   "file_extension": ".py",
   "mimetype": "text/x-python",
   "name": "python",
   "nbconvert_exporter": "python",
   "pygments_lexer": "ipython2",
   "version": "2.7.6"
  }
 },
 "nbformat": 4,
 "nbformat_minor": 5
}
