{
 "cells": [
  {
   "cell_type": "markdown",
   "source": [
    "# Intervalos\n",
    "\n",
    "Se te da una lista de intervalos, donde cada intervalo es una lista de dos números que representan el inicio y el final de un intervalo. Tu tarea es fusionar todos los intervalos que se superponen y devolver una lista de los intervalos no superpuestos que cubren todos los intervalos de la entrada.\n"
   ],
   "metadata": {
    "collapsed": false
   }
  },
  {
   "cell_type": "code",
   "execution_count": 1,
   "outputs": [],
   "source": [
    "# Acá están los intervalos que te dan. Cada par de números representa un intervalo.\n",
    "# El primer número es el comienzo del intervalo, y el segundo número es el final.\n",
    "a = [[1, 9], [2, 4], [3, 5], [10, 14]]"
   ],
   "metadata": {
    "collapsed": false,
    "ExecuteTime": {
     "end_time": "2023-08-17T09:18:45.001818600Z",
     "start_time": "2023-08-17T09:18:44.985759300Z"
    }
   }
  },
  {
   "cell_type": "markdown",
   "source": [
    "## Devolver [1, 9] y [10, 14]"
   ],
   "metadata": {
    "collapsed": false
   }
  },
  {
   "cell_type": "markdown",
   "source": [
    "### La solución a este problema implica los siguientes pasos:\n",
    "\n",
    "1. Ordenar los intervalos por su tiempo de inicio.\n",
    "2. Iterar sobre los intervalos y fusionar los que se superponen"
   ],
   "metadata": {
    "collapsed": false
   }
  },
  {
   "cell_type": "code",
   "execution_count": null,
   "outputs": [],
   "source": [],
   "metadata": {
    "collapsed": false
   }
  },
  {
   "cell_type": "code",
   "execution_count": 2,
   "outputs": [],
   "source": [
    "# Primero, debemos ordenar los intervalos por su tiempo de inicio.\n",
    "# Esto es para asegurarnos de que estamos procesando los intervalos en el orden correcto.\n",
    "a.sort()\n"
   ],
   "metadata": {
    "collapsed": false,
    "ExecuteTime": {
     "end_time": "2023-08-17T09:18:47.051533300Z",
     "start_time": "2023-08-17T09:18:47.042736200Z"
    }
   }
  },
  {
   "cell_type": "code",
   "execution_count": 3,
   "outputs": [
    {
     "name": "stdout",
     "output_type": "stream",
     "text": [
      "[[1, 9], [2, 4], [3, 5], [10, 14]]\n"
     ]
    }
   ],
   "source": [
    "print(a)"
   ],
   "metadata": {
    "collapsed": false,
    "ExecuteTime": {
     "end_time": "2023-08-17T09:18:47.351567300Z",
     "start_time": "2023-08-17T09:18:47.335936600Z"
    }
   }
  },
  {
   "cell_type": "markdown",
   "source": [
    " Ahora, vamos a crear una nueva lista llamada 'result' para almacenar los intervalos fusionados."
   ],
   "metadata": {
    "collapsed": false
   }
  },
  {
   "cell_type": "code",
   "execution_count": 4,
   "outputs": [],
   "source": [
    "result = []"
   ],
   "metadata": {
    "collapsed": false,
    "ExecuteTime": {
     "end_time": "2023-08-17T09:18:51.731084400Z",
     "start_time": "2023-08-17T09:18:51.731084400Z"
    }
   }
  },
  {
   "cell_type": "markdown",
   "source": [
    "## Solucion"
   ],
   "metadata": {
    "collapsed": false
   }
  },
  {
   "cell_type": "code",
   "execution_count": 5,
   "outputs": [
    {
     "name": "stdout",
     "output_type": "stream",
     "text": [
      "[[1, 9], [10, 14]]\n"
     ]
    }
   ],
   "source": [
    "for interval in a:\n",
    "    if not result or result[-1][1] < interval[0]:\n",
    "        result.append(interval)\n",
    "    else:\n",
    "        result[-1][1] = max(result[-1][1], interval[1])\n",
    "\n",
    "print(result)"
   ],
   "metadata": {
    "collapsed": false,
    "ExecuteTime": {
     "end_time": "2023-08-17T09:18:54.478557100Z",
     "start_time": "2023-08-17T09:18:54.462902700Z"
    }
   }
  },
  {
   "cell_type": "markdown",
   "source": [
    "# Explicacion"
   ],
   "metadata": {
    "collapsed": false
   }
  },
  {
   "cell_type": "code",
   "execution_count": null,
   "outputs": [],
   "source": [
    "result = []"
   ],
   "metadata": {
    "collapsed": false
   }
  },
  {
   "cell_type": "markdown",
   "source": [
    "Ahora, iteraremos sobre cada intervalo en nuestra lista ordenada 'a'.\n",
    "Es decir, 'for interval in a:' es una estructura de bucle que pasa por cada 'interval' en la lista 'a'."
   ],
   "metadata": {
    "collapsed": false
   }
  },
  {
   "cell_type": "markdown",
   "source": [
    "    > Primero, verificamos dos condiciones con la declaración 'if':\n",
    "    1. 'not result' revisa si la lista 'result' está vacía. Si está vacía, 'not result' será verdadero.\n",
    "    2. 'result[-1][1] < interval[0]' verifica si el intervalo actual NO se superpone con el último intervalo en 'result'.\n",
    "    Aquí, 'result[-1]' es el último intervalo en 'result', 'result[-1][1]' es el final del último intervalo,\n",
    "    e 'interval[0]' es el comienzo del intervalo actual. Si el final del último intervalo es menor que el comienzo del intervalo actual,\n",
    "    significa que los dos intervalos no se superponen.\n"
   ],
   "metadata": {
    "collapsed": false
   }
  },
  {
   "cell_type": "code",
   "execution_count": null,
   "outputs": [],
   "source": [
    "for interval in a:\n",
    "    # Si cualquiera de estas dos condiciones es verdadera, ejecutamos el código dentro del bloque 'if':\n",
    "    if not result or result[-1][1] < interval[0]:\n",
    "        # Aquí, simplemente agregamos el 'interval' actual a la lista 'result'.\n",
    "        result.append(interval)\n"
   ],
   "metadata": {
    "collapsed": false
   }
  },
  {
   "cell_type": "markdown",
   "source": [
    "> Si ninguna de las dos condiciones es verdadera (es decir, la lista 'result' no está vacía y los intervalos se superponen),\n",
    "    ejecutamos el código en el bloque 'else':"
   ],
   "metadata": {
    "collapsed": false
   }
  },
  {
   "cell_type": "code",
   "execution_count": 9,
   "outputs": [],
   "source": [
    "a = [[1, 9], [2, 4], [3, 5], [10, 14]]"
   ],
   "metadata": {
    "collapsed": false,
    "ExecuteTime": {
     "end_time": "2023-08-17T09:39:24.273180100Z",
     "start_time": "2023-08-17T09:39:24.257544200Z"
    }
   }
  },
  {
   "cell_type": "code",
   "execution_count": 22,
   "outputs": [
    {
     "name": "stdout",
     "output_type": "stream",
     "text": [
      "En la vuelta nro 1, el resultado es []\n",
      "En esta instancia[-1][1] da este error list index out of range, aunque en el if funciona porquetoma a la otra condicion\n",
      "El valor de a que aún no esta en result es [[1, 9], [2, 4], [3, 5], [10, 14]]. Se apendea\n",
      "En la vuelta nro 1, el resultado es [[1, 9]]\n",
      "y el valor [-1][1] de result 9\n",
      "El valor max(result[-1][1], interval[1] es 9\n",
      "En la vuelta nro 1, el resultado es [[1, 9]]\n",
      "y el valor [-1][1] de result 9\n",
      "El valor max(result[-1][1], interval[1] es 9\n",
      "En la vuelta nro 1, el resultado es [[1, 9]]\n",
      "y el valor [-1][1] de result 9\n",
      "El valor de a que aún no esta en result es [[1, 9], [2, 4], [3, 5], [10, 14]]. Se apendea\n"
     ]
    }
   ],
   "source": [
    "result = []\n",
    "for interval in a:\n",
    "    i = 1    \n",
    "    print(f\"En la vuelta nro {i}, el resultado es {result}\") \n",
    "    i = i +1\n",
    "    \n",
    "    try:\n",
    "        print(f\"y el valor [-1][1] de result {result[-1][1]}\")\n",
    "    except Exception as e:\n",
    "        print(f\"En esta instancia[-1][1] da este error {e}, aunque en el if funciona porquetoma a la otra condicion\" )\n",
    "        \n",
    "    if not result or result[-1][1] < interval[0]:\n",
    "        print(f\"El valor de a que aún no esta en result es {a}. Se apendea\")\n",
    "        result.append(interval)\n",
    "    else:\n",
    "        # Aquí, actualizamos el final del último intervalo en 'result' para que sea el máximo entre el final del último intervalo\n",
    "        # y el final del intervalo actual. Esto efectivamente \"fusiona\" los dos intervalos superpuestos en uno.\n",
    "        result[-1][1] = max(result[-1][1], interval[1])\n",
    "        print(f\"El valor max(result[-1][1], interval[1] es {max(result[-1][1], interval[1])}\")\n",
    "        \n",
    "\n"
   ],
   "metadata": {
    "collapsed": false,
    "ExecuteTime": {
     "end_time": "2023-08-17T09:44:30.854164700Z",
     "start_time": "2023-08-17T09:44:30.822718700Z"
    }
   }
  },
  {
   "cell_type": "code",
   "execution_count": 23,
   "outputs": [
    {
     "data": {
      "text/plain": "[[1, 9], [10, 14]]"
     },
     "execution_count": 23,
     "metadata": {},
     "output_type": "execute_result"
    }
   ],
   "source": [
    "result"
   ],
   "metadata": {
    "collapsed": false,
    "ExecuteTime": {
     "end_time": "2023-08-17T10:51:03.836379700Z",
     "start_time": "2023-08-17T10:51:03.804736200Z"
    }
   }
  },
  {
   "cell_type": "code",
   "execution_count": null,
   "outputs": [],
   "source": [],
   "metadata": {
    "collapsed": false
   }
  }
 ],
 "metadata": {
  "kernelspec": {
   "display_name": "Python 3",
   "language": "python",
   "name": "python3"
  },
  "language_info": {
   "codemirror_mode": {
    "name": "ipython",
    "version": 2
   },
   "file_extension": ".py",
   "mimetype": "text/x-python",
   "name": "python",
   "nbconvert_exporter": "python",
   "pygments_lexer": "ipython2",
   "version": "2.7.6"
  }
 },
 "nbformat": 4,
 "nbformat_minor": 0
}
