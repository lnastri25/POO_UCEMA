{
 "cells": [
  {
   "cell_type": "code",
   "execution_count": 1,
   "id": "3386a2ac",
   "metadata": {},
   "outputs": [],
   "source": [
    "\n"
   ]
  },
  {
   "attachments": {},
   "cell_type": "markdown",
   "id": "63bfb5784e24e7b2",
   "metadata": {
    "collapsed": false
   },
   "source": [
    "## De entero a romano\n",
    "\n",
    "Los números romanos están representados por siete símbolos diferentes: I, V, X, L, C, D y M.\n",
    "\n",
    "Valor del símbolo\n",
    "I 1\n",
    "V 5\n",
    "X10\n",
    "L 50\n",
    "C 100\n",
    "D 500\n",
    "M 1000\n",
    "\n",
    "Por ejemplo, 2 se escribe como II en números romanos, solo se suman dos unos. 12 se escribe como XII, que es simplemente X + II. El número 27 se escribe como XXVII, que es XX + V + II.\n",
    "\n",
    "Los números romanos generalmente se escriben de mayor a menor de izquierda a derecha. Sin embargo, el numeral para cuatro no es IIII. En cambio, el número cuatro se escribe como IV. Como el uno está antes que el cinco lo restamos haciendo cuatro. El mismo principio se aplica al número nueve, que se escribe como IX. Hay seis casos en los que se usa la resta:\n",
    "\n",
    "Puedo colocarme antes de V (5) y X (10) para hacer 4 y 9.\n",
    "X se puede colocar antes de L (50) y C (100) para hacer 40 y 90.\n",
    "C se puede colocar antes de D (500) y M (1000) para hacer 400 y 900.\n",
    "Dado un número entero, conviértelo a un número romano.\n",
    "\n",
    " \n",
    "\n",
    "## Ejemplo 1:\n",
    "\n",
    "- Entrada: número = 3\n",
    "- Salida: \"III\"\n",
    "- Explicación: 3 se representa como 3 unos.\n",
    "\n",
    "## Ejemplo 2:\n",
    "\n",
    "- Entrada: número = 58\n",
    "- Salida: \"LVIII\"\n",
    "- Explicación: L = 50, V = 5, III = 3.\n",
    "\n",
    "## Ejemplo 3:\n",
    "\n",
    "- Entrada: núm = 1994\n",
    "- Salida: \"MCMXCIV\"\n",
    "- Explicación: M = 1000, CM = 900, XC = 90 y IV = 4"
   ]
  },
  {
   "cell_type": "code",
   "execution_count": null,
   "id": "db748f46de792517",
   "metadata": {
    "collapsed": false
   },
   "outputs": [],
   "source": [
    "\n"
   ]
  }
 ],
 "metadata": {
  "kernelspec": {
   "display_name": "Python 3",
   "language": "python",
   "name": "python3"
  },
  "language_info": {
   "codemirror_mode": {
    "name": "ipython",
    "version": 3
   },
   "file_extension": ".py",
   "mimetype": "text/x-python",
   "name": "python",
   "nbconvert_exporter": "python",
   "pygments_lexer": "ipython3",
   "version": "3.9.7"
  }
 },
 "nbformat": 4,
 "nbformat_minor": 5
}
