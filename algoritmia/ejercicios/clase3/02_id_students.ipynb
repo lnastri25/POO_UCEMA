{
 "cells": [
  {
   "cell_type": "markdown",
   "source": [
    "# Metodos de String"
   ],
   "metadata": {
    "collapsed": false
   }
  },
  {
   "cell_type": "markdown",
   "source": [
    "# Ejercicio 1. -> Dictonary, List, String\n",
    "\n",
    "You are a developer for a university. Your current project is to develop a system for students to find courses they share with friends. The university has a system for querying courses students are enrolled in, returned as a list of (ID, course) pairs.\n",
    "\n",
    "Write a function that takes in a collection of (student ID number, course name) pairs and returns, for every pair of students, a collection of all courses they share.\n",
    "\n",
    "**Sample Input:**\n",
    "\n",
    "```python\n",
    "enrollments1 = [\n",
    "  [\"58\", \"Linear Algebra\"],\n",
    "  [\"94\", \"Art History\"],\n",
    "  [\"94\", \"Operating Systems\"],\n",
    "  [\"17\", \"Software Design\"],\n",
    "  [\"58\", \"Mechanics\"],\n",
    "  [\"58\", \"Economics\"],\n",
    "  [\"17\", \"Linear Algebra\"],\n",
    "  [\"17\", \"Political Science\"],\n",
    "  [\"94\", \"Economics\"],\n",
    "  [\"25\", \"Economics\"],\n",
    "  [\"58\", \"Software Design\"],\n",
    "]\n",
    "```\n",
    "\n",
    "**Sample output:**\n",
    "```\n",
    "find_pairs(enrollments1) =>\n",
    "{\n",
    "  \"58,17\": [\"Software Design\", \"Linear Algebra\"]\n",
    "  \"58,94\": [\"Economics\"]\n",
    "  \"58,25\": [\"Economics\"]\n",
    "  \"94,25\": [\"Economics\"]\n",
    "  \"17,94\": []\n",
    "  \"17,25\": []\n",
    "}\n",
    "```\n",
    "#### Additional test cases:\n",
    "\n",
    "**Sample Input:**\n",
    "```\n",
    "enrollments2 = [\n",
    "  [\"0\", \"Advanced Mechanics\"],\n",
    "  [\"0\", \"Art History\"],\n",
    "  [\"1\", \"Course 1\"],\n",
    "  [\"1\", \"Course 2\"],\n",
    "  [\"2\", \"Computer Architecture\"],\n",
    "  [\"3\", \"Course 1\"],\n",
    "  [\"3\", \"Course 2\"],\n",
    "  [\"4\", \"Algorithms\"]\n",
    "]\n",
    "```\n",
    "\n",
    "**Sample output:**\n",
    "```\n",
    "find_pairs(enrollments2) =>\n",
    "{\n",
    "  \"1,0\":[]\n",
    "  \"2,0\":[]\n",
    "  \"2,1\":[]\n",
    "  \"3,0\":[]\n",
    "  \"3,1\":[\"Course 1\", \"Course 2\"]\n",
    "  \"3,2\":[]\n",
    "  \"4,0\":[]\n",
    "  \"4,1\":[]\n",
    "  \"4,2\":[]\n",
    "  \"4,3\":[]\n",
    "}\n",
    "```\n",
    "\n",
    "**Sample Input:**\n",
    "```\n",
    "enrollments3 = [\n",
    "  [\"23\", \"Software Design\"],\n",
    "  [\"3\", \"Advanced Mechanics\"],\n",
    "  [\"2\", \"Art History\"],\n",
    "  [\"33\", \"Another\"],\n",
    "]\n",
    "```\n",
    "\n",
    "**Sample output:**\n",
    "```\n",
    "find_pairs(enrollments3) =>\n",
    "{\n",
    "  \"23,3\": []\n",
    "  \"23,2\": []\n",
    "  \"23,33\":[]\n",
    "  \"3,2\":  []\n",
    "  \"3,33\": []\n",
    "  \"2,33\": []\n",
    "```\n"
   ],
   "metadata": {
    "collapsed": false
   }
  },
  {
   "cell_type": "markdown",
   "source": [
    "**All Test Cases:**\n",
    "find_pairs(enrollments1)\n",
    "find_pairs(enrollments2)\n",
    "find_pairs(enrollments3)\n",
    "\n",
    "**Complexity analysis variables:**\n",
    "\n",
    "n: number of student,course pairs in the input\n",
    "s: number of students\n",
    "c: total number of courses being offered (note: The number of courses any student can take is bounded by a small constant)"
   ],
   "metadata": {
    "collapsed": false
   }
  },
  {
   "cell_type": "code",
   "execution_count": 1,
   "outputs": [],
   "source": [
    "enrollments1 = [\n",
    "  [\"58\", \"Linear Algebra\"],\n",
    "  [\"94\", \"Art History\"],\n",
    "  [\"94\", \"Operating Systems\"],\n",
    "  [\"17\", \"Software Design\"],\n",
    "  [\"58\", \"Mechanics\"],\n",
    "  [\"58\", \"Economics\"],\n",
    "  [\"17\", \"Linear Algebra\"],\n",
    "  [\"17\", \"Political Science\"],\n",
    "  [\"94\", \"Economics\"],\n",
    "  [\"25\", \"Economics\"],\n",
    "  [\"58\", \"Software Design\"],\n",
    "]\n",
    "\n",
    "enrollments2 = [\n",
    "  [\"0\", \"Advanced Mechanics\"],\n",
    "  [\"0\", \"Art History\"],\n",
    "  [\"1\", \"Course 1\"],\n",
    "  [\"1\", \"Course 2\"],\n",
    "  [\"2\", \"Computer Architecture\"],\n",
    "  [\"3\", \"Course 1\"],\n",
    "  [\"3\", \"Course 2\"],\n",
    "  [\"4\", \"Algorithms\"],\n",
    "]\n",
    "\n",
    "enrollments3 = [\n",
    "  [\"23\", \"Software Design\"],\n",
    "  [\"3\", \"Advanced Mechanics\"],\n",
    "  [\"2\", \"Art History\"],\n",
    "  [\"33\", \"Another\"],\n",
    "]"
   ],
   "metadata": {
    "collapsed": false,
    "ExecuteTime": {
     "start_time": "2023-07-04T11:48:39.908409Z",
     "end_time": "2023-07-04T11:49:14.960832Z"
    }
   }
  }
 ],
 "metadata": {
  "kernelspec": {
   "display_name": "Python 3",
   "language": "python",
   "name": "python3"
  },
  "language_info": {
   "codemirror_mode": {
    "name": "ipython",
    "version": 2
   },
   "file_extension": ".py",
   "mimetype": "text/x-python",
   "name": "python",
   "nbconvert_exporter": "python",
   "pygments_lexer": "ipython2",
   "version": "2.7.6"
  }
 },
 "nbformat": 4,
 "nbformat_minor": 0
}
