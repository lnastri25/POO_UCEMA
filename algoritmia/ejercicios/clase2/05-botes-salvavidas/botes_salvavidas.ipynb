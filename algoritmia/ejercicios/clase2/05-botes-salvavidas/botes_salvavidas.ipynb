{
 "cells": [
  {
   "cell_type": "code",
   "execution_count": null,
   "metadata": {
    "collapsed": false,
    "pycharm": {
     "name": "#%%\n"
    }
   },
   "outputs": [],
   "source": [
    "!git clone https://github.com/federicomoreno613/UCEMA_2023.git\n",
    "!pip install ipytest\n",
    "import os\n",
    "from typing import List\n",
    "os.chdir('UCEMA_2023/part-1/clase2/05 - Botes salvavidas')"
   ]
  },
  {
   "attachments": {},
   "cell_type": "markdown",
   "metadata": {
    "collapsed": false,
    "pycharm": {
     "name": "#%% md\n"
    }
   },
   "source": [
    "# Barcos para salvar personas\n",
    "\n",
    "Se le proporciona una matriz de personas donde personas[i] es el peso de la i-ésima persona, y un número infinito de botes donde cada bote puede transportar un peso máximo de límite. \n",
    "\n",
    "Devolver el número mínimo de botes para llevar a cada persona dada.\n",
    "\n",
    "## Ejemplo 1:\n",
    "\n",
    "Entrada: personas = [1,2], límite = 3\n",
    "Salida: 1\n",
    "Explicación: 1 bote (1, 2)\n",
    "\n",
    "## Ejemplo 2:\n",
    "\n",
    "Entrada: personas = [3,2,2,1], límite = 3\n",
    "Salida: 3\n",
    "Explicación: 3 botes (1, 2), (2) y (3)\n",
    "\n",
    "## Ejemplo 3:\n",
    "\n",
    "Entrada: personas = [3,5,3,4], límite = 5\n",
    "Salida: 4\n",
    "Explicación: 4 botes (3), (3), (4), (5)\n",
    " "
   ]
  },
  {
   "cell_type": "code",
   "execution_count": 1,
   "metadata": {
    "ExecuteTime": {
     "end_time": "2023-08-02T22:28:12.809420900Z",
     "start_time": "2023-08-02T22:28:12.793689100Z"
    },
    "collapsed": false,
    "pycharm": {
     "name": "#%%\n"
    }
   },
   "outputs": [],
   "source": [
    "from typing import List\n",
    "\n",
    "def botes_salvavidas(personas: list[int], limite: int) -> int:\n",
    "    return "
   ]
  },
  {
   "cell_type": "code",
   "execution_count": null,
   "metadata": {
    "ExecuteTime": {
     "end_time": "2023-08-02T22:28:13.001761900Z",
     "start_time": "2023-08-02T22:28:12.954833700Z"
    },
    "collapsed": false,
    "pycharm": {
     "name": "#%%\n"
    }
   },
   "outputs": [],
   "source": []
  }
 ],
 "metadata": {
  "kernelspec": {
   "display_name": "Python 3",
   "language": "python",
   "name": "python3"
  },
  "language_info": {
   "codemirror_mode": {
    "name": "ipython",
    "version": 3
   },
   "file_extension": ".py",
   "mimetype": "text/x-python",
   "name": "python",
   "nbconvert_exporter": "python",
   "pygments_lexer": "ipython3",
   "version": "3.9.7"
  }
 },
 "nbformat": 4,
 "nbformat_minor": 0
}
