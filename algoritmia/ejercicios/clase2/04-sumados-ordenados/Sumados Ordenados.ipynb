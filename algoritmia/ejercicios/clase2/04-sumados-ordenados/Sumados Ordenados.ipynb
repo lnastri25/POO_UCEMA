{
 "cells": [
  {
   "attachments": {},
   "cell_type": "markdown",
   "metadata": {
    "collapsed": false,
    "pycharm": {
     "name": "#%% md\n"
    }
   },
   "source": [
    "# Two Sum II - La matriz de entrada está ordenada\n",
    "\n",
    "Dada una matriz de números enteros indexada en 1 que ya está ordenada en orden no decreciente, busque dos números que sumen un número objetivo específico. Sean estos dos números números[índice1] y números[índice2] donde 1 <= índice1 < índice2 < números.longitud.\n",
    "\n",
    "Devuelve los índices de los dos números, índice1 e índice2, sumados por uno como una matriz de enteros [índice1, índice2] de longitud 2.\n",
    "\n",
    "Las pruebas se generan de manera que haya exactamente una solución. No puede usar el mismo elemento dos veces.\n",
    "\n",
    "Su solución debe usar solo espacio adicional constante.\n",
    "\n",
    " \n",
    "\n",
    "## Ejemplo 1:\n",
    "\n",
    "Entrada: números = [2,7,11,15], objetivo = 9\n",
    "Salida: [1,2]\n",
    "Explicación: La suma de 2 y 7 es 9. Por lo tanto, índice1 = 1, índice2 = 2. Devolvemos [1, 2].\n",
    "\n",
    "## Ejemplo 2:\n",
    "\n",
    "Entrada: números = [2,3,4], objetivo = 6\n",
    "Salida: [1,3]\n",
    "Explicación: La suma de 2 y 4 es 6. Por lo tanto índice1 = 1, índice2 = 3. Devolvemos [1, 3].\n",
    "\n",
    "## Ejemplo 3:\n",
    "\n",
    "Entrada: números = [-1,0], objetivo = -1\n",
    "Salida: [1,2]\n",
    "Explicación: La suma de -1 y 0 es -1. Por lo tanto índice1 = 1, índice2 = 2. Devolvemos [1, 2].\n",
    " "
   ]
  },
  {
   "cell_type": "code",
   "execution_count": 1,
   "metadata": {
    "ExecuteTime": {
     "end_time": "2023-08-02T22:28:12.809420900Z",
     "start_time": "2023-08-02T22:28:12.793689100Z"
    },
    "collapsed": false,
    "pycharm": {
     "name": "#%%\n"
    }
   },
   "outputs": [],
   "source": [
    "from typing import List\n",
    "\n",
    "def sumados_ordenados(numbers: List[int], target: int) -> List[int]:\n",
    "    return \n",
    "\n",
    "\n"
   ]
  },
  {
   "cell_type": "code",
   "execution_count": 3,
   "metadata": {
    "ExecuteTime": {
     "end_time": "2023-08-02T22:28:12.954833700Z",
     "start_time": "2023-08-02T22:28:12.809420900Z"
    },
    "collapsed": false,
    "pycharm": {
     "name": "#%%\n"
    }
   },
   "outputs": [
    {
     "ename": "NameError",
     "evalue": "name 'sumados_ordenados' is not defined",
     "output_type": "error",
     "traceback": [
      "\u001b[0;31m---------------------------------------------------------------------------\u001b[0m",
      "\u001b[0;31mNameError\u001b[0m                                 Traceback (most recent call last)",
      "Cell \u001b[0;32mIn[3], line 3\u001b[0m\n\u001b[1;32m      1\u001b[0m \u001b[39mimport\u001b[39;00m \u001b[39mipytest\u001b[39;00m\n\u001b[1;32m      2\u001b[0m \u001b[39mfrom\u001b[39;00m \u001b[39msumados_ordenados\u001b[39;00m\u001b[39m.\u001b[39;00m\u001b[39mtest_sumados_ordenados\u001b[39;00m \u001b[39mimport\u001b[39;00m TestSumadosOrdenados\n\u001b[0;32m----> 3\u001b[0m TestSumadosOrdenados\u001b[39m.\u001b[39mvalidate_sumados_ordenados \u001b[39m=\u001b[39m sumados_ordenados\n\u001b[1;32m      4\u001b[0m ipytest\u001b[39m.\u001b[39mrun(\u001b[39m\"\u001b[39m\u001b[39m-vv\u001b[39m\u001b[39m\"\u001b[39m)\n",
      "\u001b[0;31mNameError\u001b[0m: name 'sumados_ordenados' is not defined"
     ]
    }
   ],
   "source": [
    "import ipytest\n",
    "from sumados_ordenados.test_sumados_ordenados import TestSumadosOrdenados\n",
    "TestSumadosOrdenados.validate_sumados_ordenados = sumados_ordenados\n",
    "ipytest.run(\"-vv\")"
   ]
  },
  {
   "cell_type": "code",
   "execution_count": null,
   "metadata": {
    "ExecuteTime": {
     "end_time": "2023-08-02T22:28:13.001761900Z",
     "start_time": "2023-08-02T22:28:12.954833700Z"
    },
    "collapsed": false,
    "pycharm": {
     "name": "#%%\n"
    }
   },
   "outputs": [],
   "source": []
  }
 ],
 "metadata": {
  "kernelspec": {
   "display_name": "Python 3",
   "language": "python",
   "name": "python3"
  },
  "language_info": {
   "codemirror_mode": {
    "name": "ipython",
    "version": 3
   },
   "file_extension": ".py",
   "mimetype": "text/x-python",
   "name": "python",
   "nbconvert_exporter": "python",
   "pygments_lexer": "ipython3",
   "version": "3.11.4"
  }
 },
 "nbformat": 4,
 "nbformat_minor": 0
}
