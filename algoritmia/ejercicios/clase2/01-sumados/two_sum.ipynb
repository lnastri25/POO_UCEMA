{
 "cells": [
  {
   "cell_type": "code",
   "execution_count": null,
   "metadata": {
    "collapsed": true
   },
   "outputs": [],
   "source": [
    "def two_sum_problem(arr, target):\n",
    "    pass\n",
    "\n",
    "\n",
    "assert two_sum_problem([1, 2, 3], 4) in [(0, 2), (2, 0)]\n",
    "assert two_sum_problem([1234, 5678, 9012], 14690) in [(1, 2), (2, 1)]\n",
    "assert two_sum_problem([2, 2, 3], 4) in [(0, 1), (1, 0)]\n",
    "assert two_sum_problem([2, 2], 4) in [(0, 1), (1, 0)]\n",
    "assert two_sum_problem([8, 7, 2, 5, 3, 1], 10) in [(0, 2), (2, 0), (1, 4), (4, 1)]"
   ]
  }
 ],
 "metadata": {
  "kernelspec": {
   "display_name": "Python 3",
   "language": "python",
   "name": "python3"
  },
  "language_info": {
   "codemirror_mode": {
    "name": "ipython",
    "version": 2
   },
   "file_extension": ".py",
   "mimetype": "text/x-python",
   "name": "python",
   "nbconvert_exporter": "python",
   "pygments_lexer": "ipython2",
   "version": "2.7.6"
  }
 },
 "nbformat": 4,
 "nbformat_minor": 0
}
