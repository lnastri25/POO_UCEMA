{
 "cells": [
  {
   "cell_type": "markdown",
   "metadata": {
    "collapsed": false
   },
   "source": [
    "# Metodos de String"
   ]
  },
  {
   "cell_type": "markdown",
   "metadata": {
    "collapsed": false
   },
   "source": [
    "# Ejercicio Entrevista. -> Dictonary, List, String\n",
    "\n",
    "You are a developer for a university. Your current project is to develop a system for students to find courses they share with friends. The university has a system for querying courses students are enrolled in, returned as a list of (ID, course) pairs.\n",
    "\n",
    "Write a function that takes in a collection of (student ID number, course name) pairs and returns, for every pair of students, a collection of all courses they share.\n",
    "\n",
    "**Sample Input:**\n",
    "\n",
    "```python\n",
    "enrollments1 = [\n",
    "  [\"58\", \"Linear Algebra\"],\n",
    "  [\"94\", \"Art History\"],\n",
    "  [\"94\", \"Operating Systems\"],\n",
    "  [\"17\", \"Software Design\"],\n",
    "  [\"58\", \"Mechanics\"],\n",
    "  [\"58\", \"Economics\"],\n",
    "  [\"17\", \"Linear Algebra\"],\n",
    "  [\"17\", \"Political Science\"],\n",
    "  [\"94\", \"Economics\"],\n",
    "  [\"25\", \"Economics\"],\n",
    "  [\"58\", \"Software Design\"],\n",
    "]\n",
    "```\n",
    "\n",
    "**Sample output:**\n",
    "```\n",
    "find_pairs(enrollments1) =>\n",
    "{\n",
    "  \"58,17\": [\"Software Design\", \"Linear Algebra\"]\n",
    "  \"58,94\": [\"Economics\"]\n",
    "  \"58,25\": [\"Economics\"]\n",
    "  \"94,25\": [\"Economics\"]\n",
    "  \"17,94\": []\n",
    "  \"17,25\": []\n",
    "}\n",
    "```\n",
    "#### Additional test cases:\n",
    "\n",
    "**Sample Input:**\n",
    "```\n",
    "enrollments2 = [\n",
    "  [\"0\", \"Advanced Mechanics\"],\n",
    "  [\"0\", \"Art History\"],\n",
    "  [\"1\", \"Course 1\"],\n",
    "  [\"1\", \"Course 2\"],\n",
    "  [\"2\", \"Computer Architecture\"],\n",
    "  [\"3\", \"Course 1\"],\n",
    "  [\"3\", \"Course 2\"],\n",
    "  [\"4\", \"Algorithms\"]\n",
    "]\n",
    "```\n",
    "\n",
    "**Sample output:**\n",
    "```\n",
    "find_pairs(enrollments2) =>\n",
    "{\n",
    "  \"1,0\":[]\n",
    "  \"2,0\":[]\n",
    "  \"2,1\":[]\n",
    "  \"3,0\":[]\n",
    "  \"3,1\":[\"Course 1\", \"Course 2\"]\n",
    "  \"3,2\":[]\n",
    "  \"4,0\":[]\n",
    "  \"4,1\":[]\n",
    "  \"4,2\":[]\n",
    "  \"4,3\":[]\n",
    "}\n",
    "```\n",
    "\n",
    "**Sample Input:**\n",
    "```\n",
    "enrollments3 = [\n",
    "  [\"23\", \"Software Design\"],\n",
    "  [\"3\", \"Advanced Mechanics\"],\n",
    "  [\"2\", \"Art History\"],\n",
    "  [\"33\", \"Another\"],\n",
    "]\n",
    "```\n",
    "\n",
    "**Sample output:**\n",
    "```\n",
    "find_pairs(enrollments3) =>\n",
    "{\n",
    "  \"23,3\": []\n",
    "  \"23,2\": []\n",
    "  \"23,33\":[]\n",
    "  \"3,2\":  []\n",
    "  \"3,33\": []\n",
    "  \"2,33\": []\n",
    "```\n"
   ]
  },
  {
   "cell_type": "markdown",
   "metadata": {
    "collapsed": false
   },
   "source": [
    "**All Test Cases:**\n",
    "find_pairs(enrollments1)\n",
    "find_pairs(enrollments2)\n",
    "find_pairs(enrollments3)\n",
    "\n",
    "**Complexity analysis variables:**\n",
    "\n",
    "n: number of student,course pairs in the input\n",
    "s: number of students\n",
    "c: total number of courses being offered (note: The number of courses any student can take is bounded by a small constant)"
   ]
  },
  {
   "cell_type": "code",
   "execution_count": 27,
   "metadata": {
    "ExecuteTime": {
     "end_time": "2023-07-04T11:49:14.960832Z",
     "start_time": "2023-07-04T11:48:39.908409Z"
    },
    "collapsed": false
   },
   "outputs": [],
   "source": [
    "enrollments1 = [\n",
    "  [\"58\", \"Linear Algebra\"],\n",
    "  [\"94\", \"Art History\"],\n",
    "  [\"94\", \"Operating Systems\"],\n",
    "  [\"17\", \"Software Design\"],\n",
    "  [\"58\", \"Mechanics\"],\n",
    "  [\"58\", \"Economics\"],\n",
    "  [\"17\", \"Linear Algebra\"],\n",
    "  [\"17\", \"Political Science\"],\n",
    "  [\"94\", \"Economics\"],\n",
    "  [\"25\", \"Economics\"],\n",
    "  [\"58\", \"Software Design\"],\n",
    "]\n",
    "\n",
    "enrollments2 = [\n",
    "  [\"0\", \"Advanced Mechanics\"],\n",
    "  [\"0\", \"Art History\"],\n",
    "  [\"1\", \"Course 1\"],\n",
    "  [\"1\", \"Course 2\"],\n",
    "  [\"2\", \"Computer Architecture\"],\n",
    "  [\"3\", \"Course 1\"],\n",
    "  [\"3\", \"Course 2\"],\n",
    "  [\"4\", \"Algorithms\"],\n",
    "]\n",
    "\n",
    "enrollments3 = [\n",
    "  [\"23\", \"Software Design\"],\n",
    "  [\"3\", \"Advanced Mechanics\"],\n",
    "  [\"2\", \"Art History\"],\n",
    "  [\"33\", \"Another\"],\n",
    "]"
   ]
  },
  {
   "cell_type": "markdown",
   "metadata": {
    "collapsed": false
   },
   "source": [
    "# Arrays\n",
    "\n",
    "Como iterar por un array. Los indices determinan el orden de los elementos en el array. Los indices son enteros y consecutivos. El primer elemento tiene indice 0 y el ultimo tiene indice n-1. El array tiene un tamaño fijo, no se puede cambiar. Se puede acceder a los elementos del array en tiempo constante. Se puede insertar un elemento en el array en tiempo lineal. Se puede eliminar un elemento en tiempo lineal."
   ]
  },
  {
   "cell_type": "code",
   "execution_count": 28,
   "metadata": {
    "ExecuteTime": {
     "end_time": "2023-07-04T11:49:14.965667Z",
     "start_time": "2023-07-04T11:48:39.920978Z"
    },
    "collapsed": false
   },
   "outputs": [
    {
     "name": "stdout",
     "output_type": "stream",
     "text": [
      "[['58', 'Linear Algebra'], ['94', 'Art History'], ['94', 'Operating Systems'], ['17', 'Software Design'], ['58', 'Mechanics'], ['58', 'Economics'], ['17', 'Linear Algebra'], ['17', 'Political Science'], ['94', 'Economics'], ['25', 'Economics'], ['58', 'Software Design']]\n"
     ]
    }
   ],
   "source": [
    "print(enrollments1)"
   ]
  },
  {
   "cell_type": "code",
   "execution_count": 29,
   "metadata": {
    "ExecuteTime": {
     "end_time": "2023-07-04T11:49:14.976603Z",
     "start_time": "2023-07-04T11:48:39.921082Z"
    },
    "collapsed": false
   },
   "outputs": [
    {
     "name": "stdout",
     "output_type": "stream",
     "text": [
      "Iteracion: 0\n",
      "['58', 'Linear Algebra']\n",
      "Iteracion: 1\n",
      "['94', 'Art History']\n",
      "Iteracion: 2\n",
      "['94', 'Operating Systems']\n",
      "Iteracion: 3\n",
      "['17', 'Software Design']\n",
      "Iteracion: 4\n",
      "['58', 'Mechanics']\n",
      "Iteracion: 5\n",
      "['58', 'Economics']\n",
      "Iteracion: 6\n",
      "['17', 'Linear Algebra']\n",
      "Iteracion: 7\n",
      "['17', 'Political Science']\n",
      "Iteracion: 8\n",
      "['94', 'Economics']\n",
      "Iteracion: 9\n",
      "['25', 'Economics']\n",
      "Iteracion: 10\n",
      "['58', 'Software Design']\n"
     ]
    }
   ],
   "source": [
    "contador = 0\n",
    "for data in enrollments1:\n",
    "    print(\"Iteracion: \" + str(contador))\n",
    "    print(data)\n",
    "    contador += 1"
   ]
  },
  {
   "cell_type": "markdown",
   "metadata": {
    "collapsed": false
   },
   "source": [
    "## Indices"
   ]
  },
  {
   "cell_type": "code",
   "execution_count": 30,
   "metadata": {
    "ExecuteTime": {
     "end_time": "2023-07-04T11:49:14.984415Z",
     "start_time": "2023-07-04T11:49:14.982883Z"
    },
    "collapsed": false
   },
   "outputs": [
    {
     "name": "stdout",
     "output_type": "stream",
     "text": [
      "['58', 'Linear Algebra']\n"
     ]
    }
   ],
   "source": [
    "print(enrollments1[0])"
   ]
  },
  {
   "cell_type": "code",
   "execution_count": 31,
   "metadata": {
    "ExecuteTime": {
     "end_time": "2023-07-04T11:49:15.041922Z",
     "start_time": "2023-07-04T11:49:14.991036Z"
    },
    "collapsed": false
   },
   "outputs": [
    {
     "name": "stdout",
     "output_type": "stream",
     "text": [
      "58\n"
     ]
    }
   ],
   "source": [
    "print(enrollments1[0][0])"
   ]
  },
  {
   "cell_type": "markdown",
   "metadata": {
    "collapsed": false
   },
   "source": [
    "Recordar: En python el indice 0 es el primer elemento y el indice -1 es el ultimo elemento."
   ]
  },
  {
   "cell_type": "code",
   "execution_count": 32,
   "metadata": {
    "ExecuteTime": {
     "end_time": "2023-07-04T11:49:15.043205Z",
     "start_time": "2023-07-04T11:49:14.999069Z"
    },
    "collapsed": false
   },
   "outputs": [
    {
     "name": "stdout",
     "output_type": "stream",
     "text": [
      "ID: 58, Course: Linear Algebra\n",
      "ID: 94, Course: Art History\n",
      "ID: 94, Course: Operating Systems\n",
      "ID: 17, Course: Software Design\n",
      "ID: 58, Course: Mechanics\n",
      "ID: 58, Course: Economics\n",
      "ID: 17, Course: Linear Algebra\n",
      "ID: 17, Course: Political Science\n",
      "ID: 94, Course: Economics\n",
      "ID: 25, Course: Economics\n",
      "ID: 58, Course: Software Design\n"
     ]
    }
   ],
   "source": [
    "for data in enrollments1:\n",
    "    id = data[0]\n",
    "    course = data[1]\n",
    "    print(f\"ID: {id}, Course: {course}\")"
   ]
  },
  {
   "cell_type": "markdown",
   "metadata": {
    "collapsed": false
   },
   "source": [
    "# Diccionarios\n",
    "\n",
    "En python un diccionario es una estructura de datos que permite almacenar pares de clave-valor. Las claves son unicas y los valores pueden ser cualquier tipo de dato. Los diccionarios son mutables, se pueden agregar y eliminar elementos. Los diccionarios no tienen orden, no se puede acceder a los elementos por indice. Se puede acceder a los elementos en tiempo constante. Se puede insertar un elemento en tiempo constante. Se puede eliminar un elemento en tiempo constante."
   ]
  },
  {
   "cell_type": "code",
   "execution_count": 33,
   "metadata": {
    "ExecuteTime": {
     "end_time": "2023-07-04T11:49:15.043675Z",
     "start_time": "2023-07-04T11:49:15.007800Z"
    },
    "collapsed": false
   },
   "outputs": [],
   "source": [
    "diccionario_ejemplo = {\"key1\": \"value1\", \"key2\": \"value2\"}"
   ]
  },
  {
   "cell_type": "code",
   "execution_count": 34,
   "metadata": {
    "ExecuteTime": {
     "end_time": "2023-07-04T11:49:15.046266Z",
     "start_time": "2023-07-04T11:49:15.014558Z"
    },
    "collapsed": false
   },
   "outputs": [
    {
     "name": "stdout",
     "output_type": "stream",
     "text": [
      "value1\n"
     ]
    }
   ],
   "source": [
    "print(diccionario_ejemplo[\"key1\"])"
   ]
  },
  {
   "cell_type": "code",
   "execution_count": 35,
   "metadata": {
    "ExecuteTime": {
     "end_time": "2023-07-04T11:49:15.046980Z",
     "start_time": "2023-07-04T11:49:15.024414Z"
    },
    "collapsed": false
   },
   "outputs": [],
   "source": [
    "diccionario_ejemplo[\"key3\"] = \"value3\""
   ]
  },
  {
   "cell_type": "code",
   "execution_count": 36,
   "metadata": {
    "ExecuteTime": {
     "end_time": "2023-07-04T11:49:15.048411Z",
     "start_time": "2023-07-04T11:49:15.035502Z"
    },
    "collapsed": false
   },
   "outputs": [
    {
     "name": "stdout",
     "output_type": "stream",
     "text": [
      "{'key1': 'value1', 'key2': 'value2', 'key3': 'value3'}\n"
     ]
    }
   ],
   "source": [
    "print(diccionario_ejemplo)"
   ]
  },
  {
   "cell_type": "markdown",
   "metadata": {
    "collapsed": false
   },
   "source": [
    "Puedo poner el ID del alumno como key del diccionario y como valor una lista con los cursos que esta cursando."
   ]
  },
  {
   "cell_type": "code",
   "execution_count": 37,
   "metadata": {
    "ExecuteTime": {
     "end_time": "2023-07-04T11:49:15.054127Z",
     "start_time": "2023-07-04T11:49:15.046154Z"
    },
    "collapsed": false
   },
   "outputs": [],
   "source": [
    "diccionario_alumnos = {}\n",
    "for data in enrollments1:\n",
    "    id = data[0]\n",
    "    course = data[1]\n",
    "    diccionario_alumnos[id] = [course]"
   ]
  },
  {
   "cell_type": "code",
   "execution_count": 38,
   "metadata": {
    "ExecuteTime": {
     "end_time": "2023-07-04T11:49:15.161488Z",
     "start_time": "2023-07-04T11:49:15.058960Z"
    },
    "collapsed": false
   },
   "outputs": [
    {
     "data": {
      "text/plain": [
       "{'58': ['Software Design'],\n",
       " '94': ['Economics'],\n",
       " '17': ['Political Science'],\n",
       " '25': ['Economics']}"
      ]
     },
     "execution_count": 38,
     "metadata": {},
     "output_type": "execute_result"
    }
   ],
   "source": [
    "diccionario_alumnos"
   ]
  },
  {
   "cell_type": "code",
   "execution_count": 39,
   "metadata": {
    "ExecuteTime": {
     "end_time": "2023-07-04T11:49:15.162434Z",
     "start_time": "2023-07-04T11:49:15.068785Z"
    },
    "collapsed": false
   },
   "outputs": [
    {
     "data": {
      "text/plain": [
       "[['58', 'Linear Algebra'],\n",
       " ['94', 'Art History'],\n",
       " ['94', 'Operating Systems'],\n",
       " ['17', 'Software Design'],\n",
       " ['58', 'Mechanics'],\n",
       " ['58', 'Economics'],\n",
       " ['17', 'Linear Algebra'],\n",
       " ['17', 'Political Science'],\n",
       " ['94', 'Economics'],\n",
       " ['25', 'Economics'],\n",
       " ['58', 'Software Design']]"
      ]
     },
     "execution_count": 39,
     "metadata": {},
     "output_type": "execute_result"
    }
   ],
   "source": [
    "enrollments1\n"
   ]
  },
  {
   "cell_type": "markdown",
   "metadata": {
    "collapsed": false
   },
   "source": [
    "¿Pueden ver el problema con el codigo anterior?"
   ]
  },
  {
   "cell_type": "code",
   "execution_count": 40,
   "metadata": {
    "ExecuteTime": {
     "end_time": "2023-07-04T11:49:15.163732Z",
     "start_time": "2023-07-04T11:49:15.080942Z"
    },
    "collapsed": false
   },
   "outputs": [
    {
     "name": "stdout",
     "output_type": "stream",
     "text": [
      "ID: 58, Course: Linear Algebra\n",
      "ID: 58, Course: Mechanics\n",
      "ID: 58, Course: Economics\n",
      "ID: 58, Course: Software Design\n"
     ]
    }
   ],
   "source": [
    "#hago un loop para filtrar al alumno 58\n",
    "for data in enrollments1:\n",
    "    id = data[0]\n",
    "    course = data[1]\n",
    "    if id == \"58\":\n",
    "        print(f\"ID: {id}, Course: {course}\")"
   ]
  },
  {
   "cell_type": "code",
   "execution_count": 41,
   "metadata": {
    "ExecuteTime": {
     "end_time": "2023-07-04T11:49:15.165700Z",
     "start_time": "2023-07-04T11:49:15.091348Z"
    },
    "collapsed": false
   },
   "outputs": [
    {
     "data": {
      "text/plain": [
       "['Software Design']"
      ]
     },
     "execution_count": 41,
     "metadata": {},
     "output_type": "execute_result"
    }
   ],
   "source": [
    "#chequeo el diccionario tmb en el alumno 58\n",
    "diccionario_alumnos[\"58\"]"
   ]
  },
  {
   "cell_type": "markdown",
   "metadata": {
    "collapsed": false
   },
   "source": [
    "## Append\n",
    "\n",
    "Para solucionar el problema anterior, en vez de asignar una lista con un solo elemento, podemos ir agregando elementos a la lista."
   ]
  },
  {
   "cell_type": "code",
   "execution_count": 42,
   "metadata": {
    "ExecuteTime": {
     "end_time": "2023-07-04T11:49:15.166980Z",
     "start_time": "2023-07-04T11:49:15.099936Z"
    },
    "collapsed": false
   },
   "outputs": [
    {
     "data": {
      "text/plain": [
       "{'58': []}"
      ]
     },
     "execution_count": 42,
     "metadata": {},
     "output_type": "execute_result"
    }
   ],
   "source": [
    "diccionario_alumnos_test = {}\n",
    "diccionario_alumnos_test[\"58\"] = []\n",
    "diccionario_alumnos_test"
   ]
  },
  {
   "cell_type": "code",
   "execution_count": 43,
   "metadata": {
    "ExecuteTime": {
     "end_time": "2023-07-04T11:49:15.170252Z",
     "start_time": "2023-07-04T11:49:15.111405Z"
    },
    "collapsed": false
   },
   "outputs": [
    {
     "data": {
      "text/plain": [
       "{'58': ['Linear Algebra']}"
      ]
     },
     "execution_count": 43,
     "metadata": {},
     "output_type": "execute_result"
    }
   ],
   "source": [
    "diccionario_alumnos_test[\"58\"].append(\"Linear Algebra\")\n",
    "diccionario_alumnos_test"
   ]
  },
  {
   "cell_type": "code",
   "execution_count": 44,
   "metadata": {
    "ExecuteTime": {
     "end_time": "2023-07-04T11:49:15.170945Z",
     "start_time": "2023-07-04T11:49:15.122520Z"
    },
    "collapsed": false
   },
   "outputs": [],
   "source": [
    "diccionario_alumnos_test[\"58\"].append(\"Mechanics\")"
   ]
  },
  {
   "cell_type": "code",
   "execution_count": 45,
   "metadata": {
    "ExecuteTime": {
     "end_time": "2023-07-04T11:49:15.173432Z",
     "start_time": "2023-07-04T11:49:15.129693Z"
    },
    "collapsed": false
   },
   "outputs": [
    {
     "data": {
      "text/plain": [
       "{'58': ['Linear Algebra', 'Mechanics']}"
      ]
     },
     "execution_count": 45,
     "metadata": {},
     "output_type": "execute_result"
    }
   ],
   "source": [
    "diccionario_alumnos_test"
   ]
  },
  {
   "cell_type": "code",
   "execution_count": 46,
   "metadata": {
    "ExecuteTime": {
     "end_time": "2023-07-04T11:49:15.175057Z",
     "start_time": "2023-07-04T11:49:15.140584Z"
    },
    "collapsed": false
   },
   "outputs": [
    {
     "data": {
      "text/plain": [
       "{'58': ['Linear Algebra', 'Mechanics', 'Economics']}"
      ]
     },
     "execution_count": 46,
     "metadata": {},
     "output_type": "execute_result"
    }
   ],
   "source": [
    "diccionario_alumnos_test[\"58\"].append(\"Economics\")\n",
    "diccionario_alumnos_test"
   ]
  },
  {
   "cell_type": "markdown",
   "metadata": {
    "collapsed": false
   },
   "source": [
    "Solucionamos el problema anterior, pero ahora tenemos otro problema. Si el alumno 58 cursa dos veces el mismo curso, el curso se va a repetir en la lista."
   ]
  },
  {
   "cell_type": "code",
   "execution_count": 47,
   "metadata": {
    "ExecuteTime": {
     "end_time": "2023-07-04T11:49:15.176632Z",
     "start_time": "2023-07-04T11:49:15.152151Z"
    },
    "collapsed": false
   },
   "outputs": [
    {
     "data": {
      "text/plain": [
       "{'58': ['Linear Algebra', 'Mechanics', 'Economics', 'Software Design'],\n",
       " '94': ['Art History', 'Operating Systems', 'Economics'],\n",
       " '17': ['Software Design', 'Linear Algebra', 'Political Science'],\n",
       " '25': ['Economics']}"
      ]
     },
     "execution_count": 47,
     "metadata": {},
     "output_type": "execute_result"
    }
   ],
   "source": [
    "diccionario_alumnos = {}\n",
    "for data in enrollments1:\n",
    "    id = data[0]\n",
    "    course = data[1]\n",
    "    if id in diccionario_alumnos:\n",
    "        diccionario_alumnos[id].append(course)\n",
    "    else:\n",
    "        diccionario_alumnos[id] = [course]\n",
    "\n",
    "diccionario_alumnos"
   ]
  },
  {
   "cell_type": "markdown",
   "metadata": {
    "collapsed": false
   },
   "source": [
    "## Find pairs\n",
    "\n",
    "**Sample output:**\n",
    "```\n",
    "find_pairs(enrollments1) =>\n",
    "{\n",
    "  \"58,17\": [\"Software Design\", \"Linear Algebra\"]\n",
    "  \"58,94\": [\"Economics\"]\n",
    "  \"58,25\": [\"Economics\"]\n",
    "  \"94,25\": [\"Economics\"]\n",
    "  \"17,94\": []\n",
    "  \"17,25\": []\n",
    "}\n",
    "```\n",
    "Queremos quedarnos con los pares que compartan al menos un curso.\n",
    "1. Queremos primero saber por cursos que alumnos estan cursandondolo\n",
    "2. Queremos quedarnos con los pares que comparten cada curso\n",
    "3. Queremos devolver un diccionario con los pares y los cursos que comparten"
   ]
  },
  {
   "cell_type": "markdown",
   "metadata": {
    "collapsed": false
   },
   "source": [
    "## key or value\n",
    "key del diccionario -> curso\n",
    "value -> lista de alumnos que lo cursan"
   ]
  },
  {
   "cell_type": "code",
   "execution_count": 48,
   "metadata": {
    "ExecuteTime": {
     "end_time": "2023-07-04T11:49:15.177038Z",
     "start_time": "2023-07-04T11:49:15.162357Z"
    },
    "collapsed": false
   },
   "outputs": [],
   "source": [
    "diccionario_cursos = {}\n",
    "for data in enrollments1:\n",
    "    id = data[0]\n",
    "    course = data[1]\n",
    "    if course in diccionario_cursos:\n",
    "        diccionario_cursos[course].append(id)\n",
    "    else:\n",
    "        diccionario_cursos[course] = [id]"
   ]
  },
  {
   "cell_type": "code",
   "execution_count": 49,
   "metadata": {
    "ExecuteTime": {
     "end_time": "2023-07-04T11:49:15.343571Z",
     "start_time": "2023-07-04T11:49:15.173209Z"
    },
    "collapsed": false
   },
   "outputs": [
    {
     "data": {
      "text/plain": [
       "{'Linear Algebra': ['58', '17'],\n",
       " 'Art History': ['94'],\n",
       " 'Operating Systems': ['94'],\n",
       " 'Software Design': ['17', '58'],\n",
       " 'Mechanics': ['58'],\n",
       " 'Economics': ['58', '94', '25'],\n",
       " 'Political Science': ['17']}"
      ]
     },
     "execution_count": 49,
     "metadata": {},
     "output_type": "execute_result"
    }
   ],
   "source": [
    "diccionario_cursos"
   ]
  },
  {
   "cell_type": "markdown",
   "metadata": {
    "collapsed": false
   },
   "source": [
    "## Pairs of students"
   ]
  },
  {
   "cell_type": "code",
   "execution_count": 50,
   "metadata": {
    "ExecuteTime": {
     "end_time": "2023-07-04T11:49:15.344200Z",
     "start_time": "2023-07-04T11:49:15.184731Z"
    },
    "collapsed": false
   },
   "outputs": [
    {
     "data": {
      "text/plain": [
       "['17', '58']"
      ]
     },
     "execution_count": 50,
     "metadata": {},
     "output_type": "execute_result"
    }
   ],
   "source": [
    "diccionario_cursos[\"Software Design\"]"
   ]
  },
  {
   "cell_type": "code",
   "execution_count": 51,
   "metadata": {
    "ExecuteTime": {
     "end_time": "2023-07-04T11:49:15.345384Z",
     "start_time": "2023-07-04T11:49:15.194839Z"
    },
    "collapsed": false
   },
   "outputs": [
    {
     "name": "stdout",
     "output_type": "stream",
     "text": [
      "Linear Algebra\n",
      "['58', '17']\n",
      "Art History\n",
      "['94']\n",
      "Operating Systems\n",
      "['94']\n",
      "Software Design\n",
      "['17', '58']\n",
      "Mechanics\n",
      "['58']\n",
      "Economics\n",
      "['58', '94', '25']\n",
      "Political Science\n",
      "['17']\n"
     ]
    }
   ],
   "source": [
    "for course, students in diccionario_cursos.items():\n",
    "    print(course)\n",
    "    print(students)"
   ]
  },
  {
   "cell_type": "markdown",
   "metadata": {
    "collapsed": false
   },
   "source": [
    "Anido loops para quedamre con pares"
   ]
  },
  {
   "cell_type": "code",
   "execution_count": 52,
   "metadata": {
    "ExecuteTime": {
     "end_time": "2023-05-21T16:39:08.338744Z",
     "start_time": "2023-05-21T16:39:08.304565Z"
    },
    "collapsed": false
   },
   "outputs": [
    {
     "ename": "TypeError",
     "evalue": "unhashable type: 'list'",
     "output_type": "error",
     "traceback": [
      "\u001b[0;31m---------------------------------------------------------------------------\u001b[0m",
      "\u001b[0;31mTypeError\u001b[0m                                 Traceback (most recent call last)",
      "Cell \u001b[0;32mIn[52], line 4\u001b[0m\n\u001b[1;32m      2\u001b[0m diccionario_pares \u001b[39m=\u001b[39m {}\n\u001b[1;32m      3\u001b[0m \u001b[39mfor\u001b[39;00m course, students \u001b[39min\u001b[39;00m diccionario_cursos\u001b[39m.\u001b[39mitems():\n\u001b[0;32m----> 4\u001b[0m     diccionario_pares[students] \u001b[39m=\u001b[39m course\n",
      "\u001b[0;31mTypeError\u001b[0m: unhashable type: 'list'"
     ]
    }
   ],
   "source": [
    "#armo un diccinoario entonce con los pares\n",
    "diccionario_pares = {}\n",
    "for course, students in diccionario_cursos.items():\n",
    "    diccionario_pares[students] = course"
   ]
  },
  {
   "cell_type": "markdown",
   "metadata": {
    "collapsed": false
   },
   "source": [
    "¿Cual es el problema?"
   ]
  },
  {
   "cell_type": "markdown",
   "metadata": {
    "collapsed": false
   },
   "source": [
    "Un diccionario solo puede tener una key por cada valor. En este caso, la key es una lista, y las listas son mutables. No se pueden usar como key de un diccionario."
   ]
  },
  {
   "cell_type": "markdown",
   "metadata": {
    "collapsed": false
   },
   "source": [
    "# String methods: join"
   ]
  },
  {
   "cell_type": "code",
   "execution_count": 53,
   "metadata": {
    "ExecuteTime": {
     "end_time": "2023-05-23T09:24:51.478161Z",
     "start_time": "2023-05-23T09:24:51.469200Z"
    },
    "collapsed": false
   },
   "outputs": [
    {
     "data": {
      "text/plain": [
       "'a b c'"
      ]
     },
     "execution_count": 53,
     "metadata": {},
     "output_type": "execute_result"
    }
   ],
   "source": [
    "#join me permite unir elementos de una lista en un string\n",
    "lista = [\"a\", \"b\", \"c\"]\n",
    "\" \".join(lista)"
   ]
  },
  {
   "cell_type": "code",
   "execution_count": 54,
   "metadata": {
    "ExecuteTime": {
     "end_time": "2023-05-23T09:24:52.081540Z",
     "start_time": "2023-05-23T09:24:52.072833Z"
    },
    "collapsed": false
   },
   "outputs": [
    {
     "data": {
      "text/plain": [
       "'a,b,c'"
      ]
     },
     "execution_count": 54,
     "metadata": {},
     "output_type": "execute_result"
    }
   ],
   "source": [
    "#notar que join puede hacer con otros caracteres\n",
    "lista = [\"a\", \"b\", \"c\"]\n",
    "\",\".join(lista)"
   ]
  },
  {
   "cell_type": "code",
   "execution_count": 55,
   "metadata": {
    "ExecuteTime": {
     "end_time": "2023-05-23T09:24:52.646094Z",
     "start_time": "2023-05-23T09:24:52.636869Z"
    },
    "collapsed": false
   },
   "outputs": [
    {
     "data": {
      "text/plain": [
       "'3+4+5'"
      ]
     },
     "execution_count": 55,
     "metadata": {},
     "output_type": "execute_result"
    }
   ],
   "source": [
    "lista = [\"3\", \"4\", \"5\"]\n",
    "\"+\".join(lista)"
   ]
  },
  {
   "cell_type": "code",
   "execution_count": 56,
   "metadata": {
    "ExecuteTime": {
     "end_time": "2023-05-23T09:24:53.230001Z",
     "start_time": "2023-05-23T09:24:53.218703Z"
    },
    "collapsed": false
   },
   "outputs": [
    {
     "name": "stdout",
     "output_type": "stream",
     "text": [
      "['Federico Moreno', 'Florencia Moreno', 'Félix Moreno']\n"
     ]
    }
   ],
   "source": [
    "apellido = \" Moreno\"\n",
    "nombres = [\"Federico\",\"Florencia\",\"Félix\"]\n",
    "\n",
    "#quiero crear una nueva lista con el nombre mas apellido de la familia moreno\n",
    "integrantes = []\n",
    "for nombre in nombres:\n",
    "    nombre_completo = nombre + apellido\n",
    "    integrantes.append(nombre_completo)\n",
    "\n",
    "print(integrantes)\n",
    "\n"
   ]
  },
  {
   "cell_type": "code",
   "execution_count": 59,
   "metadata": {
    "ExecuteTime": {
     "end_time": "2023-05-23T09:24:55.883222Z",
     "start_time": "2023-05-23T09:24:55.865705Z"
    },
    "collapsed": false
   },
   "outputs": [
    {
     "name": "stdout",
     "output_type": "stream",
     "text": [
      "Itero entre cada elemento del diccionario que es una lista y joineo \n",
      "58,17\n",
      "94\n",
      "94\n",
      "17,58\n",
      "58\n",
      "58,94,25\n",
      "17\n"
     ]
    }
   ],
   "source": [
    "#ejempl con el diccionario\n",
    "print(\"Itero entre cada elemento del diccionario que es una lista y joineo \")\n",
    "for course, students in diccionario_cursos.items():\n",
    "    print(\",\".join(students))\n"
   ]
  },
  {
   "cell_type": "markdown",
   "metadata": {
    "collapsed": false
   },
   "source": [
    "Repaso el output esperado\n",
    "**Sample output:**\n",
    "```\n",
    "find_pairs(enrollments1) =>\n",
    "{\n",
    "  \"58,17\": [\"Software Design\", \"Linear Algebra\"]\n",
    "  \"58,94\": [\"Economics\"]\n",
    "  \"58,25\": [\"Economics\"]\n",
    "  \"94,25\": [\"Economics\"]\n",
    "  \"17,94\": []\n",
    "  \"17,25\": []\n",
    "}\n",
    "```"
   ]
  },
  {
   "cell_type": "code",
   "execution_count": 60,
   "metadata": {
    "ExecuteTime": {
     "end_time": "2023-05-23T09:30:02.046768Z",
     "start_time": "2023-05-23T09:30:02.017728Z"
    },
    "collapsed": false
   },
   "outputs": [
    {
     "data": {
      "text/plain": [
       "{'58,17': 'Linear Algebra',\n",
       " '17,58': 'Software Design',\n",
       " '58,94,25': 'Economics'}"
      ]
     },
     "execution_count": 60,
     "metadata": {},
     "output_type": "execute_result"
    }
   ],
   "source": [
    "#para resolver el problema anterior, voy a hacer un set de los pares\n",
    "diccionario_pares = {}\n",
    "for course, students in diccionario_cursos.items():\n",
    "    if len(students) > 1:\n",
    "        diccionario_pares[\",\".join(students)] = course\n",
    "\n",
    "diccionario_pares"
   ]
  },
  {
   "cell_type": "markdown",
   "metadata": {
    "collapsed": false
   },
   "source": [
    "\n",
    "#### Solo diccionario_pares"
   ]
  },
  {
   "cell_type": "code",
   "execution_count": 61,
   "metadata": {
    "ExecuteTime": {
     "end_time": "2023-05-23T09:30:11.373017Z",
     "start_time": "2023-05-23T09:30:11.352305Z"
    },
    "collapsed": false
   },
   "outputs": [
    {
     "name": "stdout",
     "output_type": "stream",
     "text": [
      "58,17\n",
      "Linear Algebra\n",
      "17,58\n",
      "Software Design\n",
      "58,94,25\n",
      "Economics\n"
     ]
    }
   ],
   "source": [
    "for course, students in diccionario_pares.items():\n",
    "    print(course)\n",
    "    print(students)"
   ]
  },
  {
   "cell_type": "code",
   "execution_count": 62,
   "metadata": {
    "ExecuteTime": {
     "end_time": "2023-05-23T09:34:33.119292Z",
     "start_time": "2023-05-23T09:34:33.111442Z"
    },
    "collapsed": false
   },
   "outputs": [],
   "source": [
    "student_courses = {}\n",
    "\n",
    "for data in enrollments1:\n",
    "    student_id = data[0]\n",
    "    course = data[1]\n",
    "\n",
    "    if student_id in student_courses:\n",
    "        student_courses[student_id].add(course)\n",
    "    else:\n",
    "        student_courses[student_id] = {course}"
   ]
  },
  {
   "cell_type": "code",
   "execution_count": 63,
   "metadata": {
    "ExecuteTime": {
     "end_time": "2023-05-23T09:34:38.161180Z",
     "start_time": "2023-05-23T09:34:38.152692Z"
    },
    "collapsed": false
   },
   "outputs": [
    {
     "data": {
      "text/plain": [
       "{'58': {'Economics', 'Linear Algebra', 'Mechanics', 'Software Design'},\n",
       " '94': {'Art History', 'Economics', 'Operating Systems'},\n",
       " '17': {'Linear Algebra', 'Political Science', 'Software Design'},\n",
       " '25': {'Economics'}}"
      ]
     },
     "execution_count": 63,
     "metadata": {},
     "output_type": "execute_result"
    }
   ],
   "source": [
    "student_courses"
   ]
  },
  {
   "cell_type": "code",
   "execution_count": 64,
   "metadata": {
    "ExecuteTime": {
     "end_time": "2023-05-23T09:34:55.505091Z",
     "start_time": "2023-05-23T09:34:55.470423Z"
    },
    "collapsed": false
   },
   "outputs": [
    {
     "data": {
      "text/plain": [
       "['58', '94', '17', '25']"
      ]
     },
     "execution_count": 64,
     "metadata": {},
     "output_type": "execute_result"
    }
   ],
   "source": [
    "\n",
    "shared_courses = {}\n",
    "\n",
    "students = list(student_courses.keys())\n",
    "\n",
    "students\n"
   ]
  },
  {
   "cell_type": "code",
   "execution_count": 65,
   "metadata": {
    "ExecuteTime": {
     "end_time": "2023-05-23T09:46:00.659836Z",
     "start_time": "2023-05-23T09:46:00.650923Z"
    },
    "collapsed": false
   },
   "outputs": [
    {
     "data": {
      "text/plain": [
       "{'Economics', 'Linear Algebra', 'Mechanics', 'Software Design'}"
      ]
     },
     "execution_count": 65,
     "metadata": {},
     "output_type": "execute_result"
    }
   ],
   "source": [
    "student_courses[\"58\"]"
   ]
  },
  {
   "cell_type": "code",
   "execution_count": 66,
   "metadata": {
    "ExecuteTime": {
     "end_time": "2023-05-23T09:46:19.808902Z",
     "start_time": "2023-05-23T09:46:19.796572Z"
    },
    "collapsed": false
   },
   "outputs": [
    {
     "data": {
      "text/plain": [
       "{'Art History', 'Economics', 'Operating Systems'}"
      ]
     },
     "execution_count": 66,
     "metadata": {},
     "output_type": "execute_result"
    }
   ],
   "source": [
    "student_courses[\"94\"]"
   ]
  },
  {
   "cell_type": "code",
   "execution_count": 67,
   "metadata": {
    "ExecuteTime": {
     "end_time": "2023-05-23T09:47:18.891346Z",
     "start_time": "2023-05-23T09:47:18.864634Z"
    },
    "collapsed": false
   },
   "outputs": [
    {
     "data": {
      "text/plain": [
       "['Economics']"
      ]
     },
     "execution_count": 67,
     "metadata": {},
     "output_type": "execute_result"
    }
   ],
   "source": [
    "list(student_courses[\"58\"].intersection(student_courses[\"94\"]))"
   ]
  },
  {
   "cell_type": "code",
   "execution_count": 68,
   "metadata": {
    "ExecuteTime": {
     "end_time": "2023-05-23T09:47:54.546800Z",
     "start_time": "2023-05-23T09:47:54.539801Z"
    },
    "collapsed": false
   },
   "outputs": [
    {
     "data": {
      "text/plain": [
       "{'58,94': ['Economics'],\n",
       " '58,17': ['Linear Algebra', 'Software Design'],\n",
       " '58,25': ['Economics'],\n",
       " '94,25': ['Economics']}"
      ]
     },
     "execution_count": 68,
     "metadata": {},
     "output_type": "execute_result"
    }
   ],
   "source": [
    "shared_courses = {}\n",
    "\n",
    "students = list(student_courses.keys())\n",
    "\n",
    "for i in range(len(students)):\n",
    "    for j in range(i + 1, len(students)):\n",
    "        student1 = students[i]\n",
    "        student2 = students[j]\n",
    "        shared = list(student_courses[student1].intersection(student_courses[student2]))\n",
    "        if shared:\n",
    "            shared_courses[f\"{student1},{student2}\"] = shared\n",
    "\n",
    "shared_courses"
   ]
  },
  {
   "cell_type": "markdown",
   "metadata": {
    "collapsed": false
   },
   "source": [
    "# Solucion completa"
   ]
  },
  {
   "cell_type": "code",
   "execution_count": 69,
   "metadata": {
    "ExecuteTime": {
     "end_time": "2023-05-23T09:49:22.026983Z",
     "start_time": "2023-05-23T09:49:21.938915Z"
    },
    "collapsed": false
   },
   "outputs": [],
   "source": [
    "enrollments2 = [\n",
    "  [\"0\", \"Advanced Mechanics\"],\n",
    "  [\"0\", \"Art History\"],\n",
    "  [\"1\", \"Course 1\"],\n",
    "  [\"1\", \"Course 2\"],\n",
    "  [\"2\", \"Computer Architecture\"],\n",
    "  [\"3\", \"Course 1\"],\n",
    "  [\"3\", \"Course 2\"],\n",
    "  [\"4\", \"Algorithms\"],\n",
    "]"
   ]
  },
  {
   "cell_type": "code",
   "execution_count": 70,
   "metadata": {
    "ExecuteTime": {
     "end_time": "2023-05-23T09:50:17.944676Z",
     "start_time": "2023-05-23T09:50:17.880104Z"
    },
    "collapsed": false
   },
   "outputs": [
    {
     "data": {
      "text/plain": [
       "{'0': ['Advanced Mechanics', 'Art History'],\n",
       " '1': ['Course 1', 'Course 2'],\n",
       " '2': ['Computer Architecture'],\n",
       " '3': ['Course 1', 'Course 2'],\n",
       " '4': ['Algorithms']}"
      ]
     },
     "execution_count": 70,
     "metadata": {},
     "output_type": "execute_result"
    }
   ],
   "source": [
    "hashmap = {}\n",
    "for value in enrollments2:\n",
    "    id = value[0]\n",
    "    course = value[1]\n",
    "    if id in hashmap:\n",
    "        hashmap[id].append(course)\n",
    "    else:\n",
    "        hashmap[id] = [course]\n",
    "\n",
    "hashmap"
   ]
  },
  {
   "cell_type": "code",
   "execution_count": 71,
   "metadata": {
    "ExecuteTime": {
     "end_time": "2023-05-23T09:50:41.548825Z",
     "start_time": "2023-05-23T09:50:41.482108Z"
    },
    "collapsed": false
   },
   "outputs": [],
   "source": [
    "students = list(hashmap.keys())"
   ]
  },
  {
   "cell_type": "code",
   "execution_count": 72,
   "metadata": {
    "ExecuteTime": {
     "end_time": "2023-05-23T09:55:27.302579Z",
     "start_time": "2023-05-23T09:55:27.294216Z"
    },
    "collapsed": false
   },
   "outputs": [],
   "source": [
    "shared_courses = {}\n",
    "students = list(student_courses.keys())\n",
    "\n",
    "for i in range(len(students)):\n",
    "    for j in range(i + 1, len(students)):\n",
    "        student1 = students[i]\n",
    "        student2 = students[j]\n",
    "        shared = list(student_courses[student1].intersection(student_courses[student2]))\n",
    "        if shared:\n",
    "            shared_courses[f\"{student1},{student2}\"] = shared"
   ]
  },
  {
   "cell_type": "code",
   "execution_count": 73,
   "metadata": {
    "ExecuteTime": {
     "end_time": "2023-05-23T09:54:59.668241Z",
     "start_time": "2023-05-23T09:54:59.643359Z"
    },
    "collapsed": false
   },
   "outputs": [],
   "source": [
    "shared = list(student_courses[student1].intersection(student_courses[student2]))"
   ]
  },
  {
   "cell_type": "code",
   "execution_count": 76,
   "metadata": {
    "collapsed": false
   },
   "outputs": [
    {
     "ename": "AttributeError",
     "evalue": "'list' object has no attribute 'intersection'",
     "output_type": "error",
     "traceback": [
      "\u001b[0;31m---------------------------------------------------------------------------\u001b[0m",
      "\u001b[0;31mAttributeError\u001b[0m                            Traceback (most recent call last)",
      "Cell \u001b[0;32mIn[76], line 1\u001b[0m\n\u001b[0;32m----> 1\u001b[0m shared \u001b[39m=\u001b[39m \u001b[39mlist\u001b[39m([\u001b[39m\"\u001b[39;49m\u001b[39mstudent1\u001b[39;49m\u001b[39m\"\u001b[39;49m]\u001b[39m.\u001b[39;49mintersection([\u001b[39m\"\u001b[39m\u001b[39m55\u001b[39m\u001b[39m\"\u001b[39m]))\n",
      "\u001b[0;31mAttributeError\u001b[0m: 'list' object has no attribute 'intersection'"
     ]
    }
   ],
   "source": [
    "shared = list([\"student1\"].intersection([\"55\"]))"
   ]
  },
  {
   "cell_type": "code",
   "execution_count": 75,
   "metadata": {
    "ExecuteTime": {
     "end_time": "2023-05-23T09:54:38.102008Z",
     "start_time": "2023-05-23T09:54:38.034176Z"
    },
    "collapsed": false
   },
   "outputs": [
    {
     "data": {
      "text/plain": [
       "{'58,94': ['Economics'],\n",
       " '58,17': ['Linear Algebra', 'Software Design'],\n",
       " '58,25': ['Economics'],\n",
       " '94,25': ['Economics']}"
      ]
     },
     "execution_count": 75,
     "metadata": {},
     "output_type": "execute_result"
    }
   ],
   "source": [
    "shared_courses"
   ]
  },
  {
   "cell_type": "code",
   "execution_count": null,
   "metadata": {
    "collapsed": false
   },
   "outputs": [],
   "source": []
  }
 ],
 "metadata": {
  "kernelspec": {
   "display_name": "Python 3",
   "language": "python",
   "name": "python3"
  },
  "language_info": {
   "codemirror_mode": {
    "name": "ipython",
    "version": 3
   },
   "file_extension": ".py",
   "mimetype": "text/x-python",
   "name": "python",
   "nbconvert_exporter": "python",
   "pygments_lexer": "ipython3",
   "version": "3.11.4"
  }
 },
 "nbformat": 4,
 "nbformat_minor": 0
}
