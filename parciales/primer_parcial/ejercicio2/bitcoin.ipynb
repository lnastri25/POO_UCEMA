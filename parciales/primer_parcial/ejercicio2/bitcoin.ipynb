{
 "cells": [
  {
   "cell_type": "markdown",
   "metadata": {},
   "source": [
    "# 2. Datasets: Lectura, y eda simple\n",
    "De los siguientes dataset, se deben cargar en el notebook de python, determinar la cantidad de filas, cantidad de columnas, nombre y tipo de columnas, información estadística básica (describe), faltantes y outliers.\n",
    "\n",
    "- bitcoin_price_dataset_2015_2023.csv\n",
    "- mLabel_tweets.tsv\n",
    "- Clean_Top_1000_Youtube_df - youtubers_df.txt\n",
    "- Dry_Bean_Dataset.xlsx"
   ]
  },
  {
   "cell_type": "code",
   "execution_count": 2,
   "metadata": {},
   "outputs": [
    {
     "name": "stdout",
     "output_type": "stream",
     "text": [
      "Intel MKL WARNING: Support of Intel(R) Streaming SIMD Extensions 4.2 (Intel(R) SSE4.2) enabled only processors has been deprecated. Intel oneAPI Math Kernel Library 2025.0 will require Intel(R) Advanced Vector Extensions (Intel(R) AVX) instructions.\n",
      "Intel MKL WARNING: Support of Intel(R) Streaming SIMD Extensions 4.2 (Intel(R) SSE4.2) enabled only processors has been deprecated. Intel oneAPI Math Kernel Library 2025.0 will require Intel(R) Advanced Vector Extensions (Intel(R) AVX) instructions.\n"
     ]
    }
   ],
   "source": [
    "import pandas as pd\n",
    "import seaborn as sns\n",
    "import matplotlib.pyplot as plt\n",
    "import numpy as np"
   ]
  },
  {
   "cell_type": "code",
   "execution_count": 3,
   "metadata": {},
   "outputs": [
    {
     "data": {
      "text/html": [
       "<div>\n",
       "<style scoped>\n",
       "    .dataframe tbody tr th:only-of-type {\n",
       "        vertical-align: middle;\n",
       "    }\n",
       "\n",
       "    .dataframe tbody tr th {\n",
       "        vertical-align: top;\n",
       "    }\n",
       "\n",
       "    .dataframe thead th {\n",
       "        text-align: right;\n",
       "    }\n",
       "</style>\n",
       "<table border=\"1\" class=\"dataframe\">\n",
       "  <thead>\n",
       "    <tr style=\"text-align: right;\">\n",
       "      <th></th>\n",
       "      <th>Date</th>\n",
       "      <th>Open Price (USD)</th>\n",
       "      <th>High Price (USD)</th>\n",
       "      <th>Low Price (USD)</th>\n",
       "      <th>Closing Price (USD)</th>\n",
       "      <th>Adjusted Closing Price (USD)</th>\n",
       "      <th>Trading Volume</th>\n",
       "    </tr>\n",
       "  </thead>\n",
       "  <tbody>\n",
       "    <tr>\n",
       "      <th>0</th>\n",
       "      <td>2023-09-06</td>\n",
       "      <td>25772.601563</td>\n",
       "      <td>25845.994141</td>\n",
       "      <td>25708.595703</td>\n",
       "      <td>25721.945313</td>\n",
       "      <td>25721.945313</td>\n",
       "      <td>10252755968</td>\n",
       "    </tr>\n",
       "    <tr>\n",
       "      <th>1</th>\n",
       "      <td>2023-09-05</td>\n",
       "      <td>25814.957031</td>\n",
       "      <td>25858.375000</td>\n",
       "      <td>25589.988281</td>\n",
       "      <td>25779.982422</td>\n",
       "      <td>25779.982422</td>\n",
       "      <td>11094740040</td>\n",
       "    </tr>\n",
       "    <tr>\n",
       "      <th>2</th>\n",
       "      <td>2023-09-04</td>\n",
       "      <td>25968.169922</td>\n",
       "      <td>26081.525391</td>\n",
       "      <td>25657.025391</td>\n",
       "      <td>25812.416016</td>\n",
       "      <td>25812.416016</td>\n",
       "      <td>10680635106</td>\n",
       "    </tr>\n",
       "    <tr>\n",
       "      <th>3</th>\n",
       "      <td>2023-09-03</td>\n",
       "      <td>25869.472656</td>\n",
       "      <td>26087.148438</td>\n",
       "      <td>25817.031250</td>\n",
       "      <td>25969.566406</td>\n",
       "      <td>25969.566406</td>\n",
       "      <td>8962524523</td>\n",
       "    </tr>\n",
       "    <tr>\n",
       "      <th>4</th>\n",
       "      <td>2023-09-02</td>\n",
       "      <td>25800.910156</td>\n",
       "      <td>25970.285156</td>\n",
       "      <td>25753.093750</td>\n",
       "      <td>25868.798828</td>\n",
       "      <td>25868.798828</td>\n",
       "      <td>10100387473</td>\n",
       "    </tr>\n",
       "    <tr>\n",
       "      <th>...</th>\n",
       "      <td>...</td>\n",
       "      <td>...</td>\n",
       "      <td>...</td>\n",
       "      <td>...</td>\n",
       "      <td>...</td>\n",
       "      <td>...</td>\n",
       "      <td>...</td>\n",
       "    </tr>\n",
       "    <tr>\n",
       "      <th>3166</th>\n",
       "      <td>2015-01-05</td>\n",
       "      <td>265.084015</td>\n",
       "      <td>278.341003</td>\n",
       "      <td>265.084015</td>\n",
       "      <td>274.473999</td>\n",
       "      <td>274.473999</td>\n",
       "      <td>43962800</td>\n",
       "    </tr>\n",
       "    <tr>\n",
       "      <th>3167</th>\n",
       "      <td>2015-01-04</td>\n",
       "      <td>281.145996</td>\n",
       "      <td>287.230011</td>\n",
       "      <td>257.612000</td>\n",
       "      <td>264.195007</td>\n",
       "      <td>264.195007</td>\n",
       "      <td>55629100</td>\n",
       "    </tr>\n",
       "    <tr>\n",
       "      <th>3168</th>\n",
       "      <td>2015-01-03</td>\n",
       "      <td>314.846008</td>\n",
       "      <td>315.149994</td>\n",
       "      <td>281.082001</td>\n",
       "      <td>281.082001</td>\n",
       "      <td>281.082001</td>\n",
       "      <td>33054400</td>\n",
       "    </tr>\n",
       "    <tr>\n",
       "      <th>3169</th>\n",
       "      <td>2015-01-02</td>\n",
       "      <td>314.079010</td>\n",
       "      <td>315.838989</td>\n",
       "      <td>313.565002</td>\n",
       "      <td>315.032013</td>\n",
       "      <td>315.032013</td>\n",
       "      <td>7860650</td>\n",
       "    </tr>\n",
       "    <tr>\n",
       "      <th>3170</th>\n",
       "      <td>2015-01-01</td>\n",
       "      <td>320.434998</td>\n",
       "      <td>320.434998</td>\n",
       "      <td>314.002991</td>\n",
       "      <td>314.248993</td>\n",
       "      <td>314.248993</td>\n",
       "      <td>8036550</td>\n",
       "    </tr>\n",
       "  </tbody>\n",
       "</table>\n",
       "<p>3171 rows × 7 columns</p>\n",
       "</div>"
      ],
      "text/plain": [
       "            Date  Open Price (USD)  High Price (USD)  Low Price (USD)  \\\n",
       "0     2023-09-06      25772.601563      25845.994141     25708.595703   \n",
       "1     2023-09-05      25814.957031      25858.375000     25589.988281   \n",
       "2     2023-09-04      25968.169922      26081.525391     25657.025391   \n",
       "3     2023-09-03      25869.472656      26087.148438     25817.031250   \n",
       "4     2023-09-02      25800.910156      25970.285156     25753.093750   \n",
       "...          ...               ...               ...              ...   \n",
       "3166  2015-01-05        265.084015        278.341003       265.084015   \n",
       "3167  2015-01-04        281.145996        287.230011       257.612000   \n",
       "3168  2015-01-03        314.846008        315.149994       281.082001   \n",
       "3169  2015-01-02        314.079010        315.838989       313.565002   \n",
       "3170  2015-01-01        320.434998        320.434998       314.002991   \n",
       "\n",
       "      Closing Price (USD)  Adjusted Closing Price (USD)  Trading Volume  \n",
       "0            25721.945313                  25721.945313     10252755968  \n",
       "1            25779.982422                  25779.982422     11094740040  \n",
       "2            25812.416016                  25812.416016     10680635106  \n",
       "3            25969.566406                  25969.566406      8962524523  \n",
       "4            25868.798828                  25868.798828     10100387473  \n",
       "...                   ...                           ...             ...  \n",
       "3166           274.473999                    274.473999        43962800  \n",
       "3167           264.195007                    264.195007        55629100  \n",
       "3168           281.082001                    281.082001        33054400  \n",
       "3169           315.032013                    315.032013         7860650  \n",
       "3170           314.248993                    314.248993         8036550  \n",
       "\n",
       "[3171 rows x 7 columns]"
      ]
     },
     "execution_count": 3,
     "metadata": {},
     "output_type": "execute_result"
    }
   ],
   "source": [
    "df_bitcoin = pd.read_csv(\"/Users/lolonastri/Desktop/POO_UCEMA/parciales/primer_parcial/ejercicio2/bitcoin_price_dataset_2015_2023.csv\")\n",
    "df_bitcoin"
   ]
  },
  {
   "cell_type": "markdown",
   "metadata": {},
   "source": [
    "___"
   ]
  },
  {
   "cell_type": "code",
   "execution_count": 4,
   "metadata": {},
   "outputs": [
    {
     "name": "stdout",
     "output_type": "stream",
     "text": [
      "El dataset tiene 3171 filas.\n"
     ]
    }
   ],
   "source": [
    "# Cantidad de filas\n",
    "\n",
    "print(\"El dataset tiene \" + str(df_bitcoin.shape[0])+ \" filas.\")"
   ]
  },
  {
   "cell_type": "code",
   "execution_count": 5,
   "metadata": {},
   "outputs": [
    {
     "name": "stdout",
     "output_type": "stream",
     "text": [
      "El dataset tiene 7 columnas.\n"
     ]
    }
   ],
   "source": [
    "# Cantidad de columnas\n",
    "\n",
    "print(\"El dataset tiene \" + str(df_bitcoin.shape[1])+ \" columnas.\")"
   ]
  },
  {
   "cell_type": "code",
   "execution_count": 6,
   "metadata": {},
   "outputs": [
    {
     "data": {
      "text/plain": [
       "Index(['Date', 'Open Price (USD)', 'High Price (USD)', 'Low Price (USD)',\n",
       "       'Closing Price (USD)', 'Adjusted Closing Price (USD)',\n",
       "       'Trading Volume'],\n",
       "      dtype='object')"
      ]
     },
     "execution_count": 6,
     "metadata": {},
     "output_type": "execute_result"
    }
   ],
   "source": [
    "# Nombre de columnas\n",
    "\n",
    "df_bitcoin.columns"
   ]
  },
  {
   "cell_type": "code",
   "execution_count": 7,
   "metadata": {},
   "outputs": [
    {
     "data": {
      "text/plain": [
       "Date                             object\n",
       "Open Price (USD)                float64\n",
       "High Price (USD)                float64\n",
       "Low Price (USD)                 float64\n",
       "Closing Price (USD)             float64\n",
       "Adjusted Closing Price (USD)    float64\n",
       "Trading Volume                    int64\n",
       "dtype: object"
      ]
     },
     "execution_count": 7,
     "metadata": {},
     "output_type": "execute_result"
    }
   ],
   "source": [
    "# Tipo de columnas\n",
    "\n",
    "df_bitcoin.dtypes"
   ]
  },
  {
   "cell_type": "code",
   "execution_count": 8,
   "metadata": {},
   "outputs": [
    {
     "data": {
      "text/html": [
       "<div>\n",
       "<style scoped>\n",
       "    .dataframe tbody tr th:only-of-type {\n",
       "        vertical-align: middle;\n",
       "    }\n",
       "\n",
       "    .dataframe tbody tr th {\n",
       "        vertical-align: top;\n",
       "    }\n",
       "\n",
       "    .dataframe thead th {\n",
       "        text-align: right;\n",
       "    }\n",
       "</style>\n",
       "<table border=\"1\" class=\"dataframe\">\n",
       "  <thead>\n",
       "    <tr style=\"text-align: right;\">\n",
       "      <th></th>\n",
       "      <th>Open Price (USD)</th>\n",
       "      <th>High Price (USD)</th>\n",
       "      <th>Low Price (USD)</th>\n",
       "      <th>Closing Price (USD)</th>\n",
       "      <th>Adjusted Closing Price (USD)</th>\n",
       "      <th>Trading Volume</th>\n",
       "    </tr>\n",
       "  </thead>\n",
       "  <tbody>\n",
       "    <tr>\n",
       "      <th>count</th>\n",
       "      <td>3171.000000</td>\n",
       "      <td>3171.000000</td>\n",
       "      <td>3171.000000</td>\n",
       "      <td>3171.000000</td>\n",
       "      <td>3171.000000</td>\n",
       "      <td>3.171000e+03</td>\n",
       "    </tr>\n",
       "    <tr>\n",
       "      <th>mean</th>\n",
       "      <td>14332.172768</td>\n",
       "      <td>14674.383308</td>\n",
       "      <td>13956.292591</td>\n",
       "      <td>14338.795762</td>\n",
       "      <td>14338.795762</td>\n",
       "      <td>1.706397e+10</td>\n",
       "    </tr>\n",
       "    <tr>\n",
       "      <th>std</th>\n",
       "      <td>16065.029720</td>\n",
       "      <td>16460.429204</td>\n",
       "      <td>15612.281509</td>\n",
       "      <td>16061.184736</td>\n",
       "      <td>16061.184736</td>\n",
       "      <td>1.944117e+10</td>\n",
       "    </tr>\n",
       "    <tr>\n",
       "      <th>min</th>\n",
       "      <td>176.897003</td>\n",
       "      <td>211.731003</td>\n",
       "      <td>171.509995</td>\n",
       "      <td>178.102997</td>\n",
       "      <td>178.102997</td>\n",
       "      <td>7.860650e+06</td>\n",
       "    </tr>\n",
       "    <tr>\n",
       "      <th>25%</th>\n",
       "      <td>1068.204956</td>\n",
       "      <td>1110.829956</td>\n",
       "      <td>1043.929993</td>\n",
       "      <td>1075.885010</td>\n",
       "      <td>1075.885010</td>\n",
       "      <td>2.564590e+08</td>\n",
       "    </tr>\n",
       "    <tr>\n",
       "      <th>50%</th>\n",
       "      <td>8221.580078</td>\n",
       "      <td>8371.150391</td>\n",
       "      <td>8005.310059</td>\n",
       "      <td>8222.078125</td>\n",
       "      <td>8222.078125</td>\n",
       "      <td>1.217532e+10</td>\n",
       "    </tr>\n",
       "    <tr>\n",
       "      <th>75%</th>\n",
       "      <td>22287.365235</td>\n",
       "      <td>22661.470703</td>\n",
       "      <td>21625.421875</td>\n",
       "      <td>22358.014649</td>\n",
       "      <td>22358.014649</td>\n",
       "      <td>2.787545e+10</td>\n",
       "    </tr>\n",
       "    <tr>\n",
       "      <th>max</th>\n",
       "      <td>67549.734375</td>\n",
       "      <td>68789.625000</td>\n",
       "      <td>66382.062500</td>\n",
       "      <td>67566.828125</td>\n",
       "      <td>67566.828125</td>\n",
       "      <td>3.509679e+11</td>\n",
       "    </tr>\n",
       "  </tbody>\n",
       "</table>\n",
       "</div>"
      ],
      "text/plain": [
       "       Open Price (USD)  High Price (USD)  Low Price (USD)  \\\n",
       "count       3171.000000       3171.000000      3171.000000   \n",
       "mean       14332.172768      14674.383308     13956.292591   \n",
       "std        16065.029720      16460.429204     15612.281509   \n",
       "min          176.897003        211.731003       171.509995   \n",
       "25%         1068.204956       1110.829956      1043.929993   \n",
       "50%         8221.580078       8371.150391      8005.310059   \n",
       "75%        22287.365235      22661.470703     21625.421875   \n",
       "max        67549.734375      68789.625000     66382.062500   \n",
       "\n",
       "       Closing Price (USD)  Adjusted Closing Price (USD)  Trading Volume  \n",
       "count          3171.000000                   3171.000000    3.171000e+03  \n",
       "mean          14338.795762                  14338.795762    1.706397e+10  \n",
       "std           16061.184736                  16061.184736    1.944117e+10  \n",
       "min             178.102997                    178.102997    7.860650e+06  \n",
       "25%            1075.885010                   1075.885010    2.564590e+08  \n",
       "50%            8222.078125                   8222.078125    1.217532e+10  \n",
       "75%           22358.014649                  22358.014649    2.787545e+10  \n",
       "max           67566.828125                  67566.828125    3.509679e+11  "
      ]
     },
     "execution_count": 8,
     "metadata": {},
     "output_type": "execute_result"
    }
   ],
   "source": [
    "# Información básica\n",
    "\n",
    "df_bitcoin.describe()"
   ]
  },
  {
   "cell_type": "code",
   "execution_count": 9,
   "metadata": {},
   "outputs": [
    {
     "data": {
      "text/plain": [
       "Date                            0\n",
       "Open Price (USD)                0\n",
       "High Price (USD)                0\n",
       "Low Price (USD)                 0\n",
       "Closing Price (USD)             0\n",
       "Adjusted Closing Price (USD)    0\n",
       "Trading Volume                  0\n",
       "dtype: int64"
      ]
     },
     "execution_count": 9,
     "metadata": {},
     "output_type": "execute_result"
    }
   ],
   "source": [
    "# Valores faltantes\n",
    "\n",
    "df_bitcoin.isnull().sum()"
   ]
  },
  {
   "cell_type": "code",
   "execution_count": 10,
   "metadata": {},
   "outputs": [
    {
     "data": {
      "text/plain": [
       "Date                            0.0\n",
       "Open Price (USD)                0.0\n",
       "High Price (USD)                0.0\n",
       "Low Price (USD)                 0.0\n",
       "Closing Price (USD)             0.0\n",
       "Adjusted Closing Price (USD)    0.0\n",
       "Trading Volume                  0.0\n",
       "dtype: float64"
      ]
     },
     "execution_count": 10,
     "metadata": {},
     "output_type": "execute_result"
    }
   ],
   "source": [
    "# Porcentaje de faltantes\n",
    "\n",
    "(df_bitcoin.isnull().sum()/len(df_bitcoin))"
   ]
  },
  {
   "cell_type": "markdown",
   "metadata": {},
   "source": [
    "# Valores outliers"
   ]
  },
  {
   "cell_type": "code",
   "execution_count": 13,
   "metadata": {},
   "outputs": [
    {
     "data": {
      "text/plain": [
       "<Axes: xlabel='Open Price (USD)'>"
      ]
     },
     "execution_count": 13,
     "metadata": {},
     "output_type": "execute_result"
    },
    {
     "data": {
      "image/png": "[encoded data removed]",
      "text/plain": [
       "<Figure size 640x480 with 1 Axes>"
      ]
     },
     "metadata": {},
     "output_type": "display_data"
    }
   ],
   "source": [
    "sns.boxplot(x=df_bitcoin['Open Price (USD)'])"
   ]
  },
  {
   "cell_type": "code",
   "execution_count": 14,
   "metadata": {},
   "outputs": [
    {
     "data": {
      "text/plain": [
       "<Axes: xlabel='High Price (USD)'>"
      ]
     },
     "execution_count": 14,
     "metadata": {},
     "output_type": "execute_result"
    },
    {
     "data": {
      "image/png": "[encoded data removed]",
      "text/plain": [
       "<Figure size 640x480 with 1 Axes>"
      ]
     },
     "metadata": {},
     "output_type": "display_data"
    }
   ],
   "source": [
    "sns.boxplot(x=df_bitcoin['High Price (USD)'])"
   ]
  },
  {
   "cell_type": "code",
   "execution_count": 15,
   "metadata": {},
   "outputs": [
    {
     "data": {
      "text/plain": [
       "<Axes: xlabel='Low Price (USD)'>"
      ]
     },
     "execution_count": 15,
     "metadata": {},
     "output_type": "execute_result"
    },
    {
     "data": {
      "image/png": "[encoded data removed]",
      "text/plain": [
       "<Figure size 640x480 with 1 Axes>"
      ]
     },
     "metadata": {},
     "output_type": "display_data"
    }
   ],
   "source": [
    "sns.boxplot(x=df_bitcoin['Low Price (USD)'])"
   ]
  },
  {
   "cell_type": "markdown",
   "metadata": {},
   "source": [
    "#### Se puede observar que no hay ningun dato outlier en este dataset ya que al ser volumenes de trading o precios los valores pueden ser muy altos o muy bajos."
   ]
  }
 ],
 "metadata": {
  "kernelspec": {
   "display_name": "POO-env",
   "language": "python",
   "name": "python3"
  },
  "language_info": {
   "codemirror_mode": {
    "name": "ipython",
    "version": 3
   },
   "file_extension": ".py",
   "mimetype": "text/x-python",
   "name": "python",
   "nbconvert_exporter": "python",
   "pygments_lexer": "ipython3",
   "version": "3.11.4"
  },
  "orig_nbformat": 4
 },
 "nbformat": 4,
 "nbformat_minor": 2
}
