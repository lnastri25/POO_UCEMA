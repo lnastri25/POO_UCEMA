{
 "cells": [
  {
   "cell_type": "markdown",
   "metadata": {},
   "source": [
    "# 2. Datasets: Lectura, y eda simple\n",
    "De los siguientes dataset, se deben cargar en el notebook de python, determinar la cantidad de filas, cantidad de columnas, nombre y tipo de columnas, información estadística básica (describe), faltantes y outliers.\n",
    "\n",
    "- bitcoin_price_dataset_2015_2023.csv\n",
    "- mLabel_tweets.tsv\n",
    "- Clean_Top_1000_Youtube_df - youtubers_df.txt\n",
    "- Dry_Bean_Dataset.xlsx"
   ]
  },
  {
   "cell_type": "code",
   "execution_count": 1,
   "metadata": {},
   "outputs": [
    {
     "name": "stdout",
     "output_type": "stream",
     "text": [
      "Intel MKL WARNING: Support of Intel(R) Streaming SIMD Extensions 4.2 (Intel(R) SSE4.2) enabled only processors has been deprecated. Intel oneAPI Math Kernel Library 2025.0 will require Intel(R) Advanced Vector Extensions (Intel(R) AVX) instructions.\n",
      "Intel MKL WARNING: Support of Intel(R) Streaming SIMD Extensions 4.2 (Intel(R) SSE4.2) enabled only processors has been deprecated. Intel oneAPI Math Kernel Library 2025.0 will require Intel(R) Advanced Vector Extensions (Intel(R) AVX) instructions.\n"
     ]
    }
   ],
   "source": [
    "import pandas as pd\n",
    "import seaborn as sns\n",
    "import matplotlib.pyplot as plt\n",
    "import numpy as np\n",
    "import openpyxl"
   ]
  },
  {
   "cell_type": "code",
   "execution_count": 2,
   "metadata": {},
   "outputs": [
    {
     "data": {
      "text/html": [
       "<div>\n",
       "<style scoped>\n",
       "    .dataframe tbody tr th:only-of-type {\n",
       "        vertical-align: middle;\n",
       "    }\n",
       "\n",
       "    .dataframe tbody tr th {\n",
       "        vertical-align: top;\n",
       "    }\n",
       "\n",
       "    .dataframe thead th {\n",
       "        text-align: right;\n",
       "    }\n",
       "</style>\n",
       "<table border=\"1\" class=\"dataframe\">\n",
       "  <thead>\n",
       "    <tr style=\"text-align: right;\">\n",
       "      <th></th>\n",
       "      <th>ID</th>\n",
       "      <th>tweet</th>\n",
       "      <th>labels</th>\n",
       "      <th>Unnamed: 3</th>\n",
       "      <th>Unnamed: 4</th>\n",
       "    </tr>\n",
       "  </thead>\n",
       "  <tbody>\n",
       "    <tr>\n",
       "      <th>0</th>\n",
       "      <td>1296010336907038720t</td>\n",
       "      <td>@cath__kath AstraZeneca is made with the kidne...</td>\n",
       "      <td>ingredients</td>\n",
       "      <td>NaN</td>\n",
       "      <td>NaN</td>\n",
       "    </tr>\n",
       "    <tr>\n",
       "      <th>1</th>\n",
       "      <td>1336808189677940736t</td>\n",
       "      <td>It begins. Please find safe alternatives to th...</td>\n",
       "      <td>side-effect</td>\n",
       "      <td>NaN</td>\n",
       "      <td>NaN</td>\n",
       "    </tr>\n",
       "    <tr>\n",
       "      <th>2</th>\n",
       "      <td>1329488407307956231t</td>\n",
       "      <td>@PaolaQP1231 Well, I mean congratulations Covi...</td>\n",
       "      <td>side-effect</td>\n",
       "      <td>NaN</td>\n",
       "      <td>NaN</td>\n",
       "    </tr>\n",
       "    <tr>\n",
       "      <th>3</th>\n",
       "      <td>1364194604459900934t</td>\n",
       "      <td>@BorisJohnson for those of us that do not wish...</td>\n",
       "      <td>mandatory</td>\n",
       "      <td>NaN</td>\n",
       "      <td>NaN</td>\n",
       "    </tr>\n",
       "    <tr>\n",
       "      <th>4</th>\n",
       "      <td>1375938799247765515t</td>\n",
       "      <td>She has been trying to speak out: writing lett...</td>\n",
       "      <td>side-effect rushed</td>\n",
       "      <td>NaN</td>\n",
       "      <td>NaN</td>\n",
       "    </tr>\n",
       "    <tr>\n",
       "      <th>...</th>\n",
       "      <td>...</td>\n",
       "      <td>...</td>\n",
       "      <td>...</td>\n",
       "      <td>...</td>\n",
       "      <td>...</td>\n",
       "    </tr>\n",
       "    <tr>\n",
       "      <th>9915</th>\n",
       "      <td>1388469392866938880t</td>\n",
       "      <td>Former Pfizer Chief Scientific Officer on Expe...</td>\n",
       "      <td>side-effect</td>\n",
       "      <td>NaN</td>\n",
       "      <td>NaN</td>\n",
       "    </tr>\n",
       "    <tr>\n",
       "      <th>9916</th>\n",
       "      <td>1352957607393300485t</td>\n",
       "      <td>@garygilligan Not what the manufacturer's are ...</td>\n",
       "      <td>pharma</td>\n",
       "      <td>NaN</td>\n",
       "      <td>NaN</td>\n",
       "    </tr>\n",
       "    <tr>\n",
       "      <th>9917</th>\n",
       "      <td>1357484621542268928t</td>\n",
       "      <td>//That's a complete no for now on the Oxford/A...</td>\n",
       "      <td>none</td>\n",
       "      <td>NaN</td>\n",
       "      <td>NaN</td>\n",
       "    </tr>\n",
       "    <tr>\n",
       "      <th>9918</th>\n",
       "      <td>1371121610057388037t</td>\n",
       "      <td>Opinion: Vaccine side effects..- possible to h...</td>\n",
       "      <td>side-effect</td>\n",
       "      <td>NaN</td>\n",
       "      <td>NaN</td>\n",
       "    </tr>\n",
       "    <tr>\n",
       "      <th>9919</th>\n",
       "      <td>1432823808742903817t</td>\n",
       "      <td>@BorisJohnson resign now before you destroy th...</td>\n",
       "      <td>political</td>\n",
       "      <td>NaN</td>\n",
       "      <td>NaN</td>\n",
       "    </tr>\n",
       "  </tbody>\n",
       "</table>\n",
       "<p>9920 rows × 5 columns</p>\n",
       "</div>"
      ],
      "text/plain": [
       "                        ID                                              tweet  \\\n",
       "0     1296010336907038720t  @cath__kath AstraZeneca is made with the kidne...   \n",
       "1     1336808189677940736t  It begins. Please find safe alternatives to th...   \n",
       "2     1329488407307956231t  @PaolaQP1231 Well, I mean congratulations Covi...   \n",
       "3     1364194604459900934t  @BorisJohnson for those of us that do not wish...   \n",
       "4     1375938799247765515t  She has been trying to speak out: writing lett...   \n",
       "...                    ...                                                ...   \n",
       "9915  1388469392866938880t  Former Pfizer Chief Scientific Officer on Expe...   \n",
       "9916  1352957607393300485t  @garygilligan Not what the manufacturer's are ...   \n",
       "9917  1357484621542268928t  //That's a complete no for now on the Oxford/A...   \n",
       "9918  1371121610057388037t  Opinion: Vaccine side effects..- possible to h...   \n",
       "9919  1432823808742903817t  @BorisJohnson resign now before you destroy th...   \n",
       "\n",
       "                  labels Unnamed: 3 Unnamed: 4  \n",
       "0            ingredients        NaN        NaN  \n",
       "1            side-effect        NaN        NaN  \n",
       "2            side-effect        NaN        NaN  \n",
       "3              mandatory        NaN        NaN  \n",
       "4     side-effect rushed        NaN        NaN  \n",
       "...                  ...        ...        ...  \n",
       "9915         side-effect        NaN        NaN  \n",
       "9916              pharma        NaN        NaN  \n",
       "9917                none        NaN        NaN  \n",
       "9918         side-effect        NaN        NaN  \n",
       "9919           political        NaN        NaN  \n",
       "\n",
       "[9920 rows x 5 columns]"
      ]
     },
     "execution_count": 2,
     "metadata": {},
     "output_type": "execute_result"
    }
   ],
   "source": [
    "df_tweets = pd.read_csv('/Users/lolonastri/Desktop/POO_UCEMA/parciales/primer_parcial/ejercicio2/mLabel_tweets.tsv', sep='\\t', encoding='latin-1')\n",
    "df_tweets"
   ]
  },
  {
   "cell_type": "markdown",
   "metadata": {},
   "source": [
    "___"
   ]
  },
  {
   "cell_type": "code",
   "execution_count": 3,
   "metadata": {},
   "outputs": [
    {
     "name": "stdout",
     "output_type": "stream",
     "text": [
      "El dataset tiene 9920 filas.\n"
     ]
    }
   ],
   "source": [
    "# Cantidad de filas\n",
    "\n",
    "print(\"El dataset tiene \" + str(df_tweets.shape[0])+ \" filas.\")"
   ]
  },
  {
   "cell_type": "code",
   "execution_count": 4,
   "metadata": {},
   "outputs": [
    {
     "name": "stdout",
     "output_type": "stream",
     "text": [
      "El dataset tiene 5 columnas.\n"
     ]
    }
   ],
   "source": [
    "# Cantidad de columnas\n",
    "\n",
    "print(\"El dataset tiene \" + str(df_tweets.shape[1])+ \" columnas.\")"
   ]
  },
  {
   "cell_type": "code",
   "execution_count": 5,
   "metadata": {},
   "outputs": [
    {
     "data": {
      "text/plain": [
       "Index(['ID', 'tweet', 'labels', 'Unnamed: 3', 'Unnamed: 4'], dtype='object')"
      ]
     },
     "execution_count": 5,
     "metadata": {},
     "output_type": "execute_result"
    }
   ],
   "source": [
    "# Nombre de columnas\n",
    "\n",
    "df_tweets.columns"
   ]
  },
  {
   "cell_type": "code",
   "execution_count": 6,
   "metadata": {},
   "outputs": [
    {
     "data": {
      "text/plain": [
       "ID            object\n",
       "tweet         object\n",
       "labels        object\n",
       "Unnamed: 3    object\n",
       "Unnamed: 4    object\n",
       "dtype: object"
      ]
     },
     "execution_count": 6,
     "metadata": {},
     "output_type": "execute_result"
    }
   ],
   "source": [
    "# Tipo de columnas\n",
    "\n",
    "df_tweets.dtypes"
   ]
  },
  {
   "cell_type": "code",
   "execution_count": 7,
   "metadata": {},
   "outputs": [
    {
     "data": {
      "text/html": [
       "<div>\n",
       "<style scoped>\n",
       "    .dataframe tbody tr th:only-of-type {\n",
       "        vertical-align: middle;\n",
       "    }\n",
       "\n",
       "    .dataframe tbody tr th {\n",
       "        vertical-align: top;\n",
       "    }\n",
       "\n",
       "    .dataframe thead th {\n",
       "        text-align: right;\n",
       "    }\n",
       "</style>\n",
       "<table border=\"1\" class=\"dataframe\">\n",
       "  <thead>\n",
       "    <tr style=\"text-align: right;\">\n",
       "      <th></th>\n",
       "      <th>ID</th>\n",
       "      <th>tweet</th>\n",
       "      <th>labels</th>\n",
       "      <th>Unnamed: 3</th>\n",
       "      <th>Unnamed: 4</th>\n",
       "    </tr>\n",
       "  </thead>\n",
       "  <tbody>\n",
       "    <tr>\n",
       "      <th>count</th>\n",
       "      <td>9920</td>\n",
       "      <td>9920</td>\n",
       "      <td>9778</td>\n",
       "      <td>1</td>\n",
       "      <td>1</td>\n",
       "    </tr>\n",
       "    <tr>\n",
       "      <th>unique</th>\n",
       "      <td>9920</td>\n",
       "      <td>9920</td>\n",
       "      <td>287</td>\n",
       "      <td>1</td>\n",
       "      <td>1</td>\n",
       "    </tr>\n",
       "    <tr>\n",
       "      <th>top</th>\n",
       "      <td>1296010336907038720t</td>\n",
       "      <td>@cath__kath AstraZeneca is made with the kidne...</td>\n",
       "      <td>side-effect</td>\n",
       "      <td>A COVID-19 vaccine isnât necessary</td>\n",
       "      <td>Go back to living a normal life. Says a world...</td>\n",
       "    </tr>\n",
       "    <tr>\n",
       "      <th>freq</th>\n",
       "      <td>1</td>\n",
       "      <td>1</td>\n",
       "      <td>2844</td>\n",
       "      <td>1</td>\n",
       "      <td>1</td>\n",
       "    </tr>\n",
       "  </tbody>\n",
       "</table>\n",
       "</div>"
      ],
      "text/plain": [
       "                          ID  \\\n",
       "count                   9920   \n",
       "unique                  9920   \n",
       "top     1296010336907038720t   \n",
       "freq                       1   \n",
       "\n",
       "                                                    tweet       labels  \\\n",
       "count                                                9920         9778   \n",
       "unique                                               9920          287   \n",
       "top     @cath__kath AstraZeneca is made with the kidne...  side-effect   \n",
       "freq                                                    1         2844   \n",
       "\n",
       "                                   Unnamed: 3  \\\n",
       "count                                       1   \n",
       "unique                                      1   \n",
       "top      A COVID-19 vaccine isnât necessary   \n",
       "freq                                        1   \n",
       "\n",
       "                                               Unnamed: 4  \n",
       "count                                                   1  \n",
       "unique                                                  1  \n",
       "top      Go back to living a normal life. Says a world...  \n",
       "freq                                                    1  "
      ]
     },
     "execution_count": 7,
     "metadata": {},
     "output_type": "execute_result"
    }
   ],
   "source": [
    "# Información básica\n",
    "\n",
    "df_tweets.describe()"
   ]
  },
  {
   "cell_type": "code",
   "execution_count": 8,
   "metadata": {},
   "outputs": [
    {
     "data": {
      "text/plain": [
       "ID               0\n",
       "tweet            0\n",
       "labels         142\n",
       "Unnamed: 3    9919\n",
       "Unnamed: 4    9919\n",
       "dtype: int64"
      ]
     },
     "execution_count": 8,
     "metadata": {},
     "output_type": "execute_result"
    }
   ],
   "source": [
    "# Valores faltantes\n",
    "\n",
    "df_tweets.isnull().sum()"
   ]
  },
  {
   "cell_type": "code",
   "execution_count": 9,
   "metadata": {},
   "outputs": [
    {
     "data": {
      "text/plain": [
       "ID            0.000000\n",
       "tweet         0.000000\n",
       "labels        0.014315\n",
       "Unnamed: 3    0.999899\n",
       "Unnamed: 4    0.999899\n",
       "dtype: float64"
      ]
     },
     "execution_count": 9,
     "metadata": {},
     "output_type": "execute_result"
    }
   ],
   "source": [
    "# Porcentaje de faltantes\n",
    "\n",
    "(df_tweets.isnull().sum()/len(df_tweets))"
   ]
  },
  {
   "cell_type": "markdown",
   "metadata": {},
   "source": [
    "# Valores outliers\n",
    "\n",
    "#### Se procede a eliminar las columnas (Unnamed 3 y 4) con valores nulos de la tabla ya que no me estaban aportando ningun tipo de informacion para el analisis y ademas casi el 100% de sus valores eran nulos."
   ]
  }
 ],
 "metadata": {
  "kernelspec": {
   "display_name": "POO-env",
   "language": "python",
   "name": "python3"
  },
  "language_info": {
   "codemirror_mode": {
    "name": "ipython",
    "version": 3
   },
   "file_extension": ".py",
   "mimetype": "text/x-python",
   "name": "python",
   "nbconvert_exporter": "python",
   "pygments_lexer": "ipython3",
   "version": "3.11.4"
  },
  "orig_nbformat": 4
 },
 "nbformat": 4,
 "nbformat_minor": 2
}
