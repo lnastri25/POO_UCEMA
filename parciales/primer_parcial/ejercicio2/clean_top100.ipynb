{
 "cells": [
  {
   "cell_type": "markdown",
   "metadata": {},
   "source": [
    "# 2. Datasets: Lectura, y eda simple\n",
    "De los siguientes dataset, se deben cargar en el notebook de python, determinar la cantidad de filas, cantidad de columnas, nombre y tipo de columnas, información estadística básica (describe), faltantes y outliers.\n",
    "\n",
    "- bitcoin_price_dataset_2015_2023.csv\n",
    "- mLabel_tweets.tsv\n",
    "- Clean_Top_1000_Youtube_df - youtubers_df.txt\n",
    "- Dry_Bean_Dataset.xlsx"
   ]
  },
  {
   "cell_type": "code",
   "execution_count": 32,
   "metadata": {},
   "outputs": [],
   "source": [
    "import pandas as pd\n",
    "import seaborn as sns\n",
    "import matplotlib.pyplot as plt\n",
    "import numpy as np"
   ]
  },
  {
   "cell_type": "code",
   "execution_count": 33,
   "metadata": {},
   "outputs": [
    {
     "data": {
      "text/html": [
       "<div>\n",
       "<style scoped>\n",
       "    .dataframe tbody tr th:only-of-type {\n",
       "        vertical-align: middle;\n",
       "    }\n",
       "\n",
       "    .dataframe tbody tr th {\n",
       "        vertical-align: top;\n",
       "    }\n",
       "\n",
       "    .dataframe thead th {\n",
       "        text-align: right;\n",
       "    }\n",
       "</style>\n",
       "<table border=\"1\" class=\"dataframe\">\n",
       "  <thead>\n",
       "    <tr style=\"text-align: right;\">\n",
       "      <th></th>\n",
       "      <th>Rank</th>\n",
       "      <th>Username</th>\n",
       "      <th>Categories</th>\n",
       "      <th>Suscribers</th>\n",
       "      <th>Country</th>\n",
       "      <th>Visits</th>\n",
       "      <th>Likes</th>\n",
       "      <th>Comments</th>\n",
       "      <th>Links</th>\n",
       "    </tr>\n",
       "  </thead>\n",
       "  <tbody>\n",
       "    <tr>\n",
       "      <th>0</th>\n",
       "      <td>1</td>\n",
       "      <td>tseries</td>\n",
       "      <td>Entertainment</td>\n",
       "      <td>249,500,000</td>\n",
       "      <td>IN</td>\n",
       "      <td>86,200</td>\n",
       "      <td>2,700</td>\n",
       "      <td>78</td>\n",
       "      <td>http://youtube.com/channel/UCq-Fj5jknLsUf-MWSy...</td>\n",
       "    </tr>\n",
       "    <tr>\n",
       "      <th>1</th>\n",
       "      <td>2</td>\n",
       "      <td>MrBeast</td>\n",
       "      <td>Entertainment</td>\n",
       "      <td>183,500,000</td>\n",
       "      <td>US</td>\n",
       "      <td>117,400,000</td>\n",
       "      <td>5,300,000</td>\n",
       "      <td>18,500</td>\n",
       "      <td>http://youtube.com/channel/UCX6OQ3DkcsbYNE6H8u...</td>\n",
       "    </tr>\n",
       "    <tr>\n",
       "      <th>2</th>\n",
       "      <td>3</td>\n",
       "      <td>CoComelon</td>\n",
       "      <td>Music</td>\n",
       "      <td>165,500,000</td>\n",
       "      <td>US</td>\n",
       "      <td>7,000,000</td>\n",
       "      <td>24,700</td>\n",
       "      <td>0</td>\n",
       "      <td>http://youtube.com/channel/UCbCmjCuTUZos6Inko4...</td>\n",
       "    </tr>\n",
       "    <tr>\n",
       "      <th>3</th>\n",
       "      <td>4</td>\n",
       "      <td>SETIndia</td>\n",
       "      <td>Entertainment</td>\n",
       "      <td>162,600,000</td>\n",
       "      <td>IN</td>\n",
       "      <td>15,600</td>\n",
       "      <td>166</td>\n",
       "      <td>9</td>\n",
       "      <td>http://youtube.com/channel/UCpEhnqL0y41EpW2TvW...</td>\n",
       "    </tr>\n",
       "    <tr>\n",
       "      <th>4</th>\n",
       "      <td>5</td>\n",
       "      <td>KidsDianaShow</td>\n",
       "      <td>Hobby</td>\n",
       "      <td>113,500,000</td>\n",
       "      <td>US</td>\n",
       "      <td>3,900,000</td>\n",
       "      <td>12,400</td>\n",
       "      <td>0</td>\n",
       "      <td>http://youtube.com/channel/UCk8GzjMOrta8yxDcKf...</td>\n",
       "    </tr>\n",
       "    <tr>\n",
       "      <th>...</th>\n",
       "      <td>...</td>\n",
       "      <td>...</td>\n",
       "      <td>...</td>\n",
       "      <td>...</td>\n",
       "      <td>...</td>\n",
       "      <td>...</td>\n",
       "      <td>...</td>\n",
       "      <td>...</td>\n",
       "      <td>...</td>\n",
       "    </tr>\n",
       "    <tr>\n",
       "      <th>995</th>\n",
       "      <td>996</td>\n",
       "      <td>hamzymukbang</td>\n",
       "      <td>Food</td>\n",
       "      <td>11,700,000</td>\n",
       "      <td>KR</td>\n",
       "      <td>397,400</td>\n",
       "      <td>14,000</td>\n",
       "      <td>124</td>\n",
       "      <td>http://youtube.com/channel/UCPKNKldggioffXPkSm...</td>\n",
       "    </tr>\n",
       "    <tr>\n",
       "      <th>996</th>\n",
       "      <td>997</td>\n",
       "      <td>Adaahqueen</td>\n",
       "      <td>Film</td>\n",
       "      <td>11,700,000</td>\n",
       "      <td>IN</td>\n",
       "      <td>1,100,000</td>\n",
       "      <td>92,500</td>\n",
       "      <td>164</td>\n",
       "      <td>http://youtube.com/channel/UCk3fFpqI5kDMf__mUP...</td>\n",
       "    </tr>\n",
       "    <tr>\n",
       "      <th>997</th>\n",
       "      <td>998</td>\n",
       "      <td>LittleAngelIndonesia</td>\n",
       "      <td>Entertainment</td>\n",
       "      <td>11,700,000</td>\n",
       "      <td>ID</td>\n",
       "      <td>211,400</td>\n",
       "      <td>745</td>\n",
       "      <td>0</td>\n",
       "      <td>http://youtube.com/channel/UCdrHrQf0o0TO8YDntX...</td>\n",
       "    </tr>\n",
       "    <tr>\n",
       "      <th>998</th>\n",
       "      <td>999</td>\n",
       "      <td>PenMultiplex</td>\n",
       "      <td>Film</td>\n",
       "      <td>11,700,000</td>\n",
       "      <td>IN</td>\n",
       "      <td>14,000</td>\n",
       "      <td>81</td>\n",
       "      <td>1</td>\n",
       "      <td>http://youtube.com/channel/UCObyBrdrtQ20BU9PxH...</td>\n",
       "    </tr>\n",
       "    <tr>\n",
       "      <th>999</th>\n",
       "      <td>1000</td>\n",
       "      <td>OneindiaHindi</td>\n",
       "      <td>Society</td>\n",
       "      <td>11,700,000</td>\n",
       "      <td>IN</td>\n",
       "      <td>2,200</td>\n",
       "      <td>31</td>\n",
       "      <td>1</td>\n",
       "      <td>http://youtube.com/channel/UCOjgc1p2hJ4GZi6pQQ...</td>\n",
       "    </tr>\n",
       "  </tbody>\n",
       "</table>\n",
       "<p>1000 rows × 9 columns</p>\n",
       "</div>"
      ],
      "text/plain": [
       "     Rank              Username     Categories   Suscribers Country  \\\n",
       "0       1               tseries  Entertainment  249,500,000      IN   \n",
       "1       2               MrBeast  Entertainment  183,500,000      US   \n",
       "2       3             CoComelon          Music  165,500,000      US   \n",
       "3       4              SETIndia  Entertainment  162,600,000      IN   \n",
       "4       5         KidsDianaShow          Hobby  113,500,000      US   \n",
       "..    ...                   ...            ...          ...     ...   \n",
       "995   996          hamzymukbang           Food   11,700,000      KR   \n",
       "996   997            Adaahqueen           Film   11,700,000      IN   \n",
       "997   998  LittleAngelIndonesia  Entertainment   11,700,000      ID   \n",
       "998   999          PenMultiplex           Film   11,700,000      IN   \n",
       "999  1000         OneindiaHindi        Society   11,700,000      IN   \n",
       "\n",
       "          Visits      Likes Comments  \\\n",
       "0         86,200      2,700       78   \n",
       "1    117,400,000  5,300,000   18,500   \n",
       "2      7,000,000     24,700        0   \n",
       "3         15,600        166        9   \n",
       "4      3,900,000     12,400        0   \n",
       "..           ...        ...      ...   \n",
       "995      397,400     14,000      124   \n",
       "996    1,100,000     92,500      164   \n",
       "997      211,400        745        0   \n",
       "998       14,000         81        1   \n",
       "999        2,200         31        1   \n",
       "\n",
       "                                                 Links  \n",
       "0    http://youtube.com/channel/UCq-Fj5jknLsUf-MWSy...  \n",
       "1    http://youtube.com/channel/UCX6OQ3DkcsbYNE6H8u...  \n",
       "2    http://youtube.com/channel/UCbCmjCuTUZos6Inko4...  \n",
       "3    http://youtube.com/channel/UCpEhnqL0y41EpW2TvW...  \n",
       "4    http://youtube.com/channel/UCk8GzjMOrta8yxDcKf...  \n",
       "..                                                 ...  \n",
       "995  http://youtube.com/channel/UCPKNKldggioffXPkSm...  \n",
       "996  http://youtube.com/channel/UCk3fFpqI5kDMf__mUP...  \n",
       "997  http://youtube.com/channel/UCdrHrQf0o0TO8YDntX...  \n",
       "998  http://youtube.com/channel/UCObyBrdrtQ20BU9PxH...  \n",
       "999  http://youtube.com/channel/UCOjgc1p2hJ4GZi6pQQ...  \n",
       "\n",
       "[1000 rows x 9 columns]"
      ]
     },
     "execution_count": 33,
     "metadata": {},
     "output_type": "execute_result"
    }
   ],
   "source": [
    "ruta = '/Users/lolonastri/Desktop/POO_UCEMA/parciales/primer_parcial/ejercicio2/Clean_Top_1000_Youtube_df - youtubers_df.txt'\n",
    "df_cleantop100 = pd.read_csv(ruta, sep='\\t', encoding='utf-8')\n",
    "df_cleantop100\n"
   ]
  },
  {
   "cell_type": "markdown",
   "metadata": {},
   "source": [
    "___"
   ]
  },
  {
   "cell_type": "code",
   "execution_count": 34,
   "metadata": {},
   "outputs": [
    {
     "name": "stdout",
     "output_type": "stream",
     "text": [
      "El dataset tiene 1000 filas.\n"
     ]
    }
   ],
   "source": [
    "# Cantidad de filas\n",
    "\n",
    "print(\"El dataset tiene \" + str(df_cleantop100.shape[0])+ \" filas.\")"
   ]
  },
  {
   "cell_type": "code",
   "execution_count": 35,
   "metadata": {},
   "outputs": [
    {
     "name": "stdout",
     "output_type": "stream",
     "text": [
      "El dataset tiene 9 columnas.\n"
     ]
    }
   ],
   "source": [
    "# Cantidad de columnas\n",
    "\n",
    "print(\"El dataset tiene \" + str(df_cleantop100.shape[1])+ \" columnas.\")"
   ]
  },
  {
   "cell_type": "code",
   "execution_count": 36,
   "metadata": {},
   "outputs": [
    {
     "data": {
      "text/plain": [
       "Index(['Rank', 'Username', 'Categories', 'Suscribers', 'Country', 'Visits',\n",
       "       'Likes', 'Comments', 'Links'],\n",
       "      dtype='object')"
      ]
     },
     "execution_count": 36,
     "metadata": {},
     "output_type": "execute_result"
    }
   ],
   "source": [
    "# Nombre de columnas\n",
    "\n",
    "df_cleantop100.columns"
   ]
  },
  {
   "cell_type": "code",
   "execution_count": 37,
   "metadata": {},
   "outputs": [
    {
     "data": {
      "text/plain": [
       "Rank           int64\n",
       "Username      object\n",
       "Categories    object\n",
       "Suscribers    object\n",
       "Country       object\n",
       "Visits        object\n",
       "Likes         object\n",
       "Comments      object\n",
       "Links         object\n",
       "dtype: object"
      ]
     },
     "execution_count": 37,
     "metadata": {},
     "output_type": "execute_result"
    }
   ],
   "source": [
    "# Tipo de columnas\n",
    "\n",
    "df_cleantop100.dtypes"
   ]
  },
  {
   "cell_type": "code",
   "execution_count": 38,
   "metadata": {},
   "outputs": [
    {
     "data": {
      "text/html": [
       "<div>\n",
       "<style scoped>\n",
       "    .dataframe tbody tr th:only-of-type {\n",
       "        vertical-align: middle;\n",
       "    }\n",
       "\n",
       "    .dataframe tbody tr th {\n",
       "        vertical-align: top;\n",
       "    }\n",
       "\n",
       "    .dataframe thead th {\n",
       "        text-align: right;\n",
       "    }\n",
       "</style>\n",
       "<table border=\"1\" class=\"dataframe\">\n",
       "  <thead>\n",
       "    <tr style=\"text-align: right;\">\n",
       "      <th></th>\n",
       "      <th>Rank</th>\n",
       "    </tr>\n",
       "  </thead>\n",
       "  <tbody>\n",
       "    <tr>\n",
       "      <th>count</th>\n",
       "      <td>1000.000000</td>\n",
       "    </tr>\n",
       "    <tr>\n",
       "      <th>mean</th>\n",
       "      <td>500.500000</td>\n",
       "    </tr>\n",
       "    <tr>\n",
       "      <th>std</th>\n",
       "      <td>288.819436</td>\n",
       "    </tr>\n",
       "    <tr>\n",
       "      <th>min</th>\n",
       "      <td>1.000000</td>\n",
       "    </tr>\n",
       "    <tr>\n",
       "      <th>25%</th>\n",
       "      <td>250.750000</td>\n",
       "    </tr>\n",
       "    <tr>\n",
       "      <th>50%</th>\n",
       "      <td>500.500000</td>\n",
       "    </tr>\n",
       "    <tr>\n",
       "      <th>75%</th>\n",
       "      <td>750.250000</td>\n",
       "    </tr>\n",
       "    <tr>\n",
       "      <th>max</th>\n",
       "      <td>1000.000000</td>\n",
       "    </tr>\n",
       "  </tbody>\n",
       "</table>\n",
       "</div>"
      ],
      "text/plain": [
       "              Rank\n",
       "count  1000.000000\n",
       "mean    500.500000\n",
       "std     288.819436\n",
       "min       1.000000\n",
       "25%     250.750000\n",
       "50%     500.500000\n",
       "75%     750.250000\n",
       "max    1000.000000"
      ]
     },
     "execution_count": 38,
     "metadata": {},
     "output_type": "execute_result"
    }
   ],
   "source": [
    "# Información básica\n",
    "\n",
    "df_cleantop100.describe()"
   ]
  },
  {
   "cell_type": "code",
   "execution_count": 39,
   "metadata": {},
   "outputs": [
    {
     "data": {
      "text/plain": [
       "Rank          0\n",
       "Username      0\n",
       "Categories    0\n",
       "Suscribers    0\n",
       "Country       0\n",
       "Visits        0\n",
       "Likes         0\n",
       "Comments      0\n",
       "Links         0\n",
       "dtype: int64"
      ]
     },
     "execution_count": 39,
     "metadata": {},
     "output_type": "execute_result"
    }
   ],
   "source": [
    "# Valores faltantes\n",
    "\n",
    "df_cleantop100.isnull().sum()"
   ]
  },
  {
   "cell_type": "code",
   "execution_count": 40,
   "metadata": {},
   "outputs": [
    {
     "data": {
      "text/plain": [
       "Rank          0.0\n",
       "Username      0.0\n",
       "Categories    0.0\n",
       "Suscribers    0.0\n",
       "Country       0.0\n",
       "Visits        0.0\n",
       "Likes         0.0\n",
       "Comments      0.0\n",
       "Links         0.0\n",
       "dtype: float64"
      ]
     },
     "execution_count": 40,
     "metadata": {},
     "output_type": "execute_result"
    }
   ],
   "source": [
    "# Porcentaje de faltantes\n",
    "\n",
    "(df_cleantop100.isnull().sum()/len(df_cleantop100))"
   ]
  },
  {
   "cell_type": "markdown",
   "metadata": {},
   "source": [
    "# Valores outliers"
   ]
  }
 ],
 "metadata": {
  "kernelspec": {
   "display_name": "POO-env",
   "language": "python",
   "name": "python3"
  },
  "language_info": {
   "codemirror_mode": {
    "name": "ipython",
    "version": 3
   },
   "file_extension": ".py",
   "mimetype": "text/x-python",
   "name": "python",
   "nbconvert_exporter": "python",
   "pygments_lexer": "ipython3",
   "version": "3.11.4"
  },
  "orig_nbformat": 4
 },
 "nbformat": 4,
 "nbformat_minor": 2
}
