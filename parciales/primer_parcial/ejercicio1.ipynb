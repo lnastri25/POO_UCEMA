{
 "cells": [
  {
   "cell_type": "markdown",
   "metadata": {},
   "source": [
    "# 1. Algoritmia\n",
    "Top K elementos frecuentes:\n",
    "\n",
    "Dada una matriz de números enteros y un número entero k, devuelve los k elementos más frecuentes. Puede devolver la respuesta en cualquier orden.\n",
    "\n",
    "- Ejemplo 1:\n",
    "Entrada: números = [1,1,1,2,2,3], k = 2\n",
    "Salida: [1,2]\n",
    "\n",
    "- Ejemplo 2:\n",
    "Entrada: números = [1], k = 1\n",
    "Salida: [1]"
   ]
  },
  {
   "cell_type": "code",
   "execution_count": 26,
   "metadata": {},
   "outputs": [
    {
     "name": "stdout",
     "output_type": "stream",
     "text": [
      "1\n"
     ]
    }
   ],
   "source": [
    "def elementos_frecuentes(numeros):\n",
    "\n",
    "    contador = {}\n",
    "\n",
    "    for numero in numeros:\n",
    "        if numero not in contador:\n",
    "            contador[numero] = 1\n",
    "        else:\n",
    "            del contador[numero]\n",
    "    \n",
    "    return list(contador.keys())[0]\n",
    "\n",
    "print(elementos_frecuentes([1,1,1,2,2,3]))"
   ]
  }
 ],
 "metadata": {
  "kernelspec": {
   "display_name": "POO-env",
   "language": "python",
   "name": "python3"
  },
  "language_info": {
   "codemirror_mode": {
    "name": "ipython",
    "version": 3
   },
   "file_extension": ".py",
   "mimetype": "text/x-python",
   "name": "python",
   "nbconvert_exporter": "python",
   "pygments_lexer": "ipython3",
   "version": "3.11.4"
  },
  "orig_nbformat": 4
 },
 "nbformat": 4,
 "nbformat_minor": 2
}
