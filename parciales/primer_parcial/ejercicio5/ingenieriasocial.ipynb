{
 "cells": [
  {
   "cell_type": "markdown",
   "metadata": {},
   "source": [
    "# 5. Ingeniería social:\n",
    "- Dataset: isla.csv\n",
    "\n",
    "Eres asesor de un gobernante en una isla del Caribe preocupado por el rápido crecimiento de la población. Se te ha pedido que realices un análisis de datos para entender las implicaciones de una política que limita el número de hijos que una mujer puede tener, basándose en el número de hijos que tuvo su madre.\n",
    "\n",
    "1. Crear la funcion policy_function que es la politica del gobierno. Seria tener 1 hijo o uno menos que su madre.\n",
    "2. Crear una nueva columnanum_children_next_gen  que sea resultado de aplicar esa funcion\n",
    "3. Ahora implementar este codigo\n",
    "\n",
    " ```\n",
    "# For each mother's family, replicate the row by the number of children she had\n",
    "# Then, assign the number of children each child in the next generation can have\n",
    "rows = []\n",
    "for idx, row in df_mothers.iterrows():\n",
    "    num_children = row['num_children_mother']\n",
    "    num_children_next_gen = row['num_children_next_gen']\n",
    "    for _ in range(num_children):\n",
    "        rows.append([row['family_id'], row['mother_id'], num_children, num_children_next_gen])\n",
    "```\n",
    "\n",
    "4. Crear un dataframe que tome como data las rows del loop anterior y tenga las siguientes columnas ['family_id', 'mother_id', 'num_children_mother', 'num_children_next_gen']\n",
    "5. Análisis Descriptivo: Realiza un análisis descriptivo del conjunto de datos. ¿Cuál es el tamaño promedio de la familia según las madres y según los hijos?\n",
    "6. Que sucede con la poblacion inicial de la madre y de los hijos? Crece o decrece? cuanta poblacion mas o cuanta menos?\n",
    "7. Fue la política exitosa?\n",
    "\n",
    "\n"
   ]
  },
  {
   "cell_type": "code",
   "execution_count": 30,
   "metadata": {},
   "outputs": [],
   "source": [
    "import pandas as pd\n",
    "import seaborn as sns\n",
    "import matplotlib.pyplot as plt\n",
    "import numpy as np"
   ]
  },
  {
   "cell_type": "code",
   "execution_count": 31,
   "metadata": {},
   "outputs": [
    {
     "data": {
      "text/html": [
       "<div>\n",
       "<style scoped>\n",
       "    .dataframe tbody tr th:only-of-type {\n",
       "        vertical-align: middle;\n",
       "    }\n",
       "\n",
       "    .dataframe tbody tr th {\n",
       "        vertical-align: top;\n",
       "    }\n",
       "\n",
       "    .dataframe thead th {\n",
       "        text-align: right;\n",
       "    }\n",
       "</style>\n",
       "<table border=\"1\" class=\"dataframe\">\n",
       "  <thead>\n",
       "    <tr style=\"text-align: right;\">\n",
       "      <th></th>\n",
       "      <th>Unnamed: 0</th>\n",
       "      <th>family_id</th>\n",
       "      <th>mother_id</th>\n",
       "      <th>num_children_mother</th>\n",
       "    </tr>\n",
       "  </thead>\n",
       "  <tbody>\n",
       "    <tr>\n",
       "      <th>0</th>\n",
       "      <td>0</td>\n",
       "      <td>1</td>\n",
       "      <td>1</td>\n",
       "      <td>9</td>\n",
       "    </tr>\n",
       "    <tr>\n",
       "      <th>1</th>\n",
       "      <td>1</td>\n",
       "      <td>2</td>\n",
       "      <td>2</td>\n",
       "      <td>1</td>\n",
       "    </tr>\n",
       "    <tr>\n",
       "      <th>2</th>\n",
       "      <td>2</td>\n",
       "      <td>3</td>\n",
       "      <td>3</td>\n",
       "      <td>4</td>\n",
       "    </tr>\n",
       "    <tr>\n",
       "      <th>3</th>\n",
       "      <td>3</td>\n",
       "      <td>4</td>\n",
       "      <td>4</td>\n",
       "      <td>5</td>\n",
       "    </tr>\n",
       "    <tr>\n",
       "      <th>4</th>\n",
       "      <td>4</td>\n",
       "      <td>5</td>\n",
       "      <td>5</td>\n",
       "      <td>9</td>\n",
       "    </tr>\n",
       "    <tr>\n",
       "      <th>...</th>\n",
       "      <td>...</td>\n",
       "      <td>...</td>\n",
       "      <td>...</td>\n",
       "      <td>...</td>\n",
       "    </tr>\n",
       "    <tr>\n",
       "      <th>995</th>\n",
       "      <td>995</td>\n",
       "      <td>996</td>\n",
       "      <td>996</td>\n",
       "      <td>1</td>\n",
       "    </tr>\n",
       "    <tr>\n",
       "      <th>996</th>\n",
       "      <td>996</td>\n",
       "      <td>997</td>\n",
       "      <td>997</td>\n",
       "      <td>2</td>\n",
       "    </tr>\n",
       "    <tr>\n",
       "      <th>997</th>\n",
       "      <td>997</td>\n",
       "      <td>998</td>\n",
       "      <td>998</td>\n",
       "      <td>5</td>\n",
       "    </tr>\n",
       "    <tr>\n",
       "      <th>998</th>\n",
       "      <td>998</td>\n",
       "      <td>999</td>\n",
       "      <td>999</td>\n",
       "      <td>6</td>\n",
       "    </tr>\n",
       "    <tr>\n",
       "      <th>999</th>\n",
       "      <td>999</td>\n",
       "      <td>1000</td>\n",
       "      <td>1000</td>\n",
       "      <td>4</td>\n",
       "    </tr>\n",
       "  </tbody>\n",
       "</table>\n",
       "<p>1000 rows × 4 columns</p>\n",
       "</div>"
      ],
      "text/plain": [
       "     Unnamed: 0  family_id  mother_id  num_children_mother\n",
       "0             0          1          1                    9\n",
       "1             1          2          2                    1\n",
       "2             2          3          3                    4\n",
       "3             3          4          4                    5\n",
       "4             4          5          5                    9\n",
       "..          ...        ...        ...                  ...\n",
       "995         995        996        996                    1\n",
       "996         996        997        997                    2\n",
       "997         997        998        998                    5\n",
       "998         998        999        999                    6\n",
       "999         999       1000       1000                    4\n",
       "\n",
       "[1000 rows x 4 columns]"
      ]
     },
     "execution_count": 31,
     "metadata": {},
     "output_type": "execute_result"
    }
   ],
   "source": [
    "df_isla = pd.read_csv('/Users/lolonastri/Desktop/POO_UCEMA/parciales/primer_parcial/ejercicio5/isla.csv')\n",
    "df_isla"
   ]
  },
  {
   "cell_type": "code",
   "execution_count": 32,
   "metadata": {},
   "outputs": [
    {
     "data": {
      "text/plain": [
       "Unnamed: 0             0\n",
       "family_id              0\n",
       "mother_id              0\n",
       "num_children_mother    0\n",
       "dtype: int64"
      ]
     },
     "execution_count": 32,
     "metadata": {},
     "output_type": "execute_result"
    }
   ],
   "source": [
    "df_isla.isnull().sum()"
   ]
  },
  {
   "cell_type": "code",
   "execution_count": 33,
   "metadata": {},
   "outputs": [
    {
     "data": {
      "text/plain": [
       "Unnamed: 0             int64\n",
       "family_id              int64\n",
       "mother_id              int64\n",
       "num_children_mother    int64\n",
       "dtype: object"
      ]
     },
     "execution_count": 33,
     "metadata": {},
     "output_type": "execute_result"
    }
   ],
   "source": [
    "df_isla.dtypes"
   ]
  },
  {
   "cell_type": "markdown",
   "metadata": {},
   "source": [
    "___"
   ]
  },
  {
   "cell_type": "markdown",
   "metadata": {},
   "source": [
    "# 1) Crear la funcion policy_function que es la politica del gobierno. Seria tener 1 hijo o uno menos que su madre (num_children_mother).\n",
    "\n",
    "# 2) Crear una nueva columna num_children_next_gen  que sea resultado de aplicar esa funcion"
   ]
  },
  {
   "cell_type": "code",
   "execution_count": 34,
   "metadata": {},
   "outputs": [],
   "source": [
    "def policy_function(row):\n",
    "    if row['num_children_mother'] == 1:\n",
    "        return 1\n",
    "    else:\n",
    "        return row['num_children_mother'] - 1\n",
    "\n",
    "df_isla['num_children_next_gen'] = df_isla.apply(policy_function, axis=1)"
   ]
  },
  {
   "cell_type": "code",
   "execution_count": 35,
   "metadata": {},
   "outputs": [
    {
     "data": {
      "text/html": [
       "<div>\n",
       "<style scoped>\n",
       "    .dataframe tbody tr th:only-of-type {\n",
       "        vertical-align: middle;\n",
       "    }\n",
       "\n",
       "    .dataframe tbody tr th {\n",
       "        vertical-align: top;\n",
       "    }\n",
       "\n",
       "    .dataframe thead th {\n",
       "        text-align: right;\n",
       "    }\n",
       "</style>\n",
       "<table border=\"1\" class=\"dataframe\">\n",
       "  <thead>\n",
       "    <tr style=\"text-align: right;\">\n",
       "      <th></th>\n",
       "      <th>Unnamed: 0</th>\n",
       "      <th>family_id</th>\n",
       "      <th>mother_id</th>\n",
       "      <th>num_children_mother</th>\n",
       "      <th>num_children_next_gen</th>\n",
       "    </tr>\n",
       "  </thead>\n",
       "  <tbody>\n",
       "    <tr>\n",
       "      <th>0</th>\n",
       "      <td>0</td>\n",
       "      <td>1</td>\n",
       "      <td>1</td>\n",
       "      <td>9</td>\n",
       "      <td>8</td>\n",
       "    </tr>\n",
       "    <tr>\n",
       "      <th>1</th>\n",
       "      <td>1</td>\n",
       "      <td>2</td>\n",
       "      <td>2</td>\n",
       "      <td>1</td>\n",
       "      <td>1</td>\n",
       "    </tr>\n",
       "    <tr>\n",
       "      <th>2</th>\n",
       "      <td>2</td>\n",
       "      <td>3</td>\n",
       "      <td>3</td>\n",
       "      <td>4</td>\n",
       "      <td>3</td>\n",
       "    </tr>\n",
       "    <tr>\n",
       "      <th>3</th>\n",
       "      <td>3</td>\n",
       "      <td>4</td>\n",
       "      <td>4</td>\n",
       "      <td>5</td>\n",
       "      <td>4</td>\n",
       "    </tr>\n",
       "    <tr>\n",
       "      <th>4</th>\n",
       "      <td>4</td>\n",
       "      <td>5</td>\n",
       "      <td>5</td>\n",
       "      <td>9</td>\n",
       "      <td>8</td>\n",
       "    </tr>\n",
       "    <tr>\n",
       "      <th>...</th>\n",
       "      <td>...</td>\n",
       "      <td>...</td>\n",
       "      <td>...</td>\n",
       "      <td>...</td>\n",
       "      <td>...</td>\n",
       "    </tr>\n",
       "    <tr>\n",
       "      <th>995</th>\n",
       "      <td>995</td>\n",
       "      <td>996</td>\n",
       "      <td>996</td>\n",
       "      <td>1</td>\n",
       "      <td>1</td>\n",
       "    </tr>\n",
       "    <tr>\n",
       "      <th>996</th>\n",
       "      <td>996</td>\n",
       "      <td>997</td>\n",
       "      <td>997</td>\n",
       "      <td>2</td>\n",
       "      <td>1</td>\n",
       "    </tr>\n",
       "    <tr>\n",
       "      <th>997</th>\n",
       "      <td>997</td>\n",
       "      <td>998</td>\n",
       "      <td>998</td>\n",
       "      <td>5</td>\n",
       "      <td>4</td>\n",
       "    </tr>\n",
       "    <tr>\n",
       "      <th>998</th>\n",
       "      <td>998</td>\n",
       "      <td>999</td>\n",
       "      <td>999</td>\n",
       "      <td>6</td>\n",
       "      <td>5</td>\n",
       "    </tr>\n",
       "    <tr>\n",
       "      <th>999</th>\n",
       "      <td>999</td>\n",
       "      <td>1000</td>\n",
       "      <td>1000</td>\n",
       "      <td>4</td>\n",
       "      <td>3</td>\n",
       "    </tr>\n",
       "  </tbody>\n",
       "</table>\n",
       "<p>1000 rows × 5 columns</p>\n",
       "</div>"
      ],
      "text/plain": [
       "     Unnamed: 0  family_id  mother_id  num_children_mother  \\\n",
       "0             0          1          1                    9   \n",
       "1             1          2          2                    1   \n",
       "2             2          3          3                    4   \n",
       "3             3          4          4                    5   \n",
       "4             4          5          5                    9   \n",
       "..          ...        ...        ...                  ...   \n",
       "995         995        996        996                    1   \n",
       "996         996        997        997                    2   \n",
       "997         997        998        998                    5   \n",
       "998         998        999        999                    6   \n",
       "999         999       1000       1000                    4   \n",
       "\n",
       "     num_children_next_gen  \n",
       "0                        8  \n",
       "1                        1  \n",
       "2                        3  \n",
       "3                        4  \n",
       "4                        8  \n",
       "..                     ...  \n",
       "995                      1  \n",
       "996                      1  \n",
       "997                      4  \n",
       "998                      5  \n",
       "999                      3  \n",
       "\n",
       "[1000 rows x 5 columns]"
      ]
     },
     "execution_count": 35,
     "metadata": {},
     "output_type": "execute_result"
    }
   ],
   "source": [
    "df_isla"
   ]
  },
  {
   "cell_type": "markdown",
   "metadata": {},
   "source": [
    "___"
   ]
  },
  {
   "cell_type": "markdown",
   "metadata": {},
   "source": [
    "# 3) Ahora implementar este codigo\n",
    "\n",
    " ```\n",
    "# For each mother's family, replicate the row by the number of children she had\n",
    "# Then, assign the number of children each child in the next generation can have\n",
    "rows = []\n",
    "for idx, row in df_mothers.iterrows():\n",
    "    num_children = row['num_children_mother']\n",
    "    num_children_next_gen = row['num_children_next_gen']\n",
    "    for _ in range(num_children):\n",
    "        rows.append([row['family_id'], row['mother_id'], num_children, num_children_next_gen])\n",
    "```"
   ]
  },
  {
   "cell_type": "code",
   "execution_count": 36,
   "metadata": {},
   "outputs": [],
   "source": [
    "# For each mother's family, replicate the row by the number of children she had\n",
    "# Then, assign the number of children each child in the next generation can have\n",
    "rows = []\n",
    "for idx, row in df_isla.iterrows():\n",
    "    num_children = row['num_children_mother']\n",
    "    num_children_next_gen = row['num_children_next_gen']\n",
    "    for _ in range(num_children):\n",
    "        rows.append([row['family_id'], row['mother_id'], num_children, num_children_next_gen])"
   ]
  },
  {
   "cell_type": "markdown",
   "metadata": {},
   "source": [
    "___"
   ]
  },
  {
   "cell_type": "markdown",
   "metadata": {},
   "source": [
    "# 4) Crear un dataframe que tome como data las rows del loop anterior y tenga las siguientes columnas ['family_id', 'mother_id', 'num_children_mother', 'num_children_next_gen']"
   ]
  },
  {
   "cell_type": "code",
   "execution_count": 37,
   "metadata": {},
   "outputs": [],
   "source": [
    "df_isla2 = pd.DataFrame(rows, columns=['family_id', 'mother_id', 'num_children_mother', 'num_children_next_gen'])"
   ]
  },
  {
   "cell_type": "code",
   "execution_count": 38,
   "metadata": {},
   "outputs": [
    {
     "data": {
      "text/html": [
       "<div>\n",
       "<style scoped>\n",
       "    .dataframe tbody tr th:only-of-type {\n",
       "        vertical-align: middle;\n",
       "    }\n",
       "\n",
       "    .dataframe tbody tr th {\n",
       "        vertical-align: top;\n",
       "    }\n",
       "\n",
       "    .dataframe thead th {\n",
       "        text-align: right;\n",
       "    }\n",
       "</style>\n",
       "<table border=\"1\" class=\"dataframe\">\n",
       "  <thead>\n",
       "    <tr style=\"text-align: right;\">\n",
       "      <th></th>\n",
       "      <th>family_id</th>\n",
       "      <th>mother_id</th>\n",
       "      <th>num_children_mother</th>\n",
       "      <th>num_children_next_gen</th>\n",
       "    </tr>\n",
       "  </thead>\n",
       "  <tbody>\n",
       "    <tr>\n",
       "      <th>0</th>\n",
       "      <td>1</td>\n",
       "      <td>1</td>\n",
       "      <td>9</td>\n",
       "      <td>8</td>\n",
       "    </tr>\n",
       "    <tr>\n",
       "      <th>1</th>\n",
       "      <td>1</td>\n",
       "      <td>1</td>\n",
       "      <td>9</td>\n",
       "      <td>8</td>\n",
       "    </tr>\n",
       "    <tr>\n",
       "      <th>2</th>\n",
       "      <td>1</td>\n",
       "      <td>1</td>\n",
       "      <td>9</td>\n",
       "      <td>8</td>\n",
       "    </tr>\n",
       "    <tr>\n",
       "      <th>3</th>\n",
       "      <td>1</td>\n",
       "      <td>1</td>\n",
       "      <td>9</td>\n",
       "      <td>8</td>\n",
       "    </tr>\n",
       "    <tr>\n",
       "      <th>4</th>\n",
       "      <td>1</td>\n",
       "      <td>1</td>\n",
       "      <td>9</td>\n",
       "      <td>8</td>\n",
       "    </tr>\n",
       "    <tr>\n",
       "      <th>...</th>\n",
       "      <td>...</td>\n",
       "      <td>...</td>\n",
       "      <td>...</td>\n",
       "      <td>...</td>\n",
       "    </tr>\n",
       "    <tr>\n",
       "      <th>5328</th>\n",
       "      <td>999</td>\n",
       "      <td>999</td>\n",
       "      <td>6</td>\n",
       "      <td>5</td>\n",
       "    </tr>\n",
       "    <tr>\n",
       "      <th>5329</th>\n",
       "      <td>1000</td>\n",
       "      <td>1000</td>\n",
       "      <td>4</td>\n",
       "      <td>3</td>\n",
       "    </tr>\n",
       "    <tr>\n",
       "      <th>5330</th>\n",
       "      <td>1000</td>\n",
       "      <td>1000</td>\n",
       "      <td>4</td>\n",
       "      <td>3</td>\n",
       "    </tr>\n",
       "    <tr>\n",
       "      <th>5331</th>\n",
       "      <td>1000</td>\n",
       "      <td>1000</td>\n",
       "      <td>4</td>\n",
       "      <td>3</td>\n",
       "    </tr>\n",
       "    <tr>\n",
       "      <th>5332</th>\n",
       "      <td>1000</td>\n",
       "      <td>1000</td>\n",
       "      <td>4</td>\n",
       "      <td>3</td>\n",
       "    </tr>\n",
       "  </tbody>\n",
       "</table>\n",
       "<p>5333 rows × 4 columns</p>\n",
       "</div>"
      ],
      "text/plain": [
       "      family_id  mother_id  num_children_mother  num_children_next_gen\n",
       "0             1          1                    9                      8\n",
       "1             1          1                    9                      8\n",
       "2             1          1                    9                      8\n",
       "3             1          1                    9                      8\n",
       "4             1          1                    9                      8\n",
       "...         ...        ...                  ...                    ...\n",
       "5328        999        999                    6                      5\n",
       "5329       1000       1000                    4                      3\n",
       "5330       1000       1000                    4                      3\n",
       "5331       1000       1000                    4                      3\n",
       "5332       1000       1000                    4                      3\n",
       "\n",
       "[5333 rows x 4 columns]"
      ]
     },
     "execution_count": 38,
     "metadata": {},
     "output_type": "execute_result"
    }
   ],
   "source": [
    "df_isla2"
   ]
  },
  {
   "cell_type": "markdown",
   "metadata": {},
   "source": [
    "___"
   ]
  },
  {
   "cell_type": "markdown",
   "metadata": {},
   "source": [
    "# 5) Análisis Descriptivo: Realiza un análisis descriptivo del conjunto de datos. ¿Cuál es el tamaño promedio de la familia según las madres y según los hijos?"
   ]
  },
  {
   "cell_type": "code",
   "execution_count": 46,
   "metadata": {},
   "outputs": [
    {
     "data": {
      "text/plain": [
       "5.333"
      ]
     },
     "execution_count": 46,
     "metadata": {},
     "output_type": "execute_result"
    }
   ],
   "source": [
    "df_isla[\"num_children_mother\"].mean()"
   ]
  },
  {
   "cell_type": "code",
   "execution_count": 47,
   "metadata": {},
   "outputs": [
    {
     "data": {
      "text/plain": [
       "5.906056628539284"
      ]
     },
     "execution_count": 47,
     "metadata": {},
     "output_type": "execute_result"
    }
   ],
   "source": [
    "df_isla2[\"num_children_next_gen\"].mean() # como estaria la familia a futuro (por eso lo hago sobre el segundo dataset)"
   ]
  },
  {
   "cell_type": "markdown",
   "metadata": {},
   "source": [
    "___"
   ]
  },
  {
   "cell_type": "markdown",
   "metadata": {},
   "source": [
    "# 6) ¿Que sucede con la poblacion inicial de la madre y de los hijos? Crece o decrece? cuanta poblacion mas o cuanta menos?\n",
    "\n",
    "#### La población de la madre va a ser mayor que la de los hijos, ya que los mismos van a poder tener n-1 cantidad de hijos que sus madres, exceptuando a aquellos que su valor es 0, los cuales van a tener 1 hijo. Por lo tanto la población de los hijos va a decrecer."
   ]
  },
  {
   "cell_type": "code",
   "execution_count": 41,
   "metadata": {},
   "outputs": [
    {
     "data": {
      "text/plain": [
       "36723"
      ]
     },
     "execution_count": 41,
     "metadata": {},
     "output_type": "execute_result"
    }
   ],
   "source": [
    "df_isla2[\"num_children_mother\"].sum()"
   ]
  },
  {
   "cell_type": "code",
   "execution_count": 42,
   "metadata": {},
   "outputs": [
    {
     "data": {
      "text/plain": [
       "31497"
      ]
     },
     "execution_count": 42,
     "metadata": {},
     "output_type": "execute_result"
    }
   ],
   "source": [
    "df_isla2[\"num_children_next_gen\"].sum()"
   ]
  },
  {
   "cell_type": "code",
   "execution_count": 43,
   "metadata": {},
   "outputs": [
    {
     "name": "stdout",
     "output_type": "stream",
     "text": [
      "La diferencia de poblacion inicial es de: 5226\n"
     ]
    }
   ],
   "source": [
    "diferencia_de_poblacion_inicial = df_isla2[\"num_children_mother\"].sum() - df_isla2[\"num_children_next_gen\"].sum()\n",
    "print(\"La diferencia de poblacion inicial es de:\", diferencia_de_poblacion_inicial)"
   ]
  },
  {
   "cell_type": "markdown",
   "metadata": {},
   "source": [
    "___"
   ]
  },
  {
   "cell_type": "markdown",
   "metadata": {},
   "source": [
    "# 7) ¿Fue la política exitosa?\n",
    "\n",
    "#### La política fue exitosa, ya que la población de los hijos decreció."
   ]
  }
 ],
 "metadata": {
  "kernelspec": {
   "display_name": "POO-env",
   "language": "python",
   "name": "python3"
  },
  "language_info": {
   "codemirror_mode": {
    "name": "ipython",
    "version": 3
   },
   "file_extension": ".py",
   "mimetype": "text/x-python",
   "name": "python",
   "nbconvert_exporter": "python",
   "pygments_lexer": "ipython3",
   "version": "3.11.4"
  },
  "orig_nbformat": 4
 },
 "nbformat": 4,
 "nbformat_minor": 2
}
