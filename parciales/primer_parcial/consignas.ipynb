{
 "cells": [
  {
   "cell_type": "markdown",
   "id": "b0e7c9b9a06c7b1a",
   "metadata": {
    "collapsed": false
   },
   "source": [
    "## DATASETS\n",
    "\n",
    "https://drive.google.com/drive/folders/1PJLufnKYGBethO1uVtTbVlvRgUsrClZM?usp=sharing"
   ]
  },
  {
   "attachments": {},
   "cell_type": "markdown",
   "id": "db2338d0e31263ee",
   "metadata": {
    "collapsed": false
   },
   "source": [
    "# 1. Algoritmia\n",
    "Top K elementos frecuentes:\n",
    "\n",
    "Dada una matriz de números enteros y un número entero k, devuelve los k elementos más frecuentes. Puede devolver la respuesta en cualquier orden.\n",
    "\n",
    "- Ejemplo 1:\n",
    "Entrada: números = [1,1,1,2,2,3], k = 2\n",
    "Salida: [1,2]\n",
    "\n",
    "- Ejemplo 2:\n",
    "Entrada: números = [1], k = 1\n",
    "Salida: [1]\n",
    "\n",
    "\n",
    "# 2. Datasets: Lectura, y eda simple\n",
    "De los siguientes dataset, se deben cargar en el notebook de python, determinar la cantidad de filas, cantidad de columnas, nombre y tipo de columnas, información estadística básica (describe), faltantes y outliers.\n",
    "\n",
    "- bitcoin_price_dataset_2015_2023.csv\n",
    "- mLabel_tweets.tsv\n",
    "- Clean_Top_1000_Youtube_df - youtubers_df.txt\n",
    "- Dry_Bean_Dataset.xlsx\n"
   ]
  },
  {
   "attachments": {},
   "cell_type": "markdown",
   "id": "e2e4993c70962255",
   "metadata": {
    "collapsed": false
   },
   "source": [
    "# 3. Tamaño de clase de Universidad \n",
    "- Dataset: tamaño_de_clase.csv\n",
    "\n",
    "Imaginemos una universidad donde la oficina del Decano publica datos que indican que el tamaño promedio de las clases es de 25 estudiantes. Sin embargo, al hablar con los estudiantes, muchos de ellos afirman que el tamaño promedio de las clases que han experimentado es más cercano a 28 estudiantes.\n",
    "\n",
    "\n",
    "Calcule en python y explique:\n",
    "1. Calcule en python el promedio desde todos los puntos de vista posibles\n",
    "2. ¿Quién está sesgado en su cálculo del tamaño promedio de la clase, el Decano o el Estudiante?\n",
    "3. Proporcione una solucion al sesgo.\n"
   ]
  },
  {
   "attachments": {},
   "cell_type": "markdown",
   "id": "66abdc5e81a46cbd",
   "metadata": {
    "collapsed": false
   },
   "source": [
    "# 4. Prematuros\n",
    "- Dataset: embarazo.csv\n",
    "\n",
    "Cuando se espera un hijo, en EEUU es común escuchar que los primeros hijos suelen nacer tarde, pero también se escucha lo contrario, que tienden a nacer temprano. \n",
    "\n",
    "Este examen busca resolver este debate utilizando un conjunto de datos del National Survey of Family Growth, administrado por el CDC.\n",
    "\n",
    "## consignas\n",
    "\n",
    "1. Creación de Variables para el Análisis: Utiliza el conjunto de datos para crear una columna que represente la duración real del embarazo en semanas.\n",
    "\n",
    "2. ¿Cual idea es la correcta? madres primerizas tienen el hijo mas tarde o por el contrario?\n",
    "\n",
    "3. ¿Hay una diferencia estadísticamente significativa en la duración promedio de los embarazos entre madres primerizas y madres con más hijos?\n",
    "    * Realiza una prueba t de dos muestras para comparar las medias. El test a continuacion. Para ejecutarlo hay que aislar la variable estudiada segun los dos grupos\n",
    " ```\n",
    "from scipy.stats import ttest_ind\n",
    "\n",
    "group1 = #madres primerizas\n",
    "group2 = #madres no primerizas\n",
    "\n",
    "t_stat, p_value = ttest_ind(group1, group2)\n",
    "\n",
    "if p_value < 0.05:\n",
    "    print(\"Rechazar la hipótesis nula. Hay una diferencia significativa de duracion de semanas entre madres primerizas y no primerizas.\")\n",
    "else:\n",
    "    print(\"No rechazar la hipótesis nula.\")\n",
    "```\n",
    "       \n",
    "* Visualiza distribuciones. Se llega a la misma conclusion ¿Por qué?\n",
    "\n",
    "4. Calcular la media y la mediana de la duración del embarazo.\n",
    "      \n",
    "### Exploración del Proceso \"Sin Memoria\"\n",
    "\n",
    "\n",
    "Exploración del Proceso \"Sin Memoria\"\n",
    "\n",
    "El fenómeno de \"sin memoria\" en la duración de los embarazos se refiere a que el tiempo restante estimado para el parto no depende del tiempo que ya ha pasado. Este fenómeno es característico de las distribuciones exponenciales y se observa en otros procesos estocásticos-\n",
    "\n",
    "5. Si el tiempo estimado es la semana 37, cuantas muestras por pais superan esa semana. Cuantas estan por debajo de esa semana.\n",
    "\n",
    "6. ¿Cual seria una buena estimación en caso de que supere la semana 37? ¿Cual seria una buena estimación en caso de que este por debajo de la semana 37?\n",
    "\n",
    "7. Duración Promedio del Embarazo: Calcula y compara la duración promedio del embarazo para madres primerizas y madres con más hijos.\n",
    "\n"
   ]
  },
  {
   "attachments": {},
   "cell_type": "markdown",
   "id": "92a00fc02cf414e3",
   "metadata": {
    "collapsed": false
   },
   "source": [
    "# 5. Ingeniería social:\n",
    "- Dataset: isla.csv\n",
    "\n",
    "Eres asesor de un gobernante en una isla del Caribe preocupado por el rápido crecimiento de la población. Se te ha pedido que realices un análisis de datos para entender las implicaciones de una política que limita el número de hijos que una mujer puede tener, basándose en el número de hijos que tuvo su madre.\n",
    "\n",
    "1. Crear la funcion policy_function que es la politica del gobierno. Seria tener 1 hijo o uno menos que su madre.\n",
    "2. Crear una nueva columnanum_children_next_gen  que sea resultado de aplicar esa funcion\n",
    "3. Ahora implementar este codigo\n",
    "\n",
    " ```\n",
    "# For each mother's family, replicate the row by the number of children she had\n",
    "# Then, assign the number of children each child in the next generation can have\n",
    "rows = []\n",
    "for idx, row in df_mothers.iterrows():\n",
    "    num_children = row['num_children_mother']\n",
    "    num_children_next_gen = row['num_children_next_gen']\n",
    "    for _ in range(num_children):\n",
    "        rows.append([row['family_id'], row['mother_id'], num_children, num_children_next_gen])\n",
    "```\n",
    "\n",
    "4. Crear un dataframe que tome como data las rows del loop anterior y tenga las siguientes columnas ['family_id', 'mother_id', 'num_children_mother', 'num_children_next_gen']\n",
    "5. Análisis Descriptivo: Realiza un análisis descriptivo del conjunto de datos. ¿Cuál es el tamaño promedio de la familia según las madres y según los hijos?\n",
    "6. Que sucede con la poblacion inicial de la madre y de los hijos? Crece o decrece? cuanta poblacion mas o cuanta menos?\n",
    "7. Fue la política exitosa?\n",
    "\n",
    "\n"
   ]
  },
  {
   "cell_type": "markdown",
   "id": "a29e309edf21c0d7",
   "metadata": {
    "collapsed": false
   },
   "source": [
    "# Tabaquismo Alcohol\n",
    "1. Levantar los tres dataframes Nivel de actividad fisical 2022 y 2023 + tabaquismo y alcohol\n",
    "2. Unificar todos los dataset de 2023 y tener todas las columnas igual que el 2022\n",
    "3. Crear un dataset que tenga toda la data de 2022 y 2023\n",
    "4. Relacion entre consumo de alcohol y cancer (hint groupby mean)\n",
    "5. Relacion entre tabaquismo y cancer (hint groupby)\n",
    "6. Correlacion entre tabaquismo y cancer\n",
    "7. Correlacion entre consumo de alcohol y cancer\n",
    "8. ¿Cree que es el alcohol o es el tabaquismo el mayor causante de cancer? "
   ]
  },
  {
   "cell_type": "markdown",
   "id": "223b3d2869157ddc",
   "metadata": {
    "collapsed": false
   },
   "source": [
    "# Teoria\n",
    "\n",
    "1. Que son los epiciclos de analisis. ¿En que consisten?\n",
    "2. Que significa la inferencia y cual es la diferencia a la descripción de datos?\n",
    "3. Cuales son las tareas en una organizacion basada en datos de los ingenieros de datos y cual es la diferencia con los cientificos de datos y analistas de datos"
   ]
  }
 ],
 "metadata": {
  "kernelspec": {
   "display_name": "Python 3",
   "language": "python",
   "name": "python3"
  },
  "language_info": {
   "codemirror_mode": {
    "name": "ipython",
    "version": 2
   },
   "file_extension": ".py",
   "mimetype": "text/x-python",
   "name": "python",
   "nbconvert_exporter": "python",
   "pygments_lexer": "ipython2",
   "version": "2.7.6"
  }
 },
 "nbformat": 4,
 "nbformat_minor": 5
}
