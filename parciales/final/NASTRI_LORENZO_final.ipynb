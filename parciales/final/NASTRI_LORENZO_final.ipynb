{
 "cells": [
  {
   "cell_type": "markdown",
   "id": "3ed2d0d69888513b",
   "metadata": {
    "collapsed": false
   },
   "source": [
    "\n",
    "# Examen Final\n",
    "\n",
    "* Finalización: 11am\n",
    "\n",
    "\n",
    "El examen es a libro abierto. \n",
    "* Se permite googlear.\n",
    "Será considerado cómo descalificación y caerá sobre el alumno todo el peso del reglamento académico el caso de que el alumno:\n",
    "* Use una llms (Bard, chatgpt, bing,etc)\n",
    "* Se mensajee con otros alumnos\n",
    "\n",
    "\n",
    "\n",
    "# Ejercicio 1: Regresión (30pts)\n",
    "**dataset**: \"ventas_de_autos.csv\"\n",
    "**link**:  https://drive.google.com/file/d/1Uy4I3xus9Rh2MlhEkLNFo10FKuSNKdTQ/view?usp=sharing\n",
    "\n",
    "*Contexto:\n",
    "En un trabajo te piden predecir las ventas en función a las distintas variables que los ingenieros de datos pudieron recolectar. Se espera una interpretación clara sobre las razones que determinan las ventas de un auto.*\n",
    "\n",
    "1. Entrene una regresión con statsmodels. (5pts/30pts)\n",
    "2. ¿Hay que considerar una variable que tiene un p-valor menor a 0.5?  (5pts/30pts)\n",
    "3. ¿Que variable de tu regresión tiene un p-valor menor a 0.5? (2.5pts/30pts)\n",
    "4. Manteniendo todas las variables constantes. ¿Cual es el aumento esperado de las ventas si el auto es de japón?  (5pts/30pts)\n",
    "5. Manteniendo todas las variables constantes. ¿Cual es el aumento o disminución esperada de las ventas si aumenta en 1 la edad del auto? (5pts/30pts)\n",
    "6. Prediga las ventas para un auto que tiene 116mil de kilometraje, el pais de origen es Estados Unidos, el Ranking en revistas de auto es de 150, el precio de mercado libre es de  50.000 y la fecha_de_elaboracion es de 2015 (7.5pts/30pts)\n",
    "\n",
    "# Ejercicio 2: Clasificación. (40pts)\n",
    "**dataset**: \"leads_a_clientes.csv\"\n",
    "**link** https://drive.google.com/file/d/1v0o7z70v06NIaBbmo6kwXdZX6pPf8Bdr/view?usp=sharing\n",
    "\n",
    "*Contexto:\n",
    "Se refieren cómo leads a aquellos clientes que son los prospectos, esto es, potenciales clientes que luego deciden si convertirse o no en clientes. Tu hipotesis es que dada la interacción del cliente con la empresa y sus caracteristicas, hay clientes con mayor probabilidad de conversión que otros.*\n",
    "\n",
    "1. Calcular la variable edad (2pts/40pts)\n",
    "2. Graficar boxplot de la variable edad (2pts/40pts)\n",
    "3. Graficar boxplot de la variable  ingreso_estimado en funcion de la variable categoria.(2pts/40pts)\n",
    "4. ¿A que conclusión llega en base al anterior boxplot? En base a esa explicación decida si debe sacar una categoria o no. (8pts/40pts)\n",
    "5. Grafique la variable cantidad_mensajes en funcion de si es cliente o no. (2pts/40pts)\n",
    "4. ¿Que conclusiones llega segun este gráfico? Que hipotesis tiene? (4pts/40pts)\n",
    "5. Separar train y test (1pts/40pts)\n",
    "6. Entrene un arbol de decision (1pts/40pts)\n",
    "7. Prediga en test  (4pts/40pts)\n",
    "8. Grafique una matriz de confusión de test. (2pts/40pts)\n",
    "9. Grafique un árbol. (4pts/40pts)\n",
    "10. ¿Cual es la variable del root node? ¿Que significa? Explique teniendo en cuenta el criterio de Gini Index (8pts/40pts)\n",
    "\n",
    "# Ejercicio 3: ROI (30pts)\n",
    "**datos**: Resultado del ejercicio anterior.\n",
    "\n",
    "Teniendo en cuenta los resultados de la matriz de confusión en test del ejercicio anterior.\n",
    "\n",
    "*Contexto: Tus hipotesis fueron demostradas dado el analisis de los puntos anteriores. Es decir, demostraste que esas variables eran consistentes con predecir que cliente va a convertir o no. Por lo tanto dado tu algoritmo la idea es generar una acción de la empresa. Hacer publicidad a los leads que predecis cómo clientes. Para esto debes responder:*\n",
    "\n",
    "1. Si una publicidad cuesta 10 ¿Cuanto sería la publicidad desperdiciada?  (10pts/30pts)\n",
    "2. Mirando la matriz de confusión cálcule el ROI del modelo suponiendo que la ganancia de un cliente por convertir es de 150, el costo de publicidad es de 10 y la inversión total corresponde al costo de publicidad total. (20pts/30pts)\n"
   ]
  },
  {
   "cell_type": "markdown",
   "id": "8cb1ddbe",
   "metadata": {},
   "source": [
    "___"
   ]
  },
  {
   "cell_type": "code",
   "execution_count": 879,
   "id": "adb06776989cf06f",
   "metadata": {
    "ExecuteTime": {
     "end_time": "2023-12-11T12:20:42.548319200Z",
     "start_time": "2023-12-11T12:20:42.485430500Z"
    },
    "collapsed": false
   },
   "outputs": [],
   "source": [
    "import seaborn as sns\n",
    "import numpy as np\n",
    "import pandas as pd\n",
    "from sklearn.model_selection import train_test_split\n",
    "from sklearn.tree import DecisionTreeClassifier\n",
    "from sklearn.metrics import confusion_matrix, accuracy_score, precision_score, recall_score\n",
    "import seaborn as sns\n",
    "import matplotlib.pyplot as plt\n",
    "import warnings\n",
    "warnings.filterwarnings(\"ignore\")"
   ]
  },
  {
   "cell_type": "markdown",
   "id": "d81e9a79",
   "metadata": {},
   "source": [
    "# Ejercicio 1: Regresión (30pts)\n",
    "**dataset**: \"ventas_de_autos.csv\"\n",
    "**link**:  https://drive.google.com/file/d/1Uy4I3xus9Rh2MlhEkLNFo10FKuSNKdTQ/view?usp=sharing\n",
    "\n",
    "*Contexto:\n",
    "En un trabajo te piden predecir las ventas en función a las distintas variables que los ingenieros de datos pudieron recolectar. Se espera una interpretación clara sobre las razones que determinan las ventas de un auto.*\n",
    "\n",
    "1. Entrene una regresión con statsmodels. (5pts/30pts)\n",
    "2. ¿Hay que considerar una variable que tiene un p-valor menor a 0.5?  (5pts/30pts)\n",
    "3. ¿Que variable de tu regresión tiene un p-valor menor a 0.5? (2.5pts/30pts)\n",
    "4. Manteniendo todas las variables constantes. ¿Cual es el aumento esperado de las ventas si el auto es de japón?  (5pts/30pts)\n",
    "5. Manteniendo todas las variables constantes. ¿Cual es el aumento o disminución esperada de las ventas si aumenta en 1 la edad del auto? (5pts/30pts)\n",
    "6. Prediga las ventas para un auto que tiene 116mil de kilometraje, el pais de origen es Estados Unidos, el Ranking en revistas de auto es de 150, el precio de mercado libre es de  50.000 y la fecha_de_elaboracion es de 2015 (7.5pts/30pts)"
   ]
  },
  {
   "cell_type": "code",
   "execution_count": 880,
   "id": "e878f01615ee438",
   "metadata": {
    "collapsed": false
   },
   "outputs": [
    {
     "data": {
      "text/html": [
       "<div>\n",
       "<style scoped>\n",
       "    .dataframe tbody tr th:only-of-type {\n",
       "        vertical-align: middle;\n",
       "    }\n",
       "\n",
       "    .dataframe tbody tr th {\n",
       "        vertical-align: top;\n",
       "    }\n",
       "\n",
       "    .dataframe thead th {\n",
       "        text-align: right;\n",
       "    }\n",
       "</style>\n",
       "<table border=\"1\" class=\"dataframe\">\n",
       "  <thead>\n",
       "    <tr style=\"text-align: right;\">\n",
       "      <th></th>\n",
       "      <th>Unnamed: 0</th>\n",
       "      <th>Kilometraje</th>\n",
       "      <th>Pais de Origen</th>\n",
       "      <th>Ranking en revistas de auto</th>\n",
       "      <th>precio en mercado libre</th>\n",
       "      <th>fecha_de_elaboracion</th>\n",
       "      <th>ventas</th>\n",
       "    </tr>\n",
       "  </thead>\n",
       "  <tbody>\n",
       "    <tr>\n",
       "      <th>0</th>\n",
       "      <td>0</td>\n",
       "      <td>112018.633266</td>\n",
       "      <td>Japón</td>\n",
       "      <td>148</td>\n",
       "      <td>61584.272399</td>\n",
       "      <td>2014-04-22</td>\n",
       "      <td>1.202479e+06</td>\n",
       "    </tr>\n",
       "    <tr>\n",
       "      <th>1</th>\n",
       "      <td>1</td>\n",
       "      <td>144461.926443</td>\n",
       "      <td>Italia</td>\n",
       "      <td>399</td>\n",
       "      <td>25158.524810</td>\n",
       "      <td>2022-09-10</td>\n",
       "      <td>4.647200e+05</td>\n",
       "    </tr>\n",
       "    <tr>\n",
       "      <th>2</th>\n",
       "      <td>2</td>\n",
       "      <td>122538.858334</td>\n",
       "      <td>Francia</td>\n",
       "      <td>424</td>\n",
       "      <td>19465.272138</td>\n",
       "      <td>2017-09-07</td>\n",
       "      <td>3.554535e+05</td>\n",
       "    </tr>\n",
       "    <tr>\n",
       "      <th>3</th>\n",
       "      <td>3</td>\n",
       "      <td>111252.220684</td>\n",
       "      <td>Estados Unidos</td>\n",
       "      <td>289</td>\n",
       "      <td>32689.870546</td>\n",
       "      <td>2016-03-30</td>\n",
       "      <td>6.441774e+05</td>\n",
       "    </tr>\n",
       "    <tr>\n",
       "      <th>4</th>\n",
       "      <td>4</td>\n",
       "      <td>87612.685871</td>\n",
       "      <td>Francia</td>\n",
       "      <td>450</td>\n",
       "      <td>20477.240703</td>\n",
       "      <td>2015-08-30</td>\n",
       "      <td>3.800819e+05</td>\n",
       "    </tr>\n",
       "  </tbody>\n",
       "</table>\n",
       "</div>"
      ],
      "text/plain": [
       "   Unnamed: 0    Kilometraje  Pais de Origen  Ranking en revistas de auto  \\\n",
       "0           0  112018.633266           Japón                          148   \n",
       "1           1  144461.926443          Italia                          399   \n",
       "2           2  122538.858334         Francia                          424   \n",
       "3           3  111252.220684  Estados Unidos                          289   \n",
       "4           4   87612.685871         Francia                          450   \n",
       "\n",
       "   precio en mercado libre fecha_de_elaboracion        ventas  \n",
       "0             61584.272399           2014-04-22  1.202479e+06  \n",
       "1             25158.524810           2022-09-10  4.647200e+05  \n",
       "2             19465.272138           2017-09-07  3.554535e+05  \n",
       "3             32689.870546           2016-03-30  6.441774e+05  \n",
       "4             20477.240703           2015-08-30  3.800819e+05  "
      ]
     },
     "execution_count": 880,
     "metadata": {},
     "output_type": "execute_result"
    }
   ],
   "source": [
    "df_ventas_autos = pd.read_csv(\"ventas_de_autos.csv\", delimiter='|')\n",
    "df_ventas_autos.head()"
   ]
  },
  {
   "cell_type": "code",
   "execution_count": 881,
   "id": "d1d314d5",
   "metadata": {},
   "outputs": [],
   "source": [
    "df_ventas_autos.drop(['Unnamed: 0'], axis=1, inplace=True)"
   ]
  },
  {
   "cell_type": "code",
   "execution_count": 882,
   "id": "459f4f7e",
   "metadata": {},
   "outputs": [
    {
     "data": {
      "text/html": [
       "<div>\n",
       "<style scoped>\n",
       "    .dataframe tbody tr th:only-of-type {\n",
       "        vertical-align: middle;\n",
       "    }\n",
       "\n",
       "    .dataframe tbody tr th {\n",
       "        vertical-align: top;\n",
       "    }\n",
       "\n",
       "    .dataframe thead th {\n",
       "        text-align: right;\n",
       "    }\n",
       "</style>\n",
       "<table border=\"1\" class=\"dataframe\">\n",
       "  <thead>\n",
       "    <tr style=\"text-align: right;\">\n",
       "      <th></th>\n",
       "      <th>Kilometraje</th>\n",
       "      <th>Pais de Origen</th>\n",
       "      <th>Ranking en revistas de auto</th>\n",
       "      <th>precio en mercado libre</th>\n",
       "      <th>fecha_de_elaboracion</th>\n",
       "      <th>ventas</th>\n",
       "    </tr>\n",
       "  </thead>\n",
       "  <tbody>\n",
       "    <tr>\n",
       "      <th>0</th>\n",
       "      <td>112018.633266</td>\n",
       "      <td>Japón</td>\n",
       "      <td>148</td>\n",
       "      <td>61584.272399</td>\n",
       "      <td>2014-04-22</td>\n",
       "      <td>1.202479e+06</td>\n",
       "    </tr>\n",
       "    <tr>\n",
       "      <th>1</th>\n",
       "      <td>144461.926443</td>\n",
       "      <td>Italia</td>\n",
       "      <td>399</td>\n",
       "      <td>25158.524810</td>\n",
       "      <td>2022-09-10</td>\n",
       "      <td>4.647200e+05</td>\n",
       "    </tr>\n",
       "    <tr>\n",
       "      <th>2</th>\n",
       "      <td>122538.858334</td>\n",
       "      <td>Francia</td>\n",
       "      <td>424</td>\n",
       "      <td>19465.272138</td>\n",
       "      <td>2017-09-07</td>\n",
       "      <td>3.554535e+05</td>\n",
       "    </tr>\n",
       "    <tr>\n",
       "      <th>3</th>\n",
       "      <td>111252.220684</td>\n",
       "      <td>Estados Unidos</td>\n",
       "      <td>289</td>\n",
       "      <td>32689.870546</td>\n",
       "      <td>2016-03-30</td>\n",
       "      <td>6.441774e+05</td>\n",
       "    </tr>\n",
       "    <tr>\n",
       "      <th>4</th>\n",
       "      <td>87612.685871</td>\n",
       "      <td>Francia</td>\n",
       "      <td>450</td>\n",
       "      <td>20477.240703</td>\n",
       "      <td>2015-08-30</td>\n",
       "      <td>3.800819e+05</td>\n",
       "    </tr>\n",
       "  </tbody>\n",
       "</table>\n",
       "</div>"
      ],
      "text/plain": [
       "     Kilometraje  Pais de Origen  Ranking en revistas de auto  \\\n",
       "0  112018.633266           Japón                          148   \n",
       "1  144461.926443          Italia                          399   \n",
       "2  122538.858334         Francia                          424   \n",
       "3  111252.220684  Estados Unidos                          289   \n",
       "4   87612.685871         Francia                          450   \n",
       "\n",
       "   precio en mercado libre fecha_de_elaboracion        ventas  \n",
       "0             61584.272399           2014-04-22  1.202479e+06  \n",
       "1             25158.524810           2022-09-10  4.647200e+05  \n",
       "2             19465.272138           2017-09-07  3.554535e+05  \n",
       "3             32689.870546           2016-03-30  6.441774e+05  \n",
       "4             20477.240703           2015-08-30  3.800819e+05  "
      ]
     },
     "execution_count": 882,
     "metadata": {},
     "output_type": "execute_result"
    }
   ],
   "source": [
    "df_ventas_autos.head()"
   ]
  },
  {
   "cell_type": "code",
   "execution_count": 883,
   "id": "c767d944",
   "metadata": {},
   "outputs": [
    {
     "data": {
      "text/plain": [
       "Index(['Kilometraje', 'Pais de Origen', 'Ranking en revistas de auto',\n",
       "       'precio en mercado libre', 'fecha_de_elaboracion', 'ventas'],\n",
       "      dtype='object')"
      ]
     },
     "execution_count": 883,
     "metadata": {},
     "output_type": "execute_result"
    }
   ],
   "source": [
    "df_ventas_autos.columns"
   ]
  },
  {
   "cell_type": "code",
   "execution_count": 884,
   "id": "ad37ae7f",
   "metadata": {},
   "outputs": [
    {
     "data": {
      "text/html": [
       "<div>\n",
       "<style scoped>\n",
       "    .dataframe tbody tr th:only-of-type {\n",
       "        vertical-align: middle;\n",
       "    }\n",
       "\n",
       "    .dataframe tbody tr th {\n",
       "        vertical-align: top;\n",
       "    }\n",
       "\n",
       "    .dataframe thead th {\n",
       "        text-align: right;\n",
       "    }\n",
       "</style>\n",
       "<table border=\"1\" class=\"dataframe\">\n",
       "  <thead>\n",
       "    <tr style=\"text-align: right;\">\n",
       "      <th></th>\n",
       "      <th>Unique_Values</th>\n",
       "      <th>Num_Unique_Values</th>\n",
       "      <th>Num_Null_Values</th>\n",
       "      <th>%_Null_Values</th>\n",
       "      <th>Sample_Unique_Values</th>\n",
       "    </tr>\n",
       "  </thead>\n",
       "  <tbody>\n",
       "    <tr>\n",
       "      <th>Kilometraje</th>\n",
       "      <td>NaN</td>\n",
       "      <td>15.0</td>\n",
       "      <td>0</td>\n",
       "      <td>0.0</td>\n",
       "      <td>[178895.73515250554, 192914.2382977007, 185491...</td>\n",
       "    </tr>\n",
       "    <tr>\n",
       "      <th>Pais de Origen</th>\n",
       "      <td>7</td>\n",
       "      <td>15</td>\n",
       "      <td>0</td>\n",
       "      <td>0.0</td>\n",
       "      <td>[Estados Unidos, Alemania, Corea del Sur, Fran...</td>\n",
       "    </tr>\n",
       "    <tr>\n",
       "      <th>Ranking en revistas de auto</th>\n",
       "      <td>NaN</td>\n",
       "      <td>15.0</td>\n",
       "      <td>0</td>\n",
       "      <td>0.0</td>\n",
       "      <td>[128, 33, 164, 424, 32]</td>\n",
       "    </tr>\n",
       "    <tr>\n",
       "      <th>precio en mercado libre</th>\n",
       "      <td>NaN</td>\n",
       "      <td>15.0</td>\n",
       "      <td>0</td>\n",
       "      <td>0.0</td>\n",
       "      <td>[73181.89328705832, 41496.499293785935, 55719....</td>\n",
       "    </tr>\n",
       "    <tr>\n",
       "      <th>fecha_de_elaboracion</th>\n",
       "      <td>15</td>\n",
       "      <td>15</td>\n",
       "      <td>0</td>\n",
       "      <td>0.0</td>\n",
       "      <td>[2015-08-08, 2022-09-17, 2020-01-04, 2017-09-0...</td>\n",
       "    </tr>\n",
       "    <tr>\n",
       "      <th>ventas</th>\n",
       "      <td>NaN</td>\n",
       "      <td>15.0</td>\n",
       "      <td>0</td>\n",
       "      <td>0.0</td>\n",
       "      <td>[1423705.0445303747, 799954.0424012962, 106562...</td>\n",
       "    </tr>\n",
       "  </tbody>\n",
       "</table>\n",
       "</div>"
      ],
      "text/plain": [
       "                            Unique_Values Num_Unique_Values  Num_Null_Values  \\\n",
       "Kilometraje                           NaN              15.0                0   \n",
       "Pais de Origen                          7                15                0   \n",
       "Ranking en revistas de auto           NaN              15.0                0   \n",
       "precio en mercado libre               NaN              15.0                0   \n",
       "fecha_de_elaboracion                   15                15                0   \n",
       "ventas                                NaN              15.0                0   \n",
       "\n",
       "                             %_Null_Values  \\\n",
       "Kilometraje                            0.0   \n",
       "Pais de Origen                         0.0   \n",
       "Ranking en revistas de auto            0.0   \n",
       "precio en mercado libre                0.0   \n",
       "fecha_de_elaboracion                   0.0   \n",
       "ventas                                 0.0   \n",
       "\n",
       "                                                          Sample_Unique_Values  \n",
       "Kilometraje                  [178895.73515250554, 192914.2382977007, 185491...  \n",
       "Pais de Origen               [Estados Unidos, Alemania, Corea del Sur, Fran...  \n",
       "Ranking en revistas de auto                            [128, 33, 164, 424, 32]  \n",
       "precio en mercado libre      [73181.89328705832, 41496.499293785935, 55719....  \n",
       "fecha_de_elaboracion         [2015-08-08, 2022-09-17, 2020-01-04, 2017-09-0...  \n",
       "ventas                       [1423705.0445303747, 799954.0424012962, 106562...  "
      ]
     },
     "execution_count": 884,
     "metadata": {},
     "output_type": "execute_result"
    }
   ],
   "source": [
    "from funciones.funciones_parcial2 import validate_columns\n",
    "validate_columns(df_ventas_autos)"
   ]
  },
  {
   "cell_type": "code",
   "execution_count": 885,
   "id": "4e9648fa",
   "metadata": {},
   "outputs": [
    {
     "data": {
      "text/plain": [
       "Kilometraje                    float64\n",
       "Pais de Origen                  object\n",
       "Ranking en revistas de auto      int64\n",
       "precio en mercado libre        float64\n",
       "fecha_de_elaboracion            object\n",
       "ventas                         float64\n",
       "dtype: object"
      ]
     },
     "execution_count": 885,
     "metadata": {},
     "output_type": "execute_result"
    }
   ],
   "source": [
    "df_ventas_autos.dtypes"
   ]
  },
  {
   "cell_type": "code",
   "execution_count": 886,
   "id": "25844c6a",
   "metadata": {},
   "outputs": [],
   "source": [
    "df_ventas_autos[\"fecha_de_elaboracion\"] = pd.to_datetime(df_ventas_autos[\"fecha_de_elaboracion\"])"
   ]
  },
  {
   "cell_type": "code",
   "execution_count": 887,
   "id": "407992e8",
   "metadata": {},
   "outputs": [
    {
     "data": {
      "text/plain": [
       "Kilometraje                           float64\n",
       "Pais de Origen                         object\n",
       "Ranking en revistas de auto             int64\n",
       "precio en mercado libre               float64\n",
       "fecha_de_elaboracion           datetime64[ns]\n",
       "ventas                                float64\n",
       "dtype: object"
      ]
     },
     "execution_count": 887,
     "metadata": {},
     "output_type": "execute_result"
    }
   ],
   "source": [
    "df_ventas_autos.dtypes"
   ]
  },
  {
   "cell_type": "code",
   "execution_count": 888,
   "id": "960c4482",
   "metadata": {},
   "outputs": [
    {
     "data": {
      "image/png": "[encoded data removed]",
      "text/plain": [
       "<Figure size 2000x1000 with 4 Axes>"
      ]
     },
     "metadata": {},
     "output_type": "display_data"
    }
   ],
   "source": [
    "from funciones.funciones_parcial2 import plot_outliers\n",
    "plot_outliers(df_ventas_autos)"
   ]
  },
  {
   "cell_type": "code",
   "execution_count": 889,
   "id": "e6be6f9f",
   "metadata": {},
   "outputs": [
    {
     "name": "stdout",
     "output_type": "stream",
     "text": [
      "Outliers de Kilometraje:\n",
      "14    18852.031349\n",
      "Name: Kilometraje, dtype: float64\n"
     ]
    }
   ],
   "source": [
    "from funciones.funciones_parcial2 import reconocimiento_de_outliers\n",
    "\n",
    "outliers_kilometraje, outlier_values_kilometraje = reconocimiento_de_outliers(df_ventas_autos, \"Kilometraje\", 1.5)\n"
   ]
  },
  {
   "cell_type": "code",
   "execution_count": 890,
   "id": "1751250e",
   "metadata": {},
   "outputs": [],
   "source": [
    "from funciones.funciones_parcial2 import remove_outliers\n",
    "\n",
    "df_ventas_autos = remove_outliers(df_ventas_autos, \"Kilometraje\", outliers_kilometraje)"
   ]
  },
  {
   "cell_type": "markdown",
   "id": "0b6c0538",
   "metadata": {},
   "source": [
    "#### Remuevo el outlier de kilometraje ya que es un valor muy bajo, que no se encuentra dentro de la media de los demas valores."
   ]
  },
  {
   "cell_type": "code",
   "execution_count": 891,
   "id": "53383896",
   "metadata": {},
   "outputs": [],
   "source": [
    "df_ventas_autos.columns = df_ventas_autos.columns.str.replace(' ', '_')"
   ]
  },
  {
   "cell_type": "code",
   "execution_count": 892,
   "id": "c832fea1",
   "metadata": {},
   "outputs": [],
   "source": [
    "df_ventas_autos[\"hoy\"]= \"2023-12-14\"\n",
    "df_ventas_autos['hoy'] = pd.to_datetime(df_ventas_autos['hoy'])\n",
    "df_ventas_autos['fecha_de_elaboracion'] = pd.to_datetime(df_ventas_autos['fecha_de_elaboracion'])\n",
    "df_ventas_autos['edad_del_auto'] = (df_ventas_autos['hoy'] - df_ventas_autos['fecha_de_elaboracion']).dt.days//365"
   ]
  },
  {
   "cell_type": "code",
   "execution_count": 893,
   "id": "f1fbb1b3",
   "metadata": {},
   "outputs": [
    {
     "data": {
      "image/png": "[encoded data removed]",
      "text/plain": [
       "<Figure size 2200x2400 with 3 Axes>"
      ]
     },
     "metadata": {},
     "output_type": "display_data"
    }
   ],
   "source": [
    "otras_variables = ['ventas', \"precio_en_mercado_libre\", \"Kilometraje\"]\n",
    "\n",
    "plt.figure(figsize=(22, 24))\n",
    "for i, variable in enumerate(otras_variables, 1):\n",
    "    plt.subplot(3, 1, i)\n",
    "    sns.boxplot(x='Pais_de_Origen', y=variable, data=df_ventas_autos)\n",
    "    plt.title(f'Distribución de {variable} por País de Origen')\n",
    "\n",
    "plt.tight_layout()\n",
    "plt.show()"
   ]
  },
  {
   "cell_type": "code",
   "execution_count": 894,
   "id": "804b1f4c",
   "metadata": {},
   "outputs": [
    {
     "data": {
      "text/html": [
       "<div>\n",
       "<style scoped>\n",
       "    .dataframe tbody tr th:only-of-type {\n",
       "        vertical-align: middle;\n",
       "    }\n",
       "\n",
       "    .dataframe tbody tr th {\n",
       "        vertical-align: top;\n",
       "    }\n",
       "\n",
       "    .dataframe thead th {\n",
       "        text-align: right;\n",
       "    }\n",
       "</style>\n",
       "<table border=\"1\" class=\"dataframe\">\n",
       "  <thead>\n",
       "    <tr style=\"text-align: right;\">\n",
       "      <th></th>\n",
       "      <th>Kilometraje</th>\n",
       "      <th>Pais_de_Origen</th>\n",
       "      <th>Ranking_en_revistas_de_auto</th>\n",
       "      <th>precio_en_mercado_libre</th>\n",
       "      <th>fecha_de_elaboracion</th>\n",
       "      <th>ventas</th>\n",
       "      <th>hoy</th>\n",
       "      <th>edad_del_auto</th>\n",
       "    </tr>\n",
       "  </thead>\n",
       "  <tbody>\n",
       "    <tr>\n",
       "      <th>0</th>\n",
       "      <td>112018.633266</td>\n",
       "      <td>Japón</td>\n",
       "      <td>148</td>\n",
       "      <td>61584.272399</td>\n",
       "      <td>2014-04-22</td>\n",
       "      <td>1.202479e+06</td>\n",
       "      <td>2023-12-14</td>\n",
       "      <td>9</td>\n",
       "    </tr>\n",
       "    <tr>\n",
       "      <th>1</th>\n",
       "      <td>144461.926443</td>\n",
       "      <td>Italia</td>\n",
       "      <td>399</td>\n",
       "      <td>25158.524810</td>\n",
       "      <td>2022-09-10</td>\n",
       "      <td>4.647200e+05</td>\n",
       "      <td>2023-12-14</td>\n",
       "      <td>1</td>\n",
       "    </tr>\n",
       "    <tr>\n",
       "      <th>2</th>\n",
       "      <td>122538.858334</td>\n",
       "      <td>Francia</td>\n",
       "      <td>424</td>\n",
       "      <td>19465.272138</td>\n",
       "      <td>2017-09-07</td>\n",
       "      <td>3.554535e+05</td>\n",
       "      <td>2023-12-14</td>\n",
       "      <td>6</td>\n",
       "    </tr>\n",
       "    <tr>\n",
       "      <th>3</th>\n",
       "      <td>111252.220684</td>\n",
       "      <td>Estados Unidos</td>\n",
       "      <td>289</td>\n",
       "      <td>32689.870546</td>\n",
       "      <td>2016-03-30</td>\n",
       "      <td>6.441774e+05</td>\n",
       "      <td>2023-12-14</td>\n",
       "      <td>7</td>\n",
       "    </tr>\n",
       "    <tr>\n",
       "      <th>4</th>\n",
       "      <td>87612.685871</td>\n",
       "      <td>Francia</td>\n",
       "      <td>450</td>\n",
       "      <td>20477.240703</td>\n",
       "      <td>2015-08-30</td>\n",
       "      <td>3.800819e+05</td>\n",
       "      <td>2023-12-14</td>\n",
       "      <td>8</td>\n",
       "    </tr>\n",
       "  </tbody>\n",
       "</table>\n",
       "</div>"
      ],
      "text/plain": [
       "     Kilometraje  Pais_de_Origen  Ranking_en_revistas_de_auto  \\\n",
       "0  112018.633266           Japón                          148   \n",
       "1  144461.926443          Italia                          399   \n",
       "2  122538.858334         Francia                          424   \n",
       "3  111252.220684  Estados Unidos                          289   \n",
       "4   87612.685871         Francia                          450   \n",
       "\n",
       "   precio_en_mercado_libre fecha_de_elaboracion        ventas        hoy  \\\n",
       "0             61584.272399           2014-04-22  1.202479e+06 2023-12-14   \n",
       "1             25158.524810           2022-09-10  4.647200e+05 2023-12-14   \n",
       "2             19465.272138           2017-09-07  3.554535e+05 2023-12-14   \n",
       "3             32689.870546           2016-03-30  6.441774e+05 2023-12-14   \n",
       "4             20477.240703           2015-08-30  3.800819e+05 2023-12-14   \n",
       "\n",
       "   edad_del_auto  \n",
       "0              9  \n",
       "1              1  \n",
       "2              6  \n",
       "3              7  \n",
       "4              8  "
      ]
     },
     "execution_count": 894,
     "metadata": {},
     "output_type": "execute_result"
    }
   ],
   "source": [
    "df_ventas_autos.head()"
   ]
  },
  {
   "cell_type": "code",
   "execution_count": 895,
   "id": "c85bde45",
   "metadata": {},
   "outputs": [
    {
     "data": {
      "text/plain": [
       "Index(['Kilometraje', 'Pais_de_Origen', 'Ranking_en_revistas_de_auto',\n",
       "       'precio_en_mercado_libre', 'fecha_de_elaboracion', 'ventas', 'hoy',\n",
       "       'edad_del_auto'],\n",
       "      dtype='object')"
      ]
     },
     "execution_count": 895,
     "metadata": {},
     "output_type": "execute_result"
    }
   ],
   "source": [
    "df_ventas_autos.columns"
   ]
  },
  {
   "cell_type": "markdown",
   "id": "c6668b5f",
   "metadata": {},
   "source": [
    "En un trabajo te piden predecir las ventas en función a las distintas variables que los ingenieros de datos pudieron recolectar. Se espera una interpretación clara sobre las razones que determinan las ventas de un auto.*\n",
    "\n",
    "1. Entrene una regresión con statsmodels. (5pts/30pts)\n"
   ]
  },
  {
   "cell_type": "code",
   "execution_count": 896,
   "id": "6ee43752",
   "metadata": {},
   "outputs": [
    {
     "data": {
      "text/plain": [
       "[array(['Alemania', 'China', 'Corea del Sur', 'Estados Unidos', 'Francia',\n",
       "        'Italia', 'Japón'], dtype=object)]"
      ]
     },
     "execution_count": 896,
     "metadata": {},
     "output_type": "execute_result"
    }
   ],
   "source": [
    "from sklearn.preprocessing import OneHotEncoder\n",
    "df_ventas_autos_ohe = OneHotEncoder(sparse=False)\n",
    "df_ventas_autos_ohe.fit(df_ventas_autos[['Pais_de_Origen']])\n",
    "df_ventas_autos_ohe.categories_"
   ]
  },
  {
   "cell_type": "code",
   "execution_count": 897,
   "id": "f7402233",
   "metadata": {},
   "outputs": [
    {
     "data": {
      "image/png": "[encoded data removed]",
      "text/plain": [
       "<Figure size 1000x1000 with 2 Axes>"
      ]
     },
     "metadata": {},
     "output_type": "display_data"
    }
   ],
   "source": [
    "from funciones.funciones_parcial2 import crear_heatmap_correlacion\n",
    "crear_heatmap_correlacion(df_ventas_autos)"
   ]
  },
  {
   "cell_type": "code",
   "execution_count": 898,
   "id": "5ab97bce",
   "metadata": {},
   "outputs": [
    {
     "data": {
      "text/html": [
       "<div>\n",
       "<style scoped>\n",
       "    .dataframe tbody tr th:only-of-type {\n",
       "        vertical-align: middle;\n",
       "    }\n",
       "\n",
       "    .dataframe tbody tr th {\n",
       "        vertical-align: top;\n",
       "    }\n",
       "\n",
       "    .dataframe thead th {\n",
       "        text-align: right;\n",
       "    }\n",
       "</style>\n",
       "<table border=\"1\" class=\"dataframe\">\n",
       "  <thead>\n",
       "    <tr style=\"text-align: right;\">\n",
       "      <th></th>\n",
       "      <th>Kilometraje</th>\n",
       "      <th>Pais_de_Origen</th>\n",
       "      <th>Ranking_en_revistas_de_auto</th>\n",
       "      <th>precio_en_mercado_libre</th>\n",
       "      <th>fecha_de_elaboracion</th>\n",
       "      <th>ventas</th>\n",
       "      <th>hoy</th>\n",
       "      <th>edad_del_auto</th>\n",
       "    </tr>\n",
       "  </thead>\n",
       "  <tbody>\n",
       "    <tr>\n",
       "      <th>0</th>\n",
       "      <td>112018.633266</td>\n",
       "      <td>Japón</td>\n",
       "      <td>148</td>\n",
       "      <td>61584.272399</td>\n",
       "      <td>2014-04-22</td>\n",
       "      <td>1.202479e+06</td>\n",
       "      <td>2023-12-14</td>\n",
       "      <td>9</td>\n",
       "    </tr>\n",
       "    <tr>\n",
       "      <th>1</th>\n",
       "      <td>144461.926443</td>\n",
       "      <td>Italia</td>\n",
       "      <td>399</td>\n",
       "      <td>25158.524810</td>\n",
       "      <td>2022-09-10</td>\n",
       "      <td>4.647200e+05</td>\n",
       "      <td>2023-12-14</td>\n",
       "      <td>1</td>\n",
       "    </tr>\n",
       "    <tr>\n",
       "      <th>2</th>\n",
       "      <td>122538.858334</td>\n",
       "      <td>Francia</td>\n",
       "      <td>424</td>\n",
       "      <td>19465.272138</td>\n",
       "      <td>2017-09-07</td>\n",
       "      <td>3.554535e+05</td>\n",
       "      <td>2023-12-14</td>\n",
       "      <td>6</td>\n",
       "    </tr>\n",
       "    <tr>\n",
       "      <th>3</th>\n",
       "      <td>111252.220684</td>\n",
       "      <td>Estados Unidos</td>\n",
       "      <td>289</td>\n",
       "      <td>32689.870546</td>\n",
       "      <td>2016-03-30</td>\n",
       "      <td>6.441774e+05</td>\n",
       "      <td>2023-12-14</td>\n",
       "      <td>7</td>\n",
       "    </tr>\n",
       "    <tr>\n",
       "      <th>4</th>\n",
       "      <td>87612.685871</td>\n",
       "      <td>Francia</td>\n",
       "      <td>450</td>\n",
       "      <td>20477.240703</td>\n",
       "      <td>2015-08-30</td>\n",
       "      <td>3.800819e+05</td>\n",
       "      <td>2023-12-14</td>\n",
       "      <td>8</td>\n",
       "    </tr>\n",
       "    <tr>\n",
       "      <th>5</th>\n",
       "      <td>130949.352048</td>\n",
       "      <td>Corea del Sur</td>\n",
       "      <td>266</td>\n",
       "      <td>25562.497178</td>\n",
       "      <td>2018-08-04</td>\n",
       "      <td>4.816859e+05</td>\n",
       "      <td>2023-12-14</td>\n",
       "      <td>5</td>\n",
       "    </tr>\n",
       "    <tr>\n",
       "      <th>6</th>\n",
       "      <td>90329.506196</td>\n",
       "      <td>China</td>\n",
       "      <td>186</td>\n",
       "      <td>37054.228679</td>\n",
       "      <td>2014-11-06</td>\n",
       "      <td>7.039471e+05</td>\n",
       "      <td>2023-12-14</td>\n",
       "      <td>9</td>\n",
       "    </tr>\n",
       "    <tr>\n",
       "      <th>7</th>\n",
       "      <td>178895.735153</td>\n",
       "      <td>Estados Unidos</td>\n",
       "      <td>128</td>\n",
       "      <td>73181.893287</td>\n",
       "      <td>2015-08-08</td>\n",
       "      <td>1.423705e+06</td>\n",
       "      <td>2023-12-14</td>\n",
       "      <td>8</td>\n",
       "    </tr>\n",
       "    <tr>\n",
       "      <th>8</th>\n",
       "      <td>192914.238298</td>\n",
       "      <td>Alemania</td>\n",
       "      <td>33</td>\n",
       "      <td>41496.499294</td>\n",
       "      <td>2022-09-17</td>\n",
       "      <td>7.999540e+05</td>\n",
       "      <td>2023-12-14</td>\n",
       "      <td>1</td>\n",
       "    </tr>\n",
       "    <tr>\n",
       "      <th>9</th>\n",
       "      <td>79771.096171</td>\n",
       "      <td>Francia</td>\n",
       "      <td>32</td>\n",
       "      <td>52914.442052</td>\n",
       "      <td>2016-10-11</td>\n",
       "      <td>1.038587e+06</td>\n",
       "      <td>2023-12-14</td>\n",
       "      <td>7</td>\n",
       "    </tr>\n",
       "    <tr>\n",
       "      <th>10</th>\n",
       "      <td>159386.382426</td>\n",
       "      <td>Estados Unidos</td>\n",
       "      <td>203</td>\n",
       "      <td>73164.400822</td>\n",
       "      <td>2022-01-20</td>\n",
       "      <td>1.421545e+06</td>\n",
       "      <td>2023-12-14</td>\n",
       "      <td>1</td>\n",
       "    </tr>\n",
       "    <tr>\n",
       "      <th>11</th>\n",
       "      <td>108134.509352</td>\n",
       "      <td>Japón</td>\n",
       "      <td>245</td>\n",
       "      <td>16949.624525</td>\n",
       "      <td>2020-10-27</td>\n",
       "      <td>3.223525e+05</td>\n",
       "      <td>2023-12-14</td>\n",
       "      <td>3</td>\n",
       "    </tr>\n",
       "    <tr>\n",
       "      <th>12</th>\n",
       "      <td>115768.689413</td>\n",
       "      <td>Francia</td>\n",
       "      <td>152</td>\n",
       "      <td>77886.634742</td>\n",
       "      <td>2014-09-11</td>\n",
       "      <td>1.534602e+06</td>\n",
       "      <td>2023-12-14</td>\n",
       "      <td>9</td>\n",
       "    </tr>\n",
       "    <tr>\n",
       "      <th>13</th>\n",
       "      <td>185491.344467</td>\n",
       "      <td>Corea del Sur</td>\n",
       "      <td>164</td>\n",
       "      <td>55719.802506</td>\n",
       "      <td>2020-01-04</td>\n",
       "      <td>1.065624e+06</td>\n",
       "      <td>2023-12-14</td>\n",
       "      <td>3</td>\n",
       "    </tr>\n",
       "  </tbody>\n",
       "</table>\n",
       "</div>"
      ],
      "text/plain": [
       "      Kilometraje  Pais_de_Origen  Ranking_en_revistas_de_auto  \\\n",
       "0   112018.633266           Japón                          148   \n",
       "1   144461.926443          Italia                          399   \n",
       "2   122538.858334         Francia                          424   \n",
       "3   111252.220684  Estados Unidos                          289   \n",
       "4    87612.685871         Francia                          450   \n",
       "5   130949.352048   Corea del Sur                          266   \n",
       "6    90329.506196           China                          186   \n",
       "7   178895.735153  Estados Unidos                          128   \n",
       "8   192914.238298        Alemania                           33   \n",
       "9    79771.096171         Francia                           32   \n",
       "10  159386.382426  Estados Unidos                          203   \n",
       "11  108134.509352           Japón                          245   \n",
       "12  115768.689413         Francia                          152   \n",
       "13  185491.344467   Corea del Sur                          164   \n",
       "\n",
       "    precio_en_mercado_libre fecha_de_elaboracion        ventas        hoy  \\\n",
       "0              61584.272399           2014-04-22  1.202479e+06 2023-12-14   \n",
       "1              25158.524810           2022-09-10  4.647200e+05 2023-12-14   \n",
       "2              19465.272138           2017-09-07  3.554535e+05 2023-12-14   \n",
       "3              32689.870546           2016-03-30  6.441774e+05 2023-12-14   \n",
       "4              20477.240703           2015-08-30  3.800819e+05 2023-12-14   \n",
       "5              25562.497178           2018-08-04  4.816859e+05 2023-12-14   \n",
       "6              37054.228679           2014-11-06  7.039471e+05 2023-12-14   \n",
       "7              73181.893287           2015-08-08  1.423705e+06 2023-12-14   \n",
       "8              41496.499294           2022-09-17  7.999540e+05 2023-12-14   \n",
       "9              52914.442052           2016-10-11  1.038587e+06 2023-12-14   \n",
       "10             73164.400822           2022-01-20  1.421545e+06 2023-12-14   \n",
       "11             16949.624525           2020-10-27  3.223525e+05 2023-12-14   \n",
       "12             77886.634742           2014-09-11  1.534602e+06 2023-12-14   \n",
       "13             55719.802506           2020-01-04  1.065624e+06 2023-12-14   \n",
       "\n",
       "    edad_del_auto  \n",
       "0               9  \n",
       "1               1  \n",
       "2               6  \n",
       "3               7  \n",
       "4               8  \n",
       "5               5  \n",
       "6               9  \n",
       "7               8  \n",
       "8               1  \n",
       "9               7  \n",
       "10              1  \n",
       "11              3  \n",
       "12              9  \n",
       "13              3  "
      ]
     },
     "execution_count": 898,
     "metadata": {},
     "output_type": "execute_result"
    }
   ],
   "source": [
    "df_ventas_autos"
   ]
  },
  {
   "cell_type": "code",
   "execution_count": 899,
   "id": "4c3ec61a",
   "metadata": {},
   "outputs": [],
   "source": [
    "features = ['Kilometraje', 'precio_en_mercado_libre', \"Ranking_en_revistas_de_auto\", \"Pais_de_Origen\", \"edad_del_auto\"]"
   ]
  },
  {
   "cell_type": "code",
   "execution_count": 900,
   "id": "c9be4f4e",
   "metadata": {},
   "outputs": [
    {
     "data": {
      "text/plain": [
       "'ventas ~ Kilometraje + precio_en_mercado_libre + Ranking_en_revistas_de_auto + Pais_de_Origen + edad_del_auto'"
      ]
     },
     "execution_count": 900,
     "metadata": {},
     "output_type": "execute_result"
    }
   ],
   "source": [
    "formula = \"ventas ~ \" + ' + '.join(features)\n",
    "formula"
   ]
  },
  {
   "cell_type": "code",
   "execution_count": 901,
   "id": "4c902125",
   "metadata": {},
   "outputs": [
    {
     "name": "stdout",
     "output_type": "stream",
     "text": [
      "Intel MKL WARNING: Support of Intel(R) Streaming SIMD Extensions 4.2 (Intel(R) SSE4.2) enabled only processors has been deprecated. Intel oneAPI Math Kernel Library 2025.0 will require Intel(R) Advanced Vector Extensions (Intel(R) AVX) instructions.\n",
      "                            OLS Regression Results                            \n",
      "==============================================================================\n",
      "Dep. Variable:                 ventas   R-squared:                       1.000\n",
      "Model:                            OLS   Adj. R-squared:                  1.000\n",
      "Method:                 Least Squares   F-statistic:                     2911.\n",
      "Date:                Thu, 14 Dec 2023   Prob (F-statistic):           9.44e-06\n",
      "Time:                        09:36:38   Log-Likelihood:                -136.75\n",
      "No. Observations:                  14   AIC:                             295.5\n",
      "Df Residuals:                       3   BIC:                             302.5\n",
      "Df Model:                          10                                         \n",
      "Covariance Type:            nonrobust                                         \n",
      "====================================================================================================\n",
      "                                       coef    std err          t      P>|t|      [0.025      0.975]\n",
      "----------------------------------------------------------------------------------------------------\n",
      "Intercept                         3.447e+04   2.88e+04      1.195      0.318   -5.73e+04    1.26e+05\n",
      "Pais_de_Origen[T.China]          -3.806e+04   2.39e+04     -1.591      0.210   -1.14e+05    3.81e+04\n",
      "Pais_de_Origen[T.Corea del Sur]  -1.547e+04   1.59e+04     -0.971      0.403   -6.61e+04    3.52e+04\n",
      "Pais_de_Origen[T.Estados Unidos] -6404.1451   1.98e+04     -0.324      0.767   -6.93e+04    5.65e+04\n",
      "Pais_de_Origen[T.Francia]        -1.953e+04    2.4e+04     -0.814      0.475   -9.59e+04    5.68e+04\n",
      "Pais_de_Origen[T.Italia]         -1.386e+04   2.15e+04     -0.643      0.566   -8.24e+04    5.47e+04\n",
      "Pais_de_Origen[T.Japón]          -1.532e+04   2.07e+04     -0.740      0.513   -8.12e+04    5.06e+04\n",
      "Kilometraje                         -0.2878      0.175     -1.645      0.199      -0.845       0.269\n",
      "precio_en_mercado_libre             19.7944      0.284     69.591      0.000      18.889      20.700\n",
      "Ranking_en_revistas_de_auto        -32.5661     43.173     -0.754      0.505    -169.961     104.829\n",
      "edad_del_auto                      680.0104   1355.894      0.502      0.650   -3635.049    4995.070\n",
      "==============================================================================\n",
      "Omnibus:                        3.309   Durbin-Watson:                   1.738\n",
      "Prob(Omnibus):                  0.191   Jarque-Bera (JB):                1.642\n",
      "Skew:                           0.835   Prob(JB):                        0.440\n",
      "Kurtosis:                       3.162   Cond. No.                     3.07e+06\n",
      "==============================================================================\n",
      "\n",
      "Notes:\n",
      "[1] Standard Errors assume that the covariance matrix of the errors is correctly specified.\n",
      "[2] The condition number is large, 3.07e+06. This might indicate that there are\n",
      "strong multicollinearity or other numerical problems.\n"
     ]
    }
   ],
   "source": [
    "import statsmodels.formula.api as smf\n",
    "modelo = smf.ols(formula=formula, data=df_ventas_autos)\n",
    "modelo = modelo.fit()\n",
    "print(modelo.summary())"
   ]
  },
  {
   "cell_type": "markdown",
   "id": "80be6ecb",
   "metadata": {},
   "source": [
    "2. ¿Hay que considerar una variable que tiene un p-valor menor a 0.5?  (5pts/30pts)\n"
   ]
  },
  {
   "cell_type": "markdown",
   "id": "91ab84d8",
   "metadata": {},
   "source": [
    "#### Un valor p bajo (generalmente, por debajo de 0.05) indica que el coeficiente es significativo, por lo tanto no habría que sacarlo del modelo. Si el mismo es mayor a 0,05 se puede considerar que el coeficiente no es significativo y se puede sacar del modelo.\n"
   ]
  },
  {
   "cell_type": "markdown",
   "id": "192ece0e",
   "metadata": {},
   "source": [
    "3. ¿Que variable de tu regresión tiene un p-valor menor a 0.5? (2.5pts/30pts)"
   ]
  },
  {
   "cell_type": "markdown",
   "id": "74d20331",
   "metadata": {},
   "source": [
    "#### Las variables dentro de mi regresión lineal multivariable que tienen un p-valor menor a 0.5 son todas salvo Estados Unidos dentro de la variable pais_de_origen."
   ]
  },
  {
   "cell_type": "markdown",
   "id": "3287bd33",
   "metadata": {},
   "source": [
    "4. Manteniendo todas las variables constantes. ¿Cual es el aumento esperado de las ventas si el auto es de japón?  (5pts/30pts)"
   ]
  },
  {
   "cell_type": "markdown",
   "id": "87760f54",
   "metadata": {},
   "source": [
    "#### El coeficiente para Japón en el modelo es de (-14920). Esto significa que manteniendo el resto de las variables constante, el modelo predice que las ventas caeran en 14920 unidades si el auto es de Japón. Además su el p-value para este coeficiente es 0.469, que es mas grande que 0.05, por lo tanto no es significativo y se puede sacar del modelo."
   ]
  },
  {
   "cell_type": "markdown",
   "id": "93ff9864",
   "metadata": {},
   "source": [
    "5. Manteniendo todas las variables constantes. ¿Cual es el aumento o disminución esperada de las ventas si aumenta en 1 la edad del auto? (5pts/30pts)"
   ]
  },
  {
   "cell_type": "markdown",
   "id": "3697459c",
   "metadata": {},
   "source": [
    "#### El coeficiente para edad_del_auto en los resultados del modelo es 680.0104 . Esto significa que, manteniendo todas las demás variables constantes, el modelo predice que las ventas aumentarán en 680.0104 unidades si la edad del auto aumenta en 1 año."
   ]
  },
  {
   "cell_type": "markdown",
   "id": "b2d9a5d9",
   "metadata": {},
   "source": [
    "6. Prediga las ventas para un auto que tiene 116mil de kilometraje, el pais de origen es Estados Unidos, el Ranking en revistas de auto es de 150, el precio de mercado libre es de  50.000 y la fecha_de_elaboracion es de 2015 (7.5pts/30pts)"
   ]
  },
  {
   "cell_type": "code",
   "execution_count": 902,
   "id": "4c2151b5",
   "metadata": {},
   "outputs": [
    {
     "name": "stdout",
     "output_type": "stream",
     "text": [
      "La predicción de ventas para el auto es: 984957.4166312594\n"
     ]
    }
   ],
   "source": [
    "prediccion = modelo.predict(pd.DataFrame({\n",
    "    'Kilometraje': [116000],\n",
    "    'Pais_de_Origen': ['Estados Unidos'],\n",
    "    'Ranking_en_revistas_de_auto': [150],\n",
    "    'precio_en_mercado_libre': [50000],\n",
    "    'edad_del_auto': [2023 - 2015]\n",
    "}))\n",
    "\n",
    "print(f\"La predicción de ventas para el auto es: {prediccion[0]}\")"
   ]
  },
  {
   "cell_type": "markdown",
   "id": "ffc0bba7",
   "metadata": {},
   "source": [
    "___"
   ]
  },
  {
   "cell_type": "markdown",
   "id": "ec6ca2b8",
   "metadata": {},
   "source": [
    "# Ejercicio 2: Clasificación. (40pts)\n",
    "**dataset**: \"leads_a_clientes.csv\"\n",
    "**link** https://drive.google.com/file/d/1v0o7z70v06NIaBbmo6kwXdZX6pPf8Bdr/view?usp=sharing\n",
    "\n",
    "*Contexto:\n",
    "Se refieren cómo leads a aquellos clientes que son los prospectos, esto es, potenciales clientes que luego deciden si convertirse o no en clientes. Tu hipotesis es que dada la interacción del cliente con la empresa y sus caracteristicas, hay clientes con mayor probabilidad de conversión que otros.*\n",
    "\n",
    "1. Calcular la variable edad (2pts/40pts)\n",
    "2. Graficar boxplot de la variable edad (2pts/40pts)\n",
    "3. Graficar boxplot de la variable  ingreso_estimado en funcion de la variable categoria.(2pts/40pts)\n",
    "4. ¿A que conclusión llega en base al anterior boxplot? En base a esa explicación decida si debe sacar una categoria o no. (8pts/40pts)\n",
    "5. Grafique la variable cantidad_mensajes en funcion de si es cliente o no. (2pts/40pts)\n",
    "4. ¿Que conclusiones llega segun este gráfico? Que hipotesis tiene? (4pts/40pts)\n",
    "5. Separar train y test (1pts/40pts)\n",
    "6. Entrene un arbol de decision (1pts/40pts)\n",
    "7. Prediga en test  (4pts/40pts)\n",
    "8. Grafique una matriz de confusión de test. (2pts/40pts)\n",
    "9. Grafique un árbol. (4pts/40pts)\n",
    "10. ¿Cual es la variable del root node? ¿Que significa? Explique teniendo en cuenta el criterio de Gini Index (8pts/40pts)\n"
   ]
  },
  {
   "cell_type": "code",
   "execution_count": 903,
   "id": "9934f2d7",
   "metadata": {},
   "outputs": [
    {
     "data": {
      "text/html": [
       "<div>\n",
       "<style scoped>\n",
       "    .dataframe tbody tr th:only-of-type {\n",
       "        vertical-align: middle;\n",
       "    }\n",
       "\n",
       "    .dataframe tbody tr th {\n",
       "        vertical-align: top;\n",
       "    }\n",
       "\n",
       "    .dataframe thead th {\n",
       "        text-align: right;\n",
       "    }\n",
       "</style>\n",
       "<table border=\"1\" class=\"dataframe\">\n",
       "  <thead>\n",
       "    <tr style=\"text-align: right;\">\n",
       "      <th></th>\n",
       "      <th>Unnamed: 0</th>\n",
       "      <th>fecha de nacimiento</th>\n",
       "      <th>clicks_en_web</th>\n",
       "      <th>puntaje</th>\n",
       "      <th>cantidad_mensajes</th>\n",
       "      <th>ingreso_estimado</th>\n",
       "      <th>categoria</th>\n",
       "      <th>cliente</th>\n",
       "    </tr>\n",
       "  </thead>\n",
       "  <tbody>\n",
       "    <tr>\n",
       "      <th>0</th>\n",
       "      <td>0</td>\n",
       "      <td>1955-11-30 12:27:39.148023</td>\n",
       "      <td>50.109121</td>\n",
       "      <td>232.101644</td>\n",
       "      <td>135.281047</td>\n",
       "      <td>91.231418</td>\n",
       "      <td>Categoria D</td>\n",
       "      <td>Sí</td>\n",
       "    </tr>\n",
       "    <tr>\n",
       "      <th>1</th>\n",
       "      <td>1</td>\n",
       "      <td>1998-11-19 12:27:39.148023</td>\n",
       "      <td>2.109121</td>\n",
       "      <td>868.308119</td>\n",
       "      <td>55.687224</td>\n",
       "      <td>740.421698</td>\n",
       "      <td>Categoria D</td>\n",
       "      <td>No</td>\n",
       "    </tr>\n",
       "    <tr>\n",
       "      <th>2</th>\n",
       "      <td>2</td>\n",
       "      <td>1962-11-28 12:27:39.148023</td>\n",
       "      <td>14.109121</td>\n",
       "      <td>158.323178</td>\n",
       "      <td>119.574760</td>\n",
       "      <td>15.947268</td>\n",
       "      <td>Categoria D</td>\n",
       "      <td>Sí</td>\n",
       "    </tr>\n",
       "    <tr>\n",
       "      <th>3</th>\n",
       "      <td>3</td>\n",
       "      <td>1967-11-27 12:27:39.148023</td>\n",
       "      <td>2.109121</td>\n",
       "      <td>1074.171569</td>\n",
       "      <td>144.817864</td>\n",
       "      <td>950.486443</td>\n",
       "      <td>Categoria D</td>\n",
       "      <td>Sí</td>\n",
       "    </tr>\n",
       "    <tr>\n",
       "      <th>4</th>\n",
       "      <td>4</td>\n",
       "      <td>1982-11-23 12:27:39.148023</td>\n",
       "      <td>2.109121</td>\n",
       "      <td>205.078660</td>\n",
       "      <td>37.891444</td>\n",
       "      <td>63.656943</td>\n",
       "      <td>Categoria D</td>\n",
       "      <td>No</td>\n",
       "    </tr>\n",
       "  </tbody>\n",
       "</table>\n",
       "</div>"
      ],
      "text/plain": [
       "   Unnamed: 0         fecha de nacimiento  clicks_en_web      puntaje  \\\n",
       "0           0  1955-11-30 12:27:39.148023      50.109121   232.101644   \n",
       "1           1  1998-11-19 12:27:39.148023       2.109121   868.308119   \n",
       "2           2  1962-11-28 12:27:39.148023      14.109121   158.323178   \n",
       "3           3  1967-11-27 12:27:39.148023       2.109121  1074.171569   \n",
       "4           4  1982-11-23 12:27:39.148023       2.109121   205.078660   \n",
       "\n",
       "   cantidad_mensajes  ingreso_estimado    categoria cliente  \n",
       "0         135.281047         91.231418  Categoria D      Sí  \n",
       "1          55.687224        740.421698  Categoria D      No  \n",
       "2         119.574760         15.947268  Categoria D      Sí  \n",
       "3         144.817864        950.486443  Categoria D      Sí  \n",
       "4          37.891444         63.656943  Categoria D      No  "
      ]
     },
     "execution_count": 903,
     "metadata": {},
     "output_type": "execute_result"
    }
   ],
   "source": [
    "df_leads_clientes = pd.read_csv(\"leads_a_clientes.csv\")\n",
    "df_leads_clientes.head()"
   ]
  },
  {
   "cell_type": "code",
   "execution_count": 904,
   "id": "d236305a",
   "metadata": {},
   "outputs": [],
   "source": [
    "df_leads_clientes.drop(['Unnamed: 0'], axis=1, inplace=True)"
   ]
  },
  {
   "cell_type": "code",
   "execution_count": 905,
   "id": "5fbebd64",
   "metadata": {},
   "outputs": [
    {
     "data": {
      "text/plain": [
       "Index(['fecha de nacimiento', 'clicks_en_web', 'puntaje', 'cantidad_mensajes',\n",
       "       'ingreso_estimado', 'categoria', 'cliente'],\n",
       "      dtype='object')"
      ]
     },
     "execution_count": 905,
     "metadata": {},
     "output_type": "execute_result"
    }
   ],
   "source": [
    "df_leads_clientes.columns"
   ]
  },
  {
   "cell_type": "code",
   "execution_count": 906,
   "id": "dee90cd8",
   "metadata": {},
   "outputs": [
    {
     "data": {
      "text/html": [
       "<div>\n",
       "<style scoped>\n",
       "    .dataframe tbody tr th:only-of-type {\n",
       "        vertical-align: middle;\n",
       "    }\n",
       "\n",
       "    .dataframe tbody tr th {\n",
       "        vertical-align: top;\n",
       "    }\n",
       "\n",
       "    .dataframe thead th {\n",
       "        text-align: right;\n",
       "    }\n",
       "</style>\n",
       "<table border=\"1\" class=\"dataframe\">\n",
       "  <thead>\n",
       "    <tr style=\"text-align: right;\">\n",
       "      <th></th>\n",
       "      <th>Unique_Values</th>\n",
       "      <th>Num_Unique_Values</th>\n",
       "      <th>Num_Null_Values</th>\n",
       "      <th>%_Null_Values</th>\n",
       "      <th>Sample_Unique_Values</th>\n",
       "    </tr>\n",
       "  </thead>\n",
       "  <tbody>\n",
       "    <tr>\n",
       "      <th>fecha de nacimiento</th>\n",
       "      <td>90</td>\n",
       "      <td>3000</td>\n",
       "      <td>0</td>\n",
       "      <td>0.0</td>\n",
       "      <td>[1957-11-29 12:27:39.148023, 1969-11-26 12:27:...</td>\n",
       "    </tr>\n",
       "    <tr>\n",
       "      <th>clicks_en_web</th>\n",
       "      <td>NaN</td>\n",
       "      <td>3000.0</td>\n",
       "      <td>0</td>\n",
       "      <td>0.0</td>\n",
       "      <td>[50.10912137603911, 45.89087862396089, 2.10912...</td>\n",
       "    </tr>\n",
       "    <tr>\n",
       "      <th>puntaje</th>\n",
       "      <td>NaN</td>\n",
       "      <td>3000.0</td>\n",
       "      <td>0</td>\n",
       "      <td>0.0</td>\n",
       "      <td>[488.1259802060485, 404.89061893239887, 527.95...</td>\n",
       "    </tr>\n",
       "    <tr>\n",
       "      <th>cantidad_mensajes</th>\n",
       "      <td>NaN</td>\n",
       "      <td>3000.0</td>\n",
       "      <td>0</td>\n",
       "      <td>0.0</td>\n",
       "      <td>[91.26503325083983, 108.99424200463986, 65.409...</td>\n",
       "    </tr>\n",
       "    <tr>\n",
       "      <th>ingreso_estimado</th>\n",
       "      <td>NaN</td>\n",
       "      <td>3000.0</td>\n",
       "      <td>0</td>\n",
       "      <td>0.0</td>\n",
       "      <td>[352.4807399412387, 267.54669782526975, 393.12...</td>\n",
       "    </tr>\n",
       "    <tr>\n",
       "      <th>categoria</th>\n",
       "      <td>4</td>\n",
       "      <td>3000</td>\n",
       "      <td>0</td>\n",
       "      <td>0.0</td>\n",
       "      <td>[Categoria A, Categoria A, Categoria A, Catego...</td>\n",
       "    </tr>\n",
       "    <tr>\n",
       "      <th>cliente</th>\n",
       "      <td>2</td>\n",
       "      <td>3000</td>\n",
       "      <td>0</td>\n",
       "      <td>0.0</td>\n",
       "      <td>[Sí, Sí, No, Sí, Sí]</td>\n",
       "    </tr>\n",
       "  </tbody>\n",
       "</table>\n",
       "</div>"
      ],
      "text/plain": [
       "                    Unique_Values Num_Unique_Values  Num_Null_Values  \\\n",
       "fecha de nacimiento            90              3000                0   \n",
       "clicks_en_web                 NaN            3000.0                0   \n",
       "puntaje                       NaN            3000.0                0   \n",
       "cantidad_mensajes             NaN            3000.0                0   \n",
       "ingreso_estimado              NaN            3000.0                0   \n",
       "categoria                       4              3000                0   \n",
       "cliente                         2              3000                0   \n",
       "\n",
       "                     %_Null_Values  \\\n",
       "fecha de nacimiento            0.0   \n",
       "clicks_en_web                  0.0   \n",
       "puntaje                        0.0   \n",
       "cantidad_mensajes              0.0   \n",
       "ingreso_estimado               0.0   \n",
       "categoria                      0.0   \n",
       "cliente                        0.0   \n",
       "\n",
       "                                                  Sample_Unique_Values  \n",
       "fecha de nacimiento  [1957-11-29 12:27:39.148023, 1969-11-26 12:27:...  \n",
       "clicks_en_web        [50.10912137603911, 45.89087862396089, 2.10912...  \n",
       "puntaje              [488.1259802060485, 404.89061893239887, 527.95...  \n",
       "cantidad_mensajes    [91.26503325083983, 108.99424200463986, 65.409...  \n",
       "ingreso_estimado     [352.4807399412387, 267.54669782526975, 393.12...  \n",
       "categoria            [Categoria A, Categoria A, Categoria A, Catego...  \n",
       "cliente                                           [Sí, Sí, No, Sí, Sí]  "
      ]
     },
     "execution_count": 906,
     "metadata": {},
     "output_type": "execute_result"
    }
   ],
   "source": [
    "from funciones.funciones_parcial2 import validate_columns\n",
    "validate_columns(df_leads_clientes)"
   ]
  },
  {
   "cell_type": "code",
   "execution_count": 907,
   "id": "bad3949f",
   "metadata": {},
   "outputs": [
    {
     "data": {
      "text/plain": [
       "fecha de nacimiento     object\n",
       "clicks_en_web          float64\n",
       "puntaje                float64\n",
       "cantidad_mensajes      float64\n",
       "ingreso_estimado       float64\n",
       "categoria               object\n",
       "cliente                 object\n",
       "dtype: object"
      ]
     },
     "execution_count": 907,
     "metadata": {},
     "output_type": "execute_result"
    }
   ],
   "source": [
    "df_leads_clientes.dtypes"
   ]
  },
  {
   "cell_type": "code",
   "execution_count": 908,
   "id": "88f3bd8a",
   "metadata": {},
   "outputs": [
    {
     "data": {
      "image/png": "[encoded data removed]",
      "text/plain": [
       "<Figure size 2000x1000 with 4 Axes>"
      ]
     },
     "metadata": {},
     "output_type": "display_data"
    }
   ],
   "source": [
    "from funciones.funciones_parcial2 import plot_outliers\n",
    "plot_outliers(df_leads_clientes)"
   ]
  },
  {
   "cell_type": "code",
   "execution_count": 909,
   "id": "aac2a04c",
   "metadata": {},
   "outputs": [],
   "source": [
    "df_leads_clientes.columns = df_leads_clientes.columns.str.replace(' ', '_')"
   ]
  },
  {
   "cell_type": "markdown",
   "id": "8ba594b8",
   "metadata": {},
   "source": [
    "1. Calcular la variable edad (2pts/40pts)"
   ]
  },
  {
   "cell_type": "code",
   "execution_count": 910,
   "id": "137976b1",
   "metadata": {},
   "outputs": [],
   "source": [
    "df_leads_clientes[\"hoy\"]= \"2023-12-14\"\n",
    "df_leads_clientes['hoy'] = pd.to_datetime(df_leads_clientes['hoy'])\n",
    "df_leads_clientes['fecha_de_nacimiento'] = pd.to_datetime(df_leads_clientes['fecha_de_nacimiento'])\n",
    "df_leads_clientes['edad_del_auto'] = (df_leads_clientes['hoy'] - df_leads_clientes['fecha_de_nacimiento']).dt.days//365"
   ]
  },
  {
   "cell_type": "code",
   "execution_count": 911,
   "id": "03e8b18f",
   "metadata": {},
   "outputs": [
    {
     "data": {
      "text/html": [
       "<div>\n",
       "<style scoped>\n",
       "    .dataframe tbody tr th:only-of-type {\n",
       "        vertical-align: middle;\n",
       "    }\n",
       "\n",
       "    .dataframe tbody tr th {\n",
       "        vertical-align: top;\n",
       "    }\n",
       "\n",
       "    .dataframe thead th {\n",
       "        text-align: right;\n",
       "    }\n",
       "</style>\n",
       "<table border=\"1\" class=\"dataframe\">\n",
       "  <thead>\n",
       "    <tr style=\"text-align: right;\">\n",
       "      <th></th>\n",
       "      <th>fecha_de_nacimiento</th>\n",
       "      <th>clicks_en_web</th>\n",
       "      <th>puntaje</th>\n",
       "      <th>cantidad_mensajes</th>\n",
       "      <th>ingreso_estimado</th>\n",
       "      <th>categoria</th>\n",
       "      <th>cliente</th>\n",
       "      <th>hoy</th>\n",
       "      <th>edad_del_auto</th>\n",
       "    </tr>\n",
       "  </thead>\n",
       "  <tbody>\n",
       "    <tr>\n",
       "      <th>0</th>\n",
       "      <td>1955-11-30 12:27:39.148023</td>\n",
       "      <td>50.109121</td>\n",
       "      <td>232.101644</td>\n",
       "      <td>135.281047</td>\n",
       "      <td>91.231418</td>\n",
       "      <td>Categoria D</td>\n",
       "      <td>Sí</td>\n",
       "      <td>2023-12-14</td>\n",
       "      <td>68</td>\n",
       "    </tr>\n",
       "    <tr>\n",
       "      <th>1</th>\n",
       "      <td>1998-11-19 12:27:39.148023</td>\n",
       "      <td>2.109121</td>\n",
       "      <td>868.308119</td>\n",
       "      <td>55.687224</td>\n",
       "      <td>740.421698</td>\n",
       "      <td>Categoria D</td>\n",
       "      <td>No</td>\n",
       "      <td>2023-12-14</td>\n",
       "      <td>25</td>\n",
       "    </tr>\n",
       "    <tr>\n",
       "      <th>2</th>\n",
       "      <td>1962-11-28 12:27:39.148023</td>\n",
       "      <td>14.109121</td>\n",
       "      <td>158.323178</td>\n",
       "      <td>119.574760</td>\n",
       "      <td>15.947268</td>\n",
       "      <td>Categoria D</td>\n",
       "      <td>Sí</td>\n",
       "      <td>2023-12-14</td>\n",
       "      <td>61</td>\n",
       "    </tr>\n",
       "    <tr>\n",
       "      <th>3</th>\n",
       "      <td>1967-11-27 12:27:39.148023</td>\n",
       "      <td>2.109121</td>\n",
       "      <td>1074.171569</td>\n",
       "      <td>144.817864</td>\n",
       "      <td>950.486443</td>\n",
       "      <td>Categoria D</td>\n",
       "      <td>Sí</td>\n",
       "      <td>2023-12-14</td>\n",
       "      <td>56</td>\n",
       "    </tr>\n",
       "    <tr>\n",
       "      <th>4</th>\n",
       "      <td>1982-11-23 12:27:39.148023</td>\n",
       "      <td>2.109121</td>\n",
       "      <td>205.078660</td>\n",
       "      <td>37.891444</td>\n",
       "      <td>63.656943</td>\n",
       "      <td>Categoria D</td>\n",
       "      <td>No</td>\n",
       "      <td>2023-12-14</td>\n",
       "      <td>41</td>\n",
       "    </tr>\n",
       "    <tr>\n",
       "      <th>...</th>\n",
       "      <td>...</td>\n",
       "      <td>...</td>\n",
       "      <td>...</td>\n",
       "      <td>...</td>\n",
       "      <td>...</td>\n",
       "      <td>...</td>\n",
       "      <td>...</td>\n",
       "      <td>...</td>\n",
       "      <td>...</td>\n",
       "    </tr>\n",
       "    <tr>\n",
       "      <th>2995</th>\n",
       "      <td>1962-11-28 12:27:39.148023</td>\n",
       "      <td>14.109121</td>\n",
       "      <td>351.827087</td>\n",
       "      <td>36.691961</td>\n",
       "      <td>213.400237</td>\n",
       "      <td>Categoria B</td>\n",
       "      <td>No</td>\n",
       "      <td>2023-12-14</td>\n",
       "      <td>61</td>\n",
       "    </tr>\n",
       "    <tr>\n",
       "      <th>2996</th>\n",
       "      <td>1962-11-28 12:27:39.148023</td>\n",
       "      <td>21.890879</td>\n",
       "      <td>494.859133</td>\n",
       "      <td>53.525986</td>\n",
       "      <td>359.351304</td>\n",
       "      <td>Categoria B</td>\n",
       "      <td>No</td>\n",
       "      <td>2023-12-14</td>\n",
       "      <td>61</td>\n",
       "    </tr>\n",
       "    <tr>\n",
       "      <th>2997</th>\n",
       "      <td>1980-11-23 12:27:39.148023</td>\n",
       "      <td>50.109121</td>\n",
       "      <td>488.597332</td>\n",
       "      <td>44.621153</td>\n",
       "      <td>352.961711</td>\n",
       "      <td>Categoria A</td>\n",
       "      <td>No</td>\n",
       "      <td>2023-12-14</td>\n",
       "      <td>43</td>\n",
       "    </tr>\n",
       "    <tr>\n",
       "      <th>2998</th>\n",
       "      <td>1982-11-23 12:27:39.148023</td>\n",
       "      <td>26.109121</td>\n",
       "      <td>368.592515</td>\n",
       "      <td>53.934444</td>\n",
       "      <td>230.507817</td>\n",
       "      <td>Categoria A</td>\n",
       "      <td>No</td>\n",
       "      <td>2023-12-14</td>\n",
       "      <td>41</td>\n",
       "    </tr>\n",
       "    <tr>\n",
       "      <th>2999</th>\n",
       "      <td>1989-11-21 12:27:39.148023</td>\n",
       "      <td>26.109121</td>\n",
       "      <td>358.783160</td>\n",
       "      <td>52.865183</td>\n",
       "      <td>220.498271</td>\n",
       "      <td>Categoria A</td>\n",
       "      <td>No</td>\n",
       "      <td>2023-12-14</td>\n",
       "      <td>34</td>\n",
       "    </tr>\n",
       "  </tbody>\n",
       "</table>\n",
       "<p>3000 rows × 9 columns</p>\n",
       "</div>"
      ],
      "text/plain": [
       "            fecha_de_nacimiento  clicks_en_web      puntaje  \\\n",
       "0    1955-11-30 12:27:39.148023      50.109121   232.101644   \n",
       "1    1998-11-19 12:27:39.148023       2.109121   868.308119   \n",
       "2    1962-11-28 12:27:39.148023      14.109121   158.323178   \n",
       "3    1967-11-27 12:27:39.148023       2.109121  1074.171569   \n",
       "4    1982-11-23 12:27:39.148023       2.109121   205.078660   \n",
       "...                         ...            ...          ...   \n",
       "2995 1962-11-28 12:27:39.148023      14.109121   351.827087   \n",
       "2996 1962-11-28 12:27:39.148023      21.890879   494.859133   \n",
       "2997 1980-11-23 12:27:39.148023      50.109121   488.597332   \n",
       "2998 1982-11-23 12:27:39.148023      26.109121   368.592515   \n",
       "2999 1989-11-21 12:27:39.148023      26.109121   358.783160   \n",
       "\n",
       "      cantidad_mensajes  ingreso_estimado    categoria cliente        hoy  \\\n",
       "0            135.281047         91.231418  Categoria D      Sí 2023-12-14   \n",
       "1             55.687224        740.421698  Categoria D      No 2023-12-14   \n",
       "2            119.574760         15.947268  Categoria D      Sí 2023-12-14   \n",
       "3            144.817864        950.486443  Categoria D      Sí 2023-12-14   \n",
       "4             37.891444         63.656943  Categoria D      No 2023-12-14   \n",
       "...                 ...               ...          ...     ...        ...   \n",
       "2995          36.691961        213.400237  Categoria B      No 2023-12-14   \n",
       "2996          53.525986        359.351304  Categoria B      No 2023-12-14   \n",
       "2997          44.621153        352.961711  Categoria A      No 2023-12-14   \n",
       "2998          53.934444        230.507817  Categoria A      No 2023-12-14   \n",
       "2999          52.865183        220.498271  Categoria A      No 2023-12-14   \n",
       "\n",
       "      edad_del_auto  \n",
       "0                68  \n",
       "1                25  \n",
       "2                61  \n",
       "3                56  \n",
       "4                41  \n",
       "...             ...  \n",
       "2995             61  \n",
       "2996             61  \n",
       "2997             43  \n",
       "2998             41  \n",
       "2999             34  \n",
       "\n",
       "[3000 rows x 9 columns]"
      ]
     },
     "execution_count": 911,
     "metadata": {},
     "output_type": "execute_result"
    }
   ],
   "source": [
    "df_leads_clientes"
   ]
  },
  {
   "cell_type": "markdown",
   "id": "e666a0a7",
   "metadata": {},
   "source": [
    "2. Graficar boxplot de la variable edad (2pts/40pts)"
   ]
  },
  {
   "cell_type": "code",
   "execution_count": 912,
   "id": "f02afb24",
   "metadata": {},
   "outputs": [
    {
     "data": {
      "image/png": "[encoded data removed]",
      "text/plain": [
       "<Figure size 640x480 with 1 Axes>"
      ]
     },
     "metadata": {},
     "output_type": "display_data"
    }
   ],
   "source": [
    "sns.boxplot(x=df_leads_clientes['edad_del_auto'])\n",
    "plt.show()"
   ]
  },
  {
   "cell_type": "code",
   "execution_count": 913,
   "id": "d6108713",
   "metadata": {},
   "outputs": [
    {
     "data": {
      "text/plain": [
       "148"
      ]
     },
     "execution_count": 913,
     "metadata": {},
     "output_type": "execute_result"
    }
   ],
   "source": [
    "df_leads_clientes[\"edad_del_auto\"].max()"
   ]
  },
  {
   "cell_type": "markdown",
   "id": "11824725",
   "metadata": {},
   "source": [
    "#### Es demasiado raro que un auto tenga más de 100 años de edad, por lo tanto se decide sacar del dataset los autos que tengan más de 100 años de edad."
   ]
  },
  {
   "cell_type": "code",
   "execution_count": 914,
   "id": "5c983811",
   "metadata": {},
   "outputs": [],
   "source": [
    "df_leads_clientes = df_leads_clientes[df_leads_clientes['edad_del_auto'] < 100]"
   ]
  },
  {
   "cell_type": "code",
   "execution_count": 915,
   "id": "35f78043",
   "metadata": {},
   "outputs": [
    {
     "data": {
      "image/png": "[encoded data removed]",
      "text/plain": [
       "<Figure size 640x480 with 1 Axes>"
      ]
     },
     "metadata": {},
     "output_type": "display_data"
    }
   ],
   "source": [
    "sns.boxplot(x=df_leads_clientes['edad_del_auto'])\n",
    "plt.show()"
   ]
  },
  {
   "cell_type": "markdown",
   "id": "549fc1a8",
   "metadata": {},
   "source": [
    "3. Graficar boxplot de la variable ingreso_estimado en funcion de la variable categoria.(2pts/40pts)"
   ]
  },
  {
   "cell_type": "code",
   "execution_count": 916,
   "id": "7de51185",
   "metadata": {},
   "outputs": [
    {
     "data": {
      "image/png": "[encoded data removed]",
      "text/plain": [
       "<Figure size 640x480 with 1 Axes>"
      ]
     },
     "metadata": {},
     "output_type": "display_data"
    }
   ],
   "source": [
    "sns.boxplot(x='categoria', y='ingreso_estimado', data=df_leads_clientes)\n",
    "plt.show()"
   ]
  },
  {
   "cell_type": "markdown",
   "id": "63479b0c",
   "metadata": {},
   "source": [
    "4. ¿A que conclusión llega en base al anterior boxplot? En base a esa explicación decida si debe sacar una categoria o no. (8pts/40pts)"
   ]
  },
  {
   "cell_type": "code",
   "execution_count": 917,
   "id": "0b88a44b",
   "metadata": {},
   "outputs": [
    {
     "data": {
      "text/plain": [
       "categoria\n",
       "Categoria A    674\n",
       "Categoria B    665\n",
       "Categoria C     31\n",
       "Categoria D     71\n",
       "Name: cliente, dtype: int64"
      ]
     },
     "execution_count": 917,
     "metadata": {},
     "output_type": "execute_result"
    }
   ],
   "source": [
    "df_leads_clientes[df_leads_clientes['cliente'] == 'Sí'].groupby('categoria')['cliente'].count()"
   ]
  },
  {
   "cell_type": "code",
   "execution_count": 918,
   "id": "6cc6d6f0",
   "metadata": {},
   "outputs": [],
   "source": [
    "df_leads_clientes = df_leads_clientes[df_leads_clientes['categoria'] != 'Categoria D']"
   ]
  },
  {
   "cell_type": "markdown",
   "id": "b4dc449b",
   "metadata": {},
   "source": [
    "### Decido sacar la categoría D ya que es la que mayor cantidad de outliers tiene y además es una de las que menor cantidad de clientes tiene."
   ]
  },
  {
   "cell_type": "markdown",
   "id": "37af4ac3",
   "metadata": {},
   "source": [
    "5. Grafique la variable cantidad_mensajes en funcion de si es cliente o no. (2pts/40pts)"
   ]
  },
  {
   "cell_type": "code",
   "execution_count": 919,
   "id": "b74810af",
   "metadata": {},
   "outputs": [
    {
     "data": {
      "image/png": "[encoded data removed]",
      "text/plain": [
       "<Figure size 640x480 with 1 Axes>"
      ]
     },
     "metadata": {},
     "output_type": "display_data"
    }
   ],
   "source": [
    "sns.boxplot(x='cliente', y='cantidad_mensajes', data=df_leads_clientes)\n",
    "plt.title('Cantidad de mensajes en función de si es cliente o no')\n",
    "plt.show()"
   ]
  },
  {
   "cell_type": "markdown",
   "id": "28e51535",
   "metadata": {},
   "source": [
    "6. ¿Que conclusiones llega segun este gráfico? Que hipotesis tiene? (4pts/40pts)"
   ]
  },
  {
   "cell_type": "markdown",
   "id": "31b362c3",
   "metadata": {},
   "source": [
    "#### Este gráfico de la cantidad de mensajes en función de si es cliente o no podría ayudarme a entender si hay una diferencia en la cantidad de mensajes enviados entre los clientes y los no clientes.\n",
    "#### Si los clientes tienden a tener una mayor cantidad de mensajes, esto podría sugerir que la interacción frecuente (a través de mensajes) puede estar relacionada con la conversión de un lead a un cliente. \n",
    "#### Por otro lado, si no hay una diferencia significativa en la cantidad de mensajes entre los clientes y los no clientes, esto podría sugerir que la cantidad de mensajes no es un factor determinante para la conversión de un lead a un cliente."
   ]
  },
  {
   "cell_type": "markdown",
   "id": "9ba81a3b",
   "metadata": {},
   "source": [
    "7. Separar train y test (1pts/40pts)"
   ]
  },
  {
   "cell_type": "code",
   "execution_count": 920,
   "id": "f08eedb4",
   "metadata": {},
   "outputs": [
    {
     "data": {
      "text/plain": [
       "array(['Categoria A', 'Categoria B', 'Categoria C'], dtype=object)"
      ]
     },
     "execution_count": 920,
     "metadata": {},
     "output_type": "execute_result"
    }
   ],
   "source": [
    "from sklearn.preprocessing import LabelEncoder\n",
    "df_leads_clientes_le = LabelEncoder()\n",
    "df_leads_clientes_le.fit(df_leads_clientes['categoria'])\n",
    "df_leads_clientes_le.classes_"
   ]
  },
  {
   "cell_type": "code",
   "execution_count": 921,
   "id": "a8379350",
   "metadata": {},
   "outputs": [],
   "source": [
    "df_leads_clientes['categoria'] = df_leads_clientes_le.transform(df_leads_clientes['categoria'])"
   ]
  },
  {
   "cell_type": "code",
   "execution_count": 922,
   "id": "fe7e01be",
   "metadata": {},
   "outputs": [],
   "source": [
    "df_leads_clientes['cliente'] = df_leads_clientes['cliente'].map({'Sí': 1, 'No': 0})"
   ]
  },
  {
   "cell_type": "code",
   "execution_count": 923,
   "id": "27a74e11",
   "metadata": {},
   "outputs": [],
   "source": [
    "X = df_leads_clientes[[\"edad_del_auto\", 'ingreso_estimado', 'cantidad_mensajes', \"puntaje\", \"clicks_en_web\", \"categoria\"]]\n",
    "y = df_leads_clientes['cliente']"
   ]
  },
  {
   "cell_type": "code",
   "execution_count": 924,
   "id": "6e41bf60",
   "metadata": {},
   "outputs": [],
   "source": [
    "from sklearn.model_selection import train_test_split\n",
    "from sklearn.tree import DecisionTreeClassifier\n",
    "\n",
    "X_train, X_test, y_train, y_test = train_test_split(X, y, test_size = 0.2, random_state=42)"
   ]
  },
  {
   "cell_type": "markdown",
   "id": "ff3a4b4f",
   "metadata": {},
   "source": [
    "8. Entrene un arbol de decision (1pts/40pts)"
   ]
  },
  {
   "cell_type": "code",
   "execution_count": 925,
   "id": "5e04de1f",
   "metadata": {},
   "outputs": [],
   "source": [
    "decision_tree_model = DecisionTreeClassifier(max_depth=3)\n",
    "decision_tree_model = decision_tree_model.fit(X_train, y_train)"
   ]
  },
  {
   "cell_type": "markdown",
   "id": "04c358ee",
   "metadata": {},
   "source": [
    "9. Prediga en test  (4pts/40pts)"
   ]
  },
  {
   "cell_type": "code",
   "execution_count": 926,
   "id": "05bf66ce",
   "metadata": {},
   "outputs": [],
   "source": [
    "y_pred = decision_tree_model.predict(X_test)\n"
   ]
  },
  {
   "cell_type": "markdown",
   "id": "b5841137",
   "metadata": {},
   "source": [
    "10. Grafique una matriz de confusión de test. (2pts/40pts)"
   ]
  },
  {
   "cell_type": "code",
   "execution_count": 927,
   "id": "b7f51eda",
   "metadata": {},
   "outputs": [],
   "source": [
    "# Creating a confusion matrix\n",
    "conf_matrix = confusion_matrix(y_test, y_pred)\n",
    "# Calculating metrics manually using the confusion matrix\n",
    "tp, fn, fp, tn = conf_matrix.ravel()"
   ]
  },
  {
   "cell_type": "code",
   "execution_count": 928,
   "id": "ad9884ab",
   "metadata": {},
   "outputs": [
    {
     "data": {
      "image/png": "[encoded data removed]",
      "text/plain": [
       "<Figure size 1500x1000 with 2 Axes>"
      ]
     },
     "metadata": {},
     "output_type": "display_data"
    }
   ],
   "source": [
    "# y_pred = decision_tree_model.predict(X_test)\n",
    "y_true = y_test\n",
    "# Visualización de la matriz de confusión\n",
    "f, ax = plt.subplots(figsize=(15, 10))\n",
    "sns.heatmap(conf_matrix, annot=True, linewidth=0.5, fmt=\".0f\", cmap='viridis', ax=ax)\n",
    "plt.xlabel(\"Predicho\")\n",
    "plt.ylabel(\"Real\")\n",
    "plt.title('Matriz de Confusión')\n",
    "plt.show()"
   ]
  },
  {
   "cell_type": "code",
   "execution_count": 929,
   "id": "58ebc709",
   "metadata": {},
   "outputs": [
    {
     "name": "stdout",
     "output_type": "stream",
     "text": [
      "Precisión: 0.9806949806949807\n",
      "Recall: 0.900709219858156\n",
      "Exactitud: 0.9410714285714286\n"
     ]
    }
   ],
   "source": [
    "from sklearn.metrics import precision_score, recall_score, accuracy_score, confusion_matrix\n",
    "\n",
    "print(\"Precisión:\", precision_score(y_true, y_pred))\n",
    "print(\"Recall:\", recall_score(y_true, y_pred))\n",
    "print(\"Exactitud:\", accuracy_score(y_true, y_pred))"
   ]
  },
  {
   "cell_type": "markdown",
   "id": "fbc250bc",
   "metadata": {},
   "source": [
    "11. Grafique un árbol. (4pts/40pts)"
   ]
  },
  {
   "cell_type": "code",
   "execution_count": 930,
   "id": "2b00637b",
   "metadata": {},
   "outputs": [
    {
     "data": {
      "image/svg+xml": [
       "<?xml version=\"1.0\" encoding=\"UTF-8\" standalone=\"no\"?>\n",
       "<!DOCTYPE svg PUBLIC \"-//W3C//DTD SVG 1.1//EN\"\n",
       " \"http://www.w3.org/Graphics/SVG/1.1/DTD/svg11.dtd\">\n",
       "<!-- Generated by graphviz version 2.50.0 (0)\n",
       " -->\n",
       "<!-- Title: Tree Pages: 1 -->\n",
       "<svg width=\"1057pt\" height=\"433pt\"\n",
       " viewBox=\"0.00 0.00 1056.50 433.00\" xmlns=\"http://www.w3.org/2000/svg\" xmlns:xlink=\"http://www.w3.org/1999/xlink\">\n",
       "<g id=\"graph0\" class=\"graph\" transform=\"scale(1 1) rotate(0) translate(4 429)\">\n",
       "<title>Tree</title>\n",
       "<polygon fill=\"white\" stroke=\"transparent\" points=\"-4,4 -4,-429 1052.5,-429 1052.5,4 -4,4\"/>\n",
       "<!-- 0 -->\n",
       "<g id=\"node1\" class=\"node\">\n",
       "<title>0</title>\n",
       "<path fill=\"#fef8f4\" stroke=\"black\" d=\"M636,-425C636,-425 470,-425 470,-425 464,-425 458,-419 458,-413 458,-413 458,-354 458,-354 458,-348 464,-342 470,-342 470,-342 636,-342 636,-342 642,-342 648,-348 648,-354 648,-354 648,-413 648,-413 648,-419 642,-425 636,-425\"/>\n",
       "<text text-anchor=\"start\" x=\"466\" y=\"-409.8\" font-family=\"Helvetica,sans-Serif\" font-size=\"14.00\">cantidad_mensajes ≤ 70.543</text>\n",
       "<text text-anchor=\"start\" x=\"525\" y=\"-394.8\" font-family=\"Helvetica,sans-Serif\" font-size=\"14.00\">gini = 0.5</text>\n",
       "<text text-anchor=\"start\" x=\"504.5\" y=\"-379.8\" font-family=\"Helvetica,sans-Serif\" font-size=\"14.00\">samples = 2240</text>\n",
       "<text text-anchor=\"start\" x=\"491\" y=\"-364.8\" font-family=\"Helvetica,sans-Serif\" font-size=\"14.00\">value = [1152, 1088]</text>\n",
       "<text text-anchor=\"start\" x=\"508.5\" y=\"-349.8\" font-family=\"Helvetica,sans-Serif\" font-size=\"14.00\">class = Cliente</text>\n",
       "</g>\n",
       "<!-- 1 -->\n",
       "<g id=\"node2\" class=\"node\">\n",
       "<title>1</title>\n",
       "<path fill=\"#e78a47\" stroke=\"black\" d=\"M500,-306C500,-306 342,-306 342,-306 336,-306 330,-300 330,-294 330,-294 330,-235 330,-235 330,-229 336,-223 342,-223 342,-223 500,-223 500,-223 506,-223 512,-229 512,-235 512,-235 512,-294 512,-294 512,-300 506,-306 500,-306\"/>\n",
       "<text text-anchor=\"start\" x=\"338\" y=\"-290.8\" font-family=\"Helvetica,sans-Serif\" font-size=\"14.00\">cantidad_mensajes ≤ 62.84</text>\n",
       "<text text-anchor=\"start\" x=\"385.5\" y=\"-275.8\" font-family=\"Helvetica,sans-Serif\" font-size=\"14.00\">gini = 0.121</text>\n",
       "<text text-anchor=\"start\" x=\"372.5\" y=\"-260.8\" font-family=\"Helvetica,sans-Serif\" font-size=\"14.00\">samples = 1209</text>\n",
       "<text text-anchor=\"start\" x=\"366.5\" y=\"-245.8\" font-family=\"Helvetica,sans-Serif\" font-size=\"14.00\">value = [1131, 78]</text>\n",
       "<text text-anchor=\"start\" x=\"376.5\" y=\"-230.8\" font-family=\"Helvetica,sans-Serif\" font-size=\"14.00\">class = Cliente</text>\n",
       "</g>\n",
       "<!-- 0&#45;&gt;1 -->\n",
       "<g id=\"edge1\" class=\"edge\">\n",
       "<title>0&#45;&gt;1</title>\n",
       "<path fill=\"none\" stroke=\"black\" d=\"M507.2,-341.91C496.66,-332.56 485.35,-322.54 474.51,-312.93\"/>\n",
       "<polygon fill=\"black\" stroke=\"black\" points=\"476.52,-310.03 466.72,-306.02 471.88,-315.27 476.52,-310.03\"/>\n",
       "<text text-anchor=\"middle\" x=\"468.22\" y=\"-327.28\" font-family=\"Helvetica,sans-Serif\" font-size=\"14.00\">True</text>\n",
       "</g>\n",
       "<!-- 8 -->\n",
       "<g id=\"node9\" class=\"node\">\n",
       "<title>8</title>\n",
       "<path fill=\"#3d9fe6\" stroke=\"black\" d=\"M719,-306C719,-306 561,-306 561,-306 555,-306 549,-300 549,-294 549,-294 549,-235 549,-235 549,-229 555,-223 561,-223 561,-223 719,-223 719,-223 725,-223 731,-229 731,-235 731,-235 731,-294 731,-294 731,-300 725,-306 719,-306\"/>\n",
       "<text text-anchor=\"start\" x=\"557\" y=\"-290.8\" font-family=\"Helvetica,sans-Serif\" font-size=\"14.00\">cantidad_mensajes ≤ 76.37</text>\n",
       "<text text-anchor=\"start\" x=\"608\" y=\"-275.8\" font-family=\"Helvetica,sans-Serif\" font-size=\"14.00\">gini = 0.04</text>\n",
       "<text text-anchor=\"start\" x=\"591.5\" y=\"-260.8\" font-family=\"Helvetica,sans-Serif\" font-size=\"14.00\">samples = 1031</text>\n",
       "<text text-anchor=\"start\" x=\"585.5\" y=\"-245.8\" font-family=\"Helvetica,sans-Serif\" font-size=\"14.00\">value = [21, 1010]</text>\n",
       "<text text-anchor=\"start\" x=\"586.5\" y=\"-230.8\" font-family=\"Helvetica,sans-Serif\" font-size=\"14.00\">class = No cliente</text>\n",
       "</g>\n",
       "<!-- 0&#45;&gt;8 -->\n",
       "<g id=\"edge8\" class=\"edge\">\n",
       "<title>0&#45;&gt;8</title>\n",
       "<path fill=\"none\" stroke=\"black\" d=\"M583.18,-341.91C589.86,-332.92 597.01,-323.32 603.9,-314.05\"/>\n",
       "<polygon fill=\"black\" stroke=\"black\" points=\"606.71,-316.13 609.87,-306.02 601.09,-311.96 606.71,-316.13\"/>\n",
       "<text text-anchor=\"middle\" x=\"613.51\" y=\"-327.05\" font-family=\"Helvetica,sans-Serif\" font-size=\"14.00\">False</text>\n",
       "</g>\n",
       "<!-- 2 -->\n",
       "<g id=\"node3\" class=\"node\">\n",
       "<title>2</title>\n",
       "<path fill=\"#e6843e\" stroke=\"black\" d=\"M270,-187C270,-187 104,-187 104,-187 98,-187 92,-181 92,-175 92,-175 92,-116 92,-116 92,-110 98,-104 104,-104 104,-104 270,-104 270,-104 276,-104 282,-110 282,-116 282,-116 282,-175 282,-175 282,-181 276,-187 270,-187\"/>\n",
       "<text text-anchor=\"start\" x=\"100\" y=\"-171.8\" font-family=\"Helvetica,sans-Serif\" font-size=\"14.00\">cantidad_mensajes ≤ 54.269</text>\n",
       "<text text-anchor=\"start\" x=\"151.5\" y=\"-156.8\" font-family=\"Helvetica,sans-Serif\" font-size=\"14.00\">gini = 0.052</text>\n",
       "<text text-anchor=\"start\" x=\"138.5\" y=\"-141.8\" font-family=\"Helvetica,sans-Serif\" font-size=\"14.00\">samples = 1058</text>\n",
       "<text text-anchor=\"start\" x=\"132.5\" y=\"-126.8\" font-family=\"Helvetica,sans-Serif\" font-size=\"14.00\">value = [1030, 28]</text>\n",
       "<text text-anchor=\"start\" x=\"142.5\" y=\"-111.8\" font-family=\"Helvetica,sans-Serif\" font-size=\"14.00\">class = Cliente</text>\n",
       "</g>\n",
       "<!-- 1&#45;&gt;2 -->\n",
       "<g id=\"edge2\" class=\"edge\">\n",
       "<title>1&#45;&gt;2</title>\n",
       "<path fill=\"none\" stroke=\"black\" d=\"M339.81,-222.91C319.58,-212.79 297.76,-201.88 277.12,-191.56\"/>\n",
       "<polygon fill=\"black\" stroke=\"black\" points=\"278.55,-188.36 268.04,-187.02 275.42,-194.62 278.55,-188.36\"/>\n",
       "</g>\n",
       "<!-- 5 -->\n",
       "<g id=\"node6\" class=\"node\">\n",
       "<title>5</title>\n",
       "<path fill=\"#f2bf9b\" stroke=\"black\" d=\"M504,-187C504,-187 338,-187 338,-187 332,-187 326,-181 326,-175 326,-175 326,-116 326,-116 326,-110 332,-104 338,-104 338,-104 504,-104 504,-104 510,-104 516,-110 516,-116 516,-116 516,-175 516,-175 516,-181 510,-187 504,-187\"/>\n",
       "<text text-anchor=\"start\" x=\"334\" y=\"-171.8\" font-family=\"Helvetica,sans-Serif\" font-size=\"14.00\">cantidad_mensajes ≤ 65.359</text>\n",
       "<text text-anchor=\"start\" x=\"385.5\" y=\"-156.8\" font-family=\"Helvetica,sans-Serif\" font-size=\"14.00\">gini = 0.443</text>\n",
       "<text text-anchor=\"start\" x=\"376\" y=\"-141.8\" font-family=\"Helvetica,sans-Serif\" font-size=\"14.00\">samples = 151</text>\n",
       "<text text-anchor=\"start\" x=\"370.5\" y=\"-126.8\" font-family=\"Helvetica,sans-Serif\" font-size=\"14.00\">value = [101, 50]</text>\n",
       "<text text-anchor=\"start\" x=\"376.5\" y=\"-111.8\" font-family=\"Helvetica,sans-Serif\" font-size=\"14.00\">class = Cliente</text>\n",
       "</g>\n",
       "<!-- 1&#45;&gt;5 -->\n",
       "<g id=\"edge5\" class=\"edge\">\n",
       "<title>1&#45;&gt;5</title>\n",
       "<path fill=\"none\" stroke=\"black\" d=\"M421,-222.91C421,-214.65 421,-205.86 421,-197.3\"/>\n",
       "<polygon fill=\"black\" stroke=\"black\" points=\"424.5,-197.02 421,-187.02 417.5,-197.02 424.5,-197.02\"/>\n",
       "</g>\n",
       "<!-- 3 -->\n",
       "<g id=\"node4\" class=\"node\">\n",
       "<title>3</title>\n",
       "<path fill=\"#e5823b\" stroke=\"black\" d=\"M98,-68C98,-68 12,-68 12,-68 6,-68 0,-62 0,-56 0,-56 0,-12 0,-12 0,-6 6,0 12,0 12,0 98,0 98,0 104,0 110,-6 110,-12 110,-12 110,-56 110,-56 110,-62 104,-68 98,-68\"/>\n",
       "<text text-anchor=\"start\" x=\"19.5\" y=\"-52.8\" font-family=\"Helvetica,sans-Serif\" font-size=\"14.00\">gini = 0.018</text>\n",
       "<text text-anchor=\"start\" x=\"10\" y=\"-37.8\" font-family=\"Helvetica,sans-Serif\" font-size=\"14.00\">samples = 768</text>\n",
       "<text text-anchor=\"start\" x=\"8\" y=\"-22.8\" font-family=\"Helvetica,sans-Serif\" font-size=\"14.00\">value = [761, 7]</text>\n",
       "<text text-anchor=\"start\" x=\"10.5\" y=\"-7.8\" font-family=\"Helvetica,sans-Serif\" font-size=\"14.00\">class = Cliente</text>\n",
       "</g>\n",
       "<!-- 2&#45;&gt;3 -->\n",
       "<g id=\"edge3\" class=\"edge\">\n",
       "<title>2&#45;&gt;3</title>\n",
       "<path fill=\"none\" stroke=\"black\" d=\"M137.85,-103.73C126.41,-94.24 114.26,-84.16 102.88,-74.72\"/>\n",
       "<polygon fill=\"black\" stroke=\"black\" points=\"105.07,-71.99 95.14,-68.3 100.6,-77.38 105.07,-71.99\"/>\n",
       "</g>\n",
       "<!-- 4 -->\n",
       "<g id=\"node5\" class=\"node\">\n",
       "<title>4</title>\n",
       "<path fill=\"#e78b48\" stroke=\"black\" d=\"M233.5,-68C233.5,-68 140.5,-68 140.5,-68 134.5,-68 128.5,-62 128.5,-56 128.5,-56 128.5,-12 128.5,-12 128.5,-6 134.5,0 140.5,0 140.5,0 233.5,0 233.5,0 239.5,0 245.5,-6 245.5,-12 245.5,-12 245.5,-56 245.5,-56 245.5,-62 239.5,-68 233.5,-68\"/>\n",
       "<text text-anchor=\"start\" x=\"151.5\" y=\"-52.8\" font-family=\"Helvetica,sans-Serif\" font-size=\"14.00\">gini = 0.134</text>\n",
       "<text text-anchor=\"start\" x=\"142\" y=\"-37.8\" font-family=\"Helvetica,sans-Serif\" font-size=\"14.00\">samples = 290</text>\n",
       "<text text-anchor=\"start\" x=\"136.5\" y=\"-22.8\" font-family=\"Helvetica,sans-Serif\" font-size=\"14.00\">value = [269, 21]</text>\n",
       "<text text-anchor=\"start\" x=\"142.5\" y=\"-7.8\" font-family=\"Helvetica,sans-Serif\" font-size=\"14.00\">class = Cliente</text>\n",
       "</g>\n",
       "<!-- 2&#45;&gt;4 -->\n",
       "<g id=\"edge4\" class=\"edge\">\n",
       "<title>2&#45;&gt;4</title>\n",
       "<path fill=\"none\" stroke=\"black\" d=\"M187,-103.73C187,-95.52 187,-86.86 187,-78.56\"/>\n",
       "<polygon fill=\"black\" stroke=\"black\" points=\"190.5,-78.3 187,-68.3 183.5,-78.3 190.5,-78.3\"/>\n",
       "</g>\n",
       "<!-- 6 -->\n",
       "<g id=\"node7\" class=\"node\">\n",
       "<title>6</title>\n",
       "<path fill=\"#eca16c\" stroke=\"black\" d=\"M362,-68C362,-68 276,-68 276,-68 270,-68 264,-62 264,-56 264,-56 264,-12 264,-12 264,-6 270,0 276,0 276,0 362,0 362,0 368,0 374,-6 374,-12 374,-12 374,-56 374,-56 374,-62 368,-68 362,-68\"/>\n",
       "<text text-anchor=\"start\" x=\"283.5\" y=\"-52.8\" font-family=\"Helvetica,sans-Serif\" font-size=\"14.00\">gini = 0.324</text>\n",
       "<text text-anchor=\"start\" x=\"278\" y=\"-37.8\" font-family=\"Helvetica,sans-Serif\" font-size=\"14.00\">samples = 54</text>\n",
       "<text text-anchor=\"start\" x=\"272\" y=\"-22.8\" font-family=\"Helvetica,sans-Serif\" font-size=\"14.00\">value = [43, 11]</text>\n",
       "<text text-anchor=\"start\" x=\"274.5\" y=\"-7.8\" font-family=\"Helvetica,sans-Serif\" font-size=\"14.00\">class = Cliente</text>\n",
       "</g>\n",
       "<!-- 5&#45;&gt;6 -->\n",
       "<g id=\"edge6\" class=\"edge\">\n",
       "<title>5&#45;&gt;6</title>\n",
       "<path fill=\"none\" stroke=\"black\" d=\"M383.02,-103.73C374.52,-94.61 365.51,-84.93 357.01,-75.81\"/>\n",
       "<polygon fill=\"black\" stroke=\"black\" points=\"359.4,-73.23 350.02,-68.3 354.27,-78 359.4,-73.23\"/>\n",
       "</g>\n",
       "<!-- 7 -->\n",
       "<g id=\"node8\" class=\"node\">\n",
       "<title>7</title>\n",
       "<path fill=\"#f6d6be\" stroke=\"black\" d=\"M490,-68C490,-68 404,-68 404,-68 398,-68 392,-62 392,-56 392,-56 392,-12 392,-12 392,-6 398,0 404,0 404,0 490,0 490,0 496,0 502,-6 502,-12 502,-12 502,-56 502,-56 502,-62 496,-68 490,-68\"/>\n",
       "<text text-anchor=\"start\" x=\"411.5\" y=\"-52.8\" font-family=\"Helvetica,sans-Serif\" font-size=\"14.00\">gini = 0.481</text>\n",
       "<text text-anchor=\"start\" x=\"406\" y=\"-37.8\" font-family=\"Helvetica,sans-Serif\" font-size=\"14.00\">samples = 97</text>\n",
       "<text text-anchor=\"start\" x=\"400\" y=\"-22.8\" font-family=\"Helvetica,sans-Serif\" font-size=\"14.00\">value = [58, 39]</text>\n",
       "<text text-anchor=\"start\" x=\"402.5\" y=\"-7.8\" font-family=\"Helvetica,sans-Serif\" font-size=\"14.00\">class = Cliente</text>\n",
       "</g>\n",
       "<!-- 5&#45;&gt;7 -->\n",
       "<g id=\"edge7\" class=\"edge\">\n",
       "<title>5&#45;&gt;7</title>\n",
       "<path fill=\"none\" stroke=\"black\" d=\"M430.68,-103.73C432.65,-95.43 434.73,-86.67 436.72,-78.28\"/>\n",
       "<polygon fill=\"black\" stroke=\"black\" points=\"440.19,-78.84 439.09,-68.3 433.38,-77.22 440.19,-78.84\"/>\n",
       "</g>\n",
       "<!-- 9 -->\n",
       "<g id=\"node10\" class=\"node\">\n",
       "<title>9</title>\n",
       "<path fill=\"#86c3ef\" stroke=\"black\" d=\"M701.5,-187C701.5,-187 578.5,-187 578.5,-187 572.5,-187 566.5,-181 566.5,-175 566.5,-175 566.5,-116 566.5,-116 566.5,-110 572.5,-104 578.5,-104 578.5,-104 701.5,-104 701.5,-104 707.5,-104 713.5,-110 713.5,-116 713.5,-116 713.5,-175 713.5,-175 713.5,-181 707.5,-187 701.5,-187\"/>\n",
       "<text text-anchor=\"start\" x=\"574.5\" y=\"-171.8\" font-family=\"Helvetica,sans-Serif\" font-size=\"14.00\">edad_del_auto ≤ 58.5</text>\n",
       "<text text-anchor=\"start\" x=\"604.5\" y=\"-156.8\" font-family=\"Helvetica,sans-Serif\" font-size=\"14.00\">gini = 0.404</text>\n",
       "<text text-anchor=\"start\" x=\"599\" y=\"-141.8\" font-family=\"Helvetica,sans-Serif\" font-size=\"14.00\">samples = 64</text>\n",
       "<text text-anchor=\"start\" x=\"593\" y=\"-126.8\" font-family=\"Helvetica,sans-Serif\" font-size=\"14.00\">value = [18, 46]</text>\n",
       "<text text-anchor=\"start\" x=\"586.5\" y=\"-111.8\" font-family=\"Helvetica,sans-Serif\" font-size=\"14.00\">class = No cliente</text>\n",
       "</g>\n",
       "<!-- 8&#45;&gt;9 -->\n",
       "<g id=\"edge9\" class=\"edge\">\n",
       "<title>8&#45;&gt;9</title>\n",
       "<path fill=\"none\" stroke=\"black\" d=\"M640,-222.91C640,-214.65 640,-205.86 640,-197.3\"/>\n",
       "<polygon fill=\"black\" stroke=\"black\" points=\"643.5,-197.02 640,-187.02 636.5,-197.02 643.5,-197.02\"/>\n",
       "</g>\n",
       "<!-- 12 -->\n",
       "<g id=\"node13\" class=\"node\">\n",
       "<title>12</title>\n",
       "<path fill=\"#3a9de5\" stroke=\"black\" d=\"M929,-187C929,-187 763,-187 763,-187 757,-187 751,-181 751,-175 751,-175 751,-116 751,-116 751,-110 757,-104 763,-104 763,-104 929,-104 929,-104 935,-104 941,-110 941,-116 941,-116 941,-175 941,-175 941,-181 935,-187 929,-187\"/>\n",
       "<text text-anchor=\"start\" x=\"759\" y=\"-171.8\" font-family=\"Helvetica,sans-Serif\" font-size=\"14.00\">cantidad_mensajes ≤ 79.256</text>\n",
       "<text text-anchor=\"start\" x=\"810.5\" y=\"-156.8\" font-family=\"Helvetica,sans-Serif\" font-size=\"14.00\">gini = 0.006</text>\n",
       "<text text-anchor=\"start\" x=\"801\" y=\"-141.8\" font-family=\"Helvetica,sans-Serif\" font-size=\"14.00\">samples = 967</text>\n",
       "<text text-anchor=\"start\" x=\"799\" y=\"-126.8\" font-family=\"Helvetica,sans-Serif\" font-size=\"14.00\">value = [3, 964]</text>\n",
       "<text text-anchor=\"start\" x=\"792.5\" y=\"-111.8\" font-family=\"Helvetica,sans-Serif\" font-size=\"14.00\">class = No cliente</text>\n",
       "</g>\n",
       "<!-- 8&#45;&gt;12 -->\n",
       "<g id=\"edge12\" class=\"edge\">\n",
       "<title>8&#45;&gt;12</title>\n",
       "<path fill=\"none\" stroke=\"black\" d=\"M711.47,-222.91C729.05,-212.92 747.98,-202.17 765.93,-191.98\"/>\n",
       "<polygon fill=\"black\" stroke=\"black\" points=\"767.69,-195 774.66,-187.02 764.23,-188.92 767.69,-195\"/>\n",
       "</g>\n",
       "<!-- 10 -->\n",
       "<g id=\"node11\" class=\"node\">\n",
       "<title>10</title>\n",
       "<path fill=\"#6fb8ec\" stroke=\"black\" d=\"M631.5,-68C631.5,-68 532.5,-68 532.5,-68 526.5,-68 520.5,-62 520.5,-56 520.5,-56 520.5,-12 520.5,-12 520.5,-6 526.5,0 532.5,0 532.5,0 631.5,0 631.5,0 637.5,0 643.5,-6 643.5,-12 643.5,-12 643.5,-56 643.5,-56 643.5,-62 637.5,-68 631.5,-68\"/>\n",
       "<text text-anchor=\"start\" x=\"546.5\" y=\"-52.8\" font-family=\"Helvetica,sans-Serif\" font-size=\"14.00\">gini = 0.338</text>\n",
       "<text text-anchor=\"start\" x=\"541\" y=\"-37.8\" font-family=\"Helvetica,sans-Serif\" font-size=\"14.00\">samples = 51</text>\n",
       "<text text-anchor=\"start\" x=\"535\" y=\"-22.8\" font-family=\"Helvetica,sans-Serif\" font-size=\"14.00\">value = [11, 40]</text>\n",
       "<text text-anchor=\"start\" x=\"528.5\" y=\"-7.8\" font-family=\"Helvetica,sans-Serif\" font-size=\"14.00\">class = No cliente</text>\n",
       "</g>\n",
       "<!-- 9&#45;&gt;10 -->\n",
       "<g id=\"edge10\" class=\"edge\">\n",
       "<title>9&#45;&gt;10</title>\n",
       "<path fill=\"none\" stroke=\"black\" d=\"M618.4,-103.73C613.81,-95.06 608.96,-85.9 604.34,-77.18\"/>\n",
       "<polygon fill=\"black\" stroke=\"black\" points=\"607.41,-75.5 599.64,-68.3 601.23,-78.77 607.41,-75.5\"/>\n",
       "</g>\n",
       "<!-- 11 -->\n",
       "<g id=\"node12\" class=\"node\">\n",
       "<title>11</title>\n",
       "<path fill=\"#fbede3\" stroke=\"black\" d=\"M754.5,-68C754.5,-68 673.5,-68 673.5,-68 667.5,-68 661.5,-62 661.5,-56 661.5,-56 661.5,-12 661.5,-12 661.5,-6 667.5,0 673.5,0 673.5,0 754.5,0 754.5,0 760.5,0 766.5,-6 766.5,-12 766.5,-12 766.5,-56 766.5,-56 766.5,-62 760.5,-68 754.5,-68\"/>\n",
       "<text text-anchor=\"start\" x=\"678.5\" y=\"-52.8\" font-family=\"Helvetica,sans-Serif\" font-size=\"14.00\">gini = 0.497</text>\n",
       "<text text-anchor=\"start\" x=\"673\" y=\"-37.8\" font-family=\"Helvetica,sans-Serif\" font-size=\"14.00\">samples = 13</text>\n",
       "<text text-anchor=\"start\" x=\"674.5\" y=\"-22.8\" font-family=\"Helvetica,sans-Serif\" font-size=\"14.00\">value = [7, 6]</text>\n",
       "<text text-anchor=\"start\" x=\"669.5\" y=\"-7.8\" font-family=\"Helvetica,sans-Serif\" font-size=\"14.00\">class = Cliente</text>\n",
       "</g>\n",
       "<!-- 9&#45;&gt;11 -->\n",
       "<g id=\"edge11\" class=\"edge\">\n",
       "<title>9&#45;&gt;11</title>\n",
       "<path fill=\"none\" stroke=\"black\" d=\"M667.55,-103.73C673.53,-94.88 679.87,-85.51 685.87,-76.63\"/>\n",
       "<polygon fill=\"black\" stroke=\"black\" points=\"688.8,-78.54 691.5,-68.3 683,-74.63 688.8,-78.54\"/>\n",
       "</g>\n",
       "<!-- 13 -->\n",
       "<g id=\"node14\" class=\"node\">\n",
       "<title>13</title>\n",
       "<path fill=\"#52a9e8\" stroke=\"black\" d=\"M895.5,-68C895.5,-68 796.5,-68 796.5,-68 790.5,-68 784.5,-62 784.5,-56 784.5,-56 784.5,-12 784.5,-12 784.5,-6 790.5,0 796.5,0 796.5,0 895.5,0 895.5,0 901.5,0 907.5,-6 907.5,-12 907.5,-12 907.5,-56 907.5,-56 907.5,-62 901.5,-68 895.5,-68\"/>\n",
       "<text text-anchor=\"start\" x=\"810.5\" y=\"-52.8\" font-family=\"Helvetica,sans-Serif\" font-size=\"14.00\">gini = 0.198</text>\n",
       "<text text-anchor=\"start\" x=\"805\" y=\"-37.8\" font-family=\"Helvetica,sans-Serif\" font-size=\"14.00\">samples = 27</text>\n",
       "<text text-anchor=\"start\" x=\"803\" y=\"-22.8\" font-family=\"Helvetica,sans-Serif\" font-size=\"14.00\">value = [3, 24]</text>\n",
       "<text text-anchor=\"start\" x=\"792.5\" y=\"-7.8\" font-family=\"Helvetica,sans-Serif\" font-size=\"14.00\">class = No cliente</text>\n",
       "</g>\n",
       "<!-- 12&#45;&gt;13 -->\n",
       "<g id=\"edge13\" class=\"edge\">\n",
       "<title>12&#45;&gt;13</title>\n",
       "<path fill=\"none\" stroke=\"black\" d=\"M846,-103.73C846,-95.52 846,-86.86 846,-78.56\"/>\n",
       "<polygon fill=\"black\" stroke=\"black\" points=\"849.5,-78.3 846,-68.3 842.5,-78.3 849.5,-78.3\"/>\n",
       "</g>\n",
       "<!-- 14 -->\n",
       "<g id=\"node15\" class=\"node\">\n",
       "<title>14</title>\n",
       "<path fill=\"#399de5\" stroke=\"black\" d=\"M1036.5,-68C1036.5,-68 937.5,-68 937.5,-68 931.5,-68 925.5,-62 925.5,-56 925.5,-56 925.5,-12 925.5,-12 925.5,-6 931.5,0 937.5,0 937.5,0 1036.5,0 1036.5,0 1042.5,0 1048.5,-6 1048.5,-12 1048.5,-12 1048.5,-56 1048.5,-56 1048.5,-62 1042.5,-68 1036.5,-68\"/>\n",
       "<text text-anchor=\"start\" x=\"959\" y=\"-52.8\" font-family=\"Helvetica,sans-Serif\" font-size=\"14.00\">gini = 0.0</text>\n",
       "<text text-anchor=\"start\" x=\"942\" y=\"-37.8\" font-family=\"Helvetica,sans-Serif\" font-size=\"14.00\">samples = 940</text>\n",
       "<text text-anchor=\"start\" x=\"940\" y=\"-22.8\" font-family=\"Helvetica,sans-Serif\" font-size=\"14.00\">value = [0, 940]</text>\n",
       "<text text-anchor=\"start\" x=\"933.5\" y=\"-7.8\" font-family=\"Helvetica,sans-Serif\" font-size=\"14.00\">class = No cliente</text>\n",
       "</g>\n",
       "<!-- 12&#45;&gt;14 -->\n",
       "<g id=\"edge14\" class=\"edge\">\n",
       "<title>12&#45;&gt;14</title>\n",
       "<path fill=\"none\" stroke=\"black\" d=\"M898.5,-103.73C910.84,-94.15 923.95,-83.96 936.21,-74.44\"/>\n",
       "<polygon fill=\"black\" stroke=\"black\" points=\"938.37,-77.2 944.12,-68.3 934.08,-71.67 938.37,-77.2\"/>\n",
       "</g>\n",
       "</g>\n",
       "</svg>\n"
      ],
      "text/plain": [
       "<graphviz.sources.Source at 0x13afca610>"
      ]
     },
     "execution_count": 930,
     "metadata": {},
     "output_type": "execute_result"
    }
   ],
   "source": [
    "#!pip install scikit-learn graphviz matplotlib\n",
    "from sklearn.tree import export_graphviz\n",
    "import graphviz\n",
    "\n",
    "# Exportar el árbol en formato DOT\n",
    "dot_data = export_graphviz(decision_tree_model, out_file=None, \n",
    "                           feature_names=X_train.columns,  \n",
    "                           class_names=['Cliente', 'No cliente'],  # Ajusta según tus clases\n",
    "                           filled=True, rounded=True,  \n",
    "                           special_characters=True)  \n",
    "\n",
    "# Usar Graphviz para crear la visualización\n",
    "graph = graphviz.Source(dot_data)  \n",
    "graph.render(\"arbol_decision\")  # Guarda el gráfico como un archivo .png\n",
    "graph "
   ]
  },
  {
   "cell_type": "markdown",
   "id": "66a00267",
   "metadata": {},
   "source": [
    "12. ¿Cual es la variable del root node? ¿Que significa? Explique teniendo en cuenta el criterio de Gini Index (8pts/40pts)"
   ]
  },
  {
   "cell_type": "markdown",
   "id": "dc242abc",
   "metadata": {},
   "source": [
    "#### El arbol de decision tiene la siguiente estructura. Nodo raíz (sin ramas entrantes, se produce la primera división en función de la variable más importante), ramas (alimentan los nodos internos), nodos internos (nodos de decisión, vuelven a dividir el conjunto de datos en función de las variables) y nodos hoja/terminales (representan todos los resultados posibles del conjunto de datos, su función es indicar la clasificación definitiva).\n",
    "\n",
    "#### En este caso la variable del root node es la variable cantidad_mensajes. Esto significa que la variable cantidad_mensajes es la variable más importante para predecir si un lead se convertirá en cliente o no. Esto se debe a que es la variable que tiene el mayor Gini Index, es decir, la variable que tiene la mayor capacidad de separar los datos en función de la variable objetivo.\n"
   ]
  },
  {
   "cell_type": "markdown",
   "id": "086ec8f8",
   "metadata": {},
   "source": [
    "___"
   ]
  },
  {
   "cell_type": "markdown",
   "id": "f09f8125",
   "metadata": {},
   "source": [
    "# Ejercicio 3: ROI (30pts)\n",
    "**datos**: Resultado del ejercicio anterior.\n",
    "\n",
    "Teniendo en cuenta los resultados de la matriz de confusión en test del ejercicio anterior.\n",
    "\n",
    "*Contexto: Tus hipotesis fueron demostradas dado el analisis de los puntos anteriores. Es decir, demostraste que esas variables eran consistentes con predecir que cliente va a convertir o no. Por lo tanto dado tu algoritmo la idea es generar una acción de la empresa. Hacer publicidad a los leads que predecis cómo clientes. Para esto debes responder:*\n",
    "\n",
    "1. Si una publicidad cuesta 10 ¿Cuanto sería la publicidad desperdiciada?  (10pts/30pts)\n",
    "2. Mirando la matriz de confusión cálcule el ROI del modelo suponiendo que la ganancia de un cliente por convertir es de 150, el costo de publicidad es de 10 y la inversión total corresponde al costo de publicidad total. (20pts/30pts)"
   ]
  },
  {
   "cell_type": "code",
   "execution_count": 931,
   "id": "fa5c7e49",
   "metadata": {},
   "outputs": [
    {
     "name": "stdout",
     "output_type": "stream",
     "text": [
      "[[273   5]\n",
      " [ 28 254]]\n"
     ]
    }
   ],
   "source": [
    "print(conf_matrix)"
   ]
  },
  {
   "cell_type": "code",
   "execution_count": 932,
   "id": "8ba44633",
   "metadata": {},
   "outputs": [],
   "source": [
    "TP = conf_matrix[1, 1]\n",
    "FP = conf_matrix[0, 1]"
   ]
  },
  {
   "cell_type": "markdown",
   "id": "7265b424",
   "metadata": {},
   "source": [
    "1. La publicidad desperdiciada sería el costo de publicidad para los leads que el modelo predijo incorrectamente como clientes. Esto correspondería a los Falsos Positivos (FP). Si cada publicidad cuesta 10, entonces la publicidad desperdiciada sería `FP * 10`."
   ]
  },
  {
   "cell_type": "code",
   "execution_count": 933,
   "id": "56467430",
   "metadata": {},
   "outputs": [
    {
     "name": "stdout",
     "output_type": "stream",
     "text": [
      "El costo de publicidad desperdiciada sería de: $ 50\n"
     ]
    }
   ],
   "source": [
    "publicidad_desperdiciada = FP * 10\n",
    "print(\"El costo de publicidad desperdiciada sería de:\", \"$\", publicidad_desperdiciada)"
   ]
  },
  {
   "cell_type": "markdown",
   "id": "903445cd",
   "metadata": {},
   "source": [
    "2. El ROI se calcula como `(Ganancias - Costo) / Costo`. En este caso, las ganancias provienen de los clientes que el modelo predijo correctamente (TP), cada uno aportando 150. El costo es la inversión total en publicidad, que sería 10 * (TP + FP) . Entonces, el ROl sería `((Costo Total Publicidad * 150) - 10 * (TP + FP)) / (10 * (TP + FP))`"
   ]
  },
  {
   "cell_type": "code",
   "execution_count": 934,
   "id": "257e9a08",
   "metadata": {},
   "outputs": [],
   "source": [
    "ganancias = TP * 150\n",
    "costo = 10 * (TP + FP)"
   ]
  },
  {
   "cell_type": "code",
   "execution_count": 935,
   "id": "6dc020bd",
   "metadata": {},
   "outputs": [
    {
     "name": "stdout",
     "output_type": "stream",
     "text": [
      "El ROI del modelo sería: 13.71042471042471\n"
     ]
    }
   ],
   "source": [
    "ROI = (ganancias - costo) / costo\n",
    "print(f\"El ROI del modelo sería: {ROI}\")"
   ]
  }
 ],
 "metadata": {
  "kernelspec": {
   "display_name": "Python 3",
   "language": "python",
   "name": "python3"
  },
  "language_info": {
   "codemirror_mode": {
    "name": "ipython",
    "version": 3
   },
   "file_extension": ".py",
   "mimetype": "text/x-python",
   "name": "python",
   "nbconvert_exporter": "python",
   "pygments_lexer": "ipython3",
   "version": "3.11.5"
  }
 },
 "nbformat": 4,
 "nbformat_minor": 5
}
