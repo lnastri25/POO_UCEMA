{
 "cells": [
  {
   "cell_type": "markdown",
   "id": "396a1d4a3c30a742",
   "metadata": {
    "collapsed": false
   },
   "source": [
    "# Credit Risk\n",
    "\n",
    "https://drive.google.com/file/d/18fuLcW2ZSi4gz_ENkDFpySuS5s53GNYf/view?usp=sharing\n",
    "\n",
    "El conjunto de datos proporcionado representa información sobre riesgo crediticio generada por un banco internacional con operaciones en Argentina. Estos datos han sido transformados y enriquecidos para reflejar diferentes situaciones y comportamientos de pago de los clientes que podrían afectar la precisión de los modelos de predicción de riesgos. El ejercicio consiste en identificar y analizar posibles sesgos en variables clave del conjunto de datos, tales como la edad del cliente, el monto del préstamo y el tipo de empleo, utilizando métodos de estadística descriptiva, pruebas de hipótesis y visualizaciones.\n",
    "\n",
    "\n",
    "**Parte 1: Comprensión y Preparación de Datos**\n",
    "\n",
    "Explorar el conjunto de datos. Utiliza métodos descriptivos para obtener una comprensión general de las características del conjunto de datos (por ejemplo, .describe(), .info()). Identificar valores atípicos. Genera estadísticas descriptivas y visualizaciones (boxplots, scatter plots) para identificar outliers en 'monto_del_prestamo'.\n",
    "\n",
    "**Parte 2: Análisis Exploratorio de Datos**\n",
    "Análisis de sesgos por edad. Usa groupby para calcular la tasa de incumplimiento promedio por grupo de edad. Crea histogramas de edad para deudores y no deudores. Realiza un t-test para comparar las tasas de incumplimiento entre menores de edad y otros grupos de edad. Análisis de sesgos por monto del préstamo. Genera histogramas de 'monto_del_prestamo' para visualizar la distribución de los montos para deudores y no deudores. Compara las distribuciones de 'monto_del_prestamo' entre buenos y malos pagadores con un t-test. Análisis de sesgos por tipo de empleo. Usa groupby para comparar las tasas de incumplimiento entre diferentes tipos de empleo. Explora la relación entre el estado laboral y la tasa de incumplimiento con visualizaciones adecuadas.\n",
    "\n",
    "**Parte 3: Preparación de Datos para Modelado**\n",
    "Limpieza de Datos. Asegúrate de que todos los datos estén correctamente codificados y de que no haya valores faltantes o irrelevantes en el conjunto de datos.\n",
    "Selección de Características. Decide qué variables incluir en el modelo. Considera excluir variables con sesgos introducidos artificialmente para evaluar su impacto en el rendimiento del modelo.\n",
    "\n",
    "**Parte 4: Modelado**\n",
    "Entrenar un Modelo de Clasificación. Utiliza DecisionTreeClassifier para entrenar un modelo predictivo con los datos procesados.\n",
    "Evaluación del Modelo. Genera una matriz de confusión para evaluar el rendimiento del modelo. Calcula la precisión, el recall y la exactitud del modelo.\n",
    "\n"
   ]
  },
  {
   "cell_type": "code",
   "execution_count": 1647,
   "id": "f0633e8236021ba1",
   "metadata": {
    "ExecuteTime": {
     "end_time": "2023-11-09T11:18:44.326854Z",
     "start_time": "2023-11-09T11:18:44.326854Z"
    },
    "collapsed": false
   },
   "outputs": [],
   "source": [
    "import seaborn as sns\n",
    "import numpy as np\n",
    "import pandas as pd\n",
    "from sklearn.model_selection import train_test_split\n",
    "from sklearn.tree import DecisionTreeClassifier\n",
    "from sklearn.metrics import confusion_matrix, accuracy_score, precision_score, recall_score\n",
    "import seaborn as sns"
   ]
  },
  {
   "cell_type": "code",
   "execution_count": 1648,
   "id": "d235f8cd0afbcf23",
   "metadata": {
    "ExecuteTime": {
     "end_time": "2023-11-09T11:20:07.812111500Z",
     "start_time": "2023-11-09T11:20:07.753461100Z"
    },
    "collapsed": false
   },
   "outputs": [],
   "source": [
    "df_credit_risk = pd.read_csv(\"/Users/lolonastri/Desktop/POO_UCEMA/modelos_segundo_parcial/credit_risk/credit_risk.csv\")\n",
    "df_credit_risk = df_credit_risk.copy()"
   ]
  },
  {
   "cell_type": "code",
   "execution_count": 1649,
   "metadata": {},
   "outputs": [
    {
     "data": {
      "text/html": [
       "<div>\n",
       "<style scoped>\n",
       "    .dataframe tbody tr th:only-of-type {\n",
       "        vertical-align: middle;\n",
       "    }\n",
       "\n",
       "    .dataframe tbody tr th {\n",
       "        vertical-align: top;\n",
       "    }\n",
       "\n",
       "    .dataframe thead th {\n",
       "        text-align: right;\n",
       "    }\n",
       "</style>\n",
       "<table border=\"1\" class=\"dataframe\">\n",
       "  <thead>\n",
       "    <tr style=\"text-align: right;\">\n",
       "      <th></th>\n",
       "      <th></th>\n",
       "      <th>incumplimiento</th>\n",
       "      <th>tipo_de_cuenta</th>\n",
       "      <th>genero</th>\n",
       "      <th>edad_del_cliente</th>\n",
       "      <th>co_solicitantes</th>\n",
       "      <th>dependientes</th>\n",
       "      <th>monto_del_prestamo</th>\n",
       "      <th>ubicacion_de_sucursal</th>\n",
       "      <th>nivel_de_producto</th>\n",
       "      <th>estatus_laboral</th>\n",
       "      <th>es_sostenedor_principal</th>\n",
       "      <th>grupo_de_puntaje_crediticio</th>\n",
       "      <th>area_residencial</th>\n",
       "      <th>estado_actual_de_la_cuenta</th>\n",
       "      <th>tiene_cuenta_conjunta</th>\n",
       "      <th>indicador_aleatorio</th>\n",
       "      <th>residencial_Rural</th>\n",
       "      <th>residencial_Suburbana</th>\n",
       "      <th>residencial_Urbana</th>\n",
       "    </tr>\n",
       "  </thead>\n",
       "  <tbody>\n",
       "    <tr>\n",
       "      <th>0</th>\n",
       "      <td>0</td>\n",
       "      <td>1.0</td>\n",
       "      <td>3</td>\n",
       "      <td>male</td>\n",
       "      <td>26.618129</td>\n",
       "      <td>1</td>\n",
       "      <td>0</td>\n",
       "      <td>7.2500</td>\n",
       "      <td>Suburbana</td>\n",
       "      <td>Third</td>\n",
       "      <td>man</td>\n",
       "      <td>True</td>\n",
       "      <td></td>\n",
       "      <td>Urbana</td>\n",
       "      <td>no</td>\n",
       "      <td>0</td>\n",
       "      <td>0.9494354298674084</td>\n",
       "      <td>0.0</td>\n",
       "      <td>0.0</td>\n",
       "      <td>1.0</td>\n",
       "    </tr>\n",
       "    <tr>\n",
       "      <th>1</th>\n",
       "      <td>1</td>\n",
       "      <td>1.0</td>\n",
       "      <td>3</td>\n",
       "      <td>female</td>\n",
       "      <td>27.395476</td>\n",
       "      <td>1</td>\n",
       "      <td>0</td>\n",
       "      <td>71.2833</td>\n",
       "      <td>Central</td>\n",
       "      <td>First</td>\n",
       "      <td>woman</td>\n",
       "      <td>False</td>\n",
       "      <td>C</td>\n",
       "      <td>Urbana</td>\n",
       "      <td>yes</td>\n",
       "      <td>0</td>\n",
       "      <td>0.0152425151741839</td>\n",
       "      <td>0.0</td>\n",
       "      <td>0.0</td>\n",
       "      <td>1.0</td>\n",
       "    </tr>\n",
       "    <tr>\n",
       "      <th>2</th>\n",
       "      <td>2</td>\n",
       "      <td>1.0</td>\n",
       "      <td>1</td>\n",
       "      <td>female</td>\n",
       "      <td>48.696543</td>\n",
       "      <td>0</td>\n",
       "      <td>0</td>\n",
       "      <td>7.9250</td>\n",
       "      <td>Suburbana</td>\n",
       "      <td>Third</td>\n",
       "      <td>woman</td>\n",
       "      <td>False</td>\n",
       "      <td></td>\n",
       "      <td>Rural</td>\n",
       "      <td>yes</td>\n",
       "      <td>1</td>\n",
       "      <td>0.6723719434749519</td>\n",
       "      <td>1.0</td>\n",
       "      <td>0.0</td>\n",
       "      <td>0.0</td>\n",
       "    </tr>\n",
       "    <tr>\n",
       "      <th>3</th>\n",
       "      <td>3</td>\n",
       "      <td>1.0</td>\n",
       "      <td>3</td>\n",
       "      <td>female</td>\n",
       "      <td>25.491890</td>\n",
       "      <td>1</td>\n",
       "      <td>0</td>\n",
       "      <td>53.1000</td>\n",
       "      <td>Suburbana</td>\n",
       "      <td>First</td>\n",
       "      <td>woman</td>\n",
       "      <td>False</td>\n",
       "      <td>C</td>\n",
       "      <td>Urbana</td>\n",
       "      <td>yes</td>\n",
       "      <td>0</td>\n",
       "      <td>0.4035980372889746</td>\n",
       "      <td>0.0</td>\n",
       "      <td>0.0</td>\n",
       "      <td>1.0</td>\n",
       "    </tr>\n",
       "    <tr>\n",
       "      <th>4</th>\n",
       "      <td>4</td>\n",
       "      <td>0.0</td>\n",
       "      <td>1</td>\n",
       "      <td>male</td>\n",
       "      <td>41.038217</td>\n",
       "      <td>0</td>\n",
       "      <td>0</td>\n",
       "      <td>8.0500</td>\n",
       "      <td>Suburbana</td>\n",
       "      <td>Third</td>\n",
       "      <td>man</td>\n",
       "      <td>True</td>\n",
       "      <td></td>\n",
       "      <td>Suburbana</td>\n",
       "      <td>no</td>\n",
       "      <td>1</td>\n",
       "      <td>0.8529009409462249</td>\n",
       "      <td>0.0</td>\n",
       "      <td>1.0</td>\n",
       "      <td>0.0</td>\n",
       "    </tr>\n",
       "  </tbody>\n",
       "</table>\n",
       "</div>"
      ],
      "text/plain": [
       "         incumplimiento   tipo_de_cuenta   genero   edad_del_cliente     \\\n",
       "0     0              1.0  3                male               26.618129   \n",
       "1     1              1.0  3                female             27.395476   \n",
       "2     2              1.0  1                female             48.696543   \n",
       "3     3              1.0  3                female             25.491890   \n",
       "4     4              0.0  1                male               41.038217   \n",
       "\n",
       "   co_solicitantes   dependientes   monto_del_prestamo   \\\n",
       "0                 1              0               7.2500   \n",
       "1                 1              0              71.2833   \n",
       "2                 0              0               7.9250   \n",
       "3                 1              0              53.1000   \n",
       "4                 0              0               8.0500   \n",
       "\n",
       "   ubicacion_de_sucursal   nivel_de_producto   estatus_laboral            \\\n",
       "0  Suburbana               Third               man                         \n",
       "1  Central                 First               woman                       \n",
       "2  Suburbana               Third               woman                       \n",
       "3  Suburbana               First               woman                       \n",
       "4  Suburbana               Third               man                         \n",
       "\n",
       "   es_sostenedor_principal   grupo_de_puntaje_crediticio   area_residencial   \\\n",
       "0  True                                                    Urbana              \n",
       "1  False                     C                             Urbana              \n",
       "2  False                                                   Rural               \n",
       "3  False                     C                             Urbana              \n",
       "4  True                                                    Suburbana           \n",
       "\n",
       "   estado_actual_de_la_cuenta   tiene_cuenta_conjunta   \\\n",
       "0  no                           0                        \n",
       "1  yes                          0                        \n",
       "2  yes                          1                        \n",
       "3  yes                          0                        \n",
       "4  no                           1                        \n",
       "\n",
       "   indicador_aleatorio      residencial_Rural   residencial_Suburbana   \\\n",
       "0  0.9494354298674084                     0.0                     0.0    \n",
       "1  0.0152425151741839                     0.0                     0.0    \n",
       "2  0.6723719434749519                     1.0                     0.0    \n",
       "3  0.4035980372889746                     0.0                     0.0    \n",
       "4  0.8529009409462249                     0.0                     1.0    \n",
       "\n",
       "   residencial_Urbana  \n",
       "0                 1.0  \n",
       "1                 1.0  \n",
       "2                 0.0  \n",
       "3                 1.0  \n",
       "4                 0.0  "
      ]
     },
     "execution_count": 1649,
     "metadata": {},
     "output_type": "execute_result"
    }
   ],
   "source": [
    "df_credit_risk.head()"
   ]
  },
  {
   "cell_type": "markdown",
   "metadata": {},
   "source": [
    "___"
   ]
  },
  {
   "cell_type": "markdown",
   "metadata": {},
   "source": [
    "## **Parte 1: Comprensión y Preparación de Datos**"
   ]
  },
  {
   "cell_type": "code",
   "execution_count": 1650,
   "metadata": {},
   "outputs": [
    {
     "data": {
      "text/plain": [
       "Index(['    ', 'incumplimiento ', 'tipo_de_cuenta ', 'genero ',\n",
       "       'edad_del_cliente   ', 'co_solicitantes ', 'dependientes ',\n",
       "       'monto_del_prestamo ', 'ubicacion_de_sucursal ', 'nivel_de_producto ',\n",
       "       'estatus_laboral          ', 'es_sostenedor_principal ',\n",
       "       'grupo_de_puntaje_crediticio ', 'area_residencial ',\n",
       "       'estado_actual_de_la_cuenta ', 'tiene_cuenta_conjunta ',\n",
       "       'indicador_aleatorio    ', 'residencial_Rural ',\n",
       "       'residencial_Suburbana ', 'residencial_Urbana'],\n",
       "      dtype='object')"
      ]
     },
     "execution_count": 1650,
     "metadata": {},
     "output_type": "execute_result"
    }
   ],
   "source": [
    "df_credit_risk.columns"
   ]
  },
  {
   "cell_type": "code",
   "execution_count": 1651,
   "metadata": {},
   "outputs": [],
   "source": [
    "from funciones.eda_y_ml import whitespace_remover_and_columns\n",
    "df_credit_risk = whitespace_remover_and_columns(df_credit_risk)"
   ]
  },
  {
   "cell_type": "markdown",
   "metadata": {},
   "source": [
    "### → Validación de la data"
   ]
  },
  {
   "cell_type": "code",
   "execution_count": 1652,
   "metadata": {},
   "outputs": [
    {
     "data": {
      "text/plain": [
       "Index(['', 'incumplimiento', 'tipo_de_cuenta', 'genero', 'edad_del_cliente',\n",
       "       'co_solicitantes', 'dependientes', 'monto_del_prestamo',\n",
       "       'ubicacion_de_sucursal', 'nivel_de_producto', 'estatus_laboral',\n",
       "       'es_sostenedor_principal', 'grupo_de_puntaje_crediticio',\n",
       "       'area_residencial', 'estado_actual_de_la_cuenta',\n",
       "       'tiene_cuenta_conjunta', 'indicador_aleatorio', 'residencial_Rural',\n",
       "       'residencial_Suburbana', 'residencial_Urbana'],\n",
       "      dtype='object')"
      ]
     },
     "execution_count": 1652,
     "metadata": {},
     "output_type": "execute_result"
    }
   ],
   "source": [
    "df_credit_risk.columns"
   ]
  },
  {
   "cell_type": "code",
   "execution_count": 1653,
   "metadata": {},
   "outputs": [
    {
     "name": "stdout",
     "output_type": "stream",
     "text": [
      "El dataset tiene 1906 filas.\n",
      "El dataset tiene 20 columnas.\n"
     ]
    }
   ],
   "source": [
    "print(\"El dataset tiene \" + str(df_credit_risk.shape[0])+ \" filas.\")\n",
    "print(\"El dataset tiene \" + str(df_credit_risk.shape[1])+ \" columnas.\")"
   ]
  },
  {
   "cell_type": "code",
   "execution_count": 1654,
   "metadata": {},
   "outputs": [
    {
     "data": {
      "text/html": [
       "<div>\n",
       "<style scoped>\n",
       "    .dataframe tbody tr th:only-of-type {\n",
       "        vertical-align: middle;\n",
       "    }\n",
       "\n",
       "    .dataframe tbody tr th {\n",
       "        vertical-align: top;\n",
       "    }\n",
       "\n",
       "    .dataframe thead th {\n",
       "        text-align: right;\n",
       "    }\n",
       "</style>\n",
       "<table border=\"1\" class=\"dataframe\">\n",
       "  <thead>\n",
       "    <tr style=\"text-align: right;\">\n",
       "      <th></th>\n",
       "      <th>Unique_Values</th>\n",
       "      <th>Num_Unique_Values</th>\n",
       "      <th>Num_Null_Values</th>\n",
       "      <th>%_Null_Values</th>\n",
       "      <th>Sample_Unique_Values</th>\n",
       "    </tr>\n",
       "  </thead>\n",
       "  <tbody>\n",
       "    <tr>\n",
       "      <th></th>\n",
       "      <td>NaN</td>\n",
       "      <td>1906.0</td>\n",
       "      <td>0</td>\n",
       "      <td>0.0</td>\n",
       "      <td>[802, 267, 155, 50, 804]</td>\n",
       "    </tr>\n",
       "    <tr>\n",
       "      <th>incumplimiento</th>\n",
       "      <td>NaN</td>\n",
       "      <td>1906.0</td>\n",
       "      <td>0</td>\n",
       "      <td>0.0</td>\n",
       "      <td>[0.0, 0.0, 0.0, 0.0, 0.0]</td>\n",
       "    </tr>\n",
       "    <tr>\n",
       "      <th>tipo_de_cuenta</th>\n",
       "      <td>6</td>\n",
       "      <td>1906</td>\n",
       "      <td>0</td>\n",
       "      <td>0.0</td>\n",
       "      <td>[1, Inversiones, Inversiones, Corriente, 1]</td>\n",
       "    </tr>\n",
       "    <tr>\n",
       "      <th>genero</th>\n",
       "      <td>4</td>\n",
       "      <td>1906</td>\n",
       "      <td>0</td>\n",
       "      <td>0.0</td>\n",
       "      <td>[male, Mujer, Hombre, Hombre, male]</td>\n",
       "    </tr>\n",
       "    <tr>\n",
       "      <th>edad_del_cliente</th>\n",
       "      <td>NaN</td>\n",
       "      <td>1906.0</td>\n",
       "      <td>0</td>\n",
       "      <td>0.0</td>\n",
       "      <td>[47.798173173231056, 45.0, 21.0, 39.0, 48.9262...</td>\n",
       "    </tr>\n",
       "    <tr>\n",
       "      <th>co_solicitantes</th>\n",
       "      <td>NaN</td>\n",
       "      <td>1906.0</td>\n",
       "      <td>0</td>\n",
       "      <td>0.0</td>\n",
       "      <td>[1, 2, 0, 2, 0]</td>\n",
       "    </tr>\n",
       "    <tr>\n",
       "      <th>dependientes</th>\n",
       "      <td>NaN</td>\n",
       "      <td>1906.0</td>\n",
       "      <td>0</td>\n",
       "      <td>0.0</td>\n",
       "      <td>[2, 3, 0, 3, 0]</td>\n",
       "    </tr>\n",
       "    <tr>\n",
       "      <th>monto_del_prestamo</th>\n",
       "      <td>NaN</td>\n",
       "      <td>1906.0</td>\n",
       "      <td>0</td>\n",
       "      <td>0.0</td>\n",
       "      <td>[120.0, 25574.0, 29937.0, 3873.0, 6.975]</td>\n",
       "    </tr>\n",
       "    <tr>\n",
       "      <th>ubicacion_de_sucursal</th>\n",
       "      <td>7</td>\n",
       "      <td>1906</td>\n",
       "      <td>0</td>\n",
       "      <td>0.0</td>\n",
       "      <td>[Suburbana, Suiza, Suiza, Suiza, Suburbana]</td>\n",
       "    </tr>\n",
       "    <tr>\n",
       "      <th>nivel_de_producto</th>\n",
       "      <td>6</td>\n",
       "      <td>1906</td>\n",
       "      <td>0</td>\n",
       "      <td>0.0</td>\n",
       "      <td>[First, Avanzado, Intermedio, Avanzado, Third]</td>\n",
       "    </tr>\n",
       "    <tr>\n",
       "      <th>estatus_laboral</th>\n",
       "      <td>10</td>\n",
       "      <td>1906</td>\n",
       "      <td>0</td>\n",
       "      <td>0.0</td>\n",
       "      <td>[child, Empleo, Estudiante, Retirado, man]</td>\n",
       "    </tr>\n",
       "    <tr>\n",
       "      <th>es_sostenedor_principal</th>\n",
       "      <td>2</td>\n",
       "      <td>1906</td>\n",
       "      <td>0</td>\n",
       "      <td>0.0</td>\n",
       "      <td>[False, False, False, True, True]</td>\n",
       "    </tr>\n",
       "    <tr>\n",
       "      <th>grupo_de_puntaje_crediticio</th>\n",
       "      <td>18</td>\n",
       "      <td>1906</td>\n",
       "      <td>0</td>\n",
       "      <td>0.0</td>\n",
       "      <td>[B, 2, 6, 7, ]</td>\n",
       "    </tr>\n",
       "    <tr>\n",
       "      <th>area_residencial</th>\n",
       "      <td>3</td>\n",
       "      <td>1906</td>\n",
       "      <td>0</td>\n",
       "      <td>0.0</td>\n",
       "      <td>[Suburbana, Suburbana, Rural, Urbana, Suburbana]</td>\n",
       "    </tr>\n",
       "    <tr>\n",
       "      <th>estado_actual_de_la_cuenta</th>\n",
       "      <td>2</td>\n",
       "      <td>1906</td>\n",
       "      <td>0</td>\n",
       "      <td>0.0</td>\n",
       "      <td>[yes, yes, no, yes, yes]</td>\n",
       "    </tr>\n",
       "    <tr>\n",
       "      <th>tiene_cuenta_conjunta</th>\n",
       "      <td>4</td>\n",
       "      <td>1906</td>\n",
       "      <td>0</td>\n",
       "      <td>0.0</td>\n",
       "      <td>[1, False, True, True, 1]</td>\n",
       "    </tr>\n",
       "    <tr>\n",
       "      <th>indicador_aleatorio</th>\n",
       "      <td>907</td>\n",
       "      <td>1906</td>\n",
       "      <td>0</td>\n",
       "      <td>0.0</td>\n",
       "      <td>[0.7210735525466792, , , , 0.7373414579699571]</td>\n",
       "    </tr>\n",
       "    <tr>\n",
       "      <th>residencial_Rural</th>\n",
       "      <td>3</td>\n",
       "      <td>1906</td>\n",
       "      <td>0</td>\n",
       "      <td>0.0</td>\n",
       "      <td>[0.0, , , , 0.0]</td>\n",
       "    </tr>\n",
       "    <tr>\n",
       "      <th>residencial_Suburbana</th>\n",
       "      <td>3</td>\n",
       "      <td>1906</td>\n",
       "      <td>0</td>\n",
       "      <td>0.0</td>\n",
       "      <td>[1.0, , , , 1.0]</td>\n",
       "    </tr>\n",
       "    <tr>\n",
       "      <th>residencial_Urbana</th>\n",
       "      <td>3</td>\n",
       "      <td>1906</td>\n",
       "      <td>0</td>\n",
       "      <td>0.0</td>\n",
       "      <td>[0.0, , , , 0.0]</td>\n",
       "    </tr>\n",
       "  </tbody>\n",
       "</table>\n",
       "</div>"
      ],
      "text/plain": [
       "                            Unique_Values Num_Unique_Values  Num_Null_Values  \\\n",
       "                                      NaN            1906.0                0   \n",
       "incumplimiento                        NaN            1906.0                0   \n",
       "tipo_de_cuenta                          6              1906                0   \n",
       "genero                                  4              1906                0   \n",
       "edad_del_cliente                      NaN            1906.0                0   \n",
       "co_solicitantes                       NaN            1906.0                0   \n",
       "dependientes                          NaN            1906.0                0   \n",
       "monto_del_prestamo                    NaN            1906.0                0   \n",
       "ubicacion_de_sucursal                   7              1906                0   \n",
       "nivel_de_producto                       6              1906                0   \n",
       "estatus_laboral                        10              1906                0   \n",
       "es_sostenedor_principal                 2              1906                0   \n",
       "grupo_de_puntaje_crediticio            18              1906                0   \n",
       "area_residencial                        3              1906                0   \n",
       "estado_actual_de_la_cuenta              2              1906                0   \n",
       "tiene_cuenta_conjunta                   4              1906                0   \n",
       "indicador_aleatorio                   907              1906                0   \n",
       "residencial_Rural                       3              1906                0   \n",
       "residencial_Suburbana                   3              1906                0   \n",
       "residencial_Urbana                      3              1906                0   \n",
       "\n",
       "                             %_Null_Values  \\\n",
       "                                       0.0   \n",
       "incumplimiento                         0.0   \n",
       "tipo_de_cuenta                         0.0   \n",
       "genero                                 0.0   \n",
       "edad_del_cliente                       0.0   \n",
       "co_solicitantes                        0.0   \n",
       "dependientes                           0.0   \n",
       "monto_del_prestamo                     0.0   \n",
       "ubicacion_de_sucursal                  0.0   \n",
       "nivel_de_producto                      0.0   \n",
       "estatus_laboral                        0.0   \n",
       "es_sostenedor_principal                0.0   \n",
       "grupo_de_puntaje_crediticio            0.0   \n",
       "area_residencial                       0.0   \n",
       "estado_actual_de_la_cuenta             0.0   \n",
       "tiene_cuenta_conjunta                  0.0   \n",
       "indicador_aleatorio                    0.0   \n",
       "residencial_Rural                      0.0   \n",
       "residencial_Suburbana                  0.0   \n",
       "residencial_Urbana                     0.0   \n",
       "\n",
       "                                                          Sample_Unique_Values  \n",
       "                                                      [802, 267, 155, 50, 804]  \n",
       "incumplimiento                                       [0.0, 0.0, 0.0, 0.0, 0.0]  \n",
       "tipo_de_cuenta                     [1, Inversiones, Inversiones, Corriente, 1]  \n",
       "genero                                     [male, Mujer, Hombre, Hombre, male]  \n",
       "edad_del_cliente             [47.798173173231056, 45.0, 21.0, 39.0, 48.9262...  \n",
       "co_solicitantes                                                [1, 2, 0, 2, 0]  \n",
       "dependientes                                                   [2, 3, 0, 3, 0]  \n",
       "monto_del_prestamo                    [120.0, 25574.0, 29937.0, 3873.0, 6.975]  \n",
       "ubicacion_de_sucursal              [Suburbana, Suiza, Suiza, Suiza, Suburbana]  \n",
       "nivel_de_producto               [First, Avanzado, Intermedio, Avanzado, Third]  \n",
       "estatus_laboral                     [child, Empleo, Estudiante, Retirado, man]  \n",
       "es_sostenedor_principal                      [False, False, False, True, True]  \n",
       "grupo_de_puntaje_crediticio                                     [B, 2, 6, 7, ]  \n",
       "area_residencial              [Suburbana, Suburbana, Rural, Urbana, Suburbana]  \n",
       "estado_actual_de_la_cuenta                            [yes, yes, no, yes, yes]  \n",
       "tiene_cuenta_conjunta                                [1, False, True, True, 1]  \n",
       "indicador_aleatorio             [0.7210735525466792, , , , 0.7373414579699571]  \n",
       "residencial_Rural                                             [0.0, , , , 0.0]  \n",
       "residencial_Suburbana                                         [1.0, , , , 1.0]  \n",
       "residencial_Urbana                                            [0.0, , , , 0.0]  "
      ]
     },
     "execution_count": 1654,
     "metadata": {},
     "output_type": "execute_result"
    }
   ],
   "source": [
    "from funciones.eda_y_ml import validate_columns \n",
    "validate_columns(df_credit_risk)"
   ]
  },
  {
   "cell_type": "code",
   "execution_count": 1655,
   "metadata": {},
   "outputs": [
    {
     "data": {
      "text/html": [
       "<div>\n",
       "<style scoped>\n",
       "    .dataframe tbody tr th:only-of-type {\n",
       "        vertical-align: middle;\n",
       "    }\n",
       "\n",
       "    .dataframe tbody tr th {\n",
       "        vertical-align: top;\n",
       "    }\n",
       "\n",
       "    .dataframe thead th {\n",
       "        text-align: right;\n",
       "    }\n",
       "</style>\n",
       "<table border=\"1\" class=\"dataframe\">\n",
       "  <thead>\n",
       "    <tr style=\"text-align: right;\">\n",
       "      <th></th>\n",
       "      <th></th>\n",
       "      <th>incumplimiento</th>\n",
       "      <th>edad_del_cliente</th>\n",
       "      <th>co_solicitantes</th>\n",
       "      <th>dependientes</th>\n",
       "      <th>monto_del_prestamo</th>\n",
       "    </tr>\n",
       "  </thead>\n",
       "  <tbody>\n",
       "    <tr>\n",
       "      <th>count</th>\n",
       "      <td>1906.000000</td>\n",
       "      <td>1906.000000</td>\n",
       "      <td>1906.000000</td>\n",
       "      <td>1906.000000</td>\n",
       "      <td>1906.000000</td>\n",
       "      <td>1906.000000</td>\n",
       "    </tr>\n",
       "    <tr>\n",
       "      <th>mean</th>\n",
       "      <td>477.158972</td>\n",
       "      <td>0.244491</td>\n",
       "      <td>44.572590</td>\n",
       "      <td>0.772298</td>\n",
       "      <td>1.228227</td>\n",
       "      <td>13629.753908</td>\n",
       "    </tr>\n",
       "    <tr>\n",
       "      <th>std</th>\n",
       "      <td>277.177678</td>\n",
       "      <td>0.429898</td>\n",
       "      <td>18.993413</td>\n",
       "      <td>0.995311</td>\n",
       "      <td>1.416017</td>\n",
       "      <td>16618.634074</td>\n",
       "    </tr>\n",
       "    <tr>\n",
       "      <th>min</th>\n",
       "      <td>0.000000</td>\n",
       "      <td>0.000000</td>\n",
       "      <td>13.000000</td>\n",
       "      <td>0.000000</td>\n",
       "      <td>0.000000</td>\n",
       "      <td>0.000000</td>\n",
       "    </tr>\n",
       "    <tr>\n",
       "      <th>25%</th>\n",
       "      <td>238.000000</td>\n",
       "      <td>0.000000</td>\n",
       "      <td>27.000000</td>\n",
       "      <td>0.000000</td>\n",
       "      <td>0.000000</td>\n",
       "      <td>15.743775</td>\n",
       "    </tr>\n",
       "    <tr>\n",
       "      <th>50%</th>\n",
       "      <td>476.000000</td>\n",
       "      <td>0.000000</td>\n",
       "      <td>45.320818</td>\n",
       "      <td>0.000000</td>\n",
       "      <td>1.000000</td>\n",
       "      <td>3550.500000</td>\n",
       "    </tr>\n",
       "    <tr>\n",
       "      <th>75%</th>\n",
       "      <td>714.000000</td>\n",
       "      <td>0.000000</td>\n",
       "      <td>53.713813</td>\n",
       "      <td>1.000000</td>\n",
       "      <td>2.000000</td>\n",
       "      <td>26848.750000</td>\n",
       "    </tr>\n",
       "    <tr>\n",
       "      <th>max</th>\n",
       "      <td>999.000000</td>\n",
       "      <td>1.000000</td>\n",
       "      <td>89.000000</td>\n",
       "      <td>8.000000</td>\n",
       "      <td>6.000000</td>\n",
       "      <td>63610.000000</td>\n",
       "    </tr>\n",
       "  </tbody>\n",
       "</table>\n",
       "</div>"
      ],
      "text/plain": [
       "                    incumplimiento  edad_del_cliente  co_solicitantes  \\\n",
       "count  1906.000000     1906.000000       1906.000000      1906.000000   \n",
       "mean    477.158972        0.244491         44.572590         0.772298   \n",
       "std     277.177678        0.429898         18.993413         0.995311   \n",
       "min       0.000000        0.000000         13.000000         0.000000   \n",
       "25%     238.000000        0.000000         27.000000         0.000000   \n",
       "50%     476.000000        0.000000         45.320818         0.000000   \n",
       "75%     714.000000        0.000000         53.713813         1.000000   \n",
       "max     999.000000        1.000000         89.000000         8.000000   \n",
       "\n",
       "       dependientes  monto_del_prestamo  \n",
       "count   1906.000000         1906.000000  \n",
       "mean       1.228227        13629.753908  \n",
       "std        1.416017        16618.634074  \n",
       "min        0.000000            0.000000  \n",
       "25%        0.000000           15.743775  \n",
       "50%        1.000000         3550.500000  \n",
       "75%        2.000000        26848.750000  \n",
       "max        6.000000        63610.000000  "
      ]
     },
     "execution_count": 1655,
     "metadata": {},
     "output_type": "execute_result"
    }
   ],
   "source": [
    "df_credit_risk.describe()"
   ]
  },
  {
   "cell_type": "markdown",
   "metadata": {},
   "source": [
    "___"
   ]
  },
  {
   "cell_type": "markdown",
   "metadata": {},
   "source": [
    "### →  Veo los tipos de datos con dtypes"
   ]
  },
  {
   "cell_type": "code",
   "execution_count": 1656,
   "metadata": {},
   "outputs": [
    {
     "data": {
      "text/html": [
       "<div>\n",
       "<style scoped>\n",
       "    .dataframe tbody tr th:only-of-type {\n",
       "        vertical-align: middle;\n",
       "    }\n",
       "\n",
       "    .dataframe tbody tr th {\n",
       "        vertical-align: top;\n",
       "    }\n",
       "\n",
       "    .dataframe thead th {\n",
       "        text-align: right;\n",
       "    }\n",
       "</style>\n",
       "<table border=\"1\" class=\"dataframe\">\n",
       "  <thead>\n",
       "    <tr style=\"text-align: right;\">\n",
       "      <th></th>\n",
       "      <th></th>\n",
       "      <th>incumplimiento</th>\n",
       "      <th>tipo_de_cuenta</th>\n",
       "      <th>genero</th>\n",
       "      <th>edad_del_cliente</th>\n",
       "      <th>co_solicitantes</th>\n",
       "      <th>dependientes</th>\n",
       "      <th>monto_del_prestamo</th>\n",
       "      <th>ubicacion_de_sucursal</th>\n",
       "      <th>nivel_de_producto</th>\n",
       "      <th>estatus_laboral</th>\n",
       "      <th>es_sostenedor_principal</th>\n",
       "      <th>grupo_de_puntaje_crediticio</th>\n",
       "      <th>area_residencial</th>\n",
       "      <th>estado_actual_de_la_cuenta</th>\n",
       "      <th>tiene_cuenta_conjunta</th>\n",
       "      <th>indicador_aleatorio</th>\n",
       "      <th>residencial_Rural</th>\n",
       "      <th>residencial_Suburbana</th>\n",
       "      <th>residencial_Urbana</th>\n",
       "    </tr>\n",
       "  </thead>\n",
       "  <tbody>\n",
       "    <tr>\n",
       "      <th>0</th>\n",
       "      <td>0</td>\n",
       "      <td>1.0</td>\n",
       "      <td>3</td>\n",
       "      <td>male</td>\n",
       "      <td>26.618129</td>\n",
       "      <td>1</td>\n",
       "      <td>0</td>\n",
       "      <td>7.2500</td>\n",
       "      <td>Suburbana</td>\n",
       "      <td>Third</td>\n",
       "      <td>man</td>\n",
       "      <td>True</td>\n",
       "      <td></td>\n",
       "      <td>Urbana</td>\n",
       "      <td>no</td>\n",
       "      <td>0</td>\n",
       "      <td>0.9494354298674084</td>\n",
       "      <td>0.0</td>\n",
       "      <td>0.0</td>\n",
       "      <td>1.0</td>\n",
       "    </tr>\n",
       "    <tr>\n",
       "      <th>1</th>\n",
       "      <td>1</td>\n",
       "      <td>1.0</td>\n",
       "      <td>3</td>\n",
       "      <td>female</td>\n",
       "      <td>27.395476</td>\n",
       "      <td>1</td>\n",
       "      <td>0</td>\n",
       "      <td>71.2833</td>\n",
       "      <td>Central</td>\n",
       "      <td>First</td>\n",
       "      <td>woman</td>\n",
       "      <td>False</td>\n",
       "      <td>C</td>\n",
       "      <td>Urbana</td>\n",
       "      <td>yes</td>\n",
       "      <td>0</td>\n",
       "      <td>0.0152425151741839</td>\n",
       "      <td>0.0</td>\n",
       "      <td>0.0</td>\n",
       "      <td>1.0</td>\n",
       "    </tr>\n",
       "    <tr>\n",
       "      <th>2</th>\n",
       "      <td>2</td>\n",
       "      <td>1.0</td>\n",
       "      <td>1</td>\n",
       "      <td>female</td>\n",
       "      <td>48.696543</td>\n",
       "      <td>0</td>\n",
       "      <td>0</td>\n",
       "      <td>7.9250</td>\n",
       "      <td>Suburbana</td>\n",
       "      <td>Third</td>\n",
       "      <td>woman</td>\n",
       "      <td>False</td>\n",
       "      <td></td>\n",
       "      <td>Rural</td>\n",
       "      <td>yes</td>\n",
       "      <td>1</td>\n",
       "      <td>0.6723719434749519</td>\n",
       "      <td>1.0</td>\n",
       "      <td>0.0</td>\n",
       "      <td>0.0</td>\n",
       "    </tr>\n",
       "    <tr>\n",
       "      <th>3</th>\n",
       "      <td>3</td>\n",
       "      <td>1.0</td>\n",
       "      <td>3</td>\n",
       "      <td>female</td>\n",
       "      <td>25.491890</td>\n",
       "      <td>1</td>\n",
       "      <td>0</td>\n",
       "      <td>53.1000</td>\n",
       "      <td>Suburbana</td>\n",
       "      <td>First</td>\n",
       "      <td>woman</td>\n",
       "      <td>False</td>\n",
       "      <td>C</td>\n",
       "      <td>Urbana</td>\n",
       "      <td>yes</td>\n",
       "      <td>0</td>\n",
       "      <td>0.4035980372889746</td>\n",
       "      <td>0.0</td>\n",
       "      <td>0.0</td>\n",
       "      <td>1.0</td>\n",
       "    </tr>\n",
       "    <tr>\n",
       "      <th>4</th>\n",
       "      <td>4</td>\n",
       "      <td>0.0</td>\n",
       "      <td>1</td>\n",
       "      <td>male</td>\n",
       "      <td>41.038217</td>\n",
       "      <td>0</td>\n",
       "      <td>0</td>\n",
       "      <td>8.0500</td>\n",
       "      <td>Suburbana</td>\n",
       "      <td>Third</td>\n",
       "      <td>man</td>\n",
       "      <td>True</td>\n",
       "      <td></td>\n",
       "      <td>Suburbana</td>\n",
       "      <td>no</td>\n",
       "      <td>1</td>\n",
       "      <td>0.8529009409462249</td>\n",
       "      <td>0.0</td>\n",
       "      <td>1.0</td>\n",
       "      <td>0.0</td>\n",
       "    </tr>\n",
       "  </tbody>\n",
       "</table>\n",
       "</div>"
      ],
      "text/plain": [
       "      incumplimiento tipo_de_cuenta  genero  edad_del_cliente  \\\n",
       "0  0             1.0              3    male         26.618129   \n",
       "1  1             1.0              3  female         27.395476   \n",
       "2  2             1.0              1  female         48.696543   \n",
       "3  3             1.0              3  female         25.491890   \n",
       "4  4             0.0              1    male         41.038217   \n",
       "\n",
       "   co_solicitantes  dependientes  monto_del_prestamo ubicacion_de_sucursal  \\\n",
       "0                1             0              7.2500             Suburbana   \n",
       "1                1             0             71.2833               Central   \n",
       "2                0             0              7.9250             Suburbana   \n",
       "3                1             0             53.1000             Suburbana   \n",
       "4                0             0              8.0500             Suburbana   \n",
       "\n",
       "  nivel_de_producto estatus_laboral es_sostenedor_principal  \\\n",
       "0             Third             man                    True   \n",
       "1             First           woman                   False   \n",
       "2             Third           woman                   False   \n",
       "3             First           woman                   False   \n",
       "4             Third             man                    True   \n",
       "\n",
       "  grupo_de_puntaje_crediticio area_residencial estado_actual_de_la_cuenta  \\\n",
       "0                                       Urbana                         no   \n",
       "1                           C           Urbana                        yes   \n",
       "2                                        Rural                        yes   \n",
       "3                           C           Urbana                        yes   \n",
       "4                                    Suburbana                         no   \n",
       "\n",
       "  tiene_cuenta_conjunta indicador_aleatorio residencial_Rural  \\\n",
       "0                     0  0.9494354298674084               0.0   \n",
       "1                     0  0.0152425151741839               0.0   \n",
       "2                     1  0.6723719434749519               1.0   \n",
       "3                     0  0.4035980372889746               0.0   \n",
       "4                     1  0.8529009409462249               0.0   \n",
       "\n",
       "  residencial_Suburbana residencial_Urbana  \n",
       "0                   0.0                1.0  \n",
       "1                   0.0                1.0  \n",
       "2                   0.0                0.0  \n",
       "3                   0.0                1.0  \n",
       "4                   1.0                0.0  "
      ]
     },
     "execution_count": 1656,
     "metadata": {},
     "output_type": "execute_result"
    }
   ],
   "source": [
    "df_credit_risk.head()"
   ]
  },
  {
   "cell_type": "code",
   "execution_count": 1657,
   "metadata": {},
   "outputs": [
    {
     "data": {
      "text/plain": [
       "                                 int64\n",
       "incumplimiento                 float64\n",
       "tipo_de_cuenta                  object\n",
       "genero                          object\n",
       "edad_del_cliente               float64\n",
       "co_solicitantes                  int64\n",
       "dependientes                     int64\n",
       "monto_del_prestamo             float64\n",
       "ubicacion_de_sucursal           object\n",
       "nivel_de_producto               object\n",
       "estatus_laboral                 object\n",
       "es_sostenedor_principal         object\n",
       "grupo_de_puntaje_crediticio     object\n",
       "area_residencial                object\n",
       "estado_actual_de_la_cuenta      object\n",
       "tiene_cuenta_conjunta           object\n",
       "indicador_aleatorio             object\n",
       "residencial_Rural               object\n",
       "residencial_Suburbana           object\n",
       "residencial_Urbana              object\n",
       "dtype: object"
      ]
     },
     "execution_count": 1657,
     "metadata": {},
     "output_type": "execute_result"
    }
   ],
   "source": [
    "df_credit_risk.dtypes"
   ]
  },
  {
   "cell_type": "markdown",
   "metadata": {},
   "source": [
    "#### La edad no puede estar en formato float, por lo que la convierto a int."
   ]
  },
  {
   "cell_type": "code",
   "execution_count": 1658,
   "metadata": {},
   "outputs": [],
   "source": [
    "df_credit_risk[\"edad_del_cliente\"] = df_credit_risk[\"edad_del_cliente\"].astype(int)"
   ]
  },
  {
   "cell_type": "code",
   "execution_count": 1659,
   "metadata": {},
   "outputs": [
    {
     "data": {
      "text/plain": [
       "incumplimiento\n",
       "0.0    1440\n",
       "1.0     466\n",
       "Name: count, dtype: int64"
      ]
     },
     "execution_count": 1659,
     "metadata": {},
     "output_type": "execute_result"
    }
   ],
   "source": [
    "df_credit_risk[\"incumplimiento\"].value_counts()"
   ]
  },
  {
   "cell_type": "markdown",
   "metadata": {},
   "source": [
    "___"
   ]
  },
  {
   "cell_type": "markdown",
   "metadata": {},
   "source": [
    "### → Valores outliers"
   ]
  },
  {
   "cell_type": "code",
   "execution_count": 1660,
   "metadata": {},
   "outputs": [
    {
     "data": {
      "image/png": "[encoded data removed]",
      "text/plain": [
       "<Figure size 2000x1500 with 6 Axes>"
      ]
     },
     "metadata": {},
     "output_type": "display_data"
    }
   ],
   "source": [
    "from funciones.eda_y_ml import plot_outliers\n",
    "plot_outliers(df_credit_risk)"
   ]
  },
  {
   "cell_type": "markdown",
   "metadata": {},
   "source": [
    "#### Para este análisis he tomado la decisión de no remover los outliers, ya que son valores que pueden ser reales y no errores de carga de datos. Además, al ser un dataset de créditos, es posible que existan valores altos de monto de préstamo."
   ]
  },
  {
   "cell_type": "markdown",
   "metadata": {},
   "source": [
    "____"
   ]
  },
  {
   "cell_type": "markdown",
   "metadata": {},
   "source": [
    "## **Parte 2: Análisis Exploratorio de Datos**\n"
   ]
  },
  {
   "cell_type": "markdown",
   "metadata": {},
   "source": [
    "### → Análisis de sesgos por edad. Usa groupby para calcular la tasa de incumplimiento promedio por grupo de edad. "
   ]
  },
  {
   "cell_type": "code",
   "execution_count": 1661,
   "metadata": {},
   "outputs": [
    {
     "data": {
      "text/plain": [
       "incumplimiento\n",
       "0.0    1440\n",
       "1.0     466\n",
       "Name: count, dtype: int64"
      ]
     },
     "execution_count": 1661,
     "metadata": {},
     "output_type": "execute_result"
    }
   ],
   "source": [
    "df_credit_risk[\"incumplimiento\"].value_counts() # Miro cuantos cumplieron y cuantos no"
   ]
  },
  {
   "cell_type": "code",
   "execution_count": 1662,
   "metadata": {},
   "outputs": [
    {
     "data": {
      "text/html": [
       "<div>\n",
       "<style scoped>\n",
       "    .dataframe tbody tr th:only-of-type {\n",
       "        vertical-align: middle;\n",
       "    }\n",
       "\n",
       "    .dataframe tbody tr th {\n",
       "        vertical-align: top;\n",
       "    }\n",
       "\n",
       "    .dataframe thead th {\n",
       "        text-align: right;\n",
       "    }\n",
       "</style>\n",
       "<table border=\"1\" class=\"dataframe\">\n",
       "  <thead>\n",
       "    <tr style=\"text-align: right;\">\n",
       "      <th></th>\n",
       "      <th>edad_del_cliente</th>\n",
       "      <th>incumplimiento</th>\n",
       "    </tr>\n",
       "  </thead>\n",
       "  <tbody>\n",
       "    <tr>\n",
       "      <th>0</th>\n",
       "      <td>13</td>\n",
       "      <td>1.00</td>\n",
       "    </tr>\n",
       "    <tr>\n",
       "      <th>1</th>\n",
       "      <td>16</td>\n",
       "      <td>1.00</td>\n",
       "    </tr>\n",
       "    <tr>\n",
       "      <th>2</th>\n",
       "      <td>17</td>\n",
       "      <td>1.00</td>\n",
       "    </tr>\n",
       "    <tr>\n",
       "      <th>3</th>\n",
       "      <td>18</td>\n",
       "      <td>0.56</td>\n",
       "    </tr>\n",
       "    <tr>\n",
       "      <th>4</th>\n",
       "      <td>19</td>\n",
       "      <td>0.41</td>\n",
       "    </tr>\n",
       "    <tr>\n",
       "      <th>...</th>\n",
       "      <td>...</td>\n",
       "      <td>...</td>\n",
       "    </tr>\n",
       "    <tr>\n",
       "      <th>70</th>\n",
       "      <td>85</td>\n",
       "      <td>0.00</td>\n",
       "    </tr>\n",
       "    <tr>\n",
       "      <th>71</th>\n",
       "      <td>86</td>\n",
       "      <td>0.00</td>\n",
       "    </tr>\n",
       "    <tr>\n",
       "      <th>72</th>\n",
       "      <td>87</td>\n",
       "      <td>0.00</td>\n",
       "    </tr>\n",
       "    <tr>\n",
       "      <th>73</th>\n",
       "      <td>88</td>\n",
       "      <td>0.00</td>\n",
       "    </tr>\n",
       "    <tr>\n",
       "      <th>74</th>\n",
       "      <td>89</td>\n",
       "      <td>0.00</td>\n",
       "    </tr>\n",
       "  </tbody>\n",
       "</table>\n",
       "<p>75 rows × 2 columns</p>\n",
       "</div>"
      ],
      "text/plain": [
       "    edad_del_cliente  incumplimiento\n",
       "0                 13            1.00\n",
       "1                 16            1.00\n",
       "2                 17            1.00\n",
       "3                 18            0.56\n",
       "4                 19            0.41\n",
       "..               ...             ...\n",
       "70                85            0.00\n",
       "71                86            0.00\n",
       "72                87            0.00\n",
       "73                88            0.00\n",
       "74                89            0.00\n",
       "\n",
       "[75 rows x 2 columns]"
      ]
     },
     "execution_count": 1662,
     "metadata": {},
     "output_type": "execute_result"
    }
   ],
   "source": [
    "tasa_de_incumplimiento_etaria = round(df_credit_risk.groupby(\"edad_del_cliente\").agg({\"incumplimiento\" : \"mean\"}).reset_index(), 2)\n",
    "tasa_de_incumplimiento_etaria # Tasa de incumplimiento promedio por grupo de edad"
   ]
  },
  {
   "cell_type": "code",
   "execution_count": 1663,
   "metadata": {},
   "outputs": [
    {
     "data": {
      "text/plain": [
       "<Axes: xlabel='edad_del_cliente', ylabel='incumplimiento'>"
      ]
     },
     "execution_count": 1663,
     "metadata": {},
     "output_type": "execute_result"
    },
    {
     "data": {
      "image/png": "[encoded data removed]",
      "text/plain": [
       "<Figure size 2000x1000 with 1 Axes>"
      ]
     },
     "metadata": {},
     "output_type": "display_data"
    }
   ],
   "source": [
    "import matplotlib.pyplot as plt\n",
    "plt.figure(figsize=(20,10))\n",
    "sns.barplot(data=tasa_de_incumplimiento_etaria, x=\"edad_del_cliente\", y=\"incumplimiento\")"
   ]
  },
  {
   "cell_type": "markdown",
   "metadata": {},
   "source": [
    "#### En este gráfico de barras se pueden identificar 3 grupos de clientes. Los que tienen entre 13 y 17 años, los que tienen entre 18 y 58 años y los que tienen más de 58 años.\n",
    "#### Los clientes que tienen entre 13 y 17 años no pagan, mientras que los que tienen entre 18 y 58 años si pagan (con una tasa baja de incumplimiento). Luego, a partir de los 58 años, pagan todos."
   ]
  },
  {
   "cell_type": "code",
   "execution_count": 1664,
   "metadata": {},
   "outputs": [
    {
     "data": {
      "text/plain": [
       "Text(0, 0.5, 'Frecuencia')"
      ]
     },
     "execution_count": 1664,
     "metadata": {},
     "output_type": "execute_result"
    },
    {
     "data": {
      "image/png": "[encoded data removed]",
      "text/plain": [
       "<Figure size 1400x500 with 1 Axes>"
      ]
     },
     "metadata": {},
     "output_type": "display_data"
    }
   ],
   "source": [
    "import matplotlib.pyplot as plt\n",
    "\n",
    "plt.figure(figsize=(14, 5))\n",
    "plt.hist(df_credit_risk['edad_del_cliente'], bins=15, edgecolor='black')\n",
    "plt.title('Histograma de Edades del cliente')\n",
    "plt.xlabel('Edad')\n",
    "plt.ylabel('Frecuencia')"
   ]
  },
  {
   "cell_type": "markdown",
   "metadata": {},
   "source": [
    "### → Crea histogramas de edad para deudores y no deudores."
   ]
  },
  {
   "cell_type": "code",
   "execution_count": 1665,
   "metadata": {},
   "outputs": [
    {
     "name": "stderr",
     "output_type": "stream",
     "text": [
      "/var/folders/xx/hcklcr8s0rxd7p5fz63z342w0000gn/T/ipykernel_28338/2283688562.py:6: UserWarning: \n",
      "\n",
      "`distplot` is a deprecated function and will be removed in seaborn v0.14.0.\n",
      "\n",
      "Please adapt your code to use either `displot` (a figure-level function with\n",
      "similar flexibility) or `histplot` (an axes-level function for histograms).\n",
      "\n",
      "For a guide to updating your code to use the new functions, please see\n",
      "https://gist.github.com/mwaskom/de44147ed2974457ad6372750bbe5751\n",
      "\n",
      "  sns.distplot(df_credit_risk[filtro1]['edad_del_cliente'], label=\"buen_pagador\", color=\"green\")\n",
      "/var/folders/xx/hcklcr8s0rxd7p5fz63z342w0000gn/T/ipykernel_28338/2283688562.py:7: UserWarning: \n",
      "\n",
      "`distplot` is a deprecated function and will be removed in seaborn v0.14.0.\n",
      "\n",
      "Please adapt your code to use either `displot` (a figure-level function with\n",
      "similar flexibility) or `histplot` (an axes-level function for histograms).\n",
      "\n",
      "For a guide to updating your code to use the new functions, please see\n",
      "https://gist.github.com/mwaskom/de44147ed2974457ad6372750bbe5751\n",
      "\n",
      "  sns.distplot(df_credit_risk[filtro2]['edad_del_cliente'], label=\"morosos\", color=\"red\")\n"
     ]
    },
    {
     "data": {
      "image/png": "[encoded data removed]",
      "text/plain": [
       "<Figure size 640x480 with 1 Axes>"
      ]
     },
     "metadata": {},
     "output_type": "display_data"
    }
   ],
   "source": [
    "sns.set_style('darkgrid')\n",
    "\n",
    "filtro1 = df_credit_risk[\"incumplimiento\"] == 0\n",
    "filtro2 = df_credit_risk[\"incumplimiento\"] == 1\n",
    "\n",
    "sns.distplot(df_credit_risk[filtro1]['edad_del_cliente'], label=\"buen_pagador\", color=\"green\")\n",
    "sns.distplot(df_credit_risk[filtro2]['edad_del_cliente'], label=\"morosos\", color=\"red\")\n",
    "\n",
    "plt.title(\"Distribution Plot de 'edad_del_cliente' con Hue en 'target'\")\n",
    "plt.legend()\n",
    "plt.show()"
   ]
  },
  {
   "cell_type": "markdown",
   "metadata": {},
   "source": [
    "### → Realiza un t-test para comparar las tasas de incumplimiento entre menores de edad y otros grupos de edad. "
   ]
  },
  {
   "cell_type": "code",
   "execution_count": 1666,
   "metadata": {},
   "outputs": [],
   "source": [
    "def grupo_etario (x):\n",
    "    if x <= 18:\n",
    "        return \"menor\"\n",
    "    elif 18 < x <= 30:\n",
    "        return \"joven adulto\"\n",
    "    elif 30 < x < 50:\n",
    "        return \"adulto\"\n",
    "    elif x >= 50:\n",
    "        return \"mayor\"\n",
    "    \n",
    "\n",
    "df_credit_risk[\"grupo_etario\"] = df_credit_risk[\"edad_del_cliente\"].apply(grupo_etario)\n",
    "    "
   ]
  },
  {
   "cell_type": "markdown",
   "metadata": {},
   "source": [
    "##### Comparación entre menores y mayores\n"
   ]
  },
  {
   "cell_type": "code",
   "execution_count": 1667,
   "metadata": {},
   "outputs": [],
   "source": [
    "adolescentes = df_credit_risk[df_credit_risk[\"grupo_etario\"] == \"menor\"] # Grupo 1\n",
    "mayores = df_credit_risk[df_credit_risk[\"grupo_etario\"] == \"mayor\"] # Grupo 2"
   ]
  },
  {
   "cell_type": "code",
   "execution_count": 1668,
   "metadata": {},
   "outputs": [
    {
     "name": "stdout",
     "output_type": "stream",
     "text": [
      "Rechazar la hipótesis nula. Hay una diferencia significativa de la tasa de incumplimiento entre los menores y los mayores.\n"
     ]
    }
   ],
   "source": [
    "from scipy.stats import ttest_ind\n",
    "\n",
    "group1 = adolescentes[\"incumplimiento\"]\n",
    "group2 = mayores[\"incumplimiento\"]\n",
    "\n",
    "t_stat, p_value = ttest_ind(group1, group2)\n",
    "\n",
    "if p_value < 0.05:\n",
    "    print(\"Rechazar la hipótesis nula. Hay una diferencia significativa de la tasa de incumplimiento entre los menores y los mayores.\")\n",
    "else:\n",
    "    print(\"No rechazar la hipótesis nula. No hay diferencias significativas entre la tasa de incumplimiento de ambos grupos\")"
   ]
  },
  {
   "cell_type": "markdown",
   "metadata": {},
   "source": [
    "##### Comparación entre jóvenes adultos y adultos"
   ]
  },
  {
   "cell_type": "code",
   "execution_count": 1669,
   "metadata": {},
   "outputs": [],
   "source": [
    "jovenes_adultos = df_credit_risk[df_credit_risk[\"grupo_etario\"] == \"joven adulto\"] # Grupo 3\n",
    "adultos = df_credit_risk[df_credit_risk[\"grupo_etario\"] == \"adulto\"] # Grupo 4"
   ]
  },
  {
   "cell_type": "code",
   "execution_count": 1670,
   "metadata": {},
   "outputs": [
    {
     "name": "stdout",
     "output_type": "stream",
     "text": [
      "Rechazar la hipótesis nula. Hay una diferencia significativa de la tasa de incumplimiento entre los jóvenes adultos y los adultos.\n"
     ]
    }
   ],
   "source": [
    "group3 = jovenes_adultos[\"incumplimiento\"]\n",
    "group4 = adultos[\"incumplimiento\"]\n",
    "\n",
    "t_stat, p_value = ttest_ind(group3, group4)\n",
    "\n",
    "if p_value < 0.05:\n",
    "    print(\"Rechazar la hipótesis nula. Hay una diferencia significativa de la tasa de incumplimiento entre los jóvenes adultos y los adultos.\")\n",
    "else:\n",
    "    print(\"No rechazar la hipótesis nula. No hay diferencias significativas entre la tasa de incumplimiento de ambos grupos\")"
   ]
  },
  {
   "cell_type": "markdown",
   "metadata": {},
   "source": [
    "### → Análisis de sesgos por monto del préstamo. Genera histogramas de 'monto_del_prestamo' para visualizar la distribución de los montos para deudores y no deudores.\n"
   ]
  },
  {
   "cell_type": "code",
   "execution_count": 1671,
   "metadata": {},
   "outputs": [
    {
     "data": {
      "image/png": "[encoded data removed]",
      "text/plain": [
       "<Figure size 640x480 with 1 Axes>"
      ]
     },
     "metadata": {},
     "output_type": "display_data"
    }
   ],
   "source": [
    "plt.figsize=(14, 5)\n",
    "plt.hist(df_credit_risk['monto_del_prestamo'], bins=15, edgecolor='black')\n",
    "plt.title('Histogram del monto del préstamo')\n",
    "plt.xlabel('Monto del préstamo')\n",
    "plt.ylabel('Frecuencia')\n",
    "plt.tight_layout()\n",
    "plt.show()\n"
   ]
  },
  {
   "cell_type": "code",
   "execution_count": 1672,
   "metadata": {},
   "outputs": [],
   "source": [
    "deudores = df_credit_risk[df_credit_risk[\"incumplimiento\"] == 1]\n",
    "buenos_pagadores = df_credit_risk[df_credit_risk[\"incumplimiento\"] == 0]"
   ]
  },
  {
   "cell_type": "code",
   "execution_count": 1673,
   "metadata": {},
   "outputs": [
    {
     "data": {
      "image/png": "[encoded data removed]",
      "text/plain": [
       "<Figure size 640x480 with 1 Axes>"
      ]
     },
     "metadata": {},
     "output_type": "display_data"
    }
   ],
   "source": [
    "plt.figsize=(14, 5)\n",
    "plt.hist(deudores[\"monto_del_prestamo\"], bins=15, edgecolor='black', color=\"red\")\n",
    "plt.title('Histogram del monto del préstamo')\n",
    "plt.xlabel('Monto del préstamo')\n",
    "plt.ylabel('Frecuencia')\n",
    "plt.tight_layout()\n",
    "plt.show()\n"
   ]
  },
  {
   "cell_type": "code",
   "execution_count": 1674,
   "metadata": {},
   "outputs": [
    {
     "data": {
      "image/png": "[encoded data removed]",
      "text/plain": [
       "<Figure size 640x480 with 1 Axes>"
      ]
     },
     "metadata": {},
     "output_type": "display_data"
    }
   ],
   "source": [
    "plt.figsize=(14, 5)\n",
    "plt.hist(buenos_pagadores[\"monto_del_prestamo\"], bins=15, edgecolor='black', color=\"green\")\n",
    "plt.title('Histogram del monto del préstamo')\n",
    "plt.xlabel('Monto del préstamo')\n",
    "plt.ylabel('Frecuencia')\n",
    "plt.tight_layout()\n",
    "plt.show()\n"
   ]
  },
  {
   "cell_type": "code",
   "execution_count": 1675,
   "metadata": {},
   "outputs": [
    {
     "name": "stderr",
     "output_type": "stream",
     "text": [
      "/var/folders/xx/hcklcr8s0rxd7p5fz63z342w0000gn/T/ipykernel_28338/1093310498.py:6: UserWarning: \n",
      "\n",
      "`distplot` is a deprecated function and will be removed in seaborn v0.14.0.\n",
      "\n",
      "Please adapt your code to use either `displot` (a figure-level function with\n",
      "similar flexibility) or `histplot` (an axes-level function for histograms).\n",
      "\n",
      "For a guide to updating your code to use the new functions, please see\n",
      "https://gist.github.com/mwaskom/de44147ed2974457ad6372750bbe5751\n",
      "\n",
      "  sns.distplot(buenos_pagadores[\"monto_del_prestamo\"], label=\"buen_pagador\", color=\"green\")\n",
      "/var/folders/xx/hcklcr8s0rxd7p5fz63z342w0000gn/T/ipykernel_28338/1093310498.py:7: UserWarning: \n",
      "\n",
      "`distplot` is a deprecated function and will be removed in seaborn v0.14.0.\n",
      "\n",
      "Please adapt your code to use either `displot` (a figure-level function with\n",
      "similar flexibility) or `histplot` (an axes-level function for histograms).\n",
      "\n",
      "For a guide to updating your code to use the new functions, please see\n",
      "https://gist.github.com/mwaskom/de44147ed2974457ad6372750bbe5751\n",
      "\n",
      "  sns.distplot(deudores[\"monto_del_prestamo\"], label=\"morosos\", color=\"red\")\n"
     ]
    },
    {
     "data": {
      "image/png": "[encoded data removed]",
      "text/plain": [
       "<Figure size 640x480 with 1 Axes>"
      ]
     },
     "metadata": {},
     "output_type": "display_data"
    }
   ],
   "source": [
    "sns.set_style('darkgrid')\n",
    "\n",
    "buenos_pagadores = df_credit_risk[df_credit_risk[\"incumplimiento\"] == 0]\n",
    "deudores = df_credit_risk[df_credit_risk[\"incumplimiento\"] == 1]\n",
    "\n",
    "sns.distplot(buenos_pagadores[\"monto_del_prestamo\"], label=\"buen_pagador\", color=\"green\")\n",
    "sns.distplot(deudores[\"monto_del_prestamo\"], label=\"morosos\", color=\"red\")\n",
    "\n",
    "plt.title(\"Distribution Plot de 'monto_del_prestamo' con hue en 'target'\")\n",
    "plt.legend()\n",
    "plt.show()"
   ]
  },
  {
   "cell_type": "code",
   "execution_count": 1676,
   "metadata": {},
   "outputs": [
    {
     "data": {
      "text/plain": [
       "<Axes: ylabel='monto_del_prestamo'>"
      ]
     },
     "execution_count": 1676,
     "metadata": {},
     "output_type": "execute_result"
    },
    {
     "data": {
      "image/png": "[encoded data removed]",
      "text/plain": [
       "<Figure size 640x480 with 1 Axes>"
      ]
     },
     "metadata": {},
     "output_type": "display_data"
    }
   ],
   "source": [
    "sns.boxplot(deudores[\"monto_del_prestamo\"]) # Los deudores piden montos altos prestados y después no los pagan."
   ]
  },
  {
   "cell_type": "code",
   "execution_count": 1677,
   "metadata": {},
   "outputs": [
    {
     "data": {
      "text/plain": [
       "<Axes: ylabel='monto_del_prestamo'>"
      ]
     },
     "execution_count": 1677,
     "metadata": {},
     "output_type": "execute_result"
    },
    {
     "data": {
      "image/png": "[encoded data removed]",
      "text/plain": [
       "<Figure size 640x480 with 1 Axes>"
      ]
     },
     "metadata": {},
     "output_type": "display_data"
    }
   ],
   "source": [
    "sns.boxplot(buenos_pagadores[\"monto_del_prestamo\"]) # # Los buenos pagadores piden montos razonablñes prestados, pero después sí los pagan."
   ]
  },
  {
   "cell_type": "markdown",
   "metadata": {},
   "source": [
    "### → Compara las distribuciones de 'monto_del_prestamo' entre buenos y malos pagadores con un t-test. "
   ]
  },
  {
   "cell_type": "code",
   "execution_count": 1678,
   "metadata": {},
   "outputs": [
    {
     "name": "stdout",
     "output_type": "stream",
     "text": [
      "Rechazar la hipótesis nula. Hay una diferencia significativa en el monto del prestamo entre los deudores y los no deudores.\n"
     ]
    }
   ],
   "source": [
    "from scipy.stats import ttest_ind\n",
    "\n",
    "grupo1 = deudores[\"monto_del_prestamo\"]\n",
    "grupo2 = buenos_pagadores[\"monto_del_prestamo\"]\n",
    "\n",
    "t_stat, p_value = ttest_ind(grupo1, grupo2)\n",
    "\n",
    "if p_value < 0.05:\n",
    "    print(\"Rechazar la hipótesis nula. Hay una diferencia significativa en el monto del prestamo entre los deudores y los no deudores.\")\n",
    "else:\n",
    "    print(\"No rechazar la hipótesis nula. No hay diferencias significativas entre la tasa de incumplimiento de ambos grupos\")"
   ]
  },
  {
   "cell_type": "markdown",
   "metadata": {},
   "source": [
    "### → Análisis de sesgos por tipo de empleo. Usa groupby para comparar las tasas de incumplimiento entre diferentes tipos de empleo. Explora la relación entre el estado laboral y la tasa de incumplimiento con visualizaciones adecuadas."
   ]
  },
  {
   "cell_type": "code",
   "execution_count": 1679,
   "metadata": {},
   "outputs": [
    {
     "data": {
      "text/plain": [
       "estatus_laboral\n",
       "man                         538\n",
       "Desempleo                   274\n",
       "woman                       273\n",
       "Estudiante                  255\n",
       "Empleo                      249\n",
       "Retirado                    222\n",
       "child                        85\n",
       "Desempleado                   8\n",
       "Empleo a tiempo parcial       1\n",
       "Empleo a tiempo completo      1\n",
       "Name: count, dtype: int64"
      ]
     },
     "execution_count": 1679,
     "metadata": {},
     "output_type": "execute_result"
    }
   ],
   "source": [
    "df_credit_risk[\"estatus_laboral\"].value_counts() "
   ]
  },
  {
   "cell_type": "markdown",
   "metadata": {},
   "source": [
    "##### Procedemos a quedarnos solamente con 'Desempleado', 'Estudiante', 'Retirado' y 'Empleado'. Aquellos como 'man' y 'women' no van a formar parte de nuestro análisis ya que no tienen nada que ver con el estatus laboral. Además, aquellos en 'Desempleo' van a sumarse a 'Desempleado' y aquellos que están en 'Empleo a tiempo parcial/tiempo completo' van a sumarse a 'Empleo'."
   ]
  },
  {
   "cell_type": "code",
   "execution_count": 1680,
   "metadata": {},
   "outputs": [
    {
     "data": {
      "text/plain": [
       "<Axes: xlabel='edad_del_cliente', ylabel='Count'>"
      ]
     },
     "execution_count": 1680,
     "metadata": {},
     "output_type": "execute_result"
    },
    {
     "data": {
      "image/png": "[encoded data removed]",
      "text/plain": [
       "<Figure size 640x480 with 1 Axes>"
      ]
     },
     "metadata": {},
     "output_type": "display_data"
    }
   ],
   "source": [
    "sns.histplot(df_credit_risk[df_credit_risk[\"estatus_laboral\"] == \"child\"][ \"edad_del_cliente\"])"
   ]
  },
  {
   "cell_type": "code",
   "execution_count": 1681,
   "metadata": {},
   "outputs": [],
   "source": [
    "def clean_estatus_laboral(df, column):\n",
    "    mapping = {'Desempleo': 'Desempleado', \n",
    "               'Empleo a tiempo parcial': 'Empleo', \n",
    "               'Empleo a tiempo completo': 'Empleo'}\n",
    "    df[column] = df[column].replace(mapping)\n",
    "    df = df[df[column].isin(['Desempleado', 'Estudiante', 'Empleo', 'Retirado'])]\n",
    "    return df\n",
    "\n",
    "df_credit_risk2= clean_estatus_laboral(df_credit_risk, \"estatus_laboral\")"
   ]
  },
  {
   "cell_type": "code",
   "execution_count": 1682,
   "metadata": {},
   "outputs": [
    {
     "data": {
      "text/plain": [
       "estatus_laboral\n",
       "Desempleado    282\n",
       "Estudiante     255\n",
       "Empleo         251\n",
       "Retirado       222\n",
       "Name: count, dtype: int64"
      ]
     },
     "execution_count": 1682,
     "metadata": {},
     "output_type": "execute_result"
    }
   ],
   "source": [
    "df_credit_risk2[\"estatus_laboral\"].value_counts()"
   ]
  },
  {
   "cell_type": "code",
   "execution_count": 1683,
   "metadata": {},
   "outputs": [
    {
     "data": {
      "text/html": [
       "<div>\n",
       "<style scoped>\n",
       "    .dataframe tbody tr th:only-of-type {\n",
       "        vertical-align: middle;\n",
       "    }\n",
       "\n",
       "    .dataframe tbody tr th {\n",
       "        vertical-align: top;\n",
       "    }\n",
       "\n",
       "    .dataframe thead th {\n",
       "        text-align: right;\n",
       "    }\n",
       "</style>\n",
       "<table border=\"1\" class=\"dataframe\">\n",
       "  <thead>\n",
       "    <tr style=\"text-align: right;\">\n",
       "      <th></th>\n",
       "      <th>estatus_laboral</th>\n",
       "      <th>cantidad_de_deudores</th>\n",
       "    </tr>\n",
       "  </thead>\n",
       "  <tbody>\n",
       "    <tr>\n",
       "      <th>0</th>\n",
       "      <td>Desempleado</td>\n",
       "      <td>7.0</td>\n",
       "    </tr>\n",
       "    <tr>\n",
       "      <th>1</th>\n",
       "      <td>Empleo</td>\n",
       "      <td>1.0</td>\n",
       "    </tr>\n",
       "    <tr>\n",
       "      <th>2</th>\n",
       "      <td>Estudiante</td>\n",
       "      <td>0.0</td>\n",
       "    </tr>\n",
       "    <tr>\n",
       "      <th>3</th>\n",
       "      <td>Retirado</td>\n",
       "      <td>0.0</td>\n",
       "    </tr>\n",
       "  </tbody>\n",
       "</table>\n",
       "</div>"
      ],
      "text/plain": [
       "  estatus_laboral  cantidad_de_deudores\n",
       "0     Desempleado                   7.0\n",
       "1          Empleo                   1.0\n",
       "2      Estudiante                   0.0\n",
       "3        Retirado                   0.0"
      ]
     },
     "execution_count": 1683,
     "metadata": {},
     "output_type": "execute_result"
    }
   ],
   "source": [
    "df_credit_risk2.groupby(\"estatus_laboral\").agg(cantidad_de_deudores = (\"incumplimiento\", \"sum\")).reset_index()"
   ]
  },
  {
   "cell_type": "code",
   "execution_count": 1684,
   "metadata": {},
   "outputs": [
    {
     "data": {
      "text/plain": [
       "(1010, 21)"
      ]
     },
     "execution_count": 1684,
     "metadata": {},
     "output_type": "execute_result"
    }
   ],
   "source": [
    "df_credit_risk2.shape"
   ]
  },
  {
   "cell_type": "code",
   "execution_count": 1685,
   "metadata": {},
   "outputs": [
    {
     "data": {
      "text/plain": [
       "(1906, 21)"
      ]
     },
     "execution_count": 1685,
     "metadata": {},
     "output_type": "execute_result"
    }
   ],
   "source": [
    "df_credit_risk.shape"
   ]
  },
  {
   "cell_type": "markdown",
   "metadata": {},
   "source": [
    "___"
   ]
  },
  {
   "cell_type": "markdown",
   "metadata": {},
   "source": [
    "## **Parte 3: Preparación de Datos para Modelado**\n"
   ]
  },
  {
   "cell_type": "markdown",
   "metadata": {},
   "source": [
    "### → Limpieza de Datos. Asegúrate de que todos los datos estén correctamente codificados y de que no haya valores faltantes o irrelevantes en el conjunto de datos. "
   ]
  },
  {
   "cell_type": "code",
   "execution_count": 1686,
   "metadata": {},
   "outputs": [
    {
     "data": {
      "text/plain": [
       "genero\n",
       "male      584\n",
       "Hombre    527\n",
       "Mujer     473\n",
       "female    322\n",
       "Name: count, dtype: int64"
      ]
     },
     "execution_count": 1686,
     "metadata": {},
     "output_type": "execute_result"
    }
   ],
   "source": [
    "df_credit_risk[\"genero\"].value_counts()"
   ]
  },
  {
   "cell_type": "code",
   "execution_count": 1687,
   "metadata": {},
   "outputs": [],
   "source": [
    "def grouping_genders(df, column):\n",
    "    mapping = {'female': 'Mujer', \n",
    "               'male': 'Hombre'}\n",
    "    df[column] = df[column].replace(mapping)\n",
    "    return df\n",
    "\n",
    "df_credit_risk_cleaned = grouping_genders(df_credit_risk, \"genero\")"
   ]
  },
  {
   "cell_type": "code",
   "execution_count": 1688,
   "metadata": {},
   "outputs": [
    {
     "data": {
      "text/html": [
       "<div>\n",
       "<style scoped>\n",
       "    .dataframe tbody tr th:only-of-type {\n",
       "        vertical-align: middle;\n",
       "    }\n",
       "\n",
       "    .dataframe tbody tr th {\n",
       "        vertical-align: top;\n",
       "    }\n",
       "\n",
       "    .dataframe thead th {\n",
       "        text-align: right;\n",
       "    }\n",
       "</style>\n",
       "<table border=\"1\" class=\"dataframe\">\n",
       "  <thead>\n",
       "    <tr style=\"text-align: right;\">\n",
       "      <th></th>\n",
       "      <th></th>\n",
       "      <th>incumplimiento</th>\n",
       "      <th>tipo_de_cuenta</th>\n",
       "      <th>genero</th>\n",
       "      <th>edad_del_cliente</th>\n",
       "      <th>co_solicitantes</th>\n",
       "      <th>dependientes</th>\n",
       "      <th>monto_del_prestamo</th>\n",
       "      <th>ubicacion_de_sucursal</th>\n",
       "      <th>nivel_de_producto</th>\n",
       "      <th>...</th>\n",
       "      <th>es_sostenedor_principal</th>\n",
       "      <th>grupo_de_puntaje_crediticio</th>\n",
       "      <th>area_residencial</th>\n",
       "      <th>estado_actual_de_la_cuenta</th>\n",
       "      <th>tiene_cuenta_conjunta</th>\n",
       "      <th>indicador_aleatorio</th>\n",
       "      <th>residencial_Rural</th>\n",
       "      <th>residencial_Suburbana</th>\n",
       "      <th>residencial_Urbana</th>\n",
       "      <th>grupo_etario</th>\n",
       "    </tr>\n",
       "  </thead>\n",
       "  <tbody>\n",
       "    <tr>\n",
       "      <th>0</th>\n",
       "      <td>0</td>\n",
       "      <td>1.0</td>\n",
       "      <td>3</td>\n",
       "      <td>Hombre</td>\n",
       "      <td>26</td>\n",
       "      <td>1</td>\n",
       "      <td>0</td>\n",
       "      <td>7.2500</td>\n",
       "      <td>Suburbana</td>\n",
       "      <td>Third</td>\n",
       "      <td>...</td>\n",
       "      <td>True</td>\n",
       "      <td></td>\n",
       "      <td>Urbana</td>\n",
       "      <td>no</td>\n",
       "      <td>0</td>\n",
       "      <td>0.9494354298674084</td>\n",
       "      <td>0.0</td>\n",
       "      <td>0.0</td>\n",
       "      <td>1.0</td>\n",
       "      <td>joven adulto</td>\n",
       "    </tr>\n",
       "    <tr>\n",
       "      <th>1</th>\n",
       "      <td>1</td>\n",
       "      <td>1.0</td>\n",
       "      <td>3</td>\n",
       "      <td>Mujer</td>\n",
       "      <td>27</td>\n",
       "      <td>1</td>\n",
       "      <td>0</td>\n",
       "      <td>71.2833</td>\n",
       "      <td>Central</td>\n",
       "      <td>First</td>\n",
       "      <td>...</td>\n",
       "      <td>False</td>\n",
       "      <td>C</td>\n",
       "      <td>Urbana</td>\n",
       "      <td>yes</td>\n",
       "      <td>0</td>\n",
       "      <td>0.0152425151741839</td>\n",
       "      <td>0.0</td>\n",
       "      <td>0.0</td>\n",
       "      <td>1.0</td>\n",
       "      <td>joven adulto</td>\n",
       "    </tr>\n",
       "    <tr>\n",
       "      <th>2</th>\n",
       "      <td>2</td>\n",
       "      <td>1.0</td>\n",
       "      <td>1</td>\n",
       "      <td>Mujer</td>\n",
       "      <td>48</td>\n",
       "      <td>0</td>\n",
       "      <td>0</td>\n",
       "      <td>7.9250</td>\n",
       "      <td>Suburbana</td>\n",
       "      <td>Third</td>\n",
       "      <td>...</td>\n",
       "      <td>False</td>\n",
       "      <td></td>\n",
       "      <td>Rural</td>\n",
       "      <td>yes</td>\n",
       "      <td>1</td>\n",
       "      <td>0.6723719434749519</td>\n",
       "      <td>1.0</td>\n",
       "      <td>0.0</td>\n",
       "      <td>0.0</td>\n",
       "      <td>adulto</td>\n",
       "    </tr>\n",
       "    <tr>\n",
       "      <th>3</th>\n",
       "      <td>3</td>\n",
       "      <td>1.0</td>\n",
       "      <td>3</td>\n",
       "      <td>Mujer</td>\n",
       "      <td>25</td>\n",
       "      <td>1</td>\n",
       "      <td>0</td>\n",
       "      <td>53.1000</td>\n",
       "      <td>Suburbana</td>\n",
       "      <td>First</td>\n",
       "      <td>...</td>\n",
       "      <td>False</td>\n",
       "      <td>C</td>\n",
       "      <td>Urbana</td>\n",
       "      <td>yes</td>\n",
       "      <td>0</td>\n",
       "      <td>0.4035980372889746</td>\n",
       "      <td>0.0</td>\n",
       "      <td>0.0</td>\n",
       "      <td>1.0</td>\n",
       "      <td>joven adulto</td>\n",
       "    </tr>\n",
       "    <tr>\n",
       "      <th>4</th>\n",
       "      <td>4</td>\n",
       "      <td>0.0</td>\n",
       "      <td>1</td>\n",
       "      <td>Hombre</td>\n",
       "      <td>41</td>\n",
       "      <td>0</td>\n",
       "      <td>0</td>\n",
       "      <td>8.0500</td>\n",
       "      <td>Suburbana</td>\n",
       "      <td>Third</td>\n",
       "      <td>...</td>\n",
       "      <td>True</td>\n",
       "      <td></td>\n",
       "      <td>Suburbana</td>\n",
       "      <td>no</td>\n",
       "      <td>1</td>\n",
       "      <td>0.8529009409462249</td>\n",
       "      <td>0.0</td>\n",
       "      <td>1.0</td>\n",
       "      <td>0.0</td>\n",
       "      <td>adulto</td>\n",
       "    </tr>\n",
       "    <tr>\n",
       "      <th>...</th>\n",
       "      <td>...</td>\n",
       "      <td>...</td>\n",
       "      <td>...</td>\n",
       "      <td>...</td>\n",
       "      <td>...</td>\n",
       "      <td>...</td>\n",
       "      <td>...</td>\n",
       "      <td>...</td>\n",
       "      <td>...</td>\n",
       "      <td>...</td>\n",
       "      <td>...</td>\n",
       "      <td>...</td>\n",
       "      <td>...</td>\n",
       "      <td>...</td>\n",
       "      <td>...</td>\n",
       "      <td>...</td>\n",
       "      <td>...</td>\n",
       "      <td>...</td>\n",
       "      <td>...</td>\n",
       "      <td>...</td>\n",
       "      <td>...</td>\n",
       "    </tr>\n",
       "    <tr>\n",
       "      <th>1901</th>\n",
       "      <td>995</td>\n",
       "      <td>0.0</td>\n",
       "      <td>Corriente</td>\n",
       "      <td>Hombre</td>\n",
       "      <td>56</td>\n",
       "      <td>0</td>\n",
       "      <td>1</td>\n",
       "      <td>35253.0000</td>\n",
       "      <td>Suiza</td>\n",
       "      <td>Intermedio</td>\n",
       "      <td>...</td>\n",
       "      <td>False</td>\n",
       "      <td>9</td>\n",
       "      <td>Urbana</td>\n",
       "      <td>no</td>\n",
       "      <td>False</td>\n",
       "      <td></td>\n",
       "      <td></td>\n",
       "      <td></td>\n",
       "      <td></td>\n",
       "      <td>mayor</td>\n",
       "    </tr>\n",
       "    <tr>\n",
       "      <th>1902</th>\n",
       "      <td>996</td>\n",
       "      <td>0.0</td>\n",
       "      <td>Corriente</td>\n",
       "      <td>Mujer</td>\n",
       "      <td>66</td>\n",
       "      <td>0</td>\n",
       "      <td>4</td>\n",
       "      <td>14752.0000</td>\n",
       "      <td>Suiza</td>\n",
       "      <td>Avanzado</td>\n",
       "      <td>...</td>\n",
       "      <td>False</td>\n",
       "      <td>2</td>\n",
       "      <td>Suburbana</td>\n",
       "      <td>no</td>\n",
       "      <td>True</td>\n",
       "      <td></td>\n",
       "      <td></td>\n",
       "      <td></td>\n",
       "      <td></td>\n",
       "      <td>mayor</td>\n",
       "    </tr>\n",
       "    <tr>\n",
       "      <th>1903</th>\n",
       "      <td>997</td>\n",
       "      <td>0.0</td>\n",
       "      <td>Inversiones</td>\n",
       "      <td>Hombre</td>\n",
       "      <td>34</td>\n",
       "      <td>1</td>\n",
       "      <td>2</td>\n",
       "      <td>21816.0000</td>\n",
       "      <td>Suiza</td>\n",
       "      <td>Basico</td>\n",
       "      <td>...</td>\n",
       "      <td>True</td>\n",
       "      <td>10</td>\n",
       "      <td>Rural</td>\n",
       "      <td>yes</td>\n",
       "      <td>True</td>\n",
       "      <td></td>\n",
       "      <td></td>\n",
       "      <td></td>\n",
       "      <td></td>\n",
       "      <td>adulto</td>\n",
       "    </tr>\n",
       "    <tr>\n",
       "      <th>1904</th>\n",
       "      <td>998</td>\n",
       "      <td>0.0</td>\n",
       "      <td>Inversiones</td>\n",
       "      <td>Hombre</td>\n",
       "      <td>87</td>\n",
       "      <td>2</td>\n",
       "      <td>2</td>\n",
       "      <td>37871.0000</td>\n",
       "      <td>Suiza</td>\n",
       "      <td>Basico</td>\n",
       "      <td>...</td>\n",
       "      <td>False</td>\n",
       "      <td>10</td>\n",
       "      <td>Suburbana</td>\n",
       "      <td>yes</td>\n",
       "      <td>False</td>\n",
       "      <td></td>\n",
       "      <td></td>\n",
       "      <td></td>\n",
       "      <td></td>\n",
       "      <td>mayor</td>\n",
       "    </tr>\n",
       "    <tr>\n",
       "      <th>1905</th>\n",
       "      <td>999</td>\n",
       "      <td>0.0</td>\n",
       "      <td>Ahorro</td>\n",
       "      <td>Hombre</td>\n",
       "      <td>87</td>\n",
       "      <td>2</td>\n",
       "      <td>1</td>\n",
       "      <td>19662.0000</td>\n",
       "      <td>Suiza</td>\n",
       "      <td>Avanzado</td>\n",
       "      <td>...</td>\n",
       "      <td>True</td>\n",
       "      <td>6</td>\n",
       "      <td>Suburbana</td>\n",
       "      <td>yes</td>\n",
       "      <td>False</td>\n",
       "      <td></td>\n",
       "      <td></td>\n",
       "      <td></td>\n",
       "      <td></td>\n",
       "      <td>mayor</td>\n",
       "    </tr>\n",
       "  </tbody>\n",
       "</table>\n",
       "<p>1906 rows × 21 columns</p>\n",
       "</div>"
      ],
      "text/plain": [
       "           incumplimiento tipo_de_cuenta  genero  edad_del_cliente  \\\n",
       "0       0             1.0              3  Hombre                26   \n",
       "1       1             1.0              3   Mujer                27   \n",
       "2       2             1.0              1   Mujer                48   \n",
       "3       3             1.0              3   Mujer                25   \n",
       "4       4             0.0              1  Hombre                41   \n",
       "...   ...             ...            ...     ...               ...   \n",
       "1901  995             0.0      Corriente  Hombre                56   \n",
       "1902  996             0.0      Corriente   Mujer                66   \n",
       "1903  997             0.0    Inversiones  Hombre                34   \n",
       "1904  998             0.0    Inversiones  Hombre                87   \n",
       "1905  999             0.0         Ahorro  Hombre                87   \n",
       "\n",
       "      co_solicitantes  dependientes  monto_del_prestamo ubicacion_de_sucursal  \\\n",
       "0                   1             0              7.2500             Suburbana   \n",
       "1                   1             0             71.2833               Central   \n",
       "2                   0             0              7.9250             Suburbana   \n",
       "3                   1             0             53.1000             Suburbana   \n",
       "4                   0             0              8.0500             Suburbana   \n",
       "...               ...           ...                 ...                   ...   \n",
       "1901                0             1          35253.0000                 Suiza   \n",
       "1902                0             4          14752.0000                 Suiza   \n",
       "1903                1             2          21816.0000                 Suiza   \n",
       "1904                2             2          37871.0000                 Suiza   \n",
       "1905                2             1          19662.0000                 Suiza   \n",
       "\n",
       "     nivel_de_producto  ... es_sostenedor_principal  \\\n",
       "0                Third  ...                    True   \n",
       "1                First  ...                   False   \n",
       "2                Third  ...                   False   \n",
       "3                First  ...                   False   \n",
       "4                Third  ...                    True   \n",
       "...                ...  ...                     ...   \n",
       "1901        Intermedio  ...                   False   \n",
       "1902          Avanzado  ...                   False   \n",
       "1903            Basico  ...                    True   \n",
       "1904            Basico  ...                   False   \n",
       "1905          Avanzado  ...                    True   \n",
       "\n",
       "     grupo_de_puntaje_crediticio area_residencial estado_actual_de_la_cuenta  \\\n",
       "0                                          Urbana                         no   \n",
       "1                              C           Urbana                        yes   \n",
       "2                                           Rural                        yes   \n",
       "3                              C           Urbana                        yes   \n",
       "4                                       Suburbana                         no   \n",
       "...                          ...              ...                        ...   \n",
       "1901                           9           Urbana                         no   \n",
       "1902                           2        Suburbana                         no   \n",
       "1903                          10            Rural                        yes   \n",
       "1904                          10        Suburbana                        yes   \n",
       "1905                           6        Suburbana                        yes   \n",
       "\n",
       "     tiene_cuenta_conjunta indicador_aleatorio residencial_Rural  \\\n",
       "0                        0  0.9494354298674084               0.0   \n",
       "1                        0  0.0152425151741839               0.0   \n",
       "2                        1  0.6723719434749519               1.0   \n",
       "3                        0  0.4035980372889746               0.0   \n",
       "4                        1  0.8529009409462249               0.0   \n",
       "...                    ...                 ...               ...   \n",
       "1901                 False                                         \n",
       "1902                  True                                         \n",
       "1903                  True                                         \n",
       "1904                 False                                         \n",
       "1905                 False                                         \n",
       "\n",
       "     residencial_Suburbana residencial_Urbana  grupo_etario  \n",
       "0                      0.0                1.0  joven adulto  \n",
       "1                      0.0                1.0  joven adulto  \n",
       "2                      0.0                0.0        adulto  \n",
       "3                      0.0                1.0  joven adulto  \n",
       "4                      1.0                0.0        adulto  \n",
       "...                    ...                ...           ...  \n",
       "1901                                                  mayor  \n",
       "1902                                                  mayor  \n",
       "1903                                                 adulto  \n",
       "1904                                                  mayor  \n",
       "1905                                                  mayor  \n",
       "\n",
       "[1906 rows x 21 columns]"
      ]
     },
     "execution_count": 1688,
     "metadata": {},
     "output_type": "execute_result"
    }
   ],
   "source": [
    "df_credit_risk_cleaned"
   ]
  },
  {
   "cell_type": "markdown",
   "metadata": {},
   "source": [
    "___"
   ]
  },
  {
   "cell_type": "code",
   "execution_count": 1689,
   "metadata": {},
   "outputs": [
    {
     "data": {
      "text/plain": [
       "tipo_de_cuenta\n",
       "1              451\n",
       "Ahorro         355\n",
       "Corriente      326\n",
       "Inversiones    319\n",
       "2              241\n",
       "3              214\n",
       "Name: count, dtype: int64"
      ]
     },
     "execution_count": 1689,
     "metadata": {},
     "output_type": "execute_result"
    }
   ],
   "source": [
    "df_credit_risk_cleaned[\"tipo_de_cuenta\"].value_counts()"
   ]
  },
  {
   "cell_type": "code",
   "execution_count": 1690,
   "metadata": {},
   "outputs": [],
   "source": [
    "def joining_accounts(df, column):\n",
    "    mapping = {'1': 'Ahorro', \n",
    "               '2': 'Corriente',\n",
    "               '3': 'Inversiones'}\n",
    "    df[column] = df[column].replace(mapping)\n",
    "    return df\n",
    "\n",
    "df_credit_risk_cleaned = joining_accounts(df_credit_risk, \"tipo_de_cuenta\")"
   ]
  },
  {
   "cell_type": "markdown",
   "metadata": {},
   "source": [
    "___"
   ]
  },
  {
   "cell_type": "code",
   "execution_count": 1691,
   "metadata": {},
   "outputs": [
    {
     "data": {
      "text/plain": [
       "nivel_de_producto\n",
       "Third         498\n",
       "Avanzado      349\n",
       "Intermedio    329\n",
       "Basico        322\n",
       "First         221\n",
       "Second        187\n",
       "Name: count, dtype: int64"
      ]
     },
     "execution_count": 1691,
     "metadata": {},
     "output_type": "execute_result"
    }
   ],
   "source": [
    "df_credit_risk_cleaned[\"nivel_de_producto\"].value_counts()"
   ]
  },
  {
   "cell_type": "code",
   "execution_count": 1692,
   "metadata": {},
   "outputs": [],
   "source": [
    "def niveles_de_producto(df, column):\n",
    "    mapping = {'First': 'Basico', \n",
    "               'Second': 'Intermedio',\n",
    "               'Third': 'Avanzado'}\n",
    "    df[column] = df[column].replace(mapping)\n",
    "    return df\n",
    "\n",
    "df_credit_risk_cleaned = niveles_de_producto(df_credit_risk, \"nivel_de_producto\")"
   ]
  },
  {
   "cell_type": "markdown",
   "metadata": {},
   "source": [
    "___"
   ]
  },
  {
   "cell_type": "code",
   "execution_count": 1693,
   "metadata": {},
   "outputs": [
    {
     "data": {
      "text/plain": [
       "es_sostenedor_principal\n",
       "True     1052\n",
       "False     854\n",
       "Name: count, dtype: int64"
      ]
     },
     "execution_count": 1693,
     "metadata": {},
     "output_type": "execute_result"
    }
   ],
   "source": [
    "df_credit_risk_cleaned[\"es_sostenedor_principal\"].value_counts()"
   ]
  },
  {
   "cell_type": "code",
   "execution_count": 1694,
   "metadata": {},
   "outputs": [
    {
     "data": {
      "text/plain": [
       "estado_actual_de_la_cuenta\n",
       "no     1032\n",
       "yes     874\n",
       "Name: count, dtype: int64"
      ]
     },
     "execution_count": 1694,
     "metadata": {},
     "output_type": "execute_result"
    }
   ],
   "source": [
    "df_credit_risk_cleaned[\"estado_actual_de_la_cuenta\"].value_counts()"
   ]
  },
  {
   "cell_type": "code",
   "execution_count": 1695,
   "metadata": {},
   "outputs": [
    {
     "data": {
      "text/plain": [
       "tiene_cuenta_conjunta\n",
       "1        663\n",
       "True     523\n",
       "False    492\n",
       "0        228\n",
       "Name: count, dtype: int64"
      ]
     },
     "execution_count": 1695,
     "metadata": {},
     "output_type": "execute_result"
    }
   ],
   "source": [
    "df_credit_risk_cleaned[\"tiene_cuenta_conjunta\"].value_counts()"
   ]
  },
  {
   "cell_type": "code",
   "execution_count": 1696,
   "metadata": {},
   "outputs": [
    {
     "name": "stderr",
     "output_type": "stream",
     "text": [
      "/var/folders/xx/hcklcr8s0rxd7p5fz63z342w0000gn/T/ipykernel_28338/3527016171.py:3: FutureWarning: DataFrame.applymap has been deprecated. Use DataFrame.map instead.\n",
      "  return df.applymap(lambda x: mapping.get(x, x))\n"
     ]
    }
   ],
   "source": [
    "def map_values(df):\n",
    "    mapping = {'yes': 1, 'True': 1, 'no': 0, 'False': 0}\n",
    "    return df.applymap(lambda x: mapping.get(x, x))\n",
    "\n",
    "df_credit_risk_cleaned = map_values(df_credit_risk_cleaned)"
   ]
  },
  {
   "cell_type": "code",
   "execution_count": 1697,
   "metadata": {},
   "outputs": [],
   "source": [
    "df_credit_risk_cleaned.drop(columns=[\"indicador_aleatorio\",\"residencial_Rural\", \"residencial_Suburbana\", \"residencial_Urbana\", \"\"], inplace = True)"
   ]
  },
  {
   "cell_type": "code",
   "execution_count": 1698,
   "metadata": {},
   "outputs": [
    {
     "data": {
      "text/plain": [
       "grupo_de_puntaje_crediticio\n",
       "      691\n",
       "7     116\n",
       "2     109\n",
       "1     102\n",
       "8     102\n",
       "6     101\n",
       "10    100\n",
       "5      99\n",
       "9      96\n",
       "3      95\n",
       "4      80\n",
       "C      59\n",
       "B      48\n",
       "E      37\n",
       "D      34\n",
       "F      17\n",
       "A      15\n",
       "G       5\n",
       "Name: count, dtype: int64"
      ]
     },
     "execution_count": 1698,
     "metadata": {},
     "output_type": "execute_result"
    }
   ],
   "source": [
    "df_credit_risk_cleaned[\"grupo_de_puntaje_crediticio\"].value_counts()"
   ]
  },
  {
   "cell_type": "markdown",
   "metadata": {},
   "source": [
    "___"
   ]
  },
  {
   "cell_type": "markdown",
   "metadata": {},
   "source": [
    "### → Selección de Características. Decide qué variables incluir en el modelo. Considera excluir variables con sesgos introducidos artificialmente para evaluar su impacto en el rendimiento del modelo."
   ]
  },
  {
   "cell_type": "code",
   "execution_count": 1699,
   "metadata": {},
   "outputs": [
    {
     "data": {
      "text/html": [
       "<div>\n",
       "<style scoped>\n",
       "    .dataframe tbody tr th:only-of-type {\n",
       "        vertical-align: middle;\n",
       "    }\n",
       "\n",
       "    .dataframe tbody tr th {\n",
       "        vertical-align: top;\n",
       "    }\n",
       "\n",
       "    .dataframe thead th {\n",
       "        text-align: right;\n",
       "    }\n",
       "</style>\n",
       "<table border=\"1\" class=\"dataframe\">\n",
       "  <thead>\n",
       "    <tr style=\"text-align: right;\">\n",
       "      <th></th>\n",
       "      <th>incumplimiento</th>\n",
       "      <th>tipo_de_cuenta</th>\n",
       "      <th>genero</th>\n",
       "      <th>edad_del_cliente</th>\n",
       "      <th>co_solicitantes</th>\n",
       "      <th>dependientes</th>\n",
       "      <th>monto_del_prestamo</th>\n",
       "      <th>ubicacion_de_sucursal</th>\n",
       "      <th>nivel_de_producto</th>\n",
       "      <th>estatus_laboral</th>\n",
       "      <th>es_sostenedor_principal</th>\n",
       "      <th>grupo_de_puntaje_crediticio</th>\n",
       "      <th>area_residencial</th>\n",
       "      <th>estado_actual_de_la_cuenta</th>\n",
       "      <th>tiene_cuenta_conjunta</th>\n",
       "      <th>grupo_etario</th>\n",
       "    </tr>\n",
       "  </thead>\n",
       "  <tbody>\n",
       "    <tr>\n",
       "      <th>0</th>\n",
       "      <td>1.0</td>\n",
       "      <td>Inversiones</td>\n",
       "      <td>Hombre</td>\n",
       "      <td>26</td>\n",
       "      <td>1</td>\n",
       "      <td>0</td>\n",
       "      <td>7.2500</td>\n",
       "      <td>Suburbana</td>\n",
       "      <td>Avanzado</td>\n",
       "      <td>man</td>\n",
       "      <td>1</td>\n",
       "      <td></td>\n",
       "      <td>Urbana</td>\n",
       "      <td>0</td>\n",
       "      <td>0</td>\n",
       "      <td>joven adulto</td>\n",
       "    </tr>\n",
       "    <tr>\n",
       "      <th>1</th>\n",
       "      <td>1.0</td>\n",
       "      <td>Inversiones</td>\n",
       "      <td>Mujer</td>\n",
       "      <td>27</td>\n",
       "      <td>1</td>\n",
       "      <td>0</td>\n",
       "      <td>71.2833</td>\n",
       "      <td>Central</td>\n",
       "      <td>Basico</td>\n",
       "      <td>woman</td>\n",
       "      <td>0</td>\n",
       "      <td>C</td>\n",
       "      <td>Urbana</td>\n",
       "      <td>1</td>\n",
       "      <td>0</td>\n",
       "      <td>joven adulto</td>\n",
       "    </tr>\n",
       "    <tr>\n",
       "      <th>2</th>\n",
       "      <td>1.0</td>\n",
       "      <td>Ahorro</td>\n",
       "      <td>Mujer</td>\n",
       "      <td>48</td>\n",
       "      <td>0</td>\n",
       "      <td>0</td>\n",
       "      <td>7.9250</td>\n",
       "      <td>Suburbana</td>\n",
       "      <td>Avanzado</td>\n",
       "      <td>woman</td>\n",
       "      <td>0</td>\n",
       "      <td></td>\n",
       "      <td>Rural</td>\n",
       "      <td>1</td>\n",
       "      <td>1</td>\n",
       "      <td>adulto</td>\n",
       "    </tr>\n",
       "    <tr>\n",
       "      <th>3</th>\n",
       "      <td>1.0</td>\n",
       "      <td>Inversiones</td>\n",
       "      <td>Mujer</td>\n",
       "      <td>25</td>\n",
       "      <td>1</td>\n",
       "      <td>0</td>\n",
       "      <td>53.1000</td>\n",
       "      <td>Suburbana</td>\n",
       "      <td>Basico</td>\n",
       "      <td>woman</td>\n",
       "      <td>0</td>\n",
       "      <td>C</td>\n",
       "      <td>Urbana</td>\n",
       "      <td>1</td>\n",
       "      <td>0</td>\n",
       "      <td>joven adulto</td>\n",
       "    </tr>\n",
       "    <tr>\n",
       "      <th>4</th>\n",
       "      <td>0.0</td>\n",
       "      <td>Ahorro</td>\n",
       "      <td>Hombre</td>\n",
       "      <td>41</td>\n",
       "      <td>0</td>\n",
       "      <td>0</td>\n",
       "      <td>8.0500</td>\n",
       "      <td>Suburbana</td>\n",
       "      <td>Avanzado</td>\n",
       "      <td>man</td>\n",
       "      <td>1</td>\n",
       "      <td></td>\n",
       "      <td>Suburbana</td>\n",
       "      <td>0</td>\n",
       "      <td>1</td>\n",
       "      <td>adulto</td>\n",
       "    </tr>\n",
       "  </tbody>\n",
       "</table>\n",
       "</div>"
      ],
      "text/plain": [
       "   incumplimiento tipo_de_cuenta  genero  edad_del_cliente  co_solicitantes  \\\n",
       "0             1.0    Inversiones  Hombre                26                1   \n",
       "1             1.0    Inversiones   Mujer                27                1   \n",
       "2             1.0         Ahorro   Mujer                48                0   \n",
       "3             1.0    Inversiones   Mujer                25                1   \n",
       "4             0.0         Ahorro  Hombre                41                0   \n",
       "\n",
       "   dependientes  monto_del_prestamo ubicacion_de_sucursal nivel_de_producto  \\\n",
       "0             0              7.2500             Suburbana          Avanzado   \n",
       "1             0             71.2833               Central            Basico   \n",
       "2             0              7.9250             Suburbana          Avanzado   \n",
       "3             0             53.1000             Suburbana            Basico   \n",
       "4             0              8.0500             Suburbana          Avanzado   \n",
       "\n",
       "  estatus_laboral  es_sostenedor_principal grupo_de_puntaje_crediticio  \\\n",
       "0             man                        1                               \n",
       "1           woman                        0                           C   \n",
       "2           woman                        0                               \n",
       "3           woman                        0                           C   \n",
       "4             man                        1                               \n",
       "\n",
       "  area_residencial  estado_actual_de_la_cuenta tiene_cuenta_conjunta  \\\n",
       "0           Urbana                           0                     0   \n",
       "1           Urbana                           1                     0   \n",
       "2            Rural                           1                     1   \n",
       "3           Urbana                           1                     0   \n",
       "4        Suburbana                           0                     1   \n",
       "\n",
       "   grupo_etario  \n",
       "0  joven adulto  \n",
       "1  joven adulto  \n",
       "2        adulto  \n",
       "3  joven adulto  \n",
       "4        adulto  "
      ]
     },
     "execution_count": 1699,
     "metadata": {},
     "output_type": "execute_result"
    }
   ],
   "source": [
    "df_credit_risk_cleaned.head()"
   ]
  },
  {
   "cell_type": "markdown",
   "metadata": {},
   "source": [
    "### *Regresión Logística*"
   ]
  },
  {
   "cell_type": "code",
   "execution_count": 1700,
   "metadata": {},
   "outputs": [],
   "source": [
    "# df_credit_risk_cleaned = pd.get_dummies(data=df_credit_risk_cleaned, columns=[\"tipo_de_cuenta\", \"genero\", \"ubicacion_de_sucursal\", \"nivel_de_producto\", \"grupo_de_puntaje_crediticio\", \"grupo_etario\"], dtype=float)"
   ]
  },
  {
   "cell_type": "code",
   "execution_count": 1701,
   "metadata": {},
   "outputs": [
    {
     "name": "stderr",
     "output_type": "stream",
     "text": [
      "/Users/lolonastri/opt/anaconda3/envs/POO-env/lib/python3.11/site-packages/sklearn/utils/validation.py:605: FutureWarning: is_sparse is deprecated and will be removed in a future version. Check `isinstance(dtype, pd.SparseDtype)` instead.\n",
      "  if is_sparse(pd_dtype):\n",
      "/Users/lolonastri/opt/anaconda3/envs/POO-env/lib/python3.11/site-packages/sklearn/utils/validation.py:614: FutureWarning: is_sparse is deprecated and will be removed in a future version. Check `isinstance(dtype, pd.SparseDtype)` instead.\n",
      "  if is_sparse(pd_dtype) or not is_extension_array_dtype(pd_dtype):\n",
      "/Users/lolonastri/opt/anaconda3/envs/POO-env/lib/python3.11/site-packages/sklearn/utils/validation.py:605: FutureWarning: is_sparse is deprecated and will be removed in a future version. Check `isinstance(dtype, pd.SparseDtype)` instead.\n",
      "  if is_sparse(pd_dtype):\n",
      "/Users/lolonastri/opt/anaconda3/envs/POO-env/lib/python3.11/site-packages/sklearn/utils/validation.py:614: FutureWarning: is_sparse is deprecated and will be removed in a future version. Check `isinstance(dtype, pd.SparseDtype)` instead.\n",
      "  if is_sparse(pd_dtype) or not is_extension_array_dtype(pd_dtype):\n",
      "/Users/lolonastri/opt/anaconda3/envs/POO-env/lib/python3.11/site-packages/sklearn/utils/validation.py:605: FutureWarning: is_sparse is deprecated and will be removed in a future version. Check `isinstance(dtype, pd.SparseDtype)` instead.\n",
      "  if is_sparse(pd_dtype):\n",
      "/Users/lolonastri/opt/anaconda3/envs/POO-env/lib/python3.11/site-packages/sklearn/utils/validation.py:614: FutureWarning: is_sparse is deprecated and will be removed in a future version. Check `isinstance(dtype, pd.SparseDtype)` instead.\n",
      "  if is_sparse(pd_dtype) or not is_extension_array_dtype(pd_dtype):\n",
      "/Users/lolonastri/opt/anaconda3/envs/POO-env/lib/python3.11/site-packages/sklearn/utils/validation.py:605: FutureWarning: is_sparse is deprecated and will be removed in a future version. Check `isinstance(dtype, pd.SparseDtype)` instead.\n",
      "  if is_sparse(pd_dtype):\n",
      "/Users/lolonastri/opt/anaconda3/envs/POO-env/lib/python3.11/site-packages/sklearn/utils/validation.py:614: FutureWarning: is_sparse is deprecated and will be removed in a future version. Check `isinstance(dtype, pd.SparseDtype)` instead.\n",
      "  if is_sparse(pd_dtype) or not is_extension_array_dtype(pd_dtype):\n",
      "/Users/lolonastri/opt/anaconda3/envs/POO-env/lib/python3.11/site-packages/sklearn/utils/validation.py:605: FutureWarning: is_sparse is deprecated and will be removed in a future version. Check `isinstance(dtype, pd.SparseDtype)` instead.\n",
      "  if is_sparse(pd_dtype):\n",
      "/Users/lolonastri/opt/anaconda3/envs/POO-env/lib/python3.11/site-packages/sklearn/utils/validation.py:614: FutureWarning: is_sparse is deprecated and will be removed in a future version. Check `isinstance(dtype, pd.SparseDtype)` instead.\n",
      "  if is_sparse(pd_dtype) or not is_extension_array_dtype(pd_dtype):\n",
      "/Users/lolonastri/opt/anaconda3/envs/POO-env/lib/python3.11/site-packages/sklearn/utils/validation.py:605: FutureWarning: is_sparse is deprecated and will be removed in a future version. Check `isinstance(dtype, pd.SparseDtype)` instead.\n",
      "  if is_sparse(pd_dtype):\n",
      "/Users/lolonastri/opt/anaconda3/envs/POO-env/lib/python3.11/site-packages/sklearn/utils/validation.py:614: FutureWarning: is_sparse is deprecated and will be removed in a future version. Check `isinstance(dtype, pd.SparseDtype)` instead.\n",
      "  if is_sparse(pd_dtype) or not is_extension_array_dtype(pd_dtype):\n"
     ]
    }
   ],
   "source": [
    "from sklearn.preprocessing import LabelEncoder\n",
    "le = LabelEncoder()\n",
    "\n",
    "columns_para_encodear = [\"tipo_de_cuenta\", \"genero\", \"ubicacion_de_sucursal\", \"nivel_de_producto\", \"grupo_de_puntaje_crediticio\", \"grupo_etario\"]\n",
    "for column in columns_para_encodear:\n",
    "    df_credit_risk_cleaned[column] = le.fit_transform(df_credit_risk_cleaned[column])"
   ]
  },
  {
   "cell_type": "code",
   "execution_count": 1702,
   "metadata": {},
   "outputs": [],
   "source": [
    "X = df_credit_risk_cleaned[[\"tipo_de_cuenta\", \"genero\", \"dependientes\", \"monto_del_prestamo\", \"ubicacion_de_sucursal\", \"nivel_de_producto\", \"grupo_de_puntaje_crediticio\", \"grupo_etario\"]]\n",
    "y = df_credit_risk_cleaned[\"incumplimiento\"]"
   ]
  },
  {
   "cell_type": "code",
   "execution_count": 1703,
   "metadata": {},
   "outputs": [],
   "source": [
    "from sklearn.model_selection import train_test_split\n",
    "X_train, X_test, y_train, y_test = train_test_split(X, y, test_size=0.2, random_state=42) # 80% train, 20% test. Esto lo hago para que el modelo no haga overfitting."
   ]
  },
  {
   "cell_type": "code",
   "execution_count": 1704,
   "metadata": {},
   "outputs": [
    {
     "data": {
      "text/plain": [
       "tipo_de_cuenta                   int64\n",
       "genero                           int64\n",
       "dependientes                     int64\n",
       "monto_del_prestamo             float64\n",
       "ubicacion_de_sucursal            int64\n",
       "nivel_de_producto                int64\n",
       "grupo_de_puntaje_crediticio      int64\n",
       "grupo_etario                     int64\n",
       "dtype: object"
      ]
     },
     "execution_count": 1704,
     "metadata": {},
     "output_type": "execute_result"
    }
   ],
   "source": [
    "X_train.dtypes"
   ]
  },
  {
   "cell_type": "code",
   "execution_count": 1705,
   "metadata": {},
   "outputs": [
    {
     "name": "stdout",
     "output_type": "stream",
     "text": [
      "         Current function value: 0.344888\n",
      "         Iterations: 35\n",
      "         Function evaluations: 45\n",
      "         Gradient evaluations: 45\n",
      "                          MNLogit Regression Results                          \n",
      "==============================================================================\n",
      "Dep. Variable:         incumplimiento   No. Observations:                 1524\n",
      "Model:                        MNLogit   Df Residuals:                     1515\n",
      "Method:                           MLE   Df Model:                            8\n",
      "Date:                Fri, 24 Nov 2023   Pseudo R-squ.:                  0.3827\n",
      "Time:                        11:43:47   Log-Likelihood:                -525.61\n",
      "converged:                      False   LL-Null:                       -851.46\n",
      "Covariance Type:            nonrobust   LLR p-value:                1.774e-135\n",
      "===============================================================================================\n",
      "           incumplimiento=1       coef    std err          z      P>|z|      [0.025      0.975]\n",
      "-----------------------------------------------------------------------------------------------\n",
      "const                          -0.3746      0.253     -1.478      0.139      -0.871       0.122\n",
      "tipo_de_cuenta                  0.8567      0.100      8.603      0.000       0.661       1.052\n",
      "genero                          0.0670      0.164      0.409      0.682      -0.254       0.388\n",
      "dependientes                   -0.3981      0.087     -4.580      0.000      -0.568      -0.228\n",
      "monto_del_prestamo             -0.0002   2.85e-05     -7.898      0.000      -0.000      -0.000\n",
      "ubicacion_de_sucursal          -0.1038      0.064     -1.634      0.102      -0.228       0.021\n",
      "nivel_de_producto              -0.1303      0.098     -1.333      0.183      -0.322       0.061\n",
      "grupo_de_puntaje_crediticio     0.0170      0.014      1.173      0.241      -0.011       0.045\n",
      "grupo_etario                    0.1649      0.091      1.820      0.069      -0.013       0.342\n",
      "===============================================================================================\n"
     ]
    },
    {
     "name": "stderr",
     "output_type": "stream",
     "text": [
      "/Users/lolonastri/opt/anaconda3/envs/POO-env/lib/python3.11/site-packages/statsmodels/discrete/discrete_model.py:3057: RuntimeWarning: divide by zero encountered in log\n",
      "  logprob = np.log(self.cdf(np.dot(self.exog,params)))\n",
      "/Users/lolonastri/opt/anaconda3/envs/POO-env/lib/python3.11/site-packages/statsmodels/discrete/discrete_model.py:3058: RuntimeWarning: invalid value encountered in multiply\n",
      "  return np.sum(d * logprob)\n",
      "/Users/lolonastri/opt/anaconda3/envs/POO-env/lib/python3.11/site-packages/scipy/optimize/_optimize.py:1360: OptimizeWarning: Maximum number of iterations has been exceeded.\n",
      "  res = _minimize_bfgs(f, x0, args, fprime, callback=callback, **opts)\n",
      "/Users/lolonastri/opt/anaconda3/envs/POO-env/lib/python3.11/site-packages/statsmodels/base/model.py:607: ConvergenceWarning: Maximum Likelihood optimization failed to converge. Check mle_retvals\n",
      "  warnings.warn(\"Maximum Likelihood optimization failed to \"\n"
     ]
    }
   ],
   "source": [
    "import statsmodels.api as sm\n",
    "logit_model=sm.MNLogit(y_train,sm.add_constant(X_train))\n",
    "logit_model\n",
    "result=logit_model.fit(method='bfgs')\n",
    "stats1=result.summary()\n",
    "print(stats1)"
   ]
  },
  {
   "cell_type": "markdown",
   "metadata": {},
   "source": [
    "___"
   ]
  },
  {
   "cell_type": "markdown",
   "metadata": {},
   "source": [
    "## **Parte 4: Modelado**\n",
    "### → Entrenar un Modelo de Clasificación. Utiliza DecisionTreeClassifier para entrenar un modelo predictivo con los datos procesados. Evaluación del Modelo. Genera una matriz de confusión para evaluar el rendimiento del modelo. Calcula la precisión, el recall y la exactitud del modelo."
   ]
  },
  {
   "cell_type": "markdown",
   "metadata": {},
   "source": [
    "### *Árbol de Decisión*"
   ]
  },
  {
   "cell_type": "code",
   "execution_count": 1706,
   "metadata": {},
   "outputs": [
    {
     "name": "stderr",
     "output_type": "stream",
     "text": [
      "/Users/lolonastri/opt/anaconda3/envs/POO-env/lib/python3.11/site-packages/sklearn/utils/validation.py:767: FutureWarning: is_sparse is deprecated and will be removed in a future version. Check `isinstance(dtype, pd.SparseDtype)` instead.\n",
      "  if not hasattr(array, \"sparse\") and array.dtypes.apply(is_sparse).any():\n",
      "/Users/lolonastri/opt/anaconda3/envs/POO-env/lib/python3.11/site-packages/sklearn/utils/validation.py:605: FutureWarning: is_sparse is deprecated and will be removed in a future version. Check `isinstance(dtype, pd.SparseDtype)` instead.\n",
      "  if is_sparse(pd_dtype):\n",
      "/Users/lolonastri/opt/anaconda3/envs/POO-env/lib/python3.11/site-packages/sklearn/utils/validation.py:614: FutureWarning: is_sparse is deprecated and will be removed in a future version. Check `isinstance(dtype, pd.SparseDtype)` instead.\n",
      "  if is_sparse(pd_dtype) or not is_extension_array_dtype(pd_dtype):\n",
      "/Users/lolonastri/opt/anaconda3/envs/POO-env/lib/python3.11/site-packages/sklearn/utils/validation.py:605: FutureWarning: is_sparse is deprecated and will be removed in a future version. Check `isinstance(dtype, pd.SparseDtype)` instead.\n",
      "  if is_sparse(pd_dtype):\n",
      "/Users/lolonastri/opt/anaconda3/envs/POO-env/lib/python3.11/site-packages/sklearn/utils/validation.py:614: FutureWarning: is_sparse is deprecated and will be removed in a future version. Check `isinstance(dtype, pd.SparseDtype)` instead.\n",
      "  if is_sparse(pd_dtype) or not is_extension_array_dtype(pd_dtype):\n",
      "/Users/lolonastri/opt/anaconda3/envs/POO-env/lib/python3.11/site-packages/sklearn/utils/validation.py:767: FutureWarning: is_sparse is deprecated and will be removed in a future version. Check `isinstance(dtype, pd.SparseDtype)` instead.\n",
      "  if not hasattr(array, \"sparse\") and array.dtypes.apply(is_sparse).any():\n",
      "/Users/lolonastri/opt/anaconda3/envs/POO-env/lib/python3.11/site-packages/sklearn/utils/validation.py:605: FutureWarning: is_sparse is deprecated and will be removed in a future version. Check `isinstance(dtype, pd.SparseDtype)` instead.\n",
      "  if is_sparse(pd_dtype):\n",
      "/Users/lolonastri/opt/anaconda3/envs/POO-env/lib/python3.11/site-packages/sklearn/utils/validation.py:614: FutureWarning: is_sparse is deprecated and will be removed in a future version. Check `isinstance(dtype, pd.SparseDtype)` instead.\n",
      "  if is_sparse(pd_dtype) or not is_extension_array_dtype(pd_dtype):\n"
     ]
    }
   ],
   "source": [
    "# Split the dataset into training set and test set\n",
    "X_train, X_test, y_train, y_test = train_test_split(X, y, test_size=0.2, random_state=42)\n",
    "\n",
    "# Create a Decision Tree classifier object\n",
    "clf = DecisionTreeClassifier(max_depth=3)\n",
    "\n",
    "# Train Decision Tree Classifier\n",
    "clf = clf.fit(X_train, y_train)\n",
    "\n",
    "# Predict the response for test dataset\n",
    "y_pred = clf.predict(X_test)\n",
    "\n"
   ]
  },
  {
   "cell_type": "markdown",
   "metadata": {},
   "source": [
    "### *Matriz de Confusión*"
   ]
  },
  {
   "cell_type": "code",
   "execution_count": 1707,
   "metadata": {},
   "outputs": [
    {
     "name": "stderr",
     "output_type": "stream",
     "text": [
      "/Users/lolonastri/opt/anaconda3/envs/POO-env/lib/python3.11/site-packages/sklearn/utils/validation.py:605: FutureWarning: is_sparse is deprecated and will be removed in a future version. Check `isinstance(dtype, pd.SparseDtype)` instead.\n",
      "  if is_sparse(pd_dtype):\n",
      "/Users/lolonastri/opt/anaconda3/envs/POO-env/lib/python3.11/site-packages/sklearn/utils/validation.py:614: FutureWarning: is_sparse is deprecated and will be removed in a future version. Check `isinstance(dtype, pd.SparseDtype)` instead.\n",
      "  if is_sparse(pd_dtype) or not is_extension_array_dtype(pd_dtype):\n",
      "/Users/lolonastri/opt/anaconda3/envs/POO-env/lib/python3.11/site-packages/sklearn/utils/validation.py:605: FutureWarning: is_sparse is deprecated and will be removed in a future version. Check `isinstance(dtype, pd.SparseDtype)` instead.\n",
      "  if is_sparse(pd_dtype):\n",
      "/Users/lolonastri/opt/anaconda3/envs/POO-env/lib/python3.11/site-packages/sklearn/utils/validation.py:614: FutureWarning: is_sparse is deprecated and will be removed in a future version. Check `isinstance(dtype, pd.SparseDtype)` instead.\n",
      "  if is_sparse(pd_dtype) or not is_extension_array_dtype(pd_dtype):\n",
      "/Users/lolonastri/opt/anaconda3/envs/POO-env/lib/python3.11/site-packages/sklearn/utils/validation.py:605: FutureWarning: is_sparse is deprecated and will be removed in a future version. Check `isinstance(dtype, pd.SparseDtype)` instead.\n",
      "  if is_sparse(pd_dtype):\n",
      "/Users/lolonastri/opt/anaconda3/envs/POO-env/lib/python3.11/site-packages/sklearn/utils/validation.py:614: FutureWarning: is_sparse is deprecated and will be removed in a future version. Check `isinstance(dtype, pd.SparseDtype)` instead.\n",
      "  if is_sparse(pd_dtype) or not is_extension_array_dtype(pd_dtype):\n"
     ]
    }
   ],
   "source": [
    "# Creating a confusion matrix\n",
    "conf_matrix = confusion_matrix(y_test, y_pred)\n",
    "# Calculating metrics manually using the confusion matrix\n",
    "tp, fn, fp, tn = conf_matrix.ravel()"
   ]
  },
  {
   "cell_type": "code",
   "execution_count": 1708,
   "metadata": {},
   "outputs": [
    {
     "name": "stderr",
     "output_type": "stream",
     "text": [
      "/Users/lolonastri/opt/anaconda3/envs/POO-env/lib/python3.11/site-packages/sklearn/utils/validation.py:767: FutureWarning: is_sparse is deprecated and will be removed in a future version. Check `isinstance(dtype, pd.SparseDtype)` instead.\n",
      "  if not hasattr(array, \"sparse\") and array.dtypes.apply(is_sparse).any():\n",
      "/Users/lolonastri/opt/anaconda3/envs/POO-env/lib/python3.11/site-packages/sklearn/utils/validation.py:605: FutureWarning: is_sparse is deprecated and will be removed in a future version. Check `isinstance(dtype, pd.SparseDtype)` instead.\n",
      "  if is_sparse(pd_dtype):\n",
      "/Users/lolonastri/opt/anaconda3/envs/POO-env/lib/python3.11/site-packages/sklearn/utils/validation.py:614: FutureWarning: is_sparse is deprecated and will be removed in a future version. Check `isinstance(dtype, pd.SparseDtype)` instead.\n",
      "  if is_sparse(pd_dtype) or not is_extension_array_dtype(pd_dtype):\n"
     ]
    },
    {
     "data": {
      "image/png": "[encoded data removed]",
      "text/plain": [
       "<Figure size 1500x1000 with 2 Axes>"
      ]
     },
     "metadata": {},
     "output_type": "display_data"
    }
   ],
   "source": [
    "y_pred = clf.predict(X_test)\n",
    "y_true = y_test\n",
    "# Visualización de la matriz de confusión\n",
    "f, ax = plt.subplots(figsize=(15, 10))\n",
    "sns.heatmap(conf_matrix, annot=True, linewidth=0.5, fmt=\".0f\", cmap='viridis', ax=ax)\n",
    "plt.xlabel(\"Predicho\")\n",
    "plt.ylabel(\"Real\")\n",
    "plt.title('Matriz de Confusión')\n",
    "plt.show()"
   ]
  },
  {
   "cell_type": "markdown",
   "metadata": {},
   "source": [
    "### *Precisión*"
   ]
  },
  {
   "cell_type": "code",
   "execution_count": 1709,
   "metadata": {},
   "outputs": [
    {
     "name": "stdout",
     "output_type": "stream",
     "text": [
      "0.9016393442622951\n"
     ]
    }
   ],
   "source": [
    "precision = tp / (tp + fp) if (tp + fp) > 0 else 0  # Handling the case where tp + fp is 0\n",
    "print(precision)"
   ]
  },
  {
   "cell_type": "markdown",
   "metadata": {},
   "source": [
    "### *Recall*"
   ]
  },
  {
   "cell_type": "code",
   "execution_count": 1710,
   "metadata": {},
   "outputs": [
    {
     "name": "stdout",
     "output_type": "stream",
     "text": [
      "0.9417808219178082\n"
     ]
    }
   ],
   "source": [
    "recall = tp / (tp + fn) if (tp + fn) > 0 else 0     # Handling the case where tp + fn is 0\n",
    "print(recall)"
   ]
  },
  {
   "cell_type": "markdown",
   "metadata": {},
   "source": [
    "### *Exactitud*"
   ]
  },
  {
   "cell_type": "code",
   "execution_count": 1711,
   "metadata": {},
   "outputs": [
    {
     "name": "stdout",
     "output_type": "stream",
     "text": [
      "0.8769633507853403\n"
     ]
    }
   ],
   "source": [
    "# Metrics calculation\n",
    "accuracy = (tp + tn) / (tp + tn + fp + fn)\n",
    "print(accuracy)"
   ]
  },
  {
   "cell_type": "markdown",
   "metadata": {},
   "source": [
    "### *Tree Image*"
   ]
  },
  {
   "cell_type": "code",
   "execution_count": 1712,
   "metadata": {},
   "outputs": [],
   "source": [
    "from sklearn.tree import export_graphviz\n",
    "import graphviz"
   ]
  },
  {
   "cell_type": "code",
   "execution_count": 1713,
   "metadata": {},
   "outputs": [
    {
     "data": {
      "image/svg+xml": [
       "<?xml version=\"1.0\" encoding=\"UTF-8\" standalone=\"no\"?>\n",
       "<!DOCTYPE svg PUBLIC \"-//W3C//DTD SVG 1.1//EN\"\n",
       " \"http://www.w3.org/Graphics/SVG/1.1/DTD/svg11.dtd\">\n",
       "<!-- Generated by graphviz version 2.50.0 (0)\n",
       " -->\n",
       "<!-- Title: Tree Pages: 1 -->\n",
       "<svg width=\"852pt\" height=\"433pt\"\n",
       " viewBox=\"0.00 0.00 851.50 433.00\" xmlns=\"http://www.w3.org/2000/svg\" xmlns:xlink=\"http://www.w3.org/1999/xlink\">\n",
       "<g id=\"graph0\" class=\"graph\" transform=\"scale(1 1) rotate(0) translate(4 429)\">\n",
       "<title>Tree</title>\n",
       "<polygon fill=\"white\" stroke=\"transparent\" points=\"-4,4 -4,-429 847.5,-429 847.5,4 -4,4\"/>\n",
       "<!-- 0 -->\n",
       "<g id=\"node1\" class=\"node\">\n",
       "<title>0</title>\n",
       "<path fill=\"#eeaa7a\" stroke=\"black\" d=\"M550,-425C550,-425 386,-425 386,-425 380,-425 374,-419 374,-413 374,-413 374,-354 374,-354 374,-348 380,-342 386,-342 386,-342 550,-342 550,-342 556,-342 562,-348 562,-354 562,-354 562,-413 562,-413 562,-419 556,-425 550,-425\"/>\n",
       "<text text-anchor=\"start\" x=\"382\" y=\"-409.8\" font-family=\"Helvetica,sans-Serif\" font-size=\"14.00\">ubicacion_de_sucursal ≤ 4.5</text>\n",
       "<text text-anchor=\"start\" x=\"432.5\" y=\"-394.8\" font-family=\"Helvetica,sans-Serif\" font-size=\"14.00\">gini = 0.372</text>\n",
       "<text text-anchor=\"start\" x=\"419.5\" y=\"-379.8\" font-family=\"Helvetica,sans-Serif\" font-size=\"14.00\">samples = 1524</text>\n",
       "<text text-anchor=\"start\" x=\"410\" y=\"-364.8\" font-family=\"Helvetica,sans-Serif\" font-size=\"14.00\">value = [1148, 376]</text>\n",
       "<text text-anchor=\"start\" x=\"443\" y=\"-349.8\" font-family=\"Helvetica,sans-Serif\" font-size=\"14.00\">class = i</text>\n",
       "</g>\n",
       "<!-- 1 -->\n",
       "<g id=\"node2\" class=\"node\">\n",
       "<title>1</title>\n",
       "<path fill=\"#f2f9fd\" stroke=\"black\" d=\"M426.5,-306C426.5,-306 307.5,-306 307.5,-306 301.5,-306 295.5,-300 295.5,-294 295.5,-294 295.5,-235 295.5,-235 295.5,-229 301.5,-223 307.5,-223 307.5,-223 426.5,-223 426.5,-223 432.5,-223 438.5,-229 438.5,-235 438.5,-235 438.5,-294 438.5,-294 438.5,-300 432.5,-306 426.5,-306\"/>\n",
       "<text text-anchor=\"start\" x=\"303.5\" y=\"-290.8\" font-family=\"Helvetica,sans-Serif\" font-size=\"14.00\">tipo_de_cuenta ≤ 0.5</text>\n",
       "<text text-anchor=\"start\" x=\"331.5\" y=\"-275.8\" font-family=\"Helvetica,sans-Serif\" font-size=\"14.00\">gini = 0.499</text>\n",
       "<text text-anchor=\"start\" x=\"322\" y=\"-260.8\" font-family=\"Helvetica,sans-Serif\" font-size=\"14.00\">samples = 722</text>\n",
       "<text text-anchor=\"start\" x=\"312.5\" y=\"-245.8\" font-family=\"Helvetica,sans-Serif\" font-size=\"14.00\">value = [349, 373]</text>\n",
       "<text text-anchor=\"start\" x=\"339.5\" y=\"-230.8\" font-family=\"Helvetica,sans-Serif\" font-size=\"14.00\">class = n</text>\n",
       "</g>\n",
       "<!-- 0&#45;&gt;1 -->\n",
       "<g id=\"edge1\" class=\"edge\">\n",
       "<title>0&#45;&gt;1</title>\n",
       "<path fill=\"none\" stroke=\"black\" d=\"M432.96,-341.91C425.12,-332.83 416.74,-323.12 408.67,-313.77\"/>\n",
       "<polygon fill=\"black\" stroke=\"black\" points=\"411.16,-311.3 401.98,-306.02 405.86,-315.88 411.16,-311.3\"/>\n",
       "<text text-anchor=\"middle\" x=\"400.15\" y=\"-327.25\" font-family=\"Helvetica,sans-Serif\" font-size=\"14.00\">True</text>\n",
       "</g>\n",
       "<!-- 8 -->\n",
       "<g id=\"node9\" class=\"node\">\n",
       "<title>8</title>\n",
       "<path fill=\"#e5813a\" stroke=\"black\" d=\"M671.5,-306C671.5,-306 468.5,-306 468.5,-306 462.5,-306 456.5,-300 456.5,-294 456.5,-294 456.5,-235 456.5,-235 456.5,-229 462.5,-223 468.5,-223 468.5,-223 671.5,-223 671.5,-223 677.5,-223 683.5,-229 683.5,-235 683.5,-235 683.5,-294 683.5,-294 683.5,-300 677.5,-306 671.5,-306\"/>\n",
       "<text text-anchor=\"start\" x=\"464.5\" y=\"-290.8\" font-family=\"Helvetica,sans-Serif\" font-size=\"14.00\">grupo_de_puntaje_crediticio ≤ 12.0</text>\n",
       "<text text-anchor=\"start\" x=\"534.5\" y=\"-275.8\" font-family=\"Helvetica,sans-Serif\" font-size=\"14.00\">gini = 0.007</text>\n",
       "<text text-anchor=\"start\" x=\"525\" y=\"-260.8\" font-family=\"Helvetica,sans-Serif\" font-size=\"14.00\">samples = 802</text>\n",
       "<text text-anchor=\"start\" x=\"523\" y=\"-245.8\" font-family=\"Helvetica,sans-Serif\" font-size=\"14.00\">value = [799, 3]</text>\n",
       "<text text-anchor=\"start\" x=\"545\" y=\"-230.8\" font-family=\"Helvetica,sans-Serif\" font-size=\"14.00\">class = i</text>\n",
       "</g>\n",
       "<!-- 0&#45;&gt;8 -->\n",
       "<g id=\"edge8\" class=\"edge\">\n",
       "<title>0&#45;&gt;8</title>\n",
       "<path fill=\"none\" stroke=\"black\" d=\"M503.39,-341.91C511.3,-332.83 519.77,-323.12 527.92,-313.77\"/>\n",
       "<polygon fill=\"black\" stroke=\"black\" points=\"530.74,-315.86 534.67,-306.02 525.46,-311.26 530.74,-315.86\"/>\n",
       "<text text-anchor=\"middle\" x=\"536.38\" y=\"-327.26\" font-family=\"Helvetica,sans-Serif\" font-size=\"14.00\">False</text>\n",
       "</g>\n",
       "<!-- 2 -->\n",
       "<g id=\"node3\" class=\"node\">\n",
       "<title>2</title>\n",
       "<path fill=\"#efb185\" stroke=\"black\" d=\"M252,-187C252,-187 82,-187 82,-187 76,-187 70,-181 70,-175 70,-175 70,-116 70,-116 70,-110 76,-104 82,-104 82,-104 252,-104 252,-104 258,-104 264,-110 264,-116 264,-116 264,-175 264,-175 264,-181 258,-187 252,-187\"/>\n",
       "<text text-anchor=\"start\" x=\"78\" y=\"-171.8\" font-family=\"Helvetica,sans-Serif\" font-size=\"14.00\">monto_del_prestamo ≤ 7.812</text>\n",
       "<text text-anchor=\"start\" x=\"139\" y=\"-156.8\" font-family=\"Helvetica,sans-Serif\" font-size=\"14.00\">gini = 0.4</text>\n",
       "<text text-anchor=\"start\" x=\"122\" y=\"-141.8\" font-family=\"Helvetica,sans-Serif\" font-size=\"14.00\">samples = 347</text>\n",
       "<text text-anchor=\"start\" x=\"116.5\" y=\"-126.8\" font-family=\"Helvetica,sans-Serif\" font-size=\"14.00\">value = [251, 96]</text>\n",
       "<text text-anchor=\"start\" x=\"142\" y=\"-111.8\" font-family=\"Helvetica,sans-Serif\" font-size=\"14.00\">class = i</text>\n",
       "</g>\n",
       "<!-- 1&#45;&gt;2 -->\n",
       "<g id=\"edge2\" class=\"edge\">\n",
       "<title>1&#45;&gt;2</title>\n",
       "<path fill=\"none\" stroke=\"black\" d=\"M297.61,-222.91C280.7,-213.02 262.5,-202.37 245.21,-192.25\"/>\n",
       "<polygon fill=\"black\" stroke=\"black\" points=\"246.67,-189.05 236.27,-187.02 243.13,-195.09 246.67,-189.05\"/>\n",
       "</g>\n",
       "<!-- 5 -->\n",
       "<g id=\"node6\" class=\"node\">\n",
       "<title>5</title>\n",
       "<path fill=\"#7fc0ee\" stroke=\"black\" d=\"M458,-187C458,-187 294,-187 294,-187 288,-187 282,-181 282,-175 282,-175 282,-116 282,-116 282,-110 288,-104 294,-104 294,-104 458,-104 458,-104 464,-104 470,-110 470,-116 470,-116 470,-175 470,-175 470,-181 464,-187 458,-187\"/>\n",
       "<text text-anchor=\"start\" x=\"290\" y=\"-171.8\" font-family=\"Helvetica,sans-Serif\" font-size=\"14.00\">ubicacion_de_sucursal ≤ 2.5</text>\n",
       "<text text-anchor=\"start\" x=\"340.5\" y=\"-156.8\" font-family=\"Helvetica,sans-Serif\" font-size=\"14.00\">gini = 0.386</text>\n",
       "<text text-anchor=\"start\" x=\"331\" y=\"-141.8\" font-family=\"Helvetica,sans-Serif\" font-size=\"14.00\">samples = 375</text>\n",
       "<text text-anchor=\"start\" x=\"325.5\" y=\"-126.8\" font-family=\"Helvetica,sans-Serif\" font-size=\"14.00\">value = [98, 277]</text>\n",
       "<text text-anchor=\"start\" x=\"348.5\" y=\"-111.8\" font-family=\"Helvetica,sans-Serif\" font-size=\"14.00\">class = n</text>\n",
       "</g>\n",
       "<!-- 1&#45;&gt;5 -->\n",
       "<g id=\"edge5\" class=\"edge\">\n",
       "<title>1&#45;&gt;5</title>\n",
       "<path fill=\"none\" stroke=\"black\" d=\"M370.12,-222.91C370.76,-214.56 371.45,-205.67 372.11,-197.02\"/>\n",
       "<polygon fill=\"black\" stroke=\"black\" points=\"375.61,-197.26 372.88,-187.02 368.63,-196.72 375.61,-197.26\"/>\n",
       "</g>\n",
       "<!-- 3 -->\n",
       "<g id=\"node4\" class=\"node\">\n",
       "<title>3</title>\n",
       "<path fill=\"#f7d6bf\" stroke=\"black\" d=\"M98,-68C98,-68 12,-68 12,-68 6,-68 0,-62 0,-56 0,-56 0,-12 0,-12 0,-6 6,0 12,0 12,0 98,0 98,0 104,0 110,-6 110,-12 110,-12 110,-56 110,-56 110,-62 104,-68 98,-68\"/>\n",
       "<text text-anchor=\"start\" x=\"19.5\" y=\"-52.8\" font-family=\"Helvetica,sans-Serif\" font-size=\"14.00\">gini = 0.481</text>\n",
       "<text text-anchor=\"start\" x=\"14\" y=\"-37.8\" font-family=\"Helvetica,sans-Serif\" font-size=\"14.00\">samples = 67</text>\n",
       "<text text-anchor=\"start\" x=\"8\" y=\"-22.8\" font-family=\"Helvetica,sans-Serif\" font-size=\"14.00\">value = [40, 27]</text>\n",
       "<text text-anchor=\"start\" x=\"30\" y=\"-7.8\" font-family=\"Helvetica,sans-Serif\" font-size=\"14.00\">class = i</text>\n",
       "</g>\n",
       "<!-- 2&#45;&gt;3 -->\n",
       "<g id=\"edge3\" class=\"edge\">\n",
       "<title>2&#45;&gt;3</title>\n",
       "<path fill=\"none\" stroke=\"black\" d=\"M125.3,-103.73C115.87,-94.51 105.87,-84.74 96.46,-75.53\"/>\n",
       "<polygon fill=\"black\" stroke=\"black\" points=\"98.66,-72.79 89.06,-68.3 93.76,-77.79 98.66,-72.79\"/>\n",
       "</g>\n",
       "<!-- 4 -->\n",
       "<g id=\"node5\" class=\"node\">\n",
       "<title>4</title>\n",
       "<path fill=\"#eeaa7a\" stroke=\"black\" d=\"M233.5,-68C233.5,-68 140.5,-68 140.5,-68 134.5,-68 128.5,-62 128.5,-56 128.5,-56 128.5,-12 128.5,-12 128.5,-6 134.5,0 140.5,0 140.5,0 233.5,0 233.5,0 239.5,0 245.5,-6 245.5,-12 245.5,-12 245.5,-56 245.5,-56 245.5,-62 239.5,-68 233.5,-68\"/>\n",
       "<text text-anchor=\"start\" x=\"151.5\" y=\"-52.8\" font-family=\"Helvetica,sans-Serif\" font-size=\"14.00\">gini = 0.371</text>\n",
       "<text text-anchor=\"start\" x=\"142\" y=\"-37.8\" font-family=\"Helvetica,sans-Serif\" font-size=\"14.00\">samples = 280</text>\n",
       "<text text-anchor=\"start\" x=\"136.5\" y=\"-22.8\" font-family=\"Helvetica,sans-Serif\" font-size=\"14.00\">value = [211, 69]</text>\n",
       "<text text-anchor=\"start\" x=\"162\" y=\"-7.8\" font-family=\"Helvetica,sans-Serif\" font-size=\"14.00\">class = i</text>\n",
       "</g>\n",
       "<!-- 2&#45;&gt;4 -->\n",
       "<g id=\"edge4\" class=\"edge\">\n",
       "<title>2&#45;&gt;4</title>\n",
       "<path fill=\"none\" stroke=\"black\" d=\"M174.45,-103.73C175.96,-95.43 177.56,-86.67 179.09,-78.28\"/>\n",
       "<polygon fill=\"black\" stroke=\"black\" points=\"182.56,-78.77 180.92,-68.3 175.68,-77.51 182.56,-78.77\"/>\n",
       "</g>\n",
       "<!-- 6 -->\n",
       "<g id=\"node7\" class=\"node\">\n",
       "<title>6</title>\n",
       "<path fill=\"#a0d0f3\" stroke=\"black\" d=\"M400,-68C400,-68 314,-68 314,-68 308,-68 302,-62 302,-56 302,-56 302,-12 302,-12 302,-6 308,0 314,0 314,0 400,0 400,0 406,0 412,-6 412,-12 412,-12 412,-56 412,-56 412,-62 406,-68 400,-68\"/>\n",
       "<text text-anchor=\"start\" x=\"325\" y=\"-52.8\" font-family=\"Helvetica,sans-Serif\" font-size=\"14.00\">gini = 0.45</text>\n",
       "<text text-anchor=\"start\" x=\"312\" y=\"-37.8\" font-family=\"Helvetica,sans-Serif\" font-size=\"14.00\">samples = 108</text>\n",
       "<text text-anchor=\"start\" x=\"310\" y=\"-22.8\" font-family=\"Helvetica,sans-Serif\" font-size=\"14.00\">value = [37, 71]</text>\n",
       "<text text-anchor=\"start\" x=\"329.5\" y=\"-7.8\" font-family=\"Helvetica,sans-Serif\" font-size=\"14.00\">class = n</text>\n",
       "</g>\n",
       "<!-- 5&#45;&gt;6 -->\n",
       "<g id=\"edge6\" class=\"edge\">\n",
       "<title>5&#45;&gt;6</title>\n",
       "<path fill=\"none\" stroke=\"black\" d=\"M368.93,-103.73C367.48,-95.43 365.97,-86.67 364.51,-78.28\"/>\n",
       "<polygon fill=\"black\" stroke=\"black\" points=\"367.94,-77.55 362.78,-68.3 361.04,-78.75 367.94,-77.55\"/>\n",
       "</g>\n",
       "<!-- 7 -->\n",
       "<g id=\"node8\" class=\"node\">\n",
       "<title>7</title>\n",
       "<path fill=\"#74baed\" stroke=\"black\" d=\"M535.5,-68C535.5,-68 442.5,-68 442.5,-68 436.5,-68 430.5,-62 430.5,-56 430.5,-56 430.5,-12 430.5,-12 430.5,-6 436.5,0 442.5,0 442.5,0 535.5,0 535.5,0 541.5,0 547.5,-6 547.5,-12 547.5,-12 547.5,-56 547.5,-56 547.5,-62 541.5,-68 535.5,-68\"/>\n",
       "<text text-anchor=\"start\" x=\"453.5\" y=\"-52.8\" font-family=\"Helvetica,sans-Serif\" font-size=\"14.00\">gini = 0.353</text>\n",
       "<text text-anchor=\"start\" x=\"444\" y=\"-37.8\" font-family=\"Helvetica,sans-Serif\" font-size=\"14.00\">samples = 267</text>\n",
       "<text text-anchor=\"start\" x=\"438.5\" y=\"-22.8\" font-family=\"Helvetica,sans-Serif\" font-size=\"14.00\">value = [61, 206]</text>\n",
       "<text text-anchor=\"start\" x=\"461.5\" y=\"-7.8\" font-family=\"Helvetica,sans-Serif\" font-size=\"14.00\">class = n</text>\n",
       "</g>\n",
       "<!-- 5&#45;&gt;7 -->\n",
       "<g id=\"edge7\" class=\"edge\">\n",
       "<title>5&#45;&gt;7</title>\n",
       "<path fill=\"none\" stroke=\"black\" d=\"M418.08,-103.73C427.68,-94.42 437.87,-84.54 447.45,-75.26\"/>\n",
       "<polygon fill=\"black\" stroke=\"black\" points=\"449.89,-77.77 454.64,-68.3 445.02,-72.75 449.89,-77.77\"/>\n",
       "</g>\n",
       "<!-- 9 -->\n",
       "<g id=\"node10\" class=\"node\">\n",
       "<title>9</title>\n",
       "<path fill=\"#e58139\" stroke=\"black\" d=\"M604,-179.5C604,-179.5 518,-179.5 518,-179.5 512,-179.5 506,-173.5 506,-167.5 506,-167.5 506,-123.5 506,-123.5 506,-117.5 512,-111.5 518,-111.5 518,-111.5 604,-111.5 604,-111.5 610,-111.5 616,-117.5 616,-123.5 616,-123.5 616,-167.5 616,-167.5 616,-173.5 610,-179.5 604,-179.5\"/>\n",
       "<text text-anchor=\"start\" x=\"533\" y=\"-164.3\" font-family=\"Helvetica,sans-Serif\" font-size=\"14.00\">gini = 0.0</text>\n",
       "<text text-anchor=\"start\" x=\"516\" y=\"-149.3\" font-family=\"Helvetica,sans-Serif\" font-size=\"14.00\">samples = 798</text>\n",
       "<text text-anchor=\"start\" x=\"514\" y=\"-134.3\" font-family=\"Helvetica,sans-Serif\" font-size=\"14.00\">value = [798, 0]</text>\n",
       "<text text-anchor=\"start\" x=\"536\" y=\"-119.3\" font-family=\"Helvetica,sans-Serif\" font-size=\"14.00\">class = i</text>\n",
       "</g>\n",
       "<!-- 8&#45;&gt;9 -->\n",
       "<g id=\"edge9\" class=\"edge\">\n",
       "<title>8&#45;&gt;9</title>\n",
       "<path fill=\"none\" stroke=\"black\" d=\"M566.88,-222.91C566.05,-212.2 565.16,-200.62 564.33,-189.78\"/>\n",
       "<polygon fill=\"black\" stroke=\"black\" points=\"567.81,-189.37 563.55,-179.67 560.83,-189.91 567.81,-189.37\"/>\n",
       "</g>\n",
       "<!-- 10 -->\n",
       "<g id=\"node11\" class=\"node\">\n",
       "<title>10</title>\n",
       "<path fill=\"#7bbeee\" stroke=\"black\" d=\"M831.5,-187C831.5,-187 646.5,-187 646.5,-187 640.5,-187 634.5,-181 634.5,-175 634.5,-175 634.5,-116 634.5,-116 634.5,-110 640.5,-104 646.5,-104 646.5,-104 831.5,-104 831.5,-104 837.5,-104 843.5,-110 843.5,-116 843.5,-116 843.5,-175 843.5,-175 843.5,-181 837.5,-187 831.5,-187\"/>\n",
       "<text text-anchor=\"start\" x=\"642.5\" y=\"-171.8\" font-family=\"Helvetica,sans-Serif\" font-size=\"14.00\">monto_del_prestamo ≤ 62995.0</text>\n",
       "<text text-anchor=\"start\" x=\"703.5\" y=\"-156.8\" font-family=\"Helvetica,sans-Serif\" font-size=\"14.00\">gini = 0.375</text>\n",
       "<text text-anchor=\"start\" x=\"701.5\" y=\"-141.8\" font-family=\"Helvetica,sans-Serif\" font-size=\"14.00\">samples = 4</text>\n",
       "<text text-anchor=\"start\" x=\"699.5\" y=\"-126.8\" font-family=\"Helvetica,sans-Serif\" font-size=\"14.00\">value = [1, 3]</text>\n",
       "<text text-anchor=\"start\" x=\"711.5\" y=\"-111.8\" font-family=\"Helvetica,sans-Serif\" font-size=\"14.00\">class = n</text>\n",
       "</g>\n",
       "<!-- 8&#45;&gt;10 -->\n",
       "<g id=\"edge10\" class=\"edge\">\n",
       "<title>8&#45;&gt;10</title>\n",
       "<path fill=\"none\" stroke=\"black\" d=\"M628.63,-222.91C642.66,-213.2 657.74,-202.76 672.11,-192.81\"/>\n",
       "<polygon fill=\"black\" stroke=\"black\" points=\"674.24,-195.59 680.47,-187.02 670.26,-189.84 674.24,-195.59\"/>\n",
       "</g>\n",
       "<!-- 11 -->\n",
       "<g id=\"node12\" class=\"node\">\n",
       "<title>11</title>\n",
       "<path fill=\"#399de5\" stroke=\"black\" d=\"M692.5,-68C692.5,-68 621.5,-68 621.5,-68 615.5,-68 609.5,-62 609.5,-56 609.5,-56 609.5,-12 609.5,-12 609.5,-6 615.5,0 621.5,0 621.5,0 692.5,0 692.5,0 698.5,0 704.5,-6 704.5,-12 704.5,-12 704.5,-56 704.5,-56 704.5,-62 698.5,-68 692.5,-68\"/>\n",
       "<text text-anchor=\"start\" x=\"629\" y=\"-52.8\" font-family=\"Helvetica,sans-Serif\" font-size=\"14.00\">gini = 0.0</text>\n",
       "<text text-anchor=\"start\" x=\"619.5\" y=\"-37.8\" font-family=\"Helvetica,sans-Serif\" font-size=\"14.00\">samples = 3</text>\n",
       "<text text-anchor=\"start\" x=\"617.5\" y=\"-22.8\" font-family=\"Helvetica,sans-Serif\" font-size=\"14.00\">value = [0, 3]</text>\n",
       "<text text-anchor=\"start\" x=\"629.5\" y=\"-7.8\" font-family=\"Helvetica,sans-Serif\" font-size=\"14.00\">class = n</text>\n",
       "</g>\n",
       "<!-- 10&#45;&gt;11 -->\n",
       "<g id=\"edge11\" class=\"edge\">\n",
       "<title>10&#45;&gt;11</title>\n",
       "<path fill=\"none\" stroke=\"black\" d=\"M708.47,-103.73C701.77,-94.79 694.68,-85.32 687.97,-76.36\"/>\n",
       "<polygon fill=\"black\" stroke=\"black\" points=\"690.73,-74.21 681.94,-68.3 685.13,-78.4 690.73,-74.21\"/>\n",
       "</g>\n",
       "<!-- 12 -->\n",
       "<g id=\"node13\" class=\"node\">\n",
       "<title>12</title>\n",
       "<path fill=\"#e58139\" stroke=\"black\" d=\"M805.5,-68C805.5,-68 734.5,-68 734.5,-68 728.5,-68 722.5,-62 722.5,-56 722.5,-56 722.5,-12 722.5,-12 722.5,-6 728.5,0 734.5,0 734.5,0 805.5,0 805.5,0 811.5,0 817.5,-6 817.5,-12 817.5,-12 817.5,-56 817.5,-56 817.5,-62 811.5,-68 805.5,-68\"/>\n",
       "<text text-anchor=\"start\" x=\"742\" y=\"-52.8\" font-family=\"Helvetica,sans-Serif\" font-size=\"14.00\">gini = 0.0</text>\n",
       "<text text-anchor=\"start\" x=\"732.5\" y=\"-37.8\" font-family=\"Helvetica,sans-Serif\" font-size=\"14.00\">samples = 1</text>\n",
       "<text text-anchor=\"start\" x=\"730.5\" y=\"-22.8\" font-family=\"Helvetica,sans-Serif\" font-size=\"14.00\">value = [1, 0]</text>\n",
       "<text text-anchor=\"start\" x=\"745\" y=\"-7.8\" font-family=\"Helvetica,sans-Serif\" font-size=\"14.00\">class = i</text>\n",
       "</g>\n",
       "<!-- 10&#45;&gt;12 -->\n",
       "<g id=\"edge12\" class=\"edge\">\n",
       "<title>10&#45;&gt;12</title>\n",
       "<path fill=\"none\" stroke=\"black\" d=\"M750.54,-103.73C752.92,-95.34 755.43,-86.47 757.82,-78.01\"/>\n",
       "<polygon fill=\"black\" stroke=\"black\" points=\"761.22,-78.87 760.57,-68.3 754.48,-76.97 761.22,-78.87\"/>\n",
       "</g>\n",
       "</g>\n",
       "</svg>\n"
      ],
      "text/plain": [
       "<graphviz.sources.Source at 0x1450da4d0>"
      ]
     },
     "execution_count": 1713,
     "metadata": {},
     "output_type": "execute_result"
    }
   ],
   "source": [
    "features = X.columns\n",
    "targets = \"incumplimiento\" # siempre dejo la variable encodeada en target\n",
    "data = export_graphviz(clf, out_file=None, feature_names=features, class_names=targets, filled=True, rounded=True, special_characters=True)\n",
    "graph = graphviz.Source(data)\n",
    "graph"
   ]
  },
  {
   "cell_type": "code",
   "execution_count": 1714,
   "metadata": {},
   "outputs": [
    {
     "data": {
      "text/plain": [
       "'tree_image.png'"
      ]
     },
     "execution_count": 1714,
     "metadata": {},
     "output_type": "execute_result"
    }
   ],
   "source": [
    "graph.format = 'png'\n",
    "graph.render(filename='tree_image', directory='./', cleanup=True)"
   ]
  }
 ],
 "metadata": {
  "kernelspec": {
   "display_name": "Python 3",
   "language": "python",
   "name": "python3"
  },
  "language_info": {
   "codemirror_mode": {
    "name": "ipython",
    "version": 3
   },
   "file_extension": ".py",
   "mimetype": "text/x-python",
   "name": "python",
   "nbconvert_exporter": "python",
   "pygments_lexer": "ipython3",
   "version": "3.11.5"
  }
 },
 "nbformat": 4,
 "nbformat_minor": 5
}
