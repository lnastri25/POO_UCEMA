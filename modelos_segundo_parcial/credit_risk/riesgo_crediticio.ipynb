{
 "cells": [
  {
   "cell_type": "markdown",
   "id": "396a1d4a3c30a742",
   "metadata": {
    "collapsed": false
   },
   "source": [
    "# Credit Risk\n",
    "\n",
    "https://drive.google.com/file/d/18fuLcW2ZSi4gz_ENkDFpySuS5s53GNYf/view?usp=sharing\n",
    "\n",
    "El conjunto de datos proporcionado representa información sobre riesgo crediticio generada por un banco internacional con operaciones en Argentina. Estos datos han sido transformados y enriquecidos para reflejar diferentes situaciones y comportamientos de pago de los clientes que podrían afectar la precisión de los modelos de predicción de riesgos. El ejercicio consiste en identificar y analizar posibles sesgos en variables clave del conjunto de datos, tales como la edad del cliente, el monto del préstamo y el tipo de empleo, utilizando métodos de estadística descriptiva, pruebas de hipótesis y visualizaciones.\n",
    "\n",
    "\n",
    "**Parte 1: Comprensión y Preparación de Datos**\n",
    "\n",
    "Explorar el conjunto de datos. Utiliza métodos descriptivos para obtener una comprensión general de las características del conjunto de datos (por ejemplo, .describe(), .info()). Identificar valores atípicos. Genera estadísticas descriptivas y visualizaciones (boxplots, scatter plots) para identificar outliers en 'monto_del_prestamo'.\n",
    "\n",
    "**Parte 2: Análisis Exploratorio de Datos**\n",
    "Análisis de sesgos por edad. Usa groupby para calcular la tasa de incumplimiento promedio por grupo de edad. Crea histogramas de edad para deudores y no deudores. Realiza un t-test para comparar las tasas de incumplimiento entre menores de edad y otros grupos de edad. Análisis de sesgos por monto del préstamo. Genera histogramas de 'monto_del_prestamo' para visualizar la distribución de los montos para deudores y no deudores. Compara las distribuciones de 'monto_del_prestamo' entre buenos y malos pagadores con un t-test. Análisis de sesgos por tipo de empleo. Usa groupby para comparar las tasas de incumplimiento entre diferentes tipos de empleo. Explora la relación entre el estado laboral y la tasa de incumplimiento con visualizaciones adecuadas.\n",
    "\n",
    "**Parte 3: Preparación de Datos para Modelado**\n",
    "Limpieza de Datos. Asegúrate de que todos los datos estén correctamente codificados y de que no haya valores faltantes o irrelevantes en el conjunto de datos.\n",
    "Selección de Características. Decide qué variables incluir en el modelo. Considera excluir variables con sesgos introducidos artificialmente para evaluar su impacto en el rendimiento del modelo.\n",
    "\n",
    "**Parte 4: Modelado**\n",
    "Entrenar un Modelo de Clasificación. Utiliza DecisionTreeClassifier para entrenar un modelo predictivo con los datos procesados.\n",
    "Evaluación del Modelo. Genera una matriz de confusión para evaluar el rendimiento del modelo. Calcula la precisión, el recall y la exactitud del modelo.\n",
    "\n"
   ]
  },
  {
   "cell_type": "code",
   "execution_count": 666,
   "id": "f0633e8236021ba1",
   "metadata": {
    "ExecuteTime": {
     "end_time": "2023-11-09T11:18:44.326854Z",
     "start_time": "2023-11-09T11:18:44.326854Z"
    },
    "collapsed": false
   },
   "outputs": [],
   "source": [
    "import seaborn as sns\n",
    "import numpy as np\n",
    "import pandas as pd\n",
    "from sklearn.model_selection import train_test_split\n",
    "from sklearn.tree import DecisionTreeClassifier\n",
    "from sklearn.metrics import confusion_matrix, accuracy_score, precision_score, recall_score\n",
    "import seaborn as sns"
   ]
  },
  {
   "cell_type": "code",
   "execution_count": 667,
   "id": "d235f8cd0afbcf23",
   "metadata": {
    "ExecuteTime": {
     "end_time": "2023-11-09T11:20:07.812111500Z",
     "start_time": "2023-11-09T11:20:07.753461100Z"
    },
    "collapsed": false
   },
   "outputs": [],
   "source": [
    "df_credit_risk = pd.read_csv(\"/Users/lolonastri/Desktop/POO_UCEMA/modelos_segundo_parcial/credit_risk/credit_risk.csv\")\n",
    "df_credit_risk = df_credit_risk.copy()"
   ]
  },
  {
   "cell_type": "code",
   "execution_count": 668,
   "metadata": {},
   "outputs": [
    {
     "data": {
      "text/html": [
       "<div>\n",
       "<style scoped>\n",
       "    .dataframe tbody tr th:only-of-type {\n",
       "        vertical-align: middle;\n",
       "    }\n",
       "\n",
       "    .dataframe tbody tr th {\n",
       "        vertical-align: top;\n",
       "    }\n",
       "\n",
       "    .dataframe thead th {\n",
       "        text-align: right;\n",
       "    }\n",
       "</style>\n",
       "<table border=\"1\" class=\"dataframe\">\n",
       "  <thead>\n",
       "    <tr style=\"text-align: right;\">\n",
       "      <th></th>\n",
       "      <th></th>\n",
       "      <th>incumplimiento</th>\n",
       "      <th>tipo_de_cuenta</th>\n",
       "      <th>genero</th>\n",
       "      <th>edad_del_cliente</th>\n",
       "      <th>co_solicitantes</th>\n",
       "      <th>dependientes</th>\n",
       "      <th>monto_del_prestamo</th>\n",
       "      <th>ubicacion_de_sucursal</th>\n",
       "      <th>nivel_de_producto</th>\n",
       "      <th>estatus_laboral</th>\n",
       "      <th>es_sostenedor_principal</th>\n",
       "      <th>grupo_de_puntaje_crediticio</th>\n",
       "      <th>area_residencial</th>\n",
       "      <th>estado_actual_de_la_cuenta</th>\n",
       "      <th>tiene_cuenta_conjunta</th>\n",
       "      <th>indicador_aleatorio</th>\n",
       "      <th>residencial_Rural</th>\n",
       "      <th>residencial_Suburbana</th>\n",
       "      <th>residencial_Urbana</th>\n",
       "    </tr>\n",
       "  </thead>\n",
       "  <tbody>\n",
       "    <tr>\n",
       "      <th>0</th>\n",
       "      <td>0</td>\n",
       "      <td>1.0</td>\n",
       "      <td>3</td>\n",
       "      <td>male</td>\n",
       "      <td>26.618129</td>\n",
       "      <td>1</td>\n",
       "      <td>0</td>\n",
       "      <td>7.2500</td>\n",
       "      <td>Suburbana</td>\n",
       "      <td>Third</td>\n",
       "      <td>man</td>\n",
       "      <td>True</td>\n",
       "      <td></td>\n",
       "      <td>Urbana</td>\n",
       "      <td>no</td>\n",
       "      <td>0</td>\n",
       "      <td>0.9494354298674084</td>\n",
       "      <td>0.0</td>\n",
       "      <td>0.0</td>\n",
       "      <td>1.0</td>\n",
       "    </tr>\n",
       "    <tr>\n",
       "      <th>1</th>\n",
       "      <td>1</td>\n",
       "      <td>1.0</td>\n",
       "      <td>3</td>\n",
       "      <td>female</td>\n",
       "      <td>27.395476</td>\n",
       "      <td>1</td>\n",
       "      <td>0</td>\n",
       "      <td>71.2833</td>\n",
       "      <td>Central</td>\n",
       "      <td>First</td>\n",
       "      <td>woman</td>\n",
       "      <td>False</td>\n",
       "      <td>C</td>\n",
       "      <td>Urbana</td>\n",
       "      <td>yes</td>\n",
       "      <td>0</td>\n",
       "      <td>0.0152425151741839</td>\n",
       "      <td>0.0</td>\n",
       "      <td>0.0</td>\n",
       "      <td>1.0</td>\n",
       "    </tr>\n",
       "    <tr>\n",
       "      <th>2</th>\n",
       "      <td>2</td>\n",
       "      <td>1.0</td>\n",
       "      <td>1</td>\n",
       "      <td>female</td>\n",
       "      <td>48.696543</td>\n",
       "      <td>0</td>\n",
       "      <td>0</td>\n",
       "      <td>7.9250</td>\n",
       "      <td>Suburbana</td>\n",
       "      <td>Third</td>\n",
       "      <td>woman</td>\n",
       "      <td>False</td>\n",
       "      <td></td>\n",
       "      <td>Rural</td>\n",
       "      <td>yes</td>\n",
       "      <td>1</td>\n",
       "      <td>0.6723719434749519</td>\n",
       "      <td>1.0</td>\n",
       "      <td>0.0</td>\n",
       "      <td>0.0</td>\n",
       "    </tr>\n",
       "    <tr>\n",
       "      <th>3</th>\n",
       "      <td>3</td>\n",
       "      <td>1.0</td>\n",
       "      <td>3</td>\n",
       "      <td>female</td>\n",
       "      <td>25.491890</td>\n",
       "      <td>1</td>\n",
       "      <td>0</td>\n",
       "      <td>53.1000</td>\n",
       "      <td>Suburbana</td>\n",
       "      <td>First</td>\n",
       "      <td>woman</td>\n",
       "      <td>False</td>\n",
       "      <td>C</td>\n",
       "      <td>Urbana</td>\n",
       "      <td>yes</td>\n",
       "      <td>0</td>\n",
       "      <td>0.4035980372889746</td>\n",
       "      <td>0.0</td>\n",
       "      <td>0.0</td>\n",
       "      <td>1.0</td>\n",
       "    </tr>\n",
       "    <tr>\n",
       "      <th>4</th>\n",
       "      <td>4</td>\n",
       "      <td>0.0</td>\n",
       "      <td>1</td>\n",
       "      <td>male</td>\n",
       "      <td>41.038217</td>\n",
       "      <td>0</td>\n",
       "      <td>0</td>\n",
       "      <td>8.0500</td>\n",
       "      <td>Suburbana</td>\n",
       "      <td>Third</td>\n",
       "      <td>man</td>\n",
       "      <td>True</td>\n",
       "      <td></td>\n",
       "      <td>Suburbana</td>\n",
       "      <td>no</td>\n",
       "      <td>1</td>\n",
       "      <td>0.8529009409462249</td>\n",
       "      <td>0.0</td>\n",
       "      <td>1.0</td>\n",
       "      <td>0.0</td>\n",
       "    </tr>\n",
       "  </tbody>\n",
       "</table>\n",
       "</div>"
      ],
      "text/plain": [
       "         incumplimiento   tipo_de_cuenta   genero   edad_del_cliente     \\\n",
       "0     0              1.0  3                male               26.618129   \n",
       "1     1              1.0  3                female             27.395476   \n",
       "2     2              1.0  1                female             48.696543   \n",
       "3     3              1.0  3                female             25.491890   \n",
       "4     4              0.0  1                male               41.038217   \n",
       "\n",
       "   co_solicitantes   dependientes   monto_del_prestamo   \\\n",
       "0                 1              0               7.2500   \n",
       "1                 1              0              71.2833   \n",
       "2                 0              0               7.9250   \n",
       "3                 1              0              53.1000   \n",
       "4                 0              0               8.0500   \n",
       "\n",
       "   ubicacion_de_sucursal   nivel_de_producto   estatus_laboral            \\\n",
       "0  Suburbana               Third               man                         \n",
       "1  Central                 First               woman                       \n",
       "2  Suburbana               Third               woman                       \n",
       "3  Suburbana               First               woman                       \n",
       "4  Suburbana               Third               man                         \n",
       "\n",
       "   es_sostenedor_principal   grupo_de_puntaje_crediticio   area_residencial   \\\n",
       "0  True                                                    Urbana              \n",
       "1  False                     C                             Urbana              \n",
       "2  False                                                   Rural               \n",
       "3  False                     C                             Urbana              \n",
       "4  True                                                    Suburbana           \n",
       "\n",
       "   estado_actual_de_la_cuenta   tiene_cuenta_conjunta   \\\n",
       "0  no                           0                        \n",
       "1  yes                          0                        \n",
       "2  yes                          1                        \n",
       "3  yes                          0                        \n",
       "4  no                           1                        \n",
       "\n",
       "   indicador_aleatorio      residencial_Rural   residencial_Suburbana   \\\n",
       "0  0.9494354298674084                     0.0                     0.0    \n",
       "1  0.0152425151741839                     0.0                     0.0    \n",
       "2  0.6723719434749519                     1.0                     0.0    \n",
       "3  0.4035980372889746                     0.0                     0.0    \n",
       "4  0.8529009409462249                     0.0                     1.0    \n",
       "\n",
       "   residencial_Urbana  \n",
       "0                 1.0  \n",
       "1                 1.0  \n",
       "2                 0.0  \n",
       "3                 1.0  \n",
       "4                 0.0  "
      ]
     },
     "execution_count": 668,
     "metadata": {},
     "output_type": "execute_result"
    }
   ],
   "source": [
    "df_credit_risk.head()"
   ]
  },
  {
   "cell_type": "markdown",
   "metadata": {},
   "source": [
    "___"
   ]
  },
  {
   "cell_type": "markdown",
   "metadata": {},
   "source": [
    "## **Parte 1: Comprensión y Preparación de Datos**"
   ]
  },
  {
   "cell_type": "code",
   "execution_count": 669,
   "metadata": {},
   "outputs": [
    {
     "data": {
      "text/plain": [
       "Index(['    ', 'incumplimiento ', 'tipo_de_cuenta ', 'genero ',\n",
       "       'edad_del_cliente   ', 'co_solicitantes ', 'dependientes ',\n",
       "       'monto_del_prestamo ', 'ubicacion_de_sucursal ', 'nivel_de_producto ',\n",
       "       'estatus_laboral          ', 'es_sostenedor_principal ',\n",
       "       'grupo_de_puntaje_crediticio ', 'area_residencial ',\n",
       "       'estado_actual_de_la_cuenta ', 'tiene_cuenta_conjunta ',\n",
       "       'indicador_aleatorio    ', 'residencial_Rural ',\n",
       "       'residencial_Suburbana ', 'residencial_Urbana'],\n",
       "      dtype='object')"
      ]
     },
     "execution_count": 669,
     "metadata": {},
     "output_type": "execute_result"
    }
   ],
   "source": [
    "df_credit_risk.columns"
   ]
  },
  {
   "cell_type": "code",
   "execution_count": 670,
   "metadata": {},
   "outputs": [],
   "source": [
    "from funciones.eda_y_ml import whitespace_remover_and_columns\n",
    "df_credit_risk = whitespace_remover_and_columns(df_credit_risk)"
   ]
  },
  {
   "cell_type": "markdown",
   "metadata": {},
   "source": [
    "### → Validación de la data"
   ]
  },
  {
   "cell_type": "code",
   "execution_count": 671,
   "metadata": {},
   "outputs": [
    {
     "data": {
      "text/plain": [
       "Index(['', 'incumplimiento', 'tipo_de_cuenta', 'genero', 'edad_del_cliente',\n",
       "       'co_solicitantes', 'dependientes', 'monto_del_prestamo',\n",
       "       'ubicacion_de_sucursal', 'nivel_de_producto', 'estatus_laboral',\n",
       "       'es_sostenedor_principal', 'grupo_de_puntaje_crediticio',\n",
       "       'area_residencial', 'estado_actual_de_la_cuenta',\n",
       "       'tiene_cuenta_conjunta', 'indicador_aleatorio', 'residencial_Rural',\n",
       "       'residencial_Suburbana', 'residencial_Urbana'],\n",
       "      dtype='object')"
      ]
     },
     "execution_count": 671,
     "metadata": {},
     "output_type": "execute_result"
    }
   ],
   "source": [
    "df_credit_risk.columns"
   ]
  },
  {
   "cell_type": "code",
   "execution_count": 672,
   "metadata": {},
   "outputs": [
    {
     "name": "stdout",
     "output_type": "stream",
     "text": [
      "El dataset tiene 1906 filas.\n",
      "El dataset tiene 20 columnas.\n"
     ]
    }
   ],
   "source": [
    "print(\"El dataset tiene \" + str(df_credit_risk.shape[0])+ \" filas.\")\n",
    "print(\"El dataset tiene \" + str(df_credit_risk.shape[1])+ \" columnas.\")"
   ]
  },
  {
   "cell_type": "code",
   "execution_count": 673,
   "metadata": {},
   "outputs": [
    {
     "data": {
      "text/html": [
       "<div>\n",
       "<style scoped>\n",
       "    .dataframe tbody tr th:only-of-type {\n",
       "        vertical-align: middle;\n",
       "    }\n",
       "\n",
       "    .dataframe tbody tr th {\n",
       "        vertical-align: top;\n",
       "    }\n",
       "\n",
       "    .dataframe thead th {\n",
       "        text-align: right;\n",
       "    }\n",
       "</style>\n",
       "<table border=\"1\" class=\"dataframe\">\n",
       "  <thead>\n",
       "    <tr style=\"text-align: right;\">\n",
       "      <th></th>\n",
       "      <th>Unique_Values</th>\n",
       "      <th>Num_Unique_Values</th>\n",
       "      <th>Num_Null_Values</th>\n",
       "      <th>%_Null_Values</th>\n",
       "      <th>Sample_Unique_Values</th>\n",
       "    </tr>\n",
       "  </thead>\n",
       "  <tbody>\n",
       "    <tr>\n",
       "      <th></th>\n",
       "      <td>NaN</td>\n",
       "      <td>1906.0</td>\n",
       "      <td>0</td>\n",
       "      <td>0.0</td>\n",
       "      <td>[144, 380, 769, 43, 484]</td>\n",
       "    </tr>\n",
       "    <tr>\n",
       "      <th>incumplimiento</th>\n",
       "      <td>NaN</td>\n",
       "      <td>1906.0</td>\n",
       "      <td>0</td>\n",
       "      <td>0.0</td>\n",
       "      <td>[0.0, 0.0, 1.0, 0.0, 0.0]</td>\n",
       "    </tr>\n",
       "    <tr>\n",
       "      <th>tipo_de_cuenta</th>\n",
       "      <td>6</td>\n",
       "      <td>1906</td>\n",
       "      <td>0</td>\n",
       "      <td>0.0</td>\n",
       "      <td>[Ahorro, 1, 3, Ahorro, Ahorro]</td>\n",
       "    </tr>\n",
       "    <tr>\n",
       "      <th>genero</th>\n",
       "      <td>4</td>\n",
       "      <td>1906</td>\n",
       "      <td>0</td>\n",
       "      <td>0.0</td>\n",
       "      <td>[Hombre, female, male, Mujer, Mujer]</td>\n",
       "    </tr>\n",
       "    <tr>\n",
       "      <th>edad_del_cliente</th>\n",
       "      <td>NaN</td>\n",
       "      <td>1906.0</td>\n",
       "      <td>0</td>\n",
       "      <td>0.0</td>\n",
       "      <td>[23.0, 47.52699895150855, 25.337584285871625, ...</td>\n",
       "    </tr>\n",
       "    <tr>\n",
       "      <th>co_solicitantes</th>\n",
       "      <td>NaN</td>\n",
       "      <td>1906.0</td>\n",
       "      <td>0</td>\n",
       "      <td>0.0</td>\n",
       "      <td>[2, 0, 0, 1, 1]</td>\n",
       "    </tr>\n",
       "    <tr>\n",
       "      <th>dependientes</th>\n",
       "      <td>NaN</td>\n",
       "      <td>1906.0</td>\n",
       "      <td>0</td>\n",
       "      <td>0.0</td>\n",
       "      <td>[2, 0, 0, 0, 0]</td>\n",
       "    </tr>\n",
       "    <tr>\n",
       "      <th>monto_del_prestamo</th>\n",
       "      <td>NaN</td>\n",
       "      <td>1906.0</td>\n",
       "      <td>0</td>\n",
       "      <td>0.0</td>\n",
       "      <td>[12374.0, 227.525, 8.3625, 16235.0, 49920.0]</td>\n",
       "    </tr>\n",
       "    <tr>\n",
       "      <th>ubicacion_de_sucursal</th>\n",
       "      <td>7</td>\n",
       "      <td>1906</td>\n",
       "      <td>0</td>\n",
       "      <td>0.0</td>\n",
       "      <td>[Suiza, Central, Suburbana, Suiza, Suiza]</td>\n",
       "    </tr>\n",
       "    <tr>\n",
       "      <th>nivel_de_producto</th>\n",
       "      <td>6</td>\n",
       "      <td>1906</td>\n",
       "      <td>0</td>\n",
       "      <td>0.0</td>\n",
       "      <td>[Intermedio, First, Third, Basico, Intermedio]</td>\n",
       "    </tr>\n",
       "    <tr>\n",
       "      <th>estatus_laboral</th>\n",
       "      <td>10</td>\n",
       "      <td>1906</td>\n",
       "      <td>0</td>\n",
       "      <td>0.0</td>\n",
       "      <td>[Empleo, woman, man, Empleo, Retirado]</td>\n",
       "    </tr>\n",
       "    <tr>\n",
       "      <th>es_sostenedor_principal</th>\n",
       "      <td>2</td>\n",
       "      <td>1906</td>\n",
       "      <td>0</td>\n",
       "      <td>0.0</td>\n",
       "      <td>[True, False, True, True, True]</td>\n",
       "    </tr>\n",
       "    <tr>\n",
       "      <th>grupo_de_puntaje_crediticio</th>\n",
       "      <td>18</td>\n",
       "      <td>1906</td>\n",
       "      <td>0</td>\n",
       "      <td>0.0</td>\n",
       "      <td>[3, , , 4, 6]</td>\n",
       "    </tr>\n",
       "    <tr>\n",
       "      <th>area_residencial</th>\n",
       "      <td>3</td>\n",
       "      <td>1906</td>\n",
       "      <td>0</td>\n",
       "      <td>0.0</td>\n",
       "      <td>[Rural, Suburbana, Urbana, Urbana, Rural]</td>\n",
       "    </tr>\n",
       "    <tr>\n",
       "      <th>estado_actual_de_la_cuenta</th>\n",
       "      <td>2</td>\n",
       "      <td>1906</td>\n",
       "      <td>0</td>\n",
       "      <td>0.0</td>\n",
       "      <td>[no, yes, no, yes, no]</td>\n",
       "    </tr>\n",
       "    <tr>\n",
       "      <th>tiene_cuenta_conjunta</th>\n",
       "      <td>4</td>\n",
       "      <td>1906</td>\n",
       "      <td>0</td>\n",
       "      <td>0.0</td>\n",
       "      <td>[True, 1, 0, True, False]</td>\n",
       "    </tr>\n",
       "    <tr>\n",
       "      <th>indicador_aleatorio</th>\n",
       "      <td>907</td>\n",
       "      <td>1906</td>\n",
       "      <td>0</td>\n",
       "      <td>0.0</td>\n",
       "      <td>[, 0.9829498882139062, 0.6164942839828013, , ]</td>\n",
       "    </tr>\n",
       "    <tr>\n",
       "      <th>residencial_Rural</th>\n",
       "      <td>3</td>\n",
       "      <td>1906</td>\n",
       "      <td>0</td>\n",
       "      <td>0.0</td>\n",
       "      <td>[, 0.0, 0.0, , ]</td>\n",
       "    </tr>\n",
       "    <tr>\n",
       "      <th>residencial_Suburbana</th>\n",
       "      <td>3</td>\n",
       "      <td>1906</td>\n",
       "      <td>0</td>\n",
       "      <td>0.0</td>\n",
       "      <td>[, 1.0, 0.0, , ]</td>\n",
       "    </tr>\n",
       "    <tr>\n",
       "      <th>residencial_Urbana</th>\n",
       "      <td>3</td>\n",
       "      <td>1906</td>\n",
       "      <td>0</td>\n",
       "      <td>0.0</td>\n",
       "      <td>[, 0.0, 1.0, , ]</td>\n",
       "    </tr>\n",
       "  </tbody>\n",
       "</table>\n",
       "</div>"
      ],
      "text/plain": [
       "                            Unique_Values Num_Unique_Values  Num_Null_Values  \\\n",
       "                                      NaN            1906.0                0   \n",
       "incumplimiento                        NaN            1906.0                0   \n",
       "tipo_de_cuenta                          6              1906                0   \n",
       "genero                                  4              1906                0   \n",
       "edad_del_cliente                      NaN            1906.0                0   \n",
       "co_solicitantes                       NaN            1906.0                0   \n",
       "dependientes                          NaN            1906.0                0   \n",
       "monto_del_prestamo                    NaN            1906.0                0   \n",
       "ubicacion_de_sucursal                   7              1906                0   \n",
       "nivel_de_producto                       6              1906                0   \n",
       "estatus_laboral                        10              1906                0   \n",
       "es_sostenedor_principal                 2              1906                0   \n",
       "grupo_de_puntaje_crediticio            18              1906                0   \n",
       "area_residencial                        3              1906                0   \n",
       "estado_actual_de_la_cuenta              2              1906                0   \n",
       "tiene_cuenta_conjunta                   4              1906                0   \n",
       "indicador_aleatorio                   907              1906                0   \n",
       "residencial_Rural                       3              1906                0   \n",
       "residencial_Suburbana                   3              1906                0   \n",
       "residencial_Urbana                      3              1906                0   \n",
       "\n",
       "                             %_Null_Values  \\\n",
       "                                       0.0   \n",
       "incumplimiento                         0.0   \n",
       "tipo_de_cuenta                         0.0   \n",
       "genero                                 0.0   \n",
       "edad_del_cliente                       0.0   \n",
       "co_solicitantes                        0.0   \n",
       "dependientes                           0.0   \n",
       "monto_del_prestamo                     0.0   \n",
       "ubicacion_de_sucursal                  0.0   \n",
       "nivel_de_producto                      0.0   \n",
       "estatus_laboral                        0.0   \n",
       "es_sostenedor_principal                0.0   \n",
       "grupo_de_puntaje_crediticio            0.0   \n",
       "area_residencial                       0.0   \n",
       "estado_actual_de_la_cuenta             0.0   \n",
       "tiene_cuenta_conjunta                  0.0   \n",
       "indicador_aleatorio                    0.0   \n",
       "residencial_Rural                      0.0   \n",
       "residencial_Suburbana                  0.0   \n",
       "residencial_Urbana                     0.0   \n",
       "\n",
       "                                                          Sample_Unique_Values  \n",
       "                                                      [144, 380, 769, 43, 484]  \n",
       "incumplimiento                                       [0.0, 0.0, 1.0, 0.0, 0.0]  \n",
       "tipo_de_cuenta                                  [Ahorro, 1, 3, Ahorro, Ahorro]  \n",
       "genero                                    [Hombre, female, male, Mujer, Mujer]  \n",
       "edad_del_cliente             [23.0, 47.52699895150855, 25.337584285871625, ...  \n",
       "co_solicitantes                                                [2, 0, 0, 1, 1]  \n",
       "dependientes                                                   [2, 0, 0, 0, 0]  \n",
       "monto_del_prestamo                [12374.0, 227.525, 8.3625, 16235.0, 49920.0]  \n",
       "ubicacion_de_sucursal                [Suiza, Central, Suburbana, Suiza, Suiza]  \n",
       "nivel_de_producto               [Intermedio, First, Third, Basico, Intermedio]  \n",
       "estatus_laboral                         [Empleo, woman, man, Empleo, Retirado]  \n",
       "es_sostenedor_principal                        [True, False, True, True, True]  \n",
       "grupo_de_puntaje_crediticio                                      [3, , , 4, 6]  \n",
       "area_residencial                     [Rural, Suburbana, Urbana, Urbana, Rural]  \n",
       "estado_actual_de_la_cuenta                              [no, yes, no, yes, no]  \n",
       "tiene_cuenta_conjunta                                [True, 1, 0, True, False]  \n",
       "indicador_aleatorio             [, 0.9829498882139062, 0.6164942839828013, , ]  \n",
       "residencial_Rural                                             [, 0.0, 0.0, , ]  \n",
       "residencial_Suburbana                                         [, 1.0, 0.0, , ]  \n",
       "residencial_Urbana                                            [, 0.0, 1.0, , ]  "
      ]
     },
     "execution_count": 673,
     "metadata": {},
     "output_type": "execute_result"
    }
   ],
   "source": [
    "from funciones.eda_y_ml import validate_columns \n",
    "validate_columns(df_credit_risk)"
   ]
  },
  {
   "cell_type": "code",
   "execution_count": 674,
   "metadata": {},
   "outputs": [
    {
     "data": {
      "text/html": [
       "<div>\n",
       "<style scoped>\n",
       "    .dataframe tbody tr th:only-of-type {\n",
       "        vertical-align: middle;\n",
       "    }\n",
       "\n",
       "    .dataframe tbody tr th {\n",
       "        vertical-align: top;\n",
       "    }\n",
       "\n",
       "    .dataframe thead th {\n",
       "        text-align: right;\n",
       "    }\n",
       "</style>\n",
       "<table border=\"1\" class=\"dataframe\">\n",
       "  <thead>\n",
       "    <tr style=\"text-align: right;\">\n",
       "      <th></th>\n",
       "      <th></th>\n",
       "      <th>incumplimiento</th>\n",
       "      <th>edad_del_cliente</th>\n",
       "      <th>co_solicitantes</th>\n",
       "      <th>dependientes</th>\n",
       "      <th>monto_del_prestamo</th>\n",
       "    </tr>\n",
       "  </thead>\n",
       "  <tbody>\n",
       "    <tr>\n",
       "      <th>count</th>\n",
       "      <td>1906.000000</td>\n",
       "      <td>1906.000000</td>\n",
       "      <td>1906.000000</td>\n",
       "      <td>1906.000000</td>\n",
       "      <td>1906.000000</td>\n",
       "      <td>1906.000000</td>\n",
       "    </tr>\n",
       "    <tr>\n",
       "      <th>mean</th>\n",
       "      <td>477.158972</td>\n",
       "      <td>0.244491</td>\n",
       "      <td>44.572590</td>\n",
       "      <td>0.772298</td>\n",
       "      <td>1.228227</td>\n",
       "      <td>13629.753908</td>\n",
       "    </tr>\n",
       "    <tr>\n",
       "      <th>std</th>\n",
       "      <td>277.177678</td>\n",
       "      <td>0.429898</td>\n",
       "      <td>18.993413</td>\n",
       "      <td>0.995311</td>\n",
       "      <td>1.416017</td>\n",
       "      <td>16618.634074</td>\n",
       "    </tr>\n",
       "    <tr>\n",
       "      <th>min</th>\n",
       "      <td>0.000000</td>\n",
       "      <td>0.000000</td>\n",
       "      <td>13.000000</td>\n",
       "      <td>0.000000</td>\n",
       "      <td>0.000000</td>\n",
       "      <td>0.000000</td>\n",
       "    </tr>\n",
       "    <tr>\n",
       "      <th>25%</th>\n",
       "      <td>238.000000</td>\n",
       "      <td>0.000000</td>\n",
       "      <td>27.000000</td>\n",
       "      <td>0.000000</td>\n",
       "      <td>0.000000</td>\n",
       "      <td>15.743775</td>\n",
       "    </tr>\n",
       "    <tr>\n",
       "      <th>50%</th>\n",
       "      <td>476.000000</td>\n",
       "      <td>0.000000</td>\n",
       "      <td>45.320818</td>\n",
       "      <td>0.000000</td>\n",
       "      <td>1.000000</td>\n",
       "      <td>3550.500000</td>\n",
       "    </tr>\n",
       "    <tr>\n",
       "      <th>75%</th>\n",
       "      <td>714.000000</td>\n",
       "      <td>0.000000</td>\n",
       "      <td>53.713813</td>\n",
       "      <td>1.000000</td>\n",
       "      <td>2.000000</td>\n",
       "      <td>26848.750000</td>\n",
       "    </tr>\n",
       "    <tr>\n",
       "      <th>max</th>\n",
       "      <td>999.000000</td>\n",
       "      <td>1.000000</td>\n",
       "      <td>89.000000</td>\n",
       "      <td>8.000000</td>\n",
       "      <td>6.000000</td>\n",
       "      <td>63610.000000</td>\n",
       "    </tr>\n",
       "  </tbody>\n",
       "</table>\n",
       "</div>"
      ],
      "text/plain": [
       "                    incumplimiento  edad_del_cliente  co_solicitantes  \\\n",
       "count  1906.000000     1906.000000       1906.000000      1906.000000   \n",
       "mean    477.158972        0.244491         44.572590         0.772298   \n",
       "std     277.177678        0.429898         18.993413         0.995311   \n",
       "min       0.000000        0.000000         13.000000         0.000000   \n",
       "25%     238.000000        0.000000         27.000000         0.000000   \n",
       "50%     476.000000        0.000000         45.320818         0.000000   \n",
       "75%     714.000000        0.000000         53.713813         1.000000   \n",
       "max     999.000000        1.000000         89.000000         8.000000   \n",
       "\n",
       "       dependientes  monto_del_prestamo  \n",
       "count   1906.000000         1906.000000  \n",
       "mean       1.228227        13629.753908  \n",
       "std        1.416017        16618.634074  \n",
       "min        0.000000            0.000000  \n",
       "25%        0.000000           15.743775  \n",
       "50%        1.000000         3550.500000  \n",
       "75%        2.000000        26848.750000  \n",
       "max        6.000000        63610.000000  "
      ]
     },
     "execution_count": 674,
     "metadata": {},
     "output_type": "execute_result"
    }
   ],
   "source": [
    "df_credit_risk.describe()"
   ]
  },
  {
   "cell_type": "markdown",
   "metadata": {},
   "source": [
    "___"
   ]
  },
  {
   "cell_type": "markdown",
   "metadata": {},
   "source": [
    "### →  Veo los tipos de datos con dtypes"
   ]
  },
  {
   "cell_type": "code",
   "execution_count": 675,
   "metadata": {},
   "outputs": [
    {
     "data": {
      "text/html": [
       "<div>\n",
       "<style scoped>\n",
       "    .dataframe tbody tr th:only-of-type {\n",
       "        vertical-align: middle;\n",
       "    }\n",
       "\n",
       "    .dataframe tbody tr th {\n",
       "        vertical-align: top;\n",
       "    }\n",
       "\n",
       "    .dataframe thead th {\n",
       "        text-align: right;\n",
       "    }\n",
       "</style>\n",
       "<table border=\"1\" class=\"dataframe\">\n",
       "  <thead>\n",
       "    <tr style=\"text-align: right;\">\n",
       "      <th></th>\n",
       "      <th></th>\n",
       "      <th>incumplimiento</th>\n",
       "      <th>tipo_de_cuenta</th>\n",
       "      <th>genero</th>\n",
       "      <th>edad_del_cliente</th>\n",
       "      <th>co_solicitantes</th>\n",
       "      <th>dependientes</th>\n",
       "      <th>monto_del_prestamo</th>\n",
       "      <th>ubicacion_de_sucursal</th>\n",
       "      <th>nivel_de_producto</th>\n",
       "      <th>estatus_laboral</th>\n",
       "      <th>es_sostenedor_principal</th>\n",
       "      <th>grupo_de_puntaje_crediticio</th>\n",
       "      <th>area_residencial</th>\n",
       "      <th>estado_actual_de_la_cuenta</th>\n",
       "      <th>tiene_cuenta_conjunta</th>\n",
       "      <th>indicador_aleatorio</th>\n",
       "      <th>residencial_Rural</th>\n",
       "      <th>residencial_Suburbana</th>\n",
       "      <th>residencial_Urbana</th>\n",
       "    </tr>\n",
       "  </thead>\n",
       "  <tbody>\n",
       "    <tr>\n",
       "      <th>0</th>\n",
       "      <td>0</td>\n",
       "      <td>1.0</td>\n",
       "      <td>3</td>\n",
       "      <td>male</td>\n",
       "      <td>26.618129</td>\n",
       "      <td>1</td>\n",
       "      <td>0</td>\n",
       "      <td>7.2500</td>\n",
       "      <td>Suburbana</td>\n",
       "      <td>Third</td>\n",
       "      <td>man</td>\n",
       "      <td>True</td>\n",
       "      <td></td>\n",
       "      <td>Urbana</td>\n",
       "      <td>no</td>\n",
       "      <td>0</td>\n",
       "      <td>0.9494354298674084</td>\n",
       "      <td>0.0</td>\n",
       "      <td>0.0</td>\n",
       "      <td>1.0</td>\n",
       "    </tr>\n",
       "    <tr>\n",
       "      <th>1</th>\n",
       "      <td>1</td>\n",
       "      <td>1.0</td>\n",
       "      <td>3</td>\n",
       "      <td>female</td>\n",
       "      <td>27.395476</td>\n",
       "      <td>1</td>\n",
       "      <td>0</td>\n",
       "      <td>71.2833</td>\n",
       "      <td>Central</td>\n",
       "      <td>First</td>\n",
       "      <td>woman</td>\n",
       "      <td>False</td>\n",
       "      <td>C</td>\n",
       "      <td>Urbana</td>\n",
       "      <td>yes</td>\n",
       "      <td>0</td>\n",
       "      <td>0.0152425151741839</td>\n",
       "      <td>0.0</td>\n",
       "      <td>0.0</td>\n",
       "      <td>1.0</td>\n",
       "    </tr>\n",
       "    <tr>\n",
       "      <th>2</th>\n",
       "      <td>2</td>\n",
       "      <td>1.0</td>\n",
       "      <td>1</td>\n",
       "      <td>female</td>\n",
       "      <td>48.696543</td>\n",
       "      <td>0</td>\n",
       "      <td>0</td>\n",
       "      <td>7.9250</td>\n",
       "      <td>Suburbana</td>\n",
       "      <td>Third</td>\n",
       "      <td>woman</td>\n",
       "      <td>False</td>\n",
       "      <td></td>\n",
       "      <td>Rural</td>\n",
       "      <td>yes</td>\n",
       "      <td>1</td>\n",
       "      <td>0.6723719434749519</td>\n",
       "      <td>1.0</td>\n",
       "      <td>0.0</td>\n",
       "      <td>0.0</td>\n",
       "    </tr>\n",
       "    <tr>\n",
       "      <th>3</th>\n",
       "      <td>3</td>\n",
       "      <td>1.0</td>\n",
       "      <td>3</td>\n",
       "      <td>female</td>\n",
       "      <td>25.491890</td>\n",
       "      <td>1</td>\n",
       "      <td>0</td>\n",
       "      <td>53.1000</td>\n",
       "      <td>Suburbana</td>\n",
       "      <td>First</td>\n",
       "      <td>woman</td>\n",
       "      <td>False</td>\n",
       "      <td>C</td>\n",
       "      <td>Urbana</td>\n",
       "      <td>yes</td>\n",
       "      <td>0</td>\n",
       "      <td>0.4035980372889746</td>\n",
       "      <td>0.0</td>\n",
       "      <td>0.0</td>\n",
       "      <td>1.0</td>\n",
       "    </tr>\n",
       "    <tr>\n",
       "      <th>4</th>\n",
       "      <td>4</td>\n",
       "      <td>0.0</td>\n",
       "      <td>1</td>\n",
       "      <td>male</td>\n",
       "      <td>41.038217</td>\n",
       "      <td>0</td>\n",
       "      <td>0</td>\n",
       "      <td>8.0500</td>\n",
       "      <td>Suburbana</td>\n",
       "      <td>Third</td>\n",
       "      <td>man</td>\n",
       "      <td>True</td>\n",
       "      <td></td>\n",
       "      <td>Suburbana</td>\n",
       "      <td>no</td>\n",
       "      <td>1</td>\n",
       "      <td>0.8529009409462249</td>\n",
       "      <td>0.0</td>\n",
       "      <td>1.0</td>\n",
       "      <td>0.0</td>\n",
       "    </tr>\n",
       "  </tbody>\n",
       "</table>\n",
       "</div>"
      ],
      "text/plain": [
       "      incumplimiento tipo_de_cuenta  genero  edad_del_cliente  \\\n",
       "0  0             1.0              3    male         26.618129   \n",
       "1  1             1.0              3  female         27.395476   \n",
       "2  2             1.0              1  female         48.696543   \n",
       "3  3             1.0              3  female         25.491890   \n",
       "4  4             0.0              1    male         41.038217   \n",
       "\n",
       "   co_solicitantes  dependientes  monto_del_prestamo ubicacion_de_sucursal  \\\n",
       "0                1             0              7.2500             Suburbana   \n",
       "1                1             0             71.2833               Central   \n",
       "2                0             0              7.9250             Suburbana   \n",
       "3                1             0             53.1000             Suburbana   \n",
       "4                0             0              8.0500             Suburbana   \n",
       "\n",
       "  nivel_de_producto estatus_laboral es_sostenedor_principal  \\\n",
       "0             Third             man                    True   \n",
       "1             First           woman                   False   \n",
       "2             Third           woman                   False   \n",
       "3             First           woman                   False   \n",
       "4             Third             man                    True   \n",
       "\n",
       "  grupo_de_puntaje_crediticio area_residencial estado_actual_de_la_cuenta  \\\n",
       "0                                       Urbana                         no   \n",
       "1                           C           Urbana                        yes   \n",
       "2                                        Rural                        yes   \n",
       "3                           C           Urbana                        yes   \n",
       "4                                    Suburbana                         no   \n",
       "\n",
       "  tiene_cuenta_conjunta indicador_aleatorio residencial_Rural  \\\n",
       "0                     0  0.9494354298674084               0.0   \n",
       "1                     0  0.0152425151741839               0.0   \n",
       "2                     1  0.6723719434749519               1.0   \n",
       "3                     0  0.4035980372889746               0.0   \n",
       "4                     1  0.8529009409462249               0.0   \n",
       "\n",
       "  residencial_Suburbana residencial_Urbana  \n",
       "0                   0.0                1.0  \n",
       "1                   0.0                1.0  \n",
       "2                   0.0                0.0  \n",
       "3                   0.0                1.0  \n",
       "4                   1.0                0.0  "
      ]
     },
     "execution_count": 675,
     "metadata": {},
     "output_type": "execute_result"
    }
   ],
   "source": [
    "df_credit_risk.head()"
   ]
  },
  {
   "cell_type": "code",
   "execution_count": 676,
   "metadata": {},
   "outputs": [
    {
     "data": {
      "text/plain": [
       "                                 int64\n",
       "incumplimiento                 float64\n",
       "tipo_de_cuenta                  object\n",
       "genero                          object\n",
       "edad_del_cliente               float64\n",
       "co_solicitantes                  int64\n",
       "dependientes                     int64\n",
       "monto_del_prestamo             float64\n",
       "ubicacion_de_sucursal           object\n",
       "nivel_de_producto               object\n",
       "estatus_laboral                 object\n",
       "es_sostenedor_principal         object\n",
       "grupo_de_puntaje_crediticio     object\n",
       "area_residencial                object\n",
       "estado_actual_de_la_cuenta      object\n",
       "tiene_cuenta_conjunta           object\n",
       "indicador_aleatorio             object\n",
       "residencial_Rural               object\n",
       "residencial_Suburbana           object\n",
       "residencial_Urbana              object\n",
       "dtype: object"
      ]
     },
     "execution_count": 676,
     "metadata": {},
     "output_type": "execute_result"
    }
   ],
   "source": [
    "df_credit_risk.dtypes"
   ]
  },
  {
   "cell_type": "markdown",
   "metadata": {},
   "source": [
    "#### La edad no puede estar en formato float, por lo que la convierto a int."
   ]
  },
  {
   "cell_type": "code",
   "execution_count": 677,
   "metadata": {},
   "outputs": [],
   "source": [
    "df_credit_risk[\"edad_del_cliente\"] = df_credit_risk[\"edad_del_cliente\"].astype(int)"
   ]
  },
  {
   "cell_type": "markdown",
   "metadata": {},
   "source": [
    "___"
   ]
  },
  {
   "cell_type": "markdown",
   "metadata": {},
   "source": [
    "### → Valores outliers"
   ]
  },
  {
   "cell_type": "code",
   "execution_count": 678,
   "metadata": {},
   "outputs": [
    {
     "data": {
      "image/png": "[encoded data removed]",
      "text/plain": [
       "<Figure size 2000x1500 with 6 Axes>"
      ]
     },
     "metadata": {},
     "output_type": "display_data"
    }
   ],
   "source": [
    "from funciones.eda_y_ml import plot_outliers\n",
    "plot_outliers(df_credit_risk)"
   ]
  },
  {
   "cell_type": "markdown",
   "metadata": {},
   "source": [
    "#### Para este análisis he tomado la decisión de no remover los outliers, ya que son valores que pueden ser reales y no errores de carga de datos. Además, al ser un dataset de créditos, es posible que existan valores altos de monto de préstamo."
   ]
  },
  {
   "cell_type": "markdown",
   "metadata": {},
   "source": [
    "____"
   ]
  },
  {
   "cell_type": "markdown",
   "metadata": {},
   "source": [
    "## **Parte 2: Análisis Exploratorio de Datos**\n"
   ]
  },
  {
   "cell_type": "markdown",
   "metadata": {},
   "source": [
    "### → Análisis de sesgos por edad. Usa groupby para calcular la tasa de incumplimiento promedio por grupo de edad. "
   ]
  },
  {
   "cell_type": "code",
   "execution_count": 679,
   "metadata": {},
   "outputs": [
    {
     "data": {
      "text/plain": [
       "incumplimiento\n",
       "0.0    1440\n",
       "1.0     466\n",
       "Name: count, dtype: int64"
      ]
     },
     "execution_count": 679,
     "metadata": {},
     "output_type": "execute_result"
    }
   ],
   "source": [
    "df_credit_risk[\"incumplimiento\"].value_counts() # Miro cuantos cumplieron y cuantos no"
   ]
  },
  {
   "cell_type": "code",
   "execution_count": 680,
   "metadata": {},
   "outputs": [
    {
     "data": {
      "text/html": [
       "<div>\n",
       "<style scoped>\n",
       "    .dataframe tbody tr th:only-of-type {\n",
       "        vertical-align: middle;\n",
       "    }\n",
       "\n",
       "    .dataframe tbody tr th {\n",
       "        vertical-align: top;\n",
       "    }\n",
       "\n",
       "    .dataframe thead th {\n",
       "        text-align: right;\n",
       "    }\n",
       "</style>\n",
       "<table border=\"1\" class=\"dataframe\">\n",
       "  <thead>\n",
       "    <tr style=\"text-align: right;\">\n",
       "      <th></th>\n",
       "      <th>edad_del_cliente</th>\n",
       "      <th>incumplimiento</th>\n",
       "    </tr>\n",
       "  </thead>\n",
       "  <tbody>\n",
       "    <tr>\n",
       "      <th>0</th>\n",
       "      <td>13</td>\n",
       "      <td>1.00</td>\n",
       "    </tr>\n",
       "    <tr>\n",
       "      <th>1</th>\n",
       "      <td>16</td>\n",
       "      <td>1.00</td>\n",
       "    </tr>\n",
       "    <tr>\n",
       "      <th>2</th>\n",
       "      <td>17</td>\n",
       "      <td>1.00</td>\n",
       "    </tr>\n",
       "    <tr>\n",
       "      <th>3</th>\n",
       "      <td>18</td>\n",
       "      <td>0.56</td>\n",
       "    </tr>\n",
       "    <tr>\n",
       "      <th>4</th>\n",
       "      <td>19</td>\n",
       "      <td>0.41</td>\n",
       "    </tr>\n",
       "    <tr>\n",
       "      <th>...</th>\n",
       "      <td>...</td>\n",
       "      <td>...</td>\n",
       "    </tr>\n",
       "    <tr>\n",
       "      <th>70</th>\n",
       "      <td>85</td>\n",
       "      <td>0.00</td>\n",
       "    </tr>\n",
       "    <tr>\n",
       "      <th>71</th>\n",
       "      <td>86</td>\n",
       "      <td>0.00</td>\n",
       "    </tr>\n",
       "    <tr>\n",
       "      <th>72</th>\n",
       "      <td>87</td>\n",
       "      <td>0.00</td>\n",
       "    </tr>\n",
       "    <tr>\n",
       "      <th>73</th>\n",
       "      <td>88</td>\n",
       "      <td>0.00</td>\n",
       "    </tr>\n",
       "    <tr>\n",
       "      <th>74</th>\n",
       "      <td>89</td>\n",
       "      <td>0.00</td>\n",
       "    </tr>\n",
       "  </tbody>\n",
       "</table>\n",
       "<p>75 rows × 2 columns</p>\n",
       "</div>"
      ],
      "text/plain": [
       "    edad_del_cliente  incumplimiento\n",
       "0                 13            1.00\n",
       "1                 16            1.00\n",
       "2                 17            1.00\n",
       "3                 18            0.56\n",
       "4                 19            0.41\n",
       "..               ...             ...\n",
       "70                85            0.00\n",
       "71                86            0.00\n",
       "72                87            0.00\n",
       "73                88            0.00\n",
       "74                89            0.00\n",
       "\n",
       "[75 rows x 2 columns]"
      ]
     },
     "execution_count": 680,
     "metadata": {},
     "output_type": "execute_result"
    }
   ],
   "source": [
    "tasa_de_incumplimiento_etaria = round(df_credit_risk.groupby(\"edad_del_cliente\").agg({\"incumplimiento\" : \"mean\"}).reset_index(), 2)\n",
    "tasa_de_incumplimiento_etaria # Tasa de incumplimiento promedio por grupo de edad"
   ]
  },
  {
   "cell_type": "code",
   "execution_count": 681,
   "metadata": {},
   "outputs": [
    {
     "data": {
      "text/plain": [
       "<Axes: xlabel='edad_del_cliente', ylabel='incumplimiento'>"
      ]
     },
     "execution_count": 681,
     "metadata": {},
     "output_type": "execute_result"
    },
    {
     "data": {
      "image/png": "[encoded data removed]",
      "text/plain": [
       "<Figure size 2000x1000 with 1 Axes>"
      ]
     },
     "metadata": {},
     "output_type": "display_data"
    }
   ],
   "source": [
    "import matplotlib.pyplot as plt\n",
    "plt.figure(figsize=(20,10))\n",
    "sns.barplot(data=tasa_de_incumplimiento_etaria, x=\"edad_del_cliente\", y=\"incumplimiento\")"
   ]
  },
  {
   "cell_type": "markdown",
   "metadata": {},
   "source": [
    "#### En este gráfico de barras se pueden identificar 3 grupos de clientes. Los que tienen entre 13 y 17 años, los que tienen entre 18 y 58 años y los que tienen más de 58 años.\n",
    "#### Los clientes que tienen entre 13 y 17 años no pagan, mientras que los que tienen entre 18 y 58 años si pagan (con una tasa baja de incumplimiento). Luego, a partir de los 58 años, pagan todos."
   ]
  },
  {
   "cell_type": "code",
   "execution_count": 682,
   "metadata": {},
   "outputs": [
    {
     "data": {
      "text/plain": [
       "Text(0, 0.5, 'Frecuencia')"
      ]
     },
     "execution_count": 682,
     "metadata": {},
     "output_type": "execute_result"
    },
    {
     "data": {
      "image/png": "[encoded data removed]",
      "text/plain": [
       "<Figure size 1400x500 with 1 Axes>"
      ]
     },
     "metadata": {},
     "output_type": "display_data"
    }
   ],
   "source": [
    "import matplotlib.pyplot as plt\n",
    "\n",
    "plt.figure(figsize=(14, 5))\n",
    "plt.hist(df_credit_risk['edad_del_cliente'], bins=15, edgecolor='black')\n",
    "plt.title('Histograma de Edades del cliente')\n",
    "plt.xlabel('Edad')\n",
    "plt.ylabel('Frecuencia')"
   ]
  },
  {
   "cell_type": "markdown",
   "metadata": {},
   "source": [
    "### → Crea histogramas de edad para deudores y no deudores."
   ]
  },
  {
   "cell_type": "code",
   "execution_count": 683,
   "metadata": {},
   "outputs": [
    {
     "name": "stderr",
     "output_type": "stream",
     "text": [
      "/var/folders/xx/hcklcr8s0rxd7p5fz63z342w0000gn/T/ipykernel_26431/2283688562.py:6: UserWarning: \n",
      "\n",
      "`distplot` is a deprecated function and will be removed in seaborn v0.14.0.\n",
      "\n",
      "Please adapt your code to use either `displot` (a figure-level function with\n",
      "similar flexibility) or `histplot` (an axes-level function for histograms).\n",
      "\n",
      "For a guide to updating your code to use the new functions, please see\n",
      "https://gist.github.com/mwaskom/de44147ed2974457ad6372750bbe5751\n",
      "\n",
      "  sns.distplot(df_credit_risk[filtro1]['edad_del_cliente'], label=\"buen_pagador\", color=\"green\")\n",
      "/var/folders/xx/hcklcr8s0rxd7p5fz63z342w0000gn/T/ipykernel_26431/2283688562.py:7: UserWarning: \n",
      "\n",
      "`distplot` is a deprecated function and will be removed in seaborn v0.14.0.\n",
      "\n",
      "Please adapt your code to use either `displot` (a figure-level function with\n",
      "similar flexibility) or `histplot` (an axes-level function for histograms).\n",
      "\n",
      "For a guide to updating your code to use the new functions, please see\n",
      "https://gist.github.com/mwaskom/de44147ed2974457ad6372750bbe5751\n",
      "\n",
      "  sns.distplot(df_credit_risk[filtro2]['edad_del_cliente'], label=\"morosos\", color=\"red\")\n"
     ]
    },
    {
     "data": {
      "image/png": "[encoded data removed]",
      "text/plain": [
       "<Figure size 640x480 with 1 Axes>"
      ]
     },
     "metadata": {},
     "output_type": "display_data"
    }
   ],
   "source": [
    "sns.set_style('darkgrid')\n",
    "\n",
    "filtro1 = df_credit_risk[\"incumplimiento\"] == 0\n",
    "filtro2 = df_credit_risk[\"incumplimiento\"] == 1\n",
    "\n",
    "sns.distplot(df_credit_risk[filtro1]['edad_del_cliente'], label=\"buen_pagador\", color=\"green\")\n",
    "sns.distplot(df_credit_risk[filtro2]['edad_del_cliente'], label=\"morosos\", color=\"red\")\n",
    "\n",
    "plt.title(\"Distribution Plot de 'edad_del_cliente' con Hue en 'target'\")\n",
    "plt.legend()\n",
    "plt.show()"
   ]
  },
  {
   "cell_type": "markdown",
   "metadata": {},
   "source": [
    "### → Realiza un t-test para comparar las tasas de incumplimiento entre menores de edad y otros grupos de edad. "
   ]
  },
  {
   "cell_type": "code",
   "execution_count": 684,
   "metadata": {},
   "outputs": [],
   "source": [
    "def grupo_etario (x):\n",
    "    if x <= 18:\n",
    "        return \"menor\"\n",
    "    elif 18 < x <= 30:\n",
    "        return \"joven adulto\"\n",
    "    elif 30 < x < 50:\n",
    "        return \"adulto\"\n",
    "    elif x >= 50:\n",
    "        return \"mayor\"\n",
    "    \n",
    "\n",
    "df_credit_risk[\"grupo_etario\"] = df_credit_risk[\"edad_del_cliente\"].apply(grupo_etario)\n",
    "    "
   ]
  },
  {
   "cell_type": "markdown",
   "metadata": {},
   "source": [
    "##### Comparación entre menores y mayores\n"
   ]
  },
  {
   "cell_type": "code",
   "execution_count": 685,
   "metadata": {},
   "outputs": [],
   "source": [
    "adolescentes = df_credit_risk[df_credit_risk[\"grupo_etario\"] == \"menor\"] # Grupo 1\n",
    "mayores = df_credit_risk[df_credit_risk[\"grupo_etario\"] == \"mayor\"] # Grupo 2"
   ]
  },
  {
   "cell_type": "code",
   "execution_count": 686,
   "metadata": {},
   "outputs": [
    {
     "name": "stdout",
     "output_type": "stream",
     "text": [
      "Rechazar la hipótesis nula. Hay una diferencia significativa de la tasa de incumplimiento entre los menores y los mayores.\n"
     ]
    }
   ],
   "source": [
    "from scipy.stats import ttest_ind\n",
    "\n",
    "group1 = adolescentes[\"incumplimiento\"]\n",
    "group2 = mayores[\"incumplimiento\"]\n",
    "\n",
    "t_stat, p_value = ttest_ind(group1, group2)\n",
    "\n",
    "if p_value < 0.05:\n",
    "    print(\"Rechazar la hipótesis nula. Hay una diferencia significativa de la tasa de incumplimiento entre los menores y los mayores.\")\n",
    "else:\n",
    "    print(\"No rechazar la hipótesis nula. No hay diferencias significativas entre la tasa de incumplimiento de ambos grupos\")"
   ]
  },
  {
   "cell_type": "markdown",
   "metadata": {},
   "source": [
    "##### Comparación entre jóvenes adultos y adultos"
   ]
  },
  {
   "cell_type": "code",
   "execution_count": 687,
   "metadata": {},
   "outputs": [],
   "source": [
    "jovenes_adultos = df_credit_risk[df_credit_risk[\"grupo_etario\"] == \"joven adulto\"] # Grupo 3\n",
    "adultos = df_credit_risk[df_credit_risk[\"grupo_etario\"] == \"adulto\"] # Grupo 4"
   ]
  },
  {
   "cell_type": "code",
   "execution_count": 688,
   "metadata": {},
   "outputs": [
    {
     "name": "stdout",
     "output_type": "stream",
     "text": [
      "Rechazar la hipótesis nula. Hay una diferencia significativa de la tasa de incumplimiento entre los jóvenes adultos y los adultos.\n"
     ]
    }
   ],
   "source": [
    "group3 = jovenes_adultos[\"incumplimiento\"]\n",
    "group4 = adultos[\"incumplimiento\"]\n",
    "\n",
    "t_stat, p_value = ttest_ind(group3, group4)\n",
    "\n",
    "if p_value < 0.05:\n",
    "    print(\"Rechazar la hipótesis nula. Hay una diferencia significativa de la tasa de incumplimiento entre los jóvenes adultos y los adultos.\")\n",
    "else:\n",
    "    print(\"No rechazar la hipótesis nula. No hay diferencias significativas entre la tasa de incumplimiento de ambos grupos\")"
   ]
  },
  {
   "cell_type": "markdown",
   "metadata": {},
   "source": [
    "### → Análisis de sesgos por monto del préstamo. Genera histogramas de 'monto_del_prestamo' para visualizar la distribución de los montos para deudores y no deudores.\n"
   ]
  },
  {
   "cell_type": "code",
   "execution_count": 689,
   "metadata": {},
   "outputs": [
    {
     "data": {
      "image/png": "[encoded data removed]",
      "text/plain": [
       "<Figure size 640x480 with 1 Axes>"
      ]
     },
     "metadata": {},
     "output_type": "display_data"
    }
   ],
   "source": [
    "plt.figsize=(14, 5)\n",
    "plt.hist(df_credit_risk['monto_del_prestamo'], bins=15, edgecolor='black')\n",
    "plt.title('Histogram del monto del préstamo')\n",
    "plt.xlabel('Monto del préstamo')\n",
    "plt.ylabel('Frecuencia')\n",
    "plt.tight_layout()\n",
    "plt.show()\n"
   ]
  },
  {
   "cell_type": "code",
   "execution_count": 690,
   "metadata": {},
   "outputs": [],
   "source": [
    "deudores = df_credit_risk[df_credit_risk[\"incumplimiento\"] == 1]\n",
    "buenos_pagadores = df_credit_risk[df_credit_risk[\"incumplimiento\"] == 0]"
   ]
  },
  {
   "cell_type": "code",
   "execution_count": 691,
   "metadata": {},
   "outputs": [
    {
     "data": {
      "image/png": "[encoded data removed]",
      "text/plain": [
       "<Figure size 640x480 with 1 Axes>"
      ]
     },
     "metadata": {},
     "output_type": "display_data"
    }
   ],
   "source": [
    "plt.figsize=(14, 5)\n",
    "plt.hist(deudores[\"monto_del_prestamo\"], bins=15, edgecolor='black', color=\"red\")\n",
    "plt.title('Histogram del monto del préstamo')\n",
    "plt.xlabel('Monto del préstamo')\n",
    "plt.ylabel('Frecuencia')\n",
    "plt.tight_layout()\n",
    "plt.show()\n"
   ]
  },
  {
   "cell_type": "code",
   "execution_count": 692,
   "metadata": {},
   "outputs": [
    {
     "data": {
      "image/png": "[encoded data removed]",
      "text/plain": [
       "<Figure size 640x480 with 1 Axes>"
      ]
     },
     "metadata": {},
     "output_type": "display_data"
    }
   ],
   "source": [
    "plt.figsize=(14, 5)\n",
    "plt.hist(buenos_pagadores[\"monto_del_prestamo\"], bins=15, edgecolor='black', color=\"green\")\n",
    "plt.title('Histogram del monto del préstamo')\n",
    "plt.xlabel('Monto del préstamo')\n",
    "plt.ylabel('Frecuencia')\n",
    "plt.tight_layout()\n",
    "plt.show()\n"
   ]
  },
  {
   "cell_type": "code",
   "execution_count": 693,
   "metadata": {},
   "outputs": [
    {
     "name": "stderr",
     "output_type": "stream",
     "text": [
      "/var/folders/xx/hcklcr8s0rxd7p5fz63z342w0000gn/T/ipykernel_26431/1093310498.py:6: UserWarning: \n",
      "\n",
      "`distplot` is a deprecated function and will be removed in seaborn v0.14.0.\n",
      "\n",
      "Please adapt your code to use either `displot` (a figure-level function with\n",
      "similar flexibility) or `histplot` (an axes-level function for histograms).\n",
      "\n",
      "For a guide to updating your code to use the new functions, please see\n",
      "https://gist.github.com/mwaskom/de44147ed2974457ad6372750bbe5751\n",
      "\n",
      "  sns.distplot(buenos_pagadores[\"monto_del_prestamo\"], label=\"buen_pagador\", color=\"green\")\n",
      "/var/folders/xx/hcklcr8s0rxd7p5fz63z342w0000gn/T/ipykernel_26431/1093310498.py:7: UserWarning: \n",
      "\n",
      "`distplot` is a deprecated function and will be removed in seaborn v0.14.0.\n",
      "\n",
      "Please adapt your code to use either `displot` (a figure-level function with\n",
      "similar flexibility) or `histplot` (an axes-level function for histograms).\n",
      "\n",
      "For a guide to updating your code to use the new functions, please see\n",
      "https://gist.github.com/mwaskom/de44147ed2974457ad6372750bbe5751\n",
      "\n",
      "  sns.distplot(deudores[\"monto_del_prestamo\"], label=\"morosos\", color=\"red\")\n"
     ]
    },
    {
     "data": {
      "image/png": "[encoded data removed]",
      "text/plain": [
       "<Figure size 640x480 with 1 Axes>"
      ]
     },
     "metadata": {},
     "output_type": "display_data"
    }
   ],
   "source": [
    "sns.set_style('darkgrid')\n",
    "\n",
    "buenos_pagadores = df_credit_risk[df_credit_risk[\"incumplimiento\"] == 0]\n",
    "deudores = df_credit_risk[df_credit_risk[\"incumplimiento\"] == 1]\n",
    "\n",
    "sns.distplot(buenos_pagadores[\"monto_del_prestamo\"], label=\"buen_pagador\", color=\"green\")\n",
    "sns.distplot(deudores[\"monto_del_prestamo\"], label=\"morosos\", color=\"red\")\n",
    "\n",
    "plt.title(\"Distribution Plot de 'monto_del_prestamo' con hue en 'target'\")\n",
    "plt.legend()\n",
    "plt.show()"
   ]
  },
  {
   "cell_type": "code",
   "execution_count": 694,
   "metadata": {},
   "outputs": [
    {
     "data": {
      "text/plain": [
       "<Axes: ylabel='monto_del_prestamo'>"
      ]
     },
     "execution_count": 694,
     "metadata": {},
     "output_type": "execute_result"
    },
    {
     "data": {
      "image/png": "[encoded data removed]",
      "text/plain": [
       "<Figure size 640x480 with 1 Axes>"
      ]
     },
     "metadata": {},
     "output_type": "display_data"
    }
   ],
   "source": [
    "sns.boxplot(deudores[\"monto_del_prestamo\"])"
   ]
  },
  {
   "cell_type": "code",
   "execution_count": 695,
   "metadata": {},
   "outputs": [
    {
     "data": {
      "text/plain": [
       "<Axes: ylabel='monto_del_prestamo'>"
      ]
     },
     "execution_count": 695,
     "metadata": {},
     "output_type": "execute_result"
    },
    {
     "data": {
      "image/png": "[encoded data removed]",
      "text/plain": [
       "<Figure size 640x480 with 1 Axes>"
      ]
     },
     "metadata": {},
     "output_type": "display_data"
    }
   ],
   "source": [
    "sns.boxplot(buenos_pagadores[\"monto_del_prestamo\"])"
   ]
  },
  {
   "cell_type": "markdown",
   "metadata": {},
   "source": [
    "### → Compara las distribuciones de 'monto_del_prestamo' entre buenos y malos pagadores con un t-test. "
   ]
  },
  {
   "cell_type": "code",
   "execution_count": 696,
   "metadata": {},
   "outputs": [
    {
     "name": "stdout",
     "output_type": "stream",
     "text": [
      "Rechazar la hipótesis nula. Hay una diferencia significativa en el monto del prestamo entre los deudores y los no deudores.\n"
     ]
    }
   ],
   "source": [
    "from scipy.stats import ttest_ind\n",
    "\n",
    "grupo1 = deudores[\"monto_del_prestamo\"]\n",
    "grupo2 = buenos_pagadores[\"monto_del_prestamo\"]\n",
    "\n",
    "t_stat, p_value = ttest_ind(grupo1, grupo2)\n",
    "\n",
    "if p_value < 0.05:\n",
    "    print(\"Rechazar la hipótesis nula. Hay una diferencia significativa en el monto del prestamo entre los deudores y los no deudores.\")\n",
    "else:\n",
    "    print(\"No rechazar la hipótesis nula. No hay diferencias significativas entre la tasa de incumplimiento de ambos grupos\")"
   ]
  },
  {
   "cell_type": "markdown",
   "metadata": {},
   "source": [
    "### → Análisis de sesgos por tipo de empleo. Usa groupby para comparar las tasas de incumplimiento entre diferentes tipos de empleo. Explora la relación entre el estado laboral y la tasa de incumplimiento con visualizaciones adecuadas."
   ]
  },
  {
   "cell_type": "code",
   "execution_count": 697,
   "metadata": {},
   "outputs": [
    {
     "data": {
      "text/plain": [
       "estatus_laboral\n",
       "man                         538\n",
       "Desempleo                   274\n",
       "woman                       273\n",
       "Estudiante                  255\n",
       "Empleo                      249\n",
       "Retirado                    222\n",
       "child                        85\n",
       "Desempleado                   8\n",
       "Empleo a tiempo parcial       1\n",
       "Empleo a tiempo completo      1\n",
       "Name: count, dtype: int64"
      ]
     },
     "execution_count": 697,
     "metadata": {},
     "output_type": "execute_result"
    }
   ],
   "source": [
    "df_credit_risk[\"estatus_laboral\"].value_counts() "
   ]
  },
  {
   "cell_type": "markdown",
   "metadata": {},
   "source": [
    "##### Procedemos a quedarnos solamente con 'Desempleado', 'Estudiante', 'Retirado' y 'Empleado'. Aquellos como 'man' y 'women' no van a formar parte de nuestro análisis ya que no tienen nada que ver con el estatus laboral. Además, aquellos en 'Desempleo' van a sumarse a 'Desempleado' y aquellos que están en 'Empleo a tiempo parcial/tiempo completo' van a sumarse a 'Empleo'."
   ]
  },
  {
   "cell_type": "code",
   "execution_count": 698,
   "metadata": {},
   "outputs": [],
   "source": [
    "def clean_estatus_laboral(df, column):\n",
    "    mapping = {'Desempleo': 'Desempleado', \n",
    "               'Empleo a tiempo parcial': 'Empleo', \n",
    "               'Empleo a tiempo completo': 'Empleo'}\n",
    "    df[column] = df[column].replace(mapping)\n",
    "    df = df[df[column].isin(['Desempleado', 'Estudiante', 'Empleo', 'Retirado'])]\n",
    "    return df\n",
    "\n",
    "df_credit_risk = clean_estatus_laboral(df_credit_risk, \"estatus_laboral\")"
   ]
  },
  {
   "cell_type": "code",
   "execution_count": 699,
   "metadata": {},
   "outputs": [
    {
     "data": {
      "text/plain": [
       "estatus_laboral\n",
       "Desempleado    282\n",
       "Estudiante     255\n",
       "Empleo         251\n",
       "Retirado       222\n",
       "Name: count, dtype: int64"
      ]
     },
     "execution_count": 699,
     "metadata": {},
     "output_type": "execute_result"
    }
   ],
   "source": [
    "df_credit_risk[\"estatus_laboral\"].value_counts()"
   ]
  },
  {
   "cell_type": "code",
   "execution_count": 700,
   "metadata": {},
   "outputs": [
    {
     "data": {
      "text/html": [
       "<div>\n",
       "<style scoped>\n",
       "    .dataframe tbody tr th:only-of-type {\n",
       "        vertical-align: middle;\n",
       "    }\n",
       "\n",
       "    .dataframe tbody tr th {\n",
       "        vertical-align: top;\n",
       "    }\n",
       "\n",
       "    .dataframe thead th {\n",
       "        text-align: right;\n",
       "    }\n",
       "</style>\n",
       "<table border=\"1\" class=\"dataframe\">\n",
       "  <thead>\n",
       "    <tr style=\"text-align: right;\">\n",
       "      <th></th>\n",
       "      <th>estatus_laboral</th>\n",
       "      <th>cantidad_de_deudores</th>\n",
       "    </tr>\n",
       "  </thead>\n",
       "  <tbody>\n",
       "    <tr>\n",
       "      <th>0</th>\n",
       "      <td>Desempleado</td>\n",
       "      <td>7.0</td>\n",
       "    </tr>\n",
       "    <tr>\n",
       "      <th>1</th>\n",
       "      <td>Empleo</td>\n",
       "      <td>1.0</td>\n",
       "    </tr>\n",
       "    <tr>\n",
       "      <th>2</th>\n",
       "      <td>Estudiante</td>\n",
       "      <td>0.0</td>\n",
       "    </tr>\n",
       "    <tr>\n",
       "      <th>3</th>\n",
       "      <td>Retirado</td>\n",
       "      <td>0.0</td>\n",
       "    </tr>\n",
       "  </tbody>\n",
       "</table>\n",
       "</div>"
      ],
      "text/plain": [
       "  estatus_laboral  cantidad_de_deudores\n",
       "0     Desempleado                   7.0\n",
       "1          Empleo                   1.0\n",
       "2      Estudiante                   0.0\n",
       "3        Retirado                   0.0"
      ]
     },
     "execution_count": 700,
     "metadata": {},
     "output_type": "execute_result"
    }
   ],
   "source": [
    "df_credit_risk.groupby(\"estatus_laboral\").agg(cantidad_de_deudores = (\"incumplimiento\", \"sum\")).reset_index()"
   ]
  },
  {
   "cell_type": "markdown",
   "metadata": {},
   "source": [
    "___"
   ]
  },
  {
   "cell_type": "markdown",
   "metadata": {},
   "source": [
    "## **Parte 3: Preparación de Datos para Modelado**\n"
   ]
  },
  {
   "cell_type": "markdown",
   "metadata": {},
   "source": [
    "### → Limpieza de Datos. Asegúrate de que todos los datos estén correctamente codificados y de que no haya valores faltantes o irrelevantes en el conjunto de datos. "
   ]
  },
  {
   "cell_type": "code",
   "execution_count": 701,
   "metadata": {},
   "outputs": [
    {
     "data": {
      "text/plain": [
       "genero\n",
       "Hombre    527\n",
       "Mujer     473\n",
       "female      6\n",
       "male        4\n",
       "Name: count, dtype: int64"
      ]
     },
     "execution_count": 701,
     "metadata": {},
     "output_type": "execute_result"
    }
   ],
   "source": [
    "df_credit_risk[\"genero\"].value_counts()"
   ]
  },
  {
   "cell_type": "code",
   "execution_count": 702,
   "metadata": {},
   "outputs": [],
   "source": [
    "def grouping_genders(df, column):\n",
    "    mapping = {'female': 'Mujer', \n",
    "               'male': 'Hombre'}\n",
    "    df[column] = df[column].replace(mapping)\n",
    "    return df\n",
    "\n",
    "df_credit_risk_cleaned = grouping_genders(df_credit_risk, \"genero\")"
   ]
  },
  {
   "cell_type": "code",
   "execution_count": 703,
   "metadata": {},
   "outputs": [
    {
     "data": {
      "text/html": [
       "<div>\n",
       "<style scoped>\n",
       "    .dataframe tbody tr th:only-of-type {\n",
       "        vertical-align: middle;\n",
       "    }\n",
       "\n",
       "    .dataframe tbody tr th {\n",
       "        vertical-align: top;\n",
       "    }\n",
       "\n",
       "    .dataframe thead th {\n",
       "        text-align: right;\n",
       "    }\n",
       "</style>\n",
       "<table border=\"1\" class=\"dataframe\">\n",
       "  <thead>\n",
       "    <tr style=\"text-align: right;\">\n",
       "      <th></th>\n",
       "      <th></th>\n",
       "      <th>incumplimiento</th>\n",
       "      <th>tipo_de_cuenta</th>\n",
       "      <th>genero</th>\n",
       "      <th>edad_del_cliente</th>\n",
       "      <th>co_solicitantes</th>\n",
       "      <th>dependientes</th>\n",
       "      <th>monto_del_prestamo</th>\n",
       "      <th>ubicacion_de_sucursal</th>\n",
       "      <th>nivel_de_producto</th>\n",
       "      <th>...</th>\n",
       "      <th>es_sostenedor_principal</th>\n",
       "      <th>grupo_de_puntaje_crediticio</th>\n",
       "      <th>area_residencial</th>\n",
       "      <th>estado_actual_de_la_cuenta</th>\n",
       "      <th>tiene_cuenta_conjunta</th>\n",
       "      <th>indicador_aleatorio</th>\n",
       "      <th>residencial_Rural</th>\n",
       "      <th>residencial_Suburbana</th>\n",
       "      <th>residencial_Urbana</th>\n",
       "      <th>grupo_etario</th>\n",
       "    </tr>\n",
       "  </thead>\n",
       "  <tbody>\n",
       "    <tr>\n",
       "      <th>896</th>\n",
       "      <td>896</td>\n",
       "      <td>1.0</td>\n",
       "      <td>2</td>\n",
       "      <td>Hombre</td>\n",
       "      <td>17</td>\n",
       "      <td>1</td>\n",
       "      <td>0</td>\n",
       "      <td>2319.0</td>\n",
       "      <td>Central</td>\n",
       "      <td>First</td>\n",
       "      <td>...</td>\n",
       "      <td>False</td>\n",
       "      <td>E</td>\n",
       "      <td>Urbana</td>\n",
       "      <td>no</td>\n",
       "      <td>False</td>\n",
       "      <td>0.9676085021263028</td>\n",
       "      <td></td>\n",
       "      <td></td>\n",
       "      <td></td>\n",
       "      <td>menor</td>\n",
       "    </tr>\n",
       "    <tr>\n",
       "      <th>897</th>\n",
       "      <td>897</td>\n",
       "      <td>1.0</td>\n",
       "      <td>3</td>\n",
       "      <td>Mujer</td>\n",
       "      <td>16</td>\n",
       "      <td>1</td>\n",
       "      <td>1</td>\n",
       "      <td>1475.0</td>\n",
       "      <td>Rural</td>\n",
       "      <td>Third</td>\n",
       "      <td>...</td>\n",
       "      <td>False</td>\n",
       "      <td></td>\n",
       "      <td>Urbana</td>\n",
       "      <td>no</td>\n",
       "      <td>False</td>\n",
       "      <td>0.4507801480365124</td>\n",
       "      <td></td>\n",
       "      <td></td>\n",
       "      <td></td>\n",
       "      <td>menor</td>\n",
       "    </tr>\n",
       "    <tr>\n",
       "      <th>898</th>\n",
       "      <td>898</td>\n",
       "      <td>1.0</td>\n",
       "      <td>1</td>\n",
       "      <td>Mujer</td>\n",
       "      <td>17</td>\n",
       "      <td>2</td>\n",
       "      <td>2</td>\n",
       "      <td>2871.0</td>\n",
       "      <td>Suburbana</td>\n",
       "      <td>Second</td>\n",
       "      <td>...</td>\n",
       "      <td>False</td>\n",
       "      <td>F</td>\n",
       "      <td>Urbana</td>\n",
       "      <td>yes</td>\n",
       "      <td>False</td>\n",
       "      <td>0.9858837997915444</td>\n",
       "      <td></td>\n",
       "      <td></td>\n",
       "      <td></td>\n",
       "      <td>menor</td>\n",
       "    </tr>\n",
       "    <tr>\n",
       "      <th>899</th>\n",
       "      <td>899</td>\n",
       "      <td>1.0</td>\n",
       "      <td>3</td>\n",
       "      <td>Mujer</td>\n",
       "      <td>13</td>\n",
       "      <td>0</td>\n",
       "      <td>1</td>\n",
       "      <td>1526.0</td>\n",
       "      <td>Central</td>\n",
       "      <td>Third</td>\n",
       "      <td>...</td>\n",
       "      <td>False</td>\n",
       "      <td>F</td>\n",
       "      <td>Urbana</td>\n",
       "      <td>no</td>\n",
       "      <td>False</td>\n",
       "      <td>0.9786856989675388</td>\n",
       "      <td></td>\n",
       "      <td></td>\n",
       "      <td></td>\n",
       "      <td>menor</td>\n",
       "    </tr>\n",
       "    <tr>\n",
       "      <th>900</th>\n",
       "      <td>900</td>\n",
       "      <td>1.0</td>\n",
       "      <td>1</td>\n",
       "      <td>Hombre</td>\n",
       "      <td>17</td>\n",
       "      <td>0</td>\n",
       "      <td>0</td>\n",
       "      <td>1245.0</td>\n",
       "      <td>Rural</td>\n",
       "      <td>Third</td>\n",
       "      <td>...</td>\n",
       "      <td>False</td>\n",
       "      <td>B</td>\n",
       "      <td>Urbana</td>\n",
       "      <td>no</td>\n",
       "      <td>False</td>\n",
       "      <td>0.3246109473632566</td>\n",
       "      <td></td>\n",
       "      <td></td>\n",
       "      <td></td>\n",
       "      <td>menor</td>\n",
       "    </tr>\n",
       "    <tr>\n",
       "      <th>...</th>\n",
       "      <td>...</td>\n",
       "      <td>...</td>\n",
       "      <td>...</td>\n",
       "      <td>...</td>\n",
       "      <td>...</td>\n",
       "      <td>...</td>\n",
       "      <td>...</td>\n",
       "      <td>...</td>\n",
       "      <td>...</td>\n",
       "      <td>...</td>\n",
       "      <td>...</td>\n",
       "      <td>...</td>\n",
       "      <td>...</td>\n",
       "      <td>...</td>\n",
       "      <td>...</td>\n",
       "      <td>...</td>\n",
       "      <td>...</td>\n",
       "      <td>...</td>\n",
       "      <td>...</td>\n",
       "      <td>...</td>\n",
       "      <td>...</td>\n",
       "    </tr>\n",
       "    <tr>\n",
       "      <th>1901</th>\n",
       "      <td>995</td>\n",
       "      <td>0.0</td>\n",
       "      <td>Corriente</td>\n",
       "      <td>Hombre</td>\n",
       "      <td>56</td>\n",
       "      <td>0</td>\n",
       "      <td>1</td>\n",
       "      <td>35253.0</td>\n",
       "      <td>Suiza</td>\n",
       "      <td>Intermedio</td>\n",
       "      <td>...</td>\n",
       "      <td>False</td>\n",
       "      <td>9</td>\n",
       "      <td>Urbana</td>\n",
       "      <td>no</td>\n",
       "      <td>False</td>\n",
       "      <td></td>\n",
       "      <td></td>\n",
       "      <td></td>\n",
       "      <td></td>\n",
       "      <td>mayor</td>\n",
       "    </tr>\n",
       "    <tr>\n",
       "      <th>1902</th>\n",
       "      <td>996</td>\n",
       "      <td>0.0</td>\n",
       "      <td>Corriente</td>\n",
       "      <td>Mujer</td>\n",
       "      <td>66</td>\n",
       "      <td>0</td>\n",
       "      <td>4</td>\n",
       "      <td>14752.0</td>\n",
       "      <td>Suiza</td>\n",
       "      <td>Avanzado</td>\n",
       "      <td>...</td>\n",
       "      <td>False</td>\n",
       "      <td>2</td>\n",
       "      <td>Suburbana</td>\n",
       "      <td>no</td>\n",
       "      <td>True</td>\n",
       "      <td></td>\n",
       "      <td></td>\n",
       "      <td></td>\n",
       "      <td></td>\n",
       "      <td>mayor</td>\n",
       "    </tr>\n",
       "    <tr>\n",
       "      <th>1903</th>\n",
       "      <td>997</td>\n",
       "      <td>0.0</td>\n",
       "      <td>Inversiones</td>\n",
       "      <td>Hombre</td>\n",
       "      <td>34</td>\n",
       "      <td>1</td>\n",
       "      <td>2</td>\n",
       "      <td>21816.0</td>\n",
       "      <td>Suiza</td>\n",
       "      <td>Basico</td>\n",
       "      <td>...</td>\n",
       "      <td>True</td>\n",
       "      <td>10</td>\n",
       "      <td>Rural</td>\n",
       "      <td>yes</td>\n",
       "      <td>True</td>\n",
       "      <td></td>\n",
       "      <td></td>\n",
       "      <td></td>\n",
       "      <td></td>\n",
       "      <td>adulto</td>\n",
       "    </tr>\n",
       "    <tr>\n",
       "      <th>1904</th>\n",
       "      <td>998</td>\n",
       "      <td>0.0</td>\n",
       "      <td>Inversiones</td>\n",
       "      <td>Hombre</td>\n",
       "      <td>87</td>\n",
       "      <td>2</td>\n",
       "      <td>2</td>\n",
       "      <td>37871.0</td>\n",
       "      <td>Suiza</td>\n",
       "      <td>Basico</td>\n",
       "      <td>...</td>\n",
       "      <td>False</td>\n",
       "      <td>10</td>\n",
       "      <td>Suburbana</td>\n",
       "      <td>yes</td>\n",
       "      <td>False</td>\n",
       "      <td></td>\n",
       "      <td></td>\n",
       "      <td></td>\n",
       "      <td></td>\n",
       "      <td>mayor</td>\n",
       "    </tr>\n",
       "    <tr>\n",
       "      <th>1905</th>\n",
       "      <td>999</td>\n",
       "      <td>0.0</td>\n",
       "      <td>Ahorro</td>\n",
       "      <td>Hombre</td>\n",
       "      <td>87</td>\n",
       "      <td>2</td>\n",
       "      <td>1</td>\n",
       "      <td>19662.0</td>\n",
       "      <td>Suiza</td>\n",
       "      <td>Avanzado</td>\n",
       "      <td>...</td>\n",
       "      <td>True</td>\n",
       "      <td>6</td>\n",
       "      <td>Suburbana</td>\n",
       "      <td>yes</td>\n",
       "      <td>False</td>\n",
       "      <td></td>\n",
       "      <td></td>\n",
       "      <td></td>\n",
       "      <td></td>\n",
       "      <td>mayor</td>\n",
       "    </tr>\n",
       "  </tbody>\n",
       "</table>\n",
       "<p>1010 rows × 21 columns</p>\n",
       "</div>"
      ],
      "text/plain": [
       "           incumplimiento tipo_de_cuenta  genero  edad_del_cliente  \\\n",
       "896   896             1.0              2  Hombre                17   \n",
       "897   897             1.0              3   Mujer                16   \n",
       "898   898             1.0              1   Mujer                17   \n",
       "899   899             1.0              3   Mujer                13   \n",
       "900   900             1.0              1  Hombre                17   \n",
       "...   ...             ...            ...     ...               ...   \n",
       "1901  995             0.0      Corriente  Hombre                56   \n",
       "1902  996             0.0      Corriente   Mujer                66   \n",
       "1903  997             0.0    Inversiones  Hombre                34   \n",
       "1904  998             0.0    Inversiones  Hombre                87   \n",
       "1905  999             0.0         Ahorro  Hombre                87   \n",
       "\n",
       "      co_solicitantes  dependientes  monto_del_prestamo ubicacion_de_sucursal  \\\n",
       "896                 1             0              2319.0               Central   \n",
       "897                 1             1              1475.0                 Rural   \n",
       "898                 2             2              2871.0             Suburbana   \n",
       "899                 0             1              1526.0               Central   \n",
       "900                 0             0              1245.0                 Rural   \n",
       "...               ...           ...                 ...                   ...   \n",
       "1901                0             1             35253.0                 Suiza   \n",
       "1902                0             4             14752.0                 Suiza   \n",
       "1903                1             2             21816.0                 Suiza   \n",
       "1904                2             2             37871.0                 Suiza   \n",
       "1905                2             1             19662.0                 Suiza   \n",
       "\n",
       "     nivel_de_producto  ... es_sostenedor_principal  \\\n",
       "896              First  ...                   False   \n",
       "897              Third  ...                   False   \n",
       "898             Second  ...                   False   \n",
       "899              Third  ...                   False   \n",
       "900              Third  ...                   False   \n",
       "...                ...  ...                     ...   \n",
       "1901        Intermedio  ...                   False   \n",
       "1902          Avanzado  ...                   False   \n",
       "1903            Basico  ...                    True   \n",
       "1904            Basico  ...                   False   \n",
       "1905          Avanzado  ...                    True   \n",
       "\n",
       "     grupo_de_puntaje_crediticio area_residencial estado_actual_de_la_cuenta  \\\n",
       "896                            E           Urbana                         no   \n",
       "897                                        Urbana                         no   \n",
       "898                            F           Urbana                        yes   \n",
       "899                            F           Urbana                         no   \n",
       "900                            B           Urbana                         no   \n",
       "...                          ...              ...                        ...   \n",
       "1901                           9           Urbana                         no   \n",
       "1902                           2        Suburbana                         no   \n",
       "1903                          10            Rural                        yes   \n",
       "1904                          10        Suburbana                        yes   \n",
       "1905                           6        Suburbana                        yes   \n",
       "\n",
       "     tiene_cuenta_conjunta indicador_aleatorio residencial_Rural  \\\n",
       "896                  False  0.9676085021263028                     \n",
       "897                  False  0.4507801480365124                     \n",
       "898                  False  0.9858837997915444                     \n",
       "899                  False  0.9786856989675388                     \n",
       "900                  False  0.3246109473632566                     \n",
       "...                    ...                 ...               ...   \n",
       "1901                 False                                         \n",
       "1902                  True                                         \n",
       "1903                  True                                         \n",
       "1904                 False                                         \n",
       "1905                 False                                         \n",
       "\n",
       "     residencial_Suburbana residencial_Urbana grupo_etario  \n",
       "896                                                  menor  \n",
       "897                                                  menor  \n",
       "898                                                  menor  \n",
       "899                                                  menor  \n",
       "900                                                  menor  \n",
       "...                    ...                ...          ...  \n",
       "1901                                                 mayor  \n",
       "1902                                                 mayor  \n",
       "1903                                                adulto  \n",
       "1904                                                 mayor  \n",
       "1905                                                 mayor  \n",
       "\n",
       "[1010 rows x 21 columns]"
      ]
     },
     "execution_count": 703,
     "metadata": {},
     "output_type": "execute_result"
    }
   ],
   "source": [
    "df_credit_risk_cleaned"
   ]
  },
  {
   "cell_type": "markdown",
   "metadata": {},
   "source": [
    "___"
   ]
  },
  {
   "cell_type": "code",
   "execution_count": 704,
   "metadata": {},
   "outputs": [
    {
     "data": {
      "text/plain": [
       "tipo_de_cuenta\n",
       "Ahorro         355\n",
       "Corriente      326\n",
       "Inversiones    319\n",
       "1                5\n",
       "3                4\n",
       "2                1\n",
       "Name: count, dtype: int64"
      ]
     },
     "execution_count": 704,
     "metadata": {},
     "output_type": "execute_result"
    }
   ],
   "source": [
    "df_credit_risk_cleaned[\"tipo_de_cuenta\"].value_counts()"
   ]
  },
  {
   "cell_type": "code",
   "execution_count": 705,
   "metadata": {},
   "outputs": [],
   "source": [
    "def joining_accounts(df, column):\n",
    "    mapping = {'1': 'Ahorro', \n",
    "               '2': 'Corriente',\n",
    "               '3': 'Inversiones'}\n",
    "    df[column] = df[column].replace(mapping)\n",
    "    return df\n",
    "\n",
    "df_credit_risk_cleaned = joining_accounts(df_credit_risk, \"tipo_de_cuenta\")"
   ]
  },
  {
   "cell_type": "markdown",
   "metadata": {},
   "source": [
    "___"
   ]
  },
  {
   "cell_type": "code",
   "execution_count": 706,
   "metadata": {},
   "outputs": [
    {
     "data": {
      "text/plain": [
       "nivel_de_producto\n",
       "Avanzado      349\n",
       "Intermedio    329\n",
       "Basico        322\n",
       "First           4\n",
       "Third           4\n",
       "Second          2\n",
       "Name: count, dtype: int64"
      ]
     },
     "execution_count": 706,
     "metadata": {},
     "output_type": "execute_result"
    }
   ],
   "source": [
    "df_credit_risk_cleaned[\"nivel_de_producto\"].value_counts()"
   ]
  },
  {
   "cell_type": "code",
   "execution_count": 707,
   "metadata": {},
   "outputs": [],
   "source": [
    "def niveles_de_producto(df, column):\n",
    "    mapping = {'First': 'Basico', \n",
    "               'Second': 'Intermedio',\n",
    "               'Third': 'Avanzado'}\n",
    "    df[column] = df[column].replace(mapping)\n",
    "    return df\n",
    "\n",
    "df_credit_risk_cleaned = niveles_de_producto(df_credit_risk, \"nivel_de_producto\")"
   ]
  },
  {
   "cell_type": "markdown",
   "metadata": {},
   "source": [
    "___"
   ]
  },
  {
   "cell_type": "code",
   "execution_count": 708,
   "metadata": {},
   "outputs": [
    {
     "data": {
      "text/plain": [
       "es_sostenedor_principal\n",
       "True     512\n",
       "False    498\n",
       "Name: count, dtype: int64"
      ]
     },
     "execution_count": 708,
     "metadata": {},
     "output_type": "execute_result"
    }
   ],
   "source": [
    "df_credit_risk_cleaned[\"es_sostenedor_principal\"].value_counts()"
   ]
  },
  {
   "cell_type": "code",
   "execution_count": 709,
   "metadata": {},
   "outputs": [
    {
     "data": {
      "text/plain": [
       "estado_actual_de_la_cuenta\n",
       "yes    532\n",
       "no     478\n",
       "Name: count, dtype: int64"
      ]
     },
     "execution_count": 709,
     "metadata": {},
     "output_type": "execute_result"
    }
   ],
   "source": [
    "df_credit_risk_cleaned[\"estado_actual_de_la_cuenta\"].value_counts()"
   ]
  },
  {
   "cell_type": "code",
   "execution_count": 710,
   "metadata": {},
   "outputs": [
    {
     "data": {
      "text/plain": [
       "tiene_cuenta_conjunta\n",
       "True     523\n",
       "False    487\n",
       "Name: count, dtype: int64"
      ]
     },
     "execution_count": 710,
     "metadata": {},
     "output_type": "execute_result"
    }
   ],
   "source": [
    "df_credit_risk_cleaned[\"tiene_cuenta_conjunta\"].value_counts()"
   ]
  },
  {
   "cell_type": "code",
   "execution_count": 711,
   "metadata": {},
   "outputs": [
    {
     "name": "stderr",
     "output_type": "stream",
     "text": [
      "/var/folders/xx/hcklcr8s0rxd7p5fz63z342w0000gn/T/ipykernel_26431/3527016171.py:3: FutureWarning: DataFrame.applymap has been deprecated. Use DataFrame.map instead.\n",
      "  return df.applymap(lambda x: mapping.get(x, x))\n"
     ]
    }
   ],
   "source": [
    "def map_values(df):\n",
    "    mapping = {'yes': 1, 'True': 1, 'no': 0, 'False': 0}\n",
    "    return df.applymap(lambda x: mapping.get(x, x))\n",
    "\n",
    "df_credit_risk_cleaned = map_values(df_credit_risk_cleaned)"
   ]
  },
  {
   "cell_type": "code",
   "execution_count": 712,
   "metadata": {},
   "outputs": [
    {
     "data": {
      "text/html": [
       "<div>\n",
       "<style scoped>\n",
       "    .dataframe tbody tr th:only-of-type {\n",
       "        vertical-align: middle;\n",
       "    }\n",
       "\n",
       "    .dataframe tbody tr th {\n",
       "        vertical-align: top;\n",
       "    }\n",
       "\n",
       "    .dataframe thead th {\n",
       "        text-align: right;\n",
       "    }\n",
       "</style>\n",
       "<table border=\"1\" class=\"dataframe\">\n",
       "  <thead>\n",
       "    <tr style=\"text-align: right;\">\n",
       "      <th></th>\n",
       "      <th></th>\n",
       "      <th>incumplimiento</th>\n",
       "      <th>tipo_de_cuenta</th>\n",
       "      <th>genero</th>\n",
       "      <th>edad_del_cliente</th>\n",
       "      <th>co_solicitantes</th>\n",
       "      <th>dependientes</th>\n",
       "      <th>monto_del_prestamo</th>\n",
       "      <th>ubicacion_de_sucursal</th>\n",
       "      <th>nivel_de_producto</th>\n",
       "      <th>...</th>\n",
       "      <th>es_sostenedor_principal</th>\n",
       "      <th>grupo_de_puntaje_crediticio</th>\n",
       "      <th>area_residencial</th>\n",
       "      <th>estado_actual_de_la_cuenta</th>\n",
       "      <th>tiene_cuenta_conjunta</th>\n",
       "      <th>indicador_aleatorio</th>\n",
       "      <th>residencial_Rural</th>\n",
       "      <th>residencial_Suburbana</th>\n",
       "      <th>residencial_Urbana</th>\n",
       "      <th>grupo_etario</th>\n",
       "    </tr>\n",
       "  </thead>\n",
       "  <tbody>\n",
       "    <tr>\n",
       "      <th>896</th>\n",
       "      <td>896</td>\n",
       "      <td>1.0</td>\n",
       "      <td>Corriente</td>\n",
       "      <td>Hombre</td>\n",
       "      <td>17</td>\n",
       "      <td>1</td>\n",
       "      <td>0</td>\n",
       "      <td>2319.0</td>\n",
       "      <td>Central</td>\n",
       "      <td>Basico</td>\n",
       "      <td>...</td>\n",
       "      <td>0</td>\n",
       "      <td>E</td>\n",
       "      <td>Urbana</td>\n",
       "      <td>0</td>\n",
       "      <td>0</td>\n",
       "      <td>0.9676085021263028</td>\n",
       "      <td></td>\n",
       "      <td></td>\n",
       "      <td></td>\n",
       "      <td>menor</td>\n",
       "    </tr>\n",
       "    <tr>\n",
       "      <th>897</th>\n",
       "      <td>897</td>\n",
       "      <td>1.0</td>\n",
       "      <td>Inversiones</td>\n",
       "      <td>Mujer</td>\n",
       "      <td>16</td>\n",
       "      <td>1</td>\n",
       "      <td>1</td>\n",
       "      <td>1475.0</td>\n",
       "      <td>Rural</td>\n",
       "      <td>Avanzado</td>\n",
       "      <td>...</td>\n",
       "      <td>0</td>\n",
       "      <td></td>\n",
       "      <td>Urbana</td>\n",
       "      <td>0</td>\n",
       "      <td>0</td>\n",
       "      <td>0.4507801480365124</td>\n",
       "      <td></td>\n",
       "      <td></td>\n",
       "      <td></td>\n",
       "      <td>menor</td>\n",
       "    </tr>\n",
       "    <tr>\n",
       "      <th>898</th>\n",
       "      <td>898</td>\n",
       "      <td>1.0</td>\n",
       "      <td>Ahorro</td>\n",
       "      <td>Mujer</td>\n",
       "      <td>17</td>\n",
       "      <td>2</td>\n",
       "      <td>2</td>\n",
       "      <td>2871.0</td>\n",
       "      <td>Suburbana</td>\n",
       "      <td>Intermedio</td>\n",
       "      <td>...</td>\n",
       "      <td>0</td>\n",
       "      <td>F</td>\n",
       "      <td>Urbana</td>\n",
       "      <td>1</td>\n",
       "      <td>0</td>\n",
       "      <td>0.9858837997915444</td>\n",
       "      <td></td>\n",
       "      <td></td>\n",
       "      <td></td>\n",
       "      <td>menor</td>\n",
       "    </tr>\n",
       "    <tr>\n",
       "      <th>899</th>\n",
       "      <td>899</td>\n",
       "      <td>1.0</td>\n",
       "      <td>Inversiones</td>\n",
       "      <td>Mujer</td>\n",
       "      <td>13</td>\n",
       "      <td>0</td>\n",
       "      <td>1</td>\n",
       "      <td>1526.0</td>\n",
       "      <td>Central</td>\n",
       "      <td>Avanzado</td>\n",
       "      <td>...</td>\n",
       "      <td>0</td>\n",
       "      <td>F</td>\n",
       "      <td>Urbana</td>\n",
       "      <td>0</td>\n",
       "      <td>0</td>\n",
       "      <td>0.9786856989675388</td>\n",
       "      <td></td>\n",
       "      <td></td>\n",
       "      <td></td>\n",
       "      <td>menor</td>\n",
       "    </tr>\n",
       "    <tr>\n",
       "      <th>900</th>\n",
       "      <td>900</td>\n",
       "      <td>1.0</td>\n",
       "      <td>Ahorro</td>\n",
       "      <td>Hombre</td>\n",
       "      <td>17</td>\n",
       "      <td>0</td>\n",
       "      <td>0</td>\n",
       "      <td>1245.0</td>\n",
       "      <td>Rural</td>\n",
       "      <td>Avanzado</td>\n",
       "      <td>...</td>\n",
       "      <td>0</td>\n",
       "      <td>B</td>\n",
       "      <td>Urbana</td>\n",
       "      <td>0</td>\n",
       "      <td>0</td>\n",
       "      <td>0.3246109473632566</td>\n",
       "      <td></td>\n",
       "      <td></td>\n",
       "      <td></td>\n",
       "      <td>menor</td>\n",
       "    </tr>\n",
       "    <tr>\n",
       "      <th>...</th>\n",
       "      <td>...</td>\n",
       "      <td>...</td>\n",
       "      <td>...</td>\n",
       "      <td>...</td>\n",
       "      <td>...</td>\n",
       "      <td>...</td>\n",
       "      <td>...</td>\n",
       "      <td>...</td>\n",
       "      <td>...</td>\n",
       "      <td>...</td>\n",
       "      <td>...</td>\n",
       "      <td>...</td>\n",
       "      <td>...</td>\n",
       "      <td>...</td>\n",
       "      <td>...</td>\n",
       "      <td>...</td>\n",
       "      <td>...</td>\n",
       "      <td>...</td>\n",
       "      <td>...</td>\n",
       "      <td>...</td>\n",
       "      <td>...</td>\n",
       "    </tr>\n",
       "    <tr>\n",
       "      <th>1901</th>\n",
       "      <td>995</td>\n",
       "      <td>0.0</td>\n",
       "      <td>Corriente</td>\n",
       "      <td>Hombre</td>\n",
       "      <td>56</td>\n",
       "      <td>0</td>\n",
       "      <td>1</td>\n",
       "      <td>35253.0</td>\n",
       "      <td>Suiza</td>\n",
       "      <td>Intermedio</td>\n",
       "      <td>...</td>\n",
       "      <td>0</td>\n",
       "      <td>9</td>\n",
       "      <td>Urbana</td>\n",
       "      <td>0</td>\n",
       "      <td>0</td>\n",
       "      <td></td>\n",
       "      <td></td>\n",
       "      <td></td>\n",
       "      <td></td>\n",
       "      <td>mayor</td>\n",
       "    </tr>\n",
       "    <tr>\n",
       "      <th>1902</th>\n",
       "      <td>996</td>\n",
       "      <td>0.0</td>\n",
       "      <td>Corriente</td>\n",
       "      <td>Mujer</td>\n",
       "      <td>66</td>\n",
       "      <td>0</td>\n",
       "      <td>4</td>\n",
       "      <td>14752.0</td>\n",
       "      <td>Suiza</td>\n",
       "      <td>Avanzado</td>\n",
       "      <td>...</td>\n",
       "      <td>0</td>\n",
       "      <td>2</td>\n",
       "      <td>Suburbana</td>\n",
       "      <td>0</td>\n",
       "      <td>1</td>\n",
       "      <td></td>\n",
       "      <td></td>\n",
       "      <td></td>\n",
       "      <td></td>\n",
       "      <td>mayor</td>\n",
       "    </tr>\n",
       "    <tr>\n",
       "      <th>1903</th>\n",
       "      <td>997</td>\n",
       "      <td>0.0</td>\n",
       "      <td>Inversiones</td>\n",
       "      <td>Hombre</td>\n",
       "      <td>34</td>\n",
       "      <td>1</td>\n",
       "      <td>2</td>\n",
       "      <td>21816.0</td>\n",
       "      <td>Suiza</td>\n",
       "      <td>Basico</td>\n",
       "      <td>...</td>\n",
       "      <td>1</td>\n",
       "      <td>10</td>\n",
       "      <td>Rural</td>\n",
       "      <td>1</td>\n",
       "      <td>1</td>\n",
       "      <td></td>\n",
       "      <td></td>\n",
       "      <td></td>\n",
       "      <td></td>\n",
       "      <td>adulto</td>\n",
       "    </tr>\n",
       "    <tr>\n",
       "      <th>1904</th>\n",
       "      <td>998</td>\n",
       "      <td>0.0</td>\n",
       "      <td>Inversiones</td>\n",
       "      <td>Hombre</td>\n",
       "      <td>87</td>\n",
       "      <td>2</td>\n",
       "      <td>2</td>\n",
       "      <td>37871.0</td>\n",
       "      <td>Suiza</td>\n",
       "      <td>Basico</td>\n",
       "      <td>...</td>\n",
       "      <td>0</td>\n",
       "      <td>10</td>\n",
       "      <td>Suburbana</td>\n",
       "      <td>1</td>\n",
       "      <td>0</td>\n",
       "      <td></td>\n",
       "      <td></td>\n",
       "      <td></td>\n",
       "      <td></td>\n",
       "      <td>mayor</td>\n",
       "    </tr>\n",
       "    <tr>\n",
       "      <th>1905</th>\n",
       "      <td>999</td>\n",
       "      <td>0.0</td>\n",
       "      <td>Ahorro</td>\n",
       "      <td>Hombre</td>\n",
       "      <td>87</td>\n",
       "      <td>2</td>\n",
       "      <td>1</td>\n",
       "      <td>19662.0</td>\n",
       "      <td>Suiza</td>\n",
       "      <td>Avanzado</td>\n",
       "      <td>...</td>\n",
       "      <td>1</td>\n",
       "      <td>6</td>\n",
       "      <td>Suburbana</td>\n",
       "      <td>1</td>\n",
       "      <td>0</td>\n",
       "      <td></td>\n",
       "      <td></td>\n",
       "      <td></td>\n",
       "      <td></td>\n",
       "      <td>mayor</td>\n",
       "    </tr>\n",
       "  </tbody>\n",
       "</table>\n",
       "<p>1010 rows × 21 columns</p>\n",
       "</div>"
      ],
      "text/plain": [
       "           incumplimiento tipo_de_cuenta  genero  edad_del_cliente  \\\n",
       "896   896             1.0      Corriente  Hombre                17   \n",
       "897   897             1.0    Inversiones   Mujer                16   \n",
       "898   898             1.0         Ahorro   Mujer                17   \n",
       "899   899             1.0    Inversiones   Mujer                13   \n",
       "900   900             1.0         Ahorro  Hombre                17   \n",
       "...   ...             ...            ...     ...               ...   \n",
       "1901  995             0.0      Corriente  Hombre                56   \n",
       "1902  996             0.0      Corriente   Mujer                66   \n",
       "1903  997             0.0    Inversiones  Hombre                34   \n",
       "1904  998             0.0    Inversiones  Hombre                87   \n",
       "1905  999             0.0         Ahorro  Hombre                87   \n",
       "\n",
       "      co_solicitantes  dependientes  monto_del_prestamo ubicacion_de_sucursal  \\\n",
       "896                 1             0              2319.0               Central   \n",
       "897                 1             1              1475.0                 Rural   \n",
       "898                 2             2              2871.0             Suburbana   \n",
       "899                 0             1              1526.0               Central   \n",
       "900                 0             0              1245.0                 Rural   \n",
       "...               ...           ...                 ...                   ...   \n",
       "1901                0             1             35253.0                 Suiza   \n",
       "1902                0             4             14752.0                 Suiza   \n",
       "1903                1             2             21816.0                 Suiza   \n",
       "1904                2             2             37871.0                 Suiza   \n",
       "1905                2             1             19662.0                 Suiza   \n",
       "\n",
       "     nivel_de_producto  ... es_sostenedor_principal  \\\n",
       "896             Basico  ...                       0   \n",
       "897           Avanzado  ...                       0   \n",
       "898         Intermedio  ...                       0   \n",
       "899           Avanzado  ...                       0   \n",
       "900           Avanzado  ...                       0   \n",
       "...                ...  ...                     ...   \n",
       "1901        Intermedio  ...                       0   \n",
       "1902          Avanzado  ...                       0   \n",
       "1903            Basico  ...                       1   \n",
       "1904            Basico  ...                       0   \n",
       "1905          Avanzado  ...                       1   \n",
       "\n",
       "      grupo_de_puntaje_crediticio area_residencial estado_actual_de_la_cuenta  \\\n",
       "896                             E           Urbana                          0   \n",
       "897                                         Urbana                          0   \n",
       "898                             F           Urbana                          1   \n",
       "899                             F           Urbana                          0   \n",
       "900                             B           Urbana                          0   \n",
       "...                           ...              ...                        ...   \n",
       "1901                            9           Urbana                          0   \n",
       "1902                            2        Suburbana                          0   \n",
       "1903                           10            Rural                          1   \n",
       "1904                           10        Suburbana                          1   \n",
       "1905                            6        Suburbana                          1   \n",
       "\n",
       "      tiene_cuenta_conjunta  indicador_aleatorio residencial_Rural  \\\n",
       "896                       0   0.9676085021263028                     \n",
       "897                       0   0.4507801480365124                     \n",
       "898                       0   0.9858837997915444                     \n",
       "899                       0   0.9786856989675388                     \n",
       "900                       0   0.3246109473632566                     \n",
       "...                     ...                  ...               ...   \n",
       "1901                      0                                          \n",
       "1902                      1                                          \n",
       "1903                      1                                          \n",
       "1904                      0                                          \n",
       "1905                      0                                          \n",
       "\n",
       "     residencial_Suburbana residencial_Urbana grupo_etario  \n",
       "896                                                  menor  \n",
       "897                                                  menor  \n",
       "898                                                  menor  \n",
       "899                                                  menor  \n",
       "900                                                  menor  \n",
       "...                    ...                ...          ...  \n",
       "1901                                                 mayor  \n",
       "1902                                                 mayor  \n",
       "1903                                                adulto  \n",
       "1904                                                 mayor  \n",
       "1905                                                 mayor  \n",
       "\n",
       "[1010 rows x 21 columns]"
      ]
     },
     "execution_count": 712,
     "metadata": {},
     "output_type": "execute_result"
    }
   ],
   "source": [
    "df_credit_risk_cleaned"
   ]
  },
  {
   "cell_type": "markdown",
   "metadata": {},
   "source": [
    "___"
   ]
  },
  {
   "cell_type": "markdown",
   "metadata": {},
   "source": [
    "### → Selección de Características. Decide qué variables incluir en el modelo. Considera excluir variables con sesgos introducidos artificialmente para evaluar su impacto en el rendimiento del modelo."
   ]
  },
  {
   "cell_type": "code",
   "execution_count": 713,
   "metadata": {},
   "outputs": [
    {
     "data": {
      "image/png": "[encoded data removed]",
      "text/plain": [
       "<Figure size 1000x1000 with 2 Axes>"
      ]
     },
     "metadata": {},
     "output_type": "display_data"
    }
   ],
   "source": [
    "from funciones.eda_y_ml import crear_heatmap_correlacion\n",
    "crear_heatmap_correlacion(df_credit_risk)"
   ]
  },
  {
   "cell_type": "code",
   "execution_count": 715,
   "metadata": {},
   "outputs": [
    {
     "name": "stderr",
     "output_type": "stream",
     "text": [
      "/Users/lolonastri/opt/anaconda3/envs/POO-env/lib/python3.11/site-packages/sklearn/utils/validation.py:605: FutureWarning: is_sparse is deprecated and will be removed in a future version. Check `isinstance(dtype, pd.SparseDtype)` instead.\n",
      "  if is_sparse(pd_dtype):\n",
      "/Users/lolonastri/opt/anaconda3/envs/POO-env/lib/python3.11/site-packages/sklearn/utils/validation.py:614: FutureWarning: is_sparse is deprecated and will be removed in a future version. Check `isinstance(dtype, pd.SparseDtype)` instead.\n",
      "  if is_sparse(pd_dtype) or not is_extension_array_dtype(pd_dtype):\n"
     ]
    },
    {
     "data": {
      "text/plain": [
       "array(['adulto', 'joven adulto', 'mayor', 'menor'], dtype=object)"
      ]
     },
     "execution_count": 715,
     "metadata": {},
     "output_type": "execute_result"
    }
   ],
   "source": [
    "from sklearn.preprocessing import LabelEncoder\n",
    "df_credit_risk_le = LabelEncoder()\n",
    "df_credit_risk_le.fit(df_credit_risk_cleaned['grupo_etario'])\n",
    "df_credit_risk_le.classes_"
   ]
  },
  {
   "cell_type": "markdown",
   "metadata": {},
   "source": [
    "___"
   ]
  },
  {
   "cell_type": "markdown",
   "metadata": {},
   "source": [
    "## **Parte 4: Modelado**\n",
    "### → Entrenar un Modelo de Clasificación. Utiliza DecisionTreeClassifier para entrenar un modelo predictivo con los datos procesados. Evaluación del Modelo. Genera una matriz de confusión para evaluar el rendimiento del modelo. Calcula la precisión, el recall y la exactitud del modelo."
   ]
  },
  {
   "cell_type": "markdown",
   "metadata": {},
   "source": [
    "___"
   ]
  },
  {
   "cell_type": "markdown",
   "id": "5831c7f30926e93f",
   "metadata": {
    "collapsed": false
   },
   "source": [
    "# Generar modelo"
   ]
  },
  {
   "cell_type": "code",
   "execution_count": 714,
   "id": "c13380a3b6b1d489",
   "metadata": {
    "ExecuteTime": {
     "end_time": "2023-11-09T11:07:49.443112400Z",
     "start_time": "2023-11-09T11:07:49.438095Z"
    },
    "collapsed": false
   },
   "outputs": [
    {
     "ename": "NameError",
     "evalue": "name 'X' is not defined",
     "output_type": "error",
     "traceback": [
      "\u001b[0;31m---------------------------------------------------------------------------\u001b[0m",
      "\u001b[0;31mNameError\u001b[0m                                 Traceback (most recent call last)",
      "\u001b[1;32m/Users/lolonastri/Desktop/POO_UCEMA/modelos_segundo_parcial/credit_risk/riesgo_crediticio.ipynb Cell 83\u001b[0m line \u001b[0;36m2\n\u001b[1;32m      <a href='vscode-notebook-cell:/Users/lolonastri/Desktop/POO_UCEMA/modelos_segundo_parcial/credit_risk/riesgo_crediticio.ipynb#Y113sZmlsZQ%3D%3D?line=0'>1</a>\u001b[0m \u001b[39m# Split the dataset into training set and test set\u001b[39;00m\n\u001b[0;32m----> <a href='vscode-notebook-cell:/Users/lolonastri/Desktop/POO_UCEMA/modelos_segundo_parcial/credit_risk/riesgo_crediticio.ipynb#Y113sZmlsZQ%3D%3D?line=1'>2</a>\u001b[0m X_train, X_test, y_train, y_test \u001b[39m=\u001b[39m train_test_split(X, y, test_size\u001b[39m=\u001b[39m\u001b[39m0.2\u001b[39m, random_state\u001b[39m=\u001b[39m\u001b[39m42\u001b[39m)\n\u001b[1;32m      <a href='vscode-notebook-cell:/Users/lolonastri/Desktop/POO_UCEMA/modelos_segundo_parcial/credit_risk/riesgo_crediticio.ipynb#Y113sZmlsZQ%3D%3D?line=3'>4</a>\u001b[0m \u001b[39m# Create a Decision Tree classifier object\u001b[39;00m\n\u001b[1;32m      <a href='vscode-notebook-cell:/Users/lolonastri/Desktop/POO_UCEMA/modelos_segundo_parcial/credit_risk/riesgo_crediticio.ipynb#Y113sZmlsZQ%3D%3D?line=4'>5</a>\u001b[0m clf \u001b[39m=\u001b[39m DecisionTreeClassifier(max_depth\u001b[39m=\u001b[39m\u001b[39m3\u001b[39m)\n",
      "\u001b[0;31mNameError\u001b[0m: name 'X' is not defined"
     ]
    }
   ],
   "source": [
    "# Split the dataset into training set and test set\n",
    "X_train, X_test, y_train, y_test = train_test_split(X, y, test_size=0.2, random_state=42)\n",
    "\n",
    "# Create a Decision Tree classifier object\n",
    "clf = DecisionTreeClassifier(max_depth=3)\n",
    "\n",
    "# Train Decision Tree Classifier\n",
    "clf = clf.fit(X_train, y_train)\n",
    "\n",
    "# Predict the response for test dataset\n",
    "y_pred = clf.predict(X_test)\n",
    "\n",
    "# Creating a confusion matrix\n",
    "conf_matrix = confusion_matrix(y_test, y_pred)\n",
    "\n",
    "# Calculating metrics manually using the confusion matrix\n",
    "tp, fn, fp, tn = conf_matrix.ravel()\n",
    "\n",
    "# Metrics calculation\n",
    "accuracy = (tp + tn) / (tp + tn + fp + fn)\n",
    "precision = tp / (tp + fp) if (tp + fp) > 0 else 0  # Handling the case where tp + fp is 0\n",
    "recall = tp / (tp + fn) if (tp + fn) > 0 else 0     # Handling the case where tp + fn is 0"
   ]
  }
 ],
 "metadata": {
  "kernelspec": {
   "display_name": "Python 3",
   "language": "python",
   "name": "python3"
  },
  "language_info": {
   "codemirror_mode": {
    "name": "ipython",
    "version": 3
   },
   "file_extension": ".py",
   "mimetype": "text/x-python",
   "name": "python",
   "nbconvert_exporter": "python",
   "pygments_lexer": "ipython3",
   "version": "3.11.5"
  }
 },
 "nbformat": 4,
 "nbformat_minor": 5
}
