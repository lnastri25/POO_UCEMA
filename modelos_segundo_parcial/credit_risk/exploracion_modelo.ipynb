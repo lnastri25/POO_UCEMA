{
 "cells": [
  {
   "cell_type": "markdown",
   "id": "396a1d4a3c30a742",
   "metadata": {
    "collapsed": false
   },
   "source": [
    "# Credit Risk\n",
    "\n",
    "https://drive.google.com/file/d/18fuLcW2ZSi4gz_ENkDFpySuS5s53GNYf/view?usp=sharing\n",
    "\n",
    "El conjunto de datos proporcionado representa información sobre riesgo crediticio generada por un banco internacional con operaciones en Argentina. Estos datos han sido transformados y enriquecidos para reflejar diferentes situaciones y comportamientos de pago de los clientes que podrían afectar la precisión de los modelos de predicción de riesgos. El ejercicio consiste en identificar y analizar posibles sesgos en variables clave del conjunto de datos, tales como la edad del cliente, el monto del préstamo y el tipo de empleo, utilizando métodos de estadística descriptiva, pruebas de hipótesis y visualizaciones.\n",
    "\n",
    "\n",
    "**Parte 1: Comprensión y Preparación de Datos**\n",
    "\n",
    "Explorar el conjunto de datos. Utiliza métodos descriptivos para obtener una comprensión general de las características del conjunto de datos (por ejemplo, .describe(), .info()). Identificar valores atípicos. Genera estadísticas descriptivas y visualizaciones (boxplots, scatter plots) para identificar outliers en 'monto_del_prestamo'.\n",
    "\n",
    "**Parte 2: Análisis Exploratorio de Datos**\n",
    "Análisis de sesgos por edad. Usa groupby para calcular la tasa de incumplimiento promedio por grupo de edad. Crea histogramas de edad para deudores y no deudores. Realiza un t-test para comparar las tasas de incumplimiento entre menores de edad y otros grupos de edad. Análisis de sesgos por monto del préstamo. Genera histogramas de 'monto_del_prestamo' para visualizar la distribución de los montos para deudores y no deudores. Compara las distribuciones de 'monto_del_prestamo' entre buenos y malos pagadores con un t-test. Análisis de sesgos por tipo de empleo. Usa groupby para comparar las tasas de incumplimiento entre diferentes tipos de empleo. Explora la relación entre el estado laboral y la tasa de incumplimiento con visualizaciones adecuadas.\n",
    "\n",
    "**Parte 3: Preparación de Datos para Modelado**\n",
    "Limpieza de Datos. Asegúrate de que todos los datos estén correctamente codificados y de que no haya valores faltantes o irrelevantes en el conjunto de datos.\n",
    "Selección de Características. Decide qué variables incluir en el modelo. Considera excluir variables con sesgos introducidos artificialmente para evaluar su impacto en el rendimiento del modelo.\n",
    "\n",
    "**Parte 4: Modelado**\n",
    "Entrenar un Modelo de Clasificación. Utiliza DecisionTreeClassifier para entrenar un modelo predictivo con los datos procesados.\n",
    "Evaluación del Modelo. Genera una matriz de confusión para evaluar el rendimiento del modelo. Calcula la precisión, el recall y la exactitud del modelo.\n",
    "\n"
   ]
  },
  {
   "cell_type": "code",
   "execution_count": 1,
   "id": "f0633e8236021ba1",
   "metadata": {
    "ExecuteTime": {
     "end_time": "2023-11-09T11:18:44.326854Z",
     "start_time": "2023-11-09T11:18:44.326854Z"
    },
    "collapsed": false
   },
   "outputs": [
    {
     "name": "stdout",
     "output_type": "stream",
     "text": [
      "Intel MKL WARNING: Support of Intel(R) Streaming SIMD Extensions 4.2 (Intel(R) SSE4.2) enabled only processors has been deprecated. Intel oneAPI Math Kernel Library 2025.0 will require Intel(R) Advanced Vector Extensions (Intel(R) AVX) instructions.\n",
      "Intel MKL WARNING: Support of Intel(R) Streaming SIMD Extensions 4.2 (Intel(R) SSE4.2) enabled only processors has been deprecated. Intel oneAPI Math Kernel Library 2025.0 will require Intel(R) Advanced Vector Extensions (Intel(R) AVX) instructions.\n"
     ]
    }
   ],
   "source": [
    "import seaborn as sns\n",
    "import numpy as np\n",
    "import pandas as pd\n",
    "from sklearn.model_selection import train_test_split\n",
    "from sklearn.tree import DecisionTreeClassifier\n",
    "from sklearn.metrics import confusion_matrix, accuracy_score, precision_score, recall_score\n",
    "import seaborn as sns"
   ]
  },
  {
   "cell_type": "code",
   "execution_count": 2,
   "id": "d235f8cd0afbcf23",
   "metadata": {
    "ExecuteTime": {
     "end_time": "2023-11-09T11:20:07.812111500Z",
     "start_time": "2023-11-09T11:20:07.753461100Z"
    },
    "collapsed": false
   },
   "outputs": [],
   "source": [
    "df_credit_risk = pd.read_csv(\"/Users/lolonastri/Desktop/POO_UCEMA/modelos_segundo_parcial/credit_risk/credit_risk.csv\")\n",
    "df_credit_risk = df_credit_risk.copy()"
   ]
  },
  {
   "cell_type": "code",
   "execution_count": 3,
   "metadata": {},
   "outputs": [
    {
     "data": {
      "text/html": [
       "<div>\n",
       "<style scoped>\n",
       "    .dataframe tbody tr th:only-of-type {\n",
       "        vertical-align: middle;\n",
       "    }\n",
       "\n",
       "    .dataframe tbody tr th {\n",
       "        vertical-align: top;\n",
       "    }\n",
       "\n",
       "    .dataframe thead th {\n",
       "        text-align: right;\n",
       "    }\n",
       "</style>\n",
       "<table border=\"1\" class=\"dataframe\">\n",
       "  <thead>\n",
       "    <tr style=\"text-align: right;\">\n",
       "      <th></th>\n",
       "      <th></th>\n",
       "      <th>incumplimiento</th>\n",
       "      <th>tipo_de_cuenta</th>\n",
       "      <th>genero</th>\n",
       "      <th>edad_del_cliente</th>\n",
       "      <th>co_solicitantes</th>\n",
       "      <th>dependientes</th>\n",
       "      <th>monto_del_prestamo</th>\n",
       "      <th>ubicacion_de_sucursal</th>\n",
       "      <th>nivel_de_producto</th>\n",
       "      <th>estatus_laboral</th>\n",
       "      <th>es_sostenedor_principal</th>\n",
       "      <th>grupo_de_puntaje_crediticio</th>\n",
       "      <th>area_residencial</th>\n",
       "      <th>estado_actual_de_la_cuenta</th>\n",
       "      <th>tiene_cuenta_conjunta</th>\n",
       "      <th>indicador_aleatorio</th>\n",
       "      <th>residencial_Rural</th>\n",
       "      <th>residencial_Suburbana</th>\n",
       "      <th>residencial_Urbana</th>\n",
       "    </tr>\n",
       "  </thead>\n",
       "  <tbody>\n",
       "    <tr>\n",
       "      <th>0</th>\n",
       "      <td>0</td>\n",
       "      <td>1.0</td>\n",
       "      <td>3</td>\n",
       "      <td>male</td>\n",
       "      <td>26.618129</td>\n",
       "      <td>1</td>\n",
       "      <td>0</td>\n",
       "      <td>7.2500</td>\n",
       "      <td>Suburbana</td>\n",
       "      <td>Third</td>\n",
       "      <td>man</td>\n",
       "      <td>True</td>\n",
       "      <td></td>\n",
       "      <td>Urbana</td>\n",
       "      <td>no</td>\n",
       "      <td>0</td>\n",
       "      <td>0.9494354298674084</td>\n",
       "      <td>0.0</td>\n",
       "      <td>0.0</td>\n",
       "      <td>1.0</td>\n",
       "    </tr>\n",
       "    <tr>\n",
       "      <th>1</th>\n",
       "      <td>1</td>\n",
       "      <td>1.0</td>\n",
       "      <td>3</td>\n",
       "      <td>female</td>\n",
       "      <td>27.395476</td>\n",
       "      <td>1</td>\n",
       "      <td>0</td>\n",
       "      <td>71.2833</td>\n",
       "      <td>Central</td>\n",
       "      <td>First</td>\n",
       "      <td>woman</td>\n",
       "      <td>False</td>\n",
       "      <td>C</td>\n",
       "      <td>Urbana</td>\n",
       "      <td>yes</td>\n",
       "      <td>0</td>\n",
       "      <td>0.0152425151741839</td>\n",
       "      <td>0.0</td>\n",
       "      <td>0.0</td>\n",
       "      <td>1.0</td>\n",
       "    </tr>\n",
       "    <tr>\n",
       "      <th>2</th>\n",
       "      <td>2</td>\n",
       "      <td>1.0</td>\n",
       "      <td>1</td>\n",
       "      <td>female</td>\n",
       "      <td>48.696543</td>\n",
       "      <td>0</td>\n",
       "      <td>0</td>\n",
       "      <td>7.9250</td>\n",
       "      <td>Suburbana</td>\n",
       "      <td>Third</td>\n",
       "      <td>woman</td>\n",
       "      <td>False</td>\n",
       "      <td></td>\n",
       "      <td>Rural</td>\n",
       "      <td>yes</td>\n",
       "      <td>1</td>\n",
       "      <td>0.6723719434749519</td>\n",
       "      <td>1.0</td>\n",
       "      <td>0.0</td>\n",
       "      <td>0.0</td>\n",
       "    </tr>\n",
       "    <tr>\n",
       "      <th>3</th>\n",
       "      <td>3</td>\n",
       "      <td>1.0</td>\n",
       "      <td>3</td>\n",
       "      <td>female</td>\n",
       "      <td>25.491890</td>\n",
       "      <td>1</td>\n",
       "      <td>0</td>\n",
       "      <td>53.1000</td>\n",
       "      <td>Suburbana</td>\n",
       "      <td>First</td>\n",
       "      <td>woman</td>\n",
       "      <td>False</td>\n",
       "      <td>C</td>\n",
       "      <td>Urbana</td>\n",
       "      <td>yes</td>\n",
       "      <td>0</td>\n",
       "      <td>0.4035980372889746</td>\n",
       "      <td>0.0</td>\n",
       "      <td>0.0</td>\n",
       "      <td>1.0</td>\n",
       "    </tr>\n",
       "    <tr>\n",
       "      <th>4</th>\n",
       "      <td>4</td>\n",
       "      <td>0.0</td>\n",
       "      <td>1</td>\n",
       "      <td>male</td>\n",
       "      <td>41.038217</td>\n",
       "      <td>0</td>\n",
       "      <td>0</td>\n",
       "      <td>8.0500</td>\n",
       "      <td>Suburbana</td>\n",
       "      <td>Third</td>\n",
       "      <td>man</td>\n",
       "      <td>True</td>\n",
       "      <td></td>\n",
       "      <td>Suburbana</td>\n",
       "      <td>no</td>\n",
       "      <td>1</td>\n",
       "      <td>0.8529009409462249</td>\n",
       "      <td>0.0</td>\n",
       "      <td>1.0</td>\n",
       "      <td>0.0</td>\n",
       "    </tr>\n",
       "  </tbody>\n",
       "</table>\n",
       "</div>"
      ],
      "text/plain": [
       "         incumplimiento   tipo_de_cuenta   genero   edad_del_cliente     \\\n",
       "0     0              1.0  3                male               26.618129   \n",
       "1     1              1.0  3                female             27.395476   \n",
       "2     2              1.0  1                female             48.696543   \n",
       "3     3              1.0  3                female             25.491890   \n",
       "4     4              0.0  1                male               41.038217   \n",
       "\n",
       "   co_solicitantes   dependientes   monto_del_prestamo   \\\n",
       "0                 1              0               7.2500   \n",
       "1                 1              0              71.2833   \n",
       "2                 0              0               7.9250   \n",
       "3                 1              0              53.1000   \n",
       "4                 0              0               8.0500   \n",
       "\n",
       "   ubicacion_de_sucursal   nivel_de_producto   estatus_laboral            \\\n",
       "0  Suburbana               Third               man                         \n",
       "1  Central                 First               woman                       \n",
       "2  Suburbana               Third               woman                       \n",
       "3  Suburbana               First               woman                       \n",
       "4  Suburbana               Third               man                         \n",
       "\n",
       "   es_sostenedor_principal   grupo_de_puntaje_crediticio   area_residencial   \\\n",
       "0  True                                                    Urbana              \n",
       "1  False                     C                             Urbana              \n",
       "2  False                                                   Rural               \n",
       "3  False                     C                             Urbana              \n",
       "4  True                                                    Suburbana           \n",
       "\n",
       "   estado_actual_de_la_cuenta   tiene_cuenta_conjunta   \\\n",
       "0  no                           0                        \n",
       "1  yes                          0                        \n",
       "2  yes                          1                        \n",
       "3  yes                          0                        \n",
       "4  no                           1                        \n",
       "\n",
       "   indicador_aleatorio      residencial_Rural   residencial_Suburbana   \\\n",
       "0  0.9494354298674084                     0.0                     0.0    \n",
       "1  0.0152425151741839                     0.0                     0.0    \n",
       "2  0.6723719434749519                     1.0                     0.0    \n",
       "3  0.4035980372889746                     0.0                     0.0    \n",
       "4  0.8529009409462249                     0.0                     1.0    \n",
       "\n",
       "   residencial_Urbana  \n",
       "0                 1.0  \n",
       "1                 1.0  \n",
       "2                 0.0  \n",
       "3                 1.0  \n",
       "4                 0.0  "
      ]
     },
     "execution_count": 3,
     "metadata": {},
     "output_type": "execute_result"
    }
   ],
   "source": [
    "df_credit_risk.head()"
   ]
  },
  {
   "cell_type": "markdown",
   "metadata": {},
   "source": [
    "___"
   ]
  },
  {
   "cell_type": "markdown",
   "metadata": {},
   "source": [
    "## **Parte 1: Comprensión y Preparación de Datos**"
   ]
  },
  {
   "cell_type": "code",
   "execution_count": 4,
   "metadata": {},
   "outputs": [
    {
     "data": {
      "text/plain": [
       "Index(['    ', 'incumplimiento ', 'tipo_de_cuenta ', 'genero ',\n",
       "       'edad_del_cliente   ', 'co_solicitantes ', 'dependientes ',\n",
       "       'monto_del_prestamo ', 'ubicacion_de_sucursal ', 'nivel_de_producto ',\n",
       "       'estatus_laboral          ', 'es_sostenedor_principal ',\n",
       "       'grupo_de_puntaje_crediticio ', 'area_residencial ',\n",
       "       'estado_actual_de_la_cuenta ', 'tiene_cuenta_conjunta ',\n",
       "       'indicador_aleatorio    ', 'residencial_Rural ',\n",
       "       'residencial_Suburbana ', 'residencial_Urbana'],\n",
       "      dtype='object')"
      ]
     },
     "execution_count": 4,
     "metadata": {},
     "output_type": "execute_result"
    }
   ],
   "source": [
    "df_credit_risk.columns"
   ]
  },
  {
   "cell_type": "code",
   "execution_count": 5,
   "metadata": {},
   "outputs": [],
   "source": [
    "from funciones.eda_y_ml import whitespace_remover_and_columns\n",
    "df_credit_risk = whitespace_remover_and_columns(df_credit_risk)"
   ]
  },
  {
   "cell_type": "markdown",
   "metadata": {},
   "source": [
    "### → Validación de la data"
   ]
  },
  {
   "cell_type": "code",
   "execution_count": 6,
   "metadata": {},
   "outputs": [
    {
     "data": {
      "text/plain": [
       "Index(['', 'incumplimiento', 'tipo_de_cuenta', 'genero', 'edad_del_cliente',\n",
       "       'co_solicitantes', 'dependientes', 'monto_del_prestamo',\n",
       "       'ubicacion_de_sucursal', 'nivel_de_producto', 'estatus_laboral',\n",
       "       'es_sostenedor_principal', 'grupo_de_puntaje_crediticio',\n",
       "       'area_residencial', 'estado_actual_de_la_cuenta',\n",
       "       'tiene_cuenta_conjunta', 'indicador_aleatorio', 'residencial_Rural',\n",
       "       'residencial_Suburbana', 'residencial_Urbana'],\n",
       "      dtype='object')"
      ]
     },
     "execution_count": 6,
     "metadata": {},
     "output_type": "execute_result"
    }
   ],
   "source": [
    "df_credit_risk.columns"
   ]
  },
  {
   "cell_type": "code",
   "execution_count": 8,
   "metadata": {},
   "outputs": [
    {
     "name": "stdout",
     "output_type": "stream",
     "text": [
      "El dataset tiene 1906 filas.\n",
      "El dataset tiene 20 columnas.\n"
     ]
    }
   ],
   "source": [
    "print(\"El dataset tiene \" + str(df_credit_risk.shape[0])+ \" filas.\")\n",
    "print(\"El dataset tiene \" + str(df_credit_risk.shape[1])+ \" columnas.\")"
   ]
  },
  {
   "cell_type": "code",
   "execution_count": 7,
   "metadata": {},
   "outputs": [
    {
     "data": {
      "text/html": [
       "<div>\n",
       "<style scoped>\n",
       "    .dataframe tbody tr th:only-of-type {\n",
       "        vertical-align: middle;\n",
       "    }\n",
       "\n",
       "    .dataframe tbody tr th {\n",
       "        vertical-align: top;\n",
       "    }\n",
       "\n",
       "    .dataframe thead th {\n",
       "        text-align: right;\n",
       "    }\n",
       "</style>\n",
       "<table border=\"1\" class=\"dataframe\">\n",
       "  <thead>\n",
       "    <tr style=\"text-align: right;\">\n",
       "      <th></th>\n",
       "      <th>Unique_Values</th>\n",
       "      <th>Num_Unique_Values</th>\n",
       "      <th>Num_Null_Values</th>\n",
       "      <th>%_Null_Values</th>\n",
       "      <th>Sample_Unique_Values</th>\n",
       "    </tr>\n",
       "  </thead>\n",
       "  <tbody>\n",
       "    <tr>\n",
       "      <th></th>\n",
       "      <td>NaN</td>\n",
       "      <td>1906.0</td>\n",
       "      <td>0</td>\n",
       "      <td>0.0</td>\n",
       "      <td>[112, 950, 692, 277, 814]</td>\n",
       "    </tr>\n",
       "    <tr>\n",
       "      <th>incumplimiento</th>\n",
       "      <td>NaN</td>\n",
       "      <td>1906.0</td>\n",
       "      <td>0</td>\n",
       "      <td>0.0</td>\n",
       "      <td>[0.0, 0.0, 0.0, 0.0, 0.0]</td>\n",
       "    </tr>\n",
       "    <tr>\n",
       "      <th>tipo_de_cuenta</th>\n",
       "      <td>6</td>\n",
       "      <td>1906</td>\n",
       "      <td>0</td>\n",
       "      <td>0.0</td>\n",
       "      <td>[Ahorro, Inversiones, 1, Inversiones, Ahorro]</td>\n",
       "    </tr>\n",
       "    <tr>\n",
       "      <th>genero</th>\n",
       "      <td>4</td>\n",
       "      <td>1906</td>\n",
       "      <td>0</td>\n",
       "      <td>0.0</td>\n",
       "      <td>[Mujer, Mujer, male, Mujer, Mujer]</td>\n",
       "    </tr>\n",
       "    <tr>\n",
       "      <th>edad_del_cliente</th>\n",
       "      <td>NaN</td>\n",
       "      <td>1906.0</td>\n",
       "      <td>0</td>\n",
       "      <td>0.0</td>\n",
       "      <td>[55.0, 87.0, 48.28185968815671, 52.0, 75.0]</td>\n",
       "    </tr>\n",
       "    <tr>\n",
       "      <th>co_solicitantes</th>\n",
       "      <td>NaN</td>\n",
       "      <td>1906.0</td>\n",
       "      <td>0</td>\n",
       "      <td>0.0</td>\n",
       "      <td>[2, 2, 0, 0, 1]</td>\n",
       "    </tr>\n",
       "    <tr>\n",
       "      <th>dependientes</th>\n",
       "      <td>NaN</td>\n",
       "      <td>1906.0</td>\n",
       "      <td>0</td>\n",
       "      <td>0.0</td>\n",
       "      <td>[2, 0, 0, 0, 1]</td>\n",
       "    </tr>\n",
       "    <tr>\n",
       "      <th>monto_del_prestamo</th>\n",
       "      <td>NaN</td>\n",
       "      <td>1906.0</td>\n",
       "      <td>0</td>\n",
       "      <td>0.0</td>\n",
       "      <td>[2532.0, 6081.0, 56.4958, 24166.0, 17027.0]</td>\n",
       "    </tr>\n",
       "    <tr>\n",
       "      <th>ubicacion_de_sucursal</th>\n",
       "      <td>7</td>\n",
       "      <td>1906</td>\n",
       "      <td>0</td>\n",
       "      <td>0.0</td>\n",
       "      <td>[Suiza, Suiza, Suburbana, Suiza, Suiza]</td>\n",
       "    </tr>\n",
       "    <tr>\n",
       "      <th>nivel_de_producto</th>\n",
       "      <td>6</td>\n",
       "      <td>1906</td>\n",
       "      <td>0</td>\n",
       "      <td>0.0</td>\n",
       "      <td>[Intermedio, Avanzado, Third, Avanzado, Interm...</td>\n",
       "    </tr>\n",
       "    <tr>\n",
       "      <th>estatus_laboral</th>\n",
       "      <td>10</td>\n",
       "      <td>1906</td>\n",
       "      <td>0</td>\n",
       "      <td>0.0</td>\n",
       "      <td>[Desempleo, Empleo, man, Desempleo, Retirado]</td>\n",
       "    </tr>\n",
       "    <tr>\n",
       "      <th>es_sostenedor_principal</th>\n",
       "      <td>2</td>\n",
       "      <td>1906</td>\n",
       "      <td>0</td>\n",
       "      <td>0.0</td>\n",
       "      <td>[False, True, True, True, True]</td>\n",
       "    </tr>\n",
       "    <tr>\n",
       "      <th>grupo_de_puntaje_crediticio</th>\n",
       "      <td>18</td>\n",
       "      <td>1906</td>\n",
       "      <td>0</td>\n",
       "      <td>0.0</td>\n",
       "      <td>[7, 5, , 2, 3]</td>\n",
       "    </tr>\n",
       "    <tr>\n",
       "      <th>area_residencial</th>\n",
       "      <td>3</td>\n",
       "      <td>1906</td>\n",
       "      <td>0</td>\n",
       "      <td>0.0</td>\n",
       "      <td>[Urbana, Urbana, Rural, Suburbana, Suburbana]</td>\n",
       "    </tr>\n",
       "    <tr>\n",
       "      <th>estado_actual_de_la_cuenta</th>\n",
       "      <td>2</td>\n",
       "      <td>1906</td>\n",
       "      <td>0</td>\n",
       "      <td>0.0</td>\n",
       "      <td>[no, no, yes, no, yes]</td>\n",
       "    </tr>\n",
       "    <tr>\n",
       "      <th>tiene_cuenta_conjunta</th>\n",
       "      <td>4</td>\n",
       "      <td>1906</td>\n",
       "      <td>0</td>\n",
       "      <td>0.0</td>\n",
       "      <td>[True, False, 1, True, False]</td>\n",
       "    </tr>\n",
       "    <tr>\n",
       "      <th>indicador_aleatorio</th>\n",
       "      <td>907</td>\n",
       "      <td>1906</td>\n",
       "      <td>0</td>\n",
       "      <td>0.0</td>\n",
       "      <td>[, , 0.5617880923161377, , ]</td>\n",
       "    </tr>\n",
       "    <tr>\n",
       "      <th>residencial_Rural</th>\n",
       "      <td>3</td>\n",
       "      <td>1906</td>\n",
       "      <td>0</td>\n",
       "      <td>0.0</td>\n",
       "      <td>[, , 1.0, , ]</td>\n",
       "    </tr>\n",
       "    <tr>\n",
       "      <th>residencial_Suburbana</th>\n",
       "      <td>3</td>\n",
       "      <td>1906</td>\n",
       "      <td>0</td>\n",
       "      <td>0.0</td>\n",
       "      <td>[, , 0.0, , ]</td>\n",
       "    </tr>\n",
       "    <tr>\n",
       "      <th>residencial_Urbana</th>\n",
       "      <td>3</td>\n",
       "      <td>1906</td>\n",
       "      <td>0</td>\n",
       "      <td>0.0</td>\n",
       "      <td>[, , 0.0, , ]</td>\n",
       "    </tr>\n",
       "  </tbody>\n",
       "</table>\n",
       "</div>"
      ],
      "text/plain": [
       "                            Unique_Values Num_Unique_Values  Num_Null_Values  \\\n",
       "                                      NaN            1906.0                0   \n",
       "incumplimiento                        NaN            1906.0                0   \n",
       "tipo_de_cuenta                          6              1906                0   \n",
       "genero                                  4              1906                0   \n",
       "edad_del_cliente                      NaN            1906.0                0   \n",
       "co_solicitantes                       NaN            1906.0                0   \n",
       "dependientes                          NaN            1906.0                0   \n",
       "monto_del_prestamo                    NaN            1906.0                0   \n",
       "ubicacion_de_sucursal                   7              1906                0   \n",
       "nivel_de_producto                       6              1906                0   \n",
       "estatus_laboral                        10              1906                0   \n",
       "es_sostenedor_principal                 2              1906                0   \n",
       "grupo_de_puntaje_crediticio            18              1906                0   \n",
       "area_residencial                        3              1906                0   \n",
       "estado_actual_de_la_cuenta              2              1906                0   \n",
       "tiene_cuenta_conjunta                   4              1906                0   \n",
       "indicador_aleatorio                   907              1906                0   \n",
       "residencial_Rural                       3              1906                0   \n",
       "residencial_Suburbana                   3              1906                0   \n",
       "residencial_Urbana                      3              1906                0   \n",
       "\n",
       "                             %_Null_Values  \\\n",
       "                                       0.0   \n",
       "incumplimiento                         0.0   \n",
       "tipo_de_cuenta                         0.0   \n",
       "genero                                 0.0   \n",
       "edad_del_cliente                       0.0   \n",
       "co_solicitantes                        0.0   \n",
       "dependientes                           0.0   \n",
       "monto_del_prestamo                     0.0   \n",
       "ubicacion_de_sucursal                  0.0   \n",
       "nivel_de_producto                      0.0   \n",
       "estatus_laboral                        0.0   \n",
       "es_sostenedor_principal                0.0   \n",
       "grupo_de_puntaje_crediticio            0.0   \n",
       "area_residencial                       0.0   \n",
       "estado_actual_de_la_cuenta             0.0   \n",
       "tiene_cuenta_conjunta                  0.0   \n",
       "indicador_aleatorio                    0.0   \n",
       "residencial_Rural                      0.0   \n",
       "residencial_Suburbana                  0.0   \n",
       "residencial_Urbana                     0.0   \n",
       "\n",
       "                                                          Sample_Unique_Values  \n",
       "                                                     [112, 950, 692, 277, 814]  \n",
       "incumplimiento                                       [0.0, 0.0, 0.0, 0.0, 0.0]  \n",
       "tipo_de_cuenta                   [Ahorro, Inversiones, 1, Inversiones, Ahorro]  \n",
       "genero                                      [Mujer, Mujer, male, Mujer, Mujer]  \n",
       "edad_del_cliente                   [55.0, 87.0, 48.28185968815671, 52.0, 75.0]  \n",
       "co_solicitantes                                                [2, 2, 0, 0, 1]  \n",
       "dependientes                                                   [2, 0, 0, 0, 1]  \n",
       "monto_del_prestamo                 [2532.0, 6081.0, 56.4958, 24166.0, 17027.0]  \n",
       "ubicacion_de_sucursal                  [Suiza, Suiza, Suburbana, Suiza, Suiza]  \n",
       "nivel_de_producto            [Intermedio, Avanzado, Third, Avanzado, Interm...  \n",
       "estatus_laboral                  [Desempleo, Empleo, man, Desempleo, Retirado]  \n",
       "es_sostenedor_principal                        [False, True, True, True, True]  \n",
       "grupo_de_puntaje_crediticio                                     [7, 5, , 2, 3]  \n",
       "area_residencial                 [Urbana, Urbana, Rural, Suburbana, Suburbana]  \n",
       "estado_actual_de_la_cuenta                              [no, no, yes, no, yes]  \n",
       "tiene_cuenta_conjunta                            [True, False, 1, True, False]  \n",
       "indicador_aleatorio                               [, , 0.5617880923161377, , ]  \n",
       "residencial_Rural                                                [, , 1.0, , ]  \n",
       "residencial_Suburbana                                            [, , 0.0, , ]  \n",
       "residencial_Urbana                                               [, , 0.0, , ]  "
      ]
     },
     "execution_count": 7,
     "metadata": {},
     "output_type": "execute_result"
    }
   ],
   "source": [
    "from funciones.eda_y_ml import validate_columns \n",
    "validate_columns(df_credit_risk)"
   ]
  },
  {
   "cell_type": "code",
   "execution_count": 8,
   "metadata": {},
   "outputs": [
    {
     "data": {
      "text/html": [
       "<div>\n",
       "<style scoped>\n",
       "    .dataframe tbody tr th:only-of-type {\n",
       "        vertical-align: middle;\n",
       "    }\n",
       "\n",
       "    .dataframe tbody tr th {\n",
       "        vertical-align: top;\n",
       "    }\n",
       "\n",
       "    .dataframe thead th {\n",
       "        text-align: right;\n",
       "    }\n",
       "</style>\n",
       "<table border=\"1\" class=\"dataframe\">\n",
       "  <thead>\n",
       "    <tr style=\"text-align: right;\">\n",
       "      <th></th>\n",
       "      <th></th>\n",
       "      <th>incumplimiento</th>\n",
       "      <th>edad_del_cliente</th>\n",
       "      <th>co_solicitantes</th>\n",
       "      <th>dependientes</th>\n",
       "      <th>monto_del_prestamo</th>\n",
       "    </tr>\n",
       "  </thead>\n",
       "  <tbody>\n",
       "    <tr>\n",
       "      <th>count</th>\n",
       "      <td>1906.000000</td>\n",
       "      <td>1906.000000</td>\n",
       "      <td>1906.000000</td>\n",
       "      <td>1906.000000</td>\n",
       "      <td>1906.000000</td>\n",
       "      <td>1906.000000</td>\n",
       "    </tr>\n",
       "    <tr>\n",
       "      <th>mean</th>\n",
       "      <td>477.158972</td>\n",
       "      <td>0.244491</td>\n",
       "      <td>44.572590</td>\n",
       "      <td>0.772298</td>\n",
       "      <td>1.228227</td>\n",
       "      <td>13629.753908</td>\n",
       "    </tr>\n",
       "    <tr>\n",
       "      <th>std</th>\n",
       "      <td>277.177678</td>\n",
       "      <td>0.429898</td>\n",
       "      <td>18.993413</td>\n",
       "      <td>0.995311</td>\n",
       "      <td>1.416017</td>\n",
       "      <td>16618.634074</td>\n",
       "    </tr>\n",
       "    <tr>\n",
       "      <th>min</th>\n",
       "      <td>0.000000</td>\n",
       "      <td>0.000000</td>\n",
       "      <td>13.000000</td>\n",
       "      <td>0.000000</td>\n",
       "      <td>0.000000</td>\n",
       "      <td>0.000000</td>\n",
       "    </tr>\n",
       "    <tr>\n",
       "      <th>25%</th>\n",
       "      <td>238.000000</td>\n",
       "      <td>0.000000</td>\n",
       "      <td>27.000000</td>\n",
       "      <td>0.000000</td>\n",
       "      <td>0.000000</td>\n",
       "      <td>15.743775</td>\n",
       "    </tr>\n",
       "    <tr>\n",
       "      <th>50%</th>\n",
       "      <td>476.000000</td>\n",
       "      <td>0.000000</td>\n",
       "      <td>45.320818</td>\n",
       "      <td>0.000000</td>\n",
       "      <td>1.000000</td>\n",
       "      <td>3550.500000</td>\n",
       "    </tr>\n",
       "    <tr>\n",
       "      <th>75%</th>\n",
       "      <td>714.000000</td>\n",
       "      <td>0.000000</td>\n",
       "      <td>53.713813</td>\n",
       "      <td>1.000000</td>\n",
       "      <td>2.000000</td>\n",
       "      <td>26848.750000</td>\n",
       "    </tr>\n",
       "    <tr>\n",
       "      <th>max</th>\n",
       "      <td>999.000000</td>\n",
       "      <td>1.000000</td>\n",
       "      <td>89.000000</td>\n",
       "      <td>8.000000</td>\n",
       "      <td>6.000000</td>\n",
       "      <td>63610.000000</td>\n",
       "    </tr>\n",
       "  </tbody>\n",
       "</table>\n",
       "</div>"
      ],
      "text/plain": [
       "                    incumplimiento  edad_del_cliente  co_solicitantes  \\\n",
       "count  1906.000000     1906.000000       1906.000000      1906.000000   \n",
       "mean    477.158972        0.244491         44.572590         0.772298   \n",
       "std     277.177678        0.429898         18.993413         0.995311   \n",
       "min       0.000000        0.000000         13.000000         0.000000   \n",
       "25%     238.000000        0.000000         27.000000         0.000000   \n",
       "50%     476.000000        0.000000         45.320818         0.000000   \n",
       "75%     714.000000        0.000000         53.713813         1.000000   \n",
       "max     999.000000        1.000000         89.000000         8.000000   \n",
       "\n",
       "       dependientes  monto_del_prestamo  \n",
       "count   1906.000000         1906.000000  \n",
       "mean       1.228227        13629.753908  \n",
       "std        1.416017        16618.634074  \n",
       "min        0.000000            0.000000  \n",
       "25%        0.000000           15.743775  \n",
       "50%        1.000000         3550.500000  \n",
       "75%        2.000000        26848.750000  \n",
       "max        6.000000        63610.000000  "
      ]
     },
     "execution_count": 8,
     "metadata": {},
     "output_type": "execute_result"
    }
   ],
   "source": [
    "df_credit_risk.describe()"
   ]
  },
  {
   "cell_type": "markdown",
   "metadata": {},
   "source": [
    "___"
   ]
  },
  {
   "cell_type": "markdown",
   "metadata": {},
   "source": [
    "### →  Veo los tipos de datos con dtypes"
   ]
  },
  {
   "cell_type": "code",
   "execution_count": 9,
   "metadata": {},
   "outputs": [
    {
     "data": {
      "text/html": [
       "<div>\n",
       "<style scoped>\n",
       "    .dataframe tbody tr th:only-of-type {\n",
       "        vertical-align: middle;\n",
       "    }\n",
       "\n",
       "    .dataframe tbody tr th {\n",
       "        vertical-align: top;\n",
       "    }\n",
       "\n",
       "    .dataframe thead th {\n",
       "        text-align: right;\n",
       "    }\n",
       "</style>\n",
       "<table border=\"1\" class=\"dataframe\">\n",
       "  <thead>\n",
       "    <tr style=\"text-align: right;\">\n",
       "      <th></th>\n",
       "      <th></th>\n",
       "      <th>incumplimiento</th>\n",
       "      <th>tipo_de_cuenta</th>\n",
       "      <th>genero</th>\n",
       "      <th>edad_del_cliente</th>\n",
       "      <th>co_solicitantes</th>\n",
       "      <th>dependientes</th>\n",
       "      <th>monto_del_prestamo</th>\n",
       "      <th>ubicacion_de_sucursal</th>\n",
       "      <th>nivel_de_producto</th>\n",
       "      <th>estatus_laboral</th>\n",
       "      <th>es_sostenedor_principal</th>\n",
       "      <th>grupo_de_puntaje_crediticio</th>\n",
       "      <th>area_residencial</th>\n",
       "      <th>estado_actual_de_la_cuenta</th>\n",
       "      <th>tiene_cuenta_conjunta</th>\n",
       "      <th>indicador_aleatorio</th>\n",
       "      <th>residencial_Rural</th>\n",
       "      <th>residencial_Suburbana</th>\n",
       "      <th>residencial_Urbana</th>\n",
       "    </tr>\n",
       "  </thead>\n",
       "  <tbody>\n",
       "    <tr>\n",
       "      <th>0</th>\n",
       "      <td>0</td>\n",
       "      <td>1.0</td>\n",
       "      <td>3</td>\n",
       "      <td>male</td>\n",
       "      <td>26.618129</td>\n",
       "      <td>1</td>\n",
       "      <td>0</td>\n",
       "      <td>7.2500</td>\n",
       "      <td>Suburbana</td>\n",
       "      <td>Third</td>\n",
       "      <td>man</td>\n",
       "      <td>True</td>\n",
       "      <td></td>\n",
       "      <td>Urbana</td>\n",
       "      <td>no</td>\n",
       "      <td>0</td>\n",
       "      <td>0.9494354298674084</td>\n",
       "      <td>0.0</td>\n",
       "      <td>0.0</td>\n",
       "      <td>1.0</td>\n",
       "    </tr>\n",
       "    <tr>\n",
       "      <th>1</th>\n",
       "      <td>1</td>\n",
       "      <td>1.0</td>\n",
       "      <td>3</td>\n",
       "      <td>female</td>\n",
       "      <td>27.395476</td>\n",
       "      <td>1</td>\n",
       "      <td>0</td>\n",
       "      <td>71.2833</td>\n",
       "      <td>Central</td>\n",
       "      <td>First</td>\n",
       "      <td>woman</td>\n",
       "      <td>False</td>\n",
       "      <td>C</td>\n",
       "      <td>Urbana</td>\n",
       "      <td>yes</td>\n",
       "      <td>0</td>\n",
       "      <td>0.0152425151741839</td>\n",
       "      <td>0.0</td>\n",
       "      <td>0.0</td>\n",
       "      <td>1.0</td>\n",
       "    </tr>\n",
       "    <tr>\n",
       "      <th>2</th>\n",
       "      <td>2</td>\n",
       "      <td>1.0</td>\n",
       "      <td>1</td>\n",
       "      <td>female</td>\n",
       "      <td>48.696543</td>\n",
       "      <td>0</td>\n",
       "      <td>0</td>\n",
       "      <td>7.9250</td>\n",
       "      <td>Suburbana</td>\n",
       "      <td>Third</td>\n",
       "      <td>woman</td>\n",
       "      <td>False</td>\n",
       "      <td></td>\n",
       "      <td>Rural</td>\n",
       "      <td>yes</td>\n",
       "      <td>1</td>\n",
       "      <td>0.6723719434749519</td>\n",
       "      <td>1.0</td>\n",
       "      <td>0.0</td>\n",
       "      <td>0.0</td>\n",
       "    </tr>\n",
       "    <tr>\n",
       "      <th>3</th>\n",
       "      <td>3</td>\n",
       "      <td>1.0</td>\n",
       "      <td>3</td>\n",
       "      <td>female</td>\n",
       "      <td>25.491890</td>\n",
       "      <td>1</td>\n",
       "      <td>0</td>\n",
       "      <td>53.1000</td>\n",
       "      <td>Suburbana</td>\n",
       "      <td>First</td>\n",
       "      <td>woman</td>\n",
       "      <td>False</td>\n",
       "      <td>C</td>\n",
       "      <td>Urbana</td>\n",
       "      <td>yes</td>\n",
       "      <td>0</td>\n",
       "      <td>0.4035980372889746</td>\n",
       "      <td>0.0</td>\n",
       "      <td>0.0</td>\n",
       "      <td>1.0</td>\n",
       "    </tr>\n",
       "    <tr>\n",
       "      <th>4</th>\n",
       "      <td>4</td>\n",
       "      <td>0.0</td>\n",
       "      <td>1</td>\n",
       "      <td>male</td>\n",
       "      <td>41.038217</td>\n",
       "      <td>0</td>\n",
       "      <td>0</td>\n",
       "      <td>8.0500</td>\n",
       "      <td>Suburbana</td>\n",
       "      <td>Third</td>\n",
       "      <td>man</td>\n",
       "      <td>True</td>\n",
       "      <td></td>\n",
       "      <td>Suburbana</td>\n",
       "      <td>no</td>\n",
       "      <td>1</td>\n",
       "      <td>0.8529009409462249</td>\n",
       "      <td>0.0</td>\n",
       "      <td>1.0</td>\n",
       "      <td>0.0</td>\n",
       "    </tr>\n",
       "  </tbody>\n",
       "</table>\n",
       "</div>"
      ],
      "text/plain": [
       "      incumplimiento tipo_de_cuenta  genero  edad_del_cliente  \\\n",
       "0  0             1.0              3    male         26.618129   \n",
       "1  1             1.0              3  female         27.395476   \n",
       "2  2             1.0              1  female         48.696543   \n",
       "3  3             1.0              3  female         25.491890   \n",
       "4  4             0.0              1    male         41.038217   \n",
       "\n",
       "   co_solicitantes  dependientes  monto_del_prestamo ubicacion_de_sucursal  \\\n",
       "0                1             0              7.2500             Suburbana   \n",
       "1                1             0             71.2833               Central   \n",
       "2                0             0              7.9250             Suburbana   \n",
       "3                1             0             53.1000             Suburbana   \n",
       "4                0             0              8.0500             Suburbana   \n",
       "\n",
       "  nivel_de_producto estatus_laboral es_sostenedor_principal  \\\n",
       "0             Third             man                    True   \n",
       "1             First           woman                   False   \n",
       "2             Third           woman                   False   \n",
       "3             First           woman                   False   \n",
       "4             Third             man                    True   \n",
       "\n",
       "  grupo_de_puntaje_crediticio area_residencial estado_actual_de_la_cuenta  \\\n",
       "0                                       Urbana                         no   \n",
       "1                           C           Urbana                        yes   \n",
       "2                                        Rural                        yes   \n",
       "3                           C           Urbana                        yes   \n",
       "4                                    Suburbana                         no   \n",
       "\n",
       "  tiene_cuenta_conjunta indicador_aleatorio residencial_Rural  \\\n",
       "0                     0  0.9494354298674084               0.0   \n",
       "1                     0  0.0152425151741839               0.0   \n",
       "2                     1  0.6723719434749519               1.0   \n",
       "3                     0  0.4035980372889746               0.0   \n",
       "4                     1  0.8529009409462249               0.0   \n",
       "\n",
       "  residencial_Suburbana residencial_Urbana  \n",
       "0                   0.0                1.0  \n",
       "1                   0.0                1.0  \n",
       "2                   0.0                0.0  \n",
       "3                   0.0                1.0  \n",
       "4                   1.0                0.0  "
      ]
     },
     "execution_count": 9,
     "metadata": {},
     "output_type": "execute_result"
    }
   ],
   "source": [
    "df_credit_risk.head()"
   ]
  },
  {
   "cell_type": "code",
   "execution_count": 10,
   "metadata": {},
   "outputs": [
    {
     "data": {
      "text/plain": [
       "                                 int64\n",
       "incumplimiento                 float64\n",
       "tipo_de_cuenta                  object\n",
       "genero                          object\n",
       "edad_del_cliente               float64\n",
       "co_solicitantes                  int64\n",
       "dependientes                     int64\n",
       "monto_del_prestamo             float64\n",
       "ubicacion_de_sucursal           object\n",
       "nivel_de_producto               object\n",
       "estatus_laboral                 object\n",
       "es_sostenedor_principal         object\n",
       "grupo_de_puntaje_crediticio     object\n",
       "area_residencial                object\n",
       "estado_actual_de_la_cuenta      object\n",
       "tiene_cuenta_conjunta           object\n",
       "indicador_aleatorio             object\n",
       "residencial_Rural               object\n",
       "residencial_Suburbana           object\n",
       "residencial_Urbana              object\n",
       "dtype: object"
      ]
     },
     "execution_count": 10,
     "metadata": {},
     "output_type": "execute_result"
    }
   ],
   "source": [
    "df_credit_risk.dtypes"
   ]
  },
  {
   "cell_type": "markdown",
   "metadata": {},
   "source": [
    "___"
   ]
  },
  {
   "cell_type": "markdown",
   "metadata": {},
   "source": [
    "### → Valores outliers"
   ]
  },
  {
   "cell_type": "code",
   "execution_count": 110,
   "metadata": {},
   "outputs": [
    {
     "data": {
      "image/png": "[encoded data removed]",
      "text/plain": [
       "<Figure size 2000x1500 with 6 Axes>"
      ]
     },
     "metadata": {},
     "output_type": "display_data"
    }
   ],
   "source": [
    "from funciones.eda_y_ml import plot_outliers\n",
    "plot_outliers(df_credit_risk)"
   ]
  },
  {
   "cell_type": "markdown",
   "metadata": {},
   "source": [
    "#### Para este análisis he tomado la decisión de no remover los outliers, ya que son valores que pueden ser reales y no errores de carga de datos. Además, al ser un dataset de créditos, es posible que existan valores altos de monto de préstamo."
   ]
  },
  {
   "cell_type": "markdown",
   "metadata": {},
   "source": [
    "____"
   ]
  },
  {
   "cell_type": "markdown",
   "metadata": {},
   "source": [
    "## **Parte 2: Análisis Exploratorio de Datos**\n"
   ]
  },
  {
   "cell_type": "markdown",
   "metadata": {},
   "source": [
    "### → Análisis de sesgos por edad. Usa groupby para calcular la tasa de incumplimiento promedio por grupo de edad. "
   ]
  },
  {
   "cell_type": "code",
   "execution_count": 111,
   "metadata": {},
   "outputs": [
    {
     "data": {
      "text/plain": [
       "incumplimiento\n",
       "0.0    1440\n",
       "1.0     466\n",
       "Name: count, dtype: int64"
      ]
     },
     "execution_count": 111,
     "metadata": {},
     "output_type": "execute_result"
    }
   ],
   "source": [
    "df_credit_risk[\"incumplimiento\"].value_counts() # Miro cuantos cumplieron y cuantos no"
   ]
  },
  {
   "cell_type": "code",
   "execution_count": 112,
   "metadata": {},
   "outputs": [
    {
     "data": {
      "text/html": [
       "<div>\n",
       "<style scoped>\n",
       "    .dataframe tbody tr th:only-of-type {\n",
       "        vertical-align: middle;\n",
       "    }\n",
       "\n",
       "    .dataframe tbody tr th {\n",
       "        vertical-align: top;\n",
       "    }\n",
       "\n",
       "    .dataframe thead th {\n",
       "        text-align: right;\n",
       "    }\n",
       "</style>\n",
       "<table border=\"1\" class=\"dataframe\">\n",
       "  <thead>\n",
       "    <tr style=\"text-align: right;\">\n",
       "      <th></th>\n",
       "      <th>edad_del_cliente</th>\n",
       "      <th>incumplimiento</th>\n",
       "    </tr>\n",
       "  </thead>\n",
       "  <tbody>\n",
       "    <tr>\n",
       "      <th>0</th>\n",
       "      <td>13</td>\n",
       "      <td>1.00</td>\n",
       "    </tr>\n",
       "    <tr>\n",
       "      <th>1</th>\n",
       "      <td>16</td>\n",
       "      <td>1.00</td>\n",
       "    </tr>\n",
       "    <tr>\n",
       "      <th>2</th>\n",
       "      <td>17</td>\n",
       "      <td>1.00</td>\n",
       "    </tr>\n",
       "    <tr>\n",
       "      <th>3</th>\n",
       "      <td>18</td>\n",
       "      <td>0.56</td>\n",
       "    </tr>\n",
       "    <tr>\n",
       "      <th>4</th>\n",
       "      <td>19</td>\n",
       "      <td>0.41</td>\n",
       "    </tr>\n",
       "    <tr>\n",
       "      <th>...</th>\n",
       "      <td>...</td>\n",
       "      <td>...</td>\n",
       "    </tr>\n",
       "    <tr>\n",
       "      <th>70</th>\n",
       "      <td>85</td>\n",
       "      <td>0.00</td>\n",
       "    </tr>\n",
       "    <tr>\n",
       "      <th>71</th>\n",
       "      <td>86</td>\n",
       "      <td>0.00</td>\n",
       "    </tr>\n",
       "    <tr>\n",
       "      <th>72</th>\n",
       "      <td>87</td>\n",
       "      <td>0.00</td>\n",
       "    </tr>\n",
       "    <tr>\n",
       "      <th>73</th>\n",
       "      <td>88</td>\n",
       "      <td>0.00</td>\n",
       "    </tr>\n",
       "    <tr>\n",
       "      <th>74</th>\n",
       "      <td>89</td>\n",
       "      <td>0.00</td>\n",
       "    </tr>\n",
       "  </tbody>\n",
       "</table>\n",
       "<p>75 rows × 2 columns</p>\n",
       "</div>"
      ],
      "text/plain": [
       "    edad_del_cliente  incumplimiento\n",
       "0                 13            1.00\n",
       "1                 16            1.00\n",
       "2                 17            1.00\n",
       "3                 18            0.56\n",
       "4                 19            0.41\n",
       "..               ...             ...\n",
       "70                85            0.00\n",
       "71                86            0.00\n",
       "72                87            0.00\n",
       "73                88            0.00\n",
       "74                89            0.00\n",
       "\n",
       "[75 rows x 2 columns]"
      ]
     },
     "execution_count": 112,
     "metadata": {},
     "output_type": "execute_result"
    }
   ],
   "source": [
    "tasa_de_incumplimiento_etaria = round(df_credit_risk.groupby(\"edad_del_cliente\").agg({\"incumplimiento\" : \"mean\"}).reset_index(), 2)\n",
    "tasa_de_incumplimiento_etaria # Tasa de incumplimiento promedio por grupo de edad"
   ]
  },
  {
   "cell_type": "code",
   "execution_count": 113,
   "metadata": {},
   "outputs": [
    {
     "data": {
      "text/plain": [
       "incumplimiento\n",
       "0.00    34\n",
       "0.06     4\n",
       "1.00     3\n",
       "0.17     2\n",
       "0.56     2\n",
       "0.25     2\n",
       "0.19     2\n",
       "0.14     2\n",
       "0.12     2\n",
       "0.50     2\n",
       "0.18     2\n",
       "0.58     2\n",
       "0.41     2\n",
       "0.15     1\n",
       "0.04     1\n",
       "0.07     1\n",
       "0.23     1\n",
       "0.22     1\n",
       "0.27     1\n",
       "0.03     1\n",
       "0.24     1\n",
       "0.30     1\n",
       "0.60     1\n",
       "0.57     1\n",
       "0.49     1\n",
       "0.52     1\n",
       "0.08     1\n",
       "Name: count, dtype: int64"
      ]
     },
     "execution_count": 113,
     "metadata": {},
     "output_type": "execute_result"
    }
   ],
   "source": [
    "tasa_de_incumplimiento_etaria[\"incumplimiento\"].value_counts() # Solamente me interesa quedarme con 1 y 0. No me interesa el resto, entonces hago lo siguiente:"
   ]
  },
  {
   "cell_type": "code",
   "execution_count": 37,
   "metadata": {},
   "outputs": [
    {
     "data": {
      "text/plain": [
       "edad_del_cliente\n",
       "25.34    4\n",
       "47.65    4\n",
       "46.89    4\n",
       "46.85    4\n",
       "45.59    3\n",
       "        ..\n",
       "29.35    1\n",
       "29.38    1\n",
       "29.40    1\n",
       "29.48    1\n",
       "89.00    1\n",
       "Name: count, Length: 772, dtype: int64"
      ]
     },
     "execution_count": 37,
     "metadata": {},
     "output_type": "execute_result"
    }
   ],
   "source": [
    "tasa_de_incumplimiento_etaria[\"edad_del_cliente\"].value_counts()"
   ]
  },
  {
   "cell_type": "code",
   "execution_count": 117,
   "metadata": {},
   "outputs": [
    {
     "data": {
      "text/html": [
       "<div>\n",
       "<style scoped>\n",
       "    .dataframe tbody tr th:only-of-type {\n",
       "        vertical-align: middle;\n",
       "    }\n",
       "\n",
       "    .dataframe tbody tr th {\n",
       "        vertical-align: top;\n",
       "    }\n",
       "\n",
       "    .dataframe thead th {\n",
       "        text-align: right;\n",
       "    }\n",
       "</style>\n",
       "<table border=\"1\" class=\"dataframe\">\n",
       "  <thead>\n",
       "    <tr style=\"text-align: right;\">\n",
       "      <th></th>\n",
       "      <th>edad_del_cliente</th>\n",
       "      <th>incumplimiento</th>\n",
       "    </tr>\n",
       "  </thead>\n",
       "  <tbody>\n",
       "    <tr>\n",
       "      <th>0</th>\n",
       "      <td>13</td>\n",
       "      <td>1.0</td>\n",
       "    </tr>\n",
       "    <tr>\n",
       "      <th>1</th>\n",
       "      <td>16</td>\n",
       "      <td>1.0</td>\n",
       "    </tr>\n",
       "    <tr>\n",
       "      <th>2</th>\n",
       "      <td>17</td>\n",
       "      <td>1.0</td>\n",
       "    </tr>\n",
       "    <tr>\n",
       "      <th>24</th>\n",
       "      <td>39</td>\n",
       "      <td>0.0</td>\n",
       "    </tr>\n",
       "    <tr>\n",
       "      <th>26</th>\n",
       "      <td>41</td>\n",
       "      <td>0.0</td>\n",
       "    </tr>\n",
       "    <tr>\n",
       "      <th>42</th>\n",
       "      <td>57</td>\n",
       "      <td>0.0</td>\n",
       "    </tr>\n",
       "    <tr>\n",
       "      <th>44</th>\n",
       "      <td>59</td>\n",
       "      <td>0.0</td>\n",
       "    </tr>\n",
       "    <tr>\n",
       "      <th>45</th>\n",
       "      <td>60</td>\n",
       "      <td>0.0</td>\n",
       "    </tr>\n",
       "    <tr>\n",
       "      <th>46</th>\n",
       "      <td>61</td>\n",
       "      <td>0.0</td>\n",
       "    </tr>\n",
       "    <tr>\n",
       "      <th>47</th>\n",
       "      <td>62</td>\n",
       "      <td>0.0</td>\n",
       "    </tr>\n",
       "    <tr>\n",
       "      <th>48</th>\n",
       "      <td>63</td>\n",
       "      <td>0.0</td>\n",
       "    </tr>\n",
       "    <tr>\n",
       "      <th>49</th>\n",
       "      <td>64</td>\n",
       "      <td>0.0</td>\n",
       "    </tr>\n",
       "    <tr>\n",
       "      <th>50</th>\n",
       "      <td>65</td>\n",
       "      <td>0.0</td>\n",
       "    </tr>\n",
       "    <tr>\n",
       "      <th>51</th>\n",
       "      <td>66</td>\n",
       "      <td>0.0</td>\n",
       "    </tr>\n",
       "    <tr>\n",
       "      <th>52</th>\n",
       "      <td>67</td>\n",
       "      <td>0.0</td>\n",
       "    </tr>\n",
       "    <tr>\n",
       "      <th>53</th>\n",
       "      <td>68</td>\n",
       "      <td>0.0</td>\n",
       "    </tr>\n",
       "    <tr>\n",
       "      <th>54</th>\n",
       "      <td>69</td>\n",
       "      <td>0.0</td>\n",
       "    </tr>\n",
       "    <tr>\n",
       "      <th>55</th>\n",
       "      <td>70</td>\n",
       "      <td>0.0</td>\n",
       "    </tr>\n",
       "    <tr>\n",
       "      <th>56</th>\n",
       "      <td>71</td>\n",
       "      <td>0.0</td>\n",
       "    </tr>\n",
       "    <tr>\n",
       "      <th>57</th>\n",
       "      <td>72</td>\n",
       "      <td>0.0</td>\n",
       "    </tr>\n",
       "    <tr>\n",
       "      <th>58</th>\n",
       "      <td>73</td>\n",
       "      <td>0.0</td>\n",
       "    </tr>\n",
       "    <tr>\n",
       "      <th>59</th>\n",
       "      <td>74</td>\n",
       "      <td>0.0</td>\n",
       "    </tr>\n",
       "    <tr>\n",
       "      <th>60</th>\n",
       "      <td>75</td>\n",
       "      <td>0.0</td>\n",
       "    </tr>\n",
       "    <tr>\n",
       "      <th>61</th>\n",
       "      <td>76</td>\n",
       "      <td>0.0</td>\n",
       "    </tr>\n",
       "    <tr>\n",
       "      <th>62</th>\n",
       "      <td>77</td>\n",
       "      <td>0.0</td>\n",
       "    </tr>\n",
       "    <tr>\n",
       "      <th>63</th>\n",
       "      <td>78</td>\n",
       "      <td>0.0</td>\n",
       "    </tr>\n",
       "    <tr>\n",
       "      <th>64</th>\n",
       "      <td>79</td>\n",
       "      <td>0.0</td>\n",
       "    </tr>\n",
       "    <tr>\n",
       "      <th>65</th>\n",
       "      <td>80</td>\n",
       "      <td>0.0</td>\n",
       "    </tr>\n",
       "    <tr>\n",
       "      <th>66</th>\n",
       "      <td>81</td>\n",
       "      <td>0.0</td>\n",
       "    </tr>\n",
       "    <tr>\n",
       "      <th>67</th>\n",
       "      <td>82</td>\n",
       "      <td>0.0</td>\n",
       "    </tr>\n",
       "    <tr>\n",
       "      <th>68</th>\n",
       "      <td>83</td>\n",
       "      <td>0.0</td>\n",
       "    </tr>\n",
       "    <tr>\n",
       "      <th>69</th>\n",
       "      <td>84</td>\n",
       "      <td>0.0</td>\n",
       "    </tr>\n",
       "    <tr>\n",
       "      <th>70</th>\n",
       "      <td>85</td>\n",
       "      <td>0.0</td>\n",
       "    </tr>\n",
       "    <tr>\n",
       "      <th>71</th>\n",
       "      <td>86</td>\n",
       "      <td>0.0</td>\n",
       "    </tr>\n",
       "    <tr>\n",
       "      <th>72</th>\n",
       "      <td>87</td>\n",
       "      <td>0.0</td>\n",
       "    </tr>\n",
       "    <tr>\n",
       "      <th>73</th>\n",
       "      <td>88</td>\n",
       "      <td>0.0</td>\n",
       "    </tr>\n",
       "    <tr>\n",
       "      <th>74</th>\n",
       "      <td>89</td>\n",
       "      <td>0.0</td>\n",
       "    </tr>\n",
       "  </tbody>\n",
       "</table>\n",
       "</div>"
      ],
      "text/plain": [
       "    edad_del_cliente  incumplimiento\n",
       "0                 13             1.0\n",
       "1                 16             1.0\n",
       "2                 17             1.0\n",
       "24                39             0.0\n",
       "26                41             0.0\n",
       "42                57             0.0\n",
       "44                59             0.0\n",
       "45                60             0.0\n",
       "46                61             0.0\n",
       "47                62             0.0\n",
       "48                63             0.0\n",
       "49                64             0.0\n",
       "50                65             0.0\n",
       "51                66             0.0\n",
       "52                67             0.0\n",
       "53                68             0.0\n",
       "54                69             0.0\n",
       "55                70             0.0\n",
       "56                71             0.0\n",
       "57                72             0.0\n",
       "58                73             0.0\n",
       "59                74             0.0\n",
       "60                75             0.0\n",
       "61                76             0.0\n",
       "62                77             0.0\n",
       "63                78             0.0\n",
       "64                79             0.0\n",
       "65                80             0.0\n",
       "66                81             0.0\n",
       "67                82             0.0\n",
       "68                83             0.0\n",
       "69                84             0.0\n",
       "70                85             0.0\n",
       "71                86             0.0\n",
       "72                87             0.0\n",
       "73                88             0.0\n",
       "74                89             0.0"
      ]
     },
     "execution_count": 117,
     "metadata": {},
     "output_type": "execute_result"
    }
   ],
   "source": [
    "tasa_de_incumplimiento_etaria = tasa_de_incumplimiento_etaria[~((tasa_de_incumplimiento_etaria[\"incumplimiento\"] < 1) & (tasa_de_incumplimiento_etaria[\"incumplimiento\"] > 0))]\n",
    "tasa_de_incumplimiento_etaria"
   ]
  },
  {
   "cell_type": "code",
   "execution_count": 40,
   "metadata": {},
   "outputs": [
    {
     "data": {
      "text/html": [
       "<div>\n",
       "<style scoped>\n",
       "    .dataframe tbody tr th:only-of-type {\n",
       "        vertical-align: middle;\n",
       "    }\n",
       "\n",
       "    .dataframe tbody tr th {\n",
       "        vertical-align: top;\n",
       "    }\n",
       "\n",
       "    .dataframe thead th {\n",
       "        text-align: right;\n",
       "    }\n",
       "</style>\n",
       "<table border=\"1\" class=\"dataframe\">\n",
       "  <thead>\n",
       "    <tr style=\"text-align: right;\">\n",
       "      <th></th>\n",
       "      <th></th>\n",
       "      <th>incumplimiento</th>\n",
       "      <th>tipo_de_cuenta</th>\n",
       "      <th>genero</th>\n",
       "      <th>edad_del_cliente</th>\n",
       "      <th>co_solicitantes</th>\n",
       "      <th>dependientes</th>\n",
       "      <th>monto_del_prestamo</th>\n",
       "      <th>ubicacion_de_sucursal</th>\n",
       "      <th>nivel_de_producto</th>\n",
       "      <th>estatus_laboral</th>\n",
       "      <th>es_sostenedor_principal</th>\n",
       "      <th>grupo_de_puntaje_crediticio</th>\n",
       "      <th>area_residencial</th>\n",
       "      <th>estado_actual_de_la_cuenta</th>\n",
       "      <th>tiene_cuenta_conjunta</th>\n",
       "      <th>indicador_aleatorio</th>\n",
       "      <th>residencial_Rural</th>\n",
       "      <th>residencial_Suburbana</th>\n",
       "      <th>residencial_Urbana</th>\n",
       "    </tr>\n",
       "  </thead>\n",
       "  <tbody>\n",
       "    <tr>\n",
       "      <th>0</th>\n",
       "      <td>0</td>\n",
       "      <td>1.0</td>\n",
       "      <td>3</td>\n",
       "      <td>male</td>\n",
       "      <td>26</td>\n",
       "      <td>1</td>\n",
       "      <td>0</td>\n",
       "      <td>7.2500</td>\n",
       "      <td>Suburbana</td>\n",
       "      <td>Third</td>\n",
       "      <td>man</td>\n",
       "      <td>True</td>\n",
       "      <td></td>\n",
       "      <td>Urbana</td>\n",
       "      <td>no</td>\n",
       "      <td>0</td>\n",
       "      <td>0.9494354298674084</td>\n",
       "      <td>0.0</td>\n",
       "      <td>0.0</td>\n",
       "      <td>1.0</td>\n",
       "    </tr>\n",
       "    <tr>\n",
       "      <th>1</th>\n",
       "      <td>1</td>\n",
       "      <td>1.0</td>\n",
       "      <td>3</td>\n",
       "      <td>female</td>\n",
       "      <td>27</td>\n",
       "      <td>1</td>\n",
       "      <td>0</td>\n",
       "      <td>71.2833</td>\n",
       "      <td>Central</td>\n",
       "      <td>First</td>\n",
       "      <td>woman</td>\n",
       "      <td>False</td>\n",
       "      <td>C</td>\n",
       "      <td>Urbana</td>\n",
       "      <td>yes</td>\n",
       "      <td>0</td>\n",
       "      <td>0.0152425151741839</td>\n",
       "      <td>0.0</td>\n",
       "      <td>0.0</td>\n",
       "      <td>1.0</td>\n",
       "    </tr>\n",
       "    <tr>\n",
       "      <th>2</th>\n",
       "      <td>2</td>\n",
       "      <td>1.0</td>\n",
       "      <td>1</td>\n",
       "      <td>female</td>\n",
       "      <td>48</td>\n",
       "      <td>0</td>\n",
       "      <td>0</td>\n",
       "      <td>7.9250</td>\n",
       "      <td>Suburbana</td>\n",
       "      <td>Third</td>\n",
       "      <td>woman</td>\n",
       "      <td>False</td>\n",
       "      <td></td>\n",
       "      <td>Rural</td>\n",
       "      <td>yes</td>\n",
       "      <td>1</td>\n",
       "      <td>0.6723719434749519</td>\n",
       "      <td>1.0</td>\n",
       "      <td>0.0</td>\n",
       "      <td>0.0</td>\n",
       "    </tr>\n",
       "    <tr>\n",
       "      <th>3</th>\n",
       "      <td>3</td>\n",
       "      <td>1.0</td>\n",
       "      <td>3</td>\n",
       "      <td>female</td>\n",
       "      <td>25</td>\n",
       "      <td>1</td>\n",
       "      <td>0</td>\n",
       "      <td>53.1000</td>\n",
       "      <td>Suburbana</td>\n",
       "      <td>First</td>\n",
       "      <td>woman</td>\n",
       "      <td>False</td>\n",
       "      <td>C</td>\n",
       "      <td>Urbana</td>\n",
       "      <td>yes</td>\n",
       "      <td>0</td>\n",
       "      <td>0.4035980372889746</td>\n",
       "      <td>0.0</td>\n",
       "      <td>0.0</td>\n",
       "      <td>1.0</td>\n",
       "    </tr>\n",
       "    <tr>\n",
       "      <th>4</th>\n",
       "      <td>4</td>\n",
       "      <td>0.0</td>\n",
       "      <td>1</td>\n",
       "      <td>male</td>\n",
       "      <td>41</td>\n",
       "      <td>0</td>\n",
       "      <td>0</td>\n",
       "      <td>8.0500</td>\n",
       "      <td>Suburbana</td>\n",
       "      <td>Third</td>\n",
       "      <td>man</td>\n",
       "      <td>True</td>\n",
       "      <td></td>\n",
       "      <td>Suburbana</td>\n",
       "      <td>no</td>\n",
       "      <td>1</td>\n",
       "      <td>0.8529009409462249</td>\n",
       "      <td>0.0</td>\n",
       "      <td>1.0</td>\n",
       "      <td>0.0</td>\n",
       "    </tr>\n",
       "  </tbody>\n",
       "</table>\n",
       "</div>"
      ],
      "text/plain": [
       "      incumplimiento tipo_de_cuenta  genero  edad_del_cliente  \\\n",
       "0  0             1.0              3    male                26   \n",
       "1  1             1.0              3  female                27   \n",
       "2  2             1.0              1  female                48   \n",
       "3  3             1.0              3  female                25   \n",
       "4  4             0.0              1    male                41   \n",
       "\n",
       "   co_solicitantes  dependientes  monto_del_prestamo ubicacion_de_sucursal  \\\n",
       "0                1             0              7.2500             Suburbana   \n",
       "1                1             0             71.2833               Central   \n",
       "2                0             0              7.9250             Suburbana   \n",
       "3                1             0             53.1000             Suburbana   \n",
       "4                0             0              8.0500             Suburbana   \n",
       "\n",
       "  nivel_de_producto estatus_laboral es_sostenedor_principal  \\\n",
       "0             Third             man                    True   \n",
       "1             First           woman                   False   \n",
       "2             Third           woman                   False   \n",
       "3             First           woman                   False   \n",
       "4             Third             man                    True   \n",
       "\n",
       "  grupo_de_puntaje_crediticio area_residencial estado_actual_de_la_cuenta  \\\n",
       "0                                       Urbana                         no   \n",
       "1                           C           Urbana                        yes   \n",
       "2                                        Rural                        yes   \n",
       "3                           C           Urbana                        yes   \n",
       "4                                    Suburbana                         no   \n",
       "\n",
       "  tiene_cuenta_conjunta indicador_aleatorio residencial_Rural  \\\n",
       "0                     0  0.9494354298674084               0.0   \n",
       "1                     0  0.0152425151741839               0.0   \n",
       "2                     1  0.6723719434749519               1.0   \n",
       "3                     0  0.4035980372889746               0.0   \n",
       "4                     1  0.8529009409462249               0.0   \n",
       "\n",
       "  residencial_Suburbana residencial_Urbana  \n",
       "0                   0.0                1.0  \n",
       "1                   0.0                1.0  \n",
       "2                   0.0                0.0  \n",
       "3                   0.0                1.0  \n",
       "4                   1.0                0.0  "
      ]
     },
     "execution_count": 40,
     "metadata": {},
     "output_type": "execute_result"
    }
   ],
   "source": [
    "df_credit_risk[\"edad_del_cliente\"] = df_credit_risk[\"edad_del_cliente\"].astype(int)\n",
    "df_credit_risk.head()"
   ]
  },
  {
   "cell_type": "code",
   "execution_count": 115,
   "metadata": {},
   "outputs": [
    {
     "data": {
      "text/html": [
       "<div>\n",
       "<style scoped>\n",
       "    .dataframe tbody tr th:only-of-type {\n",
       "        vertical-align: middle;\n",
       "    }\n",
       "\n",
       "    .dataframe tbody tr th {\n",
       "        vertical-align: top;\n",
       "    }\n",
       "\n",
       "    .dataframe thead th {\n",
       "        text-align: right;\n",
       "    }\n",
       "</style>\n",
       "<table border=\"1\" class=\"dataframe\">\n",
       "  <thead>\n",
       "    <tr style=\"text-align: right;\">\n",
       "      <th></th>\n",
       "      <th>edad_del_cliente</th>\n",
       "      <th>incumplimiento</th>\n",
       "    </tr>\n",
       "  </thead>\n",
       "  <tbody>\n",
       "    <tr>\n",
       "      <th>0</th>\n",
       "      <td>13</td>\n",
       "      <td>1.00</td>\n",
       "    </tr>\n",
       "    <tr>\n",
       "      <th>1</th>\n",
       "      <td>16</td>\n",
       "      <td>1.00</td>\n",
       "    </tr>\n",
       "    <tr>\n",
       "      <th>2</th>\n",
       "      <td>17</td>\n",
       "      <td>1.00</td>\n",
       "    </tr>\n",
       "    <tr>\n",
       "      <th>3</th>\n",
       "      <td>18</td>\n",
       "      <td>0.56</td>\n",
       "    </tr>\n",
       "    <tr>\n",
       "      <th>4</th>\n",
       "      <td>19</td>\n",
       "      <td>0.41</td>\n",
       "    </tr>\n",
       "    <tr>\n",
       "      <th>...</th>\n",
       "      <td>...</td>\n",
       "      <td>...</td>\n",
       "    </tr>\n",
       "    <tr>\n",
       "      <th>70</th>\n",
       "      <td>85</td>\n",
       "      <td>0.00</td>\n",
       "    </tr>\n",
       "    <tr>\n",
       "      <th>71</th>\n",
       "      <td>86</td>\n",
       "      <td>0.00</td>\n",
       "    </tr>\n",
       "    <tr>\n",
       "      <th>72</th>\n",
       "      <td>87</td>\n",
       "      <td>0.00</td>\n",
       "    </tr>\n",
       "    <tr>\n",
       "      <th>73</th>\n",
       "      <td>88</td>\n",
       "      <td>0.00</td>\n",
       "    </tr>\n",
       "    <tr>\n",
       "      <th>74</th>\n",
       "      <td>89</td>\n",
       "      <td>0.00</td>\n",
       "    </tr>\n",
       "  </tbody>\n",
       "</table>\n",
       "<p>75 rows × 2 columns</p>\n",
       "</div>"
      ],
      "text/plain": [
       "    edad_del_cliente  incumplimiento\n",
       "0                 13            1.00\n",
       "1                 16            1.00\n",
       "2                 17            1.00\n",
       "3                 18            0.56\n",
       "4                 19            0.41\n",
       "..               ...             ...\n",
       "70                85            0.00\n",
       "71                86            0.00\n",
       "72                87            0.00\n",
       "73                88            0.00\n",
       "74                89            0.00\n",
       "\n",
       "[75 rows x 2 columns]"
      ]
     },
     "execution_count": 115,
     "metadata": {},
     "output_type": "execute_result"
    }
   ],
   "source": [
    "tasa_de_incumplimiento_etaria2 = round(df_credit_risk.groupby(\"edad_del_cliente\").agg({\"incumplimiento\" : \"mean\"}).reset_index(), 2)\n",
    "tasa_de_incumplimiento_etaria2"
   ]
  },
  {
   "cell_type": "code",
   "execution_count": 118,
   "metadata": {},
   "outputs": [
    {
     "data": {
      "text/plain": [
       "<Axes: xlabel='edad_del_cliente', ylabel='incumplimiento'>"
      ]
     },
     "execution_count": 118,
     "metadata": {},
     "output_type": "execute_result"
    },
    {
     "data": {
      "image/png": "[encoded data removed]",
      "text/plain": [
       "<Figure size 2000x1000 with 1 Axes>"
      ]
     },
     "metadata": {},
     "output_type": "display_data"
    }
   ],
   "source": [
    "import matplotlib.pyplot as plt\n",
    "plt.figure(figsize=(20,10))\n",
    "sns.barplot(data=tasa_de_incumplimiento_etaria, x=\"edad_del_cliente\", y=\"incumplimiento\")"
   ]
  },
  {
   "cell_type": "markdown",
   "metadata": {},
   "source": [
    "### Hay 2 grupos, o hasta 3 grupos de pagadores. Aquellos que están entre 13 y 17 años NO PAGAN, mientras que entre 18 y 58 si pagan (con una tasa baja de incumplimiento). Luego, a partir de los 58 años, pagan todos."
   ]
  },
  {
   "cell_type": "markdown",
   "metadata": {},
   "source": [
    "## Crea histogramas de edad para deudores y no deudores."
   ]
  },
  {
   "cell_type": "code",
   "execution_count": 51,
   "metadata": {},
   "outputs": [],
   "source": [
    "condicion_deudores = df_credit_risk[\"incumplimiento\"] == 1\n",
    "condicion_no_deudores = df_credit_risk[\"incumplimiento\"] == 0\n",
    "\n",
    "deudores = df_credit_risk[condicion_deudores]\n",
    "no_deudores = df_credit_risk[condicion_no_deudores]"
   ]
  },
  {
   "cell_type": "code",
   "execution_count": 67,
   "metadata": {},
   "outputs": [
    {
     "data": {
      "text/plain": [
       "<Axes: xlabel='edad_del_cliente', ylabel='Count'>"
      ]
     },
     "execution_count": 67,
     "metadata": {},
     "output_type": "execute_result"
    },
    {
     "data": {
      "image/png": "[encoded data removed]",
      "text/plain": [
       "<Figure size 640x480 with 1 Axes>"
      ]
     },
     "metadata": {},
     "output_type": "display_data"
    }
   ],
   "source": [
    "sns.histplot(df_credit_risk, x=df_credit_risk[\"edad_del_cliente\"], hue=df_credit_risk[\"incumplimiento\"], kde=True, bins=25)"
   ]
  },
  {
   "cell_type": "markdown",
   "metadata": {},
   "source": [
    "### Realiza un t-test para comparar las tasas de incumplimiento entre menores de edad y otros grupos de edad. "
   ]
  },
  {
   "cell_type": "code",
   "execution_count": 75,
   "metadata": {},
   "outputs": [],
   "source": [
    "def grupo_etario (x):\n",
    "    if x <= 18:\n",
    "        return \"adolescente\"\n",
    "    elif 18 < x <= 30:\n",
    "        return \"joven adulto\"\n",
    "    elif 30 < x < 50:\n",
    "        return \"adulto\"\n",
    "    elif x >= 50:\n",
    "        return \"mayor\"\n",
    "    \n",
    "\n",
    "df_credit_risk[\"grupo_etario\"] = df_credit_risk[\"edad_del_cliente\"].apply(grupo_etario)\n",
    "adolescentes = df_credit_risk[df_credit_risk[\"grupo_etario\"] == \"adolescente\"]\n",
    "mayores = df_credit_risk[df_credit_risk[\"grupo_etario\"] == \"mayor\"]\n",
    "    "
   ]
  },
  {
   "cell_type": "markdown",
   "metadata": {},
   "source": [
    "#### hcaer mas comparaciones entre los grupos de edad\n"
   ]
  },
  {
   "cell_type": "code",
   "execution_count": 76,
   "metadata": {},
   "outputs": [
    {
     "name": "stdout",
     "output_type": "stream",
     "text": [
      "Rechazar la hipótesis nula. Hay una diferencia significativa de la tasa de incumplimiento entre los adolescentes y los mayores.\n"
     ]
    }
   ],
   "source": [
    "from scipy.stats import ttest_ind\n",
    "\n",
    "group1 = adolescentes[\"incumplimiento\"]\n",
    "group2 = mayores[\"incumplimiento\"]\n",
    "\n",
    "t_stat, p_value = ttest_ind(group1, group2)\n",
    "\n",
    "if p_value < 0.05:\n",
    "    print(\"Rechazar la hipótesis nula. Hay una diferencia significativa de la tasa de incumplimiento entre los adolescentes y los mayores.\")\n",
    "else:\n",
    "    print(\"No rechazar la hipótesis nula. No hay diferencias significativas entre la tasa de incumplimiento de ambos grupos\")"
   ]
  },
  {
   "cell_type": "markdown",
   "metadata": {},
   "source": [
    "### Análisis de sesgos por monto del préstamo. Genera histogramas de 'monto_del_prestamo' para visualizar la distribución de los montos para deudores y no deudores. \n",
    "\n"
   ]
  },
  {
   "cell_type": "code",
   "execution_count": 78,
   "metadata": {},
   "outputs": [
    {
     "data": {
      "text/plain": [
       "<Axes: xlabel='monto_del_prestamo', ylabel='Count'>"
      ]
     },
     "execution_count": 78,
     "metadata": {},
     "output_type": "execute_result"
    },
    {
     "data": {
      "image/png": "[encoded data removed]",
      "text/plain": [
       "<Figure size 640x480 with 1 Axes>"
      ]
     },
     "metadata": {},
     "output_type": "display_data"
    }
   ],
   "source": [
    "sns.histplot(data= df_credit_risk, x=df_credit_risk[\"monto_del_prestamo\"], hue=df_credit_risk[\"incumplimiento\"])"
   ]
  },
  {
   "cell_type": "code",
   "execution_count": 85,
   "metadata": {},
   "outputs": [
    {
     "data": {
      "text/plain": [
       "<Axes: xlabel='monto_del_prestamo', ylabel='Count'>"
      ]
     },
     "execution_count": 85,
     "metadata": {},
     "output_type": "execute_result"
    },
    {
     "data": {
      "image/png": "[encoded data removed]",
      "text/plain": [
       "<Figure size 640x480 with 1 Axes>"
      ]
     },
     "metadata": {},
     "output_type": "display_data"
    }
   ],
   "source": [
    "sns.histplot(data= df_credit_risk[df_credit_risk[\"incumplimiento\"] == 1], x=df_credit_risk[\"monto_del_prestamo\"], color=\"red\")"
   ]
  },
  {
   "cell_type": "code",
   "execution_count": 83,
   "metadata": {},
   "outputs": [
    {
     "data": {
      "text/plain": [
       "<Axes: xlabel='monto_del_prestamo', ylabel='Count'>"
      ]
     },
     "execution_count": 83,
     "metadata": {},
     "output_type": "execute_result"
    },
    {
     "data": {
      "image/png": "[encoded data removed]",
      "text/plain": [
       "<Figure size 640x480 with 1 Axes>"
      ]
     },
     "metadata": {},
     "output_type": "display_data"
    }
   ],
   "source": [
    "sns.histplot(data= df_credit_risk[df_credit_risk[\"incumplimiento\"] == 0], x=df_credit_risk[\"monto_del_prestamo\"], color=\"green\")"
   ]
  },
  {
   "cell_type": "markdown",
   "metadata": {},
   "source": [
    "### Compara las distribuciones de 'monto_del_prestamo' entre buenos y malos pagadores con un t-test. "
   ]
  },
  {
   "cell_type": "code",
   "execution_count": 87,
   "metadata": {},
   "outputs": [
    {
     "name": "stdout",
     "output_type": "stream",
     "text": [
      "Rechazar la hipótesis nula. Hay una diferencia significativa en el monto del prestamo entre los deudores y los no deudores.\n"
     ]
    }
   ],
   "source": [
    "from scipy.stats import ttest_ind\n",
    "\n",
    "group1 = deudores[\"monto_del_prestamo\"]\n",
    "group2 = no_deudores[\"monto_del_prestamo\"]\n",
    "\n",
    "t_stat, p_value = ttest_ind(group1, group2)\n",
    "\n",
    "if p_value < 0.05:\n",
    "    print(\"Rechazar la hipótesis nula. Hay una diferencia significativa en el monto del prestamo entre los deudores y los no deudores.\")\n",
    "else:\n",
    "    print(\"No rechazar la hipótesis nula. No hay diferencias significativas entre la tasa de incumplimiento de ambos grupos\")"
   ]
  },
  {
   "cell_type": "markdown",
   "metadata": {},
   "source": [
    "### Análisis de sesgos por tipo de empleo. Usa groupby para comparar las tasas de incumplimiento entre diferentes tipos de empleo. Explora la relación entre el estado laboral y la tasa de incumplimiento con visualizaciones adecuadas."
   ]
  },
  {
   "cell_type": "code",
   "execution_count": 93,
   "metadata": {},
   "outputs": [
    {
     "data": {
      "text/plain": [
       "estatus_laboral\n",
       "man                         538\n",
       "Desempleo                   274\n",
       "woman                       273\n",
       "Estudiante                  255\n",
       "Empleo                      249\n",
       "Retirado                    222\n",
       "child                        85\n",
       "Desempleado                   8\n",
       "Empleo a tiempo parcial       1\n",
       "Empleo a tiempo completo      1\n",
       "Name: count, dtype: int64"
      ]
     },
     "execution_count": 93,
     "metadata": {},
     "output_type": "execute_result"
    }
   ],
   "source": [
    "df_credit_risk[\"estatus_laboral\"].value_counts()"
   ]
  },
  {
   "cell_type": "code",
   "execution_count": 94,
   "metadata": {},
   "outputs": [
    {
     "data": {
      "text/plain": [
       "Index(['', 'incumplimiento', 'tipo_de_cuenta', 'genero', 'edad_del_cliente',\n",
       "       'co_solicitantes', 'dependientes', 'monto_del_prestamo',\n",
       "       'ubicacion_de_sucursal', 'nivel_de_producto', 'estatus_laboral',\n",
       "       'es_sostenedor_principal', 'grupo_de_puntaje_crediticio',\n",
       "       'area_residencial', 'estado_actual_de_la_cuenta',\n",
       "       'tiene_cuenta_conjunta', 'indicador_aleatorio', 'residencial_Rural',\n",
       "       'residencial_Suburbana', 'residencial_Urbana', 'grupo_etario'],\n",
       "      dtype='object')"
      ]
     },
     "execution_count": 94,
     "metadata": {},
     "output_type": "execute_result"
    }
   ],
   "source": [
    "df_credit_risk.columns"
   ]
  },
  {
   "cell_type": "code",
   "execution_count": 103,
   "metadata": {},
   "outputs": [
    {
     "data": {
      "text/plain": [
       "estatus_laboral\n",
       "Desempleo                   274\n",
       "Estudiante                  255\n",
       "Empleo                      249\n",
       "Retirado                    222\n",
       "Desempleado                   8\n",
       "Empleo a tiempo parcial       1\n",
       "Empleo a tiempo completo      1\n",
       "Name: count, dtype: int64"
      ]
     },
     "execution_count": 103,
     "metadata": {},
     "output_type": "execute_result"
    }
   ],
   "source": [
    "df_credit_risk_empleo = df_credit_risk[~((df_credit_risk[\"estatus_laboral\"] == \"man\") | (df_credit_risk[\"estatus_laboral\"] == \"woman\") | (df_credit_risk[\"estatus_laboral\"] == \"child\"))]\n",
    "df_credit_risk_empleo[\"estatus_laboral\"].value_counts()"
   ]
  },
  {
   "cell_type": "code",
   "execution_count": 105,
   "metadata": {},
   "outputs": [
    {
     "data": {
      "text/html": [
       "<div>\n",
       "<style scoped>\n",
       "    .dataframe tbody tr th:only-of-type {\n",
       "        vertical-align: middle;\n",
       "    }\n",
       "\n",
       "    .dataframe tbody tr th {\n",
       "        vertical-align: top;\n",
       "    }\n",
       "\n",
       "    .dataframe thead th {\n",
       "        text-align: right;\n",
       "    }\n",
       "</style>\n",
       "<table border=\"1\" class=\"dataframe\">\n",
       "  <thead>\n",
       "    <tr style=\"text-align: right;\">\n",
       "      <th></th>\n",
       "      <th>estatus_laboral</th>\n",
       "      <th>incumplimiento</th>\n",
       "    </tr>\n",
       "  </thead>\n",
       "  <tbody>\n",
       "    <tr>\n",
       "      <th>0</th>\n",
       "      <td>Desempleado</td>\n",
       "      <td>0.875</td>\n",
       "    </tr>\n",
       "    <tr>\n",
       "      <th>1</th>\n",
       "      <td>Desempleo</td>\n",
       "      <td>0.000</td>\n",
       "    </tr>\n",
       "    <tr>\n",
       "      <th>2</th>\n",
       "      <td>Empleo</td>\n",
       "      <td>0.000</td>\n",
       "    </tr>\n",
       "    <tr>\n",
       "      <th>3</th>\n",
       "      <td>Empleo a tiempo completo</td>\n",
       "      <td>1.000</td>\n",
       "    </tr>\n",
       "    <tr>\n",
       "      <th>4</th>\n",
       "      <td>Empleo a tiempo parcial</td>\n",
       "      <td>0.000</td>\n",
       "    </tr>\n",
       "    <tr>\n",
       "      <th>5</th>\n",
       "      <td>Estudiante</td>\n",
       "      <td>0.000</td>\n",
       "    </tr>\n",
       "    <tr>\n",
       "      <th>6</th>\n",
       "      <td>Retirado</td>\n",
       "      <td>0.000</td>\n",
       "    </tr>\n",
       "  </tbody>\n",
       "</table>\n",
       "</div>"
      ],
      "text/plain": [
       "            estatus_laboral  incumplimiento\n",
       "0               Desempleado           0.875\n",
       "1                 Desempleo           0.000\n",
       "2                    Empleo           0.000\n",
       "3  Empleo a tiempo completo           1.000\n",
       "4   Empleo a tiempo parcial           0.000\n",
       "5                Estudiante           0.000\n",
       "6                  Retirado           0.000"
      ]
     },
     "execution_count": 105,
     "metadata": {},
     "output_type": "execute_result"
    }
   ],
   "source": [
    "empleo_incumplimiento = df_credit_risk_empleo.groupby(\"estatus_laboral\").agg({\"incumplimiento\": \"mean\"}).reset_index()\n",
    "empleo_incumplimiento"
   ]
  },
  {
   "cell_type": "markdown",
   "metadata": {},
   "source": [
    "___"
   ]
  },
  {
   "cell_type": "code",
   "execution_count": 42,
   "id": "6582d229c8a8eb7c",
   "metadata": {
    "ExecuteTime": {
     "end_time": "2023-11-09T11:20:10.717477100Z",
     "start_time": "2023-11-09T11:20:10.433584500Z"
    },
    "collapsed": false
   },
   "outputs": [
    {
     "data": {
      "image/png": "[encoded data removed]",
      "text/plain": [
       "<Figure size 1400x500 with 2 Axes>"
      ]
     },
     "metadata": {},
     "output_type": "display_data"
    }
   ],
   "source": [
    "import matplotlib.pyplot as plt\n",
    "\n",
    "# Set up the matplotlib figure\n",
    "plt.figure(figsize=(14, 5))\n",
    "\n",
    "# Histogram for customer_age\n",
    "plt.subplot(1, 2, 1)  # 1 row, 2 columns, 1st subplot\n",
    "plt.hist(df['edad_del_cliente'], bins=15, edgecolor='black')\n",
    "plt.title('Histogram of Customer Age')\n",
    "plt.xlabel('Age')\n",
    "plt.ylabel('Frequency')\n",
    "\n",
    "# Histogram for loan_amount\n",
    "plt.subplot(1, 2, 2)  # 1 row, 2 columns, 2nd subplot\n",
    "plt.hist(df['monto_del_prestamo'], bins=15, edgecolor='black')\n",
    "plt.title('Histogram of Loan Amount')\n",
    "plt.xlabel('Loan Amount')\n",
    "plt.ylabel('Frequency')\n",
    "\n",
    "# Show the plot\n",
    "plt.tight_layout()\n",
    "plt.show()\n"
   ]
  },
  {
   "cell_type": "code",
   "execution_count": 43,
   "id": "ae73cd814c267072",
   "metadata": {
    "ExecuteTime": {
     "end_time": "2023-11-09T11:20:12.203206900Z",
     "start_time": "2023-11-09T11:20:12.077113300Z"
    },
    "collapsed": false
   },
   "outputs": [
    {
     "name": "stderr",
     "output_type": "stream",
     "text": [
      "/home/fede/.pyenv/versions/3.10.6/envs/default/lib/python3.10/site-packages/seaborn/distributions.py:2619: FutureWarning: `distplot` is a deprecated function and will be removed in a future version. Please adapt your code to use either `displot` (a figure-level function with similar flexibility) or `histplot` (an axes-level function for histograms).\n",
      "  warnings.warn(msg, FutureWarning)\n",
      "/home/fede/.pyenv/versions/3.10.6/envs/default/lib/python3.10/site-packages/seaborn/distributions.py:2619: FutureWarning: `distplot` is a deprecated function and will be removed in a future version. Please adapt your code to use either `displot` (a figure-level function with similar flexibility) or `histplot` (an axes-level function for histograms).\n",
      "  warnings.warn(msg, FutureWarning)\n"
     ]
    },
    {
     "data": {
      "image/png": "[encoded data removed]",
      "text/plain": [
       "<Figure size 640x480 with 1 Axes>"
      ]
     },
     "metadata": {},
     "output_type": "display_data"
    }
   ],
   "source": [
    "filtro1 = df[\"incumplimiento\"] == 0\n",
    "filtro2 = df[\"incumplimiento\"] == 1\n",
    "\n",
    "sns.distplot(df[filtro2]['edad_del_cliente'], label=\"buen_pagador\")\n",
    "sns.distplot(df[filtro1]['edad_del_cliente'], label=\"morosos\")\n",
    "\n",
    "plt.title(\"Distribution Plot of 'customer_age' with Hue on 'target'\")\n",
    "plt.legend()\n",
    "plt.show()"
   ]
  },
  {
   "cell_type": "markdown",
   "id": "5831c7f30926e93f",
   "metadata": {
    "collapsed": false
   },
   "source": [
    "# Generar modelo"
   ]
  },
  {
   "cell_type": "code",
   "execution_count": 5,
   "id": "c13380a3b6b1d489",
   "metadata": {
    "ExecuteTime": {
     "end_time": "2023-11-09T11:07:49.443112400Z",
     "start_time": "2023-11-09T11:07:49.438095Z"
    },
    "collapsed": false
   },
   "outputs": [],
   "source": [
    "# Split the dataset into training set and test set\n",
    "X_train, X_test, y_train, y_test = train_test_split(X, y, test_size=0.2, random_state=42)\n",
    "\n",
    "# Create a Decision Tree classifier object\n",
    "clf = DecisionTreeClassifier(max_depth=3)\n",
    "\n",
    "# Train Decision Tree Classifier\n",
    "clf = clf.fit(X_train, y_train)\n",
    "\n",
    "# Predict the response for test dataset\n",
    "y_pred = clf.predict(X_test)\n",
    "\n",
    "# Creating a confusion matrix\n",
    "conf_matrix = confusion_matrix(y_test, y_pred)\n",
    "\n",
    "# Calculating metrics manually using the confusion matrix\n",
    "tp, fn, fp, tn = conf_matrix.ravel()\n",
    "\n",
    "# Metrics calculation\n",
    "accuracy = (tp + tn) / (tp + tn + fp + fn)\n",
    "precision = tp / (tp + fp) if (tp + fp) > 0 else 0  # Handling the case where tp + fp is 0\n",
    "recall = tp / (tp + fn) if (tp + fn) > 0 else 0     # Handling the case where tp + fn is 0"
   ]
  }
 ],
 "metadata": {
  "kernelspec": {
   "display_name": "Python 3",
   "language": "python",
   "name": "python3"
  },
  "language_info": {
   "codemirror_mode": {
    "name": "ipython",
    "version": 3
   },
   "file_extension": ".py",
   "mimetype": "text/x-python",
   "name": "python",
   "nbconvert_exporter": "python",
   "pygments_lexer": "ipython3",
   "version": "3.11.5"
  }
 },
 "nbformat": 4,
 "nbformat_minor": 5
}
