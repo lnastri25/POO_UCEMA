{
 "cells": [
  {
   "cell_type": "markdown",
   "metadata": {},
   "source": [
    "# House predictions with linear regression"
   ]
  },
  {
   "cell_type": "code",
   "execution_count": 47,
   "metadata": {
    "collapsed": false
   },
   "outputs": [],
   "source": [
    "import pandas as pd\n",
    "import numpy as np\n",
    "import matplotlib.pyplot as plt\n",
    "import seaborn as sns\n",
    "import statsmodels.formula.api as smf\n",
    "import statsmodels.api as sm"
   ]
  },
  {
   "cell_type": "code",
   "execution_count": 48,
   "metadata": {},
   "outputs": [
    {
     "data": {
      "text/html": [
       "<div>\n",
       "<style scoped>\n",
       "    .dataframe tbody tr th:only-of-type {\n",
       "        vertical-align: middle;\n",
       "    }\n",
       "\n",
       "    .dataframe tbody tr th {\n",
       "        vertical-align: top;\n",
       "    }\n",
       "\n",
       "    .dataframe thead th {\n",
       "        text-align: right;\n",
       "    }\n",
       "</style>\n",
       "<table border=\"1\" class=\"dataframe\">\n",
       "  <thead>\n",
       "    <tr style=\"text-align: right;\">\n",
       "      <th></th>\n",
       "      <th>Price</th>\n",
       "      <th>Area</th>\n",
       "      <th>Location</th>\n",
       "      <th>No. of Bedrooms</th>\n",
       "      <th>Resale</th>\n",
       "      <th>MaintenanceStaff</th>\n",
       "      <th>Gymnasium</th>\n",
       "      <th>SwimmingPool</th>\n",
       "      <th>LandscapedGardens</th>\n",
       "      <th>JoggingTrack</th>\n",
       "      <th>...</th>\n",
       "      <th>LiftAvailable</th>\n",
       "      <th>BED</th>\n",
       "      <th>VaastuCompliant</th>\n",
       "      <th>Microwave</th>\n",
       "      <th>GolfCourse</th>\n",
       "      <th>TV</th>\n",
       "      <th>DiningTable</th>\n",
       "      <th>Sofa</th>\n",
       "      <th>Wardrobe</th>\n",
       "      <th>Refrigerator</th>\n",
       "    </tr>\n",
       "  </thead>\n",
       "  <tbody>\n",
       "    <tr>\n",
       "      <th>0</th>\n",
       "      <td>6968000</td>\n",
       "      <td>1340</td>\n",
       "      <td>Nizampet</td>\n",
       "      <td>2</td>\n",
       "      <td>0</td>\n",
       "      <td>0</td>\n",
       "      <td>1</td>\n",
       "      <td>1</td>\n",
       "      <td>1</td>\n",
       "      <td>1</td>\n",
       "      <td>...</td>\n",
       "      <td>1</td>\n",
       "      <td>0</td>\n",
       "      <td>1</td>\n",
       "      <td>0</td>\n",
       "      <td>0</td>\n",
       "      <td>0</td>\n",
       "      <td>0</td>\n",
       "      <td>0</td>\n",
       "      <td>0</td>\n",
       "      <td>0</td>\n",
       "    </tr>\n",
       "    <tr>\n",
       "      <th>1</th>\n",
       "      <td>29000000</td>\n",
       "      <td>3498</td>\n",
       "      <td>Hitech City</td>\n",
       "      <td>4</td>\n",
       "      <td>0</td>\n",
       "      <td>0</td>\n",
       "      <td>1</td>\n",
       "      <td>1</td>\n",
       "      <td>1</td>\n",
       "      <td>1</td>\n",
       "      <td>...</td>\n",
       "      <td>1</td>\n",
       "      <td>0</td>\n",
       "      <td>1</td>\n",
       "      <td>0</td>\n",
       "      <td>0</td>\n",
       "      <td>0</td>\n",
       "      <td>0</td>\n",
       "      <td>0</td>\n",
       "      <td>0</td>\n",
       "      <td>0</td>\n",
       "    </tr>\n",
       "    <tr>\n",
       "      <th>2</th>\n",
       "      <td>6590000</td>\n",
       "      <td>1318</td>\n",
       "      <td>Manikonda</td>\n",
       "      <td>2</td>\n",
       "      <td>0</td>\n",
       "      <td>0</td>\n",
       "      <td>1</td>\n",
       "      <td>0</td>\n",
       "      <td>0</td>\n",
       "      <td>0</td>\n",
       "      <td>...</td>\n",
       "      <td>0</td>\n",
       "      <td>0</td>\n",
       "      <td>0</td>\n",
       "      <td>0</td>\n",
       "      <td>0</td>\n",
       "      <td>0</td>\n",
       "      <td>0</td>\n",
       "      <td>0</td>\n",
       "      <td>0</td>\n",
       "      <td>0</td>\n",
       "    </tr>\n",
       "    <tr>\n",
       "      <th>3</th>\n",
       "      <td>5739000</td>\n",
       "      <td>1295</td>\n",
       "      <td>Alwal</td>\n",
       "      <td>3</td>\n",
       "      <td>1</td>\n",
       "      <td>0</td>\n",
       "      <td>0</td>\n",
       "      <td>0</td>\n",
       "      <td>0</td>\n",
       "      <td>0</td>\n",
       "      <td>...</td>\n",
       "      <td>1</td>\n",
       "      <td>0</td>\n",
       "      <td>0</td>\n",
       "      <td>0</td>\n",
       "      <td>0</td>\n",
       "      <td>0</td>\n",
       "      <td>0</td>\n",
       "      <td>0</td>\n",
       "      <td>0</td>\n",
       "      <td>0</td>\n",
       "    </tr>\n",
       "    <tr>\n",
       "      <th>4</th>\n",
       "      <td>5679000</td>\n",
       "      <td>1145</td>\n",
       "      <td>Kukatpally</td>\n",
       "      <td>2</td>\n",
       "      <td>0</td>\n",
       "      <td>0</td>\n",
       "      <td>0</td>\n",
       "      <td>0</td>\n",
       "      <td>1</td>\n",
       "      <td>0</td>\n",
       "      <td>...</td>\n",
       "      <td>1</td>\n",
       "      <td>0</td>\n",
       "      <td>0</td>\n",
       "      <td>0</td>\n",
       "      <td>0</td>\n",
       "      <td>0</td>\n",
       "      <td>0</td>\n",
       "      <td>0</td>\n",
       "      <td>0</td>\n",
       "      <td>0</td>\n",
       "    </tr>\n",
       "    <tr>\n",
       "      <th>...</th>\n",
       "      <td>...</td>\n",
       "      <td>...</td>\n",
       "      <td>...</td>\n",
       "      <td>...</td>\n",
       "      <td>...</td>\n",
       "      <td>...</td>\n",
       "      <td>...</td>\n",
       "      <td>...</td>\n",
       "      <td>...</td>\n",
       "      <td>...</td>\n",
       "      <td>...</td>\n",
       "      <td>...</td>\n",
       "      <td>...</td>\n",
       "      <td>...</td>\n",
       "      <td>...</td>\n",
       "      <td>...</td>\n",
       "      <td>...</td>\n",
       "      <td>...</td>\n",
       "      <td>...</td>\n",
       "      <td>...</td>\n",
       "      <td>...</td>\n",
       "    </tr>\n",
       "    <tr>\n",
       "      <th>2513</th>\n",
       "      <td>11000000</td>\n",
       "      <td>1460</td>\n",
       "      <td>Nacharam</td>\n",
       "      <td>2</td>\n",
       "      <td>1</td>\n",
       "      <td>9</td>\n",
       "      <td>9</td>\n",
       "      <td>9</td>\n",
       "      <td>9</td>\n",
       "      <td>9</td>\n",
       "      <td>...</td>\n",
       "      <td>9</td>\n",
       "      <td>9</td>\n",
       "      <td>9</td>\n",
       "      <td>9</td>\n",
       "      <td>9</td>\n",
       "      <td>9</td>\n",
       "      <td>9</td>\n",
       "      <td>9</td>\n",
       "      <td>9</td>\n",
       "      <td>9</td>\n",
       "    </tr>\n",
       "    <tr>\n",
       "      <th>2514</th>\n",
       "      <td>26000000</td>\n",
       "      <td>1314</td>\n",
       "      <td>Manikonda</td>\n",
       "      <td>2</td>\n",
       "      <td>1</td>\n",
       "      <td>9</td>\n",
       "      <td>9</td>\n",
       "      <td>9</td>\n",
       "      <td>9</td>\n",
       "      <td>9</td>\n",
       "      <td>...</td>\n",
       "      <td>9</td>\n",
       "      <td>9</td>\n",
       "      <td>9</td>\n",
       "      <td>9</td>\n",
       "      <td>9</td>\n",
       "      <td>9</td>\n",
       "      <td>9</td>\n",
       "      <td>9</td>\n",
       "      <td>9</td>\n",
       "      <td>9</td>\n",
       "    </tr>\n",
       "    <tr>\n",
       "      <th>2515</th>\n",
       "      <td>13300000</td>\n",
       "      <td>2625</td>\n",
       "      <td>Madhapur</td>\n",
       "      <td>3</td>\n",
       "      <td>1</td>\n",
       "      <td>9</td>\n",
       "      <td>9</td>\n",
       "      <td>9</td>\n",
       "      <td>9</td>\n",
       "      <td>9</td>\n",
       "      <td>...</td>\n",
       "      <td>9</td>\n",
       "      <td>9</td>\n",
       "      <td>9</td>\n",
       "      <td>9</td>\n",
       "      <td>9</td>\n",
       "      <td>9</td>\n",
       "      <td>9</td>\n",
       "      <td>9</td>\n",
       "      <td>9</td>\n",
       "      <td>9</td>\n",
       "    </tr>\n",
       "    <tr>\n",
       "      <th>2516</th>\n",
       "      <td>10800000</td>\n",
       "      <td>2050</td>\n",
       "      <td>Hitech City</td>\n",
       "      <td>3</td>\n",
       "      <td>0</td>\n",
       "      <td>9</td>\n",
       "      <td>9</td>\n",
       "      <td>9</td>\n",
       "      <td>9</td>\n",
       "      <td>9</td>\n",
       "      <td>...</td>\n",
       "      <td>9</td>\n",
       "      <td>9</td>\n",
       "      <td>9</td>\n",
       "      <td>9</td>\n",
       "      <td>9</td>\n",
       "      <td>9</td>\n",
       "      <td>9</td>\n",
       "      <td>9</td>\n",
       "      <td>9</td>\n",
       "      <td>9</td>\n",
       "    </tr>\n",
       "    <tr>\n",
       "      <th>2517</th>\n",
       "      <td>10400000</td>\n",
       "      <td>1805</td>\n",
       "      <td>Narsingi</td>\n",
       "      <td>3</td>\n",
       "      <td>0</td>\n",
       "      <td>9</td>\n",
       "      <td>9</td>\n",
       "      <td>9</td>\n",
       "      <td>9</td>\n",
       "      <td>9</td>\n",
       "      <td>...</td>\n",
       "      <td>9</td>\n",
       "      <td>9</td>\n",
       "      <td>9</td>\n",
       "      <td>9</td>\n",
       "      <td>9</td>\n",
       "      <td>9</td>\n",
       "      <td>9</td>\n",
       "      <td>9</td>\n",
       "      <td>9</td>\n",
       "      <td>9</td>\n",
       "    </tr>\n",
       "  </tbody>\n",
       "</table>\n",
       "<p>2518 rows × 40 columns</p>\n",
       "</div>"
      ],
      "text/plain": [
       "         Price  Area     Location  No. of Bedrooms  Resale  MaintenanceStaff  \\\n",
       "0      6968000  1340     Nizampet                2       0                 0   \n",
       "1     29000000  3498  Hitech City                4       0                 0   \n",
       "2      6590000  1318    Manikonda                2       0                 0   \n",
       "3      5739000  1295        Alwal                3       1                 0   \n",
       "4      5679000  1145   Kukatpally                2       0                 0   \n",
       "...        ...   ...          ...              ...     ...               ...   \n",
       "2513  11000000  1460     Nacharam                2       1                 9   \n",
       "2514  26000000  1314    Manikonda                2       1                 9   \n",
       "2515  13300000  2625     Madhapur                3       1                 9   \n",
       "2516  10800000  2050  Hitech City                3       0                 9   \n",
       "2517  10400000  1805     Narsingi                3       0                 9   \n",
       "\n",
       "      Gymnasium  SwimmingPool  LandscapedGardens  JoggingTrack  ...  \\\n",
       "0             1             1                  1             1  ...   \n",
       "1             1             1                  1             1  ...   \n",
       "2             1             0                  0             0  ...   \n",
       "3             0             0                  0             0  ...   \n",
       "4             0             0                  1             0  ...   \n",
       "...         ...           ...                ...           ...  ...   \n",
       "2513          9             9                  9             9  ...   \n",
       "2514          9             9                  9             9  ...   \n",
       "2515          9             9                  9             9  ...   \n",
       "2516          9             9                  9             9  ...   \n",
       "2517          9             9                  9             9  ...   \n",
       "\n",
       "      LiftAvailable  BED  VaastuCompliant  Microwave  GolfCourse  TV  \\\n",
       "0                 1    0                1          0           0   0   \n",
       "1                 1    0                1          0           0   0   \n",
       "2                 0    0                0          0           0   0   \n",
       "3                 1    0                0          0           0   0   \n",
       "4                 1    0                0          0           0   0   \n",
       "...             ...  ...              ...        ...         ...  ..   \n",
       "2513              9    9                9          9           9   9   \n",
       "2514              9    9                9          9           9   9   \n",
       "2515              9    9                9          9           9   9   \n",
       "2516              9    9                9          9           9   9   \n",
       "2517              9    9                9          9           9   9   \n",
       "\n",
       "      DiningTable  Sofa  Wardrobe  Refrigerator  \n",
       "0               0     0         0             0  \n",
       "1               0     0         0             0  \n",
       "2               0     0         0             0  \n",
       "3               0     0         0             0  \n",
       "4               0     0         0             0  \n",
       "...           ...   ...       ...           ...  \n",
       "2513            9     9         9             9  \n",
       "2514            9     9         9             9  \n",
       "2515            9     9         9             9  \n",
       "2516            9     9         9             9  \n",
       "2517            9     9         9             9  \n",
       "\n",
       "[2518 rows x 40 columns]"
      ]
     },
     "execution_count": 48,
     "metadata": {},
     "output_type": "execute_result"
    }
   ],
   "source": [
    "df_house_predictions = pd.read_csv('/Users/lolonastri/Desktop/POO_UCEMA/machine_learning/1-regresion-lineal/Hyderabad.csv')\n",
    "df_house_predictions"
   ]
  },
  {
   "cell_type": "markdown",
   "metadata": {},
   "source": [
    "___"
   ]
  },
  {
   "cell_type": "markdown",
   "metadata": {},
   "source": [
    "## Revisión de nulos"
   ]
  },
  {
   "cell_type": "code",
   "execution_count": 49,
   "metadata": {},
   "outputs": [
    {
     "data": {
      "text/plain": [
       "Price                  0\n",
       "Area                   0\n",
       "Location               0\n",
       "No. of Bedrooms        0\n",
       "Resale                 0\n",
       "MaintenanceStaff       0\n",
       "Gymnasium              0\n",
       "SwimmingPool           0\n",
       "LandscapedGardens      0\n",
       "JoggingTrack           0\n",
       "RainWaterHarvesting    0\n",
       "IndoorGames            0\n",
       "ShoppingMall           0\n",
       "Intercom               0\n",
       "SportsFacility         0\n",
       "ATM                    0\n",
       "ClubHouse              0\n",
       "School                 0\n",
       "24X7Security           0\n",
       "PowerBackup            0\n",
       "CarParking             0\n",
       "StaffQuarter           0\n",
       "Cafeteria              0\n",
       "MultipurposeRoom       0\n",
       "Hospital               0\n",
       "WashingMachine         0\n",
       "Gasconnection          0\n",
       "AC                     0\n",
       "Wifi                   0\n",
       "Children'splayarea     0\n",
       "LiftAvailable          0\n",
       "BED                    0\n",
       "VaastuCompliant        0\n",
       "Microwave              0\n",
       "GolfCourse             0\n",
       "TV                     0\n",
       "DiningTable            0\n",
       "Sofa                   0\n",
       "Wardrobe               0\n",
       "Refrigerator           0\n",
       "dtype: int64"
      ]
     },
     "execution_count": 49,
     "metadata": {},
     "output_type": "execute_result"
    }
   ],
   "source": [
    "df_house_predictions.isnull().sum()"
   ]
  },
  {
   "cell_type": "markdown",
   "metadata": {},
   "source": [
    "___"
   ]
  },
  {
   "cell_type": "markdown",
   "metadata": {},
   "source": [
    "## Revisión de outliers"
   ]
  },
  {
   "cell_type": "code",
   "execution_count": 50,
   "metadata": {},
   "outputs": [
    {
     "data": {
      "text/plain": [
       "count    2.518000e+03\n",
       "mean     9.818380e+06\n",
       "std      8.777113e+06\n",
       "min      2.000000e+06\n",
       "25%      4.760000e+06\n",
       "50%      7.754000e+06\n",
       "75%      1.090000e+07\n",
       "max      1.650000e+08\n",
       "Name: Price, dtype: float64"
      ]
     },
     "execution_count": 50,
     "metadata": {},
     "output_type": "execute_result"
    }
   ],
   "source": [
    "df_house_predictions['Price'].describe()"
   ]
  },
  {
   "cell_type": "code",
   "execution_count": 51,
   "metadata": {},
   "outputs": [
    {
     "data": {
      "text/plain": [
       "count    2518.000000\n",
       "mean     1644.571088\n",
       "std       746.256956\n",
       "min       500.000000\n",
       "25%      1160.000000\n",
       "50%      1500.000000\n",
       "75%      1829.000000\n",
       "max      9400.000000\n",
       "Name: Area, dtype: float64"
      ]
     },
     "execution_count": 51,
     "metadata": {},
     "output_type": "execute_result"
    }
   ],
   "source": [
    "df_house_predictions['Area'].describe()"
   ]
  },
  {
   "cell_type": "code",
   "execution_count": 52,
   "metadata": {},
   "outputs": [
    {
     "data": {
      "text/plain": [
       "<Axes: xlabel='Price'>"
      ]
     },
     "execution_count": 52,
     "metadata": {},
     "output_type": "execute_result"
    },
    {
     "data": {
      "image/png": "[encoded data removed]",
      "text/plain": [
       "<Figure size 640x480 with 1 Axes>"
      ]
     },
     "metadata": {},
     "output_type": "display_data"
    }
   ],
   "source": [
    "sns.boxplot(x=df_house_predictions['Price'])"
   ]
  },
  {
   "cell_type": "code",
   "execution_count": 53,
   "metadata": {},
   "outputs": [],
   "source": [
    "# Elimino los outliers\n"
   ]
  },
  {
   "cell_type": "code",
   "execution_count": 54,
   "metadata": {},
   "outputs": [
    {
     "data": {
      "text/plain": [
       "<Axes: xlabel='Area'>"
      ]
     },
     "execution_count": 54,
     "metadata": {},
     "output_type": "execute_result"
    },
    {
     "data": {
      "image/png": "[encoded data removed]",
      "text/plain": [
       "<Figure size 640x480 with 1 Axes>"
      ]
     },
     "metadata": {},
     "output_type": "display_data"
    }
   ],
   "source": [
    "sns.boxplot(x=df_house_predictions['Area'])"
   ]
  },
  {
   "cell_type": "markdown",
   "metadata": {},
   "source": [
    "___"
   ]
  },
  {
   "cell_type": "markdown",
   "metadata": {},
   "source": [
    "## 1) Exploring the relationship between price and area"
   ]
  },
  {
   "cell_type": "code",
   "execution_count": 55,
   "metadata": {},
   "outputs": [
    {
     "data": {
      "text/plain": [
       "<matplotlib.collections.PathCollection at 0x134d2b790>"
      ]
     },
     "execution_count": 55,
     "metadata": {},
     "output_type": "execute_result"
    },
    {
     "data": {
      "image/png": "[encoded data removed]",
      "text/plain": [
       "<Figure size 640x480 with 1 Axes>"
      ]
     },
     "metadata": {},
     "output_type": "display_data"
    }
   ],
   "source": [
    "plt.scatter(df_house_predictions['Area'], df_house_predictions['Price'])\n"
   ]
  },
  {
   "cell_type": "markdown",
   "metadata": {},
   "source": [
    "___"
   ]
  },
  {
   "cell_type": "markdown",
   "metadata": {},
   "source": [
    "## 2) Crear un model simple de regresión lineal entre area y precio"
   ]
  },
  {
   "cell_type": "code",
   "execution_count": 56,
   "metadata": {
    "collapsed": false
   },
   "outputs": [
    {
     "name": "stdout",
     "output_type": "stream",
     "text": [
      "Intel MKL WARNING: Support of Intel(R) Streaming SIMD Extensions 4.2 (Intel(R) SSE4.2) enabled only processors has been deprecated. Intel oneAPI Math Kernel Library 2025.0 will require Intel(R) Advanced Vector Extensions (Intel(R) AVX) instructions.\n"
     ]
    },
    {
     "data": {
      "text/plain": [
       "<statsmodels.regression.linear_model.RegressionResultsWrapper at 0x10d6919d0>"
      ]
     },
     "execution_count": 56,
     "metadata": {},
     "output_type": "execute_result"
    }
   ],
   "source": [
    "model = smf.ols(formula='Price ~ Area', data=df_house_predictions)\n",
    "model = model.fit()\n",
    "model\n"
   ]
  },
  {
   "cell_type": "code",
   "execution_count": 57,
   "metadata": {},
   "outputs": [
    {
     "name": "stdout",
     "output_type": "stream",
     "text": [
      "Intercept   -6.222669e+06\n",
      "Area         9.753941e+03\n",
      "dtype: float64\n"
     ]
    }
   ],
   "source": [
    "print(model.params)"
   ]
  },
  {
   "cell_type": "markdown",
   "metadata": {},
   "source": [
    "___"
   ]
  },
  {
   "cell_type": "markdown",
   "metadata": {},
   "source": [
    "## 3) Crear un regplot con seaborn para visualizar el modelo"
   ]
  },
  {
   "cell_type": "code",
   "execution_count": 58,
   "metadata": {},
   "outputs": [
    {
     "data": {
      "text/plain": [
       "<Axes: xlabel='Area', ylabel='Price'>"
      ]
     },
     "execution_count": 58,
     "metadata": {},
     "output_type": "execute_result"
    },
    {
     "data": {
      "image/png": "[encoded data removed]",
      "text/plain": [
       "<Figure size 640x480 with 1 Axes>"
      ]
     },
     "metadata": {},
     "output_type": "display_data"
    }
   ],
   "source": [
    "sns.regplot(x=df_house_predictions['Area'], y=df_house_predictions['Price'], data=df_house_predictions, ci=None)"
   ]
  },
  {
   "cell_type": "markdown",
   "metadata": {},
   "source": [
    "___"
   ]
  },
  {
   "cell_type": "markdown",
   "metadata": {},
   "source": [
    "## 4) Building a model that uses all the features"
   ]
  },
  {
   "cell_type": "code",
   "execution_count": 59,
   "metadata": {},
   "outputs": [
    {
     "data": {
      "text/html": [
       "<div>\n",
       "<style scoped>\n",
       "    .dataframe tbody tr th:only-of-type {\n",
       "        vertical-align: middle;\n",
       "    }\n",
       "\n",
       "    .dataframe tbody tr th {\n",
       "        vertical-align: top;\n",
       "    }\n",
       "\n",
       "    .dataframe thead th {\n",
       "        text-align: right;\n",
       "    }\n",
       "</style>\n",
       "<table border=\"1\" class=\"dataframe\">\n",
       "  <thead>\n",
       "    <tr style=\"text-align: right;\">\n",
       "      <th></th>\n",
       "      <th>Price</th>\n",
       "      <th>Area</th>\n",
       "      <th>Location</th>\n",
       "      <th>No. of Bedrooms</th>\n",
       "      <th>Resale</th>\n",
       "      <th>MaintenanceStaff</th>\n",
       "      <th>Gymnasium</th>\n",
       "      <th>SwimmingPool</th>\n",
       "      <th>LandscapedGardens</th>\n",
       "      <th>JoggingTrack</th>\n",
       "      <th>...</th>\n",
       "      <th>LiftAvailable</th>\n",
       "      <th>BED</th>\n",
       "      <th>VaastuCompliant</th>\n",
       "      <th>Microwave</th>\n",
       "      <th>GolfCourse</th>\n",
       "      <th>TV</th>\n",
       "      <th>DiningTable</th>\n",
       "      <th>Sofa</th>\n",
       "      <th>Wardrobe</th>\n",
       "      <th>Refrigerator</th>\n",
       "    </tr>\n",
       "  </thead>\n",
       "  <tbody>\n",
       "    <tr>\n",
       "      <th>0</th>\n",
       "      <td>6968000</td>\n",
       "      <td>1340</td>\n",
       "      <td>Nizampet</td>\n",
       "      <td>2</td>\n",
       "      <td>0</td>\n",
       "      <td>0</td>\n",
       "      <td>1</td>\n",
       "      <td>1</td>\n",
       "      <td>1</td>\n",
       "      <td>1</td>\n",
       "      <td>...</td>\n",
       "      <td>1</td>\n",
       "      <td>0</td>\n",
       "      <td>1</td>\n",
       "      <td>0</td>\n",
       "      <td>0</td>\n",
       "      <td>0</td>\n",
       "      <td>0</td>\n",
       "      <td>0</td>\n",
       "      <td>0</td>\n",
       "      <td>0</td>\n",
       "    </tr>\n",
       "    <tr>\n",
       "      <th>1</th>\n",
       "      <td>29000000</td>\n",
       "      <td>3498</td>\n",
       "      <td>Hitech City</td>\n",
       "      <td>4</td>\n",
       "      <td>0</td>\n",
       "      <td>0</td>\n",
       "      <td>1</td>\n",
       "      <td>1</td>\n",
       "      <td>1</td>\n",
       "      <td>1</td>\n",
       "      <td>...</td>\n",
       "      <td>1</td>\n",
       "      <td>0</td>\n",
       "      <td>1</td>\n",
       "      <td>0</td>\n",
       "      <td>0</td>\n",
       "      <td>0</td>\n",
       "      <td>0</td>\n",
       "      <td>0</td>\n",
       "      <td>0</td>\n",
       "      <td>0</td>\n",
       "    </tr>\n",
       "    <tr>\n",
       "      <th>2</th>\n",
       "      <td>6590000</td>\n",
       "      <td>1318</td>\n",
       "      <td>Manikonda</td>\n",
       "      <td>2</td>\n",
       "      <td>0</td>\n",
       "      <td>0</td>\n",
       "      <td>1</td>\n",
       "      <td>0</td>\n",
       "      <td>0</td>\n",
       "      <td>0</td>\n",
       "      <td>...</td>\n",
       "      <td>0</td>\n",
       "      <td>0</td>\n",
       "      <td>0</td>\n",
       "      <td>0</td>\n",
       "      <td>0</td>\n",
       "      <td>0</td>\n",
       "      <td>0</td>\n",
       "      <td>0</td>\n",
       "      <td>0</td>\n",
       "      <td>0</td>\n",
       "    </tr>\n",
       "    <tr>\n",
       "      <th>3</th>\n",
       "      <td>5739000</td>\n",
       "      <td>1295</td>\n",
       "      <td>Alwal</td>\n",
       "      <td>3</td>\n",
       "      <td>1</td>\n",
       "      <td>0</td>\n",
       "      <td>0</td>\n",
       "      <td>0</td>\n",
       "      <td>0</td>\n",
       "      <td>0</td>\n",
       "      <td>...</td>\n",
       "      <td>1</td>\n",
       "      <td>0</td>\n",
       "      <td>0</td>\n",
       "      <td>0</td>\n",
       "      <td>0</td>\n",
       "      <td>0</td>\n",
       "      <td>0</td>\n",
       "      <td>0</td>\n",
       "      <td>0</td>\n",
       "      <td>0</td>\n",
       "    </tr>\n",
       "    <tr>\n",
       "      <th>4</th>\n",
       "      <td>5679000</td>\n",
       "      <td>1145</td>\n",
       "      <td>Kukatpally</td>\n",
       "      <td>2</td>\n",
       "      <td>0</td>\n",
       "      <td>0</td>\n",
       "      <td>0</td>\n",
       "      <td>0</td>\n",
       "      <td>1</td>\n",
       "      <td>0</td>\n",
       "      <td>...</td>\n",
       "      <td>1</td>\n",
       "      <td>0</td>\n",
       "      <td>0</td>\n",
       "      <td>0</td>\n",
       "      <td>0</td>\n",
       "      <td>0</td>\n",
       "      <td>0</td>\n",
       "      <td>0</td>\n",
       "      <td>0</td>\n",
       "      <td>0</td>\n",
       "    </tr>\n",
       "    <tr>\n",
       "      <th>...</th>\n",
       "      <td>...</td>\n",
       "      <td>...</td>\n",
       "      <td>...</td>\n",
       "      <td>...</td>\n",
       "      <td>...</td>\n",
       "      <td>...</td>\n",
       "      <td>...</td>\n",
       "      <td>...</td>\n",
       "      <td>...</td>\n",
       "      <td>...</td>\n",
       "      <td>...</td>\n",
       "      <td>...</td>\n",
       "      <td>...</td>\n",
       "      <td>...</td>\n",
       "      <td>...</td>\n",
       "      <td>...</td>\n",
       "      <td>...</td>\n",
       "      <td>...</td>\n",
       "      <td>...</td>\n",
       "      <td>...</td>\n",
       "      <td>...</td>\n",
       "    </tr>\n",
       "    <tr>\n",
       "      <th>2513</th>\n",
       "      <td>11000000</td>\n",
       "      <td>1460</td>\n",
       "      <td>Nacharam</td>\n",
       "      <td>2</td>\n",
       "      <td>1</td>\n",
       "      <td>9</td>\n",
       "      <td>9</td>\n",
       "      <td>9</td>\n",
       "      <td>9</td>\n",
       "      <td>9</td>\n",
       "      <td>...</td>\n",
       "      <td>9</td>\n",
       "      <td>9</td>\n",
       "      <td>9</td>\n",
       "      <td>9</td>\n",
       "      <td>9</td>\n",
       "      <td>9</td>\n",
       "      <td>9</td>\n",
       "      <td>9</td>\n",
       "      <td>9</td>\n",
       "      <td>9</td>\n",
       "    </tr>\n",
       "    <tr>\n",
       "      <th>2514</th>\n",
       "      <td>26000000</td>\n",
       "      <td>1314</td>\n",
       "      <td>Manikonda</td>\n",
       "      <td>2</td>\n",
       "      <td>1</td>\n",
       "      <td>9</td>\n",
       "      <td>9</td>\n",
       "      <td>9</td>\n",
       "      <td>9</td>\n",
       "      <td>9</td>\n",
       "      <td>...</td>\n",
       "      <td>9</td>\n",
       "      <td>9</td>\n",
       "      <td>9</td>\n",
       "      <td>9</td>\n",
       "      <td>9</td>\n",
       "      <td>9</td>\n",
       "      <td>9</td>\n",
       "      <td>9</td>\n",
       "      <td>9</td>\n",
       "      <td>9</td>\n",
       "    </tr>\n",
       "    <tr>\n",
       "      <th>2515</th>\n",
       "      <td>13300000</td>\n",
       "      <td>2625</td>\n",
       "      <td>Madhapur</td>\n",
       "      <td>3</td>\n",
       "      <td>1</td>\n",
       "      <td>9</td>\n",
       "      <td>9</td>\n",
       "      <td>9</td>\n",
       "      <td>9</td>\n",
       "      <td>9</td>\n",
       "      <td>...</td>\n",
       "      <td>9</td>\n",
       "      <td>9</td>\n",
       "      <td>9</td>\n",
       "      <td>9</td>\n",
       "      <td>9</td>\n",
       "      <td>9</td>\n",
       "      <td>9</td>\n",
       "      <td>9</td>\n",
       "      <td>9</td>\n",
       "      <td>9</td>\n",
       "    </tr>\n",
       "    <tr>\n",
       "      <th>2516</th>\n",
       "      <td>10800000</td>\n",
       "      <td>2050</td>\n",
       "      <td>Hitech City</td>\n",
       "      <td>3</td>\n",
       "      <td>0</td>\n",
       "      <td>9</td>\n",
       "      <td>9</td>\n",
       "      <td>9</td>\n",
       "      <td>9</td>\n",
       "      <td>9</td>\n",
       "      <td>...</td>\n",
       "      <td>9</td>\n",
       "      <td>9</td>\n",
       "      <td>9</td>\n",
       "      <td>9</td>\n",
       "      <td>9</td>\n",
       "      <td>9</td>\n",
       "      <td>9</td>\n",
       "      <td>9</td>\n",
       "      <td>9</td>\n",
       "      <td>9</td>\n",
       "    </tr>\n",
       "    <tr>\n",
       "      <th>2517</th>\n",
       "      <td>10400000</td>\n",
       "      <td>1805</td>\n",
       "      <td>Narsingi</td>\n",
       "      <td>3</td>\n",
       "      <td>0</td>\n",
       "      <td>9</td>\n",
       "      <td>9</td>\n",
       "      <td>9</td>\n",
       "      <td>9</td>\n",
       "      <td>9</td>\n",
       "      <td>...</td>\n",
       "      <td>9</td>\n",
       "      <td>9</td>\n",
       "      <td>9</td>\n",
       "      <td>9</td>\n",
       "      <td>9</td>\n",
       "      <td>9</td>\n",
       "      <td>9</td>\n",
       "      <td>9</td>\n",
       "      <td>9</td>\n",
       "      <td>9</td>\n",
       "    </tr>\n",
       "  </tbody>\n",
       "</table>\n",
       "<p>2518 rows × 40 columns</p>\n",
       "</div>"
      ],
      "text/plain": [
       "         Price  Area     Location  No. of Bedrooms  Resale  MaintenanceStaff  \\\n",
       "0      6968000  1340     Nizampet                2       0                 0   \n",
       "1     29000000  3498  Hitech City                4       0                 0   \n",
       "2      6590000  1318    Manikonda                2       0                 0   \n",
       "3      5739000  1295        Alwal                3       1                 0   \n",
       "4      5679000  1145   Kukatpally                2       0                 0   \n",
       "...        ...   ...          ...              ...     ...               ...   \n",
       "2513  11000000  1460     Nacharam                2       1                 9   \n",
       "2514  26000000  1314    Manikonda                2       1                 9   \n",
       "2515  13300000  2625     Madhapur                3       1                 9   \n",
       "2516  10800000  2050  Hitech City                3       0                 9   \n",
       "2517  10400000  1805     Narsingi                3       0                 9   \n",
       "\n",
       "      Gymnasium  SwimmingPool  LandscapedGardens  JoggingTrack  ...  \\\n",
       "0             1             1                  1             1  ...   \n",
       "1             1             1                  1             1  ...   \n",
       "2             1             0                  0             0  ...   \n",
       "3             0             0                  0             0  ...   \n",
       "4             0             0                  1             0  ...   \n",
       "...         ...           ...                ...           ...  ...   \n",
       "2513          9             9                  9             9  ...   \n",
       "2514          9             9                  9             9  ...   \n",
       "2515          9             9                  9             9  ...   \n",
       "2516          9             9                  9             9  ...   \n",
       "2517          9             9                  9             9  ...   \n",
       "\n",
       "      LiftAvailable  BED  VaastuCompliant  Microwave  GolfCourse  TV  \\\n",
       "0                 1    0                1          0           0   0   \n",
       "1                 1    0                1          0           0   0   \n",
       "2                 0    0                0          0           0   0   \n",
       "3                 1    0                0          0           0   0   \n",
       "4                 1    0                0          0           0   0   \n",
       "...             ...  ...              ...        ...         ...  ..   \n",
       "2513              9    9                9          9           9   9   \n",
       "2514              9    9                9          9           9   9   \n",
       "2515              9    9                9          9           9   9   \n",
       "2516              9    9                9          9           9   9   \n",
       "2517              9    9                9          9           9   9   \n",
       "\n",
       "      DiningTable  Sofa  Wardrobe  Refrigerator  \n",
       "0               0     0         0             0  \n",
       "1               0     0         0             0  \n",
       "2               0     0         0             0  \n",
       "3               0     0         0             0  \n",
       "4               0     0         0             0  \n",
       "...           ...   ...       ...           ...  \n",
       "2513            9     9         9             9  \n",
       "2514            9     9         9             9  \n",
       "2515            9     9         9             9  \n",
       "2516            9     9         9             9  \n",
       "2517            9     9         9             9  \n",
       "\n",
       "[2518 rows x 40 columns]"
      ]
     },
     "execution_count": 59,
     "metadata": {},
     "output_type": "execute_result"
    }
   ],
   "source": [
    "df_house_predictions"
   ]
  },
  {
   "cell_type": "code",
   "execution_count": 60,
   "metadata": {},
   "outputs": [
    {
     "name": "stdout",
     "output_type": "stream",
     "text": [
      "Intel MKL WARNING: Support of Intel(R) Streaming SIMD Extensions 4.2 (Intel(R) SSE4.2) enabled only processors has been deprecated. Intel oneAPI Math Kernel Library 2025.0 will require Intel(R) Advanced Vector Extensions (Intel(R) AVX) instructions.\n"
     ]
    }
   ],
   "source": [
    "model2 = smf.ols(formula='Price ~ Gymnasium + Area + Resale + SwimmingPool + LandscapedGardens + BED + TV + Sofa + DiningTable', data=df_house_predictions)\n",
    "model2 = model2.fit()"
   ]
  },
  {
   "cell_type": "code",
   "execution_count": 61,
   "metadata": {},
   "outputs": [
    {
     "data": {
      "text/html": [
       "<table class=\"simpletable\">\n",
       "<caption>OLS Regression Results</caption>\n",
       "<tr>\n",
       "  <th>Dep. Variable:</th>          <td>Price</td>      <th>  R-squared:         </th> <td>   0.694</td> \n",
       "</tr>\n",
       "<tr>\n",
       "  <th>Model:</th>                   <td>OLS</td>       <th>  Adj. R-squared:    </th> <td>   0.693</td> \n",
       "</tr>\n",
       "<tr>\n",
       "  <th>Method:</th>             <td>Least Squares</td>  <th>  F-statistic:       </th> <td>   630.8</td> \n",
       "</tr>\n",
       "<tr>\n",
       "  <th>Date:</th>             <td>Fri, 20 Oct 2023</td> <th>  Prob (F-statistic):</th>  <td>  0.00</td>  \n",
       "</tr>\n",
       "<tr>\n",
       "  <th>Time:</th>                 <td>10:48:37</td>     <th>  Log-Likelihood:    </th> <td> -42340.</td> \n",
       "</tr>\n",
       "<tr>\n",
       "  <th>No. Observations:</th>      <td>  2518</td>      <th>  AIC:               </th> <td>8.470e+04</td>\n",
       "</tr>\n",
       "<tr>\n",
       "  <th>Df Residuals:</th>          <td>  2508</td>      <th>  BIC:               </th> <td>8.476e+04</td>\n",
       "</tr>\n",
       "<tr>\n",
       "  <th>Df Model:</th>              <td>     9</td>      <th>                     </th>     <td> </td>    \n",
       "</tr>\n",
       "<tr>\n",
       "  <th>Covariance Type:</th>      <td>nonrobust</td>    <th>                     </th>     <td> </td>    \n",
       "</tr>\n",
       "</table>\n",
       "<table class=\"simpletable\">\n",
       "<tr>\n",
       "          <td></td>             <th>coef</th>     <th>std err</th>      <th>t</th>      <th>P>|t|</th>  <th>[0.025</th>    <th>0.975]</th>  \n",
       "</tr>\n",
       "<tr>\n",
       "  <th>Intercept</th>         <td> -6.31e+06</td> <td> 2.39e+05</td> <td>  -26.375</td> <td> 0.000</td> <td>-6.78e+06</td> <td>-5.84e+06</td>\n",
       "</tr>\n",
       "<tr>\n",
       "  <th>Gymnasium</th>         <td>-2.614e+05</td> <td> 4.37e+05</td> <td>   -0.599</td> <td> 0.550</td> <td>-1.12e+06</td> <td> 5.95e+05</td>\n",
       "</tr>\n",
       "<tr>\n",
       "  <th>Area</th>              <td> 9452.1471</td> <td>  139.914</td> <td>   67.557</td> <td> 0.000</td> <td> 9177.788</td> <td> 9726.506</td>\n",
       "</tr>\n",
       "<tr>\n",
       "  <th>Resale</th>            <td> 1.424e+06</td> <td> 2.45e+05</td> <td>    5.816</td> <td> 0.000</td> <td> 9.44e+05</td> <td>  1.9e+06</td>\n",
       "</tr>\n",
       "<tr>\n",
       "  <th>SwimmingPool</th>      <td> 7.517e+05</td> <td> 4.62e+05</td> <td>    1.626</td> <td> 0.104</td> <td>-1.55e+05</td> <td> 1.66e+06</td>\n",
       "</tr>\n",
       "<tr>\n",
       "  <th>LandscapedGardens</th> <td> 3.846e+05</td> <td> 3.12e+05</td> <td>    1.233</td> <td> 0.218</td> <td>-2.27e+05</td> <td> 9.96e+05</td>\n",
       "</tr>\n",
       "<tr>\n",
       "  <th>BED</th>               <td>  4.67e+05</td> <td> 5.04e+05</td> <td>    0.926</td> <td> 0.355</td> <td>-5.22e+05</td> <td> 1.46e+06</td>\n",
       "</tr>\n",
       "<tr>\n",
       "  <th>TV</th>                <td> 1.465e+04</td> <td>  7.9e+05</td> <td>    0.019</td> <td> 0.985</td> <td>-1.53e+06</td> <td> 1.56e+06</td>\n",
       "</tr>\n",
       "<tr>\n",
       "  <th>Sofa</th>              <td>-1.413e+06</td> <td> 7.83e+05</td> <td>   -1.804</td> <td> 0.071</td> <td>-2.95e+06</td> <td> 1.22e+05</td>\n",
       "</tr>\n",
       "<tr>\n",
       "  <th>DiningTable</th>       <td>-2.255e+04</td> <td> 9.51e+05</td> <td>   -0.024</td> <td> 0.981</td> <td>-1.89e+06</td> <td> 1.84e+06</td>\n",
       "</tr>\n",
       "</table>\n",
       "<table class=\"simpletable\">\n",
       "<tr>\n",
       "  <th>Omnibus:</th>       <td>4256.803</td> <th>  Durbin-Watson:     </th>   <td>   1.886</td>  \n",
       "</tr>\n",
       "<tr>\n",
       "  <th>Prob(Omnibus):</th>  <td> 0.000</td>  <th>  Jarque-Bera (JB):  </th> <td>10838678.373</td>\n",
       "</tr>\n",
       "<tr>\n",
       "  <th>Skew:</th>           <td>10.778</td>  <th>  Prob(JB):          </th>   <td>    0.00</td>  \n",
       "</tr>\n",
       "<tr>\n",
       "  <th>Kurtosis:</th>       <td>323.691</td> <th>  Cond. No.          </th>   <td>2.16e+04</td>  \n",
       "</tr>\n",
       "</table><br/><br/>Notes:<br/>[1] Standard Errors assume that the covariance matrix of the errors is correctly specified.<br/>[2] The condition number is large, 2.16e+04. This might indicate that there are<br/>strong multicollinearity or other numerical problems."
      ],
      "text/latex": [
       "\\begin{center}\n",
       "\\begin{tabular}{lclc}\n",
       "\\toprule\n",
       "\\textbf{Dep. Variable:}    &      Price       & \\textbf{  R-squared:         } &      0.694    \\\\\n",
       "\\textbf{Model:}            &       OLS        & \\textbf{  Adj. R-squared:    } &      0.693    \\\\\n",
       "\\textbf{Method:}           &  Least Squares   & \\textbf{  F-statistic:       } &      630.8    \\\\\n",
       "\\textbf{Date:}             & Fri, 20 Oct 2023 & \\textbf{  Prob (F-statistic):} &      0.00     \\\\\n",
       "\\textbf{Time:}             &     10:48:37     & \\textbf{  Log-Likelihood:    } &    -42340.    \\\\\n",
       "\\textbf{No. Observations:} &        2518      & \\textbf{  AIC:               } &  8.470e+04    \\\\\n",
       "\\textbf{Df Residuals:}     &        2508      & \\textbf{  BIC:               } &  8.476e+04    \\\\\n",
       "\\textbf{Df Model:}         &           9      & \\textbf{                     } &               \\\\\n",
       "\\textbf{Covariance Type:}  &    nonrobust     & \\textbf{                     } &               \\\\\n",
       "\\bottomrule\n",
       "\\end{tabular}\n",
       "\\begin{tabular}{lcccccc}\n",
       "                           & \\textbf{coef} & \\textbf{std err} & \\textbf{t} & \\textbf{P$> |$t$|$} & \\textbf{[0.025} & \\textbf{0.975]}  \\\\\n",
       "\\midrule\n",
       "\\textbf{Intercept}         &    -6.31e+06  &     2.39e+05     &   -26.375  &         0.000        &    -6.78e+06    &    -5.84e+06     \\\\\n",
       "\\textbf{Gymnasium}         &   -2.614e+05  &     4.37e+05     &    -0.599  &         0.550        &    -1.12e+06    &     5.95e+05     \\\\\n",
       "\\textbf{Area}              &    9452.1471  &      139.914     &    67.557  &         0.000        &     9177.788    &     9726.506     \\\\\n",
       "\\textbf{Resale}            &    1.424e+06  &     2.45e+05     &     5.816  &         0.000        &     9.44e+05    &      1.9e+06     \\\\\n",
       "\\textbf{SwimmingPool}      &    7.517e+05  &     4.62e+05     &     1.626  &         0.104        &    -1.55e+05    &     1.66e+06     \\\\\n",
       "\\textbf{LandscapedGardens} &    3.846e+05  &     3.12e+05     &     1.233  &         0.218        &    -2.27e+05    &     9.96e+05     \\\\\n",
       "\\textbf{BED}               &     4.67e+05  &     5.04e+05     &     0.926  &         0.355        &    -5.22e+05    &     1.46e+06     \\\\\n",
       "\\textbf{TV}                &    1.465e+04  &      7.9e+05     &     0.019  &         0.985        &    -1.53e+06    &     1.56e+06     \\\\\n",
       "\\textbf{Sofa}              &   -1.413e+06  &     7.83e+05     &    -1.804  &         0.071        &    -2.95e+06    &     1.22e+05     \\\\\n",
       "\\textbf{DiningTable}       &   -2.255e+04  &     9.51e+05     &    -0.024  &         0.981        &    -1.89e+06    &     1.84e+06     \\\\\n",
       "\\bottomrule\n",
       "\\end{tabular}\n",
       "\\begin{tabular}{lclc}\n",
       "\\textbf{Omnibus:}       & 4256.803 & \\textbf{  Durbin-Watson:     } &      1.886    \\\\\n",
       "\\textbf{Prob(Omnibus):} &   0.000  & \\textbf{  Jarque-Bera (JB):  } & 10838678.373  \\\\\n",
       "\\textbf{Skew:}          &  10.778  & \\textbf{  Prob(JB):          } &       0.00    \\\\\n",
       "\\textbf{Kurtosis:}      & 323.691  & \\textbf{  Cond. No.          } &   2.16e+04    \\\\\n",
       "\\bottomrule\n",
       "\\end{tabular}\n",
       "%\\caption{OLS Regression Results}\n",
       "\\end{center}\n",
       "\n",
       "Notes: \\newline\n",
       " [1] Standard Errors assume that the covariance matrix of the errors is correctly specified. \\newline\n",
       " [2] The condition number is large, 2.16e+04. This might indicate that there are \\newline\n",
       " strong multicollinearity or other numerical problems."
      ],
      "text/plain": [
       "<class 'statsmodels.iolib.summary.Summary'>\n",
       "\"\"\"\n",
       "                            OLS Regression Results                            \n",
       "==============================================================================\n",
       "Dep. Variable:                  Price   R-squared:                       0.694\n",
       "Model:                            OLS   Adj. R-squared:                  0.693\n",
       "Method:                 Least Squares   F-statistic:                     630.8\n",
       "Date:                Fri, 20 Oct 2023   Prob (F-statistic):               0.00\n",
       "Time:                        10:48:37   Log-Likelihood:                -42340.\n",
       "No. Observations:                2518   AIC:                         8.470e+04\n",
       "Df Residuals:                    2508   BIC:                         8.476e+04\n",
       "Df Model:                           9                                         \n",
       "Covariance Type:            nonrobust                                         \n",
       "=====================================================================================\n",
       "                        coef    std err          t      P>|t|      [0.025      0.975]\n",
       "-------------------------------------------------------------------------------------\n",
       "Intercept          -6.31e+06   2.39e+05    -26.375      0.000   -6.78e+06   -5.84e+06\n",
       "Gymnasium         -2.614e+05   4.37e+05     -0.599      0.550   -1.12e+06    5.95e+05\n",
       "Area               9452.1471    139.914     67.557      0.000    9177.788    9726.506\n",
       "Resale             1.424e+06   2.45e+05      5.816      0.000    9.44e+05     1.9e+06\n",
       "SwimmingPool       7.517e+05   4.62e+05      1.626      0.104   -1.55e+05    1.66e+06\n",
       "LandscapedGardens  3.846e+05   3.12e+05      1.233      0.218   -2.27e+05    9.96e+05\n",
       "BED                 4.67e+05   5.04e+05      0.926      0.355   -5.22e+05    1.46e+06\n",
       "TV                 1.465e+04    7.9e+05      0.019      0.985   -1.53e+06    1.56e+06\n",
       "Sofa              -1.413e+06   7.83e+05     -1.804      0.071   -2.95e+06    1.22e+05\n",
       "DiningTable       -2.255e+04   9.51e+05     -0.024      0.981   -1.89e+06    1.84e+06\n",
       "==============================================================================\n",
       "Omnibus:                     4256.803   Durbin-Watson:                   1.886\n",
       "Prob(Omnibus):                  0.000   Jarque-Bera (JB):         10838678.373\n",
       "Skew:                          10.778   Prob(JB):                         0.00\n",
       "Kurtosis:                     323.691   Cond. No.                     2.16e+04\n",
       "==============================================================================\n",
       "\n",
       "Notes:\n",
       "[1] Standard Errors assume that the covariance matrix of the errors is correctly specified.\n",
       "[2] The condition number is large, 2.16e+04. This might indicate that there are\n",
       "strong multicollinearity or other numerical problems.\n",
       "\"\"\""
      ]
     },
     "execution_count": 61,
     "metadata": {},
     "output_type": "execute_result"
    }
   ],
   "source": [
    "model2.summary()"
   ]
  },
  {
   "cell_type": "code",
   "execution_count": 62,
   "metadata": {},
   "outputs": [
    {
     "data": {
      "text/plain": [
       "0.6936002723105748"
      ]
     },
     "execution_count": 62,
     "metadata": {},
     "output_type": "execute_result"
    }
   ],
   "source": [
    "model2.rsquared"
   ]
  },
  {
   "cell_type": "markdown",
   "metadata": {},
   "source": [
    "___"
   ]
  },
  {
   "cell_type": "markdown",
   "metadata": {
    "collapsed": false
   },
   "source": [
    "## 5) Inferencia"
   ]
  },
  {
   "cell_type": "code",
   "execution_count": 63,
   "metadata": {},
   "outputs": [
    {
     "data": {
      "text/html": [
       "<div>\n",
       "<style scoped>\n",
       "    .dataframe tbody tr th:only-of-type {\n",
       "        vertical-align: middle;\n",
       "    }\n",
       "\n",
       "    .dataframe tbody tr th {\n",
       "        vertical-align: top;\n",
       "    }\n",
       "\n",
       "    .dataframe thead th {\n",
       "        text-align: right;\n",
       "    }\n",
       "</style>\n",
       "<table border=\"1\" class=\"dataframe\">\n",
       "  <thead>\n",
       "    <tr style=\"text-align: right;\">\n",
       "      <th></th>\n",
       "      <th>Area</th>\n",
       "      <th>No. of Bedrooms</th>\n",
       "    </tr>\n",
       "  </thead>\n",
       "  <tbody>\n",
       "    <tr>\n",
       "      <th>0</th>\n",
       "      <td>1000</td>\n",
       "      <td>3</td>\n",
       "    </tr>\n",
       "  </tbody>\n",
       "</table>\n",
       "</div>"
      ],
      "text/plain": [
       "   Area  No. of Bedrooms\n",
       "0  1000                3"
      ]
     },
     "execution_count": 63,
     "metadata": {},
     "output_type": "execute_result"
    }
   ],
   "source": [
    "house = pd.DataFrame({'Area': [1000], 'No. of Bedrooms':[3]})\n",
    "house"
   ]
  },
  {
   "cell_type": "code",
   "execution_count": 64,
   "metadata": {},
   "outputs": [
    {
     "data": {
      "text/plain": [
       "0    3.531272e+06\n",
       "dtype: float64"
      ]
     },
     "execution_count": 64,
     "metadata": {},
     "output_type": "execute_result"
    }
   ],
   "source": [
    "model.predict(house)"
   ]
  }
 ],
 "metadata": {
  "kernelspec": {
   "display_name": "Python 3",
   "language": "python",
   "name": "python3"
  },
  "language_info": {
   "codemirror_mode": {
    "name": "ipython",
    "version": 3
   },
   "file_extension": ".py",
   "mimetype": "text/x-python",
   "name": "python",
   "nbconvert_exporter": "python",
   "pygments_lexer": "ipython3",
   "version": "3.11.4"
  }
 },
 "nbformat": 4,
 "nbformat_minor": 4
}
