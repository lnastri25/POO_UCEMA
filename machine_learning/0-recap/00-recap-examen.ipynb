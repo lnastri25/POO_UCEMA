{
 "cells": [
  {
   "cell_type": "raw",
   "id": "97483eeff6b91c11",
   "metadata": {
    "collapsed": false
   },
   "source": [
    "##%% md\n",
    " Pinguins "
   ]
  },
  {
   "cell_type": "code",
   "execution_count": 28,
   "id": "78735a47bc707569",
   "metadata": {
    "ExecuteTime": {
     "end_time": "2023-10-10T22:40:01.998866200Z",
     "start_time": "2023-10-10T22:40:01.898577400Z"
    },
    "collapsed": false
   },
   "outputs": [],
   "source": [
    "import numpy as np\n",
    "import pandas as pd\n",
    "import matplotlib.pyplot as plt\n",
    "from scipy import stats\n",
    "import seaborn as sns\n",
    "import numpy as np\n",
    "import scipy.stats as stats\n",
    "pd.options.display.float_format = '{:.3f}'.format"
   ]
  },
  {
   "cell_type": "code",
   "execution_count": 15,
   "id": "e822aa823a182c20",
   "metadata": {
    "ExecuteTime": {
     "end_time": "2023-10-10T22:35:30.289391700Z",
     "start_time": "2023-10-10T22:35:30.259522600Z"
    },
    "collapsed": false
   },
   "outputs": [],
   "source": [
    "# Generar datos para Chivilcoy (media = 500 kg, desviación estándar = 50 kg)\n",
    "np.random.seed(0)\n",
    "pesos_chivilcoy = np.random.normal(500, 50, 100)\n",
    "\n",
    "# Generar datos para Bragado (media = 550 kg, desviación estándar = 40 kg)\n",
    "pesos_bragado = np.random.normal(550, 40, 80)\n",
    "\n",
    "# Crear DataFrames\n",
    "df_chivilcoy = pd.DataFrame({'Peso': pesos_chivilcoy, 'Campo': 'Chivilcoy'})\n",
    "df_bragado = pd.DataFrame({'Peso': pesos_bragado, 'Campo': 'Bragado'})\n",
    "\n",
    "# Combinar en un solo DataFrame\n",
    "df = pd.concat([df_chivilcoy, df_bragado])\n"
   ]
  },
  {
   "cell_type": "markdown",
   "id": "4b3a3219",
   "metadata": {},
   "source": [
    "___"
   ]
  },
  {
   "cell_type": "markdown",
   "id": "c74fb4bf661f2264",
   "metadata": {
    "collapsed": false
   },
   "source": [
    "# 1) Paradoja de simpson\n",
    "\n",
    "El promedio global no es igual al promedio por campo "
   ]
  },
  {
   "cell_type": "code",
   "execution_count": 30,
   "id": "48cc43bd47e55dc3",
   "metadata": {
    "ExecuteTime": {
     "end_time": "2023-10-10T22:41:54.149012300Z",
     "start_time": "2023-10-10T22:41:54.133136Z"
    },
    "collapsed": false
   },
   "outputs": [
    {
     "name": "stdout",
     "output_type": "stream",
     "text": [
      "Promedio global 526.2856115700431\n"
     ]
    }
   ],
   "source": [
    "\n",
    "promedio_global = df['Peso'].mean()\n",
    "\n",
    "# Promedio por campo\n",
    "promedio_por_campo = df.groupby('Campo')['Peso'].mean()\n",
    "\n"
   ]
  },
  {
   "cell_type": "code",
   "execution_count": 32,
   "id": "3b5de4051d0fb780",
   "metadata": {
    "ExecuteTime": {
     "end_time": "2023-10-10T22:42:01.331165300Z",
     "start_time": "2023-10-10T22:42:01.283235900Z"
    },
    "collapsed": false
   },
   "outputs": [
    {
     "name": "stdout",
     "output_type": "stream",
     "text": [
      "Promedio global 526.2856115700431\n"
     ]
    }
   ],
   "source": [
    "print(f\"Promedio global {promedio_global}\")\n"
   ]
  },
  {
   "cell_type": "code",
   "execution_count": 31,
   "id": "b0933125e3d64e7c",
   "metadata": {
    "ExecuteTime": {
     "end_time": "2023-10-10T22:41:56.244148200Z",
     "start_time": "2023-10-10T22:41:56.188335300Z"
    },
    "collapsed": false
   },
   "outputs": [
    {
     "name": "stdout",
     "output_type": "stream",
     "text": [
      "Promedio por campo Campo\n",
      "Bragado     555.405\n",
      "Chivilcoy   502.990\n",
      "Name: Peso, dtype: float64\n"
     ]
    }
   ],
   "source": [
    "print(f\"Promedio por campo {promedio_por_campo}\")"
   ]
  },
  {
   "cell_type": "markdown",
   "id": "d865d78e",
   "metadata": {},
   "source": [
    "___"
   ]
  },
  {
   "cell_type": "markdown",
   "id": "7c26adf9d5a5f5e6",
   "metadata": {
    "collapsed": false
   },
   "source": [
    "# 2) Histogramas, Media y Desviación Estándar\n",
    "Ahora, vamos a plotear los histogramas y calcular la media y la desviación estándar para cada campo.\n"
   ]
  },
  {
   "cell_type": "code",
   "execution_count": 17,
   "id": "3ba21b266701f37",
   "metadata": {
    "ExecuteTime": {
     "end_time": "2023-10-10T22:35:33.942603500Z",
     "start_time": "2023-10-10T22:35:33.855291200Z"
    },
    "collapsed": false
   },
   "outputs": [
    {
     "data": {
      "image/png": "[encoded data removed]",
      "text/plain": [
       "<Figure size 1200x600 with 1 Axes>"
      ]
     },
     "metadata": {},
     "output_type": "display_data"
    },
    {
     "name": "stdout",
     "output_type": "stream",
     "text": [
      "media de chivilcoy 502.9904007767243, std_chivilcoy 50.394112235828985,\n",
      " media_bragado 555.4046250616916, std_bragado 40.15785019037109\n"
     ]
    }
   ],
   "source": [
    "# Histogramas\n",
    "plt.figure(figsize=(12, 6))\n",
    "plt.hist(df_chivilcoy['Peso'], alpha=0.5, label='Chivilcoy')\n",
    "plt.hist(df_bragado['Peso'], alpha=0.5, label='Bragado')\n",
    "plt.legend(loc='upper right')\n",
    "plt.title('Histograma de Pesos de Vacas')\n",
    "plt.xlabel('Peso (kg)')\n",
    "plt.ylabel('Frecuencia')\n",
    "plt.show()\n",
    "\n",
    "# Media y desviación estándar por campo\n",
    "media_chivilcoy = np.mean(pesos_chivilcoy)\n",
    "std_chivilcoy = np.std(pesos_chivilcoy)\n",
    "\n",
    "media_bragado = np.mean(pesos_bragado)\n",
    "std_bragado = np.std(pesos_bragado)\n",
    "\n",
    "print(f\"media de chivilcoy {media_chivilcoy}, std_chivilcoy {std_chivilcoy},\\n media_bragado {media_bragado}, std_bragado {std_bragado}\")"
   ]
  },
  {
   "cell_type": "markdown",
   "id": "9ebe9f38",
   "metadata": {},
   "source": [
    "___"
   ]
  },
  {
   "cell_type": "markdown",
   "id": "ee69985235efe18e",
   "metadata": {
    "collapsed": false
   },
   "source": [
    "# 3) Inferencia de una Nueva Vaca\n",
    "Utilizaremos el Teorema Central del Límite para inferir de qué población podría provenir una nueva vaca, dado su peso.\n",
    "\n",
    "La distribución normal es fundamental para la inferencia estadística porque muchas variables en la naturaleza siguen una distribución aproximadamente normal. \n",
    "\n",
    "Según el Teorema Central del Límite, si tenemos una muestra suficientemente grande, la distribución de la media muestral será aproximadamente normal, independientemente de la distribución de la población.\n",
    "\n",
    "\n",
    "Supongamos que tenemos una nueva vaca con un peso de, por ejemplo, 520 kg. Queremos determinar de qué campo (Chivilcoy o Bragado) es más probable que provenga esta vaca. Para ello, podemos utilizar un intervalo de confianza.\n",
    "\n",
    "Calcular el intervalo de confianza para cada campo: Utilizaremos la media y la desviación estándar que ya hemos calculado para cada campo. Podemos calcular un intervalo de confianza del 95% (o cualquier otro valor que elijamos) para el peso de las vacas en cada campo."
   ]
  },
  {
   "cell_type": "code",
   "execution_count": 23,
   "id": "f1ecabccb4bcfd17",
   "metadata": {
    "ExecuteTime": {
     "end_time": "2023-10-10T22:37:08.746139900Z",
     "start_time": "2023-10-10T22:37:08.691083200Z"
    },
    "collapsed": false
   },
   "outputs": [
    {
     "name": "stdout",
     "output_type": "stream",
     "text": [
      "Para tener una confianza del 95% el intervalo de chivilcoy es de  (404.2197557616302, 601.7610457918183),\n",
      "y el intervalo de bragado es (476.6966849920093, 634.1125651313739)\n"
     ]
    }
   ],
   "source": [
    "# Intervalo de confianza para Chivilcoy\n",
    "intervalo_chivilcoy = stats.norm.interval(0.95, loc=media_chivilcoy, scale=std_chivilcoy)\n",
    "\n",
    "# Intervalo de confianza para Bragado\n",
    "intervalo_bragado = stats.norm.interval(0.95, loc=media_bragado, scale=std_bragado)\n",
    "\n",
    "\n",
    "print(f\"Para tener una confianza del 95% el intervalo de chivilcoy es de  {intervalo_chivilcoy},\\ny el intervalo de bragado es {intervalo_bragado}\")"
   ]
  },
  {
   "cell_type": "markdown",
   "id": "cac0e7c01c8a2577",
   "metadata": {
    "collapsed": false
   },
   "source": [
    "Evaluar en qué intervalo cae el peso de la nueva vaca: Si el peso de la nueva vaca cae dentro del intervalo de confianza de uno de los campos pero no del otro, podemos estar razonablemente seguros de que la vaca proviene de ese campo.\n",
    "\n",
    "Si el peso cae dentro de ambos intervalos, la decisión es más incierta y podríamos necesitar más información o aplicar otras técnicas estadísticas."
   ]
  },
  {
   "cell_type": "code",
   "execution_count": 26,
   "id": "16c24c6a20376540",
   "metadata": {
    "ExecuteTime": {
     "end_time": "2023-10-10T22:37:52.172110900Z",
     "start_time": "2023-10-10T22:37:52.118986Z"
    },
    "collapsed": false
   },
   "outputs": [
    {
     "name": "stdout",
     "output_type": "stream",
     "text": [
      "La prob de chivilcoy es 0.005958, la prob de bragado es 0.000788\n"
     ]
    }
   ],
   "source": [
    "peso_nueva_vaca = 465  # Ejemplo\n",
    "\n",
    "# Cálculo de la probabilidad de que la vaca provenga de cada campo\n",
    "prob_chivilcoy = stats.norm.pdf(peso_nueva_vaca, media_chivilcoy, std_chivilcoy)\n",
    "prob_bragado = stats.norm.pdf(peso_nueva_vaca, media_bragado, std_bragado)\n",
    "\n",
    "print(f\"La prob de chivilcoy es {prob_chivilcoy:2f}, la prob de bragado es {prob_bragado:2f}\")\n"
   ]
  },
  {
   "cell_type": "markdown",
   "id": "d39bbe1b",
   "metadata": {},
   "source": [
    "___"
   ]
  },
  {
   "cell_type": "markdown",
   "id": "36a39e5e5b2876f9",
   "metadata": {
    "collapsed": false
   },
   "source": [
    "# 4) T-Test\n",
    "Por último, realizamos un t-test para evaluar si hay una diferencia significativa en el tratamiento de alimentación entre los campos."
   ]
  },
  {
   "cell_type": "code",
   "execution_count": 27,
   "id": "e0123ad13ef139d1",
   "metadata": {
    "ExecuteTime": {
     "end_time": "2023-10-10T22:38:00.261605700Z",
     "start_time": "2023-10-10T22:38:00.203852800Z"
    },
    "collapsed": false
   },
   "outputs": [
    {
     "data": {
      "text/plain": [
       "(-7.533315514884322, 2.401672359590475e-12)"
      ]
     },
     "execution_count": 27,
     "metadata": {},
     "output_type": "execute_result"
    }
   ],
   "source": [
    "t_stat, p_value = stats.ttest_ind(pesos_chivilcoy, pesos_bragado)\n",
    "\n",
    "# Resultados\n",
    "t_stat, p_value\n",
    "\n",
    "(-7.533315514884322, 2.401672359590475e-12)"
   ]
  },
  {
   "cell_type": "markdown",
   "id": "09b25ec4",
   "metadata": {},
   "source": [
    "El resultado del t-test incluye dos componentes: la estadística t (t_stat) y el valor p (p_value)."
   ]
  },
  {
   "cell_type": "markdown",
   "id": "f5408926",
   "metadata": {},
   "source": [
    "___"
   ]
  },
  {
   "cell_type": "markdown",
   "id": "c6b6dcd7163e8ce4",
   "metadata": {
    "collapsed": false
   },
   "source": [
    "## 4.1) Estadística t (t_stat)\n",
    "El valor de t_stat = -7.533 representa la estadística t calculada a partir de las dos muestras (pesos de las vacas en Chivilcoy y Bragado). Un valor de t negativo indica que la media de la primera muestra (Chivilcoy) es menor que la media de la segunda muestra (Bragado). Cuanto más grande es el valor absoluto de la estadística t, más fuerte es la evidencia en contra de la hipótesis nula (que ambas muestras tienen medias iguales).\n",
    "\n",
    "## 4.2) Valor p (p_value)\n",
    "El valor p = 2.401672359590475e-12 es extremadamente pequeño, prácticamente cero. En el contexto del t-test, un valor p muy pequeño (generalmente menor que 0.05) es un indicador fuerte contra la hipótesis nula. En otras palabras, hay evidencia muy fuerte para rechazar la hipótesis nula de que las medias de los dos grupos son iguales.\n",
    "\n",
    "## 4.3) Interpretación\n",
    "En resumen, el resultado del t-test sugiere que hay una diferencia estadísticamente significativa en los pesos de las vacas entre los campos de Chivilcoy y Bragado. El valor de la estadística t indica que las vacas en Bragado tienden a pesar más que las de Chivilcoy. El valor p extremadamente pequeño nos da confianza en esta conclusión."
   ]
  },
  {
   "cell_type": "markdown",
   "id": "f5f6f7dd",
   "metadata": {},
   "source": [
    "___"
   ]
  },
  {
   "cell_type": "markdown",
   "id": "6846d17311453eae",
   "metadata": {
    "collapsed": false
   },
   "source": [
    "# 5) Cars"
   ]
  },
  {
   "cell_type": "code",
   "execution_count": 33,
   "id": "4330133432d74611",
   "metadata": {
    "ExecuteTime": {
     "end_time": "2023-10-10T22:42:09.578028900Z",
     "start_time": "2023-10-10T22:42:09.553946700Z"
    },
    "collapsed": false
   },
   "outputs": [],
   "source": [
    "df = sns.load_dataset('mpg')"
   ]
  },
  {
   "cell_type": "markdown",
   "id": "1727e96a4d8bdeef",
   "metadata": {
    "collapsed": false
   },
   "source": [
    "## 5.1) Bootstraping\n",
    "Teoría: Bootstraping es un método para estimar la distribución de una estadística (como la media o la desviación estándar) re-muestreando con reemplazo del conjunto de datos original."
   ]
  },
  {
   "cell_type": "code",
   "execution_count": null,
   "id": "37425558f956d4ab",
   "metadata": {
    "collapsed": false
   },
   "outputs": [],
   "source": [
    "#saco los nulos para mejor analisis\n",
    "original_data = df['mpg'].dropna()"
   ]
  },
  {
   "cell_type": "code",
   "execution_count": 34,
   "id": "727963a80f17c9b4",
   "metadata": {
    "ExecuteTime": {
     "end_time": "2023-10-10T22:42:39.717936200Z",
     "start_time": "2023-10-10T22:42:39.697772800Z"
    },
    "collapsed": false
   },
   "outputs": [],
   "source": [
    "def bootstrap_sample(data, n):\n",
    "    return np.random.choice(data, size=n, replace=True)"
   ]
  },
  {
   "cell_type": "code",
   "execution_count": 38,
   "id": "3a9ca759a452c5ee",
   "metadata": {
    "ExecuteTime": {
     "end_time": "2023-10-10T22:48:10.139838400Z",
     "start_time": "2023-10-10T22:48:10.086717Z"
    },
    "collapsed": false
   },
   "outputs": [
    {
     "data": {
      "text/plain": [
       "(23.469723618090452, 0.4073169096009236)"
      ]
     },
     "execution_count": 38,
     "metadata": {},
     "output_type": "execute_result"
    }
   ],
   "source": [
    "\n",
    "\n",
    "# Inicializar una lista vacía para almacenar las medias de las muestras de bootstrap\n",
    "bootstrap_means = []\n",
    "\n",
    "\n",
    "for _ in range(100):\n",
    "    sample = bootstrap_sample(original_data, len(original_data))\n",
    "    sample_mean = sample.mean()\n",
    "    bootstrap_means.append(sample_mean)\n",
    "\n",
    "# Calcular la media y la desviación estándar de las medias de las muestras de bootstrap\n",
    "mean_of_means = np.mean(bootstrap_means)\n",
    "std_of_means = np.std(bootstrap_means)\n",
    "\n",
    "mean_of_means, std_of_means\n"
   ]
  },
  {
   "cell_type": "markdown",
   "id": "6c2920fa",
   "metadata": {},
   "source": [
    "___"
   ]
  },
  {
   "cell_type": "markdown",
   "id": "f20ac788d181246",
   "metadata": {
    "collapsed": false
   },
   "source": [
    "**¿Qué es Bootstrap?**\n",
    "Bootstrap es una técnica de re-muestreo que permite estimar la distribución de una estadística (como la media o la desviación estándar) al crear múltiples muestras nuevas a partir de una única muestra original. Estas nuevas muestras se generan seleccionando elementos aleatoriamente de la muestra original, con reemplazo.\n",
    "\n",
    "**¿Qué hace el código?**\n",
    "Función bootstrap_sample: Esta función toma una muestra de datos y su tamaño n, y devuelve una nueva muestra generada al seleccionar aleatoriamente n elementos de la muestra original, con reemplazo.\n",
    "\n",
    "* **Datos Originales?**: Estamos utilizando una columna llamada 'mpg' del DataFrame df como nuestros datos originales. Eliminamos cualquier valor nulo con .dropna().\n",
    "\n",
    "* Inicialización de bootstrap_means: Esta es una lista vacía donde almacenaremos las medias de todas nuestras muestras de bootstrap.\n",
    "\n",
    "* Loop for: Aquí, creamos 1000 muestras de bootstrap. Para cada una, calculamos su media y la agregamos a la lista bootstrap_means.\n",
    "\n",
    "### 5.1.1) Cálculo de Media y Desviación Estándar: \n",
    "\n",
    "Finalmente, calculamos la media y la desviación estándar de todas las medias de muestras de bootstrap que hemos recopilado.\n",
    "\n",
    "**¿Qué significan los resultados?**\n",
    "- Media de las Medias (mean_of_means): Esta es una estimación de la media de la población a partir de las muestras de bootstrap. Es una forma de confirmar la media de la muestra original.\n",
    "\n",
    "- Desviación Estándar de las Medias (std_of_means): Esta es una estimación de cuánto varían las medias de las muestras de bootstrap. Nos da una idea del error estándar y de cómo de precisa es nuestra estimación de la media.\n",
    "\n",
    "Estos dos valores juntos nos dan una idea más precisa de la distribución de la estadística (en este caso, la media) que estamos estudiando."
   ]
  },
  {
   "cell_type": "code",
   "execution_count": 39,
   "id": "5b5d10237eb926a3",
   "metadata": {
    "ExecuteTime": {
     "end_time": "2023-10-10T22:48:14.326654500Z",
     "start_time": "2023-10-10T22:48:14.316855400Z"
    },
    "collapsed": false
   },
   "outputs": [
    {
     "data": {
      "text/plain": [
       "23.514572864321607"
      ]
     },
     "execution_count": 39,
     "metadata": {},
     "output_type": "execute_result"
    }
   ],
   "source": [
    "original_data.mean()"
   ]
  }
 ],
 "metadata": {
  "kernelspec": {
   "display_name": "Python 3",
   "language": "python",
   "name": "python3"
  },
  "language_info": {
   "codemirror_mode": {
    "name": "ipython",
    "version": 2
   },
   "file_extension": ".py",
   "mimetype": "text/x-python",
   "name": "python",
   "nbconvert_exporter": "python",
   "pygments_lexer": "ipython2",
   "version": "3.11.4"
  }
 },
 "nbformat": 4,
 "nbformat_minor": 5
}
