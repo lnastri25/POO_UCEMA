{
 "cells": [
  {
   "cell_type": "code",
   "execution_count": 1,
   "outputs": [],
   "source": [
    "# Celda 1: Importación de bibliotecas necesarias\n",
    "import seaborn as sns\n",
    "import pandas as pd\n",
    "import numpy as np\n",
    "import matplotlib.pyplot as plt\n",
    "from sklearn.model_selection import train_test_split\n",
    "from sklearn.tree import DecisionTreeClassifier, export_graphviz\n",
    "from sklearn.metrics import classification_report, confusion_matrix\n",
    "import graphviz\n",
    "\n",
    "# Celda 2: Carga del dataset del Titanic\n",
    "titanic = sns.load_dataset('titanic')\n"
   ],
   "metadata": {
    "collapsed": false,
    "ExecuteTime": {
     "end_time": "2023-11-02T10:52:44.618832700Z",
     "start_time": "2023-11-02T10:52:44.556784900Z"
    }
   },
   "id": "94316d1d55d90b2e"
  },
  {
   "cell_type": "code",
   "execution_count": 2,
   "outputs": [],
   "source": [
    "\n",
    "# Celda 3: Preparación y limpieza de los datos\n",
    "# Imputación de valores faltantes para la edad\n",
    "titanic['age'].fillna(titanic['age'].mean(), inplace=True)"
   ],
   "metadata": {
    "collapsed": false,
    "ExecuteTime": {
     "end_time": "2023-11-02T10:52:44.628860400Z",
     "start_time": "2023-11-02T10:52:44.622858500Z"
    }
   },
   "id": "24dd78d910ea2258"
  },
  {
   "cell_type": "code",
   "execution_count": 3,
   "outputs": [],
   "source": [
    "# Codificación One-Hot para el género y la clase de pasaje\n",
    "titanic = pd.get_dummies(titanic, columns=['sex', 'class'], drop_first=True)"
   ],
   "metadata": {
    "collapsed": false,
    "ExecuteTime": {
     "end_time": "2023-11-02T10:52:44.639802200Z",
     "start_time": "2023-11-02T10:52:44.630371200Z"
    }
   },
   "id": "1acd7de3c0a04729"
  },
  {
   "cell_type": "code",
   "execution_count": 4,
   "outputs": [],
   "source": [
    "\n",
    "# Celda 4: División de datos y entrenamiento del árbol de decisión\n",
    "X = titanic[['age', 'sex_male', 'class_Second', 'class_Third']]\n",
    "y = titanic['survived']"
   ],
   "metadata": {
    "collapsed": false,
    "ExecuteTime": {
     "end_time": "2023-11-02T10:52:44.644509500Z",
     "start_time": "2023-11-02T10:52:44.638801600Z"
    }
   },
   "id": "af1cde05521feb87"
  },
  {
   "cell_type": "code",
   "execution_count": 5,
   "outputs": [],
   "source": [
    "X_train, X_test, y_train, y_test = train_test_split(X, y, test_size=0.2, random_state=42)"
   ],
   "metadata": {
    "collapsed": false,
    "ExecuteTime": {
     "end_time": "2023-11-02T10:52:44.661994600Z",
     "start_time": "2023-11-02T10:52:44.649084Z"
    }
   },
   "id": "81175f934830a5e0"
  },
  {
   "cell_type": "code",
   "execution_count": 6,
   "outputs": [
    {
     "data": {
      "text/plain": "DecisionTreeClassifier(max_depth=3)",
      "text/html": "<style>#sk-container-id-1 {color: black;background-color: white;}#sk-container-id-1 pre{padding: 0;}#sk-container-id-1 div.sk-toggleable {background-color: white;}#sk-container-id-1 label.sk-toggleable__label {cursor: pointer;display: block;width: 100%;margin-bottom: 0;padding: 0.3em;box-sizing: border-box;text-align: center;}#sk-container-id-1 label.sk-toggleable__label-arrow:before {content: \"▸\";float: left;margin-right: 0.25em;color: #696969;}#sk-container-id-1 label.sk-toggleable__label-arrow:hover:before {color: black;}#sk-container-id-1 div.sk-estimator:hover label.sk-toggleable__label-arrow:before {color: black;}#sk-container-id-1 div.sk-toggleable__content {max-height: 0;max-width: 0;overflow: hidden;text-align: left;background-color: #f0f8ff;}#sk-container-id-1 div.sk-toggleable__content pre {margin: 0.2em;color: black;border-radius: 0.25em;background-color: #f0f8ff;}#sk-container-id-1 input.sk-toggleable__control:checked~div.sk-toggleable__content {max-height: 200px;max-width: 100%;overflow: auto;}#sk-container-id-1 input.sk-toggleable__control:checked~label.sk-toggleable__label-arrow:before {content: \"▾\";}#sk-container-id-1 div.sk-estimator input.sk-toggleable__control:checked~label.sk-toggleable__label {background-color: #d4ebff;}#sk-container-id-1 div.sk-label input.sk-toggleable__control:checked~label.sk-toggleable__label {background-color: #d4ebff;}#sk-container-id-1 input.sk-hidden--visually {border: 0;clip: rect(1px 1px 1px 1px);clip: rect(1px, 1px, 1px, 1px);height: 1px;margin: -1px;overflow: hidden;padding: 0;position: absolute;width: 1px;}#sk-container-id-1 div.sk-estimator {font-family: monospace;background-color: #f0f8ff;border: 1px dotted black;border-radius: 0.25em;box-sizing: border-box;margin-bottom: 0.5em;}#sk-container-id-1 div.sk-estimator:hover {background-color: #d4ebff;}#sk-container-id-1 div.sk-parallel-item::after {content: \"\";width: 100%;border-bottom: 1px solid gray;flex-grow: 1;}#sk-container-id-1 div.sk-label:hover label.sk-toggleable__label {background-color: #d4ebff;}#sk-container-id-1 div.sk-serial::before {content: \"\";position: absolute;border-left: 1px solid gray;box-sizing: border-box;top: 0;bottom: 0;left: 50%;z-index: 0;}#sk-container-id-1 div.sk-serial {display: flex;flex-direction: column;align-items: center;background-color: white;padding-right: 0.2em;padding-left: 0.2em;position: relative;}#sk-container-id-1 div.sk-item {position: relative;z-index: 1;}#sk-container-id-1 div.sk-parallel {display: flex;align-items: stretch;justify-content: center;background-color: white;position: relative;}#sk-container-id-1 div.sk-item::before, #sk-container-id-1 div.sk-parallel-item::before {content: \"\";position: absolute;border-left: 1px solid gray;box-sizing: border-box;top: 0;bottom: 0;left: 50%;z-index: -1;}#sk-container-id-1 div.sk-parallel-item {display: flex;flex-direction: column;z-index: 1;position: relative;background-color: white;}#sk-container-id-1 div.sk-parallel-item:first-child::after {align-self: flex-end;width: 50%;}#sk-container-id-1 div.sk-parallel-item:last-child::after {align-self: flex-start;width: 50%;}#sk-container-id-1 div.sk-parallel-item:only-child::after {width: 0;}#sk-container-id-1 div.sk-dashed-wrapped {border: 1px dashed gray;margin: 0 0.4em 0.5em 0.4em;box-sizing: border-box;padding-bottom: 0.4em;background-color: white;}#sk-container-id-1 div.sk-label label {font-family: monospace;font-weight: bold;display: inline-block;line-height: 1.2em;}#sk-container-id-1 div.sk-label-container {text-align: center;}#sk-container-id-1 div.sk-container {/* jupyter's `normalize.less` sets `[hidden] { display: none; }` but bootstrap.min.css set `[hidden] { display: none !important; }` so we also need the `!important` here to be able to override the default hidden behavior on the sphinx rendered scikit-learn.org. See: https://github.com/scikit-learn/scikit-learn/issues/21755 */display: inline-block !important;position: relative;}#sk-container-id-1 div.sk-text-repr-fallback {display: none;}</style><div id=\"sk-container-id-1\" class=\"sk-top-container\"><div class=\"sk-text-repr-fallback\"><pre>DecisionTreeClassifier(max_depth=3)</pre><b>In a Jupyter environment, please rerun this cell to show the HTML representation or trust the notebook. <br />On GitHub, the HTML representation is unable to render, please try loading this page with nbviewer.org.</b></div><div class=\"sk-container\" hidden><div class=\"sk-item\"><div class=\"sk-estimator sk-toggleable\"><input class=\"sk-toggleable__control sk-hidden--visually\" id=\"sk-estimator-id-1\" type=\"checkbox\" checked><label for=\"sk-estimator-id-1\" class=\"sk-toggleable__label sk-toggleable__label-arrow\">DecisionTreeClassifier</label><div class=\"sk-toggleable__content\"><pre>DecisionTreeClassifier(max_depth=3)</pre></div></div></div></div></div>"
     },
     "execution_count": 6,
     "metadata": {},
     "output_type": "execute_result"
    }
   ],
   "source": [
    "tree = DecisionTreeClassifier(max_depth=3)\n",
    "tree.fit(X_train, y_train)"
   ],
   "metadata": {
    "collapsed": false,
    "ExecuteTime": {
     "end_time": "2023-11-02T10:52:44.668483800Z",
     "start_time": "2023-11-02T10:52:44.651090900Z"
    }
   },
   "id": "51dbeb176d3afdac"
  },
  {
   "cell_type": "code",
   "execution_count": 7,
   "outputs": [
    {
     "name": "stdout",
     "output_type": "stream",
     "text": [
      "[[92 13]\n",
      " [22 52]]\n",
      "              precision    recall  f1-score   support\n",
      "\n",
      "           0       0.81      0.88      0.84       105\n",
      "           1       0.80      0.70      0.75        74\n",
      "\n",
      "    accuracy                           0.80       179\n",
      "   macro avg       0.80      0.79      0.79       179\n",
      "weighted avg       0.80      0.80      0.80       179\n"
     ]
    }
   ],
   "source": [
    "# Celda 5: Evaluación del modelo\n",
    "y_pred = tree.predict(X_test)\n",
    "print(confusion_matrix(y_test, y_pred))\n",
    "print(classification_report(y_test, y_pred))"
   ],
   "metadata": {
    "collapsed": false,
    "ExecuteTime": {
     "end_time": "2023-11-02T10:52:44.673509400Z",
     "start_time": "2023-11-02T10:52:44.664119700Z"
    }
   },
   "id": "1db5fffcbc6de288"
  },
  {
   "cell_type": "code",
   "execution_count": 8,
   "id": "initial_id",
   "metadata": {
    "collapsed": true,
    "ExecuteTime": {
     "end_time": "2023-11-02T10:52:44.768131100Z",
     "start_time": "2023-11-02T10:52:44.678014300Z"
    }
   },
   "outputs": [
    {
     "data": {
      "image/svg+xml": "<?xml version=\"1.0\" encoding=\"UTF-8\" standalone=\"no\"?>\n<!DOCTYPE svg PUBLIC \"-//W3C//DTD SVG 1.1//EN\"\n \"http://www.w3.org/Graphics/SVG/1.1/DTD/svg11.dtd\">\n<!-- Generated by graphviz version 2.43.0 (0)\n -->\n<!-- Title: Tree Pages: 1 -->\n<svg width=\"1129pt\" height=\"433pt\"\n viewBox=\"0.00 0.00 1128.50 433.00\" xmlns=\"http://www.w3.org/2000/svg\" xmlns:xlink=\"http://www.w3.org/1999/xlink\">\n<g id=\"graph0\" class=\"graph\" transform=\"scale(1 1) rotate(0) translate(4 429)\">\n<title>Tree</title>\n<polygon fill=\"white\" stroke=\"transparent\" points=\"-4,4 -4,-429 1124.5,-429 1124.5,4 -4,4\"/>\n<!-- 0 -->\n<g id=\"node1\" class=\"node\">\n<title>0</title>\n<path fill=\"#f5cdb1\" stroke=\"black\" d=\"M599,-425C599,-425 474,-425 474,-425 468,-425 462,-419 462,-413 462,-413 462,-354 462,-354 462,-348 468,-342 474,-342 474,-342 599,-342 599,-342 605,-342 611,-348 611,-354 611,-354 611,-413 611,-413 611,-419 605,-425 599,-425\"/>\n<text text-anchor=\"start\" x=\"482\" y=\"-409.8\" font-family=\"Helvetica,sans-Serif\" font-size=\"14.00\">sex_male ≤ 0.5</text>\n<text text-anchor=\"start\" x=\"492.5\" y=\"-394.8\" font-family=\"Helvetica,sans-Serif\" font-size=\"14.00\">gini = 0.469</text>\n<text text-anchor=\"start\" x=\"483.5\" y=\"-379.8\" font-family=\"Helvetica,sans-Serif\" font-size=\"14.00\">samples = 712</text>\n<text text-anchor=\"start\" x=\"470\" y=\"-364.8\" font-family=\"Helvetica,sans-Serif\" font-size=\"14.00\">value = [444, 268]</text>\n<text text-anchor=\"start\" x=\"490.5\" y=\"-349.8\" font-family=\"Helvetica,sans-Serif\" font-size=\"14.00\">class = Dead</text>\n</g>\n<!-- 1 -->\n<g id=\"node2\" class=\"node\">\n<title>1</title>\n<path fill=\"#7fc0ee\" stroke=\"black\" d=\"M459.5,-306C459.5,-306 343.5,-306 343.5,-306 337.5,-306 331.5,-300 331.5,-294 331.5,-294 331.5,-235 331.5,-235 331.5,-229 337.5,-223 343.5,-223 343.5,-223 459.5,-223 459.5,-223 465.5,-223 471.5,-229 471.5,-235 471.5,-235 471.5,-294 471.5,-294 471.5,-300 465.5,-306 459.5,-306\"/>\n<text text-anchor=\"start\" x=\"341\" y=\"-290.8\" font-family=\"Helvetica,sans-Serif\" font-size=\"14.00\">class_Third ≤ 0.5</text>\n<text text-anchor=\"start\" x=\"357.5\" y=\"-275.8\" font-family=\"Helvetica,sans-Serif\" font-size=\"14.00\">gini = 0.386</text>\n<text text-anchor=\"start\" x=\"348.5\" y=\"-260.8\" font-family=\"Helvetica,sans-Serif\" font-size=\"14.00\">samples = 245</text>\n<text text-anchor=\"start\" x=\"339.5\" y=\"-245.8\" font-family=\"Helvetica,sans-Serif\" font-size=\"14.00\">value = [64, 181]</text>\n<text text-anchor=\"start\" x=\"356.5\" y=\"-230.8\" font-family=\"Helvetica,sans-Serif\" font-size=\"14.00\">class = Alive</text>\n</g>\n<!-- 0&#45;&gt;1 -->\n<g id=\"edge1\" class=\"edge\">\n<title>0&#45;&gt;1</title>\n<path fill=\"none\" stroke=\"black\" d=\"M489.66,-341.91C478.77,-332.47 467.09,-322.34 455.9,-312.65\"/>\n<polygon fill=\"black\" stroke=\"black\" points=\"458.1,-309.93 448.25,-306.02 453.52,-315.22 458.1,-309.93\"/>\n<text text-anchor=\"middle\" x=\"450.04\" y=\"-327.26\" font-family=\"Helvetica,sans-Serif\" font-size=\"14.00\">True</text>\n</g>\n<!-- 8 -->\n<g id=\"node9\" class=\"node\">\n<title>8</title>\n<path fill=\"#eb9e66\" stroke=\"black\" d=\"M733.5,-306C733.5,-306 617.5,-306 617.5,-306 611.5,-306 605.5,-300 605.5,-294 605.5,-294 605.5,-235 605.5,-235 605.5,-229 611.5,-223 617.5,-223 617.5,-223 733.5,-223 733.5,-223 739.5,-223 745.5,-229 745.5,-235 745.5,-235 745.5,-294 745.5,-294 745.5,-300 739.5,-306 733.5,-306\"/>\n<text text-anchor=\"start\" x=\"640.5\" y=\"-290.8\" font-family=\"Helvetica,sans-Serif\" font-size=\"14.00\">age ≤ 6.5</text>\n<text text-anchor=\"start\" x=\"631.5\" y=\"-275.8\" font-family=\"Helvetica,sans-Serif\" font-size=\"14.00\">gini = 0.303</text>\n<text text-anchor=\"start\" x=\"622.5\" y=\"-260.8\" font-family=\"Helvetica,sans-Serif\" font-size=\"14.00\">samples = 467</text>\n<text text-anchor=\"start\" x=\"613.5\" y=\"-245.8\" font-family=\"Helvetica,sans-Serif\" font-size=\"14.00\">value = [380, 87]</text>\n<text text-anchor=\"start\" x=\"629.5\" y=\"-230.8\" font-family=\"Helvetica,sans-Serif\" font-size=\"14.00\">class = Dead</text>\n</g>\n<!-- 0&#45;&gt;8 -->\n<g id=\"edge8\" class=\"edge\">\n<title>0&#45;&gt;8</title>\n<path fill=\"none\" stroke=\"black\" d=\"M584.73,-341.91C595.94,-332.47 607.97,-322.34 619.49,-312.65\"/>\n<polygon fill=\"black\" stroke=\"black\" points=\"621.96,-315.14 627.36,-306.02 617.46,-309.78 621.96,-315.14\"/>\n<text text-anchor=\"middle\" x=\"625.22\" y=\"-327.23\" font-family=\"Helvetica,sans-Serif\" font-size=\"14.00\">False</text>\n</g>\n<!-- 2 -->\n<g id=\"node3\" class=\"node\">\n<title>2</title>\n<path fill=\"#41a1e6\" stroke=\"black\" d=\"M250,-187C250,-187 143,-187 143,-187 137,-187 131,-181 131,-175 131,-175 131,-116 131,-116 131,-110 137,-104 143,-104 143,-104 250,-104 250,-104 256,-104 262,-110 262,-116 262,-116 262,-175 262,-175 262,-181 256,-187 250,-187\"/>\n<text text-anchor=\"start\" x=\"161.5\" y=\"-171.8\" font-family=\"Helvetica,sans-Serif\" font-size=\"14.00\">age ≤ 2.5</text>\n<text text-anchor=\"start\" x=\"152.5\" y=\"-156.8\" font-family=\"Helvetica,sans-Serif\" font-size=\"14.00\">gini = 0.074</text>\n<text text-anchor=\"start\" x=\"143.5\" y=\"-141.8\" font-family=\"Helvetica,sans-Serif\" font-size=\"14.00\">samples = 130</text>\n<text text-anchor=\"start\" x=\"139\" y=\"-126.8\" font-family=\"Helvetica,sans-Serif\" font-size=\"14.00\">value = [5, 125]</text>\n<text text-anchor=\"start\" x=\"151.5\" y=\"-111.8\" font-family=\"Helvetica,sans-Serif\" font-size=\"14.00\">class = Alive</text>\n</g>\n<!-- 1&#45;&gt;2 -->\n<g id=\"edge2\" class=\"edge\">\n<title>1&#45;&gt;2</title>\n<path fill=\"none\" stroke=\"black\" d=\"M331.24,-223.4C311.84,-212.33 290.72,-200.28 271.09,-189.07\"/>\n<polygon fill=\"black\" stroke=\"black\" points=\"272.6,-185.91 262.18,-183.99 269.13,-191.98 272.6,-185.91\"/>\n</g>\n<!-- 5 -->\n<g id=\"node6\" class=\"node\">\n<title>5</title>\n<path fill=\"#fef9f5\" stroke=\"black\" d=\"M455,-187C455,-187 348,-187 348,-187 342,-187 336,-181 336,-175 336,-175 336,-116 336,-116 336,-110 342,-104 348,-104 348,-104 455,-104 455,-104 461,-104 467,-110 467,-116 467,-116 467,-175 467,-175 467,-181 461,-187 455,-187\"/>\n<text text-anchor=\"start\" x=\"362\" y=\"-171.8\" font-family=\"Helvetica,sans-Serif\" font-size=\"14.00\">age ≤ 36.5</text>\n<text text-anchor=\"start\" x=\"366.5\" y=\"-156.8\" font-family=\"Helvetica,sans-Serif\" font-size=\"14.00\">gini = 0.5</text>\n<text text-anchor=\"start\" x=\"348.5\" y=\"-141.8\" font-family=\"Helvetica,sans-Serif\" font-size=\"14.00\">samples = 115</text>\n<text text-anchor=\"start\" x=\"344\" y=\"-126.8\" font-family=\"Helvetica,sans-Serif\" font-size=\"14.00\">value = [59, 56]</text>\n<text text-anchor=\"start\" x=\"355.5\" y=\"-111.8\" font-family=\"Helvetica,sans-Serif\" font-size=\"14.00\">class = Dead</text>\n</g>\n<!-- 1&#45;&gt;5 -->\n<g id=\"edge5\" class=\"edge\">\n<title>1&#45;&gt;5</title>\n<path fill=\"none\" stroke=\"black\" d=\"M401.5,-222.91C401.5,-214.65 401.5,-205.86 401.5,-197.3\"/>\n<polygon fill=\"black\" stroke=\"black\" points=\"405,-197.02 401.5,-187.02 398,-197.02 405,-197.02\"/>\n</g>\n<!-- 3 -->\n<g id=\"node4\" class=\"node\">\n<title>3</title>\n<path fill=\"#ffffff\" stroke=\"black\" d=\"M101,-68C101,-68 12,-68 12,-68 6,-68 0,-62 0,-56 0,-56 0,-12 0,-12 0,-6 6,0 12,0 12,0 101,0 101,0 107,0 113,-6 113,-12 113,-12 113,-56 113,-56 113,-62 107,-68 101,-68\"/>\n<text text-anchor=\"start\" x=\"21.5\" y=\"-52.8\" font-family=\"Helvetica,sans-Serif\" font-size=\"14.00\">gini = 0.5</text>\n<text text-anchor=\"start\" x=\"12.5\" y=\"-37.8\" font-family=\"Helvetica,sans-Serif\" font-size=\"14.00\">samples = 2</text>\n<text text-anchor=\"start\" x=\"8\" y=\"-22.8\" font-family=\"Helvetica,sans-Serif\" font-size=\"14.00\">value = [1, 1]</text>\n<text text-anchor=\"start\" x=\"10.5\" y=\"-7.8\" font-family=\"Helvetica,sans-Serif\" font-size=\"14.00\">class = Dead</text>\n</g>\n<!-- 2&#45;&gt;3 -->\n<g id=\"edge3\" class=\"edge\">\n<title>2&#45;&gt;3</title>\n<path fill=\"none\" stroke=\"black\" d=\"M144.37,-103.73C132.24,-94.24 119.35,-84.16 107.28,-74.72\"/>\n<polygon fill=\"black\" stroke=\"black\" points=\"109.11,-71.7 99.07,-68.3 104.8,-77.22 109.11,-71.7\"/>\n</g>\n<!-- 4 -->\n<g id=\"node5\" class=\"node\">\n<title>4</title>\n<path fill=\"#3fa0e6\" stroke=\"black\" d=\"M250,-68C250,-68 143,-68 143,-68 137,-68 131,-62 131,-56 131,-56 131,-12 131,-12 131,-6 137,0 143,0 143,0 250,0 250,0 256,0 262,-6 262,-12 262,-12 262,-56 262,-56 262,-62 256,-68 250,-68\"/>\n<text text-anchor=\"start\" x=\"152.5\" y=\"-52.8\" font-family=\"Helvetica,sans-Serif\" font-size=\"14.00\">gini = 0.061</text>\n<text text-anchor=\"start\" x=\"143.5\" y=\"-37.8\" font-family=\"Helvetica,sans-Serif\" font-size=\"14.00\">samples = 128</text>\n<text text-anchor=\"start\" x=\"139\" y=\"-22.8\" font-family=\"Helvetica,sans-Serif\" font-size=\"14.00\">value = [4, 124]</text>\n<text text-anchor=\"start\" x=\"151.5\" y=\"-7.8\" font-family=\"Helvetica,sans-Serif\" font-size=\"14.00\">class = Alive</text>\n</g>\n<!-- 2&#45;&gt;4 -->\n<g id=\"edge4\" class=\"edge\">\n<title>2&#45;&gt;4</title>\n<path fill=\"none\" stroke=\"black\" d=\"M196.5,-103.73C196.5,-95.52 196.5,-86.86 196.5,-78.56\"/>\n<polygon fill=\"black\" stroke=\"black\" points=\"200,-78.3 196.5,-68.3 193,-78.3 200,-78.3\"/>\n</g>\n<!-- 6 -->\n<g id=\"node7\" class=\"node\">\n<title>6</title>\n<path fill=\"#f1f8fd\" stroke=\"black\" d=\"M399,-68C399,-68 292,-68 292,-68 286,-68 280,-62 280,-56 280,-56 280,-12 280,-12 280,-6 286,0 292,0 292,0 399,0 399,0 405,0 411,-6 411,-12 411,-12 411,-56 411,-56 411,-62 405,-68 399,-68\"/>\n<text text-anchor=\"start\" x=\"301.5\" y=\"-52.8\" font-family=\"Helvetica,sans-Serif\" font-size=\"14.00\">gini = 0.499</text>\n<text text-anchor=\"start\" x=\"292.5\" y=\"-37.8\" font-family=\"Helvetica,sans-Serif\" font-size=\"14.00\">samples = 106</text>\n<text text-anchor=\"start\" x=\"288\" y=\"-22.8\" font-family=\"Helvetica,sans-Serif\" font-size=\"14.00\">value = [51, 55]</text>\n<text text-anchor=\"start\" x=\"300.5\" y=\"-7.8\" font-family=\"Helvetica,sans-Serif\" font-size=\"14.00\">class = Alive</text>\n</g>\n<!-- 5&#45;&gt;6 -->\n<g id=\"edge6\" class=\"edge\">\n<title>5&#45;&gt;6</title>\n<path fill=\"none\" stroke=\"black\" d=\"M380.65,-103.73C376.26,-95.15 371.63,-86.09 367.21,-77.46\"/>\n<polygon fill=\"black\" stroke=\"black\" points=\"370.2,-75.61 362.53,-68.3 363.97,-78.8 370.2,-75.61\"/>\n</g>\n<!-- 7 -->\n<g id=\"node8\" class=\"node\">\n<title>7</title>\n<path fill=\"#e89152\" stroke=\"black\" d=\"M530,-68C530,-68 441,-68 441,-68 435,-68 429,-62 429,-56 429,-56 429,-12 429,-12 429,-6 435,0 441,0 441,0 530,0 530,0 536,0 542,-6 542,-12 542,-12 542,-56 542,-56 542,-62 536,-68 530,-68\"/>\n<text text-anchor=\"start\" x=\"441.5\" y=\"-52.8\" font-family=\"Helvetica,sans-Serif\" font-size=\"14.00\">gini = 0.198</text>\n<text text-anchor=\"start\" x=\"441.5\" y=\"-37.8\" font-family=\"Helvetica,sans-Serif\" font-size=\"14.00\">samples = 9</text>\n<text text-anchor=\"start\" x=\"437\" y=\"-22.8\" font-family=\"Helvetica,sans-Serif\" font-size=\"14.00\">value = [8, 1]</text>\n<text text-anchor=\"start\" x=\"439.5\" y=\"-7.8\" font-family=\"Helvetica,sans-Serif\" font-size=\"14.00\">class = Dead</text>\n</g>\n<!-- 5&#45;&gt;7 -->\n<g id=\"edge7\" class=\"edge\">\n<title>5&#45;&gt;7</title>\n<path fill=\"none\" stroke=\"black\" d=\"M432.78,-103.73C439.64,-94.79 446.9,-85.32 453.78,-76.36\"/>\n<polygon fill=\"black\" stroke=\"black\" points=\"456.65,-78.36 459.96,-68.3 451.09,-74.1 456.65,-78.36\"/>\n</g>\n<!-- 9 -->\n<g id=\"node10\" class=\"node\">\n<title>9</title>\n<path fill=\"#95cbf1\" stroke=\"black\" d=\"M732,-187C732,-187 619,-187 619,-187 613,-187 607,-181 607,-175 607,-175 607,-116 607,-116 607,-110 613,-104 619,-104 619,-104 732,-104 732,-104 738,-104 744,-110 744,-116 744,-116 744,-175 744,-175 744,-181 738,-187 732,-187\"/>\n<text text-anchor=\"start\" x=\"615\" y=\"-171.8\" font-family=\"Helvetica,sans-Serif\" font-size=\"14.00\">class_Third ≤ 0.5</text>\n<text text-anchor=\"start\" x=\"631.5\" y=\"-156.8\" font-family=\"Helvetica,sans-Serif\" font-size=\"14.00\">gini = 0.434</text>\n<text text-anchor=\"start\" x=\"627\" y=\"-141.8\" font-family=\"Helvetica,sans-Serif\" font-size=\"14.00\">samples = 22</text>\n<text text-anchor=\"start\" x=\"622.5\" y=\"-126.8\" font-family=\"Helvetica,sans-Serif\" font-size=\"14.00\">value = [7, 15]</text>\n<text text-anchor=\"start\" x=\"630.5\" y=\"-111.8\" font-family=\"Helvetica,sans-Serif\" font-size=\"14.00\">class = Alive</text>\n</g>\n<!-- 8&#45;&gt;9 -->\n<g id=\"edge9\" class=\"edge\">\n<title>8&#45;&gt;9</title>\n<path fill=\"none\" stroke=\"black\" d=\"M675.5,-222.91C675.5,-214.65 675.5,-205.86 675.5,-197.3\"/>\n<polygon fill=\"black\" stroke=\"black\" points=\"679,-197.02 675.5,-187.02 672,-197.02 679,-197.02\"/>\n</g>\n<!-- 12 -->\n<g id=\"node13\" class=\"node\">\n<title>12</title>\n<path fill=\"#ea995f\" stroke=\"black\" d=\"M950.5,-187C950.5,-187 834.5,-187 834.5,-187 828.5,-187 822.5,-181 822.5,-175 822.5,-175 822.5,-116 822.5,-116 822.5,-110 828.5,-104 834.5,-104 834.5,-104 950.5,-104 950.5,-104 956.5,-104 962.5,-110 962.5,-116 962.5,-116 962.5,-175 962.5,-175 962.5,-181 956.5,-187 950.5,-187\"/>\n<text text-anchor=\"start\" x=\"832\" y=\"-171.8\" font-family=\"Helvetica,sans-Serif\" font-size=\"14.00\">class_Third ≤ 0.5</text>\n<text text-anchor=\"start\" x=\"848.5\" y=\"-156.8\" font-family=\"Helvetica,sans-Serif\" font-size=\"14.00\">gini = 0.271</text>\n<text text-anchor=\"start\" x=\"839.5\" y=\"-141.8\" font-family=\"Helvetica,sans-Serif\" font-size=\"14.00\">samples = 445</text>\n<text text-anchor=\"start\" x=\"830.5\" y=\"-126.8\" font-family=\"Helvetica,sans-Serif\" font-size=\"14.00\">value = [373, 72]</text>\n<text text-anchor=\"start\" x=\"846.5\" y=\"-111.8\" font-family=\"Helvetica,sans-Serif\" font-size=\"14.00\">class = Dead</text>\n</g>\n<!-- 8&#45;&gt;12 -->\n<g id=\"edge12\" class=\"edge\">\n<title>8&#45;&gt;12</title>\n<path fill=\"none\" stroke=\"black\" d=\"M745.65,-225.68C767.2,-214.06 791.07,-201.19 813.18,-189.26\"/>\n<polygon fill=\"black\" stroke=\"black\" points=\"815.08,-192.22 822.22,-184.4 811.75,-186.06 815.08,-192.22\"/>\n</g>\n<!-- 10 -->\n<g id=\"node11\" class=\"node\">\n<title>10</title>\n<path fill=\"#399de5\" stroke=\"black\" d=\"M661,-68C661,-68 572,-68 572,-68 566,-68 560,-62 560,-56 560,-56 560,-12 560,-12 560,-6 566,0 572,0 572,0 661,0 661,0 667,0 673,-6 673,-12 673,-12 673,-56 673,-56 673,-62 667,-68 661,-68\"/>\n<text text-anchor=\"start\" x=\"581.5\" y=\"-52.8\" font-family=\"Helvetica,sans-Serif\" font-size=\"14.00\">gini = 0.0</text>\n<text text-anchor=\"start\" x=\"572.5\" y=\"-37.8\" font-family=\"Helvetica,sans-Serif\" font-size=\"14.00\">samples = 9</text>\n<text text-anchor=\"start\" x=\"568\" y=\"-22.8\" font-family=\"Helvetica,sans-Serif\" font-size=\"14.00\">value = [0, 9]</text>\n<text text-anchor=\"start\" x=\"571.5\" y=\"-7.8\" font-family=\"Helvetica,sans-Serif\" font-size=\"14.00\">class = Alive</text>\n</g>\n<!-- 9&#45;&gt;10 -->\n<g id=\"edge10\" class=\"edge\">\n<title>9&#45;&gt;10</title>\n<path fill=\"none\" stroke=\"black\" d=\"M653.53,-103.73C648.86,-95.06 643.92,-85.9 639.23,-77.18\"/>\n<polygon fill=\"black\" stroke=\"black\" points=\"642.27,-75.44 634.44,-68.3 636.1,-78.76 642.27,-75.44\"/>\n</g>\n<!-- 11 -->\n<g id=\"node12\" class=\"node\">\n<title>11</title>\n<path fill=\"#fbede3\" stroke=\"black\" d=\"M792,-68C792,-68 703,-68 703,-68 697,-68 691,-62 691,-56 691,-56 691,-12 691,-12 691,-6 697,0 703,0 703,0 792,0 792,0 798,0 804,-6 804,-12 804,-12 804,-56 804,-56 804,-62 798,-68 792,-68\"/>\n<text text-anchor=\"start\" x=\"703.5\" y=\"-52.8\" font-family=\"Helvetica,sans-Serif\" font-size=\"14.00\">gini = 0.497</text>\n<text text-anchor=\"start\" x=\"699\" y=\"-37.8\" font-family=\"Helvetica,sans-Serif\" font-size=\"14.00\">samples = 13</text>\n<text text-anchor=\"start\" x=\"699\" y=\"-22.8\" font-family=\"Helvetica,sans-Serif\" font-size=\"14.00\">value = [7, 6]</text>\n<text text-anchor=\"start\" x=\"701.5\" y=\"-7.8\" font-family=\"Helvetica,sans-Serif\" font-size=\"14.00\">class = Dead</text>\n</g>\n<!-- 9&#45;&gt;11 -->\n<g id=\"edge11\" class=\"edge\">\n<title>9&#45;&gt;11</title>\n<path fill=\"none\" stroke=\"black\" d=\"M702.31,-103.73C708.07,-94.97 714.16,-85.7 719.95,-76.91\"/>\n<polygon fill=\"black\" stroke=\"black\" points=\"723.03,-78.58 725.6,-68.3 717.19,-74.73 723.03,-78.58\"/>\n</g>\n<!-- 13 -->\n<g id=\"node14\" class=\"node\">\n<title>13</title>\n<path fill=\"#eca470\" stroke=\"black\" d=\"M950.5,-68C950.5,-68 834.5,-68 834.5,-68 828.5,-68 822.5,-62 822.5,-56 822.5,-56 822.5,-12 822.5,-12 822.5,-6 828.5,0 834.5,0 834.5,0 950.5,0 950.5,0 956.5,0 962.5,-6 962.5,-12 962.5,-12 962.5,-56 962.5,-56 962.5,-62 956.5,-68 950.5,-68\"/>\n<text text-anchor=\"start\" x=\"853\" y=\"-52.8\" font-family=\"Helvetica,sans-Serif\" font-size=\"14.00\">gini = 0.34</text>\n<text text-anchor=\"start\" x=\"839.5\" y=\"-37.8\" font-family=\"Helvetica,sans-Serif\" font-size=\"14.00\">samples = 175</text>\n<text text-anchor=\"start\" x=\"830.5\" y=\"-22.8\" font-family=\"Helvetica,sans-Serif\" font-size=\"14.00\">value = [137, 38]</text>\n<text text-anchor=\"start\" x=\"846.5\" y=\"-7.8\" font-family=\"Helvetica,sans-Serif\" font-size=\"14.00\">class = Dead</text>\n</g>\n<!-- 12&#45;&gt;13 -->\n<g id=\"edge13\" class=\"edge\">\n<title>12&#45;&gt;13</title>\n<path fill=\"none\" stroke=\"black\" d=\"M892.5,-103.73C892.5,-95.52 892.5,-86.86 892.5,-78.56\"/>\n<polygon fill=\"black\" stroke=\"black\" points=\"896,-78.3 892.5,-68.3 889,-78.3 896,-78.3\"/>\n</g>\n<!-- 14 -->\n<g id=\"node15\" class=\"node\">\n<title>14</title>\n<path fill=\"#e99356\" stroke=\"black\" d=\"M1108.5,-68C1108.5,-68 992.5,-68 992.5,-68 986.5,-68 980.5,-62 980.5,-56 980.5,-56 980.5,-12 980.5,-12 980.5,-6 986.5,0 992.5,0 992.5,0 1108.5,0 1108.5,0 1114.5,0 1120.5,-6 1120.5,-12 1120.5,-12 1120.5,-56 1120.5,-56 1120.5,-62 1114.5,-68 1108.5,-68\"/>\n<text text-anchor=\"start\" x=\"1011\" y=\"-52.8\" font-family=\"Helvetica,sans-Serif\" font-size=\"14.00\">gini = 0.22</text>\n<text text-anchor=\"start\" x=\"997.5\" y=\"-37.8\" font-family=\"Helvetica,sans-Serif\" font-size=\"14.00\">samples = 270</text>\n<text text-anchor=\"start\" x=\"988.5\" y=\"-22.8\" font-family=\"Helvetica,sans-Serif\" font-size=\"14.00\">value = [236, 34]</text>\n<text text-anchor=\"start\" x=\"1004.5\" y=\"-7.8\" font-family=\"Helvetica,sans-Serif\" font-size=\"14.00\">class = Dead</text>\n</g>\n<!-- 12&#45;&gt;14 -->\n<g id=\"edge14\" class=\"edge\">\n<title>12&#45;&gt;14</title>\n<path fill=\"none\" stroke=\"black\" d=\"M951.33,-103.73C965.36,-94.01 980.29,-83.66 994.19,-74.02\"/>\n<polygon fill=\"black\" stroke=\"black\" points=\"996.48,-76.7 1002.7,-68.13 992.49,-70.94 996.48,-76.7\"/>\n</g>\n</g>\n</svg>\n",
      "text/plain": "<graphviz.sources.Source at 0x7fb54df7ee90>"
     },
     "execution_count": 8,
     "metadata": {},
     "output_type": "execute_result"
    }
   ],
   "source": [
    "# Celda 6: Visualización con Graphviz\n",
    "features = X.columns\n",
    "targets = ['Dead', 'Alive']\n",
    "data = export_graphviz(tree, out_file=None, feature_names=features, class_names=targets, filled=True, rounded=True, special_characters=True)\n",
    "graph = graphviz.Source(data)\n",
    "graph\n"
   ]
  },
  {
   "cell_type": "code",
   "execution_count": 9,
   "outputs": [
    {
     "data": {
      "text/plain": "'tree_image.png'"
     },
     "execution_count": 9,
     "metadata": {},
     "output_type": "execute_result"
    }
   ],
   "source": [
    "# Guardar el gráfico en un archivo PNG\n",
    "graph.format = 'png'\n",
    "graph.render(filename='tree_image', directory='./', cleanup=True)\n"
   ],
   "metadata": {
    "collapsed": false,
    "ExecuteTime": {
     "end_time": "2023-11-02T10:53:32.008423300Z",
     "start_time": "2023-11-02T10:53:31.913130300Z"
    }
   },
   "id": "529e028dad850cb9"
  },
  {
   "cell_type": "code",
   "execution_count": 8,
   "outputs": [],
   "source": [],
   "metadata": {
    "collapsed": false,
    "ExecuteTime": {
     "end_time": "2023-11-02T10:52:44.823609600Z",
     "start_time": "2023-11-02T10:52:44.769129400Z"
    }
   },
   "id": "dfb2568f7f548a34"
  }
 ],
 "metadata": {
  "kernelspec": {
   "display_name": "Python 3",
   "language": "python",
   "name": "python3"
  },
  "language_info": {
   "codemirror_mode": {
    "name": "ipython",
    "version": 2
   },
   "file_extension": ".py",
   "mimetype": "text/x-python",
   "name": "python",
   "nbconvert_exporter": "python",
   "pygments_lexer": "ipython2",
   "version": "2.7.6"
  }
 },
 "nbformat": 4,
 "nbformat_minor": 5
}
