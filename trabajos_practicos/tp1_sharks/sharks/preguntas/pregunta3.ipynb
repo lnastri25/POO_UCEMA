{
 "cells": [
  {
   "cell_type": "code",
   "execution_count": 49,
   "metadata": {},
   "outputs": [],
   "source": [
    "import pandas as pd"
   ]
  },
  {
   "cell_type": "code",
   "execution_count": 59,
   "metadata": {},
   "outputs": [
    {
     "data": {
      "text/html": [
       "<div>\n",
       "<style scoped>\n",
       "    .dataframe tbody tr th:only-of-type {\n",
       "        vertical-align: middle;\n",
       "    }\n",
       "\n",
       "    .dataframe tbody tr th {\n",
       "        vertical-align: top;\n",
       "    }\n",
       "\n",
       "    .dataframe thead th {\n",
       "        text-align: right;\n",
       "    }\n",
       "</style>\n",
       "<table border=\"1\" class=\"dataframe\">\n",
       "  <thead>\n",
       "    <tr style=\"text-align: right;\">\n",
       "      <th></th>\n",
       "      <th>Date</th>\n",
       "      <th>Year</th>\n",
       "      <th>Type</th>\n",
       "      <th>Country</th>\n",
       "      <th>Area</th>\n",
       "      <th>Activity</th>\n",
       "      <th>Sex</th>\n",
       "      <th>Age</th>\n",
       "      <th>Injury</th>\n",
       "      <th>Fatal (Y/N)</th>\n",
       "      <th>Species</th>\n",
       "    </tr>\n",
       "  </thead>\n",
       "  <tbody>\n",
       "    <tr>\n",
       "      <th>0</th>\n",
       "      <td>18-Sep-16</td>\n",
       "      <td>2016</td>\n",
       "      <td>Unprovoked</td>\n",
       "      <td>USA</td>\n",
       "      <td>Florida</td>\n",
       "      <td>Surfing</td>\n",
       "      <td>M</td>\n",
       "      <td>16</td>\n",
       "      <td>Minor injury to thigh</td>\n",
       "      <td>N</td>\n",
       "      <td>NaN</td>\n",
       "    </tr>\n",
       "    <tr>\n",
       "      <th>1</th>\n",
       "      <td>18-Sep-16</td>\n",
       "      <td>2016</td>\n",
       "      <td>Unprovoked</td>\n",
       "      <td>USA</td>\n",
       "      <td>Florida</td>\n",
       "      <td>Surfing</td>\n",
       "      <td>M</td>\n",
       "      <td>36</td>\n",
       "      <td>Lacerations to hands</td>\n",
       "      <td>N</td>\n",
       "      <td>NaN</td>\n",
       "    </tr>\n",
       "    <tr>\n",
       "      <th>2</th>\n",
       "      <td>18-Sep-16</td>\n",
       "      <td>2016</td>\n",
       "      <td>Unprovoked</td>\n",
       "      <td>USA</td>\n",
       "      <td>Florida</td>\n",
       "      <td>Surfing</td>\n",
       "      <td>M</td>\n",
       "      <td>43</td>\n",
       "      <td>Lacerations to lower leg</td>\n",
       "      <td>N</td>\n",
       "      <td>NaN</td>\n",
       "    </tr>\n",
       "    <tr>\n",
       "      <th>3</th>\n",
       "      <td>17-Sep-16</td>\n",
       "      <td>2016</td>\n",
       "      <td>Unprovoked</td>\n",
       "      <td>AUSTRALIA</td>\n",
       "      <td>Victoria</td>\n",
       "      <td>Surfing</td>\n",
       "      <td>M</td>\n",
       "      <td>NaN</td>\n",
       "      <td>Struck by fin on chest &amp; leg</td>\n",
       "      <td>N</td>\n",
       "      <td>NaN</td>\n",
       "    </tr>\n",
       "    <tr>\n",
       "      <th>4</th>\n",
       "      <td>16-Sep-16</td>\n",
       "      <td>2016</td>\n",
       "      <td>Unprovoked</td>\n",
       "      <td>AUSTRALIA</td>\n",
       "      <td>Victoria</td>\n",
       "      <td>Surfing</td>\n",
       "      <td>M</td>\n",
       "      <td>NaN</td>\n",
       "      <td>No injury: Knocked off board by shark</td>\n",
       "      <td>N</td>\n",
       "      <td>2 m shark</td>\n",
       "    </tr>\n",
       "    <tr>\n",
       "      <th>...</th>\n",
       "      <td>...</td>\n",
       "      <td>...</td>\n",
       "      <td>...</td>\n",
       "      <td>...</td>\n",
       "      <td>...</td>\n",
       "      <td>...</td>\n",
       "      <td>...</td>\n",
       "      <td>...</td>\n",
       "      <td>...</td>\n",
       "      <td>...</td>\n",
       "      <td>...</td>\n",
       "    </tr>\n",
       "    <tr>\n",
       "      <th>5987</th>\n",
       "      <td>Before 1903</td>\n",
       "      <td>0</td>\n",
       "      <td>Unprovoked</td>\n",
       "      <td>AUSTRALIA</td>\n",
       "      <td>Western Australia</td>\n",
       "      <td>Diving</td>\n",
       "      <td>M</td>\n",
       "      <td>NaN</td>\n",
       "      <td>FATAL</td>\n",
       "      <td>Y</td>\n",
       "      <td>NaN</td>\n",
       "    </tr>\n",
       "    <tr>\n",
       "      <th>5988</th>\n",
       "      <td>Before 1903</td>\n",
       "      <td>0</td>\n",
       "      <td>Unprovoked</td>\n",
       "      <td>AUSTRALIA</td>\n",
       "      <td>Western Australia</td>\n",
       "      <td>Pearl diving</td>\n",
       "      <td>M</td>\n",
       "      <td>NaN</td>\n",
       "      <td>FATAL</td>\n",
       "      <td>Y</td>\n",
       "      <td>NaN</td>\n",
       "    </tr>\n",
       "    <tr>\n",
       "      <th>5989</th>\n",
       "      <td>1900-1905</td>\n",
       "      <td>0</td>\n",
       "      <td>Unprovoked</td>\n",
       "      <td>USA</td>\n",
       "      <td>North Carolina</td>\n",
       "      <td>Swimming</td>\n",
       "      <td>M</td>\n",
       "      <td>NaN</td>\n",
       "      <td>FATAL</td>\n",
       "      <td>Y</td>\n",
       "      <td>NaN</td>\n",
       "    </tr>\n",
       "    <tr>\n",
       "      <th>5990</th>\n",
       "      <td>1883-1889</td>\n",
       "      <td>0</td>\n",
       "      <td>Unprovoked</td>\n",
       "      <td>PANAMA</td>\n",
       "      <td>NaN</td>\n",
       "      <td>NaN</td>\n",
       "      <td>M</td>\n",
       "      <td>NaN</td>\n",
       "      <td>FATAL</td>\n",
       "      <td>Y</td>\n",
       "      <td>NaN</td>\n",
       "    </tr>\n",
       "    <tr>\n",
       "      <th>5991</th>\n",
       "      <td>1845-1853</td>\n",
       "      <td>0</td>\n",
       "      <td>Unprovoked</td>\n",
       "      <td>CEYLON (SRI LANKA)</td>\n",
       "      <td>Eastern Province</td>\n",
       "      <td>Swimming</td>\n",
       "      <td>M</td>\n",
       "      <td>15</td>\n",
       "      <td>FATAL. \"Shark bit him in half, carrying away t...</td>\n",
       "      <td>Y</td>\n",
       "      <td>NaN</td>\n",
       "    </tr>\n",
       "  </tbody>\n",
       "</table>\n",
       "<p>5992 rows × 11 columns</p>\n",
       "</div>"
      ],
      "text/plain": [
       "             Date  Year        Type             Country               Area  \\\n",
       "0       18-Sep-16  2016  Unprovoked                 USA            Florida   \n",
       "1       18-Sep-16  2016  Unprovoked                 USA            Florida   \n",
       "2       18-Sep-16  2016  Unprovoked                 USA            Florida   \n",
       "3       17-Sep-16  2016  Unprovoked           AUSTRALIA           Victoria   \n",
       "4       16-Sep-16  2016  Unprovoked           AUSTRALIA           Victoria   \n",
       "...           ...   ...         ...                 ...                ...   \n",
       "5987  Before 1903     0  Unprovoked           AUSTRALIA  Western Australia   \n",
       "5988  Before 1903     0  Unprovoked           AUSTRALIA  Western Australia   \n",
       "5989    1900-1905     0  Unprovoked                 USA     North Carolina   \n",
       "5990    1883-1889     0  Unprovoked              PANAMA                NaN   \n",
       "5991    1845-1853     0  Unprovoked  CEYLON (SRI LANKA)   Eastern Province   \n",
       "\n",
       "          Activity Sex   Age  \\\n",
       "0          Surfing    M   16   \n",
       "1          Surfing    M   36   \n",
       "2          Surfing    M   43   \n",
       "3          Surfing    M  NaN   \n",
       "4          Surfing    M  NaN   \n",
       "...            ...  ...  ...   \n",
       "5987        Diving    M  NaN   \n",
       "5988  Pearl diving    M  NaN   \n",
       "5989      Swimming    M  NaN   \n",
       "5990           NaN    M  NaN   \n",
       "5991      Swimming    M   15   \n",
       "\n",
       "                                                 Injury Fatal (Y/N)   Species   \n",
       "0                                 Minor injury to thigh           N        NaN  \n",
       "1                                  Lacerations to hands           N        NaN  \n",
       "2                              Lacerations to lower leg           N        NaN  \n",
       "3                          Struck by fin on chest & leg           N        NaN  \n",
       "4                 No injury: Knocked off board by shark           N  2 m shark  \n",
       "...                                                 ...         ...        ...  \n",
       "5987                                              FATAL           Y        NaN  \n",
       "5988                                              FATAL           Y        NaN  \n",
       "5989                                              FATAL           Y        NaN  \n",
       "5990                                              FATAL           Y        NaN  \n",
       "5991  FATAL. \"Shark bit him in half, carrying away t...           Y        NaN  \n",
       "\n",
       "[5992 rows x 11 columns]"
      ]
     },
     "execution_count": 59,
     "metadata": {},
     "output_type": "execute_result"
    }
   ],
   "source": [
    "tiburones3 = pd.read_csv(\"/Users/lolonastri/Desktop/POO_UCEMA/trabajos_practicos/trabajo_practico_0/sharks/attracks.csv\", encoding= \"latin-1\")\n",
    "tiburones3 = tiburones3.drop(columns = [\"Unnamed: 22\", \"Unnamed: 23\", \"pdf\", \"href formula\", \"href\", \"Case Number.1\", \"Case Number.2\", \"original order\", \"Case Number\", \"Investigator or Source\", \"Location\", \"Name\", \"Time\"])\n",
    "tiburones3"
   ]
  },
  {
   "cell_type": "code",
   "execution_count": 51,
   "metadata": {},
   "outputs": [
    {
     "data": {
      "text/plain": [
       "array(['Date', 'Year', 'Type', 'Country', 'Area', 'Activity', 'Sex ',\n",
       "       'Age', 'Injury', 'Fatal (Y/N)', 'Time', 'Species '], dtype=object)"
      ]
     },
     "execution_count": 51,
     "metadata": {},
     "output_type": "execute_result"
    }
   ],
   "source": [
    "tiburones3.columns.values"
   ]
  },
  {
   "cell_type": "markdown",
   "metadata": {},
   "source": [
    "___"
   ]
  },
  {
   "cell_type": "markdown",
   "metadata": {},
   "source": [
    "# 3) ¿Qué proporción en porcentaje de los que murieron en USA,Florida buceando eran hombres? ¿Y nadando?"
   ]
  },
  {
   "cell_type": "code",
   "execution_count": 52,
   "metadata": {},
   "outputs": [],
   "source": [
    "# tiburones3[(tiburones3[\"Fatal (Y/N)\"] == \"Y\") & (tiburones3[\"Country\"] == \"USA\") & (tiburones3[\"Area\"] == \"Florida\") & (tiburones3[\"Activity\"] == \"Diving\") & (tiburones3[\"Sex \"] == \"M\")]\n"
   ]
  },
  {
   "cell_type": "code",
   "execution_count": 53,
   "metadata": {},
   "outputs": [],
   "source": [
    "# tiburones3[(tiburones3[\"Fatal (Y/N)\"] == \"Y\") & (tiburones3[\"Country\"] == \"USA\") & (tiburones3[\"Area\"] == \"Florida\") & (tiburones3[\"Activity\"] == \"Swimming\") & (tiburones3[\"Sex \"] == \"M\")]"
   ]
  },
  {
   "cell_type": "code",
   "execution_count": 54,
   "metadata": {},
   "outputs": [
    {
     "data": {
      "text/plain": [
       "55"
      ]
     },
     "execution_count": 54,
     "metadata": {},
     "output_type": "execute_result"
    }
   ],
   "source": [
    "hombres_en_florida = tiburones3[\"Sex \"][(tiburones3[\"Fatal (Y/N)\"] == \"Y\") & (tiburones3[\"Country\"] == \"USA\") & (tiburones3[\"Area\"] == \"Florida\") & (tiburones3[\"Sex \"] == \"M\")].count() # Los que murieron en Florida que eran hombres\n",
    "hombres_en_florida"
   ]
  },
  {
   "cell_type": "code",
   "execution_count": 55,
   "metadata": {},
   "outputs": [
    {
     "data": {
      "text/plain": [
       "3"
      ]
     },
     "execution_count": 55,
     "metadata": {},
     "output_type": "execute_result"
    }
   ],
   "source": [
    "hombres_fatales_diving_florida = tiburones3[\"Sex \"][(tiburones3[\"Fatal (Y/N)\"] == \"Y\") & (tiburones3[\"Country\"] == \"USA\") & (tiburones3[\"Area\"] == \"Florida\") & (tiburones3[\"Activity\"] == \"Diving\") & (tiburones3[\"Sex \"] == \"M\")].count() # Filtro por actividad 'Diving'\n",
    "hombres_fatales_diving_florida"
   ]
  },
  {
   "cell_type": "code",
   "execution_count": 56,
   "metadata": {},
   "outputs": [
    {
     "data": {
      "text/plain": [
       "13"
      ]
     },
     "execution_count": 56,
     "metadata": {},
     "output_type": "execute_result"
    }
   ],
   "source": [
    "hombres_fatales_swimming_florida = tiburones3[\"Sex \"][(tiburones3[\"Fatal (Y/N)\"] == \"Y\") & (tiburones3[\"Country\"] == \"USA\") & (tiburones3[\"Area\"] == \"Florida\") & (tiburones3[\"Activity\"] == \"Swimming\") & (tiburones3[\"Sex \"] == \"M\")].count() # Filtro por actividad 'Swimming'\n",
    "hombres_fatales_swimming_florida"
   ]
  },
  {
   "cell_type": "code",
   "execution_count": 57,
   "metadata": {},
   "outputs": [
    {
     "data": {
      "text/plain": [
       "5.454545454545454"
      ]
     },
     "execution_count": 57,
     "metadata": {},
     "output_type": "execute_result"
    }
   ],
   "source": [
    "(hombres_fatales_diving_florida/hombres_en_florida)*100"
   ]
  },
  {
   "cell_type": "code",
   "execution_count": 58,
   "metadata": {},
   "outputs": [
    {
     "data": {
      "text/plain": [
       "23.636363636363637"
      ]
     },
     "execution_count": 58,
     "metadata": {},
     "output_type": "execute_result"
    }
   ],
   "source": [
    "(hombres_fatales_swimming_florida/hombres_en_florida)*100"
   ]
  },
  {
   "cell_type": "markdown",
   "metadata": {},
   "source": [
    "___"
   ]
  },
  {
   "cell_type": "markdown",
   "metadata": {},
   "source": [
    "    ➢ Conclusión:\n",
    "      \n",
    "    Murió el 5,45% de hombres buceando en USA, Florida y el 23,63% de hombres nadando en USA, Florida. Podríamos asumir que los tiburones se mueven mayormente por la superficie del agua que por sus profundidades. Más allá de esto, nosotros creemos que haber hecho un muestreo de 55 hombres no es representativo para sacar una conclusión general.\n"
   ]
  },
  {
   "cell_type": "markdown",
   "metadata": {},
   "source": [
    "___"
   ]
  },
  {
   "cell_type": "markdown",
   "metadata": {},
   "source": [
    "    ➢ Con respecto a la pregunta número 3, pudimos identificar 2 tipos de sesgos distintos:\n",
    "\n",
    "    1) Sesgo de la muestra: La conclusión que sacamos se basa en un subconjunto de 55 hombres, lo que podría no ser representativo de todas las situaciones de buceo y natación en USA, Florida para poder sacar una conclusión general.\n",
    "\n",
    "    2) Sesgo de registro: Los informes pueden estar sesgados hacia ciertos tipos de actividades o géneros, lo que podría influir en la proporción observada. Por ejemplo los informes de ataques de tiburones podrían mostrar un sesgo en cuanto a quiénes se les da más cobertura mediática. Si los informes tienden a centrarse en víctimas de género masculino o femenino por alguna razón, la proporción observada podría no reflejar la proporción real de géneros involucrados en los ataques.\n"
   ]
  }
 ],
 "metadata": {
  "kernelspec": {
   "display_name": "POO-env",
   "language": "python",
   "name": "python3"
  },
  "language_info": {
   "codemirror_mode": {
    "name": "ipython",
    "version": 3
   },
   "file_extension": ".py",
   "mimetype": "text/x-python",
   "name": "python",
   "nbconvert_exporter": "python",
   "pygments_lexer": "ipython3",
   "version": "3.11.4"
  },
  "orig_nbformat": 4
 },
 "nbformat": 4,
 "nbformat_minor": 2
}
