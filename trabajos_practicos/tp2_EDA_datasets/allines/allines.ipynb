{
  "cells": [
    {
      "cell_type": "code",
      "execution_count": 1,
      "metadata": {
        "id": "QAm-9krH2NEA"
      },
      "outputs": [
        {
          "name": "stdout",
          "output_type": "stream",
          "text": [
            "Intel MKL WARNING: Support of Intel(R) Streaming SIMD Extensions 4.2 (Intel(R) SSE4.2) enabled only processors has been deprecated. Intel oneAPI Math Kernel Library 2025.0 will require Intel(R) Advanced Vector Extensions (Intel(R) AVX) instructions.\n",
            "Intel MKL WARNING: Support of Intel(R) Streaming SIMD Extensions 4.2 (Intel(R) SSE4.2) enabled only processors has been deprecated. Intel oneAPI Math Kernel Library 2025.0 will require Intel(R) Advanced Vector Extensions (Intel(R) AVX) instructions.\n"
          ]
        }
      ],
      "source": [
        "import pandas as pd\n",
        "from collections import Counter\n",
        "import matplotlib.pyplot as plt"
      ]
    },
    {
      "cell_type": "code",
      "execution_count": 2,
      "metadata": {
        "id": "HAgppayu2adP"
      },
      "outputs": [],
      "source": [
        "dialogos = []\n",
        "with open(\"/Users/lolonastri/Desktop/POO_UCEMA/trabajos_practicos/trabajo_practico_1/allines/alllines.txt\", \"r\") as archivo:\n",
        "    for linea in archivo:\n",
        "        dialogos.append(linea.strip())\n",
        "textos = pd.DataFrame(dialogos, columns=[\"Diálogo\"])"
      ]
    },
    {
      "cell_type": "code",
      "execution_count": 3,
      "metadata": {
        "id": "jb8JVOX54rWF"
      },
      "outputs": [
        {
          "data": {
            "text/html": [
              "<div>\n",
              "<style scoped>\n",
              "    .dataframe tbody tr th:only-of-type {\n",
              "        vertical-align: middle;\n",
              "    }\n",
              "\n",
              "    .dataframe tbody tr th {\n",
              "        vertical-align: top;\n",
              "    }\n",
              "\n",
              "    .dataframe thead th {\n",
              "        text-align: right;\n",
              "    }\n",
              "</style>\n",
              "<table border=\"1\" class=\"dataframe\">\n",
              "  <thead>\n",
              "    <tr style=\"text-align: right;\">\n",
              "      <th></th>\n",
              "      <th>Diálogo</th>\n",
              "    </tr>\n",
              "  </thead>\n",
              "  <tbody>\n",
              "    <tr>\n",
              "      <th>0</th>\n",
              "      <td>\"ACT I\"</td>\n",
              "    </tr>\n",
              "    <tr>\n",
              "      <th>1</th>\n",
              "      <td>\"SCENE I. London. The palace.\"</td>\n",
              "    </tr>\n",
              "    <tr>\n",
              "      <th>2</th>\n",
              "      <td>\"Enter KING HENRY, LORD JOHN OF LANCASTER, the...</td>\n",
              "    </tr>\n",
              "    <tr>\n",
              "      <th>3</th>\n",
              "      <td>\"So shaken as we are, so wan with care,\"</td>\n",
              "    </tr>\n",
              "    <tr>\n",
              "      <th>4</th>\n",
              "      <td>\"Find we a time for frighted peace to pant,\"</td>\n",
              "    </tr>\n",
              "    <tr>\n",
              "      <th>...</th>\n",
              "      <td>...</td>\n",
              "    </tr>\n",
              "    <tr>\n",
              "      <th>111391</th>\n",
              "      <td>\"Lead us from hence, where we may leisurely\"</td>\n",
              "    </tr>\n",
              "    <tr>\n",
              "      <th>111392</th>\n",
              "      <td>\"Each one demand an answer to his part\"</td>\n",
              "    </tr>\n",
              "    <tr>\n",
              "      <th>111393</th>\n",
              "      <td>\"Perform'd in this wide gap of time since first\"</td>\n",
              "    </tr>\n",
              "    <tr>\n",
              "      <th>111394</th>\n",
              "      <td>\"We were dissever'd: hastily lead away.\"</td>\n",
              "    </tr>\n",
              "    <tr>\n",
              "      <th>111395</th>\n",
              "      <td>Exeunt</td>\n",
              "    </tr>\n",
              "  </tbody>\n",
              "</table>\n",
              "<p>111396 rows × 1 columns</p>\n",
              "</div>"
            ],
            "text/plain": [
              "                                                  Diálogo\n",
              "0                                                 \"ACT I\"\n",
              "1                          \"SCENE I. London. The palace.\"\n",
              "2       \"Enter KING HENRY, LORD JOHN OF LANCASTER, the...\n",
              "3                \"So shaken as we are, so wan with care,\"\n",
              "4            \"Find we a time for frighted peace to pant,\"\n",
              "...                                                   ...\n",
              "111391       \"Lead us from hence, where we may leisurely\"\n",
              "111392            \"Each one demand an answer to his part\"\n",
              "111393   \"Perform'd in this wide gap of time since first\"\n",
              "111394           \"We were dissever'd: hastily lead away.\"\n",
              "111395                                             Exeunt\n",
              "\n",
              "[111396 rows x 1 columns]"
            ]
          },
          "execution_count": 3,
          "metadata": {},
          "output_type": "execute_result"
        }
      ],
      "source": [
        "textos"
      ]
    },
    {
      "cell_type": "code",
      "execution_count": 4,
      "metadata": {
        "id": "62siBqM_47sa"
      },
      "outputs": [
        {
          "data": {
            "text/plain": [
              "Diálogo  \n",
              "\"ACT I\"      36\n",
              "\"ACT II\"     36\n",
              "\"ACT III\"    36\n",
              "\"ACT IV\"     36\n",
              "\"ACT V\"      36\n",
              "Name: count, dtype: int64"
            ]
          },
          "execution_count": 4,
          "metadata": {},
          "output_type": "execute_result"
        }
      ],
      "source": [
        "textos[textos['Diálogo'].str.contains('ACT')].value_counts() "
      ]
    },
    {
      "cell_type": "code",
      "execution_count": 5,
      "metadata": {
        "id": "TDS3XQ3y5q4u"
      },
      "outputs": [
        {
          "data": {
            "text/plain": [
              "Diálogo                                               \n",
              "\"SCENE II. The same.\"                                     8\n",
              "\"SCENE IV. Another part of the field.\"                    6\n",
              "\"SCENE III. The same.\"                                    6\n",
              "\"SCENE V. Another part of the field.\"                     6\n",
              "\"SCENE I. London. The palace.\"                            5\n",
              "                                                         ..\n",
              "\"SCENE II. GLOUCESTER'S house.\"                           1\n",
              "\"SCENE II. Hall in Capulet's house.\"                      1\n",
              "\"SCENE II. Imogen's bedchamber in Cymbeline's palace:\"    1\n",
              "\"SCENE II. KING JOHN'S palace.\"                           1\n",
              "\"SCENE XV. The same. A monument.\"                         1\n",
              "Name: count, Length: 619, dtype: int64"
            ]
          },
          "execution_count": 5,
          "metadata": {},
          "output_type": "execute_result"
        }
      ],
      "source": [
        "textos[textos['Diálogo'].str.contains('SCENE')].value_counts()"
      ]
    },
    {
      "cell_type": "markdown",
      "metadata": {},
      "source": [
        "___"
      ]
    },
    {
      "cell_type": "markdown",
      "metadata": {
        "id": "Qe2LDbY97wfI"
      },
      "source": [
        "# 1) ¿Cuáles son las palabras más frecuentes en los diálogos, con más de 8 caracteres de estas obras de teatro?"
      ]
    },
    {
      "cell_type": "code",
      "execution_count": 6,
      "metadata": {
        "id": "pKZL6ToL7QJm"
      },
      "outputs": [],
      "source": [
        "todos_dialogos = ' '.join(textos['Diálogo']).replace(\"'\", \"\").replace('\"', '').replace(',', '')\n",
        "palabras = todos_dialogos.split()\n",
        "palabras_filtradas = [palabra for palabra in palabras if len(palabra) > 8]\n",
        "frecuencia_palabras = Counter(palabras_filtradas)\n",
        "palabras_mas_comunes = frecuencia_palabras.most_common(10)"
      ]
    },
    {
      "cell_type": "code",
      "execution_count": 7,
      "metadata": {
        "id": "olBFMxJD7W-V"
      },
      "outputs": [
        {
          "data": {
            "text/plain": [
              "[('therefore', 384),\n",
              " ('Therefore', 211),\n",
              " ('gentleman', 204),\n",
              " ('ANTIPHOLUS', 189),\n",
              " ('something', 131),\n",
              " ('themselves', 113),\n",
              " ('sovereign', 113),\n",
              " ('Attendants', 108),\n",
              " ('honourable', 106),\n",
              " ('gentlemen', 106)]"
            ]
          },
          "execution_count": 7,
          "metadata": {},
          "output_type": "execute_result"
        }
      ],
      "source": [
        "palabras_mas_comunes"
      ]
    },
    {
      "cell_type": "code",
      "execution_count": 8,
      "metadata": {
        "colab": {
          "base_uri": "https://localhost:8080/",
          "height": 565
        },
        "id": "8C6AYC208woj",
        "outputId": "68c81319-55a1-4170-987a-58a0adb3d6e6"
      },
      "outputs": [
        {
          "data": {
            "image/png": "[encoded data removed]",
            "text/plain": [
              "<Figure size 1200x600 with 1 Axes>"
            ]
          },
          "metadata": {},
          "output_type": "display_data"
        }
      ],
      "source": [
        "palabras_grafico, frecuencias_grafico = zip(*palabras_mas_comunes)\n",
        "\n",
        "plt.figure(figsize=(12, 6))\n",
        "plt.barh(palabras_grafico, frecuencias_grafico, edgecolor='black', color= \"skyblue\")\n",
        "plt.xlabel('Frecuencia')\n",
        "plt.ylabel('Palabra')\n",
        "plt.title('Frecuencia de palabras con más de 8 letras en los diálogos')\n",
        "plt.gca().invert_yaxis()\n",
        "plt.show()"
      ]
    },
    {
      "cell_type": "markdown",
      "metadata": {},
      "source": [
        "___"
      ]
    },
    {
      "cell_type": "markdown",
      "metadata": {},
      "source": [
        "    ➢ Conclusión:\n",
        "\n",
        "    Se pueden observar las palabras más repetidas dentro de la obra con más de 8 caracteres."
      ]
    },
    {
      "cell_type": "markdown",
      "metadata": {},
      "source": [
        "___"
      ]
    },
    {
      "cell_type": "markdown",
      "metadata": {},
      "source": [
        "    ➢ Con respecto a esta pregunta, pudimos notar 1 tipo de sesgo:\n",
        "\n",
        "    1) Sesgo de selección de datos: El sesgo podría surgir al solo analizar palabras a partir de cierta longitud de caracteres, y no el total de las palabras. Esto podría generar que se pierda información importante, como por ejemplo, palabras que no son conectores pero que son importantes para el análisis de la obra."
      ]
    }
  ],
  "metadata": {
    "colab": {
      "provenance": []
    },
    "kernelspec": {
      "display_name": "Python 3",
      "name": "python3"
    },
    "language_info": {
      "codemirror_mode": {
        "name": "ipython",
        "version": 3
      },
      "file_extension": ".py",
      "mimetype": "text/x-python",
      "name": "python",
      "nbconvert_exporter": "python",
      "pygments_lexer": "ipython3",
      "version": "3.11.4"
    }
  },
  "nbformat": 4,
  "nbformat_minor": 0
}
