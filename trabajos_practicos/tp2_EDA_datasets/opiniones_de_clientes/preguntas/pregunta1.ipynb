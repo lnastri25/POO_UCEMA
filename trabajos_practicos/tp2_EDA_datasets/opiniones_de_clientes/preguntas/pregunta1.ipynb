{
 "cells": [
  {
   "cell_type": "code",
   "execution_count": 1,
   "metadata": {},
   "outputs": [
    {
     "name": "stdout",
     "output_type": "stream",
     "text": [
      "Intel MKL WARNING: Support of Intel(R) Streaming SIMD Extensions 4.2 (Intel(R) SSE4.2) enabled only processors has been deprecated. Intel oneAPI Math Kernel Library 2025.0 will require Intel(R) Advanced Vector Extensions (Intel(R) AVX) instructions.\n",
      "Intel MKL WARNING: Support of Intel(R) Streaming SIMD Extensions 4.2 (Intel(R) SSE4.2) enabled only processors has been deprecated. Intel oneAPI Math Kernel Library 2025.0 will require Intel(R) Advanced Vector Extensions (Intel(R) AVX) instructions.\n"
     ]
    }
   ],
   "source": [
    "import pandas as pd\n",
    "import numpy as np\n",
    "import matplotlib.pyplot as plt"
   ]
  },
  {
   "cell_type": "code",
   "execution_count": 2,
   "metadata": {},
   "outputs": [
    {
     "data": {
      "text/html": [
       "<div>\n",
       "<style scoped>\n",
       "    .dataframe tbody tr th:only-of-type {\n",
       "        vertical-align: middle;\n",
       "    }\n",
       "\n",
       "    .dataframe tbody tr th {\n",
       "        vertical-align: top;\n",
       "    }\n",
       "\n",
       "    .dataframe thead th {\n",
       "        text-align: right;\n",
       "    }\n",
       "</style>\n",
       "<table border=\"1\" class=\"dataframe\">\n",
       "  <thead>\n",
       "    <tr style=\"text-align: right;\">\n",
       "      <th></th>\n",
       "      <th>Fecha de respuesta</th>\n",
       "      <th>Edad</th>\n",
       "      <th>Probabilidad de Recomendación</th>\n",
       "    </tr>\n",
       "  </thead>\n",
       "  <tbody>\n",
       "    <tr>\n",
       "      <th>0</th>\n",
       "      <td>6/30/19 23:09</td>\n",
       "      <td>43</td>\n",
       "      <td>10.0</td>\n",
       "    </tr>\n",
       "    <tr>\n",
       "      <th>1</th>\n",
       "      <td>6/30/19 22:56</td>\n",
       "      <td>75</td>\n",
       "      <td>10.0</td>\n",
       "    </tr>\n",
       "    <tr>\n",
       "      <th>2</th>\n",
       "      <td>6/30/19 22:52</td>\n",
       "      <td>23</td>\n",
       "      <td>10.0</td>\n",
       "    </tr>\n",
       "    <tr>\n",
       "      <th>3</th>\n",
       "      <td>6/30/19 22:33</td>\n",
       "      <td>71</td>\n",
       "      <td>10.0</td>\n",
       "    </tr>\n",
       "    <tr>\n",
       "      <th>4</th>\n",
       "      <td>6/30/19 22:25</td>\n",
       "      <td>64</td>\n",
       "      <td>9.0</td>\n",
       "    </tr>\n",
       "    <tr>\n",
       "      <th>...</th>\n",
       "      <td>...</td>\n",
       "      <td>...</td>\n",
       "      <td>...</td>\n",
       "    </tr>\n",
       "    <tr>\n",
       "      <th>35821</th>\n",
       "      <td>1/1/19 8:48</td>\n",
       "      <td>63</td>\n",
       "      <td>10.0</td>\n",
       "    </tr>\n",
       "    <tr>\n",
       "      <th>35822</th>\n",
       "      <td>1/1/19 3:40</td>\n",
       "      <td>35</td>\n",
       "      <td>4.0</td>\n",
       "    </tr>\n",
       "    <tr>\n",
       "      <th>35823</th>\n",
       "      <td>1/1/19 2:04</td>\n",
       "      <td>41</td>\n",
       "      <td>10.0</td>\n",
       "    </tr>\n",
       "    <tr>\n",
       "      <th>35824</th>\n",
       "      <td>1/1/19 1:07</td>\n",
       "      <td>66</td>\n",
       "      <td>10.0</td>\n",
       "    </tr>\n",
       "    <tr>\n",
       "      <th>35825</th>\n",
       "      <td>1/1/19 0:47</td>\n",
       "      <td>54</td>\n",
       "      <td>7.0</td>\n",
       "    </tr>\n",
       "  </tbody>\n",
       "</table>\n",
       "<p>35826 rows × 3 columns</p>\n",
       "</div>"
      ],
      "text/plain": [
       "      Fecha de respuesta Edad  Probabilidad de Recomendación\n",
       "0          6/30/19 23:09   43                           10.0\n",
       "1          6/30/19 22:56   75                           10.0\n",
       "2          6/30/19 22:52   23                           10.0\n",
       "3          6/30/19 22:33   71                           10.0\n",
       "4          6/30/19 22:25   64                            9.0\n",
       "...                  ...  ...                            ...\n",
       "35821        1/1/19 8:48   63                           10.0\n",
       "35822        1/1/19 3:40   35                            4.0\n",
       "35823        1/1/19 2:04   41                           10.0\n",
       "35824        1/1/19 1:07   66                           10.0\n",
       "35825        1/1/19 0:47   54                            7.0\n",
       "\n",
       "[35826 rows x 3 columns]"
      ]
     },
     "execution_count": 2,
     "metadata": {},
     "output_type": "execute_result"
    }
   ],
   "source": [
    "archivo_tsv = '/Users/lolonastri/Desktop/POO_UCEMA/trabajos_practicos/trabajo_practico_1/opiniones_de_clientes/para_borrar.tsv'\n",
    "\n",
    "opiniones1 = pd.read_csv(archivo_tsv, sep='\\t')\n",
    "opiniones1 = opiniones1.drop(columns = [\"Customer Value\", \"id\", \"¿Por que?\", \"Date of 1st Feedback Call\", \"Resultado del Primer contacto\", \"Descripción detallada del contacto\", \"Fuiste capaz de resolver el inconveniente?\", \"El cliente se encontró satisfecho con el resultado?\"])\n",
    "opiniones1"
   ]
  },
  {
   "cell_type": "markdown",
   "metadata": {},
   "source": [
    "___"
   ]
  },
  {
   "cell_type": "markdown",
   "metadata": {},
   "source": [
    "# 1) ¿Cuál es la probabilidad de que los servicios sean recomendados por los clientes con una calificación de 10 durante el 1er trimestre?"
   ]
  },
  {
   "cell_type": "code",
   "execution_count": 3,
   "metadata": {},
   "outputs": [],
   "source": [
    "fechas = opiniones1[\"Fecha de respuesta\"].value_counts()"
   ]
  },
  {
   "cell_type": "code",
   "execution_count": 4,
   "metadata": {},
   "outputs": [],
   "source": [
    "borrando_valores = fechas[~fechas.isin(['Agradeció el llamado y se mostró conforme.'])]"
   ]
  },
  {
   "cell_type": "code",
   "execution_count": 5,
   "metadata": {},
   "outputs": [
    {
     "data": {
      "text/plain": [
       "35825      1/1/19 0:47\n",
       "35824      1/1/19 1:07\n",
       "35823      1/1/19 2:04\n",
       "35822      1/1/19 3:40\n",
       "35821      1/1/19 8:48\n",
       "             ...      \n",
       "4        6/30/19 22:25\n",
       "3        6/30/19 22:33\n",
       "2        6/30/19 22:52\n",
       "1        6/30/19 22:56\n",
       "0        6/30/19 23:09\n",
       "Name: Fecha de respuesta, Length: 35826, dtype: object"
      ]
     },
     "execution_count": 5,
     "metadata": {},
     "output_type": "execute_result"
    }
   ],
   "source": [
    "opiniones1[\"Fecha de respuesta\"].sort_index(ascending=False)"
   ]
  },
  {
   "cell_type": "code",
   "execution_count": 6,
   "metadata": {},
   "outputs": [
    {
     "data": {
      "text/plain": [
       "Probabilidad de Recomendación\n",
       "10.0    0.450278\n",
       "9.0     0.188910\n",
       "8.0     0.163427\n",
       "7.0     0.062044\n",
       "0.0     0.038789\n",
       "5.0     0.032743\n",
       "6.0     0.021665\n",
       "1.0     0.011397\n",
       "4.0     0.010731\n",
       "3.0     0.010413\n",
       "2.0     0.009603\n",
       "Name: proportion, dtype: float64"
      ]
     },
     "execution_count": 6,
     "metadata": {},
     "output_type": "execute_result"
    }
   ],
   "source": [
    "opiniones1['Probabilidad de Recomendación'].value_counts(normalize=True)"
   ]
  },
  {
   "cell_type": "markdown",
   "metadata": {},
   "source": [
    "___"
   ]
  },
  {
   "cell_type": "markdown",
   "metadata": {},
   "source": [
    "# 1) ¿Cómo fue evolucionando el total de respuestas de los clientes por mes a lo largo del primer semestre?"
   ]
  },
  {
   "cell_type": "code",
   "execution_count": 7,
   "metadata": {},
   "outputs": [
    {
     "data": {
      "text/html": [
       "<div>\n",
       "<style scoped>\n",
       "    .dataframe tbody tr th:only-of-type {\n",
       "        vertical-align: middle;\n",
       "    }\n",
       "\n",
       "    .dataframe tbody tr th {\n",
       "        vertical-align: top;\n",
       "    }\n",
       "\n",
       "    .dataframe thead th {\n",
       "        text-align: right;\n",
       "    }\n",
       "</style>\n",
       "<table border=\"1\" class=\"dataframe\">\n",
       "  <thead>\n",
       "    <tr style=\"text-align: right;\">\n",
       "      <th></th>\n",
       "      <th>Fecha de respuesta</th>\n",
       "      <th>Edad</th>\n",
       "      <th>Probabilidad de Recomendación</th>\n",
       "    </tr>\n",
       "  </thead>\n",
       "  <tbody>\n",
       "    <tr>\n",
       "      <th>0</th>\n",
       "      <td>6/30/19 23:09</td>\n",
       "      <td>43</td>\n",
       "      <td>10.0</td>\n",
       "    </tr>\n",
       "    <tr>\n",
       "      <th>1</th>\n",
       "      <td>6/30/19 22:56</td>\n",
       "      <td>75</td>\n",
       "      <td>10.0</td>\n",
       "    </tr>\n",
       "    <tr>\n",
       "      <th>2</th>\n",
       "      <td>6/30/19 22:52</td>\n",
       "      <td>23</td>\n",
       "      <td>10.0</td>\n",
       "    </tr>\n",
       "    <tr>\n",
       "      <th>3</th>\n",
       "      <td>6/30/19 22:33</td>\n",
       "      <td>71</td>\n",
       "      <td>10.0</td>\n",
       "    </tr>\n",
       "    <tr>\n",
       "      <th>4</th>\n",
       "      <td>6/30/19 22:25</td>\n",
       "      <td>64</td>\n",
       "      <td>9.0</td>\n",
       "    </tr>\n",
       "    <tr>\n",
       "      <th>...</th>\n",
       "      <td>...</td>\n",
       "      <td>...</td>\n",
       "      <td>...</td>\n",
       "    </tr>\n",
       "    <tr>\n",
       "      <th>35821</th>\n",
       "      <td>1/1/19 8:48</td>\n",
       "      <td>63</td>\n",
       "      <td>10.0</td>\n",
       "    </tr>\n",
       "    <tr>\n",
       "      <th>35822</th>\n",
       "      <td>1/1/19 3:40</td>\n",
       "      <td>35</td>\n",
       "      <td>4.0</td>\n",
       "    </tr>\n",
       "    <tr>\n",
       "      <th>35823</th>\n",
       "      <td>1/1/19 2:04</td>\n",
       "      <td>41</td>\n",
       "      <td>10.0</td>\n",
       "    </tr>\n",
       "    <tr>\n",
       "      <th>35824</th>\n",
       "      <td>1/1/19 1:07</td>\n",
       "      <td>66</td>\n",
       "      <td>10.0</td>\n",
       "    </tr>\n",
       "    <tr>\n",
       "      <th>35825</th>\n",
       "      <td>1/1/19 0:47</td>\n",
       "      <td>54</td>\n",
       "      <td>7.0</td>\n",
       "    </tr>\n",
       "  </tbody>\n",
       "</table>\n",
       "<p>35826 rows × 3 columns</p>\n",
       "</div>"
      ],
      "text/plain": [
       "      Fecha de respuesta Edad  Probabilidad de Recomendación\n",
       "0          6/30/19 23:09   43                           10.0\n",
       "1          6/30/19 22:56   75                           10.0\n",
       "2          6/30/19 22:52   23                           10.0\n",
       "3          6/30/19 22:33   71                           10.0\n",
       "4          6/30/19 22:25   64                            9.0\n",
       "...                  ...  ...                            ...\n",
       "35821        1/1/19 8:48   63                           10.0\n",
       "35822        1/1/19 3:40   35                            4.0\n",
       "35823        1/1/19 2:04   41                           10.0\n",
       "35824        1/1/19 1:07   66                           10.0\n",
       "35825        1/1/19 0:47   54                            7.0\n",
       "\n",
       "[35826 rows x 3 columns]"
      ]
     },
     "execution_count": 7,
     "metadata": {},
     "output_type": "execute_result"
    }
   ],
   "source": [
    "opiniones1"
   ]
  },
  {
   "cell_type": "code",
   "execution_count": 8,
   "metadata": {},
   "outputs": [
    {
     "name": "stderr",
     "output_type": "stream",
     "text": [
      "/var/folders/xx/hcklcr8s0rxd7p5fz63z342w0000gn/T/ipykernel_16752/1375555446.py:3: UserWarning: Could not infer format, so each element will be parsed individually, falling back to `dateutil`. To ensure parsing is consistent and as-expected, please specify a format.\n",
      "  opiniones1[\"Fecha de respuesta\"] = pd.to_datetime(opiniones1[\"Fecha de respuesta\"], errors='coerce')\n"
     ]
    }
   ],
   "source": [
    "# Suponiendo que \"opiniones1\" es tu DataFrame original\n",
    "# Convierte la columna \"Fecha de respuesta\" a formato de fecha y hora, tratando los errores como valores nulos\n",
    "opiniones1[\"Fecha de respuesta\"] = pd.to_datetime(opiniones1[\"Fecha de respuesta\"], errors='coerce')\n",
    "\n",
    "# Filtra las filas con fechas válidas (diferentes de NaN)\n",
    "opiniones1 = opiniones1.dropna(subset=[\"Fecha de respuesta\"])\n",
    "\n",
    "# Ahora puedes continuar con el procesamiento de datos y gráficos sin preocuparte por valores de fecha no válidos.\n"
   ]
  },
  {
   "cell_type": "code",
   "execution_count": 9,
   "metadata": {},
   "outputs": [
    {
     "name": "stderr",
     "output_type": "stream",
     "text": [
      "/var/folders/xx/hcklcr8s0rxd7p5fz63z342w0000gn/T/ipykernel_16752/2168886138.py:3: SettingWithCopyWarning: \n",
      "A value is trying to be set on a copy of a slice from a DataFrame.\n",
      "Try using .loc[row_indexer,col_indexer] = value instead\n",
      "\n",
      "See the caveats in the documentation: https://pandas.pydata.org/pandas-docs/stable/user_guide/indexing.html#returning-a-view-versus-a-copy\n",
      "  opiniones1[\"Fecha de respuesta\"] = pd.to_datetime(opiniones1[\"Fecha de respuesta\"])\n"
     ]
    },
    {
     "data": {
      "image/png": "[encoded data removed]",
      "text/plain": [
       "<Figure size 1200x600 with 1 Axes>"
      ]
     },
     "metadata": {},
     "output_type": "display_data"
    }
   ],
   "source": [
    "# Suponiendo que \"opiniones1\" es tu DataFrame original\n",
    "# Convierte la columna \"Fecha de respuesta\" a formato de fecha y hora\n",
    "opiniones1[\"Fecha de respuesta\"] = pd.to_datetime(opiniones1[\"Fecha de respuesta\"])\n",
    "\n",
    "# Filtra los datos hasta junio\n",
    "datos_hasta_junio = opiniones1[opiniones1[\"Fecha de respuesta\"].dt.month <= 6]\n",
    "\n",
    "# Agrupa por mes y calcula el total de respuestas\n",
    "total_respuestas_por_mes = datos_hasta_junio.groupby(datos_hasta_junio[\"Fecha de respuesta\"].dt.strftime('%B'))[\"Probabilidad de Recomendación\"].count().reindex(['January', 'February', 'March', 'April', 'May', 'June'])\n",
    "\n",
    "# Calcular el promedio de respuestas entre enero y junio\n",
    "promedio_respuestas_enero_junio = total_respuestas_por_mes.mean()\n",
    "\n",
    "# Crear un gráfico de líneas para mostrar la evolución del \"Total de Respuestas\" a través del tiempo\n",
    "plt.figure(figsize=(12, 6))\n",
    "plt.plot(total_respuestas_por_mes.index, total_respuestas_por_mes, marker='s', color='#0c343d', linestyle='-', label=\"Total de Respuestas\")\n",
    "plt.xlabel(\"Mes\")\n",
    "plt.ylabel(\"Total de Respuestas\")\n",
    "plt.title(f\"Evolución del Total de Respuestas hasta Junio\")\n",
    "\n",
    "# Añadir etiquetas de valores un poco más arriba de cada punto\n",
    "for i, valor in enumerate(total_respuestas_por_mes):\n",
    "    plt.text(total_respuestas_por_mes.index[i], valor + 20, str(valor), ha=\"center\", va=\"bottom\")\n",
    "\n",
    "# Añadir el promedio de respuestas en la esquina superior derecha del gráfico (más arriba)\n",
    "plt.text(total_respuestas_por_mes.index[-1], promedio_respuestas_enero_junio + 1070, f\"Promedio Ene-Jun: {promedio_respuestas_enero_junio:.2f}\",\n",
    "         ha=\"right\", va=\"top\", bbox=dict(facecolor='white', edgecolor='black', boxstyle='round'))\n",
    "\n",
    "# Mover la leyenda \"Total de Respuestas\" un poco hacia la izquierda (ajusta los valores según tu preferencia)\n",
    "plt.legend(loc=\"upper right\", bbox_to_anchor=(0.955,0.95))\n",
    "\n",
    "plt.tight_layout()\n",
    "plt.xticks(rotation=45)\n",
    "plt.show()\n"
   ]
  },
  {
   "cell_type": "markdown",
   "metadata": {},
   "source": [
    "___"
   ]
  },
  {
   "cell_type": "markdown",
   "metadata": {},
   "source": [
    "    ➢ Conclusión:\n",
    "\n",
    "    Podemos inferir que la cantidad de respuestas de los clientes fue mucho más grande en el mes de Enero y Febrero por el hecho de que las personas estuvieron de vacaciones, por lo tanto tenían mucho más tiempo de ocio para responder la encuesta."
   ]
  },
  {
   "cell_type": "markdown",
   "metadata": {},
   "source": [
    "___"
   ]
  },
  {
   "cell_type": "markdown",
   "metadata": {},
   "source": [
    "    ➢ Con respecto a esta pregunta, pudimos notar 1 tipo de sesgo:\n",
    "\n",
    "    1) Sesgo de tamaño de la muestra: Si la muestra no es lo suficientemente grande o representativa de la base de clientes en su totalidad, los resultados pueden no reflejar con precisión la evolución real de las respuestas de los clientes."
   ]
  }
 ],
 "metadata": {
  "kernelspec": {
   "display_name": "POO-env",
   "language": "python",
   "name": "python3"
  },
  "language_info": {
   "codemirror_mode": {
    "name": "ipython",
    "version": 3
   },
   "file_extension": ".py",
   "mimetype": "text/x-python",
   "name": "python",
   "nbconvert_exporter": "python",
   "pygments_lexer": "ipython3",
   "version": "3.11.4"
  },
  "orig_nbformat": 4
 },
 "nbformat": 4,
 "nbformat_minor": 2
}
