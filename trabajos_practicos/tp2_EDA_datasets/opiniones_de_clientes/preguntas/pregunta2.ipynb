{
 "cells": [
  {
   "cell_type": "code",
   "execution_count": 178,
   "metadata": {},
   "outputs": [],
   "source": [
    "import pandas as pd\n",
    "import numpy as np\n",
    "import matplotlib.pyplot as plt\n",
    "from scipy.stats import norm"
   ]
  },
  {
   "cell_type": "code",
   "execution_count": 179,
   "metadata": {},
   "outputs": [
    {
     "data": {
      "text/html": [
       "<div>\n",
       "<style scoped>\n",
       "    .dataframe tbody tr th:only-of-type {\n",
       "        vertical-align: middle;\n",
       "    }\n",
       "\n",
       "    .dataframe tbody tr th {\n",
       "        vertical-align: top;\n",
       "    }\n",
       "\n",
       "    .dataframe thead th {\n",
       "        text-align: right;\n",
       "    }\n",
       "</style>\n",
       "<table border=\"1\" class=\"dataframe\">\n",
       "  <thead>\n",
       "    <tr style=\"text-align: right;\">\n",
       "      <th></th>\n",
       "      <th>Fecha de respuesta</th>\n",
       "      <th>Edad</th>\n",
       "      <th>El cliente se encontró satisfecho con el resultado?</th>\n",
       "    </tr>\n",
       "  </thead>\n",
       "  <tbody>\n",
       "    <tr>\n",
       "      <th>0</th>\n",
       "      <td>6/30/19 23:09</td>\n",
       "      <td>43</td>\n",
       "      <td>NaN</td>\n",
       "    </tr>\n",
       "    <tr>\n",
       "      <th>1</th>\n",
       "      <td>6/30/19 22:56</td>\n",
       "      <td>75</td>\n",
       "      <td>NaN</td>\n",
       "    </tr>\n",
       "    <tr>\n",
       "      <th>2</th>\n",
       "      <td>6/30/19 22:52</td>\n",
       "      <td>23</td>\n",
       "      <td>NaN</td>\n",
       "    </tr>\n",
       "    <tr>\n",
       "      <th>3</th>\n",
       "      <td>6/30/19 22:33</td>\n",
       "      <td>71</td>\n",
       "      <td>NaN</td>\n",
       "    </tr>\n",
       "    <tr>\n",
       "      <th>4</th>\n",
       "      <td>6/30/19 22:25</td>\n",
       "      <td>64</td>\n",
       "      <td>NaN</td>\n",
       "    </tr>\n",
       "    <tr>\n",
       "      <th>...</th>\n",
       "      <td>...</td>\n",
       "      <td>...</td>\n",
       "      <td>...</td>\n",
       "    </tr>\n",
       "    <tr>\n",
       "      <th>35821</th>\n",
       "      <td>1/1/19 8:48</td>\n",
       "      <td>63</td>\n",
       "      <td>NaN</td>\n",
       "    </tr>\n",
       "    <tr>\n",
       "      <th>35822</th>\n",
       "      <td>1/1/19 3:40</td>\n",
       "      <td>35</td>\n",
       "      <td>No</td>\n",
       "    </tr>\n",
       "    <tr>\n",
       "      <th>35823</th>\n",
       "      <td>1/1/19 2:04</td>\n",
       "      <td>41</td>\n",
       "      <td>NaN</td>\n",
       "    </tr>\n",
       "    <tr>\n",
       "      <th>35824</th>\n",
       "      <td>1/1/19 1:07</td>\n",
       "      <td>66</td>\n",
       "      <td>NaN</td>\n",
       "    </tr>\n",
       "    <tr>\n",
       "      <th>35825</th>\n",
       "      <td>1/1/19 0:47</td>\n",
       "      <td>54</td>\n",
       "      <td>NaN</td>\n",
       "    </tr>\n",
       "  </tbody>\n",
       "</table>\n",
       "<p>35826 rows × 3 columns</p>\n",
       "</div>"
      ],
      "text/plain": [
       "      Fecha de respuesta Edad  \\\n",
       "0          6/30/19 23:09   43   \n",
       "1          6/30/19 22:56   75   \n",
       "2          6/30/19 22:52   23   \n",
       "3          6/30/19 22:33   71   \n",
       "4          6/30/19 22:25   64   \n",
       "...                  ...  ...   \n",
       "35821        1/1/19 8:48   63   \n",
       "35822        1/1/19 3:40   35   \n",
       "35823        1/1/19 2:04   41   \n",
       "35824        1/1/19 1:07   66   \n",
       "35825        1/1/19 0:47   54   \n",
       "\n",
       "      El cliente se encontró satisfecho con el resultado?  \n",
       "0                                                    NaN   \n",
       "1                                                    NaN   \n",
       "2                                                    NaN   \n",
       "3                                                    NaN   \n",
       "4                                                    NaN   \n",
       "...                                                  ...   \n",
       "35821                                                NaN   \n",
       "35822                                                 No   \n",
       "35823                                                NaN   \n",
       "35824                                                NaN   \n",
       "35825                                                NaN   \n",
       "\n",
       "[35826 rows x 3 columns]"
      ]
     },
     "execution_count": 179,
     "metadata": {},
     "output_type": "execute_result"
    }
   ],
   "source": [
    "archivo_tsv = '/Users/lolonastri/Desktop/POO_UCEMA/trabajos_practicos/trabajo_practico_1/opiniones_de_clientes/para_borrar.tsv'\n",
    "\n",
    "opiniones2 = pd.read_csv(archivo_tsv, sep='\\t')\n",
    "opiniones2 = opiniones2.drop(columns = [\"Customer Value\", \"id\", \"¿Por que?\", \"Date of 1st Feedback Call\", \"Resultado del Primer contacto\", \"Descripción detallada del contacto\", \"Fuiste capaz de resolver el inconveniente?\", \"Probabilidad de Recomendación\"])\n",
    "opiniones2"
   ]
  },
  {
   "cell_type": "markdown",
   "metadata": {},
   "source": [
    "___"
   ]
  },
  {
   "cell_type": "markdown",
   "metadata": {},
   "source": [
    "# 2) ¿Cuál es la de edad en dónde la cantidad de clientes que dijeron que 'Sí' quedaron satisfechos con el resultado es mayor?"
   ]
  },
  {
   "cell_type": "code",
   "execution_count": 180,
   "metadata": {},
   "outputs": [
    {
     "data": {
      "text/html": [
       "<div>\n",
       "<style scoped>\n",
       "    .dataframe tbody tr th:only-of-type {\n",
       "        vertical-align: middle;\n",
       "    }\n",
       "\n",
       "    .dataframe tbody tr th {\n",
       "        vertical-align: top;\n",
       "    }\n",
       "\n",
       "    .dataframe thead th {\n",
       "        text-align: right;\n",
       "    }\n",
       "</style>\n",
       "<table border=\"1\" class=\"dataframe\">\n",
       "  <thead>\n",
       "    <tr style=\"text-align: right;\">\n",
       "      <th></th>\n",
       "      <th>Fecha de respuesta</th>\n",
       "      <th>Edad</th>\n",
       "      <th>El cliente se encontró satisfecho con el resultado?</th>\n",
       "    </tr>\n",
       "  </thead>\n",
       "  <tbody>\n",
       "    <tr>\n",
       "      <th>5</th>\n",
       "      <td>6/30/19 21:19</td>\n",
       "      <td>56</td>\n",
       "      <td>Sí</td>\n",
       "    </tr>\n",
       "    <tr>\n",
       "      <th>6</th>\n",
       "      <td>6/30/19 20:53</td>\n",
       "      <td>33</td>\n",
       "      <td>Sí</td>\n",
       "    </tr>\n",
       "    <tr>\n",
       "      <th>9</th>\n",
       "      <td>6/30/19 19:54</td>\n",
       "      <td>50</td>\n",
       "      <td>Sí</td>\n",
       "    </tr>\n",
       "    <tr>\n",
       "      <th>16</th>\n",
       "      <td>6/30/19 14:47</td>\n",
       "      <td>52</td>\n",
       "      <td>Sí</td>\n",
       "    </tr>\n",
       "    <tr>\n",
       "      <th>38</th>\n",
       "      <td>6/29/19 20:15</td>\n",
       "      <td>44</td>\n",
       "      <td>Sí</td>\n",
       "    </tr>\n",
       "    <tr>\n",
       "      <th>...</th>\n",
       "      <td>...</td>\n",
       "      <td>...</td>\n",
       "      <td>...</td>\n",
       "    </tr>\n",
       "    <tr>\n",
       "      <th>35657</th>\n",
       "      <td>1/3/19 10:42</td>\n",
       "      <td>36</td>\n",
       "      <td>Sí</td>\n",
       "    </tr>\n",
       "    <tr>\n",
       "      <th>35673</th>\n",
       "      <td>1/3/19 10:37</td>\n",
       "      <td>33</td>\n",
       "      <td>Sí</td>\n",
       "    </tr>\n",
       "    <tr>\n",
       "      <th>35689</th>\n",
       "      <td>1/2/19 23:09</td>\n",
       "      <td>39</td>\n",
       "      <td>Sí</td>\n",
       "    </tr>\n",
       "    <tr>\n",
       "      <th>35728</th>\n",
       "      <td>1/2/19 14:04</td>\n",
       "      <td>65</td>\n",
       "      <td>Sí</td>\n",
       "    </tr>\n",
       "    <tr>\n",
       "      <th>35768</th>\n",
       "      <td>1/2/19 10:04</td>\n",
       "      <td>47</td>\n",
       "      <td>Sí</td>\n",
       "    </tr>\n",
       "  </tbody>\n",
       "</table>\n",
       "<p>1892 rows × 3 columns</p>\n",
       "</div>"
      ],
      "text/plain": [
       "      Fecha de respuesta Edad  \\\n",
       "5          6/30/19 21:19   56   \n",
       "6          6/30/19 20:53   33   \n",
       "9          6/30/19 19:54   50   \n",
       "16         6/30/19 14:47   52   \n",
       "38         6/29/19 20:15   44   \n",
       "...                  ...  ...   \n",
       "35657       1/3/19 10:42   36   \n",
       "35673       1/3/19 10:37   33   \n",
       "35689       1/2/19 23:09   39   \n",
       "35728       1/2/19 14:04   65   \n",
       "35768       1/2/19 10:04   47   \n",
       "\n",
       "      El cliente se encontró satisfecho con el resultado?  \n",
       "5                                                     Sí   \n",
       "6                                                     Sí   \n",
       "9                                                     Sí   \n",
       "16                                                    Sí   \n",
       "38                                                    Sí   \n",
       "...                                                  ...   \n",
       "35657                                                 Sí   \n",
       "35673                                                 Sí   \n",
       "35689                                                 Sí   \n",
       "35728                                                 Sí   \n",
       "35768                                                 Sí   \n",
       "\n",
       "[1892 rows x 3 columns]"
      ]
     },
     "execution_count": 180,
     "metadata": {},
     "output_type": "execute_result"
    }
   ],
   "source": [
    "clientes_satisfechos = opiniones2[opiniones2['El cliente se encontró satisfecho con el resultado?'] == 'Sí']\n",
    "clientes_satisfechos"
   ]
  },
  {
   "cell_type": "code",
   "execution_count": 181,
   "metadata": {},
   "outputs": [
    {
     "data": {
      "text/plain": [
       "0    39\n",
       "Name: Edad, dtype: object"
      ]
     },
     "execution_count": 181,
     "metadata": {},
     "output_type": "execute_result"
    }
   ],
   "source": [
    "moda_edad = clientes_satisfechos['Edad'].mode()\n",
    "moda_edad"
   ]
  },
  {
   "cell_type": "code",
   "execution_count": 182,
   "metadata": {},
   "outputs": [
    {
     "data": {
      "text/plain": [
       "61"
      ]
     },
     "execution_count": 182,
     "metadata": {},
     "output_type": "execute_result"
    }
   ],
   "source": [
    "cantidad_moda = clientes_satisfechos[clientes_satisfechos['Edad'] == moda_edad.iloc[0]]['Edad'].count()\n",
    "cantidad_moda"
   ]
  },
  {
   "cell_type": "code",
   "execution_count": 183,
   "metadata": {},
   "outputs": [
    {
     "data": {
      "image/png": "[encoded data removed]",
      "text/plain": [
       "<Figure size 2000x600 with 1 Axes>"
      ]
     },
     "metadata": {},
     "output_type": "display_data"
    }
   ],
   "source": [
    "import pandas as pd\n",
    "import matplotlib.pyplot as plt\n",
    "\n",
    "# Suponiendo que \"opiniones2\" es tu DataFrame original\n",
    "# Filtra los clientes que dijeron 'Sí'\n",
    "clientes_satisfechos = opiniones2[opiniones2[\"El cliente se encontró satisfecho con el resultado?\"] == 'Sí']\n",
    "\n",
    "# Cuenta la cantidad de clientes satisfechos por edad\n",
    "clientes_satisfechos_por_edad = clientes_satisfechos.groupby(\"Edad\")[\"El cliente se encontró satisfecho con el resultado?\"].count()\n",
    "\n",
    "# Encuentra la edad con la mayor cantidad de clientes satisfechos\n",
    "edad_max_satisfechos = clientes_satisfechos_por_edad.idxmax()\n",
    "max_satisfechos = clientes_satisfechos_por_edad.max()\n",
    "\n",
    "# Filtra las edades entre 20 y 80 (convirtiéndolas a enteros)\n",
    "clientes_satisfechos_por_edad_filtrado = clientes_satisfechos_por_edad[(clientes_satisfechos_por_edad.index.astype(int) >= 20) & (clientes_satisfechos_por_edad.index.astype(int) <= 80)]\n",
    "\n",
    "# Crea un gráfico de barras para mostrar la cantidad de clientes satisfechos por edad (filtrado)\n",
    "plt.figure(figsize=(20, 6))\n",
    "plt.bar(clientes_satisfechos_por_edad_filtrado.index, clientes_satisfechos_por_edad_filtrado, color='skyblue', edgecolor='black', alpha=0.7, linewidth=1.5)\n",
    "plt.xlabel(\"Edad\")\n",
    "plt.ylabel(\"Cantidad de Clientes Satisfechos\")\n",
    "plt.title(\"Cantidad de Clientes Satisfechos por Edad (Edades entre 20 y 80)\")\n",
    "plt.axvline(x=edad_max_satisfechos, color='#0c343d', linestyle='--', label=f\"Edad con más clientes satisfechos: {edad_max_satisfechos} ({max_satisfechos})\")\n",
    "plt.legend()\n",
    "plt.show()\n"
   ]
  },
  {
   "cell_type": "markdown",
   "metadata": {},
   "source": [
    "___"
   ]
  },
  {
   "cell_type": "markdown",
   "metadata": {},
   "source": [
    "    ➢ Conclusión:\n",
    "\n",
    "    Como se puede observar en el gráfico, La edad en la que más gente quedó con la cuesta es de 39 años, con 61 clientes"
   ]
  },
  {
   "cell_type": "markdown",
   "metadata": {},
   "source": [
    "___"
   ]
  },
  {
   "cell_type": "markdown",
   "metadata": {},
   "source": [
    "    ➢ Con respecto a esta pregunta, pudimos notar 1 tipo de sesgo:\n",
    "\n",
    "    1) Sesgo de respuesta: Solo se incluyen respuestas 'Sí', lo que puede sesgar la percepción general de satisfacción si no se incluyen respuestas 'No' u otras opciones."
   ]
  }
 ],
 "metadata": {
  "kernelspec": {
   "display_name": "POO-env",
   "language": "python",
   "name": "python3"
  },
  "language_info": {
   "codemirror_mode": {
    "name": "ipython",
    "version": 3
   },
   "file_extension": ".py",
   "mimetype": "text/x-python",
   "name": "python",
   "nbconvert_exporter": "python",
   "pygments_lexer": "ipython3",
   "version": "3.11.4"
  },
  "orig_nbformat": 4
 },
 "nbformat": 4,
 "nbformat_minor": 2
}
