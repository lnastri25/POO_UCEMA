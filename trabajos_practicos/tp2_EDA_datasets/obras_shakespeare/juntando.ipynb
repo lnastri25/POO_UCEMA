{
 "cells": [
  {
   "cell_type": "code",
   "execution_count": 106,
   "metadata": {},
   "outputs": [],
   "source": [
    "import pandas as pd\n",
    "import os\n",
    "import matplotlib.pyplot as plt"
   ]
  },
  {
   "cell_type": "code",
   "execution_count": 107,
   "metadata": {},
   "outputs": [],
   "source": [
    "lista_frames = []\n",
    "path = 'ventas_comercial'\n",
    "files = [file for file in os.listdir('/Users/lolonastri/Desktop/POO_UCEMA/trabajos_practicos/trabajo_practico_1/obras_shakespeare/ventas_comercial')]\n",
    "for f in files:\n",
    "  df_temp = pd.read_csv(path + '/' + f)\n",
    "  lista_frames.append(df_temp)"
   ]
  },
  {
   "cell_type": "code",
   "execution_count": 108,
   "metadata": {},
   "outputs": [
    {
     "data": {
      "text/html": [
       "<div>\n",
       "<style scoped>\n",
       "    .dataframe tbody tr th:only-of-type {\n",
       "        vertical-align: middle;\n",
       "    }\n",
       "\n",
       "    .dataframe tbody tr th {\n",
       "        vertical-align: top;\n",
       "    }\n",
       "\n",
       "    .dataframe thead th {\n",
       "        text-align: right;\n",
       "    }\n",
       "</style>\n",
       "<table border=\"1\" class=\"dataframe\">\n",
       "  <thead>\n",
       "    <tr style=\"text-align: right;\">\n",
       "      <th></th>\n",
       "      <th>Unnamed: 0</th>\n",
       "      <th>Dataline</th>\n",
       "      <th>Play</th>\n",
       "      <th>PlayerLinenumber</th>\n",
       "      <th>ActSceneLine</th>\n",
       "      <th>Player</th>\n",
       "      <th>PlayerLine</th>\n",
       "    </tr>\n",
       "  </thead>\n",
       "  <tbody>\n",
       "    <tr>\n",
       "      <th>0</th>\n",
       "      <td>43490</td>\n",
       "      <td>43491</td>\n",
       "      <td>King John</td>\n",
       "      <td>11.0</td>\n",
       "      <td>5.5.97</td>\n",
       "      <td>KING HENRY VIII</td>\n",
       "      <td>ACT I</td>\n",
       "    </tr>\n",
       "    <tr>\n",
       "      <th>1</th>\n",
       "      <td>43491</td>\n",
       "      <td>43492</td>\n",
       "      <td>King John</td>\n",
       "      <td>11.0</td>\n",
       "      <td>5.5.97</td>\n",
       "      <td>KING HENRY VIII</td>\n",
       "      <td>SCENE I. KING JOHN'S palace.</td>\n",
       "    </tr>\n",
       "    <tr>\n",
       "      <th>2</th>\n",
       "      <td>43492</td>\n",
       "      <td>43493</td>\n",
       "      <td>King John</td>\n",
       "      <td>11.0</td>\n",
       "      <td>NaN</td>\n",
       "      <td>KING HENRY VIII</td>\n",
       "      <td>Enter KING JOHN, QUEEN ELINOR, PEMBROKE, ESSEX...</td>\n",
       "    </tr>\n",
       "    <tr>\n",
       "      <th>3</th>\n",
       "      <td>43493</td>\n",
       "      <td>43494</td>\n",
       "      <td>King John</td>\n",
       "      <td>1.0</td>\n",
       "      <td>1.1.1</td>\n",
       "      <td>KING JOHN</td>\n",
       "      <td>Now, say, Chatillon, what would France with us?</td>\n",
       "    </tr>\n",
       "    <tr>\n",
       "      <th>4</th>\n",
       "      <td>43494</td>\n",
       "      <td>43495</td>\n",
       "      <td>King John</td>\n",
       "      <td>2.0</td>\n",
       "      <td>1.1.2</td>\n",
       "      <td>CHATILLON</td>\n",
       "      <td>Thus, after greeting, speaks the King of France</td>\n",
       "    </tr>\n",
       "    <tr>\n",
       "      <th>...</th>\n",
       "      <td>...</td>\n",
       "      <td>...</td>\n",
       "      <td>...</td>\n",
       "      <td>...</td>\n",
       "      <td>...</td>\n",
       "      <td>...</td>\n",
       "      <td>...</td>\n",
       "    </tr>\n",
       "    <tr>\n",
       "      <th>2826</th>\n",
       "      <td>66991</td>\n",
       "      <td>66992</td>\n",
       "      <td>Merry Wives of Windsor</td>\n",
       "      <td>74.0</td>\n",
       "      <td>5.5.232</td>\n",
       "      <td>MISTRESS PAGE</td>\n",
       "      <td>Sir John and all.</td>\n",
       "    </tr>\n",
       "    <tr>\n",
       "      <th>2827</th>\n",
       "      <td>66992</td>\n",
       "      <td>66993</td>\n",
       "      <td>Merry Wives of Windsor</td>\n",
       "      <td>75.0</td>\n",
       "      <td>5.5.233</td>\n",
       "      <td>FORD</td>\n",
       "      <td>Let it be so. Sir John,</td>\n",
       "    </tr>\n",
       "    <tr>\n",
       "      <th>2828</th>\n",
       "      <td>66993</td>\n",
       "      <td>66994</td>\n",
       "      <td>Merry Wives of Windsor</td>\n",
       "      <td>75.0</td>\n",
       "      <td>5.5.234</td>\n",
       "      <td>FORD</td>\n",
       "      <td>To Master Brook you yet shall hold your word</td>\n",
       "    </tr>\n",
       "    <tr>\n",
       "      <th>2829</th>\n",
       "      <td>66994</td>\n",
       "      <td>66995</td>\n",
       "      <td>Merry Wives of Windsor</td>\n",
       "      <td>75.0</td>\n",
       "      <td>5.5.235</td>\n",
       "      <td>FORD</td>\n",
       "      <td>For he tonight shall lie with Mistress Ford.</td>\n",
       "    </tr>\n",
       "    <tr>\n",
       "      <th>2830</th>\n",
       "      <td>66995</td>\n",
       "      <td>66996</td>\n",
       "      <td>Merry Wives of Windsor</td>\n",
       "      <td>75.0</td>\n",
       "      <td>NaN</td>\n",
       "      <td>FORD</td>\n",
       "      <td>Exeunt</td>\n",
       "    </tr>\n",
       "  </tbody>\n",
       "</table>\n",
       "<p>111396 rows × 7 columns</p>\n",
       "</div>"
      ],
      "text/plain": [
       "      Unnamed: 0  Dataline                    Play  PlayerLinenumber  \\\n",
       "0          43490     43491               King John              11.0   \n",
       "1          43491     43492               King John              11.0   \n",
       "2          43492     43493               King John              11.0   \n",
       "3          43493     43494               King John               1.0   \n",
       "4          43494     43495               King John               2.0   \n",
       "...          ...       ...                     ...               ...   \n",
       "2826       66991     66992  Merry Wives of Windsor              74.0   \n",
       "2827       66992     66993  Merry Wives of Windsor              75.0   \n",
       "2828       66993     66994  Merry Wives of Windsor              75.0   \n",
       "2829       66994     66995  Merry Wives of Windsor              75.0   \n",
       "2830       66995     66996  Merry Wives of Windsor              75.0   \n",
       "\n",
       "     ActSceneLine           Player  \\\n",
       "0          5.5.97  KING HENRY VIII   \n",
       "1          5.5.97  KING HENRY VIII   \n",
       "2             NaN  KING HENRY VIII   \n",
       "3           1.1.1        KING JOHN   \n",
       "4           1.1.2        CHATILLON   \n",
       "...           ...              ...   \n",
       "2826      5.5.232    MISTRESS PAGE   \n",
       "2827      5.5.233             FORD   \n",
       "2828      5.5.234             FORD   \n",
       "2829      5.5.235             FORD   \n",
       "2830          NaN             FORD   \n",
       "\n",
       "                                             PlayerLine  \n",
       "0                                                 ACT I  \n",
       "1                          SCENE I. KING JOHN'S palace.  \n",
       "2     Enter KING JOHN, QUEEN ELINOR, PEMBROKE, ESSEX...  \n",
       "3       Now, say, Chatillon, what would France with us?  \n",
       "4       Thus, after greeting, speaks the King of France  \n",
       "...                                                 ...  \n",
       "2826                                  Sir John and all.  \n",
       "2827                            Let it be so. Sir John,  \n",
       "2828       To Master Brook you yet shall hold your word  \n",
       "2829       For he tonight shall lie with Mistress Ford.  \n",
       "2830                                             Exeunt  \n",
       "\n",
       "[111396 rows x 7 columns]"
      ]
     },
     "execution_count": 108,
     "metadata": {},
     "output_type": "execute_result"
    }
   ],
   "source": [
    "df_shakespeare = pd.concat(lista_frames)\n",
    "df_shakespeare"
   ]
  },
  {
   "cell_type": "code",
   "execution_count": 109,
   "metadata": {},
   "outputs": [
    {
     "name": "stdout",
     "output_type": "stream",
     "text": [
      "Cantidad de variables: 7\n"
     ]
    }
   ],
   "source": [
    "# Cantidad de variables\n",
    "print(\"Cantidad de variables:\", len(df_shakespeare.columns))"
   ]
  },
  {
   "cell_type": "code",
   "execution_count": 110,
   "metadata": {},
   "outputs": [
    {
     "name": "stdout",
     "output_type": "stream",
     "text": [
      "Cantidad de tipos de obras: 36\n"
     ]
    }
   ],
   "source": [
    "# Contar los diferentes tipos de obras\n",
    "print(\"Cantidad de tipos de obras:\", df_shakespeare[\"Play\"].nunique())"
   ]
  },
  {
   "cell_type": "code",
   "execution_count": 111,
   "metadata": {},
   "outputs": [
    {
     "data": {
      "text/plain": [
       "Play\n",
       "Hamlet                      4244\n",
       "Coriolanus                  3992\n",
       "Cymbeline                   3958\n",
       "Richard III                 3941\n",
       "Antony and Cleopatra        3862\n",
       "King Lear                   3766\n",
       "Othello                     3762\n",
       "Troilus and Cressida        3711\n",
       "A Winters Tale              3489\n",
       "Henry VIII                  3419\n",
       "Henry V                     3395\n",
       "Henry VI Part 2             3334\n",
       "Romeo and Juliet            3313\n",
       "Henry IV                    3205\n",
       "Henry VI Part 3             3138\n",
       "Alls well that ends well    3083\n",
       "Measure for measure         2998\n",
       "Loves Labours Lost          2986\n",
       "Henry VI Part 1             2983\n",
       "Richard II                  2937\n",
       "Merry Wives of Windsor      2831\n",
       "As you like it              2822\n",
       "Taming of the Shrew         2806\n",
       "Merchant of Venice          2802\n",
       "Julius Caesar               2771\n",
       "King John                   2766\n",
       "Titus Andronicus            2726\n",
       "Much Ado about nothing      2704\n",
       "Timon of Athens             2662\n",
       "Twelfth Night               2648\n",
       "Pericles                    2641\n",
       "macbeth                     2586\n",
       "The Tempest                 2403\n",
       "Two Gentlemen of Verona     2357\n",
       "A Midsummer nights dream    2300\n",
       "A Comedy of Errors          2055\n",
       "Name: count, dtype: int64"
      ]
     },
     "execution_count": 111,
     "metadata": {},
     "output_type": "execute_result"
    }
   ],
   "source": [
    "df_shakespeare[\"Play\"].value_counts()"
   ]
  },
  {
   "cell_type": "code",
   "execution_count": 112,
   "metadata": {},
   "outputs": [
    {
     "data": {
      "text/plain": [
       "Index(['Unnamed: 0', 'Dataline', 'Play', 'PlayerLinenumber', 'ActSceneLine',\n",
       "       'Player', 'PlayerLine'],\n",
       "      dtype='object')"
      ]
     },
     "execution_count": 112,
     "metadata": {},
     "output_type": "execute_result"
    }
   ],
   "source": [
    "df_shakespeare.columns"
   ]
  },
  {
   "cell_type": "code",
   "execution_count": 113,
   "metadata": {},
   "outputs": [
    {
     "data": {
      "image/png": "[encoded data removed]",
      "text/plain": [
       "<Figure size 1200x600 with 1 Axes>"
      ]
     },
     "metadata": {},
     "output_type": "display_data"
    }
   ],
   "source": [
    "frecuencia_personajes = df_shakespeare['Player'].value_counts().head(10)\n",
    "plt.figure(figsize=(12, 6)) \n",
    "frecuencia_personajes.plot(kind='bar', color='#0c343d', edgecolor='black' )\n",
    "plt.xlabel('Personaje')\n",
    "plt.ylabel('Número de líneas de diálogo')\n",
    "plt.title('Personajes más frecuentes')\n",
    "plt.xticks(rotation=45)\n",
    "plt.show()"
   ]
  },
  {
   "cell_type": "markdown",
   "metadata": {},
   "source": [
    "___"
   ]
  },
  {
   "cell_type": "markdown",
   "metadata": {},
   "source": [
    "# 1) ¿De las obras de HENRY, cuáles son los actores con más líneas en las obras?"
   ]
  },
  {
   "cell_type": "code",
   "execution_count": 114,
   "metadata": {},
   "outputs": [],
   "source": [
    "filtro_henry = df_shakespeare['Play'].str.contains('Henry')\n",
    "obras_de_henry = df_shakespeare[filtro_henry]"
   ]
  },
  {
   "cell_type": "code",
   "execution_count": 115,
   "metadata": {},
   "outputs": [
    {
     "data": {
      "text/plain": [
       "Player\n",
       "FALSTAFF           36414.0\n",
       "KING HENRY V       32902.0\n",
       "PRINCE HENRY       31413.0\n",
       "CARDINAL WOLSEY    24039.0\n",
       "GLOUCESTER         21694.0\n",
       "Name: PlayerLinenumber, dtype: float64"
      ]
     },
     "execution_count": 115,
     "metadata": {},
     "output_type": "execute_result"
    }
   ],
   "source": [
    "agrupadas = obras_de_henry.groupby('Player')['PlayerLinenumber'].sum()\n",
    "ordenadas_y_agrupadas = agrupadas.sort_values(ascending=False).head()\n",
    "ordenadas_y_agrupadas"
   ]
  },
  {
   "cell_type": "code",
   "execution_count": 116,
   "metadata": {},
   "outputs": [
    {
     "data": {
      "text/html": [
       "<div>\n",
       "<style scoped>\n",
       "    .dataframe tbody tr th:only-of-type {\n",
       "        vertical-align: middle;\n",
       "    }\n",
       "\n",
       "    .dataframe tbody tr th {\n",
       "        vertical-align: top;\n",
       "    }\n",
       "\n",
       "    .dataframe thead th {\n",
       "        text-align: right;\n",
       "    }\n",
       "</style>\n",
       "<table border=\"1\" class=\"dataframe\">\n",
       "  <thead>\n",
       "    <tr style=\"text-align: right;\">\n",
       "      <th></th>\n",
       "      <th>Personaje</th>\n",
       "      <th>Total de líneas por actor</th>\n",
       "    </tr>\n",
       "  </thead>\n",
       "  <tbody>\n",
       "    <tr>\n",
       "      <th>0</th>\n",
       "      <td>FALSTAFF</td>\n",
       "      <td>36414.0</td>\n",
       "    </tr>\n",
       "    <tr>\n",
       "      <th>1</th>\n",
       "      <td>KING HENRY V</td>\n",
       "      <td>32902.0</td>\n",
       "    </tr>\n",
       "    <tr>\n",
       "      <th>2</th>\n",
       "      <td>PRINCE HENRY</td>\n",
       "      <td>31413.0</td>\n",
       "    </tr>\n",
       "    <tr>\n",
       "      <th>3</th>\n",
       "      <td>CARDINAL WOLSEY</td>\n",
       "      <td>24039.0</td>\n",
       "    </tr>\n",
       "    <tr>\n",
       "      <th>4</th>\n",
       "      <td>GLOUCESTER</td>\n",
       "      <td>21694.0</td>\n",
       "    </tr>\n",
       "  </tbody>\n",
       "</table>\n",
       "</div>"
      ],
      "text/plain": [
       "         Personaje  Total de líneas por actor\n",
       "0         FALSTAFF                    36414.0\n",
       "1     KING HENRY V                    32902.0\n",
       "2     PRINCE HENRY                    31413.0\n",
       "3  CARDINAL WOLSEY                    24039.0\n",
       "4       GLOUCESTER                    21694.0"
      ]
     },
     "execution_count": 116,
     "metadata": {},
     "output_type": "execute_result"
    }
   ],
   "source": [
    "agrupadas = obras_de_henry.groupby('Player')['PlayerLinenumber'].sum()\n",
    "ordenadas_y_agrupadas = agrupadas.sort_values(ascending=False).head()\n",
    "\n",
    "resultado_df = pd.DataFrame({'Personaje': ordenadas_y_agrupadas.index, 'Total de líneas por actor': ordenadas_y_agrupadas.values})\n",
    "resultado_df"
   ]
  },
  {
   "cell_type": "code",
   "execution_count": 117,
   "metadata": {},
   "outputs": [
    {
     "data": {
      "text/plain": [
       "Player\n",
       "Ostler             2.0\n",
       "Servants           2.0\n",
       "First Messenger    2.0\n",
       "First Murder       3.0\n",
       "Garter             4.0\n",
       "Name: PlayerLinenumber, dtype: float64"
      ]
     },
     "execution_count": 117,
     "metadata": {},
     "output_type": "execute_result"
    }
   ],
   "source": [
    "agrupadas = obras_de_henry.groupby('Player')['PlayerLinenumber'].sum()\n",
    "ordenadas_y_agrupadas = agrupadas.sort_values().head()\n",
    "ordenadas_y_agrupadas"
   ]
  },
  {
   "cell_type": "code",
   "execution_count": 118,
   "metadata": {},
   "outputs": [
    {
     "data": {
      "text/html": [
       "<div>\n",
       "<style scoped>\n",
       "    .dataframe tbody tr th:only-of-type {\n",
       "        vertical-align: middle;\n",
       "    }\n",
       "\n",
       "    .dataframe tbody tr th {\n",
       "        vertical-align: top;\n",
       "    }\n",
       "\n",
       "    .dataframe thead th {\n",
       "        text-align: right;\n",
       "    }\n",
       "</style>\n",
       "<table border=\"1\" class=\"dataframe\">\n",
       "  <thead>\n",
       "    <tr style=\"text-align: right;\">\n",
       "      <th></th>\n",
       "      <th>Personaje</th>\n",
       "      <th>Total de líneas por actor</th>\n",
       "    </tr>\n",
       "  </thead>\n",
       "  <tbody>\n",
       "    <tr>\n",
       "      <th>0</th>\n",
       "      <td>Ostler</td>\n",
       "      <td>2.0</td>\n",
       "    </tr>\n",
       "    <tr>\n",
       "      <th>1</th>\n",
       "      <td>Servants</td>\n",
       "      <td>2.0</td>\n",
       "    </tr>\n",
       "    <tr>\n",
       "      <th>2</th>\n",
       "      <td>First Messenger</td>\n",
       "      <td>2.0</td>\n",
       "    </tr>\n",
       "    <tr>\n",
       "      <th>3</th>\n",
       "      <td>First Murder</td>\n",
       "      <td>3.0</td>\n",
       "    </tr>\n",
       "    <tr>\n",
       "      <th>4</th>\n",
       "      <td>Garter</td>\n",
       "      <td>4.0</td>\n",
       "    </tr>\n",
       "  </tbody>\n",
       "</table>\n",
       "</div>"
      ],
      "text/plain": [
       "         Personaje  Total de líneas por actor\n",
       "0           Ostler                        2.0\n",
       "1         Servants                        2.0\n",
       "2  First Messenger                        2.0\n",
       "3     First Murder                        3.0\n",
       "4           Garter                        4.0"
      ]
     },
     "execution_count": 118,
     "metadata": {},
     "output_type": "execute_result"
    }
   ],
   "source": [
    "agrupadas = obras_de_henry.groupby('Player')['PlayerLinenumber'].sum()\n",
    "ordenadas_y_agrupadas2 = agrupadas.sort_values().head()\n",
    "\n",
    "resultado_df2 = pd.DataFrame({'Personaje': ordenadas_y_agrupadas2.index, 'Total de líneas por actor': ordenadas_y_agrupadas2.values})\n",
    "resultado_df2"
   ]
  },
  {
   "cell_type": "code",
   "execution_count": 119,
   "metadata": {},
   "outputs": [
    {
     "data": {
      "text/plain": [
       "count      229.000000\n",
       "mean      2184.764192\n",
       "std       5217.669383\n",
       "min          2.000000\n",
       "25%         93.000000\n",
       "50%        476.000000\n",
       "75%       1786.000000\n",
       "max      36414.000000\n",
       "Name: PlayerLinenumber, dtype: float64"
      ]
     },
     "execution_count": 119,
     "metadata": {},
     "output_type": "execute_result"
    }
   ],
   "source": [
    "agrupadas = obras_de_henry.groupby('Player')['PlayerLinenumber'].sum()\n",
    "ordenadas_y_agrupadas = agrupadas.sort_values().describe()\n",
    "ordenadas_y_agrupadas"
   ]
  },
  {
   "cell_type": "markdown",
   "metadata": {},
   "source": [
    "___"
   ]
  },
  {
   "cell_type": "markdown",
   "metadata": {},
   "source": [
    "    ➢ Conclusión:\n",
    "\n",
    "    Se puede observar que el promedio de líneas por actor en las obras de HENRY es de 2184,76.\n",
    "\n",
    "    Además hay una gran dispersión entre los datos ya que el 'Player' 'FALSTAFF' con 36.414 líneas, es el que más líneas tiene, mientras que los que menos diálogo tienen, tienen como máximo 2 lineas."
   ]
  },
  {
   "cell_type": "markdown",
   "metadata": {},
   "source": [
    "___"
   ]
  },
  {
   "cell_type": "markdown",
   "metadata": {},
   "source": [
    "    ➢ Con respecto a esta pregunta, pudimos notar 2 tipos de sesgos:\n",
    "\n",
    "    1) Sesgo de selección: La pregunta asume que los datos disponibles se refieren a obras de HENRY y que estos datos son representativos de todas las obras.\n",
    "\n",
    "    2) Sesgo de preferencia de autor: La pregunta parte del supuesto de que las obras de HENRY son las únicas relevantes para este análisis, lo que podría reflejar una preferencia por este autor en particular."
   ]
  },
  {
   "cell_type": "markdown",
   "metadata": {},
   "source": [
    "___"
   ]
  },
  {
   "cell_type": "code",
   "execution_count": 120,
   "metadata": {},
   "outputs": [
    {
     "name": "stdout",
     "output_type": "stream",
     "text": [
      "La frase 'ACT VI' se repite más en la obra 'Troilus and Cressida' con 1 repeticiones.\n"
     ]
    }
   ],
   "source": [
    "frase_especifica = \"ACT VI\"\n",
    "conteo_frases = df_shakespeare[df_shakespeare['PlayerLine'].str.contains(frase_especifica, case=False, regex=True)]\n",
    "\n",
    "if not conteo_frases.empty:\n",
    "    conteo_frases_por_obra = conteo_frases['Play'].value_counts()\n",
    "    obra_mas_repeticiones = conteo_frases_por_obra.idxmax()\n",
    "    frecuencia_maxima = conteo_frases_por_obra.max()\n",
    "    \n",
    "    print(\"La frase '{}' se repite más en la obra '{}' con {} repeticiones.\".format(frase_especifica, obra_mas_repeticiones, frecuencia_maxima))\n",
    "else:\n",
    "    print(\"La frase '{}' no se encuentra en ninguna obra en el DataFrame.\".format(frase_especifica))\n"
   ]
  }
 ],
 "metadata": {
  "kernelspec": {
   "display_name": "POO-env",
   "language": "python",
   "name": "python3"
  },
  "language_info": {
   "codemirror_mode": {
    "name": "ipython",
    "version": 3
   },
   "file_extension": ".py",
   "mimetype": "text/x-python",
   "name": "python",
   "nbconvert_exporter": "python",
   "pygments_lexer": "ipython3",
   "version": "3.11.4"
  },
  "orig_nbformat": 4
 },
 "nbformat": 4,
 "nbformat_minor": 2
}
