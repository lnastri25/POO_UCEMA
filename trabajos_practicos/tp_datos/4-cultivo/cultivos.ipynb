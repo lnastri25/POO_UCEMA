{
 "cells": [
  {
   "cell_type": "markdown",
   "metadata": {},
   "source": [
    "## → Diccionario de Datos:\n",
    "\n",
    "##### Contenido_de_Nitrogeno: Proporción de contenido de nitrógeno en el suelo.\n",
    "##### Contenido_de_Fosforo: Proporción de contenido de fósforo en el suelo.\n",
    "##### Contenido_de_Potasio: Proporción de contenido de potasio en el suelo.\n",
    "##### Temperatura_C: Temperatura en grados Celsius.\n",
    "##### Humedad_Relativa: Humedad relativa en porcentaje.\n",
    "##### Nivel_de_pH: Nivel de pH del suelo.\n",
    "##### Precipitacion_mm: Cantidad de precipitación en milímetros.\n",
    "##### Tipo_de_Cultivo: Tipo de cultivo recomendado en función de los parámetros anteriores.\n",
    "\n",
    "\n",
    "#### El uso de Machine Learning en la agricultura es vital para optimizar rendimientos, mejorar la sostenibilidad y minimizar riesgos. Esto es particularmente relevante en Argentina, donde la agricultura es un pilar económico. Saber qué tipo de cultivo es más adecuado para ciertas condiciones del suelo y del clima puede tener un impacto significativo en la productividad y la sostenibilidad.\n",
    "\n",
    "## → a. Análisis Exploratorio de Datos (EDA)\n",
    "#### Para realizar un EDA exhaustivo del dataset, considere las siguientes preguntas:\n",
    "#### ¿Cómo se distribuyen los valores en cada una de las variables?\n",
    "#### ¿Existen correlaciones entre las diferentes variables del suelo y los tipos de cultivos?\n",
    "#### ¿Cómo varía la recomendación de cultivo según las condiciones del suelo y el clima?\n",
    "#### ¿Existen valores atípicos o faltantes que deban ser tratados?\n",
    "\n",
    "## → b. Machine Learning\n",
    "\n",
    "#### En esta sección, implementaremos dos modelos de Machine Learning para predecir el Tipo_de_Cultivo basándonos en las variables del suelo y del clima. Utilizaremos una Regresión Logística y un Árbol de Decisión. \n",
    "\n",
    "#### Consigna para la Implementación del Código: Utilice el siguiente código de Python como base para implementar el modelo de Árbol de Decisión:\n",
    "\n",
    "```python\n",
    "from sklearn.tree import DecisionTreeClassifier\n",
    "from sklearn.model_selection import cross_val_score\n",
    "import matplotlib.pyplot as plt\n",
    "import seaborn as sns\n",
    "# Crear el modelo\n",
    "decision_tree_model = DecisionTreeClassifier(criterion=\"entropy\", random_state=2,\n",
    "max_depth=5)\n",
    "# Validación cruzada\n",
    "score = cross_val_score(decision_tree_model, features, target, cv=5)\n",
    "print('Puntuación de validación cruzada:', score)\n",
    "# Precisión en entrenamiento\n",
    "dt_train_accuracy = decision_tree_model.score(x_train, y_train)\n",
    "print(\"Precisión en entrenamiento =\", dt_train_accuracy)\n",
    "# Precisión en pruebas\n",
    "dt_test_accuracy = decision_tree_model.score(x_test, y_test)\n",
    "print(\"Precisión en pruebas =\", dt_test_accuracy)\n",
    "# Matriz de confusión\n",
    "y_pred = decision_tree_model.predict(x_test)\n",
    "y_true = y_test\n",
    "from sklearn.metrics import confusion_matrix\n",
    "cm_dt = confusion_matrix(y_true, y_pred)\n",
    "# Visualización de la matriz de confusión\n",
    "f, ax = plt.subplots(figsize=(15, 10))\n",
    "sns.heatmap(cm_dt, annot=True, linewidth=0.5, fmt=\".0f\", cmap='viridis', ax=ax)\n",
    "plt.xlabel(\"Predicho\")\n",
    "plt.ylabel(\"Real\")\n",
    "plt.title('Matriz de Confusión')\n",
    "plt.show()\n",
    "```\n",
    "\n",
    "\n",
    "#### Interprete que significa la diagonal y los desvios de la diagonal. Cual cultivo se confunde mas el algoritmo?\n"
   ]
  },
  {
   "cell_type": "code",
   "execution_count": null,
   "metadata": {},
   "outputs": [],
   "source": [
    "import pandas as pd\n",
    "import matplotlib.pyplot as plt\n",
    "import seaborn as sns"
   ]
  }
 ],
 "metadata": {
  "kernelspec": {
   "display_name": "POO-env",
   "language": "python",
   "name": "python3"
  },
  "language_info": {
   "name": "python",
   "version": "3.11.5"
  },
  "orig_nbformat": 4
 },
 "nbformat": 4,
 "nbformat_minor": 2
}
