{
 "cells": [
  {
   "cell_type": "markdown",
   "metadata": {},
   "source": [
    "# 3) Startups:\n",
    "\n",
    "##### Fecha entrega: 9/11/2023.\n",
    "##### El dataset de startups contiene variables como gastos en investigación y desarrollo (I+D), costos administrativos, gastos en marketing, ubicación geográfica y beneficios netos.\n",
    "##### Este tipo de datos es esencial para entender el rendimiento financiero y operativo de una startup, lo cual es crítico para la toma de decisiones tanto para los inversionistas como para la administración de la empresa.\n",
    "\n",
    "## → a. Análisis Exploratorio de Datos (EDA) \n",
    "#### ¿Qué conclusiones puede sacar con respecto a las distribuciones de las variables numéricas y las relaciones entre ellas?\n",
    "\n",
    "## → b. Modelo de Regresión Lineal para Predecir Beneficio Neto.\n",
    "\n",
    "## → c. ¿Cual es la intuicion detrás de la formula de la regresion resultante?\n",
    "\n",
    "## → d. ¿Cual es el error promedio? ¿Y el error elevado al cuadrado? ¿Que significa?\n",
    "\n",
    "## → e. Analice del Sector de la Industria en el Beneficio Neto.\n",
    "\n",
    "## → f. ¿Cual es la relacion entre las series y el profit? ¿Es importante hay alguna particularidad? (Hint)\n"
   ]
  },
  {
   "cell_type": "code",
   "execution_count": 280,
   "metadata": {},
   "outputs": [],
   "source": [
    "import pandas as pd\n",
    "import matplotlib.pyplot as plt\n",
    "import seaborn as sns"
   ]
  },
  {
   "cell_type": "code",
   "execution_count": 281,
   "metadata": {},
   "outputs": [
    {
     "data": {
      "text/html": [
       "<div>\n",
       "<style scoped>\n",
       "    .dataframe tbody tr th:only-of-type {\n",
       "        vertical-align: middle;\n",
       "    }\n",
       "\n",
       "    .dataframe tbody tr th {\n",
       "        vertical-align: top;\n",
       "    }\n",
       "\n",
       "    .dataframe thead th {\n",
       "        text-align: right;\n",
       "    }\n",
       "</style>\n",
       "<table border=\"1\" class=\"dataframe\">\n",
       "  <thead>\n",
       "    <tr style=\"text-align: right;\">\n",
       "      <th></th>\n",
       "      <th></th>\n",
       "      <th>RnD_Expenditure</th>\n",
       "      <th>Admin_Costs</th>\n",
       "      <th>Marketing_Expenditure</th>\n",
       "      <th>Location</th>\n",
       "      <th>Net_Profit</th>\n",
       "      <th>Industry_Sector</th>\n",
       "      <th>Profit</th>\n",
       "      <th>Employee_Count</th>\n",
       "      <th>Investment_Round</th>\n",
       "      <th>Operational_Cost</th>\n",
       "    </tr>\n",
       "  </thead>\n",
       "  <tbody>\n",
       "    <tr>\n",
       "      <th>0</th>\n",
       "      <td>0</td>\n",
       "      <td>165349.20</td>\n",
       "      <td>136897.80</td>\n",
       "      <td>471784.10</td>\n",
       "      <td>New York</td>\n",
       "      <td>192261.83</td>\n",
       "      <td>Energy</td>\n",
       "      <td>227095.722346</td>\n",
       "      <td>289</td>\n",
       "      <td>Series A</td>\n",
       "      <td>608681.90</td>\n",
       "    </tr>\n",
       "    <tr>\n",
       "      <th>1</th>\n",
       "      <td>1</td>\n",
       "      <td>162597.70</td>\n",
       "      <td>151377.59</td>\n",
       "      <td>443898.53</td>\n",
       "      <td>California</td>\n",
       "      <td>191792.06</td>\n",
       "      <td>Tech</td>\n",
       "      <td>224711.757208</td>\n",
       "      <td>217</td>\n",
       "      <td>Series B</td>\n",
       "      <td>595276.12</td>\n",
       "    </tr>\n",
       "    <tr>\n",
       "      <th>2</th>\n",
       "      <td>2</td>\n",
       "      <td>153441.51</td>\n",
       "      <td>101145.55</td>\n",
       "      <td>407934.54</td>\n",
       "      <td>Florida</td>\n",
       "      <td>191050.39</td>\n",
       "      <td>Finance</td>\n",
       "      <td>222717.429984</td>\n",
       "      <td>407</td>\n",
       "      <td>Series C</td>\n",
       "      <td>509080.09</td>\n",
       "    </tr>\n",
       "    <tr>\n",
       "      <th>3</th>\n",
       "      <td>3</td>\n",
       "      <td>144372.41</td>\n",
       "      <td>118671.85</td>\n",
       "      <td>383199.62</td>\n",
       "      <td>New York</td>\n",
       "      <td>182901.99</td>\n",
       "      <td>Finance</td>\n",
       "      <td>214017.365199</td>\n",
       "      <td>383</td>\n",
       "      <td>Series A</td>\n",
       "      <td>501871.47</td>\n",
       "    </tr>\n",
       "    <tr>\n",
       "      <th>4</th>\n",
       "      <td>4</td>\n",
       "      <td>142107.34</td>\n",
       "      <td>91391.77</td>\n",
       "      <td>366168.42</td>\n",
       "      <td>Florida</td>\n",
       "      <td>166187.94</td>\n",
       "      <td>Finance</td>\n",
       "      <td>196476.965990</td>\n",
       "      <td>351</td>\n",
       "      <td>Series B</td>\n",
       "      <td>457560.19</td>\n",
       "    </tr>\n",
       "  </tbody>\n",
       "</table>\n",
       "</div>"
      ],
      "text/plain": [
       "        RnD_Expenditure          Admin_Costs            \\\n",
       "0    0                165349.20              136897.80   \n",
       "1    1                162597.70              151377.59   \n",
       "2    2                153441.51              101145.55   \n",
       "3    3                144372.41              118671.85   \n",
       "4    4                142107.34               91391.77   \n",
       "\n",
       "   Marketing_Expenditure   Location     Net_Profit            \\\n",
       "0               471784.10  New York                192261.83   \n",
       "1               443898.53  California              191792.06   \n",
       "2               407934.54  Florida                 191050.39   \n",
       "3               383199.62  New York                182901.99   \n",
       "4               366168.42  Florida                 166187.94   \n",
       "\n",
       "   Industry_Sector   Profit                Employee_Count   Investment_Round   \\\n",
       "0  Energy                   227095.722346              289  Series A            \n",
       "1  Tech                     224711.757208              217  Series B            \n",
       "2  Finance                  222717.429984              407  Series C            \n",
       "3  Finance                  214017.365199              383  Series A            \n",
       "4  Finance                  196476.965990              351  Series B            \n",
       "\n",
       "   Operational_Cost  \n",
       "0         608681.90  \n",
       "1         595276.12  \n",
       "2         509080.09  \n",
       "3         501871.47  \n",
       "4         457560.19  "
      ]
     },
     "execution_count": 281,
     "metadata": {},
     "output_type": "execute_result"
    }
   ],
   "source": [
    "df_startups = pd.read_csv(\"/Users/lolonastri/Desktop/POO_UCEMA/trabajos_practicos/tp_datos/3-startups/startups.csv\")\n",
    "df_startups.head()"
   ]
  },
  {
   "cell_type": "code",
   "execution_count": 282,
   "metadata": {},
   "outputs": [],
   "source": [
    "df_startups = df_startups.copy()"
   ]
  },
  {
   "cell_type": "code",
   "execution_count": 283,
   "metadata": {},
   "outputs": [
    {
     "data": {
      "text/plain": [
       "Index(['   ', 'RnD_Expenditure        ', 'Admin_Costs          ',\n",
       "       'Marketing_Expenditure ', 'Location   ', 'Net_Profit          ',\n",
       "       'Industry_Sector ', 'Profit              ', 'Employee_Count ',\n",
       "       'Investment_Round ', 'Operational_Cost'],\n",
       "      dtype='object')"
      ]
     },
     "execution_count": 283,
     "metadata": {},
     "output_type": "execute_result"
    }
   ],
   "source": [
    "df_startups.columns"
   ]
  },
  {
   "cell_type": "code",
   "execution_count": 284,
   "metadata": {},
   "outputs": [],
   "source": [
    "from funciones.exploratory_data_analysis import whitespace_remover_and_columns\n",
    "df_startups = whitespace_remover_and_columns(df_startups)"
   ]
  },
  {
   "cell_type": "markdown",
   "metadata": {},
   "source": [
    "#### El Beneficio Neto no puede ser mayor al Profit, entonces filtramos negando esa condición."
   ]
  },
  {
   "cell_type": "code",
   "execution_count": 285,
   "metadata": {},
   "outputs": [],
   "source": [
    "df_startups =  df_startups[~(df_startups[\"Net_Profit\"] > df_startups[\"Profit\"])]"
   ]
  },
  {
   "cell_type": "markdown",
   "metadata": {},
   "source": [
    "___"
   ]
  },
  {
   "cell_type": "markdown",
   "metadata": {},
   "source": [
    "## ***a. Análisis Exploratorio de Datos (EDA)***\n",
    "#### ¿Qué conclusiones puede sacar con respecto a las distribuciones de las variables numéricas y las relaciones entre ellas?"
   ]
  },
  {
   "cell_type": "markdown",
   "metadata": {},
   "source": [
    "## → Validación de la data"
   ]
  },
  {
   "cell_type": "code",
   "execution_count": 286,
   "metadata": {},
   "outputs": [],
   "source": [
    "df_startups.rename(columns=lambda x: x.strip(), inplace=True) # Remuevo espacios de las columnas."
   ]
  },
  {
   "cell_type": "code",
   "execution_count": 287,
   "metadata": {},
   "outputs": [
    {
     "name": "stdout",
     "output_type": "stream",
     "text": [
      "El dataset tiene 65 filas.\n",
      "El dataset tiene 11 columnas.\n"
     ]
    }
   ],
   "source": [
    "print(\"El dataset tiene \" + str(df_startups.shape[0])+ \" filas.\")\n",
    "print(\"El dataset tiene \" + str(df_startups.shape[1])+ \" columnas.\")"
   ]
  },
  {
   "cell_type": "code",
   "execution_count": 288,
   "metadata": {},
   "outputs": [
    {
     "data": {
      "text/plain": [
       "Index(['', 'RnD_Expenditure', 'Admin_Costs', 'Marketing_Expenditure',\n",
       "       'Location', 'Net_Profit', 'Industry_Sector', 'Profit', 'Employee_Count',\n",
       "       'Investment_Round', 'Operational_Cost'],\n",
       "      dtype='object')"
      ]
     },
     "execution_count": 288,
     "metadata": {},
     "output_type": "execute_result"
    }
   ],
   "source": [
    "df_startups.columns"
   ]
  },
  {
   "cell_type": "code",
   "execution_count": 289,
   "metadata": {},
   "outputs": [
    {
     "data": {
      "text/html": [
       "<div>\n",
       "<style scoped>\n",
       "    .dataframe tbody tr th:only-of-type {\n",
       "        vertical-align: middle;\n",
       "    }\n",
       "\n",
       "    .dataframe tbody tr th {\n",
       "        vertical-align: top;\n",
       "    }\n",
       "\n",
       "    .dataframe thead th {\n",
       "        text-align: right;\n",
       "    }\n",
       "</style>\n",
       "<table border=\"1\" class=\"dataframe\">\n",
       "  <thead>\n",
       "    <tr style=\"text-align: right;\">\n",
       "      <th></th>\n",
       "      <th>Unique_Values</th>\n",
       "      <th>Num_Unique_Values</th>\n",
       "      <th>Num_Null_Values</th>\n",
       "      <th>%_Null_Values</th>\n",
       "      <th>Sample_Unique_Values</th>\n",
       "    </tr>\n",
       "  </thead>\n",
       "  <tbody>\n",
       "    <tr>\n",
       "      <th></th>\n",
       "      <td>NaN</td>\n",
       "      <td>65.0</td>\n",
       "      <td>0</td>\n",
       "      <td>0.0</td>\n",
       "      <td>[4, 32, 38, 51, 58]</td>\n",
       "    </tr>\n",
       "    <tr>\n",
       "      <th>RnD_Expenditure</th>\n",
       "      <td>NaN</td>\n",
       "      <td>65.0</td>\n",
       "      <td>0</td>\n",
       "      <td>0.0</td>\n",
       "      <td>[142107.34, 63408.86, 20229.59, 144064.8986884...</td>\n",
       "    </tr>\n",
       "    <tr>\n",
       "      <th>Admin_Costs</th>\n",
       "      <td>NaN</td>\n",
       "      <td>65.0</td>\n",
       "      <td>0</td>\n",
       "      <td>0.0</td>\n",
       "      <td>[91391.77, 129219.61, 65947.93, 145239.2363579...</td>\n",
       "    </tr>\n",
       "    <tr>\n",
       "      <th>Marketing_Expenditure</th>\n",
       "      <td>NaN</td>\n",
       "      <td>65.0</td>\n",
       "      <td>0</td>\n",
       "      <td>0.0</td>\n",
       "      <td>[366168.42, 46085.25, 185265.1, 374082.8271899...</td>\n",
       "    </tr>\n",
       "    <tr>\n",
       "      <th>Location</th>\n",
       "      <td>3</td>\n",
       "      <td>65</td>\n",
       "      <td>0</td>\n",
       "      <td>0.0</td>\n",
       "      <td>[Florida, California, New York, California, Fl...</td>\n",
       "    </tr>\n",
       "    <tr>\n",
       "      <th>Net_Profit</th>\n",
       "      <td>NaN</td>\n",
       "      <td>65.0</td>\n",
       "      <td>0</td>\n",
       "      <td>0.0</td>\n",
       "      <td>[166187.94, 97427.84, 81229.06, -8661.45072076...</td>\n",
       "    </tr>\n",
       "    <tr>\n",
       "      <th>Industry_Sector</th>\n",
       "      <td>5</td>\n",
       "      <td>65</td>\n",
       "      <td>0</td>\n",
       "      <td>0.0</td>\n",
       "      <td>[Finance, Healthcare, Finance, Retail, Retail]</td>\n",
       "    </tr>\n",
       "    <tr>\n",
       "      <th>Profit</th>\n",
       "      <td>NaN</td>\n",
       "      <td>65.0</td>\n",
       "      <td>0</td>\n",
       "      <td>0.0</td>\n",
       "      <td>[196476.96599015, 109221.82625236988, 84887.65...</td>\n",
       "    </tr>\n",
       "    <tr>\n",
       "      <th>Employee_Count</th>\n",
       "      <td>NaN</td>\n",
       "      <td>65.0</td>\n",
       "      <td>0</td>\n",
       "      <td>0.0</td>\n",
       "      <td>[351, 380, 140, 151, 453]</td>\n",
       "    </tr>\n",
       "    <tr>\n",
       "      <th>Investment_Round</th>\n",
       "      <td>5</td>\n",
       "      <td>65</td>\n",
       "      <td>0</td>\n",
       "      <td>0.0</td>\n",
       "      <td>[Series B, Series B, Seed, Seed, Seed]</td>\n",
       "    </tr>\n",
       "    <tr>\n",
       "      <th>Operational_Cost</th>\n",
       "      <td>NaN</td>\n",
       "      <td>65.0</td>\n",
       "      <td>0</td>\n",
       "      <td>0.0</td>\n",
       "      <td>[457560.19, 175304.86, 251213.03, 519322.06354...</td>\n",
       "    </tr>\n",
       "  </tbody>\n",
       "</table>\n",
       "</div>"
      ],
      "text/plain": [
       "                      Unique_Values Num_Unique_Values  Num_Null_Values  \\\n",
       "                                NaN              65.0                0   \n",
       "RnD_Expenditure                 NaN              65.0                0   \n",
       "Admin_Costs                     NaN              65.0                0   \n",
       "Marketing_Expenditure           NaN              65.0                0   \n",
       "Location                          3                65                0   \n",
       "Net_Profit                      NaN              65.0                0   \n",
       "Industry_Sector                   5                65                0   \n",
       "Profit                          NaN              65.0                0   \n",
       "Employee_Count                  NaN              65.0                0   \n",
       "Investment_Round                  5                65                0   \n",
       "Operational_Cost                NaN              65.0                0   \n",
       "\n",
       "                       %_Null_Values  \\\n",
       "                                 0.0   \n",
       "RnD_Expenditure                  0.0   \n",
       "Admin_Costs                      0.0   \n",
       "Marketing_Expenditure            0.0   \n",
       "Location                         0.0   \n",
       "Net_Profit                       0.0   \n",
       "Industry_Sector                  0.0   \n",
       "Profit                           0.0   \n",
       "Employee_Count                   0.0   \n",
       "Investment_Round                 0.0   \n",
       "Operational_Cost                 0.0   \n",
       "\n",
       "                                                    Sample_Unique_Values  \n",
       "                                                     [4, 32, 38, 51, 58]  \n",
       "RnD_Expenditure        [142107.34, 63408.86, 20229.59, 144064.8986884...  \n",
       "Admin_Costs            [91391.77, 129219.61, 65947.93, 145239.2363579...  \n",
       "Marketing_Expenditure  [366168.42, 46085.25, 185265.1, 374082.8271899...  \n",
       "Location               [Florida, California, New York, California, Fl...  \n",
       "Net_Profit             [166187.94, 97427.84, 81229.06, -8661.45072076...  \n",
       "Industry_Sector           [Finance, Healthcare, Finance, Retail, Retail]  \n",
       "Profit                 [196476.96599015, 109221.82625236988, 84887.65...  \n",
       "Employee_Count                                 [351, 380, 140, 151, 453]  \n",
       "Investment_Round                  [Series B, Series B, Seed, Seed, Seed]  \n",
       "Operational_Cost       [457560.19, 175304.86, 251213.03, 519322.06354...  "
      ]
     },
     "execution_count": 289,
     "metadata": {},
     "output_type": "execute_result"
    }
   ],
   "source": [
    "from funciones.exploratory_data_analysis import validate_columns \n",
    "validate_columns(df_startups)"
   ]
  },
  {
   "cell_type": "code",
   "execution_count": 290,
   "metadata": {},
   "outputs": [
    {
     "data": {
      "text/html": [
       "<div>\n",
       "<style scoped>\n",
       "    .dataframe tbody tr th:only-of-type {\n",
       "        vertical-align: middle;\n",
       "    }\n",
       "\n",
       "    .dataframe tbody tr th {\n",
       "        vertical-align: top;\n",
       "    }\n",
       "\n",
       "    .dataframe thead th {\n",
       "        text-align: right;\n",
       "    }\n",
       "</style>\n",
       "<table border=\"1\" class=\"dataframe\">\n",
       "  <thead>\n",
       "    <tr style=\"text-align: right;\">\n",
       "      <th></th>\n",
       "      <th></th>\n",
       "      <th>RnD_Expenditure</th>\n",
       "      <th>Admin_Costs</th>\n",
       "      <th>Marketing_Expenditure</th>\n",
       "      <th>Net_Profit</th>\n",
       "      <th>Profit</th>\n",
       "      <th>Employee_Count</th>\n",
       "      <th>Operational_Cost</th>\n",
       "    </tr>\n",
       "  </thead>\n",
       "  <tbody>\n",
       "    <tr>\n",
       "      <th>count</th>\n",
       "      <td>65.000000</td>\n",
       "      <td>65.000000</td>\n",
       "      <td>65.000000</td>\n",
       "      <td>65.000000</td>\n",
       "      <td>65.000000</td>\n",
       "      <td>65.000000</td>\n",
       "      <td>65.000000</td>\n",
       "      <td>65.000000</td>\n",
       "    </tr>\n",
       "    <tr>\n",
       "      <th>mean</th>\n",
       "      <td>33.461538</td>\n",
       "      <td>79266.510049</td>\n",
       "      <td>111774.068241</td>\n",
       "      <td>221859.916112</td>\n",
       "      <td>111054.949543</td>\n",
       "      <td>124761.846602</td>\n",
       "      <td>266.846154</td>\n",
       "      <td>333633.984353</td>\n",
       "    </tr>\n",
       "    <tr>\n",
       "      <th>std</th>\n",
       "      <td>20.753823</td>\n",
       "      <td>43547.341447</td>\n",
       "      <td>39611.994797</td>\n",
       "      <td>126102.858824</td>\n",
       "      <td>46998.327966</td>\n",
       "      <td>53114.704730</td>\n",
       "      <td>142.020600</td>\n",
       "      <td>130589.953648</td>\n",
       "    </tr>\n",
       "    <tr>\n",
       "      <th>min</th>\n",
       "      <td>0.000000</td>\n",
       "      <td>0.000000</td>\n",
       "      <td>2743.241602</td>\n",
       "      <td>0.000000</td>\n",
       "      <td>-21313.506762</td>\n",
       "      <td>-14885.847169</td>\n",
       "      <td>10.000000</td>\n",
       "      <td>24435.504010</td>\n",
       "    </tr>\n",
       "    <tr>\n",
       "      <th>25%</th>\n",
       "      <td>16.000000</td>\n",
       "      <td>44069.950000</td>\n",
       "      <td>99281.340000</td>\n",
       "      <td>132773.329686</td>\n",
       "      <td>89949.140000</td>\n",
       "      <td>97671.232681</td>\n",
       "      <td>144.000000</td>\n",
       "      <td>244190.740000</td>\n",
       "    </tr>\n",
       "    <tr>\n",
       "      <th>50%</th>\n",
       "      <td>32.000000</td>\n",
       "      <td>76253.860000</td>\n",
       "      <td>120111.685301</td>\n",
       "      <td>223946.763088</td>\n",
       "      <td>108552.040000</td>\n",
       "      <td>120845.072517</td>\n",
       "      <td>289.000000</td>\n",
       "      <td>339755.060000</td>\n",
       "    </tr>\n",
       "    <tr>\n",
       "      <th>75%</th>\n",
       "      <td>53.000000</td>\n",
       "      <td>111737.965689</td>\n",
       "      <td>139553.160000</td>\n",
       "      <td>304768.730000</td>\n",
       "      <td>141585.520000</td>\n",
       "      <td>161119.307725</td>\n",
       "      <td>393.000000</td>\n",
       "      <td>426102.010000</td>\n",
       "    </tr>\n",
       "    <tr>\n",
       "      <th>max</th>\n",
       "      <td>69.000000</td>\n",
       "      <td>175623.487278</td>\n",
       "      <td>182645.560000</td>\n",
       "      <td>494430.544453</td>\n",
       "      <td>192261.830000</td>\n",
       "      <td>227095.722346</td>\n",
       "      <td>497.000000</td>\n",
       "      <td>614542.229755</td>\n",
       "    </tr>\n",
       "  </tbody>\n",
       "</table>\n",
       "</div>"
      ],
      "text/plain": [
       "                  RnD_Expenditure    Admin_Costs  Marketing_Expenditure  \\\n",
       "count  65.000000        65.000000      65.000000              65.000000   \n",
       "mean   33.461538     79266.510049  111774.068241          221859.916112   \n",
       "std    20.753823     43547.341447   39611.994797          126102.858824   \n",
       "min     0.000000         0.000000    2743.241602               0.000000   \n",
       "25%    16.000000     44069.950000   99281.340000          132773.329686   \n",
       "50%    32.000000     76253.860000  120111.685301          223946.763088   \n",
       "75%    53.000000    111737.965689  139553.160000          304768.730000   \n",
       "max    69.000000    175623.487278  182645.560000          494430.544453   \n",
       "\n",
       "          Net_Profit         Profit  Employee_Count  Operational_Cost  \n",
       "count      65.000000      65.000000       65.000000         65.000000  \n",
       "mean   111054.949543  124761.846602      266.846154     333633.984353  \n",
       "std     46998.327966   53114.704730      142.020600     130589.953648  \n",
       "min    -21313.506762  -14885.847169       10.000000      24435.504010  \n",
       "25%     89949.140000   97671.232681      144.000000     244190.740000  \n",
       "50%    108552.040000  120845.072517      289.000000     339755.060000  \n",
       "75%    141585.520000  161119.307725      393.000000     426102.010000  \n",
       "max    192261.830000  227095.722346      497.000000     614542.229755  "
      ]
     },
     "execution_count": 290,
     "metadata": {},
     "output_type": "execute_result"
    }
   ],
   "source": [
    "df_startups.describe()"
   ]
  },
  {
   "cell_type": "markdown",
   "metadata": {},
   "source": [
    "___"
   ]
  },
  {
   "cell_type": "markdown",
   "metadata": {},
   "source": [
    "## →  Veo los tipos de datos con dtypes"
   ]
  },
  {
   "cell_type": "code",
   "execution_count": 291,
   "metadata": {},
   "outputs": [
    {
     "data": {
      "text/plain": [
       "                           int64\n",
       "RnD_Expenditure          float64\n",
       "Admin_Costs              float64\n",
       "Marketing_Expenditure    float64\n",
       "Location                  object\n",
       "Net_Profit               float64\n",
       "Industry_Sector           object\n",
       "Profit                   float64\n",
       "Employee_Count             int64\n",
       "Investment_Round          object\n",
       "Operational_Cost         float64\n",
       "dtype: object"
      ]
     },
     "execution_count": 291,
     "metadata": {},
     "output_type": "execute_result"
    }
   ],
   "source": [
    "df_startups.dtypes"
   ]
  },
  {
   "cell_type": "markdown",
   "metadata": {},
   "source": [
    "___"
   ]
  },
  {
   "cell_type": "markdown",
   "metadata": {},
   "source": [
    "## → Valores outliers"
   ]
  },
  {
   "cell_type": "code",
   "execution_count": 292,
   "metadata": {},
   "outputs": [
    {
     "data": {
      "image/png": "[encoded data removed]",
      "text/plain": [
       "<Figure size 2000x2000 with 8 Axes>"
      ]
     },
     "metadata": {},
     "output_type": "display_data"
    }
   ],
   "source": [
    "from funciones.exploratory_data_analysis import plot_outliers\n",
    "plot_outliers(df_startups)"
   ]
  },
  {
   "cell_type": "markdown",
   "metadata": {},
   "source": [
    "#### Procedemos a eliminar los \"Admin_Costs\" negativos ya que las startups en este caso, decidieron registrar a los valores de estos costos como positivos y no como negativos. Además, se procedió a armar una función que determina si un valor es o no outlier a partir del rango intercuartil. Los valores de \"Admin_Costs\" que se eliminarán son menores que 1.5 veces el valor del rango intercuartil más allá de los cuartiles.\n",
    "#### Elimino también los valores de \"Net_Profit\" que no cumplen con la condición mencionada en la útlima oración del punto anterior.\n",
    "#### Los outliers de profit son los que figuran en el output, solamente que la línea de codigo aparece comentada porque los índices 51 y 66 han sido filtrados en el análisis previo con la siguiente condición: \n",
    "\n",
    "```python\n",
    "df_startups =  df_startups[~(df_startups[\"Net_Profit\"] > df_startups[\"Profit\"])]\n",
    "```\n",
    "\n",
    "\n",
    "\n"
   ]
  },
  {
   "cell_type": "code",
   "execution_count": 293,
   "metadata": {},
   "outputs": [
    {
     "name": "stdout",
     "output_type": "stream",
     "text": [
      "Outliers de Admin_Costs:\n",
      "56    12756.631705\n",
      "57     5858.217485\n",
      "58    25474.562935\n",
      "60    14752.025075\n",
      "68     2743.241602\n",
      "Name: Admin_Costs, dtype: float64\n",
      "\n",
      "Outliers de Net_Profit:\n",
      "51    -8661.450721\n",
      "66   -21313.506762\n",
      "Name: Net_Profit, dtype: float64\n",
      "\n",
      "Outliers de Profit:\n",
      "51     5768.589320\n",
      "66   -14885.847169\n",
      "Name: Profit, dtype: float64\n"
     ]
    }
   ],
   "source": [
    "from funciones.exploratory_data_analysis import is_outlier\n",
    "\n",
    "outliers_admin_costs = is_outlier(df_startups[\"Admin_Costs\"], 1.5)\n",
    "outlier_values_admin_costs = df_startups[\"Admin_Costs\"][outliers_admin_costs]\n",
    "\n",
    "outliers_net_profit = is_outlier(df_startups[\"Net_Profit\"], 1.5)\n",
    "outlier_values_net_profit = df_startups[\"Net_Profit\"][outliers_net_profit]\n",
    "\n",
    "outliers_profit = is_outlier(df_startups[\"Profit\"], 1.5)\n",
    "outlier_values_profit = df_startups[\"Profit\"][outliers_net_profit]\n",
    "\n",
    "\n",
    "print(\"Outliers de Admin_Costs:\")\n",
    "print(outlier_values_admin_costs)\n",
    "print(\"\")\n",
    "print(\"Outliers de Net_Profit:\")\n",
    "print(outlier_values_net_profit)\n",
    "print(\"\")\n",
    "print(\"Outliers de Profit:\")\n",
    "print(outlier_values_profit)"
   ]
  },
  {
   "cell_type": "code",
   "execution_count": 294,
   "metadata": {},
   "outputs": [],
   "source": [
    "df_startups = df_startups.drop(outlier_values_admin_costs.index)\n",
    "df_startups = df_startups.drop(outlier_values_net_profit.index)\n",
    "#df_startups = df_startups.drop(outlier_values_profit.index) --> se saco previamente (si se prueba esta linea de codigo nos dice que los numeros 51 y 66 no están en el índice)"
   ]
  },
  {
   "cell_type": "code",
   "execution_count": 295,
   "metadata": {},
   "outputs": [
    {
     "data": {
      "text/html": [
       "<div>\n",
       "<style scoped>\n",
       "    .dataframe tbody tr th:only-of-type {\n",
       "        vertical-align: middle;\n",
       "    }\n",
       "\n",
       "    .dataframe tbody tr th {\n",
       "        vertical-align: top;\n",
       "    }\n",
       "\n",
       "    .dataframe thead th {\n",
       "        text-align: right;\n",
       "    }\n",
       "</style>\n",
       "<table border=\"1\" class=\"dataframe\">\n",
       "  <thead>\n",
       "    <tr style=\"text-align: right;\">\n",
       "      <th></th>\n",
       "      <th></th>\n",
       "      <th>RnD_Expenditure</th>\n",
       "      <th>Admin_Costs</th>\n",
       "      <th>Marketing_Expenditure</th>\n",
       "      <th>Location</th>\n",
       "      <th>Net_Profit</th>\n",
       "      <th>Industry_Sector</th>\n",
       "      <th>Profit</th>\n",
       "      <th>Employee_Count</th>\n",
       "      <th>Investment_Round</th>\n",
       "      <th>Operational_Cost</th>\n",
       "    </tr>\n",
       "  </thead>\n",
       "  <tbody>\n",
       "    <tr>\n",
       "      <th>0</th>\n",
       "      <td>0</td>\n",
       "      <td>165349.20</td>\n",
       "      <td>136897.80</td>\n",
       "      <td>471784.10</td>\n",
       "      <td>New York</td>\n",
       "      <td>192261.83</td>\n",
       "      <td>Energy</td>\n",
       "      <td>227095.722346</td>\n",
       "      <td>289</td>\n",
       "      <td>Series A</td>\n",
       "      <td>608681.90</td>\n",
       "    </tr>\n",
       "    <tr>\n",
       "      <th>1</th>\n",
       "      <td>1</td>\n",
       "      <td>162597.70</td>\n",
       "      <td>151377.59</td>\n",
       "      <td>443898.53</td>\n",
       "      <td>California</td>\n",
       "      <td>191792.06</td>\n",
       "      <td>Tech</td>\n",
       "      <td>224711.757208</td>\n",
       "      <td>217</td>\n",
       "      <td>Series B</td>\n",
       "      <td>595276.12</td>\n",
       "    </tr>\n",
       "    <tr>\n",
       "      <th>2</th>\n",
       "      <td>2</td>\n",
       "      <td>153441.51</td>\n",
       "      <td>101145.55</td>\n",
       "      <td>407934.54</td>\n",
       "      <td>Florida</td>\n",
       "      <td>191050.39</td>\n",
       "      <td>Finance</td>\n",
       "      <td>222717.429984</td>\n",
       "      <td>407</td>\n",
       "      <td>Series C</td>\n",
       "      <td>509080.09</td>\n",
       "    </tr>\n",
       "    <tr>\n",
       "      <th>3</th>\n",
       "      <td>3</td>\n",
       "      <td>144372.41</td>\n",
       "      <td>118671.85</td>\n",
       "      <td>383199.62</td>\n",
       "      <td>New York</td>\n",
       "      <td>182901.99</td>\n",
       "      <td>Finance</td>\n",
       "      <td>214017.365199</td>\n",
       "      <td>383</td>\n",
       "      <td>Series A</td>\n",
       "      <td>501871.47</td>\n",
       "    </tr>\n",
       "    <tr>\n",
       "      <th>4</th>\n",
       "      <td>4</td>\n",
       "      <td>142107.34</td>\n",
       "      <td>91391.77</td>\n",
       "      <td>366168.42</td>\n",
       "      <td>Florida</td>\n",
       "      <td>166187.94</td>\n",
       "      <td>Finance</td>\n",
       "      <td>196476.965990</td>\n",
       "      <td>351</td>\n",
       "      <td>Series B</td>\n",
       "      <td>457560.19</td>\n",
       "    </tr>\n",
       "  </tbody>\n",
       "</table>\n",
       "</div>"
      ],
      "text/plain": [
       "      RnD_Expenditure  Admin_Costs  Marketing_Expenditure    Location  \\\n",
       "0  0        165349.20    136897.80              471784.10    New York   \n",
       "1  1        162597.70    151377.59              443898.53  California   \n",
       "2  2        153441.51    101145.55              407934.54     Florida   \n",
       "3  3        144372.41    118671.85              383199.62    New York   \n",
       "4  4        142107.34     91391.77              366168.42     Florida   \n",
       "\n",
       "   Net_Profit Industry_Sector         Profit  Employee_Count Investment_Round  \\\n",
       "0   192261.83          Energy  227095.722346             289         Series A   \n",
       "1   191792.06            Tech  224711.757208             217         Series B   \n",
       "2   191050.39         Finance  222717.429984             407         Series C   \n",
       "3   182901.99         Finance  214017.365199             383         Series A   \n",
       "4   166187.94         Finance  196476.965990             351         Series B   \n",
       "\n",
       "   Operational_Cost  \n",
       "0         608681.90  \n",
       "1         595276.12  \n",
       "2         509080.09  \n",
       "3         501871.47  \n",
       "4         457560.19  "
      ]
     },
     "execution_count": 295,
     "metadata": {},
     "output_type": "execute_result"
    }
   ],
   "source": [
    "df_startups.head()"
   ]
  },
  {
   "cell_type": "code",
   "execution_count": 296,
   "metadata": {},
   "outputs": [
    {
     "data": {
      "image/png": "[encoded data removed]",
      "text/plain": [
       "<Figure size 1000x1000 with 2 Axes>"
      ]
     },
     "metadata": {},
     "output_type": "display_data"
    }
   ],
   "source": [
    "from funciones.machine_learning import crear_heatmap_correlacion\n",
    "crear_heatmap_correlacion(df_startups)"
   ]
  },
  {
   "cell_type": "markdown",
   "metadata": {},
   "source": [
    "## ***Correlaciones fuertes:***\n",
    "(Las siguientes correlaciones indican que ambas variables están muy relacionadas entre sí y probablemente se pueden utilizar indistintamente en un modelo predictivo) \n",
    "##### → Las variables \"Net_Profit\" y \"Profit\" tienen una correlación muy alta de 0.99.\n",
    "##### → La variable \"Operational Cost\" tiene una correlación alta con la variable \"Marketing_Expenditure\" de 0.97.\n",
    "##### → Las variables \"RnD_Expenditure\" y \"Profit\" tienen una correlación alta de 0.82.\n",
    "##### → Las variables \"RnD_Expenditure\" y \"Net_Profit\" tienen una correlación fuerte de 0.77.\n",
    "\n",
    "## ***Correlaciones moderadas:***\n",
    "(Las siguientes correlaciones indican que ambas variables están relacionadas entre sí pero no de manera muy fuerte) \n",
    "##### → Las variables \"RnD_Expenditure\" y \"Marketing_Expenditure\" tienen una correlación moderadamente fuerte de 0.45.\n",
    "##### → Las variables \"Marketing_Expenditure\" y \"Net_Profit\" tienen una correlación moderada de 0.4.\n",
    "\n",
    "## ***Correlaciones débiles:***\n",
    "(Las siguientes correlaciones indican que ambas variables NO están muy relacionadas entre sí y probablemente NO tengan un gran impacto en un modelo predictivo) \n",
    "##### → Las variables \"Admin_Costs\" y \"Marketing_Expenditure\" tienen una correlación débil de -0.1.\n",
    "##### → Las variables \"Admin_Costs\" y \"Net_Profit\" tienen una correlación débil de -0.01.\n",
    "##### → La variable \"Employee_Count\" tiene correlaciones débiles con otras variables (todas debajo de 0.2 - salvo con \"Profit\"), con la más fuerte siendo 0.17 con \"Admin_Costs\".\n",
    "\n",
    "\n",
    "##### Es importante tener en cuenta que la correlación no implica causalidad, es decir, solo porque dos variables están correlacionadas entre sí no significa que una variable cause la otra. Por lo tanto, es necesario realizar un análisis más detallado para determinar las relaciones causales entre las variables."
   ]
  },
  {
   "cell_type": "markdown",
   "metadata": {},
   "source": [
    "___"
   ]
  },
  {
   "cell_type": "markdown",
   "metadata": {},
   "source": [
    "## ***b. Modelo de Regresión Lineal para Predecir Beneficio Neto.***"
   ]
  },
  {
   "cell_type": "markdown",
   "metadata": {},
   "source": [
    "#### Para el modelo1 no voy a estar usando Profit porque es una variable que no se puede usar para predecir el Beneficio Neto, ya que el beneficio neto es el beneficio después de deducir todos los gastos, incluido el beneficio. Por lo tanto, no tiene sentido usarlo para predecir el beneficio neto. Por lo tanto, no voy a tener en cuenta la variable \"Profit\" para el modelo1."
   ]
  },
  {
   "cell_type": "code",
   "execution_count": 297,
   "metadata": {},
   "outputs": [],
   "source": [
    "# Selecciono features\n",
    "features1 = [\"RnD_Expenditure\", \"Admin_Costs\", \"Marketing_Expenditure\", \"Employee_Count\", \"Operational_Cost\"]"
   ]
  },
  {
   "cell_type": "code",
   "execution_count": 298,
   "metadata": {},
   "outputs": [
    {
     "data": {
      "text/plain": [
       "'\\nfrom scipy.stats import zscore\\n\\ncolumnas_para_transformar = [\"RnD_Expenditure\", \"Admin_Costs\", \"Marketing_Expenditure\", \"Employee_Count\", \"Operational_Cost\"]\\nstartups_zscore = df_startups[columnas_para_transformar].apply(zscore)\\ndf_startups[columnas_para_transformar] = startups_zscore\\ndf_startups.head()\\n'"
      ]
     },
     "execution_count": 298,
     "metadata": {},
     "output_type": "execute_result"
    }
   ],
   "source": [
    "# Estandarizo features numercias\n",
    "'''\n",
    "from scipy.stats import zscore\n",
    "\n",
    "columnas_para_transformar = [\"RnD_Expenditure\", \"Admin_Costs\", \"Marketing_Expenditure\", \"Employee_Count\", \"Operational_Cost\"]\n",
    "startups_zscore = df_startups[columnas_para_transformar].apply(zscore)\n",
    "df_startups[columnas_para_transformar] = startups_zscore\n",
    "df_startups.head()\n",
    "'''"
   ]
  },
  {
   "cell_type": "code",
   "execution_count": 299,
   "metadata": {},
   "outputs": [
    {
     "data": {
      "text/plain": [
       "'Net_Profit ~ RnD_Expenditure + Admin_Costs + Marketing_Expenditure + Employee_Count + Operational_Cost'"
      ]
     },
     "execution_count": 299,
     "metadata": {},
     "output_type": "execute_result"
    }
   ],
   "source": [
    "formula1 = \"Net_Profit ~ \" + ' + '.join(features1)\n",
    "formula1"
   ]
  },
  {
   "cell_type": "code",
   "execution_count": 300,
   "metadata": {},
   "outputs": [
    {
     "name": "stdout",
     "output_type": "stream",
     "text": [
      "Intel MKL WARNING: Support of Intel(R) Streaming SIMD Extensions 4.2 (Intel(R) SSE4.2) enabled only processors has been deprecated. Intel oneAPI Math Kernel Library 2025.0 will require Intel(R) Advanced Vector Extensions (Intel(R) AVX) instructions.\n",
      "                            OLS Regression Results                            \n",
      "==============================================================================\n",
      "Dep. Variable:             Net_Profit   R-squared:                       0.601\n",
      "Model:                            OLS   Adj. R-squared:                  0.570\n",
      "Method:                 Least Squares   F-statistic:                     19.93\n",
      "Date:                Mon, 06 Nov 2023   Prob (F-statistic):           4.62e-10\n",
      "Time:                        09:11:25   Log-Likelihood:                -670.16\n",
      "No. Observations:                  58   AIC:                             1350.\n",
      "Df Residuals:                      53   BIC:                             1361.\n",
      "Df Model:                           4                                         \n",
      "Covariance Type:            nonrobust                                         \n",
      "=========================================================================================\n",
      "                            coef    std err          t      P>|t|      [0.025      0.975]\n",
      "-----------------------------------------------------------------------------------------\n",
      "Intercept              6.111e+04   1.82e+04      3.364      0.001    2.47e+04    9.75e+04\n",
      "RnD_Expenditure           0.6815      0.089      7.643      0.000       0.503       0.860\n",
      "Admin_Costs               0.0262      0.084      0.312      0.756      -0.142       0.194\n",
      "Marketing_Expenditure    -0.0057      0.046     -0.125      0.901      -0.098       0.086\n",
      "Employee_Count          -29.1118     25.546     -1.140      0.260     -80.350      22.126\n",
      "Operational_Cost          0.0204      0.044      0.464      0.644      -0.068       0.109\n",
      "==============================================================================\n",
      "Omnibus:                       20.284   Durbin-Watson:                   2.215\n",
      "Prob(Omnibus):                  0.000   Jarque-Bera (JB):               47.009\n",
      "Skew:                          -0.970   Prob(JB):                     6.20e-11\n",
      "Kurtosis:                       6.961   Cond. No.                     1.50e+16\n",
      "==============================================================================\n",
      "\n",
      "Notes:\n",
      "[1] Standard Errors assume that the covariance matrix of the errors is correctly specified.\n",
      "[2] The smallest eigenvalue is 5.43e-20. This might indicate that there are\n",
      "strong multicollinearity problems or that the design matrix is singular.\n"
     ]
    }
   ],
   "source": [
    "import statsmodels.formula.api as smf\n",
    "\n",
    "modelo1 = smf.ols(formula=formula1, data=df_startups)\n",
    "modelo1 = modelo1.fit()\n",
    "print(modelo1.summary())"
   ]
  },
  {
   "cell_type": "markdown",
   "metadata": {},
   "source": [
    "___"
   ]
  },
  {
   "cell_type": "markdown",
   "metadata": {},
   "source": [
    "## ***c. ¿Cual es la intuicion detrás de la formula de la regresion resultante?***"
   ]
  },
  {
   "cell_type": "code",
   "execution_count": 301,
   "metadata": {},
   "outputs": [],
   "source": [
    "coeficientes_absolutos = abs(modelo1.params.drop('Intercept'))\n",
    "coef_sorted = coeficientes_absolutos.sort_values(ascending=False)"
   ]
  },
  {
   "cell_type": "code",
   "execution_count": 302,
   "metadata": {},
   "outputs": [
    {
     "data": {
      "image/png": "[encoded data removed]",
      "text/plain": [
       "<Figure size 2000x600 with 1 Axes>"
      ]
     },
     "metadata": {},
     "output_type": "display_data"
    }
   ],
   "source": [
    "plt.figure(figsize=(20, 6))\n",
    "plt.bar(coef_sorted.index, coef_sorted, width=0.3)\n",
    "plt.xlabel('Variable')\n",
    "plt.ylabel('Coeficiente de regresión (valor absoluto)')\n",
    "plt.title('Importancia relativa de las variables en el modelo')\n",
    "sns.set_style(\"darkgrid\")\n",
    "plt.grid(False)\n",
    "plt.show()"
   ]
  },
  {
   "cell_type": "markdown",
   "metadata": {},
   "source": [
    "##### La fórmula de la regresión resultante es una ecuación que describe la relación entre la variable dependiente (en este caso, \"Net_Profit\") y las variables independientes (en este caso, \"RnD_Expenditure\", \"Admin_Costs\", \"Marketing_Expenditure\", \"Employee_Count\" y \"OperationalCost\").\n",
    "\n",
    "##### En el caso de la regresión lineal múltiple,la ecuación de regresión tiene la forma: y = b0 + b1.x1 + b2.x2 + ... + bn.xn donde \"y\" es la variable dependiente, \"X1\", \"X2\" ',..., \"xn\" son las variables independientes, \"b0\" es el intercepto y \"b1\" \"b2\" , ... , \"bn\" son los coeficientes de regresión que indican cómo cambia \"y\" cuando cambia cada variable independiente.\n",
    "\n",
    "##### Hablando de este caso en particular, la intuición detrás de la fórmula es la siguiente:\n",
    "\n",
    "##### → La variable que más impacto tiene sobre las startups definitivamente es el \"Employee_Count\", ya que su coeficiente es el más alto de todos hablando en términos absolutos(-29.1118), lo que significa que por cada 1 aumento de \"Employee_Count\", el \"Net_Profit\" disminuye en 29.1118. Esto tiene sentido, ya que cuanto más empleados tenga una startup, más gastos tendrá y, por lo tanto, menos beneficios netos.\n",
    "\n",
    "##### → La segunda variable más explicativa es \"RnD_Expenditure\". Su coeficiente es de 0.6815, lo que significa que por cada 1 aumento de \"RnD_Expenditure\", el \"Net_Profit\" aumenta en 0.6815. Esto tiene sentido, ya que cuanto más gastos de investigación y desarrollo tenga una startup, más probable es que tenga más beneficios netos.\n",
    "\n",
    "##### → Luego, tenemos la variable \"Marketing_Expenditure\", que tiene un coeficiente de -0.0057 y significa que por cada 1 aumento de \"Marketing_Expenditure\", el \"Net_Profit\" disminuye en 0.0057. Para una startup que está comenzando, es importante que tenga un buen marketing para darse a conocer, pero si gasta demasiado en marketing, puede tener menos beneficios netos.\n",
    "\n",
    "##### → Por último, tenemos a las variables \"Admin_Costs\" y \"OperationalCost\", que tienen coeficientes de 0.0262 y 0.0204, respectivamente. Hablando de este modelo en particular son las variables menos explicativas o que menos impacto tienen debido a sus coeficientes bajos. Sin embargo, es importante tener en cuenta que en otros modelos podrían tener un impacto mayor.\n",
    "\n"
   ]
  },
  {
   "cell_type": "markdown",
   "metadata": {},
   "source": [
    "___"
   ]
  },
  {
   "cell_type": "markdown",
   "metadata": {},
   "source": [
    "## ***d. ¿Cual es el error promedio? ¿Y el error elevado al cuadrado? ¿Qué significa?***"
   ]
  },
  {
   "cell_type": "code",
   "execution_count": 303,
   "metadata": {},
   "outputs": [
    {
     "name": "stdout",
     "output_type": "stream",
     "text": [
      "El error promedio es de: 1.3046544687501316e-11\n"
     ]
    }
   ],
   "source": [
    "df_startups[\"predicho\"] = modelo1.predict(df_startups[features1])\n",
    "df_startups[\"error\"] = df_startups[\"Net_Profit\"] - df_startups[\"predicho\"]\n",
    "print(\"El error promedio es de: \" + str(df_startups[\"error\"].mean()))"
   ]
  },
  {
   "cell_type": "markdown",
   "metadata": {},
   "source": [
    "#### El \"error promedio\" es la media de los errores de predicción del modelo de regresión lineal múltiple. En este caso, el error promedio se calcula como la diferencia entre los valores observados de Beneficio Neto y los valores predichos por el modelo (luego a eso, se le hace el promedio).\n",
    "#### Un error promedio bajo indica que el modelo se ajusta bien a los datos y que las predicciones son precisas. Por otro lado, un error promedio alto indica que modelo no se ajusta bien a los datos y que las predicciones no son precisas.\n",
    "#### En cuanto al valor específico que menciona (1.3046544687501316e-11), esto significa que el error promedio es extremadamente bajo, en el orden de 10^-11. Esto indica que el modelo se ajusta muy bien a los datos y que las predicciones son muy precisas. Sin embargo, es importante tener en cuenta: que este valor puede ser influenciado por el tamaño de la muestra y la precisión de los datos utilizados para ajustar el modelo."
   ]
  },
  {
   "cell_type": "code",
   "execution_count": 304,
   "metadata": {},
   "outputs": [
    {
     "name": "stdout",
     "output_type": "stream",
     "text": [
      "Error Cuadrático Medio (MSE): 636237732.58\n"
     ]
    },
    {
     "name": "stderr",
     "output_type": "stream",
     "text": [
      "/Users/lolonastri/opt/anaconda3/envs/POO-env/lib/python3.11/site-packages/sklearn/utils/validation.py:605: FutureWarning: is_sparse is deprecated and will be removed in a future version. Check `isinstance(dtype, pd.SparseDtype)` instead.\n",
      "  if is_sparse(pd_dtype):\n",
      "/Users/lolonastri/opt/anaconda3/envs/POO-env/lib/python3.11/site-packages/sklearn/utils/validation.py:614: FutureWarning: is_sparse is deprecated and will be removed in a future version. Check `isinstance(dtype, pd.SparseDtype)` instead.\n",
      "  if is_sparse(pd_dtype) or not is_extension_array_dtype(pd_dtype):\n"
     ]
    }
   ],
   "source": [
    "from sklearn.metrics import mean_squared_error\n",
    "\n",
    "y_pred = modelo1.predict()\n",
    "y_actual = df_startups['Net_Profit']\n",
    "\n",
    "mse = mean_squared_error(y_actual, y_pred) # esta mal hecho, se cancelan los positivos con los negativos\n",
    "print(\"Error Cuadrático Medio (MSE): {:.2f}\".format(mse))"
   ]
  },
  {
   "cell_type": "code",
   "execution_count": 305,
   "metadata": {},
   "outputs": [
    {
     "name": "stdout",
     "output_type": "stream",
     "text": [
      "El Error Cuadrático Medio es de: 636237732.5753268\n"
     ]
    }
   ],
   "source": [
    "print(\"El Error Cuadrático Medio es de: \" + str(((df_startups[\"Net_Profit\"] - df_startups[\"predicho\"])**2).mean()))"
   ]
  },
  {
   "cell_type": "markdown",
   "metadata": {},
   "source": [
    "#### El error cuadrático medio es una medida de la precisión del modelo (es una medida de la calidad del ajuste de los datos). Cuanto menor sea el error cuadrático medio, mejor será el modelo. Sin embargo, es importante tener en cuenta que el error cuadrático medio no puede compararse con el error cuadrático medio de otros modelos, ya que depende de la escala de la variable dependiente. Un MSE bajo y un R² alto indican que el modelo se ajusta bien a los datos.\n",
    "#### En este caso, un MSE de 1379233329.3434691 significa que, en promedio, los valores predichos por el modelo difieren de los valores observados en aproximadamente 636 millones de dólares."
   ]
  },
  {
   "cell_type": "markdown",
   "metadata": {},
   "source": [
    "___"
   ]
  },
  {
   "cell_type": "markdown",
   "metadata": {},
   "source": [
    "## ***e. Analice del Sector de la Industria en el Beneficio Neto.***"
   ]
  },
  {
   "cell_type": "code",
   "execution_count": 306,
   "metadata": {},
   "outputs": [
    {
     "name": "stdout",
     "output_type": "stream",
     "text": [
      "Intel MKL WARNING: Support of Intel(R) Streaming SIMD Extensions 4.2 (Intel(R) SSE4.2) enabled only processors has been deprecated. Intel oneAPI Math Kernel Library 2025.0 will require Intel(R) Advanced Vector Extensions (Intel(R) AVX) instructions.\n",
      "                            OLS Regression Results                            \n",
      "==============================================================================\n",
      "Dep. Variable:             Net_Profit   R-squared:                       0.049\n",
      "Model:                            OLS   Adj. R-squared:                 -0.023\n",
      "Method:                 Least Squares   F-statistic:                    0.6821\n",
      "Date:                Mon, 06 Nov 2023   Prob (F-statistic):              0.607\n",
      "Time:                        09:11:25   Log-Likelihood:                -695.32\n",
      "No. Observations:                  58   AIC:                             1401.\n",
      "Df Residuals:                      53   BIC:                             1411.\n",
      "Df Model:                           4                                         \n",
      "Covariance Type:            nonrobust                                         \n",
      "====================================================================================================\n",
      "                                       coef    std err          t      P>|t|      [0.025      0.975]\n",
      "----------------------------------------------------------------------------------------------------\n",
      "Intercept                         1.192e+05   1.44e+04      8.278      0.000    9.03e+04    1.48e+05\n",
      "C(Industry_Sector)[T.Finance]     1.055e+04   1.83e+04      0.577      0.567   -2.61e+04    4.73e+04\n",
      "C(Industry_Sector)[T.Healthcare] -1.509e+04   1.83e+04     -0.824      0.413   -5.18e+04    2.16e+04\n",
      "C(Industry_Sector)[T.Retail]     -7227.9054   1.98e+04     -0.365      0.716   -4.69e+04    3.25e+04\n",
      "C(Industry_Sector)[T.Tech]       -2230.8548   1.78e+04     -0.125      0.901    -3.8e+04    3.35e+04\n",
      "==============================================================================\n",
      "Omnibus:                        2.588   Durbin-Watson:                   0.970\n",
      "Prob(Omnibus):                  0.274   Jarque-Bera (JB):                1.529\n",
      "Skew:                           0.075   Prob(JB):                        0.466\n",
      "Kurtosis:                       2.219   Cond. No.                         6.94\n",
      "==============================================================================\n",
      "\n",
      "Notes:\n",
      "[1] Standard Errors assume that the covariance matrix of the errors is correctly specified.\n"
     ]
    }
   ],
   "source": [
    "modelo2 = smf.ols(formula=\"Net_Profit ~ C(Industry_Sector)\", data=df_startups)\n",
    "modelo2 = modelo2.fit()\n",
    "print(modelo2.summary()) # sacar a los sectores de finance y tech por que me tiran e+0.4"
   ]
  },
  {
   "cell_type": "markdown",
   "metadata": {},
   "source": [
    "##### En general, es recomendable eliminar del modelo aquellas variables que tengan coeficientes muy altos, ya que esto puede indicar que están teniendo un efecto desproporcionado en la predicción del modelo y pueden estar causando overfitting.\n",
    "##### En mi caso, si el coeficiente de alguna variable es de ...e+04, es posible que esté teniendo un efecto desproporcionado en la predicción del modelo. Sin embargo, es importante tener en cuenta que la decisión de eliminar una variable del modelo no debe basarse unicamente en el valor del coeficiente, sino que debe evaluarse también la relevancia de la variable en el contexto del problema que se está resolviendo.\n",
    "##### Es por eso, que ***NO DECIDÍ ELIMINAR NINGUNA VARIABLE DEL MODELO***."
   ]
  },
  {
   "cell_type": "markdown",
   "metadata": {},
   "source": [
    "___"
   ]
  },
  {
   "cell_type": "markdown",
   "metadata": {},
   "source": [
    "## ***f. ¿Cual es la relacion entre las series y el profit? ¿Es importante hay alguna particularidad? (Hint)***"
   ]
  },
  {
   "cell_type": "code",
   "execution_count": 307,
   "metadata": {},
   "outputs": [
    {
     "data": {
      "text/html": [
       "<div>\n",
       "<style scoped>\n",
       "    .dataframe tbody tr th:only-of-type {\n",
       "        vertical-align: middle;\n",
       "    }\n",
       "\n",
       "    .dataframe tbody tr th {\n",
       "        vertical-align: top;\n",
       "    }\n",
       "\n",
       "    .dataframe thead th {\n",
       "        text-align: right;\n",
       "    }\n",
       "</style>\n",
       "<table border=\"1\" class=\"dataframe\">\n",
       "  <thead>\n",
       "    <tr style=\"text-align: right;\">\n",
       "      <th></th>\n",
       "      <th></th>\n",
       "      <th>RnD_Expenditure</th>\n",
       "      <th>Admin_Costs</th>\n",
       "      <th>Marketing_Expenditure</th>\n",
       "      <th>Location</th>\n",
       "      <th>Net_Profit</th>\n",
       "      <th>Industry_Sector</th>\n",
       "      <th>Profit</th>\n",
       "      <th>Employee_Count</th>\n",
       "      <th>Investment_Round</th>\n",
       "      <th>Operational_Cost</th>\n",
       "      <th>predicho</th>\n",
       "      <th>error</th>\n",
       "    </tr>\n",
       "  </thead>\n",
       "  <tbody>\n",
       "    <tr>\n",
       "      <th>0</th>\n",
       "      <td>0</td>\n",
       "      <td>165349.20</td>\n",
       "      <td>136897.80</td>\n",
       "      <td>471784.10</td>\n",
       "      <td>New York</td>\n",
       "      <td>192261.83</td>\n",
       "      <td>Energy</td>\n",
       "      <td>227095.722346</td>\n",
       "      <td>289</td>\n",
       "      <td>Series A</td>\n",
       "      <td>608681.90</td>\n",
       "      <td>178688.089646</td>\n",
       "      <td>13573.740354</td>\n",
       "    </tr>\n",
       "    <tr>\n",
       "      <th>1</th>\n",
       "      <td>1</td>\n",
       "      <td>162597.70</td>\n",
       "      <td>151377.59</td>\n",
       "      <td>443898.53</td>\n",
       "      <td>California</td>\n",
       "      <td>191792.06</td>\n",
       "      <td>Tech</td>\n",
       "      <td>224711.757208</td>\n",
       "      <td>217</td>\n",
       "      <td>Series B</td>\n",
       "      <td>595276.12</td>\n",
       "      <td>179173.873144</td>\n",
       "      <td>12618.186856</td>\n",
       "    </tr>\n",
       "    <tr>\n",
       "      <th>2</th>\n",
       "      <td>2</td>\n",
       "      <td>153441.51</td>\n",
       "      <td>101145.55</td>\n",
       "      <td>407934.54</td>\n",
       "      <td>Florida</td>\n",
       "      <td>191050.39</td>\n",
       "      <td>Finance</td>\n",
       "      <td>222717.429984</td>\n",
       "      <td>407</td>\n",
       "      <td>Series C</td>\n",
       "      <td>509080.09</td>\n",
       "      <td>164534.568007</td>\n",
       "      <td>26515.821993</td>\n",
       "    </tr>\n",
       "    <tr>\n",
       "      <th>3</th>\n",
       "      <td>3</td>\n",
       "      <td>144372.41</td>\n",
       "      <td>118671.85</td>\n",
       "      <td>383199.62</td>\n",
       "      <td>New York</td>\n",
       "      <td>182901.99</td>\n",
       "      <td>Finance</td>\n",
       "      <td>214017.365199</td>\n",
       "      <td>383</td>\n",
       "      <td>Series A</td>\n",
       "      <td>501871.47</td>\n",
       "      <td>159505.981166</td>\n",
       "      <td>23396.008834</td>\n",
       "    </tr>\n",
       "    <tr>\n",
       "      <th>4</th>\n",
       "      <td>4</td>\n",
       "      <td>142107.34</td>\n",
       "      <td>91391.77</td>\n",
       "      <td>366168.42</td>\n",
       "      <td>Florida</td>\n",
       "      <td>166187.94</td>\n",
       "      <td>Finance</td>\n",
       "      <td>196476.965990</td>\n",
       "      <td>351</td>\n",
       "      <td>Series B</td>\n",
       "      <td>457560.19</td>\n",
       "      <td>157372.932725</td>\n",
       "      <td>8815.007275</td>\n",
       "    </tr>\n",
       "  </tbody>\n",
       "</table>\n",
       "</div>"
      ],
      "text/plain": [
       "      RnD_Expenditure  Admin_Costs  Marketing_Expenditure    Location  \\\n",
       "0  0        165349.20    136897.80              471784.10    New York   \n",
       "1  1        162597.70    151377.59              443898.53  California   \n",
       "2  2        153441.51    101145.55              407934.54     Florida   \n",
       "3  3        144372.41    118671.85              383199.62    New York   \n",
       "4  4        142107.34     91391.77              366168.42     Florida   \n",
       "\n",
       "   Net_Profit Industry_Sector         Profit  Employee_Count Investment_Round  \\\n",
       "0   192261.83          Energy  227095.722346             289         Series A   \n",
       "1   191792.06            Tech  224711.757208             217         Series B   \n",
       "2   191050.39         Finance  222717.429984             407         Series C   \n",
       "3   182901.99         Finance  214017.365199             383         Series A   \n",
       "4   166187.94         Finance  196476.965990             351         Series B   \n",
       "\n",
       "   Operational_Cost       predicho         error  \n",
       "0         608681.90  178688.089646  13573.740354  \n",
       "1         595276.12  179173.873144  12618.186856  \n",
       "2         509080.09  164534.568007  26515.821993  \n",
       "3         501871.47  159505.981166  23396.008834  \n",
       "4         457560.19  157372.932725   8815.007275  "
      ]
     },
     "execution_count": 307,
     "metadata": {},
     "output_type": "execute_result"
    }
   ],
   "source": [
    "df_startups_con_series = df_startups[df_startups[\"Investment_Round\"].str.contains(\"Series\")]\n",
    "df_startups_con_series.head()"
   ]
  },
  {
   "cell_type": "code",
   "execution_count": 308,
   "metadata": {},
   "outputs": [
    {
     "name": "stdout",
     "output_type": "stream",
     "text": [
      "Intel MKL WARNING: Support of Intel(R) Streaming SIMD Extensions 4.2 (Intel(R) SSE4.2) enabled only processors has been deprecated. Intel oneAPI Math Kernel Library 2025.0 will require Intel(R) Advanced Vector Extensions (Intel(R) AVX) instructions.\n",
      "                            OLS Regression Results                            \n",
      "==============================================================================\n",
      "Dep. Variable:                 Profit   R-squared:                       0.111\n",
      "Model:                            OLS   Adj. R-squared:                  0.033\n",
      "Method:                 Least Squares   F-statistic:                     1.430\n",
      "Date:                Mon, 06 Nov 2023   Prob (F-statistic):              0.260\n",
      "Time:                        09:11:25   Log-Likelihood:                -315.25\n",
      "No. Observations:                  26   AIC:                             636.5\n",
      "Df Residuals:                      23   BIC:                             640.3\n",
      "Df Model:                           2                                         \n",
      "Covariance Type:            nonrobust                                         \n",
      "===================================================================================================\n",
      "                                      coef    std err          t      P>|t|      [0.025      0.975]\n",
      "---------------------------------------------------------------------------------------------------\n",
      "Intercept                        1.746e+05   2.37e+04      7.359      0.000    1.26e+05    2.24e+05\n",
      "C(Investment_Round)[T.Series B] -2.255e+04   2.85e+04     -0.791      0.437   -8.15e+04    3.64e+04\n",
      "C(Investment_Round)[T.Series C] -4.343e+04   2.71e+04     -1.601      0.123   -9.95e+04    1.27e+04\n",
      "==============================================================================\n",
      "Omnibus:                        0.082   Durbin-Watson:                   0.315\n",
      "Prob(Omnibus):                  0.960   Jarque-Bera (JB):                0.300\n",
      "Skew:                          -0.047   Prob(JB):                        0.861\n",
      "Kurtosis:                       2.482   Cond. No.                         5.44\n",
      "==============================================================================\n",
      "\n",
      "Notes:\n",
      "[1] Standard Errors assume that the covariance matrix of the errors is correctly specified.\n"
     ]
    }
   ],
   "source": [
    "modelo3 = smf.ols(formula=\"Profit ~ C(Investment_Round)\", data=df_startups_con_series)\n",
    "modelo3 = modelo3.fit()\n",
    "print(modelo3.summary())"
   ]
  }
 ],
 "metadata": {
  "kernelspec": {
   "display_name": "POO-env",
   "language": "python",
   "name": "python3"
  },
  "language_info": {
   "codemirror_mode": {
    "name": "ipython",
    "version": 3
   },
   "file_extension": ".py",
   "mimetype": "text/x-python",
   "name": "python",
   "nbconvert_exporter": "python",
   "pygments_lexer": "ipython3",
   "version": "3.11.5"
  },
  "orig_nbformat": 4
 },
 "nbformat": 4,
 "nbformat_minor": 2
}
