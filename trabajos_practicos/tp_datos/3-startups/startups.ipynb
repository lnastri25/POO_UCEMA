{
 "cells": [
  {
   "cell_type": "markdown",
   "metadata": {},
   "source": [
    "# 3) Startups:\n",
    "\n",
    "##### Fecha entrega: 5/11/2023.\n",
    "##### El dataset de startups contiene variables como gastos en investigación y desarrollo (I+D), costos administrativos, gastos en marketing, ubicación geográfica y beneficios netos.\n",
    "##### Este tipo de datos es esencial para entender el rendimiento financiero y operativo de una startup, lo cual es crítico para la toma de decisiones tanto para los inversionistas como para la administración de la empresa.\n",
    "\n",
    "## → a. Análisis Exploratorio de Datos (EDA) \n",
    "#### ¿Qué conclusiones puede sacar con respecto a las distribuciones de las variables numéricas y las relaciones entre ellas?\n",
    "\n",
    "## → b. Modelo de Regresión Lineal para Predecir Beneficio Neto.\n",
    "\n",
    "## → c. ¿Cual es la intuicion detrás de la formula de la regresion resultante?\n",
    "\n",
    "## → d. ¿Cual es el error promedio? ¿Y el error elevado al cuadrado? ¿Que significa?\n",
    "\n",
    "## → e. Analice del Sector de la Industria en el Beneficio Neto.\n",
    "\n",
    "## → f. ¿Cual es la relacion entre las series y el profit? ¿Es importante hay alguna particularidad? (Hint)\n"
   ]
  },
  {
   "cell_type": "code",
   "execution_count": 145,
   "metadata": {},
   "outputs": [],
   "source": [
    "import pandas as pd\n",
    "import matplotlib.pyplot as plt\n",
    "import seaborn as sns"
   ]
  },
  {
   "cell_type": "code",
   "execution_count": 146,
   "metadata": {},
   "outputs": [
    {
     "data": {
      "text/html": [
       "<div>\n",
       "<style scoped>\n",
       "    .dataframe tbody tr th:only-of-type {\n",
       "        vertical-align: middle;\n",
       "    }\n",
       "\n",
       "    .dataframe tbody tr th {\n",
       "        vertical-align: top;\n",
       "    }\n",
       "\n",
       "    .dataframe thead th {\n",
       "        text-align: right;\n",
       "    }\n",
       "</style>\n",
       "<table border=\"1\" class=\"dataframe\">\n",
       "  <thead>\n",
       "    <tr style=\"text-align: right;\">\n",
       "      <th></th>\n",
       "      <th></th>\n",
       "      <th>RnD_Expenditure</th>\n",
       "      <th>Admin_Costs</th>\n",
       "      <th>Marketing_Expenditure</th>\n",
       "      <th>Location</th>\n",
       "      <th>Net_Profit</th>\n",
       "      <th>Industry_Sector</th>\n",
       "      <th>Profit</th>\n",
       "      <th>Employee_Count</th>\n",
       "      <th>Investment_Round</th>\n",
       "      <th>Operational_Cost</th>\n",
       "    </tr>\n",
       "  </thead>\n",
       "  <tbody>\n",
       "    <tr>\n",
       "      <th>0</th>\n",
       "      <td>0</td>\n",
       "      <td>165349.20</td>\n",
       "      <td>136897.80</td>\n",
       "      <td>471784.10</td>\n",
       "      <td>New York</td>\n",
       "      <td>192261.83</td>\n",
       "      <td>Energy</td>\n",
       "      <td>227095.722346</td>\n",
       "      <td>289</td>\n",
       "      <td>Series A</td>\n",
       "      <td>608681.90</td>\n",
       "    </tr>\n",
       "    <tr>\n",
       "      <th>1</th>\n",
       "      <td>1</td>\n",
       "      <td>162597.70</td>\n",
       "      <td>151377.59</td>\n",
       "      <td>443898.53</td>\n",
       "      <td>California</td>\n",
       "      <td>191792.06</td>\n",
       "      <td>Tech</td>\n",
       "      <td>224711.757208</td>\n",
       "      <td>217</td>\n",
       "      <td>Series B</td>\n",
       "      <td>595276.12</td>\n",
       "    </tr>\n",
       "    <tr>\n",
       "      <th>2</th>\n",
       "      <td>2</td>\n",
       "      <td>153441.51</td>\n",
       "      <td>101145.55</td>\n",
       "      <td>407934.54</td>\n",
       "      <td>Florida</td>\n",
       "      <td>191050.39</td>\n",
       "      <td>Finance</td>\n",
       "      <td>222717.429984</td>\n",
       "      <td>407</td>\n",
       "      <td>Series C</td>\n",
       "      <td>509080.09</td>\n",
       "    </tr>\n",
       "    <tr>\n",
       "      <th>3</th>\n",
       "      <td>3</td>\n",
       "      <td>144372.41</td>\n",
       "      <td>118671.85</td>\n",
       "      <td>383199.62</td>\n",
       "      <td>New York</td>\n",
       "      <td>182901.99</td>\n",
       "      <td>Finance</td>\n",
       "      <td>214017.365199</td>\n",
       "      <td>383</td>\n",
       "      <td>Series A</td>\n",
       "      <td>501871.47</td>\n",
       "    </tr>\n",
       "    <tr>\n",
       "      <th>4</th>\n",
       "      <td>4</td>\n",
       "      <td>142107.34</td>\n",
       "      <td>91391.77</td>\n",
       "      <td>366168.42</td>\n",
       "      <td>Florida</td>\n",
       "      <td>166187.94</td>\n",
       "      <td>Finance</td>\n",
       "      <td>196476.965990</td>\n",
       "      <td>351</td>\n",
       "      <td>Series B</td>\n",
       "      <td>457560.19</td>\n",
       "    </tr>\n",
       "  </tbody>\n",
       "</table>\n",
       "</div>"
      ],
      "text/plain": [
       "        RnD_Expenditure          Admin_Costs            \\\n",
       "0    0                165349.20              136897.80   \n",
       "1    1                162597.70              151377.59   \n",
       "2    2                153441.51              101145.55   \n",
       "3    3                144372.41              118671.85   \n",
       "4    4                142107.34               91391.77   \n",
       "\n",
       "   Marketing_Expenditure   Location     Net_Profit            \\\n",
       "0               471784.10  New York                192261.83   \n",
       "1               443898.53  California              191792.06   \n",
       "2               407934.54  Florida                 191050.39   \n",
       "3               383199.62  New York                182901.99   \n",
       "4               366168.42  Florida                 166187.94   \n",
       "\n",
       "   Industry_Sector   Profit                Employee_Count   Investment_Round   \\\n",
       "0  Energy                   227095.722346              289  Series A            \n",
       "1  Tech                     224711.757208              217  Series B            \n",
       "2  Finance                  222717.429984              407  Series C            \n",
       "3  Finance                  214017.365199              383  Series A            \n",
       "4  Finance                  196476.965990              351  Series B            \n",
       "\n",
       "   Operational_Cost  \n",
       "0         608681.90  \n",
       "1         595276.12  \n",
       "2         509080.09  \n",
       "3         501871.47  \n",
       "4         457560.19  "
      ]
     },
     "execution_count": 146,
     "metadata": {},
     "output_type": "execute_result"
    }
   ],
   "source": [
    "df_startups = pd.read_csv(\"/Users/lolonastri/Desktop/POO_UCEMA/trabajos_practicos/tp_datos/3-startups/startups.csv\")\n",
    "df_startups.head()"
   ]
  },
  {
   "cell_type": "code",
   "execution_count": 147,
   "metadata": {},
   "outputs": [],
   "source": [
    "df_startups = df_startups.copy()"
   ]
  },
  {
   "cell_type": "code",
   "execution_count": 148,
   "metadata": {},
   "outputs": [
    {
     "data": {
      "text/plain": [
       "Index(['   ', 'RnD_Expenditure        ', 'Admin_Costs          ',\n",
       "       'Marketing_Expenditure ', 'Location   ', 'Net_Profit          ',\n",
       "       'Industry_Sector ', 'Profit              ', 'Employee_Count ',\n",
       "       'Investment_Round ', 'Operational_Cost'],\n",
       "      dtype='object')"
      ]
     },
     "execution_count": 148,
     "metadata": {},
     "output_type": "execute_result"
    }
   ],
   "source": [
    "df_startups.columns"
   ]
  },
  {
   "cell_type": "code",
   "execution_count": 149,
   "metadata": {},
   "outputs": [],
   "source": [
    "from funciones.exploratory_data_analysis import whitespace_remover_and_columns\n",
    "df_startups = whitespace_remover_and_columns(df_startups)"
   ]
  },
  {
   "cell_type": "markdown",
   "metadata": {},
   "source": [
    "#### El Beneficio Neto no puede ser mayor al Profit, entonces filtramos negando esa condición."
   ]
  },
  {
   "cell_type": "code",
   "execution_count": 150,
   "metadata": {},
   "outputs": [],
   "source": [
    "df_startups =  df_startups[~(df_startups[\"Net_Profit\"] > df_startups[\"Profit\"])]"
   ]
  },
  {
   "cell_type": "markdown",
   "metadata": {},
   "source": [
    "___"
   ]
  },
  {
   "cell_type": "markdown",
   "metadata": {},
   "source": [
    "## ***a. Análisis Exploratorio de Datos (EDA)***\n",
    "#### ¿Qué conclusiones puede sacar con respecto a las distribuciones de las variables numéricas y las relaciones entre ellas?"
   ]
  },
  {
   "cell_type": "markdown",
   "metadata": {},
   "source": [
    "## → Validación de la data"
   ]
  },
  {
   "cell_type": "code",
   "execution_count": 151,
   "metadata": {},
   "outputs": [],
   "source": [
    "df_startups.rename(columns=lambda x: x.strip(), inplace=True) # Remuevo espacios de las columnas."
   ]
  },
  {
   "cell_type": "code",
   "execution_count": 152,
   "metadata": {},
   "outputs": [
    {
     "name": "stdout",
     "output_type": "stream",
     "text": [
      "El dataset tiene 65 filas.\n",
      "El dataset tiene 11 columnas.\n"
     ]
    }
   ],
   "source": [
    "print(\"El dataset tiene \" + str(df_startups.shape[0])+ \" filas.\")\n",
    "print(\"El dataset tiene \" + str(df_startups.shape[1])+ \" columnas.\")"
   ]
  },
  {
   "cell_type": "code",
   "execution_count": 153,
   "metadata": {},
   "outputs": [
    {
     "data": {
      "text/plain": [
       "Index(['', 'RnD_Expenditure', 'Admin_Costs', 'Marketing_Expenditure',\n",
       "       'Location', 'Net_Profit', 'Industry_Sector', 'Profit', 'Employee_Count',\n",
       "       'Investment_Round', 'Operational_Cost'],\n",
       "      dtype='object')"
      ]
     },
     "execution_count": 153,
     "metadata": {},
     "output_type": "execute_result"
    }
   ],
   "source": [
    "df_startups.columns"
   ]
  },
  {
   "cell_type": "code",
   "execution_count": 154,
   "metadata": {},
   "outputs": [
    {
     "data": {
      "text/html": [
       "<div>\n",
       "<style scoped>\n",
       "    .dataframe tbody tr th:only-of-type {\n",
       "        vertical-align: middle;\n",
       "    }\n",
       "\n",
       "    .dataframe tbody tr th {\n",
       "        vertical-align: top;\n",
       "    }\n",
       "\n",
       "    .dataframe thead th {\n",
       "        text-align: right;\n",
       "    }\n",
       "</style>\n",
       "<table border=\"1\" class=\"dataframe\">\n",
       "  <thead>\n",
       "    <tr style=\"text-align: right;\">\n",
       "      <th></th>\n",
       "      <th>Unique_Values</th>\n",
       "      <th>Num_Unique_Values</th>\n",
       "      <th>Num_Null_Values</th>\n",
       "      <th>%_Null_Values</th>\n",
       "      <th>Sample_Unique_Values</th>\n",
       "    </tr>\n",
       "  </thead>\n",
       "  <tbody>\n",
       "    <tr>\n",
       "      <th></th>\n",
       "      <td>NaN</td>\n",
       "      <td>65.0</td>\n",
       "      <td>0</td>\n",
       "      <td>0.0</td>\n",
       "      <td>[17, 41, 29, 59, 4]</td>\n",
       "    </tr>\n",
       "    <tr>\n",
       "      <th>RnD_Expenditure</th>\n",
       "      <td>NaN</td>\n",
       "      <td>65.0</td>\n",
       "      <td>0</td>\n",
       "      <td>0.0</td>\n",
       "      <td>[94657.16, 27892.92, 65605.48, 107763.34680067...</td>\n",
       "    </tr>\n",
       "    <tr>\n",
       "      <th>Admin_Costs</th>\n",
       "      <td>NaN</td>\n",
       "      <td>65.0</td>\n",
       "      <td>0</td>\n",
       "      <td>0.0</td>\n",
       "      <td>[145077.58, 84710.77, 153032.06, 131721.375514...</td>\n",
       "    </tr>\n",
       "    <tr>\n",
       "      <th>Marketing_Expenditure</th>\n",
       "      <td>NaN</td>\n",
       "      <td>65.0</td>\n",
       "      <td>0</td>\n",
       "      <td>0.0</td>\n",
       "      <td>[282574.31, 164470.71, 107138.38, 65014.286059...</td>\n",
       "    </tr>\n",
       "    <tr>\n",
       "      <th>Location</th>\n",
       "      <td>3</td>\n",
       "      <td>65</td>\n",
       "      <td>0</td>\n",
       "      <td>0.0</td>\n",
       "      <td>[New York, Florida, New York, New York, Florida]</td>\n",
       "    </tr>\n",
       "    <tr>\n",
       "      <th>Net_Profit</th>\n",
       "      <td>NaN</td>\n",
       "      <td>65.0</td>\n",
       "      <td>0</td>\n",
       "      <td>0.0</td>\n",
       "      <td>[125370.37, 77798.83, 101004.64, 37224.5854944...</td>\n",
       "    </tr>\n",
       "    <tr>\n",
       "      <th>Industry_Sector</th>\n",
       "      <td>5</td>\n",
       "      <td>65</td>\n",
       "      <td>0</td>\n",
       "      <td>0.0</td>\n",
       "      <td>[Tech, Energy, Finance, Healthcare, Finance]</td>\n",
       "    </tr>\n",
       "    <tr>\n",
       "      <th>Profit</th>\n",
       "      <td>NaN</td>\n",
       "      <td>65.0</td>\n",
       "      <td>0</td>\n",
       "      <td>0.0</td>\n",
       "      <td>[144096.6437362342, 81957.39606282103, 115595....</td>\n",
       "    </tr>\n",
       "    <tr>\n",
       "      <th>Employee_Count</th>\n",
       "      <td>NaN</td>\n",
       "      <td>65.0</td>\n",
       "      <td>0</td>\n",
       "      <td>0.0</td>\n",
       "      <td>[302, 72, 393, 409, 351]</td>\n",
       "    </tr>\n",
       "    <tr>\n",
       "      <th>Investment_Round</th>\n",
       "      <td>5</td>\n",
       "      <td>65</td>\n",
       "      <td>0</td>\n",
       "      <td>0.0</td>\n",
       "      <td>[Series B, Series C, Seed, Seed, Series B]</td>\n",
       "    </tr>\n",
       "    <tr>\n",
       "      <th>Operational_Cost</th>\n",
       "      <td>NaN</td>\n",
       "      <td>65.0</td>\n",
       "      <td>0</td>\n",
       "      <td>0.0</td>\n",
       "      <td>[427651.89, 249181.48, 260170.44, 196735.66157...</td>\n",
       "    </tr>\n",
       "  </tbody>\n",
       "</table>\n",
       "</div>"
      ],
      "text/plain": [
       "                      Unique_Values Num_Unique_Values  Num_Null_Values  \\\n",
       "                                NaN              65.0                0   \n",
       "RnD_Expenditure                 NaN              65.0                0   \n",
       "Admin_Costs                     NaN              65.0                0   \n",
       "Marketing_Expenditure           NaN              65.0                0   \n",
       "Location                          3                65                0   \n",
       "Net_Profit                      NaN              65.0                0   \n",
       "Industry_Sector                   5                65                0   \n",
       "Profit                          NaN              65.0                0   \n",
       "Employee_Count                  NaN              65.0                0   \n",
       "Investment_Round                  5                65                0   \n",
       "Operational_Cost                NaN              65.0                0   \n",
       "\n",
       "                       %_Null_Values  \\\n",
       "                                 0.0   \n",
       "RnD_Expenditure                  0.0   \n",
       "Admin_Costs                      0.0   \n",
       "Marketing_Expenditure            0.0   \n",
       "Location                         0.0   \n",
       "Net_Profit                       0.0   \n",
       "Industry_Sector                  0.0   \n",
       "Profit                           0.0   \n",
       "Employee_Count                   0.0   \n",
       "Investment_Round                 0.0   \n",
       "Operational_Cost                 0.0   \n",
       "\n",
       "                                                    Sample_Unique_Values  \n",
       "                                                     [17, 41, 29, 59, 4]  \n",
       "RnD_Expenditure        [94657.16, 27892.92, 65605.48, 107763.34680067...  \n",
       "Admin_Costs            [145077.58, 84710.77, 153032.06, 131721.375514...  \n",
       "Marketing_Expenditure  [282574.31, 164470.71, 107138.38, 65014.286059...  \n",
       "Location                [New York, Florida, New York, New York, Florida]  \n",
       "Net_Profit             [125370.37, 77798.83, 101004.64, 37224.5854944...  \n",
       "Industry_Sector             [Tech, Energy, Finance, Healthcare, Finance]  \n",
       "Profit                 [144096.6437362342, 81957.39606282103, 115595....  \n",
       "Employee_Count                                  [302, 72, 393, 409, 351]  \n",
       "Investment_Round              [Series B, Series C, Seed, Seed, Series B]  \n",
       "Operational_Cost       [427651.89, 249181.48, 260170.44, 196735.66157...  "
      ]
     },
     "execution_count": 154,
     "metadata": {},
     "output_type": "execute_result"
    }
   ],
   "source": [
    "from funciones.exploratory_data_analysis import validate_columns \n",
    "validate_columns(df_startups)"
   ]
  },
  {
   "cell_type": "code",
   "execution_count": 155,
   "metadata": {},
   "outputs": [
    {
     "data": {
      "text/html": [
       "<div>\n",
       "<style scoped>\n",
       "    .dataframe tbody tr th:only-of-type {\n",
       "        vertical-align: middle;\n",
       "    }\n",
       "\n",
       "    .dataframe tbody tr th {\n",
       "        vertical-align: top;\n",
       "    }\n",
       "\n",
       "    .dataframe thead th {\n",
       "        text-align: right;\n",
       "    }\n",
       "</style>\n",
       "<table border=\"1\" class=\"dataframe\">\n",
       "  <thead>\n",
       "    <tr style=\"text-align: right;\">\n",
       "      <th></th>\n",
       "      <th></th>\n",
       "      <th>RnD_Expenditure</th>\n",
       "      <th>Admin_Costs</th>\n",
       "      <th>Marketing_Expenditure</th>\n",
       "      <th>Net_Profit</th>\n",
       "      <th>Profit</th>\n",
       "      <th>Employee_Count</th>\n",
       "      <th>Operational_Cost</th>\n",
       "    </tr>\n",
       "  </thead>\n",
       "  <tbody>\n",
       "    <tr>\n",
       "      <th>count</th>\n",
       "      <td>65.000000</td>\n",
       "      <td>65.000000</td>\n",
       "      <td>65.000000</td>\n",
       "      <td>65.000000</td>\n",
       "      <td>65.000000</td>\n",
       "      <td>65.000000</td>\n",
       "      <td>65.000000</td>\n",
       "      <td>65.000000</td>\n",
       "    </tr>\n",
       "    <tr>\n",
       "      <th>mean</th>\n",
       "      <td>33.461538</td>\n",
       "      <td>79266.510049</td>\n",
       "      <td>111774.068241</td>\n",
       "      <td>221859.916112</td>\n",
       "      <td>111054.949543</td>\n",
       "      <td>124761.846602</td>\n",
       "      <td>266.846154</td>\n",
       "      <td>333633.984353</td>\n",
       "    </tr>\n",
       "    <tr>\n",
       "      <th>std</th>\n",
       "      <td>20.753823</td>\n",
       "      <td>43547.341447</td>\n",
       "      <td>39611.994797</td>\n",
       "      <td>126102.858824</td>\n",
       "      <td>46998.327966</td>\n",
       "      <td>53114.704730</td>\n",
       "      <td>142.020600</td>\n",
       "      <td>130589.953648</td>\n",
       "    </tr>\n",
       "    <tr>\n",
       "      <th>min</th>\n",
       "      <td>0.000000</td>\n",
       "      <td>0.000000</td>\n",
       "      <td>2743.241602</td>\n",
       "      <td>0.000000</td>\n",
       "      <td>-21313.506762</td>\n",
       "      <td>-14885.847169</td>\n",
       "      <td>10.000000</td>\n",
       "      <td>24435.504010</td>\n",
       "    </tr>\n",
       "    <tr>\n",
       "      <th>25%</th>\n",
       "      <td>16.000000</td>\n",
       "      <td>44069.950000</td>\n",
       "      <td>99281.340000</td>\n",
       "      <td>132773.329686</td>\n",
       "      <td>89949.140000</td>\n",
       "      <td>97671.232681</td>\n",
       "      <td>144.000000</td>\n",
       "      <td>244190.740000</td>\n",
       "    </tr>\n",
       "    <tr>\n",
       "      <th>50%</th>\n",
       "      <td>32.000000</td>\n",
       "      <td>76253.860000</td>\n",
       "      <td>120111.685301</td>\n",
       "      <td>223946.763088</td>\n",
       "      <td>108552.040000</td>\n",
       "      <td>120845.072517</td>\n",
       "      <td>289.000000</td>\n",
       "      <td>339755.060000</td>\n",
       "    </tr>\n",
       "    <tr>\n",
       "      <th>75%</th>\n",
       "      <td>53.000000</td>\n",
       "      <td>111737.965689</td>\n",
       "      <td>139553.160000</td>\n",
       "      <td>304768.730000</td>\n",
       "      <td>141585.520000</td>\n",
       "      <td>161119.307725</td>\n",
       "      <td>393.000000</td>\n",
       "      <td>426102.010000</td>\n",
       "    </tr>\n",
       "    <tr>\n",
       "      <th>max</th>\n",
       "      <td>69.000000</td>\n",
       "      <td>175623.487278</td>\n",
       "      <td>182645.560000</td>\n",
       "      <td>494430.544453</td>\n",
       "      <td>192261.830000</td>\n",
       "      <td>227095.722346</td>\n",
       "      <td>497.000000</td>\n",
       "      <td>614542.229755</td>\n",
       "    </tr>\n",
       "  </tbody>\n",
       "</table>\n",
       "</div>"
      ],
      "text/plain": [
       "                  RnD_Expenditure    Admin_Costs  Marketing_Expenditure  \\\n",
       "count  65.000000        65.000000      65.000000              65.000000   \n",
       "mean   33.461538     79266.510049  111774.068241          221859.916112   \n",
       "std    20.753823     43547.341447   39611.994797          126102.858824   \n",
       "min     0.000000         0.000000    2743.241602               0.000000   \n",
       "25%    16.000000     44069.950000   99281.340000          132773.329686   \n",
       "50%    32.000000     76253.860000  120111.685301          223946.763088   \n",
       "75%    53.000000    111737.965689  139553.160000          304768.730000   \n",
       "max    69.000000    175623.487278  182645.560000          494430.544453   \n",
       "\n",
       "          Net_Profit         Profit  Employee_Count  Operational_Cost  \n",
       "count      65.000000      65.000000       65.000000         65.000000  \n",
       "mean   111054.949543  124761.846602      266.846154     333633.984353  \n",
       "std     46998.327966   53114.704730      142.020600     130589.953648  \n",
       "min    -21313.506762  -14885.847169       10.000000      24435.504010  \n",
       "25%     89949.140000   97671.232681      144.000000     244190.740000  \n",
       "50%    108552.040000  120845.072517      289.000000     339755.060000  \n",
       "75%    141585.520000  161119.307725      393.000000     426102.010000  \n",
       "max    192261.830000  227095.722346      497.000000     614542.229755  "
      ]
     },
     "execution_count": 155,
     "metadata": {},
     "output_type": "execute_result"
    }
   ],
   "source": [
    "df_startups.describe()"
   ]
  },
  {
   "cell_type": "code",
   "execution_count": 156,
   "metadata": {},
   "outputs": [
    {
     "data": {
      "text/plain": [
       "                         0.0\n",
       "RnD_Expenditure          0.0\n",
       "Admin_Costs              0.0\n",
       "Marketing_Expenditure    0.0\n",
       "Location                 0.0\n",
       "Net_Profit               0.0\n",
       "Industry_Sector          0.0\n",
       "Profit                   0.0\n",
       "Employee_Count           0.0\n",
       "Investment_Round         0.0\n",
       "Operational_Cost         0.0\n",
       "dtype: float64"
      ]
     },
     "execution_count": 156,
     "metadata": {},
     "output_type": "execute_result"
    }
   ],
   "source": [
    "(df_startups.isna().sum()/len(df_startups)) # porcentaje de nulos"
   ]
  },
  {
   "cell_type": "markdown",
   "metadata": {},
   "source": [
    "___"
   ]
  },
  {
   "cell_type": "markdown",
   "metadata": {},
   "source": [
    "## →  Veo los tipos de datos con dtypes"
   ]
  },
  {
   "cell_type": "code",
   "execution_count": 157,
   "metadata": {},
   "outputs": [
    {
     "data": {
      "text/plain": [
       "                           int64\n",
       "RnD_Expenditure          float64\n",
       "Admin_Costs              float64\n",
       "Marketing_Expenditure    float64\n",
       "Location                  object\n",
       "Net_Profit               float64\n",
       "Industry_Sector           object\n",
       "Profit                   float64\n",
       "Employee_Count             int64\n",
       "Investment_Round          object\n",
       "Operational_Cost         float64\n",
       "dtype: object"
      ]
     },
     "execution_count": 157,
     "metadata": {},
     "output_type": "execute_result"
    }
   ],
   "source": [
    "df_startups.dtypes"
   ]
  },
  {
   "cell_type": "markdown",
   "metadata": {},
   "source": [
    "___"
   ]
  },
  {
   "cell_type": "markdown",
   "metadata": {},
   "source": [
    "## → Valores outliers"
   ]
  },
  {
   "cell_type": "code",
   "execution_count": 158,
   "metadata": {},
   "outputs": [
    {
     "data": {
      "image/png": "[encoded data removed]",
      "text/plain": [
       "<Figure size 2000x2000 with 8 Axes>"
      ]
     },
     "metadata": {},
     "output_type": "display_data"
    }
   ],
   "source": [
    "from funciones.exploratory_data_analysis import plot_outliers\n",
    "plot_outliers(df_startups)"
   ]
  },
  {
   "cell_type": "markdown",
   "metadata": {},
   "source": [
    "#### Procedemos a eliminar los costos administrativos menores a 50.000 ya que son outliers. Estos valores son menores que 1.5 veces el valor del rango intercuartil más allá de los cuartiles. También, borramos los únicos valores negativos que hay en el beneficio neto, ya que no puede haber un valor negativo en el beneficio neto.\n",
    "#### Elimino los valores de estas columnas solamente ya que son a las únicas a las que les he encontrado anomalías en los gráficos de arriba."
   ]
  },
  {
   "cell_type": "code",
   "execution_count": 159,
   "metadata": {},
   "outputs": [
    {
     "name": "stdout",
     "output_type": "stream",
     "text": [
      "Outliers de Admin_Costs:\n",
      "56    12756.631705\n",
      "57     5858.217485\n",
      "58    25474.562935\n",
      "60    14752.025075\n",
      "68     2743.241602\n",
      "Name: Admin_Costs, dtype: float64\n",
      "\n"
     ]
    }
   ],
   "source": [
    "from funciones.exploratory_data_analysis import is_outlier\n",
    "\n",
    "outliers_admin_costs = is_outlier(df_startups[\"Admin_Costs\"], 1.5)\n",
    "outlier_values_admin_costs = df_startups[\"Admin_Costs\"][outliers_admin_costs]\n",
    "\n",
    "# outliers_net_profit = is_outlier(df_startups[\"Net_Profit\"], 1.5)\n",
    "# outlier_values_net_profit = df_startups[\"Net_Profit\"][outliers_net_profit]\n",
    "\n",
    "\n",
    "print(\"Outliers de Admin_Costs:\")\n",
    "print(outlier_values_admin_costs)\n",
    "print(\"\")\n",
    "# print(\"Outliers de Net_Profit:\")\n",
    "# print(outlier_values_net_profit)"
   ]
  },
  {
   "cell_type": "code",
   "execution_count": 160,
   "metadata": {},
   "outputs": [],
   "source": [
    "df_startups = df_startups.drop(outlier_values_admin_costs.index)\n",
    "# df_startups = df_startups.drop(outlier_values_net_profit.index)"
   ]
  },
  {
   "cell_type": "code",
   "execution_count": 161,
   "metadata": {},
   "outputs": [
    {
     "data": {
      "text/html": [
       "<div>\n",
       "<style scoped>\n",
       "    .dataframe tbody tr th:only-of-type {\n",
       "        vertical-align: middle;\n",
       "    }\n",
       "\n",
       "    .dataframe tbody tr th {\n",
       "        vertical-align: top;\n",
       "    }\n",
       "\n",
       "    .dataframe thead th {\n",
       "        text-align: right;\n",
       "    }\n",
       "</style>\n",
       "<table border=\"1\" class=\"dataframe\">\n",
       "  <thead>\n",
       "    <tr style=\"text-align: right;\">\n",
       "      <th></th>\n",
       "      <th></th>\n",
       "      <th>RnD_Expenditure</th>\n",
       "      <th>Admin_Costs</th>\n",
       "      <th>Marketing_Expenditure</th>\n",
       "      <th>Location</th>\n",
       "      <th>Net_Profit</th>\n",
       "      <th>Industry_Sector</th>\n",
       "      <th>Profit</th>\n",
       "      <th>Employee_Count</th>\n",
       "      <th>Investment_Round</th>\n",
       "      <th>Operational_Cost</th>\n",
       "    </tr>\n",
       "  </thead>\n",
       "  <tbody>\n",
       "    <tr>\n",
       "      <th>0</th>\n",
       "      <td>0</td>\n",
       "      <td>165349.20</td>\n",
       "      <td>136897.80</td>\n",
       "      <td>471784.10</td>\n",
       "      <td>New York</td>\n",
       "      <td>192261.83</td>\n",
       "      <td>Energy</td>\n",
       "      <td>227095.722346</td>\n",
       "      <td>289</td>\n",
       "      <td>Series A</td>\n",
       "      <td>608681.90</td>\n",
       "    </tr>\n",
       "    <tr>\n",
       "      <th>1</th>\n",
       "      <td>1</td>\n",
       "      <td>162597.70</td>\n",
       "      <td>151377.59</td>\n",
       "      <td>443898.53</td>\n",
       "      <td>California</td>\n",
       "      <td>191792.06</td>\n",
       "      <td>Tech</td>\n",
       "      <td>224711.757208</td>\n",
       "      <td>217</td>\n",
       "      <td>Series B</td>\n",
       "      <td>595276.12</td>\n",
       "    </tr>\n",
       "    <tr>\n",
       "      <th>2</th>\n",
       "      <td>2</td>\n",
       "      <td>153441.51</td>\n",
       "      <td>101145.55</td>\n",
       "      <td>407934.54</td>\n",
       "      <td>Florida</td>\n",
       "      <td>191050.39</td>\n",
       "      <td>Finance</td>\n",
       "      <td>222717.429984</td>\n",
       "      <td>407</td>\n",
       "      <td>Series C</td>\n",
       "      <td>509080.09</td>\n",
       "    </tr>\n",
       "    <tr>\n",
       "      <th>3</th>\n",
       "      <td>3</td>\n",
       "      <td>144372.41</td>\n",
       "      <td>118671.85</td>\n",
       "      <td>383199.62</td>\n",
       "      <td>New York</td>\n",
       "      <td>182901.99</td>\n",
       "      <td>Finance</td>\n",
       "      <td>214017.365199</td>\n",
       "      <td>383</td>\n",
       "      <td>Series A</td>\n",
       "      <td>501871.47</td>\n",
       "    </tr>\n",
       "    <tr>\n",
       "      <th>4</th>\n",
       "      <td>4</td>\n",
       "      <td>142107.34</td>\n",
       "      <td>91391.77</td>\n",
       "      <td>366168.42</td>\n",
       "      <td>Florida</td>\n",
       "      <td>166187.94</td>\n",
       "      <td>Finance</td>\n",
       "      <td>196476.965990</td>\n",
       "      <td>351</td>\n",
       "      <td>Series B</td>\n",
       "      <td>457560.19</td>\n",
       "    </tr>\n",
       "  </tbody>\n",
       "</table>\n",
       "</div>"
      ],
      "text/plain": [
       "      RnD_Expenditure  Admin_Costs  Marketing_Expenditure    Location  \\\n",
       "0  0        165349.20    136897.80              471784.10    New York   \n",
       "1  1        162597.70    151377.59              443898.53  California   \n",
       "2  2        153441.51    101145.55              407934.54     Florida   \n",
       "3  3        144372.41    118671.85              383199.62    New York   \n",
       "4  4        142107.34     91391.77              366168.42     Florida   \n",
       "\n",
       "   Net_Profit Industry_Sector         Profit  Employee_Count Investment_Round  \\\n",
       "0   192261.83          Energy  227095.722346             289         Series A   \n",
       "1   191792.06            Tech  224711.757208             217         Series B   \n",
       "2   191050.39         Finance  222717.429984             407         Series C   \n",
       "3   182901.99         Finance  214017.365199             383         Series A   \n",
       "4   166187.94         Finance  196476.965990             351         Series B   \n",
       "\n",
       "   Operational_Cost  \n",
       "0         608681.90  \n",
       "1         595276.12  \n",
       "2         509080.09  \n",
       "3         501871.47  \n",
       "4         457560.19  "
      ]
     },
     "execution_count": 161,
     "metadata": {},
     "output_type": "execute_result"
    }
   ],
   "source": [
    "df_startups.head()"
   ]
  },
  {
   "cell_type": "code",
   "execution_count": 162,
   "metadata": {},
   "outputs": [
    {
     "data": {
      "text/html": [
       "<div>\n",
       "<style scoped>\n",
       "    .dataframe tbody tr th:only-of-type {\n",
       "        vertical-align: middle;\n",
       "    }\n",
       "\n",
       "    .dataframe tbody tr th {\n",
       "        vertical-align: top;\n",
       "    }\n",
       "\n",
       "    .dataframe thead th {\n",
       "        text-align: right;\n",
       "    }\n",
       "</style>\n",
       "<table border=\"1\" class=\"dataframe\">\n",
       "  <thead>\n",
       "    <tr style=\"text-align: right;\">\n",
       "      <th></th>\n",
       "      <th>RnD_Expenditure</th>\n",
       "      <th>Admin_Costs</th>\n",
       "      <th>Marketing_Expenditure</th>\n",
       "      <th>Net_Profit</th>\n",
       "      <th>Profit</th>\n",
       "      <th>Employee_Count</th>\n",
       "      <th>Operational_Cost</th>\n",
       "    </tr>\n",
       "  </thead>\n",
       "  <tbody>\n",
       "    <tr>\n",
       "      <th>RnD_Expenditure</th>\n",
       "      <td>1.00</td>\n",
       "      <td>-0.00</td>\n",
       "      <td>0.47</td>\n",
       "      <td>0.58</td>\n",
       "      <td>0.65</td>\n",
       "      <td>0.04</td>\n",
       "      <td>0.46</td>\n",
       "    </tr>\n",
       "    <tr>\n",
       "      <th>Admin_Costs</th>\n",
       "      <td>-0.00</td>\n",
       "      <td>1.00</td>\n",
       "      <td>-0.09</td>\n",
       "      <td>-0.02</td>\n",
       "      <td>0.01</td>\n",
       "      <td>0.14</td>\n",
       "      <td>0.14</td>\n",
       "    </tr>\n",
       "    <tr>\n",
       "      <th>Marketing_Expenditure</th>\n",
       "      <td>0.47</td>\n",
       "      <td>-0.09</td>\n",
       "      <td>1.00</td>\n",
       "      <td>0.25</td>\n",
       "      <td>0.30</td>\n",
       "      <td>-0.18</td>\n",
       "      <td>0.97</td>\n",
       "    </tr>\n",
       "    <tr>\n",
       "      <th>Net_Profit</th>\n",
       "      <td>0.58</td>\n",
       "      <td>-0.02</td>\n",
       "      <td>0.25</td>\n",
       "      <td>1.00</td>\n",
       "      <td>0.99</td>\n",
       "      <td>-0.07</td>\n",
       "      <td>0.25</td>\n",
       "    </tr>\n",
       "    <tr>\n",
       "      <th>Profit</th>\n",
       "      <td>0.65</td>\n",
       "      <td>0.01</td>\n",
       "      <td>0.30</td>\n",
       "      <td>0.99</td>\n",
       "      <td>1.00</td>\n",
       "      <td>-0.06</td>\n",
       "      <td>0.30</td>\n",
       "    </tr>\n",
       "    <tr>\n",
       "      <th>Employee_Count</th>\n",
       "      <td>0.04</td>\n",
       "      <td>0.14</td>\n",
       "      <td>-0.18</td>\n",
       "      <td>-0.07</td>\n",
       "      <td>-0.06</td>\n",
       "      <td>1.00</td>\n",
       "      <td>-0.14</td>\n",
       "    </tr>\n",
       "    <tr>\n",
       "      <th>Operational_Cost</th>\n",
       "      <td>0.46</td>\n",
       "      <td>0.14</td>\n",
       "      <td>0.97</td>\n",
       "      <td>0.25</td>\n",
       "      <td>0.30</td>\n",
       "      <td>-0.14</td>\n",
       "      <td>1.00</td>\n",
       "    </tr>\n",
       "  </tbody>\n",
       "</table>\n",
       "</div>"
      ],
      "text/plain": [
       "                       RnD_Expenditure  Admin_Costs  Marketing_Expenditure  \\\n",
       "RnD_Expenditure                   1.00        -0.00                   0.47   \n",
       "Admin_Costs                      -0.00         1.00                  -0.09   \n",
       "Marketing_Expenditure             0.47        -0.09                   1.00   \n",
       "Net_Profit                        0.58        -0.02                   0.25   \n",
       "Profit                            0.65         0.01                   0.30   \n",
       "Employee_Count                    0.04         0.14                  -0.18   \n",
       "Operational_Cost                  0.46         0.14                   0.97   \n",
       "\n",
       "                       Net_Profit  Profit  Employee_Count  Operational_Cost  \n",
       "RnD_Expenditure              0.58    0.65            0.04              0.46  \n",
       "Admin_Costs                 -0.02    0.01            0.14              0.14  \n",
       "Marketing_Expenditure        0.25    0.30           -0.18              0.97  \n",
       "Net_Profit                   1.00    0.99           -0.07              0.25  \n",
       "Profit                       0.99    1.00           -0.06              0.30  \n",
       "Employee_Count              -0.07   -0.06            1.00             -0.14  \n",
       "Operational_Cost             0.25    0.30           -0.14              1.00  "
      ]
     },
     "execution_count": 162,
     "metadata": {},
     "output_type": "execute_result"
    }
   ],
   "source": [
    "df_variables_numericas_correlacion = df_startups[[\"RnD_Expenditure\", \"Admin_Costs\", \"Marketing_Expenditure\", \"Net_Profit\", \"Profit\", \"Employee_Count\", \"Operational_Cost\"]]\n",
    "df_variables_numericas_correlacion = round(df_variables_numericas_correlacion.corr(numeric_only=True),2)\n",
    "df_variables_numericas_correlacion"
   ]
  },
  {
   "cell_type": "code",
   "execution_count": 163,
   "metadata": {},
   "outputs": [
    {
     "data": {
      "text/plain": [
       "<Axes: >"
      ]
     },
     "execution_count": 163,
     "metadata": {},
     "output_type": "execute_result"
    },
    {
     "data": {
      "image/png": "[encoded data removed]",
      "text/plain": [
       "<Figure size 1000x1000 with 2 Axes>"
      ]
     },
     "metadata": {},
     "output_type": "display_data"
    }
   ],
   "source": [
    "plt.figure(figsize = (10, 10))\n",
    "\n",
    "sns.heatmap(\n",
    "    round(df_variables_numericas_correlacion.corr(numeric_only=True),2), \n",
    "    cmap = 'coolwarm', \n",
    "    annot = True, \n",
    "    annot_kws = {\"size\": 10}\n",
    ")"
   ]
  },
  {
   "cell_type": "markdown",
   "metadata": {},
   "source": [
    "## ***Correlaciones fuertes:***\n",
    "(Las siguientes correlaciones indican que ambas variables están muy relacionadas entre sí y probablemente se pueden utilizar indistintamente en un modelo predictivo) \n",
    "##### → Las variables \"Net_Profit\" y \"Profit\" tienen una correlación muy alta de 1.\n",
    "##### → La variable \"Operational Cost\" tiene una correlación alta con la variable \"Marketing_Expenditure\" de 0.98.\n",
    "\n",
    "## ***Correlaciones moderadas:***\n",
    "(Las siguientes correlaciones indican que ambas variables están relacionadas entre sí pero no de manera muy fuerte) \n",
    "##### → Las variables \"RnD_Expenditure\" y \"Profit\" tienen una correlación moderada de 0.76.\n",
    "##### → Las variables \"RnD_Expenditure\" y \"Net_Profit\" tienen una correlación moderadamente fuerte de 0.72.\n",
    "##### → Las variables \"RnD_Expenditure\" y \"Marketing_Expenditure\" tienen una correlación moderadamente fuerte de 0.49.\n",
    "##### → Las variables \"Marketing_Expenditure\" y \"Net_Profit\" tienen una correlación moderada de 0.14.\n",
    "\n",
    "## ***Correlaciones débiles:***\n",
    "(Las siguientes correlaciones indican que ambas variables NO están muy relacionadas entre sí y probablemente NO tengan un gran impacto en un modelo predictivo) \n",
    "##### → Las variables \"Admin_Costs\" y \"Marketing_Expenditure\" tienen una correlación débil de -0.05.\n",
    "##### → Las variables \"Admin_Costs\" y \"Net_Profit\" tienen una correlación débil de -0.053.\n",
    "##### → La variable \"Employee_Count\" tiene correlaciones débiles con otras variables (todas debajo de 0.2), con la más fuerte siendo 0.17 con \"Admin_Costs\".\n",
    "\n",
    "\n",
    "##### Es importante tener en cuenta que la correlación no implica causalidad, es decir, solo porque dos variables están correlacionadas entre sí no significa que una variable cause la otra. Por lo tanto, es necesario realizar un análisis más detallado para determinar las relaciones causales entre las variables."
   ]
  },
  {
   "cell_type": "markdown",
   "metadata": {},
   "source": [
    "___"
   ]
  },
  {
   "cell_type": "markdown",
   "metadata": {},
   "source": [
    "## ***b. Modelo de Regresión Lineal para Predecir Beneficio Neto.***"
   ]
  },
  {
   "cell_type": "code",
   "execution_count": 164,
   "metadata": {},
   "outputs": [],
   "source": [
    "# Selecciono features\n",
    "features1 = [\"RnD_Expenditure\", \"Admin_Costs\", \"Marketing_Expenditure\", \"Employee_Count\", \"Operational_Cost\"]"
   ]
  },
  {
   "cell_type": "code",
   "execution_count": 165,
   "metadata": {},
   "outputs": [
    {
     "data": {
      "text/plain": [
       "'\\nfrom scipy.stats import zscore\\n\\ncolumnas_para_transformar = [\"RnD_Expenditure\", \"Admin_Costs\", \"Marketing_Expenditure\", \"Employee_Count\", \"Operational_Cost\"]\\nstartups_zscore = df_startups[columnas_para_transformar].apply(zscore)\\ndf_startups[columnas_para_transformar] = startups_zscore\\ndf_startups.head()\\n'"
      ]
     },
     "execution_count": 165,
     "metadata": {},
     "output_type": "execute_result"
    }
   ],
   "source": [
    "# Estandarizo features numercias\n",
    "'''\n",
    "from scipy.stats import zscore\n",
    "\n",
    "columnas_para_transformar = [\"RnD_Expenditure\", \"Admin_Costs\", \"Marketing_Expenditure\", \"Employee_Count\", \"Operational_Cost\"]\n",
    "startups_zscore = df_startups[columnas_para_transformar].apply(zscore)\n",
    "df_startups[columnas_para_transformar] = startups_zscore\n",
    "df_startups.head()\n",
    "'''"
   ]
  },
  {
   "cell_type": "code",
   "execution_count": 166,
   "metadata": {},
   "outputs": [
    {
     "data": {
      "text/plain": [
       "'Net_Profit ~ RnD_Expenditure + Admin_Costs + Marketing_Expenditure + Employee_Count + Operational_Cost'"
      ]
     },
     "execution_count": 166,
     "metadata": {},
     "output_type": "execute_result"
    }
   ],
   "source": [
    "formula1 = \"Net_Profit ~ \" + ' + '.join(features1)\n",
    "formula1"
   ]
  },
  {
   "cell_type": "code",
   "execution_count": 167,
   "metadata": {},
   "outputs": [
    {
     "name": "stdout",
     "output_type": "stream",
     "text": [
      "Intel MKL WARNING: Support of Intel(R) Streaming SIMD Extensions 4.2 (Intel(R) SSE4.2) enabled only processors has been deprecated. Intel oneAPI Math Kernel Library 2025.0 will require Intel(R) Advanced Vector Extensions (Intel(R) AVX) instructions.\n",
      "                            OLS Regression Results                            \n",
      "==============================================================================\n",
      "Dep. Variable:             Net_Profit   R-squared:                       0.343\n",
      "Model:                            OLS   Adj. R-squared:                  0.295\n",
      "Method:                 Least Squares   F-statistic:                     7.165\n",
      "Date:                Thu, 02 Nov 2023   Prob (F-statistic):           0.000102\n",
      "Time:                        10:38:46   Log-Likelihood:                -716.48\n",
      "No. Observations:                  60   AIC:                             1443.\n",
      "Df Residuals:                      55   BIC:                             1453.\n",
      "Df Model:                           4                                         \n",
      "Covariance Type:            nonrobust                                         \n",
      "=========================================================================================\n",
      "                            coef    std err          t      P>|t|      [0.025      0.975]\n",
      "-----------------------------------------------------------------------------------------\n",
      "Intercept              7.512e+04   2.65e+04      2.838      0.006    2.21e+04    1.28e+05\n",
      "RnD_Expenditure           0.6243      0.130      4.815      0.000       0.364       0.884\n",
      "Admin_Costs              -0.0004      0.121     -0.004      0.997      -0.243       0.243\n",
      "Marketing_Expenditure    -0.0081      0.066     -0.122      0.903      -0.141       0.125\n",
      "Employee_Count          -32.4904     36.682     -0.886      0.380    -106.004      41.023\n",
      "Operational_Cost         -0.0085      0.064     -0.134      0.894      -0.136       0.119\n",
      "==============================================================================\n",
      "Omnibus:                       44.594   Durbin-Watson:                   1.606\n",
      "Prob(Omnibus):                  0.000   Jarque-Bera (JB):              154.764\n",
      "Skew:                          -2.166   Prob(JB):                     2.47e-34\n",
      "Kurtosis:                       9.568   Cond. No.                     1.71e+16\n",
      "==============================================================================\n",
      "\n",
      "Notes:\n",
      "[1] Standard Errors assume that the covariance matrix of the errors is correctly specified.\n",
      "[2] The smallest eigenvalue is 4.42e-20. This might indicate that there are\n",
      "strong multicollinearity problems or that the design matrix is singular.\n"
     ]
    }
   ],
   "source": [
    "import statsmodels.formula.api as smf\n",
    "\n",
    "modelo1 = smf.ols(formula=formula1, data=df_startups)\n",
    "modelo1 = modelo1.fit()\n",
    "print(modelo1.summary())"
   ]
  },
  {
   "cell_type": "markdown",
   "metadata": {},
   "source": [
    "___"
   ]
  },
  {
   "cell_type": "markdown",
   "metadata": {},
   "source": [
    "## ***c. ¿Cual es la intuicion detrás de la formula de la regresion resultante?***\n",
    "\n",
    "#### mirar coeficientes (si tengo menos empleados, es mejor mis startup por ejemplo)"
   ]
  },
  {
   "cell_type": "markdown",
   "metadata": {},
   "source": [
    "##### La fórmula de la regresión resultante es una ecuación que describe la relación entre la variable dependiente (en este caso, \"Net_Profit\") y las variables independientes (en este caso, \"RnD_Expenditure\", \"Admin_Costs\", \"Marketing_Expenditure\", \"Employee_Count\" y \"OperationalCost\"). La ecuación de regresión se utiliza para predecir el valor de la variable dependiente en función de los valores de las variables independientes.\n",
    "\n",
    "##### En el caso de la regresión lineal múltiple,la ecuación de regresión tiene la forma: y = b0 + b1x1 + b2x2 + ... + bn*xn donde \"y\" es la variable dependiente, \"X1\", \"X2\" ',..., \"xn\" son las variables independientes, \"b0\" es el intercepto y \"b1\" \"b2\" , ... , \"bn\" son los coeficientes de regresión que indican cómo cambia \"y\" cuando cambia cada variable independiente.\n",
    "\n",
    "##### En esta fórmula se pueden ver los valores de los coeficientes de regresión, así como su significancia estadística y su intervalo de confianza. Estos valores permiten interpretar la relación entre las variables independientes y la variable dependiente, y permiten hacer predicciones sobre el valor de la variable dependiente en función de los valores de las variables independientes"
   ]
  },
  {
   "cell_type": "markdown",
   "metadata": {},
   "source": [
    "___"
   ]
  },
  {
   "cell_type": "markdown",
   "metadata": {},
   "source": [
    "## ***d. ¿Cual es el error promedio? ¿Y el error elevado al cuadrado? ¿Que significa?***"
   ]
  },
  {
   "cell_type": "code",
   "execution_count": 168,
   "metadata": {},
   "outputs": [],
   "source": [
    "# model.predict (le paso df original) --> me va a pasar una serie con cada una\n",
    "# creo colimna predicha --> df[\"predicho\"] = model.predict(x)\n",
    "# creo columna error --> df[\"error\"] = df[real] - df[predicho]\n",
    "# print(\"el error medio de este modelo es \" + str(df[\"dif\"].mean()))"
   ]
  },
  {
   "cell_type": "code",
   "execution_count": 169,
   "metadata": {},
   "outputs": [],
   "source": [
    "# elevo al cuadrado cada una de las restitas y eso es el error elevado al cuadrado"
   ]
  },
  {
   "cell_type": "code",
   "execution_count": 170,
   "metadata": {},
   "outputs": [],
   "source": [
    "# modelo1.predict(x) --> me va a dar una serie con cada una de las predicciones"
   ]
  },
  {
   "cell_type": "code",
   "execution_count": 171,
   "metadata": {},
   "outputs": [
    {
     "data": {
      "text/plain": [
       "'\\ndef EC(x):\\n    error = x[\"real\"] - x[\"pred\"]\\n    return error**2\\ndf[\"EC\"] = df.apply(ECM, axis=1)\\nprint(\"el error cuadratico medio de este modelo es \" + str(df[\"EC\"].mean()))\\n'"
      ]
     },
     "execution_count": 171,
     "metadata": {},
     "output_type": "execute_result"
    }
   ],
   "source": [
    "'''\n",
    "def EC(x):\n",
    "    error = x[\"real\"] - x[\"pred\"]\n",
    "    return error**2\n",
    "df[\"EC\"] = df.apply(ECM, axis=1)\n",
    "print(\"el error cuadratico medio de este modelo es \" + str(df[\"EC\"].mean()))\n",
    "'''"
   ]
  },
  {
   "cell_type": "code",
   "execution_count": 172,
   "metadata": {},
   "outputs": [
    {
     "name": "stdout",
     "output_type": "stream",
     "text": [
      "Error cuadrático medio: 1504618177.47\n"
     ]
    }
   ],
   "source": [
    "mse = modelo1.mse_resid\n",
    "\n",
    "print(\"Error cuadrático medio: {:.2f}\".format(mse))"
   ]
  },
  {
   "cell_type": "code",
   "execution_count": 173,
   "metadata": {},
   "outputs": [
    {
     "name": "stdout",
     "output_type": "stream",
     "text": [
      "El RMS es 37138.0308\n"
     ]
    }
   ],
   "source": [
    "from sklearn.metrics import mean_squared_error\n",
    "\n",
    "y_true = df_startups['Net_Profit']\n",
    "y_pred = modelo1.predict()\n",
    "\n",
    "rms = mean_squared_error(y_true, y_pred, squared=False)\n",
    "print(f\"El RMS es {rms:.4f}\")"
   ]
  },
  {
   "cell_type": "markdown",
   "metadata": {},
   "source": [
    "##### El error cuadrático medio es de 3315.6887. Esto significa que el modelo predice el \"Net_Profit\" con un error promedio de 3315.6887. El error cuadrático medio es una medida de la precisión del modelo (es una medida de la calidad del ajuste de los datos). Cuanto menor sea el error cuadrático medio, mejor será el modelo. Sin embargo, es importante tener en cuenta que el error cuadrático medio no puede compararse con el error cuadrático medio de otros modelos, ya que depende de la escala de la variable dependiente. Un MSE bajo y un R² alto indican que el modelo se ajusta bien a los datos"
   ]
  },
  {
   "cell_type": "code",
   "execution_count": 174,
   "metadata": {},
   "outputs": [
    {
     "name": "stdout",
     "output_type": "stream",
     "text": [
      "Error Cuadrático Medio (MSE): 1379233329.34\n",
      "Error Absoluto Medio (MAE): 21910.38\n"
     ]
    }
   ],
   "source": [
    "from sklearn.metrics import mean_squared_error, mean_absolute_error\n",
    "\n",
    "# Supongamos que tienes las predicciones y los valores reales en las listas y_pred y y_actual\n",
    "y_pred = modelo1.predict()\n",
    "y_actual = df_startups['Net_Profit']\n",
    "\n",
    "# Calcular el MSE\n",
    "mse = mean_squared_error(y_actual, y_pred) # esta mal hecho, se cancelan los positivos con los negativos\n",
    "print(\"Error Cuadrático Medio (MSE): {:.2f}\".format(mse))\n",
    "\n",
    "# Calcular el MAE\n",
    "mae = mean_absolute_error(y_actual, y_pred)\n",
    "print(\"Error Absoluto Medio (MAE): {:.2f}\".format(mae))\n"
   ]
  },
  {
   "cell_type": "markdown",
   "metadata": {},
   "source": [
    "___"
   ]
  },
  {
   "cell_type": "markdown",
   "metadata": {},
   "source": [
    "## ***e. Analice del Sector de la Industria en el Beneficio Neto.***"
   ]
  },
  {
   "cell_type": "code",
   "execution_count": 175,
   "metadata": {},
   "outputs": [
    {
     "name": "stdout",
     "output_type": "stream",
     "text": [
      "Intel MKL WARNING: Support of Intel(R) Streaming SIMD Extensions 4.2 (Intel(R) SSE4.2) enabled only processors has been deprecated. Intel oneAPI Math Kernel Library 2025.0 will require Intel(R) Advanced Vector Extensions (Intel(R) AVX) instructions.\n",
      "                            OLS Regression Results                            \n",
      "==============================================================================\n",
      "Dep. Variable:             Net_Profit   R-squared:                       0.082\n",
      "Model:                            OLS   Adj. R-squared:                  0.015\n",
      "Method:                 Least Squares   F-statistic:                     1.227\n",
      "Date:                Thu, 02 Nov 2023   Prob (F-statistic):              0.310\n",
      "Time:                        10:38:46   Log-Likelihood:                -726.50\n",
      "No. Observations:                  60   AIC:                             1463.\n",
      "Df Residuals:                      55   BIC:                             1473.\n",
      "Df Model:                           4                                         \n",
      "Covariance Type:            nonrobust                                         \n",
      "====================================================================================================\n",
      "                                       coef    std err          t      P>|t|      [0.025      0.975]\n",
      "----------------------------------------------------------------------------------------------------\n",
      "Intercept                         1.192e+05   1.62e+04      7.353      0.000    8.67e+04    1.52e+05\n",
      "C(Industry_Sector)[T.Finance]     1.055e+04   2.06e+04      0.512      0.610   -3.07e+04    5.18e+04\n",
      "C(Industry_Sector)[T.Healthcare] -2.404e+04   2.03e+04     -1.183      0.242   -6.48e+04    1.67e+04\n",
      "C(Industry_Sector)[T.Retail]     -1.929e+04   2.17e+04     -0.887      0.379   -6.29e+04    2.43e+04\n",
      "C(Industry_Sector)[T.Tech]       -2230.8548   2.01e+04     -0.111      0.912   -4.24e+04     3.8e+04\n",
      "==============================================================================\n",
      "Omnibus:                        1.246   Durbin-Watson:                   1.194\n",
      "Prob(Omnibus):                  0.536   Jarque-Bera (JB):                1.165\n",
      "Skew:                          -0.327   Prob(JB):                        0.559\n",
      "Kurtosis:                       2.805   Cond. No.                         7.04\n",
      "==============================================================================\n",
      "\n",
      "Notes:\n",
      "[1] Standard Errors assume that the covariance matrix of the errors is correctly specified.\n"
     ]
    }
   ],
   "source": [
    "modelo2 = smf.ols(formula=\"Net_Profit ~ C(Industry_Sector)\", data=df_startups)\n",
    "modelo2 = modelo2.fit()\n",
    "print(modelo2.summary()) # sacar a los sectores de finance y tech por que me tiran e+0.4"
   ]
  },
  {
   "cell_type": "markdown",
   "metadata": {},
   "source": [
    "___"
   ]
  },
  {
   "cell_type": "markdown",
   "metadata": {},
   "source": [
    "## ***f. ¿Cual es la relacion entre las series y el profit? ¿Es importante hay alguna particularidad? (Hint)***"
   ]
  },
  {
   "cell_type": "code",
   "execution_count": 176,
   "metadata": {},
   "outputs": [
    {
     "data": {
      "text/html": [
       "<div>\n",
       "<style scoped>\n",
       "    .dataframe tbody tr th:only-of-type {\n",
       "        vertical-align: middle;\n",
       "    }\n",
       "\n",
       "    .dataframe tbody tr th {\n",
       "        vertical-align: top;\n",
       "    }\n",
       "\n",
       "    .dataframe thead th {\n",
       "        text-align: right;\n",
       "    }\n",
       "</style>\n",
       "<table border=\"1\" class=\"dataframe\">\n",
       "  <thead>\n",
       "    <tr style=\"text-align: right;\">\n",
       "      <th></th>\n",
       "      <th></th>\n",
       "      <th>RnD_Expenditure</th>\n",
       "      <th>Admin_Costs</th>\n",
       "      <th>Marketing_Expenditure</th>\n",
       "      <th>Location</th>\n",
       "      <th>Net_Profit</th>\n",
       "      <th>Industry_Sector</th>\n",
       "      <th>Profit</th>\n",
       "      <th>Employee_Count</th>\n",
       "      <th>Investment_Round</th>\n",
       "      <th>Operational_Cost</th>\n",
       "    </tr>\n",
       "  </thead>\n",
       "  <tbody>\n",
       "    <tr>\n",
       "      <th>0</th>\n",
       "      <td>0</td>\n",
       "      <td>165349.20</td>\n",
       "      <td>136897.80</td>\n",
       "      <td>471784.10</td>\n",
       "      <td>New York</td>\n",
       "      <td>192261.83</td>\n",
       "      <td>Energy</td>\n",
       "      <td>227095.722346</td>\n",
       "      <td>289</td>\n",
       "      <td>Series A</td>\n",
       "      <td>608681.90</td>\n",
       "    </tr>\n",
       "    <tr>\n",
       "      <th>1</th>\n",
       "      <td>1</td>\n",
       "      <td>162597.70</td>\n",
       "      <td>151377.59</td>\n",
       "      <td>443898.53</td>\n",
       "      <td>California</td>\n",
       "      <td>191792.06</td>\n",
       "      <td>Tech</td>\n",
       "      <td>224711.757208</td>\n",
       "      <td>217</td>\n",
       "      <td>Series B</td>\n",
       "      <td>595276.12</td>\n",
       "    </tr>\n",
       "    <tr>\n",
       "      <th>2</th>\n",
       "      <td>2</td>\n",
       "      <td>153441.51</td>\n",
       "      <td>101145.55</td>\n",
       "      <td>407934.54</td>\n",
       "      <td>Florida</td>\n",
       "      <td>191050.39</td>\n",
       "      <td>Finance</td>\n",
       "      <td>222717.429984</td>\n",
       "      <td>407</td>\n",
       "      <td>Series C</td>\n",
       "      <td>509080.09</td>\n",
       "    </tr>\n",
       "    <tr>\n",
       "      <th>3</th>\n",
       "      <td>3</td>\n",
       "      <td>144372.41</td>\n",
       "      <td>118671.85</td>\n",
       "      <td>383199.62</td>\n",
       "      <td>New York</td>\n",
       "      <td>182901.99</td>\n",
       "      <td>Finance</td>\n",
       "      <td>214017.365199</td>\n",
       "      <td>383</td>\n",
       "      <td>Series A</td>\n",
       "      <td>501871.47</td>\n",
       "    </tr>\n",
       "    <tr>\n",
       "      <th>4</th>\n",
       "      <td>4</td>\n",
       "      <td>142107.34</td>\n",
       "      <td>91391.77</td>\n",
       "      <td>366168.42</td>\n",
       "      <td>Florida</td>\n",
       "      <td>166187.94</td>\n",
       "      <td>Finance</td>\n",
       "      <td>196476.965990</td>\n",
       "      <td>351</td>\n",
       "      <td>Series B</td>\n",
       "      <td>457560.19</td>\n",
       "    </tr>\n",
       "  </tbody>\n",
       "</table>\n",
       "</div>"
      ],
      "text/plain": [
       "      RnD_Expenditure  Admin_Costs  Marketing_Expenditure    Location  \\\n",
       "0  0        165349.20    136897.80              471784.10    New York   \n",
       "1  1        162597.70    151377.59              443898.53  California   \n",
       "2  2        153441.51    101145.55              407934.54     Florida   \n",
       "3  3        144372.41    118671.85              383199.62    New York   \n",
       "4  4        142107.34     91391.77              366168.42     Florida   \n",
       "\n",
       "   Net_Profit Industry_Sector         Profit  Employee_Count Investment_Round  \\\n",
       "0   192261.83          Energy  227095.722346             289         Series A   \n",
       "1   191792.06            Tech  224711.757208             217         Series B   \n",
       "2   191050.39         Finance  222717.429984             407         Series C   \n",
       "3   182901.99         Finance  214017.365199             383         Series A   \n",
       "4   166187.94         Finance  196476.965990             351         Series B   \n",
       "\n",
       "   Operational_Cost  \n",
       "0         608681.90  \n",
       "1         595276.12  \n",
       "2         509080.09  \n",
       "3         501871.47  \n",
       "4         457560.19  "
      ]
     },
     "execution_count": 176,
     "metadata": {},
     "output_type": "execute_result"
    }
   ],
   "source": [
    "df_startups_con_series = df_startups[df_startups[\"Investment_Round\"].str.contains(\"Series\")]\n",
    "df_startups_con_series.head()"
   ]
  },
  {
   "cell_type": "code",
   "execution_count": 177,
   "metadata": {},
   "outputs": [
    {
     "name": "stdout",
     "output_type": "stream",
     "text": [
      "Intel MKL WARNING: Support of Intel(R) Streaming SIMD Extensions 4.2 (Intel(R) SSE4.2) enabled only processors has been deprecated. Intel oneAPI Math Kernel Library 2025.0 will require Intel(R) Advanced Vector Extensions (Intel(R) AVX) instructions.\n",
      "                            OLS Regression Results                            \n",
      "==============================================================================\n",
      "Dep. Variable:                 Profit   R-squared:                       0.111\n",
      "Model:                            OLS   Adj. R-squared:                  0.033\n",
      "Method:                 Least Squares   F-statistic:                     1.430\n",
      "Date:                Thu, 02 Nov 2023   Prob (F-statistic):              0.260\n",
      "Time:                        10:38:46   Log-Likelihood:                -315.25\n",
      "No. Observations:                  26   AIC:                             636.5\n",
      "Df Residuals:                      23   BIC:                             640.3\n",
      "Df Model:                           2                                         \n",
      "Covariance Type:            nonrobust                                         \n",
      "===================================================================================================\n",
      "                                      coef    std err          t      P>|t|      [0.025      0.975]\n",
      "---------------------------------------------------------------------------------------------------\n",
      "Intercept                        1.746e+05   2.37e+04      7.359      0.000    1.26e+05    2.24e+05\n",
      "C(Investment_Round)[T.Series B] -2.255e+04   2.85e+04     -0.791      0.437   -8.15e+04    3.64e+04\n",
      "C(Investment_Round)[T.Series C] -4.343e+04   2.71e+04     -1.601      0.123   -9.95e+04    1.27e+04\n",
      "==============================================================================\n",
      "Omnibus:                        0.082   Durbin-Watson:                   0.315\n",
      "Prob(Omnibus):                  0.960   Jarque-Bera (JB):                0.300\n",
      "Skew:                          -0.047   Prob(JB):                        0.861\n",
      "Kurtosis:                       2.482   Cond. No.                         5.44\n",
      "==============================================================================\n",
      "\n",
      "Notes:\n",
      "[1] Standard Errors assume that the covariance matrix of the errors is correctly specified.\n"
     ]
    }
   ],
   "source": [
    "modelo3 = smf.ols(formula=\"Profit ~ C(Investment_Round)\", data=df_startups_con_series)\n",
    "modelo3 = modelo3.fit()\n",
    "print(modelo3.summary())"
   ]
  }
 ],
 "metadata": {
  "kernelspec": {
   "display_name": "POO-env",
   "language": "python",
   "name": "python3"
  },
  "language_info": {
   "codemirror_mode": {
    "name": "ipython",
    "version": 3
   },
   "file_extension": ".py",
   "mimetype": "text/x-python",
   "name": "python",
   "nbconvert_exporter": "python",
   "pygments_lexer": "ipython3",
   "version": "3.11.4"
  },
  "orig_nbformat": 4
 },
 "nbformat": 4,
 "nbformat_minor": 2
}
