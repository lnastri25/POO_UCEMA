{
 "cells": [
  {
   "cell_type": "markdown",
   "metadata": {},
   "source": [
    "# 3) Startups:\n",
    "\n",
    "##### Fecha entrega: 5/11/2023.\n",
    "##### El dataset de startups contiene variables como gastos en investigación y desarrollo (I+D), costos administrativos, gastos en marketing, ubicación geográfica y beneficios netos.\n",
    "##### Este tipo de datos es esencial para entender el rendimiento financiero y operativo de una startup, lo cual es crítico para la toma de decisiones tanto para los inversionistas como para la administración de la empresa.\n",
    "\n",
    "## → a. Análisis Exploratorio de Datos (EDA) \n",
    "#### ¿Qué conclusiones puede sacar con respecto a las distribuciones de las variables numéricas y las relaciones entre ellas?\n",
    "\n",
    "## → b. Modelo de Regresión Lineal para Predecir Beneficio Neto.\n",
    "\n",
    "## → c. ¿Cual es la intuicion detrás de la formula de la regresion resultante?\n",
    "\n",
    "## → d. ¿Cual es el error promedio? ¿Y el error elevado al cuadrado? ¿Que significa?\n",
    "\n",
    "## → e. Analice del Sector de la Industria en el Beneficio Neto.\n",
    "\n",
    "## → f. ¿Cual es la relacion entre las series y el profit? ¿Es importante hay alguna particularidad? (Hint)\n"
   ]
  },
  {
   "cell_type": "code",
   "execution_count": 464,
   "metadata": {},
   "outputs": [],
   "source": [
    "import pandas as pd\n",
    "import matplotlib.pyplot as plt\n",
    "import seaborn as sns"
   ]
  },
  {
   "cell_type": "code",
   "execution_count": 465,
   "metadata": {},
   "outputs": [
    {
     "data": {
      "text/html": [
       "<div>\n",
       "<style scoped>\n",
       "    .dataframe tbody tr th:only-of-type {\n",
       "        vertical-align: middle;\n",
       "    }\n",
       "\n",
       "    .dataframe tbody tr th {\n",
       "        vertical-align: top;\n",
       "    }\n",
       "\n",
       "    .dataframe thead th {\n",
       "        text-align: right;\n",
       "    }\n",
       "</style>\n",
       "<table border=\"1\" class=\"dataframe\">\n",
       "  <thead>\n",
       "    <tr style=\"text-align: right;\">\n",
       "      <th></th>\n",
       "      <th></th>\n",
       "      <th>RnD_Expenditure</th>\n",
       "      <th>Admin_Costs</th>\n",
       "      <th>Marketing_Expenditure</th>\n",
       "      <th>Location</th>\n",
       "      <th>Net_Profit</th>\n",
       "      <th>Industry_Sector</th>\n",
       "      <th>Profit</th>\n",
       "      <th>Employee_Count</th>\n",
       "      <th>Investment_Round</th>\n",
       "      <th>Operational_Cost</th>\n",
       "    </tr>\n",
       "  </thead>\n",
       "  <tbody>\n",
       "    <tr>\n",
       "      <th>0</th>\n",
       "      <td>0</td>\n",
       "      <td>165349.20</td>\n",
       "      <td>136897.80</td>\n",
       "      <td>471784.10</td>\n",
       "      <td>New York</td>\n",
       "      <td>192261.83</td>\n",
       "      <td>Energy</td>\n",
       "      <td>227095.722346</td>\n",
       "      <td>289</td>\n",
       "      <td>Series A</td>\n",
       "      <td>608681.90</td>\n",
       "    </tr>\n",
       "    <tr>\n",
       "      <th>1</th>\n",
       "      <td>1</td>\n",
       "      <td>162597.70</td>\n",
       "      <td>151377.59</td>\n",
       "      <td>443898.53</td>\n",
       "      <td>California</td>\n",
       "      <td>191792.06</td>\n",
       "      <td>Tech</td>\n",
       "      <td>224711.757208</td>\n",
       "      <td>217</td>\n",
       "      <td>Series B</td>\n",
       "      <td>595276.12</td>\n",
       "    </tr>\n",
       "    <tr>\n",
       "      <th>2</th>\n",
       "      <td>2</td>\n",
       "      <td>153441.51</td>\n",
       "      <td>101145.55</td>\n",
       "      <td>407934.54</td>\n",
       "      <td>Florida</td>\n",
       "      <td>191050.39</td>\n",
       "      <td>Finance</td>\n",
       "      <td>222717.429984</td>\n",
       "      <td>407</td>\n",
       "      <td>Series C</td>\n",
       "      <td>509080.09</td>\n",
       "    </tr>\n",
       "    <tr>\n",
       "      <th>3</th>\n",
       "      <td>3</td>\n",
       "      <td>144372.41</td>\n",
       "      <td>118671.85</td>\n",
       "      <td>383199.62</td>\n",
       "      <td>New York</td>\n",
       "      <td>182901.99</td>\n",
       "      <td>Finance</td>\n",
       "      <td>214017.365199</td>\n",
       "      <td>383</td>\n",
       "      <td>Series A</td>\n",
       "      <td>501871.47</td>\n",
       "    </tr>\n",
       "    <tr>\n",
       "      <th>4</th>\n",
       "      <td>4</td>\n",
       "      <td>142107.34</td>\n",
       "      <td>91391.77</td>\n",
       "      <td>366168.42</td>\n",
       "      <td>Florida</td>\n",
       "      <td>166187.94</td>\n",
       "      <td>Finance</td>\n",
       "      <td>196476.965990</td>\n",
       "      <td>351</td>\n",
       "      <td>Series B</td>\n",
       "      <td>457560.19</td>\n",
       "    </tr>\n",
       "  </tbody>\n",
       "</table>\n",
       "</div>"
      ],
      "text/plain": [
       "        RnD_Expenditure          Admin_Costs            \\\n",
       "0    0                165349.20              136897.80   \n",
       "1    1                162597.70              151377.59   \n",
       "2    2                153441.51              101145.55   \n",
       "3    3                144372.41              118671.85   \n",
       "4    4                142107.34               91391.77   \n",
       "\n",
       "   Marketing_Expenditure   Location     Net_Profit            \\\n",
       "0               471784.10  New York                192261.83   \n",
       "1               443898.53  California              191792.06   \n",
       "2               407934.54  Florida                 191050.39   \n",
       "3               383199.62  New York                182901.99   \n",
       "4               366168.42  Florida                 166187.94   \n",
       "\n",
       "   Industry_Sector   Profit                Employee_Count   Investment_Round   \\\n",
       "0  Energy                   227095.722346              289  Series A            \n",
       "1  Tech                     224711.757208              217  Series B            \n",
       "2  Finance                  222717.429984              407  Series C            \n",
       "3  Finance                  214017.365199              383  Series A            \n",
       "4  Finance                  196476.965990              351  Series B            \n",
       "\n",
       "   Operational_Cost  \n",
       "0         608681.90  \n",
       "1         595276.12  \n",
       "2         509080.09  \n",
       "3         501871.47  \n",
       "4         457560.19  "
      ]
     },
     "execution_count": 465,
     "metadata": {},
     "output_type": "execute_result"
    }
   ],
   "source": [
    "df_startups = pd.read_csv(\"/Users/lolonastri/Desktop/POO_UCEMA/trabajos_practicos/tp_datos/3-startups/startups.csv\")\n",
    "df_startups.head()"
   ]
  },
  {
   "cell_type": "code",
   "execution_count": 466,
   "metadata": {},
   "outputs": [],
   "source": [
    "df_startups = df_startups.copy()"
   ]
  },
  {
   "cell_type": "markdown",
   "metadata": {},
   "source": [
    "___"
   ]
  },
  {
   "cell_type": "markdown",
   "metadata": {},
   "source": [
    "## ***a. Análisis Exploratorio de Datos (EDA)***\n",
    "#### ¿Qué conclusiones puede sacar con respecto a las distribuciones de las variables numéricas y las relaciones entre ellas?"
   ]
  },
  {
   "cell_type": "markdown",
   "metadata": {},
   "source": [
    "## → Validación de la data"
   ]
  },
  {
   "cell_type": "code",
   "execution_count": 467,
   "metadata": {},
   "outputs": [],
   "source": [
    "df_startups.rename(columns=lambda x: x.strip(), inplace=True) # Remuevo espacios de las columnas."
   ]
  },
  {
   "cell_type": "code",
   "execution_count": 468,
   "metadata": {},
   "outputs": [
    {
     "name": "stdout",
     "output_type": "stream",
     "text": [
      "El dataset tiene 70 filas.\n",
      "El dataset tiene 11 columnas.\n"
     ]
    }
   ],
   "source": [
    "print(\"El dataset tiene \" + str(df_startups.shape[0])+ \" filas.\")\n",
    "print(\"El dataset tiene \" + str(df_startups.shape[1])+ \" columnas.\")"
   ]
  },
  {
   "cell_type": "code",
   "execution_count": 469,
   "metadata": {},
   "outputs": [
    {
     "data": {
      "text/plain": [
       "Index(['', 'RnD_Expenditure', 'Admin_Costs', 'Marketing_Expenditure',\n",
       "       'Location', 'Net_Profit', 'Industry_Sector', 'Profit', 'Employee_Count',\n",
       "       'Investment_Round', 'Operational_Cost'],\n",
       "      dtype='object')"
      ]
     },
     "execution_count": 469,
     "metadata": {},
     "output_type": "execute_result"
    }
   ],
   "source": [
    "df_startups.columns"
   ]
  },
  {
   "cell_type": "code",
   "execution_count": 470,
   "metadata": {},
   "outputs": [
    {
     "data": {
      "text/html": [
       "<div>\n",
       "<style scoped>\n",
       "    .dataframe tbody tr th:only-of-type {\n",
       "        vertical-align: middle;\n",
       "    }\n",
       "\n",
       "    .dataframe tbody tr th {\n",
       "        vertical-align: top;\n",
       "    }\n",
       "\n",
       "    .dataframe thead th {\n",
       "        text-align: right;\n",
       "    }\n",
       "</style>\n",
       "<table border=\"1\" class=\"dataframe\">\n",
       "  <thead>\n",
       "    <tr style=\"text-align: right;\">\n",
       "      <th></th>\n",
       "      <th>Unique_Values</th>\n",
       "      <th>Num_Unique_Values</th>\n",
       "      <th>Num_Null_Values</th>\n",
       "      <th>%_Null_Values</th>\n",
       "      <th>Sample_Unique_Values</th>\n",
       "    </tr>\n",
       "  </thead>\n",
       "  <tbody>\n",
       "    <tr>\n",
       "      <th></th>\n",
       "      <td>NaN</td>\n",
       "      <td>70.0</td>\n",
       "      <td>0</td>\n",
       "      <td>0.0</td>\n",
       "      <td>[3, 17, 61, 22, 26]</td>\n",
       "    </tr>\n",
       "    <tr>\n",
       "      <th>RnD_Expenditure</th>\n",
       "      <td>NaN</td>\n",
       "      <td>70.0</td>\n",
       "      <td>0</td>\n",
       "      <td>0.0</td>\n",
       "      <td>[144372.41, 94657.16, 137043.9000793519, 73994...</td>\n",
       "    </tr>\n",
       "    <tr>\n",
       "      <th>Admin_Costs</th>\n",
       "      <td>NaN</td>\n",
       "      <td>70.0</td>\n",
       "      <td>0</td>\n",
       "      <td>0.0</td>\n",
       "      <td>[118671.85, 145077.58, 63166.14375075782, 1227...</td>\n",
       "    </tr>\n",
       "    <tr>\n",
       "      <th>Marketing_Expenditure</th>\n",
       "      <td>NaN</td>\n",
       "      <td>70.0</td>\n",
       "      <td>0</td>\n",
       "      <td>0.0</td>\n",
       "      <td>[383199.62, 282574.31, 339417.7664699455, 3033...</td>\n",
       "    </tr>\n",
       "    <tr>\n",
       "      <th>Location</th>\n",
       "      <td>3</td>\n",
       "      <td>70</td>\n",
       "      <td>0</td>\n",
       "      <td>0.0</td>\n",
       "      <td>[New York   , New York   , Florida    , Florid...</td>\n",
       "    </tr>\n",
       "    <tr>\n",
       "      <th>Net_Profit</th>\n",
       "      <td>NaN</td>\n",
       "      <td>70.0</td>\n",
       "      <td>0</td>\n",
       "      <td>0.0</td>\n",
       "      <td>[182901.99, 125370.37, 173971.5545490167, 1103...</td>\n",
       "    </tr>\n",
       "    <tr>\n",
       "      <th>Industry_Sector</th>\n",
       "      <td>5</td>\n",
       "      <td>70</td>\n",
       "      <td>0</td>\n",
       "      <td>0.0</td>\n",
       "      <td>[Finance         , Tech            , Retail   ...</td>\n",
       "    </tr>\n",
       "    <tr>\n",
       "      <th>Profit</th>\n",
       "      <td>NaN</td>\n",
       "      <td>70.0</td>\n",
       "      <td>0</td>\n",
       "      <td>0.0</td>\n",
       "      <td>[214017.36519920148, 144096.6437362342, 186690...</td>\n",
       "    </tr>\n",
       "    <tr>\n",
       "      <th>Employee_Count</th>\n",
       "      <td>NaN</td>\n",
       "      <td>70.0</td>\n",
       "      <td>0</td>\n",
       "      <td>0.0</td>\n",
       "      <td>[383, 302, 147, 108, 497]</td>\n",
       "    </tr>\n",
       "    <tr>\n",
       "      <th>Investment_Round</th>\n",
       "      <td>5</td>\n",
       "      <td>70</td>\n",
       "      <td>0</td>\n",
       "      <td>0.0</td>\n",
       "      <td>[Series A         , Series B         , Seed   ...</td>\n",
       "    </tr>\n",
       "    <tr>\n",
       "      <th>Operational_Cost</th>\n",
       "      <td>NaN</td>\n",
       "      <td>70.0</td>\n",
       "      <td>0</td>\n",
       "      <td>0.0</td>\n",
       "      <td>[501871.47, 427651.89, 402583.91022070334, 426...</td>\n",
       "    </tr>\n",
       "  </tbody>\n",
       "</table>\n",
       "</div>"
      ],
      "text/plain": [
       "                      Unique_Values Num_Unique_Values  Num_Null_Values  \\\n",
       "                                NaN              70.0                0   \n",
       "RnD_Expenditure                 NaN              70.0                0   \n",
       "Admin_Costs                     NaN              70.0                0   \n",
       "Marketing_Expenditure           NaN              70.0                0   \n",
       "Location                          3                70                0   \n",
       "Net_Profit                      NaN              70.0                0   \n",
       "Industry_Sector                   5                70                0   \n",
       "Profit                          NaN              70.0                0   \n",
       "Employee_Count                  NaN              70.0                0   \n",
       "Investment_Round                  5                70                0   \n",
       "Operational_Cost                NaN              70.0                0   \n",
       "\n",
       "                       %_Null_Values  \\\n",
       "                                 0.0   \n",
       "RnD_Expenditure                  0.0   \n",
       "Admin_Costs                      0.0   \n",
       "Marketing_Expenditure            0.0   \n",
       "Location                         0.0   \n",
       "Net_Profit                       0.0   \n",
       "Industry_Sector                  0.0   \n",
       "Profit                           0.0   \n",
       "Employee_Count                   0.0   \n",
       "Investment_Round                 0.0   \n",
       "Operational_Cost                 0.0   \n",
       "\n",
       "                                                    Sample_Unique_Values  \n",
       "                                                     [3, 17, 61, 22, 26]  \n",
       "RnD_Expenditure        [144372.41, 94657.16, 137043.9000793519, 73994...  \n",
       "Admin_Costs            [118671.85, 145077.58, 63166.14375075782, 1227...  \n",
       "Marketing_Expenditure  [383199.62, 282574.31, 339417.7664699455, 3033...  \n",
       "Location               [New York   , New York   , Florida    , Florid...  \n",
       "Net_Profit             [182901.99, 125370.37, 173971.5545490167, 1103...  \n",
       "Industry_Sector        [Finance         , Tech            , Retail   ...  \n",
       "Profit                 [214017.36519920148, 144096.6437362342, 186690...  \n",
       "Employee_Count                                 [383, 302, 147, 108, 497]  \n",
       "Investment_Round       [Series A         , Series B         , Seed   ...  \n",
       "Operational_Cost       [501871.47, 427651.89, 402583.91022070334, 426...  "
      ]
     },
     "execution_count": 470,
     "metadata": {},
     "output_type": "execute_result"
    }
   ],
   "source": [
    "from exploratory_data_analysis import validate_columns \n",
    "validate_columns(df_startups)"
   ]
  },
  {
   "cell_type": "code",
   "execution_count": 471,
   "metadata": {},
   "outputs": [
    {
     "data": {
      "text/html": [
       "<div>\n",
       "<style scoped>\n",
       "    .dataframe tbody tr th:only-of-type {\n",
       "        vertical-align: middle;\n",
       "    }\n",
       "\n",
       "    .dataframe tbody tr th {\n",
       "        vertical-align: top;\n",
       "    }\n",
       "\n",
       "    .dataframe thead th {\n",
       "        text-align: right;\n",
       "    }\n",
       "</style>\n",
       "<table border=\"1\" class=\"dataframe\">\n",
       "  <thead>\n",
       "    <tr style=\"text-align: right;\">\n",
       "      <th></th>\n",
       "      <th></th>\n",
       "      <th>RnD_Expenditure</th>\n",
       "      <th>Admin_Costs</th>\n",
       "      <th>Marketing_Expenditure</th>\n",
       "      <th>Net_Profit</th>\n",
       "      <th>Profit</th>\n",
       "      <th>Employee_Count</th>\n",
       "      <th>Operational_Cost</th>\n",
       "    </tr>\n",
       "  </thead>\n",
       "  <tbody>\n",
       "    <tr>\n",
       "      <th>count</th>\n",
       "      <td>70.000000</td>\n",
       "      <td>70.000000</td>\n",
       "      <td>70.000000</td>\n",
       "      <td>70.000000</td>\n",
       "      <td>70.000000</td>\n",
       "      <td>70.000000</td>\n",
       "      <td>70.000000</td>\n",
       "      <td>70.000000</td>\n",
       "    </tr>\n",
       "    <tr>\n",
       "      <th>mean</th>\n",
       "      <td>34.500000</td>\n",
       "      <td>73645.768116</td>\n",
       "      <td>110300.346605</td>\n",
       "      <td>212932.971333</td>\n",
       "      <td>108074.578648</td>\n",
       "      <td>120746.497961</td>\n",
       "      <td>264.500000</td>\n",
       "      <td>323233.317938</td>\n",
       "    </tr>\n",
       "    <tr>\n",
       "      <th>std</th>\n",
       "      <td>20.351085</td>\n",
       "      <td>46643.653676</td>\n",
       "      <td>39611.402919</td>\n",
       "      <td>129284.203274</td>\n",
       "      <td>49144.596277</td>\n",
       "      <td>55478.853960</td>\n",
       "      <td>141.087983</td>\n",
       "      <td>135322.611919</td>\n",
       "    </tr>\n",
       "    <tr>\n",
       "      <th>min</th>\n",
       "      <td>0.000000</td>\n",
       "      <td>0.000000</td>\n",
       "      <td>2743.241602</td>\n",
       "      <td>0.000000</td>\n",
       "      <td>-21313.506762</td>\n",
       "      <td>-14885.847169</td>\n",
       "      <td>10.000000</td>\n",
       "      <td>24435.504010</td>\n",
       "    </tr>\n",
       "    <tr>\n",
       "      <th>25%</th>\n",
       "      <td>17.250000</td>\n",
       "      <td>37578.659207</td>\n",
       "      <td>96962.557500</td>\n",
       "      <td>120540.355000</td>\n",
       "      <td>78931.372500</td>\n",
       "      <td>83428.580072</td>\n",
       "      <td>144.750000</td>\n",
       "      <td>219525.129324</td>\n",
       "    </tr>\n",
       "    <tr>\n",
       "      <th>50%</th>\n",
       "      <td>34.500000</td>\n",
       "      <td>73051.080000</td>\n",
       "      <td>118608.950000</td>\n",
       "      <td>212716.240000</td>\n",
       "      <td>106661.195882</td>\n",
       "      <td>119810.725266</td>\n",
       "      <td>262.000000</td>\n",
       "      <td>322937.665000</td>\n",
       "    </tr>\n",
       "    <tr>\n",
       "      <th>75%</th>\n",
       "      <td>51.750000</td>\n",
       "      <td>106300.780101</td>\n",
       "      <td>136547.117500</td>\n",
       "      <td>302423.767500</td>\n",
       "      <td>140623.042127</td>\n",
       "      <td>160098.271102</td>\n",
       "      <td>393.000000</td>\n",
       "      <td>413510.677500</td>\n",
       "    </tr>\n",
       "    <tr>\n",
       "      <th>max</th>\n",
       "      <td>69.000000</td>\n",
       "      <td>175623.487278</td>\n",
       "      <td>182645.560000</td>\n",
       "      <td>494430.544453</td>\n",
       "      <td>192261.830000</td>\n",
       "      <td>227095.722346</td>\n",
       "      <td>497.000000</td>\n",
       "      <td>614542.229755</td>\n",
       "    </tr>\n",
       "  </tbody>\n",
       "</table>\n",
       "</div>"
      ],
      "text/plain": [
       "                  RnD_Expenditure    Admin_Costs  Marketing_Expenditure  \\\n",
       "count  70.000000        70.000000      70.000000              70.000000   \n",
       "mean   34.500000     73645.768116  110300.346605          212932.971333   \n",
       "std    20.351085     46643.653676   39611.402919          129284.203274   \n",
       "min     0.000000         0.000000    2743.241602               0.000000   \n",
       "25%    17.250000     37578.659207   96962.557500          120540.355000   \n",
       "50%    34.500000     73051.080000  118608.950000          212716.240000   \n",
       "75%    51.750000    106300.780101  136547.117500          302423.767500   \n",
       "max    69.000000    175623.487278  182645.560000          494430.544453   \n",
       "\n",
       "          Net_Profit         Profit  Employee_Count  Operational_Cost  \n",
       "count      70.000000      70.000000       70.000000         70.000000  \n",
       "mean   108074.578648  120746.497961      264.500000     323233.317938  \n",
       "std     49144.596277   55478.853960      141.087983     135322.611919  \n",
       "min    -21313.506762  -14885.847169       10.000000      24435.504010  \n",
       "25%     78931.372500   83428.580072      144.750000     219525.129324  \n",
       "50%    106661.195882  119810.725266      262.000000     322937.665000  \n",
       "75%    140623.042127  160098.271102      393.000000     413510.677500  \n",
       "max    192261.830000  227095.722346      497.000000     614542.229755  "
      ]
     },
     "execution_count": 471,
     "metadata": {},
     "output_type": "execute_result"
    }
   ],
   "source": [
    "df_startups.describe()"
   ]
  },
  {
   "cell_type": "code",
   "execution_count": 472,
   "metadata": {},
   "outputs": [
    {
     "data": {
      "text/plain": [
       "                         0.0\n",
       "RnD_Expenditure          0.0\n",
       "Admin_Costs              0.0\n",
       "Marketing_Expenditure    0.0\n",
       "Location                 0.0\n",
       "Net_Profit               0.0\n",
       "Industry_Sector          0.0\n",
       "Profit                   0.0\n",
       "Employee_Count           0.0\n",
       "Investment_Round         0.0\n",
       "Operational_Cost         0.0\n",
       "dtype: float64"
      ]
     },
     "execution_count": 472,
     "metadata": {},
     "output_type": "execute_result"
    }
   ],
   "source": [
    "(df_startups.isna().sum()/len(df_startups)) # porcentaje de nulos"
   ]
  },
  {
   "cell_type": "markdown",
   "metadata": {},
   "source": [
    "___"
   ]
  },
  {
   "cell_type": "markdown",
   "metadata": {},
   "source": [
    "## →  Veo los tipos de datos con dtypes"
   ]
  },
  {
   "cell_type": "code",
   "execution_count": 473,
   "metadata": {},
   "outputs": [
    {
     "data": {
      "text/plain": [
       "                           int64\n",
       "RnD_Expenditure          float64\n",
       "Admin_Costs              float64\n",
       "Marketing_Expenditure    float64\n",
       "Location                  object\n",
       "Net_Profit               float64\n",
       "Industry_Sector           object\n",
       "Profit                   float64\n",
       "Employee_Count             int64\n",
       "Investment_Round          object\n",
       "Operational_Cost         float64\n",
       "dtype: object"
      ]
     },
     "execution_count": 473,
     "metadata": {},
     "output_type": "execute_result"
    }
   ],
   "source": [
    "df_startups.dtypes"
   ]
  },
  {
   "cell_type": "markdown",
   "metadata": {},
   "source": [
    "___"
   ]
  },
  {
   "cell_type": "markdown",
   "metadata": {},
   "source": [
    "## → Valores outliers"
   ]
  },
  {
   "cell_type": "code",
   "execution_count": 474,
   "metadata": {},
   "outputs": [
    {
     "data": {
      "image/png": "[encoded data removed]",
      "text/plain": [
       "<Figure size 2000x2000 with 8 Axes>"
      ]
     },
     "metadata": {},
     "output_type": "display_data"
    }
   ],
   "source": [
    "from exploratory_data_analysis import plot_outliers\n",
    "plot_outliers(df_startups)"
   ]
  },
  {
   "cell_type": "markdown",
   "metadata": {},
   "source": [
    "#### Procedemos a eliminar los costos administrativos menores a 50.000 ya que son outliers. Estos valores son menores que 1.5 veces el valor del rango intercuartil más allá de los cuartiles. También, borramos el único valor negativo que hay en el beneficio neto, ya que no puede haber un valor negativo en el beneficio neto.\n",
    "#### Elimino los valores de estas columnas solamente ya que son a las únicas a las que les he encontrado anomalías en los gráficos de arriba."
   ]
  },
  {
   "cell_type": "code",
   "execution_count": 475,
   "metadata": {},
   "outputs": [
    {
     "name": "stdout",
     "output_type": "stream",
     "text": [
      "Outliers de Admin_Costs:\n",
      "56    12756.631705\n",
      "57     5858.217485\n",
      "58    25474.562935\n",
      "60    14752.025075\n",
      "68     2743.241602\n",
      "Name: Admin_Costs, dtype: float64\n",
      "\n",
      "Outliers de Net_Profit:\n",
      "66   -21313.506762\n",
      "Name: Net_Profit, dtype: float64\n"
     ]
    }
   ],
   "source": [
    "from exploratory_data_analysis import is_outlier\n",
    "\n",
    "outlier_values_admin_costs = df_startups[\"Admin_Costs\"][outliers_admin_costs]\n",
    "outliers_admin_costs = is_outlier(df_startups[\"Admin_Costs\"], 1.5)\n",
    "\n",
    "outliers_net_profit = is_outlier(df_startups[\"Net_Profit\"], 1.5)\n",
    "outlier_values_net_profit = df_startups[\"Net_Profit\"][outliers_net_profit]\n",
    "\n",
    "\n",
    "print(\"Outliers de Admin_Costs:\")\n",
    "print(outlier_values_admin_costs)\n",
    "print(\"\")\n",
    "print(\"Outliers de Net_Profit:\")\n",
    "print(outlier_values_net_profit)"
   ]
  },
  {
   "cell_type": "code",
   "execution_count": 476,
   "metadata": {},
   "outputs": [],
   "source": [
    "df_startups = df_startups.drop(outlier_values_admin_costs.index)\n",
    "df_startups = df_startups.drop(outlier_values_net_profit.index)"
   ]
  },
  {
   "cell_type": "code",
   "execution_count": 477,
   "metadata": {},
   "outputs": [
    {
     "data": {
      "text/html": [
       "<div>\n",
       "<style scoped>\n",
       "    .dataframe tbody tr th:only-of-type {\n",
       "        vertical-align: middle;\n",
       "    }\n",
       "\n",
       "    .dataframe tbody tr th {\n",
       "        vertical-align: top;\n",
       "    }\n",
       "\n",
       "    .dataframe thead th {\n",
       "        text-align: right;\n",
       "    }\n",
       "</style>\n",
       "<table border=\"1\" class=\"dataframe\">\n",
       "  <thead>\n",
       "    <tr style=\"text-align: right;\">\n",
       "      <th></th>\n",
       "      <th></th>\n",
       "      <th>RnD_Expenditure</th>\n",
       "      <th>Admin_Costs</th>\n",
       "      <th>Marketing_Expenditure</th>\n",
       "      <th>Location</th>\n",
       "      <th>Net_Profit</th>\n",
       "      <th>Industry_Sector</th>\n",
       "      <th>Profit</th>\n",
       "      <th>Employee_Count</th>\n",
       "      <th>Investment_Round</th>\n",
       "      <th>Operational_Cost</th>\n",
       "    </tr>\n",
       "  </thead>\n",
       "  <tbody>\n",
       "    <tr>\n",
       "      <th>0</th>\n",
       "      <td>0</td>\n",
       "      <td>165349.200000</td>\n",
       "      <td>136897.800000</td>\n",
       "      <td>471784.100000</td>\n",
       "      <td>New York</td>\n",
       "      <td>192261.830000</td>\n",
       "      <td>Energy</td>\n",
       "      <td>227095.722346</td>\n",
       "      <td>289</td>\n",
       "      <td>Series A</td>\n",
       "      <td>608681.900000</td>\n",
       "    </tr>\n",
       "    <tr>\n",
       "      <th>1</th>\n",
       "      <td>1</td>\n",
       "      <td>162597.700000</td>\n",
       "      <td>151377.590000</td>\n",
       "      <td>443898.530000</td>\n",
       "      <td>California</td>\n",
       "      <td>191792.060000</td>\n",
       "      <td>Tech</td>\n",
       "      <td>224711.757208</td>\n",
       "      <td>217</td>\n",
       "      <td>Series B</td>\n",
       "      <td>595276.120000</td>\n",
       "    </tr>\n",
       "    <tr>\n",
       "      <th>2</th>\n",
       "      <td>2</td>\n",
       "      <td>153441.510000</td>\n",
       "      <td>101145.550000</td>\n",
       "      <td>407934.540000</td>\n",
       "      <td>Florida</td>\n",
       "      <td>191050.390000</td>\n",
       "      <td>Finance</td>\n",
       "      <td>222717.429984</td>\n",
       "      <td>407</td>\n",
       "      <td>Series C</td>\n",
       "      <td>509080.090000</td>\n",
       "    </tr>\n",
       "    <tr>\n",
       "      <th>3</th>\n",
       "      <td>3</td>\n",
       "      <td>144372.410000</td>\n",
       "      <td>118671.850000</td>\n",
       "      <td>383199.620000</td>\n",
       "      <td>New York</td>\n",
       "      <td>182901.990000</td>\n",
       "      <td>Finance</td>\n",
       "      <td>214017.365199</td>\n",
       "      <td>383</td>\n",
       "      <td>Series A</td>\n",
       "      <td>501871.470000</td>\n",
       "    </tr>\n",
       "    <tr>\n",
       "      <th>4</th>\n",
       "      <td>4</td>\n",
       "      <td>142107.340000</td>\n",
       "      <td>91391.770000</td>\n",
       "      <td>366168.420000</td>\n",
       "      <td>Florida</td>\n",
       "      <td>166187.940000</td>\n",
       "      <td>Finance</td>\n",
       "      <td>196476.965990</td>\n",
       "      <td>351</td>\n",
       "      <td>Series B</td>\n",
       "      <td>457560.190000</td>\n",
       "    </tr>\n",
       "    <tr>\n",
       "      <th>...</th>\n",
       "      <td>...</td>\n",
       "      <td>...</td>\n",
       "      <td>...</td>\n",
       "      <td>...</td>\n",
       "      <td>...</td>\n",
       "      <td>...</td>\n",
       "      <td>...</td>\n",
       "      <td>...</td>\n",
       "      <td>...</td>\n",
       "      <td>...</td>\n",
       "      <td>...</td>\n",
       "    </tr>\n",
       "    <tr>\n",
       "      <th>63</th>\n",
       "      <td>63</td>\n",
       "      <td>175623.487278</td>\n",
       "      <td>79974.792746</td>\n",
       "      <td>132773.329686</td>\n",
       "      <td>New York</td>\n",
       "      <td>191210.011787</td>\n",
       "      <td>Tech</td>\n",
       "      <td>210696.222286</td>\n",
       "      <td>209</td>\n",
       "      <td>Seed</td>\n",
       "      <td>212748.122432</td>\n",
       "    </tr>\n",
       "    <tr>\n",
       "      <th>64</th>\n",
       "      <td>64</td>\n",
       "      <td>5477.518640</td>\n",
       "      <td>103781.567093</td>\n",
       "      <td>245786.579640</td>\n",
       "      <td>California</td>\n",
       "      <td>115860.374455</td>\n",
       "      <td>Healthcare</td>\n",
       "      <td>115965.175580</td>\n",
       "      <td>319</td>\n",
       "      <td>Seed</td>\n",
       "      <td>349568.146733</td>\n",
       "    </tr>\n",
       "    <tr>\n",
       "      <th>65</th>\n",
       "      <td>65</td>\n",
       "      <td>134093.502036</td>\n",
       "      <td>47327.344651</td>\n",
       "      <td>26681.272559</td>\n",
       "      <td>California</td>\n",
       "      <td>105423.930052</td>\n",
       "      <td>Tech</td>\n",
       "      <td>120378.804381</td>\n",
       "      <td>335</td>\n",
       "      <td>Seed</td>\n",
       "      <td>74008.617209</td>\n",
       "    </tr>\n",
       "    <tr>\n",
       "      <th>67</th>\n",
       "      <td>67</td>\n",
       "      <td>111737.965689</td>\n",
       "      <td>125193.850785</td>\n",
       "      <td>73364.287453</td>\n",
       "      <td>New York</td>\n",
       "      <td>187372.314677</td>\n",
       "      <td>Finance</td>\n",
       "      <td>197551.192890</td>\n",
       "      <td>367</td>\n",
       "      <td>Seed</td>\n",
       "      <td>198558.138238</td>\n",
       "    </tr>\n",
       "    <tr>\n",
       "      <th>69</th>\n",
       "      <td>69</td>\n",
       "      <td>39620.297817</td>\n",
       "      <td>112521.647242</td>\n",
       "      <td>349879.180010</td>\n",
       "      <td>Florida</td>\n",
       "      <td>94597.403597</td>\n",
       "      <td>Healthcare</td>\n",
       "      <td>98661.735576</td>\n",
       "      <td>31</td>\n",
       "      <td>Seed</td>\n",
       "      <td>462400.827252</td>\n",
       "    </tr>\n",
       "  </tbody>\n",
       "</table>\n",
       "<p>64 rows × 11 columns</p>\n",
       "</div>"
      ],
      "text/plain": [
       "        RnD_Expenditure    Admin_Costs  Marketing_Expenditure     Location  \\\n",
       "0    0    165349.200000  136897.800000          471784.100000  New York      \n",
       "1    1    162597.700000  151377.590000          443898.530000  California    \n",
       "2    2    153441.510000  101145.550000          407934.540000  Florida       \n",
       "3    3    144372.410000  118671.850000          383199.620000  New York      \n",
       "4    4    142107.340000   91391.770000          366168.420000  Florida       \n",
       "..  ..              ...            ...                    ...          ...   \n",
       "63  63    175623.487278   79974.792746          132773.329686  New York      \n",
       "64  64      5477.518640  103781.567093          245786.579640  California    \n",
       "65  65    134093.502036   47327.344651           26681.272559  California    \n",
       "67  67    111737.965689  125193.850785           73364.287453  New York      \n",
       "69  69     39620.297817  112521.647242          349879.180010  Florida       \n",
       "\n",
       "       Net_Profit   Industry_Sector         Profit  Employee_Count  \\\n",
       "0   192261.830000  Energy            227095.722346             289   \n",
       "1   191792.060000  Tech              224711.757208             217   \n",
       "2   191050.390000  Finance           222717.429984             407   \n",
       "3   182901.990000  Finance           214017.365199             383   \n",
       "4   166187.940000  Finance           196476.965990             351   \n",
       "..            ...               ...            ...             ...   \n",
       "63  191210.011787  Tech              210696.222286             209   \n",
       "64  115860.374455  Healthcare        115965.175580             319   \n",
       "65  105423.930052  Tech              120378.804381             335   \n",
       "67  187372.314677  Finance           197551.192890             367   \n",
       "69   94597.403597  Healthcare         98661.735576              31   \n",
       "\n",
       "     Investment_Round  Operational_Cost  \n",
       "0   Series A              608681.900000  \n",
       "1   Series B              595276.120000  \n",
       "2   Series C              509080.090000  \n",
       "3   Series A              501871.470000  \n",
       "4   Series B              457560.190000  \n",
       "..                ...               ...  \n",
       "63  Seed                  212748.122432  \n",
       "64  Seed                  349568.146733  \n",
       "65  Seed                   74008.617209  \n",
       "67  Seed                  198558.138238  \n",
       "69  Seed                  462400.827252  \n",
       "\n",
       "[64 rows x 11 columns]"
      ]
     },
     "execution_count": 477,
     "metadata": {},
     "output_type": "execute_result"
    }
   ],
   "source": [
    "df_startups"
   ]
  },
  {
   "cell_type": "code",
   "execution_count": 478,
   "metadata": {},
   "outputs": [],
   "source": [
    "# reemplazo los 0's con bfill?"
   ]
  },
  {
   "cell_type": "code",
   "execution_count": 479,
   "metadata": {},
   "outputs": [
    {
     "name": "stdout",
     "output_type": "stream",
     "text": [
      "                         1\n",
      "RnD_Expenditure          2\n",
      "Admin_Costs              0\n",
      "Marketing_Expenditure    3\n",
      "Location                 0\n",
      "Net_Profit               0\n",
      "Industry_Sector          0\n",
      "Profit                   0\n",
      "Employee_Count           0\n",
      "Investment_Round         0\n",
      "Operational_Cost         0\n",
      "dtype: int64\n"
     ]
    }
   ],
   "source": [
    "is_zero = df_startups.eq(0) \n",
    "print(is_zero.sum())"
   ]
  },
  {
   "cell_type": "code",
   "execution_count": 480,
   "metadata": {},
   "outputs": [
    {
     "data": {
      "text/html": [
       "<div>\n",
       "<style scoped>\n",
       "    .dataframe tbody tr th:only-of-type {\n",
       "        vertical-align: middle;\n",
       "    }\n",
       "\n",
       "    .dataframe tbody tr th {\n",
       "        vertical-align: top;\n",
       "    }\n",
       "\n",
       "    .dataframe thead th {\n",
       "        text-align: right;\n",
       "    }\n",
       "</style>\n",
       "<table border=\"1\" class=\"dataframe\">\n",
       "  <thead>\n",
       "    <tr style=\"text-align: right;\">\n",
       "      <th></th>\n",
       "      <th>RnD_Expenditure</th>\n",
       "      <th>Admin_Costs</th>\n",
       "      <th>Marketing_Expenditure</th>\n",
       "      <th>Net_Profit</th>\n",
       "      <th>Profit</th>\n",
       "      <th>Employee_Count</th>\n",
       "      <th>Operational_Cost</th>\n",
       "    </tr>\n",
       "  </thead>\n",
       "  <tbody>\n",
       "    <tr>\n",
       "      <th>RnD_Expenditure</th>\n",
       "      <td>1.00</td>\n",
       "      <td>0.12</td>\n",
       "      <td>0.51</td>\n",
       "      <td>0.62</td>\n",
       "      <td>0.70</td>\n",
       "      <td>0.06</td>\n",
       "      <td>0.52</td>\n",
       "    </tr>\n",
       "    <tr>\n",
       "      <th>Admin_Costs</th>\n",
       "      <td>0.12</td>\n",
       "      <td>1.00</td>\n",
       "      <td>0.01</td>\n",
       "      <td>-0.04</td>\n",
       "      <td>0.01</td>\n",
       "      <td>0.16</td>\n",
       "      <td>0.24</td>\n",
       "    </tr>\n",
       "    <tr>\n",
       "      <th>Marketing_Expenditure</th>\n",
       "      <td>0.51</td>\n",
       "      <td>0.01</td>\n",
       "      <td>1.00</td>\n",
       "      <td>0.34</td>\n",
       "      <td>0.39</td>\n",
       "      <td>-0.20</td>\n",
       "      <td>0.97</td>\n",
       "    </tr>\n",
       "    <tr>\n",
       "      <th>Net_Profit</th>\n",
       "      <td>0.62</td>\n",
       "      <td>-0.04</td>\n",
       "      <td>0.34</td>\n",
       "      <td>1.00</td>\n",
       "      <td>0.99</td>\n",
       "      <td>0.01</td>\n",
       "      <td>0.32</td>\n",
       "    </tr>\n",
       "    <tr>\n",
       "      <th>Profit</th>\n",
       "      <td>0.70</td>\n",
       "      <td>0.01</td>\n",
       "      <td>0.39</td>\n",
       "      <td>0.99</td>\n",
       "      <td>1.00</td>\n",
       "      <td>0.02</td>\n",
       "      <td>0.38</td>\n",
       "    </tr>\n",
       "    <tr>\n",
       "      <th>Employee_Count</th>\n",
       "      <td>0.06</td>\n",
       "      <td>0.16</td>\n",
       "      <td>-0.20</td>\n",
       "      <td>0.01</td>\n",
       "      <td>0.02</td>\n",
       "      <td>1.00</td>\n",
       "      <td>-0.15</td>\n",
       "    </tr>\n",
       "    <tr>\n",
       "      <th>Operational_Cost</th>\n",
       "      <td>0.52</td>\n",
       "      <td>0.24</td>\n",
       "      <td>0.97</td>\n",
       "      <td>0.32</td>\n",
       "      <td>0.38</td>\n",
       "      <td>-0.15</td>\n",
       "      <td>1.00</td>\n",
       "    </tr>\n",
       "  </tbody>\n",
       "</table>\n",
       "</div>"
      ],
      "text/plain": [
       "                       RnD_Expenditure  Admin_Costs  Marketing_Expenditure  \\\n",
       "RnD_Expenditure                   1.00         0.12                   0.51   \n",
       "Admin_Costs                       0.12         1.00                   0.01   \n",
       "Marketing_Expenditure             0.51         0.01                   1.00   \n",
       "Net_Profit                        0.62        -0.04                   0.34   \n",
       "Profit                            0.70         0.01                   0.39   \n",
       "Employee_Count                    0.06         0.16                  -0.20   \n",
       "Operational_Cost                  0.52         0.24                   0.97   \n",
       "\n",
       "                       Net_Profit  Profit  Employee_Count  Operational_Cost  \n",
       "RnD_Expenditure              0.62    0.70            0.06              0.52  \n",
       "Admin_Costs                 -0.04    0.01            0.16              0.24  \n",
       "Marketing_Expenditure        0.34    0.39           -0.20              0.97  \n",
       "Net_Profit                   1.00    0.99            0.01              0.32  \n",
       "Profit                       0.99    1.00            0.02              0.38  \n",
       "Employee_Count               0.01    0.02            1.00             -0.15  \n",
       "Operational_Cost             0.32    0.38           -0.15              1.00  "
      ]
     },
     "execution_count": 480,
     "metadata": {},
     "output_type": "execute_result"
    }
   ],
   "source": [
    "df_variables_numericas_correlacion = df_startups[[\"RnD_Expenditure\", \"Admin_Costs\", \"Marketing_Expenditure\", \"Net_Profit\", \"Profit\", \"Employee_Count\", \"Operational_Cost\"]]\n",
    "df_variables_numericas_correlacion = round(df_variables_numericas_correlacion.corr(numeric_only=True),2)\n",
    "df_variables_numericas_correlacion"
   ]
  },
  {
   "cell_type": "code",
   "execution_count": 481,
   "metadata": {},
   "outputs": [
    {
     "data": {
      "text/plain": [
       "<Axes: >"
      ]
     },
     "execution_count": 481,
     "metadata": {},
     "output_type": "execute_result"
    },
    {
     "data": {
      "image/png": "[encoded data removed]",
      "text/plain": [
       "<Figure size 1000x1000 with 2 Axes>"
      ]
     },
     "metadata": {},
     "output_type": "display_data"
    }
   ],
   "source": [
    "plt.figure(figsize = (10, 10))\n",
    "\n",
    "sns.heatmap(\n",
    "    round(df_variables_numericas_correlacion.corr(numeric_only=True),2), \n",
    "    cmap = 'coolwarm', \n",
    "    annot = True, \n",
    "    annot_kws = {\"size\": 10}\n",
    ")"
   ]
  },
  {
   "cell_type": "markdown",
   "metadata": {},
   "source": [
    "## ***Correlaciones fuertes:***\n",
    "(Las siguientes correlaciones indican que ambas variables están muy relacionadas entre sí y probablemente se pueden utilizar indistintamente en un modelo predictivo) \n",
    "##### → Las variables \"Net_Profit\" y \"Profit\" tienen una correlación muy alta de 0.99.\n",
    "##### → La variable \"Operational Cost\" tiene una correlación alta con la variable \"Marketing_Expenditure\" de 0.97.\n",
    "\n",
    "## ***Correlaciones moderadas:***\n",
    "(Las siguientes correlaciones indican que ambas variables están relacionadas entre sí pero no de manera muy fuerte) \n",
    "##### → Las variables \"RnD_Expenditure\" y \"Profit\" tienen una correlación moderada de 0.70.\n",
    "##### → Las variables \"RnD_Expenditure\" y \"Net_Profit\" tienen una correlación moderadamente fuerte de 0.62.\n",
    "##### → Las variables \"RnD_Expenditure\" y \"Marketing_Expenditure\" tienen una correlación moderadamente fuerte de 0.51.\n",
    "##### → Las variables \"Marketing_Expenditure\" y \"Net_Profit\" tienen una correlación moderada de 0.34.\n",
    "\n",
    "## ***Correlaciones débiles:***\n",
    "(Las siguientes correlaciones indican que ambas variables NO están muy relacionadas entre sí y probablemente NO tengan un gran impacto en un modelo predictivo) \n",
    "##### → Las variables \"Admin_Costs\" y \"Marketing_Expenditure\" tienen una correlación débil de 0.01.\n",
    "##### → Las variables \"Admin_Costs\" y \"Net_Profit\" tienen una correlación débil de -0.04.\n",
    "##### → La variable \"Employee_Count\" tiene correlaciones débiles con otras variables (todas debajo de 0.2), con la más fuerte siendo 0.16 con \"Admin_Costs\".\n",
    "\n",
    "\n",
    "##### Es importante tener en cuenta que la correlación no implica causalidad, es decir, solo porque dos variables están correlacionadas entre sí no significa que una variable cause la otra. Por lo tanto, es necesario realizar un análisis más detallado para determinar las relaciones causales entre las variables."
   ]
  },
  {
   "cell_type": "markdown",
   "metadata": {},
   "source": [
    "___"
   ]
  },
  {
   "cell_type": "markdown",
   "metadata": {},
   "source": [
    "## ***b. Modelo de Regresión Lineal para Predecir Beneficio Neto.***"
   ]
  },
  {
   "cell_type": "code",
   "execution_count": 482,
   "metadata": {},
   "outputs": [],
   "source": [
    "# Selecciono features\n",
    "features1 = [\"RnD_Expenditure\", \"Admin_Costs\", \"Marketing_Expenditure\", \"Employee_Count\", \"Profit\", \"Operational_Cost\"]"
   ]
  },
  {
   "cell_type": "code",
   "execution_count": 483,
   "metadata": {},
   "outputs": [
    {
     "data": {
      "text/plain": [
       "'\\nfrom scipy.stats import zscore\\n\\ncolumnas_para_transformar = [\"RnD_Expenditure\", \"Admin_Costs\", \"Marketing_Expenditure\", \"Employee_Count\", \"Profit\", \"Operational_Cost\"]\\nstartups_zscore = df_startups[columnas_para_transformar].apply(zscore)\\ndf_startups[columnas_para_transformar] = startups_zscore\\ndf_startups\\n'"
      ]
     },
     "execution_count": 483,
     "metadata": {},
     "output_type": "execute_result"
    }
   ],
   "source": [
    "# Estandarizo features numercias\n",
    "\"\"\"\n",
    "from scipy.stats import zscore\n",
    "\n",
    "columnas_para_transformar = [\"RnD_Expenditure\", \"Admin_Costs\", \"Marketing_Expenditure\", \"Employee_Count\", \"Profit\", \"Operational_Cost\"]\n",
    "startups_zscore = df_startups[columnas_para_transformar].apply(zscore)\n",
    "df_startups[columnas_para_transformar] = startups_zscore\n",
    "df_startups\n",
    "\"\"\""
   ]
  },
  {
   "cell_type": "code",
   "execution_count": 484,
   "metadata": {},
   "outputs": [
    {
     "data": {
      "text/plain": [
       "'Net_Profit ~ RnD_Expenditure + Admin_Costs + Marketing_Expenditure + Employee_Count + Profit + Operational_Cost'"
      ]
     },
     "execution_count": 484,
     "metadata": {},
     "output_type": "execute_result"
    }
   ],
   "source": [
    "formula1 = \"Net_Profit ~ \" + ' + '.join(features1)\n",
    "formula1"
   ]
  },
  {
   "cell_type": "code",
   "execution_count": 485,
   "metadata": {},
   "outputs": [
    {
     "name": "stdout",
     "output_type": "stream",
     "text": [
      "Intel MKL WARNING: Support of Intel(R) Streaming SIMD Extensions 4.2 (Intel(R) SSE4.2) enabled only processors has been deprecated. Intel oneAPI Math Kernel Library 2025.0 will require Intel(R) Advanced Vector Extensions (Intel(R) AVX) instructions.\n",
      "                            OLS Regression Results                            \n",
      "==============================================================================\n",
      "Dep. Variable:             Net_Profit   R-squared:                       0.995\n",
      "Model:                            OLS   Adj. R-squared:                  0.994\n",
      "Method:                 Least Squares   F-statistic:                     2203.\n",
      "Date:                Wed, 01 Nov 2023   Prob (F-statistic):           8.93e-65\n",
      "Time:                        13:19:50   Log-Likelihood:                -609.62\n",
      "No. Observations:                  64   AIC:                             1231.\n",
      "Df Residuals:                      58   BIC:                             1244.\n",
      "Df Model:                           5                                         \n",
      "Covariance Type:            nonrobust                                         \n",
      "=========================================================================================\n",
      "                            coef    std err          t      P>|t|      [0.025      0.975]\n",
      "-----------------------------------------------------------------------------------------\n",
      "Intercept              9863.0946   2249.515      4.385      0.000    5360.202    1.44e+04\n",
      "RnD_Expenditure          -0.1227      0.014     -8.811      0.000      -0.151      -0.095\n",
      "Admin_Costs              -0.0281      0.010     -2.771      0.008      -0.048      -0.008\n",
      "Marketing_Expenditure     0.0106      0.006      1.861      0.068      -0.001       0.022\n",
      "Employee_Count           -1.7289      3.268     -0.529      0.599      -8.270       4.812\n",
      "Profit                    0.9460      0.012     81.375      0.000       0.923       0.969\n",
      "Operational_Cost         -0.0175      0.005     -3.338      0.001      -0.028      -0.007\n",
      "==============================================================================\n",
      "Omnibus:                       20.256   Durbin-Watson:                   0.888\n",
      "Prob(Omnibus):                  0.000   Jarque-Bera (JB):               26.684\n",
      "Skew:                           1.304   Prob(JB):                     1.61e-06\n",
      "Kurtosis:                       4.791   Cond. No.                     3.24e+16\n",
      "==============================================================================\n",
      "\n",
      "Notes:\n",
      "[1] Standard Errors assume that the covariance matrix of the errors is correctly specified.\n",
      "[2] The smallest eigenvalue is 1.34e-20. This might indicate that there are\n",
      "strong multicollinearity problems or that the design matrix is singular.\n"
     ]
    }
   ],
   "source": [
    "import statsmodels.formula.api as smf\n",
    "\n",
    "modelo1 = smf.ols(formula=formula1, data=df_startups)\n",
    "modelo1 = modelo1.fit()\n",
    "print(modelo1.summary())"
   ]
  },
  {
   "cell_type": "markdown",
   "metadata": {},
   "source": [
    "___"
   ]
  },
  {
   "cell_type": "markdown",
   "metadata": {},
   "source": [
    "## ***c. ¿Cual es la intuicion detrás de la formula de la regresion resultante?***"
   ]
  },
  {
   "cell_type": "markdown",
   "metadata": {},
   "source": [
    "##### La fórmula de la regresión resultante es una ecuación que describe la relación entre la variable dependiente (en este caso, \"Net_Profit\") y las variables independientes (en este caso, \"RnD_Expenditure\", \"Admin_Costs\", \"Marketing_Expenditure\", \"Employee_Count\", \"Profit\" y \"OperationalCost\"). La ecuación de regresión se utiliza para predecir el valor de la variable dependiente en función de los valores de las variables independientes.\n",
    "\n",
    "##### En el caso de la regresión lineal múltiple,la ecuación de regresión tiene la forma: y = b0 + b1x1 + b2x2 + ... + bn*xn donde \"y\" es la variable dependiente, \"X1\", \"X2\" ',..., \"xn\" son las variables independientes, \"b0\" es el intercepto y \"b1\" \"b2\" \",..., \"bn\" son los coeficientes de regresión que indican cómo cambia \"y\" cuando cambia cada variable independiente.\n",
    "\n",
    "##### En esta fórmula se pueden ver los valores de los coeficientes de regresión, así como su significancia estadística y su intervalo de confianza. Estos valores permiten interpretar la relación entre las variables independientes y la variable dependiente, y permiten hacer predicciones sobre el valor de la variable dependiente en función de los valores de las variables independientes"
   ]
  },
  {
   "cell_type": "markdown",
   "metadata": {},
   "source": [
    "___"
   ]
  },
  {
   "cell_type": "markdown",
   "metadata": {},
   "source": [
    "## ***d. ¿Cual es el error promedio? ¿Y el error elevado al cuadrado? ¿Que significa?***"
   ]
  },
  {
   "cell_type": "code",
   "execution_count": 486,
   "metadata": {},
   "outputs": [
    {
     "name": "stdout",
     "output_type": "stream",
     "text": [
      "Error cuadrático medio: 12131080.00\n"
     ]
    }
   ],
   "source": [
    "mse = modelo.mse_resid\n",
    "\n",
    "print(\"Error cuadrático medio: {:.2f}\".format(mse))"
   ]
  },
  {
   "cell_type": "code",
   "execution_count": 487,
   "metadata": {},
   "outputs": [
    {
     "name": "stdout",
     "output_type": "stream",
     "text": [
      "El RMS es 3315.6887\n"
     ]
    }
   ],
   "source": [
    "from sklearn.metrics import mean_squared_error\n",
    "\n",
    "y_true = df_startups['Net_Profit']\n",
    "y_pred = modelo1.predict()\n",
    "\n",
    "rms = mean_squared_error(y_true, y_pred, squared=False)\n",
    "print(f\"El RMS es {rms:.4f}\")"
   ]
  },
  {
   "cell_type": "markdown",
   "metadata": {},
   "source": [
    "##### El error cuadrático medio es de 3315.6887. Esto significa que el modelo predice el \"Net_Profit\" con un error promedio de 3315.6887. El error cuadrático medio es una medida de la precisión del modelo (es una medida de la calidad del ajuste de los datos). Cuanto menor sea el error cuadrático medio, mejor será el modelo. Sin embargo, es importante tener en cuenta que el error cuadrático medio no puede compararse con el error cuadrático medio de otros modelos, ya que depende de la escala de la variable dependiente. Un MSE bajo y un R² alto indican que el modelo se ajusta bien a los datos"
   ]
  },
  {
   "cell_type": "code",
   "execution_count": 488,
   "metadata": {},
   "outputs": [
    {
     "name": "stdout",
     "output_type": "stream",
     "text": [
      "R-cuadrado: 0.99\n"
     ]
    }
   ],
   "source": [
    "r2 = modelo1.rsquared\n",
    "print(\"R-cuadrado: {:.2f}\".format(r2))"
   ]
  },
  {
   "cell_type": "markdown",
   "metadata": {},
   "source": [
    "##### El R² es una medida de la bondad de ajuste del modelo de regresión. Indica la proporción de la varianza total de la variable dependiente que es explicada por el modelo. Cuanto más alto sea el R², mejor se ajusta el modelo a los datos. Cuanto más cerca esté el R² de 1, más variabilidad va a explicar el modelo. En este caso, es 0.99. Esto quiere decir que aproximadamente el 99% de la variabilidad en en el \"Net_Profit\" puede ser explicada por las variables independientes. Es casi el mejor de los casos ya que el objetivo se explica al 99% por las características. Sin embargo, es importante tener en cuenta que un valor R-cuadrado alto no garantiza que el modelo sea bueno, ya que puede haber otras variables que afecten la variable dependiente y que no se estén considerando en el modelo. Por lo tanto, es importante evaluar otros aspectos del modelo, como los coeficientes de regresión individuales y los valores p, para determinar si el modelo es adecuado para los datos"
   ]
  },
  {
   "cell_type": "markdown",
   "metadata": {},
   "source": [
    "___"
   ]
  },
  {
   "cell_type": "markdown",
   "metadata": {},
   "source": [
    "## ***e. Analice del Sector de la Industria en el Beneficio Neto.***"
   ]
  },
  {
   "cell_type": "code",
   "execution_count": 493,
   "metadata": {},
   "outputs": [
    {
     "name": "stdout",
     "output_type": "stream",
     "text": [
      "Intel MKL WARNING: Support of Intel(R) Streaming SIMD Extensions 4.2 (Intel(R) SSE4.2) enabled only processors has been deprecated. Intel oneAPI Math Kernel Library 2025.0 will require Intel(R) Advanced Vector Extensions (Intel(R) AVX) instructions.\n",
      "                            OLS Regression Results                            \n",
      "==============================================================================\n",
      "Dep. Variable:             Net_Profit   R-squared:                       0.066\n",
      "Model:                            OLS   Adj. R-squared:                  0.003\n",
      "Method:                 Least Squares   F-statistic:                     1.047\n",
      "Date:                Wed, 01 Nov 2023   Prob (F-statistic):              0.391\n",
      "Time:                        13:23:08   Log-Likelihood:                -775.48\n",
      "No. Observations:                  64   AIC:                             1561.\n",
      "Df Residuals:                      59   BIC:                             1572.\n",
      "Df Model:                           4                                         \n",
      "Covariance Type:            nonrobust                                         \n",
      "==========================================================================================================\n",
      "                                             coef    std err          t      P>|t|      [0.025      0.975]\n",
      "----------------------------------------------------------------------------------------------------------\n",
      "Intercept                               1.033e+05   1.46e+04      7.085      0.000    7.41e+04    1.32e+05\n",
      "C(Industry_Sector)[T.Finance         ]  2.642e+04   1.94e+04      1.363      0.178   -1.24e+04    6.52e+04\n",
      "C(Industry_Sector)[T.Healthcare      ] -4099.5645   1.91e+04     -0.215      0.831   -4.23e+04    3.41e+04\n",
      "C(Industry_Sector)[T.Retail          ] -3415.5447   2.06e+04     -0.166      0.869   -4.47e+04    3.78e+04\n",
      "C(Industry_Sector)[T.Tech            ]  1.349e+04   1.84e+04      0.734      0.466   -2.33e+04    5.03e+04\n",
      "==============================================================================\n",
      "Omnibus:                        1.571   Durbin-Watson:                   1.199\n",
      "Prob(Omnibus):                  0.456   Jarque-Bera (JB):                1.206\n",
      "Skew:                          -0.093   Prob(JB):                        0.547\n",
      "Kurtosis:                       2.354   Cond. No.                         6.55\n",
      "==============================================================================\n",
      "\n",
      "Notes:\n",
      "[1] Standard Errors assume that the covariance matrix of the errors is correctly specified.\n"
     ]
    }
   ],
   "source": [
    "modelo2 = smf.ols(formula=\"Net_Profit ~ C(Industry_Sector)\", data=df_startups)\n",
    "modelo2 = modelo2.fit()\n",
    "print(modelo2.summary())"
   ]
  },
  {
   "cell_type": "markdown",
   "metadata": {},
   "source": [
    "___"
   ]
  },
  {
   "cell_type": "markdown",
   "metadata": {},
   "source": [
    "## ***f. ¿Cual es la relacion entre las series y el profit? ¿Es importante hay alguna particularidad? (Hint)***"
   ]
  },
  {
   "cell_type": "code",
   "execution_count": 511,
   "metadata": {},
   "outputs": [
    {
     "name": "stdout",
     "output_type": "stream",
     "text": [
      "Intel MKL WARNING: Support of Intel(R) Streaming SIMD Extensions 4.2 (Intel(R) SSE4.2) enabled only processors has been deprecated. Intel oneAPI Math Kernel Library 2025.0 will require Intel(R) Advanced Vector Extensions (Intel(R) AVX) instructions.\n",
      "                            OLS Regression Results                            \n",
      "==============================================================================\n",
      "Dep. Variable:                 Profit   R-squared:                       0.089\n",
      "Model:                            OLS   Adj. R-squared:                  0.027\n",
      "Method:                 Least Squares   F-statistic:                     1.441\n",
      "Date:                Wed, 01 Nov 2023   Prob (F-statistic):              0.232\n",
      "Time:                        13:29:24   Log-Likelihood:                -783.69\n",
      "No. Observations:                  64   AIC:                             1577.\n",
      "Df Residuals:                      59   BIC:                             1588.\n",
      "Df Model:                           4                                         \n",
      "Covariance Type:            nonrobust                                         \n",
      "============================================================================================================\n",
      "                                               coef    std err          t      P>|t|      [0.025      0.975]\n",
      "------------------------------------------------------------------------------------------------------------\n",
      "Intercept                                  1.14e+05   2.14e+04      5.327      0.000    7.12e+04    1.57e+05\n",
      "C(Investment_Round)[T.Seed             ] -2636.5616   2.34e+04     -0.113      0.911   -4.94e+04    4.41e+04\n",
      "C(Investment_Round)[T.Series A         ]  3.251e+04   3.17e+04      1.024      0.310    -3.1e+04     9.6e+04\n",
      "C(Investment_Round)[T.Series B         ]  3.805e+04   2.76e+04      1.377      0.174   -1.72e+04    9.33e+04\n",
      "C(Investment_Round)[T.Series C         ]  1.717e+04   2.59e+04      0.664      0.509   -3.46e+04    6.89e+04\n",
      "==============================================================================\n",
      "Omnibus:                        1.463   Durbin-Watson:                   1.093\n",
      "Prob(Omnibus):                  0.481   Jarque-Bera (JB):                1.151\n",
      "Skew:                          -0.083   Prob(JB):                        0.563\n",
      "Kurtosis:                       2.364   Cond. No.                         8.88\n",
      "==============================================================================\n",
      "\n",
      "Notes:\n",
      "[1] Standard Errors assume that the covariance matrix of the errors is correctly specified.\n"
     ]
    }
   ],
   "source": [
    "modelo3 = smf.ols(formula=\"Profit ~ C(Investment_Round)\", data=df_startups)\n",
    "modelo3 = modelo3.fit()\n",
    "print(modelo3.summary())"
   ]
  }
 ],
 "metadata": {
  "kernelspec": {
   "display_name": "POO-env",
   "language": "python",
   "name": "python3"
  },
  "language_info": {
   "codemirror_mode": {
    "name": "ipython",
    "version": 3
   },
   "file_extension": ".py",
   "mimetype": "text/x-python",
   "name": "python",
   "nbconvert_exporter": "python",
   "pygments_lexer": "ipython3",
   "version": "3.11.4"
  },
  "orig_nbformat": 4
 },
 "nbformat": 4,
 "nbformat_minor": 2
}
