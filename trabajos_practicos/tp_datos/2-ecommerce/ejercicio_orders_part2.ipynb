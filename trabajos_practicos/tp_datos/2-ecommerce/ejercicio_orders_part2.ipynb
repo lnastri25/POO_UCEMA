{
 "cells": [
  {
   "cell_type": "markdown",
   "metadata": {
    "tags": []
   },
   "source": [
    "# Orders - Multivariate Regression of  the `review_score`"
   ]
  },
  {
   "cell_type": "code",
   "execution_count": 66,
   "metadata": {},
   "outputs": [
    {
     "name": "stdout",
     "output_type": "stream",
     "text": [
      "The autoreload extension is already loaded. To reload it, use:\n",
      "  %reload_ext autoreload\n"
     ]
    }
   ],
   "source": [
    "%load_ext autoreload\n",
    "%autoreload 2"
   ]
  },
  {
   "cell_type": "code",
   "execution_count": 67,
   "metadata": {},
   "outputs": [],
   "source": [
    "# Import modules \n",
    "import pandas as pd\n",
    "import numpy as np \n",
    "import seaborn as sns\n",
    "import matplotlib.pyplot as plt"
   ]
  },
  {
   "cell_type": "markdown",
   "metadata": {},
   "source": [
    "Utilizar de dataset el resultado de la clase pasada (con la distancia)\n",
    "\n"
   ]
  },
  {
   "cell_type": "code",
   "execution_count": 68,
   "metadata": {
    "tags": []
   },
   "outputs": [
    {
     "data": {
      "text/html": [
       "<div>\n",
       "<style scoped>\n",
       "    .dataframe tbody tr th:only-of-type {\n",
       "        vertical-align: middle;\n",
       "    }\n",
       "\n",
       "    .dataframe tbody tr th {\n",
       "        vertical-align: top;\n",
       "    }\n",
       "\n",
       "    .dataframe thead th {\n",
       "        text-align: right;\n",
       "    }\n",
       "</style>\n",
       "<table border=\"1\" class=\"dataframe\">\n",
       "  <thead>\n",
       "    <tr style=\"text-align: right;\">\n",
       "      <th></th>\n",
       "      <th>Unnamed: 0</th>\n",
       "      <th>order_id</th>\n",
       "      <th>customer_id</th>\n",
       "      <th>order_status</th>\n",
       "      <th>order_purchase_timestamp</th>\n",
       "      <th>order_approved_at</th>\n",
       "      <th>order_delivered_carrier_date</th>\n",
       "      <th>order_delivered_customer_date</th>\n",
       "      <th>order_estimated_delivery_date</th>\n",
       "      <th>time_delta</th>\n",
       "      <th>...</th>\n",
       "      <th>tiempo_de_espera_pronosticado</th>\n",
       "      <th>real_vs_esperado</th>\n",
       "      <th>es_cinco_estrellas</th>\n",
       "      <th>es_una_estrella</th>\n",
       "      <th>review_score</th>\n",
       "      <th>num_de_produc</th>\n",
       "      <th>vendedores_unicos</th>\n",
       "      <th>precio</th>\n",
       "      <th>transporte</th>\n",
       "      <th>distance_seller_customer</th>\n",
       "    </tr>\n",
       "  </thead>\n",
       "  <tbody>\n",
       "    <tr>\n",
       "      <th>0</th>\n",
       "      <td>0</td>\n",
       "      <td>e481f51cbdc54678b7cc49136f2d6af7</td>\n",
       "      <td>9ef432eb6251297304e76186b10a928d</td>\n",
       "      <td>delivered</td>\n",
       "      <td>2017-10-02 10:56:33</td>\n",
       "      <td>2017-10-02 11:07:15</td>\n",
       "      <td>2017-10-04 19:55:00</td>\n",
       "      <td>2017-10-10 21:25:13</td>\n",
       "      <td>2017-10-18</td>\n",
       "      <td>8.0</td>\n",
       "      <td>...</td>\n",
       "      <td>15.544063</td>\n",
       "      <td>0.0</td>\n",
       "      <td>0</td>\n",
       "      <td>0</td>\n",
       "      <td>4</td>\n",
       "      <td>1</td>\n",
       "      <td>1</td>\n",
       "      <td>29.99</td>\n",
       "      <td>8.72</td>\n",
       "      <td>18.063837</td>\n",
       "    </tr>\n",
       "    <tr>\n",
       "      <th>1</th>\n",
       "      <td>1</td>\n",
       "      <td>53cdb2fc8bc7dce0b6741e2150273451</td>\n",
       "      <td>b0830fb4747a6c6d20dea0b8c802d7ef</td>\n",
       "      <td>delivered</td>\n",
       "      <td>2018-07-24 20:41:37</td>\n",
       "      <td>2018-07-26 03:24:27</td>\n",
       "      <td>2018-07-26 14:31:00</td>\n",
       "      <td>2018-08-07 15:27:45</td>\n",
       "      <td>2018-08-13</td>\n",
       "      <td>13.0</td>\n",
       "      <td>...</td>\n",
       "      <td>19.137766</td>\n",
       "      <td>0.0</td>\n",
       "      <td>0</td>\n",
       "      <td>0</td>\n",
       "      <td>4</td>\n",
       "      <td>1</td>\n",
       "      <td>1</td>\n",
       "      <td>118.70</td>\n",
       "      <td>22.76</td>\n",
       "      <td>856.292580</td>\n",
       "    </tr>\n",
       "    <tr>\n",
       "      <th>2</th>\n",
       "      <td>2</td>\n",
       "      <td>47770eb9100c2d0c44946d9cf07ec65d</td>\n",
       "      <td>41ce2a54c0b03bf3443c3d931a367089</td>\n",
       "      <td>delivered</td>\n",
       "      <td>2018-08-08 08:38:49</td>\n",
       "      <td>2018-08-08 08:55:23</td>\n",
       "      <td>2018-08-08 13:50:00</td>\n",
       "      <td>2018-08-17 18:06:29</td>\n",
       "      <td>2018-09-04</td>\n",
       "      <td>9.0</td>\n",
       "      <td>...</td>\n",
       "      <td>26.639711</td>\n",
       "      <td>0.0</td>\n",
       "      <td>1</td>\n",
       "      <td>0</td>\n",
       "      <td>5</td>\n",
       "      <td>1</td>\n",
       "      <td>1</td>\n",
       "      <td>159.90</td>\n",
       "      <td>19.22</td>\n",
       "      <td>514.130333</td>\n",
       "    </tr>\n",
       "    <tr>\n",
       "      <th>3</th>\n",
       "      <td>3</td>\n",
       "      <td>949d5b44dbf5de918fe9c16f97b45f8a</td>\n",
       "      <td>f88197465ea7920adcdbec7375364d82</td>\n",
       "      <td>delivered</td>\n",
       "      <td>2017-11-18 19:28:06</td>\n",
       "      <td>2017-11-18 19:45:59</td>\n",
       "      <td>2017-11-22 13:39:59</td>\n",
       "      <td>2017-12-02 00:28:42</td>\n",
       "      <td>2017-12-15</td>\n",
       "      <td>13.0</td>\n",
       "      <td>...</td>\n",
       "      <td>26.188819</td>\n",
       "      <td>0.0</td>\n",
       "      <td>1</td>\n",
       "      <td>0</td>\n",
       "      <td>5</td>\n",
       "      <td>1</td>\n",
       "      <td>1</td>\n",
       "      <td>45.00</td>\n",
       "      <td>27.20</td>\n",
       "      <td>1822.800366</td>\n",
       "    </tr>\n",
       "    <tr>\n",
       "      <th>4</th>\n",
       "      <td>4</td>\n",
       "      <td>ad21c59c0840e6cb83a9ceb5573f8159</td>\n",
       "      <td>8ab97904e6daea8866dbdbc4fb7aad2c</td>\n",
       "      <td>delivered</td>\n",
       "      <td>2018-02-13 21:18:39</td>\n",
       "      <td>2018-02-13 22:20:29</td>\n",
       "      <td>2018-02-14 19:46:34</td>\n",
       "      <td>2018-02-16 18:17:02</td>\n",
       "      <td>2018-02-26</td>\n",
       "      <td>2.0</td>\n",
       "      <td>...</td>\n",
       "      <td>12.112049</td>\n",
       "      <td>0.0</td>\n",
       "      <td>1</td>\n",
       "      <td>0</td>\n",
       "      <td>5</td>\n",
       "      <td>1</td>\n",
       "      <td>1</td>\n",
       "      <td>19.90</td>\n",
       "      <td>8.72</td>\n",
       "      <td>30.174037</td>\n",
       "    </tr>\n",
       "  </tbody>\n",
       "</table>\n",
       "<p>5 rows × 21 columns</p>\n",
       "</div>"
      ],
      "text/plain": [
       "   Unnamed: 0                          order_id  \\\n",
       "0           0  e481f51cbdc54678b7cc49136f2d6af7   \n",
       "1           1  53cdb2fc8bc7dce0b6741e2150273451   \n",
       "2           2  47770eb9100c2d0c44946d9cf07ec65d   \n",
       "3           3  949d5b44dbf5de918fe9c16f97b45f8a   \n",
       "4           4  ad21c59c0840e6cb83a9ceb5573f8159   \n",
       "\n",
       "                        customer_id order_status order_purchase_timestamp  \\\n",
       "0  9ef432eb6251297304e76186b10a928d    delivered      2017-10-02 10:56:33   \n",
       "1  b0830fb4747a6c6d20dea0b8c802d7ef    delivered      2018-07-24 20:41:37   \n",
       "2  41ce2a54c0b03bf3443c3d931a367089    delivered      2018-08-08 08:38:49   \n",
       "3  f88197465ea7920adcdbec7375364d82    delivered      2017-11-18 19:28:06   \n",
       "4  8ab97904e6daea8866dbdbc4fb7aad2c    delivered      2018-02-13 21:18:39   \n",
       "\n",
       "     order_approved_at order_delivered_carrier_date  \\\n",
       "0  2017-10-02 11:07:15          2017-10-04 19:55:00   \n",
       "1  2018-07-26 03:24:27          2018-07-26 14:31:00   \n",
       "2  2018-08-08 08:55:23          2018-08-08 13:50:00   \n",
       "3  2017-11-18 19:45:59          2017-11-22 13:39:59   \n",
       "4  2018-02-13 22:20:29          2018-02-14 19:46:34   \n",
       "\n",
       "  order_delivered_customer_date order_estimated_delivery_date  time_delta  \\\n",
       "0           2017-10-10 21:25:13                    2017-10-18         8.0   \n",
       "1           2018-08-07 15:27:45                    2018-08-13        13.0   \n",
       "2           2018-08-17 18:06:29                    2018-09-04         9.0   \n",
       "3           2017-12-02 00:28:42                    2017-12-15        13.0   \n",
       "4           2018-02-16 18:17:02                    2018-02-26         2.0   \n",
       "\n",
       "   ...  tiempo_de_espera_pronosticado  real_vs_esperado  es_cinco_estrellas  \\\n",
       "0  ...                      15.544063               0.0                   0   \n",
       "1  ...                      19.137766               0.0                   0   \n",
       "2  ...                      26.639711               0.0                   1   \n",
       "3  ...                      26.188819               0.0                   1   \n",
       "4  ...                      12.112049               0.0                   1   \n",
       "\n",
       "   es_una_estrella  review_score  num_de_produc  vendedores_unicos  precio  \\\n",
       "0                0             4              1                  1   29.99   \n",
       "1                0             4              1                  1  118.70   \n",
       "2                0             5              1                  1  159.90   \n",
       "3                0             5              1                  1   45.00   \n",
       "4                0             5              1                  1   19.90   \n",
       "\n",
       "   transporte  distance_seller_customer  \n",
       "0        8.72                 18.063837  \n",
       "1       22.76                856.292580  \n",
       "2       19.22                514.130333  \n",
       "3       27.20               1822.800366  \n",
       "4        8.72                 30.174037  \n",
       "\n",
       "[5 rows x 21 columns]"
      ]
     },
     "execution_count": 68,
     "metadata": {},
     "output_type": "execute_result"
    }
   ],
   "source": [
    "orders = pd.read_csv(\"/Users/lolonastri/Desktop/POO_UCEMA/trabajos_practicos/tp_datos/2-ecommerce/data/tablon_primario.csv\")\n",
    "orders.head()"
   ]
  },
  {
   "cell_type": "markdown",
   "metadata": {},
   "source": [
    "Let's recall our simple analysis from yesterday's exercise: \n",
    "\n",
    "¿ A qué esta correlacionada `review_score`?\n",
    " * Si dos variables tmb tienen correlación entre sí deberíamos analizarla por separado\n",
    "  *  Probar con `statsmodels`: `tiempo_de_espera` y `real_vs_esperado`"
   ]
  },
  {
   "cell_type": "code",
   "execution_count": 69,
   "metadata": {},
   "outputs": [],
   "source": [
    "from olist.preprocess import whitespace_remover_and_columns\n",
    "orders = whitespace_remover_and_columns(orders)"
   ]
  },
  {
   "cell_type": "code",
   "execution_count": 70,
   "metadata": {},
   "outputs": [
    {
     "data": {
      "text/html": [
       "<div>\n",
       "<style scoped>\n",
       "    .dataframe tbody tr th:only-of-type {\n",
       "        vertical-align: middle;\n",
       "    }\n",
       "\n",
       "    .dataframe tbody tr th {\n",
       "        vertical-align: top;\n",
       "    }\n",
       "\n",
       "    .dataframe thead th {\n",
       "        text-align: right;\n",
       "    }\n",
       "</style>\n",
       "<table border=\"1\" class=\"dataframe\">\n",
       "  <thead>\n",
       "    <tr style=\"text-align: right;\">\n",
       "      <th></th>\n",
       "      <th>Unnamed: 0</th>\n",
       "      <th>time_delta</th>\n",
       "      <th>tiempo_de_espera</th>\n",
       "      <th>tiempo_de_espera_pronosticado</th>\n",
       "      <th>real_vs_esperado</th>\n",
       "      <th>es_cinco_estrellas</th>\n",
       "      <th>es_una_estrella</th>\n",
       "      <th>review_score</th>\n",
       "      <th>num_de_produc</th>\n",
       "      <th>vendedores_unicos</th>\n",
       "      <th>precio</th>\n",
       "      <th>transporte</th>\n",
       "      <th>distance_seller_customer</th>\n",
       "    </tr>\n",
       "  </thead>\n",
       "  <tbody>\n",
       "    <tr>\n",
       "      <th>Unnamed: 0</th>\n",
       "      <td>1.00</td>\n",
       "      <td>0.00</td>\n",
       "      <td>0.00</td>\n",
       "      <td>0.01</td>\n",
       "      <td>0.00</td>\n",
       "      <td>0.00</td>\n",
       "      <td>0.00</td>\n",
       "      <td>-0.00</td>\n",
       "      <td>0.00</td>\n",
       "      <td>0.00</td>\n",
       "      <td>-0.00</td>\n",
       "      <td>0.00</td>\n",
       "      <td>0.00</td>\n",
       "    </tr>\n",
       "    <tr>\n",
       "      <th>time_delta</th>\n",
       "      <td>0.00</td>\n",
       "      <td>1.00</td>\n",
       "      <td>1.00</td>\n",
       "      <td>0.38</td>\n",
       "      <td>0.70</td>\n",
       "      <td>-0.23</td>\n",
       "      <td>0.31</td>\n",
       "      <td>-0.33</td>\n",
       "      <td>-0.02</td>\n",
       "      <td>-0.04</td>\n",
       "      <td>0.06</td>\n",
       "      <td>0.17</td>\n",
       "      <td>0.39</td>\n",
       "    </tr>\n",
       "    <tr>\n",
       "      <th>tiempo_de_espera</th>\n",
       "      <td>0.00</td>\n",
       "      <td>1.00</td>\n",
       "      <td>1.00</td>\n",
       "      <td>0.39</td>\n",
       "      <td>0.70</td>\n",
       "      <td>-0.23</td>\n",
       "      <td>0.31</td>\n",
       "      <td>-0.33</td>\n",
       "      <td>-0.02</td>\n",
       "      <td>-0.04</td>\n",
       "      <td>0.06</td>\n",
       "      <td>0.17</td>\n",
       "      <td>0.39</td>\n",
       "    </tr>\n",
       "    <tr>\n",
       "      <th>tiempo_de_espera_pronosticado</th>\n",
       "      <td>0.01</td>\n",
       "      <td>0.38</td>\n",
       "      <td>0.39</td>\n",
       "      <td>1.00</td>\n",
       "      <td>0.01</td>\n",
       "      <td>-0.05</td>\n",
       "      <td>0.03</td>\n",
       "      <td>-0.05</td>\n",
       "      <td>0.02</td>\n",
       "      <td>0.02</td>\n",
       "      <td>0.08</td>\n",
       "      <td>0.24</td>\n",
       "      <td>0.51</td>\n",
       "    </tr>\n",
       "    <tr>\n",
       "      <th>real_vs_esperado</th>\n",
       "      <td>0.00</td>\n",
       "      <td>0.70</td>\n",
       "      <td>0.70</td>\n",
       "      <td>0.01</td>\n",
       "      <td>1.00</td>\n",
       "      <td>-0.16</td>\n",
       "      <td>0.28</td>\n",
       "      <td>-0.27</td>\n",
       "      <td>-0.01</td>\n",
       "      <td>-0.02</td>\n",
       "      <td>0.02</td>\n",
       "      <td>0.02</td>\n",
       "      <td>0.07</td>\n",
       "    </tr>\n",
       "    <tr>\n",
       "      <th>es_cinco_estrellas</th>\n",
       "      <td>0.00</td>\n",
       "      <td>-0.23</td>\n",
       "      <td>-0.23</td>\n",
       "      <td>-0.05</td>\n",
       "      <td>-0.16</td>\n",
       "      <td>1.00</td>\n",
       "      <td>-0.40</td>\n",
       "      <td>0.79</td>\n",
       "      <td>-0.07</td>\n",
       "      <td>-0.07</td>\n",
       "      <td>-0.01</td>\n",
       "      <td>-0.06</td>\n",
       "      <td>-0.06</td>\n",
       "    </tr>\n",
       "    <tr>\n",
       "      <th>es_una_estrella</th>\n",
       "      <td>0.00</td>\n",
       "      <td>0.31</td>\n",
       "      <td>0.31</td>\n",
       "      <td>0.03</td>\n",
       "      <td>0.28</td>\n",
       "      <td>-0.40</td>\n",
       "      <td>1.00</td>\n",
       "      <td>-0.81</td>\n",
       "      <td>0.12</td>\n",
       "      <td>0.10</td>\n",
       "      <td>0.04</td>\n",
       "      <td>0.08</td>\n",
       "      <td>0.04</td>\n",
       "    </tr>\n",
       "    <tr>\n",
       "      <th>review_score</th>\n",
       "      <td>-0.00</td>\n",
       "      <td>-0.33</td>\n",
       "      <td>-0.33</td>\n",
       "      <td>-0.05</td>\n",
       "      <td>-0.27</td>\n",
       "      <td>0.79</td>\n",
       "      <td>-0.81</td>\n",
       "      <td>1.00</td>\n",
       "      <td>-0.12</td>\n",
       "      <td>-0.12</td>\n",
       "      <td>-0.03</td>\n",
       "      <td>-0.09</td>\n",
       "      <td>-0.06</td>\n",
       "    </tr>\n",
       "    <tr>\n",
       "      <th>num_de_produc</th>\n",
       "      <td>0.00</td>\n",
       "      <td>-0.02</td>\n",
       "      <td>-0.02</td>\n",
       "      <td>0.02</td>\n",
       "      <td>-0.01</td>\n",
       "      <td>-0.07</td>\n",
       "      <td>0.12</td>\n",
       "      <td>-0.12</td>\n",
       "      <td>1.00</td>\n",
       "      <td>0.29</td>\n",
       "      <td>0.15</td>\n",
       "      <td>0.44</td>\n",
       "      <td>-0.02</td>\n",
       "    </tr>\n",
       "    <tr>\n",
       "      <th>vendedores_unicos</th>\n",
       "      <td>0.00</td>\n",
       "      <td>-0.04</td>\n",
       "      <td>-0.04</td>\n",
       "      <td>0.02</td>\n",
       "      <td>-0.02</td>\n",
       "      <td>-0.07</td>\n",
       "      <td>0.10</td>\n",
       "      <td>-0.12</td>\n",
       "      <td>0.29</td>\n",
       "      <td>1.00</td>\n",
       "      <td>0.04</td>\n",
       "      <td>0.13</td>\n",
       "      <td>-0.01</td>\n",
       "    </tr>\n",
       "    <tr>\n",
       "      <th>precio</th>\n",
       "      <td>-0.00</td>\n",
       "      <td>0.06</td>\n",
       "      <td>0.06</td>\n",
       "      <td>0.08</td>\n",
       "      <td>0.02</td>\n",
       "      <td>-0.01</td>\n",
       "      <td>0.04</td>\n",
       "      <td>-0.03</td>\n",
       "      <td>0.15</td>\n",
       "      <td>0.04</td>\n",
       "      <td>1.00</td>\n",
       "      <td>0.41</td>\n",
       "      <td>0.08</td>\n",
       "    </tr>\n",
       "    <tr>\n",
       "      <th>transporte</th>\n",
       "      <td>0.00</td>\n",
       "      <td>0.17</td>\n",
       "      <td>0.17</td>\n",
       "      <td>0.24</td>\n",
       "      <td>0.02</td>\n",
       "      <td>-0.06</td>\n",
       "      <td>0.08</td>\n",
       "      <td>-0.09</td>\n",
       "      <td>0.44</td>\n",
       "      <td>0.13</td>\n",
       "      <td>0.41</td>\n",
       "      <td>1.00</td>\n",
       "      <td>0.31</td>\n",
       "    </tr>\n",
       "    <tr>\n",
       "      <th>distance_seller_customer</th>\n",
       "      <td>0.00</td>\n",
       "      <td>0.39</td>\n",
       "      <td>0.39</td>\n",
       "      <td>0.51</td>\n",
       "      <td>0.07</td>\n",
       "      <td>-0.06</td>\n",
       "      <td>0.04</td>\n",
       "      <td>-0.06</td>\n",
       "      <td>-0.02</td>\n",
       "      <td>-0.01</td>\n",
       "      <td>0.08</td>\n",
       "      <td>0.31</td>\n",
       "      <td>1.00</td>\n",
       "    </tr>\n",
       "  </tbody>\n",
       "</table>\n",
       "</div>"
      ],
      "text/plain": [
       "                               Unnamed: 0  time_delta  tiempo_de_espera  \\\n",
       "Unnamed: 0                           1.00        0.00              0.00   \n",
       "time_delta                           0.00        1.00              1.00   \n",
       "tiempo_de_espera                     0.00        1.00              1.00   \n",
       "tiempo_de_espera_pronosticado        0.01        0.38              0.39   \n",
       "real_vs_esperado                     0.00        0.70              0.70   \n",
       "es_cinco_estrellas                   0.00       -0.23             -0.23   \n",
       "es_una_estrella                      0.00        0.31              0.31   \n",
       "review_score                        -0.00       -0.33             -0.33   \n",
       "num_de_produc                        0.00       -0.02             -0.02   \n",
       "vendedores_unicos                    0.00       -0.04             -0.04   \n",
       "precio                              -0.00        0.06              0.06   \n",
       "transporte                           0.00        0.17              0.17   \n",
       "distance_seller_customer             0.00        0.39              0.39   \n",
       "\n",
       "                               tiempo_de_espera_pronosticado  \\\n",
       "Unnamed: 0                                              0.01   \n",
       "time_delta                                              0.38   \n",
       "tiempo_de_espera                                        0.39   \n",
       "tiempo_de_espera_pronosticado                           1.00   \n",
       "real_vs_esperado                                        0.01   \n",
       "es_cinco_estrellas                                     -0.05   \n",
       "es_una_estrella                                         0.03   \n",
       "review_score                                           -0.05   \n",
       "num_de_produc                                           0.02   \n",
       "vendedores_unicos                                       0.02   \n",
       "precio                                                  0.08   \n",
       "transporte                                              0.24   \n",
       "distance_seller_customer                                0.51   \n",
       "\n",
       "                               real_vs_esperado  es_cinco_estrellas  \\\n",
       "Unnamed: 0                                 0.00                0.00   \n",
       "time_delta                                 0.70               -0.23   \n",
       "tiempo_de_espera                           0.70               -0.23   \n",
       "tiempo_de_espera_pronosticado              0.01               -0.05   \n",
       "real_vs_esperado                           1.00               -0.16   \n",
       "es_cinco_estrellas                        -0.16                1.00   \n",
       "es_una_estrella                            0.28               -0.40   \n",
       "review_score                              -0.27                0.79   \n",
       "num_de_produc                             -0.01               -0.07   \n",
       "vendedores_unicos                         -0.02               -0.07   \n",
       "precio                                     0.02               -0.01   \n",
       "transporte                                 0.02               -0.06   \n",
       "distance_seller_customer                   0.07               -0.06   \n",
       "\n",
       "                               es_una_estrella  review_score  num_de_produc  \\\n",
       "Unnamed: 0                                0.00         -0.00           0.00   \n",
       "time_delta                                0.31         -0.33          -0.02   \n",
       "tiempo_de_espera                          0.31         -0.33          -0.02   \n",
       "tiempo_de_espera_pronosticado             0.03         -0.05           0.02   \n",
       "real_vs_esperado                          0.28         -0.27          -0.01   \n",
       "es_cinco_estrellas                       -0.40          0.79          -0.07   \n",
       "es_una_estrella                           1.00         -0.81           0.12   \n",
       "review_score                             -0.81          1.00          -0.12   \n",
       "num_de_produc                             0.12         -0.12           1.00   \n",
       "vendedores_unicos                         0.10         -0.12           0.29   \n",
       "precio                                    0.04         -0.03           0.15   \n",
       "transporte                                0.08         -0.09           0.44   \n",
       "distance_seller_customer                  0.04         -0.06          -0.02   \n",
       "\n",
       "                               vendedores_unicos  precio  transporte  \\\n",
       "Unnamed: 0                                  0.00   -0.00        0.00   \n",
       "time_delta                                 -0.04    0.06        0.17   \n",
       "tiempo_de_espera                           -0.04    0.06        0.17   \n",
       "tiempo_de_espera_pronosticado               0.02    0.08        0.24   \n",
       "real_vs_esperado                           -0.02    0.02        0.02   \n",
       "es_cinco_estrellas                         -0.07   -0.01       -0.06   \n",
       "es_una_estrella                             0.10    0.04        0.08   \n",
       "review_score                               -0.12   -0.03       -0.09   \n",
       "num_de_produc                               0.29    0.15        0.44   \n",
       "vendedores_unicos                           1.00    0.04        0.13   \n",
       "precio                                      0.04    1.00        0.41   \n",
       "transporte                                  0.13    0.41        1.00   \n",
       "distance_seller_customer                   -0.01    0.08        0.31   \n",
       "\n",
       "                               distance_seller_customer  \n",
       "Unnamed: 0                                         0.00  \n",
       "time_delta                                         0.39  \n",
       "tiempo_de_espera                                   0.39  \n",
       "tiempo_de_espera_pronosticado                      0.51  \n",
       "real_vs_esperado                                   0.07  \n",
       "es_cinco_estrellas                                -0.06  \n",
       "es_una_estrella                                    0.04  \n",
       "review_score                                      -0.06  \n",
       "num_de_produc                                     -0.02  \n",
       "vendedores_unicos                                 -0.01  \n",
       "precio                                             0.08  \n",
       "transporte                                         0.31  \n",
       "distance_seller_customer                           1.00  "
      ]
     },
     "execution_count": 70,
     "metadata": {},
     "output_type": "execute_result"
    }
   ],
   "source": [
    "round(orders.corr(numeric_only=True),2)"
   ]
  },
  {
   "cell_type": "code",
   "execution_count": 71,
   "metadata": {},
   "outputs": [
    {
     "data": {
      "text/plain": [
       "<Axes: >"
      ]
     },
     "execution_count": 71,
     "metadata": {},
     "output_type": "execute_result"
    },
    {
     "data": {
      "image/png": "[encoded data removed]",
      "text/plain": [
       "<Figure size 1000x1000 with 2 Axes>"
      ]
     },
     "metadata": {},
     "output_type": "display_data"
    }
   ],
   "source": [
    "plt.figure(figsize = (10, 10))\n",
    "\n",
    "sns.heatmap(\n",
    "    round(orders.corr(numeric_only=True),2), \n",
    "    cmap = 'coolwarm', \n",
    "    annot = True, \n",
    "    annot_kws = {\"size\": 10}\n",
    ")"
   ]
  },
  {
   "cell_type": "markdown",
   "metadata": {},
   "source": [
    "___"
   ]
  },
  {
   "cell_type": "markdown",
   "metadata": {},
   "source": [
    "## 1 - Regresión Univariada"
   ]
  },
  {
   "cell_type": "markdown",
   "metadata": {},
   "source": [
    "Usar [statsmodels](https://www.statsmodels.org/stable/generated/statsmodels.formula.api.ols.html) con `statsmodels.formula.api`\n",
    " - `model1`: una regresión ols de `review_score` sobre `tiempo_de_espera`\n",
    " - `model2`: una regresión ols de `review_score` sobre `real_vs_esperado`\n",
    "\n",
    "Para cada uno, imprima la tabla `summary` e interprete los resultados:\n",
    "- Entender cómo estos resultados coinciden con los del diagrama de seaborn\n",
    "- Interpretar `R-squared`, así como `coeficientes de regresión individuales`, `valores t`, `valores p` e `intervalos de confianza del 95 %`"
   ]
  },
  {
   "cell_type": "markdown",
   "metadata": {},
   "source": [
    "___"
   ]
  },
  {
   "cell_type": "markdown",
   "metadata": {},
   "source": [
    "## ***Modelo 1***:"
   ]
  },
  {
   "cell_type": "code",
   "execution_count": 72,
   "metadata": {},
   "outputs": [
    {
     "name": "stdout",
     "output_type": "stream",
     "text": [
      "Intel MKL WARNING: Support of Intel(R) Streaming SIMD Extensions 4.2 (Intel(R) SSE4.2) enabled only processors has been deprecated. Intel oneAPI Math Kernel Library 2025.0 will require Intel(R) Advanced Vector Extensions (Intel(R) AVX) instructions.\n",
      "                            OLS Regression Results                            \n",
      "==============================================================================\n",
      "Dep. Variable:           review_score   R-squared:                       0.112\n",
      "Model:                            OLS   Adj. R-squared:                  0.112\n",
      "Method:                 Least Squares   F-statistic:                 1.204e+04\n",
      "Date:                Tue, 31 Oct 2023   Prob (F-statistic):               0.00\n",
      "Time:                        11:59:42   Log-Likelihood:            -1.5439e+05\n",
      "No. Observations:               95857   AIC:                         3.088e+05\n",
      "Df Residuals:                   95855   BIC:                         3.088e+05\n",
      "Df Model:                           1                                         \n",
      "Covariance Type:            nonrobust                                         \n",
      "====================================================================================\n",
      "                       coef    std err          t      P>|t|      [0.025      0.975]\n",
      "------------------------------------------------------------------------------------\n",
      "Intercept            4.7237      0.006    727.863      0.000       4.711       4.736\n",
      "tiempo_de_espera    -0.0454      0.000   -109.747      0.000      -0.046      -0.045\n",
      "==============================================================================\n",
      "Omnibus:                    19550.278   Durbin-Watson:                   2.008\n",
      "Prob(Omnibus):                  0.000   Jarque-Bera (JB):            35451.562\n",
      "Skew:                          -1.300   Prob(JB):                         0.00\n",
      "Kurtosis:                       4.453   Cond. No.                         26.1\n",
      "==============================================================================\n",
      "\n",
      "Notes:\n",
      "[1] Standard Errors assume that the covariance matrix of the errors is correctly specified.\n"
     ]
    }
   ],
   "source": [
    "import statsmodels.formula.api as smf\n",
    "modelo1 = smf.ols(formula='review_score ~ tiempo_de_espera', data=orders)\n",
    "modelo1 = modelo1.fit()\n",
    "print(modelo1.summary())\n"
   ]
  },
  {
   "cell_type": "markdown",
   "metadata": {},
   "source": [
    "##### → **R-squared** = 0.112. Indica que solamente el 11.2% de la variación de la variable dependiente (b1 - tiempo_de_espera) es explicada por la variable independiente (b0 - review_score). El otro 88.8% de la variación de la variable dependiente (b1 - tiempo_de_espera) es explicada por otras variables que no están incluidas en el modelo.\n",
    "\n",
    "##### → **Coeficientes de regresión individuales**. El coeficiente negativo de tiempo_de_espera indica que a medida que aumenta el tiempo_de_espera, el review_score tiende a disminuir. El coeficiente de tiempo_de_espera es -0.0454, lo que significa que por cada aumento de 1 en tiempo_de_espera, el review_score disminuye en 0.0454.\n",
    " \n",
    "##### → **Valores 't'**. El estadístico t (tomándolo en valor absoluto) para este coeficiente es muy grande. Es de -109.747, lo que indica que la estimación del coeficiente es altamente significativa. Un valor t grande significa que la relación entre la variable independiente (b0 - review_score) y la variable dependiente (b1 - tiempo_de_espera) es muy poco probable que sea debida al azar. Cuanto más grande sea el valor t, más fuerte es la evidencia en contra de la hipótesis nula (que el coeficiente es igual a cero)\n",
    "\n",
    "##### → **Valores 'p'**. El p-value para este coeficiente es muy pequeño. Es de 0.000, lo que indica que la probabilidad de observar una estadísica t tan grande por casualidad es muy baja.\n",
    "\n",
    "##### → **Intervalos de confianza del 95%**. Para este coeficiente el intervalo de confianza del 95% es de -0.046 a -0.045. No incluye cero, lo que apoya aún más la conclusión de que tiempo_de_espera tiene un efecto negativo significativo sobre review_score."
   ]
  },
  {
   "cell_type": "markdown",
   "metadata": {},
   "source": [
    "___"
   ]
  },
  {
   "cell_type": "markdown",
   "metadata": {},
   "source": [
    "## ***Modelo 2***:"
   ]
  },
  {
   "cell_type": "code",
   "execution_count": 73,
   "metadata": {},
   "outputs": [
    {
     "name": "stdout",
     "output_type": "stream",
     "text": [
      "Intel MKL WARNING: Support of Intel(R) Streaming SIMD Extensions 4.2 (Intel(R) SSE4.2) enabled only processors has been deprecated. Intel oneAPI Math Kernel Library 2025.0 will require Intel(R) Advanced Vector Extensions (Intel(R) AVX) instructions.\n",
      "                            OLS Regression Results                            \n",
      "==============================================================================\n",
      "Dep. Variable:           review_score   R-squared:                       0.074\n",
      "Model:                            OLS   Adj. R-squared:                  0.074\n",
      "Method:                 Least Squares   F-statistic:                     7681.\n",
      "Date:                Tue, 31 Oct 2023   Prob (F-statistic):               0.00\n",
      "Time:                        11:59:42   Log-Likelihood:            -1.5637e+05\n",
      "No. Observations:               95857   AIC:                         3.127e+05\n",
      "Df Residuals:                   95855   BIC:                         3.128e+05\n",
      "Df Model:                           1                                         \n",
      "Covariance Type:            nonrobust                                         \n",
      "====================================================================================\n",
      "                       coef    std err          t      P>|t|      [0.025      0.975]\n",
      "------------------------------------------------------------------------------------\n",
      "Intercept            4.2121      0.004   1041.068      0.000       4.204       4.220\n",
      "real_vs_esperado    -0.0752      0.001    -87.644      0.000      -0.077      -0.073\n",
      "==============================================================================\n",
      "Omnibus:                    20658.144   Durbin-Watson:                   2.006\n",
      "Prob(Omnibus):                  0.000   Jarque-Bera (JB):            49762.249\n",
      "Skew:                          -1.203   Prob(JB):                         0.00\n",
      "Kurtosis:                       5.582   Cond. No.                         4.78\n",
      "==============================================================================\n",
      "\n",
      "Notes:\n",
      "[1] Standard Errors assume that the covariance matrix of the errors is correctly specified.\n"
     ]
    }
   ],
   "source": [
    "import statsmodels.formula.api as smf\n",
    "modelo2 = smf.ols(formula='review_score ~ real_vs_esperado', data=orders)\n",
    "modelo2 = modelo2.fit()\n",
    "print(modelo2.summary())\n"
   ]
  },
  {
   "cell_type": "markdown",
   "metadata": {},
   "source": [
    "##### ***→ R-squared*** = 0.074. Indica que solamente el 7.4% de la variación de la variable dependiente (b1 - real_vs_esperado) es explicada por la variable independiente (b0 - review_score). El otro 92.6% de la variación de la variable dependiente (b1 - real_vs_esperado) es explicada por otras variables que no están incluidas en el modelo.\n",
    "\n",
    "##### ***→ Coeficientes de regresión individuales***. El coeficiente negativo de real_vs_esperado indica que a medida que aumenta el tiempo reaL_vs_esperado, el review_score tiende a disminuir. El coeficiente de real_vs_esperado es -0.0752, lo que significa que por cada aumento de 1 en real_vs_esperado, el review_score disminuye en 0.0752.\n",
    " \n",
    "##### ***→ Valores 't'***. El estadístico t (tomándolo en valor absoluto) para este coeficiente es muy grande. Es de -87.644, lo que indica que la estimación del coeficiente es altamente significativa. Un valor t grande significa que la relación entre la variable independiente (b0 - review_score) y la variable dependiente (b1 - real_vs_esperado) es muy poco probable que sea debida al azar. Cuanto más grande sea el valor t, más fuerte es la evidencia en contra de la hipótesis nula (que el coeficiente es igual a cero)\n",
    "\n",
    "##### ***→ Valores 'p'***. El p-value para este coeficiente es muy pequeño. Es de 0.000, lo que indica que la probabilidad de observar una estadísica t tan grande por casualidad es muy baja.\n",
    "\n",
    "##### ***→ Intervalos de confianza del 95%***. Para este coeficiente el intervalo de confianza del 95% es de -0.077 a -0.073. No incluye cero, lo que apoya aún más la conclusión de que real_vs_esperado tiene un efecto negativo significativo sobre review_score."
   ]
  },
  {
   "cell_type": "markdown",
   "metadata": {},
   "source": [
    "___"
   ]
  },
  {
   "cell_type": "markdown",
   "metadata": {},
   "source": [
    "## 2 - Multivariate regression"
   ]
  },
  {
   "cell_type": "markdown",
   "metadata": {},
   "source": [
    "## ***Modelo 3***:"
   ]
  },
  {
   "cell_type": "code",
   "execution_count": 74,
   "metadata": {},
   "outputs": [
    {
     "name": "stdout",
     "output_type": "stream",
     "text": [
      "Intel MKL WARNING: Support of Intel(R) Streaming SIMD Extensions 4.2 (Intel(R) SSE4.2) enabled only processors has been deprecated. Intel oneAPI Math Kernel Library 2025.0 will require Intel(R) Advanced Vector Extensions (Intel(R) AVX) instructions.\n",
      "                            OLS Regression Results                            \n",
      "==============================================================================\n",
      "Dep. Variable:           review_score   R-squared:                       0.114\n",
      "Model:                            OLS   Adj. R-squared:                  0.114\n",
      "Method:                 Least Squares   F-statistic:                     6193.\n",
      "Date:                Tue, 31 Oct 2023   Prob (F-statistic):               0.00\n",
      "Time:                        11:59:42   Log-Likelihood:            -1.5424e+05\n",
      "No. Observations:               95857   AIC:                         3.085e+05\n",
      "Df Residuals:                   95854   BIC:                         3.085e+05\n",
      "Df Model:                           2                                         \n",
      "Covariance Type:            nonrobust                                         \n",
      "====================================================================================\n",
      "                       coef    std err          t      P>|t|      [0.025      0.975]\n",
      "------------------------------------------------------------------------------------\n",
      "Intercept            4.6504      0.008    601.530      0.000       4.635       4.666\n",
      "tiempo_de_espera    -0.0383      0.001    -65.991      0.000      -0.039      -0.037\n",
      "real_vs_esperado    -0.0205      0.001    -17.399      0.000      -0.023      -0.018\n",
      "==============================================================================\n",
      "Omnibus:                    19992.636   Durbin-Watson:                   2.008\n",
      "Prob(Omnibus):                  0.000   Jarque-Bera (JB):            40507.460\n",
      "Skew:                          -1.249   Prob(JB):                         0.00\n",
      "Kurtosis:                       4.976   Cond. No.                         31.7\n",
      "==============================================================================\n",
      "\n",
      "Notes:\n",
      "[1] Standard Errors assume that the covariance matrix of the errors is correctly specified.\n",
      "El impacto en review_score de agregar un día más de real_vs_esperado es -0.0205\n"
     ]
    }
   ],
   "source": [
    "modelo3= smf.ols(formula='review_score ~ tiempo_de_espera + real_vs_esperado', data=orders)\n",
    "modelo3 = modelo3.fit()\n",
    "print(modelo3.summary())\n",
    "coef_real_vs_esperado = modelo3.params['real_vs_esperado']\n",
    "print(f\"El impacto en review_score de agregar un día más de real_vs_esperado es {coef_real_vs_esperado:.4f}\")"
   ]
  },
  {
   "cell_type": "code",
   "execution_count": 75,
   "metadata": {},
   "outputs": [
    {
     "name": "stdout",
     "output_type": "stream",
     "text": [
      "El coeficiente para tiempo_de_espera es -0.0383\n",
      "El coeficiente para real_vs_esperado es -0.0205\n"
     ]
    }
   ],
   "source": [
    "print(f\"El coeficiente para tiempo_de_espera es {modelo3.params['tiempo_de_espera']:.4f}\")\n",
    "print(f\"El coeficiente para real_vs_esperado es {modelo3.params['real_vs_esperado']:.4f}\")"
   ]
  },
  {
   "cell_type": "markdown",
   "metadata": {},
   "source": [
    "### ***Responder***\n",
    "### ***¿Cual es el impacto en `review_score` agregando un día más de `real_vs_esperado` manteniendo todo lo otro constante? ¿Cuál es más explicativa de `review_score`,   `tiempo_de_espera` o `real_vs_esperado` ?***\n",
    "\n",
    "##### → El impacto de review_score agregrandole un día más de real_vs_esperado manteniendo todo lo otro constante es de -0.0205. Es decir, por cada aumento de 1 en real_vs_esperado, el review_score disminuye en 0.0205.\n",
    "\n",
    "##### → La más explicativa de review_score es tiempo_de_espera, ya que tiene un coeficiente mayor que real_vs_esperado.\n"
   ]
  },
  {
   "cell_type": "markdown",
   "metadata": {},
   "source": [
    "Nuestra regresión multivariante nos permite aislar el impacto de una característica, mientras controlamos el efecto de otras características. Estos nuevos coeficientes se denominan **`coeficientes de correlación parcial`**."
   ]
  },
  {
   "cell_type": "markdown",
   "metadata": {},
   "source": [
    " R-squared es bastante bajo: no más del 12 % de las variaciones de review_score se explican por las variaciones combinadas de `tiempo_de_espera` y `real_vs_esperado`.\n",
    "\n",
    "___\n",
    "\n",
    "Intentemos agregar más variables a nuestra regresión para mejorar la explicabilidad de la regresión lineal.\n",
    "\n",
    "Crear un nuevo OLS `model4` con más características del conjunto de datos `orders`.\n",
    "- No agregar dos características perfectamente colineales entre sí\n",
    "-  Transformar cada variables $X_i$ con el respectivo z-score $Z_i = \\frac{X_i - \\mu_i}{\\sigma_i}$  para comparar los coeficientes de regresión parcial $\\beta_i$ en conjuntos.  $\\beta_i$ no estará en la misma dimensión."
   ]
  },
  {
   "cell_type": "markdown",
   "metadata": {},
   "source": [
    "## ***Modelo 4***:"
   ]
  },
  {
   "cell_type": "markdown",
   "metadata": {},
   "source": [
    "¿Que variables considerar?"
   ]
  },
  {
   "cell_type": "code",
   "execution_count": 76,
   "metadata": {
    "collapsed": false
   },
   "outputs": [
    {
     "data": {
      "text/plain": [
       "Index(['Unnamed: 0', 'order_id', 'customer_id', 'order_status',\n",
       "       'order_purchase_timestamp', 'order_approved_at',\n",
       "       'order_delivered_carrier_date', 'order_delivered_customer_date',\n",
       "       'order_estimated_delivery_date', 'time_delta', 'tiempo_de_espera',\n",
       "       'tiempo_de_espera_pronosticado', 'real_vs_esperado',\n",
       "       'es_cinco_estrellas', 'es_una_estrella', 'review_score',\n",
       "       'num_de_produc', 'vendedores_unicos', 'precio', 'transporte',\n",
       "       'distance_seller_customer'],\n",
       "      dtype='object')"
      ]
     },
     "execution_count": 76,
     "metadata": {},
     "output_type": "execute_result"
    }
   ],
   "source": [
    "orders.columns"
   ]
  },
  {
   "cell_type": "code",
   "execution_count": 77,
   "metadata": {
    "tags": [
     "challengify"
    ]
   },
   "outputs": [],
   "source": [
    "# select features\n",
    "features = ['tiempo_de_espera', 'real_vs_esperado', 'num_de_produc', 'vendedores_unicos', 'precio', 'transporte', 'distance_seller_customer']"
   ]
  },
  {
   "cell_type": "code",
   "execution_count": 78,
   "metadata": {},
   "outputs": [
    {
     "data": {
      "text/html": [
       "<div>\n",
       "<style scoped>\n",
       "    .dataframe tbody tr th:only-of-type {\n",
       "        vertical-align: middle;\n",
       "    }\n",
       "\n",
       "    .dataframe tbody tr th {\n",
       "        vertical-align: top;\n",
       "    }\n",
       "\n",
       "    .dataframe thead th {\n",
       "        text-align: right;\n",
       "    }\n",
       "</style>\n",
       "<table border=\"1\" class=\"dataframe\">\n",
       "  <thead>\n",
       "    <tr style=\"text-align: right;\">\n",
       "      <th></th>\n",
       "      <th>Unnamed: 0</th>\n",
       "      <th>order_id</th>\n",
       "      <th>customer_id</th>\n",
       "      <th>order_status</th>\n",
       "      <th>order_purchase_timestamp</th>\n",
       "      <th>order_approved_at</th>\n",
       "      <th>order_delivered_carrier_date</th>\n",
       "      <th>order_delivered_customer_date</th>\n",
       "      <th>order_estimated_delivery_date</th>\n",
       "      <th>time_delta</th>\n",
       "      <th>...</th>\n",
       "      <th>tiempo_de_espera_pronosticado</th>\n",
       "      <th>real_vs_esperado</th>\n",
       "      <th>es_cinco_estrellas</th>\n",
       "      <th>es_una_estrella</th>\n",
       "      <th>review_score</th>\n",
       "      <th>num_de_produc</th>\n",
       "      <th>vendedores_unicos</th>\n",
       "      <th>precio</th>\n",
       "      <th>transporte</th>\n",
       "      <th>distance_seller_customer</th>\n",
       "    </tr>\n",
       "  </thead>\n",
       "  <tbody>\n",
       "    <tr>\n",
       "      <th>0</th>\n",
       "      <td>0</td>\n",
       "      <td>e481f51cbdc54678b7cc49136f2d6af7</td>\n",
       "      <td>9ef432eb6251297304e76186b10a928d</td>\n",
       "      <td>delivered</td>\n",
       "      <td>2017-10-02 10:56:33</td>\n",
       "      <td>2017-10-02 11:07:15</td>\n",
       "      <td>2017-10-04 19:55:00</td>\n",
       "      <td>2017-10-10 21:25:13</td>\n",
       "      <td>2017-10-18</td>\n",
       "      <td>8.0</td>\n",
       "      <td>...</td>\n",
       "      <td>15.544063</td>\n",
       "      <td>-0.161781</td>\n",
       "      <td>0</td>\n",
       "      <td>0</td>\n",
       "      <td>4</td>\n",
       "      <td>-0.264603</td>\n",
       "      <td>-0.112554</td>\n",
       "      <td>-0.513784</td>\n",
       "      <td>-0.652018</td>\n",
       "      <td>-0.978986</td>\n",
       "    </tr>\n",
       "    <tr>\n",
       "      <th>1</th>\n",
       "      <td>1</td>\n",
       "      <td>53cdb2fc8bc7dce0b6741e2150273451</td>\n",
       "      <td>b0830fb4747a6c6d20dea0b8c802d7ef</td>\n",
       "      <td>delivered</td>\n",
       "      <td>2018-07-24 20:41:37</td>\n",
       "      <td>2018-07-26 03:24:27</td>\n",
       "      <td>2018-07-26 14:31:00</td>\n",
       "      <td>2018-08-07 15:27:45</td>\n",
       "      <td>2018-08-13</td>\n",
       "      <td>13.0</td>\n",
       "      <td>...</td>\n",
       "      <td>19.137766</td>\n",
       "      <td>-0.161781</td>\n",
       "      <td>0</td>\n",
       "      <td>0</td>\n",
       "      <td>4</td>\n",
       "      <td>-0.264603</td>\n",
       "      <td>-0.112554</td>\n",
       "      <td>-0.086646</td>\n",
       "      <td>0.000447</td>\n",
       "      <td>0.429687</td>\n",
       "    </tr>\n",
       "    <tr>\n",
       "      <th>2</th>\n",
       "      <td>2</td>\n",
       "      <td>47770eb9100c2d0c44946d9cf07ec65d</td>\n",
       "      <td>41ce2a54c0b03bf3443c3d931a367089</td>\n",
       "      <td>delivered</td>\n",
       "      <td>2018-08-08 08:38:49</td>\n",
       "      <td>2018-08-08 08:55:23</td>\n",
       "      <td>2018-08-08 13:50:00</td>\n",
       "      <td>2018-08-17 18:06:29</td>\n",
       "      <td>2018-09-04</td>\n",
       "      <td>9.0</td>\n",
       "      <td>...</td>\n",
       "      <td>26.639711</td>\n",
       "      <td>-0.161781</td>\n",
       "      <td>1</td>\n",
       "      <td>0</td>\n",
       "      <td>5</td>\n",
       "      <td>-0.264603</td>\n",
       "      <td>-0.112554</td>\n",
       "      <td>0.111732</td>\n",
       "      <td>-0.164063</td>\n",
       "      <td>-0.145329</td>\n",
       "    </tr>\n",
       "    <tr>\n",
       "      <th>3</th>\n",
       "      <td>3</td>\n",
       "      <td>949d5b44dbf5de918fe9c16f97b45f8a</td>\n",
       "      <td>f88197465ea7920adcdbec7375364d82</td>\n",
       "      <td>delivered</td>\n",
       "      <td>2017-11-18 19:28:06</td>\n",
       "      <td>2017-11-18 19:45:59</td>\n",
       "      <td>2017-11-22 13:39:59</td>\n",
       "      <td>2017-12-02 00:28:42</td>\n",
       "      <td>2017-12-15</td>\n",
       "      <td>13.0</td>\n",
       "      <td>...</td>\n",
       "      <td>26.188819</td>\n",
       "      <td>-0.161781</td>\n",
       "      <td>1</td>\n",
       "      <td>0</td>\n",
       "      <td>5</td>\n",
       "      <td>-0.264603</td>\n",
       "      <td>-0.112554</td>\n",
       "      <td>-0.441511</td>\n",
       "      <td>0.206782</td>\n",
       "      <td>2.053937</td>\n",
       "    </tr>\n",
       "    <tr>\n",
       "      <th>4</th>\n",
       "      <td>4</td>\n",
       "      <td>ad21c59c0840e6cb83a9ceb5573f8159</td>\n",
       "      <td>8ab97904e6daea8866dbdbc4fb7aad2c</td>\n",
       "      <td>delivered</td>\n",
       "      <td>2018-02-13 21:18:39</td>\n",
       "      <td>2018-02-13 22:20:29</td>\n",
       "      <td>2018-02-14 19:46:34</td>\n",
       "      <td>2018-02-16 18:17:02</td>\n",
       "      <td>2018-02-26</td>\n",
       "      <td>2.0</td>\n",
       "      <td>...</td>\n",
       "      <td>12.112049</td>\n",
       "      <td>-0.161781</td>\n",
       "      <td>1</td>\n",
       "      <td>0</td>\n",
       "      <td>5</td>\n",
       "      <td>-0.264603</td>\n",
       "      <td>-0.112554</td>\n",
       "      <td>-0.562367</td>\n",
       "      <td>-0.652018</td>\n",
       "      <td>-0.958634</td>\n",
       "    </tr>\n",
       "    <tr>\n",
       "      <th>...</th>\n",
       "      <td>...</td>\n",
       "      <td>...</td>\n",
       "      <td>...</td>\n",
       "      <td>...</td>\n",
       "      <td>...</td>\n",
       "      <td>...</td>\n",
       "      <td>...</td>\n",
       "      <td>...</td>\n",
       "      <td>...</td>\n",
       "      <td>...</td>\n",
       "      <td>...</td>\n",
       "      <td>...</td>\n",
       "      <td>...</td>\n",
       "      <td>...</td>\n",
       "      <td>...</td>\n",
       "      <td>...</td>\n",
       "      <td>...</td>\n",
       "      <td>...</td>\n",
       "      <td>...</td>\n",
       "      <td>...</td>\n",
       "      <td>...</td>\n",
       "    </tr>\n",
       "    <tr>\n",
       "      <th>95852</th>\n",
       "      <td>95852</td>\n",
       "      <td>9c5dedf39a927c1b2549525ed64a053c</td>\n",
       "      <td>39bd1228ee8140590ac3aca26f2dfe00</td>\n",
       "      <td>delivered</td>\n",
       "      <td>2017-03-09 09:54:05</td>\n",
       "      <td>2017-03-09 09:54:05</td>\n",
       "      <td>2017-03-10 11:18:03</td>\n",
       "      <td>2017-03-17 15:08:01</td>\n",
       "      <td>2017-03-28</td>\n",
       "      <td>8.0</td>\n",
       "      <td>...</td>\n",
       "      <td>18.587442</td>\n",
       "      <td>-0.161781</td>\n",
       "      <td>1</td>\n",
       "      <td>0</td>\n",
       "      <td>5</td>\n",
       "      <td>-0.264603</td>\n",
       "      <td>-0.112554</td>\n",
       "      <td>-0.311506</td>\n",
       "      <td>-0.449401</td>\n",
       "      <td>-0.892578</td>\n",
       "    </tr>\n",
       "    <tr>\n",
       "      <th>95853</th>\n",
       "      <td>95853</td>\n",
       "      <td>63943bddc261676b46f01ca7ac2f7bd8</td>\n",
       "      <td>1fca14ff2861355f6e5f14306ff977a7</td>\n",
       "      <td>delivered</td>\n",
       "      <td>2018-02-06 12:58:58</td>\n",
       "      <td>2018-02-06 13:10:37</td>\n",
       "      <td>2018-02-07 23:22:42</td>\n",
       "      <td>2018-02-28 17:37:56</td>\n",
       "      <td>2018-03-02</td>\n",
       "      <td>22.0</td>\n",
       "      <td>...</td>\n",
       "      <td>23.459051</td>\n",
       "      <td>-0.161781</td>\n",
       "      <td>0</td>\n",
       "      <td>0</td>\n",
       "      <td>4</td>\n",
       "      <td>-0.264603</td>\n",
       "      <td>-0.112554</td>\n",
       "      <td>0.183957</td>\n",
       "      <td>-0.123168</td>\n",
       "      <td>-0.212604</td>\n",
       "    </tr>\n",
       "    <tr>\n",
       "      <th>95854</th>\n",
       "      <td>95854</td>\n",
       "      <td>83c1379a015df1e13d02aae0204711ab</td>\n",
       "      <td>1aa71eb042121263aafbe80c1b562c9c</td>\n",
       "      <td>delivered</td>\n",
       "      <td>2017-08-27 14:46:43</td>\n",
       "      <td>2017-08-27 15:04:16</td>\n",
       "      <td>2017-08-28 20:52:26</td>\n",
       "      <td>2017-09-21 11:24:17</td>\n",
       "      <td>2017-09-27</td>\n",
       "      <td>24.0</td>\n",
       "      <td>...</td>\n",
       "      <td>30.384225</td>\n",
       "      <td>-0.161781</td>\n",
       "      <td>1</td>\n",
       "      <td>0</td>\n",
       "      <td>5</td>\n",
       "      <td>-0.264603</td>\n",
       "      <td>-0.112554</td>\n",
       "      <td>0.333655</td>\n",
       "      <td>1.964347</td>\n",
       "      <td>0.617501</td>\n",
       "    </tr>\n",
       "    <tr>\n",
       "      <th>95855</th>\n",
       "      <td>95855</td>\n",
       "      <td>11c177c8e97725db2631073c19f07b62</td>\n",
       "      <td>b331b74b18dc79bcdf6532d51e1637c1</td>\n",
       "      <td>delivered</td>\n",
       "      <td>2018-01-08 21:28:27</td>\n",
       "      <td>2018-01-08 21:36:21</td>\n",
       "      <td>2018-01-12 15:35:03</td>\n",
       "      <td>2018-01-25 23:32:54</td>\n",
       "      <td>2018-02-15</td>\n",
       "      <td>17.0</td>\n",
       "      <td>...</td>\n",
       "      <td>37.105243</td>\n",
       "      <td>-0.161781</td>\n",
       "      <td>0</td>\n",
       "      <td>0</td>\n",
       "      <td>2</td>\n",
       "      <td>1.601496</td>\n",
       "      <td>-0.112554</td>\n",
       "      <td>1.075116</td>\n",
       "      <td>2.715332</td>\n",
       "      <td>-0.387298</td>\n",
       "    </tr>\n",
       "    <tr>\n",
       "      <th>95856</th>\n",
       "      <td>95856</td>\n",
       "      <td>66dea50a8b16d9b4dee7af250b4be1a5</td>\n",
       "      <td>edb027a75a1449115f6b43211ae02a24</td>\n",
       "      <td>delivered</td>\n",
       "      <td>2018-03-08 20:57:30</td>\n",
       "      <td>2018-03-09 11:20:28</td>\n",
       "      <td>2018-03-09 22:11:59</td>\n",
       "      <td>2018-03-16 13:08:30</td>\n",
       "      <td>2018-04-03</td>\n",
       "      <td>7.0</td>\n",
       "      <td>...</td>\n",
       "      <td>25.126736</td>\n",
       "      <td>-0.161781</td>\n",
       "      <td>1</td>\n",
       "      <td>0</td>\n",
       "      <td>5</td>\n",
       "      <td>-0.264603</td>\n",
       "      <td>-0.112554</td>\n",
       "      <td>-0.328358</td>\n",
       "      <td>-0.204029</td>\n",
       "      <td>0.052449</td>\n",
       "    </tr>\n",
       "  </tbody>\n",
       "</table>\n",
       "<p>95857 rows × 21 columns</p>\n",
       "</div>"
      ],
      "text/plain": [
       "       Unnamed: 0                          order_id  \\\n",
       "0               0  e481f51cbdc54678b7cc49136f2d6af7   \n",
       "1               1  53cdb2fc8bc7dce0b6741e2150273451   \n",
       "2               2  47770eb9100c2d0c44946d9cf07ec65d   \n",
       "3               3  949d5b44dbf5de918fe9c16f97b45f8a   \n",
       "4               4  ad21c59c0840e6cb83a9ceb5573f8159   \n",
       "...           ...                               ...   \n",
       "95852       95852  9c5dedf39a927c1b2549525ed64a053c   \n",
       "95853       95853  63943bddc261676b46f01ca7ac2f7bd8   \n",
       "95854       95854  83c1379a015df1e13d02aae0204711ab   \n",
       "95855       95855  11c177c8e97725db2631073c19f07b62   \n",
       "95856       95856  66dea50a8b16d9b4dee7af250b4be1a5   \n",
       "\n",
       "                            customer_id order_status order_purchase_timestamp  \\\n",
       "0      9ef432eb6251297304e76186b10a928d    delivered      2017-10-02 10:56:33   \n",
       "1      b0830fb4747a6c6d20dea0b8c802d7ef    delivered      2018-07-24 20:41:37   \n",
       "2      41ce2a54c0b03bf3443c3d931a367089    delivered      2018-08-08 08:38:49   \n",
       "3      f88197465ea7920adcdbec7375364d82    delivered      2017-11-18 19:28:06   \n",
       "4      8ab97904e6daea8866dbdbc4fb7aad2c    delivered      2018-02-13 21:18:39   \n",
       "...                                 ...          ...                      ...   \n",
       "95852  39bd1228ee8140590ac3aca26f2dfe00    delivered      2017-03-09 09:54:05   \n",
       "95853  1fca14ff2861355f6e5f14306ff977a7    delivered      2018-02-06 12:58:58   \n",
       "95854  1aa71eb042121263aafbe80c1b562c9c    delivered      2017-08-27 14:46:43   \n",
       "95855  b331b74b18dc79bcdf6532d51e1637c1    delivered      2018-01-08 21:28:27   \n",
       "95856  edb027a75a1449115f6b43211ae02a24    delivered      2018-03-08 20:57:30   \n",
       "\n",
       "         order_approved_at order_delivered_carrier_date  \\\n",
       "0      2017-10-02 11:07:15          2017-10-04 19:55:00   \n",
       "1      2018-07-26 03:24:27          2018-07-26 14:31:00   \n",
       "2      2018-08-08 08:55:23          2018-08-08 13:50:00   \n",
       "3      2017-11-18 19:45:59          2017-11-22 13:39:59   \n",
       "4      2018-02-13 22:20:29          2018-02-14 19:46:34   \n",
       "...                    ...                          ...   \n",
       "95852  2017-03-09 09:54:05          2017-03-10 11:18:03   \n",
       "95853  2018-02-06 13:10:37          2018-02-07 23:22:42   \n",
       "95854  2017-08-27 15:04:16          2017-08-28 20:52:26   \n",
       "95855  2018-01-08 21:36:21          2018-01-12 15:35:03   \n",
       "95856  2018-03-09 11:20:28          2018-03-09 22:11:59   \n",
       "\n",
       "      order_delivered_customer_date order_estimated_delivery_date  time_delta  \\\n",
       "0               2017-10-10 21:25:13                    2017-10-18         8.0   \n",
       "1               2018-08-07 15:27:45                    2018-08-13        13.0   \n",
       "2               2018-08-17 18:06:29                    2018-09-04         9.0   \n",
       "3               2017-12-02 00:28:42                    2017-12-15        13.0   \n",
       "4               2018-02-16 18:17:02                    2018-02-26         2.0   \n",
       "...                             ...                           ...         ...   \n",
       "95852           2017-03-17 15:08:01                    2017-03-28         8.0   \n",
       "95853           2018-02-28 17:37:56                    2018-03-02        22.0   \n",
       "95854           2017-09-21 11:24:17                    2017-09-27        24.0   \n",
       "95855           2018-01-25 23:32:54                    2018-02-15        17.0   \n",
       "95856           2018-03-16 13:08:30                    2018-04-03         7.0   \n",
       "\n",
       "       ...  tiempo_de_espera_pronosticado  real_vs_esperado  \\\n",
       "0      ...                      15.544063         -0.161781   \n",
       "1      ...                      19.137766         -0.161781   \n",
       "2      ...                      26.639711         -0.161781   \n",
       "3      ...                      26.188819         -0.161781   \n",
       "4      ...                      12.112049         -0.161781   \n",
       "...    ...                            ...               ...   \n",
       "95852  ...                      18.587442         -0.161781   \n",
       "95853  ...                      23.459051         -0.161781   \n",
       "95854  ...                      30.384225         -0.161781   \n",
       "95855  ...                      37.105243         -0.161781   \n",
       "95856  ...                      25.126736         -0.161781   \n",
       "\n",
       "       es_cinco_estrellas  es_una_estrella  review_score  num_de_produc  \\\n",
       "0                       0                0             4      -0.264603   \n",
       "1                       0                0             4      -0.264603   \n",
       "2                       1                0             5      -0.264603   \n",
       "3                       1                0             5      -0.264603   \n",
       "4                       1                0             5      -0.264603   \n",
       "...                   ...              ...           ...            ...   \n",
       "95852                   1                0             5      -0.264603   \n",
       "95853                   0                0             4      -0.264603   \n",
       "95854                   1                0             5      -0.264603   \n",
       "95855                   0                0             2       1.601496   \n",
       "95856                   1                0             5      -0.264603   \n",
       "\n",
       "       vendedores_unicos    precio  transporte  distance_seller_customer  \n",
       "0              -0.112554 -0.513784   -0.652018                 -0.978986  \n",
       "1              -0.112554 -0.086646    0.000447                  0.429687  \n",
       "2              -0.112554  0.111732   -0.164063                 -0.145329  \n",
       "3              -0.112554 -0.441511    0.206782                  2.053937  \n",
       "4              -0.112554 -0.562367   -0.652018                 -0.958634  \n",
       "...                  ...       ...         ...                       ...  \n",
       "95852          -0.112554 -0.311506   -0.449401                 -0.892578  \n",
       "95853          -0.112554  0.183957   -0.123168                 -0.212604  \n",
       "95854          -0.112554  0.333655    1.964347                  0.617501  \n",
       "95855          -0.112554  1.075116    2.715332                 -0.387298  \n",
       "95856          -0.112554 -0.328358   -0.204029                  0.052449  \n",
       "\n",
       "[95857 rows x 21 columns]"
      ]
     },
     "execution_count": 78,
     "metadata": {},
     "output_type": "execute_result"
    }
   ],
   "source": [
    "from scipy.stats import zscore\n",
    "import pandas as pd\n",
    "\n",
    "columnas_para_transformar = ['tiempo_de_espera', 'real_vs_esperado', 'num_de_produc', 'vendedores_unicos', 'precio', 'transporte', 'distance_seller_customer']\n",
    "orders_zscore = orders[columnas_para_transformar].apply(zscore)\n",
    "orders[columnas_para_transformar] = orders_zscore\n",
    "orders"
   ]
  },
  {
   "cell_type": "markdown",
   "metadata": {},
   "source": [
    "Crear el `modelo4`"
   ]
  },
  {
   "cell_type": "code",
   "execution_count": 79,
   "metadata": {},
   "outputs": [
    {
     "data": {
      "text/plain": [
       "'review_score ~ tiempo_de_espera + real_vs_esperado + num_de_produc + vendedores_unicos + precio + transporte + distance_seller_customer'"
      ]
     },
     "execution_count": 79,
     "metadata": {},
     "output_type": "execute_result"
    }
   ],
   "source": [
    "formula = \"review_score ~ \" + ' + '.join(features)\n",
    "formula"
   ]
  },
  {
   "cell_type": "code",
   "execution_count": 80,
   "metadata": {
    "tags": [
     "challengify"
    ]
   },
   "outputs": [
    {
     "name": "stdout",
     "output_type": "stream",
     "text": [
      "Intel MKL WARNING: Support of Intel(R) Streaming SIMD Extensions 4.2 (Intel(R) SSE4.2) enabled only processors has been deprecated. Intel oneAPI Math Kernel Library 2025.0 will require Intel(R) Advanced Vector Extensions (Intel(R) AVX) instructions.\n",
      "                            OLS Regression Results                            \n",
      "==============================================================================\n",
      "Dep. Variable:           review_score   R-squared:                       0.145\n",
      "Model:                            OLS   Adj. R-squared:                  0.145\n",
      "Method:                 Least Squares   F-statistic:                     2323.\n",
      "Date:                Tue, 31 Oct 2023   Prob (F-statistic):               0.00\n",
      "Time:                        11:59:42   Log-Likelihood:            -1.5255e+05\n",
      "No. Observations:               95857   AIC:                         3.051e+05\n",
      "Df Residuals:                   95849   BIC:                         3.052e+05\n",
      "Df Model:                           7                                         \n",
      "Covariance Type:            nonrobust                                         \n",
      "============================================================================================\n",
      "                               coef    std err          t      P>|t|      [0.025      0.975]\n",
      "--------------------------------------------------------------------------------------------\n",
      "Intercept                    4.1555      0.004   1082.636      0.000       4.148       4.163\n",
      "tiempo_de_espera            -0.4401      0.006    -70.771      0.000      -0.452      -0.428\n",
      "real_vs_esperado            -0.0513      0.006     -8.988      0.000      -0.063      -0.040\n",
      "num_de_produc               -0.1297      0.004    -28.857      0.000      -0.139      -0.121\n",
      "vendedores_unicos           -0.1313      0.004    -32.724      0.000      -0.139      -0.123\n",
      "precio                      -0.0029      0.004     -0.692      0.489      -0.011       0.005\n",
      "transporte                   0.0043      0.005      0.869      0.385      -0.005       0.014\n",
      "distance_seller_customer     0.0970      0.005     21.048      0.000       0.088       0.106\n",
      "==============================================================================\n",
      "Omnibus:                    18747.874   Durbin-Watson:                   2.009\n",
      "Prob(Omnibus):                  0.000   Jarque-Bera (JB):            37818.100\n",
      "Skew:                          -1.175   Prob(JB):                         0.00\n",
      "Kurtosis:                       4.986   Cond. No.                         3.02\n",
      "==============================================================================\n",
      "\n",
      "Notes:\n",
      "[1] Standard Errors assume that the covariance matrix of the errors is correctly specified.\n"
     ]
    }
   ],
   "source": [
    "modelo4 = smf.ols(formula=formula, data=orders)\n",
    "modelo4 = modelo4.fit()\n",
    "print(modelo4.summary())"
   ]
  },
  {
   "cell_type": "markdown",
   "metadata": {},
   "source": [
    "____"
   ]
  },
  {
   "cell_type": "markdown",
   "metadata": {},
   "source": [
    "### ***→ ¿Cuáles son las características más importantes? (hacer un gráfico de barras para visualizarlos bien)***"
   ]
  },
  {
   "cell_type": "code",
   "execution_count": 81,
   "metadata": {},
   "outputs": [],
   "source": [
    "coeficientes_absolutos = abs(modelo4.params.drop('Intercept'))\n",
    "coef_sorted = coeficientes_absolutos.sort_values(ascending=False)"
   ]
  },
  {
   "cell_type": "code",
   "execution_count": 90,
   "metadata": {},
   "outputs": [
    {
     "data": {
      "image/png": "[encoded data removed]",
      "text/plain": [
       "<Figure size 2000x600 with 1 Axes>"
      ]
     },
     "metadata": {},
     "output_type": "display_data"
    }
   ],
   "source": [
    "plt.figure(figsize=(20, 6))\n",
    "plt.bar(coef_sorted.index, coef_sorted, width=0.3)\n",
    "plt.xlabel('Variable')\n",
    "plt.ylabel('Coeficiente de regresión (valor absoluto)')\n",
    "plt.title('Importancia relativa de las variables en el modelo')\n",
    "sns.set_style(\"darkgrid\")\n",
    "plt.show()"
   ]
  },
  {
   "cell_type": "markdown",
   "metadata": {},
   "source": [
    "### ***→ ¿Cómo ha cambiado el rendimiento general de la regresión?***\n",
    "\n",
    "##### El rendimiento general de la regresión se puede evaluar a través del valor R-squared. En este caso, el valor R-squared aumentó de 0.114 a 0.145 (del modelo3 al modelo4), lo que indica que el modelo 4 explica un poco más la variación de la variable dependiente (review_score) que el modelo 3.\n",
    "\n",
    "##### Lo que sucede aquí es que el 14.5% de la variación en review_score se puede explicar por las variaciones combinadas en tiempo_de_espera, real_vs_esperado, distancia, freight_value, precio y volumen. El otro 85.5% de la variación en review_score se puede explicar por otras variables que no están incluidas en el modelo."
   ]
  },
  {
   "cell_type": "markdown",
   "metadata": {},
   "source": [
    "### ***→ ¿Es esta regresión estadísticamente significativa?***\n",
    "\n",
    "##### Para determinar si una regresión es estadísticamente significativa debemos mirar Prob (F-statistic). En este caso, el valor de Prob (F-statistic) es 0.000, lo que indica que el modelo es estadísticamente significativo. Si el modelo no fuera estadísticamente significativo, no podríamos confiar en los resultados de los coeficientes individuales."
   ]
  },
  {
   "cell_type": "code",
   "execution_count": 83,
   "metadata": {
    "tags": [
     "challengify"
    ]
   },
   "outputs": [
    {
     "name": "stdout",
     "output_type": "stream",
     "text": [
      "                            OLS Regression Results                            \n",
      "==============================================================================\n",
      "Dep. Variable:           review_score   R-squared:                       0.145\n",
      "Model:                            OLS   Adj. R-squared:                  0.145\n",
      "Method:                 Least Squares   F-statistic:                     2323.\n",
      "Date:                Tue, 31 Oct 2023   Prob (F-statistic):               0.00\n",
      "Time:                        11:59:43   Log-Likelihood:            -1.5255e+05\n",
      "No. Observations:               95857   AIC:                         3.051e+05\n",
      "Df Residuals:                   95849   BIC:                         3.052e+05\n",
      "Df Model:                           7                                         \n",
      "Covariance Type:            nonrobust                                         \n",
      "============================================================================================\n",
      "                               coef    std err          t      P>|t|      [0.025      0.975]\n",
      "--------------------------------------------------------------------------------------------\n",
      "Intercept                    4.1555      0.004   1082.636      0.000       4.148       4.163\n",
      "tiempo_de_espera            -0.4401      0.006    -70.771      0.000      -0.452      -0.428\n",
      "real_vs_esperado            -0.0513      0.006     -8.988      0.000      -0.063      -0.040\n",
      "num_de_produc               -0.1297      0.004    -28.857      0.000      -0.139      -0.121\n",
      "vendedores_unicos           -0.1313      0.004    -32.724      0.000      -0.139      -0.123\n",
      "precio                      -0.0029      0.004     -0.692      0.489      -0.011       0.005\n",
      "transporte                   0.0043      0.005      0.869      0.385      -0.005       0.014\n",
      "distance_seller_customer     0.0970      0.005     21.048      0.000       0.088       0.106\n",
      "==============================================================================\n",
      "Omnibus:                    18747.874   Durbin-Watson:                   2.009\n",
      "Prob(Omnibus):                  0.000   Jarque-Bera (JB):            37818.100\n",
      "Skew:                          -1.175   Prob(JB):                         0.00\n",
      "Kurtosis:                       4.986   Cond. No.                         3.02\n",
      "==============================================================================\n",
      "\n",
      "Notes:\n",
      "[1] Standard Errors assume that the covariance matrix of the errors is correctly specified.\n"
     ]
    }
   ],
   "source": [
    "print(modelo4.summary())"
   ]
  },
  {
   "cell_type": "markdown",
   "metadata": {},
   "source": [
    "### ***→ ¿Cual es la variable que más impacto tiene?***\n",
    "\n",
    "##### Para ver cual es la variable que más impacto tiene, debemos hacer foco en los coeficientes de regresión individuales. En este caso, la variable que más impacto tiene sobre review_score es tiempo_de_espera, ya que tiene el coeficiente (en términos absolutos) más alto. El mismo es de -0.04401, lo que significa que por cada aumento de 1 en tiempo_de_espera, el review_score disminuye en 0.4401."
   ]
  },
  {
   "cell_type": "markdown",
   "metadata": {},
   "source": [
    "### ***→ ¿Qué pasa con productos y vendedores cuando hay más?***\n",
    "\n",
    "##### Para analizar qué es lo que ocurre con productos y vendedores cuando hay más, también debemos observar los coeficientes de regresión individuales (en este caso de num_de_produc y vendedores_unicos). Como ambos coeficientes son negativos, eso significa que a medida que el número de productos o vendedores aumenta, el review_score decrece.\n",
    "\n",
    "##### El coeficiente de num_de_produc es de -0.1297, lo que significa que por cada aumento de 1 en num_de_produc, el review_score disminuye en 0.1297. El coeficiente de vendedores_unicos es de -0.1313, lo que significa que por cada aumento de 1 en vendedores_unicos, el review_score disminuye en 0.1313.\n"
   ]
  },
  {
   "cell_type": "markdown",
   "metadata": {},
   "source": [
    "### ***→ ¿Qué pasa con la distancia?***\n",
    "\n",
    "##### Para analizar qué es lo que ocurre con la distancia_seller_customer, también debemos observar el coeficiente de regresión individual. Como el coeficiente es positivo, eso significa que a medida que la distancia aumenta, el review_score aumenta. El coeficiente de distancia_seller_customer es de 0.0970, lo que significa que por cada aumento de 1 en distancia_seller_customer, el review_score aumenta en 0.0970."
   ]
  },
  {
   "cell_type": "markdown",
   "metadata": {},
   "source": [
    "### ***→ ¿Qué pasa con precio y transporte?***\n",
    "\n",
    "##### Para analizar qué es lo que ocurre con precio y transporte, también debemos observar los coeficientes de regresión individuales (en este caso de precio y freight_value). Como ambos coeficientes tienen signos opuestos, eso significa que a medida que el precio aumenta, el review_score disminuye, mientras que a medida que el freight_value aumenta, el review_score aumenta.\n",
    "\n",
    "##### El coeficiente de precio es de -0.0029, lo que significa que por cada aumento de 1 en precio, el review_score disminuye en 0.0029. En cambio, El coeficiente de freight_value es de 0.0043, lo que significa que por cada aumento de 1 en freight_value, el review_score aumenta en 0.0043.\n",
    "\n"
   ]
  },
  {
   "cell_type": "markdown",
   "metadata": {},
   "source": [
    "### ***→ ¿Qué pasa con F-statistics y p-value?***\n",
    "\n",
    "##### El valor de F-statistic mide la significancia general del modelo de regresión. Un valor alto de F-statistic indica que el modelo es estadísticamente significativo, lo que significa que al menos una de las variables independientes está relacionada con la variable dependiente. En este caso, el valor de F-statistic es 2323, lo que indica que el modelo de regresión es estadísticamente significativo.\n",
    "\n",
    "\n",
    "##### El P>|t| (p-value) es una medida de la significancia estadística de cada variable independiente en el modelo de regresión. Un valor alto de P>|t| (mayor a 0.05) indica que la variable independiente no es estadísticamente significativa en la predicción de la variable dependiente.\n",
    "\n",
    "##### Por un lado, el P>|t| de precio es 0.489 y el de transporte es 0.385, lo que significa que estas variables no son estadísticamente significativas en la predicción de la variable dependiente (review_score) ya que sus valores de p son mayores a 0.05. Esto sugiere que el precio y el costo de transporte no tienen un impacto significativo en la calificación de revisión.\n",
    "\n",
    "##### Por el otro, el P>|t| del resto de las variables es 0.00 (menor a 0.05), lo que significa que son estadísticamente significativas en la predicción de la variable dependiente (review_score). Esto sugiere que el tiempo de espera, el tiempo real vs esperado, la distancia, el número de productos y el número de vendedores tienen un impacto significativo en el review_score."
   ]
  },
  {
   "cell_type": "markdown",
   "metadata": {},
   "source": [
    "### ***→ Analizar R cuadrado***\n",
    "\n",
    "##### El valor R-cuadrado es una medida de la bondad de ajuste del modelo de regresión. Indica la proporción de la variación total de la variable dependiente que es explicada por el modelo. En este caso, el valor R-cuadrado es de 0.145, lo que significa que el modelo explica el 14.5% de la variación total de la variable dependiente (review_score).\n",
    "\n",
    "##### Un R cuadrado bajo es común cuando el número de observaciones (n) es mucho mayor que el número de características (p). Todavía se pueden derivar ideas relevantes de tales regresiones, siempre que sean estadísticamente significativas.\n",
    "\n",
    "##### Un valor R-cuadrado bajo indica que el modelo no explica bien la variación de la variable dependiente y que puede haber otras variables importantes que no se están considerando en el modelo. \n",
    "\n",
    "##### Sin embargo, es importante tener en cuenta que un valor R-cuadrado alto no garantiza que el modelo sea bueno, ya que puede haber otras variables que afecten la variable dependiente y que no se estén considerando en el modelo. Por lo tanto, es importante evaluar otros aspectos del modelo, como los coeficientes de regresión individuales y los valores p, para determinar si el modelo es adecuado para los datos.\n"
   ]
  },
  {
   "cell_type": "markdown",
   "metadata": {},
   "source": [
    "___"
   ]
  },
  {
   "cell_type": "markdown",
   "metadata": {},
   "source": [
    "## 3 - Chequear la performance de modelos"
   ]
  },
  {
   "cell_type": "markdown",
   "metadata": {},
   "source": [
    "¡El rendimiento de la regresión no debe medirse solo por su R-cuadrado!\n",
    "\n",
    "Siempre visualice la distribución de las predicciones, y especialmente los residuales.\n",
    "\n",
    "* Calcular los residuos.\n",
    "\n",
    "Debería ver que la media de los residuos es igual a 0 (siempre verificado en un contexto de regresión lineal)"
   ]
  },
  {
   "cell_type": "code",
   "execution_count": 84,
   "metadata": {},
   "outputs": [
    {
     "data": {
      "text/plain": [
       "0        0.306348\n",
       "1        0.195736\n",
       "2       -0.657087\n",
       "3       -0.618111\n",
       "4       -0.432611\n",
       "           ...   \n",
       "95852   -0.674814\n",
       "95853   -0.259423\n",
       "95854   -1.294416\n",
       "95855    1.728967\n",
       "95856   -0.556736\n",
       "Name: review_score, Length: 95857, dtype: float64"
      ]
     },
     "execution_count": 84,
     "metadata": {},
     "output_type": "execute_result"
    }
   ],
   "source": [
    "n = len(modelo4.resid)\n",
    "residuos = modelo4.predict() - orders['review_score']\n",
    "residuos"
   ]
  },
  {
   "cell_type": "code",
   "execution_count": 85,
   "metadata": {},
   "outputs": [
    {
     "data": {
      "text/plain": [
       "0.002986507654213605"
      ]
     },
     "execution_count": 85,
     "metadata": {},
     "output_type": "execute_result"
    }
   ],
   "source": [
    "residuos = residuos.std() / orders['review_score'].std() * 1 / (n ** 0.5)\n",
    "residuos"
   ]
  },
  {
   "cell_type": "markdown",
   "metadata": {},
   "source": [
    "Computar rmse"
   ]
  },
  {
   "cell_type": "code",
   "execution_count": 86,
   "metadata": {
    "tags": [
     "challengify"
    ]
   },
   "outputs": [
    {
     "name": "stdout",
     "output_type": "stream",
     "text": [
      "El RMS es 1.1883\n"
     ]
    }
   ],
   "source": [
    "from sklearn.metrics import mean_squared_error\n",
    "\n",
    "y_true = orders['review_score']\n",
    "y_pred = modelo4.predict()\n",
    "\n",
    "rms = mean_squared_error(y_true, y_pred, squared=False)\n",
    "print(f\"El RMS es {rms:.4f}\")"
   ]
  },
  {
   "cell_type": "markdown",
   "metadata": {},
   "source": [
    "Plotear los resultados"
   ]
  },
  {
   "cell_type": "code",
   "execution_count": 100,
   "metadata": {},
   "outputs": [
    {
     "name": "stderr",
     "output_type": "stream",
     "text": [
      "/var/folders/xx/hcklcr8s0rxd7p5fz63z342w0000gn/T/ipykernel_67407/1762136646.py:5: FutureWarning: \n",
      "\n",
      "`shade` is now deprecated in favor of `fill`; setting `fill=False`.\n",
      "This will become an error in seaborn v0.14.0; please update your code.\n",
      "\n",
      "  sns.kdeplot(residuos, shade=False)\n"
     ]
    },
    {
     "data": {
      "image/png": "[encoded data removed]",
      "text/plain": [
       "<Figure size 640x480 with 1 Axes>"
      ]
     },
     "metadata": {},
     "output_type": "display_data"
    }
   ],
   "source": [
    "import seaborn as sns\n",
    "\n",
    "residuos = modelo4.predict() - orders['review_score']\n",
    "\n",
    "sns.kdeplot(residuos, shade=False)\n",
    "sns.set_style(\"darkgrid\")\n",
    "plt.hist(residuos, bins=20, density=True, color = '#84B0D2')\n",
    "plt.xlabel('Residuos')\n",
    "plt.ylabel('Densidad')\n",
    "plt.title('Density plot de residuos')\n",
    "plt.show()"
   ]
  },
  {
   "cell_type": "markdown",
   "metadata": {},
   "source": [
    "### ***→ ¿Por qué la trama residual tiene una forma tan extraña?***\n",
    "\n",
    "##### La trama residual puede tener una forma extraña si el modelo de regresión no se ajusta bien a los datos. Esto puede deberse a que el modelo no tiene en cuenta todas las variables importantes que afectan a la variable dependiente (b1), o porque el modelo no es lo suficientemente flexible para capturar la complejidad entre las variables independientes (b0) y la variable dependiente (b1)."
   ]
  },
  {
   "cell_type": "markdown",
   "metadata": {},
   "source": [
    "Plotea en el mismo gráfico tanto la distribución de `review_score` como la distribución de `predicted_review_score`."
   ]
  },
  {
   "cell_type": "code",
   "execution_count": 88,
   "metadata": {},
   "outputs": [
    {
     "name": "stderr",
     "output_type": "stream",
     "text": [
      "/var/folders/xx/hcklcr8s0rxd7p5fz63z342w0000gn/T/ipykernel_67407/2519338779.py:6: FutureWarning: \n",
      "\n",
      "`shade` is now deprecated in favor of `fill`; setting `fill=False`.\n",
      "This will become an error in seaborn v0.14.0; please update your code.\n",
      "\n",
      "  sns.kdeplot(predicted_review_score, shade=False, label='predicted_review_score')\n",
      "/var/folders/xx/hcklcr8s0rxd7p5fz63z342w0000gn/T/ipykernel_67407/2519338779.py:7: FutureWarning: \n",
      "\n",
      "`shade` is now deprecated in favor of `fill`; setting `fill=False`.\n",
      "This will become an error in seaborn v0.14.0; please update your code.\n",
      "\n",
      "  sns.kdeplot(review_score, shade=False, label='review_score')\n"
     ]
    },
    {
     "data": {
      "image/png": "[encoded data removed]",
      "text/plain": [
       "<Figure size 640x480 with 1 Axes>"
      ]
     },
     "metadata": {},
     "output_type": "display_data"
    }
   ],
   "source": [
    "import seaborn as sns\n",
    "\n",
    "review_score = orders['review_score']\n",
    "predicted_review_score = modelo4.predict()\n",
    "\n",
    "sns.kdeplot(predicted_review_score, shade=False, label='predicted_review_score')\n",
    "sns.kdeplot(review_score, shade=False, label='review_score')\n",
    "sns.set_style(\"darkgrid\")\n",
    "plt.xlabel('review_score')\n",
    "plt.ylabel('Densidad')\n",
    "plt.title('Distribución de review_score y predicted_review_score')\n",
    "plt.legend()\n",
    "plt.show()"
   ]
  },
  {
   "cell_type": "markdown",
   "metadata": {},
   "source": [
    "Usando `seaborn`, ya podríamos haber trazado una `línea de regresión` de `review_score` frente a `real_vs_esperado`\n",
    "\n",
    "Hacelo con una sub-`muestra` de la población, y una vez con la `toda la población`."
   ]
  },
  {
   "cell_type": "code",
   "execution_count": null,
   "metadata": {
    "tags": [
     "challengify"
    ]
   },
   "outputs": [],
   "source": []
  }
 ],
 "metadata": {
  "kernelspec": {
   "display_name": "Python 3",
   "language": "python",
   "name": "python3"
  },
  "language_info": {
   "codemirror_mode": {
    "name": "ipython",
    "version": 3
   },
   "file_extension": ".py",
   "mimetype": "text/x-python",
   "name": "python",
   "nbconvert_exporter": "python",
   "pygments_lexer": "ipython3",
   "version": "3.11.4"
  }
 },
 "nbformat": 4,
 "nbformat_minor": 4
}
