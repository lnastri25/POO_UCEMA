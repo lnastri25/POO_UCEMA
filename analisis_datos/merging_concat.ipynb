{
  "cells": [
    {
      "cell_type": "markdown",
      "metadata": {
        "collapsed": true,
        "id": "rPcpItPqqTnA",
        "pycharm": {
          "name": "#%% md\n"
        }
      },
      "source": [
        "# Merging, Joining, and Concatenating\n"
      ]
    },
    {
      "cell_type": "markdown",
      "metadata": {},
      "source": [
        "___"
      ]
    },
    {
      "cell_type": "markdown",
      "metadata": {
        "id": "3I5l9aEaqTnJ",
        "pycharm": {
          "name": "#%% md\n"
        }
      },
      "source": [
        "### Ejemplo DataFrames"
      ]
    },
    {
      "cell_type": "code",
      "execution_count": 1,
      "metadata": {
        "collapsed": true,
        "id": "98Eq50PrqTnL",
        "pycharm": {
          "name": "#%%\n"
        }
      },
      "outputs": [
        {
          "name": "stdout",
          "output_type": "stream",
          "text": [
            "Intel MKL WARNING: Support of Intel(R) Streaming SIMD Extensions 4.2 (Intel(R) SSE4.2) enabled only processors has been deprecated. Intel oneAPI Math Kernel Library 2025.0 will require Intel(R) Advanced Vector Extensions (Intel(R) AVX) instructions.\n",
            "Intel MKL WARNING: Support of Intel(R) Streaming SIMD Extensions 4.2 (Intel(R) SSE4.2) enabled only processors has been deprecated. Intel oneAPI Math Kernel Library 2025.0 will require Intel(R) Advanced Vector Extensions (Intel(R) AVX) instructions.\n"
          ]
        }
      ],
      "source": [
        "import pandas as pd"
      ]
    },
    {
      "cell_type": "code",
      "execution_count": 2,
      "metadata": {
        "id": "cC38fAhwqTnO",
        "pycharm": {
          "name": "#%%\n"
        }
      },
      "outputs": [],
      "source": [
        "df1 = pd.DataFrame({'A': ['A0', 'A1', 'A2', 'A3'],\n",
        "                        'B': ['B0', 'B1', 'B2', 'B3'],\n",
        "                        'C': ['C0', 'C1', 'C2', 'C3'],\n",
        "                        'D': ['D0', 'D1', 'D2', 'D3']},\n",
        "                        index=[0, 1, 2, 3])"
      ]
    },
    {
      "cell_type": "code",
      "execution_count": 3,
      "metadata": {
        "id": "OUl2MXZ6qTnQ",
        "pycharm": {
          "name": "#%%\n"
        }
      },
      "outputs": [],
      "source": [
        "df2 = pd.DataFrame({'A': ['A4', 'A5', 'A6', 'A7'],\n",
        "                        'B': ['B4', 'B5', 'B6', 'B7'],\n",
        "                        'C': ['C4', 'C5', 'C6', 'C7'],\n",
        "                        'D': ['D4', 'D5', 'D6', 'D7']},\n",
        "                         index=[4, 5, 6, 7])"
      ]
    },
    {
      "cell_type": "code",
      "execution_count": 4,
      "metadata": {
        "collapsed": true,
        "id": "jAZ0MyP0qTnR",
        "pycharm": {
          "name": "#%%\n"
        }
      },
      "outputs": [],
      "source": [
        "df3 = pd.DataFrame({'A': ['A8', 'A9', 'A10', 'A11'],\n",
        "                        'B': ['B8', 'B9', 'B10', 'B11'],\n",
        "                        'C': ['C8', 'C9', 'C10', 'C11'],\n",
        "                        'D': ['D8', 'D9', 'D10', 'D11']},\n",
        "                        index=[8, 9, 10, 11])"
      ]
    },
    {
      "cell_type": "code",
      "execution_count": 5,
      "metadata": {
        "colab": {
          "base_uri": "https://localhost:8080/",
          "height": 175
        },
        "id": "o39jdzErqTnR",
        "outputId": "e2c4d1f2-abf1-41ac-d31c-5cb642865484",
        "pycharm": {
          "name": "#%%\n"
        }
      },
      "outputs": [
        {
          "data": {
            "text/html": [
              "<div>\n",
              "<style scoped>\n",
              "    .dataframe tbody tr th:only-of-type {\n",
              "        vertical-align: middle;\n",
              "    }\n",
              "\n",
              "    .dataframe tbody tr th {\n",
              "        vertical-align: top;\n",
              "    }\n",
              "\n",
              "    .dataframe thead th {\n",
              "        text-align: right;\n",
              "    }\n",
              "</style>\n",
              "<table border=\"1\" class=\"dataframe\">\n",
              "  <thead>\n",
              "    <tr style=\"text-align: right;\">\n",
              "      <th></th>\n",
              "      <th>A</th>\n",
              "      <th>B</th>\n",
              "      <th>C</th>\n",
              "      <th>D</th>\n",
              "    </tr>\n",
              "  </thead>\n",
              "  <tbody>\n",
              "    <tr>\n",
              "      <th>0</th>\n",
              "      <td>A0</td>\n",
              "      <td>B0</td>\n",
              "      <td>C0</td>\n",
              "      <td>D0</td>\n",
              "    </tr>\n",
              "    <tr>\n",
              "      <th>1</th>\n",
              "      <td>A1</td>\n",
              "      <td>B1</td>\n",
              "      <td>C1</td>\n",
              "      <td>D1</td>\n",
              "    </tr>\n",
              "    <tr>\n",
              "      <th>2</th>\n",
              "      <td>A2</td>\n",
              "      <td>B2</td>\n",
              "      <td>C2</td>\n",
              "      <td>D2</td>\n",
              "    </tr>\n",
              "    <tr>\n",
              "      <th>3</th>\n",
              "      <td>A3</td>\n",
              "      <td>B3</td>\n",
              "      <td>C3</td>\n",
              "      <td>D3</td>\n",
              "    </tr>\n",
              "  </tbody>\n",
              "</table>\n",
              "</div>"
            ],
            "text/plain": [
              "    A   B   C   D\n",
              "0  A0  B0  C0  D0\n",
              "1  A1  B1  C1  D1\n",
              "2  A2  B2  C2  D2\n",
              "3  A3  B3  C3  D3"
            ]
          },
          "execution_count": 5,
          "metadata": {},
          "output_type": "execute_result"
        }
      ],
      "source": [
        "df1"
      ]
    },
    {
      "cell_type": "code",
      "execution_count": 6,
      "metadata": {
        "colab": {
          "base_uri": "https://localhost:8080/",
          "height": 175
        },
        "id": "w1tdgPB5qTnU",
        "outputId": "38c8aa1a-93eb-49c6-8df8-de48590f6562",
        "pycharm": {
          "name": "#%%\n"
        }
      },
      "outputs": [
        {
          "data": {
            "text/html": [
              "<div>\n",
              "<style scoped>\n",
              "    .dataframe tbody tr th:only-of-type {\n",
              "        vertical-align: middle;\n",
              "    }\n",
              "\n",
              "    .dataframe tbody tr th {\n",
              "        vertical-align: top;\n",
              "    }\n",
              "\n",
              "    .dataframe thead th {\n",
              "        text-align: right;\n",
              "    }\n",
              "</style>\n",
              "<table border=\"1\" class=\"dataframe\">\n",
              "  <thead>\n",
              "    <tr style=\"text-align: right;\">\n",
              "      <th></th>\n",
              "      <th>A</th>\n",
              "      <th>B</th>\n",
              "      <th>C</th>\n",
              "      <th>D</th>\n",
              "    </tr>\n",
              "  </thead>\n",
              "  <tbody>\n",
              "    <tr>\n",
              "      <th>4</th>\n",
              "      <td>A4</td>\n",
              "      <td>B4</td>\n",
              "      <td>C4</td>\n",
              "      <td>D4</td>\n",
              "    </tr>\n",
              "    <tr>\n",
              "      <th>5</th>\n",
              "      <td>A5</td>\n",
              "      <td>B5</td>\n",
              "      <td>C5</td>\n",
              "      <td>D5</td>\n",
              "    </tr>\n",
              "    <tr>\n",
              "      <th>6</th>\n",
              "      <td>A6</td>\n",
              "      <td>B6</td>\n",
              "      <td>C6</td>\n",
              "      <td>D6</td>\n",
              "    </tr>\n",
              "    <tr>\n",
              "      <th>7</th>\n",
              "      <td>A7</td>\n",
              "      <td>B7</td>\n",
              "      <td>C7</td>\n",
              "      <td>D7</td>\n",
              "    </tr>\n",
              "  </tbody>\n",
              "</table>\n",
              "</div>"
            ],
            "text/plain": [
              "    A   B   C   D\n",
              "4  A4  B4  C4  D4\n",
              "5  A5  B5  C5  D5\n",
              "6  A6  B6  C6  D6\n",
              "7  A7  B7  C7  D7"
            ]
          },
          "execution_count": 6,
          "metadata": {},
          "output_type": "execute_result"
        }
      ],
      "source": [
        "df2"
      ]
    },
    {
      "cell_type": "code",
      "execution_count": 7,
      "metadata": {
        "colab": {
          "base_uri": "https://localhost:8080/",
          "height": 175
        },
        "id": "bCtYx36wqTnW",
        "outputId": "0bd5becf-a481-4877-c5bf-f0e9cc3e2483",
        "pycharm": {
          "name": "#%%\n"
        }
      },
      "outputs": [
        {
          "data": {
            "text/html": [
              "<div>\n",
              "<style scoped>\n",
              "    .dataframe tbody tr th:only-of-type {\n",
              "        vertical-align: middle;\n",
              "    }\n",
              "\n",
              "    .dataframe tbody tr th {\n",
              "        vertical-align: top;\n",
              "    }\n",
              "\n",
              "    .dataframe thead th {\n",
              "        text-align: right;\n",
              "    }\n",
              "</style>\n",
              "<table border=\"1\" class=\"dataframe\">\n",
              "  <thead>\n",
              "    <tr style=\"text-align: right;\">\n",
              "      <th></th>\n",
              "      <th>A</th>\n",
              "      <th>B</th>\n",
              "      <th>C</th>\n",
              "      <th>D</th>\n",
              "    </tr>\n",
              "  </thead>\n",
              "  <tbody>\n",
              "    <tr>\n",
              "      <th>8</th>\n",
              "      <td>A8</td>\n",
              "      <td>B8</td>\n",
              "      <td>C8</td>\n",
              "      <td>D8</td>\n",
              "    </tr>\n",
              "    <tr>\n",
              "      <th>9</th>\n",
              "      <td>A9</td>\n",
              "      <td>B9</td>\n",
              "      <td>C9</td>\n",
              "      <td>D9</td>\n",
              "    </tr>\n",
              "    <tr>\n",
              "      <th>10</th>\n",
              "      <td>A10</td>\n",
              "      <td>B10</td>\n",
              "      <td>C10</td>\n",
              "      <td>D10</td>\n",
              "    </tr>\n",
              "    <tr>\n",
              "      <th>11</th>\n",
              "      <td>A11</td>\n",
              "      <td>B11</td>\n",
              "      <td>C11</td>\n",
              "      <td>D11</td>\n",
              "    </tr>\n",
              "  </tbody>\n",
              "</table>\n",
              "</div>"
            ],
            "text/plain": [
              "      A    B    C    D\n",
              "8    A8   B8   C8   D8\n",
              "9    A9   B9   C9   D9\n",
              "10  A10  B10  C10  D10\n",
              "11  A11  B11  C11  D11"
            ]
          },
          "execution_count": 7,
          "metadata": {},
          "output_type": "execute_result"
        }
      ],
      "source": [
        "df3"
      ]
    },
    {
      "cell_type": "markdown",
      "metadata": {},
      "source": [
        "___"
      ]
    },
    {
      "cell_type": "markdown",
      "metadata": {
        "id": "fhCkAz2ZqTnX",
        "pycharm": {
          "name": "#%% md\n"
        }
      },
      "source": [
        "## Concatenation\n",
        "\n",
        "La concatenación básicamente une los DataFrames. Tenga en cuenta que las dimensiones deben coincidir a lo largo del eje en el que está concatenando. Puedes usar **pd.concat** y pasar una lista de DataFrames para concatenar juntos:"
      ]
    },
    {
      "cell_type": "code",
      "execution_count": 8,
      "metadata": {
        "colab": {
          "base_uri": "https://localhost:8080/",
          "height": 425
        },
        "id": "7kAQW1itqTnY",
        "outputId": "37ff09fa-2091-4dac-b0bf-b790915d15c5",
        "pycharm": {
          "name": "#%%\n"
        }
      },
      "outputs": [
        {
          "data": {
            "text/html": [
              "<div>\n",
              "<style scoped>\n",
              "    .dataframe tbody tr th:only-of-type {\n",
              "        vertical-align: middle;\n",
              "    }\n",
              "\n",
              "    .dataframe tbody tr th {\n",
              "        vertical-align: top;\n",
              "    }\n",
              "\n",
              "    .dataframe thead th {\n",
              "        text-align: right;\n",
              "    }\n",
              "</style>\n",
              "<table border=\"1\" class=\"dataframe\">\n",
              "  <thead>\n",
              "    <tr style=\"text-align: right;\">\n",
              "      <th></th>\n",
              "      <th>A</th>\n",
              "      <th>B</th>\n",
              "      <th>C</th>\n",
              "      <th>D</th>\n",
              "    </tr>\n",
              "  </thead>\n",
              "  <tbody>\n",
              "    <tr>\n",
              "      <th>0</th>\n",
              "      <td>A0</td>\n",
              "      <td>B0</td>\n",
              "      <td>C0</td>\n",
              "      <td>D0</td>\n",
              "    </tr>\n",
              "    <tr>\n",
              "      <th>1</th>\n",
              "      <td>A1</td>\n",
              "      <td>B1</td>\n",
              "      <td>C1</td>\n",
              "      <td>D1</td>\n",
              "    </tr>\n",
              "    <tr>\n",
              "      <th>2</th>\n",
              "      <td>A2</td>\n",
              "      <td>B2</td>\n",
              "      <td>C2</td>\n",
              "      <td>D2</td>\n",
              "    </tr>\n",
              "    <tr>\n",
              "      <th>3</th>\n",
              "      <td>A3</td>\n",
              "      <td>B3</td>\n",
              "      <td>C3</td>\n",
              "      <td>D3</td>\n",
              "    </tr>\n",
              "    <tr>\n",
              "      <th>4</th>\n",
              "      <td>A4</td>\n",
              "      <td>B4</td>\n",
              "      <td>C4</td>\n",
              "      <td>D4</td>\n",
              "    </tr>\n",
              "    <tr>\n",
              "      <th>5</th>\n",
              "      <td>A5</td>\n",
              "      <td>B5</td>\n",
              "      <td>C5</td>\n",
              "      <td>D5</td>\n",
              "    </tr>\n",
              "    <tr>\n",
              "      <th>6</th>\n",
              "      <td>A6</td>\n",
              "      <td>B6</td>\n",
              "      <td>C6</td>\n",
              "      <td>D6</td>\n",
              "    </tr>\n",
              "    <tr>\n",
              "      <th>7</th>\n",
              "      <td>A7</td>\n",
              "      <td>B7</td>\n",
              "      <td>C7</td>\n",
              "      <td>D7</td>\n",
              "    </tr>\n",
              "    <tr>\n",
              "      <th>8</th>\n",
              "      <td>A8</td>\n",
              "      <td>B8</td>\n",
              "      <td>C8</td>\n",
              "      <td>D8</td>\n",
              "    </tr>\n",
              "    <tr>\n",
              "      <th>9</th>\n",
              "      <td>A9</td>\n",
              "      <td>B9</td>\n",
              "      <td>C9</td>\n",
              "      <td>D9</td>\n",
              "    </tr>\n",
              "    <tr>\n",
              "      <th>10</th>\n",
              "      <td>A10</td>\n",
              "      <td>B10</td>\n",
              "      <td>C10</td>\n",
              "      <td>D10</td>\n",
              "    </tr>\n",
              "    <tr>\n",
              "      <th>11</th>\n",
              "      <td>A11</td>\n",
              "      <td>B11</td>\n",
              "      <td>C11</td>\n",
              "      <td>D11</td>\n",
              "    </tr>\n",
              "  </tbody>\n",
              "</table>\n",
              "</div>"
            ],
            "text/plain": [
              "      A    B    C    D\n",
              "0    A0   B0   C0   D0\n",
              "1    A1   B1   C1   D1\n",
              "2    A2   B2   C2   D2\n",
              "3    A3   B3   C3   D3\n",
              "4    A4   B4   C4   D4\n",
              "5    A5   B5   C5   D5\n",
              "6    A6   B6   C6   D6\n",
              "7    A7   B7   C7   D7\n",
              "8    A8   B8   C8   D8\n",
              "9    A9   B9   C9   D9\n",
              "10  A10  B10  C10  D10\n",
              "11  A11  B11  C11  D11"
            ]
          },
          "execution_count": 8,
          "metadata": {},
          "output_type": "execute_result"
        }
      ],
      "source": [
        "pd.concat([df1,df2,df3])"
      ]
    },
    {
      "cell_type": "code",
      "execution_count": 9,
      "metadata": {
        "colab": {
          "base_uri": "https://localhost:8080/",
          "height": 425
        },
        "id": "ZDZzT_8bqTnZ",
        "outputId": "df41353f-6950-4199-d400-87de4527cbf9",
        "pycharm": {
          "name": "#%%\n"
        }
      },
      "outputs": [
        {
          "data": {
            "text/html": [
              "<div>\n",
              "<style scoped>\n",
              "    .dataframe tbody tr th:only-of-type {\n",
              "        vertical-align: middle;\n",
              "    }\n",
              "\n",
              "    .dataframe tbody tr th {\n",
              "        vertical-align: top;\n",
              "    }\n",
              "\n",
              "    .dataframe thead th {\n",
              "        text-align: right;\n",
              "    }\n",
              "</style>\n",
              "<table border=\"1\" class=\"dataframe\">\n",
              "  <thead>\n",
              "    <tr style=\"text-align: right;\">\n",
              "      <th></th>\n",
              "      <th>A</th>\n",
              "      <th>B</th>\n",
              "      <th>C</th>\n",
              "      <th>D</th>\n",
              "      <th>A</th>\n",
              "      <th>B</th>\n",
              "      <th>C</th>\n",
              "      <th>D</th>\n",
              "      <th>A</th>\n",
              "      <th>B</th>\n",
              "      <th>C</th>\n",
              "      <th>D</th>\n",
              "    </tr>\n",
              "  </thead>\n",
              "  <tbody>\n",
              "    <tr>\n",
              "      <th>0</th>\n",
              "      <td>A0</td>\n",
              "      <td>B0</td>\n",
              "      <td>C0</td>\n",
              "      <td>D0</td>\n",
              "      <td>NaN</td>\n",
              "      <td>NaN</td>\n",
              "      <td>NaN</td>\n",
              "      <td>NaN</td>\n",
              "      <td>NaN</td>\n",
              "      <td>NaN</td>\n",
              "      <td>NaN</td>\n",
              "      <td>NaN</td>\n",
              "    </tr>\n",
              "    <tr>\n",
              "      <th>1</th>\n",
              "      <td>A1</td>\n",
              "      <td>B1</td>\n",
              "      <td>C1</td>\n",
              "      <td>D1</td>\n",
              "      <td>NaN</td>\n",
              "      <td>NaN</td>\n",
              "      <td>NaN</td>\n",
              "      <td>NaN</td>\n",
              "      <td>NaN</td>\n",
              "      <td>NaN</td>\n",
              "      <td>NaN</td>\n",
              "      <td>NaN</td>\n",
              "    </tr>\n",
              "    <tr>\n",
              "      <th>2</th>\n",
              "      <td>A2</td>\n",
              "      <td>B2</td>\n",
              "      <td>C2</td>\n",
              "      <td>D2</td>\n",
              "      <td>NaN</td>\n",
              "      <td>NaN</td>\n",
              "      <td>NaN</td>\n",
              "      <td>NaN</td>\n",
              "      <td>NaN</td>\n",
              "      <td>NaN</td>\n",
              "      <td>NaN</td>\n",
              "      <td>NaN</td>\n",
              "    </tr>\n",
              "    <tr>\n",
              "      <th>3</th>\n",
              "      <td>A3</td>\n",
              "      <td>B3</td>\n",
              "      <td>C3</td>\n",
              "      <td>D3</td>\n",
              "      <td>NaN</td>\n",
              "      <td>NaN</td>\n",
              "      <td>NaN</td>\n",
              "      <td>NaN</td>\n",
              "      <td>NaN</td>\n",
              "      <td>NaN</td>\n",
              "      <td>NaN</td>\n",
              "      <td>NaN</td>\n",
              "    </tr>\n",
              "    <tr>\n",
              "      <th>4</th>\n",
              "      <td>NaN</td>\n",
              "      <td>NaN</td>\n",
              "      <td>NaN</td>\n",
              "      <td>NaN</td>\n",
              "      <td>A4</td>\n",
              "      <td>B4</td>\n",
              "      <td>C4</td>\n",
              "      <td>D4</td>\n",
              "      <td>NaN</td>\n",
              "      <td>NaN</td>\n",
              "      <td>NaN</td>\n",
              "      <td>NaN</td>\n",
              "    </tr>\n",
              "    <tr>\n",
              "      <th>5</th>\n",
              "      <td>NaN</td>\n",
              "      <td>NaN</td>\n",
              "      <td>NaN</td>\n",
              "      <td>NaN</td>\n",
              "      <td>A5</td>\n",
              "      <td>B5</td>\n",
              "      <td>C5</td>\n",
              "      <td>D5</td>\n",
              "      <td>NaN</td>\n",
              "      <td>NaN</td>\n",
              "      <td>NaN</td>\n",
              "      <td>NaN</td>\n",
              "    </tr>\n",
              "    <tr>\n",
              "      <th>6</th>\n",
              "      <td>NaN</td>\n",
              "      <td>NaN</td>\n",
              "      <td>NaN</td>\n",
              "      <td>NaN</td>\n",
              "      <td>A6</td>\n",
              "      <td>B6</td>\n",
              "      <td>C6</td>\n",
              "      <td>D6</td>\n",
              "      <td>NaN</td>\n",
              "      <td>NaN</td>\n",
              "      <td>NaN</td>\n",
              "      <td>NaN</td>\n",
              "    </tr>\n",
              "    <tr>\n",
              "      <th>7</th>\n",
              "      <td>NaN</td>\n",
              "      <td>NaN</td>\n",
              "      <td>NaN</td>\n",
              "      <td>NaN</td>\n",
              "      <td>A7</td>\n",
              "      <td>B7</td>\n",
              "      <td>C7</td>\n",
              "      <td>D7</td>\n",
              "      <td>NaN</td>\n",
              "      <td>NaN</td>\n",
              "      <td>NaN</td>\n",
              "      <td>NaN</td>\n",
              "    </tr>\n",
              "    <tr>\n",
              "      <th>8</th>\n",
              "      <td>NaN</td>\n",
              "      <td>NaN</td>\n",
              "      <td>NaN</td>\n",
              "      <td>NaN</td>\n",
              "      <td>NaN</td>\n",
              "      <td>NaN</td>\n",
              "      <td>NaN</td>\n",
              "      <td>NaN</td>\n",
              "      <td>A8</td>\n",
              "      <td>B8</td>\n",
              "      <td>C8</td>\n",
              "      <td>D8</td>\n",
              "    </tr>\n",
              "    <tr>\n",
              "      <th>9</th>\n",
              "      <td>NaN</td>\n",
              "      <td>NaN</td>\n",
              "      <td>NaN</td>\n",
              "      <td>NaN</td>\n",
              "      <td>NaN</td>\n",
              "      <td>NaN</td>\n",
              "      <td>NaN</td>\n",
              "      <td>NaN</td>\n",
              "      <td>A9</td>\n",
              "      <td>B9</td>\n",
              "      <td>C9</td>\n",
              "      <td>D9</td>\n",
              "    </tr>\n",
              "    <tr>\n",
              "      <th>10</th>\n",
              "      <td>NaN</td>\n",
              "      <td>NaN</td>\n",
              "      <td>NaN</td>\n",
              "      <td>NaN</td>\n",
              "      <td>NaN</td>\n",
              "      <td>NaN</td>\n",
              "      <td>NaN</td>\n",
              "      <td>NaN</td>\n",
              "      <td>A10</td>\n",
              "      <td>B10</td>\n",
              "      <td>C10</td>\n",
              "      <td>D10</td>\n",
              "    </tr>\n",
              "    <tr>\n",
              "      <th>11</th>\n",
              "      <td>NaN</td>\n",
              "      <td>NaN</td>\n",
              "      <td>NaN</td>\n",
              "      <td>NaN</td>\n",
              "      <td>NaN</td>\n",
              "      <td>NaN</td>\n",
              "      <td>NaN</td>\n",
              "      <td>NaN</td>\n",
              "      <td>A11</td>\n",
              "      <td>B11</td>\n",
              "      <td>C11</td>\n",
              "      <td>D11</td>\n",
              "    </tr>\n",
              "  </tbody>\n",
              "</table>\n",
              "</div>"
            ],
            "text/plain": [
              "      A    B    C    D    A    B    C    D    A    B    C    D\n",
              "0    A0   B0   C0   D0  NaN  NaN  NaN  NaN  NaN  NaN  NaN  NaN\n",
              "1    A1   B1   C1   D1  NaN  NaN  NaN  NaN  NaN  NaN  NaN  NaN\n",
              "2    A2   B2   C2   D2  NaN  NaN  NaN  NaN  NaN  NaN  NaN  NaN\n",
              "3    A3   B3   C3   D3  NaN  NaN  NaN  NaN  NaN  NaN  NaN  NaN\n",
              "4   NaN  NaN  NaN  NaN   A4   B4   C4   D4  NaN  NaN  NaN  NaN\n",
              "5   NaN  NaN  NaN  NaN   A5   B5   C5   D5  NaN  NaN  NaN  NaN\n",
              "6   NaN  NaN  NaN  NaN   A6   B6   C6   D6  NaN  NaN  NaN  NaN\n",
              "7   NaN  NaN  NaN  NaN   A7   B7   C7   D7  NaN  NaN  NaN  NaN\n",
              "8   NaN  NaN  NaN  NaN  NaN  NaN  NaN  NaN   A8   B8   C8   D8\n",
              "9   NaN  NaN  NaN  NaN  NaN  NaN  NaN  NaN   A9   B9   C9   D9\n",
              "10  NaN  NaN  NaN  NaN  NaN  NaN  NaN  NaN  A10  B10  C10  D10\n",
              "11  NaN  NaN  NaN  NaN  NaN  NaN  NaN  NaN  A11  B11  C11  D11"
            ]
          },
          "execution_count": 9,
          "metadata": {},
          "output_type": "execute_result"
        }
      ],
      "source": [
        "pd.concat([df1,df2,df3],axis=1)"
      ]
    },
    {
      "cell_type": "markdown",
      "metadata": {
        "id": "1BLrN3lUqTna",
        "pycharm": {
          "name": "#%% md\n"
        }
      },
      "source": [
        "_____\n",
        "## Ejemplo DataFrames"
      ]
    },
    {
      "cell_type": "code",
      "execution_count": 10,
      "metadata": {
        "collapsed": true,
        "id": "AJr-qy9LqTna",
        "pycharm": {
          "name": "#%%\n"
        }
      },
      "outputs": [],
      "source": [
        "left = pd.DataFrame({'key': ['K0', 'K1', 'K2', 'K3'],\n",
        "                     'A': ['A0', 'A1', 'A2', 'A3'],\n",
        "                     'B': ['B0', 'B1', 'B2', 'B3']})\n",
        "\n",
        "right = pd.DataFrame({'key': ['K0', 'K1', 'K2', 'K3'],\n",
        "                          'C': ['C0', 'C1', 'C2', 'C3'],\n",
        "                          'D': ['D0', 'D1', 'D2', 'D3']})"
      ]
    },
    {
      "cell_type": "code",
      "execution_count": 11,
      "metadata": {
        "colab": {
          "base_uri": "https://localhost:8080/",
          "height": 175
        },
        "id": "yKI82T07qTnc",
        "outputId": "5482ea50-bb62-4215-9529-c51c0593f4d6",
        "pycharm": {
          "name": "#%%\n"
        }
      },
      "outputs": [
        {
          "data": {
            "text/html": [
              "<div>\n",
              "<style scoped>\n",
              "    .dataframe tbody tr th:only-of-type {\n",
              "        vertical-align: middle;\n",
              "    }\n",
              "\n",
              "    .dataframe tbody tr th {\n",
              "        vertical-align: top;\n",
              "    }\n",
              "\n",
              "    .dataframe thead th {\n",
              "        text-align: right;\n",
              "    }\n",
              "</style>\n",
              "<table border=\"1\" class=\"dataframe\">\n",
              "  <thead>\n",
              "    <tr style=\"text-align: right;\">\n",
              "      <th></th>\n",
              "      <th>key</th>\n",
              "      <th>A</th>\n",
              "      <th>B</th>\n",
              "    </tr>\n",
              "  </thead>\n",
              "  <tbody>\n",
              "    <tr>\n",
              "      <th>0</th>\n",
              "      <td>K0</td>\n",
              "      <td>A0</td>\n",
              "      <td>B0</td>\n",
              "    </tr>\n",
              "    <tr>\n",
              "      <th>1</th>\n",
              "      <td>K1</td>\n",
              "      <td>A1</td>\n",
              "      <td>B1</td>\n",
              "    </tr>\n",
              "    <tr>\n",
              "      <th>2</th>\n",
              "      <td>K2</td>\n",
              "      <td>A2</td>\n",
              "      <td>B2</td>\n",
              "    </tr>\n",
              "    <tr>\n",
              "      <th>3</th>\n",
              "      <td>K3</td>\n",
              "      <td>A3</td>\n",
              "      <td>B3</td>\n",
              "    </tr>\n",
              "  </tbody>\n",
              "</table>\n",
              "</div>"
            ],
            "text/plain": [
              "  key   A   B\n",
              "0  K0  A0  B0\n",
              "1  K1  A1  B1\n",
              "2  K2  A2  B2\n",
              "3  K3  A3  B3"
            ]
          },
          "execution_count": 11,
          "metadata": {},
          "output_type": "execute_result"
        }
      ],
      "source": [
        "left"
      ]
    },
    {
      "cell_type": "code",
      "execution_count": 12,
      "metadata": {
        "colab": {
          "base_uri": "https://localhost:8080/",
          "height": 175
        },
        "id": "p7siP1afqTnd",
        "outputId": "50638d67-f9c7-4de0-a73e-c7b025886340",
        "pycharm": {
          "name": "#%%\n"
        }
      },
      "outputs": [
        {
          "data": {
            "text/html": [
              "<div>\n",
              "<style scoped>\n",
              "    .dataframe tbody tr th:only-of-type {\n",
              "        vertical-align: middle;\n",
              "    }\n",
              "\n",
              "    .dataframe tbody tr th {\n",
              "        vertical-align: top;\n",
              "    }\n",
              "\n",
              "    .dataframe thead th {\n",
              "        text-align: right;\n",
              "    }\n",
              "</style>\n",
              "<table border=\"1\" class=\"dataframe\">\n",
              "  <thead>\n",
              "    <tr style=\"text-align: right;\">\n",
              "      <th></th>\n",
              "      <th>key</th>\n",
              "      <th>C</th>\n",
              "      <th>D</th>\n",
              "    </tr>\n",
              "  </thead>\n",
              "  <tbody>\n",
              "    <tr>\n",
              "      <th>0</th>\n",
              "      <td>K0</td>\n",
              "      <td>C0</td>\n",
              "      <td>D0</td>\n",
              "    </tr>\n",
              "    <tr>\n",
              "      <th>1</th>\n",
              "      <td>K1</td>\n",
              "      <td>C1</td>\n",
              "      <td>D1</td>\n",
              "    </tr>\n",
              "    <tr>\n",
              "      <th>2</th>\n",
              "      <td>K2</td>\n",
              "      <td>C2</td>\n",
              "      <td>D2</td>\n",
              "    </tr>\n",
              "    <tr>\n",
              "      <th>3</th>\n",
              "      <td>K3</td>\n",
              "      <td>C3</td>\n",
              "      <td>D3</td>\n",
              "    </tr>\n",
              "  </tbody>\n",
              "</table>\n",
              "</div>"
            ],
            "text/plain": [
              "  key   C   D\n",
              "0  K0  C0  D0\n",
              "1  K1  C1  D1\n",
              "2  K2  C2  D2\n",
              "3  K3  C3  D3"
            ]
          },
          "execution_count": 12,
          "metadata": {},
          "output_type": "execute_result"
        }
      ],
      "source": [
        "right"
      ]
    },
    {
      "cell_type": "markdown",
      "metadata": {
        "id": "c2fkNnwVqTne",
        "pycharm": {
          "name": "#%% md\n"
        }
      },
      "source": [
        "___"
      ]
    },
    {
      "cell_type": "markdown",
      "metadata": {
        "id": "Gvr-j1FCqTne",
        "pycharm": {
          "name": "#%% md\n"
        }
      },
      "source": [
        "## Merging\n",
        "\n",
        "La función **merge** le permite unir DataFrames usando una lógica similar a la de fusionar tablas SQL. Por ejemplo:"
      ]
    },
    {
      "cell_type": "markdown",
      "metadata": {
        "id": "UW3TqeAmrc7m"
      },
      "source": [
        "![image.png](data:image/png;base64,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)"
      ]
    },
    {
      "cell_type": "markdown",
      "metadata": {},
      "source": [
        "### → Inner Join (Intersection). Me quedo con los registros en común de los dos datasets.\n",
        "### → Outer Join (Union). Me quedo con todos los registros de los dos datasets.\n",
        "### → Left Join. Me quedo con los registros del dataset izquierdo y con la información de las columnas correspondientes del dataset derecho.\n",
        "### → Right Join. Me quedo con los registros del dataset derecho y con la información de las columnas correspondientes del dataset izquierdo."
      ]
    },
    {
      "cell_type": "code",
      "execution_count": 13,
      "metadata": {
        "colab": {
          "base_uri": "https://localhost:8080/",
          "height": 175
        },
        "id": "4XQy85Z2qTnf",
        "outputId": "6e6af6da-ce25-4831-ed0e-cabd72ac4c8c",
        "pycharm": {
          "name": "#%%\n"
        }
      },
      "outputs": [
        {
          "data": {
            "text/html": [
              "<div>\n",
              "<style scoped>\n",
              "    .dataframe tbody tr th:only-of-type {\n",
              "        vertical-align: middle;\n",
              "    }\n",
              "\n",
              "    .dataframe tbody tr th {\n",
              "        vertical-align: top;\n",
              "    }\n",
              "\n",
              "    .dataframe thead th {\n",
              "        text-align: right;\n",
              "    }\n",
              "</style>\n",
              "<table border=\"1\" class=\"dataframe\">\n",
              "  <thead>\n",
              "    <tr style=\"text-align: right;\">\n",
              "      <th></th>\n",
              "      <th>key</th>\n",
              "      <th>A</th>\n",
              "      <th>B</th>\n",
              "      <th>C</th>\n",
              "      <th>D</th>\n",
              "    </tr>\n",
              "  </thead>\n",
              "  <tbody>\n",
              "    <tr>\n",
              "      <th>0</th>\n",
              "      <td>K0</td>\n",
              "      <td>A0</td>\n",
              "      <td>B0</td>\n",
              "      <td>C0</td>\n",
              "      <td>D0</td>\n",
              "    </tr>\n",
              "    <tr>\n",
              "      <th>1</th>\n",
              "      <td>K1</td>\n",
              "      <td>A1</td>\n",
              "      <td>B1</td>\n",
              "      <td>C1</td>\n",
              "      <td>D1</td>\n",
              "    </tr>\n",
              "    <tr>\n",
              "      <th>2</th>\n",
              "      <td>K2</td>\n",
              "      <td>A2</td>\n",
              "      <td>B2</td>\n",
              "      <td>C2</td>\n",
              "      <td>D2</td>\n",
              "    </tr>\n",
              "    <tr>\n",
              "      <th>3</th>\n",
              "      <td>K3</td>\n",
              "      <td>A3</td>\n",
              "      <td>B3</td>\n",
              "      <td>C3</td>\n",
              "      <td>D3</td>\n",
              "    </tr>\n",
              "  </tbody>\n",
              "</table>\n",
              "</div>"
            ],
            "text/plain": [
              "  key   A   B   C   D\n",
              "0  K0  A0  B0  C0  D0\n",
              "1  K1  A1  B1  C1  D1\n",
              "2  K2  A2  B2  C2  D2\n",
              "3  K3  A3  B3  C3  D3"
            ]
          },
          "execution_count": 13,
          "metadata": {},
          "output_type": "execute_result"
        }
      ],
      "source": [
        "pd.merge(left,right,how='inner',on='key')"
      ]
    },
    {
      "cell_type": "markdown",
      "metadata": {
        "id": "ES0wSJyWqTnf",
        "pycharm": {
          "name": "#%% md\n"
        }
      },
      "source": [
        "Or to show a more complicated example:"
      ]
    },
    {
      "cell_type": "code",
      "execution_count": 14,
      "metadata": {
        "collapsed": true,
        "id": "Swf1cUqPqTng",
        "pycharm": {
          "name": "#%%\n"
        }
      },
      "outputs": [],
      "source": [
        "left = pd.DataFrame({'key1': ['K0', 'K0', 'K1', 'K2'],\n",
        "                     'key2': ['K0', 'K1', 'K0', 'K1'],\n",
        "                        'A': ['A0', 'A1', 'A2', 'A3'],\n",
        "                        'B': ['B0', 'B1', 'B2', 'B3']})\n",
        "\n",
        "right = pd.DataFrame({'key1': ['K0', 'K1', 'K1', 'K2'],\n",
        "                               'key2': ['K0', 'K0', 'K0', 'K0'],\n",
        "                                  'C': ['C0', 'C1', 'C2', 'C3'],\n",
        "                                  'D': ['D0', 'D1', 'D2', 'D3']})"
      ]
    },
    {
      "cell_type": "code",
      "execution_count": 15,
      "metadata": {
        "colab": {
          "base_uri": "https://localhost:8080/",
          "height": 143
        },
        "id": "pQ1pUfNcqTng",
        "outputId": "c2c6b44c-88e1-4aaa-81fb-5cce61963393",
        "pycharm": {
          "name": "#%%\n"
        }
      },
      "outputs": [
        {
          "data": {
            "text/html": [
              "<div>\n",
              "<style scoped>\n",
              "    .dataframe tbody tr th:only-of-type {\n",
              "        vertical-align: middle;\n",
              "    }\n",
              "\n",
              "    .dataframe tbody tr th {\n",
              "        vertical-align: top;\n",
              "    }\n",
              "\n",
              "    .dataframe thead th {\n",
              "        text-align: right;\n",
              "    }\n",
              "</style>\n",
              "<table border=\"1\" class=\"dataframe\">\n",
              "  <thead>\n",
              "    <tr style=\"text-align: right;\">\n",
              "      <th></th>\n",
              "      <th>key1</th>\n",
              "      <th>key2</th>\n",
              "      <th>A</th>\n",
              "      <th>B</th>\n",
              "      <th>C</th>\n",
              "      <th>D</th>\n",
              "    </tr>\n",
              "  </thead>\n",
              "  <tbody>\n",
              "    <tr>\n",
              "      <th>0</th>\n",
              "      <td>K0</td>\n",
              "      <td>K0</td>\n",
              "      <td>A0</td>\n",
              "      <td>B0</td>\n",
              "      <td>C0</td>\n",
              "      <td>D0</td>\n",
              "    </tr>\n",
              "    <tr>\n",
              "      <th>1</th>\n",
              "      <td>K1</td>\n",
              "      <td>K0</td>\n",
              "      <td>A2</td>\n",
              "      <td>B2</td>\n",
              "      <td>C1</td>\n",
              "      <td>D1</td>\n",
              "    </tr>\n",
              "    <tr>\n",
              "      <th>2</th>\n",
              "      <td>K1</td>\n",
              "      <td>K0</td>\n",
              "      <td>A2</td>\n",
              "      <td>B2</td>\n",
              "      <td>C2</td>\n",
              "      <td>D2</td>\n",
              "    </tr>\n",
              "  </tbody>\n",
              "</table>\n",
              "</div>"
            ],
            "text/plain": [
              "  key1 key2   A   B   C   D\n",
              "0   K0   K0  A0  B0  C0  D0\n",
              "1   K1   K0  A2  B2  C1  D1\n",
              "2   K1   K0  A2  B2  C2  D2"
            ]
          },
          "execution_count": 15,
          "metadata": {},
          "output_type": "execute_result"
        }
      ],
      "source": [
        "pd.merge(left, right, on=['key1', 'key2'])"
      ]
    },
    {
      "cell_type": "code",
      "execution_count": 16,
      "metadata": {
        "colab": {
          "base_uri": "https://localhost:8080/",
          "height": 237
        },
        "id": "rV0bT8iUqTnh",
        "outputId": "3e11e9ce-c30d-43ee-8a04-2a77b597b790",
        "pycharm": {
          "name": "#%%\n"
        }
      },
      "outputs": [
        {
          "data": {
            "text/html": [
              "<div>\n",
              "<style scoped>\n",
              "    .dataframe tbody tr th:only-of-type {\n",
              "        vertical-align: middle;\n",
              "    }\n",
              "\n",
              "    .dataframe tbody tr th {\n",
              "        vertical-align: top;\n",
              "    }\n",
              "\n",
              "    .dataframe thead th {\n",
              "        text-align: right;\n",
              "    }\n",
              "</style>\n",
              "<table border=\"1\" class=\"dataframe\">\n",
              "  <thead>\n",
              "    <tr style=\"text-align: right;\">\n",
              "      <th></th>\n",
              "      <th>key1</th>\n",
              "      <th>key2</th>\n",
              "      <th>A</th>\n",
              "      <th>B</th>\n",
              "      <th>C</th>\n",
              "      <th>D</th>\n",
              "    </tr>\n",
              "  </thead>\n",
              "  <tbody>\n",
              "    <tr>\n",
              "      <th>0</th>\n",
              "      <td>K0</td>\n",
              "      <td>K0</td>\n",
              "      <td>A0</td>\n",
              "      <td>B0</td>\n",
              "      <td>C0</td>\n",
              "      <td>D0</td>\n",
              "    </tr>\n",
              "    <tr>\n",
              "      <th>1</th>\n",
              "      <td>K0</td>\n",
              "      <td>K1</td>\n",
              "      <td>A1</td>\n",
              "      <td>B1</td>\n",
              "      <td>NaN</td>\n",
              "      <td>NaN</td>\n",
              "    </tr>\n",
              "    <tr>\n",
              "      <th>2</th>\n",
              "      <td>K1</td>\n",
              "      <td>K0</td>\n",
              "      <td>A2</td>\n",
              "      <td>B2</td>\n",
              "      <td>C1</td>\n",
              "      <td>D1</td>\n",
              "    </tr>\n",
              "    <tr>\n",
              "      <th>3</th>\n",
              "      <td>K1</td>\n",
              "      <td>K0</td>\n",
              "      <td>A2</td>\n",
              "      <td>B2</td>\n",
              "      <td>C2</td>\n",
              "      <td>D2</td>\n",
              "    </tr>\n",
              "    <tr>\n",
              "      <th>4</th>\n",
              "      <td>K2</td>\n",
              "      <td>K1</td>\n",
              "      <td>A3</td>\n",
              "      <td>B3</td>\n",
              "      <td>NaN</td>\n",
              "      <td>NaN</td>\n",
              "    </tr>\n",
              "    <tr>\n",
              "      <th>5</th>\n",
              "      <td>K2</td>\n",
              "      <td>K0</td>\n",
              "      <td>NaN</td>\n",
              "      <td>NaN</td>\n",
              "      <td>C3</td>\n",
              "      <td>D3</td>\n",
              "    </tr>\n",
              "  </tbody>\n",
              "</table>\n",
              "</div>"
            ],
            "text/plain": [
              "  key1 key2    A    B    C    D\n",
              "0   K0   K0   A0   B0   C0   D0\n",
              "1   K0   K1   A1   B1  NaN  NaN\n",
              "2   K1   K0   A2   B2   C1   D1\n",
              "3   K1   K0   A2   B2   C2   D2\n",
              "4   K2   K1   A3   B3  NaN  NaN\n",
              "5   K2   K0  NaN  NaN   C3   D3"
            ]
          },
          "execution_count": 16,
          "metadata": {},
          "output_type": "execute_result"
        }
      ],
      "source": [
        "pd.merge(left, right, how='outer', on=['key1', 'key2'])"
      ]
    },
    {
      "cell_type": "code",
      "execution_count": 17,
      "metadata": {
        "colab": {
          "base_uri": "https://localhost:8080/",
          "height": 175
        },
        "id": "-3Ofe4SOqTnh",
        "outputId": "e6652d10-45b3-4da3-c806-54101d69d1b6",
        "pycharm": {
          "name": "#%%\n"
        }
      },
      "outputs": [
        {
          "data": {
            "text/html": [
              "<div>\n",
              "<style scoped>\n",
              "    .dataframe tbody tr th:only-of-type {\n",
              "        vertical-align: middle;\n",
              "    }\n",
              "\n",
              "    .dataframe tbody tr th {\n",
              "        vertical-align: top;\n",
              "    }\n",
              "\n",
              "    .dataframe thead th {\n",
              "        text-align: right;\n",
              "    }\n",
              "</style>\n",
              "<table border=\"1\" class=\"dataframe\">\n",
              "  <thead>\n",
              "    <tr style=\"text-align: right;\">\n",
              "      <th></th>\n",
              "      <th>key1</th>\n",
              "      <th>key2</th>\n",
              "      <th>A</th>\n",
              "      <th>B</th>\n",
              "      <th>C</th>\n",
              "      <th>D</th>\n",
              "    </tr>\n",
              "  </thead>\n",
              "  <tbody>\n",
              "    <tr>\n",
              "      <th>0</th>\n",
              "      <td>K0</td>\n",
              "      <td>K0</td>\n",
              "      <td>A0</td>\n",
              "      <td>B0</td>\n",
              "      <td>C0</td>\n",
              "      <td>D0</td>\n",
              "    </tr>\n",
              "    <tr>\n",
              "      <th>1</th>\n",
              "      <td>K1</td>\n",
              "      <td>K0</td>\n",
              "      <td>A2</td>\n",
              "      <td>B2</td>\n",
              "      <td>C1</td>\n",
              "      <td>D1</td>\n",
              "    </tr>\n",
              "    <tr>\n",
              "      <th>2</th>\n",
              "      <td>K1</td>\n",
              "      <td>K0</td>\n",
              "      <td>A2</td>\n",
              "      <td>B2</td>\n",
              "      <td>C2</td>\n",
              "      <td>D2</td>\n",
              "    </tr>\n",
              "    <tr>\n",
              "      <th>3</th>\n",
              "      <td>K2</td>\n",
              "      <td>K0</td>\n",
              "      <td>NaN</td>\n",
              "      <td>NaN</td>\n",
              "      <td>C3</td>\n",
              "      <td>D3</td>\n",
              "    </tr>\n",
              "  </tbody>\n",
              "</table>\n",
              "</div>"
            ],
            "text/plain": [
              "  key1 key2    A    B   C   D\n",
              "0   K0   K0   A0   B0  C0  D0\n",
              "1   K1   K0   A2   B2  C1  D1\n",
              "2   K1   K0   A2   B2  C2  D2\n",
              "3   K2   K0  NaN  NaN  C3  D3"
            ]
          },
          "execution_count": 17,
          "metadata": {},
          "output_type": "execute_result"
        }
      ],
      "source": [
        "pd.merge(left, right, how='right', on=['key1', 'key2'])"
      ]
    },
    {
      "cell_type": "code",
      "execution_count": 18,
      "metadata": {
        "colab": {
          "base_uri": "https://localhost:8080/",
          "height": 206
        },
        "id": "FrglcJwqqTni",
        "outputId": "3e907e39-497e-46c9-cec3-3fce3dfb7abb",
        "pycharm": {
          "name": "#%%\n"
        }
      },
      "outputs": [
        {
          "data": {
            "text/html": [
              "<div>\n",
              "<style scoped>\n",
              "    .dataframe tbody tr th:only-of-type {\n",
              "        vertical-align: middle;\n",
              "    }\n",
              "\n",
              "    .dataframe tbody tr th {\n",
              "        vertical-align: top;\n",
              "    }\n",
              "\n",
              "    .dataframe thead th {\n",
              "        text-align: right;\n",
              "    }\n",
              "</style>\n",
              "<table border=\"1\" class=\"dataframe\">\n",
              "  <thead>\n",
              "    <tr style=\"text-align: right;\">\n",
              "      <th></th>\n",
              "      <th>key1</th>\n",
              "      <th>key2</th>\n",
              "      <th>A</th>\n",
              "      <th>B</th>\n",
              "      <th>C</th>\n",
              "      <th>D</th>\n",
              "    </tr>\n",
              "  </thead>\n",
              "  <tbody>\n",
              "    <tr>\n",
              "      <th>0</th>\n",
              "      <td>K0</td>\n",
              "      <td>K0</td>\n",
              "      <td>A0</td>\n",
              "      <td>B0</td>\n",
              "      <td>C0</td>\n",
              "      <td>D0</td>\n",
              "    </tr>\n",
              "    <tr>\n",
              "      <th>1</th>\n",
              "      <td>K0</td>\n",
              "      <td>K1</td>\n",
              "      <td>A1</td>\n",
              "      <td>B1</td>\n",
              "      <td>NaN</td>\n",
              "      <td>NaN</td>\n",
              "    </tr>\n",
              "    <tr>\n",
              "      <th>2</th>\n",
              "      <td>K1</td>\n",
              "      <td>K0</td>\n",
              "      <td>A2</td>\n",
              "      <td>B2</td>\n",
              "      <td>C1</td>\n",
              "      <td>D1</td>\n",
              "    </tr>\n",
              "    <tr>\n",
              "      <th>3</th>\n",
              "      <td>K1</td>\n",
              "      <td>K0</td>\n",
              "      <td>A2</td>\n",
              "      <td>B2</td>\n",
              "      <td>C2</td>\n",
              "      <td>D2</td>\n",
              "    </tr>\n",
              "    <tr>\n",
              "      <th>4</th>\n",
              "      <td>K2</td>\n",
              "      <td>K1</td>\n",
              "      <td>A3</td>\n",
              "      <td>B3</td>\n",
              "      <td>NaN</td>\n",
              "      <td>NaN</td>\n",
              "    </tr>\n",
              "  </tbody>\n",
              "</table>\n",
              "</div>"
            ],
            "text/plain": [
              "  key1 key2   A   B    C    D\n",
              "0   K0   K0  A0  B0   C0   D0\n",
              "1   K0   K1  A1  B1  NaN  NaN\n",
              "2   K1   K0  A2  B2   C1   D1\n",
              "3   K1   K0  A2  B2   C2   D2\n",
              "4   K2   K1  A3  B3  NaN  NaN"
            ]
          },
          "execution_count": 18,
          "metadata": {},
          "output_type": "execute_result"
        }
      ],
      "source": [
        "pd.merge(left, right, how='left', on=['key1', 'key2'])"
      ]
    },
    {
      "cell_type": "markdown",
      "metadata": {},
      "source": [
        "___"
      ]
    },
    {
      "cell_type": "markdown",
      "metadata": {
        "id": "YDXs90MGqTni",
        "pycharm": {
          "name": "#%% md\n"
        }
      },
      "source": [
        "## Joining\n",
        "La unión es un método conveniente para combinar las columnas de dos DataFrames potencialmente indexados de manera diferente en un único DataFrame de resultado."
      ]
    },
    {
      "cell_type": "code",
      "execution_count": 19,
      "metadata": {
        "collapsed": true,
        "id": "vrkdogPQqTni",
        "pycharm": {
          "name": "#%%\n"
        }
      },
      "outputs": [],
      "source": [
        "left = pd.DataFrame({'A': ['A0', 'A1', 'A2'],\n",
        "                     'B': ['B0', 'B1', 'B2']},\n",
        "                      index=['K0', 'K1', 'K2'])\n",
        "\n",
        "right = pd.DataFrame({'C': ['C0', 'C2', 'C3'],\n",
        "                    'D': ['D0', 'D2', 'D3']},\n",
        "                      index=['K0', 'K2', 'K3'])"
      ]
    },
    {
      "cell_type": "code",
      "execution_count": 20,
      "metadata": {
        "colab": {
          "base_uri": "https://localhost:8080/",
          "height": 143
        },
        "id": "7QvsMaFLqTnj",
        "outputId": "f0fc20a0-59f9-42f6-cfee-c545a0f1113d",
        "pycharm": {
          "name": "#%%\n"
        }
      },
      "outputs": [
        {
          "data": {
            "text/html": [
              "<div>\n",
              "<style scoped>\n",
              "    .dataframe tbody tr th:only-of-type {\n",
              "        vertical-align: middle;\n",
              "    }\n",
              "\n",
              "    .dataframe tbody tr th {\n",
              "        vertical-align: top;\n",
              "    }\n",
              "\n",
              "    .dataframe thead th {\n",
              "        text-align: right;\n",
              "    }\n",
              "</style>\n",
              "<table border=\"1\" class=\"dataframe\">\n",
              "  <thead>\n",
              "    <tr style=\"text-align: right;\">\n",
              "      <th></th>\n",
              "      <th>A</th>\n",
              "      <th>B</th>\n",
              "      <th>C</th>\n",
              "      <th>D</th>\n",
              "    </tr>\n",
              "  </thead>\n",
              "  <tbody>\n",
              "    <tr>\n",
              "      <th>K0</th>\n",
              "      <td>A0</td>\n",
              "      <td>B0</td>\n",
              "      <td>C0</td>\n",
              "      <td>D0</td>\n",
              "    </tr>\n",
              "    <tr>\n",
              "      <th>K1</th>\n",
              "      <td>A1</td>\n",
              "      <td>B1</td>\n",
              "      <td>NaN</td>\n",
              "      <td>NaN</td>\n",
              "    </tr>\n",
              "    <tr>\n",
              "      <th>K2</th>\n",
              "      <td>A2</td>\n",
              "      <td>B2</td>\n",
              "      <td>C2</td>\n",
              "      <td>D2</td>\n",
              "    </tr>\n",
              "  </tbody>\n",
              "</table>\n",
              "</div>"
            ],
            "text/plain": [
              "     A   B    C    D\n",
              "K0  A0  B0   C0   D0\n",
              "K1  A1  B1  NaN  NaN\n",
              "K2  A2  B2   C2   D2"
            ]
          },
          "execution_count": 20,
          "metadata": {},
          "output_type": "execute_result"
        }
      ],
      "source": [
        "left.join(right)"
      ]
    },
    {
      "cell_type": "code",
      "execution_count": 21,
      "metadata": {
        "colab": {
          "base_uri": "https://localhost:8080/",
          "height": 175
        },
        "id": "LciDiHkTqTnk",
        "outputId": "33b3c139-114e-4053-e6c7-96e172727e71",
        "pycharm": {
          "name": "#%%\n"
        }
      },
      "outputs": [
        {
          "data": {
            "text/html": [
              "<div>\n",
              "<style scoped>\n",
              "    .dataframe tbody tr th:only-of-type {\n",
              "        vertical-align: middle;\n",
              "    }\n",
              "\n",
              "    .dataframe tbody tr th {\n",
              "        vertical-align: top;\n",
              "    }\n",
              "\n",
              "    .dataframe thead th {\n",
              "        text-align: right;\n",
              "    }\n",
              "</style>\n",
              "<table border=\"1\" class=\"dataframe\">\n",
              "  <thead>\n",
              "    <tr style=\"text-align: right;\">\n",
              "      <th></th>\n",
              "      <th>A</th>\n",
              "      <th>B</th>\n",
              "      <th>C</th>\n",
              "      <th>D</th>\n",
              "    </tr>\n",
              "  </thead>\n",
              "  <tbody>\n",
              "    <tr>\n",
              "      <th>K0</th>\n",
              "      <td>A0</td>\n",
              "      <td>B0</td>\n",
              "      <td>C0</td>\n",
              "      <td>D0</td>\n",
              "    </tr>\n",
              "    <tr>\n",
              "      <th>K1</th>\n",
              "      <td>A1</td>\n",
              "      <td>B1</td>\n",
              "      <td>NaN</td>\n",
              "      <td>NaN</td>\n",
              "    </tr>\n",
              "    <tr>\n",
              "      <th>K2</th>\n",
              "      <td>A2</td>\n",
              "      <td>B2</td>\n",
              "      <td>C2</td>\n",
              "      <td>D2</td>\n",
              "    </tr>\n",
              "    <tr>\n",
              "      <th>K3</th>\n",
              "      <td>NaN</td>\n",
              "      <td>NaN</td>\n",
              "      <td>C3</td>\n",
              "      <td>D3</td>\n",
              "    </tr>\n",
              "  </tbody>\n",
              "</table>\n",
              "</div>"
            ],
            "text/plain": [
              "      A    B    C    D\n",
              "K0   A0   B0   C0   D0\n",
              "K1   A1   B1  NaN  NaN\n",
              "K2   A2   B2   C2   D2\n",
              "K3  NaN  NaN   C3   D3"
            ]
          },
          "execution_count": 21,
          "metadata": {},
          "output_type": "execute_result"
        }
      ],
      "source": [
        "left.join(right, how='outer')"
      ]
    }
  ],
  "metadata": {
    "colab": {
      "provenance": []
    },
    "kernelspec": {
      "display_name": "Python 3",
      "language": "python",
      "name": "python3"
    },
    "language_info": {
      "codemirror_mode": {
        "name": "ipython",
        "version": 3
      },
      "file_extension": ".py",
      "mimetype": "text/x-python",
      "name": "python",
      "nbconvert_exporter": "python",
      "pygments_lexer": "ipython3",
      "version": "3.11.4"
    }
  },
  "nbformat": 4,
  "nbformat_minor": 0
}
