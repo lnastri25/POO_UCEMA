{
 "cells": [
  {
   "cell_type": "markdown",
   "metadata": {},
   "source": [
    "# Gregors\n",
    "\n",
    "## Context\n",
    "Gregors is a B2B2C product and partners with lenders and background screening agencies to help\n",
    "complete Income and Employment verification needs.\n",
    "As part of this process the end user accesses either Gregors’s widget embedded in our client’s portal or an order form sent via email or SMS, where they do the following-\n",
    "\n",
    "1. Search for their employer that they work at currently\n",
    "\n",
    "2. When a user starts typing we use our internal database of employers; if the employer is\n",
    "not found, the user is presented with google API results (first two rows) or manual entry\n",
    "(last row), see screenshot below.\n",
    "\n",
    "3. Once a user selects an employer, they can either see the Payroll provider login screen\n",
    "(mapped employers) or see a list of payroll providers.\n",
    "\n",
    "4. Once a user submits their credentials, they end in either Success or Error when user is\n",
    "let go\n",
    "\n",
    "| variable                                | sample                      | description                                                                                                  |   |   |\n",
    "|-----------------------------------------|-----------------------------|--------------------------------------------------------------------------------------------------------------|---|---|\n",
    "| Client Domain                           | A                           | Client Name                                                                                                  |   |   |\n",
    "| User Phone Timezone                     | Unknown                     | User device time zone (Unknown: we failed to capture the timezone)                                           |   |   |\n",
    "| Created At                              | 2023-03-27T20:44:47.283091Z | Date in which the order was created                                                                          |   |   |\n",
    "| Email Clicks                            |                           0 | Clicks in email links                                                                                        |   |   |\n",
    "| Email Opens                             |                           0 | Emails that were opened                                                                                      |   |   |\n",
    "| Emails                                  |                           4 | Emails sent                                                                                                  |   |   |\n",
    "| Expired                                 |                           1 | Number of expired orders                                                                                     |   |   |\n",
    "| Order Funnel State                      | 2-Notification sent         | Order state                                                                                                  |   |   |\n",
    "| Sms                                     |                           0 | SMS sent                                                                                                     |   |   |\n",
    "| Sms Clicks                              |                           0 | SMS clicked                                                                                                  |   |   |\n",
    "| Sms Opens                               |                           0 | SMS opened                                                                                                   |   |   |\n",
    "| Platforms Order Group - Order → Manager | masked@order_manager.org    | Email of the order manager                                                                                   |   |   |\n",
    "| Platforms Order Group - Order → Source  | internal                    |                                                                                                              |   |   |\n",
    "| order_has_user_email                    |             TRUE            | If the user´s email was present in the order form (this is used to contact the user and ask them to verify). |   |   |\n",
    "| order_has_user_phone                    |            FALSE            | If the user´s phone was present in the order form (this is used to contact the user and ask them to verify). |   |   |\n",
    "\n",
    "\n",
    "The variable “Order Funnel State” tracks the following actions from users:\n",
    "1. Created: order gets created\n",
    "2. Notification sent : a notification is sent to the user that wants to verify their information\n",
    "3. Notification opened: the notification is opened by the user\n",
    "4. Notification click: the link within the email/message is clicked (this link opens our widget)\n",
    "5. Widget loaded: the widget is loaded by the user\n",
    "6. Employer selected: the user searches and selects an employer\n",
    "7. Viewed provider login: user views the provider login page\n",
    "8. Submitted login: user submits their credentials\n",
    "9. Completed: user is able to successfully login to their employer and verify their information\n",
    "\n",
    "\n",
    "## 1.1) Problem Statement\n",
    "Our north star metric is “Conversion Rate” which is the ratio of users that successfully complete a verification (Order Funnel State = “9-Completed”).\n",
    "\n",
    "**One of our clients reaches out complaining about a drop in CR and wants recomendations on how to improve it.**\n",
    "\n",
    "## 1.2) Task\n",
    "Analyze the following the dataset and:\n",
    "* Figure out if conversion rate has in fact dropped and, if such, explain why it dropped\n",
    "* Provide recommendations on how to improve conversion rate\n",
    "\n",
    "## 1.3) Deliverables\n",
    "Presentation with findings and recommendations\n",
    "Proposal on how to prevent this from happening in the future\n"
   ]
  },
  {
   "cell_type": "markdown",
   "metadata": {},
   "source": [
    "___"
   ]
  },
  {
   "cell_type": "markdown",
   "metadata": {},
   "source": [
    "## Dataset\n",
    "\n",
    "https://docs.google.com/spreadsheets/d/1appaNdbUMIMlA_j6bgnlCWURon7TODALquTU-UyGmoY/edit?usp=sharing\n"
   ]
  },
  {
   "cell_type": "code",
   "execution_count": 55,
   "metadata": {},
   "outputs": [],
   "source": [
    "#autoreload\n",
    "import pandas as pd\n",
    "import numpy as np\n",
    "import openpyxl\n",
    "import matplotlib.pyplot as plt\n",
    "import seaborn as sns\n",
    "import pytz"
   ]
  },
  {
   "cell_type": "code",
   "execution_count": 56,
   "metadata": {},
   "outputs": [
    {
     "data": {
      "text/html": [
       "<div>\n",
       "<style scoped>\n",
       "    .dataframe tbody tr th:only-of-type {\n",
       "        vertical-align: middle;\n",
       "    }\n",
       "\n",
       "    .dataframe tbody tr th {\n",
       "        vertical-align: top;\n",
       "    }\n",
       "\n",
       "    .dataframe thead th {\n",
       "        text-align: right;\n",
       "    }\n",
       "</style>\n",
       "<table border=\"1\" class=\"dataframe\">\n",
       "  <thead>\n",
       "    <tr style=\"text-align: right;\">\n",
       "      <th></th>\n",
       "      <th>Client Domain</th>\n",
       "      <th>User Phone Timezone</th>\n",
       "      <th>Created At</th>\n",
       "      <th>Email Clicks</th>\n",
       "      <th>Email Opens</th>\n",
       "      <th>Emails</th>\n",
       "      <th>Expired</th>\n",
       "      <th>Order Funnel State</th>\n",
       "      <th>Sms</th>\n",
       "      <th>Sms Clicks</th>\n",
       "      <th>Sms Opens</th>\n",
       "      <th>Manager</th>\n",
       "      <th>Source</th>\n",
       "      <th>order_has_user_email</th>\n",
       "      <th>order_has_user_phone</th>\n",
       "    </tr>\n",
       "  </thead>\n",
       "  <tbody>\n",
       "    <tr>\n",
       "      <th>0</th>\n",
       "      <td>A</td>\n",
       "      <td>Unknown</td>\n",
       "      <td>2023-03-27T20:44:47.283091Z</td>\n",
       "      <td>0</td>\n",
       "      <td>0</td>\n",
       "      <td>4.0</td>\n",
       "      <td>1</td>\n",
       "      <td>2-Notification sent</td>\n",
       "      <td>0.0</td>\n",
       "      <td>0</td>\n",
       "      <td>0</td>\n",
       "      <td>masked@order_manager.org</td>\n",
       "      <td>internal</td>\n",
       "      <td>True</td>\n",
       "      <td>False</td>\n",
       "    </tr>\n",
       "    <tr>\n",
       "      <th>1</th>\n",
       "      <td>A</td>\n",
       "      <td>Unknown</td>\n",
       "      <td>2022-12-02T15:16:41.600287Z</td>\n",
       "      <td>0</td>\n",
       "      <td>3</td>\n",
       "      <td>4.0</td>\n",
       "      <td>1</td>\n",
       "      <td>3-Notification opened</td>\n",
       "      <td>0.0</td>\n",
       "      <td>0</td>\n",
       "      <td>0</td>\n",
       "      <td>masked@order_manager.org</td>\n",
       "      <td>internal</td>\n",
       "      <td>True</td>\n",
       "      <td>False</td>\n",
       "    </tr>\n",
       "    <tr>\n",
       "      <th>2</th>\n",
       "      <td>A</td>\n",
       "      <td>Unknown</td>\n",
       "      <td>2023-02-02T14:20:01.939494Z</td>\n",
       "      <td>1</td>\n",
       "      <td>1</td>\n",
       "      <td>1.0</td>\n",
       "      <td>0</td>\n",
       "      <td>8-Submitted login</td>\n",
       "      <td>0.0</td>\n",
       "      <td>0</td>\n",
       "      <td>0</td>\n",
       "      <td>masked@order_manager.org</td>\n",
       "      <td>internal</td>\n",
       "      <td>True</td>\n",
       "      <td>False</td>\n",
       "    </tr>\n",
       "    <tr>\n",
       "      <th>3</th>\n",
       "      <td>A</td>\n",
       "      <td>Unknown</td>\n",
       "      <td>2023-03-10T14:14:12.105397Z</td>\n",
       "      <td>3</td>\n",
       "      <td>4</td>\n",
       "      <td>4.0</td>\n",
       "      <td>1</td>\n",
       "      <td>5-Widget loaded</td>\n",
       "      <td>0.0</td>\n",
       "      <td>0</td>\n",
       "      <td>0</td>\n",
       "      <td>masked@order_manager.org</td>\n",
       "      <td>internal</td>\n",
       "      <td>True</td>\n",
       "      <td>False</td>\n",
       "    </tr>\n",
       "    <tr>\n",
       "      <th>4</th>\n",
       "      <td>A</td>\n",
       "      <td>Unknown</td>\n",
       "      <td>2023-03-03T22:02:48.992561Z</td>\n",
       "      <td>1</td>\n",
       "      <td>1</td>\n",
       "      <td>1.0</td>\n",
       "      <td>0</td>\n",
       "      <td>8-Submitted login</td>\n",
       "      <td>0.0</td>\n",
       "      <td>0</td>\n",
       "      <td>0</td>\n",
       "      <td>masked@order_manager.org</td>\n",
       "      <td>internal</td>\n",
       "      <td>True</td>\n",
       "      <td>False</td>\n",
       "    </tr>\n",
       "    <tr>\n",
       "      <th>...</th>\n",
       "      <td>...</td>\n",
       "      <td>...</td>\n",
       "      <td>...</td>\n",
       "      <td>...</td>\n",
       "      <td>...</td>\n",
       "      <td>...</td>\n",
       "      <td>...</td>\n",
       "      <td>...</td>\n",
       "      <td>...</td>\n",
       "      <td>...</td>\n",
       "      <td>...</td>\n",
       "      <td>...</td>\n",
       "      <td>...</td>\n",
       "      <td>...</td>\n",
       "      <td>...</td>\n",
       "    </tr>\n",
       "    <tr>\n",
       "      <th>4085</th>\n",
       "      <td>A</td>\n",
       "      <td>Unknown</td>\n",
       "      <td>2022-07-08T21:42:07.444375Z</td>\n",
       "      <td>2</td>\n",
       "      <td>4</td>\n",
       "      <td>4.0</td>\n",
       "      <td>1</td>\n",
       "      <td>8-Submitted login</td>\n",
       "      <td>0.0</td>\n",
       "      <td>0</td>\n",
       "      <td>0</td>\n",
       "      <td>masked@order_manager.org</td>\n",
       "      <td>internal</td>\n",
       "      <td>True</td>\n",
       "      <td>False</td>\n",
       "    </tr>\n",
       "    <tr>\n",
       "      <th>4086</th>\n",
       "      <td>A</td>\n",
       "      <td>Unknown</td>\n",
       "      <td>2022-07-12T17:01:04.057602Z</td>\n",
       "      <td>2</td>\n",
       "      <td>2</td>\n",
       "      <td>2.0</td>\n",
       "      <td>0</td>\n",
       "      <td>9-Completed</td>\n",
       "      <td>0.0</td>\n",
       "      <td>0</td>\n",
       "      <td>0</td>\n",
       "      <td>masked@order_manager.org</td>\n",
       "      <td>internal</td>\n",
       "      <td>True</td>\n",
       "      <td>False</td>\n",
       "    </tr>\n",
       "    <tr>\n",
       "      <th>4087</th>\n",
       "      <td>A</td>\n",
       "      <td>Unknown</td>\n",
       "      <td>2022-07-28T15:47:36.077158Z</td>\n",
       "      <td>1</td>\n",
       "      <td>1</td>\n",
       "      <td>1.0</td>\n",
       "      <td>0</td>\n",
       "      <td>9-Completed</td>\n",
       "      <td>0.0</td>\n",
       "      <td>0</td>\n",
       "      <td>0</td>\n",
       "      <td>masked@order_manager.org</td>\n",
       "      <td>internal</td>\n",
       "      <td>True</td>\n",
       "      <td>False</td>\n",
       "    </tr>\n",
       "    <tr>\n",
       "      <th>4088</th>\n",
       "      <td>A</td>\n",
       "      <td>Unknown</td>\n",
       "      <td>2022-07-01T14:32:52.854998Z</td>\n",
       "      <td>2</td>\n",
       "      <td>4</td>\n",
       "      <td>4.0</td>\n",
       "      <td>1</td>\n",
       "      <td>8-Submitted login</td>\n",
       "      <td>0.0</td>\n",
       "      <td>0</td>\n",
       "      <td>0</td>\n",
       "      <td>masked@order_manager.org</td>\n",
       "      <td>internal</td>\n",
       "      <td>True</td>\n",
       "      <td>False</td>\n",
       "    </tr>\n",
       "    <tr>\n",
       "      <th>4089</th>\n",
       "      <td>A</td>\n",
       "      <td>Unknown</td>\n",
       "      <td>2022-07-08T14:33:23.025897Z</td>\n",
       "      <td>1</td>\n",
       "      <td>4</td>\n",
       "      <td>4.0</td>\n",
       "      <td>1</td>\n",
       "      <td>6-Employer selected</td>\n",
       "      <td>0.0</td>\n",
       "      <td>0</td>\n",
       "      <td>0</td>\n",
       "      <td>masked@order_manager.org</td>\n",
       "      <td>internal</td>\n",
       "      <td>True</td>\n",
       "      <td>False</td>\n",
       "    </tr>\n",
       "  </tbody>\n",
       "</table>\n",
       "<p>4090 rows × 15 columns</p>\n",
       "</div>"
      ],
      "text/plain": [
       "     Client Domain User Phone Timezone                   Created At  \\\n",
       "0                A             Unknown  2023-03-27T20:44:47.283091Z   \n",
       "1                A             Unknown  2022-12-02T15:16:41.600287Z   \n",
       "2                A             Unknown  2023-02-02T14:20:01.939494Z   \n",
       "3                A             Unknown  2023-03-10T14:14:12.105397Z   \n",
       "4                A             Unknown  2023-03-03T22:02:48.992561Z   \n",
       "...            ...                 ...                          ...   \n",
       "4085             A             Unknown  2022-07-08T21:42:07.444375Z   \n",
       "4086             A             Unknown  2022-07-12T17:01:04.057602Z   \n",
       "4087             A             Unknown  2022-07-28T15:47:36.077158Z   \n",
       "4088             A             Unknown  2022-07-01T14:32:52.854998Z   \n",
       "4089             A             Unknown  2022-07-08T14:33:23.025897Z   \n",
       "\n",
       "      Email Clicks  Email Opens  Emails  Expired     Order Funnel State  Sms  \\\n",
       "0                0            0     4.0        1    2-Notification sent  0.0   \n",
       "1                0            3     4.0        1  3-Notification opened  0.0   \n",
       "2                1            1     1.0        0      8-Submitted login  0.0   \n",
       "3                3            4     4.0        1        5-Widget loaded  0.0   \n",
       "4                1            1     1.0        0      8-Submitted login  0.0   \n",
       "...            ...          ...     ...      ...                    ...  ...   \n",
       "4085             2            4     4.0        1      8-Submitted login  0.0   \n",
       "4086             2            2     2.0        0            9-Completed  0.0   \n",
       "4087             1            1     1.0        0            9-Completed  0.0   \n",
       "4088             2            4     4.0        1      8-Submitted login  0.0   \n",
       "4089             1            4     4.0        1    6-Employer selected  0.0   \n",
       "\n",
       "      Sms Clicks  Sms Opens                   Manager    Source  \\\n",
       "0              0          0  masked@order_manager.org  internal   \n",
       "1              0          0  masked@order_manager.org  internal   \n",
       "2              0          0  masked@order_manager.org  internal   \n",
       "3              0          0  masked@order_manager.org  internal   \n",
       "4              0          0  masked@order_manager.org  internal   \n",
       "...          ...        ...                       ...       ...   \n",
       "4085           0          0  masked@order_manager.org  internal   \n",
       "4086           0          0  masked@order_manager.org  internal   \n",
       "4087           0          0  masked@order_manager.org  internal   \n",
       "4088           0          0  masked@order_manager.org  internal   \n",
       "4089           0          0  masked@order_manager.org  internal   \n",
       "\n",
       "      order_has_user_email  order_has_user_phone  \n",
       "0                     True                 False  \n",
       "1                     True                 False  \n",
       "2                     True                 False  \n",
       "3                     True                 False  \n",
       "4                     True                 False  \n",
       "...                    ...                   ...  \n",
       "4085                  True                 False  \n",
       "4086                  True                 False  \n",
       "4087                  True                 False  \n",
       "4088                  True                 False  \n",
       "4089                  True                 False  \n",
       "\n",
       "[4090 rows x 15 columns]"
      ]
     },
     "execution_count": 56,
     "metadata": {},
     "output_type": "execute_result"
    }
   ],
   "source": [
    "gregors5 = pd.read_excel('/Users/lolonastri/Desktop/POO_UCEMA/analisis_datos/teoria_y_practica/05-modelo-examen/gregors.xlsx')\n",
    "gregors5.rename(columns={\"Platforms Order Group - Order → Manager\": \"Manager\", \"Platforms Order Group - Order → Source\": \"Source\"}, inplace=True)\n",
    "gregors5"
   ]
  },
  {
   "cell_type": "markdown",
   "metadata": {},
   "source": [
    "___"
   ]
  },
  {
   "cell_type": "markdown",
   "metadata": {},
   "source": [
    "# Pasos a seguir\n",
    "\n",
    "##  1) Validacion de la data\n",
    "\n",
    "A. Nulos, dtypes esperados, cantidad de columnas, cantidad de filas (Check n´s)\n",
    "\n",
    "B. Inconsistencias: Semantica / linaje de la data --> Emails opens vs Clicks (chequear el funnel)\n",
    "\n",
    "C. ...\n",
    "\n",
    "## 2) Situación\n",
    "\n",
    "A. ¿Hubo caída en la conversión de la empresa? Graficar mensualmente la tasa de conversion\n",
    "\n",
    "B. Medir la conversion por sms vs por email \n",
    "\n",
    "C. Medir la conversion cuando no haya inconsistencias\n",
    "\n",
    "\n",
    "## 3) Hipotesis\n",
    "\n",
    "A. Timezone -> pensemos- stackoverflow - chatgpt/bard. Tenemos una maquina automatica que registra al horario de sus sistema operativo el envio de sms/emails y en realidad no esta teniendo en cuenta al usuario.\n",
    "\n",
    "B. Ninguno podia abrir los sms --> ¿Funcionará este sistema? \n"
   ]
  },
  {
   "cell_type": "markdown",
   "metadata": {},
   "source": [
    "___"
   ]
  },
  {
   "cell_type": "code",
   "execution_count": 57,
   "metadata": {},
   "outputs": [
    {
     "data": {
      "text/html": [
       "<div>\n",
       "<style scoped>\n",
       "    .dataframe tbody tr th:only-of-type {\n",
       "        vertical-align: middle;\n",
       "    }\n",
       "\n",
       "    .dataframe tbody tr th {\n",
       "        vertical-align: top;\n",
       "    }\n",
       "\n",
       "    .dataframe thead th {\n",
       "        text-align: right;\n",
       "    }\n",
       "</style>\n",
       "<table border=\"1\" class=\"dataframe\">\n",
       "  <thead>\n",
       "    <tr style=\"text-align: right;\">\n",
       "      <th></th>\n",
       "      <th>4088</th>\n",
       "      <th>4089</th>\n",
       "    </tr>\n",
       "  </thead>\n",
       "  <tbody>\n",
       "    <tr>\n",
       "      <th>Client Domain</th>\n",
       "      <td>A</td>\n",
       "      <td>A</td>\n",
       "    </tr>\n",
       "    <tr>\n",
       "      <th>User Phone Timezone</th>\n",
       "      <td>Unknown</td>\n",
       "      <td>Unknown</td>\n",
       "    </tr>\n",
       "    <tr>\n",
       "      <th>Created At</th>\n",
       "      <td>2022-07-01T14:32:52.854998Z</td>\n",
       "      <td>2022-07-08T14:33:23.025897Z</td>\n",
       "    </tr>\n",
       "    <tr>\n",
       "      <th>Email Clicks</th>\n",
       "      <td>2</td>\n",
       "      <td>1</td>\n",
       "    </tr>\n",
       "    <tr>\n",
       "      <th>Email Opens</th>\n",
       "      <td>4</td>\n",
       "      <td>4</td>\n",
       "    </tr>\n",
       "    <tr>\n",
       "      <th>Emails</th>\n",
       "      <td>4.0</td>\n",
       "      <td>4.0</td>\n",
       "    </tr>\n",
       "    <tr>\n",
       "      <th>Expired</th>\n",
       "      <td>1</td>\n",
       "      <td>1</td>\n",
       "    </tr>\n",
       "    <tr>\n",
       "      <th>Order Funnel State</th>\n",
       "      <td>8-Submitted login</td>\n",
       "      <td>6-Employer selected</td>\n",
       "    </tr>\n",
       "    <tr>\n",
       "      <th>Sms</th>\n",
       "      <td>0.0</td>\n",
       "      <td>0.0</td>\n",
       "    </tr>\n",
       "    <tr>\n",
       "      <th>Sms Clicks</th>\n",
       "      <td>0</td>\n",
       "      <td>0</td>\n",
       "    </tr>\n",
       "    <tr>\n",
       "      <th>Sms Opens</th>\n",
       "      <td>0</td>\n",
       "      <td>0</td>\n",
       "    </tr>\n",
       "    <tr>\n",
       "      <th>Manager</th>\n",
       "      <td>masked@order_manager.org</td>\n",
       "      <td>masked@order_manager.org</td>\n",
       "    </tr>\n",
       "    <tr>\n",
       "      <th>Source</th>\n",
       "      <td>internal</td>\n",
       "      <td>internal</td>\n",
       "    </tr>\n",
       "    <tr>\n",
       "      <th>order_has_user_email</th>\n",
       "      <td>True</td>\n",
       "      <td>True</td>\n",
       "    </tr>\n",
       "    <tr>\n",
       "      <th>order_has_user_phone</th>\n",
       "      <td>False</td>\n",
       "      <td>False</td>\n",
       "    </tr>\n",
       "  </tbody>\n",
       "</table>\n",
       "</div>"
      ],
      "text/plain": [
       "                                             4088                         4089\n",
       "Client Domain                                   A                            A\n",
       "User Phone Timezone                       Unknown                      Unknown\n",
       "Created At            2022-07-01T14:32:52.854998Z  2022-07-08T14:33:23.025897Z\n",
       "Email Clicks                                    2                            1\n",
       "Email Opens                                     4                            4\n",
       "Emails                                        4.0                          4.0\n",
       "Expired                                         1                            1\n",
       "Order Funnel State              8-Submitted login          6-Employer selected\n",
       "Sms                                           0.0                          0.0\n",
       "Sms Clicks                                      0                            0\n",
       "Sms Opens                                       0                            0\n",
       "Manager                  masked@order_manager.org     masked@order_manager.org\n",
       "Source                                   internal                     internal\n",
       "order_has_user_email                         True                         True\n",
       "order_has_user_phone                        False                        False"
      ]
     },
     "execution_count": 57,
     "metadata": {},
     "output_type": "execute_result"
    }
   ],
   "source": [
    "gregors5.tail(2).T"
   ]
  },
  {
   "cell_type": "markdown",
   "metadata": {},
   "source": [
    "___"
   ]
  },
  {
   "cell_type": "markdown",
   "metadata": {},
   "source": [
    "##  1) Validacion de la data\n",
    "\n",
    "A. Nulos, dtypes esperados, cantidad de columnas, cantidad de filas (Check n´s)\n",
    "\n",
    "B. Inconsistencias: Semantica / linaje de la data --> Emails opens vs Clicks (chequear el funnel)\n",
    "\n",
    "C. ..."
   ]
  },
  {
   "cell_type": "markdown",
   "metadata": {},
   "source": [
    "___"
   ]
  },
  {
   "cell_type": "markdown",
   "metadata": {},
   "source": [
    "# A) Nulos, dtypes esperados, cantidad de columnas, cantidad de filas (Check n´s)"
   ]
  },
  {
   "cell_type": "code",
   "execution_count": 58,
   "metadata": {},
   "outputs": [
    {
     "data": {
      "text/plain": [
       "(4090, 15)"
      ]
     },
     "execution_count": 58,
     "metadata": {},
     "output_type": "execute_result"
    }
   ],
   "source": [
    "gregors5.shape"
   ]
  },
  {
   "cell_type": "code",
   "execution_count": 59,
   "metadata": {},
   "outputs": [
    {
     "data": {
      "text/plain": [
       "Client Domain           0.0000\n",
       "User Phone Timezone     0.0000\n",
       "Created At              0.0000\n",
       "Email Clicks            0.0000\n",
       "Email Opens             0.0000\n",
       "Emails                  0.0039\n",
       "Expired                 0.0000\n",
       "Order Funnel State      0.0000\n",
       "Sms                     0.0039\n",
       "Sms Clicks              0.0000\n",
       "Sms Opens               0.0000\n",
       "Manager                 0.0000\n",
       "Source                  0.0000\n",
       "order_has_user_email    0.0000\n",
       "order_has_user_phone    0.0000\n",
       "dtype: float64"
      ]
     },
     "execution_count": 59,
     "metadata": {},
     "output_type": "execute_result"
    }
   ],
   "source": [
    "(gregors5.isna().sum()/len(gregors5)).round(4) # porcentaje de nulos"
   ]
  },
  {
   "cell_type": "markdown",
   "metadata": {},
   "source": [
    "##### → Missing treatment. Datos nulos. Observemos ¿Por qué están nulos? "
   ]
  },
  {
   "cell_type": "code",
   "execution_count": 60,
   "metadata": {},
   "outputs": [
    {
     "data": {
      "text/plain": [
       "Order Funnel State  Email Opens  Sms Opens\n",
       "1-Created           0            0            16\n",
       "Name: count, dtype: int64"
      ]
     },
     "execution_count": 60,
     "metadata": {},
     "output_type": "execute_result"
    }
   ],
   "source": [
    "gregors5[gregors5[\"Emails\"].isna()][[\"Order Funnel State\",\"Email Opens\",\"Sms Opens\"]].value_counts()"
   ]
  },
  {
   "cell_type": "code",
   "execution_count": 61,
   "metadata": {},
   "outputs": [
    {
     "data": {
      "text/plain": [
       "Order Funnel State  Email Opens  Sms Opens\n",
       "1-Created           0            0            16\n",
       "Name: count, dtype: int64"
      ]
     },
     "execution_count": 61,
     "metadata": {},
     "output_type": "execute_result"
    }
   ],
   "source": [
    "gregors5[gregors5[\"Sms\"].isna()][[\"Order Funnel State\",\"Email Opens\",\"Sms Opens\"]].value_counts()"
   ]
  },
  {
   "cell_type": "markdown",
   "metadata": {},
   "source": [
    "#### → Dado que los sms nulos y los emails nulos, son ordenes creadas que no contienen información, podemos eliminarlas"
   ]
  },
  {
   "cell_type": "code",
   "execution_count": 62,
   "metadata": {},
   "outputs": [],
   "source": [
    "gregors5 = gregors5[~gregors5[\"Sms\"].isna()]"
   ]
  },
  {
   "cell_type": "code",
   "execution_count": 63,
   "metadata": {},
   "outputs": [
    {
     "name": "stderr",
     "output_type": "stream",
     "text": [
      "/var/folders/xx/hcklcr8s0rxd7p5fz63z342w0000gn/T/ipykernel_46044/954671966.py:1: SettingWithCopyWarning: \n",
      "A value is trying to be set on a copy of a slice from a DataFrame\n",
      "\n",
      "See the caveats in the documentation: https://pandas.pydata.org/pandas-docs/stable/user_guide/indexing.html#returning-a-view-versus-a-copy\n",
      "  gregors5.dropna(subset=\"Emails\", inplace=True) # elimino los nulos de Emails\n"
     ]
    }
   ],
   "source": [
    "gregors5.dropna(subset=\"Emails\", inplace=True) # elimino los nulos de Emails"
   ]
  },
  {
   "cell_type": "code",
   "execution_count": 64,
   "metadata": {},
   "outputs": [
    {
     "data": {
      "text/plain": [
       "Client Domain           0\n",
       "User Phone Timezone     0\n",
       "Created At              0\n",
       "Email Clicks            0\n",
       "Email Opens             0\n",
       "Emails                  0\n",
       "Expired                 0\n",
       "Order Funnel State      0\n",
       "Sms                     0\n",
       "Sms Clicks              0\n",
       "Sms Opens               0\n",
       "Manager                 0\n",
       "Source                  0\n",
       "order_has_user_email    0\n",
       "order_has_user_phone    0\n",
       "dtype: int64"
      ]
     },
     "execution_count": 64,
     "metadata": {},
     "output_type": "execute_result"
    }
   ],
   "source": [
    "gregors5.isna().sum()"
   ]
  },
  {
   "cell_type": "code",
   "execution_count": 65,
   "metadata": {},
   "outputs": [
    {
     "data": {
      "text/plain": [
       "(4074, 15)"
      ]
     },
     "execution_count": 65,
     "metadata": {},
     "output_type": "execute_result"
    }
   ],
   "source": [
    "gregors5.shape"
   ]
  },
  {
   "cell_type": "markdown",
   "metadata": {},
   "source": [
    "___"
   ]
  },
  {
   "cell_type": "markdown",
   "metadata": {},
   "source": [
    "### → Dtypes"
   ]
  },
  {
   "cell_type": "code",
   "execution_count": 66,
   "metadata": {},
   "outputs": [
    {
     "name": "stdout",
     "output_type": "stream",
     "text": [
      "<class 'pandas.core.frame.DataFrame'>\n",
      "Index: 4074 entries, 0 to 4089\n",
      "Data columns (total 15 columns):\n",
      " #   Column                Non-Null Count  Dtype  \n",
      "---  ------                --------------  -----  \n",
      " 0   Client Domain         4074 non-null   object \n",
      " 1   User Phone Timezone   4074 non-null   object \n",
      " 2   Created At            4074 non-null   object \n",
      " 3   Email Clicks          4074 non-null   int64  \n",
      " 4   Email Opens           4074 non-null   int64  \n",
      " 5   Emails                4074 non-null   float64\n",
      " 6   Expired               4074 non-null   int64  \n",
      " 7   Order Funnel State    4074 non-null   object \n",
      " 8   Sms                   4074 non-null   float64\n",
      " 9   Sms Clicks            4074 non-null   int64  \n",
      " 10  Sms Opens             4074 non-null   int64  \n",
      " 11  Manager               4074 non-null   object \n",
      " 12  Source                4074 non-null   object \n",
      " 13  order_has_user_email  4074 non-null   bool   \n",
      " 14  order_has_user_phone  4074 non-null   bool   \n",
      "dtypes: bool(2), float64(2), int64(5), object(6)\n",
      "memory usage: 453.6+ KB\n"
     ]
    }
   ],
   "source": [
    "gregors5.info()"
   ]
  },
  {
   "cell_type": "code",
   "execution_count": 67,
   "metadata": {},
   "outputs": [
    {
     "data": {
      "text/plain": [
       "Client Domain\n",
       "A    4074\n",
       "Name: count, dtype: int64"
      ]
     },
     "execution_count": 67,
     "metadata": {},
     "output_type": "execute_result"
    }
   ],
   "source": [
    "gregors5[\"Client Domain\"].value_counts()"
   ]
  },
  {
   "cell_type": "code",
   "execution_count": 109,
   "metadata": {},
   "outputs": [
    {
     "data": {
      "text/plain": [
       "order_has_user_email  order_has_user_phone\n",
       "False                 True                    2736\n",
       "True                  True                    1099\n",
       "                      False                    239\n",
       "Name: count, dtype: int64"
      ]
     },
     "execution_count": 109,
     "metadata": {},
     "output_type": "execute_result"
    }
   ],
   "source": [
    "gregors5[[\"order_has_user_email\", \"order_has_user_phone\"]].value_counts()"
   ]
  },
  {
   "cell_type": "markdown",
   "metadata": {},
   "source": [
    "___"
   ]
  },
  {
   "cell_type": "markdown",
   "metadata": {},
   "source": [
    "### → \"User Phone Timezone\""
   ]
  },
  {
   "cell_type": "code",
   "execution_count": 68,
   "metadata": {},
   "outputs": [
    {
     "data": {
      "text/plain": [
       "User Phone Timezone\n",
       "CST        0.578547\n",
       "EST        0.313451\n",
       "Unknown    0.059401\n",
       "PST        0.031419\n",
       "MST        0.013255\n",
       "AST        0.001964\n",
       "UTC-10     0.001227\n",
       "UTC-9      0.000736\n",
       "Name: proportion, dtype: float64"
      ]
     },
     "execution_count": 68,
     "metadata": {},
     "output_type": "execute_result"
    }
   ],
   "source": [
    "gregors5[\"User Phone Timezone\"].value_counts(normalize=True)"
   ]
  },
  {
   "cell_type": "markdown",
   "metadata": {},
   "source": [
    "#### → Vamos a transformar todos los horarios a UTC"
   ]
  },
  {
   "cell_type": "code",
   "execution_count": 69,
   "metadata": {},
   "outputs": [
    {
     "name": "stderr",
     "output_type": "stream",
     "text": [
      "/var/folders/xx/hcklcr8s0rxd7p5fz63z342w0000gn/T/ipykernel_46044/2665501198.py:7: SettingWithCopyWarning: \n",
      "A value is trying to be set on a copy of a slice from a DataFrame.\n",
      "Try using .loc[row_indexer,col_indexer] = value instead\n",
      "\n",
      "See the caveats in the documentation: https://pandas.pydata.org/pandas-docs/stable/user_guide/indexing.html#returning-a-view-versus-a-copy\n",
      "  gregors5[\"hrs-utc\"] = gregors5[\"User Phone Timezone\"].map(horarios)\n"
     ]
    }
   ],
   "source": [
    "horarios = {'EST':'UTC-5', \n",
    "            'CST':'UTC-6', \n",
    "            'PST':'UTC-8', \n",
    "            'MST':'UTC-7', \n",
    "            'AST':'UTC-4'}\n",
    "\n",
    "gregors5[\"hrs-utc\"] = gregors5[\"User Phone Timezone\"].map(horarios)"
   ]
  },
  {
   "cell_type": "code",
   "execution_count": 70,
   "metadata": {},
   "outputs": [
    {
     "name": "stderr",
     "output_type": "stream",
     "text": [
      "/var/folders/xx/hcklcr8s0rxd7p5fz63z342w0000gn/T/ipykernel_46044/297223405.py:9: SettingWithCopyWarning: \n",
      "A value is trying to be set on a copy of a slice from a DataFrame.\n",
      "Try using .loc[row_indexer,col_indexer] = value instead\n",
      "\n",
      "See the caveats in the documentation: https://pandas.pydata.org/pandas-docs/stable/user_guide/indexing.html#returning-a-view-versus-a-copy\n",
      "  gregors5[\"hrs-pyz\"] = gregors5[\"hrs-utc\"].map(utc_hrs)\n"
     ]
    }
   ],
   "source": [
    "utc_hrs = {\n",
    "    'UTC-5': 'America/New_York',\n",
    "    'UTC-6': 'America/Chicago',\n",
    "    'UTC-7': 'America/Denver',\n",
    "    'UTC-8': 'America/Los_Angeles',\n",
    "    'UTC-4': 'America/Puerto_Rico'\n",
    "}\n",
    "\n",
    "gregors5[\"hrs-pyz\"] = gregors5[\"hrs-utc\"].map(utc_hrs)"
   ]
  },
  {
   "cell_type": "code",
   "execution_count": 71,
   "metadata": {},
   "outputs": [
    {
     "data": {
      "text/plain": [
       "hrs-pyz\n",
       "America/Chicago        2357\n",
       "America/New_York       1277\n",
       "America/Los_Angeles     128\n",
       "America/Denver           54\n",
       "America/Puerto_Rico       8\n",
       "Name: count, dtype: int64"
      ]
     },
     "execution_count": 71,
     "metadata": {},
     "output_type": "execute_result"
    }
   ],
   "source": [
    "gregors5[\"hrs-pyz\"].value_counts()"
   ]
  },
  {
   "cell_type": "code",
   "execution_count": 72,
   "metadata": {},
   "outputs": [
    {
     "name": "stderr",
     "output_type": "stream",
     "text": [
      "/var/folders/xx/hcklcr8s0rxd7p5fz63z342w0000gn/T/ipykernel_46044/3095755086.py:1: SettingWithCopyWarning: \n",
      "A value is trying to be set on a copy of a slice from a DataFrame.\n",
      "Try using .loc[row_indexer,col_indexer] = value instead\n",
      "\n",
      "See the caveats in the documentation: https://pandas.pydata.org/pandas-docs/stable/user_guide/indexing.html#returning-a-view-versus-a-copy\n",
      "  gregors5['Created At'] = pd.to_datetime(gregors5['Created At'])\n"
     ]
    }
   ],
   "source": [
    "gregors5['Created At'] = pd.to_datetime(gregors5['Created At'])"
   ]
  },
  {
   "cell_type": "code",
   "execution_count": 73,
   "metadata": {},
   "outputs": [
    {
     "name": "stdout",
     "output_type": "stream",
     "text": [
      "division by zero\n"
     ]
    }
   ],
   "source": [
    "try:\n",
    "    54/0\n",
    "except Exception as e:\n",
    "    print(e)"
   ]
  },
  {
   "cell_type": "code",
   "execution_count": 74,
   "metadata": {},
   "outputs": [
    {
     "name": "stdout",
     "output_type": "stream",
     "text": [
      "Error en esta row 2023-03-27 20:44:47.283091+00:00, esta queriendo transformar a nan\n",
      "Error en esta row 2022-12-02 15:16:41.600287+00:00, esta queriendo transformar a nan\n",
      "Error en esta row 2023-02-02 14:20:01.939494+00:00, esta queriendo transformar a nan\n",
      "Error en esta row 2023-03-10 14:14:12.105397+00:00, esta queriendo transformar a nan\n",
      "Error en esta row 2023-03-03 22:02:48.992561+00:00, esta queriendo transformar a nan\n",
      "Error en esta row 2022-08-02 15:40:55.825565+00:00, esta queriendo transformar a nan\n",
      "Error en esta row 2022-08-15 20:40:22.341309+00:00, esta queriendo transformar a nan\n",
      "Error en esta row 2022-12-01 14:22:37.448971+00:00, esta queriendo transformar a nan\n",
      "Error en esta row 2023-03-03 14:10:18.836659+00:00, esta queriendo transformar a nan\n",
      "Error en esta row 2023-03-27 14:57:23.289756+00:00, esta queriendo transformar a nan\n",
      "Error en esta row 2022-08-01 18:14:34.366618+00:00, esta queriendo transformar a nan\n",
      "Error en esta row 2023-01-09 22:15:46.749926+00:00, esta queriendo transformar a nan\n",
      "Error en esta row 2023-01-13 17:15:39.354315+00:00, esta queriendo transformar a nan\n",
      "Error en esta row 2022-10-06 21:07:11.621715+00:00, esta queriendo transformar a nan\n",
      "Error en esta row 2022-09-15 19:40:16.885419+00:00, esta queriendo transformar a nan\n",
      "Error en esta row 2022-10-27 15:46:26.766697+00:00, esta queriendo transformar a nan\n",
      "Error en esta row 2023-02-16 16:06:04.658980+00:00, esta queriendo transformar a nan\n",
      "Error en esta row 2022-09-07 16:13:33.461742+00:00, esta queriendo transformar a nan\n",
      "Error en esta row 2022-10-27 15:41:38.417122+00:00, esta queriendo transformar a nan\n",
      "Error en esta row 2022-09-19 15:36:33.376256+00:00, esta queriendo transformar a nan\n",
      "Error en esta row 2023-03-13 16:52:31.011789+00:00, esta queriendo transformar a nan\n",
      "Error en esta row 2022-12-06 15:42:21.824840+00:00, esta queriendo transformar a nan\n",
      "Error en esta row 2022-11-11 15:21:20.313732+00:00, esta queriendo transformar a nan\n",
      "Error en esta row 2022-08-29 13:45:30.374606+00:00, esta queriendo transformar a nan\n",
      "Error en esta row 2023-03-10 17:57:27.934214+00:00, esta queriendo transformar a nan\n",
      "Error en esta row 2022-10-11 14:33:22.121548+00:00, esta queriendo transformar a nan\n",
      "Error en esta row 2023-03-07 20:23:42.258970+00:00, esta queriendo transformar a nan\n",
      "Error en esta row 2023-03-22 16:15:27.354763+00:00, esta queriendo transformar a nan\n",
      "Error en esta row 2022-12-29 19:28:07.381734+00:00, esta queriendo transformar a nan\n",
      "Error en esta row 2022-11-07 15:55:08.074563+00:00, esta queriendo transformar a nan\n",
      "Error en esta row 2022-08-26 13:32:06.368067+00:00, esta queriendo transformar a nan\n",
      "Error en esta row 2022-12-21 16:18:08.284721+00:00, esta queriendo transformar a nan\n",
      "Error en esta row 2022-11-23 16:10:19.104391+00:00, esta queriendo transformar a nan\n",
      "Error en esta row 2023-02-02 14:10:56.819418+00:00, esta queriendo transformar a nan\n",
      "Error en esta row 2022-09-07 13:21:56.757823+00:00, esta queriendo transformar a nan\n",
      "Error en esta row 2023-02-16 15:34:03.933175+00:00, esta queriendo transformar a nan\n",
      "Error en esta row 2022-10-10 21:23:46.262780+00:00, esta queriendo transformar a nan\n",
      "Error en esta row 2022-08-01 18:10:50.425436+00:00, esta queriendo transformar a nan\n",
      "Error en esta row 2022-09-22 16:27:19.016027+00:00, esta queriendo transformar a nan\n",
      "Error en esta row 2023-03-03 21:59:05.431198+00:00, esta queriendo transformar a nan\n",
      "Error en esta row 2022-10-24 21:29:28.500167+00:00, esta queriendo transformar a nan\n",
      "Error en esta row 2023-02-27 21:04:11.937283+00:00, esta queriendo transformar a nan\n",
      "Error en esta row 2022-12-01 16:15:49.179164+00:00, esta queriendo transformar a nan\n",
      "Error en esta row 2022-11-01 14:44:30.664205+00:00, esta queriendo transformar a nan\n",
      "Error en esta row 2022-12-27 20:47:36.466487+00:00, esta queriendo transformar a nan\n",
      "Error en esta row 2022-09-20 16:02:13.054375+00:00, esta queriendo transformar a nan\n",
      "Error en esta row 2022-08-17 18:17:13.964764+00:00, esta queriendo transformar a nan\n",
      "Error en esta row 2022-08-31 20:49:20.235025+00:00, esta queriendo transformar a nan\n",
      "Error en esta row 2022-11-04 21:30:55.941235+00:00, esta queriendo transformar a nan\n",
      "Error en esta row 2022-08-12 17:03:09.257631+00:00, esta queriendo transformar a nan\n",
      "Error en esta row 2022-08-26 19:52:23.344818+00:00, esta queriendo transformar a nan\n",
      "Error en esta row 2022-11-11 16:35:29.767154+00:00, esta queriendo transformar a nan\n",
      "Error en esta row 2022-08-25 17:13:42.257129+00:00, esta queriendo transformar a nan\n",
      "Error en esta row 2022-09-19 21:14:10.020574+00:00, esta queriendo transformar a nan\n",
      "Error en esta row 2022-09-12 15:07:55.992912+00:00, esta queriendo transformar a nan\n",
      "Error en esta row 2022-08-12 17:04:06.827517+00:00, esta queriendo transformar a nan\n",
      "Error en esta row 2022-09-21 15:11:04.608247+00:00, esta queriendo transformar a nan\n",
      "Error en esta row 2023-03-27 17:55:35.118502+00:00, esta queriendo transformar a nan\n",
      "Error en esta row 2022-11-11 16:25:12.409413+00:00, esta queriendo transformar a nan\n",
      "Error en esta row 2022-08-04 17:00:42.388418+00:00, esta queriendo transformar a nan\n",
      "Error en esta row 2022-08-16 20:13:05.100595+00:00, esta queriendo transformar a nan\n",
      "Error en esta row 2022-09-21 20:36:46.103271+00:00, esta queriendo transformar a nan\n",
      "Error en esta row 2022-12-05 20:43:50.786631+00:00, esta queriendo transformar a nan\n",
      "Error en esta row 2022-09-06 16:57:11.223886+00:00, esta queriendo transformar a nan\n",
      "Error en esta row 2023-03-10 18:04:50.076483+00:00, esta queriendo transformar a nan\n",
      "Error en esta row 2023-03-13 16:48:52.309446+00:00, esta queriendo transformar a nan\n",
      "Error en esta row 2023-03-22 19:52:45.370913+00:00, esta queriendo transformar a nan\n",
      "Error en esta row 2023-02-16 15:41:35.028532+00:00, esta queriendo transformar a nan\n",
      "Error en esta row 2022-12-16 20:11:51.821300+00:00, esta queriendo transformar a nan\n",
      "Error en esta row 2022-09-15 17:29:46.968219+00:00, esta queriendo transformar a nan\n",
      "Error en esta row 2022-08-30 16:29:23.642239+00:00, esta queriendo transformar a nan\n",
      "Error en esta row 2022-12-01 22:23:08.244646+00:00, esta queriendo transformar a nan\n",
      "Error en esta row 2022-10-07 15:05:12.741860+00:00, esta queriendo transformar a nan\n",
      "Error en esta row 2023-03-29 15:55:33.406067+00:00, esta queriendo transformar a nan\n",
      "Error en esta row 2023-02-17 16:47:28.205154+00:00, esta queriendo transformar a nan\n",
      "Error en esta row 2022-10-28 14:27:19.596959+00:00, esta queriendo transformar a nan\n",
      "Error en esta row 2022-12-06 16:49:46.334320+00:00, esta queriendo transformar a nan\n",
      "Error en esta row 2022-12-01 14:32:25.914311+00:00, esta queriendo transformar a nan\n",
      "Error en esta row 2022-10-18 14:38:08.137163+00:00, esta queriendo transformar a nan\n",
      "Error en esta row 2022-12-01 21:47:56.197918+00:00, esta queriendo transformar a nan\n",
      "Error en esta row 2022-10-28 21:30:56.582977+00:00, esta queriendo transformar a nan\n",
      "Error en esta row 2022-09-19 18:28:31.100759+00:00, esta queriendo transformar a nan\n",
      "Error en esta row 2023-03-27 20:48:03.757873+00:00, esta queriendo transformar a nan\n",
      "Error en esta row 2022-08-04 13:51:29.792514+00:00, esta queriendo transformar a nan\n",
      "Error en esta row 2022-08-23 17:32:10.180614+00:00, esta queriendo transformar a nan\n",
      "Error en esta row 2023-01-10 16:27:03.022874+00:00, esta queriendo transformar a nan\n",
      "Error en esta row 2022-08-17 14:11:20.704683+00:00, esta queriendo transformar a nan\n",
      "Error en esta row 2022-07-25 14:44:16.720142+00:00, esta queriendo transformar a nan\n",
      "Error en esta row 2023-03-28 15:10:30.827082+00:00, esta queriendo transformar a nan\n",
      "Error en esta row 2022-12-01 21:52:59.810786+00:00, esta queriendo transformar a nan\n",
      "Error en esta row 2023-03-03 16:59:59.277157+00:00, esta queriendo transformar a nan\n",
      "Error en esta row 2023-03-27 14:55:31.941223+00:00, esta queriendo transformar a nan\n",
      "Error en esta row 2022-08-16 21:21:04.640000+00:00, esta queriendo transformar a nan\n",
      "Error en esta row 2022-12-01 20:55:06.325340+00:00, esta queriendo transformar a nan\n",
      "Error en esta row 2022-10-28 13:22:03.633184+00:00, esta queriendo transformar a nan\n",
      "Error en esta row 2022-08-22 16:05:24.920106+00:00, esta queriendo transformar a nan\n",
      "Error en esta row 2023-02-17 21:22:05.659822+00:00, esta queriendo transformar a nan\n",
      "Error en esta row 2022-08-26 19:00:40.973192+00:00, esta queriendo transformar a nan\n",
      "Error en esta row 2023-02-27 21:00:58.063272+00:00, esta queriendo transformar a nan\n",
      "Error en esta row 2022-09-07 19:35:46.552145+00:00, esta queriendo transformar a nan\n",
      "Error en esta row 2022-08-25 20:01:22.251908+00:00, esta queriendo transformar a nan\n",
      "Error en esta row 2022-08-17 18:17:47.714426+00:00, esta queriendo transformar a nan\n",
      "Error en esta row 2022-09-19 15:39:15.721913+00:00, esta queriendo transformar a nan\n",
      "Error en esta row 2023-02-24 22:27:37.538713+00:00, esta queriendo transformar a nan\n",
      "Error en esta row 2022-08-02 15:37:50.646676+00:00, esta queriendo transformar a nan\n",
      "Error en esta row 2022-08-25 15:04:56.622478+00:00, esta queriendo transformar a nan\n",
      "Error en esta row 2023-02-08 14:48:20.812464+00:00, esta queriendo transformar a nan\n",
      "Error en esta row 2022-08-31 15:10:47.321871+00:00, esta queriendo transformar a nan\n",
      "Error en esta row 2022-10-20 13:27:57.575042+00:00, esta queriendo transformar a nan\n",
      "Error en esta row 2023-03-29 18:06:05.416495+00:00, esta queriendo transformar a nan\n",
      "Error en esta row 2023-03-23 19:55:29.397125+00:00, esta queriendo transformar a nan\n",
      "Error en esta row 2022-08-08 20:39:45.832870+00:00, esta queriendo transformar a nan\n",
      "Error en esta row 2022-12-20 21:54:48.057240+00:00, esta queriendo transformar a nan\n",
      "Error en esta row 2022-10-07 21:30:13.296870+00:00, esta queriendo transformar a nan\n",
      "Error en esta row 2022-12-01 17:35:05.562131+00:00, esta queriendo transformar a nan\n",
      "Error en esta row 2022-12-28 17:30:59.628244+00:00, esta queriendo transformar a nan\n",
      "Error en esta row 2022-09-30 21:51:17.985429+00:00, esta queriendo transformar a nan\n",
      "Error en esta row 2022-08-16 15:57:19.815614+00:00, esta queriendo transformar a nan\n",
      "Error en esta row 2022-12-02 16:44:59.776842+00:00, esta queriendo transformar a nan\n",
      "Error en esta row 2023-02-24 15:04:13.836710+00:00, esta queriendo transformar a nan\n",
      "Error en esta row 2022-09-06 17:33:35.408535+00:00, esta queriendo transformar a nan\n",
      "Error en esta row 2022-08-25 16:57:56.328171+00:00, esta queriendo transformar a nan\n",
      "Error en esta row 2022-11-28 20:30:48.984504+00:00, esta queriendo transformar a nan\n",
      "Error en esta row 2022-11-30 22:20:49.180717+00:00, esta queriendo transformar a nan\n",
      "Error en esta row 2023-03-07 18:19:06.899767+00:00, esta queriendo transformar a nan\n",
      "Error en esta row 2022-08-12 13:48:48.718419+00:00, esta queriendo transformar a nan\n",
      "Error en esta row 2023-02-16 15:10:42.473546+00:00, esta queriendo transformar a nan\n",
      "Error en esta row 2022-08-23 17:57:19.490413+00:00, esta queriendo transformar a nan\n",
      "Error en esta row 2022-11-01 14:34:03.000796+00:00, esta queriendo transformar a nan\n",
      "Error en esta row 2022-12-01 16:19:44.783628+00:00, esta queriendo transformar a nan\n",
      "Error en esta row 2022-12-01 16:12:26.315404+00:00, esta queriendo transformar a nan\n",
      "Error en esta row 2022-09-23 13:21:37.997311+00:00, esta queriendo transformar a nan\n",
      "Error en esta row 2023-03-24 17:08:13.753229+00:00, esta queriendo transformar a nan\n",
      "Error en esta row 2022-08-12 14:43:57.936287+00:00, esta queriendo transformar a nan\n",
      "Error en esta row 2023-02-13 18:56:47.589756+00:00, esta queriendo transformar a nan\n",
      "Error en esta row 2022-10-25 18:49:59.237300+00:00, esta queriendo transformar a nan\n",
      "Error en esta row 2022-12-01 17:44:25.933227+00:00, esta queriendo transformar a nan\n",
      "Error en esta row 2022-12-21 16:49:53.868898+00:00, esta queriendo transformar a nan\n",
      "Error en esta row 2023-02-20 20:35:26.349481+00:00, esta queriendo transformar a nan\n",
      "Error en esta row 2023-01-04 20:10:47.257188+00:00, esta queriendo transformar a nan\n",
      "Error en esta row 2022-09-30 17:26:52.817485+00:00, esta queriendo transformar a nan\n",
      "Error en esta row 2022-09-14 16:09:45.450499+00:00, esta queriendo transformar a nan\n",
      "Error en esta row 2022-12-01 20:08:07.260132+00:00, esta queriendo transformar a nan\n",
      "Error en esta row 2022-09-16 14:13:47.098241+00:00, esta queriendo transformar a nan\n",
      "Error en esta row 2023-03-07 14:31:52.595716+00:00, esta queriendo transformar a nan\n",
      "Error en esta row 2022-09-26 14:32:34.442058+00:00, esta queriendo transformar a nan\n",
      "Error en esta row 2022-08-19 14:20:02.208374+00:00, esta queriendo transformar a nan\n",
      "Error en esta row 2022-11-30 17:15:29.222900+00:00, esta queriendo transformar a nan\n",
      "Error en esta row 2022-08-01 17:35:34.891865+00:00, esta queriendo transformar a nan\n",
      "Error en esta row 2023-03-30 14:57:02.498814+00:00, esta queriendo transformar a nan\n",
      "Error en esta row 2022-10-10 18:07:13.525462+00:00, esta queriendo transformar a nan\n",
      "Error en esta row 2022-08-16 18:28:07.405621+00:00, esta queriendo transformar a nan\n",
      "Error en esta row 2022-09-30 17:31:57.767362+00:00, esta queriendo transformar a nan\n",
      "Error en esta row 2022-11-28 14:46:41.075224+00:00, esta queriendo transformar a nan\n",
      "Error en esta row 2022-10-18 20:04:28.363278+00:00, esta queriendo transformar a nan\n",
      "Error en esta row 2023-02-22 15:58:13.291865+00:00, esta queriendo transformar a nan\n",
      "Error en esta row 2022-12-29 15:42:55.696871+00:00, esta queriendo transformar a nan\n",
      "Error en esta row 2023-03-29 19:06:43.414318+00:00, esta queriendo transformar a nan\n",
      "Error en esta row 2022-09-02 21:31:54.085502+00:00, esta queriendo transformar a nan\n",
      "Error en esta row 2022-09-15 21:44:36.970208+00:00, esta queriendo transformar a nan\n",
      "Error en esta row 2022-09-12 15:16:07.438704+00:00, esta queriendo transformar a nan\n",
      "Error en esta row 2022-08-29 20:28:56.079055+00:00, esta queriendo transformar a nan\n",
      "Error en esta row 2022-09-20 16:26:42.051138+00:00, esta queriendo transformar a nan\n",
      "Error en esta row 2023-02-21 15:43:12.593503+00:00, esta queriendo transformar a nan\n",
      "Error en esta row 2023-03-08 23:28:29.394314+00:00, esta queriendo transformar a nan\n",
      "Error en esta row 2022-09-06 14:23:34.255923+00:00, esta queriendo transformar a nan\n",
      "Error en esta row 2022-09-19 21:16:26.891309+00:00, esta queriendo transformar a nan\n",
      "Error en esta row 2022-09-12 14:59:34.839545+00:00, esta queriendo transformar a nan\n",
      "Error en esta row 2022-12-02 16:40:33.088401+00:00, esta queriendo transformar a nan\n",
      "Error en esta row 2022-11-02 15:46:27.455397+00:00, esta queriendo transformar a nan\n",
      "Error en esta row 2022-08-11 21:29:18.780130+00:00, esta queriendo transformar a nan\n",
      "Error en esta row 2022-10-28 20:47:29.865261+00:00, esta queriendo transformar a nan\n",
      "Error en esta row 2022-12-02 14:46:06.190121+00:00, esta queriendo transformar a nan\n",
      "Error en esta row 2022-09-08 17:48:28.880669+00:00, esta queriendo transformar a nan\n",
      "Error en esta row 2023-02-16 15:50:45.883910+00:00, esta queriendo transformar a nan\n",
      "Error en esta row 2022-12-01 18:13:27.634234+00:00, esta queriendo transformar a nan\n",
      "Error en esta row 2022-11-11 15:23:57.243844+00:00, esta queriendo transformar a nan\n",
      "Error en esta row 2022-10-13 20:07:38.891679+00:00, esta queriendo transformar a nan\n",
      "Error en esta row 2022-10-14 15:26:24.468587+00:00, esta queriendo transformar a nan\n",
      "Error en esta row 2022-08-12 13:55:44.550943+00:00, esta queriendo transformar a nan\n",
      "Error en esta row 2023-01-27 18:42:55.506584+00:00, esta queriendo transformar a nan\n",
      "Error en esta row 2023-03-23 19:08:07.444454+00:00, esta queriendo transformar a nan\n",
      "Error en esta row 2022-12-23 17:08:18.874145+00:00, esta queriendo transformar a nan\n",
      "Error en esta row 2022-12-01 17:41:23.934929+00:00, esta queriendo transformar a nan\n",
      "Error en esta row 2022-09-19 21:22:35.353277+00:00, esta queriendo transformar a nan\n",
      "Error en esta row 2022-11-21 16:10:54.017249+00:00, esta queriendo transformar a nan\n",
      "Error en esta row 2023-03-30 17:17:28.675152+00:00, esta queriendo transformar a nan\n",
      "Error en esta row 2022-09-21 20:35:40.151369+00:00, esta queriendo transformar a nan\n",
      "Error en esta row 2022-07-20 18:45:41.042428+00:00, esta queriendo transformar a nan\n",
      "Error en esta row 2023-02-15 16:02:31.912127+00:00, esta queriendo transformar a nan\n",
      "Error en esta row 2023-01-03 14:52:00.675883+00:00, esta queriendo transformar a nan\n",
      "Error en esta row 2023-03-09 21:22:49.328769+00:00, esta queriendo transformar a nan\n",
      "Error en esta row 2023-03-09 21:22:40.636088+00:00, esta queriendo transformar a nan\n",
      "Error en esta row 2023-03-09 21:23:36.042466+00:00, esta queriendo transformar a nan\n",
      "Error en esta row 2023-03-06 14:55:34.542116+00:00, esta queriendo transformar a nan\n",
      "Error en esta row 2023-01-19 16:36:21.467479+00:00, esta queriendo transformar a nan\n",
      "Error en esta row 2023-03-09 14:38:44.187786+00:00, esta queriendo transformar a nan\n",
      "Error en esta row 2023-01-11 22:12:46.687245+00:00, esta queriendo transformar a nan\n",
      "Error en esta row 2023-02-28 16:29:11.553161+00:00, esta queriendo transformar a nan\n",
      "Error en esta row 2022-07-01 18:34:05.899790+00:00, esta queriendo transformar a nan\n",
      "Error en esta row 2022-07-27 18:32:56.384566+00:00, esta queriendo transformar a nan\n",
      "Error en esta row 2022-07-26 17:06:05.080843+00:00, esta queriendo transformar a nan\n",
      "Error en esta row 2022-07-22 20:49:42.583364+00:00, esta queriendo transformar a nan\n",
      "Error en esta row 2022-07-05 15:42:56.682480+00:00, esta queriendo transformar a nan\n",
      "Error en esta row 2022-07-20 20:53:29.151064+00:00, esta queriendo transformar a nan\n",
      "Error en esta row 2022-07-06 18:43:18.877254+00:00, esta queriendo transformar a nan\n",
      "Error en esta row 2022-07-15 16:03:22.525192+00:00, esta queriendo transformar a nan\n",
      "Error en esta row 2022-07-06 19:37:44.729592+00:00, esta queriendo transformar a nan\n",
      "Error en esta row 2022-07-15 20:39:14.933080+00:00, esta queriendo transformar a nan\n",
      "Error en esta row 2022-07-27 18:05:11.273069+00:00, esta queriendo transformar a nan\n",
      "Error en esta row 2022-07-07 18:29:48.294155+00:00, esta queriendo transformar a nan\n",
      "Error en esta row 2022-07-08 13:26:19.392896+00:00, esta queriendo transformar a nan\n",
      "Error en esta row 2022-07-13 20:09:16.270907+00:00, esta queriendo transformar a nan\n",
      "Error en esta row 2022-07-06 18:37:40.928436+00:00, esta queriendo transformar a nan\n",
      "Error en esta row 2022-07-05 17:01:00.302796+00:00, esta queriendo transformar a nan\n",
      "Error en esta row 2022-07-26 18:38:11.366368+00:00, esta queriendo transformar a nan\n",
      "Error en esta row 2022-07-22 21:49:07.768318+00:00, esta queriendo transformar a nan\n",
      "Error en esta row 2022-07-08 19:39:47.536153+00:00, esta queriendo transformar a nan\n",
      "Error en esta row 2022-07-15 20:44:57.412484+00:00, esta queriendo transformar a nan\n",
      "Error en esta row 2022-07-15 17:26:24.305107+00:00, esta queriendo transformar a nan\n",
      "Error en esta row 2022-07-06 19:55:03.994028+00:00, esta queriendo transformar a nan\n",
      "Error en esta row 2022-07-12 17:11:27.461942+00:00, esta queriendo transformar a nan\n",
      "Error en esta row 2022-07-05 20:53:58.867949+00:00, esta queriendo transformar a nan\n",
      "Error en esta row 2022-07-07 20:05:25.681379+00:00, esta queriendo transformar a nan\n",
      "Error en esta row 2022-07-18 19:32:51.760377+00:00, esta queriendo transformar a nan\n",
      "Error en esta row 2022-07-07 21:05:36.111807+00:00, esta queriendo transformar a nan\n",
      "Error en esta row 2022-07-08 14:44:32.419118+00:00, esta queriendo transformar a nan\n",
      "Error en esta row 2022-07-14 16:54:13.620419+00:00, esta queriendo transformar a nan\n",
      "Error en esta row 2022-07-06 19:30:57.561464+00:00, esta queriendo transformar a nan\n",
      "Error en esta row 2022-07-06 20:36:28.251176+00:00, esta queriendo transformar a nan\n",
      "Error en esta row 2022-07-05 16:00:52.235179+00:00, esta queriendo transformar a nan\n",
      "Error en esta row 2022-07-15 20:37:46.225752+00:00, esta queriendo transformar a nan\n",
      "Error en esta row 2022-07-08 21:33:51.835532+00:00, esta queriendo transformar a nan\n",
      "Error en esta row 2022-07-20 15:45:24.029228+00:00, esta queriendo transformar a nan\n",
      "Error en esta row 2022-07-06 19:39:28.678881+00:00, esta queriendo transformar a nan\n",
      "Error en esta row 2022-07-08 20:51:48.152075+00:00, esta queriendo transformar a nan\n",
      "Error en esta row 2022-07-22 21:31:07.706199+00:00, esta queriendo transformar a nan\n",
      "Error en esta row 2022-07-13 20:04:10.845036+00:00, esta queriendo transformar a nan\n",
      "Error en esta row 2022-07-07 18:31:08.049716+00:00, esta queriendo transformar a nan\n",
      "Error en esta row 2022-07-06 19:47:14.014681+00:00, esta queriendo transformar a nan\n",
      "Error en esta row 2022-07-25 20:13:50.232363+00:00, esta queriendo transformar a nan\n",
      "Error en esta row 2022-07-13 20:11:35.908682+00:00, esta queriendo transformar a nan\n",
      "Error en esta row 2022-07-27 19:31:46.565604+00:00, esta queriendo transformar a nan\n",
      "Error en esta row 2022-07-22 16:04:17.792605+00:00, esta queriendo transformar a nan\n",
      "Error en esta row 2022-07-18 21:24:44.956673+00:00, esta queriendo transformar a nan\n",
      "Error en esta row 2022-07-08 21:42:07.444375+00:00, esta queriendo transformar a nan\n",
      "Error en esta row 2022-07-12 17:01:04.057602+00:00, esta queriendo transformar a nan\n",
      "Error en esta row 2022-07-28 15:47:36.077158+00:00, esta queriendo transformar a nan\n",
      "Error en esta row 2022-07-01 14:32:52.854998+00:00, esta queriendo transformar a nan\n",
      "Error en esta row 2022-07-08 14:33:23.025897+00:00, esta queriendo transformar a nan\n"
     ]
    },
    {
     "name": "stderr",
     "output_type": "stream",
     "text": [
      "/var/folders/xx/hcklcr8s0rxd7p5fz63z342w0000gn/T/ipykernel_46044/1625854705.py:22: SettingWithCopyWarning: \n",
      "A value is trying to be set on a copy of a slice from a DataFrame.\n",
      "Try using .loc[row_indexer,col_indexer] = value instead\n",
      "\n",
      "See the caveats in the documentation: https://pandas.pydata.org/pandas-docs/stable/user_guide/indexing.html#returning-a-view-versus-a-copy\n",
      "  gregors5['Created At'] = pd.to_datetime(gregors5['Created At'])\n",
      "/var/folders/xx/hcklcr8s0rxd7p5fz63z342w0000gn/T/ipykernel_46044/1625854705.py:25: SettingWithCopyWarning: \n",
      "A value is trying to be set on a copy of a slice from a DataFrame.\n",
      "Try using .loc[row_indexer,col_indexer] = value instead\n",
      "\n",
      "See the caveats in the documentation: https://pandas.pydata.org/pandas-docs/stable/user_guide/indexing.html#returning-a-view-versus-a-copy\n",
      "  gregors5['local_time'] = gregors5.apply(convert_to_local_time, axis=1)\n"
     ]
    }
   ],
   "source": [
    "import pytz\n",
    "import pandas as pd\n",
    "\n",
    "def convert_to_local_time(row):\n",
    "    try:\n",
    "        if pd.isnull(row['Created At']) or row['User Phone Timezone'] is None:\n",
    "            return row['Created At']\n",
    "        \n",
    "        local_tz = pytz.timezone(row['hrs-pyz'])\n",
    "        \n",
    "        if row['Created At'].tzinfo is not None:\n",
    "            local_time = row['Created At'].astimezone(local_tz)\n",
    "        else:  \n",
    "            utc_time = pytz.utc.localize(row['Created At'])\n",
    "            local_time = utc_time.astimezone(local_tz)\n",
    "        \n",
    "        return local_time\n",
    "    except Exception as e:\n",
    "        print(f\"Error en esta row {row['Created At']}, esta queriendo transformar a {row['hrs-pyz']}\")\n",
    "        return row['Created At']\n",
    "\n",
    "gregors5['Created At'] = pd.to_datetime(gregors5['Created At'])\n",
    "\n",
    "\n",
    "gregors5['local_time'] = gregors5.apply(convert_to_local_time, axis=1)\n"
   ]
  },
  {
   "cell_type": "markdown",
   "metadata": {},
   "source": [
    "___"
   ]
  },
  {
   "cell_type": "markdown",
   "metadata": {},
   "source": [
    "### Timezone preprocesado\n",
    "\n",
    "##### Tenemos el horario que recibe el cliente la llamada o el sms. Pasos a seguir transforemos el la fecha al horario y luego del horario los transformaremos a si es de mañana, mediodia, noche o madrugada"
   ]
  },
  {
   "cell_type": "code",
   "execution_count": 75,
   "metadata": {},
   "outputs": [
    {
     "data": {
      "text/plain": [
       "'2023-03-27 20:44:47.283091+00:00'"
      ]
     },
     "execution_count": 75,
     "metadata": {},
     "output_type": "execute_result"
    }
   ],
   "source": [
    "\"2023-03-27 20:44:47.283091+00:00\""
   ]
  },
  {
   "cell_type": "code",
   "execution_count": 76,
   "metadata": {},
   "outputs": [
    {
     "data": {
      "text/plain": [
       "0       2023-03-27 20:44:47.283091+00:00\n",
       "1       2022-12-02 15:16:41.600287+00:00\n",
       "2       2023-02-02 14:20:01.939494+00:00\n",
       "3       2023-03-10 14:14:12.105397+00:00\n",
       "4       2023-03-03 22:02:48.992561+00:00\n",
       "                      ...               \n",
       "4085    2022-07-08 21:42:07.444375+00:00\n",
       "4086    2022-07-12 17:01:04.057602+00:00\n",
       "4087    2022-07-28 15:47:36.077158+00:00\n",
       "4088    2022-07-01 14:32:52.854998+00:00\n",
       "4089    2022-07-08 14:33:23.025897+00:00\n",
       "Name: local_time, Length: 4074, dtype: object"
      ]
     },
     "execution_count": 76,
     "metadata": {},
     "output_type": "execute_result"
    }
   ],
   "source": [
    "gregors5['local_time']"
   ]
  },
  {
   "cell_type": "code",
   "execution_count": 77,
   "metadata": {},
   "outputs": [
    {
     "name": "stderr",
     "output_type": "stream",
     "text": [
      "/var/folders/xx/hcklcr8s0rxd7p5fz63z342w0000gn/T/ipykernel_46044/641751673.py:5: SettingWithCopyWarning: \n",
      "A value is trying to be set on a copy of a slice from a DataFrame.\n",
      "Try using .loc[row_indexer,col_indexer] = value instead\n",
      "\n",
      "See the caveats in the documentation: https://pandas.pydata.org/pandas-docs/stable/user_guide/indexing.html#returning-a-view-versus-a-copy\n",
      "  gregors5['local_time_apply'] = gregors5['local_time'].apply(chequear_horario)\n"
     ]
    }
   ],
   "source": [
    "def chequear_horario(horario):\n",
    "    horario = str(horario)\n",
    "    return horario.split(\" \")[1].split(\":\")[0]\n",
    "\n",
    "gregors5['local_time_apply'] = gregors5['local_time'].apply(chequear_horario)"
   ]
  },
  {
   "cell_type": "code",
   "execution_count": 78,
   "metadata": {},
   "outputs": [
    {
     "name": "stderr",
     "output_type": "stream",
     "text": [
      "/var/folders/xx/hcklcr8s0rxd7p5fz63z342w0000gn/T/ipykernel_46044/3505518411.py:1: SettingWithCopyWarning: \n",
      "A value is trying to be set on a copy of a slice from a DataFrame.\n",
      "Try using .loc[row_indexer,col_indexer] = value instead\n",
      "\n",
      "See the caveats in the documentation: https://pandas.pydata.org/pandas-docs/stable/user_guide/indexing.html#returning-a-view-versus-a-copy\n",
      "  gregors5['local_time_apply'] = gregors5['local_time_apply'].astype(int)\n"
     ]
    }
   ],
   "source": [
    "gregors5['local_time_apply'] = gregors5['local_time_apply'].astype(int)"
   ]
  },
  {
   "cell_type": "code",
   "execution_count": 79,
   "metadata": {},
   "outputs": [
    {
     "data": {
      "text/plain": [
       "<Axes: xlabel='local_time_apply', ylabel='Count'>"
      ]
     },
     "execution_count": 79,
     "metadata": {},
     "output_type": "execute_result"
    },
    {
     "data": {
      "image/png": "[encoded data removed]",
      "text/plain": [
       "<Figure size 640x480 with 1 Axes>"
      ]
     },
     "metadata": {},
     "output_type": "display_data"
    }
   ],
   "source": [
    "import seaborn as sns\n",
    "\n",
    "sns.histplot(data=gregors5, x=\"local_time_apply\")\n"
   ]
  },
  {
   "cell_type": "code",
   "execution_count": 80,
   "metadata": {},
   "outputs": [
    {
     "name": "stderr",
     "output_type": "stream",
     "text": [
      "/var/folders/xx/hcklcr8s0rxd7p5fz63z342w0000gn/T/ipykernel_46044/1924821515.py:15: SettingWithCopyWarning: \n",
      "A value is trying to be set on a copy of a slice from a DataFrame.\n",
      "Try using .loc[row_indexer,col_indexer] = value instead\n",
      "\n",
      "See the caveats in the documentation: https://pandas.pydata.org/pandas-docs/stable/user_guide/indexing.html#returning-a-view-versus-a-copy\n",
      "  gregors5['timezone_discretizada'] = gregors5['local_time_apply'].apply(discretizar)\n"
     ]
    }
   ],
   "source": [
    "def discretizar(x): \n",
    "    x = int(x)\n",
    "    if x <= 7:\n",
    "        return \"madrugada\"\n",
    "    if 7 < x <= 12:\n",
    "        return \"mañana\"\n",
    "    if 12 < x <= 13:\n",
    "        return \"mediodía\"\n",
    "    if 13 < x <= 17:\n",
    "        return \"tarde\"\n",
    "    if x > 17:\n",
    "        return \"noche\"\n",
    "    \n",
    "\n",
    "gregors5['timezone_discretizada'] = gregors5['local_time_apply'].apply(discretizar)"
   ]
  },
  {
   "cell_type": "markdown",
   "metadata": {},
   "source": [
    "___"
   ]
  },
  {
   "cell_type": "markdown",
   "metadata": {},
   "source": [
    "# B) Semantica, inconsistencias, linaje"
   ]
  },
  {
   "cell_type": "code",
   "execution_count": 81,
   "metadata": {},
   "outputs": [
    {
     "name": "stdout",
     "output_type": "stream",
     "text": [
      "<class 'pandas.core.frame.DataFrame'>\n",
      "Index: 4074 entries, 0 to 4089\n",
      "Data columns (total 20 columns):\n",
      " #   Column                 Non-Null Count  Dtype              \n",
      "---  ------                 --------------  -----              \n",
      " 0   Client Domain          4074 non-null   object             \n",
      " 1   User Phone Timezone    4074 non-null   object             \n",
      " 2   Created At             4074 non-null   datetime64[ns, UTC]\n",
      " 3   Email Clicks           4074 non-null   int64              \n",
      " 4   Email Opens            4074 non-null   int64              \n",
      " 5   Emails                 4074 non-null   float64            \n",
      " 6   Expired                4074 non-null   int64              \n",
      " 7   Order Funnel State     4074 non-null   object             \n",
      " 8   Sms                    4074 non-null   float64            \n",
      " 9   Sms Clicks             4074 non-null   int64              \n",
      " 10  Sms Opens              4074 non-null   int64              \n",
      " 11  Manager                4074 non-null   object             \n",
      " 12  Source                 4074 non-null   object             \n",
      " 13  order_has_user_email   4074 non-null   bool               \n",
      " 14  order_has_user_phone   4074 non-null   bool               \n",
      " 15  hrs-utc                3824 non-null   object             \n",
      " 16  hrs-pyz                3824 non-null   object             \n",
      " 17  local_time             4074 non-null   object             \n",
      " 18  local_time_apply       4074 non-null   int64              \n",
      " 19  timezone_discretizada  4074 non-null   object             \n",
      "dtypes: bool(2), datetime64[ns, UTC](1), float64(2), int64(6), object(9)\n",
      "memory usage: 612.7+ KB\n"
     ]
    }
   ],
   "source": [
    "gregors5.info()"
   ]
  },
  {
   "cell_type": "markdown",
   "metadata": {},
   "source": [
    "___"
   ]
  },
  {
   "cell_type": "markdown",
   "metadata": {},
   "source": [
    "# TO-DO :\n",
    "## Inconsistencias \n",
    "\n",
    "1. Me gustaria ver cuantos no cumplen con el funnel (que tienen un click sin un email) o no tienen ni telefono, ni email, o se da que no tienen order_has_user_email y le mandaron o mismo tiene un click\n",
    "\n",
    "1. Decidir que hacer. borramos? \n",
    "\n",
    "## Conversion mensual\n",
    "\n",
    "1. Necesitamos crear la columna año-mes\n",
    "\n",
    "2. Reutilizar la columna conversion\n",
    "\n",
    "3. agrupar y sumar, crear la columna tasa.\n",
    "\n",
    "4. ¿Como queda ahora que sacamos los valores inconsistentes?\n",
    "\n",
    "5. Que pasa si sacamos los horarios outliers? Mejora la conversion?\n",
    "\n",
    "## Que otra hipotesis/consejo tenemos para la empresa?"
   ]
  },
  {
   "cell_type": "markdown",
   "metadata": {},
   "source": [
    "___"
   ]
  },
  {
   "cell_type": "markdown",
   "metadata": {},
   "source": [
    "## Chequeo de Hipotesis\n",
    "\n",
    "### Horarios\n",
    "\n",
    "Dado que esperamos que el cliente responda mejor a ciertos horarios nos diponemos a analizar la distribución de los mensjaes/emails por horarios y de la conversión por horarios y rangos de horarios."
   ]
  },
  {
   "cell_type": "code",
   "execution_count": 82,
   "metadata": {},
   "outputs": [
    {
     "data": {
      "text/plain": [
       "<Axes: >"
      ]
     },
     "execution_count": 82,
     "metadata": {},
     "output_type": "execute_result"
    },
    {
     "data": {
      "image/png": "[encoded data removed]",
      "text/plain": [
       "<Figure size 640x480 with 1 Axes>"
      ]
     },
     "metadata": {},
     "output_type": "display_data"
    }
   ],
   "source": [
    "sns.boxplot(gregors5['local_time_apply'])"
   ]
  },
  {
   "cell_type": "code",
   "execution_count": 83,
   "metadata": {},
   "outputs": [
    {
     "data": {
      "text/plain": [
       "52182"
      ]
     },
     "execution_count": 83,
     "metadata": {},
     "output_type": "execute_result"
    }
   ],
   "source": [
    "gregors5['local_time_apply'].sum()"
   ]
  },
  {
   "cell_type": "code",
   "execution_count": 84,
   "metadata": {},
   "outputs": [
    {
     "data": {
      "text/plain": [
       "local_time_apply\n",
       "5       1\n",
       "6      19\n",
       "7      19\n",
       "8     213\n",
       "9     413\n",
       "10    468\n",
       "11    336\n",
       "12    414\n",
       "13    408\n",
       "14    447\n",
       "15    523\n",
       "16    440\n",
       "17    224\n",
       "18     51\n",
       "19     22\n",
       "20     35\n",
       "21     30\n",
       "22      9\n",
       "23      2\n",
       "Name: count, dtype: int64"
      ]
     },
     "execution_count": 84,
     "metadata": {},
     "output_type": "execute_result"
    }
   ],
   "source": [
    "gregors5['local_time_apply'].value_counts().sort_index()"
   ]
  },
  {
   "cell_type": "markdown",
   "metadata": {},
   "source": [
    "#### Preprocesamos la variable tiempo. Ahora tenemos tanto los horarios de los sms o emails, ahora queda estudiar como es la conversión dado el horario."
   ]
  },
  {
   "cell_type": "code",
   "execution_count": 85,
   "metadata": {},
   "outputs": [
    {
     "name": "stderr",
     "output_type": "stream",
     "text": [
      "/var/folders/xx/hcklcr8s0rxd7p5fz63z342w0000gn/T/ipykernel_46044/239625339.py:1: SettingWithCopyWarning: \n",
      "A value is trying to be set on a copy of a slice from a DataFrame.\n",
      "Try using .loc[row_indexer,col_indexer] = value instead\n",
      "\n",
      "See the caveats in the documentation: https://pandas.pydata.org/pandas-docs/stable/user_guide/indexing.html#returning-a-view-versus-a-copy\n",
      "  gregors5[\"conversion\"] = gregors5['Order Funnel State'] == \"9-Completed\"\n"
     ]
    }
   ],
   "source": [
    "gregors5[\"conversion\"] = gregors5['Order Funnel State'] == \"9-Completed\""
   ]
  },
  {
   "cell_type": "code",
   "execution_count": 86,
   "metadata": {},
   "outputs": [
    {
     "name": "stderr",
     "output_type": "stream",
     "text": [
      "/var/folders/xx/hcklcr8s0rxd7p5fz63z342w0000gn/T/ipykernel_46044/2432447905.py:1: SettingWithCopyWarning: \n",
      "A value is trying to be set on a copy of a slice from a DataFrame.\n",
      "Try using .loc[row_indexer,col_indexer] = value instead\n",
      "\n",
      "See the caveats in the documentation: https://pandas.pydata.org/pandas-docs/stable/user_guide/indexing.html#returning-a-view-versus-a-copy\n",
      "  gregors5[\"conversion\"] = gregors5[\"conversion\"].astype(int)\n"
     ]
    }
   ],
   "source": [
    "gregors5[\"conversion\"] = gregors5[\"conversion\"].astype(int)"
   ]
  },
  {
   "cell_type": "code",
   "execution_count": 87,
   "metadata": {},
   "outputs": [
    {
     "data": {
      "text/html": [
       "<div>\n",
       "<style scoped>\n",
       "    .dataframe tbody tr th:only-of-type {\n",
       "        vertical-align: middle;\n",
       "    }\n",
       "\n",
       "    .dataframe tbody tr th {\n",
       "        vertical-align: top;\n",
       "    }\n",
       "\n",
       "    .dataframe thead th {\n",
       "        text-align: right;\n",
       "    }\n",
       "</style>\n",
       "<table border=\"1\" class=\"dataframe\">\n",
       "  <thead>\n",
       "    <tr style=\"text-align: right;\">\n",
       "      <th></th>\n",
       "      <th>cant_conversion</th>\n",
       "      <th>totales</th>\n",
       "    </tr>\n",
       "    <tr>\n",
       "      <th>timezone_discretizada</th>\n",
       "      <th></th>\n",
       "      <th></th>\n",
       "    </tr>\n",
       "  </thead>\n",
       "  <tbody>\n",
       "    <tr>\n",
       "      <th>madrugada</th>\n",
       "      <td>7</td>\n",
       "      <td>39</td>\n",
       "    </tr>\n",
       "    <tr>\n",
       "      <th>mañana</th>\n",
       "      <td>304</td>\n",
       "      <td>1844</td>\n",
       "    </tr>\n",
       "    <tr>\n",
       "      <th>mediodía</th>\n",
       "      <td>67</td>\n",
       "      <td>408</td>\n",
       "    </tr>\n",
       "    <tr>\n",
       "      <th>noche</th>\n",
       "      <td>25</td>\n",
       "      <td>149</td>\n",
       "    </tr>\n",
       "    <tr>\n",
       "      <th>tarde</th>\n",
       "      <td>224</td>\n",
       "      <td>1634</td>\n",
       "    </tr>\n",
       "  </tbody>\n",
       "</table>\n",
       "</div>"
      ],
      "text/plain": [
       "                       cant_conversion  totales\n",
       "timezone_discretizada                          \n",
       "madrugada                            7       39\n",
       "mañana                             304     1844\n",
       "mediodía                            67      408\n",
       "noche                               25      149\n",
       "tarde                              224     1634"
      ]
     },
     "execution_count": 87,
     "metadata": {},
     "output_type": "execute_result"
    }
   ],
   "source": [
    "conv_df = gregors5.groupby('timezone_discretizada', as_index=True).agg(cant_conversion = (\"conversion\",\"sum\"),\n",
    "                                       totales = (\"conversion\",\"count\") )\n",
    "\n",
    "conv_df"
   ]
  },
  {
   "cell_type": "code",
   "execution_count": 88,
   "metadata": {},
   "outputs": [],
   "source": [
    "conv_df[\"%_conversion\"] = conv_df[\"cant_conversion\"]/conv_df[\"totales\"]"
   ]
  },
  {
   "cell_type": "code",
   "execution_count": 89,
   "metadata": {},
   "outputs": [
    {
     "data": {
      "text/html": [
       "<div>\n",
       "<style scoped>\n",
       "    .dataframe tbody tr th:only-of-type {\n",
       "        vertical-align: middle;\n",
       "    }\n",
       "\n",
       "    .dataframe tbody tr th {\n",
       "        vertical-align: top;\n",
       "    }\n",
       "\n",
       "    .dataframe thead th {\n",
       "        text-align: right;\n",
       "    }\n",
       "</style>\n",
       "<table border=\"1\" class=\"dataframe\">\n",
       "  <thead>\n",
       "    <tr style=\"text-align: right;\">\n",
       "      <th></th>\n",
       "      <th>cant_conversion</th>\n",
       "      <th>totales</th>\n",
       "      <th>%_conversion</th>\n",
       "    </tr>\n",
       "    <tr>\n",
       "      <th>timezone_discretizada</th>\n",
       "      <th></th>\n",
       "      <th></th>\n",
       "      <th></th>\n",
       "    </tr>\n",
       "  </thead>\n",
       "  <tbody>\n",
       "    <tr>\n",
       "      <th>madrugada</th>\n",
       "      <td>7</td>\n",
       "      <td>39</td>\n",
       "      <td>0.179487</td>\n",
       "    </tr>\n",
       "    <tr>\n",
       "      <th>mañana</th>\n",
       "      <td>304</td>\n",
       "      <td>1844</td>\n",
       "      <td>0.164859</td>\n",
       "    </tr>\n",
       "    <tr>\n",
       "      <th>mediodía</th>\n",
       "      <td>67</td>\n",
       "      <td>408</td>\n",
       "      <td>0.164216</td>\n",
       "    </tr>\n",
       "    <tr>\n",
       "      <th>noche</th>\n",
       "      <td>25</td>\n",
       "      <td>149</td>\n",
       "      <td>0.167785</td>\n",
       "    </tr>\n",
       "    <tr>\n",
       "      <th>tarde</th>\n",
       "      <td>224</td>\n",
       "      <td>1634</td>\n",
       "      <td>0.137087</td>\n",
       "    </tr>\n",
       "  </tbody>\n",
       "</table>\n",
       "</div>"
      ],
      "text/plain": [
       "                       cant_conversion  totales  %_conversion\n",
       "timezone_discretizada                                        \n",
       "madrugada                            7       39      0.179487\n",
       "mañana                             304     1844      0.164859\n",
       "mediodía                            67      408      0.164216\n",
       "noche                               25      149      0.167785\n",
       "tarde                              224     1634      0.137087"
      ]
     },
     "execution_count": 89,
     "metadata": {},
     "output_type": "execute_result"
    }
   ],
   "source": [
    "conv_df"
   ]
  },
  {
   "cell_type": "code",
   "execution_count": 90,
   "metadata": {},
   "outputs": [
    {
     "data": {
      "text/html": [
       "<div>\n",
       "<style scoped>\n",
       "    .dataframe tbody tr th:only-of-type {\n",
       "        vertical-align: middle;\n",
       "    }\n",
       "\n",
       "    .dataframe tbody tr th {\n",
       "        vertical-align: top;\n",
       "    }\n",
       "\n",
       "    .dataframe thead th {\n",
       "        text-align: right;\n",
       "    }\n",
       "</style>\n",
       "<table border=\"1\" class=\"dataframe\">\n",
       "  <thead>\n",
       "    <tr style=\"text-align: right;\">\n",
       "      <th></th>\n",
       "      <th>cant_conversion</th>\n",
       "      <th>totales</th>\n",
       "      <th>%_conversion</th>\n",
       "    </tr>\n",
       "    <tr>\n",
       "      <th>local_time_apply</th>\n",
       "      <th></th>\n",
       "      <th></th>\n",
       "      <th></th>\n",
       "    </tr>\n",
       "  </thead>\n",
       "  <tbody>\n",
       "    <tr>\n",
       "      <th>5</th>\n",
       "      <td>0</td>\n",
       "      <td>1</td>\n",
       "      <td>0.000000</td>\n",
       "    </tr>\n",
       "    <tr>\n",
       "      <th>6</th>\n",
       "      <td>5</td>\n",
       "      <td>19</td>\n",
       "      <td>0.263158</td>\n",
       "    </tr>\n",
       "    <tr>\n",
       "      <th>7</th>\n",
       "      <td>2</td>\n",
       "      <td>19</td>\n",
       "      <td>0.105263</td>\n",
       "    </tr>\n",
       "    <tr>\n",
       "      <th>8</th>\n",
       "      <td>37</td>\n",
       "      <td>213</td>\n",
       "      <td>0.173709</td>\n",
       "    </tr>\n",
       "    <tr>\n",
       "      <th>9</th>\n",
       "      <td>72</td>\n",
       "      <td>413</td>\n",
       "      <td>0.174334</td>\n",
       "    </tr>\n",
       "    <tr>\n",
       "      <th>10</th>\n",
       "      <td>74</td>\n",
       "      <td>468</td>\n",
       "      <td>0.158120</td>\n",
       "    </tr>\n",
       "    <tr>\n",
       "      <th>11</th>\n",
       "      <td>48</td>\n",
       "      <td>336</td>\n",
       "      <td>0.142857</td>\n",
       "    </tr>\n",
       "    <tr>\n",
       "      <th>12</th>\n",
       "      <td>73</td>\n",
       "      <td>414</td>\n",
       "      <td>0.176329</td>\n",
       "    </tr>\n",
       "    <tr>\n",
       "      <th>13</th>\n",
       "      <td>67</td>\n",
       "      <td>408</td>\n",
       "      <td>0.164216</td>\n",
       "    </tr>\n",
       "    <tr>\n",
       "      <th>14</th>\n",
       "      <td>58</td>\n",
       "      <td>447</td>\n",
       "      <td>0.129754</td>\n",
       "    </tr>\n",
       "    <tr>\n",
       "      <th>15</th>\n",
       "      <td>71</td>\n",
       "      <td>523</td>\n",
       "      <td>0.135755</td>\n",
       "    </tr>\n",
       "    <tr>\n",
       "      <th>16</th>\n",
       "      <td>66</td>\n",
       "      <td>440</td>\n",
       "      <td>0.150000</td>\n",
       "    </tr>\n",
       "    <tr>\n",
       "      <th>17</th>\n",
       "      <td>29</td>\n",
       "      <td>224</td>\n",
       "      <td>0.129464</td>\n",
       "    </tr>\n",
       "    <tr>\n",
       "      <th>18</th>\n",
       "      <td>8</td>\n",
       "      <td>51</td>\n",
       "      <td>0.156863</td>\n",
       "    </tr>\n",
       "    <tr>\n",
       "      <th>19</th>\n",
       "      <td>3</td>\n",
       "      <td>22</td>\n",
       "      <td>0.136364</td>\n",
       "    </tr>\n",
       "    <tr>\n",
       "      <th>20</th>\n",
       "      <td>9</td>\n",
       "      <td>35</td>\n",
       "      <td>0.257143</td>\n",
       "    </tr>\n",
       "    <tr>\n",
       "      <th>21</th>\n",
       "      <td>3</td>\n",
       "      <td>30</td>\n",
       "      <td>0.100000</td>\n",
       "    </tr>\n",
       "    <tr>\n",
       "      <th>22</th>\n",
       "      <td>2</td>\n",
       "      <td>9</td>\n",
       "      <td>0.222222</td>\n",
       "    </tr>\n",
       "    <tr>\n",
       "      <th>23</th>\n",
       "      <td>0</td>\n",
       "      <td>2</td>\n",
       "      <td>0.000000</td>\n",
       "    </tr>\n",
       "  </tbody>\n",
       "</table>\n",
       "</div>"
      ],
      "text/plain": [
       "                  cant_conversion  totales  %_conversion\n",
       "local_time_apply                                        \n",
       "5                               0        1      0.000000\n",
       "6                               5       19      0.263158\n",
       "7                               2       19      0.105263\n",
       "8                              37      213      0.173709\n",
       "9                              72      413      0.174334\n",
       "10                             74      468      0.158120\n",
       "11                             48      336      0.142857\n",
       "12                             73      414      0.176329\n",
       "13                             67      408      0.164216\n",
       "14                             58      447      0.129754\n",
       "15                             71      523      0.135755\n",
       "16                             66      440      0.150000\n",
       "17                             29      224      0.129464\n",
       "18                              8       51      0.156863\n",
       "19                              3       22      0.136364\n",
       "20                              9       35      0.257143\n",
       "21                              3       30      0.100000\n",
       "22                              2        9      0.222222\n",
       "23                              0        2      0.000000"
      ]
     },
     "execution_count": 90,
     "metadata": {},
     "output_type": "execute_result"
    }
   ],
   "source": [
    "conv_df_time = gregors5.groupby('local_time_apply', as_index=True).agg(cant_conversion = (\"conversion\",\"sum\"),\n",
    "                                       totales = (\"conversion\",\"count\") )\n",
    "\n",
    "conv_df_time[\"%_conversion\"] = conv_df_time[\"cant_conversion\"]/conv_df_time[\"totales\"]\n",
    "conv_df_time"
   ]
  },
  {
   "cell_type": "markdown",
   "metadata": {},
   "source": [
    "___"
   ]
  },
  {
   "cell_type": "markdown",
   "metadata": {},
   "source": [
    "# Hipótesis 2: Expired\n",
    "\n",
    "#### A mayor cantidad de expired, mayor es la probabilidad de no conversión."
   ]
  },
  {
   "cell_type": "code",
   "execution_count": 91,
   "metadata": {},
   "outputs": [
    {
     "data": {
      "text/plain": [
       "['Client Domain',\n",
       " 'User Phone Timezone',\n",
       " 'Created At',\n",
       " 'Email Clicks',\n",
       " 'Email Opens',\n",
       " 'Emails',\n",
       " 'Expired',\n",
       " 'Order Funnel State',\n",
       " 'Sms',\n",
       " 'Sms Clicks',\n",
       " 'Sms Opens',\n",
       " 'Manager',\n",
       " 'Source',\n",
       " 'order_has_user_email',\n",
       " 'order_has_user_phone',\n",
       " 'hrs-utc',\n",
       " 'hrs-pyz',\n",
       " 'local_time',\n",
       " 'local_time_apply',\n",
       " 'timezone_discretizada',\n",
       " 'conversion']"
      ]
     },
     "execution_count": 91,
     "metadata": {},
     "output_type": "execute_result"
    }
   ],
   "source": [
    "list(gregors5)"
   ]
  },
  {
   "cell_type": "code",
   "execution_count": 92,
   "metadata": {},
   "outputs": [
    {
     "data": {
      "text/html": [
       "<div>\n",
       "<style scoped>\n",
       "    .dataframe tbody tr th:only-of-type {\n",
       "        vertical-align: middle;\n",
       "    }\n",
       "\n",
       "    .dataframe tbody tr th {\n",
       "        vertical-align: top;\n",
       "    }\n",
       "\n",
       "    .dataframe thead th {\n",
       "        text-align: right;\n",
       "    }\n",
       "</style>\n",
       "<table border=\"1\" class=\"dataframe\">\n",
       "  <thead>\n",
       "    <tr style=\"text-align: right;\">\n",
       "      <th></th>\n",
       "      <th>cantidad_expired</th>\n",
       "      <th>media_expired</th>\n",
       "    </tr>\n",
       "    <tr>\n",
       "      <th>conversion</th>\n",
       "      <th></th>\n",
       "      <th></th>\n",
       "    </tr>\n",
       "  </thead>\n",
       "  <tbody>\n",
       "    <tr>\n",
       "      <th>0</th>\n",
       "      <td>3011</td>\n",
       "      <td>0.873513</td>\n",
       "    </tr>\n",
       "    <tr>\n",
       "      <th>1</th>\n",
       "      <td>38</td>\n",
       "      <td>0.060606</td>\n",
       "    </tr>\n",
       "  </tbody>\n",
       "</table>\n",
       "</div>"
      ],
      "text/plain": [
       "            cantidad_expired  media_expired\n",
       "conversion                                 \n",
       "0                       3011       0.873513\n",
       "1                         38       0.060606"
      ]
     },
     "execution_count": 92,
     "metadata": {},
     "output_type": "execute_result"
    }
   ],
   "source": [
    "gregors5.groupby(\"conversion\").agg(cantidad_expired =(\"Expired\",\"sum\"),\n",
    "                            media_expired =(\"Expired\",\"mean\")) "
   ]
  },
  {
   "cell_type": "code",
   "execution_count": 93,
   "metadata": {},
   "outputs": [
    {
     "data": {
      "text/html": [
       "<div>\n",
       "<style scoped>\n",
       "    .dataframe tbody tr th:only-of-type {\n",
       "        vertical-align: middle;\n",
       "    }\n",
       "\n",
       "    .dataframe tbody tr th {\n",
       "        vertical-align: top;\n",
       "    }\n",
       "\n",
       "    .dataframe thead th {\n",
       "        text-align: right;\n",
       "    }\n",
       "</style>\n",
       "<table border=\"1\" class=\"dataframe\">\n",
       "  <thead>\n",
       "    <tr style=\"text-align: right;\">\n",
       "      <th></th>\n",
       "      <th>cant_conv</th>\n",
       "      <th>total_de_muestra</th>\n",
       "      <th>tasa_conv</th>\n",
       "    </tr>\n",
       "    <tr>\n",
       "      <th>Expired</th>\n",
       "      <th></th>\n",
       "      <th></th>\n",
       "      <th></th>\n",
       "    </tr>\n",
       "  </thead>\n",
       "  <tbody>\n",
       "    <tr>\n",
       "      <th>0</th>\n",
       "      <td>598</td>\n",
       "      <td>1185</td>\n",
       "      <td>0.504641</td>\n",
       "    </tr>\n",
       "    <tr>\n",
       "      <th>1</th>\n",
       "      <td>22</td>\n",
       "      <td>2761</td>\n",
       "      <td>0.007968</td>\n",
       "    </tr>\n",
       "    <tr>\n",
       "      <th>2</th>\n",
       "      <td>5</td>\n",
       "      <td>104</td>\n",
       "      <td>0.048077</td>\n",
       "    </tr>\n",
       "    <tr>\n",
       "      <th>3</th>\n",
       "      <td>2</td>\n",
       "      <td>16</td>\n",
       "      <td>0.125000</td>\n",
       "    </tr>\n",
       "    <tr>\n",
       "      <th>4</th>\n",
       "      <td>0</td>\n",
       "      <td>8</td>\n",
       "      <td>0.000000</td>\n",
       "    </tr>\n",
       "  </tbody>\n",
       "</table>\n",
       "</div>"
      ],
      "text/plain": [
       "         cant_conv  total_de_muestra  tasa_conv\n",
       "Expired                                        \n",
       "0              598              1185   0.504641\n",
       "1               22              2761   0.007968\n",
       "2                5               104   0.048077\n",
       "3                2                16   0.125000\n",
       "4                0                 8   0.000000"
      ]
     },
     "execution_count": 93,
     "metadata": {},
     "output_type": "execute_result"
    }
   ],
   "source": [
    "df_exp = gregors5.groupby(\"Expired\").agg(cant_conv =(\"conversion\",\"sum\"),\n",
    "                                                     total_de_muestra= (\"conversion\",\"count\"),\n",
    "                         tasa_conv =(\"conversion\",\"mean\")) \n",
    "\n",
    "df_exp"
   ]
  },
  {
   "cell_type": "markdown",
   "metadata": {},
   "source": [
    "#### Me pregunto. ¿Cómo quedara tasa de conversion global o mes a mes, sacando aquellos que tienen expired == 4 y tmb podriamos sacar == 3)"
   ]
  },
  {
   "cell_type": "code",
   "execution_count": 94,
   "metadata": {},
   "outputs": [
    {
     "data": {
      "text/plain": [
       "627"
      ]
     },
     "execution_count": 94,
     "metadata": {},
     "output_type": "execute_result"
    }
   ],
   "source": [
    "df_exp.cant_conv.sum()"
   ]
  },
  {
   "cell_type": "code",
   "execution_count": 95,
   "metadata": {},
   "outputs": [
    {
     "data": {
      "text/plain": [
       "0.9537480063795853"
      ]
     },
     "execution_count": 95,
     "metadata": {},
     "output_type": "execute_result"
    }
   ],
   "source": [
    "598/627"
   ]
  },
  {
   "cell_type": "markdown",
   "metadata": {},
   "source": [
    "#### Recomendacion a la empresa: Si te cobran cada vez que mandas un sms/email a un cliente ¿Vale la pena mandarle una vez que expired? dado que el 95% de los que convirtieron nunca tuvieron valor mayor a 0 en expired"
   ]
  },
  {
   "cell_type": "markdown",
   "metadata": {},
   "source": [
    "___"
   ]
  },
  {
   "cell_type": "markdown",
   "metadata": {},
   "source": [
    "# Conversión definido como llegar hasta lo último del funnel\n",
    "\n",
    "### 1) Análisis de tasa de conversión por timezone\n",
    "### 2) Conversión por horarios del día\n",
    "### 3) Conversión por horarios del día por timezone\n",
    "### 4) Relación entre emails clicks o sms clicks y conversión\n",
    "### 5) Relación entre gente que tiene email y conversión"
   ]
  },
  {
   "cell_type": "markdown",
   "metadata": {},
   "source": [
    "____"
   ]
  },
  {
   "cell_type": "markdown",
   "metadata": {},
   "source": [
    "# 1) Análisis de tasa de conversión por timezone"
   ]
  },
  {
   "cell_type": "markdown",
   "metadata": {},
   "source": [
    "___"
   ]
  },
  {
   "cell_type": "markdown",
   "metadata": {},
   "source": [
    "# 2) Conversión por horarios del día"
   ]
  },
  {
   "cell_type": "code",
   "execution_count": 96,
   "metadata": {},
   "outputs": [
    {
     "data": {
      "text/html": [
       "<div>\n",
       "<style scoped>\n",
       "    .dataframe tbody tr th:only-of-type {\n",
       "        vertical-align: middle;\n",
       "    }\n",
       "\n",
       "    .dataframe tbody tr th {\n",
       "        vertical-align: top;\n",
       "    }\n",
       "\n",
       "    .dataframe thead th {\n",
       "        text-align: right;\n",
       "    }\n",
       "</style>\n",
       "<table border=\"1\" class=\"dataframe\">\n",
       "  <thead>\n",
       "    <tr style=\"text-align: right;\">\n",
       "      <th></th>\n",
       "      <th>local_time_apply</th>\n",
       "      <th>cant_conv</th>\n",
       "      <th>total_de_muestra</th>\n",
       "      <th>tasa_conv</th>\n",
       "    </tr>\n",
       "  </thead>\n",
       "  <tbody>\n",
       "    <tr>\n",
       "      <th>0</th>\n",
       "      <td>5</td>\n",
       "      <td>0</td>\n",
       "      <td>1</td>\n",
       "      <td>0.000000</td>\n",
       "    </tr>\n",
       "    <tr>\n",
       "      <th>1</th>\n",
       "      <td>6</td>\n",
       "      <td>5</td>\n",
       "      <td>19</td>\n",
       "      <td>0.263158</td>\n",
       "    </tr>\n",
       "    <tr>\n",
       "      <th>2</th>\n",
       "      <td>7</td>\n",
       "      <td>2</td>\n",
       "      <td>19</td>\n",
       "      <td>0.105263</td>\n",
       "    </tr>\n",
       "    <tr>\n",
       "      <th>3</th>\n",
       "      <td>8</td>\n",
       "      <td>37</td>\n",
       "      <td>213</td>\n",
       "      <td>0.173709</td>\n",
       "    </tr>\n",
       "    <tr>\n",
       "      <th>4</th>\n",
       "      <td>9</td>\n",
       "      <td>72</td>\n",
       "      <td>413</td>\n",
       "      <td>0.174334</td>\n",
       "    </tr>\n",
       "    <tr>\n",
       "      <th>5</th>\n",
       "      <td>10</td>\n",
       "      <td>74</td>\n",
       "      <td>468</td>\n",
       "      <td>0.158120</td>\n",
       "    </tr>\n",
       "    <tr>\n",
       "      <th>6</th>\n",
       "      <td>11</td>\n",
       "      <td>48</td>\n",
       "      <td>336</td>\n",
       "      <td>0.142857</td>\n",
       "    </tr>\n",
       "    <tr>\n",
       "      <th>7</th>\n",
       "      <td>12</td>\n",
       "      <td>73</td>\n",
       "      <td>414</td>\n",
       "      <td>0.176329</td>\n",
       "    </tr>\n",
       "    <tr>\n",
       "      <th>8</th>\n",
       "      <td>13</td>\n",
       "      <td>67</td>\n",
       "      <td>408</td>\n",
       "      <td>0.164216</td>\n",
       "    </tr>\n",
       "    <tr>\n",
       "      <th>9</th>\n",
       "      <td>14</td>\n",
       "      <td>58</td>\n",
       "      <td>447</td>\n",
       "      <td>0.129754</td>\n",
       "    </tr>\n",
       "    <tr>\n",
       "      <th>10</th>\n",
       "      <td>15</td>\n",
       "      <td>71</td>\n",
       "      <td>523</td>\n",
       "      <td>0.135755</td>\n",
       "    </tr>\n",
       "    <tr>\n",
       "      <th>11</th>\n",
       "      <td>16</td>\n",
       "      <td>66</td>\n",
       "      <td>440</td>\n",
       "      <td>0.150000</td>\n",
       "    </tr>\n",
       "    <tr>\n",
       "      <th>12</th>\n",
       "      <td>17</td>\n",
       "      <td>29</td>\n",
       "      <td>224</td>\n",
       "      <td>0.129464</td>\n",
       "    </tr>\n",
       "    <tr>\n",
       "      <th>13</th>\n",
       "      <td>18</td>\n",
       "      <td>8</td>\n",
       "      <td>51</td>\n",
       "      <td>0.156863</td>\n",
       "    </tr>\n",
       "    <tr>\n",
       "      <th>14</th>\n",
       "      <td>19</td>\n",
       "      <td>3</td>\n",
       "      <td>22</td>\n",
       "      <td>0.136364</td>\n",
       "    </tr>\n",
       "    <tr>\n",
       "      <th>15</th>\n",
       "      <td>20</td>\n",
       "      <td>9</td>\n",
       "      <td>35</td>\n",
       "      <td>0.257143</td>\n",
       "    </tr>\n",
       "    <tr>\n",
       "      <th>16</th>\n",
       "      <td>21</td>\n",
       "      <td>3</td>\n",
       "      <td>30</td>\n",
       "      <td>0.100000</td>\n",
       "    </tr>\n",
       "    <tr>\n",
       "      <th>17</th>\n",
       "      <td>22</td>\n",
       "      <td>2</td>\n",
       "      <td>9</td>\n",
       "      <td>0.222222</td>\n",
       "    </tr>\n",
       "    <tr>\n",
       "      <th>18</th>\n",
       "      <td>23</td>\n",
       "      <td>0</td>\n",
       "      <td>2</td>\n",
       "      <td>0.000000</td>\n",
       "    </tr>\n",
       "  </tbody>\n",
       "</table>\n",
       "</div>"
      ],
      "text/plain": [
       "    local_time_apply  cant_conv  total_de_muestra  tasa_conv\n",
       "0                  5          0                 1   0.000000\n",
       "1                  6          5                19   0.263158\n",
       "2                  7          2                19   0.105263\n",
       "3                  8         37               213   0.173709\n",
       "4                  9         72               413   0.174334\n",
       "5                 10         74               468   0.158120\n",
       "6                 11         48               336   0.142857\n",
       "7                 12         73               414   0.176329\n",
       "8                 13         67               408   0.164216\n",
       "9                 14         58               447   0.129754\n",
       "10                15         71               523   0.135755\n",
       "11                16         66               440   0.150000\n",
       "12                17         29               224   0.129464\n",
       "13                18          8                51   0.156863\n",
       "14                19          3                22   0.136364\n",
       "15                20          9                35   0.257143\n",
       "16                21          3                30   0.100000\n",
       "17                22          2                 9   0.222222\n",
       "18                23          0                 2   0.000000"
      ]
     },
     "execution_count": 96,
     "metadata": {},
     "output_type": "execute_result"
    }
   ],
   "source": [
    "conv_por_horarios_del_dia = gregors5.groupby(\"local_time_apply\").agg(cant_conv =(\"conversion\",\"sum\"),\n",
    "                                                        total_de_muestra= (\"conversion\",\"count\"),\n",
    "                            tasa_conv =(\"conversion\",\"mean\")).reset_index()\n",
    "\n",
    "conv_por_horarios_del_dia"
   ]
  },
  {
   "cell_type": "code",
   "execution_count": 117,
   "metadata": {},
   "outputs": [
    {
     "data": {
      "text/plain": [
       "<Axes: xlabel='local_time_apply', ylabel='tasa_conv'>"
      ]
     },
     "execution_count": 117,
     "metadata": {},
     "output_type": "execute_result"
    },
    {
     "data": {
      "image/png": "[encoded data removed]",
      "text/plain": [
       "<Figure size 640x480 with 1 Axes>"
      ]
     },
     "metadata": {},
     "output_type": "display_data"
    }
   ],
   "source": [
    "sns.barplot(data=conv_por_horarios_del_dia, x=\"local_time_apply\", y=\"tasa_conv\", edgecolor=\"black\")"
   ]
  },
  {
   "cell_type": "markdown",
   "metadata": {},
   "source": [
    "____"
   ]
  },
  {
   "cell_type": "markdown",
   "metadata": {},
   "source": [
    "# 3) Conversión por horarios del día por timezone"
   ]
  },
  {
   "cell_type": "code",
   "execution_count": 98,
   "metadata": {},
   "outputs": [
    {
     "data": {
      "text/plain": [
       "0       20\n",
       "1       15\n",
       "2       14\n",
       "3       14\n",
       "4       22\n",
       "        ..\n",
       "4085    21\n",
       "4086    17\n",
       "4087    15\n",
       "4088    14\n",
       "4089    14\n",
       "Name: Created At, Length: 4074, dtype: int32"
      ]
     },
     "execution_count": 98,
     "metadata": {},
     "output_type": "execute_result"
    }
   ],
   "source": [
    "solo_horas = gregors5[\"Created At\"].dt.hour\n",
    "solo_horas"
   ]
  },
  {
   "cell_type": "code",
   "execution_count": 99,
   "metadata": {},
   "outputs": [
    {
     "data": {
      "text/html": [
       "<div>\n",
       "<style scoped>\n",
       "    .dataframe tbody tr th:only-of-type {\n",
       "        vertical-align: middle;\n",
       "    }\n",
       "\n",
       "    .dataframe tbody tr th {\n",
       "        vertical-align: top;\n",
       "    }\n",
       "\n",
       "    .dataframe thead th {\n",
       "        text-align: right;\n",
       "    }\n",
       "</style>\n",
       "<table border=\"1\" class=\"dataframe\">\n",
       "  <thead>\n",
       "    <tr style=\"text-align: right;\">\n",
       "      <th></th>\n",
       "      <th>hrs-pyz</th>\n",
       "      <th>local_time_apply</th>\n",
       "      <th>cant_conv</th>\n",
       "      <th>total_de_muestra</th>\n",
       "      <th>tasa_conv</th>\n",
       "    </tr>\n",
       "  </thead>\n",
       "  <tbody>\n",
       "    <tr>\n",
       "      <th>0</th>\n",
       "      <td>America/Chicago</td>\n",
       "      <td>7</td>\n",
       "      <td>0</td>\n",
       "      <td>2</td>\n",
       "      <td>0.000000</td>\n",
       "    </tr>\n",
       "    <tr>\n",
       "      <th>1</th>\n",
       "      <td>America/Chicago</td>\n",
       "      <td>8</td>\n",
       "      <td>35</td>\n",
       "      <td>191</td>\n",
       "      <td>0.183246</td>\n",
       "    </tr>\n",
       "    <tr>\n",
       "      <th>2</th>\n",
       "      <td>America/Chicago</td>\n",
       "      <td>9</td>\n",
       "      <td>40</td>\n",
       "      <td>281</td>\n",
       "      <td>0.142349</td>\n",
       "    </tr>\n",
       "    <tr>\n",
       "      <th>3</th>\n",
       "      <td>America/Chicago</td>\n",
       "      <td>10</td>\n",
       "      <td>32</td>\n",
       "      <td>299</td>\n",
       "      <td>0.107023</td>\n",
       "    </tr>\n",
       "    <tr>\n",
       "      <th>4</th>\n",
       "      <td>America/Chicago</td>\n",
       "      <td>11</td>\n",
       "      <td>30</td>\n",
       "      <td>178</td>\n",
       "      <td>0.168539</td>\n",
       "    </tr>\n",
       "    <tr>\n",
       "      <th>5</th>\n",
       "      <td>America/Chicago</td>\n",
       "      <td>12</td>\n",
       "      <td>47</td>\n",
       "      <td>251</td>\n",
       "      <td>0.187251</td>\n",
       "    </tr>\n",
       "    <tr>\n",
       "      <th>6</th>\n",
       "      <td>America/Chicago</td>\n",
       "      <td>13</td>\n",
       "      <td>35</td>\n",
       "      <td>231</td>\n",
       "      <td>0.151515</td>\n",
       "    </tr>\n",
       "    <tr>\n",
       "      <th>7</th>\n",
       "      <td>America/Chicago</td>\n",
       "      <td>14</td>\n",
       "      <td>34</td>\n",
       "      <td>248</td>\n",
       "      <td>0.137097</td>\n",
       "    </tr>\n",
       "    <tr>\n",
       "      <th>8</th>\n",
       "      <td>America/Chicago</td>\n",
       "      <td>15</td>\n",
       "      <td>40</td>\n",
       "      <td>338</td>\n",
       "      <td>0.118343</td>\n",
       "    </tr>\n",
       "    <tr>\n",
       "      <th>9</th>\n",
       "      <td>America/Chicago</td>\n",
       "      <td>16</td>\n",
       "      <td>37</td>\n",
       "      <td>282</td>\n",
       "      <td>0.131206</td>\n",
       "    </tr>\n",
       "    <tr>\n",
       "      <th>10</th>\n",
       "      <td>America/Chicago</td>\n",
       "      <td>17</td>\n",
       "      <td>9</td>\n",
       "      <td>47</td>\n",
       "      <td>0.191489</td>\n",
       "    </tr>\n",
       "    <tr>\n",
       "      <th>11</th>\n",
       "      <td>America/Chicago</td>\n",
       "      <td>18</td>\n",
       "      <td>0</td>\n",
       "      <td>7</td>\n",
       "      <td>0.000000</td>\n",
       "    </tr>\n",
       "    <tr>\n",
       "      <th>12</th>\n",
       "      <td>America/Chicago</td>\n",
       "      <td>22</td>\n",
       "      <td>1</td>\n",
       "      <td>2</td>\n",
       "      <td>0.500000</td>\n",
       "    </tr>\n",
       "    <tr>\n",
       "      <th>13</th>\n",
       "      <td>America/Denver</td>\n",
       "      <td>7</td>\n",
       "      <td>0</td>\n",
       "      <td>4</td>\n",
       "      <td>0.000000</td>\n",
       "    </tr>\n",
       "    <tr>\n",
       "      <th>14</th>\n",
       "      <td>America/Denver</td>\n",
       "      <td>8</td>\n",
       "      <td>1</td>\n",
       "      <td>6</td>\n",
       "      <td>0.166667</td>\n",
       "    </tr>\n",
       "    <tr>\n",
       "      <th>15</th>\n",
       "      <td>America/Denver</td>\n",
       "      <td>9</td>\n",
       "      <td>2</td>\n",
       "      <td>8</td>\n",
       "      <td>0.250000</td>\n",
       "    </tr>\n",
       "    <tr>\n",
       "      <th>16</th>\n",
       "      <td>America/Denver</td>\n",
       "      <td>10</td>\n",
       "      <td>2</td>\n",
       "      <td>4</td>\n",
       "      <td>0.500000</td>\n",
       "    </tr>\n",
       "    <tr>\n",
       "      <th>17</th>\n",
       "      <td>America/Denver</td>\n",
       "      <td>11</td>\n",
       "      <td>3</td>\n",
       "      <td>5</td>\n",
       "      <td>0.600000</td>\n",
       "    </tr>\n",
       "    <tr>\n",
       "      <th>18</th>\n",
       "      <td>America/Denver</td>\n",
       "      <td>12</td>\n",
       "      <td>1</td>\n",
       "      <td>8</td>\n",
       "      <td>0.125000</td>\n",
       "    </tr>\n",
       "    <tr>\n",
       "      <th>19</th>\n",
       "      <td>America/Denver</td>\n",
       "      <td>13</td>\n",
       "      <td>0</td>\n",
       "      <td>6</td>\n",
       "      <td>0.000000</td>\n",
       "    </tr>\n",
       "    <tr>\n",
       "      <th>20</th>\n",
       "      <td>America/Denver</td>\n",
       "      <td>14</td>\n",
       "      <td>0</td>\n",
       "      <td>9</td>\n",
       "      <td>0.000000</td>\n",
       "    </tr>\n",
       "    <tr>\n",
       "      <th>21</th>\n",
       "      <td>America/Denver</td>\n",
       "      <td>15</td>\n",
       "      <td>0</td>\n",
       "      <td>4</td>\n",
       "      <td>0.000000</td>\n",
       "    </tr>\n",
       "    <tr>\n",
       "      <th>22</th>\n",
       "      <td>America/Los_Angeles</td>\n",
       "      <td>5</td>\n",
       "      <td>0</td>\n",
       "      <td>1</td>\n",
       "      <td>0.000000</td>\n",
       "    </tr>\n",
       "    <tr>\n",
       "      <th>23</th>\n",
       "      <td>America/Los_Angeles</td>\n",
       "      <td>6</td>\n",
       "      <td>5</td>\n",
       "      <td>19</td>\n",
       "      <td>0.263158</td>\n",
       "    </tr>\n",
       "    <tr>\n",
       "      <th>24</th>\n",
       "      <td>America/Los_Angeles</td>\n",
       "      <td>7</td>\n",
       "      <td>2</td>\n",
       "      <td>13</td>\n",
       "      <td>0.153846</td>\n",
       "    </tr>\n",
       "    <tr>\n",
       "      <th>25</th>\n",
       "      <td>America/Los_Angeles</td>\n",
       "      <td>8</td>\n",
       "      <td>1</td>\n",
       "      <td>16</td>\n",
       "      <td>0.062500</td>\n",
       "    </tr>\n",
       "    <tr>\n",
       "      <th>26</th>\n",
       "      <td>America/Los_Angeles</td>\n",
       "      <td>9</td>\n",
       "      <td>1</td>\n",
       "      <td>14</td>\n",
       "      <td>0.071429</td>\n",
       "    </tr>\n",
       "    <tr>\n",
       "      <th>27</th>\n",
       "      <td>America/Los_Angeles</td>\n",
       "      <td>10</td>\n",
       "      <td>2</td>\n",
       "      <td>13</td>\n",
       "      <td>0.153846</td>\n",
       "    </tr>\n",
       "    <tr>\n",
       "      <th>28</th>\n",
       "      <td>America/Los_Angeles</td>\n",
       "      <td>11</td>\n",
       "      <td>1</td>\n",
       "      <td>10</td>\n",
       "      <td>0.100000</td>\n",
       "    </tr>\n",
       "    <tr>\n",
       "      <th>29</th>\n",
       "      <td>America/Los_Angeles</td>\n",
       "      <td>12</td>\n",
       "      <td>1</td>\n",
       "      <td>11</td>\n",
       "      <td>0.090909</td>\n",
       "    </tr>\n",
       "    <tr>\n",
       "      <th>30</th>\n",
       "      <td>America/Los_Angeles</td>\n",
       "      <td>13</td>\n",
       "      <td>1</td>\n",
       "      <td>12</td>\n",
       "      <td>0.083333</td>\n",
       "    </tr>\n",
       "    <tr>\n",
       "      <th>31</th>\n",
       "      <td>America/Los_Angeles</td>\n",
       "      <td>14</td>\n",
       "      <td>1</td>\n",
       "      <td>19</td>\n",
       "      <td>0.052632</td>\n",
       "    </tr>\n",
       "    <tr>\n",
       "      <th>32</th>\n",
       "      <td>America/New_York</td>\n",
       "      <td>9</td>\n",
       "      <td>29</td>\n",
       "      <td>110</td>\n",
       "      <td>0.263636</td>\n",
       "    </tr>\n",
       "    <tr>\n",
       "      <th>33</th>\n",
       "      <td>America/New_York</td>\n",
       "      <td>10</td>\n",
       "      <td>37</td>\n",
       "      <td>150</td>\n",
       "      <td>0.246667</td>\n",
       "    </tr>\n",
       "    <tr>\n",
       "      <th>34</th>\n",
       "      <td>America/New_York</td>\n",
       "      <td>11</td>\n",
       "      <td>14</td>\n",
       "      <td>141</td>\n",
       "      <td>0.099291</td>\n",
       "    </tr>\n",
       "    <tr>\n",
       "      <th>35</th>\n",
       "      <td>America/New_York</td>\n",
       "      <td>12</td>\n",
       "      <td>24</td>\n",
       "      <td>143</td>\n",
       "      <td>0.167832</td>\n",
       "    </tr>\n",
       "    <tr>\n",
       "      <th>36</th>\n",
       "      <td>America/New_York</td>\n",
       "      <td>13</td>\n",
       "      <td>30</td>\n",
       "      <td>149</td>\n",
       "      <td>0.201342</td>\n",
       "    </tr>\n",
       "    <tr>\n",
       "      <th>37</th>\n",
       "      <td>America/New_York</td>\n",
       "      <td>14</td>\n",
       "      <td>20</td>\n",
       "      <td>139</td>\n",
       "      <td>0.143885</td>\n",
       "    </tr>\n",
       "    <tr>\n",
       "      <th>38</th>\n",
       "      <td>America/New_York</td>\n",
       "      <td>15</td>\n",
       "      <td>21</td>\n",
       "      <td>148</td>\n",
       "      <td>0.141892</td>\n",
       "    </tr>\n",
       "    <tr>\n",
       "      <th>39</th>\n",
       "      <td>America/New_York</td>\n",
       "      <td>16</td>\n",
       "      <td>22</td>\n",
       "      <td>122</td>\n",
       "      <td>0.180328</td>\n",
       "    </tr>\n",
       "    <tr>\n",
       "      <th>40</th>\n",
       "      <td>America/New_York</td>\n",
       "      <td>17</td>\n",
       "      <td>16</td>\n",
       "      <td>147</td>\n",
       "      <td>0.108844</td>\n",
       "    </tr>\n",
       "    <tr>\n",
       "      <th>41</th>\n",
       "      <td>America/New_York</td>\n",
       "      <td>18</td>\n",
       "      <td>4</td>\n",
       "      <td>21</td>\n",
       "      <td>0.190476</td>\n",
       "    </tr>\n",
       "    <tr>\n",
       "      <th>42</th>\n",
       "      <td>America/New_York</td>\n",
       "      <td>19</td>\n",
       "      <td>2</td>\n",
       "      <td>5</td>\n",
       "      <td>0.400000</td>\n",
       "    </tr>\n",
       "    <tr>\n",
       "      <th>43</th>\n",
       "      <td>America/New_York</td>\n",
       "      <td>22</td>\n",
       "      <td>0</td>\n",
       "      <td>1</td>\n",
       "      <td>0.000000</td>\n",
       "    </tr>\n",
       "    <tr>\n",
       "      <th>44</th>\n",
       "      <td>America/New_York</td>\n",
       "      <td>23</td>\n",
       "      <td>0</td>\n",
       "      <td>1</td>\n",
       "      <td>0.000000</td>\n",
       "    </tr>\n",
       "    <tr>\n",
       "      <th>45</th>\n",
       "      <td>America/Puerto_Rico</td>\n",
       "      <td>10</td>\n",
       "      <td>1</td>\n",
       "      <td>2</td>\n",
       "      <td>0.500000</td>\n",
       "    </tr>\n",
       "    <tr>\n",
       "      <th>46</th>\n",
       "      <td>America/Puerto_Rico</td>\n",
       "      <td>11</td>\n",
       "      <td>0</td>\n",
       "      <td>2</td>\n",
       "      <td>0.000000</td>\n",
       "    </tr>\n",
       "    <tr>\n",
       "      <th>47</th>\n",
       "      <td>America/Puerto_Rico</td>\n",
       "      <td>12</td>\n",
       "      <td>0</td>\n",
       "      <td>1</td>\n",
       "      <td>0.000000</td>\n",
       "    </tr>\n",
       "    <tr>\n",
       "      <th>48</th>\n",
       "      <td>America/Puerto_Rico</td>\n",
       "      <td>16</td>\n",
       "      <td>0</td>\n",
       "      <td>1</td>\n",
       "      <td>0.000000</td>\n",
       "    </tr>\n",
       "    <tr>\n",
       "      <th>49</th>\n",
       "      <td>America/Puerto_Rico</td>\n",
       "      <td>17</td>\n",
       "      <td>0</td>\n",
       "      <td>2</td>\n",
       "      <td>0.000000</td>\n",
       "    </tr>\n",
       "  </tbody>\n",
       "</table>\n",
       "</div>"
      ],
      "text/plain": [
       "                hrs-pyz  local_time_apply  cant_conv  total_de_muestra  \\\n",
       "0       America/Chicago                 7          0                 2   \n",
       "1       America/Chicago                 8         35               191   \n",
       "2       America/Chicago                 9         40               281   \n",
       "3       America/Chicago                10         32               299   \n",
       "4       America/Chicago                11         30               178   \n",
       "5       America/Chicago                12         47               251   \n",
       "6       America/Chicago                13         35               231   \n",
       "7       America/Chicago                14         34               248   \n",
       "8       America/Chicago                15         40               338   \n",
       "9       America/Chicago                16         37               282   \n",
       "10      America/Chicago                17          9                47   \n",
       "11      America/Chicago                18          0                 7   \n",
       "12      America/Chicago                22          1                 2   \n",
       "13       America/Denver                 7          0                 4   \n",
       "14       America/Denver                 8          1                 6   \n",
       "15       America/Denver                 9          2                 8   \n",
       "16       America/Denver                10          2                 4   \n",
       "17       America/Denver                11          3                 5   \n",
       "18       America/Denver                12          1                 8   \n",
       "19       America/Denver                13          0                 6   \n",
       "20       America/Denver                14          0                 9   \n",
       "21       America/Denver                15          0                 4   \n",
       "22  America/Los_Angeles                 5          0                 1   \n",
       "23  America/Los_Angeles                 6          5                19   \n",
       "24  America/Los_Angeles                 7          2                13   \n",
       "25  America/Los_Angeles                 8          1                16   \n",
       "26  America/Los_Angeles                 9          1                14   \n",
       "27  America/Los_Angeles                10          2                13   \n",
       "28  America/Los_Angeles                11          1                10   \n",
       "29  America/Los_Angeles                12          1                11   \n",
       "30  America/Los_Angeles                13          1                12   \n",
       "31  America/Los_Angeles                14          1                19   \n",
       "32     America/New_York                 9         29               110   \n",
       "33     America/New_York                10         37               150   \n",
       "34     America/New_York                11         14               141   \n",
       "35     America/New_York                12         24               143   \n",
       "36     America/New_York                13         30               149   \n",
       "37     America/New_York                14         20               139   \n",
       "38     America/New_York                15         21               148   \n",
       "39     America/New_York                16         22               122   \n",
       "40     America/New_York                17         16               147   \n",
       "41     America/New_York                18          4                21   \n",
       "42     America/New_York                19          2                 5   \n",
       "43     America/New_York                22          0                 1   \n",
       "44     America/New_York                23          0                 1   \n",
       "45  America/Puerto_Rico                10          1                 2   \n",
       "46  America/Puerto_Rico                11          0                 2   \n",
       "47  America/Puerto_Rico                12          0                 1   \n",
       "48  America/Puerto_Rico                16          0                 1   \n",
       "49  America/Puerto_Rico                17          0                 2   \n",
       "\n",
       "    tasa_conv  \n",
       "0    0.000000  \n",
       "1    0.183246  \n",
       "2    0.142349  \n",
       "3    0.107023  \n",
       "4    0.168539  \n",
       "5    0.187251  \n",
       "6    0.151515  \n",
       "7    0.137097  \n",
       "8    0.118343  \n",
       "9    0.131206  \n",
       "10   0.191489  \n",
       "11   0.000000  \n",
       "12   0.500000  \n",
       "13   0.000000  \n",
       "14   0.166667  \n",
       "15   0.250000  \n",
       "16   0.500000  \n",
       "17   0.600000  \n",
       "18   0.125000  \n",
       "19   0.000000  \n",
       "20   0.000000  \n",
       "21   0.000000  \n",
       "22   0.000000  \n",
       "23   0.263158  \n",
       "24   0.153846  \n",
       "25   0.062500  \n",
       "26   0.071429  \n",
       "27   0.153846  \n",
       "28   0.100000  \n",
       "29   0.090909  \n",
       "30   0.083333  \n",
       "31   0.052632  \n",
       "32   0.263636  \n",
       "33   0.246667  \n",
       "34   0.099291  \n",
       "35   0.167832  \n",
       "36   0.201342  \n",
       "37   0.143885  \n",
       "38   0.141892  \n",
       "39   0.180328  \n",
       "40   0.108844  \n",
       "41   0.190476  \n",
       "42   0.400000  \n",
       "43   0.000000  \n",
       "44   0.000000  \n",
       "45   0.500000  \n",
       "46   0.000000  \n",
       "47   0.000000  \n",
       "48   0.000000  \n",
       "49   0.000000  "
      ]
     },
     "execution_count": 99,
     "metadata": {},
     "output_type": "execute_result"
    }
   ],
   "source": [
    "gregors5.groupby([\"hrs-pyz\",\"local_time_apply\"]).agg(cant_conv =(\"conversion\",\"sum\"),\n",
    "                                                        total_de_muestra= (\"conversion\",\"count\"),\n",
    "                            tasa_conv =(\"conversion\",\"mean\")).reset_index()\n"
   ]
  },
  {
   "cell_type": "markdown",
   "metadata": {},
   "source": [
    "____"
   ]
  },
  {
   "cell_type": "markdown",
   "metadata": {},
   "source": [
    "# 4) Relación entre emails clicks o sms clicks y conversión"
   ]
  },
  {
   "cell_type": "code",
   "execution_count": 111,
   "metadata": {},
   "outputs": [
    {
     "data": {
      "text/html": [
       "<div>\n",
       "<style scoped>\n",
       "    .dataframe tbody tr th:only-of-type {\n",
       "        vertical-align: middle;\n",
       "    }\n",
       "\n",
       "    .dataframe tbody tr th {\n",
       "        vertical-align: top;\n",
       "    }\n",
       "\n",
       "    .dataframe thead th {\n",
       "        text-align: right;\n",
       "    }\n",
       "</style>\n",
       "<table border=\"1\" class=\"dataframe\">\n",
       "  <thead>\n",
       "    <tr style=\"text-align: right;\">\n",
       "      <th></th>\n",
       "      <th>cant_conv</th>\n",
       "      <th>total_de_muestra</th>\n",
       "      <th>tasa_conv</th>\n",
       "    </tr>\n",
       "    <tr>\n",
       "      <th>Email Clicks</th>\n",
       "      <th></th>\n",
       "      <th></th>\n",
       "      <th></th>\n",
       "    </tr>\n",
       "  </thead>\n",
       "  <tbody>\n",
       "    <tr>\n",
       "      <th>0</th>\n",
       "      <td>379</td>\n",
       "      <td>3226</td>\n",
       "      <td>0.117483</td>\n",
       "    </tr>\n",
       "    <tr>\n",
       "      <th>1</th>\n",
       "      <td>231</td>\n",
       "      <td>620</td>\n",
       "      <td>0.372581</td>\n",
       "    </tr>\n",
       "    <tr>\n",
       "      <th>2</th>\n",
       "      <td>14</td>\n",
       "      <td>152</td>\n",
       "      <td>0.092105</td>\n",
       "    </tr>\n",
       "    <tr>\n",
       "      <th>3</th>\n",
       "      <td>3</td>\n",
       "      <td>56</td>\n",
       "      <td>0.053571</td>\n",
       "    </tr>\n",
       "    <tr>\n",
       "      <th>4</th>\n",
       "      <td>0</td>\n",
       "      <td>20</td>\n",
       "      <td>0.000000</td>\n",
       "    </tr>\n",
       "  </tbody>\n",
       "</table>\n",
       "</div>"
      ],
      "text/plain": [
       "              cant_conv  total_de_muestra  tasa_conv\n",
       "Email Clicks                                        \n",
       "0                   379              3226   0.117483\n",
       "1                   231               620   0.372581\n",
       "2                    14               152   0.092105\n",
       "3                     3                56   0.053571\n",
       "4                     0                20   0.000000"
      ]
     },
     "execution_count": 111,
     "metadata": {},
     "output_type": "execute_result"
    }
   ],
   "source": [
    "relacion_emails_clicks_conversion = gregors5.groupby(\"Email Clicks\").agg(cant_conv =(\"conversion\",\"sum\"),\n",
    "                                                        total_de_muestra= (\"conversion\",\"count\"),\n",
    "                                                        tasa_conv =(\"conversion\",\"mean\"))\n",
    "relacion_emails_clicks_conversion\n",
    "\n"
   ]
  },
  {
   "cell_type": "code",
   "execution_count": 113,
   "metadata": {},
   "outputs": [
    {
     "data": {
      "text/plain": [
       "<Axes: xlabel='Email Clicks', ylabel='tasa_conv'>"
      ]
     },
     "execution_count": 113,
     "metadata": {},
     "output_type": "execute_result"
    },
    {
     "data": {
      "image/png": "[encoded data removed]",
      "text/plain": [
       "<Figure size 640x480 with 1 Axes>"
      ]
     },
     "metadata": {},
     "output_type": "display_data"
    }
   ],
   "source": [
    "sns.lineplot(data=relacion_emails_clicks_conversion, x=\"Email Clicks\", y=\"tasa_conv\", marker=\"s\")"
   ]
  },
  {
   "cell_type": "code",
   "execution_count": 101,
   "metadata": {},
   "outputs": [
    {
     "data": {
      "text/html": [
       "<div>\n",
       "<style scoped>\n",
       "    .dataframe tbody tr th:only-of-type {\n",
       "        vertical-align: middle;\n",
       "    }\n",
       "\n",
       "    .dataframe tbody tr th {\n",
       "        vertical-align: top;\n",
       "    }\n",
       "\n",
       "    .dataframe thead th {\n",
       "        text-align: right;\n",
       "    }\n",
       "</style>\n",
       "<table border=\"1\" class=\"dataframe\">\n",
       "  <thead>\n",
       "    <tr style=\"text-align: right;\">\n",
       "      <th></th>\n",
       "      <th>cant_conv</th>\n",
       "      <th>total_de_muestra</th>\n",
       "      <th>tasa_conv</th>\n",
       "    </tr>\n",
       "    <tr>\n",
       "      <th>Sms Clicks</th>\n",
       "      <th></th>\n",
       "      <th></th>\n",
       "      <th></th>\n",
       "    </tr>\n",
       "  </thead>\n",
       "  <tbody>\n",
       "    <tr>\n",
       "      <th>0</th>\n",
       "      <td>131</td>\n",
       "      <td>1621</td>\n",
       "      <td>0.080814</td>\n",
       "    </tr>\n",
       "    <tr>\n",
       "      <th>1</th>\n",
       "      <td>496</td>\n",
       "      <td>2453</td>\n",
       "      <td>0.202201</td>\n",
       "    </tr>\n",
       "  </tbody>\n",
       "</table>\n",
       "</div>"
      ],
      "text/plain": [
       "            cant_conv  total_de_muestra  tasa_conv\n",
       "Sms Clicks                                        \n",
       "0                 131              1621   0.080814\n",
       "1                 496              2453   0.202201"
      ]
     },
     "execution_count": 101,
     "metadata": {},
     "output_type": "execute_result"
    }
   ],
   "source": [
    "relacion_sms_clicks_conversion = gregors5.groupby(\"Sms Clicks\").agg(cant_conv =(\"conversion\",\"sum\"),\n",
    "                                                        total_de_muestra= (\"conversion\",\"count\"),\n",
    "                                                        tasa_conv =(\"conversion\",\"mean\"))\n",
    "relacion_sms_clicks_conversion\n",
    "\n"
   ]
  },
  {
   "cell_type": "markdown",
   "metadata": {},
   "source": [
    "___"
   ]
  },
  {
   "cell_type": "markdown",
   "metadata": {},
   "source": [
    "# 5) Relación entre gente que tiene email y conversión"
   ]
  },
  {
   "cell_type": "code",
   "execution_count": 102,
   "metadata": {},
   "outputs": [
    {
     "data": {
      "text/html": [
       "<div>\n",
       "<style scoped>\n",
       "    .dataframe tbody tr th:only-of-type {\n",
       "        vertical-align: middle;\n",
       "    }\n",
       "\n",
       "    .dataframe tbody tr th {\n",
       "        vertical-align: top;\n",
       "    }\n",
       "\n",
       "    .dataframe thead th {\n",
       "        text-align: right;\n",
       "    }\n",
       "</style>\n",
       "<table border=\"1\" class=\"dataframe\">\n",
       "  <thead>\n",
       "    <tr style=\"text-align: right;\">\n",
       "      <th></th>\n",
       "      <th>cant_conv</th>\n",
       "      <th>total_de_muestra</th>\n",
       "      <th>tasa_conv</th>\n",
       "    </tr>\n",
       "    <tr>\n",
       "      <th>Emails</th>\n",
       "      <th></th>\n",
       "      <th></th>\n",
       "      <th></th>\n",
       "    </tr>\n",
       "  </thead>\n",
       "  <tbody>\n",
       "    <tr>\n",
       "      <th>0.0</th>\n",
       "      <td>315</td>\n",
       "      <td>2736</td>\n",
       "      <td>0.115132</td>\n",
       "    </tr>\n",
       "    <tr>\n",
       "      <th>1.0</th>\n",
       "      <td>281</td>\n",
       "      <td>470</td>\n",
       "      <td>0.597872</td>\n",
       "    </tr>\n",
       "    <tr>\n",
       "      <th>2.0</th>\n",
       "      <td>20</td>\n",
       "      <td>42</td>\n",
       "      <td>0.476190</td>\n",
       "    </tr>\n",
       "    <tr>\n",
       "      <th>3.0</th>\n",
       "      <td>7</td>\n",
       "      <td>22</td>\n",
       "      <td>0.318182</td>\n",
       "    </tr>\n",
       "    <tr>\n",
       "      <th>4.0</th>\n",
       "      <td>4</td>\n",
       "      <td>804</td>\n",
       "      <td>0.004975</td>\n",
       "    </tr>\n",
       "  </tbody>\n",
       "</table>\n",
       "</div>"
      ],
      "text/plain": [
       "        cant_conv  total_de_muestra  tasa_conv\n",
       "Emails                                        \n",
       "0.0           315              2736   0.115132\n",
       "1.0           281               470   0.597872\n",
       "2.0            20                42   0.476190\n",
       "3.0             7                22   0.318182\n",
       "4.0             4               804   0.004975"
      ]
     },
     "execution_count": 102,
     "metadata": {},
     "output_type": "execute_result"
    }
   ],
   "source": [
    "relacion_mail_conversion = gregors5.groupby(\"Emails\").agg(cant_conv =(\"conversion\",\"sum\"),\n",
    "                                                        total_de_muestra= (\"conversion\",\"count\"),\n",
    "                                                        tasa_conv =(\"conversion\",\"mean\"))\n",
    "relacion_mail_conversion"
   ]
  }
 ],
 "metadata": {
  "kernelspec": {
   "display_name": "POO-env",
   "language": "python",
   "name": "python3"
  },
  "language_info": {
   "codemirror_mode": {
    "name": "ipython",
    "version": 3
   },
   "file_extension": ".py",
   "mimetype": "text/x-python",
   "name": "python",
   "nbconvert_exporter": "python",
   "pygments_lexer": "ipython3",
   "version": "3.11.4"
  },
  "orig_nbformat": 4
 },
 "nbformat": 4,
 "nbformat_minor": 2
}
