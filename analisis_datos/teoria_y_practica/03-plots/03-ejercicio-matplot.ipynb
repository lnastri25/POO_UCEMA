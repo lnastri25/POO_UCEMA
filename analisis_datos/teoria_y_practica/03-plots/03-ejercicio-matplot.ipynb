{
 "cells": [
  {
   "cell_type": "code",
   "execution_count": 61,
   "metadata": {
    "pycharm": {
     "name": "#%%\n"
    }
   },
   "outputs": [],
   "source": [
    "import pandas as pd\n",
    "import matplotlib.pyplot as plt\n",
    "import seaborn as sns\n",
    "import numpy as np\n",
    "import scipy.stats as stats\n",
    "from matplotlib import rcParams\n"
   ]
  },
  {
   "cell_type": "code",
   "execution_count": 62,
   "metadata": {
    "pycharm": {
     "name": "#%%\n"
    }
   },
   "outputs": [
    {
     "data": {
      "text/html": [
       "<div>\n",
       "<style scoped>\n",
       "    .dataframe tbody tr th:only-of-type {\n",
       "        vertical-align: middle;\n",
       "    }\n",
       "\n",
       "    .dataframe tbody tr th {\n",
       "        vertical-align: top;\n",
       "    }\n",
       "\n",
       "    .dataframe thead th {\n",
       "        text-align: right;\n",
       "    }\n",
       "</style>\n",
       "<table border=\"1\" class=\"dataframe\">\n",
       "  <thead>\n",
       "    <tr style=\"text-align: right;\">\n",
       "      <th></th>\n",
       "      <th>CREATION_DATE</th>\n",
       "      <th>RESPONSE_DATE</th>\n",
       "      <th>CURRENT_STATUS</th>\n",
       "      <th>GENDER</th>\n",
       "      <th>DAY_OF_BIRTH</th>\n",
       "      <th>CIF_ID</th>\n",
       "      <th>AGE</th>\n",
       "      <th>LOCATION</th>\n",
       "      <th>TOUCHPOINT_NUMBER</th>\n",
       "      <th>CASE_NUMBER</th>\n",
       "      <th>CASE_DATE</th>\n",
       "      <th>CASE_CHANNEL</th>\n",
       "      <th>PRODUCT_NAME</th>\n",
       "      <th>NPS_SCORE</th>\n",
       "      <th>TAGS</th>\n",
       "    </tr>\n",
       "  </thead>\n",
       "  <tbody>\n",
       "    <tr>\n",
       "      <th>0</th>\n",
       "      <td>2021-06-11 10:30:03 UTC</td>\n",
       "      <td>2021-06-12 10:43:18 UTC</td>\n",
       "      <td>2</td>\n",
       "      <td>M</td>\n",
       "      <td>1954-09-18 00:00:00 UTC</td>\n",
       "      <td>1402267</td>\n",
       "      <td>66.0</td>\n",
       "      <td>DOMINGO FAUSTINO SARMIENTO</td>\n",
       "      <td>Service</td>\n",
       "      <td>5671770</td>\n",
       "      <td>2021-06-09 00:00:00 UTC</td>\n",
       "      <td>EUROP</td>\n",
       "      <td>Automotores Individuales</td>\n",
       "      <td>0</td>\n",
       "      <td>mot Grua  mot Servicio  mot Accesibilidad  mo...</td>\n",
       "    </tr>\n",
       "    <tr>\n",
       "      <th>1</th>\n",
       "      <td>2021-06-10 10:30:03 UTC</td>\n",
       "      <td>2021-06-12 17:38:35 UTC</td>\n",
       "      <td>5</td>\n",
       "      <td>F</td>\n",
       "      <td>1994-10-06 00:00:00 UTC</td>\n",
       "      <td>23733377</td>\n",
       "      <td>26.0</td>\n",
       "      <td>CORDOBA</td>\n",
       "      <td>Service</td>\n",
       "      <td>5662123</td>\n",
       "      <td>2021-06-08 00:00:00 UTC</td>\n",
       "      <td>AUXICAJA</td>\n",
       "      <td>Automotores Individuales</td>\n",
       "      <td>9</td>\n",
       "      <td>mot Servicio  mot Precio  atr Eficacia  mot A...</td>\n",
       "    </tr>\n",
       "    <tr>\n",
       "      <th>3</th>\n",
       "      <td>2021-06-10 10:30:03 UTC</td>\n",
       "      <td>2021-06-13 19:29:41 UTC</td>\n",
       "      <td>5</td>\n",
       "      <td>M</td>\n",
       "      <td>1959-09-12 00:00:00 UTC</td>\n",
       "      <td>19579674</td>\n",
       "      <td>61.0</td>\n",
       "      <td>CIUDAD AUTONOMA BUENOS AIRES</td>\n",
       "      <td>Query/Servicing request</td>\n",
       "      <td>5663499</td>\n",
       "      <td>2021-06-09 00:00:00 UTC</td>\n",
       "      <td>SUCURSAL</td>\n",
       "      <td>Automotores Individuales</td>\n",
       "      <td>10</td>\n",
       "      <td>mot Grua  atr Eficacia</td>\n",
       "    </tr>\n",
       "    <tr>\n",
       "      <th>4</th>\n",
       "      <td>2021-05-31 10:30:03 UTC</td>\n",
       "      <td>2021-06-06 22:26:27 UTC</td>\n",
       "      <td>1</td>\n",
       "      <td>M</td>\n",
       "      <td>1952-04-19 00:00:00 UTC</td>\n",
       "      <td>13972088</td>\n",
       "      <td>69.0</td>\n",
       "      <td>TRANCAS</td>\n",
       "      <td>Claims</td>\n",
       "      <td>5582911</td>\n",
       "      <td>2021-05-21 00:00:00 UTC</td>\n",
       "      <td>CALL CENTER</td>\n",
       "      <td>Automotores Individuales</td>\n",
       "      <td>0</td>\n",
       "      <td>mot Siniestro  atr Eficacia</td>\n",
       "    </tr>\n",
       "    <tr>\n",
       "      <th>5</th>\n",
       "      <td>2021-06-04 10:30:02 UTC</td>\n",
       "      <td>2021-06-06 18:03:57 UTC</td>\n",
       "      <td>2</td>\n",
       "      <td>M</td>\n",
       "      <td>1978-09-29 00:00:00 UTC</td>\n",
       "      <td>18454077</td>\n",
       "      <td>42.0</td>\n",
       "      <td>COMODORO RIVADAVIA</td>\n",
       "      <td>Purchase</td>\n",
       "      <td>5616941</td>\n",
       "      <td>2021-06-03 00:00:00 UTC</td>\n",
       "      <td>CALL CENTER</td>\n",
       "      <td>Automotores Individuales</td>\n",
       "      <td>0</td>\n",
       "      <td>mot Atencion</td>\n",
       "    </tr>\n",
       "    <tr>\n",
       "      <th>...</th>\n",
       "      <td>...</td>\n",
       "      <td>...</td>\n",
       "      <td>...</td>\n",
       "      <td>...</td>\n",
       "      <td>...</td>\n",
       "      <td>...</td>\n",
       "      <td>...</td>\n",
       "      <td>...</td>\n",
       "      <td>...</td>\n",
       "      <td>...</td>\n",
       "      <td>...</td>\n",
       "      <td>...</td>\n",
       "      <td>...</td>\n",
       "      <td>...</td>\n",
       "      <td>...</td>\n",
       "    </tr>\n",
       "    <tr>\n",
       "      <th>15994</th>\n",
       "      <td>2021-05-10 10:30:03 UTC</td>\n",
       "      <td>2021-05-10 11:26:43 UTC</td>\n",
       "      <td>5</td>\n",
       "      <td>M</td>\n",
       "      <td>1983-01-25 00:00:00 UTC</td>\n",
       "      <td>23818832</td>\n",
       "      <td>38.0</td>\n",
       "      <td>REMEDIOS DE ESCALADA</td>\n",
       "      <td>Documentation Request</td>\n",
       "      <td>5436556</td>\n",
       "      <td>2021-05-07 00:00:00 UTC</td>\n",
       "      <td>WEB</td>\n",
       "      <td>Automotores Individuales</td>\n",
       "      <td>10</td>\n",
       "      <td>atr Eficacia  mot Atencion</td>\n",
       "    </tr>\n",
       "    <tr>\n",
       "      <th>15995</th>\n",
       "      <td>2021-05-10 10:30:03 UTC</td>\n",
       "      <td>2021-05-10 10:46:11 UTC</td>\n",
       "      <td>5</td>\n",
       "      <td>M</td>\n",
       "      <td>1974-11-24 00:00:00 UTC</td>\n",
       "      <td>23609326</td>\n",
       "      <td>46.0</td>\n",
       "      <td>ISIDRO CASANOVA</td>\n",
       "      <td>Documentation Request</td>\n",
       "      <td>5436373</td>\n",
       "      <td>2021-05-07 00:00:00 UTC</td>\n",
       "      <td>WEB</td>\n",
       "      <td>Automotores Individuales</td>\n",
       "      <td>9</td>\n",
       "      <td>mot Siniestro  mot Cobertura poliza</td>\n",
       "    </tr>\n",
       "    <tr>\n",
       "      <th>15996</th>\n",
       "      <td>2021-05-10 10:30:03 UTC</td>\n",
       "      <td>2021-05-10 12:12:26 UTC</td>\n",
       "      <td>0</td>\n",
       "      <td>M</td>\n",
       "      <td>1960-09-21 00:00:00 UTC</td>\n",
       "      <td>11254684</td>\n",
       "      <td>60.0</td>\n",
       "      <td>CIUDAD AUTONOMA BUENOS AIRES</td>\n",
       "      <td>Documentation Request</td>\n",
       "      <td>5434652</td>\n",
       "      <td>2021-05-07 00:00:00 UTC</td>\n",
       "      <td>WEB</td>\n",
       "      <td>Automotores Individuales</td>\n",
       "      <td>7</td>\n",
       "      <td>mot Siniestro  mot FacturacionPagos  mot Prec...</td>\n",
       "    </tr>\n",
       "    <tr>\n",
       "      <th>15998</th>\n",
       "      <td>2021-05-10 10:30:03 UTC</td>\n",
       "      <td>2021-05-10 10:45:03 UTC</td>\n",
       "      <td>2</td>\n",
       "      <td>M</td>\n",
       "      <td>1956-07-10 00:00:00 UTC</td>\n",
       "      <td>5768360</td>\n",
       "      <td>64.0</td>\n",
       "      <td>VILLA DOMINICO</td>\n",
       "      <td>Documentation Request</td>\n",
       "      <td>5434365</td>\n",
       "      <td>2021-05-07 00:00:00 UTC</td>\n",
       "      <td>WEB</td>\n",
       "      <td>Automotores Individuales</td>\n",
       "      <td>2</td>\n",
       "      <td>mot Siniestro  atr Conformidad  mot Facturaci...</td>\n",
       "    </tr>\n",
       "    <tr>\n",
       "      <th>15999</th>\n",
       "      <td>2021-05-10 10:39:05 UTC</td>\n",
       "      <td>2021-05-10 12:02:05 UTC</td>\n",
       "      <td>0</td>\n",
       "      <td>F</td>\n",
       "      <td>1965-11-22 00:00:00 UTC</td>\n",
       "      <td>8703935</td>\n",
       "      <td>55.0</td>\n",
       "      <td>CIUDAD AUTONOMA BUENOS AIRES</td>\n",
       "      <td>Query/Servicing request</td>\n",
       "      <td>5426739</td>\n",
       "      <td>2021-05-07 00:00:00 UTC</td>\n",
       "      <td>SUCURSAL</td>\n",
       "      <td>Automotores Individuales</td>\n",
       "      <td>8</td>\n",
       "      <td>mot Servicio</td>\n",
       "    </tr>\n",
       "  </tbody>\n",
       "</table>\n",
       "<p>13722 rows × 15 columns</p>\n",
       "</div>"
      ],
      "text/plain": [
       "                 CREATION_DATE            RESPONSE_DATE  CURRENT_STATUS  \\\n",
       "0      2021-06-11 10:30:03 UTC  2021-06-12 10:43:18 UTC               2   \n",
       "1      2021-06-10 10:30:03 UTC  2021-06-12 17:38:35 UTC               5   \n",
       "3      2021-06-10 10:30:03 UTC  2021-06-13 19:29:41 UTC               5   \n",
       "4      2021-05-31 10:30:03 UTC  2021-06-06 22:26:27 UTC               1   \n",
       "5      2021-06-04 10:30:02 UTC  2021-06-06 18:03:57 UTC               2   \n",
       "...                        ...                      ...             ...   \n",
       "15994  2021-05-10 10:30:03 UTC  2021-05-10 11:26:43 UTC               5   \n",
       "15995  2021-05-10 10:30:03 UTC  2021-05-10 10:46:11 UTC               5   \n",
       "15996  2021-05-10 10:30:03 UTC  2021-05-10 12:12:26 UTC               0   \n",
       "15998  2021-05-10 10:30:03 UTC  2021-05-10 10:45:03 UTC               2   \n",
       "15999  2021-05-10 10:39:05 UTC  2021-05-10 12:02:05 UTC               0   \n",
       "\n",
       "      GENDER             DAY_OF_BIRTH    CIF_ID   AGE  \\\n",
       "0          M  1954-09-18 00:00:00 UTC   1402267  66.0   \n",
       "1          F  1994-10-06 00:00:00 UTC  23733377  26.0   \n",
       "3          M  1959-09-12 00:00:00 UTC  19579674  61.0   \n",
       "4          M  1952-04-19 00:00:00 UTC  13972088  69.0   \n",
       "5          M  1978-09-29 00:00:00 UTC  18454077  42.0   \n",
       "...      ...                      ...       ...   ...   \n",
       "15994      M  1983-01-25 00:00:00 UTC  23818832  38.0   \n",
       "15995      M  1974-11-24 00:00:00 UTC  23609326  46.0   \n",
       "15996      M  1960-09-21 00:00:00 UTC  11254684  60.0   \n",
       "15998      M  1956-07-10 00:00:00 UTC   5768360  64.0   \n",
       "15999      F  1965-11-22 00:00:00 UTC   8703935  55.0   \n",
       "\n",
       "                           LOCATION        TOUCHPOINT_NUMBER  CASE_NUMBER  \\\n",
       "0        DOMINGO FAUSTINO SARMIENTO                  Service      5671770   \n",
       "1                           CORDOBA                  Service      5662123   \n",
       "3      CIUDAD AUTONOMA BUENOS AIRES  Query/Servicing request      5663499   \n",
       "4                           TRANCAS                   Claims      5582911   \n",
       "5                COMODORO RIVADAVIA                 Purchase      5616941   \n",
       "...                             ...                      ...          ...   \n",
       "15994          REMEDIOS DE ESCALADA    Documentation Request      5436556   \n",
       "15995               ISIDRO CASANOVA    Documentation Request      5436373   \n",
       "15996  CIUDAD AUTONOMA BUENOS AIRES    Documentation Request      5434652   \n",
       "15998                VILLA DOMINICO    Documentation Request      5434365   \n",
       "15999  CIUDAD AUTONOMA BUENOS AIRES  Query/Servicing request      5426739   \n",
       "\n",
       "                     CASE_DATE CASE_CHANNEL              PRODUCT_NAME  \\\n",
       "0      2021-06-09 00:00:00 UTC        EUROP  Automotores Individuales   \n",
       "1      2021-06-08 00:00:00 UTC     AUXICAJA  Automotores Individuales   \n",
       "3      2021-06-09 00:00:00 UTC     SUCURSAL  Automotores Individuales   \n",
       "4      2021-05-21 00:00:00 UTC  CALL CENTER  Automotores Individuales   \n",
       "5      2021-06-03 00:00:00 UTC  CALL CENTER  Automotores Individuales   \n",
       "...                        ...          ...                       ...   \n",
       "15994  2021-05-07 00:00:00 UTC          WEB  Automotores Individuales   \n",
       "15995  2021-05-07 00:00:00 UTC          WEB  Automotores Individuales   \n",
       "15996  2021-05-07 00:00:00 UTC          WEB  Automotores Individuales   \n",
       "15998  2021-05-07 00:00:00 UTC          WEB  Automotores Individuales   \n",
       "15999  2021-05-07 00:00:00 UTC     SUCURSAL  Automotores Individuales   \n",
       "\n",
       "       NPS_SCORE                                               TAGS  \n",
       "0              0   mot Grua  mot Servicio  mot Accesibilidad  mo...  \n",
       "1              9   mot Servicio  mot Precio  atr Eficacia  mot A...  \n",
       "3             10                             mot Grua  atr Eficacia  \n",
       "4              0                        mot Siniestro  atr Eficacia  \n",
       "5              0                                       mot Atencion  \n",
       "...          ...                                                ...  \n",
       "15994         10                         atr Eficacia  mot Atencion  \n",
       "15995          9                mot Siniestro  mot Cobertura poliza  \n",
       "15996          7   mot Siniestro  mot FacturacionPagos  mot Prec...  \n",
       "15998          2   mot Siniestro  atr Conformidad  mot Facturaci...  \n",
       "15999          8                                       mot Servicio  \n",
       "\n",
       "[13722 rows x 15 columns]"
      ]
     },
     "execution_count": 62,
     "metadata": {},
     "output_type": "execute_result"
    }
   ],
   "source": [
    "#Cargamos el dataframe y nos interiorizamos de sus campos\n",
    "#Que no haya una columna que se llame 'Unnamed: 0'\n",
    "\n",
    "encuesta = pd.read_csv(\"/Users/lolonastri/Desktop/POO_UCEMA/analisis_datos/teoria_y_practica/03-plots/data_nps.csv\", encoding= \"latin-1\")\n",
    "encuesta = encuesta.drop(columns = [\"Unnamed: 0\"])\n",
    "encuesta.dropna()\n"
   ]
  },
  {
   "cell_type": "code",
   "execution_count": 63,
   "metadata": {
    "pycharm": {
     "name": "#%%\n"
    }
   },
   "outputs": [
    {
     "data": {
      "text/html": [
       "<div>\n",
       "<style scoped>\n",
       "    .dataframe tbody tr th:only-of-type {\n",
       "        vertical-align: middle;\n",
       "    }\n",
       "\n",
       "    .dataframe tbody tr th {\n",
       "        vertical-align: top;\n",
       "    }\n",
       "\n",
       "    .dataframe thead th {\n",
       "        text-align: right;\n",
       "    }\n",
       "</style>\n",
       "<table border=\"1\" class=\"dataframe\">\n",
       "  <thead>\n",
       "    <tr style=\"text-align: right;\">\n",
       "      <th></th>\n",
       "      <th>CREATION_DATE</th>\n",
       "      <th>RESPONSE_DATE</th>\n",
       "      <th>CURRENT_STATUS</th>\n",
       "      <th>GENDER</th>\n",
       "      <th>DAY_OF_BIRTH</th>\n",
       "      <th>CIF_ID</th>\n",
       "      <th>AGE</th>\n",
       "      <th>LOCATION</th>\n",
       "      <th>TOUCHPOINT_NUMBER</th>\n",
       "      <th>CASE_NUMBER</th>\n",
       "      <th>CASE_DATE</th>\n",
       "      <th>CASE_CHANNEL</th>\n",
       "      <th>PRODUCT_NAME</th>\n",
       "      <th>NPS_SCORE</th>\n",
       "      <th>TAGS</th>\n",
       "    </tr>\n",
       "  </thead>\n",
       "  <tbody>\n",
       "    <tr>\n",
       "      <th>15995</th>\n",
       "      <td>2021-05-10 10:30:03 UTC</td>\n",
       "      <td>2021-05-10 10:46:11 UTC</td>\n",
       "      <td>5</td>\n",
       "      <td>M</td>\n",
       "      <td>1974-11-24 00:00:00 UTC</td>\n",
       "      <td>23609326</td>\n",
       "      <td>46.0</td>\n",
       "      <td>ISIDRO CASANOVA</td>\n",
       "      <td>Documentation Request</td>\n",
       "      <td>5436373</td>\n",
       "      <td>2021-05-07 00:00:00 UTC</td>\n",
       "      <td>WEB</td>\n",
       "      <td>Automotores Individuales</td>\n",
       "      <td>9</td>\n",
       "      <td>mot Siniestro  mot Cobertura poliza</td>\n",
       "    </tr>\n",
       "    <tr>\n",
       "      <th>15996</th>\n",
       "      <td>2021-05-10 10:30:03 UTC</td>\n",
       "      <td>2021-05-10 12:12:26 UTC</td>\n",
       "      <td>0</td>\n",
       "      <td>M</td>\n",
       "      <td>1960-09-21 00:00:00 UTC</td>\n",
       "      <td>11254684</td>\n",
       "      <td>60.0</td>\n",
       "      <td>CIUDAD AUTONOMA BUENOS AIRES</td>\n",
       "      <td>Documentation Request</td>\n",
       "      <td>5434652</td>\n",
       "      <td>2021-05-07 00:00:00 UTC</td>\n",
       "      <td>WEB</td>\n",
       "      <td>Automotores Individuales</td>\n",
       "      <td>7</td>\n",
       "      <td>mot Siniestro  mot FacturacionPagos  mot Prec...</td>\n",
       "    </tr>\n",
       "    <tr>\n",
       "      <th>15997</th>\n",
       "      <td>2021-05-10 10:30:03 UTC</td>\n",
       "      <td>2021-05-10 19:38:46 UTC</td>\n",
       "      <td>0</td>\n",
       "      <td>M</td>\n",
       "      <td>1960-07-15 00:00:00 UTC</td>\n",
       "      <td>16971297</td>\n",
       "      <td>60.0</td>\n",
       "      <td>SAN MIGUEL DE TUCUMAN</td>\n",
       "      <td>Documentation Request</td>\n",
       "      <td>5435120</td>\n",
       "      <td>2021-05-07 00:00:00 UTC</td>\n",
       "      <td>WEB</td>\n",
       "      <td>Automotores Individuales</td>\n",
       "      <td>7</td>\n",
       "      <td>NaN</td>\n",
       "    </tr>\n",
       "    <tr>\n",
       "      <th>15998</th>\n",
       "      <td>2021-05-10 10:30:03 UTC</td>\n",
       "      <td>2021-05-10 10:45:03 UTC</td>\n",
       "      <td>2</td>\n",
       "      <td>M</td>\n",
       "      <td>1956-07-10 00:00:00 UTC</td>\n",
       "      <td>5768360</td>\n",
       "      <td>64.0</td>\n",
       "      <td>VILLA DOMINICO</td>\n",
       "      <td>Documentation Request</td>\n",
       "      <td>5434365</td>\n",
       "      <td>2021-05-07 00:00:00 UTC</td>\n",
       "      <td>WEB</td>\n",
       "      <td>Automotores Individuales</td>\n",
       "      <td>2</td>\n",
       "      <td>mot Siniestro  atr Conformidad  mot Facturaci...</td>\n",
       "    </tr>\n",
       "    <tr>\n",
       "      <th>15999</th>\n",
       "      <td>2021-05-10 10:39:05 UTC</td>\n",
       "      <td>2021-05-10 12:02:05 UTC</td>\n",
       "      <td>0</td>\n",
       "      <td>F</td>\n",
       "      <td>1965-11-22 00:00:00 UTC</td>\n",
       "      <td>8703935</td>\n",
       "      <td>55.0</td>\n",
       "      <td>CIUDAD AUTONOMA BUENOS AIRES</td>\n",
       "      <td>Query/Servicing request</td>\n",
       "      <td>5426739</td>\n",
       "      <td>2021-05-07 00:00:00 UTC</td>\n",
       "      <td>SUCURSAL</td>\n",
       "      <td>Automotores Individuales</td>\n",
       "      <td>8</td>\n",
       "      <td>mot Servicio</td>\n",
       "    </tr>\n",
       "  </tbody>\n",
       "</table>\n",
       "</div>"
      ],
      "text/plain": [
       "                 CREATION_DATE            RESPONSE_DATE  CURRENT_STATUS  \\\n",
       "15995  2021-05-10 10:30:03 UTC  2021-05-10 10:46:11 UTC               5   \n",
       "15996  2021-05-10 10:30:03 UTC  2021-05-10 12:12:26 UTC               0   \n",
       "15997  2021-05-10 10:30:03 UTC  2021-05-10 19:38:46 UTC               0   \n",
       "15998  2021-05-10 10:30:03 UTC  2021-05-10 10:45:03 UTC               2   \n",
       "15999  2021-05-10 10:39:05 UTC  2021-05-10 12:02:05 UTC               0   \n",
       "\n",
       "      GENDER             DAY_OF_BIRTH    CIF_ID   AGE  \\\n",
       "15995      M  1974-11-24 00:00:00 UTC  23609326  46.0   \n",
       "15996      M  1960-09-21 00:00:00 UTC  11254684  60.0   \n",
       "15997      M  1960-07-15 00:00:00 UTC  16971297  60.0   \n",
       "15998      M  1956-07-10 00:00:00 UTC   5768360  64.0   \n",
       "15999      F  1965-11-22 00:00:00 UTC   8703935  55.0   \n",
       "\n",
       "                           LOCATION        TOUCHPOINT_NUMBER  CASE_NUMBER  \\\n",
       "15995               ISIDRO CASANOVA    Documentation Request      5436373   \n",
       "15996  CIUDAD AUTONOMA BUENOS AIRES    Documentation Request      5434652   \n",
       "15997         SAN MIGUEL DE TUCUMAN    Documentation Request      5435120   \n",
       "15998                VILLA DOMINICO    Documentation Request      5434365   \n",
       "15999  CIUDAD AUTONOMA BUENOS AIRES  Query/Servicing request      5426739   \n",
       "\n",
       "                     CASE_DATE CASE_CHANNEL              PRODUCT_NAME  \\\n",
       "15995  2021-05-07 00:00:00 UTC          WEB  Automotores Individuales   \n",
       "15996  2021-05-07 00:00:00 UTC          WEB  Automotores Individuales   \n",
       "15997  2021-05-07 00:00:00 UTC          WEB  Automotores Individuales   \n",
       "15998  2021-05-07 00:00:00 UTC          WEB  Automotores Individuales   \n",
       "15999  2021-05-07 00:00:00 UTC     SUCURSAL  Automotores Individuales   \n",
       "\n",
       "       NPS_SCORE                                               TAGS  \n",
       "15995          9                mot Siniestro  mot Cobertura poliza  \n",
       "15996          7   mot Siniestro  mot FacturacionPagos  mot Prec...  \n",
       "15997          7                                                NaN  \n",
       "15998          2   mot Siniestro  atr Conformidad  mot Facturaci...  \n",
       "15999          8                                       mot Servicio  "
      ]
     },
     "execution_count": 63,
     "metadata": {},
     "output_type": "execute_result"
    }
   ],
   "source": [
    "#imprimir lo de abajo\n",
    "encuesta.tail()"
   ]
  },
  {
   "cell_type": "code",
   "execution_count": 64,
   "metadata": {
    "pycharm": {
     "name": "#%%\n"
    }
   },
   "outputs": [
    {
     "data": {
      "text/plain": [
       "Index(['CREATION_DATE', 'RESPONSE_DATE', 'CURRENT_STATUS', 'GENDER',\n",
       "       'DAY_OF_BIRTH', 'CIF_ID', 'AGE', 'LOCATION', 'TOUCHPOINT_NUMBER',\n",
       "       'CASE_NUMBER', 'CASE_DATE', 'CASE_CHANNEL', 'PRODUCT_NAME', 'NPS_SCORE',\n",
       "       'TAGS'],\n",
       "      dtype='object')"
      ]
     },
     "execution_count": 64,
     "metadata": {},
     "output_type": "execute_result"
    }
   ],
   "source": [
    "#mostrar nombres de columna\n",
    "encuesta.columns\n"
   ]
  },
  {
   "cell_type": "markdown",
   "metadata": {
    "pycharm": {
     "name": "#%% md\n"
    }
   },
   "source": [
    "Hacer una función que determine si es promotor, detractor y neutro e implementarla a una columna del dataset que se llama nps_segment\n",
    "* Promotor: NPS_SCORE = 8,9,10\n",
    "* Neutro: NPS_SCORE = 6,7\n",
    "* Detractor: NPS_SCORE = 1,2,3,4,5"
   ]
  },
  {
   "cell_type": "code",
   "execution_count": 65,
   "metadata": {
    "pycharm": {
     "name": "#%%\n"
    }
   },
   "outputs": [],
   "source": [
    "def nps_segment(x):\n",
    "      if x <= 5:\n",
    "          return 'Detractor'\n",
    "      elif 6 <= x <= 7:\n",
    "          return 'Neutro'\n",
    "      else:\n",
    "          return 'Promotor'\n",
    "\n",
    "encuesta[\"nps_segment\"] = encuesta[\"NPS_SCORE\"].apply(nps_segment)\n",
    "\n",
    "#df[\"nombre_de_la_columna_nueva\"] = df[\"Columna_a_transformar\"].apply(función_creada_por_nosotros)\n"
   ]
  },
  {
   "cell_type": "code",
   "execution_count": 66,
   "metadata": {
    "pycharm": {
     "name": "#%%\n"
    }
   },
   "outputs": [
    {
     "data": {
      "text/plain": [
       "0        Detractor\n",
       "1         Promotor\n",
       "2         Promotor\n",
       "3         Promotor\n",
       "4        Detractor\n",
       "           ...    \n",
       "15995     Promotor\n",
       "15996       Neutro\n",
       "15997       Neutro\n",
       "15998    Detractor\n",
       "15999     Promotor\n",
       "Name: nps_segment, Length: 16000, dtype: object"
      ]
     },
     "execution_count": 66,
     "metadata": {},
     "output_type": "execute_result"
    }
   ],
   "source": [
    "encuesta[\"nps_segment\"]"
   ]
  },
  {
   "cell_type": "code",
   "execution_count": 67,
   "metadata": {
    "pycharm": {
     "name": "#%%\n"
    }
   },
   "outputs": [
    {
     "data": {
      "text/plain": [
       "2184"
      ]
     },
     "execution_count": 67,
     "metadata": {},
     "output_type": "execute_result"
    }
   ],
   "source": [
    "#imprimir nans en la columna TAGS\n",
    "encuesta[\"TAGS\"].isna().sum()"
   ]
  },
  {
   "cell_type": "markdown",
   "metadata": {
    "pycharm": {
     "name": "#%% md\n"
    }
   },
   "source": [
    "Con numpy.where crear una columna llamada detected, que determina si la columna TAGS tiene algun contenido. Poner True si lo tiene y si no tiene contenido poner False."
   ]
  },
  {
   "cell_type": "code",
   "execution_count": 98,
   "metadata": {
    "pycharm": {
     "name": "#%%\n"
    }
   },
   "outputs": [
    {
     "name": "stdout",
     "output_type": "stream",
     "text": [
      "0         True\n",
      "1         True\n",
      "2        False\n",
      "3         True\n",
      "4         True\n",
      "         ...  \n",
      "15995     True\n",
      "15996     True\n",
      "15997    False\n",
      "15998     True\n",
      "15999     True\n",
      "Name: detected, Length: 16000, dtype: bool\n"
     ]
    }
   ],
   "source": [
    "#Escribi tu código acá (HINT: Buscar numpy where documentacion)\n",
    "\n",
    "# encuesta[\"detected\"] = np.where(encuesta[\"TAGS\"].isna(), \"Ninguna\", encuesta[\"TAGS\"])\n",
    "\n",
    "encuesta[\"detected\"] = encuesta[\"TAGS\"].notnull()\n",
    "print(encuesta[\"detected\"])"
   ]
  },
  {
   "cell_type": "code",
   "execution_count": 99,
   "metadata": {},
   "outputs": [
    {
     "data": {
      "text/html": [
       "<div>\n",
       "<style scoped>\n",
       "    .dataframe tbody tr th:only-of-type {\n",
       "        vertical-align: middle;\n",
       "    }\n",
       "\n",
       "    .dataframe tbody tr th {\n",
       "        vertical-align: top;\n",
       "    }\n",
       "\n",
       "    .dataframe thead th {\n",
       "        text-align: right;\n",
       "    }\n",
       "</style>\n",
       "<table border=\"1\" class=\"dataframe\">\n",
       "  <thead>\n",
       "    <tr style=\"text-align: right;\">\n",
       "      <th></th>\n",
       "      <th>CREATION_DATE</th>\n",
       "      <th>RESPONSE_DATE</th>\n",
       "      <th>CURRENT_STATUS</th>\n",
       "      <th>GENDER</th>\n",
       "      <th>DAY_OF_BIRTH</th>\n",
       "      <th>CIF_ID</th>\n",
       "      <th>AGE</th>\n",
       "      <th>LOCATION</th>\n",
       "      <th>TOUCHPOINT_NUMBER</th>\n",
       "      <th>CASE_NUMBER</th>\n",
       "      <th>CASE_DATE</th>\n",
       "      <th>CASE_CHANNEL</th>\n",
       "      <th>PRODUCT_NAME</th>\n",
       "      <th>NPS_SCORE</th>\n",
       "      <th>TAGS</th>\n",
       "      <th>nps_segment</th>\n",
       "      <th>detected</th>\n",
       "      <th>year_month</th>\n",
       "      <th>grupo_edad</th>\n",
       "    </tr>\n",
       "  </thead>\n",
       "  <tbody>\n",
       "    <tr>\n",
       "      <th>0</th>\n",
       "      <td>2021-06-11 10:30:03 UTC</td>\n",
       "      <td>2021-06-12 10:43:18 UTC</td>\n",
       "      <td>2</td>\n",
       "      <td>M</td>\n",
       "      <td>1954-09-18 00:00:00 UTC</td>\n",
       "      <td>1402267</td>\n",
       "      <td>66.0</td>\n",
       "      <td>DOMINGO FAUSTINO SARMIENTO</td>\n",
       "      <td>Service</td>\n",
       "      <td>5671770</td>\n",
       "      <td>2021-06-09 00:00:00 UTC</td>\n",
       "      <td>EUROP</td>\n",
       "      <td>Automotores Individuales</td>\n",
       "      <td>0</td>\n",
       "      <td>mot Grua  mot Servicio  mot Accesibilidad  mo...</td>\n",
       "      <td>Detractor</td>\n",
       "      <td>True</td>\n",
       "      <td>2021-06</td>\n",
       "      <td>60+</td>\n",
       "    </tr>\n",
       "    <tr>\n",
       "      <th>1</th>\n",
       "      <td>2021-06-10 10:30:03 UTC</td>\n",
       "      <td>2021-06-12 17:38:35 UTC</td>\n",
       "      <td>5</td>\n",
       "      <td>F</td>\n",
       "      <td>1994-10-06 00:00:00 UTC</td>\n",
       "      <td>23733377</td>\n",
       "      <td>26.0</td>\n",
       "      <td>CORDOBA</td>\n",
       "      <td>Service</td>\n",
       "      <td>5662123</td>\n",
       "      <td>2021-06-08 00:00:00 UTC</td>\n",
       "      <td>AUXICAJA</td>\n",
       "      <td>Automotores Individuales</td>\n",
       "      <td>9</td>\n",
       "      <td>mot Servicio  mot Precio  atr Eficacia  mot A...</td>\n",
       "      <td>Promotor</td>\n",
       "      <td>True</td>\n",
       "      <td>2021-06</td>\n",
       "      <td>&lt;30</td>\n",
       "    </tr>\n",
       "    <tr>\n",
       "      <th>2</th>\n",
       "      <td>2021-06-07 10:30:03 UTC</td>\n",
       "      <td>2021-06-12 16:52:27 UTC</td>\n",
       "      <td>5</td>\n",
       "      <td>M</td>\n",
       "      <td>1980-08-07 00:00:00 UTC</td>\n",
       "      <td>21113765</td>\n",
       "      <td>40.0</td>\n",
       "      <td>DIAMANTE</td>\n",
       "      <td>Service</td>\n",
       "      <td>5625253</td>\n",
       "      <td>2021-06-03 00:00:00 UTC</td>\n",
       "      <td>AUXICAJA</td>\n",
       "      <td>Automotores Individuales</td>\n",
       "      <td>10</td>\n",
       "      <td>NaN</td>\n",
       "      <td>Promotor</td>\n",
       "      <td>False</td>\n",
       "      <td>2021-06</td>\n",
       "      <td>40-49</td>\n",
       "    </tr>\n",
       "    <tr>\n",
       "      <th>3</th>\n",
       "      <td>2021-06-10 10:30:03 UTC</td>\n",
       "      <td>2021-06-13 19:29:41 UTC</td>\n",
       "      <td>5</td>\n",
       "      <td>M</td>\n",
       "      <td>1959-09-12 00:00:00 UTC</td>\n",
       "      <td>19579674</td>\n",
       "      <td>61.0</td>\n",
       "      <td>CIUDAD AUTONOMA BUENOS AIRES</td>\n",
       "      <td>Query/Servicing request</td>\n",
       "      <td>5663499</td>\n",
       "      <td>2021-06-09 00:00:00 UTC</td>\n",
       "      <td>SUCURSAL</td>\n",
       "      <td>Automotores Individuales</td>\n",
       "      <td>10</td>\n",
       "      <td>mot Grua  atr Eficacia</td>\n",
       "      <td>Promotor</td>\n",
       "      <td>True</td>\n",
       "      <td>2021-06</td>\n",
       "      <td>60+</td>\n",
       "    </tr>\n",
       "    <tr>\n",
       "      <th>4</th>\n",
       "      <td>2021-05-31 10:30:03 UTC</td>\n",
       "      <td>2021-06-06 22:26:27 UTC</td>\n",
       "      <td>1</td>\n",
       "      <td>M</td>\n",
       "      <td>1952-04-19 00:00:00 UTC</td>\n",
       "      <td>13972088</td>\n",
       "      <td>69.0</td>\n",
       "      <td>TRANCAS</td>\n",
       "      <td>Claims</td>\n",
       "      <td>5582911</td>\n",
       "      <td>2021-05-21 00:00:00 UTC</td>\n",
       "      <td>CALL CENTER</td>\n",
       "      <td>Automotores Individuales</td>\n",
       "      <td>0</td>\n",
       "      <td>mot Siniestro  atr Eficacia</td>\n",
       "      <td>Detractor</td>\n",
       "      <td>True</td>\n",
       "      <td>2021-05</td>\n",
       "      <td>60+</td>\n",
       "    </tr>\n",
       "    <tr>\n",
       "      <th>...</th>\n",
       "      <td>...</td>\n",
       "      <td>...</td>\n",
       "      <td>...</td>\n",
       "      <td>...</td>\n",
       "      <td>...</td>\n",
       "      <td>...</td>\n",
       "      <td>...</td>\n",
       "      <td>...</td>\n",
       "      <td>...</td>\n",
       "      <td>...</td>\n",
       "      <td>...</td>\n",
       "      <td>...</td>\n",
       "      <td>...</td>\n",
       "      <td>...</td>\n",
       "      <td>...</td>\n",
       "      <td>...</td>\n",
       "      <td>...</td>\n",
       "      <td>...</td>\n",
       "      <td>...</td>\n",
       "    </tr>\n",
       "    <tr>\n",
       "      <th>15995</th>\n",
       "      <td>2021-05-10 10:30:03 UTC</td>\n",
       "      <td>2021-05-10 10:46:11 UTC</td>\n",
       "      <td>5</td>\n",
       "      <td>M</td>\n",
       "      <td>1974-11-24 00:00:00 UTC</td>\n",
       "      <td>23609326</td>\n",
       "      <td>46.0</td>\n",
       "      <td>ISIDRO CASANOVA</td>\n",
       "      <td>Documentation Request</td>\n",
       "      <td>5436373</td>\n",
       "      <td>2021-05-07 00:00:00 UTC</td>\n",
       "      <td>WEB</td>\n",
       "      <td>Automotores Individuales</td>\n",
       "      <td>9</td>\n",
       "      <td>mot Siniestro  mot Cobertura poliza</td>\n",
       "      <td>Promotor</td>\n",
       "      <td>True</td>\n",
       "      <td>2021-05</td>\n",
       "      <td>40-49</td>\n",
       "    </tr>\n",
       "    <tr>\n",
       "      <th>15996</th>\n",
       "      <td>2021-05-10 10:30:03 UTC</td>\n",
       "      <td>2021-05-10 12:12:26 UTC</td>\n",
       "      <td>0</td>\n",
       "      <td>M</td>\n",
       "      <td>1960-09-21 00:00:00 UTC</td>\n",
       "      <td>11254684</td>\n",
       "      <td>60.0</td>\n",
       "      <td>CIUDAD AUTONOMA BUENOS AIRES</td>\n",
       "      <td>Documentation Request</td>\n",
       "      <td>5434652</td>\n",
       "      <td>2021-05-07 00:00:00 UTC</td>\n",
       "      <td>WEB</td>\n",
       "      <td>Automotores Individuales</td>\n",
       "      <td>7</td>\n",
       "      <td>mot Siniestro  mot FacturacionPagos  mot Prec...</td>\n",
       "      <td>Neutro</td>\n",
       "      <td>True</td>\n",
       "      <td>2021-05</td>\n",
       "      <td>60+</td>\n",
       "    </tr>\n",
       "    <tr>\n",
       "      <th>15997</th>\n",
       "      <td>2021-05-10 10:30:03 UTC</td>\n",
       "      <td>2021-05-10 19:38:46 UTC</td>\n",
       "      <td>0</td>\n",
       "      <td>M</td>\n",
       "      <td>1960-07-15 00:00:00 UTC</td>\n",
       "      <td>16971297</td>\n",
       "      <td>60.0</td>\n",
       "      <td>SAN MIGUEL DE TUCUMAN</td>\n",
       "      <td>Documentation Request</td>\n",
       "      <td>5435120</td>\n",
       "      <td>2021-05-07 00:00:00 UTC</td>\n",
       "      <td>WEB</td>\n",
       "      <td>Automotores Individuales</td>\n",
       "      <td>7</td>\n",
       "      <td>NaN</td>\n",
       "      <td>Neutro</td>\n",
       "      <td>False</td>\n",
       "      <td>2021-05</td>\n",
       "      <td>60+</td>\n",
       "    </tr>\n",
       "    <tr>\n",
       "      <th>15998</th>\n",
       "      <td>2021-05-10 10:30:03 UTC</td>\n",
       "      <td>2021-05-10 10:45:03 UTC</td>\n",
       "      <td>2</td>\n",
       "      <td>M</td>\n",
       "      <td>1956-07-10 00:00:00 UTC</td>\n",
       "      <td>5768360</td>\n",
       "      <td>64.0</td>\n",
       "      <td>VILLA DOMINICO</td>\n",
       "      <td>Documentation Request</td>\n",
       "      <td>5434365</td>\n",
       "      <td>2021-05-07 00:00:00 UTC</td>\n",
       "      <td>WEB</td>\n",
       "      <td>Automotores Individuales</td>\n",
       "      <td>2</td>\n",
       "      <td>mot Siniestro  atr Conformidad  mot Facturaci...</td>\n",
       "      <td>Detractor</td>\n",
       "      <td>True</td>\n",
       "      <td>2021-05</td>\n",
       "      <td>60+</td>\n",
       "    </tr>\n",
       "    <tr>\n",
       "      <th>15999</th>\n",
       "      <td>2021-05-10 10:39:05 UTC</td>\n",
       "      <td>2021-05-10 12:02:05 UTC</td>\n",
       "      <td>0</td>\n",
       "      <td>F</td>\n",
       "      <td>1965-11-22 00:00:00 UTC</td>\n",
       "      <td>8703935</td>\n",
       "      <td>55.0</td>\n",
       "      <td>CIUDAD AUTONOMA BUENOS AIRES</td>\n",
       "      <td>Query/Servicing request</td>\n",
       "      <td>5426739</td>\n",
       "      <td>2021-05-07 00:00:00 UTC</td>\n",
       "      <td>SUCURSAL</td>\n",
       "      <td>Automotores Individuales</td>\n",
       "      <td>8</td>\n",
       "      <td>mot Servicio</td>\n",
       "      <td>Promotor</td>\n",
       "      <td>True</td>\n",
       "      <td>2021-05</td>\n",
       "      <td>50-59</td>\n",
       "    </tr>\n",
       "  </tbody>\n",
       "</table>\n",
       "<p>16000 rows × 19 columns</p>\n",
       "</div>"
      ],
      "text/plain": [
       "                 CREATION_DATE            RESPONSE_DATE  CURRENT_STATUS  \\\n",
       "0      2021-06-11 10:30:03 UTC  2021-06-12 10:43:18 UTC               2   \n",
       "1      2021-06-10 10:30:03 UTC  2021-06-12 17:38:35 UTC               5   \n",
       "2      2021-06-07 10:30:03 UTC  2021-06-12 16:52:27 UTC               5   \n",
       "3      2021-06-10 10:30:03 UTC  2021-06-13 19:29:41 UTC               5   \n",
       "4      2021-05-31 10:30:03 UTC  2021-06-06 22:26:27 UTC               1   \n",
       "...                        ...                      ...             ...   \n",
       "15995  2021-05-10 10:30:03 UTC  2021-05-10 10:46:11 UTC               5   \n",
       "15996  2021-05-10 10:30:03 UTC  2021-05-10 12:12:26 UTC               0   \n",
       "15997  2021-05-10 10:30:03 UTC  2021-05-10 19:38:46 UTC               0   \n",
       "15998  2021-05-10 10:30:03 UTC  2021-05-10 10:45:03 UTC               2   \n",
       "15999  2021-05-10 10:39:05 UTC  2021-05-10 12:02:05 UTC               0   \n",
       "\n",
       "      GENDER             DAY_OF_BIRTH    CIF_ID   AGE  \\\n",
       "0          M  1954-09-18 00:00:00 UTC   1402267  66.0   \n",
       "1          F  1994-10-06 00:00:00 UTC  23733377  26.0   \n",
       "2          M  1980-08-07 00:00:00 UTC  21113765  40.0   \n",
       "3          M  1959-09-12 00:00:00 UTC  19579674  61.0   \n",
       "4          M  1952-04-19 00:00:00 UTC  13972088  69.0   \n",
       "...      ...                      ...       ...   ...   \n",
       "15995      M  1974-11-24 00:00:00 UTC  23609326  46.0   \n",
       "15996      M  1960-09-21 00:00:00 UTC  11254684  60.0   \n",
       "15997      M  1960-07-15 00:00:00 UTC  16971297  60.0   \n",
       "15998      M  1956-07-10 00:00:00 UTC   5768360  64.0   \n",
       "15999      F  1965-11-22 00:00:00 UTC   8703935  55.0   \n",
       "\n",
       "                           LOCATION        TOUCHPOINT_NUMBER  CASE_NUMBER  \\\n",
       "0        DOMINGO FAUSTINO SARMIENTO                  Service      5671770   \n",
       "1                           CORDOBA                  Service      5662123   \n",
       "2                          DIAMANTE                  Service      5625253   \n",
       "3      CIUDAD AUTONOMA BUENOS AIRES  Query/Servicing request      5663499   \n",
       "4                           TRANCAS                   Claims      5582911   \n",
       "...                             ...                      ...          ...   \n",
       "15995               ISIDRO CASANOVA    Documentation Request      5436373   \n",
       "15996  CIUDAD AUTONOMA BUENOS AIRES    Documentation Request      5434652   \n",
       "15997         SAN MIGUEL DE TUCUMAN    Documentation Request      5435120   \n",
       "15998                VILLA DOMINICO    Documentation Request      5434365   \n",
       "15999  CIUDAD AUTONOMA BUENOS AIRES  Query/Servicing request      5426739   \n",
       "\n",
       "                     CASE_DATE CASE_CHANNEL              PRODUCT_NAME  \\\n",
       "0      2021-06-09 00:00:00 UTC        EUROP  Automotores Individuales   \n",
       "1      2021-06-08 00:00:00 UTC     AUXICAJA  Automotores Individuales   \n",
       "2      2021-06-03 00:00:00 UTC     AUXICAJA  Automotores Individuales   \n",
       "3      2021-06-09 00:00:00 UTC     SUCURSAL  Automotores Individuales   \n",
       "4      2021-05-21 00:00:00 UTC  CALL CENTER  Automotores Individuales   \n",
       "...                        ...          ...                       ...   \n",
       "15995  2021-05-07 00:00:00 UTC          WEB  Automotores Individuales   \n",
       "15996  2021-05-07 00:00:00 UTC          WEB  Automotores Individuales   \n",
       "15997  2021-05-07 00:00:00 UTC          WEB  Automotores Individuales   \n",
       "15998  2021-05-07 00:00:00 UTC          WEB  Automotores Individuales   \n",
       "15999  2021-05-07 00:00:00 UTC     SUCURSAL  Automotores Individuales   \n",
       "\n",
       "       NPS_SCORE                                               TAGS  \\\n",
       "0              0   mot Grua  mot Servicio  mot Accesibilidad  mo...   \n",
       "1              9   mot Servicio  mot Precio  atr Eficacia  mot A...   \n",
       "2             10                                                NaN   \n",
       "3             10                             mot Grua  atr Eficacia   \n",
       "4              0                        mot Siniestro  atr Eficacia   \n",
       "...          ...                                                ...   \n",
       "15995          9                mot Siniestro  mot Cobertura poliza   \n",
       "15996          7   mot Siniestro  mot FacturacionPagos  mot Prec...   \n",
       "15997          7                                                NaN   \n",
       "15998          2   mot Siniestro  atr Conformidad  mot Facturaci...   \n",
       "15999          8                                       mot Servicio   \n",
       "\n",
       "      nps_segment  detected year_month grupo_edad  \n",
       "0       Detractor      True    2021-06        60+  \n",
       "1        Promotor      True    2021-06        <30  \n",
       "2        Promotor     False    2021-06      40-49  \n",
       "3        Promotor      True    2021-06        60+  \n",
       "4       Detractor      True    2021-05        60+  \n",
       "...           ...       ...        ...        ...  \n",
       "15995    Promotor      True    2021-05      40-49  \n",
       "15996      Neutro      True    2021-05        60+  \n",
       "15997      Neutro     False    2021-05        60+  \n",
       "15998   Detractor      True    2021-05        60+  \n",
       "15999    Promotor      True    2021-05      50-59  \n",
       "\n",
       "[16000 rows x 19 columns]"
      ]
     },
     "execution_count": 99,
     "metadata": {},
     "output_type": "execute_result"
    }
   ],
   "source": [
    "encuesta"
   ]
  },
  {
   "cell_type": "markdown",
   "metadata": {},
   "source": [
    "___"
   ]
  },
  {
   "cell_type": "markdown",
   "metadata": {
    "pycharm": {
     "name": "#%% md\n"
    }
   },
   "source": [
    "## Dates\n",
    "Devolver la fecha máxima y minima de la columna CREATION_DATE"
   ]
  },
  {
   "cell_type": "code",
   "execution_count": 69,
   "metadata": {
    "pycharm": {
     "name": "#%%\n"
    }
   },
   "outputs": [
    {
     "name": "stdout",
     "output_type": "stream",
     "text": [
      "2021-06-15 12:35:01 UTC\n"
     ]
    }
   ],
   "source": [
    "print(encuesta[\"CREATION_DATE\"].max())"
   ]
  },
  {
   "cell_type": "code",
   "execution_count": 70,
   "metadata": {
    "pycharm": {
     "name": "#%%\n"
    }
   },
   "outputs": [
    {
     "name": "stdout",
     "output_type": "stream",
     "text": [
      "2020-12-10 10:30:03 UTC\n"
     ]
    }
   ],
   "source": [
    "print(encuesta[\"CREATION_DATE\"].min())"
   ]
  },
  {
   "cell_type": "markdown",
   "metadata": {
    "pycharm": {
     "name": "#%% md\n"
    }
   },
   "source": [
    "Chequear los data types de todas las columnas"
   ]
  },
  {
   "cell_type": "code",
   "execution_count": 71,
   "metadata": {
    "pycharm": {
     "name": "#%%\n"
    }
   },
   "outputs": [
    {
     "name": "stdout",
     "output_type": "stream",
     "text": [
      "CREATION_DATE         object\n",
      "RESPONSE_DATE         object\n",
      "CURRENT_STATUS         int64\n",
      "GENDER                object\n",
      "DAY_OF_BIRTH          object\n",
      "CIF_ID                 int64\n",
      "AGE                  float64\n",
      "LOCATION              object\n",
      "TOUCHPOINT_NUMBER     object\n",
      "CASE_NUMBER            int64\n",
      "CASE_DATE             object\n",
      "CASE_CHANNEL          object\n",
      "PRODUCT_NAME          object\n",
      "NPS_SCORE              int64\n",
      "TAGS                  object\n",
      "nps_segment           object\n",
      "detected                bool\n",
      "dtype: object\n"
     ]
    }
   ],
   "source": [
    "print(encuesta.dtypes)"
   ]
  },
  {
   "cell_type": "markdown",
   "metadata": {
    "pycharm": {
     "name": "#%% md\n"
    }
   },
   "source": [
    "¿Cual es el data type de CREATION_DATE ¿Te parece correct?"
   ]
  },
  {
   "cell_type": "markdown",
   "metadata": {},
   "source": [
    "##### NO. Debería de ser de type 'datetime64'"
   ]
  },
  {
   "cell_type": "markdown",
   "metadata": {
    "pycharm": {
     "name": "#%% md\n"
    }
   },
   "source": [
    "Crear una columna que solo tenga año y mes. Llameémosle year_month. Utilizar pd.to_datetime() primero y luego to period"
   ]
  },
  {
   "cell_type": "code",
   "execution_count": 72,
   "metadata": {
    "pycharm": {
     "name": "#%%\n"
    }
   },
   "outputs": [
    {
     "name": "stderr",
     "output_type": "stream",
     "text": [
      "/var/folders/xx/hcklcr8s0rxd7p5fz63z342w0000gn/T/ipykernel_28494/3354722290.py:1: UserWarning: Converting to PeriodArray/Index representation will drop timezone information.\n",
      "  pd.to_datetime(encuesta[\"CREATION_DATE\"]).dt.to_period(\"M\")\n"
     ]
    },
    {
     "data": {
      "text/plain": [
       "0        2021-06\n",
       "1        2021-06\n",
       "2        2021-06\n",
       "3        2021-06\n",
       "4        2021-05\n",
       "          ...   \n",
       "15995    2021-05\n",
       "15996    2021-05\n",
       "15997    2021-05\n",
       "15998    2021-05\n",
       "15999    2021-05\n",
       "Name: CREATION_DATE, Length: 16000, dtype: period[M]"
      ]
     },
     "execution_count": 72,
     "metadata": {},
     "output_type": "execute_result"
    }
   ],
   "source": [
    "pd.to_datetime(encuesta[\"CREATION_DATE\"]).dt.to_period(\"M\")"
   ]
  },
  {
   "cell_type": "code",
   "execution_count": 73,
   "metadata": {
    "pycharm": {
     "name": "#%%\n"
    }
   },
   "outputs": [
    {
     "name": "stdout",
     "output_type": "stream",
     "text": [
      "0        2021-06\n",
      "1        2021-06\n",
      "2        2021-06\n",
      "3        2021-06\n",
      "4        2021-05\n",
      "          ...   \n",
      "15995    2021-05\n",
      "15996    2021-05\n",
      "15997    2021-05\n",
      "15998    2021-05\n",
      "15999    2021-05\n",
      "Name: year_month, Length: 16000, dtype: period[M]\n"
     ]
    },
    {
     "name": "stderr",
     "output_type": "stream",
     "text": [
      "/var/folders/xx/hcklcr8s0rxd7p5fz63z342w0000gn/T/ipykernel_28494/4125265796.py:3: UserWarning: Converting to PeriodArray/Index representation will drop timezone information.\n",
      "  encuesta[\"year_month\"] = pd.to_datetime(encuesta[\"CREATION_DATE\"]).dt.to_period(\"M\")\n"
     ]
    }
   ],
   "source": [
    "#armar el código para crear la columna año mes\n",
    "\n",
    "encuesta[\"year_month\"] = pd.to_datetime(encuesta[\"CREATION_DATE\"]).dt.to_period(\"M\")\n",
    "print(encuesta[\"year_month\"])\n"
   ]
  },
  {
   "cell_type": "markdown",
   "metadata": {},
   "source": [
    "___"
   ]
  },
  {
   "cell_type": "markdown",
   "metadata": {
    "pycharm": {
     "name": "#%% md\n"
    }
   },
   "source": [
    "## Conteo.\n",
    "Crear un nuevo dataframe agrupado por year_month donde tenga la cantidad de encuestas únicas mes a mes\n",
    "** Hint**:\n",
    "```python\n",
    "df.groupby(grouping_column).agg(\"count\")\n",
    "```"
   ]
  },
  {
   "cell_type": "code",
   "execution_count": 74,
   "metadata": {
    "pycharm": {
     "name": "#%%\n"
    }
   },
   "outputs": [
    {
     "data": {
      "text/html": [
       "<div>\n",
       "<style scoped>\n",
       "    .dataframe tbody tr th:only-of-type {\n",
       "        vertical-align: middle;\n",
       "    }\n",
       "\n",
       "    .dataframe tbody tr th {\n",
       "        vertical-align: top;\n",
       "    }\n",
       "\n",
       "    .dataframe thead th {\n",
       "        text-align: right;\n",
       "    }\n",
       "</style>\n",
       "<table border=\"1\" class=\"dataframe\">\n",
       "  <thead>\n",
       "    <tr style=\"text-align: right;\">\n",
       "      <th></th>\n",
       "      <th>CREATION_DATE</th>\n",
       "      <th>RESPONSE_DATE</th>\n",
       "      <th>CURRENT_STATUS</th>\n",
       "      <th>GENDER</th>\n",
       "      <th>DAY_OF_BIRTH</th>\n",
       "      <th>CIF_ID</th>\n",
       "      <th>AGE</th>\n",
       "      <th>LOCATION</th>\n",
       "      <th>TOUCHPOINT_NUMBER</th>\n",
       "      <th>CASE_NUMBER</th>\n",
       "      <th>CASE_DATE</th>\n",
       "      <th>CASE_CHANNEL</th>\n",
       "      <th>PRODUCT_NAME</th>\n",
       "      <th>NPS_SCORE</th>\n",
       "      <th>TAGS</th>\n",
       "      <th>nps_segment</th>\n",
       "      <th>detected</th>\n",
       "    </tr>\n",
       "    <tr>\n",
       "      <th>year_month</th>\n",
       "      <th></th>\n",
       "      <th></th>\n",
       "      <th></th>\n",
       "      <th></th>\n",
       "      <th></th>\n",
       "      <th></th>\n",
       "      <th></th>\n",
       "      <th></th>\n",
       "      <th></th>\n",
       "      <th></th>\n",
       "      <th></th>\n",
       "      <th></th>\n",
       "      <th></th>\n",
       "      <th></th>\n",
       "      <th></th>\n",
       "      <th></th>\n",
       "      <th></th>\n",
       "    </tr>\n",
       "  </thead>\n",
       "  <tbody>\n",
       "    <tr>\n",
       "      <th>2020-12</th>\n",
       "      <td>124</td>\n",
       "      <td>124</td>\n",
       "      <td>124</td>\n",
       "      <td>123</td>\n",
       "      <td>123</td>\n",
       "      <td>124</td>\n",
       "      <td>123</td>\n",
       "      <td>124</td>\n",
       "      <td>124</td>\n",
       "      <td>124</td>\n",
       "      <td>124</td>\n",
       "      <td>124</td>\n",
       "      <td>124</td>\n",
       "      <td>124</td>\n",
       "      <td>111</td>\n",
       "      <td>124</td>\n",
       "      <td>124</td>\n",
       "    </tr>\n",
       "    <tr>\n",
       "      <th>2021-01</th>\n",
       "      <td>2617</td>\n",
       "      <td>2617</td>\n",
       "      <td>2617</td>\n",
       "      <td>2612</td>\n",
       "      <td>2612</td>\n",
       "      <td>2617</td>\n",
       "      <td>2612</td>\n",
       "      <td>2610</td>\n",
       "      <td>2617</td>\n",
       "      <td>2617</td>\n",
       "      <td>2617</td>\n",
       "      <td>2617</td>\n",
       "      <td>2617</td>\n",
       "      <td>2617</td>\n",
       "      <td>2246</td>\n",
       "      <td>2617</td>\n",
       "      <td>2617</td>\n",
       "    </tr>\n",
       "    <tr>\n",
       "      <th>2021-02</th>\n",
       "      <td>2433</td>\n",
       "      <td>2433</td>\n",
       "      <td>2433</td>\n",
       "      <td>2427</td>\n",
       "      <td>2426</td>\n",
       "      <td>2433</td>\n",
       "      <td>2426</td>\n",
       "      <td>2428</td>\n",
       "      <td>2433</td>\n",
       "      <td>2433</td>\n",
       "      <td>2433</td>\n",
       "      <td>2433</td>\n",
       "      <td>2433</td>\n",
       "      <td>2433</td>\n",
       "      <td>2139</td>\n",
       "      <td>2433</td>\n",
       "      <td>2433</td>\n",
       "    </tr>\n",
       "    <tr>\n",
       "      <th>2021-03</th>\n",
       "      <td>3308</td>\n",
       "      <td>3308</td>\n",
       "      <td>3308</td>\n",
       "      <td>3294</td>\n",
       "      <td>3294</td>\n",
       "      <td>3308</td>\n",
       "      <td>3294</td>\n",
       "      <td>3297</td>\n",
       "      <td>3308</td>\n",
       "      <td>3308</td>\n",
       "      <td>3308</td>\n",
       "      <td>3308</td>\n",
       "      <td>3308</td>\n",
       "      <td>3308</td>\n",
       "      <td>2866</td>\n",
       "      <td>3308</td>\n",
       "      <td>3308</td>\n",
       "    </tr>\n",
       "    <tr>\n",
       "      <th>2021-04</th>\n",
       "      <td>2883</td>\n",
       "      <td>2883</td>\n",
       "      <td>2883</td>\n",
       "      <td>2868</td>\n",
       "      <td>2868</td>\n",
       "      <td>2883</td>\n",
       "      <td>2868</td>\n",
       "      <td>2876</td>\n",
       "      <td>2883</td>\n",
       "      <td>2883</td>\n",
       "      <td>2883</td>\n",
       "      <td>2883</td>\n",
       "      <td>2883</td>\n",
       "      <td>2883</td>\n",
       "      <td>2466</td>\n",
       "      <td>2883</td>\n",
       "      <td>2883</td>\n",
       "    </tr>\n",
       "    <tr>\n",
       "      <th>2021-05</th>\n",
       "      <td>3066</td>\n",
       "      <td>3066</td>\n",
       "      <td>3066</td>\n",
       "      <td>3051</td>\n",
       "      <td>3051</td>\n",
       "      <td>3066</td>\n",
       "      <td>3051</td>\n",
       "      <td>3055</td>\n",
       "      <td>3066</td>\n",
       "      <td>3066</td>\n",
       "      <td>3066</td>\n",
       "      <td>3066</td>\n",
       "      <td>3066</td>\n",
       "      <td>3066</td>\n",
       "      <td>2632</td>\n",
       "      <td>3066</td>\n",
       "      <td>3066</td>\n",
       "    </tr>\n",
       "    <tr>\n",
       "      <th>2021-06</th>\n",
       "      <td>1569</td>\n",
       "      <td>1569</td>\n",
       "      <td>1569</td>\n",
       "      <td>1562</td>\n",
       "      <td>1562</td>\n",
       "      <td>1569</td>\n",
       "      <td>1562</td>\n",
       "      <td>1568</td>\n",
       "      <td>1569</td>\n",
       "      <td>1569</td>\n",
       "      <td>1569</td>\n",
       "      <td>1569</td>\n",
       "      <td>1569</td>\n",
       "      <td>1569</td>\n",
       "      <td>1356</td>\n",
       "      <td>1569</td>\n",
       "      <td>1569</td>\n",
       "    </tr>\n",
       "  </tbody>\n",
       "</table>\n",
       "</div>"
      ],
      "text/plain": [
       "            CREATION_DATE  RESPONSE_DATE  CURRENT_STATUS  GENDER  \\\n",
       "year_month                                                         \n",
       "2020-12               124            124             124     123   \n",
       "2021-01              2617           2617            2617    2612   \n",
       "2021-02              2433           2433            2433    2427   \n",
       "2021-03              3308           3308            3308    3294   \n",
       "2021-04              2883           2883            2883    2868   \n",
       "2021-05              3066           3066            3066    3051   \n",
       "2021-06              1569           1569            1569    1562   \n",
       "\n",
       "            DAY_OF_BIRTH  CIF_ID   AGE  LOCATION  TOUCHPOINT_NUMBER  \\\n",
       "year_month                                                            \n",
       "2020-12              123     124   123       124                124   \n",
       "2021-01             2612    2617  2612      2610               2617   \n",
       "2021-02             2426    2433  2426      2428               2433   \n",
       "2021-03             3294    3308  3294      3297               3308   \n",
       "2021-04             2868    2883  2868      2876               2883   \n",
       "2021-05             3051    3066  3051      3055               3066   \n",
       "2021-06             1562    1569  1562      1568               1569   \n",
       "\n",
       "            CASE_NUMBER  CASE_DATE  CASE_CHANNEL  PRODUCT_NAME  NPS_SCORE  \\\n",
       "year_month                                                                  \n",
       "2020-12             124        124           124           124        124   \n",
       "2021-01            2617       2617          2617          2617       2617   \n",
       "2021-02            2433       2433          2433          2433       2433   \n",
       "2021-03            3308       3308          3308          3308       3308   \n",
       "2021-04            2883       2883          2883          2883       2883   \n",
       "2021-05            3066       3066          3066          3066       3066   \n",
       "2021-06            1569       1569          1569          1569       1569   \n",
       "\n",
       "            TAGS  nps_segment  detected  \n",
       "year_month                               \n",
       "2020-12      111          124       124  \n",
       "2021-01     2246         2617      2617  \n",
       "2021-02     2139         2433      2433  \n",
       "2021-03     2866         3308      3308  \n",
       "2021-04     2466         2883      2883  \n",
       "2021-05     2632         3066      3066  \n",
       "2021-06     1356         1569      1569  "
      ]
     },
     "execution_count": 74,
     "metadata": {},
     "output_type": "execute_result"
    }
   ],
   "source": [
    "encuesta.groupby(\"year_month\").agg(\"count\") # No cuenta los NAN, por eso difieren los valores por fila."
   ]
  },
  {
   "cell_type": "markdown",
   "metadata": {
    "pycharm": {
     "name": "#%% md\n"
    }
   },
   "source": [
    "Crear un dataste donde sume la cantidad de encuestas con TAG detectados, mes a mes"
   ]
  },
  {
   "cell_type": "markdown",
   "metadata": {
    "pycharm": {
     "name": "#%% md\n"
    }
   },
   "source": [
    "**Hint** :\n",
    "```python\n",
    "df.groupby(grouping_column).agg(\n",
    "    new_col_name =  ('old_col_name', 'sum'),\n",
    "    new_col_name_2 = ('old_col_name', 'mean')\n",
    ")\n",
    "```"
   ]
  },
  {
   "cell_type": "code",
   "execution_count": 75,
   "metadata": {
    "pycharm": {
     "name": "#%%\n"
    }
   },
   "outputs": [
    {
     "data": {
      "text/html": [
       "<div>\n",
       "<style scoped>\n",
       "    .dataframe tbody tr th:only-of-type {\n",
       "        vertical-align: middle;\n",
       "    }\n",
       "\n",
       "    .dataframe tbody tr th {\n",
       "        vertical-align: top;\n",
       "    }\n",
       "\n",
       "    .dataframe thead th {\n",
       "        text-align: right;\n",
       "    }\n",
       "</style>\n",
       "<table border=\"1\" class=\"dataframe\">\n",
       "  <thead>\n",
       "    <tr style=\"text-align: right;\">\n",
       "      <th></th>\n",
       "      <th>cantidad_encuestas_con_tag</th>\n",
       "    </tr>\n",
       "    <tr>\n",
       "      <th>year_month</th>\n",
       "      <th></th>\n",
       "    </tr>\n",
       "  </thead>\n",
       "  <tbody>\n",
       "    <tr>\n",
       "      <th>2020-12</th>\n",
       "      <td>111</td>\n",
       "    </tr>\n",
       "    <tr>\n",
       "      <th>2021-01</th>\n",
       "      <td>2246</td>\n",
       "    </tr>\n",
       "    <tr>\n",
       "      <th>2021-02</th>\n",
       "      <td>2139</td>\n",
       "    </tr>\n",
       "    <tr>\n",
       "      <th>2021-03</th>\n",
       "      <td>2866</td>\n",
       "    </tr>\n",
       "    <tr>\n",
       "      <th>2021-04</th>\n",
       "      <td>2466</td>\n",
       "    </tr>\n",
       "    <tr>\n",
       "      <th>2021-05</th>\n",
       "      <td>2632</td>\n",
       "    </tr>\n",
       "    <tr>\n",
       "      <th>2021-06</th>\n",
       "      <td>1356</td>\n",
       "    </tr>\n",
       "  </tbody>\n",
       "</table>\n",
       "</div>"
      ],
      "text/plain": [
       "            cantidad_encuestas_con_tag\n",
       "year_month                            \n",
       "2020-12                            111\n",
       "2021-01                           2246\n",
       "2021-02                           2139\n",
       "2021-03                           2866\n",
       "2021-04                           2466\n",
       "2021-05                           2632\n",
       "2021-06                           1356"
      ]
     },
     "execution_count": 75,
     "metadata": {},
     "output_type": "execute_result"
    }
   ],
   "source": [
    "encuesta.groupby(\"year_month\").agg(\n",
    "                            cantidad_encuestas_con_tag = (\"detected\", \"sum\")\n",
    "                            )"
   ]
  },
  {
   "cell_type": "markdown",
   "metadata": {
    "pycharm": {
     "name": "#%% md\n"
    }
   },
   "source": [
    "Crear otro dataset donde tenga la cantidad de encuestas por nps_segment unicas por mes. promotoras, neutras y detractoras."
   ]
  },
  {
   "cell_type": "code",
   "execution_count": 103,
   "metadata": {
    "pycharm": {
     "name": "#%%\n"
    }
   },
   "outputs": [
    {
     "data": {
      "text/html": [
       "<div>\n",
       "<style scoped>\n",
       "    .dataframe tbody tr th:only-of-type {\n",
       "        vertical-align: middle;\n",
       "    }\n",
       "\n",
       "    .dataframe tbody tr th {\n",
       "        vertical-align: top;\n",
       "    }\n",
       "\n",
       "    .dataframe thead th {\n",
       "        text-align: right;\n",
       "    }\n",
       "</style>\n",
       "<table border=\"1\" class=\"dataframe\">\n",
       "  <thead>\n",
       "    <tr style=\"text-align: right;\">\n",
       "      <th></th>\n",
       "      <th></th>\n",
       "      <th>cantidad_encuestas_unicas</th>\n",
       "    </tr>\n",
       "    <tr>\n",
       "      <th>year_month</th>\n",
       "      <th>nps_segment</th>\n",
       "      <th></th>\n",
       "    </tr>\n",
       "  </thead>\n",
       "  <tbody>\n",
       "    <tr>\n",
       "      <th rowspan=\"3\" valign=\"top\">2020-12</th>\n",
       "      <th>Detractor</th>\n",
       "      <td>16</td>\n",
       "    </tr>\n",
       "    <tr>\n",
       "      <th>Neutro</th>\n",
       "      <td>8</td>\n",
       "    </tr>\n",
       "    <tr>\n",
       "      <th>Promotor</th>\n",
       "      <td>100</td>\n",
       "    </tr>\n",
       "    <tr>\n",
       "      <th rowspan=\"3\" valign=\"top\">2021-01</th>\n",
       "      <th>Detractor</th>\n",
       "      <td>408</td>\n",
       "    </tr>\n",
       "    <tr>\n",
       "      <th>Neutro</th>\n",
       "      <td>180</td>\n",
       "    </tr>\n",
       "    <tr>\n",
       "      <th>Promotor</th>\n",
       "      <td>2028</td>\n",
       "    </tr>\n",
       "    <tr>\n",
       "      <th rowspan=\"3\" valign=\"top\">2021-02</th>\n",
       "      <th>Detractor</th>\n",
       "      <td>472</td>\n",
       "    </tr>\n",
       "    <tr>\n",
       "      <th>Neutro</th>\n",
       "      <td>162</td>\n",
       "    </tr>\n",
       "    <tr>\n",
       "      <th>Promotor</th>\n",
       "      <td>1799</td>\n",
       "    </tr>\n",
       "    <tr>\n",
       "      <th rowspan=\"3\" valign=\"top\">2021-03</th>\n",
       "      <th>Detractor</th>\n",
       "      <td>553</td>\n",
       "    </tr>\n",
       "    <tr>\n",
       "      <th>Neutro</th>\n",
       "      <td>261</td>\n",
       "    </tr>\n",
       "    <tr>\n",
       "      <th>Promotor</th>\n",
       "      <td>2494</td>\n",
       "    </tr>\n",
       "    <tr>\n",
       "      <th rowspan=\"3\" valign=\"top\">2021-04</th>\n",
       "      <th>Detractor</th>\n",
       "      <td>416</td>\n",
       "    </tr>\n",
       "    <tr>\n",
       "      <th>Neutro</th>\n",
       "      <td>206</td>\n",
       "    </tr>\n",
       "    <tr>\n",
       "      <th>Promotor</th>\n",
       "      <td>2260</td>\n",
       "    </tr>\n",
       "    <tr>\n",
       "      <th rowspan=\"3\" valign=\"top\">2021-05</th>\n",
       "      <th>Detractor</th>\n",
       "      <td>430</td>\n",
       "    </tr>\n",
       "    <tr>\n",
       "      <th>Neutro</th>\n",
       "      <td>212</td>\n",
       "    </tr>\n",
       "    <tr>\n",
       "      <th>Promotor</th>\n",
       "      <td>2421</td>\n",
       "    </tr>\n",
       "    <tr>\n",
       "      <th rowspan=\"3\" valign=\"top\">2021-06</th>\n",
       "      <th>Detractor</th>\n",
       "      <td>219</td>\n",
       "    </tr>\n",
       "    <tr>\n",
       "      <th>Neutro</th>\n",
       "      <td>100</td>\n",
       "    </tr>\n",
       "    <tr>\n",
       "      <th>Promotor</th>\n",
       "      <td>1249</td>\n",
       "    </tr>\n",
       "  </tbody>\n",
       "</table>\n",
       "</div>"
      ],
      "text/plain": [
       "                        cantidad_encuestas_unicas\n",
       "year_month nps_segment                           \n",
       "2020-12    Detractor                           16\n",
       "           Neutro                               8\n",
       "           Promotor                           100\n",
       "2021-01    Detractor                          408\n",
       "           Neutro                             180\n",
       "           Promotor                          2028\n",
       "2021-02    Detractor                          472\n",
       "           Neutro                             162\n",
       "           Promotor                          1799\n",
       "2021-03    Detractor                          553\n",
       "           Neutro                             261\n",
       "           Promotor                          2494\n",
       "2021-04    Detractor                          416\n",
       "           Neutro                             206\n",
       "           Promotor                          2260\n",
       "2021-05    Detractor                          430\n",
       "           Neutro                             212\n",
       "           Promotor                          2421\n",
       "2021-06    Detractor                          219\n",
       "           Neutro                             100\n",
       "           Promotor                          1249"
      ]
     },
     "execution_count": 103,
     "metadata": {},
     "output_type": "execute_result"
    }
   ],
   "source": [
    "# Crear otro dataset donde tenga la cantidad de encuestas por nps_segment unicas por mes. promotoras, neutras y detractoras.\n",
    "\n",
    "encuesta_por_segmento = encuesta.groupby([\"year_month\", \"nps_segment\"]).agg(\n",
    "                                                                            cantidad_encuestas_unicas = (\"CIF_ID\", \"nunique\"),\n",
    "                                                                            )\n",
    "encuesta_por_segmento\n"
   ]
  },
  {
   "cell_type": "markdown",
   "metadata": {},
   "source": [
    "___"
   ]
  },
  {
   "cell_type": "markdown",
   "metadata": {
    "pycharm": {
     "name": "#%% md\n"
    }
   },
   "source": [
    "# Barras\n",
    "Crear un dataste_por_segemento con el total de encuestas de CIF_ID unico por nps_segment. Hacer un gráfico de barras con el total de encuestas por nps_segment"
   ]
  },
  {
   "cell_type": "code",
   "execution_count": 77,
   "metadata": {
    "pycharm": {
     "name": "#%%\n"
    }
   },
   "outputs": [],
   "source": [
    "# Crear un dataset que agrupe por segmento los CIF_ID únicos\n",
    "\n",
    "# encuesta_por_segmento.info()\n"
   ]
  },
  {
   "cell_type": "code",
   "execution_count": 105,
   "metadata": {
    "pycharm": {
     "name": "#%%\n"
    }
   },
   "outputs": [
    {
     "data": {
      "text/html": [
       "<div>\n",
       "<style scoped>\n",
       "    .dataframe tbody tr th:only-of-type {\n",
       "        vertical-align: middle;\n",
       "    }\n",
       "\n",
       "    .dataframe tbody tr th {\n",
       "        vertical-align: top;\n",
       "    }\n",
       "\n",
       "    .dataframe thead th {\n",
       "        text-align: right;\n",
       "    }\n",
       "</style>\n",
       "<table border=\"1\" class=\"dataframe\">\n",
       "  <thead>\n",
       "    <tr style=\"text-align: right;\">\n",
       "      <th></th>\n",
       "      <th>nps_segment</th>\n",
       "      <th>CIF_ID</th>\n",
       "    </tr>\n",
       "  </thead>\n",
       "  <tbody>\n",
       "    <tr>\n",
       "      <th>0</th>\n",
       "      <td>Detractor</td>\n",
       "      <td>2467</td>\n",
       "    </tr>\n",
       "    <tr>\n",
       "      <th>1</th>\n",
       "      <td>Neutro</td>\n",
       "      <td>1117</td>\n",
       "    </tr>\n",
       "    <tr>\n",
       "      <th>2</th>\n",
       "      <td>Promotor</td>\n",
       "      <td>11892</td>\n",
       "    </tr>\n",
       "  </tbody>\n",
       "</table>\n",
       "</div>"
      ],
      "text/plain": [
       "  nps_segment  CIF_ID\n",
       "0   Detractor    2467\n",
       "1      Neutro    1117\n",
       "2    Promotor   11892"
      ]
     },
     "execution_count": 105,
     "metadata": {},
     "output_type": "execute_result"
    }
   ],
   "source": [
    "#reset_index() implementalo al dataset y asignaselo\n",
    "\n",
    "encuesta_por_segmento = encuesta.groupby('nps_segment')['CIF_ID'].nunique().reset_index()\n",
    "encuesta_por_segmento\n"
   ]
  },
  {
   "cell_type": "markdown",
   "metadata": {
    "pycharm": {
     "name": "#%% md\n"
    }
   },
   "source": [
    "Cantidad que hay por detractor, promotor y neutro"
   ]
  },
  {
   "cell_type": "code",
   "execution_count": 106,
   "metadata": {
    "pycharm": {
     "name": "#%%\n"
    }
   },
   "outputs": [
    {
     "data": {
      "text/plain": [
       "nps_segment\n",
       "Promotor     12356\n",
       "Detractor     2515\n",
       "Neutro        1129\n",
       "Name: count, dtype: int64"
      ]
     },
     "execution_count": 106,
     "metadata": {},
     "output_type": "execute_result"
    }
   ],
   "source": [
    "# Cantidad que hay por detractor, promotor y neutro\n",
    "\n",
    "encuesta.value_counts(\"nps_segment\")"
   ]
  },
  {
   "cell_type": "markdown",
   "metadata": {},
   "source": [
    "___"
   ]
  },
  {
   "cell_type": "markdown",
   "metadata": {
    "pycharm": {
     "name": "#%% md\n"
    }
   },
   "source": [
    "# Countplot\n",
    "Hacer un countplot por la cantidad de NPS segment"
   ]
  },
  {
   "cell_type": "code",
   "execution_count": 80,
   "metadata": {
    "pycharm": {
     "name": "#%%\n"
    }
   },
   "outputs": [],
   "source": [
    "from matplotlib import rcParams\n",
    "rcParams['figure.figsize'] = 6,6\n",
    "paleta = [\"#66bd63\",\"#a50026\", \"#fee08b\"]"
   ]
  },
  {
   "cell_type": "code",
   "execution_count": 81,
   "metadata": {
    "pycharm": {
     "name": "#%%\n"
    }
   },
   "outputs": [
    {
     "data": {
      "image/png": "[encoded data removed]",
      "text/plain": [
       "<Figure size 800x600 with 1 Axes>"
      ]
     },
     "metadata": {},
     "output_type": "display_data"
    }
   ],
   "source": [
    "# hacelo matplot.pyplot.grid\n",
    "\n",
    "plt.figure(figsize=(8,6))\n",
    "plt.bar(encuesta[\"nps_segment\"].value_counts().index, encuesta[\"nps_segment\"].value_counts(), color = paleta, edgecolor = \"white\")\n",
    "plt.xlabel(\"Puntaje al servicio\")\n",
    "plt.ylabel(\"Cantidad de clientes\")\n",
    "plt.title(\"Distribución NPS Segment\")\n",
    "plt.gca().set_facecolor('lightgray')\n",
    "plt.grid(axis=\"y\", linestyle='-', linewidth=0.5, color=\"white\", zorder=0)\n",
    "plt.grid(axis=\"x\", linestyle='-', linewidth=0.5, color=\"lightgray\", zorder=0)\n",
    "plt.xticks(fontsize=12)\n",
    "\n",
    "\n",
    "\n",
    "plt.show()\n"
   ]
  },
  {
   "cell_type": "code",
   "execution_count": 82,
   "metadata": {
    "pycharm": {
     "name": "#%%\n"
    }
   },
   "outputs": [
    {
     "name": "stdout",
     "output_type": "stream",
     "text": [
      "Porcentajes de Promotores en la muestra: 77.225 %\n",
      "Porcentajes de Detractores en la muestra: 15.71875 %\n",
      "Porcentajes de Neutros en la muestra: 7.05625 %\n"
     ]
    }
   ],
   "source": [
    "#imprimir las cantidades en porcentajes\n",
    "\n",
    "encuesta[\"nps_segment\"].value_counts(normalize = True)\n",
    "\n",
    "print(\"Porcentajes de Promotores en la muestra:\", encuesta[\"nps_segment\"].value_counts(normalize = True)[\"Promotor\"]*100, \"%\")\n",
    "print(\"Porcentajes de Detractores en la muestra:\", encuesta[\"nps_segment\"].value_counts(normalize = True)[\"Detractor\"]*100, \"%\")\n",
    "print(\"Porcentajes de Neutros en la muestra:\", encuesta[\"nps_segment\"].value_counts(normalize = True)[\"Neutro\"]*100, \"%\")\n",
    "\n"
   ]
  },
  {
   "cell_type": "markdown",
   "metadata": {},
   "source": [
    "___"
   ]
  },
  {
   "cell_type": "markdown",
   "metadata": {
    "pycharm": {
     "name": "#%% md\n"
    }
   },
   "source": [
    "# Crosstab\n",
    "\n",
    "Armar un crostab por year_month en el index y NPS segment cómo columna"
   ]
  },
  {
   "cell_type": "code",
   "execution_count": 83,
   "metadata": {
    "pycharm": {
     "name": "#%%\n"
    }
   },
   "outputs": [
    {
     "data": {
      "text/html": [
       "<div>\n",
       "<style scoped>\n",
       "    .dataframe tbody tr th:only-of-type {\n",
       "        vertical-align: middle;\n",
       "    }\n",
       "\n",
       "    .dataframe tbody tr th {\n",
       "        vertical-align: top;\n",
       "    }\n",
       "\n",
       "    .dataframe thead th {\n",
       "        text-align: right;\n",
       "    }\n",
       "</style>\n",
       "<table border=\"1\" class=\"dataframe\">\n",
       "  <thead>\n",
       "    <tr style=\"text-align: right;\">\n",
       "      <th>nps_segment</th>\n",
       "      <th>Detractor</th>\n",
       "      <th>Neutro</th>\n",
       "      <th>Promotor</th>\n",
       "    </tr>\n",
       "    <tr>\n",
       "      <th>year_month</th>\n",
       "      <th></th>\n",
       "      <th></th>\n",
       "      <th></th>\n",
       "    </tr>\n",
       "  </thead>\n",
       "  <tbody>\n",
       "    <tr>\n",
       "      <th>2020-12</th>\n",
       "      <td>16</td>\n",
       "      <td>8</td>\n",
       "      <td>100</td>\n",
       "    </tr>\n",
       "    <tr>\n",
       "      <th>2021-01</th>\n",
       "      <td>409</td>\n",
       "      <td>180</td>\n",
       "      <td>2028</td>\n",
       "    </tr>\n",
       "    <tr>\n",
       "      <th>2021-02</th>\n",
       "      <td>472</td>\n",
       "      <td>162</td>\n",
       "      <td>1799</td>\n",
       "    </tr>\n",
       "    <tr>\n",
       "      <th>2021-03</th>\n",
       "      <td>553</td>\n",
       "      <td>261</td>\n",
       "      <td>2494</td>\n",
       "    </tr>\n",
       "    <tr>\n",
       "      <th>2021-04</th>\n",
       "      <td>416</td>\n",
       "      <td>206</td>\n",
       "      <td>2261</td>\n",
       "    </tr>\n",
       "    <tr>\n",
       "      <th>2021-05</th>\n",
       "      <td>430</td>\n",
       "      <td>212</td>\n",
       "      <td>2424</td>\n",
       "    </tr>\n",
       "    <tr>\n",
       "      <th>2021-06</th>\n",
       "      <td>219</td>\n",
       "      <td>100</td>\n",
       "      <td>1250</td>\n",
       "    </tr>\n",
       "  </tbody>\n",
       "</table>\n",
       "</div>"
      ],
      "text/plain": [
       "nps_segment  Detractor  Neutro  Promotor\n",
       "year_month                              \n",
       "2020-12             16       8       100\n",
       "2021-01            409     180      2028\n",
       "2021-02            472     162      1799\n",
       "2021-03            553     261      2494\n",
       "2021-04            416     206      2261\n",
       "2021-05            430     212      2424\n",
       "2021-06            219     100      1250"
      ]
     },
     "execution_count": 83,
     "metadata": {},
     "output_type": "execute_result"
    }
   ],
   "source": [
    "pd.crosstab(encuesta[\"year_month\"], encuesta[\"nps_segment\"])\n"
   ]
  },
  {
   "cell_type": "markdown",
   "metadata": {
    "pycharm": {
     "name": "#%% md\n"
    }
   },
   "source": [
    "¿Para que sirve esta tabla?"
   ]
  },
  {
   "cell_type": "markdown",
   "metadata": {},
   "source": [
    "##### Para ver la cantidad de encuestas por mes y por segmento"
   ]
  },
  {
   "cell_type": "markdown",
   "metadata": {
    "pycharm": {
     "name": "#%% md\n"
    }
   },
   "source": [
    "Armar en terminos relativos. Es decir, en porcentaje de total por mes."
   ]
  },
  {
   "cell_type": "code",
   "execution_count": 109,
   "metadata": {
    "pycharm": {
     "name": "#%%\n"
    }
   },
   "outputs": [
    {
     "data": {
      "text/html": [
       "<div>\n",
       "<style scoped>\n",
       "    .dataframe tbody tr th:only-of-type {\n",
       "        vertical-align: middle;\n",
       "    }\n",
       "\n",
       "    .dataframe tbody tr th {\n",
       "        vertical-align: top;\n",
       "    }\n",
       "\n",
       "    .dataframe thead th {\n",
       "        text-align: right;\n",
       "    }\n",
       "</style>\n",
       "<table border=\"1\" class=\"dataframe\">\n",
       "  <thead>\n",
       "    <tr style=\"text-align: right;\">\n",
       "      <th>nps_segment</th>\n",
       "      <th>Detractor</th>\n",
       "      <th>Neutro</th>\n",
       "      <th>Promotor</th>\n",
       "    </tr>\n",
       "    <tr>\n",
       "      <th>year_month</th>\n",
       "      <th></th>\n",
       "      <th></th>\n",
       "      <th></th>\n",
       "    </tr>\n",
       "  </thead>\n",
       "  <tbody>\n",
       "    <tr>\n",
       "      <th>2020-12</th>\n",
       "      <td>12.903226</td>\n",
       "      <td>6.451613</td>\n",
       "      <td>80.645161</td>\n",
       "    </tr>\n",
       "    <tr>\n",
       "      <th>2021-01</th>\n",
       "      <td>15.628582</td>\n",
       "      <td>6.878105</td>\n",
       "      <td>77.493313</td>\n",
       "    </tr>\n",
       "    <tr>\n",
       "      <th>2021-02</th>\n",
       "      <td>19.399918</td>\n",
       "      <td>6.658446</td>\n",
       "      <td>73.941636</td>\n",
       "    </tr>\n",
       "    <tr>\n",
       "      <th>2021-03</th>\n",
       "      <td>16.717050</td>\n",
       "      <td>7.889964</td>\n",
       "      <td>75.392987</td>\n",
       "    </tr>\n",
       "    <tr>\n",
       "      <th>2021-04</th>\n",
       "      <td>14.429414</td>\n",
       "      <td>7.145335</td>\n",
       "      <td>78.425251</td>\n",
       "    </tr>\n",
       "    <tr>\n",
       "      <th>2021-05</th>\n",
       "      <td>14.024788</td>\n",
       "      <td>6.914547</td>\n",
       "      <td>79.060665</td>\n",
       "    </tr>\n",
       "    <tr>\n",
       "      <th>2021-06</th>\n",
       "      <td>13.957935</td>\n",
       "      <td>6.373486</td>\n",
       "      <td>79.668579</td>\n",
       "    </tr>\n",
       "  </tbody>\n",
       "</table>\n",
       "</div>"
      ],
      "text/plain": [
       "nps_segment  Detractor    Neutro   Promotor\n",
       "year_month                                 \n",
       "2020-12      12.903226  6.451613  80.645161\n",
       "2021-01      15.628582  6.878105  77.493313\n",
       "2021-02      19.399918  6.658446  73.941636\n",
       "2021-03      16.717050  7.889964  75.392987\n",
       "2021-04      14.429414  7.145335  78.425251\n",
       "2021-05      14.024788  6.914547  79.060665\n",
       "2021-06      13.957935  6.373486  79.668579"
      ]
     },
     "execution_count": 109,
     "metadata": {},
     "output_type": "execute_result"
    }
   ],
   "source": [
    "encuesta_segmento_porcentaje = pd.crosstab(encuesta[\"year_month\"], encuesta[\"nps_segment\"], normalize = \"index\")*100\n",
    "encuesta_segmento_porcentaje"
   ]
  },
  {
   "cell_type": "markdown",
   "metadata": {},
   "source": [
    "___"
   ]
  },
  {
   "cell_type": "markdown",
   "metadata": {
    "pycharm": {
     "name": "#%% md\n"
    }
   },
   "source": [
    "# Lineplot\n",
    "\n",
    "En el eje x gráfica el mes y en el eje y tres lineas con detractor, neutro y promotor"
   ]
  },
  {
   "cell_type": "markdown",
   "metadata": {
    "pycharm": {
     "name": "#%% md\n"
    }
   },
   "source": [
    "Armar un cross tab con los comentarios detectados mes a mes"
   ]
  },
  {
   "cell_type": "code",
   "execution_count": 85,
   "metadata": {
    "pycharm": {
     "name": "#%%\n"
    }
   },
   "outputs": [
    {
     "data": {
      "image/png": "[encoded data removed]",
      "text/plain": [
       "<Figure size 1200x600 with 1 Axes>"
      ]
     },
     "metadata": {},
     "output_type": "display_data"
    }
   ],
   "source": [
    "# Crea el gráfico de líneas\n",
    "plt.figure(figsize=(12, 6))\n",
    "\n",
    "# Extrae solo el nombre del mes de cada elemento del índice\n",
    "meses = [idx.strftime('%B') for idx in encuesta_segmento_porcentaje.index]\n",
    "\n",
    "# Para cada segmento, crea una línea en el gráfico\n",
    "for segmento in encuesta_segmento_porcentaje.columns:\n",
    "    plt.plot(meses, encuesta_segmento_porcentaje[segmento], label=segmento)\n",
    "\n",
    "# Personaliza el gráfico con etiquetas, título, leyenda, etc.\n",
    "plt.xlabel('Mes')\n",
    "plt.ylabel('')\n",
    "plt.xticks(fontsize=12)\n",
    "plt.legend(loc='best')\n",
    "plt.grid(True)\n",
    "plt.gca().set_facecolor('lightgray')\n",
    "plt.grid(axis=\"x\", linestyle='-', linewidth=0.5, color=\"lightgray\", zorder=0)\n",
    "sns.set_style(\"darkgrid\")\n",
    "plt.legend(loc=\"best\", fontsize=10, frameon=True, facecolor=\"#EAEAF1\", edgecolor=\"grey\", fancybox=True, framealpha=0.7, title=\"nps_segment\")\n",
    "\n",
    "plt.show()\n"
   ]
  },
  {
   "cell_type": "markdown",
   "metadata": {
    "pycharm": {
     "name": "#%% md\n"
    }
   },
   "source": [
    "¿Que mes es en el que más falla? ¿podemos sacar una conclusión?"
   ]
  },
  {
   "cell_type": "markdown",
   "metadata": {},
   "source": [
    "___"
   ]
  },
  {
   "cell_type": "markdown",
   "metadata": {
    "pycharm": {
     "name": "#%% md\n"
    }
   },
   "source": [
    "# Case Channel\n",
    "\n",
    "Reproducí este gráfico. ¿Para qué sirve?\n",
    "\n",
    "HINT:\n",
    "\n",
    "plt.rc('xtick', labelsize=24)\n",
    "plt.rc('ytick', labelsize=10)\n",
    "ax = sns.countplot(data = df, x = 'CASE_CHANNEL',\n",
    "              order = df['CASE_CHANNEL'].value_counts().index)"
   ]
  },
  {
   "cell_type": "code",
   "execution_count": 86,
   "metadata": {
    "pycharm": {
     "name": "#%%\n"
    }
   },
   "outputs": [
    {
     "data": {
      "text/plain": [
       "Text(0.5, 1.0, 'Cantidad de casos por Case Channel')"
      ]
     },
     "execution_count": 86,
     "metadata": {},
     "output_type": "execute_result"
    },
    {
     "data": {
      "image/png": "[encoded data removed]",
      "text/plain": [
       "<Figure size 1000x700 with 1 Axes>"
      ]
     },
     "metadata": {},
     "output_type": "display_data"
    }
   ],
   "source": [
    "fig, ax = plt.subplots(figsize=(10, 7))\n",
    "plt.rc('xtick', labelsize=24)\n",
    "plt.rc('ytick', labelsize=10)\n",
    "plt.xticks(rotation=45, fontsize=10)\n",
    "plt.gca().set_facecolor('#EAEAF1')\n",
    "ax = sns.countplot(data = encuesta, x = 'CASE_CHANNEL',\n",
    "              order = encuesta['CASE_CHANNEL'].value_counts().index, edgecolor = \"white\")\n",
    "plt.grid(axis=\"y\", linestyle='-', linewidth=0.5, color=\"white\", zorder=0)\n",
    "plt.title(\"Cantidad de casos por Case Channel\", fontsize=16)"
   ]
  },
  {
   "cell_type": "markdown",
   "metadata": {
    "pycharm": {
     "name": "#%% md\n"
    }
   },
   "source": [
    "Instala la librería squarify y ejecuta la linea de código de aca abajo importala y"
   ]
  },
  {
   "cell_type": "code",
   "execution_count": 87,
   "metadata": {
    "pycharm": {
     "name": "#%%\n"
    }
   },
   "outputs": [
    {
     "data": {
      "text/plain": [
       "Text(0.5, 1.0, 'Cantidad de casos por CASE_CHANNEL')"
      ]
     },
     "execution_count": 87,
     "metadata": {},
     "output_type": "execute_result"
    },
    {
     "data": {
      "image/png": "[encoded data removed]",
      "text/plain": [
       "<Figure size 1800x1000 with 1 Axes>"
      ]
     },
     "metadata": {},
     "output_type": "display_data"
    }
   ],
   "source": [
    "import squarify\n",
    "\n",
    "#filtro = df[df['CASE_CHANNEL'].map(df['CASE_CHANNEL'].value_counts()) > 900]\n",
    "label_value = encuesta[\"CASE_CHANNEL\"].value_counts().to_dict()\n",
    "# Creo los labels usando a list comprehesion\n",
    "labels = [\"{} tiene {} obs\".format(class_, obs) for class_, obs in label_value.items()]\n",
    "# Creo colores por cantidad de trabajos\n",
    "colors = [plt.cm.Spectral(i/float(len(labels))) for i in range(len(labels))]\n",
    "plt.figure(figsize = (18, 10))\n",
    "squarify.plot(sizes = label_value.values(), label = labels,  color = colors, alpha = 0.8)\n",
    "plt.title(\"Cantidad de casos por CASE_CHANNEL\")\n",
    "\n"
   ]
  },
  {
   "cell_type": "markdown",
   "metadata": {
    "pycharm": {
     "name": "#%% md\n"
    }
   },
   "source": [
    "Crear un cross tab entre segmento y Case chanel"
   ]
  },
  {
   "cell_type": "code",
   "execution_count": 88,
   "metadata": {
    "pycharm": {
     "name": "#%%\n"
    }
   },
   "outputs": [
    {
     "data": {
      "text/html": [
       "<div>\n",
       "<style scoped>\n",
       "    .dataframe tbody tr th:only-of-type {\n",
       "        vertical-align: middle;\n",
       "    }\n",
       "\n",
       "    .dataframe tbody tr th {\n",
       "        vertical-align: top;\n",
       "    }\n",
       "\n",
       "    .dataframe thead th {\n",
       "        text-align: right;\n",
       "    }\n",
       "</style>\n",
       "<table border=\"1\" class=\"dataframe\">\n",
       "  <thead>\n",
       "    <tr style=\"text-align: right;\">\n",
       "      <th>nps_segment</th>\n",
       "      <th>CASE_CHANNEL</th>\n",
       "      <th>Detractor</th>\n",
       "      <th>Neutro</th>\n",
       "      <th>Promotor</th>\n",
       "    </tr>\n",
       "  </thead>\n",
       "  <tbody>\n",
       "    <tr>\n",
       "      <th>0</th>\n",
       "      <td>AUXICAJA</td>\n",
       "      <td>9.220183</td>\n",
       "      <td>4.770642</td>\n",
       "      <td>86.009174</td>\n",
       "    </tr>\n",
       "    <tr>\n",
       "      <th>1</th>\n",
       "      <td>CALL CENTER</td>\n",
       "      <td>12.126905</td>\n",
       "      <td>6.553955</td>\n",
       "      <td>81.319140</td>\n",
       "    </tr>\n",
       "    <tr>\n",
       "      <th>2</th>\n",
       "      <td>CHAT</td>\n",
       "      <td>32.258065</td>\n",
       "      <td>11.290323</td>\n",
       "      <td>56.451613</td>\n",
       "    </tr>\n",
       "    <tr>\n",
       "      <th>3</th>\n",
       "      <td>EMAIL</td>\n",
       "      <td>27.450980</td>\n",
       "      <td>3.921569</td>\n",
       "      <td>68.627451</td>\n",
       "    </tr>\n",
       "    <tr>\n",
       "      <th>4</th>\n",
       "      <td>EUROP</td>\n",
       "      <td>22.710623</td>\n",
       "      <td>9.523810</td>\n",
       "      <td>67.765568</td>\n",
       "    </tr>\n",
       "    <tr>\n",
       "      <th>5</th>\n",
       "      <td>SUCURSAL</td>\n",
       "      <td>17.525211</td>\n",
       "      <td>7.795040</td>\n",
       "      <td>74.679749</td>\n",
       "    </tr>\n",
       "    <tr>\n",
       "      <th>6</th>\n",
       "      <td>WEB</td>\n",
       "      <td>17.747858</td>\n",
       "      <td>7.392901</td>\n",
       "      <td>74.859241</td>\n",
       "    </tr>\n",
       "    <tr>\n",
       "      <th>7</th>\n",
       "      <td>WHATSAPP</td>\n",
       "      <td>30.429594</td>\n",
       "      <td>10.262530</td>\n",
       "      <td>59.307876</td>\n",
       "    </tr>\n",
       "  </tbody>\n",
       "</table>\n",
       "</div>"
      ],
      "text/plain": [
       "nps_segment CASE_CHANNEL  Detractor     Neutro   Promotor\n",
       "0               AUXICAJA   9.220183   4.770642  86.009174\n",
       "1            CALL CENTER  12.126905   6.553955  81.319140\n",
       "2                   CHAT  32.258065  11.290323  56.451613\n",
       "3                  EMAIL  27.450980   3.921569  68.627451\n",
       "4                  EUROP  22.710623   9.523810  67.765568\n",
       "5               SUCURSAL  17.525211   7.795040  74.679749\n",
       "6                    WEB  17.747858   7.392901  74.859241\n",
       "7               WHATSAPP  30.429594  10.262530  59.307876"
      ]
     },
     "execution_count": 88,
     "metadata": {},
     "output_type": "execute_result"
    }
   ],
   "source": [
    "# Crear un cross tab entre encuesta_segmento_porcentaje Y CASE CHANNEL\n",
    "\n",
    "cross_table_2 = pd.crosstab(encuesta[\"CASE_CHANNEL\"], encuesta[\"nps_segment\"], normalize = \"index\")*100\n",
    "cross_table_2 = cross_table_2.reset_index()\n",
    "cross_table_2\n"
   ]
  },
  {
   "cell_type": "markdown",
   "metadata": {},
   "source": [
    "___"
   ]
  },
  {
   "cell_type": "markdown",
   "metadata": {
    "pycharm": {
     "name": "#%% md\n"
    }
   },
   "source": [
    "# Plotea un gráfico de barras"
   ]
  },
  {
   "cell_type": "code",
   "execution_count": 89,
   "metadata": {},
   "outputs": [
    {
     "data": {
      "image/png": "[encoded data removed]",
      "text/plain": [
       "<Figure size 1200x600 with 1 Axes>"
      ]
     },
     "metadata": {},
     "output_type": "display_data"
    }
   ],
   "source": [
    "plt.figure(figsize=(12, 6))\n",
    "\n",
    "data = cross_table_2\n",
    "\n",
    "n = len(data)\n",
    "x = list(range(n))  # Convert the range to a list\n",
    "width = 0.25\n",
    "\n",
    "plt.bar([i + (width-0.1) for i in x], data['Detractor'], width=width-0.1, label='Detractor', color='#A50026')\n",
    "plt.bar(x, data['Neutro'], width=width-0.1, label='Neutro', color='#FEE08B')\n",
    "plt.bar([i - (width-0.1) for i in x], data['Promotor'], width=width-0.1, label='Promotor', color='#65BD63')\n",
    "\n",
    "plt.xticks(x, data['CASE_CHANNEL'], rotation=45, fontsize=14)\n",
    "plt.xlabel('CASE_CHANNEL', fontsize=10)\n",
    "\n",
    "plt.legend(loc=\"upper center\", fontsize=10, frameon=True, facecolor=\"#EAEAF1\", edgecolor=\"grey\", fancybox=True, framealpha=0.7, title=\"nps_segment\")\n",
    "sns.set_style(\"darkgrid\")\n",
    "\n",
    "plt.show()\n"
   ]
  },
  {
   "cell_type": "markdown",
   "metadata": {
    "pycharm": {
     "name": "#%% md\n"
    }
   },
   "source": [
    "### Crear un crostab de nps_segment por genero en porcentaje"
   ]
  },
  {
   "cell_type": "code",
   "execution_count": 90,
   "metadata": {
    "pycharm": {
     "name": "#%%\n"
    }
   },
   "outputs": [
    {
     "data": {
      "text/html": [
       "<div>\n",
       "<style scoped>\n",
       "    .dataframe tbody tr th:only-of-type {\n",
       "        vertical-align: middle;\n",
       "    }\n",
       "\n",
       "    .dataframe tbody tr th {\n",
       "        vertical-align: top;\n",
       "    }\n",
       "\n",
       "    .dataframe thead th {\n",
       "        text-align: right;\n",
       "    }\n",
       "</style>\n",
       "<table border=\"1\" class=\"dataframe\">\n",
       "  <thead>\n",
       "    <tr style=\"text-align: right;\">\n",
       "      <th>GENDER</th>\n",
       "      <th>F</th>\n",
       "      <th>M</th>\n",
       "    </tr>\n",
       "    <tr>\n",
       "      <th>nps_segment</th>\n",
       "      <th></th>\n",
       "      <th></th>\n",
       "    </tr>\n",
       "  </thead>\n",
       "  <tbody>\n",
       "    <tr>\n",
       "      <th>Detractor</th>\n",
       "      <td>31.297405</td>\n",
       "      <td>68.702595</td>\n",
       "    </tr>\n",
       "    <tr>\n",
       "      <th>Neutro</th>\n",
       "      <td>30.570410</td>\n",
       "      <td>69.429590</td>\n",
       "    </tr>\n",
       "    <tr>\n",
       "      <th>Promotor</th>\n",
       "      <td>34.118603</td>\n",
       "      <td>65.881397</td>\n",
       "    </tr>\n",
       "  </tbody>\n",
       "</table>\n",
       "</div>"
      ],
      "text/plain": [
       "GENDER               F          M\n",
       "nps_segment                      \n",
       "Detractor    31.297405  68.702595\n",
       "Neutro       30.570410  69.429590\n",
       "Promotor     34.118603  65.881397"
      ]
     },
     "execution_count": 90,
     "metadata": {},
     "output_type": "execute_result"
    }
   ],
   "source": [
    "# Crear un crosstab de nps_segment por genero en porcentaje\n",
    "\n",
    "cross_table_3 = pd.crosstab(encuesta[\"nps_segment\"], encuesta[\"GENDER\"], normalize = \"index\")*100\n",
    "cross_table_3"
   ]
  },
  {
   "cell_type": "code",
   "execution_count": 91,
   "metadata": {},
   "outputs": [
    {
     "data": {
      "image/png": "[encoded data removed]",
      "text/plain": [
       "<Figure size 600x600 with 1 Axes>"
      ]
     },
     "metadata": {},
     "output_type": "display_data"
    }
   ],
   "source": [
    "\n",
    "# Sumar los datos de género para crear una categoría 'Male' y una categoría 'Female'\n",
    "cross_table_3['Male'] = cross_table_3['M'] + cross_table_3['F']\n",
    "cross_table_3['Female'] = cross_table_3['F']\n",
    "\n",
    "# Eliminar las columnas originales de género 'F' y 'M'\n",
    "cross_table_3.drop(columns=['F', 'M'], inplace=True)\n",
    "\n",
    "# Reordenar las columnas para que 'Female' aparezca antes que 'Male'\n",
    "cross_table_3 = cross_table_3[['Female', 'Male']]\n",
    "\n",
    "# Crear un gráfico de barras apiladas\n",
    "plt.figure(figsize=(6, 6))\n",
    "\n",
    "# Extraer los datos\n",
    "nps_segment = cross_table_3.index\n",
    "female_data = cross_table_3['Female'].values\n",
    "male_data = cross_table_3['Male'].values\n",
    "\n",
    "# Barras para el género Female\n",
    "plt.bar(nps_segment, female_data, label='F', color='#E9A3C9', width=0.3)\n",
    "\n",
    "# Barras para el género Male\n",
    "plt.bar(nps_segment, male_data, bottom=female_data, label='M', color='#A1D66A', width=0.3)\n",
    "\n",
    "\n",
    "plt.xlabel('nps_segment')\n",
    "plt.legend(loc=\"best\", fontsize=8, frameon=True, facecolor=\"#EAEAF1\", edgecolor=\"grey\", fancybox=True, framealpha=0.7, title=\"GENDER\")\n",
    "plt.xticks(rotation=90, fontsize=14)\n",
    "\n",
    "plt.show()\n"
   ]
  },
  {
   "cell_type": "markdown",
   "metadata": {},
   "source": [
    "___"
   ]
  },
  {
   "cell_type": "markdown",
   "metadata": {
    "pycharm": {
     "name": "#%% md\n"
    }
   },
   "source": [
    "# Edad\n",
    "\n",
    "Imprimir los siguientes valores"
   ]
  },
  {
   "cell_type": "code",
   "execution_count": 92,
   "metadata": {
    "pycharm": {
     "name": "#%%\n"
    }
   },
   "outputs": [
    {
     "name": "stdout",
     "output_type": "stream",
     "text": [
      "Edad Max: 121.0\n",
      "Mediana de la edad: 51.0\n",
      "Promedio de la edad: 51.15010040160642\n",
      "Edad Min: 0.0\n"
     ]
    }
   ],
   "source": [
    "print(\"Edad Max:\", encuesta[\"AGE\"].max())\n",
    "print(\"Mediana de la edad:\", encuesta[\"AGE\"].median())\n",
    "print(\"Promedio de la edad:\", encuesta[\"AGE\"].mean())\n",
    "print(\"Edad Min:\", encuesta[\"AGE\"].min())"
   ]
  },
  {
   "cell_type": "markdown",
   "metadata": {
    "pycharm": {
     "name": "#%% md\n"
    }
   },
   "source": [
    "Graficar la distribución de la edad"
   ]
  },
  {
   "cell_type": "code",
   "execution_count": 93,
   "metadata": {
    "pycharm": {
     "name": "#%%\n"
    }
   },
   "outputs": [
    {
     "name": "stderr",
     "output_type": "stream",
     "text": [
      "/var/folders/xx/hcklcr8s0rxd7p5fz63z342w0000gn/T/ipykernel_28494/4091694513.py:4: UserWarning: \n",
      "\n",
      "`distplot` is a deprecated function and will be removed in seaborn v0.14.0.\n",
      "\n",
      "Please adapt your code to use either `displot` (a figure-level function with\n",
      "similar flexibility) or `histplot` (an axes-level function for histograms).\n",
      "\n",
      "For a guide to updating your code to use the new functions, please see\n",
      "https://gist.github.com/mwaskom/de44147ed2974457ad6372750bbe5751\n",
      "\n",
      "  sns.distplot(encuesta[\"AGE\"], bins=121, kde=False, color=\"#647A86\", hist_kws={\"alpha\": 1})\n"
     ]
    },
    {
     "data": {
      "image/png": "[encoded data removed]",
      "text/plain": [
       "<Figure size 1400x800 with 1 Axes>"
      ]
     },
     "metadata": {},
     "output_type": "display_data"
    }
   ],
   "source": [
    "\n",
    "rcParams['figure.figsize'] = 14, 8\n",
    "\n",
    "sns.set()\n",
    "sns.distplot(encuesta[\"AGE\"], bins=121, kde=False, color=\"#647A86\", hist_kws={\"alpha\": 1})\n",
    "\n",
    "plt.xlabel(\"Edad\")\n",
    "plt.ylabel(\"Cantidad de clientes\")\n",
    "plt.title(\"Distribución de la edad en la muestra\")\n",
    "plt.xlim(encuesta[\"AGE\"].min(), encuesta[\"AGE\"].max())\n",
    "\n",
    "plt.xticks(fontsize=10)\n",
    "plt.yticks(fontsize=10)\n",
    "\n",
    "plt.show()\n"
   ]
  },
  {
   "cell_type": "markdown",
   "metadata": {},
   "source": [
    "___"
   ]
  },
  {
   "cell_type": "markdown",
   "metadata": {
    "pycharm": {
     "name": "#%% md\n"
    }
   },
   "source": [
    "# Boxplot\n",
    "\n",
    "Armar un boxplot por segmento, representando en el eje Y la edad."
   ]
  },
  {
   "cell_type": "code",
   "execution_count": 94,
   "metadata": {
    "pycharm": {
     "name": "#%%\n"
    }
   },
   "outputs": [
    {
     "data": {
      "image/png": "[encoded data removed]",
      "text/plain": [
       "<Figure size 800x800 with 1 Axes>"
      ]
     },
     "metadata": {},
     "output_type": "display_data"
    }
   ],
   "source": [
    "paleta = [\"#F0D999\", \"#71B16E\", \"#901631\"]\n",
    "\n",
    "plt.figure(figsize=(8, 8))\n",
    "\n",
    "sns.set()\n",
    "sns.boxplot(x=encuesta[\"nps_segment\"], y=encuesta[\"AGE\"], palette=paleta, linewidth=1.5, width=0.6, fliersize=3)\n",
    "\n",
    "plt.xlabel(\"Conversión\")\n",
    "plt.ylabel(\"Edad\")\n",
    "plt.title(\"Boxplot de Edad por Segmento\")\n",
    "\n",
    "plt.xticks(fontsize=10)\n",
    "plt.yticks(fontsize=10)\n",
    "sns.set_style(\"darkgrid\")\n",
    "\n",
    "plt.show()\n"
   ]
  },
  {
   "cell_type": "markdown",
   "metadata": {},
   "source": [
    "___"
   ]
  },
  {
   "cell_type": "markdown",
   "metadata": {
    "pycharm": {
     "name": "#%% md\n"
    }
   },
   "source": [
    "# Discretización\n",
    "Representar la edad en grupos de deacadas"
   ]
  },
  {
   "cell_type": "code",
   "execution_count": 95,
   "metadata": {
    "pycharm": {
     "name": "#%%\n"
    }
   },
   "outputs": [
    {
     "data": {
      "text/plain": [
       "grupo_edad\n",
       "60+      4751\n",
       "40-49    3790\n",
       "50-59    3675\n",
       "30-39    2862\n",
       "<30       922\n",
       "Name: count, dtype: int64"
      ]
     },
     "execution_count": 95,
     "metadata": {},
     "output_type": "execute_result"
    }
   ],
   "source": [
    "#primero crear la columna según regla de edad\n",
    "#luego crosstab\n",
    "\n",
    "def grupo_edad(x):\n",
    "    if x < 30:\n",
    "        return '<30'\n",
    "    elif 30 <= x < 40:\n",
    "        return '30-39'\n",
    "    elif 40 <= x < 50:\n",
    "        return '40-49'\n",
    "    elif 50 <= x < 60:\n",
    "        return '50-59'\n",
    "    else:\n",
    "        return '60+'\n",
    "\n",
    "    \n",
    "encuesta[\"grupo_edad\"] = encuesta[\"AGE\"].apply(grupo_edad)\n",
    "encuesta[\"grupo_edad\"].value_counts()\n",
    "\n"
   ]
  },
  {
   "cell_type": "code",
   "execution_count": 96,
   "metadata": {
    "pycharm": {
     "name": "#%%\n"
    }
   },
   "outputs": [
    {
     "data": {
      "text/html": [
       "<div>\n",
       "<style scoped>\n",
       "    .dataframe tbody tr th:only-of-type {\n",
       "        vertical-align: middle;\n",
       "    }\n",
       "\n",
       "    .dataframe tbody tr th {\n",
       "        vertical-align: top;\n",
       "    }\n",
       "\n",
       "    .dataframe thead th {\n",
       "        text-align: right;\n",
       "    }\n",
       "</style>\n",
       "<table border=\"1\" class=\"dataframe\">\n",
       "  <thead>\n",
       "    <tr style=\"text-align: right;\">\n",
       "      <th>nps_segment</th>\n",
       "      <th>Detractor</th>\n",
       "      <th>Neutro</th>\n",
       "      <th>Promotor</th>\n",
       "    </tr>\n",
       "    <tr>\n",
       "      <th>grupo_edad</th>\n",
       "      <th></th>\n",
       "      <th></th>\n",
       "      <th></th>\n",
       "    </tr>\n",
       "  </thead>\n",
       "  <tbody>\n",
       "    <tr>\n",
       "      <th>30-39</th>\n",
       "      <td>571</td>\n",
       "      <td>184</td>\n",
       "      <td>2107</td>\n",
       "    </tr>\n",
       "    <tr>\n",
       "      <th>40-49</th>\n",
       "      <td>662</td>\n",
       "      <td>254</td>\n",
       "      <td>2874</td>\n",
       "    </tr>\n",
       "    <tr>\n",
       "      <th>50-59</th>\n",
       "      <td>560</td>\n",
       "      <td>274</td>\n",
       "      <td>2841</td>\n",
       "    </tr>\n",
       "    <tr>\n",
       "      <th>60+</th>\n",
       "      <td>537</td>\n",
       "      <td>359</td>\n",
       "      <td>3855</td>\n",
       "    </tr>\n",
       "    <tr>\n",
       "      <th>&lt;30</th>\n",
       "      <td>185</td>\n",
       "      <td>58</td>\n",
       "      <td>679</td>\n",
       "    </tr>\n",
       "  </tbody>\n",
       "</table>\n",
       "</div>"
      ],
      "text/plain": [
       "nps_segment  Detractor  Neutro  Promotor\n",
       "grupo_edad                              \n",
       "30-39              571     184      2107\n",
       "40-49              662     254      2874\n",
       "50-59              560     274      2841\n",
       "60+                537     359      3855\n",
       "<30                185      58       679"
      ]
     },
     "execution_count": 96,
     "metadata": {},
     "output_type": "execute_result"
    }
   ],
   "source": [
    "per_edad = pd.crosstab(encuesta['nps_segment'],encuesta['grupo_edad'])\n",
    "per_edad = per_edad.T\n",
    "per_edad"
   ]
  },
  {
   "cell_type": "code",
   "execution_count": 97,
   "metadata": {
    "pycharm": {
     "name": "#%%\n"
    }
   },
   "outputs": [
    {
     "data": {
      "image/png": "[encoded data removed]",
      "text/plain": [
       "<Figure size 800x600 with 1 Axes>"
      ]
     },
     "metadata": {},
     "output_type": "display_data"
    }
   ],
   "source": [
    "rcParams['figure.figsize'] = 8,6\n",
    "plt.rc('xtick', labelsize=10)\n",
    "plt.rc('ytick', labelsize=10)\n",
    "sns.set_style(\"darkgrid\")\n",
    "plt.plot(kind = 'bar',color = paleta)\n",
    "plt.xlabel('Edad del grupo')\n",
    "plt.ylabel('Tasa de Conversión sobre el total')\n",
    "plt.xticks(np.arange(5), ('<30', '30-39', '40-49', '50-59', '60+'),rotation = 'horizontal')\n",
    "plt.title('Conversión vs Rango Etareo')\n",
    "plt.show()"
   ]
  }
 ],
 "metadata": {
  "kernelspec": {
   "display_name": "Python 3 (ipykernel)",
   "language": "python",
   "name": "python3"
  },
  "language_info": {
   "codemirror_mode": {
    "name": "ipython",
    "version": 3
   },
   "file_extension": ".py",
   "mimetype": "text/x-python",
   "name": "python",
   "nbconvert_exporter": "python",
   "pygments_lexer": "ipython3",
   "version": "3.11.4"
  }
 },
 "nbformat": 4,
 "nbformat_minor": 1
}
