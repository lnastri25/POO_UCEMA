{
  "cells": [
    {
      "cell_type": "code",
      "execution_count": 1,
      "metadata": {
        "id": "LYTW3YWcMllj",
        "pycharm": {
          "is_executing": true
        }
      },
      "outputs": [
        {
          "name": "stdout",
          "output_type": "stream",
          "text": [
            "Intel MKL WARNING: Support of Intel(R) Streaming SIMD Extensions 4.2 (Intel(R) SSE4.2) enabled only processors has been deprecated. Intel oneAPI Math Kernel Library 2025.0 will require Intel(R) Advanced Vector Extensions (Intel(R) AVX) instructions.\n",
            "Intel MKL WARNING: Support of Intel(R) Streaming SIMD Extensions 4.2 (Intel(R) SSE4.2) enabled only processors has been deprecated. Intel oneAPI Math Kernel Library 2025.0 will require Intel(R) Advanced Vector Extensions (Intel(R) AVX) instructions.\n"
          ]
        }
      ],
      "source": [
        "#Importamos librerias\n",
        "import pandas as pd\n",
        "import matplotlib.pyplot as plt\n",
        "import seaborn as sns\n",
        "import numpy as np"
      ]
    },
    {
      "cell_type": "code",
      "execution_count": 2,
      "metadata": {
        "id": "URT8-6PvMlll",
        "pycharm": {
          "is_executing": true
        }
      },
      "outputs": [
        {
          "name": "stdout",
          "output_type": "stream",
          "text": [
            ",CREATION_DATE,RESPONSE_DATE,CURRENT_STATUS,GENDER,DAY_OF_BIRTH,CIF_ID,AGE,LOCATION,TOUCHPOINT_NUMBER,CASE_NUMBER,CASE_DATE,CASE_CHANNEL,PRODUCT_NAME,NPS_SCORE,TAGS\n",
            "0,2021-06-11 10:30:03 UTC,2021-06-12 10:43:18 UTC,2,M,1954-09-18 00:00:00 UTC,1402267,66.0,DOMINGO FAUSTINO SARMIENTO,Service,5671770,2021-06-09 00:00:00 UTC,EUROP,Automotores Individuales,0, mot Grua  mot Servicio  mot Accesibilidad  mot Cobertura poliza\n",
            "1,2021-06-10 10:30:03 UTC,2021-06-12 17:38:35 UTC,5,F,1994-10-06 00:00:00 UTC,23733377,26.0,CORDOBA,Service,5662123,2021-06-08 00:00:00 UTC,AUXICAJA,Automotores Individuales,9, mot Servicio  mot Precio  atr Eficacia  mot Atencion\n",
            "2,2021-06-07 10:30:03 UTC,2021-06-12 16:52:27 UTC,5,M,1980-08-07 00:00:00 UTC,21113765,40.0,DIAMANTE,Service,5625253,2021-06-03 00:00:00 UTC,AUXICAJA,Automotores Individuales,10,\n",
            "3,2021-06-10 10:30:03 UTC,2021-06-13 19:29:41 UTC,5,M,1959-09-12 00:00:00 UTC,19579674,61.0,CIUDAD AUTONOMA BUENOS AIRES,Query/Servicing request,5663499,2021-06-09 00:00:00 UTC,SUCURSAL,Automotores Individuales,10, mot Grua  atr Eficacia\n",
            "4,2021-05-31 10:30:03 UTC,2021-06-06 22:26:27 UTC,1,M,1952-04-19 00:00:00 UTC,13972088,69.0,TRANCAS,Claims,5582911,2021-05-21 00:00:00 UTC,CALL CENTER,Automotores Individuales,0, mot Siniestro  atr Eficacia\n",
            "5,2021-06-04 10:30:02 UTC,2021-06-06 18:03:57 UTC,2,M,1978-09-29 00:00:00 UTC,18454077,42.0,COMODORO RIVADAVIA,Purchase,5616941,2021-06-03 00:00:00 UTC,CALL CENTER,Automotores Individuales,0, mot Atencion\n",
            "6,2021-06-04 10:30:02 UTC,2021-06-06 13:58:35 UTC,5,M,1964-05-17 00:00:00 UTC,20754786,57.0,SALTA,Documentation Request,5619982,2021-06-02 00:00:00 UTC,WEB,Automotores Individuales,10, atr Eficacia\n",
            "7,2021-06-09 10:30:03 UTC,2021-06-09 10:48:03 UTC,0,M,1996-12-20 00:00:00 UTC,14884444,24.0,CORDOBA,Purchase,5653163,2021-06-08 00:00:00 UTC,WEB,Automotores Individuales,8, mot FacturacionPagos\n",
            "8,2021-06-09 10:30:03 UTC,2021-06-10 20:47:15 UTC,5,M,1988-01-27 00:00:00 UTC,17409488,33.0,LAS HERAS,Documentation Request,5656265,2021-06-07 00:00:00 UTC,WEB,Automotores Individuales,10, mot Servicio  atr Eficacia\n"
          ]
        }
      ],
      "source": [
        "!head data_nps.csv"
      ]
    },
    {
      "cell_type": "code",
      "execution_count": 3,
      "metadata": {
        "id": "Ena23e4RMlll"
      },
      "outputs": [],
      "source": [
        "#Cargamos el dataframe y nos interiorizamos de sus campos\n",
        "#Que no haya una columna que se llame 'Unnamed: 0'\n",
        "df  = pd.read_csv('data_nps.csv')"
      ]
    },
    {
      "cell_type": "code",
      "execution_count": 4,
      "metadata": {
        "id": "u_5GaboAMlll",
        "outputId": "fb5b6804-bb40-48f6-ca4f-34dc86bf3678"
      },
      "outputs": [
        {
          "data": {
            "text/html": [
              "<div>\n",
              "<style scoped>\n",
              "    .dataframe tbody tr th:only-of-type {\n",
              "        vertical-align: middle;\n",
              "    }\n",
              "\n",
              "    .dataframe tbody tr th {\n",
              "        vertical-align: top;\n",
              "    }\n",
              "\n",
              "    .dataframe thead th {\n",
              "        text-align: right;\n",
              "    }\n",
              "</style>\n",
              "<table border=\"1\" class=\"dataframe\">\n",
              "  <thead>\n",
              "    <tr style=\"text-align: right;\">\n",
              "      <th></th>\n",
              "      <th>Unnamed: 0</th>\n",
              "      <th>CREATION_DATE</th>\n",
              "      <th>RESPONSE_DATE</th>\n",
              "      <th>CURRENT_STATUS</th>\n",
              "      <th>GENDER</th>\n",
              "      <th>DAY_OF_BIRTH</th>\n",
              "      <th>CIF_ID</th>\n",
              "      <th>AGE</th>\n",
              "      <th>LOCATION</th>\n",
              "      <th>TOUCHPOINT_NUMBER</th>\n",
              "      <th>CASE_NUMBER</th>\n",
              "      <th>CASE_DATE</th>\n",
              "      <th>CASE_CHANNEL</th>\n",
              "      <th>PRODUCT_NAME</th>\n",
              "      <th>NPS_SCORE</th>\n",
              "      <th>TAGS</th>\n",
              "    </tr>\n",
              "  </thead>\n",
              "  <tbody>\n",
              "    <tr>\n",
              "      <th>0</th>\n",
              "      <td>0</td>\n",
              "      <td>2021-06-11 10:30:03 UTC</td>\n",
              "      <td>2021-06-12 10:43:18 UTC</td>\n",
              "      <td>2</td>\n",
              "      <td>M</td>\n",
              "      <td>1954-09-18 00:00:00 UTC</td>\n",
              "      <td>1402267</td>\n",
              "      <td>66.0</td>\n",
              "      <td>DOMINGO FAUSTINO SARMIENTO</td>\n",
              "      <td>Service</td>\n",
              "      <td>5671770</td>\n",
              "      <td>2021-06-09 00:00:00 UTC</td>\n",
              "      <td>EUROP</td>\n",
              "      <td>Automotores Individuales</td>\n",
              "      <td>0</td>\n",
              "      <td>mot Grua  mot Servicio  mot Accesibilidad  mo...</td>\n",
              "    </tr>\n",
              "    <tr>\n",
              "      <th>1</th>\n",
              "      <td>1</td>\n",
              "      <td>2021-06-10 10:30:03 UTC</td>\n",
              "      <td>2021-06-12 17:38:35 UTC</td>\n",
              "      <td>5</td>\n",
              "      <td>F</td>\n",
              "      <td>1994-10-06 00:00:00 UTC</td>\n",
              "      <td>23733377</td>\n",
              "      <td>26.0</td>\n",
              "      <td>CORDOBA</td>\n",
              "      <td>Service</td>\n",
              "      <td>5662123</td>\n",
              "      <td>2021-06-08 00:00:00 UTC</td>\n",
              "      <td>AUXICAJA</td>\n",
              "      <td>Automotores Individuales</td>\n",
              "      <td>9</td>\n",
              "      <td>mot Servicio  mot Precio  atr Eficacia  mot A...</td>\n",
              "    </tr>\n",
              "    <tr>\n",
              "      <th>2</th>\n",
              "      <td>2</td>\n",
              "      <td>2021-06-07 10:30:03 UTC</td>\n",
              "      <td>2021-06-12 16:52:27 UTC</td>\n",
              "      <td>5</td>\n",
              "      <td>M</td>\n",
              "      <td>1980-08-07 00:00:00 UTC</td>\n",
              "      <td>21113765</td>\n",
              "      <td>40.0</td>\n",
              "      <td>DIAMANTE</td>\n",
              "      <td>Service</td>\n",
              "      <td>5625253</td>\n",
              "      <td>2021-06-03 00:00:00 UTC</td>\n",
              "      <td>AUXICAJA</td>\n",
              "      <td>Automotores Individuales</td>\n",
              "      <td>10</td>\n",
              "      <td>NaN</td>\n",
              "    </tr>\n",
              "    <tr>\n",
              "      <th>3</th>\n",
              "      <td>3</td>\n",
              "      <td>2021-06-10 10:30:03 UTC</td>\n",
              "      <td>2021-06-13 19:29:41 UTC</td>\n",
              "      <td>5</td>\n",
              "      <td>M</td>\n",
              "      <td>1959-09-12 00:00:00 UTC</td>\n",
              "      <td>19579674</td>\n",
              "      <td>61.0</td>\n",
              "      <td>CIUDAD AUTONOMA BUENOS AIRES</td>\n",
              "      <td>Query/Servicing request</td>\n",
              "      <td>5663499</td>\n",
              "      <td>2021-06-09 00:00:00 UTC</td>\n",
              "      <td>SUCURSAL</td>\n",
              "      <td>Automotores Individuales</td>\n",
              "      <td>10</td>\n",
              "      <td>mot Grua  atr Eficacia</td>\n",
              "    </tr>\n",
              "    <tr>\n",
              "      <th>4</th>\n",
              "      <td>4</td>\n",
              "      <td>2021-05-31 10:30:03 UTC</td>\n",
              "      <td>2021-06-06 22:26:27 UTC</td>\n",
              "      <td>1</td>\n",
              "      <td>M</td>\n",
              "      <td>1952-04-19 00:00:00 UTC</td>\n",
              "      <td>13972088</td>\n",
              "      <td>69.0</td>\n",
              "      <td>TRANCAS</td>\n",
              "      <td>Claims</td>\n",
              "      <td>5582911</td>\n",
              "      <td>2021-05-21 00:00:00 UTC</td>\n",
              "      <td>CALL CENTER</td>\n",
              "      <td>Automotores Individuales</td>\n",
              "      <td>0</td>\n",
              "      <td>mot Siniestro  atr Eficacia</td>\n",
              "    </tr>\n",
              "    <tr>\n",
              "      <th>...</th>\n",
              "      <td>...</td>\n",
              "      <td>...</td>\n",
              "      <td>...</td>\n",
              "      <td>...</td>\n",
              "      <td>...</td>\n",
              "      <td>...</td>\n",
              "      <td>...</td>\n",
              "      <td>...</td>\n",
              "      <td>...</td>\n",
              "      <td>...</td>\n",
              "      <td>...</td>\n",
              "      <td>...</td>\n",
              "      <td>...</td>\n",
              "      <td>...</td>\n",
              "      <td>...</td>\n",
              "      <td>...</td>\n",
              "    </tr>\n",
              "    <tr>\n",
              "      <th>15995</th>\n",
              "      <td>15995</td>\n",
              "      <td>2021-05-10 10:30:03 UTC</td>\n",
              "      <td>2021-05-10 10:46:11 UTC</td>\n",
              "      <td>5</td>\n",
              "      <td>M</td>\n",
              "      <td>1974-11-24 00:00:00 UTC</td>\n",
              "      <td>23609326</td>\n",
              "      <td>46.0</td>\n",
              "      <td>ISIDRO CASANOVA</td>\n",
              "      <td>Documentation Request</td>\n",
              "      <td>5436373</td>\n",
              "      <td>2021-05-07 00:00:00 UTC</td>\n",
              "      <td>WEB</td>\n",
              "      <td>Automotores Individuales</td>\n",
              "      <td>9</td>\n",
              "      <td>mot Siniestro  mot Cobertura poliza</td>\n",
              "    </tr>\n",
              "    <tr>\n",
              "      <th>15996</th>\n",
              "      <td>15996</td>\n",
              "      <td>2021-05-10 10:30:03 UTC</td>\n",
              "      <td>2021-05-10 12:12:26 UTC</td>\n",
              "      <td>0</td>\n",
              "      <td>M</td>\n",
              "      <td>1960-09-21 00:00:00 UTC</td>\n",
              "      <td>11254684</td>\n",
              "      <td>60.0</td>\n",
              "      <td>CIUDAD AUTONOMA BUENOS AIRES</td>\n",
              "      <td>Documentation Request</td>\n",
              "      <td>5434652</td>\n",
              "      <td>2021-05-07 00:00:00 UTC</td>\n",
              "      <td>WEB</td>\n",
              "      <td>Automotores Individuales</td>\n",
              "      <td>7</td>\n",
              "      <td>mot Siniestro  mot FacturacionPagos  mot Prec...</td>\n",
              "    </tr>\n",
              "    <tr>\n",
              "      <th>15997</th>\n",
              "      <td>15997</td>\n",
              "      <td>2021-05-10 10:30:03 UTC</td>\n",
              "      <td>2021-05-10 19:38:46 UTC</td>\n",
              "      <td>0</td>\n",
              "      <td>M</td>\n",
              "      <td>1960-07-15 00:00:00 UTC</td>\n",
              "      <td>16971297</td>\n",
              "      <td>60.0</td>\n",
              "      <td>SAN MIGUEL DE TUCUMAN</td>\n",
              "      <td>Documentation Request</td>\n",
              "      <td>5435120</td>\n",
              "      <td>2021-05-07 00:00:00 UTC</td>\n",
              "      <td>WEB</td>\n",
              "      <td>Automotores Individuales</td>\n",
              "      <td>7</td>\n",
              "      <td>NaN</td>\n",
              "    </tr>\n",
              "    <tr>\n",
              "      <th>15998</th>\n",
              "      <td>15998</td>\n",
              "      <td>2021-05-10 10:30:03 UTC</td>\n",
              "      <td>2021-05-10 10:45:03 UTC</td>\n",
              "      <td>2</td>\n",
              "      <td>M</td>\n",
              "      <td>1956-07-10 00:00:00 UTC</td>\n",
              "      <td>5768360</td>\n",
              "      <td>64.0</td>\n",
              "      <td>VILLA DOMINICO</td>\n",
              "      <td>Documentation Request</td>\n",
              "      <td>5434365</td>\n",
              "      <td>2021-05-07 00:00:00 UTC</td>\n",
              "      <td>WEB</td>\n",
              "      <td>Automotores Individuales</td>\n",
              "      <td>2</td>\n",
              "      <td>mot Siniestro  atr Conformidad  mot Facturaci...</td>\n",
              "    </tr>\n",
              "    <tr>\n",
              "      <th>15999</th>\n",
              "      <td>15999</td>\n",
              "      <td>2021-05-10 10:39:05 UTC</td>\n",
              "      <td>2021-05-10 12:02:05 UTC</td>\n",
              "      <td>0</td>\n",
              "      <td>F</td>\n",
              "      <td>1965-11-22 00:00:00 UTC</td>\n",
              "      <td>8703935</td>\n",
              "      <td>55.0</td>\n",
              "      <td>CIUDAD AUTONOMA BUENOS AIRES</td>\n",
              "      <td>Query/Servicing request</td>\n",
              "      <td>5426739</td>\n",
              "      <td>2021-05-07 00:00:00 UTC</td>\n",
              "      <td>SUCURSAL</td>\n",
              "      <td>Automotores Individuales</td>\n",
              "      <td>8</td>\n",
              "      <td>mot Servicio</td>\n",
              "    </tr>\n",
              "  </tbody>\n",
              "</table>\n",
              "<p>16000 rows × 16 columns</p>\n",
              "</div>"
            ],
            "text/plain": [
              "       Unnamed: 0            CREATION_DATE            RESPONSE_DATE  \\\n",
              "0               0  2021-06-11 10:30:03 UTC  2021-06-12 10:43:18 UTC   \n",
              "1               1  2021-06-10 10:30:03 UTC  2021-06-12 17:38:35 UTC   \n",
              "2               2  2021-06-07 10:30:03 UTC  2021-06-12 16:52:27 UTC   \n",
              "3               3  2021-06-10 10:30:03 UTC  2021-06-13 19:29:41 UTC   \n",
              "4               4  2021-05-31 10:30:03 UTC  2021-06-06 22:26:27 UTC   \n",
              "...           ...                      ...                      ...   \n",
              "15995       15995  2021-05-10 10:30:03 UTC  2021-05-10 10:46:11 UTC   \n",
              "15996       15996  2021-05-10 10:30:03 UTC  2021-05-10 12:12:26 UTC   \n",
              "15997       15997  2021-05-10 10:30:03 UTC  2021-05-10 19:38:46 UTC   \n",
              "15998       15998  2021-05-10 10:30:03 UTC  2021-05-10 10:45:03 UTC   \n",
              "15999       15999  2021-05-10 10:39:05 UTC  2021-05-10 12:02:05 UTC   \n",
              "\n",
              "       CURRENT_STATUS GENDER             DAY_OF_BIRTH    CIF_ID   AGE  \\\n",
              "0                   2      M  1954-09-18 00:00:00 UTC   1402267  66.0   \n",
              "1                   5      F  1994-10-06 00:00:00 UTC  23733377  26.0   \n",
              "2                   5      M  1980-08-07 00:00:00 UTC  21113765  40.0   \n",
              "3                   5      M  1959-09-12 00:00:00 UTC  19579674  61.0   \n",
              "4                   1      M  1952-04-19 00:00:00 UTC  13972088  69.0   \n",
              "...               ...    ...                      ...       ...   ...   \n",
              "15995               5      M  1974-11-24 00:00:00 UTC  23609326  46.0   \n",
              "15996               0      M  1960-09-21 00:00:00 UTC  11254684  60.0   \n",
              "15997               0      M  1960-07-15 00:00:00 UTC  16971297  60.0   \n",
              "15998               2      M  1956-07-10 00:00:00 UTC   5768360  64.0   \n",
              "15999               0      F  1965-11-22 00:00:00 UTC   8703935  55.0   \n",
              "\n",
              "                           LOCATION        TOUCHPOINT_NUMBER  CASE_NUMBER  \\\n",
              "0        DOMINGO FAUSTINO SARMIENTO                  Service      5671770   \n",
              "1                           CORDOBA                  Service      5662123   \n",
              "2                          DIAMANTE                  Service      5625253   \n",
              "3      CIUDAD AUTONOMA BUENOS AIRES  Query/Servicing request      5663499   \n",
              "4                           TRANCAS                   Claims      5582911   \n",
              "...                             ...                      ...          ...   \n",
              "15995               ISIDRO CASANOVA    Documentation Request      5436373   \n",
              "15996  CIUDAD AUTONOMA BUENOS AIRES    Documentation Request      5434652   \n",
              "15997         SAN MIGUEL DE TUCUMAN    Documentation Request      5435120   \n",
              "15998                VILLA DOMINICO    Documentation Request      5434365   \n",
              "15999  CIUDAD AUTONOMA BUENOS AIRES  Query/Servicing request      5426739   \n",
              "\n",
              "                     CASE_DATE CASE_CHANNEL              PRODUCT_NAME  \\\n",
              "0      2021-06-09 00:00:00 UTC        EUROP  Automotores Individuales   \n",
              "1      2021-06-08 00:00:00 UTC     AUXICAJA  Automotores Individuales   \n",
              "2      2021-06-03 00:00:00 UTC     AUXICAJA  Automotores Individuales   \n",
              "3      2021-06-09 00:00:00 UTC     SUCURSAL  Automotores Individuales   \n",
              "4      2021-05-21 00:00:00 UTC  CALL CENTER  Automotores Individuales   \n",
              "...                        ...          ...                       ...   \n",
              "15995  2021-05-07 00:00:00 UTC          WEB  Automotores Individuales   \n",
              "15996  2021-05-07 00:00:00 UTC          WEB  Automotores Individuales   \n",
              "15997  2021-05-07 00:00:00 UTC          WEB  Automotores Individuales   \n",
              "15998  2021-05-07 00:00:00 UTC          WEB  Automotores Individuales   \n",
              "15999  2021-05-07 00:00:00 UTC     SUCURSAL  Automotores Individuales   \n",
              "\n",
              "       NPS_SCORE                                               TAGS  \n",
              "0              0   mot Grua  mot Servicio  mot Accesibilidad  mo...  \n",
              "1              9   mot Servicio  mot Precio  atr Eficacia  mot A...  \n",
              "2             10                                                NaN  \n",
              "3             10                             mot Grua  atr Eficacia  \n",
              "4              0                        mot Siniestro  atr Eficacia  \n",
              "...          ...                                                ...  \n",
              "15995          9                mot Siniestro  mot Cobertura poliza  \n",
              "15996          7   mot Siniestro  mot FacturacionPagos  mot Prec...  \n",
              "15997          7                                                NaN  \n",
              "15998          2   mot Siniestro  atr Conformidad  mot Facturaci...  \n",
              "15999          8                                       mot Servicio  \n",
              "\n",
              "[16000 rows x 16 columns]"
            ]
          },
          "execution_count": 4,
          "metadata": {},
          "output_type": "execute_result"
        }
      ],
      "source": [
        "df"
      ]
    },
    {
      "cell_type": "code",
      "execution_count": 5,
      "metadata": {
        "id": "Oy_MsJSpMllm",
        "outputId": "847584f0-afe3-4cfd-cdb0-0b32e9b49d81"
      },
      "outputs": [
        {
          "data": {
            "text/plain": [
              "Index(['Unnamed: 0', 'CREATION_DATE', 'RESPONSE_DATE', 'CURRENT_STATUS',\n",
              "       'GENDER', 'DAY_OF_BIRTH', 'CIF_ID', 'AGE', 'LOCATION',\n",
              "       'TOUCHPOINT_NUMBER', 'CASE_NUMBER', 'CASE_DATE', 'CASE_CHANNEL',\n",
              "       'PRODUCT_NAME', 'NPS_SCORE', 'TAGS'],\n",
              "      dtype='object')"
            ]
          },
          "execution_count": 5,
          "metadata": {},
          "output_type": "execute_result"
        }
      ],
      "source": [
        "#mostrar nombres de columna\n",
        "df.columns"
      ]
    },
    {
      "cell_type": "markdown",
      "metadata": {
        "collapsed": false,
        "id": "HF3iH_SYMllm"
      },
      "source": [
        "Hacer una función que determine si es promotor, detractor y neutro e implementarla a una columna del dataset que se llama nps_segment\n",
        "* Promotor: NPS_SCORE = 8,9,10\n",
        "* Neutro: NPS_SCORE = 6,7\n",
        "* Detractor: NPS_SCORE = 1,2,3,4,5"
      ]
    },
    {
      "cell_type": "code",
      "execution_count": 6,
      "metadata": {
        "id": "mAWiMIU8Mlln"
      },
      "outputs": [],
      "source": [
        "def nps_segment(x):\n",
        "      if x <=5:\n",
        "          return 'detractor'\n",
        "      elif 6 <= x <= 7:\n",
        "          return 'neutro'\n",
        "      else:\n",
        "          return 'promotor'\n",
        "\n",
        "df[\"nps_segment\"] = df[\"NPS_SCORE\"].apply(nps_segment)\n"
      ]
    },
    {
      "cell_type": "code",
      "execution_count": 7,
      "metadata": {
        "id": "Xok6vFpPMlln"
      },
      "outputs": [],
      "source": [
        "lst = [df]\n",
        "for column in lst:\n",
        "    column.loc[column[\"NPS_SCORE\"] <= 6,  'nps_segment'] = \"detractor\"\n",
        "    column.loc[(column[\"NPS_SCORE\"] >= 7) & (column[\"NPS_SCORE\"] <= 8), 'nps_segment'] = \"neutro\"\n",
        "    column.loc[(column[\"NPS_SCORE\"] >= 9), 'nps_segment'] = \"promotor\""
      ]
    },
    {
      "cell_type": "markdown",
      "metadata": {
        "collapsed": false,
        "id": "un-KswBEMlln"
      },
      "source": [
        "Con numpy.where crear una columna llamada detected, que determina si la columna TAGS tiene algun contenido. Poner True si lo tiene y si no tiene contenido poner False."
      ]
    },
    {
      "cell_type": "code",
      "execution_count": 8,
      "metadata": {
        "id": "pCjF2pnnMllo"
      },
      "outputs": [],
      "source": [
        "df[\"detected\"]= np.where(df[\"TAGS\"].notnull(),True,False)"
      ]
    },
    {
      "cell_type": "markdown",
      "metadata": {
        "collapsed": false,
        "id": "h6823WaOMllo"
      },
      "source": [
        "## Dates\n",
        "Devolver la fecha máxima y minima de la columna CREATION_DATE"
      ]
    },
    {
      "cell_type": "code",
      "execution_count": 9,
      "metadata": {
        "id": "h6cAcFg8Mllo",
        "outputId": "cdcbee23-6ccd-48ca-ea5b-9f867e266e49"
      },
      "outputs": [
        {
          "data": {
            "text/plain": [
              "'2021-06-15 12:35:01 UTC'"
            ]
          },
          "execution_count": 9,
          "metadata": {},
          "output_type": "execute_result"
        }
      ],
      "source": [
        "df.CREATION_DATE.max()"
      ]
    },
    {
      "cell_type": "code",
      "execution_count": 10,
      "metadata": {
        "id": "XlNlpqdCMllo",
        "outputId": "a41dc92c-18c1-46d0-afa0-5db3e6e94b12"
      },
      "outputs": [
        {
          "data": {
            "text/plain": [
              "'2020-12-10 10:30:03 UTC'"
            ]
          },
          "execution_count": 10,
          "metadata": {},
          "output_type": "execute_result"
        }
      ],
      "source": [
        "df.CREATION_DATE.min()"
      ]
    },
    {
      "cell_type": "markdown",
      "metadata": {
        "collapsed": false,
        "id": "KKdzVuu4Mllo"
      },
      "source": [
        "Chequear el tipo de dato de la columna"
      ]
    },
    {
      "cell_type": "code",
      "execution_count": 11,
      "metadata": {
        "id": "r6QoK3QhMllo",
        "outputId": "b42deef1-94c8-4108-cf60-f7de69ef51eb"
      },
      "outputs": [
        {
          "data": {
            "text/plain": [
              "0        2021-06-11 10:30:03 UTC\n",
              "1        2021-06-10 10:30:03 UTC\n",
              "2        2021-06-07 10:30:03 UTC\n",
              "3        2021-06-10 10:30:03 UTC\n",
              "4        2021-05-31 10:30:03 UTC\n",
              "                  ...           \n",
              "15995    2021-05-10 10:30:03 UTC\n",
              "15996    2021-05-10 10:30:03 UTC\n",
              "15997    2021-05-10 10:30:03 UTC\n",
              "15998    2021-05-10 10:30:03 UTC\n",
              "15999    2021-05-10 10:39:05 UTC\n",
              "Name: CREATION_DATE, Length: 16000, dtype: object"
            ]
          },
          "execution_count": 11,
          "metadata": {},
          "output_type": "execute_result"
        }
      ],
      "source": [
        "df.CREATION_DATE"
      ]
    },
    {
      "cell_type": "markdown",
      "metadata": {
        "collapsed": false,
        "id": "8xtONy2wMllo"
      },
      "source": [
        "Crear una columna que solo tenga año y mes. Llameémosle year_month. Utilizar pd.to_datetime()"
      ]
    },
    {
      "cell_type": "code",
      "execution_count": 12,
      "metadata": {
        "id": "InTCe9d-Mllp"
      },
      "outputs": [],
      "source": [
        "df[\"CREATION_DATE\"] = pd.to_datetime(df[\"CREATION_DATE\"])"
      ]
    },
    {
      "cell_type": "code",
      "execution_count": 13,
      "metadata": {
        "id": "4FV225psMllp",
        "outputId": "041de936-d143-4eee-e74c-737aa613a838"
      },
      "outputs": [
        {
          "name": "stderr",
          "output_type": "stream",
          "text": [
            "/var/folders/xx/hcklcr8s0rxd7p5fz63z342w0000gn/T/ipykernel_31536/628182931.py:1: UserWarning: Converting to PeriodArray/Index representation will drop timezone information.\n",
            "  df[\"year_month\"] = df[\"CREATION_DATE\"].dt.to_period('m')\n"
          ]
        }
      ],
      "source": [
        "df[\"year_month\"] = df[\"CREATION_DATE\"].dt.to_period('m')"
      ]
    },
    {
      "cell_type": "code",
      "execution_count": 14,
      "metadata": {
        "id": "ETKYGTYfMllp",
        "outputId": "426f754b-50df-493b-bbfa-dd2a5531645f"
      },
      "outputs": [
        {
          "data": {
            "text/plain": [
              "0        2021-06\n",
              "1        2021-06\n",
              "2        2021-06\n",
              "3        2021-06\n",
              "4        2021-05\n",
              "          ...   \n",
              "15995    2021-05\n",
              "15996    2021-05\n",
              "15997    2021-05\n",
              "15998    2021-05\n",
              "15999    2021-05\n",
              "Name: year_month, Length: 16000, dtype: period[M]"
            ]
          },
          "execution_count": 14,
          "metadata": {},
          "output_type": "execute_result"
        }
      ],
      "source": [
        "df[\"year_month\"]"
      ]
    },
    {
      "cell_type": "markdown",
      "metadata": {
        "collapsed": false,
        "id": "hFc2fJUCMllp"
      },
      "source": [
        "## Conteo.\n",
        "Crear un nuevo dataframe agrupado por year_month donde tenga la cantidad de encuestas únicas mes a mes\n",
        "** Hint**:\n",
        "```python\n",
        "df.groupby(grouping_column).agg(\"count\")\n",
        "```"
      ]
    },
    {
      "cell_type": "code",
      "execution_count": 15,
      "metadata": {
        "id": "sk45spTvMllp",
        "outputId": "8e31f70b-688f-4709-8650-c71f7dcd1368"
      },
      "outputs": [
        {
          "data": {
            "text/html": [
              "<div>\n",
              "<style scoped>\n",
              "    .dataframe tbody tr th:only-of-type {\n",
              "        vertical-align: middle;\n",
              "    }\n",
              "\n",
              "    .dataframe tbody tr th {\n",
              "        vertical-align: top;\n",
              "    }\n",
              "\n",
              "    .dataframe thead th {\n",
              "        text-align: right;\n",
              "    }\n",
              "</style>\n",
              "<table border=\"1\" class=\"dataframe\">\n",
              "  <thead>\n",
              "    <tr style=\"text-align: right;\">\n",
              "      <th></th>\n",
              "      <th>Unnamed: 0</th>\n",
              "      <th>CREATION_DATE</th>\n",
              "      <th>RESPONSE_DATE</th>\n",
              "      <th>CURRENT_STATUS</th>\n",
              "      <th>GENDER</th>\n",
              "      <th>DAY_OF_BIRTH</th>\n",
              "      <th>CIF_ID</th>\n",
              "      <th>AGE</th>\n",
              "      <th>LOCATION</th>\n",
              "      <th>TOUCHPOINT_NUMBER</th>\n",
              "      <th>CASE_NUMBER</th>\n",
              "      <th>CASE_DATE</th>\n",
              "      <th>CASE_CHANNEL</th>\n",
              "      <th>PRODUCT_NAME</th>\n",
              "      <th>NPS_SCORE</th>\n",
              "      <th>TAGS</th>\n",
              "      <th>nps_segment</th>\n",
              "      <th>detected</th>\n",
              "    </tr>\n",
              "    <tr>\n",
              "      <th>year_month</th>\n",
              "      <th></th>\n",
              "      <th></th>\n",
              "      <th></th>\n",
              "      <th></th>\n",
              "      <th></th>\n",
              "      <th></th>\n",
              "      <th></th>\n",
              "      <th></th>\n",
              "      <th></th>\n",
              "      <th></th>\n",
              "      <th></th>\n",
              "      <th></th>\n",
              "      <th></th>\n",
              "      <th></th>\n",
              "      <th></th>\n",
              "      <th></th>\n",
              "      <th></th>\n",
              "      <th></th>\n",
              "    </tr>\n",
              "  </thead>\n",
              "  <tbody>\n",
              "    <tr>\n",
              "      <th>2020-12</th>\n",
              "      <td>124</td>\n",
              "      <td>124</td>\n",
              "      <td>124</td>\n",
              "      <td>124</td>\n",
              "      <td>123</td>\n",
              "      <td>123</td>\n",
              "      <td>124</td>\n",
              "      <td>123</td>\n",
              "      <td>124</td>\n",
              "      <td>124</td>\n",
              "      <td>124</td>\n",
              "      <td>124</td>\n",
              "      <td>124</td>\n",
              "      <td>124</td>\n",
              "      <td>124</td>\n",
              "      <td>111</td>\n",
              "      <td>124</td>\n",
              "      <td>124</td>\n",
              "    </tr>\n",
              "    <tr>\n",
              "      <th>2021-01</th>\n",
              "      <td>2617</td>\n",
              "      <td>2617</td>\n",
              "      <td>2617</td>\n",
              "      <td>2617</td>\n",
              "      <td>2612</td>\n",
              "      <td>2612</td>\n",
              "      <td>2617</td>\n",
              "      <td>2612</td>\n",
              "      <td>2610</td>\n",
              "      <td>2617</td>\n",
              "      <td>2617</td>\n",
              "      <td>2617</td>\n",
              "      <td>2617</td>\n",
              "      <td>2617</td>\n",
              "      <td>2617</td>\n",
              "      <td>2246</td>\n",
              "      <td>2617</td>\n",
              "      <td>2617</td>\n",
              "    </tr>\n",
              "    <tr>\n",
              "      <th>2021-02</th>\n",
              "      <td>2433</td>\n",
              "      <td>2433</td>\n",
              "      <td>2433</td>\n",
              "      <td>2433</td>\n",
              "      <td>2427</td>\n",
              "      <td>2426</td>\n",
              "      <td>2433</td>\n",
              "      <td>2426</td>\n",
              "      <td>2428</td>\n",
              "      <td>2433</td>\n",
              "      <td>2433</td>\n",
              "      <td>2433</td>\n",
              "      <td>2433</td>\n",
              "      <td>2433</td>\n",
              "      <td>2433</td>\n",
              "      <td>2139</td>\n",
              "      <td>2433</td>\n",
              "      <td>2433</td>\n",
              "    </tr>\n",
              "    <tr>\n",
              "      <th>2021-03</th>\n",
              "      <td>3308</td>\n",
              "      <td>3308</td>\n",
              "      <td>3308</td>\n",
              "      <td>3308</td>\n",
              "      <td>3294</td>\n",
              "      <td>3294</td>\n",
              "      <td>3308</td>\n",
              "      <td>3294</td>\n",
              "      <td>3297</td>\n",
              "      <td>3308</td>\n",
              "      <td>3308</td>\n",
              "      <td>3308</td>\n",
              "      <td>3308</td>\n",
              "      <td>3308</td>\n",
              "      <td>3308</td>\n",
              "      <td>2866</td>\n",
              "      <td>3308</td>\n",
              "      <td>3308</td>\n",
              "    </tr>\n",
              "    <tr>\n",
              "      <th>2021-04</th>\n",
              "      <td>2883</td>\n",
              "      <td>2883</td>\n",
              "      <td>2883</td>\n",
              "      <td>2883</td>\n",
              "      <td>2868</td>\n",
              "      <td>2868</td>\n",
              "      <td>2883</td>\n",
              "      <td>2868</td>\n",
              "      <td>2876</td>\n",
              "      <td>2883</td>\n",
              "      <td>2883</td>\n",
              "      <td>2883</td>\n",
              "      <td>2883</td>\n",
              "      <td>2883</td>\n",
              "      <td>2883</td>\n",
              "      <td>2466</td>\n",
              "      <td>2883</td>\n",
              "      <td>2883</td>\n",
              "    </tr>\n",
              "    <tr>\n",
              "      <th>2021-05</th>\n",
              "      <td>3066</td>\n",
              "      <td>3066</td>\n",
              "      <td>3066</td>\n",
              "      <td>3066</td>\n",
              "      <td>3051</td>\n",
              "      <td>3051</td>\n",
              "      <td>3066</td>\n",
              "      <td>3051</td>\n",
              "      <td>3055</td>\n",
              "      <td>3066</td>\n",
              "      <td>3066</td>\n",
              "      <td>3066</td>\n",
              "      <td>3066</td>\n",
              "      <td>3066</td>\n",
              "      <td>3066</td>\n",
              "      <td>2632</td>\n",
              "      <td>3066</td>\n",
              "      <td>3066</td>\n",
              "    </tr>\n",
              "    <tr>\n",
              "      <th>2021-06</th>\n",
              "      <td>1569</td>\n",
              "      <td>1569</td>\n",
              "      <td>1569</td>\n",
              "      <td>1569</td>\n",
              "      <td>1562</td>\n",
              "      <td>1562</td>\n",
              "      <td>1569</td>\n",
              "      <td>1562</td>\n",
              "      <td>1568</td>\n",
              "      <td>1569</td>\n",
              "      <td>1569</td>\n",
              "      <td>1569</td>\n",
              "      <td>1569</td>\n",
              "      <td>1569</td>\n",
              "      <td>1569</td>\n",
              "      <td>1356</td>\n",
              "      <td>1569</td>\n",
              "      <td>1569</td>\n",
              "    </tr>\n",
              "  </tbody>\n",
              "</table>\n",
              "</div>"
            ],
            "text/plain": [
              "            Unnamed: 0  CREATION_DATE  RESPONSE_DATE  CURRENT_STATUS  GENDER  \\\n",
              "year_month                                                                     \n",
              "2020-12            124            124            124             124     123   \n",
              "2021-01           2617           2617           2617            2617    2612   \n",
              "2021-02           2433           2433           2433            2433    2427   \n",
              "2021-03           3308           3308           3308            3308    3294   \n",
              "2021-04           2883           2883           2883            2883    2868   \n",
              "2021-05           3066           3066           3066            3066    3051   \n",
              "2021-06           1569           1569           1569            1569    1562   \n",
              "\n",
              "            DAY_OF_BIRTH  CIF_ID   AGE  LOCATION  TOUCHPOINT_NUMBER  \\\n",
              "year_month                                                            \n",
              "2020-12              123     124   123       124                124   \n",
              "2021-01             2612    2617  2612      2610               2617   \n",
              "2021-02             2426    2433  2426      2428               2433   \n",
              "2021-03             3294    3308  3294      3297               3308   \n",
              "2021-04             2868    2883  2868      2876               2883   \n",
              "2021-05             3051    3066  3051      3055               3066   \n",
              "2021-06             1562    1569  1562      1568               1569   \n",
              "\n",
              "            CASE_NUMBER  CASE_DATE  CASE_CHANNEL  PRODUCT_NAME  NPS_SCORE  \\\n",
              "year_month                                                                  \n",
              "2020-12             124        124           124           124        124   \n",
              "2021-01            2617       2617          2617          2617       2617   \n",
              "2021-02            2433       2433          2433          2433       2433   \n",
              "2021-03            3308       3308          3308          3308       3308   \n",
              "2021-04            2883       2883          2883          2883       2883   \n",
              "2021-05            3066       3066          3066          3066       3066   \n",
              "2021-06            1569       1569          1569          1569       1569   \n",
              "\n",
              "            TAGS  nps_segment  detected  \n",
              "year_month                               \n",
              "2020-12      111          124       124  \n",
              "2021-01     2246         2617      2617  \n",
              "2021-02     2139         2433      2433  \n",
              "2021-03     2866         3308      3308  \n",
              "2021-04     2466         2883      2883  \n",
              "2021-05     2632         3066      3066  \n",
              "2021-06     1356         1569      1569  "
            ]
          },
          "execution_count": 15,
          "metadata": {},
          "output_type": "execute_result"
        }
      ],
      "source": [
        "df.groupby(\"year_month\").agg(\"count\")"
      ]
    },
    {
      "cell_type": "markdown",
      "metadata": {
        "collapsed": false,
        "id": "z6SvipaYMllp"
      },
      "source": [
        "Crear un dataste donde sume la cantidad de encuestas con TAG detectados, mes a mes"
      ]
    },
    {
      "cell_type": "code",
      "execution_count": 16,
      "metadata": {
        "id": "oR2REmasMllp",
        "outputId": "5829a422-acb8-4a51-a9de-70c13554f130"
      },
      "outputs": [
        {
          "data": {
            "text/html": [
              "<div>\n",
              "<style scoped>\n",
              "    .dataframe tbody tr th:only-of-type {\n",
              "        vertical-align: middle;\n",
              "    }\n",
              "\n",
              "    .dataframe tbody tr th {\n",
              "        vertical-align: top;\n",
              "    }\n",
              "\n",
              "    .dataframe thead th {\n",
              "        text-align: right;\n",
              "    }\n",
              "</style>\n",
              "<table border=\"1\" class=\"dataframe\">\n",
              "  <thead>\n",
              "    <tr style=\"text-align: right;\">\n",
              "      <th></th>\n",
              "      <th>Unnamed: 0</th>\n",
              "      <th>CREATION_DATE</th>\n",
              "      <th>RESPONSE_DATE</th>\n",
              "      <th>CURRENT_STATUS</th>\n",
              "      <th>GENDER</th>\n",
              "      <th>DAY_OF_BIRTH</th>\n",
              "      <th>CIF_ID</th>\n",
              "      <th>AGE</th>\n",
              "      <th>LOCATION</th>\n",
              "      <th>TOUCHPOINT_NUMBER</th>\n",
              "      <th>CASE_NUMBER</th>\n",
              "      <th>CASE_DATE</th>\n",
              "      <th>CASE_CHANNEL</th>\n",
              "      <th>PRODUCT_NAME</th>\n",
              "      <th>NPS_SCORE</th>\n",
              "      <th>TAGS</th>\n",
              "      <th>nps_segment</th>\n",
              "      <th>detected</th>\n",
              "      <th>year_month</th>\n",
              "    </tr>\n",
              "  </thead>\n",
              "  <tbody>\n",
              "    <tr>\n",
              "      <th>0</th>\n",
              "      <td>0</td>\n",
              "      <td>2021-06-11 10:30:03+00:00</td>\n",
              "      <td>2021-06-12 10:43:18 UTC</td>\n",
              "      <td>2</td>\n",
              "      <td>M</td>\n",
              "      <td>1954-09-18 00:00:00 UTC</td>\n",
              "      <td>1402267</td>\n",
              "      <td>66.0</td>\n",
              "      <td>DOMINGO FAUSTINO SARMIENTO</td>\n",
              "      <td>Service</td>\n",
              "      <td>5671770</td>\n",
              "      <td>2021-06-09 00:00:00 UTC</td>\n",
              "      <td>EUROP</td>\n",
              "      <td>Automotores Individuales</td>\n",
              "      <td>0</td>\n",
              "      <td>mot Grua  mot Servicio  mot Accesibilidad  mo...</td>\n",
              "      <td>detractor</td>\n",
              "      <td>True</td>\n",
              "      <td>2021-06</td>\n",
              "    </tr>\n",
              "    <tr>\n",
              "      <th>1</th>\n",
              "      <td>1</td>\n",
              "      <td>2021-06-10 10:30:03+00:00</td>\n",
              "      <td>2021-06-12 17:38:35 UTC</td>\n",
              "      <td>5</td>\n",
              "      <td>F</td>\n",
              "      <td>1994-10-06 00:00:00 UTC</td>\n",
              "      <td>23733377</td>\n",
              "      <td>26.0</td>\n",
              "      <td>CORDOBA</td>\n",
              "      <td>Service</td>\n",
              "      <td>5662123</td>\n",
              "      <td>2021-06-08 00:00:00 UTC</td>\n",
              "      <td>AUXICAJA</td>\n",
              "      <td>Automotores Individuales</td>\n",
              "      <td>9</td>\n",
              "      <td>mot Servicio  mot Precio  atr Eficacia  mot A...</td>\n",
              "      <td>promotor</td>\n",
              "      <td>True</td>\n",
              "      <td>2021-06</td>\n",
              "    </tr>\n",
              "    <tr>\n",
              "      <th>2</th>\n",
              "      <td>2</td>\n",
              "      <td>2021-06-07 10:30:03+00:00</td>\n",
              "      <td>2021-06-12 16:52:27 UTC</td>\n",
              "      <td>5</td>\n",
              "      <td>M</td>\n",
              "      <td>1980-08-07 00:00:00 UTC</td>\n",
              "      <td>21113765</td>\n",
              "      <td>40.0</td>\n",
              "      <td>DIAMANTE</td>\n",
              "      <td>Service</td>\n",
              "      <td>5625253</td>\n",
              "      <td>2021-06-03 00:00:00 UTC</td>\n",
              "      <td>AUXICAJA</td>\n",
              "      <td>Automotores Individuales</td>\n",
              "      <td>10</td>\n",
              "      <td>NaN</td>\n",
              "      <td>promotor</td>\n",
              "      <td>False</td>\n",
              "      <td>2021-06</td>\n",
              "    </tr>\n",
              "    <tr>\n",
              "      <th>3</th>\n",
              "      <td>3</td>\n",
              "      <td>2021-06-10 10:30:03+00:00</td>\n",
              "      <td>2021-06-13 19:29:41 UTC</td>\n",
              "      <td>5</td>\n",
              "      <td>M</td>\n",
              "      <td>1959-09-12 00:00:00 UTC</td>\n",
              "      <td>19579674</td>\n",
              "      <td>61.0</td>\n",
              "      <td>CIUDAD AUTONOMA BUENOS AIRES</td>\n",
              "      <td>Query/Servicing request</td>\n",
              "      <td>5663499</td>\n",
              "      <td>2021-06-09 00:00:00 UTC</td>\n",
              "      <td>SUCURSAL</td>\n",
              "      <td>Automotores Individuales</td>\n",
              "      <td>10</td>\n",
              "      <td>mot Grua  atr Eficacia</td>\n",
              "      <td>promotor</td>\n",
              "      <td>True</td>\n",
              "      <td>2021-06</td>\n",
              "    </tr>\n",
              "    <tr>\n",
              "      <th>4</th>\n",
              "      <td>4</td>\n",
              "      <td>2021-05-31 10:30:03+00:00</td>\n",
              "      <td>2021-06-06 22:26:27 UTC</td>\n",
              "      <td>1</td>\n",
              "      <td>M</td>\n",
              "      <td>1952-04-19 00:00:00 UTC</td>\n",
              "      <td>13972088</td>\n",
              "      <td>69.0</td>\n",
              "      <td>TRANCAS</td>\n",
              "      <td>Claims</td>\n",
              "      <td>5582911</td>\n",
              "      <td>2021-05-21 00:00:00 UTC</td>\n",
              "      <td>CALL CENTER</td>\n",
              "      <td>Automotores Individuales</td>\n",
              "      <td>0</td>\n",
              "      <td>mot Siniestro  atr Eficacia</td>\n",
              "      <td>detractor</td>\n",
              "      <td>True</td>\n",
              "      <td>2021-05</td>\n",
              "    </tr>\n",
              "    <tr>\n",
              "      <th>...</th>\n",
              "      <td>...</td>\n",
              "      <td>...</td>\n",
              "      <td>...</td>\n",
              "      <td>...</td>\n",
              "      <td>...</td>\n",
              "      <td>...</td>\n",
              "      <td>...</td>\n",
              "      <td>...</td>\n",
              "      <td>...</td>\n",
              "      <td>...</td>\n",
              "      <td>...</td>\n",
              "      <td>...</td>\n",
              "      <td>...</td>\n",
              "      <td>...</td>\n",
              "      <td>...</td>\n",
              "      <td>...</td>\n",
              "      <td>...</td>\n",
              "      <td>...</td>\n",
              "      <td>...</td>\n",
              "    </tr>\n",
              "    <tr>\n",
              "      <th>15995</th>\n",
              "      <td>15995</td>\n",
              "      <td>2021-05-10 10:30:03+00:00</td>\n",
              "      <td>2021-05-10 10:46:11 UTC</td>\n",
              "      <td>5</td>\n",
              "      <td>M</td>\n",
              "      <td>1974-11-24 00:00:00 UTC</td>\n",
              "      <td>23609326</td>\n",
              "      <td>46.0</td>\n",
              "      <td>ISIDRO CASANOVA</td>\n",
              "      <td>Documentation Request</td>\n",
              "      <td>5436373</td>\n",
              "      <td>2021-05-07 00:00:00 UTC</td>\n",
              "      <td>WEB</td>\n",
              "      <td>Automotores Individuales</td>\n",
              "      <td>9</td>\n",
              "      <td>mot Siniestro  mot Cobertura poliza</td>\n",
              "      <td>promotor</td>\n",
              "      <td>True</td>\n",
              "      <td>2021-05</td>\n",
              "    </tr>\n",
              "    <tr>\n",
              "      <th>15996</th>\n",
              "      <td>15996</td>\n",
              "      <td>2021-05-10 10:30:03+00:00</td>\n",
              "      <td>2021-05-10 12:12:26 UTC</td>\n",
              "      <td>0</td>\n",
              "      <td>M</td>\n",
              "      <td>1960-09-21 00:00:00 UTC</td>\n",
              "      <td>11254684</td>\n",
              "      <td>60.0</td>\n",
              "      <td>CIUDAD AUTONOMA BUENOS AIRES</td>\n",
              "      <td>Documentation Request</td>\n",
              "      <td>5434652</td>\n",
              "      <td>2021-05-07 00:00:00 UTC</td>\n",
              "      <td>WEB</td>\n",
              "      <td>Automotores Individuales</td>\n",
              "      <td>7</td>\n",
              "      <td>mot Siniestro  mot FacturacionPagos  mot Prec...</td>\n",
              "      <td>neutro</td>\n",
              "      <td>True</td>\n",
              "      <td>2021-05</td>\n",
              "    </tr>\n",
              "    <tr>\n",
              "      <th>15997</th>\n",
              "      <td>15997</td>\n",
              "      <td>2021-05-10 10:30:03+00:00</td>\n",
              "      <td>2021-05-10 19:38:46 UTC</td>\n",
              "      <td>0</td>\n",
              "      <td>M</td>\n",
              "      <td>1960-07-15 00:00:00 UTC</td>\n",
              "      <td>16971297</td>\n",
              "      <td>60.0</td>\n",
              "      <td>SAN MIGUEL DE TUCUMAN</td>\n",
              "      <td>Documentation Request</td>\n",
              "      <td>5435120</td>\n",
              "      <td>2021-05-07 00:00:00 UTC</td>\n",
              "      <td>WEB</td>\n",
              "      <td>Automotores Individuales</td>\n",
              "      <td>7</td>\n",
              "      <td>NaN</td>\n",
              "      <td>neutro</td>\n",
              "      <td>False</td>\n",
              "      <td>2021-05</td>\n",
              "    </tr>\n",
              "    <tr>\n",
              "      <th>15998</th>\n",
              "      <td>15998</td>\n",
              "      <td>2021-05-10 10:30:03+00:00</td>\n",
              "      <td>2021-05-10 10:45:03 UTC</td>\n",
              "      <td>2</td>\n",
              "      <td>M</td>\n",
              "      <td>1956-07-10 00:00:00 UTC</td>\n",
              "      <td>5768360</td>\n",
              "      <td>64.0</td>\n",
              "      <td>VILLA DOMINICO</td>\n",
              "      <td>Documentation Request</td>\n",
              "      <td>5434365</td>\n",
              "      <td>2021-05-07 00:00:00 UTC</td>\n",
              "      <td>WEB</td>\n",
              "      <td>Automotores Individuales</td>\n",
              "      <td>2</td>\n",
              "      <td>mot Siniestro  atr Conformidad  mot Facturaci...</td>\n",
              "      <td>detractor</td>\n",
              "      <td>True</td>\n",
              "      <td>2021-05</td>\n",
              "    </tr>\n",
              "    <tr>\n",
              "      <th>15999</th>\n",
              "      <td>15999</td>\n",
              "      <td>2021-05-10 10:39:05+00:00</td>\n",
              "      <td>2021-05-10 12:02:05 UTC</td>\n",
              "      <td>0</td>\n",
              "      <td>F</td>\n",
              "      <td>1965-11-22 00:00:00 UTC</td>\n",
              "      <td>8703935</td>\n",
              "      <td>55.0</td>\n",
              "      <td>CIUDAD AUTONOMA BUENOS AIRES</td>\n",
              "      <td>Query/Servicing request</td>\n",
              "      <td>5426739</td>\n",
              "      <td>2021-05-07 00:00:00 UTC</td>\n",
              "      <td>SUCURSAL</td>\n",
              "      <td>Automotores Individuales</td>\n",
              "      <td>8</td>\n",
              "      <td>mot Servicio</td>\n",
              "      <td>neutro</td>\n",
              "      <td>True</td>\n",
              "      <td>2021-05</td>\n",
              "    </tr>\n",
              "  </tbody>\n",
              "</table>\n",
              "<p>16000 rows × 19 columns</p>\n",
              "</div>"
            ],
            "text/plain": [
              "       Unnamed: 0             CREATION_DATE            RESPONSE_DATE  \\\n",
              "0               0 2021-06-11 10:30:03+00:00  2021-06-12 10:43:18 UTC   \n",
              "1               1 2021-06-10 10:30:03+00:00  2021-06-12 17:38:35 UTC   \n",
              "2               2 2021-06-07 10:30:03+00:00  2021-06-12 16:52:27 UTC   \n",
              "3               3 2021-06-10 10:30:03+00:00  2021-06-13 19:29:41 UTC   \n",
              "4               4 2021-05-31 10:30:03+00:00  2021-06-06 22:26:27 UTC   \n",
              "...           ...                       ...                      ...   \n",
              "15995       15995 2021-05-10 10:30:03+00:00  2021-05-10 10:46:11 UTC   \n",
              "15996       15996 2021-05-10 10:30:03+00:00  2021-05-10 12:12:26 UTC   \n",
              "15997       15997 2021-05-10 10:30:03+00:00  2021-05-10 19:38:46 UTC   \n",
              "15998       15998 2021-05-10 10:30:03+00:00  2021-05-10 10:45:03 UTC   \n",
              "15999       15999 2021-05-10 10:39:05+00:00  2021-05-10 12:02:05 UTC   \n",
              "\n",
              "       CURRENT_STATUS GENDER             DAY_OF_BIRTH    CIF_ID   AGE  \\\n",
              "0                   2      M  1954-09-18 00:00:00 UTC   1402267  66.0   \n",
              "1                   5      F  1994-10-06 00:00:00 UTC  23733377  26.0   \n",
              "2                   5      M  1980-08-07 00:00:00 UTC  21113765  40.0   \n",
              "3                   5      M  1959-09-12 00:00:00 UTC  19579674  61.0   \n",
              "4                   1      M  1952-04-19 00:00:00 UTC  13972088  69.0   \n",
              "...               ...    ...                      ...       ...   ...   \n",
              "15995               5      M  1974-11-24 00:00:00 UTC  23609326  46.0   \n",
              "15996               0      M  1960-09-21 00:00:00 UTC  11254684  60.0   \n",
              "15997               0      M  1960-07-15 00:00:00 UTC  16971297  60.0   \n",
              "15998               2      M  1956-07-10 00:00:00 UTC   5768360  64.0   \n",
              "15999               0      F  1965-11-22 00:00:00 UTC   8703935  55.0   \n",
              "\n",
              "                           LOCATION        TOUCHPOINT_NUMBER  CASE_NUMBER  \\\n",
              "0        DOMINGO FAUSTINO SARMIENTO                  Service      5671770   \n",
              "1                           CORDOBA                  Service      5662123   \n",
              "2                          DIAMANTE                  Service      5625253   \n",
              "3      CIUDAD AUTONOMA BUENOS AIRES  Query/Servicing request      5663499   \n",
              "4                           TRANCAS                   Claims      5582911   \n",
              "...                             ...                      ...          ...   \n",
              "15995               ISIDRO CASANOVA    Documentation Request      5436373   \n",
              "15996  CIUDAD AUTONOMA BUENOS AIRES    Documentation Request      5434652   \n",
              "15997         SAN MIGUEL DE TUCUMAN    Documentation Request      5435120   \n",
              "15998                VILLA DOMINICO    Documentation Request      5434365   \n",
              "15999  CIUDAD AUTONOMA BUENOS AIRES  Query/Servicing request      5426739   \n",
              "\n",
              "                     CASE_DATE CASE_CHANNEL              PRODUCT_NAME  \\\n",
              "0      2021-06-09 00:00:00 UTC        EUROP  Automotores Individuales   \n",
              "1      2021-06-08 00:00:00 UTC     AUXICAJA  Automotores Individuales   \n",
              "2      2021-06-03 00:00:00 UTC     AUXICAJA  Automotores Individuales   \n",
              "3      2021-06-09 00:00:00 UTC     SUCURSAL  Automotores Individuales   \n",
              "4      2021-05-21 00:00:00 UTC  CALL CENTER  Automotores Individuales   \n",
              "...                        ...          ...                       ...   \n",
              "15995  2021-05-07 00:00:00 UTC          WEB  Automotores Individuales   \n",
              "15996  2021-05-07 00:00:00 UTC          WEB  Automotores Individuales   \n",
              "15997  2021-05-07 00:00:00 UTC          WEB  Automotores Individuales   \n",
              "15998  2021-05-07 00:00:00 UTC          WEB  Automotores Individuales   \n",
              "15999  2021-05-07 00:00:00 UTC     SUCURSAL  Automotores Individuales   \n",
              "\n",
              "       NPS_SCORE                                               TAGS  \\\n",
              "0              0   mot Grua  mot Servicio  mot Accesibilidad  mo...   \n",
              "1              9   mot Servicio  mot Precio  atr Eficacia  mot A...   \n",
              "2             10                                                NaN   \n",
              "3             10                             mot Grua  atr Eficacia   \n",
              "4              0                        mot Siniestro  atr Eficacia   \n",
              "...          ...                                                ...   \n",
              "15995          9                mot Siniestro  mot Cobertura poliza   \n",
              "15996          7   mot Siniestro  mot FacturacionPagos  mot Prec...   \n",
              "15997          7                                                NaN   \n",
              "15998          2   mot Siniestro  atr Conformidad  mot Facturaci...   \n",
              "15999          8                                       mot Servicio   \n",
              "\n",
              "      nps_segment  detected year_month  \n",
              "0       detractor      True    2021-06  \n",
              "1        promotor      True    2021-06  \n",
              "2        promotor     False    2021-06  \n",
              "3        promotor      True    2021-06  \n",
              "4       detractor      True    2021-05  \n",
              "...           ...       ...        ...  \n",
              "15995    promotor      True    2021-05  \n",
              "15996      neutro      True    2021-05  \n",
              "15997      neutro     False    2021-05  \n",
              "15998   detractor      True    2021-05  \n",
              "15999      neutro      True    2021-05  \n",
              "\n",
              "[16000 rows x 19 columns]"
            ]
          },
          "execution_count": 16,
          "metadata": {},
          "output_type": "execute_result"
        }
      ],
      "source": [
        "df"
      ]
    },
    {
      "cell_type": "markdown",
      "metadata": {
        "collapsed": false,
        "id": "3-cjAg2qMllp"
      },
      "source": [
        "**Hint** :\n",
        "```python\n",
        "df.groupby(grouping_column).agg(\n",
        "    new_col_name =  ('old_col_name', 'sum'),\n",
        "    new_col_name_2 = ('old_col_name', 'mean')\n",
        ")\n",
        "```"
      ]
    },
    {
      "cell_type": "code",
      "execution_count": 17,
      "metadata": {
        "id": "EexxovmUMllp",
        "outputId": "95d64a45-ecb4-4ebf-9959-a7971c3d937f"
      },
      "outputs": [
        {
          "data": {
            "text/html": [
              "<div>\n",
              "<style scoped>\n",
              "    .dataframe tbody tr th:only-of-type {\n",
              "        vertical-align: middle;\n",
              "    }\n",
              "\n",
              "    .dataframe tbody tr th {\n",
              "        vertical-align: top;\n",
              "    }\n",
              "\n",
              "    .dataframe thead th {\n",
              "        text-align: right;\n",
              "    }\n",
              "</style>\n",
              "<table border=\"1\" class=\"dataframe\">\n",
              "  <thead>\n",
              "    <tr style=\"text-align: right;\">\n",
              "      <th></th>\n",
              "      <th>cantidad_detectadas</th>\n",
              "    </tr>\n",
              "    <tr>\n",
              "      <th>year_month</th>\n",
              "      <th></th>\n",
              "    </tr>\n",
              "  </thead>\n",
              "  <tbody>\n",
              "    <tr>\n",
              "      <th>2020-12</th>\n",
              "      <td>111</td>\n",
              "    </tr>\n",
              "    <tr>\n",
              "      <th>2021-01</th>\n",
              "      <td>2246</td>\n",
              "    </tr>\n",
              "    <tr>\n",
              "      <th>2021-02</th>\n",
              "      <td>2139</td>\n",
              "    </tr>\n",
              "    <tr>\n",
              "      <th>2021-03</th>\n",
              "      <td>2866</td>\n",
              "    </tr>\n",
              "    <tr>\n",
              "      <th>2021-04</th>\n",
              "      <td>2466</td>\n",
              "    </tr>\n",
              "    <tr>\n",
              "      <th>2021-05</th>\n",
              "      <td>2632</td>\n",
              "    </tr>\n",
              "    <tr>\n",
              "      <th>2021-06</th>\n",
              "      <td>1356</td>\n",
              "    </tr>\n",
              "  </tbody>\n",
              "</table>\n",
              "</div>"
            ],
            "text/plain": [
              "            cantidad_detectadas\n",
              "year_month                     \n",
              "2020-12                     111\n",
              "2021-01                    2246\n",
              "2021-02                    2139\n",
              "2021-03                    2866\n",
              "2021-04                    2466\n",
              "2021-05                    2632\n",
              "2021-06                    1356"
            ]
          },
          "execution_count": 17,
          "metadata": {},
          "output_type": "execute_result"
        }
      ],
      "source": [
        "df.groupby(\"year_month\").agg(\n",
        "    cantidad_detectadas =  ('detected', 'sum'))"
      ]
    },
    {
      "cell_type": "markdown",
      "metadata": {
        "collapsed": false,
        "id": "IngHGmSQMllp"
      },
      "source": [
        "Crear otro dataset donde tenga la cantidad de encuestas por nps_segment unicas por mes. promotoras, neutras y detractoras."
      ]
    },
    {
      "cell_type": "markdown",
      "metadata": {
        "collapsed": false,
        "id": "w6McRL12Mllp"
      },
      "source": []
    },
    {
      "cell_type": "code",
      "execution_count": 18,
      "metadata": {
        "id": "ULTYp8tqMllp",
        "outputId": "eb20ba5d-2119-466b-e022-b10d763e40c3"
      },
      "outputs": [
        {
          "data": {
            "text/html": [
              "<div>\n",
              "<style scoped>\n",
              "    .dataframe tbody tr th:only-of-type {\n",
              "        vertical-align: middle;\n",
              "    }\n",
              "\n",
              "    .dataframe tbody tr th {\n",
              "        vertical-align: top;\n",
              "    }\n",
              "\n",
              "    .dataframe thead th {\n",
              "        text-align: right;\n",
              "    }\n",
              "</style>\n",
              "<table border=\"1\" class=\"dataframe\">\n",
              "  <thead>\n",
              "    <tr style=\"text-align: right;\">\n",
              "      <th></th>\n",
              "      <th></th>\n",
              "      <th>cantidad_detectadas</th>\n",
              "    </tr>\n",
              "    <tr>\n",
              "      <th>year_month</th>\n",
              "      <th>nps_segment</th>\n",
              "      <th></th>\n",
              "    </tr>\n",
              "  </thead>\n",
              "  <tbody>\n",
              "    <tr>\n",
              "      <th rowspan=\"3\" valign=\"top\">2020-12</th>\n",
              "      <th>detractor</th>\n",
              "      <td>18</td>\n",
              "    </tr>\n",
              "    <tr>\n",
              "      <th>neutro</th>\n",
              "      <td>30</td>\n",
              "    </tr>\n",
              "    <tr>\n",
              "      <th>promotor</th>\n",
              "      <td>76</td>\n",
              "    </tr>\n",
              "    <tr>\n",
              "      <th rowspan=\"3\" valign=\"top\">2021-01</th>\n",
              "      <th>detractor</th>\n",
              "      <td>453</td>\n",
              "    </tr>\n",
              "    <tr>\n",
              "      <th>neutro</th>\n",
              "      <td>491</td>\n",
              "    </tr>\n",
              "    <tr>\n",
              "      <th>promotor</th>\n",
              "      <td>1672</td>\n",
              "    </tr>\n",
              "    <tr>\n",
              "      <th rowspan=\"3\" valign=\"top\">2021-02</th>\n",
              "      <th>detractor</th>\n",
              "      <td>526</td>\n",
              "    </tr>\n",
              "    <tr>\n",
              "      <th>neutro</th>\n",
              "      <td>396</td>\n",
              "    </tr>\n",
              "    <tr>\n",
              "      <th>promotor</th>\n",
              "      <td>1511</td>\n",
              "    </tr>\n",
              "    <tr>\n",
              "      <th rowspan=\"3\" valign=\"top\">2021-03</th>\n",
              "      <th>detractor</th>\n",
              "      <td>618</td>\n",
              "    </tr>\n",
              "    <tr>\n",
              "      <th>neutro</th>\n",
              "      <td>610</td>\n",
              "    </tr>\n",
              "    <tr>\n",
              "      <th>promotor</th>\n",
              "      <td>2080</td>\n",
              "    </tr>\n",
              "    <tr>\n",
              "      <th rowspan=\"3\" valign=\"top\">2021-04</th>\n",
              "      <th>detractor</th>\n",
              "      <td>464</td>\n",
              "    </tr>\n",
              "    <tr>\n",
              "      <th>neutro</th>\n",
              "      <td>499</td>\n",
              "    </tr>\n",
              "    <tr>\n",
              "      <th>promotor</th>\n",
              "      <td>1920</td>\n",
              "    </tr>\n",
              "    <tr>\n",
              "      <th rowspan=\"3\" valign=\"top\">2021-05</th>\n",
              "      <th>detractor</th>\n",
              "      <td>492</td>\n",
              "    </tr>\n",
              "    <tr>\n",
              "      <th>neutro</th>\n",
              "      <td>559</td>\n",
              "    </tr>\n",
              "    <tr>\n",
              "      <th>promotor</th>\n",
              "      <td>2012</td>\n",
              "    </tr>\n",
              "    <tr>\n",
              "      <th rowspan=\"3\" valign=\"top\">2021-06</th>\n",
              "      <th>detractor</th>\n",
              "      <td>247</td>\n",
              "    </tr>\n",
              "    <tr>\n",
              "      <th>neutro</th>\n",
              "      <td>265</td>\n",
              "    </tr>\n",
              "    <tr>\n",
              "      <th>promotor</th>\n",
              "      <td>1056</td>\n",
              "    </tr>\n",
              "  </tbody>\n",
              "</table>\n",
              "</div>"
            ],
            "text/plain": [
              "                        cantidad_detectadas\n",
              "year_month nps_segment                     \n",
              "2020-12    detractor                     18\n",
              "           neutro                        30\n",
              "           promotor                      76\n",
              "2021-01    detractor                    453\n",
              "           neutro                       491\n",
              "           promotor                    1672\n",
              "2021-02    detractor                    526\n",
              "           neutro                       396\n",
              "           promotor                    1511\n",
              "2021-03    detractor                    618\n",
              "           neutro                       610\n",
              "           promotor                    2080\n",
              "2021-04    detractor                    464\n",
              "           neutro                       499\n",
              "           promotor                    1920\n",
              "2021-05    detractor                    492\n",
              "           neutro                       559\n",
              "           promotor                    2012\n",
              "2021-06    detractor                    247\n",
              "           neutro                       265\n",
              "           promotor                    1056"
            ]
          },
          "execution_count": 18,
          "metadata": {},
          "output_type": "execute_result"
        }
      ],
      "source": [
        "df.groupby(['year_month','nps_segment']).agg(\n",
        "    cantidad_detectadas =  ('CIF_ID', 'nunique'))"
      ]
    },
    {
      "cell_type": "markdown",
      "metadata": {
        "collapsed": false,
        "id": "oF6Ar0c0Mllp"
      },
      "source": [
        "### Barras\n",
        "Crear un dataste_por_segemento con el total de encuestas de CIF_ID unico por nps_segment.\n",
        "Hacer un gráfico de barras con el total de encuestas por nps_segment"
      ]
    },
    {
      "cell_type": "code",
      "execution_count": 19,
      "metadata": {
        "id": "QR0vvrLQMllp"
      },
      "outputs": [],
      "source": [
        "dataset_por_segmento = df.groupby(\"nps_segment\").agg(\"nunique\")[\"CIF_ID\"]"
      ]
    },
    {
      "cell_type": "code",
      "execution_count": 20,
      "metadata": {
        "id": "0vpwXiDqMllp"
      },
      "outputs": [],
      "source": [
        "dataset_por_segmento = dataset_por_segmento.reset_index()"
      ]
    },
    {
      "cell_type": "code",
      "execution_count": 21,
      "metadata": {
        "id": "ukC1lhaJMllp",
        "outputId": "7106d55c-8053-4dcf-ab61-7b34d6d98cbc"
      },
      "outputs": [
        {
          "data": {
            "text/html": [
              "<div>\n",
              "<style scoped>\n",
              "    .dataframe tbody tr th:only-of-type {\n",
              "        vertical-align: middle;\n",
              "    }\n",
              "\n",
              "    .dataframe tbody tr th {\n",
              "        vertical-align: top;\n",
              "    }\n",
              "\n",
              "    .dataframe thead th {\n",
              "        text-align: right;\n",
              "    }\n",
              "</style>\n",
              "<table border=\"1\" class=\"dataframe\">\n",
              "  <thead>\n",
              "    <tr style=\"text-align: right;\">\n",
              "      <th></th>\n",
              "      <th>nps_segment</th>\n",
              "      <th>CIF_ID</th>\n",
              "    </tr>\n",
              "  </thead>\n",
              "  <tbody>\n",
              "    <tr>\n",
              "      <th>0</th>\n",
              "      <td>detractor</td>\n",
              "      <td>2760</td>\n",
              "    </tr>\n",
              "    <tr>\n",
              "      <th>1</th>\n",
              "      <td>neutro</td>\n",
              "      <td>2810</td>\n",
              "    </tr>\n",
              "    <tr>\n",
              "      <th>2</th>\n",
              "      <td>promotor</td>\n",
              "      <td>9957</td>\n",
              "    </tr>\n",
              "  </tbody>\n",
              "</table>\n",
              "</div>"
            ],
            "text/plain": [
              "  nps_segment  CIF_ID\n",
              "0   detractor    2760\n",
              "1      neutro    2810\n",
              "2    promotor    9957"
            ]
          },
          "execution_count": 21,
          "metadata": {},
          "output_type": "execute_result"
        }
      ],
      "source": [
        "dataset_por_segmento"
      ]
    },
    {
      "cell_type": "code",
      "execution_count": 22,
      "metadata": {
        "id": "0A0mjejQMllp",
        "outputId": "4dec98e3-514e-4d91-ae9b-4008b771c189"
      },
      "outputs": [
        {
          "data": {
            "text/plain": [
              "16000"
            ]
          },
          "execution_count": 22,
          "metadata": {},
          "output_type": "execute_result"
        }
      ],
      "source": [
        "detract = len(df[df['nps_segment']=='detractor'])\n",
        "promo = len(df[df['nps_segment']=='promotor'])\n",
        "neutro = len(df[df['nps_segment']=='neutro'])\n",
        "\n",
        "detract+promo+neutro"
      ]
    },
    {
      "cell_type": "code",
      "execution_count": 23,
      "metadata": {
        "id": "aNYAsrpnMllp",
        "outputId": "42994f0f-3466-47aa-a800-62d58ffe44db"
      },
      "outputs": [
        {
          "data": {
            "text/plain": [
              "nps_segment\n",
              "promotor     10331\n",
              "neutro        2850\n",
              "detractor     2819\n",
              "Name: count, dtype: int64"
            ]
          },
          "execution_count": 23,
          "metadata": {},
          "output_type": "execute_result"
        }
      ],
      "source": [
        "\n",
        "from matplotlib import rcParams\n",
        "rcParams['figure.figsize'] = 6,6\n",
        "paleta = [\"#66bd63\", \"#fee08b\",\"#a50026\"]\n",
        "\n",
        "df['nps_segment'].value_counts()"
      ]
    },
    {
      "cell_type": "code",
      "execution_count": 24,
      "metadata": {
        "id": "SNM4JvFaMllq",
        "outputId": "9b77ce3a-ea77-40e1-d5bf-25b62cf0b587"
      },
      "outputs": [
        {
          "data": {
            "image/png": "[encoded data removed]",
            "text/plain": [
              "<Figure size 600x600 with 1 Axes>"
            ]
          },
          "metadata": {},
          "output_type": "display_data"
        },
        {
          "name": "stdout",
          "output_type": "stream",
          "text": [
            "Porcentajes de Promotores de la muestra: 64.56875\n",
            "Porcentajes de Detractores de la muestra 17.61875\n",
            "Porcentajes de Neutros de la muestra 17.8125\n"
          ]
        }
      ],
      "source": [
        "rcParams['figure.figsize'] = 6,6\n",
        "paleta = [\"#66bd63\",\"#a50026\", \"#fee08b\"]\n",
        "\n",
        "df['nps_segment'].value_counts()\n",
        "sns.countplot(x='nps_segment', data=df, palette=paleta, order = df['nps_segment'].value_counts().index)\n",
        "plt.xlabel(\"Puntaje al servicio\")\n",
        "plt.ylabel(\"Cantidad de Clientes\")\n",
        "plt.title(\"Distribución del Target\\nmar-2020 a ago-2020\")\n",
        "plt.show()\n",
        "\n",
        "\n",
        "\n",
        "detract = len(df[df['nps_segment']=='detractor'])\n",
        "promo = len(df[df['nps_segment']=='promotor'])\n",
        "neutro = len(df[df['nps_segment']=='neutro'])\n",
        "\n",
        "porciento_detractor =( detract/(detract+promo+neutro) * 100)\n",
        "porciento_promotor= (promo /(detract+promo+neutro) * 100)\n",
        "porciento_neutro= (neutro /(detract+promo+neutro) * 100)\n",
        "\n",
        "print('Porcentajes de Promotores de la muestra:', porciento_promotor)\n",
        "print('Porcentajes de Detractores de la muestra', porciento_detractor)\n",
        "print('Porcentajes de Neutros de la muestra', porciento_neutro)"
      ]
    },
    {
      "cell_type": "code",
      "execution_count": 25,
      "metadata": {
        "id": "PxNx1BQ4Mllq"
      },
      "outputs": [],
      "source": [
        "df[\"mes\"] = pd.to_datetime(df.CASE_DATE).dt.month"
      ]
    },
    {
      "cell_type": "code",
      "execution_count": 26,
      "metadata": {
        "id": "_BQTlG3QMllq",
        "outputId": "7353fa1d-f580-4738-d1d3-b9bd57961779"
      },
      "outputs": [
        {
          "data": {
            "text/html": [
              "<div>\n",
              "<style scoped>\n",
              "    .dataframe tbody tr th:only-of-type {\n",
              "        vertical-align: middle;\n",
              "    }\n",
              "\n",
              "    .dataframe tbody tr th {\n",
              "        vertical-align: top;\n",
              "    }\n",
              "\n",
              "    .dataframe thead th {\n",
              "        text-align: right;\n",
              "    }\n",
              "</style>\n",
              "<table border=\"1\" class=\"dataframe\">\n",
              "  <thead>\n",
              "    <tr style=\"text-align: right;\">\n",
              "      <th>nps_segment</th>\n",
              "      <th>detractor</th>\n",
              "      <th>neutro</th>\n",
              "      <th>promotor</th>\n",
              "    </tr>\n",
              "    <tr>\n",
              "      <th>mes</th>\n",
              "      <th></th>\n",
              "      <th></th>\n",
              "      <th></th>\n",
              "    </tr>\n",
              "  </thead>\n",
              "  <tbody>\n",
              "    <tr>\n",
              "      <th>1</th>\n",
              "      <td>17.892157</td>\n",
              "      <td>18.032213</td>\n",
              "      <td>64.075630</td>\n",
              "    </tr>\n",
              "    <tr>\n",
              "      <th>2</th>\n",
              "      <td>21.573398</td>\n",
              "      <td>17.356042</td>\n",
              "      <td>61.070560</td>\n",
              "    </tr>\n",
              "    <tr>\n",
              "      <th>3</th>\n",
              "      <td>18.206069</td>\n",
              "      <td>18.106035</td>\n",
              "      <td>63.687896</td>\n",
              "    </tr>\n",
              "    <tr>\n",
              "      <th>4</th>\n",
              "      <td>16.099773</td>\n",
              "      <td>17.039197</td>\n",
              "      <td>66.861030</td>\n",
              "    </tr>\n",
              "    <tr>\n",
              "      <th>5</th>\n",
              "      <td>15.782707</td>\n",
              "      <td>18.547091</td>\n",
              "      <td>65.670203</td>\n",
              "    </tr>\n",
              "    <tr>\n",
              "      <th>6</th>\n",
              "      <td>16.707617</td>\n",
              "      <td>16.789517</td>\n",
              "      <td>66.502867</td>\n",
              "    </tr>\n",
              "    <tr>\n",
              "      <th>12</th>\n",
              "      <td>14.615385</td>\n",
              "      <td>21.538462</td>\n",
              "      <td>63.846154</td>\n",
              "    </tr>\n",
              "  </tbody>\n",
              "</table>\n",
              "</div>"
            ],
            "text/plain": [
              "nps_segment  detractor     neutro   promotor\n",
              "mes                                         \n",
              "1            17.892157  18.032213  64.075630\n",
              "2            21.573398  17.356042  61.070560\n",
              "3            18.206069  18.106035  63.687896\n",
              "4            16.099773  17.039197  66.861030\n",
              "5            15.782707  18.547091  65.670203\n",
              "6            16.707617  16.789517  66.502867\n",
              "12           14.615385  21.538462  63.846154"
            ]
          },
          "execution_count": 26,
          "metadata": {},
          "output_type": "execute_result"
        }
      ],
      "source": [
        "per_month = pd.crosstab(df['nps_segment'],df['mes']).apply(lambda x: x/x.sum() * 100)\n",
        "per_month = per_month.T\n",
        "per_month"
      ]
    },
    {
      "cell_type": "code",
      "execution_count": 27,
      "metadata": {
        "id": "99gwa51gMllq",
        "outputId": "cf889b88-4b81-438d-dcab-e8de4a2c6a88"
      },
      "outputs": [
        {
          "data": {
            "text/plain": [
              "<Axes: xlabel='mes'>"
            ]
          },
          "execution_count": 27,
          "metadata": {},
          "output_type": "execute_result"
        },
        {
          "data": {
            "image/png": "[encoded data removed]",
            "text/plain": [
              "<Figure size 900x600 with 1 Axes>"
            ]
          },
          "metadata": {},
          "output_type": "display_data"
        }
      ],
      "source": [
        "rcParams['figure.figsize'] = 9,6\n",
        "\n",
        "per_month[['detractor','neutro',\"promotor\"]].plot( kind ='line', marker = \"o\",color = (\"#a50026\", \"#fee08b\",\"#66bd63\"))"
      ]
    },
    {
      "cell_type": "code",
      "execution_count": 28,
      "metadata": {
        "id": "V5n-Dn8lMllq"
      },
      "outputs": [],
      "source": [
        "\n",
        "crooss_tab_mes = pd.crosstab(df['nps_segment'],df['mes'])\n",
        "crooss_tab_mes.loc['Total',:]= crooss_tab_mes.sum(axis=0)\n",
        "crooss_tab_mes = crooss_tab_mes.T\n",
        "\n",
        "per_month[\"total\"] = crooss_tab_mes[\"Total\"]"
      ]
    },
    {
      "cell_type": "code",
      "execution_count": 29,
      "metadata": {
        "id": "eEp9DWBcMllt",
        "outputId": "8725b755-08e5-4fba-a940-5a195bcd9c72"
      },
      "outputs": [
        {
          "data": {
            "text/plain": [
              "<Axes: xlabel='mes'>"
            ]
          },
          "execution_count": 29,
          "metadata": {},
          "output_type": "execute_result"
        },
        {
          "data": {
            "image/png": "[encoded data removed]",
            "text/plain": [
              "<Figure size 1600x1000 with 2 Axes>"
            ]
          },
          "metadata": {},
          "output_type": "display_data"
        }
      ],
      "source": [
        "fig, axes = plt.subplots(nrows=2, ncols=1, figsize=(16,10))\n",
        "per_month[['detractor','neutro',\"promotor\"]].plot(ax=axes[0], kind ='line', marker = \"o\",color = (\"#a50026\", \"#fee08b\",\"#66bd63\"))\n",
        "crooss_tab_mes[['Total']].plot(ax=axes[1],kind ='bar',color = (\"#969696\"))"
      ]
    },
    {
      "cell_type": "code",
      "execution_count": 30,
      "metadata": {
        "id": "pANzkHEvMllt",
        "outputId": "280e44b9-4b3c-4373-d868-49536018069f"
      },
      "outputs": [
        {
          "data": {
            "text/plain": [
              "Index(['Unnamed: 0', 'CREATION_DATE', 'RESPONSE_DATE', 'CURRENT_STATUS',\n",
              "       'GENDER', 'DAY_OF_BIRTH', 'CIF_ID', 'AGE', 'LOCATION',\n",
              "       'TOUCHPOINT_NUMBER', 'CASE_NUMBER', 'CASE_DATE', 'CASE_CHANNEL',\n",
              "       'PRODUCT_NAME', 'NPS_SCORE', 'TAGS', 'nps_segment', 'detected',\n",
              "       'year_month', 'mes'],\n",
              "      dtype='object')"
            ]
          },
          "execution_count": 30,
          "metadata": {},
          "output_type": "execute_result"
        }
      ],
      "source": [
        "df.columns\n"
      ]
    },
    {
      "cell_type": "code",
      "execution_count": null,
      "metadata": {
        "id": "jsF-e1toMllt"
      },
      "outputs": [],
      "source": []
    },
    {
      "cell_type": "code",
      "execution_count": 31,
      "metadata": {
        "id": "_e15HrkKMllt",
        "outputId": "cf1ad158-e5c7-427b-97b3-3c91d3a522c7"
      },
      "outputs": [
        {
          "data": {
            "text/html": [
              "<div>\n",
              "<style scoped>\n",
              "    .dataframe tbody tr th:only-of-type {\n",
              "        vertical-align: middle;\n",
              "    }\n",
              "\n",
              "    .dataframe tbody tr th {\n",
              "        vertical-align: top;\n",
              "    }\n",
              "\n",
              "    .dataframe thead th {\n",
              "        text-align: right;\n",
              "    }\n",
              "</style>\n",
              "<table border=\"1\" class=\"dataframe\">\n",
              "  <thead>\n",
              "    <tr style=\"text-align: right;\">\n",
              "      <th>mes</th>\n",
              "      <th>1</th>\n",
              "      <th>2</th>\n",
              "      <th>3</th>\n",
              "      <th>4</th>\n",
              "      <th>5</th>\n",
              "      <th>6</th>\n",
              "      <th>12</th>\n",
              "    </tr>\n",
              "    <tr>\n",
              "      <th>detected</th>\n",
              "      <th></th>\n",
              "      <th></th>\n",
              "      <th></th>\n",
              "      <th></th>\n",
              "      <th></th>\n",
              "      <th></th>\n",
              "      <th></th>\n",
              "    </tr>\n",
              "  </thead>\n",
              "  <tbody>\n",
              "    <tr>\n",
              "      <th>False</th>\n",
              "      <td>403</td>\n",
              "      <td>310</td>\n",
              "      <td>392</td>\n",
              "      <td>442</td>\n",
              "      <td>444</td>\n",
              "      <td>169</td>\n",
              "      <td>24</td>\n",
              "    </tr>\n",
              "    <tr>\n",
              "      <th>True</th>\n",
              "      <td>2453</td>\n",
              "      <td>2156</td>\n",
              "      <td>2607</td>\n",
              "      <td>2645</td>\n",
              "      <td>2667</td>\n",
              "      <td>1052</td>\n",
              "      <td>236</td>\n",
              "    </tr>\n",
              "  </tbody>\n",
              "</table>\n",
              "</div>"
            ],
            "text/plain": [
              "mes         1     2     3     4     5     6    12\n",
              "detected                                         \n",
              "False      403   310   392   442   444   169   24\n",
              "True      2453  2156  2607  2645  2667  1052  236"
            ]
          },
          "execution_count": 31,
          "metadata": {},
          "output_type": "execute_result"
        }
      ],
      "source": [
        "pd.crosstab(df['detected'],df['mes'])"
      ]
    },
    {
      "cell_type": "code",
      "execution_count": 32,
      "metadata": {
        "id": "QuW8kjPDMllt",
        "outputId": "baf44b20-d625-40f7-b328-b0e8fed2a89c"
      },
      "outputs": [
        {
          "data": {
            "image/png": "[encoded data removed]",
            "text/plain": [
              "<Figure size 900x600 with 1 Axes>"
            ]
          },
          "metadata": {},
          "output_type": "display_data"
        }
      ],
      "source": [
        "plt.rc('xtick', labelsize=24)\n",
        "plt.rc('ytick', labelsize=10)\n",
        "ax = sns.countplot(data = df, x = 'CASE_CHANNEL',\n",
        "              order = df['CASE_CHANNEL'].value_counts().index)\n",
        "ax.set_xticklabels(ax.get_xticklabels(),fontsize=7, rotation=40, ha=\"right\")\n",
        "\n",
        "ax.set_title('Cantidad de casos por Case Channel')\n",
        "plt.show()"
      ]
    },
    {
      "cell_type": "code",
      "execution_count": 33,
      "metadata": {
        "id": "4N8FuAyVMllu",
        "outputId": "c1bc938e-c9b7-4d32-e712-66f40104c394"
      },
      "outputs": [
        {
          "name": "stdout",
          "output_type": "stream",
          "text": [
            "Requirement already satisfied: squarify in /Users/lolonastri/opt/anaconda3/envs/POO-env/lib/python3.11/site-packages (0.4.3)\n"
          ]
        }
      ],
      "source": [
        "!pip install squarify"
      ]
    },
    {
      "cell_type": "code",
      "execution_count": 34,
      "metadata": {
        "id": "rJpg7W9cMllu"
      },
      "outputs": [],
      "source": [
        "import squarify"
      ]
    },
    {
      "cell_type": "code",
      "execution_count": 35,
      "metadata": {
        "id": "bFl7r04lMllu",
        "outputId": "d0378784-85f2-4e88-84e7-0fe344219bb6"
      },
      "outputs": [
        {
          "data": {
            "image/png": "[encoded data removed]",
            "text/plain": [
              "<Figure size 1800x1000 with 1 Axes>"
            ]
          },
          "metadata": {},
          "output_type": "display_data"
        }
      ],
      "source": [
        "filtro = df[df['CASE_CHANNEL'].map(df['CASE_CHANNEL'].value_counts()) > 900]\n",
        "label_value = filtro[\"CASE_CHANNEL\"].value_counts().to_dict()\n",
        "# Creo los labels usando a list comprehesion\n",
        "labels = [\"{} tiene {} obs\".format(class_, obs) for class_, obs in label_value.items()]\n",
        "# Creo colores por cantidad de trabajos\n",
        "colors = [plt.cm.Spectral(i/float(len(labels))) for i in range(len(labels))]\n",
        "plt.figure(figsize = (18, 10))\n",
        "squarify.plot(sizes = label_value.values(), label = labels,  color = colors, alpha = 0.8)\n",
        "plt.title(\"Cantidad de casos por CASE_CHANNEL\");"
      ]
    },
    {
      "cell_type": "code",
      "execution_count": 36,
      "metadata": {
        "id": "OYwDSenPMllu",
        "outputId": "12f517d2-4e2c-4e38-fce6-803c6ef67870"
      },
      "outputs": [
        {
          "data": {
            "text/html": [
              "<div>\n",
              "<style scoped>\n",
              "    .dataframe tbody tr th:only-of-type {\n",
              "        vertical-align: middle;\n",
              "    }\n",
              "\n",
              "    .dataframe tbody tr th {\n",
              "        vertical-align: top;\n",
              "    }\n",
              "\n",
              "    .dataframe thead th {\n",
              "        text-align: right;\n",
              "    }\n",
              "</style>\n",
              "<table border=\"1\" class=\"dataframe\">\n",
              "  <thead>\n",
              "    <tr style=\"text-align: right;\">\n",
              "      <th>nps_segment</th>\n",
              "      <th>CASE_CHANNEL</th>\n",
              "      <th>detractor</th>\n",
              "      <th>neutro</th>\n",
              "      <th>promotor</th>\n",
              "    </tr>\n",
              "  </thead>\n",
              "  <tbody>\n",
              "    <tr>\n",
              "      <th>0</th>\n",
              "      <td>AUXICAJA</td>\n",
              "      <td>10.229358</td>\n",
              "      <td>15.229358</td>\n",
              "      <td>74.541284</td>\n",
              "    </tr>\n",
              "    <tr>\n",
              "      <th>1</th>\n",
              "      <td>CALL CENTER</td>\n",
              "      <td>13.546233</td>\n",
              "      <td>18.179921</td>\n",
              "      <td>68.273847</td>\n",
              "    </tr>\n",
              "    <tr>\n",
              "      <th>2</th>\n",
              "      <td>SUCURSAL</td>\n",
              "      <td>19.651131</td>\n",
              "      <td>18.642682</td>\n",
              "      <td>61.706187</td>\n",
              "    </tr>\n",
              "    <tr>\n",
              "      <th>3</th>\n",
              "      <td>WEB</td>\n",
              "      <td>19.951040</td>\n",
              "      <td>17.894737</td>\n",
              "      <td>62.154223</td>\n",
              "    </tr>\n",
              "  </tbody>\n",
              "</table>\n",
              "</div>"
            ],
            "text/plain": [
              "nps_segment CASE_CHANNEL  detractor     neutro   promotor\n",
              "0               AUXICAJA  10.229358  15.229358  74.541284\n",
              "1            CALL CENTER  13.546233  18.179921  68.273847\n",
              "2               SUCURSAL  19.651131  18.642682  61.706187\n",
              "3                    WEB  19.951040  17.894737  62.154223"
            ]
          },
          "execution_count": 36,
          "metadata": {},
          "output_type": "execute_result"
        }
      ],
      "source": [
        "unit_typesegment = pd.crosstab(filtro['nps_segment'],filtro['CASE_CHANNEL']).apply(lambda x: x/x.sum() * 100)\n",
        "unit_typesegment = unit_typesegment.transpose()\n",
        "unit_typesegment = unit_typesegment.reset_index(level=0, inplace=False)\n",
        "unit_typesegment"
      ]
    },
    {
      "cell_type": "code",
      "execution_count": 37,
      "metadata": {
        "id": "9BNev39MMllu",
        "outputId": "ea9f8195-80d7-4c18-e317-74ebf786a7e4"
      },
      "outputs": [
        {
          "data": {
            "image/png": "[encoded data removed]",
            "text/plain": [
              "<Figure size 900x600 with 1 Axes>"
            ]
          },
          "metadata": {},
          "output_type": "display_data"
        }
      ],
      "source": [
        "plt.rc('xtick', labelsize=15)\n",
        "plt.rc('ytick', labelsize=15)\n",
        "unit_typesegment.plot.bar(x=\"CASE_CHANNEL\",color=[\"#a50026\", '#fee08b', '#66bd63'])\n",
        "plt.xticks(rotation=45, ha='right');"
      ]
    },
    {
      "cell_type": "code",
      "execution_count": 38,
      "metadata": {
        "id": "QpOpj8uFMllu",
        "outputId": "af561730-fdeb-4214-9593-d10425ee45db"
      },
      "outputs": [
        {
          "data": {
            "text/html": [
              "<div>\n",
              "<style scoped>\n",
              "    .dataframe tbody tr th:only-of-type {\n",
              "        vertical-align: middle;\n",
              "    }\n",
              "\n",
              "    .dataframe tbody tr th {\n",
              "        vertical-align: top;\n",
              "    }\n",
              "\n",
              "    .dataframe thead th {\n",
              "        text-align: right;\n",
              "    }\n",
              "</style>\n",
              "<table border=\"1\" class=\"dataframe\">\n",
              "  <thead>\n",
              "    <tr style=\"text-align: right;\">\n",
              "      <th>GENDER</th>\n",
              "      <th>F</th>\n",
              "      <th>M</th>\n",
              "    </tr>\n",
              "    <tr>\n",
              "      <th>nps_segment</th>\n",
              "      <th></th>\n",
              "      <th></th>\n",
              "    </tr>\n",
              "  </thead>\n",
              "  <tbody>\n",
              "    <tr>\n",
              "      <th>detractor</th>\n",
              "      <td>16.350666</td>\n",
              "      <td>18.237512</td>\n",
              "    </tr>\n",
              "    <tr>\n",
              "      <th>neutro</th>\n",
              "      <td>16.782429</td>\n",
              "      <td>18.294062</td>\n",
              "    </tr>\n",
              "    <tr>\n",
              "      <th>promotor</th>\n",
              "      <td>66.866904</td>\n",
              "      <td>63.468426</td>\n",
              "    </tr>\n",
              "  </tbody>\n",
              "</table>\n",
              "</div>"
            ],
            "text/plain": [
              "GENDER               F          M\n",
              "nps_segment                      \n",
              "detractor    16.350666  18.237512\n",
              "neutro       16.782429  18.294062\n",
              "promotor     66.866904  63.468426"
            ]
          },
          "execution_count": 38,
          "metadata": {},
          "output_type": "execute_result"
        }
      ],
      "source": [
        "per_gender = pd.crosstab(df['nps_segment'],df['GENDER']).apply(lambda x: x/x.sum() * 100)\n",
        "per_gender"
      ]
    },
    {
      "cell_type": "code",
      "execution_count": 39,
      "metadata": {
        "id": "nvbelA9lMllu",
        "outputId": "5fd2a674-c819-40ce-f06d-527833fe73d2"
      },
      "outputs": [
        {
          "data": {
            "text/plain": [
              "<Axes: xlabel='nps_segment'>"
            ]
          },
          "execution_count": 39,
          "metadata": {},
          "output_type": "execute_result"
        },
        {
          "data": {
            "image/png": "[encoded data removed]",
            "text/plain": [
              "<Figure size 900x600 with 1 Axes>"
            ]
          },
          "metadata": {},
          "output_type": "display_data"
        }
      ],
      "source": [
        "plt.rc('xtick', labelsize=15)\n",
        "plt.rc('ytick', labelsize=15)\n",
        "per_gender[['F','M']].plot(kind ='bar', stacked=True,color = (\"#e9a3c9\", \"#a1d76a\"))"
      ]
    },
    {
      "cell_type": "code",
      "execution_count": 40,
      "metadata": {
        "id": "0kM5Q9m4Mllu",
        "outputId": "c348995d-ae76-48e5-d2b8-ab576dcb2b63"
      },
      "outputs": [
        {
          "name": "stdout",
          "output_type": "stream",
          "text": [
            "Edad Max:  121.0\n",
            "Mediana de la edad:  51.0\n",
            "Promedio de la edad:  51.15010040160642\n",
            "Edad Min:  0.0\n"
          ]
        }
      ],
      "source": [
        "print('Edad Max: ', df['AGE'].max())\n",
        "print('Mediana de la edad: ', df['AGE'].median())\n",
        "print('Promedio de la edad: ', df['AGE'].mean())\n",
        "print('Edad Min: ', df['AGE'].min())"
      ]
    },
    {
      "cell_type": "code",
      "execution_count": 41,
      "metadata": {
        "id": "ieoGRfPsMllu",
        "outputId": "ed7edb02-16ce-484b-c98d-c104b9131d01"
      },
      "outputs": [
        {
          "data": {
            "text/plain": [
              "Text(0.5, 1.0, 'Distribución de la edad en la muestra')"
            ]
          },
          "execution_count": 41,
          "metadata": {},
          "output_type": "execute_result"
        },
        {
          "data": {
            "image/png": "[encoded data removed]",
            "text/plain": [
              "<Figure size 1200x800 with 1 Axes>"
            ]
          },
          "metadata": {},
          "output_type": "display_data"
        }
      ],
      "source": [
        "rcParams['figure.figsize'] = 12,8\n",
        "sns.set()\n",
        "plt.rc('xtick', labelsize=5)\n",
        "plt.rc('ytick', labelsize=10)\n",
        "sns.countplot(x = 'AGE', data = df,color = \"#607d8b\")\n",
        "plt.xlabel(\"Edad\")\n",
        "plt.ylabel(\"Cantidad de Clientes\")\n",
        "plt.title(\"Distribución de la edad en la muestra\")"
      ]
    },
    {
      "cell_type": "code",
      "execution_count": 42,
      "metadata": {
        "id": "Ibh-_a3bMllu",
        "outputId": "10b97150-b608-4beb-db91-1582a2a61c91"
      },
      "outputs": [
        {
          "data": {
            "image/png": "[encoded data removed]",
            "text/plain": [
              "<Figure size 800x800 with 1 Axes>"
            ]
          },
          "metadata": {},
          "output_type": "display_data"
        }
      ],
      "source": [
        "fig, (ax1) = plt.subplots( figsize = (8, 8))\n",
        "sns.boxplot(y='AGE', x='nps_segment', data=df, palette=['#fee08b','#66bd63', '#a50026', ], ax = ax1)\n",
        "ax1.set_xlabel('Conversión', fontsize=10)\n",
        "ax1.set_ylabel('Edad', fontsize=10)\n",
        "ax1.set_title('Boxplot Edad', fontsize=10)\n",
        "ax1.tick_params(labelsize=10)\n",
        "\n",
        "plt.subplots_adjust(wspace=0.5)\n",
        "\n",
        "plt.tight_layout()"
      ]
    },
    {
      "cell_type": "code",
      "execution_count": 43,
      "metadata": {
        "id": "g4a6d7NKMllu"
      },
      "outputs": [],
      "source": [
        "\n",
        "lst = [df]\n",
        "for column in lst:\n",
        "    column.loc[column[\"AGE\"] < 30,  'grupo_edad'] = 20\n",
        "    column.loc[(column[\"AGE\"] >= 30) & (column[\"AGE\"] <= 39), 'grupo_edad'] = 30\n",
        "    column.loc[(column[\"AGE\"] >= 40) & (column[\"AGE\"] <= 49), 'grupo_edad'] = 40\n",
        "    column.loc[(column[\"AGE\"] >= 50) & (column[\"AGE\"] <= 59), 'grupo_edad'] = 50\n",
        "    column.loc[column[\"AGE\"] >= 60, 'grupo_edad'] = 60"
      ]
    },
    {
      "cell_type": "code",
      "execution_count": 44,
      "metadata": {
        "id": "3sF8WWvAMllv",
        "outputId": "ebf93fac-e6bb-4db4-c97e-3e14e7de80c4"
      },
      "outputs": [
        {
          "data": {
            "text/html": [
              "<div>\n",
              "<style scoped>\n",
              "    .dataframe tbody tr th:only-of-type {\n",
              "        vertical-align: middle;\n",
              "    }\n",
              "\n",
              "    .dataframe tbody tr th {\n",
              "        vertical-align: top;\n",
              "    }\n",
              "\n",
              "    .dataframe thead th {\n",
              "        text-align: right;\n",
              "    }\n",
              "</style>\n",
              "<table border=\"1\" class=\"dataframe\">\n",
              "  <thead>\n",
              "    <tr style=\"text-align: right;\">\n",
              "      <th>nps_segment</th>\n",
              "      <th>detractor</th>\n",
              "      <th>neutro</th>\n",
              "      <th>promotor</th>\n",
              "    </tr>\n",
              "    <tr>\n",
              "      <th>grupo_edad</th>\n",
              "      <th></th>\n",
              "      <th></th>\n",
              "      <th></th>\n",
              "    </tr>\n",
              "  </thead>\n",
              "  <tbody>\n",
              "    <tr>\n",
              "      <th>20.0</th>\n",
              "      <td>205</td>\n",
              "      <td>129</td>\n",
              "      <td>588</td>\n",
              "    </tr>\n",
              "    <tr>\n",
              "      <th>30.0</th>\n",
              "      <td>624</td>\n",
              "      <td>425</td>\n",
              "      <td>1813</td>\n",
              "    </tr>\n",
              "    <tr>\n",
              "      <th>40.0</th>\n",
              "      <td>734</td>\n",
              "      <td>643</td>\n",
              "      <td>2413</td>\n",
              "    </tr>\n",
              "    <tr>\n",
              "      <th>50.0</th>\n",
              "      <td>632</td>\n",
              "      <td>634</td>\n",
              "      <td>2409</td>\n",
              "    </tr>\n",
              "    <tr>\n",
              "      <th>60.0</th>\n",
              "      <td>610</td>\n",
              "      <td>1004</td>\n",
              "      <td>3073</td>\n",
              "    </tr>\n",
              "  </tbody>\n",
              "</table>\n",
              "</div>"
            ],
            "text/plain": [
              "nps_segment  detractor  neutro  promotor\n",
              "grupo_edad                              \n",
              "20.0               205     129       588\n",
              "30.0               624     425      1813\n",
              "40.0               734     643      2413\n",
              "50.0               632     634      2409\n",
              "60.0               610    1004      3073"
            ]
          },
          "execution_count": 44,
          "metadata": {},
          "output_type": "execute_result"
        }
      ],
      "source": [
        "per_edad = pd.crosstab(df['nps_segment'],df['grupo_edad'])\n",
        "per_edad = per_edad.T\n",
        "per_edad"
      ]
    },
    {
      "cell_type": "code",
      "execution_count": 45,
      "metadata": {
        "id": "CNbHWqyvMllv",
        "outputId": "7b2e93db-4512-4855-b59f-d0c9d61eac5d"
      },
      "outputs": [
        {
          "data": {
            "image/png": "[encoded data removed]",
            "text/plain": [
              "<Figure size 800x600 with 1 Axes>"
            ]
          },
          "metadata": {},
          "output_type": "display_data"
        }
      ],
      "source": [
        "rcParams['figure.figsize'] = 8,6\n",
        "plt.rc('xtick', labelsize=10)\n",
        "plt.rc('ytick', labelsize=10)\n",
        "sns.set_style(\"darkgrid\")\n",
        "plot_age = per_edad[[\"promotor\",\"neutro\", \"detractor\"]].plot(kind = 'bar',color = paleta)\n",
        "plt.xlabel('Edad del grupo')\n",
        "plt.ylabel('Tasa de Conversión sobre el total')\n",
        "plt.xticks(np.arange(5), ('<30', '30-39', '40-49', '50-59', '60+'),rotation = 'horizontal')\n",
        "plt.title('Conversión vs Rango Etareo')\n",
        "plt.show()"
      ]
    },
    {
      "cell_type": "code",
      "execution_count": null,
      "metadata": {
        "id": "mi02XwKqMllv"
      },
      "outputs": [],
      "source": []
    }
  ],
  "metadata": {
    "colab": {
      "provenance": []
    },
    "kernelspec": {
      "display_name": "Python 3",
      "language": "python",
      "name": "python3"
    },
    "language_info": {
      "codemirror_mode": {
        "name": "ipython",
        "version": 3
      },
      "file_extension": ".py",
      "mimetype": "text/x-python",
      "name": "python",
      "nbconvert_exporter": "python",
      "pygments_lexer": "ipython3",
      "version": "3.11.4"
    }
  },
  "nbformat": 4,
  "nbformat_minor": 0
}
