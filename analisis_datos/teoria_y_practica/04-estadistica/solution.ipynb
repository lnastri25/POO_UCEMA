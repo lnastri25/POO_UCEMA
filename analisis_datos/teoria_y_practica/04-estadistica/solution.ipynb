{
 "cells": [
  {
   "cell_type": "markdown",
   "metadata": {},
   "source": [
    "# Central Limit Theorem (CLT) - Revisited"
   ]
  },
  {
   "cell_type": "markdown",
   "metadata": {},
   "source": [
    "## 📚 Introduction to the CLT"
   ]
  },
  {
   "cell_type": "markdown",
   "metadata": {},
   "source": [
    "ℹ️ You can skip this section of the `Recap - Central Limit Theorem - Revisited` if you had time to read it during the `Challenge - The Central Limit Theorem - A first approach`"
   ]
  },
  {
   "cell_type": "markdown",
   "metadata": {},
   "source": [
    "**Two convergence theorems revolutionized the disciplines of probability and statistics:**\n",
    "- **`LLN`: the Law of Large Numbers**\n",
    "- **`CLT`: the Central Limit Theorem**\n",
    "\n",
    "🧑🏻‍🏫 What is the CLT? According to [Wikipedia](https://en.wikipedia.org/wiki/Central_limit_theorem)\n",
    "\n",
    "> In probability theory, the central limit theorem (CLT) establishes that, in many situations, when independent random variables are summed up, their properly normalized sum tends towards a `Gaussian/normal distribution` (informally a `bell curve`) even if the original variables themselves are not normally distributed. The theorem is a key concept in probability theory because it implies that probabilistic and statistical methods that work for normal distributions can be applicable to many problems involving other types of distributions."
   ]
  },
  {
   "cell_type": "markdown",
   "metadata": {},
   "source": [
    "## 🎯  Interpreting and Experimenting with the CLT"
   ]
  },
  {
   "attachments": {},
   "cell_type": "markdown",
   "metadata": {},
   "source": [
    "🎯  Let's illustrate how to use the [Central Limit Theorem](https://en.wikipedia.org/wiki/Central_limit_theorem) in a dataset:\n",
    "\n",
    "* Given a population, let's consider a feature (e.g. size, weight, salary, etc.) for each individual.\n",
    "\n",
    "\n",
    "🚀  The important takeaway of these two theorems is that **whatever the shape of the distribution** of a given feature over the population, **the distribution of the (sampled) mean<u>S</u> tends to be Gaussian**:\n",
    "* `the mean of the means` = $ \\mu$ (Law of Large Numbers)\n",
    "* `the standard deviation of the means` = $ \\frac{\\sigma}{\\sqrt{n}} $  (Central Limit Theorem)\n",
    "\n",
    "![](https://upload.wikimedia.org/wikipedia/commons/thumb/7/7b/IllustrationCentralTheorem.png/400px-IllustrationCentralTheorem.png)\n",
    "\n",
    "💡  We can wrap it up the following way:\n",
    "\n",
    "$$ \\large \\bar{X} \\approx_{n \\rightarrow \\infty} \\mathcal{N}(\\mu,\\frac{\\sigma}{\\sqrt{n}}) $$"
   ]
  },
  {
   "attachments": {},
   "cell_type": "markdown",
   "metadata": {},
   "source": [
    "Not convinced?  Play by yourself with this [no-code dataviz tool](https://seeing-theory.brown.edu/probability-distributions/) first! \n",
    " (section CTL)\n",
    "\n",
    "<img src=\"https://wagon-public-datasets.s3.amazonaws.com/data-science-images/math/ctl_playground.png\" width=500>\n"
   ]
  },
  {
   "cell_type": "markdown",
   "metadata": {},
   "source": [
    "👩🏻‍🔬  Let's verify this experimentally with Python!"
   ]
  },
  {
   "cell_type": "markdown",
   "metadata": {},
   "source": [
    "##  🚀 Let's get started!"
   ]
  },
  {
   "cell_type": "markdown",
   "metadata": {},
   "source": [
    "👉 In this challenge, we will use the `tips` dataset from the `seaborn` library to illustrate the Central Limit Theorem."
   ]
  },
  {
   "cell_type": "code",
   "execution_count": null,
   "metadata": {},
   "outputs": [],
   "source": [
    "# Data Manipulation\n",
    "import numpy as np\n",
    "import pandas as pd\n",
    "# Scientific libraries\n",
    "import scipy.stats as stats\n",
    "# Data Visualisation\n",
    "import seaborn as sns\n",
    "import matplotlib.pyplot as plt"
   ]
  },
  {
   "attachments": {},
   "cell_type": "markdown",
   "metadata": {},
   "source": [
    "❓ Load the `tips` dataset from `seaborn` into a `df` variable and display the first rows ❓\n",
    "\n",
    "<details>\n",
    "    <summary>Hint</summary>\n",
    "    You can use <a href=\"https://seaborn.pydata.org/generated/seaborn.load_dataset.html\"><code>seaborn.load_dataset()</code></a>\n",
    "</details>"
   ]
  },
  {
   "cell_type": "code",
   "execution_count": null,
   "metadata": {
    "tags": [
     "challengify"
    ]
   },
   "outputs": [
    {
     "data": {
      "text/html": [
       "<div>\n",
       "<style scoped>\n",
       "    .dataframe tbody tr th:only-of-type {\n",
       "        vertical-align: middle;\n",
       "    }\n",
       "\n",
       "    .dataframe tbody tr th {\n",
       "        vertical-align: top;\n",
       "    }\n",
       "\n",
       "    .dataframe thead th {\n",
       "        text-align: right;\n",
       "    }\n",
       "</style>\n",
       "<table border=\"1\" class=\"dataframe\">\n",
       "  <thead>\n",
       "    <tr style=\"text-align: right;\">\n",
       "      <th></th>\n",
       "      <th>total_bill</th>\n",
       "      <th>tip</th>\n",
       "      <th>sex</th>\n",
       "      <th>smoker</th>\n",
       "      <th>day</th>\n",
       "      <th>time</th>\n",
       "      <th>size</th>\n",
       "    </tr>\n",
       "  </thead>\n",
       "  <tbody>\n",
       "    <tr>\n",
       "      <th>0</th>\n",
       "      <td>16.99</td>\n",
       "      <td>1.01</td>\n",
       "      <td>Female</td>\n",
       "      <td>No</td>\n",
       "      <td>Sun</td>\n",
       "      <td>Dinner</td>\n",
       "      <td>2</td>\n",
       "    </tr>\n",
       "    <tr>\n",
       "      <th>1</th>\n",
       "      <td>10.34</td>\n",
       "      <td>1.66</td>\n",
       "      <td>Male</td>\n",
       "      <td>No</td>\n",
       "      <td>Sun</td>\n",
       "      <td>Dinner</td>\n",
       "      <td>3</td>\n",
       "    </tr>\n",
       "    <tr>\n",
       "      <th>2</th>\n",
       "      <td>21.01</td>\n",
       "      <td>3.50</td>\n",
       "      <td>Male</td>\n",
       "      <td>No</td>\n",
       "      <td>Sun</td>\n",
       "      <td>Dinner</td>\n",
       "      <td>3</td>\n",
       "    </tr>\n",
       "    <tr>\n",
       "      <th>3</th>\n",
       "      <td>23.68</td>\n",
       "      <td>3.31</td>\n",
       "      <td>Male</td>\n",
       "      <td>No</td>\n",
       "      <td>Sun</td>\n",
       "      <td>Dinner</td>\n",
       "      <td>2</td>\n",
       "    </tr>\n",
       "    <tr>\n",
       "      <th>4</th>\n",
       "      <td>24.59</td>\n",
       "      <td>3.61</td>\n",
       "      <td>Female</td>\n",
       "      <td>No</td>\n",
       "      <td>Sun</td>\n",
       "      <td>Dinner</td>\n",
       "      <td>4</td>\n",
       "    </tr>\n",
       "  </tbody>\n",
       "</table>\n",
       "</div>"
      ],
      "text/plain": [
       "   total_bill   tip     sex smoker  day    time  size\n",
       "0       16.99  1.01  Female     No  Sun  Dinner     2\n",
       "1       10.34  1.66    Male     No  Sun  Dinner     3\n",
       "2       21.01  3.50    Male     No  Sun  Dinner     3\n",
       "3       23.68  3.31    Male     No  Sun  Dinner     2\n",
       "4       24.59  3.61  Female     No  Sun  Dinner     4"
      ]
     },
     "execution_count": null,
     "metadata": {},
     "output_type": "execute_result"
    }
   ],
   "source": [
    "df = sns.load_dataset(\"tips\")\n",
    "df.head()"
   ]
  },
  {
   "cell_type": "markdown",
   "metadata": {},
   "source": [
    "## 🧐 Exploratory Data Analysis (EDA)"
   ]
  },
  {
   "cell_type": "markdown",
   "metadata": {},
   "source": [
    "❓ How many rows are available in the dataset ❓"
   ]
  },
  {
   "cell_type": "code",
   "execution_count": null,
   "metadata": {
    "tags": [
     "challengify"
    ]
   },
   "outputs": [
    {
     "data": {
      "text/plain": [
       "244"
      ]
     },
     "execution_count": null,
     "metadata": {},
     "output_type": "execute_result"
    }
   ],
   "source": [
    "len(df) # you can also use df.shape[0]"
   ]
  },
  {
   "cell_type": "markdown",
   "metadata": {},
   "source": [
    "📊 Plot the distribution of the `total_bill` column in the restaurant."
   ]
  },
  {
   "cell_type": "code",
   "execution_count": null,
   "metadata": {
    "tags": [
     "challengify"
    ]
   },
   "outputs": [
    {
     "data": {
      "text/plain": [
       "<seaborn.axisgrid.FacetGrid at 0x7f6071528fd0>"
      ]
     },
     "execution_count": null,
     "metadata": {},
     "output_type": "execute_result"
    },
    {
     "data": {
      "image/png": "[encoded data removed]",
      "text/plain": [
       "<Figure size 360x360 with 1 Axes>"
      ]
     },
     "metadata": {
      "needs_background": "light"
     },
     "output_type": "display_data"
    }
   ],
   "source": [
    "sns.displot(x = \"total_bill\", data = df, kde = True)"
   ]
  },
  {
   "cell_type": "markdown",
   "metadata": {},
   "source": [
    "❓ What is the [**skewness**](https://whatis.techtarget.com/definition/skewness) value of this distribution ❓"
   ]
  },
  {
   "cell_type": "code",
   "execution_count": null,
   "metadata": {
    "tags": [
     "challengify"
    ]
   },
   "outputs": [
    {
     "data": {
      "text/plain": [
       "1.1332130376158205"
      ]
     },
     "execution_count": null,
     "metadata": {},
     "output_type": "execute_result"
    }
   ],
   "source": [
    "df[\"total_bill\"].skew()"
   ]
  },
  {
   "cell_type": "markdown",
   "metadata": {},
   "source": [
    "❓ Create two variables `mu` and `sigma` to store the mean and standard deviation of tips, respectively ❓"
   ]
  },
  {
   "cell_type": "code",
   "execution_count": null,
   "metadata": {
    "tags": [
     "challengify"
    ]
   },
   "outputs": [
    {
     "name": "stdout",
     "output_type": "stream",
     "text": [
      "mu: 19.79\n",
      "sigma: 8.9\n"
     ]
    }
   ],
   "source": [
    "mu = df[\"total_bill\"].mean()\n",
    "print(f\"mu: {round(mu,2)}\")\n",
    "\n",
    "sigma = df[\"total_bill\"].std()\n",
    "print(f\"sigma: {round(sigma,2)}\")"
   ]
  },
  {
   "cell_type": "markdown",
   "metadata": {},
   "source": [
    "## 🎲 Sampling the Mean"
   ]
  },
  {
   "cell_type": "markdown",
   "metadata": {},
   "source": [
    "👉 Pick randomly - and with replacement - 10 rows of the dataset, and compute the mean $ \\bar{X} $ of this sample.\n",
    "\n",
    "Run this cell a few times.\n",
    "* Do you get the same result each time?\n",
    "* Did you expect it?"
   ]
  },
  {
   "cell_type": "code",
   "execution_count": null,
   "metadata": {},
   "outputs": [
    {
     "data": {
      "text/plain": [
       "17.332"
      ]
     },
     "execution_count": null,
     "metadata": {},
     "output_type": "execute_result"
    }
   ],
   "source": [
    "# df[\"total_bill\"].sample(1000, replace=True).mean()\n",
    "df[\"total_bill\"].sample(5).mean()"
   ]
  },
  {
   "cell_type": "markdown",
   "metadata": {},
   "source": [
    "👉 Create a `means` list storing a list of means of $N$ samples (each of them with size $n$).\n",
    "\n",
    "Start with $n = 5$ and $N = 10$\n",
    "\n",
    "📊 In the same cell, **plot** the distribution of `means`. \n",
    "\n",
    "🕵️‍♀️ Let's play with the *sample size n* and the *number of samples N*:\n",
    "- `sample size`: Keep $N$ constant, `increase n`. What do you observe?\n",
    "    - Plot a grid of 6 distributions playing with  $ n \\in \\{ 1, 5, 50, 100, 500, 1000 \\}$\n",
    "- `number of samples`:Then, keep $n$ constant and `increase N`. What do you observe?\n",
    "    - Plot a grid of 6 distributions playing with  $ N \\in \\{ 10, 20, 30, 50, 100, 500 \\}$"
   ]
  },
  {
   "cell_type": "markdown",
   "metadata": {},
   "source": [
    "<b>Playing with the `sample size` $n$</b>:"
   ]
  },
  {
   "cell_type": "code",
   "execution_count": null,
   "metadata": {
    "tags": [
     "challengify"
    ]
   },
   "outputs": [
    {
     "data": {
      "image/png": "[encoded data removed]",
      "text/plain": [
       "<Figure size 1080x720 with 6 Axes>"
      ]
     },
     "metadata": {
      "needs_background": "light"
     },
     "output_type": "display_data"
    }
   ],
   "source": [
    "# Number of customers in one sample\n",
    "list_of_n = [1, 5, 50, 100, 500, 1000] \n",
    "\n",
    "# Number of CLT experiments\n",
    "N = 1000\n",
    "\n",
    "# Plot 6 graphs : 2 rows by 3 columns for the 6 values of n\n",
    "fix,axes = plt.subplots(nrows=2,ncols=3,figsize=(15,10))\n",
    "\n",
    "for n,ax in zip(list_of_n,axes.flat):\n",
    "    means = [df[\"total_bill\"].sample(n, replace=True).mean() for i in range(N)]\n",
    "    ax.set_title(f\"n={n}\")\n",
    "    ax.set_xlim(0, 40)\n",
    "    sns.histplot(means,bins=10,ax=ax,kde=True)"
   ]
  },
  {
   "cell_type": "markdown",
   "metadata": {},
   "source": [
    "💡 As *n* increases:\n",
    "* the distribution of the means converges towards the theoretical mean $ \\mu $ (LLN)\n",
    "* the variance around $ \\mu $ tends towards 0 (indeed: $ \\large \\frac{\\sigma}{\\sqrt{n}} \\rightarrow_{n \\rightarrow \\infty} 0 $)"
   ]
  },
  {
   "cell_type": "markdown",
   "metadata": {},
   "source": [
    "<b>Playing with the `number_of_samples` $N$</b>:"
   ]
  },
  {
   "cell_type": "code",
   "execution_count": null,
   "metadata": {},
   "outputs": [
    {
     "data": {
      "image/png": "[encoded data removed]",
      "text/plain": [
       "<Figure size 1080x720 with 6 Axes>"
      ]
     },
     "metadata": {
      "needs_background": "light"
     },
     "output_type": "display_data"
    }
   ],
   "source": [
    "# Number of customers in one sample\n",
    "n = 200\n",
    "\n",
    "# Number of samples\n",
    "list_of_N = [10, 20, 30, 50, 100, 500]\n",
    " \n",
    "# Plot 6 graphs : 2 rows by 3 columns for the 6 values of N\n",
    "fix,axes = plt.subplots(nrows=2,ncols=3,figsize=(15,10))\n",
    "\n",
    "for N, ax in zip(list_of_N,axes.flat):\n",
    "    means = [df[\"total_bill\"].sample(n, replace=True).mean() for i in range(N)]\n",
    "    \n",
    "    ax.set_title(f\"N={N}\")\n",
    "    ax.set_xlim(0, 40)\n",
    "    \n",
    "    sns.histplot(means,bins=10,ax=ax)\n"
   ]
  },
  {
   "cell_type": "markdown",
   "metadata": {},
   "source": [
    "💡 As *N* increases:\n",
    "* the distribution of the means is less noisy"
   ]
  },
  {
   "cell_type": "markdown",
   "metadata": {},
   "source": [
    "## 👩🏻‍💻 Verifying the CLT with Simulations:"
   ]
  },
  {
   "cell_type": "markdown",
   "metadata": {},
   "source": [
    "![](https://upload.wikimedia.org/wikipedia/commons/thumb/7/7b/IllustrationCentralTheorem.png/400px-IllustrationCentralTheorem.png)\n",
    "\n",
    "$$ \\large \\bar{X} \\approx_{n \\rightarrow \\infty} \\mathcal{N}(\\mu,\\frac{\\sigma}{\\sqrt{n}}) $$"
   ]
  },
  {
   "cell_type": "markdown",
   "metadata": {},
   "source": [
    "🔥 Let's verify the Central Limit Theorem computationally \n",
    "\n",
    "For each value of `n`:\n",
    "- Compare `mu` with the mean of means\n",
    "- Compare `sigma` with the standard deviation of the means (don't forget the $\\sqrt n$ adjustment)\n",
    "- Compute the `skewness` of the sampling distribution"
   ]
  },
  {
   "cell_type": "code",
   "execution_count": null,
   "metadata": {
    "tags": [
     "challengify"
    ]
   },
   "outputs": [],
   "source": [
    "mu = df[\"total_bill\"].mean()\n",
    "sigma = df[\"total_bill\"].std()\n",
    "skew = df[\"total_bill\"].skew()\n",
    "kurtosis = df[\"total_bill\"].kurtosis()"
   ]
  },
  {
   "cell_type": "code",
   "execution_count": null,
   "metadata": {},
   "outputs": [
    {
     "name": "stdout",
     "output_type": "stream",
     "text": [
      "mu: 19.79\n",
      "sigma: 8.9\n",
      "skew: 1.13\n",
      "kurtosis: 1.22\n"
     ]
    }
   ],
   "source": [
    "print(f\"mu: {round(mu,2)}\")\n",
    "print(f\"sigma: {round(sigma,2)}\")\n",
    "print(f\"skewness: {round(skew,2)}\")\n",
    "print(f\"kurtosis: {round(kurtosis,2)}\")"
   ]
  },
  {
   "cell_type": "code",
   "execution_count": null,
   "metadata": {
    "tags": [
     "challengify"
    ]
   },
   "outputs": [
    {
     "name": "stdout",
     "output_type": "stream",
     "text": [
      "    n    𝚫mu  𝚫sigma  skew  kurtosis\n",
      "    1  0.078   0.105 1.089     1.052\n",
      "    5  0.042   0.026 0.550     0.361\n",
      "   50 -0.007   0.017 0.145     0.032\n",
      "  100 -0.034  -0.004 0.077    -0.147\n",
      "  500 -0.007   0.002 0.017    -0.023\n",
      " 1000 -0.003   0.005 0.047     0.072\n",
      " 5000  0.002   0.003 0.012    -0.056\n",
      "10000  0.001   0.001 0.022    -0.043\n"
     ]
    }
   ],
   "source": [
    "N = 5000\n",
    "\n",
    "list_of_n = [1, 5, 50, 100, 500, 1000, 5000, 10_000]\n",
    "\n",
    "delta_mu = []\n",
    "delta_sigma = []\n",
    "skewness_history = []\n",
    "kurtosis_history = []\n",
    "\n",
    "for n in list_of_n:\n",
    "    # sampling\n",
    "    sampled_means = [df[\"total_bill\"].sample(n, replace=True).mean() for i in range(N)]\n",
    "    \n",
    "    # difference in theoretical expectation vs sampled expectation\n",
    "    mu_diff = mu - np.mean(sampled_means)\n",
    "    delta_mu.append(mu_diff)\n",
    "    \n",
    "    # difference in theoretical standard deviation vs. standard deviation\n",
    "    sigma_diff = sigma / np.sqrt(n) - np.std(sampled_means)\n",
    "    delta_sigma.append(sigma_diff)\n",
    "    \n",
    "    # skewness and kurtosis    \n",
    "    skewnes_history.append(stats.skew(sampled_means))    \n",
    "    kurtosis_history.append(stats.kurtosis(sampled_means))\n",
    "    \n",
    "results_from_simulation = pd.DataFrame(data ={\"n\":list_of_n,\n",
    "                                              \"𝚫mu\":delta_mu,\n",
    "                                             \"𝚫sigma\":delta_sigma,\n",
    "                                             \"skew\":skewnes_history,\n",
    "                                             \"kurtosis\":kurtosis_history,})\n",
    "\n",
    "print(round(results_from_simulation,3).to_string(index = False))"
   ]
  },
  {
   "cell_type": "markdown",
   "metadata": {},
   "source": [
    "## ⭐️ Real-life application of the CLT"
   ]
  },
  {
   "cell_type": "markdown",
   "metadata": {},
   "source": [
    "👉 Let's consider `n` =  100 rows **sampled from the dataset**. What is the probability that the cumulated total bill is **lower than 1800€**? \n",
    "\n",
    "🚀 `n > 30` is enough to apply the Central Limit Theorem. The distribution of the sampled means follows a **`Gaussian Distribution`** (already referred to as a **`Normal Distribution`**)"
   ]
  },
  {
   "cell_type": "markdown",
   "metadata": {},
   "source": [
    "<br>\n",
    "\n",
    "❓ Plot the  **`pdf`** (a.k.a. `probability density function`) of the sampled means of the total bills. You can use ***[`scipy.stats.norm`](https://docs.scipy.org/doc/scipy/reference/generated/scipy.stats.norm.html)***\n",
    "\n",
    "$$ \\large \\bar{X} \\approx_{n \\rightarrow \\infty} \\mathcal{N}(\\mu,\\frac{\\sigma}{\\sqrt{n}}) $$\n",
    "\n"
   ]
  },
  {
   "cell_type": "code",
   "execution_count": null,
   "metadata": {
    "tags": [
     "challengify"
    ]
   },
   "outputs": [
    {
     "name": "stdout",
     "output_type": "stream",
     "text": [
      "<scipy.stats._distn_infrastructure.rv_frozen object at 0x7f606d0e25e0>\n"
     ]
    },
    {
     "data": {
      "text/plain": [
       "<matplotlib.collections.PathCollection at 0x7f606d096e50>"
      ]
     },
     "execution_count": null,
     "metadata": {},
     "output_type": "execute_result"
    },
    {
     "data": {
      "image/png": "[encoded data removed]",
      "text/plain": [
       "<Figure size 432x288 with 1 Axes>"
      ]
     },
     "metadata": {
      "needs_background": "light"
     },
     "output_type": "display_data"
    }
   ],
   "source": [
    "### INPUTS\n",
    "n = 100\n",
    "target_total_cumulated_bills = 1800\n",
    "target_mean = target_total_cumulated_bills / n # that is 18 euros\n",
    "\n",
    "\n",
    "### DECLARING A GAUSSIAN VARIABLE\n",
    "X_bar = stats.norm(mu, sigma / np.sqrt(n))\n",
    "print(X_bar) \n",
    "'''\n",
    "When you print X_bar, it says Scipy Stats RV, RV meaning Random Variable\n",
    "'''\n",
    "\n",
    "\n",
    "### PLOTTING THE PDF OF THE GAUSSIAN VARIABLE\n",
    "x = np.linspace(0, 40, 100)\n",
    "y = X_bar.pdf(x)\n",
    "plt.plot(x, y)\n",
    "\n",
    "### SHOWING THE TARGETETED AVERAGE BILL\n",
    "plt.scatter(target_mean, X_bar.pdf(target_mean), c='r')"
   ]
  },
  {
   "cell_type": "markdown",
   "metadata": {},
   "source": [
    "🧑🏻‍🏫 We'll revisit the concept of Gaussian Variable during the lecture `Statistical Inference`."
   ]
  },
  {
   "cell_type": "markdown",
   "metadata": {},
   "source": [
    "❓ What is the probability we are looking for? Use the `cdf` method to find it."
   ]
  },
  {
   "cell_type": "code",
   "execution_count": null,
   "metadata": {
    "tags": [
     "challengify"
    ]
   },
   "outputs": [
    {
     "data": {
      "text/plain": [
       "0.022421007000834294"
      ]
     },
     "execution_count": null,
     "metadata": {},
     "output_type": "execute_result"
    }
   ],
   "source": [
    "X_bar.cdf(target_mean)"
   ]
  },
  {
   "cell_type": "markdown",
   "metadata": {},
   "source": [
    "❓ Compute the z-score for the value `18€`"
   ]
  },
  {
   "cell_type": "code",
   "execution_count": null,
   "metadata": {
    "tags": [
     "challengify"
    ]
   },
   "outputs": [
    {
     "data": {
      "text/plain": [
       "-2.006133429914429"
      ]
     },
     "execution_count": null,
     "metadata": {},
     "output_type": "execute_result"
    }
   ],
   "source": [
    "z = (target_mean - mu) / (sigma / np.sqrt(n))\n",
    "z"
   ]
  },
  {
   "cell_type": "markdown",
   "metadata": {},
   "source": [
    "💡 This z-score actually confirms the probability we found above. Take a look at the [Standard Normal Table](https://en.wikipedia.org/wiki/Standard_normal_table); if you scroll through the rows and look for -2.00 (our z-score), you will see that it corresponds to **0.02275**, which is approximately the same value we have for our probability!"
   ]
  },
  {
   "cell_type": "markdown",
   "metadata": {},
   "source": [
    "❓ Plot the normal distribution (0, 1) and a red dot for the target (use the `pdf`)"
   ]
  },
  {
   "cell_type": "code",
   "execution_count": null,
   "metadata": {
    "tags": [
     "challengify"
    ]
   },
   "outputs": [
    {
     "data": {
      "image/png": "[encoded data removed]",
      "text/plain": [
       "<Figure size 432x288 with 1 Axes>"
      ]
     },
     "metadata": {
      "needs_background": "light"
     },
     "output_type": "display_data"
    }
   ],
   "source": [
    "true_norm = stats.norm(0, 1)\n",
    "\n",
    "x = np.linspace(-4, 4, 100)\n",
    "y = true_norm.pdf(x)\n",
    "\n",
    "plt.plot(x, y)\n",
    "plt.scatter(z, true_norm.pdf(z), c='r')\n",
    "\n",
    "plt.show()"
   ]
  },
  {
   "cell_type": "markdown",
   "metadata": {},
   "source": [
    "🏁 And...that's the end of this module for today!\n",
    "\n",
    "💾 Again, you know the routine: `git add/commit/push`!\n",
    "\n",
    "---\n",
    "\n",
    "🎉 Massive congratulations for making it to the end of the Mathematics module! \n",
    "\n",
    "\n",
    "🤩 If you fell in love with maths, look at the following video: [**`The Map of Mathematics`**](https://www.youtube.com/watch?v=OmJ-4B-mS-Y) (11 min - 9M views on YouTube)\n",
    "\n",
    "\n",
    "\n",
    "<img src=\"https://live.staticflickr.com/272/32264483720_c51bdde679_n.jpg\">\n",
    "\n"
   ]
  },
  {
   "cell_type": "markdown",
   "metadata": {},
   "source": [
    "---\n",
    "\n",
    "📆 So, **how do you prepare yourself to enter the world of `Decision Science` now** ? \n",
    "\n",
    "- 🐍 **`Python for Data Science`** :\n",
    "    - the more we progress through the bootcamp, the more you will have to be proficient in Python so that you can focus on the new Data Science concepts and not on the programming questions!\n",
    "    - _Example_: think about a professional tennis player — before a game, he/she elaborates a strategy with the coach to beat the opponent, not to make a good serve or to do a top spin!\n",
    "    \n",
    "- 🔢 **`SQL`**:\n",
    "    - Mastering database queries is at the heart of _any_ Data Science and Analytics job, even before Python for Data Analysts\n",
    "    - It is fundamental that you master how to _join tables_ with SQL, we will re-use the concepts of _merging tables_ extensively with _Pandas_, and you will have to do it not only during your projects but also afterwards on your next job\n",
    "    \n",
    "- 🐼 **`Pandas/NumPy`**\n",
    "    - The more of an expert you are at manipulating data with these two libraries, the more you can focus on adding value to your analysis \n",
    "    - The same way Excel masters will outshine their colleagues in Finance, Pandas/NumPy wizards will be much faster in focusing on handling new data\n",
    "    \n",
    "- 🧮 **`Maths`**:\n",
    "    - `Algebra`: you must be comfortable dealing with matrices, DataFrames and NumPy Arrays! We will use them everywhere, even for Computer Vision and Image Preprocessing. We do not ask you to be an expert by taking a full Linear Algebra course like [MIT - Gilbert Strang - Linear Algebra](https://ocw.mit.edu/courses/mathematics/18-06-linear-algebra-spring-2010/) (Open Source course on MIT OpenCourseWare) at university, but at least be proficient in getting and interpreting shapes of matrices, transposing, computing the inverse of a matrix, and matrix multiplication\n",
    "    - `Probability and Statistics`: we will re-use the Gaussian Distribution and the Central Limit Theorem in the next module, so make sure you understood these concepts and write down all the remaining questions you would like to ask your teachers and TAs!\n",
    "\n",
    "👉 These topics should be your priorities! Later, you can review challenges related to Data Visualization and Data Sourcing — for example, if you still have time after reviewing the priorities or before starting your Data Science Projects.\n",
    "\n",
    "\n",
    "👋 See you soon ! 👋\n",
    "\n",
    "---"
   ]
  }
 ],
 "metadata": {
  "kernelspec": {
   "display_name": "Python 3",
   "language": "python",
   "name": "python3"
  }
 },
 "nbformat": 4,
 "nbformat_minor": 4
}
