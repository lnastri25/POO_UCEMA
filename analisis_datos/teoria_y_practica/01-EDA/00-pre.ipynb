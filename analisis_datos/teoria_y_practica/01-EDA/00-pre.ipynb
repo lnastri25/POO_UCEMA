{
 "cells": [
  {
   "cell_type": "code",
   "execution_count": 2,
   "id": "initial_id",
   "metadata": {
    "collapsed": true,
    "ExecuteTime": {
     "end_time": "2023-08-24T11:35:09.908021800Z",
     "start_time": "2023-08-24T11:35:09.876878Z"
    }
   },
   "outputs": [],
   "source": [
    "jugadores = [\"Di Maria\", \"Messi\", \"El Diego\"]"
   ]
  },
  {
   "cell_type": "code",
   "execution_count": 3,
   "outputs": [
    {
     "name": "stdout",
     "output_type": "stream",
     "text": [
      "Di Maria\n",
      "Messi\n",
      "El Diego\n"
     ]
    }
   ],
   "source": [
    "for jugador in jugadores:\n",
    "    print(jugador)"
   ],
   "metadata": {
    "collapsed": false,
    "ExecuteTime": {
     "end_time": "2023-08-24T11:35:21.875035900Z",
     "start_time": "2023-08-24T11:35:21.843819900Z"
    }
   },
   "id": "ded636d9d416ca66"
  },
  {
   "cell_type": "code",
   "execution_count": 4,
   "outputs": [
    {
     "data": {
      "text/plain": "'Di Maria'"
     },
     "execution_count": 4,
     "metadata": {},
     "output_type": "execute_result"
    }
   ],
   "source": [
    "jugadores[0]"
   ],
   "metadata": {
    "collapsed": false,
    "ExecuteTime": {
     "end_time": "2023-08-24T11:35:28.530683100Z",
     "start_time": "2023-08-24T11:35:28.515039800Z"
    }
   },
   "id": "90b0a87f20123d43"
  },
  {
   "cell_type": "code",
   "execution_count": 5,
   "outputs": [
    {
     "data": {
      "text/plain": "'El Diego'"
     },
     "execution_count": 5,
     "metadata": {},
     "output_type": "execute_result"
    }
   ],
   "source": [
    "jugadores[-1]"
   ],
   "metadata": {
    "collapsed": false,
    "ExecuteTime": {
     "end_time": "2023-08-24T11:35:33.802289900Z",
     "start_time": "2023-08-24T11:35:33.755020300Z"
    }
   },
   "id": "17853e92d59d214a"
  },
  {
   "cell_type": "code",
   "execution_count": 6,
   "outputs": [
    {
     "name": "stdout",
     "output_type": "stream",
     "text": [
      "0 Di Maria\n",
      "1 Messi\n",
      "2 El Diego\n"
     ]
    }
   ],
   "source": [
    "for i,j in enumerate(jugadores):\n",
    "    print(i,j)"
   ],
   "metadata": {
    "collapsed": false,
    "ExecuteTime": {
     "end_time": "2023-08-24T11:35:59.885679300Z",
     "start_time": "2023-08-24T11:35:59.847071900Z"
    }
   },
   "id": "362ca470bd0c2c35"
  },
  {
   "cell_type": "code",
   "execution_count": 7,
   "outputs": [
    {
     "data": {
      "text/plain": "3"
     },
     "execution_count": 7,
     "metadata": {},
     "output_type": "execute_result"
    }
   ],
   "source": [
    "len(jugadores)"
   ],
   "metadata": {
    "collapsed": false,
    "ExecuteTime": {
     "end_time": "2023-08-24T11:37:01.351275500Z",
     "start_time": "2023-08-24T11:37:01.303974700Z"
    }
   },
   "id": "9bac3d10c45028fb"
  },
  {
   "cell_type": "code",
   "execution_count": 9,
   "outputs": [
    {
     "name": "stdout",
     "output_type": "stream",
     "text": [
      "0\n",
      "1\n",
      "2\n"
     ]
    }
   ],
   "source": [
    "for i in range(0,len(jugadores)):\n",
    "    print(i)"
   ],
   "metadata": {
    "collapsed": false,
    "ExecuteTime": {
     "end_time": "2023-08-24T11:37:26.774574100Z",
     "start_time": "2023-08-24T11:37:26.711983600Z"
    }
   },
   "id": "e3b32ad6fa924a82"
  },
  {
   "cell_type": "code",
   "execution_count": 10,
   "outputs": [],
   "source": [
    "crear_undict = {}"
   ],
   "metadata": {
    "collapsed": false,
    "ExecuteTime": {
     "end_time": "2023-08-24T11:37:46.555677700Z",
     "start_time": "2023-08-24T11:37:46.555677700Z"
    }
   },
   "id": "caf53ffe812665e"
  },
  {
   "cell_type": "code",
   "execution_count": 11,
   "outputs": [],
   "source": [
    "crear_undict[\"provincia\"] = \"santa_fe\""
   ],
   "metadata": {
    "collapsed": false,
    "ExecuteTime": {
     "end_time": "2023-08-24T11:38:04.147211200Z",
     "start_time": "2023-08-24T11:38:04.115965900Z"
    }
   },
   "id": "abedb1266bb396aa"
  },
  {
   "cell_type": "code",
   "execution_count": 12,
   "outputs": [
    {
     "data": {
      "text/plain": "{'provincia': 'santa_fe'}"
     },
     "execution_count": 12,
     "metadata": {},
     "output_type": "execute_result"
    }
   ],
   "source": [
    "crear_undict"
   ],
   "metadata": {
    "collapsed": false,
    "ExecuteTime": {
     "end_time": "2023-08-24T11:38:07.097619700Z",
     "start_time": "2023-08-24T11:38:07.018700100Z"
    }
   },
   "id": "4225538d953d78c9"
  },
  {
   "cell_type": "code",
   "execution_count": 13,
   "outputs": [
    {
     "name": "stdout",
     "output_type": "stream",
     "text": [
      "El Diego\n"
     ]
    }
   ],
   "source": [
    "for i in jugadores:\n",
    "    if i == \"El Diego\":\n",
    "        print(i)"
   ],
   "metadata": {
    "collapsed": false,
    "ExecuteTime": {
     "end_time": "2023-08-24T11:38:35.080324700Z",
     "start_time": "2023-08-24T11:38:35.064700700Z"
    }
   },
   "id": "1c01a1c7f57d74b9"
  },
  {
   "cell_type": "code",
   "execution_count": null,
   "outputs": [],
   "source": [],
   "metadata": {
    "collapsed": false
   },
   "id": "a7b3b68fe25c6b3c"
  }
 ],
 "metadata": {
  "kernelspec": {
   "display_name": "Python 3",
   "language": "python",
   "name": "python3"
  },
  "language_info": {
   "codemirror_mode": {
    "name": "ipython",
    "version": 2
   },
   "file_extension": ".py",
   "mimetype": "text/x-python",
   "name": "python",
   "nbconvert_exporter": "python",
   "pygments_lexer": "ipython2",
   "version": "2.7.6"
  }
 },
 "nbformat": 4,
 "nbformat_minor": 5
}
