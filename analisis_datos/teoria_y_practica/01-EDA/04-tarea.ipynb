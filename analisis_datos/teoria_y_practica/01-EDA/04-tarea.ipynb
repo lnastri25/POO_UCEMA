{
 "cells": [
  {
   "cell_type": "markdown",
   "source": [
    "Link dataset: https://drive.google.com/file/d/11hEcQPw3RpEjRKTJGO-vpitB-ZbyPNGS/view?usp=drive_link"
   ],
   "metadata": {
    "collapsed": false
   },
   "id": "a1462c71f5e2ff44"
  },
  {
   "cell_type": "markdown",
   "source": [
    "## About Dataset\n",
    "The ozone layer is the common term for the high concentration of ozone that is found in the stratosphere around 15–30km above the earth’s surface. It covers the entire planet and protects life on earth by absorbing harmful ultraviolet-B (UV-B) radiation from the sun.\n",
    "\n",
    "In 1974, chemists Mario Molina and Frank Sherwood Rowland discovered a link between chlorofluorocarbons (CFCs) and the breakdown of ozone in the stratosphere. In 1985, geophysicist Joe Farman, along with meteorologists Brian G Gardiner and Jon Shanklin published findings of abnormally low ozone concentrations above the Antarctic.\n",
    "\n",
    "The Montreal Protocol on Substances that Deplete the Ozone Layer came into effect in 1987. It sets binding obligations for countries to phase out production of all the major ozone depleting substances. Data shows that stratospheric concentrations of ozone depleting substances are declining. As a result of international action, the ozone layer is expected to recover to pre-1980 levels over the mid-latitudes by 2050 and over the polar regions by 2065.\n",
    "\n",
    "Timeline\n",
    "\n",
    "1974: Chemists in the USA discover the link between CFCs and the breakdown of ozone in the stratosphere\n",
    "1985: British scientists publish results of abnormally low ozone concentrations above the Antarctic\n",
    "1985: Vienna Convention for the Protection of the Ozone Layer agreed\n",
    "1987: Montreal Protocol on Substances that Deplete the Ozone Layer agreed\n",
    "1989: Ozone Protection and Synthetic Greenhouse Gas Management Act commenced in Australia\n",
    "1991: Phase out of CFCs (chlorofluorocarbons) begins\n",
    "1996: Phase out of HCFCs (hydrochlorofluorocarbons) begins\n",
    "\n",
    "Air pollution dataset from the U.S. Environmental Protection Agency (EPA) containts hourly ozone levels in the United States for the year 2014. Source: https://aqs.epa.gov/aqsweb/airdata/download_files.html\n",
    "\n",
    "\n",
    "# Capitulo 4: Libro Art of datascience.\n",
    "https://drive.google.com/drive/folders/1rbPprxzqnb2ZrI3XXm6V5Nt0nKRidgTZ\n",
    "\n",
    "## Preguntas interesantes\n",
    "* Chequear las n´s\n",
    "* What is the national average?\n",
    "* Which counties in the United States have the highest levels of ambient ozone\n",
    "pollution?"
   ],
   "metadata": {
    "collapsed": false
   },
   "id": "5697a15b9934a639"
  },
  {
   "cell_type": "markdown",
   "source": [
    " "
   ],
   "metadata": {
    "collapsed": false
   },
   "id": "f67e318d7f6a3e4c"
  },
  {
   "cell_type": "code",
   "execution_count": null,
   "outputs": [],
   "source": [],
   "metadata": {
    "collapsed": false
   },
   "id": "e53b1d8c56157dc7"
  }
 ],
 "metadata": {
  "kernelspec": {
   "display_name": "Python 3",
   "language": "python",
   "name": "python3"
  },
  "language_info": {
   "codemirror_mode": {
    "name": "ipython",
    "version": 2
   },
   "file_extension": ".py",
   "mimetype": "text/x-python",
   "name": "python",
   "nbconvert_exporter": "python",
   "pygments_lexer": "ipython2",
   "version": "2.7.6"
  }
 },
 "nbformat": 4,
 "nbformat_minor": 5
}
