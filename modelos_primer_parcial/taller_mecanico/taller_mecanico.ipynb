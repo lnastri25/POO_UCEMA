{
 "cells": [
  {
   "cell_type": "code",
   "execution_count": 41,
   "metadata": {},
   "outputs": [],
   "source": [
    "import pandas as pd\n",
    "import seaborn as sns\n",
    "import matplotlib.pyplot as plt\n",
    "import numpy as np"
   ]
  },
  {
   "cell_type": "code",
   "execution_count": 42,
   "metadata": {},
   "outputs": [
    {
     "data": {
      "text/html": [
       "<div>\n",
       "<style scoped>\n",
       "    .dataframe tbody tr th:only-of-type {\n",
       "        vertical-align: middle;\n",
       "    }\n",
       "\n",
       "    .dataframe tbody tr th {\n",
       "        vertical-align: top;\n",
       "    }\n",
       "\n",
       "    .dataframe thead th {\n",
       "        text-align: right;\n",
       "    }\n",
       "</style>\n",
       "<table border=\"1\" class=\"dataframe\">\n",
       "  <thead>\n",
       "    <tr style=\"text-align: right;\">\n",
       "      <th></th>\n",
       "      <th>tiempo_de_reparacion_en_minutos</th>\n",
       "      <th>tipo_de_motor</th>\n",
       "      <th>marca_del_auto</th>\n",
       "      <th>cantidad_de_ruedas_a_reemplazar</th>\n",
       "      <th>signo_del_auto</th>\n",
       "      <th>cantidad_de_kilometros</th>\n",
       "      <th>fecha_de_elaboracion_del_auto</th>\n",
       "    </tr>\n",
       "  </thead>\n",
       "  <tbody>\n",
       "    <tr>\n",
       "      <th>0</th>\n",
       "      <td>2406.00</td>\n",
       "      <td>gasolina</td>\n",
       "      <td>toyota</td>\n",
       "      <td>4</td>\n",
       "      <td>Piscis</td>\n",
       "      <td>81760</td>\n",
       "      <td>2002.0</td>\n",
       "    </tr>\n",
       "    <tr>\n",
       "      <th>1</th>\n",
       "      <td>2776.50</td>\n",
       "      <td>electrico</td>\n",
       "      <td>honda</td>\n",
       "      <td>3</td>\n",
       "      <td>Virgo</td>\n",
       "      <td>91959</td>\n",
       "      <td>1989.0</td>\n",
       "    </tr>\n",
       "    <tr>\n",
       "      <th>2</th>\n",
       "      <td>1122.00</td>\n",
       "      <td>diesel</td>\n",
       "      <td>honda</td>\n",
       "      <td>3</td>\n",
       "      <td>Acuario</td>\n",
       "      <td>82800</td>\n",
       "      <td>1998.0</td>\n",
       "    </tr>\n",
       "    <tr>\n",
       "      <th>3</th>\n",
       "      <td>639.00</td>\n",
       "      <td>gasolina</td>\n",
       "      <td>honda</td>\n",
       "      <td>4</td>\n",
       "      <td>Virgo</td>\n",
       "      <td>19724</td>\n",
       "      <td>2013.0</td>\n",
       "    </tr>\n",
       "    <tr>\n",
       "      <th>4</th>\n",
       "      <td>1494.00</td>\n",
       "      <td>electrico</td>\n",
       "      <td>honda</td>\n",
       "      <td>1</td>\n",
       "      <td>Acuario</td>\n",
       "      <td>36123</td>\n",
       "      <td>2006.0</td>\n",
       "    </tr>\n",
       "    <tr>\n",
       "      <th>...</th>\n",
       "      <td>...</td>\n",
       "      <td>...</td>\n",
       "      <td>...</td>\n",
       "      <td>...</td>\n",
       "      <td>...</td>\n",
       "      <td>...</td>\n",
       "      <td>...</td>\n",
       "    </tr>\n",
       "    <tr>\n",
       "      <th>2995</th>\n",
       "      <td>496.00</td>\n",
       "      <td>gasolina</td>\n",
       "      <td>toyota</td>\n",
       "      <td>4</td>\n",
       "      <td>Escorpio</td>\n",
       "      <td>6928</td>\n",
       "      <td>2016.0</td>\n",
       "    </tr>\n",
       "    <tr>\n",
       "      <th>2996</th>\n",
       "      <td>866.70</td>\n",
       "      <td>electrico</td>\n",
       "      <td>ford</td>\n",
       "      <td>2</td>\n",
       "      <td>Virgo</td>\n",
       "      <td>85837</td>\n",
       "      <td>2008.0</td>\n",
       "    </tr>\n",
       "    <tr>\n",
       "      <th>2997</th>\n",
       "      <td>618.84</td>\n",
       "      <td>diesel</td>\n",
       "      <td>ford</td>\n",
       "      <td>2</td>\n",
       "      <td>Géminis</td>\n",
       "      <td>74030</td>\n",
       "      <td>1988.0</td>\n",
       "    </tr>\n",
       "    <tr>\n",
       "      <th>2998</th>\n",
       "      <td>2322.00</td>\n",
       "      <td>electrico</td>\n",
       "      <td>toyota</td>\n",
       "      <td>2</td>\n",
       "      <td>Escorpio</td>\n",
       "      <td>47451</td>\n",
       "      <td>1996.0</td>\n",
       "    </tr>\n",
       "    <tr>\n",
       "      <th>2999</th>\n",
       "      <td>2212.00</td>\n",
       "      <td>gasolina</td>\n",
       "      <td>honda</td>\n",
       "      <td>3</td>\n",
       "      <td>Capricornio</td>\n",
       "      <td>27511</td>\n",
       "      <td>1984.0</td>\n",
       "    </tr>\n",
       "  </tbody>\n",
       "</table>\n",
       "<p>3000 rows × 7 columns</p>\n",
       "</div>"
      ],
      "text/plain": [
       "      tiempo_de_reparacion_en_minutos tipo_de_motor marca_del_auto  \\\n",
       "0                             2406.00      gasolina         toyota   \n",
       "1                             2776.50     electrico          honda   \n",
       "2                             1122.00        diesel          honda   \n",
       "3                              639.00      gasolina          honda   \n",
       "4                             1494.00     electrico          honda   \n",
       "...                               ...           ...            ...   \n",
       "2995                           496.00      gasolina         toyota   \n",
       "2996                           866.70     electrico           ford   \n",
       "2997                           618.84        diesel           ford   \n",
       "2998                          2322.00     electrico         toyota   \n",
       "2999                          2212.00      gasolina          honda   \n",
       "\n",
       "      cantidad_de_ruedas_a_reemplazar signo_del_auto  cantidad_de_kilometros  \\\n",
       "0                                   4         Piscis                   81760   \n",
       "1                                   3          Virgo                   91959   \n",
       "2                                   3        Acuario                   82800   \n",
       "3                                   4          Virgo                   19724   \n",
       "4                                   1        Acuario                   36123   \n",
       "...                               ...            ...                     ...   \n",
       "2995                                4       Escorpio                    6928   \n",
       "2996                                2          Virgo                   85837   \n",
       "2997                                2        Géminis                   74030   \n",
       "2998                                2       Escorpio                   47451   \n",
       "2999                                3    Capricornio                   27511   \n",
       "\n",
       "      fecha_de_elaboracion_del_auto  \n",
       "0                            2002.0  \n",
       "1                            1989.0  \n",
       "2                            1998.0  \n",
       "3                            2013.0  \n",
       "4                            2006.0  \n",
       "...                             ...  \n",
       "2995                         2016.0  \n",
       "2996                         2008.0  \n",
       "2997                         1988.0  \n",
       "2998                         1996.0  \n",
       "2999                         1984.0  \n",
       "\n",
       "[3000 rows x 7 columns]"
      ]
     },
     "execution_count": 42,
     "metadata": {},
     "output_type": "execute_result"
    }
   ],
   "source": [
    "df_taller_mecanico = pd.read_csv(\"/Users/lolonastri/Desktop/POO_UCEMA/modelos_primer_parcial/taller_mecanico/taller_mecanico.csv\")\n",
    "df_taller_mecanico.rename(columns={\"tiempo_de_reparacion\": \"tiempo_de_reparacion_en_minutos\"}, inplace=True)\n",
    "df_taller_mecanico"
   ]
  },
  {
   "cell_type": "markdown",
   "metadata": {},
   "source": [
    "___"
   ]
  },
  {
   "cell_type": "markdown",
   "metadata": {},
   "source": [
    "# 1) ¿Cuales son las características principales del DF?\n",
    "\n",
    "a. Cantidad de rows y columnas.\n",
    "\n",
    "b. Clases de datos"
   ]
  },
  {
   "cell_type": "code",
   "execution_count": 43,
   "metadata": {},
   "outputs": [
    {
     "name": "stdout",
     "output_type": "stream",
     "text": [
      "Este dataset tiene 3000 filas y 7 columnas.\n"
     ]
    }
   ],
   "source": [
    "# A) Cantidad de rows y columnas\n",
    "\n",
    "df_taller_mecanico.shape\n",
    "\n",
    "print(\"Este dataset tiene \" + str(df_taller_mecanico.shape[0]) + \" filas y \" + str(df_taller_mecanico.shape[1]) + \" columnas.\")"
   ]
  },
  {
   "cell_type": "code",
   "execution_count": 44,
   "metadata": {},
   "outputs": [
    {
     "data": {
      "text/plain": [
       "tiempo_de_reparacion_en_minutos    float64\n",
       "tipo_de_motor                       object\n",
       "marca_del_auto                      object\n",
       "cantidad_de_ruedas_a_reemplazar      int64\n",
       "signo_del_auto                      object\n",
       "cantidad_de_kilometros               int64\n",
       "fecha_de_elaboracion_del_auto      float64\n",
       "dtype: object"
      ]
     },
     "execution_count": 44,
     "metadata": {},
     "output_type": "execute_result"
    }
   ],
   "source": [
    "# B) Clases de datos\n",
    "\n",
    "df_taller_mecanico.dtypes"
   ]
  },
  {
   "cell_type": "markdown",
   "metadata": {},
   "source": [
    "____"
   ]
  },
  {
   "cell_type": "markdown",
   "metadata": {},
   "source": [
    "# 2) El dataset cuenta con datos faltantes?\n",
    "\n",
    "a. Muestre la cantidad de faltantes por columnas\n",
    "\n",
    "b. Que porcentaje de faltantes hay\n",
    "\n",
    "c. Muestre las filas con datos faltantes\n",
    "\n",
    "d. Sí hay faltantes, ¿Cómo procederán a hacer el tratamiento de los mismos?\n",
    "\n",
    "e. Haga el tratamiento de los valores faltantes en caso de creerlo necesario"
   ]
  },
  {
   "cell_type": "code",
   "execution_count": 45,
   "metadata": {},
   "outputs": [
    {
     "data": {
      "text/plain": [
       "tiempo_de_reparacion_en_minutos     0\n",
       "tipo_de_motor                       0\n",
       "marca_del_auto                      0\n",
       "cantidad_de_ruedas_a_reemplazar     0\n",
       "signo_del_auto                      0\n",
       "cantidad_de_kilometros              0\n",
       "fecha_de_elaboracion_del_auto      11\n",
       "dtype: int64"
      ]
     },
     "execution_count": 45,
     "metadata": {},
     "output_type": "execute_result"
    }
   ],
   "source": [
    "# A) Muestre la cantidad de faltantes por columnas\n",
    "\n",
    "df_taller_mecanico.isnull().sum()"
   ]
  },
  {
   "cell_type": "code",
   "execution_count": 46,
   "metadata": {},
   "outputs": [
    {
     "data": {
      "text/plain": [
       "tiempo_de_reparacion_en_minutos    0.000000\n",
       "tipo_de_motor                      0.000000\n",
       "marca_del_auto                     0.000000\n",
       "cantidad_de_ruedas_a_reemplazar    0.000000\n",
       "signo_del_auto                     0.000000\n",
       "cantidad_de_kilometros             0.000000\n",
       "fecha_de_elaboracion_del_auto      0.003667\n",
       "dtype: float64"
      ]
     },
     "execution_count": 46,
     "metadata": {},
     "output_type": "execute_result"
    }
   ],
   "source": [
    "# B) Que porcentaje de faltantes hay\n",
    "\n",
    "(df_taller_mecanico.isnull().sum()/len(df_taller_mecanico))"
   ]
  },
  {
   "cell_type": "code",
   "execution_count": 47,
   "metadata": {},
   "outputs": [
    {
     "data": {
      "text/html": [
       "<div>\n",
       "<style scoped>\n",
       "    .dataframe tbody tr th:only-of-type {\n",
       "        vertical-align: middle;\n",
       "    }\n",
       "\n",
       "    .dataframe tbody tr th {\n",
       "        vertical-align: top;\n",
       "    }\n",
       "\n",
       "    .dataframe thead th {\n",
       "        text-align: right;\n",
       "    }\n",
       "</style>\n",
       "<table border=\"1\" class=\"dataframe\">\n",
       "  <thead>\n",
       "    <tr style=\"text-align: right;\">\n",
       "      <th></th>\n",
       "      <th>tiempo_de_reparacion_en_minutos</th>\n",
       "      <th>tipo_de_motor</th>\n",
       "      <th>marca_del_auto</th>\n",
       "      <th>cantidad_de_ruedas_a_reemplazar</th>\n",
       "      <th>signo_del_auto</th>\n",
       "      <th>cantidad_de_kilometros</th>\n",
       "      <th>fecha_de_elaboracion_del_auto</th>\n",
       "    </tr>\n",
       "  </thead>\n",
       "  <tbody>\n",
       "    <tr>\n",
       "      <th>25</th>\n",
       "      <td>763.200</td>\n",
       "      <td>diesel</td>\n",
       "      <td>toyota</td>\n",
       "      <td>3</td>\n",
       "      <td>Piscis</td>\n",
       "      <td>61386</td>\n",
       "      <td>NaN</td>\n",
       "    </tr>\n",
       "    <tr>\n",
       "      <th>26</th>\n",
       "      <td>1440.900</td>\n",
       "      <td>gasolina</td>\n",
       "      <td>ford</td>\n",
       "      <td>3</td>\n",
       "      <td>Cancer</td>\n",
       "      <td>29514</td>\n",
       "      <td>NaN</td>\n",
       "    </tr>\n",
       "    <tr>\n",
       "      <th>27</th>\n",
       "      <td>1031.400</td>\n",
       "      <td>electrico</td>\n",
       "      <td>ford</td>\n",
       "      <td>4</td>\n",
       "      <td>Géminis</td>\n",
       "      <td>38609</td>\n",
       "      <td>NaN</td>\n",
       "    </tr>\n",
       "    <tr>\n",
       "      <th>28</th>\n",
       "      <td>2944.350</td>\n",
       "      <td>electrico</td>\n",
       "      <td>ford</td>\n",
       "      <td>4</td>\n",
       "      <td>Géminis</td>\n",
       "      <td>35465</td>\n",
       "      <td>NaN</td>\n",
       "    </tr>\n",
       "    <tr>\n",
       "      <th>29</th>\n",
       "      <td>1795.500</td>\n",
       "      <td>electrico</td>\n",
       "      <td>honda</td>\n",
       "      <td>2</td>\n",
       "      <td>Escorpio</td>\n",
       "      <td>66258</td>\n",
       "      <td>NaN</td>\n",
       "    </tr>\n",
       "    <tr>\n",
       "      <th>30</th>\n",
       "      <td>4335.525</td>\n",
       "      <td>electrico</td>\n",
       "      <td>ford</td>\n",
       "      <td>4</td>\n",
       "      <td>Aries</td>\n",
       "      <td>85169</td>\n",
       "      <td>NaN</td>\n",
       "    </tr>\n",
       "    <tr>\n",
       "      <th>31</th>\n",
       "      <td>1224.000</td>\n",
       "      <td>gasolina</td>\n",
       "      <td>toyota</td>\n",
       "      <td>1</td>\n",
       "      <td>Virgo</td>\n",
       "      <td>48592</td>\n",
       "      <td>NaN</td>\n",
       "    </tr>\n",
       "    <tr>\n",
       "      <th>32</th>\n",
       "      <td>1617.750</td>\n",
       "      <td>electrico</td>\n",
       "      <td>toyota</td>\n",
       "      <td>4</td>\n",
       "      <td>Géminis</td>\n",
       "      <td>69175</td>\n",
       "      <td>NaN</td>\n",
       "    </tr>\n",
       "    <tr>\n",
       "      <th>33</th>\n",
       "      <td>661.680</td>\n",
       "      <td>gasolina</td>\n",
       "      <td>ford</td>\n",
       "      <td>3</td>\n",
       "      <td>Sagitario</td>\n",
       "      <td>48251</td>\n",
       "      <td>NaN</td>\n",
       "    </tr>\n",
       "    <tr>\n",
       "      <th>34</th>\n",
       "      <td>1011.600</td>\n",
       "      <td>diesel</td>\n",
       "      <td>ford</td>\n",
       "      <td>1</td>\n",
       "      <td>Leo</td>\n",
       "      <td>9887</td>\n",
       "      <td>NaN</td>\n",
       "    </tr>\n",
       "    <tr>\n",
       "      <th>35</th>\n",
       "      <td>473.040</td>\n",
       "      <td>gasolina</td>\n",
       "      <td>ford</td>\n",
       "      <td>4</td>\n",
       "      <td>Sagitario</td>\n",
       "      <td>64836</td>\n",
       "      <td>NaN</td>\n",
       "    </tr>\n",
       "  </tbody>\n",
       "</table>\n",
       "</div>"
      ],
      "text/plain": [
       "    tiempo_de_reparacion_en_minutos tipo_de_motor marca_del_auto  \\\n",
       "25                          763.200        diesel         toyota   \n",
       "26                         1440.900      gasolina           ford   \n",
       "27                         1031.400     electrico           ford   \n",
       "28                         2944.350     electrico           ford   \n",
       "29                         1795.500     electrico          honda   \n",
       "30                         4335.525     electrico           ford   \n",
       "31                         1224.000      gasolina         toyota   \n",
       "32                         1617.750     electrico         toyota   \n",
       "33                          661.680      gasolina           ford   \n",
       "34                         1011.600        diesel           ford   \n",
       "35                          473.040      gasolina           ford   \n",
       "\n",
       "    cantidad_de_ruedas_a_reemplazar signo_del_auto  cantidad_de_kilometros  \\\n",
       "25                                3         Piscis                   61386   \n",
       "26                                3         Cancer                   29514   \n",
       "27                                4        Géminis                   38609   \n",
       "28                                4        Géminis                   35465   \n",
       "29                                2       Escorpio                   66258   \n",
       "30                                4          Aries                   85169   \n",
       "31                                1          Virgo                   48592   \n",
       "32                                4        Géminis                   69175   \n",
       "33                                3      Sagitario                   48251   \n",
       "34                                1            Leo                    9887   \n",
       "35                                4      Sagitario                   64836   \n",
       "\n",
       "    fecha_de_elaboracion_del_auto  \n",
       "25                            NaN  \n",
       "26                            NaN  \n",
       "27                            NaN  \n",
       "28                            NaN  \n",
       "29                            NaN  \n",
       "30                            NaN  \n",
       "31                            NaN  \n",
       "32                            NaN  \n",
       "33                            NaN  \n",
       "34                            NaN  \n",
       "35                            NaN  "
      ]
     },
     "execution_count": 47,
     "metadata": {},
     "output_type": "execute_result"
    }
   ],
   "source": [
    "# C) Muestre las filas con datos faltantes\n",
    "\n",
    "df_taller_mecanico[df_taller_mecanico.isna().any(axis=1)]"
   ]
  },
  {
   "cell_type": "code",
   "execution_count": 48,
   "metadata": {},
   "outputs": [],
   "source": [
    "# D) Sí hay faltantes, ¿Cómo procederán a hacer el tratamiento de los mismos?\n",
    "\n",
    "# Voy a eliminar las filas que tienen datos faltantes porque son pocas y siento que no van a afectar al análisis. A parte, no me puedo ivnentar los datos faltantes porque no tengo información de los mismos."
   ]
  },
  {
   "cell_type": "code",
   "execution_count": 49,
   "metadata": {},
   "outputs": [
    {
     "data": {
      "text/html": [
       "<div>\n",
       "<style scoped>\n",
       "    .dataframe tbody tr th:only-of-type {\n",
       "        vertical-align: middle;\n",
       "    }\n",
       "\n",
       "    .dataframe tbody tr th {\n",
       "        vertical-align: top;\n",
       "    }\n",
       "\n",
       "    .dataframe thead th {\n",
       "        text-align: right;\n",
       "    }\n",
       "</style>\n",
       "<table border=\"1\" class=\"dataframe\">\n",
       "  <thead>\n",
       "    <tr style=\"text-align: right;\">\n",
       "      <th></th>\n",
       "      <th>tiempo_de_reparacion_en_minutos</th>\n",
       "      <th>tipo_de_motor</th>\n",
       "      <th>marca_del_auto</th>\n",
       "      <th>cantidad_de_ruedas_a_reemplazar</th>\n",
       "      <th>signo_del_auto</th>\n",
       "      <th>cantidad_de_kilometros</th>\n",
       "      <th>fecha_de_elaboracion_del_auto</th>\n",
       "    </tr>\n",
       "  </thead>\n",
       "  <tbody>\n",
       "    <tr>\n",
       "      <th>0</th>\n",
       "      <td>2406.00</td>\n",
       "      <td>gasolina</td>\n",
       "      <td>toyota</td>\n",
       "      <td>4</td>\n",
       "      <td>Piscis</td>\n",
       "      <td>81760</td>\n",
       "      <td>2002.0</td>\n",
       "    </tr>\n",
       "    <tr>\n",
       "      <th>1</th>\n",
       "      <td>2776.50</td>\n",
       "      <td>electrico</td>\n",
       "      <td>honda</td>\n",
       "      <td>3</td>\n",
       "      <td>Virgo</td>\n",
       "      <td>91959</td>\n",
       "      <td>1989.0</td>\n",
       "    </tr>\n",
       "    <tr>\n",
       "      <th>2</th>\n",
       "      <td>1122.00</td>\n",
       "      <td>diesel</td>\n",
       "      <td>honda</td>\n",
       "      <td>3</td>\n",
       "      <td>Acuario</td>\n",
       "      <td>82800</td>\n",
       "      <td>1998.0</td>\n",
       "    </tr>\n",
       "    <tr>\n",
       "      <th>3</th>\n",
       "      <td>639.00</td>\n",
       "      <td>gasolina</td>\n",
       "      <td>honda</td>\n",
       "      <td>4</td>\n",
       "      <td>Virgo</td>\n",
       "      <td>19724</td>\n",
       "      <td>2013.0</td>\n",
       "    </tr>\n",
       "    <tr>\n",
       "      <th>4</th>\n",
       "      <td>1494.00</td>\n",
       "      <td>electrico</td>\n",
       "      <td>honda</td>\n",
       "      <td>1</td>\n",
       "      <td>Acuario</td>\n",
       "      <td>36123</td>\n",
       "      <td>2006.0</td>\n",
       "    </tr>\n",
       "    <tr>\n",
       "      <th>...</th>\n",
       "      <td>...</td>\n",
       "      <td>...</td>\n",
       "      <td>...</td>\n",
       "      <td>...</td>\n",
       "      <td>...</td>\n",
       "      <td>...</td>\n",
       "      <td>...</td>\n",
       "    </tr>\n",
       "    <tr>\n",
       "      <th>2995</th>\n",
       "      <td>496.00</td>\n",
       "      <td>gasolina</td>\n",
       "      <td>toyota</td>\n",
       "      <td>4</td>\n",
       "      <td>Escorpio</td>\n",
       "      <td>6928</td>\n",
       "      <td>2016.0</td>\n",
       "    </tr>\n",
       "    <tr>\n",
       "      <th>2996</th>\n",
       "      <td>866.70</td>\n",
       "      <td>electrico</td>\n",
       "      <td>ford</td>\n",
       "      <td>2</td>\n",
       "      <td>Virgo</td>\n",
       "      <td>85837</td>\n",
       "      <td>2008.0</td>\n",
       "    </tr>\n",
       "    <tr>\n",
       "      <th>2997</th>\n",
       "      <td>618.84</td>\n",
       "      <td>diesel</td>\n",
       "      <td>ford</td>\n",
       "      <td>2</td>\n",
       "      <td>Géminis</td>\n",
       "      <td>74030</td>\n",
       "      <td>1988.0</td>\n",
       "    </tr>\n",
       "    <tr>\n",
       "      <th>2998</th>\n",
       "      <td>2322.00</td>\n",
       "      <td>electrico</td>\n",
       "      <td>toyota</td>\n",
       "      <td>2</td>\n",
       "      <td>Escorpio</td>\n",
       "      <td>47451</td>\n",
       "      <td>1996.0</td>\n",
       "    </tr>\n",
       "    <tr>\n",
       "      <th>2999</th>\n",
       "      <td>2212.00</td>\n",
       "      <td>gasolina</td>\n",
       "      <td>honda</td>\n",
       "      <td>3</td>\n",
       "      <td>Capricornio</td>\n",
       "      <td>27511</td>\n",
       "      <td>1984.0</td>\n",
       "    </tr>\n",
       "  </tbody>\n",
       "</table>\n",
       "<p>2989 rows × 7 columns</p>\n",
       "</div>"
      ],
      "text/plain": [
       "      tiempo_de_reparacion_en_minutos tipo_de_motor marca_del_auto  \\\n",
       "0                             2406.00      gasolina         toyota   \n",
       "1                             2776.50     electrico          honda   \n",
       "2                             1122.00        diesel          honda   \n",
       "3                              639.00      gasolina          honda   \n",
       "4                             1494.00     electrico          honda   \n",
       "...                               ...           ...            ...   \n",
       "2995                           496.00      gasolina         toyota   \n",
       "2996                           866.70     electrico           ford   \n",
       "2997                           618.84        diesel           ford   \n",
       "2998                          2322.00     electrico         toyota   \n",
       "2999                          2212.00      gasolina          honda   \n",
       "\n",
       "      cantidad_de_ruedas_a_reemplazar signo_del_auto  cantidad_de_kilometros  \\\n",
       "0                                   4         Piscis                   81760   \n",
       "1                                   3          Virgo                   91959   \n",
       "2                                   3        Acuario                   82800   \n",
       "3                                   4          Virgo                   19724   \n",
       "4                                   1        Acuario                   36123   \n",
       "...                               ...            ...                     ...   \n",
       "2995                                4       Escorpio                    6928   \n",
       "2996                                2          Virgo                   85837   \n",
       "2997                                2        Géminis                   74030   \n",
       "2998                                2       Escorpio                   47451   \n",
       "2999                                3    Capricornio                   27511   \n",
       "\n",
       "      fecha_de_elaboracion_del_auto  \n",
       "0                            2002.0  \n",
       "1                            1989.0  \n",
       "2                            1998.0  \n",
       "3                            2013.0  \n",
       "4                            2006.0  \n",
       "...                             ...  \n",
       "2995                         2016.0  \n",
       "2996                         2008.0  \n",
       "2997                         1988.0  \n",
       "2998                         1996.0  \n",
       "2999                         1984.0  \n",
       "\n",
       "[2989 rows x 7 columns]"
      ]
     },
     "execution_count": 49,
     "metadata": {},
     "output_type": "execute_result"
    }
   ],
   "source": [
    "# E) Haga el tratamiento de los valores faltantes en caso de creerlo necesario\n",
    "\n",
    "df_taller_mecanico.dropna(inplace=True)\n",
    "df_taller_mecanico"
   ]
  },
  {
   "cell_type": "markdown",
   "metadata": {},
   "source": [
    "___"
   ]
  },
  {
   "cell_type": "markdown",
   "metadata": {},
   "source": [
    "# 3) Imprima las estadísticas básicas del dataset."
   ]
  },
  {
   "cell_type": "code",
   "execution_count": 50,
   "metadata": {},
   "outputs": [
    {
     "data": {
      "text/html": [
       "<div>\n",
       "<style scoped>\n",
       "    .dataframe tbody tr th:only-of-type {\n",
       "        vertical-align: middle;\n",
       "    }\n",
       "\n",
       "    .dataframe tbody tr th {\n",
       "        vertical-align: top;\n",
       "    }\n",
       "\n",
       "    .dataframe thead th {\n",
       "        text-align: right;\n",
       "    }\n",
       "</style>\n",
       "<table border=\"1\" class=\"dataframe\">\n",
       "  <thead>\n",
       "    <tr style=\"text-align: right;\">\n",
       "      <th></th>\n",
       "      <th>tiempo_de_reparacion_en_minutos</th>\n",
       "      <th>cantidad_de_ruedas_a_reemplazar</th>\n",
       "      <th>cantidad_de_kilometros</th>\n",
       "      <th>fecha_de_elaboracion_del_auto</th>\n",
       "    </tr>\n",
       "  </thead>\n",
       "  <tbody>\n",
       "    <tr>\n",
       "      <th>count</th>\n",
       "      <td>2989.000000</td>\n",
       "      <td>2989.000000</td>\n",
       "      <td>2.989000e+03</td>\n",
       "      <td>2989.000000</td>\n",
       "    </tr>\n",
       "    <tr>\n",
       "      <th>mean</th>\n",
       "      <td>1679.347863</td>\n",
       "      <td>2.511208</td>\n",
       "      <td>9.866129e+05</td>\n",
       "      <td>1999.469722</td>\n",
       "    </tr>\n",
       "    <tr>\n",
       "      <th>std</th>\n",
       "      <td>1035.426899</td>\n",
       "      <td>1.127850</td>\n",
       "      <td>5.121385e+07</td>\n",
       "      <td>11.887729</td>\n",
       "    </tr>\n",
       "    <tr>\n",
       "      <th>min</th>\n",
       "      <td>36.000000</td>\n",
       "      <td>1.000000</td>\n",
       "      <td>-8.880000e+02</td>\n",
       "      <td>1980.000000</td>\n",
       "    </tr>\n",
       "    <tr>\n",
       "      <th>25%</th>\n",
       "      <td>894.600000</td>\n",
       "      <td>1.000000</td>\n",
       "      <td>2.556600e+04</td>\n",
       "      <td>1990.000000</td>\n",
       "    </tr>\n",
       "    <tr>\n",
       "      <th>50%</th>\n",
       "      <td>1491.480000</td>\n",
       "      <td>3.000000</td>\n",
       "      <td>4.952000e+04</td>\n",
       "      <td>1999.000000</td>\n",
       "    </tr>\n",
       "    <tr>\n",
       "      <th>75%</th>\n",
       "      <td>2290.500000</td>\n",
       "      <td>4.000000</td>\n",
       "      <td>7.444900e+04</td>\n",
       "      <td>2009.000000</td>\n",
       "    </tr>\n",
       "    <tr>\n",
       "      <th>max</th>\n",
       "      <td>5611.500000</td>\n",
       "      <td>4.000000</td>\n",
       "      <td>2.800000e+09</td>\n",
       "      <td>2056.000000</td>\n",
       "    </tr>\n",
       "  </tbody>\n",
       "</table>\n",
       "</div>"
      ],
      "text/plain": [
       "       tiempo_de_reparacion_en_minutos  cantidad_de_ruedas_a_reemplazar  \\\n",
       "count                      2989.000000                      2989.000000   \n",
       "mean                       1679.347863                         2.511208   \n",
       "std                        1035.426899                         1.127850   \n",
       "min                          36.000000                         1.000000   \n",
       "25%                         894.600000                         1.000000   \n",
       "50%                        1491.480000                         3.000000   \n",
       "75%                        2290.500000                         4.000000   \n",
       "max                        5611.500000                         4.000000   \n",
       "\n",
       "       cantidad_de_kilometros  fecha_de_elaboracion_del_auto  \n",
       "count            2.989000e+03                    2989.000000  \n",
       "mean             9.866129e+05                    1999.469722  \n",
       "std              5.121385e+07                      11.887729  \n",
       "min             -8.880000e+02                    1980.000000  \n",
       "25%              2.556600e+04                    1990.000000  \n",
       "50%              4.952000e+04                    1999.000000  \n",
       "75%              7.444900e+04                    2009.000000  \n",
       "max              2.800000e+09                    2056.000000  "
      ]
     },
     "execution_count": 50,
     "metadata": {},
     "output_type": "execute_result"
    }
   ],
   "source": [
    "df_taller_mecanico.describe()"
   ]
  },
  {
   "cell_type": "code",
   "execution_count": 51,
   "metadata": {},
   "outputs": [
    {
     "data": {
      "text/plain": [
       "<Axes: xlabel='tiempo_de_reparacion_en_minutos'>"
      ]
     },
     "execution_count": 51,
     "metadata": {},
     "output_type": "execute_result"
    },
    {
     "data": {
      "image/png": "[encoded data removed]",
      "text/plain": [
       "<Figure size 640x480 with 1 Axes>"
      ]
     },
     "metadata": {},
     "output_type": "display_data"
    }
   ],
   "source": [
    "sns.boxplot(x=df_taller_mecanico['tiempo_de_reparacion_en_minutos'])"
   ]
  },
  {
   "cell_type": "code",
   "execution_count": 52,
   "metadata": {},
   "outputs": [
    {
     "data": {
      "text/plain": [
       "<Axes: xlabel='cantidad_de_ruedas_a_reemplazar'>"
      ]
     },
     "execution_count": 52,
     "metadata": {},
     "output_type": "execute_result"
    },
    {
     "data": {
      "image/png": "[encoded data removed]",
      "text/plain": [
       "<Figure size 640x480 with 1 Axes>"
      ]
     },
     "metadata": {},
     "output_type": "display_data"
    }
   ],
   "source": [
    "sns.boxplot(x=df_taller_mecanico['cantidad_de_ruedas_a_reemplazar'])"
   ]
  },
  {
   "cell_type": "code",
   "execution_count": 53,
   "metadata": {},
   "outputs": [
    {
     "data": {
      "text/plain": [
       "<Axes: xlabel='cantidad_de_kilometros'>"
      ]
     },
     "execution_count": 53,
     "metadata": {},
     "output_type": "execute_result"
    },
    {
     "data": {
      "image/png": "[encoded data removed]",
      "text/plain": [
       "<Figure size 640x480 with 1 Axes>"
      ]
     },
     "metadata": {},
     "output_type": "display_data"
    }
   ],
   "source": [
    "sns.boxplot(x=df_taller_mecanico['cantidad_de_kilometros'])"
   ]
  },
  {
   "cell_type": "code",
   "execution_count": 54,
   "metadata": {},
   "outputs": [
    {
     "data": {
      "text/plain": [
       "<Axes: xlabel='fecha_de_elaboracion_del_auto'>"
      ]
     },
     "execution_count": 54,
     "metadata": {},
     "output_type": "execute_result"
    },
    {
     "data": {
      "image/png": "[encoded data removed]",
      "text/plain": [
       "<Figure size 640x480 with 1 Axes>"
      ]
     },
     "metadata": {},
     "output_type": "display_data"
    }
   ],
   "source": [
    "sns.boxplot(x=df_taller_mecanico['fecha_de_elaboracion_del_auto'])"
   ]
  },
  {
   "cell_type": "markdown",
   "metadata": {},
   "source": [
    "___"
   ]
  },
  {
   "cell_type": "markdown",
   "metadata": {},
   "source": [
    "# 4) ¿Qué es un dato outlier? ¿Cómo procedería al análisis del mismo?"
   ]
  },
  {
   "cell_type": "markdown",
   "metadata": {},
   "source": [
    "#### Un dato outlier es un dato que se encuentra muy alejado del resto de los datos, se lo conoce como anómalo. Para analizarlo, primero hay que ver si es un dato erroneo o no. Si es erroneo, se lo debe eliminar. Si no es erroneo, se lo debe analizar para ver si es un dato que se puede considerar como un outlier o no. Si es un outlier, se lo debe eliminar. Si no es un outlier, se lo debe dejar."
   ]
  },
  {
   "cell_type": "markdown",
   "metadata": {},
   "source": [
    "#### Un dato outlier es un dato que está fuera de la distribución de una variable. Muchas veces los valores outliers pueden ser datos mal imputados pero otras veces pueden aportar información importante sobre el caso. Por ejemplo en un caso de Fraude, los casos outliers pueden significar un patrón a analizar. En este dataset se presentaron 2 valores outliers. 1 en \"cantidad_de_kilometros\" con el valor de 280.000.000 y el otro en \"fecha_de_elaboracion_del_auto\" con el año 2050."
   ]
  },
  {
   "cell_type": "markdown",
   "metadata": {},
   "source": [
    "___"
   ]
  },
  {
   "cell_type": "markdown",
   "metadata": {},
   "source": [
    "# Transformación de los valores outliers"
   ]
  },
  {
   "cell_type": "code",
   "execution_count": 55,
   "metadata": {},
   "outputs": [],
   "source": [
    "df_taller_mecanico['tiempo_de_reparacion_en_minutos'] = df_taller_mecanico['tiempo_de_reparacion_en_minutos'].astype(int)\n",
    "df_taller_mecanico['fecha_de_elaboracion_del_auto'] = df_taller_mecanico['fecha_de_elaboracion_del_auto'].astype(int)\n",
    "df_taller_mecanico = df_taller_mecanico[(df_taller_mecanico['cantidad_de_kilometros'] > 0) & (df_taller_mecanico['cantidad_de_kilometros'] < 250000)] # No puede haber kilometraje negativo y tampoco puede haber un auto con 280.0000 millones de km\n",
    "df_taller_mecanico = df_taller_mecanico[df_taller_mecanico['fecha_de_elaboracion_del_auto'] <= 2023] # Como van a estar arreglando un auto que se fabricó en 2050?"
   ]
  },
  {
   "cell_type": "code",
   "execution_count": 56,
   "metadata": {},
   "outputs": [
    {
     "data": {
      "text/html": [
       "<div>\n",
       "<style scoped>\n",
       "    .dataframe tbody tr th:only-of-type {\n",
       "        vertical-align: middle;\n",
       "    }\n",
       "\n",
       "    .dataframe tbody tr th {\n",
       "        vertical-align: top;\n",
       "    }\n",
       "\n",
       "    .dataframe thead th {\n",
       "        text-align: right;\n",
       "    }\n",
       "</style>\n",
       "<table border=\"1\" class=\"dataframe\">\n",
       "  <thead>\n",
       "    <tr style=\"text-align: right;\">\n",
       "      <th></th>\n",
       "      <th>tiempo_de_reparacion_en_minutos</th>\n",
       "      <th>tipo_de_motor</th>\n",
       "      <th>marca_del_auto</th>\n",
       "      <th>cantidad_de_ruedas_a_reemplazar</th>\n",
       "      <th>signo_del_auto</th>\n",
       "      <th>cantidad_de_kilometros</th>\n",
       "      <th>fecha_de_elaboracion_del_auto</th>\n",
       "    </tr>\n",
       "  </thead>\n",
       "  <tbody>\n",
       "    <tr>\n",
       "      <th>0</th>\n",
       "      <td>2406</td>\n",
       "      <td>gasolina</td>\n",
       "      <td>toyota</td>\n",
       "      <td>4</td>\n",
       "      <td>Piscis</td>\n",
       "      <td>81760</td>\n",
       "      <td>2002</td>\n",
       "    </tr>\n",
       "    <tr>\n",
       "      <th>1</th>\n",
       "      <td>2776</td>\n",
       "      <td>electrico</td>\n",
       "      <td>honda</td>\n",
       "      <td>3</td>\n",
       "      <td>Virgo</td>\n",
       "      <td>91959</td>\n",
       "      <td>1989</td>\n",
       "    </tr>\n",
       "    <tr>\n",
       "      <th>2</th>\n",
       "      <td>1122</td>\n",
       "      <td>diesel</td>\n",
       "      <td>honda</td>\n",
       "      <td>3</td>\n",
       "      <td>Acuario</td>\n",
       "      <td>82800</td>\n",
       "      <td>1998</td>\n",
       "    </tr>\n",
       "    <tr>\n",
       "      <th>3</th>\n",
       "      <td>639</td>\n",
       "      <td>gasolina</td>\n",
       "      <td>honda</td>\n",
       "      <td>4</td>\n",
       "      <td>Virgo</td>\n",
       "      <td>19724</td>\n",
       "      <td>2013</td>\n",
       "    </tr>\n",
       "    <tr>\n",
       "      <th>4</th>\n",
       "      <td>1494</td>\n",
       "      <td>electrico</td>\n",
       "      <td>honda</td>\n",
       "      <td>1</td>\n",
       "      <td>Acuario</td>\n",
       "      <td>36123</td>\n",
       "      <td>2006</td>\n",
       "    </tr>\n",
       "    <tr>\n",
       "      <th>...</th>\n",
       "      <td>...</td>\n",
       "      <td>...</td>\n",
       "      <td>...</td>\n",
       "      <td>...</td>\n",
       "      <td>...</td>\n",
       "      <td>...</td>\n",
       "      <td>...</td>\n",
       "    </tr>\n",
       "    <tr>\n",
       "      <th>2995</th>\n",
       "      <td>496</td>\n",
       "      <td>gasolina</td>\n",
       "      <td>toyota</td>\n",
       "      <td>4</td>\n",
       "      <td>Escorpio</td>\n",
       "      <td>6928</td>\n",
       "      <td>2016</td>\n",
       "    </tr>\n",
       "    <tr>\n",
       "      <th>2996</th>\n",
       "      <td>866</td>\n",
       "      <td>electrico</td>\n",
       "      <td>ford</td>\n",
       "      <td>2</td>\n",
       "      <td>Virgo</td>\n",
       "      <td>85837</td>\n",
       "      <td>2008</td>\n",
       "    </tr>\n",
       "    <tr>\n",
       "      <th>2997</th>\n",
       "      <td>618</td>\n",
       "      <td>diesel</td>\n",
       "      <td>ford</td>\n",
       "      <td>2</td>\n",
       "      <td>Géminis</td>\n",
       "      <td>74030</td>\n",
       "      <td>1988</td>\n",
       "    </tr>\n",
       "    <tr>\n",
       "      <th>2998</th>\n",
       "      <td>2322</td>\n",
       "      <td>electrico</td>\n",
       "      <td>toyota</td>\n",
       "      <td>2</td>\n",
       "      <td>Escorpio</td>\n",
       "      <td>47451</td>\n",
       "      <td>1996</td>\n",
       "    </tr>\n",
       "    <tr>\n",
       "      <th>2999</th>\n",
       "      <td>2212</td>\n",
       "      <td>gasolina</td>\n",
       "      <td>honda</td>\n",
       "      <td>3</td>\n",
       "      <td>Capricornio</td>\n",
       "      <td>27511</td>\n",
       "      <td>1984</td>\n",
       "    </tr>\n",
       "  </tbody>\n",
       "</table>\n",
       "<p>2966 rows × 7 columns</p>\n",
       "</div>"
      ],
      "text/plain": [
       "      tiempo_de_reparacion_en_minutos tipo_de_motor marca_del_auto  \\\n",
       "0                                2406      gasolina         toyota   \n",
       "1                                2776     electrico          honda   \n",
       "2                                1122        diesel          honda   \n",
       "3                                 639      gasolina          honda   \n",
       "4                                1494     electrico          honda   \n",
       "...                               ...           ...            ...   \n",
       "2995                              496      gasolina         toyota   \n",
       "2996                              866     electrico           ford   \n",
       "2997                              618        diesel           ford   \n",
       "2998                             2322     electrico         toyota   \n",
       "2999                             2212      gasolina          honda   \n",
       "\n",
       "      cantidad_de_ruedas_a_reemplazar signo_del_auto  cantidad_de_kilometros  \\\n",
       "0                                   4         Piscis                   81760   \n",
       "1                                   3          Virgo                   91959   \n",
       "2                                   3        Acuario                   82800   \n",
       "3                                   4          Virgo                   19724   \n",
       "4                                   1        Acuario                   36123   \n",
       "...                               ...            ...                     ...   \n",
       "2995                                4       Escorpio                    6928   \n",
       "2996                                2          Virgo                   85837   \n",
       "2997                                2        Géminis                   74030   \n",
       "2998                                2       Escorpio                   47451   \n",
       "2999                                3    Capricornio                   27511   \n",
       "\n",
       "      fecha_de_elaboracion_del_auto  \n",
       "0                              2002  \n",
       "1                              1989  \n",
       "2                              1998  \n",
       "3                              2013  \n",
       "4                              2006  \n",
       "...                             ...  \n",
       "2995                           2016  \n",
       "2996                           2008  \n",
       "2997                           1988  \n",
       "2998                           1996  \n",
       "2999                           1984  \n",
       "\n",
       "[2966 rows x 7 columns]"
      ]
     },
     "execution_count": 56,
     "metadata": {},
     "output_type": "execute_result"
    }
   ],
   "source": [
    "df_taller_mecanico"
   ]
  },
  {
   "cell_type": "markdown",
   "metadata": {},
   "source": [
    "___"
   ]
  },
  {
   "cell_type": "markdown",
   "metadata": {},
   "source": [
    "# Boxplots más razonables"
   ]
  },
  {
   "cell_type": "code",
   "execution_count": 57,
   "metadata": {},
   "outputs": [
    {
     "data": {
      "text/plain": [
       "<Axes: xlabel='tiempo_de_reparacion_en_minutos'>"
      ]
     },
     "execution_count": 57,
     "metadata": {},
     "output_type": "execute_result"
    },
    {
     "data": {
      "image/png": "[encoded data removed]",
      "text/plain": [
       "<Figure size 640x480 with 1 Axes>"
      ]
     },
     "metadata": {},
     "output_type": "display_data"
    }
   ],
   "source": [
    "sns.boxplot(x=df_taller_mecanico['tiempo_de_reparacion_en_minutos'])"
   ]
  },
  {
   "cell_type": "markdown",
   "metadata": {},
   "source": [
    "### → Se dejó tal cual estaba ya que no se encontraron valores outliers. Es normal que haya valores altos en el tiempoo de reparacion de los autos ya que hay autos que tardan mas que otros en repararse."
   ]
  },
  {
   "cell_type": "code",
   "execution_count": 58,
   "metadata": {},
   "outputs": [
    {
     "data": {
      "text/plain": [
       "<Axes: xlabel='cantidad_de_ruedas_a_reemplazar'>"
      ]
     },
     "execution_count": 58,
     "metadata": {},
     "output_type": "execute_result"
    },
    {
     "data": {
      "image/png": "[encoded data removed]",
      "text/plain": [
       "<Figure size 640x480 with 1 Axes>"
      ]
     },
     "metadata": {},
     "output_type": "display_data"
    }
   ],
   "source": [
    "sns.boxplot(x=df_taller_mecanico['cantidad_de_ruedas_a_reemplazar'])"
   ]
  },
  {
   "cell_type": "code",
   "execution_count": 59,
   "metadata": {},
   "outputs": [
    {
     "data": {
      "text/plain": [
       "<Axes: xlabel='cantidad_de_kilometros'>"
      ]
     },
     "execution_count": 59,
     "metadata": {},
     "output_type": "execute_result"
    },
    {
     "data": {
      "image/png": "[encoded data removed]",
      "text/plain": [
       "<Figure size 640x480 with 1 Axes>"
      ]
     },
     "metadata": {},
     "output_type": "display_data"
    }
   ],
   "source": [
    "sns.boxplot(x=df_taller_mecanico['cantidad_de_kilometros'])"
   ]
  },
  {
   "cell_type": "markdown",
   "metadata": {},
   "source": [
    "### → Se filtro la columna \"cantidad_de_kilometros\" ya que un auto no puede tener 280.000.000 de kilometros recorridos (se obtuvo ese valor usando .max())"
   ]
  },
  {
   "cell_type": "code",
   "execution_count": 60,
   "metadata": {},
   "outputs": [
    {
     "data": {
      "text/plain": [
       "<Axes: xlabel='fecha_de_elaboracion_del_auto'>"
      ]
     },
     "execution_count": 60,
     "metadata": {},
     "output_type": "execute_result"
    },
    {
     "data": {
      "image/png": "[encoded data removed]",
      "text/plain": [
       "<Figure size 640x480 with 1 Axes>"
      ]
     },
     "metadata": {},
     "output_type": "display_data"
    }
   ],
   "source": [
    "sns.boxplot(x=df_taller_mecanico['fecha_de_elaboracion_del_auto'])"
   ]
  },
  {
   "cell_type": "markdown",
   "metadata": {},
   "source": [
    "### → Se filtro la columna \"fecha_de_elaboracion_del_auto\" ya que el año 2050 no es razonable. ¿Cómo se va a estar arreglando un auto que su fecha de fabricación fue en el año 2050?"
   ]
  },
  {
   "cell_type": "markdown",
   "metadata": {},
   "source": [
    "___"
   ]
  },
  {
   "cell_type": "markdown",
   "metadata": {},
   "source": [
    "# 6) ¿Cuantos autos únicos hay en el dataset?"
   ]
  },
  {
   "cell_type": "code",
   "execution_count": 61,
   "metadata": {},
   "outputs": [
    {
     "data": {
      "text/html": [
       "<div>\n",
       "<style scoped>\n",
       "    .dataframe tbody tr th:only-of-type {\n",
       "        vertical-align: middle;\n",
       "    }\n",
       "\n",
       "    .dataframe tbody tr th {\n",
       "        vertical-align: top;\n",
       "    }\n",
       "\n",
       "    .dataframe thead th {\n",
       "        text-align: right;\n",
       "    }\n",
       "</style>\n",
       "<table border=\"1\" class=\"dataframe\">\n",
       "  <thead>\n",
       "    <tr style=\"text-align: right;\">\n",
       "      <th></th>\n",
       "      <th>tiempo_de_reparacion_en_minutos</th>\n",
       "      <th>tipo_de_motor</th>\n",
       "      <th>marca_del_auto</th>\n",
       "      <th>cantidad_de_ruedas_a_reemplazar</th>\n",
       "      <th>signo_del_auto</th>\n",
       "      <th>cantidad_de_kilometros</th>\n",
       "      <th>fecha_de_elaboracion_del_auto</th>\n",
       "    </tr>\n",
       "  </thead>\n",
       "  <tbody>\n",
       "    <tr>\n",
       "      <th>0</th>\n",
       "      <td>2406</td>\n",
       "      <td>gasolina</td>\n",
       "      <td>toyota</td>\n",
       "      <td>4</td>\n",
       "      <td>Piscis</td>\n",
       "      <td>81760</td>\n",
       "      <td>2002</td>\n",
       "    </tr>\n",
       "    <tr>\n",
       "      <th>1</th>\n",
       "      <td>2776</td>\n",
       "      <td>electrico</td>\n",
       "      <td>honda</td>\n",
       "      <td>3</td>\n",
       "      <td>Virgo</td>\n",
       "      <td>91959</td>\n",
       "      <td>1989</td>\n",
       "    </tr>\n",
       "    <tr>\n",
       "      <th>2</th>\n",
       "      <td>1122</td>\n",
       "      <td>diesel</td>\n",
       "      <td>honda</td>\n",
       "      <td>3</td>\n",
       "      <td>Acuario</td>\n",
       "      <td>82800</td>\n",
       "      <td>1998</td>\n",
       "    </tr>\n",
       "    <tr>\n",
       "      <th>3</th>\n",
       "      <td>639</td>\n",
       "      <td>gasolina</td>\n",
       "      <td>honda</td>\n",
       "      <td>4</td>\n",
       "      <td>Virgo</td>\n",
       "      <td>19724</td>\n",
       "      <td>2013</td>\n",
       "    </tr>\n",
       "    <tr>\n",
       "      <th>4</th>\n",
       "      <td>1494</td>\n",
       "      <td>electrico</td>\n",
       "      <td>honda</td>\n",
       "      <td>1</td>\n",
       "      <td>Acuario</td>\n",
       "      <td>36123</td>\n",
       "      <td>2006</td>\n",
       "    </tr>\n",
       "    <tr>\n",
       "      <th>...</th>\n",
       "      <td>...</td>\n",
       "      <td>...</td>\n",
       "      <td>...</td>\n",
       "      <td>...</td>\n",
       "      <td>...</td>\n",
       "      <td>...</td>\n",
       "      <td>...</td>\n",
       "    </tr>\n",
       "    <tr>\n",
       "      <th>2995</th>\n",
       "      <td>496</td>\n",
       "      <td>gasolina</td>\n",
       "      <td>toyota</td>\n",
       "      <td>4</td>\n",
       "      <td>Escorpio</td>\n",
       "      <td>6928</td>\n",
       "      <td>2016</td>\n",
       "    </tr>\n",
       "    <tr>\n",
       "      <th>2996</th>\n",
       "      <td>866</td>\n",
       "      <td>electrico</td>\n",
       "      <td>ford</td>\n",
       "      <td>2</td>\n",
       "      <td>Virgo</td>\n",
       "      <td>85837</td>\n",
       "      <td>2008</td>\n",
       "    </tr>\n",
       "    <tr>\n",
       "      <th>2997</th>\n",
       "      <td>618</td>\n",
       "      <td>diesel</td>\n",
       "      <td>ford</td>\n",
       "      <td>2</td>\n",
       "      <td>Géminis</td>\n",
       "      <td>74030</td>\n",
       "      <td>1988</td>\n",
       "    </tr>\n",
       "    <tr>\n",
       "      <th>2998</th>\n",
       "      <td>2322</td>\n",
       "      <td>electrico</td>\n",
       "      <td>toyota</td>\n",
       "      <td>2</td>\n",
       "      <td>Escorpio</td>\n",
       "      <td>47451</td>\n",
       "      <td>1996</td>\n",
       "    </tr>\n",
       "    <tr>\n",
       "      <th>2999</th>\n",
       "      <td>2212</td>\n",
       "      <td>gasolina</td>\n",
       "      <td>honda</td>\n",
       "      <td>3</td>\n",
       "      <td>Capricornio</td>\n",
       "      <td>27511</td>\n",
       "      <td>1984</td>\n",
       "    </tr>\n",
       "  </tbody>\n",
       "</table>\n",
       "<p>2966 rows × 7 columns</p>\n",
       "</div>"
      ],
      "text/plain": [
       "      tiempo_de_reparacion_en_minutos tipo_de_motor marca_del_auto  \\\n",
       "0                                2406      gasolina         toyota   \n",
       "1                                2776     electrico          honda   \n",
       "2                                1122        diesel          honda   \n",
       "3                                 639      gasolina          honda   \n",
       "4                                1494     electrico          honda   \n",
       "...                               ...           ...            ...   \n",
       "2995                              496      gasolina         toyota   \n",
       "2996                              866     electrico           ford   \n",
       "2997                              618        diesel           ford   \n",
       "2998                             2322     electrico         toyota   \n",
       "2999                             2212      gasolina          honda   \n",
       "\n",
       "      cantidad_de_ruedas_a_reemplazar signo_del_auto  cantidad_de_kilometros  \\\n",
       "0                                   4         Piscis                   81760   \n",
       "1                                   3          Virgo                   91959   \n",
       "2                                   3        Acuario                   82800   \n",
       "3                                   4          Virgo                   19724   \n",
       "4                                   1        Acuario                   36123   \n",
       "...                               ...            ...                     ...   \n",
       "2995                                4       Escorpio                    6928   \n",
       "2996                                2          Virgo                   85837   \n",
       "2997                                2        Géminis                   74030   \n",
       "2998                                2       Escorpio                   47451   \n",
       "2999                                3    Capricornio                   27511   \n",
       "\n",
       "      fecha_de_elaboracion_del_auto  \n",
       "0                              2002  \n",
       "1                              1989  \n",
       "2                              1998  \n",
       "3                              2013  \n",
       "4                              2006  \n",
       "...                             ...  \n",
       "2995                           2016  \n",
       "2996                           2008  \n",
       "2997                           1988  \n",
       "2998                           1996  \n",
       "2999                           1984  \n",
       "\n",
       "[2966 rows x 7 columns]"
      ]
     },
     "execution_count": 61,
     "metadata": {},
     "output_type": "execute_result"
    }
   ],
   "source": [
    "df_taller_mecanico"
   ]
  },
  {
   "cell_type": "code",
   "execution_count": 62,
   "metadata": {},
   "outputs": [
    {
     "data": {
      "text/plain": [
       "3"
      ]
     },
     "execution_count": 62,
     "metadata": {},
     "output_type": "execute_result"
    }
   ],
   "source": [
    "df_taller_mecanico['marca_del_auto'].nunique()"
   ]
  },
  {
   "cell_type": "markdown",
   "metadata": {},
   "source": [
    "___"
   ]
  },
  {
   "cell_type": "markdown",
   "metadata": {},
   "source": [
    "# 7) Poner las primeras letras de las marcas de auto y tipo de motor en mayúsucla. Usar .apply()\n"
   ]
  },
  {
   "cell_type": "code",
   "execution_count": 63,
   "metadata": {},
   "outputs": [],
   "source": [
    "def mayuscula(x):\n",
    "    return x.capitalize()\n",
    "\n",
    "df_taller_mecanico['marca_del_auto'] = df_taller_mecanico['marca_del_auto'].apply(mayuscula)\n",
    "df_taller_mecanico['tipo_de_motor'] = df_taller_mecanico['tipo_de_motor'].apply(mayuscula)\n"
   ]
  },
  {
   "cell_type": "code",
   "execution_count": 64,
   "metadata": {},
   "outputs": [
    {
     "data": {
      "text/html": [
       "<div>\n",
       "<style scoped>\n",
       "    .dataframe tbody tr th:only-of-type {\n",
       "        vertical-align: middle;\n",
       "    }\n",
       "\n",
       "    .dataframe tbody tr th {\n",
       "        vertical-align: top;\n",
       "    }\n",
       "\n",
       "    .dataframe thead th {\n",
       "        text-align: right;\n",
       "    }\n",
       "</style>\n",
       "<table border=\"1\" class=\"dataframe\">\n",
       "  <thead>\n",
       "    <tr style=\"text-align: right;\">\n",
       "      <th></th>\n",
       "      <th>tiempo_de_reparacion_en_minutos</th>\n",
       "      <th>tipo_de_motor</th>\n",
       "      <th>marca_del_auto</th>\n",
       "      <th>cantidad_de_ruedas_a_reemplazar</th>\n",
       "      <th>signo_del_auto</th>\n",
       "      <th>cantidad_de_kilometros</th>\n",
       "      <th>fecha_de_elaboracion_del_auto</th>\n",
       "    </tr>\n",
       "  </thead>\n",
       "  <tbody>\n",
       "    <tr>\n",
       "      <th>0</th>\n",
       "      <td>2406</td>\n",
       "      <td>Gasolina</td>\n",
       "      <td>Toyota</td>\n",
       "      <td>4</td>\n",
       "      <td>Piscis</td>\n",
       "      <td>81760</td>\n",
       "      <td>2002</td>\n",
       "    </tr>\n",
       "    <tr>\n",
       "      <th>1</th>\n",
       "      <td>2776</td>\n",
       "      <td>Electrico</td>\n",
       "      <td>Honda</td>\n",
       "      <td>3</td>\n",
       "      <td>Virgo</td>\n",
       "      <td>91959</td>\n",
       "      <td>1989</td>\n",
       "    </tr>\n",
       "    <tr>\n",
       "      <th>2</th>\n",
       "      <td>1122</td>\n",
       "      <td>Diesel</td>\n",
       "      <td>Honda</td>\n",
       "      <td>3</td>\n",
       "      <td>Acuario</td>\n",
       "      <td>82800</td>\n",
       "      <td>1998</td>\n",
       "    </tr>\n",
       "    <tr>\n",
       "      <th>3</th>\n",
       "      <td>639</td>\n",
       "      <td>Gasolina</td>\n",
       "      <td>Honda</td>\n",
       "      <td>4</td>\n",
       "      <td>Virgo</td>\n",
       "      <td>19724</td>\n",
       "      <td>2013</td>\n",
       "    </tr>\n",
       "    <tr>\n",
       "      <th>4</th>\n",
       "      <td>1494</td>\n",
       "      <td>Electrico</td>\n",
       "      <td>Honda</td>\n",
       "      <td>1</td>\n",
       "      <td>Acuario</td>\n",
       "      <td>36123</td>\n",
       "      <td>2006</td>\n",
       "    </tr>\n",
       "    <tr>\n",
       "      <th>...</th>\n",
       "      <td>...</td>\n",
       "      <td>...</td>\n",
       "      <td>...</td>\n",
       "      <td>...</td>\n",
       "      <td>...</td>\n",
       "      <td>...</td>\n",
       "      <td>...</td>\n",
       "    </tr>\n",
       "    <tr>\n",
       "      <th>2995</th>\n",
       "      <td>496</td>\n",
       "      <td>Gasolina</td>\n",
       "      <td>Toyota</td>\n",
       "      <td>4</td>\n",
       "      <td>Escorpio</td>\n",
       "      <td>6928</td>\n",
       "      <td>2016</td>\n",
       "    </tr>\n",
       "    <tr>\n",
       "      <th>2996</th>\n",
       "      <td>866</td>\n",
       "      <td>Electrico</td>\n",
       "      <td>Ford</td>\n",
       "      <td>2</td>\n",
       "      <td>Virgo</td>\n",
       "      <td>85837</td>\n",
       "      <td>2008</td>\n",
       "    </tr>\n",
       "    <tr>\n",
       "      <th>2997</th>\n",
       "      <td>618</td>\n",
       "      <td>Diesel</td>\n",
       "      <td>Ford</td>\n",
       "      <td>2</td>\n",
       "      <td>Géminis</td>\n",
       "      <td>74030</td>\n",
       "      <td>1988</td>\n",
       "    </tr>\n",
       "    <tr>\n",
       "      <th>2998</th>\n",
       "      <td>2322</td>\n",
       "      <td>Electrico</td>\n",
       "      <td>Toyota</td>\n",
       "      <td>2</td>\n",
       "      <td>Escorpio</td>\n",
       "      <td>47451</td>\n",
       "      <td>1996</td>\n",
       "    </tr>\n",
       "    <tr>\n",
       "      <th>2999</th>\n",
       "      <td>2212</td>\n",
       "      <td>Gasolina</td>\n",
       "      <td>Honda</td>\n",
       "      <td>3</td>\n",
       "      <td>Capricornio</td>\n",
       "      <td>27511</td>\n",
       "      <td>1984</td>\n",
       "    </tr>\n",
       "  </tbody>\n",
       "</table>\n",
       "<p>2966 rows × 7 columns</p>\n",
       "</div>"
      ],
      "text/plain": [
       "      tiempo_de_reparacion_en_minutos tipo_de_motor marca_del_auto  \\\n",
       "0                                2406      Gasolina         Toyota   \n",
       "1                                2776     Electrico          Honda   \n",
       "2                                1122        Diesel          Honda   \n",
       "3                                 639      Gasolina          Honda   \n",
       "4                                1494     Electrico          Honda   \n",
       "...                               ...           ...            ...   \n",
       "2995                              496      Gasolina         Toyota   \n",
       "2996                              866     Electrico           Ford   \n",
       "2997                              618        Diesel           Ford   \n",
       "2998                             2322     Electrico         Toyota   \n",
       "2999                             2212      Gasolina          Honda   \n",
       "\n",
       "      cantidad_de_ruedas_a_reemplazar signo_del_auto  cantidad_de_kilometros  \\\n",
       "0                                   4         Piscis                   81760   \n",
       "1                                   3          Virgo                   91959   \n",
       "2                                   3        Acuario                   82800   \n",
       "3                                   4          Virgo                   19724   \n",
       "4                                   1        Acuario                   36123   \n",
       "...                               ...            ...                     ...   \n",
       "2995                                4       Escorpio                    6928   \n",
       "2996                                2          Virgo                   85837   \n",
       "2997                                2        Géminis                   74030   \n",
       "2998                                2       Escorpio                   47451   \n",
       "2999                                3    Capricornio                   27511   \n",
       "\n",
       "      fecha_de_elaboracion_del_auto  \n",
       "0                              2002  \n",
       "1                              1989  \n",
       "2                              1998  \n",
       "3                              2013  \n",
       "4                              2006  \n",
       "...                             ...  \n",
       "2995                           2016  \n",
       "2996                           2008  \n",
       "2997                           1988  \n",
       "2998                           1996  \n",
       "2999                           1984  \n",
       "\n",
       "[2966 rows x 7 columns]"
      ]
     },
     "execution_count": 64,
     "metadata": {},
     "output_type": "execute_result"
    }
   ],
   "source": [
    "df_taller_mecanico"
   ]
  },
  {
   "cell_type": "markdown",
   "metadata": {},
   "source": [
    "___"
   ]
  },
  {
   "cell_type": "markdown",
   "metadata": {},
   "source": [
    "# 8) Agrupaciones\n",
    "\n",
    "a. Cantidad de autos por marca_del_auto\n",
    "\n",
    "b. Tiempo promedio de reperacion por marca_del_auto\n",
    "\n",
    "c. Tiempo promedio de reperacion por tipo_de_motor y marca_del_auto\n",
    "\n",
    "d. ¿Qué marca de auto tiene más cantidad_de_ruedas_a_reemplazar?\n",
    "\n"
   ]
  },
  {
   "cell_type": "code",
   "execution_count": 65,
   "metadata": {},
   "outputs": [
    {
     "data": {
      "text/html": [
       "<div>\n",
       "<style scoped>\n",
       "    .dataframe tbody tr th:only-of-type {\n",
       "        vertical-align: middle;\n",
       "    }\n",
       "\n",
       "    .dataframe tbody tr th {\n",
       "        vertical-align: top;\n",
       "    }\n",
       "\n",
       "    .dataframe thead th {\n",
       "        text-align: right;\n",
       "    }\n",
       "</style>\n",
       "<table border=\"1\" class=\"dataframe\">\n",
       "  <thead>\n",
       "    <tr style=\"text-align: right;\">\n",
       "      <th></th>\n",
       "      <th>marca_del_auto</th>\n",
       "      <th>cantidad_de_autos_por_marca</th>\n",
       "    </tr>\n",
       "  </thead>\n",
       "  <tbody>\n",
       "    <tr>\n",
       "      <th>0</th>\n",
       "      <td>Ford</td>\n",
       "      <td>1001</td>\n",
       "    </tr>\n",
       "    <tr>\n",
       "      <th>1</th>\n",
       "      <td>Honda</td>\n",
       "      <td>1004</td>\n",
       "    </tr>\n",
       "    <tr>\n",
       "      <th>2</th>\n",
       "      <td>Toyota</td>\n",
       "      <td>961</td>\n",
       "    </tr>\n",
       "  </tbody>\n",
       "</table>\n",
       "</div>"
      ],
      "text/plain": [
       "  marca_del_auto  cantidad_de_autos_por_marca\n",
       "0           Ford                         1001\n",
       "1          Honda                         1004\n",
       "2         Toyota                          961"
      ]
     },
     "execution_count": 65,
     "metadata": {},
     "output_type": "execute_result"
    }
   ],
   "source": [
    "# A) \n",
    "\n",
    "cantidad_de_autos_por_marca = df_taller_mecanico.groupby('marca_del_auto').agg({'marca_del_auto': 'count'}).rename(columns={'marca_del_auto': 'cantidad_de_autos_por_marca'}).reset_index()\n",
    "cantidad_de_autos_por_marca"
   ]
  },
  {
   "cell_type": "code",
   "execution_count": 66,
   "metadata": {},
   "outputs": [
    {
     "data": {
      "text/html": [
       "<div>\n",
       "<style scoped>\n",
       "    .dataframe tbody tr th:only-of-type {\n",
       "        vertical-align: middle;\n",
       "    }\n",
       "\n",
       "    .dataframe tbody tr th {\n",
       "        vertical-align: top;\n",
       "    }\n",
       "\n",
       "    .dataframe thead th {\n",
       "        text-align: right;\n",
       "    }\n",
       "</style>\n",
       "<table border=\"1\" class=\"dataframe\">\n",
       "  <thead>\n",
       "    <tr style=\"text-align: right;\">\n",
       "      <th></th>\n",
       "      <th>marca_del_auto</th>\n",
       "      <th>tiempo_de_reparacion_en_minutos</th>\n",
       "    </tr>\n",
       "  </thead>\n",
       "  <tbody>\n",
       "    <tr>\n",
       "      <th>0</th>\n",
       "      <td>Ford</td>\n",
       "      <td>1566.731269</td>\n",
       "    </tr>\n",
       "    <tr>\n",
       "      <th>1</th>\n",
       "      <td>Honda</td>\n",
       "      <td>1717.853586</td>\n",
       "    </tr>\n",
       "    <tr>\n",
       "      <th>2</th>\n",
       "      <td>Toyota</td>\n",
       "      <td>1759.600416</td>\n",
       "    </tr>\n",
       "  </tbody>\n",
       "</table>\n",
       "</div>"
      ],
      "text/plain": [
       "  marca_del_auto  tiempo_de_reparacion_en_minutos\n",
       "0           Ford                      1566.731269\n",
       "1          Honda                      1717.853586\n",
       "2         Toyota                      1759.600416"
      ]
     },
     "execution_count": 66,
     "metadata": {},
     "output_type": "execute_result"
    }
   ],
   "source": [
    "# B) \n",
    "\n",
    "tiempo_promedio_de_reparacion_por_auto = df_taller_mecanico.groupby('marca_del_auto').agg({'tiempo_de_reparacion_en_minutos': 'mean'}).reset_index()\n",
    "\n",
    "tiempo_promedio_de_reparacion_por_auto"
   ]
  },
  {
   "cell_type": "code",
   "execution_count": 67,
   "metadata": {},
   "outputs": [
    {
     "data": {
      "text/html": [
       "<div>\n",
       "<style scoped>\n",
       "    .dataframe tbody tr th:only-of-type {\n",
       "        vertical-align: middle;\n",
       "    }\n",
       "\n",
       "    .dataframe tbody tr th {\n",
       "        vertical-align: top;\n",
       "    }\n",
       "\n",
       "    .dataframe thead th {\n",
       "        text-align: right;\n",
       "    }\n",
       "</style>\n",
       "<table border=\"1\" class=\"dataframe\">\n",
       "  <thead>\n",
       "    <tr style=\"text-align: right;\">\n",
       "      <th></th>\n",
       "      <th>marca_del_auto</th>\n",
       "      <th>tipo_de_motor</th>\n",
       "      <th>tiempo_de_reparacion_en_minutos</th>\n",
       "    </tr>\n",
       "  </thead>\n",
       "  <tbody>\n",
       "    <tr>\n",
       "      <th>0</th>\n",
       "      <td>Ford</td>\n",
       "      <td>Diesel</td>\n",
       "      <td>1144.913313</td>\n",
       "    </tr>\n",
       "    <tr>\n",
       "      <th>1</th>\n",
       "      <td>Ford</td>\n",
       "      <td>Electrico</td>\n",
       "      <td>2127.190332</td>\n",
       "    </tr>\n",
       "    <tr>\n",
       "      <th>2</th>\n",
       "      <td>Ford</td>\n",
       "      <td>Gasolina</td>\n",
       "      <td>1424.757925</td>\n",
       "    </tr>\n",
       "    <tr>\n",
       "      <th>3</th>\n",
       "      <td>Honda</td>\n",
       "      <td>Diesel</td>\n",
       "      <td>1322.561562</td>\n",
       "    </tr>\n",
       "    <tr>\n",
       "      <th>4</th>\n",
       "      <td>Honda</td>\n",
       "      <td>Electrico</td>\n",
       "      <td>2282.159639</td>\n",
       "    </tr>\n",
       "    <tr>\n",
       "      <th>5</th>\n",
       "      <td>Honda</td>\n",
       "      <td>Gasolina</td>\n",
       "      <td>1553.495575</td>\n",
       "    </tr>\n",
       "    <tr>\n",
       "      <th>6</th>\n",
       "      <td>Toyota</td>\n",
       "      <td>Diesel</td>\n",
       "      <td>1269.043344</td>\n",
       "    </tr>\n",
       "    <tr>\n",
       "      <th>7</th>\n",
       "      <td>Toyota</td>\n",
       "      <td>Electrico</td>\n",
       "      <td>2344.578462</td>\n",
       "    </tr>\n",
       "    <tr>\n",
       "      <th>8</th>\n",
       "      <td>Toyota</td>\n",
       "      <td>Gasolina</td>\n",
       "      <td>1658.424920</td>\n",
       "    </tr>\n",
       "  </tbody>\n",
       "</table>\n",
       "</div>"
      ],
      "text/plain": [
       "  marca_del_auto tipo_de_motor  tiempo_de_reparacion_en_minutos\n",
       "0           Ford        Diesel                      1144.913313\n",
       "1           Ford     Electrico                      2127.190332\n",
       "2           Ford      Gasolina                      1424.757925\n",
       "3          Honda        Diesel                      1322.561562\n",
       "4          Honda     Electrico                      2282.159639\n",
       "5          Honda      Gasolina                      1553.495575\n",
       "6         Toyota        Diesel                      1269.043344\n",
       "7         Toyota     Electrico                      2344.578462\n",
       "8         Toyota      Gasolina                      1658.424920"
      ]
     },
     "execution_count": 67,
     "metadata": {},
     "output_type": "execute_result"
    }
   ],
   "source": [
    "# C)\n",
    "\n",
    "tiempo_promedio_de_reparacion_por_tipo_de_motor_y_marca_del_auto = df_taller_mecanico.groupby(['marca_del_auto', 'tipo_de_motor']).agg({'tiempo_de_reparacion_en_minutos': 'mean'}).reset_index()\n",
    "\n",
    "tiempo_promedio_de_reparacion_por_tipo_de_motor_y_marca_del_auto"
   ]
  },
  {
   "cell_type": "code",
   "execution_count": 68,
   "metadata": {},
   "outputs": [
    {
     "data": {
      "text/plain": [
       "<Axes: xlabel='marca_del_auto', ylabel='tiempo_de_reparacion_en_minutos'>"
      ]
     },
     "execution_count": 68,
     "metadata": {},
     "output_type": "execute_result"
    },
    {
     "data": {
      "image/png": "[encoded data removed]",
      "text/plain": [
       "<Figure size 640x480 with 1 Axes>"
      ]
     },
     "metadata": {},
     "output_type": "display_data"
    }
   ],
   "source": [
    "sns.barplot(x='marca_del_auto', y='tiempo_de_reparacion_en_minutos', hue='tipo_de_motor', data=tiempo_promedio_de_reparacion_por_tipo_de_motor_y_marca_del_auto, edgecolor='black')\n"
   ]
  },
  {
   "cell_type": "markdown",
   "metadata": {},
   "source": [
    "### → Los autos eléctricos son los que mas tiempo llevan en repararse. Esto se debe a que son autos que no son muy comunes y por lo tanto no hay muchos mecánicos que sepan como repararlos. Por lo tanto, los mecánicos que saben repararlos, tienen mucho trabajo y no pueden repararlos en poco tiempo."
   ]
  },
  {
   "cell_type": "code",
   "execution_count": 69,
   "metadata": {},
   "outputs": [
    {
     "data": {
      "text/html": [
       "<div>\n",
       "<style scoped>\n",
       "    .dataframe tbody tr th:only-of-type {\n",
       "        vertical-align: middle;\n",
       "    }\n",
       "\n",
       "    .dataframe tbody tr th {\n",
       "        vertical-align: top;\n",
       "    }\n",
       "\n",
       "    .dataframe thead th {\n",
       "        text-align: right;\n",
       "    }\n",
       "</style>\n",
       "<table border=\"1\" class=\"dataframe\">\n",
       "  <thead>\n",
       "    <tr style=\"text-align: right;\">\n",
       "      <th></th>\n",
       "      <th>marca_del_auto</th>\n",
       "      <th>cantidad_de_ruedas_a_reemplazar</th>\n",
       "    </tr>\n",
       "  </thead>\n",
       "  <tbody>\n",
       "    <tr>\n",
       "      <th>0</th>\n",
       "      <td>Ford</td>\n",
       "      <td>2561</td>\n",
       "    </tr>\n",
       "    <tr>\n",
       "      <th>1</th>\n",
       "      <td>Honda</td>\n",
       "      <td>2483</td>\n",
       "    </tr>\n",
       "    <tr>\n",
       "      <th>2</th>\n",
       "      <td>Toyota</td>\n",
       "      <td>2403</td>\n",
       "    </tr>\n",
       "  </tbody>\n",
       "</table>\n",
       "</div>"
      ],
      "text/plain": [
       "  marca_del_auto  cantidad_de_ruedas_a_reemplazar\n",
       "0           Ford                             2561\n",
       "1          Honda                             2483\n",
       "2         Toyota                             2403"
      ]
     },
     "execution_count": 69,
     "metadata": {},
     "output_type": "execute_result"
    }
   ],
   "source": [
    "# D)\n",
    "\n",
    "cantidad_de_ruedas_a_reemplazar_por_marca_del_auto = df_taller_mecanico.groupby('marca_del_auto').agg({'cantidad_de_ruedas_a_reemplazar': 'sum'}).reset_index()\n",
    "\n",
    "cantidad_de_ruedas_a_reemplazar_por_marca_del_auto"
   ]
  },
  {
   "cell_type": "markdown",
   "metadata": {},
   "source": [
    "___"
   ]
  },
  {
   "cell_type": "markdown",
   "metadata": {},
   "source": [
    "# 9) ¿Cómo fue evolucionando la cantidad de autos reparados por decadas?"
   ]
  },
  {
   "cell_type": "code",
   "execution_count": 70,
   "metadata": {},
   "outputs": [
    {
     "data": {
      "text/plain": [
       "1980"
      ]
     },
     "execution_count": 70,
     "metadata": {},
     "output_type": "execute_result"
    }
   ],
   "source": [
    "df_taller_mecanico[\"fecha_de_elaboracion_del_auto\"].min()"
   ]
  },
  {
   "cell_type": "code",
   "execution_count": 71,
   "metadata": {},
   "outputs": [
    {
     "data": {
      "text/plain": [
       "2019"
      ]
     },
     "execution_count": 71,
     "metadata": {},
     "output_type": "execute_result"
    }
   ],
   "source": [
    "df_taller_mecanico[\"fecha_de_elaboracion_del_auto\"].max()"
   ]
  },
  {
   "cell_type": "code",
   "execution_count": 72,
   "metadata": {},
   "outputs": [],
   "source": [
    "def decadas(x):\n",
    "    if x >= 1980 and x < 1990:\n",
    "        return \"1980's\"\n",
    "    elif x >= 1990 and x < 2000:\n",
    "        return \"1990's\"\n",
    "    elif x >= 2000 and x < 2010:\n",
    "        return \"2000's\"\n",
    "    elif x >= 2010 and x < 2020:\n",
    "        return \"2010's\"\n",
    "    elif x >= 2020 and x < 2030:\n",
    "        return \"2020's\"\n",
    "\n",
    "df_taller_mecanico['decadas'] = df_taller_mecanico['fecha_de_elaboracion_del_auto'].apply(decadas)"
   ]
  },
  {
   "cell_type": "code",
   "execution_count": 73,
   "metadata": {},
   "outputs": [
    {
     "data": {
      "text/html": [
       "<div>\n",
       "<style scoped>\n",
       "    .dataframe tbody tr th:only-of-type {\n",
       "        vertical-align: middle;\n",
       "    }\n",
       "\n",
       "    .dataframe tbody tr th {\n",
       "        vertical-align: top;\n",
       "    }\n",
       "\n",
       "    .dataframe thead th {\n",
       "        text-align: right;\n",
       "    }\n",
       "</style>\n",
       "<table border=\"1\" class=\"dataframe\">\n",
       "  <thead>\n",
       "    <tr style=\"text-align: right;\">\n",
       "      <th></th>\n",
       "      <th>tiempo_de_reparacion_en_minutos</th>\n",
       "      <th>tipo_de_motor</th>\n",
       "      <th>marca_del_auto</th>\n",
       "      <th>cantidad_de_ruedas_a_reemplazar</th>\n",
       "      <th>signo_del_auto</th>\n",
       "      <th>cantidad_de_kilometros</th>\n",
       "      <th>fecha_de_elaboracion_del_auto</th>\n",
       "      <th>decadas</th>\n",
       "    </tr>\n",
       "  </thead>\n",
       "  <tbody>\n",
       "    <tr>\n",
       "      <th>0</th>\n",
       "      <td>2406</td>\n",
       "      <td>Gasolina</td>\n",
       "      <td>Toyota</td>\n",
       "      <td>4</td>\n",
       "      <td>Piscis</td>\n",
       "      <td>81760</td>\n",
       "      <td>2002</td>\n",
       "      <td>2000's</td>\n",
       "    </tr>\n",
       "    <tr>\n",
       "      <th>1</th>\n",
       "      <td>2776</td>\n",
       "      <td>Electrico</td>\n",
       "      <td>Honda</td>\n",
       "      <td>3</td>\n",
       "      <td>Virgo</td>\n",
       "      <td>91959</td>\n",
       "      <td>1989</td>\n",
       "      <td>1980's</td>\n",
       "    </tr>\n",
       "    <tr>\n",
       "      <th>2</th>\n",
       "      <td>1122</td>\n",
       "      <td>Diesel</td>\n",
       "      <td>Honda</td>\n",
       "      <td>3</td>\n",
       "      <td>Acuario</td>\n",
       "      <td>82800</td>\n",
       "      <td>1998</td>\n",
       "      <td>1990's</td>\n",
       "    </tr>\n",
       "    <tr>\n",
       "      <th>3</th>\n",
       "      <td>639</td>\n",
       "      <td>Gasolina</td>\n",
       "      <td>Honda</td>\n",
       "      <td>4</td>\n",
       "      <td>Virgo</td>\n",
       "      <td>19724</td>\n",
       "      <td>2013</td>\n",
       "      <td>2010's</td>\n",
       "    </tr>\n",
       "    <tr>\n",
       "      <th>4</th>\n",
       "      <td>1494</td>\n",
       "      <td>Electrico</td>\n",
       "      <td>Honda</td>\n",
       "      <td>1</td>\n",
       "      <td>Acuario</td>\n",
       "      <td>36123</td>\n",
       "      <td>2006</td>\n",
       "      <td>2000's</td>\n",
       "    </tr>\n",
       "    <tr>\n",
       "      <th>...</th>\n",
       "      <td>...</td>\n",
       "      <td>...</td>\n",
       "      <td>...</td>\n",
       "      <td>...</td>\n",
       "      <td>...</td>\n",
       "      <td>...</td>\n",
       "      <td>...</td>\n",
       "      <td>...</td>\n",
       "    </tr>\n",
       "    <tr>\n",
       "      <th>2995</th>\n",
       "      <td>496</td>\n",
       "      <td>Gasolina</td>\n",
       "      <td>Toyota</td>\n",
       "      <td>4</td>\n",
       "      <td>Escorpio</td>\n",
       "      <td>6928</td>\n",
       "      <td>2016</td>\n",
       "      <td>2010's</td>\n",
       "    </tr>\n",
       "    <tr>\n",
       "      <th>2996</th>\n",
       "      <td>866</td>\n",
       "      <td>Electrico</td>\n",
       "      <td>Ford</td>\n",
       "      <td>2</td>\n",
       "      <td>Virgo</td>\n",
       "      <td>85837</td>\n",
       "      <td>2008</td>\n",
       "      <td>2000's</td>\n",
       "    </tr>\n",
       "    <tr>\n",
       "      <th>2997</th>\n",
       "      <td>618</td>\n",
       "      <td>Diesel</td>\n",
       "      <td>Ford</td>\n",
       "      <td>2</td>\n",
       "      <td>Géminis</td>\n",
       "      <td>74030</td>\n",
       "      <td>1988</td>\n",
       "      <td>1980's</td>\n",
       "    </tr>\n",
       "    <tr>\n",
       "      <th>2998</th>\n",
       "      <td>2322</td>\n",
       "      <td>Electrico</td>\n",
       "      <td>Toyota</td>\n",
       "      <td>2</td>\n",
       "      <td>Escorpio</td>\n",
       "      <td>47451</td>\n",
       "      <td>1996</td>\n",
       "      <td>1990's</td>\n",
       "    </tr>\n",
       "    <tr>\n",
       "      <th>2999</th>\n",
       "      <td>2212</td>\n",
       "      <td>Gasolina</td>\n",
       "      <td>Honda</td>\n",
       "      <td>3</td>\n",
       "      <td>Capricornio</td>\n",
       "      <td>27511</td>\n",
       "      <td>1984</td>\n",
       "      <td>1980's</td>\n",
       "    </tr>\n",
       "  </tbody>\n",
       "</table>\n",
       "<p>2966 rows × 8 columns</p>\n",
       "</div>"
      ],
      "text/plain": [
       "      tiempo_de_reparacion_en_minutos tipo_de_motor marca_del_auto  \\\n",
       "0                                2406      Gasolina         Toyota   \n",
       "1                                2776     Electrico          Honda   \n",
       "2                                1122        Diesel          Honda   \n",
       "3                                 639      Gasolina          Honda   \n",
       "4                                1494     Electrico          Honda   \n",
       "...                               ...           ...            ...   \n",
       "2995                              496      Gasolina         Toyota   \n",
       "2996                              866     Electrico           Ford   \n",
       "2997                              618        Diesel           Ford   \n",
       "2998                             2322     Electrico         Toyota   \n",
       "2999                             2212      Gasolina          Honda   \n",
       "\n",
       "      cantidad_de_ruedas_a_reemplazar signo_del_auto  cantidad_de_kilometros  \\\n",
       "0                                   4         Piscis                   81760   \n",
       "1                                   3          Virgo                   91959   \n",
       "2                                   3        Acuario                   82800   \n",
       "3                                   4          Virgo                   19724   \n",
       "4                                   1        Acuario                   36123   \n",
       "...                               ...            ...                     ...   \n",
       "2995                                4       Escorpio                    6928   \n",
       "2996                                2          Virgo                   85837   \n",
       "2997                                2        Géminis                   74030   \n",
       "2998                                2       Escorpio                   47451   \n",
       "2999                                3    Capricornio                   27511   \n",
       "\n",
       "      fecha_de_elaboracion_del_auto decadas  \n",
       "0                              2002  2000's  \n",
       "1                              1989  1980's  \n",
       "2                              1998  1990's  \n",
       "3                              2013  2010's  \n",
       "4                              2006  2000's  \n",
       "...                             ...     ...  \n",
       "2995                           2016  2010's  \n",
       "2996                           2008  2000's  \n",
       "2997                           1988  1980's  \n",
       "2998                           1996  1990's  \n",
       "2999                           1984  1980's  \n",
       "\n",
       "[2966 rows x 8 columns]"
      ]
     },
     "execution_count": 73,
     "metadata": {},
     "output_type": "execute_result"
    }
   ],
   "source": [
    "df_taller_mecanico"
   ]
  },
  {
   "cell_type": "code",
   "execution_count": 74,
   "metadata": {},
   "outputs": [
    {
     "data": {
      "text/html": [
       "<div>\n",
       "<style scoped>\n",
       "    .dataframe tbody tr th:only-of-type {\n",
       "        vertical-align: middle;\n",
       "    }\n",
       "\n",
       "    .dataframe tbody tr th {\n",
       "        vertical-align: top;\n",
       "    }\n",
       "\n",
       "    .dataframe thead th {\n",
       "        text-align: right;\n",
       "    }\n",
       "</style>\n",
       "<table border=\"1\" class=\"dataframe\">\n",
       "  <thead>\n",
       "    <tr style=\"text-align: right;\">\n",
       "      <th></th>\n",
       "      <th>decadas</th>\n",
       "      <th>cantidad_de_autos_por_decada</th>\n",
       "    </tr>\n",
       "  </thead>\n",
       "  <tbody>\n",
       "    <tr>\n",
       "      <th>0</th>\n",
       "      <td>1980's</td>\n",
       "      <td>744</td>\n",
       "    </tr>\n",
       "    <tr>\n",
       "      <th>1</th>\n",
       "      <td>1990's</td>\n",
       "      <td>754</td>\n",
       "    </tr>\n",
       "    <tr>\n",
       "      <th>2</th>\n",
       "      <td>2000's</td>\n",
       "      <td>780</td>\n",
       "    </tr>\n",
       "    <tr>\n",
       "      <th>3</th>\n",
       "      <td>2010's</td>\n",
       "      <td>688</td>\n",
       "    </tr>\n",
       "  </tbody>\n",
       "</table>\n",
       "</div>"
      ],
      "text/plain": [
       "  decadas  cantidad_de_autos_por_decada\n",
       "0  1980's                           744\n",
       "1  1990's                           754\n",
       "2  2000's                           780\n",
       "3  2010's                           688"
      ]
     },
     "execution_count": 74,
     "metadata": {},
     "output_type": "execute_result"
    }
   ],
   "source": [
    "cantidad_de_autos_por_decada = df_taller_mecanico.groupby('decadas').agg({'decadas': 'count'}).rename(columns={'decadas': 'cantidad_de_autos_por_decada'}).reset_index()\n",
    "\n",
    "cantidad_de_autos_por_decada"
   ]
  },
  {
   "cell_type": "code",
   "execution_count": 75,
   "metadata": {},
   "outputs": [
    {
     "data": {
      "text/plain": [
       "<Axes: xlabel='decadas', ylabel='cantidad_de_autos_por_decada'>"
      ]
     },
     "execution_count": 75,
     "metadata": {},
     "output_type": "execute_result"
    },
    {
     "data": {
      "image/png": "[encoded data removed]",
      "text/plain": [
       "<Figure size 640x480 with 1 Axes>"
      ]
     },
     "metadata": {},
     "output_type": "display_data"
    }
   ],
   "source": [
    "sns.lineplot(x='decadas', y='cantidad_de_autos_por_decada', data=cantidad_de_autos_por_decada, marker='s', color='blue')"
   ]
  },
  {
   "cell_type": "markdown",
   "metadata": {},
   "source": [
    "### → La cantidad de autos entre los años 2000 y 2010 decreció notablemente. Paso de tener un maximo en 780, a un mínimo de 688 autos."
   ]
  },
  {
   "cell_type": "markdown",
   "metadata": {},
   "source": [
    "___"
   ]
  },
  {
   "cell_type": "markdown",
   "metadata": {},
   "source": [
    "# 10) ¿Cómo fue evolucionando la cantidad de tiempo en minutos para reparar los autos por decadas?"
   ]
  },
  {
   "cell_type": "code",
   "execution_count": 76,
   "metadata": {},
   "outputs": [
    {
     "data": {
      "text/html": [
       "<div>\n",
       "<style scoped>\n",
       "    .dataframe tbody tr th:only-of-type {\n",
       "        vertical-align: middle;\n",
       "    }\n",
       "\n",
       "    .dataframe tbody tr th {\n",
       "        vertical-align: top;\n",
       "    }\n",
       "\n",
       "    .dataframe thead th {\n",
       "        text-align: right;\n",
       "    }\n",
       "</style>\n",
       "<table border=\"1\" class=\"dataframe\">\n",
       "  <thead>\n",
       "    <tr style=\"text-align: right;\">\n",
       "      <th></th>\n",
       "      <th>decadas</th>\n",
       "      <th>tiempo_de_reparacion_en_minutos</th>\n",
       "    </tr>\n",
       "  </thead>\n",
       "  <tbody>\n",
       "    <tr>\n",
       "      <th>0</th>\n",
       "      <td>1980's</td>\n",
       "      <td>1828.245968</td>\n",
       "    </tr>\n",
       "    <tr>\n",
       "      <th>1</th>\n",
       "      <td>1990's</td>\n",
       "      <td>1712.285146</td>\n",
       "    </tr>\n",
       "    <tr>\n",
       "      <th>2</th>\n",
       "      <td>2000's</td>\n",
       "      <td>1648.350000</td>\n",
       "    </tr>\n",
       "    <tr>\n",
       "      <th>3</th>\n",
       "      <td>2010's</td>\n",
       "      <td>1521.813953</td>\n",
       "    </tr>\n",
       "  </tbody>\n",
       "</table>\n",
       "</div>"
      ],
      "text/plain": [
       "  decadas  tiempo_de_reparacion_en_minutos\n",
       "0  1980's                      1828.245968\n",
       "1  1990's                      1712.285146\n",
       "2  2000's                      1648.350000\n",
       "3  2010's                      1521.813953"
      ]
     },
     "execution_count": 76,
     "metadata": {},
     "output_type": "execute_result"
    }
   ],
   "source": [
    "tiempo_promedio_de_reparacion_por_decada = df_taller_mecanico.groupby('decadas').agg({'tiempo_de_reparacion_en_minutos': 'mean'}).reset_index()\n",
    "tiempo_promedio_de_reparacion_por_decada"
   ]
  },
  {
   "cell_type": "code",
   "execution_count": 77,
   "metadata": {},
   "outputs": [
    {
     "data": {
      "text/plain": [
       "<Axes: xlabel='decadas', ylabel='tiempo_de_reparacion_en_minutos'>"
      ]
     },
     "execution_count": 77,
     "metadata": {},
     "output_type": "execute_result"
    },
    {
     "data": {
      "image/png": "[encoded data removed]",
      "text/plain": [
       "<Figure size 640x480 with 1 Axes>"
      ]
     },
     "metadata": {},
     "output_type": "display_data"
    }
   ],
   "source": [
    "\n",
    "sns.lineplot(x='decadas', y='tiempo_de_reparacion_en_minutos', data=tiempo_promedio_de_reparacion_por_decada, marker='s', color='blue')"
   ]
  },
  {
   "cell_type": "markdown",
   "metadata": {},
   "source": [
    "### → El tiempo de reparacion de los autos fue decreciendo a lo largo del tiempo. Esto puede ser debido a que el taller mejoró sus maquinarias o porque también sumó operarios. \n",
    "### → Por otro lado, esto pudo haber sucedido debido a que a partir de la decada de los 2000 entraron menos autos al taller, entonces se puede llegar a decir que la muestra es menos representativa."
   ]
  },
  {
   "cell_type": "markdown",
   "metadata": {},
   "source": [
    "___"
   ]
  },
  {
   "cell_type": "markdown",
   "metadata": {},
   "source": [
    "# 11) ¿Cómo fue evolucionando la cantidad de tiempo en minutos por marca de auto para reparar los autos por decadas?"
   ]
  },
  {
   "cell_type": "code",
   "execution_count": 78,
   "metadata": {},
   "outputs": [
    {
     "data": {
      "text/plain": [
       "<Axes: xlabel='decadas', ylabel='tiempo_de_reparacion_en_minutos'>"
      ]
     },
     "execution_count": 78,
     "metadata": {},
     "output_type": "execute_result"
    },
    {
     "data": {
      "image/png": "[encoded data removed]",
      "text/plain": [
       "<Figure size 640x480 with 1 Axes>"
      ]
     },
     "metadata": {},
     "output_type": "display_data"
    }
   ],
   "source": [
    "tiempo_promedio_de_reparacion_por_decada_y_marca_del_auto = df_taller_mecanico.groupby(['decadas', 'marca_del_auto']).agg({'tiempo_de_reparacion_en_minutos': 'mean'}).reset_index()\n",
    "\n",
    "tiempo_promedio_de_reparacion_por_decada_y_marca_del_auto\n",
    "\n",
    "sns.lineplot(x='decadas', y='tiempo_de_reparacion_en_minutos', hue='marca_del_auto', data=tiempo_promedio_de_reparacion_por_decada_y_marca_del_auto, marker='s', color='blue')"
   ]
  },
  {
   "cell_type": "markdown",
   "metadata": {},
   "source": [
    "___"
   ]
  },
  {
   "cell_type": "markdown",
   "metadata": {},
   "source": [
    "# 12) ¿Cómo fue variando la cantidad de kilometros recorridos por tipo de motor por decadas?"
   ]
  },
  {
   "cell_type": "code",
   "execution_count": 85,
   "metadata": {},
   "outputs": [
    {
     "data": {
      "text/html": [
       "<div>\n",
       "<style scoped>\n",
       "    .dataframe tbody tr th:only-of-type {\n",
       "        vertical-align: middle;\n",
       "    }\n",
       "\n",
       "    .dataframe tbody tr th {\n",
       "        vertical-align: top;\n",
       "    }\n",
       "\n",
       "    .dataframe thead th {\n",
       "        text-align: right;\n",
       "    }\n",
       "</style>\n",
       "<table border=\"1\" class=\"dataframe\">\n",
       "  <thead>\n",
       "    <tr style=\"text-align: right;\">\n",
       "      <th></th>\n",
       "      <th>decadas</th>\n",
       "      <th>tipo_de_motor</th>\n",
       "      <th>cantidad_de_kilometros</th>\n",
       "    </tr>\n",
       "  </thead>\n",
       "  <tbody>\n",
       "    <tr>\n",
       "      <th>0</th>\n",
       "      <td>1980's</td>\n",
       "      <td>Diesel</td>\n",
       "      <td>12519645</td>\n",
       "    </tr>\n",
       "    <tr>\n",
       "      <th>1</th>\n",
       "      <td>1980's</td>\n",
       "      <td>Electrico</td>\n",
       "      <td>11742595</td>\n",
       "    </tr>\n",
       "    <tr>\n",
       "      <th>2</th>\n",
       "      <td>1980's</td>\n",
       "      <td>Gasolina</td>\n",
       "      <td>12254539</td>\n",
       "    </tr>\n",
       "    <tr>\n",
       "      <th>3</th>\n",
       "      <td>1990's</td>\n",
       "      <td>Diesel</td>\n",
       "      <td>12429898</td>\n",
       "    </tr>\n",
       "    <tr>\n",
       "      <th>4</th>\n",
       "      <td>1990's</td>\n",
       "      <td>Electrico</td>\n",
       "      <td>13244319</td>\n",
       "    </tr>\n",
       "    <tr>\n",
       "      <th>5</th>\n",
       "      <td>1990's</td>\n",
       "      <td>Gasolina</td>\n",
       "      <td>12453840</td>\n",
       "    </tr>\n",
       "    <tr>\n",
       "      <th>6</th>\n",
       "      <td>2000's</td>\n",
       "      <td>Diesel</td>\n",
       "      <td>13115153</td>\n",
       "    </tr>\n",
       "    <tr>\n",
       "      <th>7</th>\n",
       "      <td>2000's</td>\n",
       "      <td>Electrico</td>\n",
       "      <td>13461974</td>\n",
       "    </tr>\n",
       "    <tr>\n",
       "      <th>8</th>\n",
       "      <td>2000's</td>\n",
       "      <td>Gasolina</td>\n",
       "      <td>12947690</td>\n",
       "    </tr>\n",
       "    <tr>\n",
       "      <th>9</th>\n",
       "      <td>2010's</td>\n",
       "      <td>Diesel</td>\n",
       "      <td>10384839</td>\n",
       "    </tr>\n",
       "    <tr>\n",
       "      <th>10</th>\n",
       "      <td>2010's</td>\n",
       "      <td>Electrico</td>\n",
       "      <td>11162706</td>\n",
       "    </tr>\n",
       "    <tr>\n",
       "      <th>11</th>\n",
       "      <td>2010's</td>\n",
       "      <td>Gasolina</td>\n",
       "      <td>12656920</td>\n",
       "    </tr>\n",
       "  </tbody>\n",
       "</table>\n",
       "</div>"
      ],
      "text/plain": [
       "   decadas tipo_de_motor  cantidad_de_kilometros\n",
       "0   1980's        Diesel                12519645\n",
       "1   1980's     Electrico                11742595\n",
       "2   1980's      Gasolina                12254539\n",
       "3   1990's        Diesel                12429898\n",
       "4   1990's     Electrico                13244319\n",
       "5   1990's      Gasolina                12453840\n",
       "6   2000's        Diesel                13115153\n",
       "7   2000's     Electrico                13461974\n",
       "8   2000's      Gasolina                12947690\n",
       "9   2010's        Diesel                10384839\n",
       "10  2010's     Electrico                11162706\n",
       "11  2010's      Gasolina                12656920"
      ]
     },
     "execution_count": 85,
     "metadata": {},
     "output_type": "execute_result"
    }
   ],
   "source": [
    "cantidad_de_kilometros_por_decada_y_tipo_de_motor = df_taller_mecanico.groupby(['decadas', 'tipo_de_motor']).agg({'cantidad_de_kilometros': 'sum'}).reset_index()\n",
    "\n",
    "cantidad_de_kilometros_por_decada_y_tipo_de_motor"
   ]
  },
  {
   "cell_type": "code",
   "execution_count": 84,
   "metadata": {},
   "outputs": [
    {
     "data": {
      "text/plain": [
       "<Axes: xlabel='decadas', ylabel='cantidad_de_kilometros'>"
      ]
     },
     "execution_count": 84,
     "metadata": {},
     "output_type": "execute_result"
    },
    {
     "data": {
      "image/png": "[encoded data removed]",
      "text/plain": [
       "<Figure size 640x480 with 1 Axes>"
      ]
     },
     "metadata": {},
     "output_type": "display_data"
    }
   ],
   "source": [
    "sns.lineplot(x='decadas', y='cantidad_de_kilometros', hue='tipo_de_motor', data=cantidad_de_kilometros_por_decada_y_tipo_de_motor, marker='s', color='blue')"
   ]
  },
  {
   "cell_type": "markdown",
   "metadata": {},
   "source": [
    "### → Podemos decir que los autos electricos son los que más kilometros recorren, entonces se puede llegar a decir que son los que más autonomía tienen."
   ]
  },
  {
   "cell_type": "markdown",
   "metadata": {},
   "source": [
    "___"
   ]
  },
  {
   "cell_type": "markdown",
   "metadata": {},
   "source": [
    "# *_TEORÍA_*"
   ]
  },
  {
   "cell_type": "markdown",
   "metadata": {},
   "source": [
    "# 1) Teniendo en cuenta este dataset ¿Qué problema podrías resolver con Machine Learning?\n",
    "\n",
    "#### Un problema que se podría resolver con Machine Learning con este dataframe, es predecir el tiempo que va a tardar en repararse un auto. Para esto, se debería entrenar un modelo de regresión con las variables \"tiempo_de_reparacion\" y \"cantidad_de_kilometros\". Luego, se debería predecir el tiempo de reparacion de un auto con las variables \"cantidad_de_kilometros\" y \"marca_del_auto\"."
   ]
  },
  {
   "cell_type": "markdown",
   "metadata": {},
   "source": [
    "# 2) En caso de embarcarse en una tarea de Machine Learning. Describa el proceso CRISPDM y expliquelo para este caso."
   ]
  },
  {
   "cell_type": "markdown",
   "metadata": {},
   "source": [
    "# 3) ¿Qué decisión del negocio o tarea se podría automatizar o escalar? ¿Por qué?\n",
    "\n",
    "#### Con el modelo que se desarrolle se podría escalar la tarea de reparar autos. Esto se debe a que se podría predecir el tiempo de reparacion de un auto y así poder organizar mejor el trabajo de los mecánicos. Por ejemplo, si se sabe que un auto va a tardar 1 semana en repararse, se puede organizar el trabajo de los mecánicos para que en esa semana no entren más autos al taller. De esta manera, se puede evitar que los mecánicos tengan que trabajar horas extras."
   ]
  }
 ],
 "metadata": {
  "kernelspec": {
   "display_name": "POO-env",
   "language": "python",
   "name": "python3"
  },
  "language_info": {
   "codemirror_mode": {
    "name": "ipython",
    "version": 3
   },
   "file_extension": ".py",
   "mimetype": "text/x-python",
   "name": "python",
   "nbconvert_exporter": "python",
   "pygments_lexer": "ipython3",
   "version": "3.11.4"
  },
  "orig_nbformat": 4
 },
 "nbformat": 4,
 "nbformat_minor": 2
}
