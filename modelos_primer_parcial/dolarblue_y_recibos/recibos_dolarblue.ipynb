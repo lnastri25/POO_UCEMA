{
 "cells": [
  {
   "cell_type": "code",
   "execution_count": 1,
   "metadata": {},
   "outputs": [
    {
     "name": "stdout",
     "output_type": "stream",
     "text": [
      "Intel MKL WARNING: Support of Intel(R) Streaming SIMD Extensions 4.2 (Intel(R) SSE4.2) enabled only processors has been deprecated. Intel oneAPI Math Kernel Library 2025.0 will require Intel(R) Advanced Vector Extensions (Intel(R) AVX) instructions.\n",
      "Intel MKL WARNING: Support of Intel(R) Streaming SIMD Extensions 4.2 (Intel(R) SSE4.2) enabled only processors has been deprecated. Intel oneAPI Math Kernel Library 2025.0 will require Intel(R) Advanced Vector Extensions (Intel(R) AVX) instructions.\n"
     ]
    }
   ],
   "source": [
    "import pandas as pd\n",
    "import seaborn as sns\n",
    "import matplotlib.pyplot as plt\n",
    "import numpy as np\n"
   ]
  },
  {
   "cell_type": "code",
   "execution_count": null,
   "metadata": {},
   "outputs": [],
   "source": []
  },
  {
   "cell_type": "code",
   "execution_count": 2,
   "metadata": {},
   "outputs": [
    {
     "data": {
      "text/html": [
       "<div>\n",
       "<style scoped>\n",
       "    .dataframe tbody tr th:only-of-type {\n",
       "        vertical-align: middle;\n",
       "    }\n",
       "\n",
       "    .dataframe tbody tr th {\n",
       "        vertical-align: top;\n",
       "    }\n",
       "\n",
       "    .dataframe thead th {\n",
       "        text-align: right;\n",
       "    }\n",
       "</style>\n",
       "<table border=\"1\" class=\"dataframe\">\n",
       "  <thead>\n",
       "    <tr style=\"text-align: right;\">\n",
       "      <th></th>\n",
       "      <th>Unnamed: 0</th>\n",
       "      <th>Nro Comprobante</th>\n",
       "      <th>Fecha</th>\n",
       "      <th>Total</th>\n",
       "      <th>ID_cliente</th>\n",
       "    </tr>\n",
       "  </thead>\n",
       "  <tbody>\n",
       "    <tr>\n",
       "      <th>0</th>\n",
       "      <td>0</td>\n",
       "      <td>FAC B0001-00000001</td>\n",
       "      <td>2015-12-10</td>\n",
       "      <td>1.00</td>\n",
       "      <td>675.0</td>\n",
       "    </tr>\n",
       "    <tr>\n",
       "      <th>1</th>\n",
       "      <td>1</td>\n",
       "      <td>FAC B0001-00000002</td>\n",
       "      <td>2015-12-10</td>\n",
       "      <td>1.00</td>\n",
       "      <td>675.0</td>\n",
       "    </tr>\n",
       "    <tr>\n",
       "      <th>2</th>\n",
       "      <td>2</td>\n",
       "      <td>FAC B0001-00000003</td>\n",
       "      <td>2015-12-28</td>\n",
       "      <td>999.99</td>\n",
       "      <td>123.0</td>\n",
       "    </tr>\n",
       "    <tr>\n",
       "      <th>3</th>\n",
       "      <td>3</td>\n",
       "      <td>FAC B0001-00000004</td>\n",
       "      <td>2015-12-28</td>\n",
       "      <td>34.21</td>\n",
       "      <td>123.0</td>\n",
       "    </tr>\n",
       "    <tr>\n",
       "      <th>4</th>\n",
       "      <td>4</td>\n",
       "      <td>FAC B0001-00000005</td>\n",
       "      <td>2015-12-28</td>\n",
       "      <td>0.71</td>\n",
       "      <td>123.0</td>\n",
       "    </tr>\n",
       "    <tr>\n",
       "      <th>...</th>\n",
       "      <td>...</td>\n",
       "      <td>...</td>\n",
       "      <td>...</td>\n",
       "      <td>...</td>\n",
       "      <td>...</td>\n",
       "    </tr>\n",
       "    <tr>\n",
       "      <th>41329</th>\n",
       "      <td>41329</td>\n",
       "      <td>REC X0099-00006794</td>\n",
       "      <td>2018-09-04</td>\n",
       "      <td>2446.00</td>\n",
       "      <td>12.0</td>\n",
       "    </tr>\n",
       "    <tr>\n",
       "      <th>41330</th>\n",
       "      <td>41330</td>\n",
       "      <td>REC X0099-00006794</td>\n",
       "      <td>2014-09-04</td>\n",
       "      <td>NaN</td>\n",
       "      <td>NaN</td>\n",
       "    </tr>\n",
       "    <tr>\n",
       "      <th>41331</th>\n",
       "      <td>41331</td>\n",
       "      <td>REC X0099-00006794</td>\n",
       "      <td>2014-09-04</td>\n",
       "      <td>NaN</td>\n",
       "      <td>NaN</td>\n",
       "    </tr>\n",
       "    <tr>\n",
       "      <th>41332</th>\n",
       "      <td>41333</td>\n",
       "      <td>REC X0099-00006794</td>\n",
       "      <td>2022-09-04</td>\n",
       "      <td>NaN</td>\n",
       "      <td>NaN</td>\n",
       "    </tr>\n",
       "    <tr>\n",
       "      <th>41333</th>\n",
       "      <td>41334</td>\n",
       "      <td>REC X0099-00006794</td>\n",
       "      <td>2022-03-01</td>\n",
       "      <td>10000000.00</td>\n",
       "      <td>NaN</td>\n",
       "    </tr>\n",
       "  </tbody>\n",
       "</table>\n",
       "<p>41334 rows × 5 columns</p>\n",
       "</div>"
      ],
      "text/plain": [
       "       Unnamed: 0     Nro Comprobante       Fecha        Total  ID_cliente\n",
       "0               0  FAC B0001-00000001  2015-12-10         1.00       675.0\n",
       "1               1  FAC B0001-00000002  2015-12-10         1.00       675.0\n",
       "2               2  FAC B0001-00000003  2015-12-28       999.99       123.0\n",
       "3               3  FAC B0001-00000004  2015-12-28        34.21       123.0\n",
       "4               4  FAC B0001-00000005  2015-12-28         0.71       123.0\n",
       "...           ...                 ...         ...          ...         ...\n",
       "41329       41329  REC X0099-00006794  2018-09-04      2446.00        12.0\n",
       "41330       41330  REC X0099-00006794  2014-09-04          NaN         NaN\n",
       "41331       41331  REC X0099-00006794  2014-09-04          NaN         NaN\n",
       "41332       41333  REC X0099-00006794  2022-09-04          NaN         NaN\n",
       "41333       41334  REC X0099-00006794  2022-03-01  10000000.00         NaN\n",
       "\n",
       "[41334 rows x 5 columns]"
      ]
     },
     "execution_count": 2,
     "metadata": {},
     "output_type": "execute_result"
    }
   ],
   "source": [
    "comprobantes = pd.read_csv('/Users/lolonastri/Desktop/POO_UCEMA/modelos_primer_parcial/dolarblue_y_recibos/recibos_facts_debitos.csv')\n",
    "comprobantes"
   ]
  },
  {
   "cell_type": "markdown",
   "metadata": {},
   "source": [
    "___"
   ]
  },
  {
   "cell_type": "markdown",
   "metadata": {},
   "source": [
    "# 1) Cuáles son las características principales del DF?\n",
    "\n",
    "a. Cantidad de rows y columnas.\n",
    "\n",
    "b. Clases de datos"
   ]
  },
  {
   "cell_type": "code",
   "execution_count": 3,
   "metadata": {},
   "outputs": [
    {
     "data": {
      "text/plain": [
       "(41334, 5)"
      ]
     },
     "execution_count": 3,
     "metadata": {},
     "output_type": "execute_result"
    }
   ],
   "source": [
    "# A) Cantidad de rows y columnas\n",
    "\n",
    "comprobantes.shape"
   ]
  },
  {
   "cell_type": "code",
   "execution_count": 4,
   "metadata": {},
   "outputs": [
    {
     "name": "stdout",
     "output_type": "stream",
     "text": [
      "Este dataset tiene 41334 filas y 5 columnas\n"
     ]
    }
   ],
   "source": [
    "print(\"Este dataset tiene \" + str(comprobantes.shape[0]) + \" filas y \" + str(comprobantes.shape[1]) + \" columnas\")"
   ]
  },
  {
   "cell_type": "code",
   "execution_count": 5,
   "metadata": {},
   "outputs": [
    {
     "data": {
      "text/plain": [
       "Unnamed: 0           int64\n",
       "Nro Comprobante     object\n",
       "Fecha               object\n",
       "Total              float64\n",
       "ID_cliente         float64\n",
       "dtype: object"
      ]
     },
     "execution_count": 5,
     "metadata": {},
     "output_type": "execute_result"
    }
   ],
   "source": [
    "# B) Clases de datos\n",
    "\n",
    "comprobantes.dtypes"
   ]
  },
  {
   "cell_type": "markdown",
   "metadata": {},
   "source": [
    "___"
   ]
  },
  {
   "cell_type": "markdown",
   "metadata": {},
   "source": [
    "# 2) El dataset cuenta con datos faltantes?\n",
    "\n",
    "a. Muestre la cantidad de faltantes por columnas\n",
    "\n",
    "b. Que porcentaje de faltantes hay\n",
    "\n",
    "c. Muestre las filas con datos faltantes\n",
    "\n",
    "d. Sí hay faltantes, ¿Cómo procederán a hacer el tratamiento de los mismos?\n",
    "\n",
    "e. Haga el tratamiento de los valores faltantes en caso de creerlo necesario"
   ]
  },
  {
   "cell_type": "code",
   "execution_count": 6,
   "metadata": {},
   "outputs": [
    {
     "data": {
      "text/plain": [
       "Unnamed: 0         0\n",
       "Nro Comprobante    0\n",
       "Fecha              0\n",
       "Total              3\n",
       "ID_cliente         4\n",
       "dtype: int64"
      ]
     },
     "execution_count": 6,
     "metadata": {},
     "output_type": "execute_result"
    }
   ],
   "source": [
    "# A) Muestre la cantidad de faltantes por columnas\n",
    "\n",
    "comprobantes.isna().sum()"
   ]
  },
  {
   "cell_type": "code",
   "execution_count": 7,
   "metadata": {},
   "outputs": [
    {
     "data": {
      "text/plain": [
       "Unnamed: 0         0.000000\n",
       "Nro Comprobante    0.000000\n",
       "Fecha              0.000000\n",
       "Total              0.000073\n",
       "ID_cliente         0.000097\n",
       "dtype: float64"
      ]
     },
     "execution_count": 7,
     "metadata": {},
     "output_type": "execute_result"
    }
   ],
   "source": [
    "# B) Que porcentaje de faltantes hay\n",
    "\n",
    "(comprobantes.isna().sum()/len(comprobantes)).round(6)"
   ]
  },
  {
   "cell_type": "code",
   "execution_count": 8,
   "metadata": {},
   "outputs": [
    {
     "data": {
      "text/html": [
       "<div>\n",
       "<style scoped>\n",
       "    .dataframe tbody tr th:only-of-type {\n",
       "        vertical-align: middle;\n",
       "    }\n",
       "\n",
       "    .dataframe tbody tr th {\n",
       "        vertical-align: top;\n",
       "    }\n",
       "\n",
       "    .dataframe thead th {\n",
       "        text-align: right;\n",
       "    }\n",
       "</style>\n",
       "<table border=\"1\" class=\"dataframe\">\n",
       "  <thead>\n",
       "    <tr style=\"text-align: right;\">\n",
       "      <th></th>\n",
       "      <th>Unnamed: 0</th>\n",
       "      <th>Nro Comprobante</th>\n",
       "      <th>Fecha</th>\n",
       "      <th>Total</th>\n",
       "      <th>ID_cliente</th>\n",
       "    </tr>\n",
       "  </thead>\n",
       "  <tbody>\n",
       "    <tr>\n",
       "      <th>41330</th>\n",
       "      <td>41330</td>\n",
       "      <td>REC X0099-00006794</td>\n",
       "      <td>2014-09-04</td>\n",
       "      <td>NaN</td>\n",
       "      <td>NaN</td>\n",
       "    </tr>\n",
       "    <tr>\n",
       "      <th>41331</th>\n",
       "      <td>41331</td>\n",
       "      <td>REC X0099-00006794</td>\n",
       "      <td>2014-09-04</td>\n",
       "      <td>NaN</td>\n",
       "      <td>NaN</td>\n",
       "    </tr>\n",
       "    <tr>\n",
       "      <th>41332</th>\n",
       "      <td>41333</td>\n",
       "      <td>REC X0099-00006794</td>\n",
       "      <td>2022-09-04</td>\n",
       "      <td>NaN</td>\n",
       "      <td>NaN</td>\n",
       "    </tr>\n",
       "    <tr>\n",
       "      <th>41333</th>\n",
       "      <td>41334</td>\n",
       "      <td>REC X0099-00006794</td>\n",
       "      <td>2022-03-01</td>\n",
       "      <td>10000000.0</td>\n",
       "      <td>NaN</td>\n",
       "    </tr>\n",
       "  </tbody>\n",
       "</table>\n",
       "</div>"
      ],
      "text/plain": [
       "       Unnamed: 0     Nro Comprobante       Fecha       Total  ID_cliente\n",
       "41330       41330  REC X0099-00006794  2014-09-04         NaN         NaN\n",
       "41331       41331  REC X0099-00006794  2014-09-04         NaN         NaN\n",
       "41332       41333  REC X0099-00006794  2022-09-04         NaN         NaN\n",
       "41333       41334  REC X0099-00006794  2022-03-01  10000000.0         NaN"
      ]
     },
     "execution_count": 8,
     "metadata": {},
     "output_type": "execute_result"
    }
   ],
   "source": [
    "# C) Muestre las filas con datos faltantes\n",
    "\n",
    "comprobantes[comprobantes.isna().any(axis=1)]"
   ]
  },
  {
   "cell_type": "code",
   "execution_count": 9,
   "metadata": {},
   "outputs": [
    {
     "data": {
      "text/plain": [
       "Nro Comprobante\n",
       "REC X0099-00006794    6\n",
       "N/D B0099-00010127    1\n",
       "N/D B0099-00010149    1\n",
       "N/D B0099-00010150    1\n",
       "N/D B0099-00010151    1\n",
       "                     ..\n",
       "N/D B0001-00000417    1\n",
       "N/D B0001-00000418    1\n",
       "N/D B0001-00000419    1\n",
       "N/D B0001-00000420    1\n",
       "N/D B0099-00003262    1\n",
       "Name: count, Length: 41329, dtype: int64"
      ]
     },
     "execution_count": 9,
     "metadata": {},
     "output_type": "execute_result"
    }
   ],
   "source": [
    "# D) Sí hay faltantes, ¿Cómo procederán a hacer el tratamiento de los mismos?\n",
    "\n",
    "comprobantes[\"Nro Comprobante\"].value_counts()"
   ]
  },
  {
   "cell_type": "code",
   "execution_count": 10,
   "metadata": {},
   "outputs": [
    {
     "data": {
      "text/html": [
       "<div>\n",
       "<style scoped>\n",
       "    .dataframe tbody tr th:only-of-type {\n",
       "        vertical-align: middle;\n",
       "    }\n",
       "\n",
       "    .dataframe tbody tr th {\n",
       "        vertical-align: top;\n",
       "    }\n",
       "\n",
       "    .dataframe thead th {\n",
       "        text-align: right;\n",
       "    }\n",
       "</style>\n",
       "<table border=\"1\" class=\"dataframe\">\n",
       "  <thead>\n",
       "    <tr style=\"text-align: right;\">\n",
       "      <th></th>\n",
       "      <th>Unnamed: 0</th>\n",
       "      <th>Nro Comprobante</th>\n",
       "      <th>Fecha</th>\n",
       "      <th>Total</th>\n",
       "      <th>ID_cliente</th>\n",
       "    </tr>\n",
       "  </thead>\n",
       "  <tbody>\n",
       "    <tr>\n",
       "      <th>41329</th>\n",
       "      <td>41329</td>\n",
       "      <td>REC X0099-00006794</td>\n",
       "      <td>2018-09-04</td>\n",
       "      <td>2446.0</td>\n",
       "      <td>12.0</td>\n",
       "    </tr>\n",
       "    <tr>\n",
       "      <th>41330</th>\n",
       "      <td>41330</td>\n",
       "      <td>REC X0099-00006794</td>\n",
       "      <td>2014-09-04</td>\n",
       "      <td>NaN</td>\n",
       "      <td>NaN</td>\n",
       "    </tr>\n",
       "    <tr>\n",
       "      <th>41331</th>\n",
       "      <td>41331</td>\n",
       "      <td>REC X0099-00006794</td>\n",
       "      <td>2014-09-04</td>\n",
       "      <td>NaN</td>\n",
       "      <td>NaN</td>\n",
       "    </tr>\n",
       "    <tr>\n",
       "      <th>41332</th>\n",
       "      <td>41333</td>\n",
       "      <td>REC X0099-00006794</td>\n",
       "      <td>2022-09-04</td>\n",
       "      <td>NaN</td>\n",
       "      <td>NaN</td>\n",
       "    </tr>\n",
       "    <tr>\n",
       "      <th>41333</th>\n",
       "      <td>41334</td>\n",
       "      <td>REC X0099-00006794</td>\n",
       "      <td>2022-03-01</td>\n",
       "      <td>10000000.0</td>\n",
       "      <td>NaN</td>\n",
       "    </tr>\n",
       "  </tbody>\n",
       "</table>\n",
       "</div>"
      ],
      "text/plain": [
       "       Unnamed: 0     Nro Comprobante       Fecha       Total  ID_cliente\n",
       "41329       41329  REC X0099-00006794  2018-09-04      2446.0        12.0\n",
       "41330       41330  REC X0099-00006794  2014-09-04         NaN         NaN\n",
       "41331       41331  REC X0099-00006794  2014-09-04         NaN         NaN\n",
       "41332       41333  REC X0099-00006794  2022-09-04         NaN         NaN\n",
       "41333       41334  REC X0099-00006794  2022-03-01  10000000.0         NaN"
      ]
     },
     "execution_count": 10,
     "metadata": {},
     "output_type": "execute_result"
    }
   ],
   "source": [
    "comprobantes_repetidos = comprobantes[(comprobantes[\"Nro Comprobante\"] == \"REC X0099-00006794\") & (comprobantes[\"Unnamed: 0\"] != 41328)] # Me quedo solamente con este comprobante\n",
    "comprobantes_repetidos"
   ]
  },
  {
   "cell_type": "code",
   "execution_count": 11,
   "metadata": {},
   "outputs": [
    {
     "data": {
      "text/html": [
       "<div>\n",
       "<style scoped>\n",
       "    .dataframe tbody tr th:only-of-type {\n",
       "        vertical-align: middle;\n",
       "    }\n",
       "\n",
       "    .dataframe tbody tr th {\n",
       "        vertical-align: top;\n",
       "    }\n",
       "\n",
       "    .dataframe thead th {\n",
       "        text-align: right;\n",
       "    }\n",
       "</style>\n",
       "<table border=\"1\" class=\"dataframe\">\n",
       "  <thead>\n",
       "    <tr style=\"text-align: right;\">\n",
       "      <th></th>\n",
       "      <th>Unnamed: 0</th>\n",
       "      <th>Nro Comprobante</th>\n",
       "      <th>Fecha</th>\n",
       "      <th>Total</th>\n",
       "      <th>ID_cliente</th>\n",
       "    </tr>\n",
       "  </thead>\n",
       "  <tbody>\n",
       "    <tr>\n",
       "      <th>0</th>\n",
       "      <td>0</td>\n",
       "      <td>FAC B0001-00000001</td>\n",
       "      <td>2015-12-10</td>\n",
       "      <td>1.00</td>\n",
       "      <td>675.0</td>\n",
       "    </tr>\n",
       "    <tr>\n",
       "      <th>1</th>\n",
       "      <td>1</td>\n",
       "      <td>FAC B0001-00000002</td>\n",
       "      <td>2015-12-10</td>\n",
       "      <td>1.00</td>\n",
       "      <td>675.0</td>\n",
       "    </tr>\n",
       "    <tr>\n",
       "      <th>2</th>\n",
       "      <td>2</td>\n",
       "      <td>FAC B0001-00000003</td>\n",
       "      <td>2015-12-28</td>\n",
       "      <td>999.99</td>\n",
       "      <td>123.0</td>\n",
       "    </tr>\n",
       "    <tr>\n",
       "      <th>3</th>\n",
       "      <td>3</td>\n",
       "      <td>FAC B0001-00000004</td>\n",
       "      <td>2015-12-28</td>\n",
       "      <td>34.21</td>\n",
       "      <td>123.0</td>\n",
       "    </tr>\n",
       "    <tr>\n",
       "      <th>4</th>\n",
       "      <td>4</td>\n",
       "      <td>FAC B0001-00000005</td>\n",
       "      <td>2015-12-28</td>\n",
       "      <td>0.71</td>\n",
       "      <td>123.0</td>\n",
       "    </tr>\n",
       "    <tr>\n",
       "      <th>...</th>\n",
       "      <td>...</td>\n",
       "      <td>...</td>\n",
       "      <td>...</td>\n",
       "      <td>...</td>\n",
       "      <td>...</td>\n",
       "    </tr>\n",
       "    <tr>\n",
       "      <th>41324</th>\n",
       "      <td>41324</td>\n",
       "      <td>REC X0099-00006790</td>\n",
       "      <td>2018-09-04</td>\n",
       "      <td>2000.00</td>\n",
       "      <td>16.0</td>\n",
       "    </tr>\n",
       "    <tr>\n",
       "      <th>41325</th>\n",
       "      <td>41325</td>\n",
       "      <td>REC X0099-00006791</td>\n",
       "      <td>2018-09-04</td>\n",
       "      <td>1000.00</td>\n",
       "      <td>931.0</td>\n",
       "    </tr>\n",
       "    <tr>\n",
       "      <th>41326</th>\n",
       "      <td>41326</td>\n",
       "      <td>REC X0099-00006792</td>\n",
       "      <td>2018-09-04</td>\n",
       "      <td>2550.00</td>\n",
       "      <td>650.0</td>\n",
       "    </tr>\n",
       "    <tr>\n",
       "      <th>41327</th>\n",
       "      <td>41327</td>\n",
       "      <td>REC X0099-00006793</td>\n",
       "      <td>2018-09-04</td>\n",
       "      <td>2900.00</td>\n",
       "      <td>528.0</td>\n",
       "    </tr>\n",
       "    <tr>\n",
       "      <th>41328</th>\n",
       "      <td>41328</td>\n",
       "      <td>REC X0099-00006794</td>\n",
       "      <td>2018-09-04</td>\n",
       "      <td>2446.00</td>\n",
       "      <td>12.0</td>\n",
       "    </tr>\n",
       "  </tbody>\n",
       "</table>\n",
       "<p>41329 rows × 5 columns</p>\n",
       "</div>"
      ],
      "text/plain": [
       "       Unnamed: 0     Nro Comprobante       Fecha    Total  ID_cliente\n",
       "0               0  FAC B0001-00000001  2015-12-10     1.00       675.0\n",
       "1               1  FAC B0001-00000002  2015-12-10     1.00       675.0\n",
       "2               2  FAC B0001-00000003  2015-12-28   999.99       123.0\n",
       "3               3  FAC B0001-00000004  2015-12-28    34.21       123.0\n",
       "4               4  FAC B0001-00000005  2015-12-28     0.71       123.0\n",
       "...           ...                 ...         ...      ...         ...\n",
       "41324       41324  REC X0099-00006790  2018-09-04  2000.00        16.0\n",
       "41325       41325  REC X0099-00006791  2018-09-04  1000.00       931.0\n",
       "41326       41326  REC X0099-00006792  2018-09-04  2550.00       650.0\n",
       "41327       41327  REC X0099-00006793  2018-09-04  2900.00       528.0\n",
       "41328       41328  REC X0099-00006794  2018-09-04  2446.00        12.0\n",
       "\n",
       "[41329 rows x 5 columns]"
      ]
     },
     "execution_count": 11,
     "metadata": {},
     "output_type": "execute_result"
    }
   ],
   "source": [
    "# E) Haga el tratamiento de los valores faltantes en caso de creerlo necesario\n",
    "\n",
    "comprobantes = comprobantes.drop(comprobantes_repetidos.index, axis=0) # Borro las filas que no me sirven\n",
    "comprobantes"
   ]
  },
  {
   "cell_type": "code",
   "execution_count": 12,
   "metadata": {},
   "outputs": [
    {
     "data": {
      "text/html": [
       "<div>\n",
       "<style scoped>\n",
       "    .dataframe tbody tr th:only-of-type {\n",
       "        vertical-align: middle;\n",
       "    }\n",
       "\n",
       "    .dataframe tbody tr th {\n",
       "        vertical-align: top;\n",
       "    }\n",
       "\n",
       "    .dataframe thead th {\n",
       "        text-align: right;\n",
       "    }\n",
       "</style>\n",
       "<table border=\"1\" class=\"dataframe\">\n",
       "  <thead>\n",
       "    <tr style=\"text-align: right;\">\n",
       "      <th></th>\n",
       "      <th>Unnamed: 0</th>\n",
       "      <th>Nro Comprobante</th>\n",
       "      <th>Fecha</th>\n",
       "      <th>Total</th>\n",
       "      <th>ID_cliente</th>\n",
       "    </tr>\n",
       "  </thead>\n",
       "  <tbody>\n",
       "  </tbody>\n",
       "</table>\n",
       "</div>"
      ],
      "text/plain": [
       "Empty DataFrame\n",
       "Columns: [Unnamed: 0, Nro Comprobante, Fecha, Total, ID_cliente]\n",
       "Index: []"
      ]
     },
     "execution_count": 12,
     "metadata": {},
     "output_type": "execute_result"
    }
   ],
   "source": [
    "comprobantes[comprobantes.isna().any(axis=1)]"
   ]
  },
  {
   "cell_type": "markdown",
   "metadata": {},
   "source": [
    "___"
   ]
  },
  {
   "cell_type": "markdown",
   "metadata": {},
   "source": [
    "# 3) Imprima las estadísticas básicas del dataset."
   ]
  },
  {
   "cell_type": "code",
   "execution_count": 13,
   "metadata": {},
   "outputs": [
    {
     "data": {
      "text/html": [
       "<div>\n",
       "<style scoped>\n",
       "    .dataframe tbody tr th:only-of-type {\n",
       "        vertical-align: middle;\n",
       "    }\n",
       "\n",
       "    .dataframe tbody tr th {\n",
       "        vertical-align: top;\n",
       "    }\n",
       "\n",
       "    .dataframe thead th {\n",
       "        text-align: right;\n",
       "    }\n",
       "</style>\n",
       "<table border=\"1\" class=\"dataframe\">\n",
       "  <thead>\n",
       "    <tr style=\"text-align: right;\">\n",
       "      <th></th>\n",
       "      <th>Unnamed: 0</th>\n",
       "      <th>Total</th>\n",
       "      <th>ID_cliente</th>\n",
       "    </tr>\n",
       "  </thead>\n",
       "  <tbody>\n",
       "    <tr>\n",
       "      <th>count</th>\n",
       "      <td>41329.000000</td>\n",
       "      <td>41329.000000</td>\n",
       "      <td>41329.000000</td>\n",
       "    </tr>\n",
       "    <tr>\n",
       "      <th>mean</th>\n",
       "      <td>20664.000000</td>\n",
       "      <td>1060.476605</td>\n",
       "      <td>483.257543</td>\n",
       "    </tr>\n",
       "    <tr>\n",
       "      <th>std</th>\n",
       "      <td>11930.798974</td>\n",
       "      <td>1300.031764</td>\n",
       "      <td>274.810329</td>\n",
       "    </tr>\n",
       "    <tr>\n",
       "      <th>min</th>\n",
       "      <td>0.000000</td>\n",
       "      <td>0.000000</td>\n",
       "      <td>0.000000</td>\n",
       "    </tr>\n",
       "    <tr>\n",
       "      <th>25%</th>\n",
       "      <td>10332.000000</td>\n",
       "      <td>331.410000</td>\n",
       "      <td>242.000000</td>\n",
       "    </tr>\n",
       "    <tr>\n",
       "      <th>50%</th>\n",
       "      <td>20664.000000</td>\n",
       "      <td>998.980000</td>\n",
       "      <td>476.000000</td>\n",
       "    </tr>\n",
       "    <tr>\n",
       "      <th>75%</th>\n",
       "      <td>30996.000000</td>\n",
       "      <td>1000.000000</td>\n",
       "      <td>733.000000</td>\n",
       "    </tr>\n",
       "    <tr>\n",
       "      <th>max</th>\n",
       "      <td>41328.000000</td>\n",
       "      <td>56000.000000</td>\n",
       "      <td>964.000000</td>\n",
       "    </tr>\n",
       "  </tbody>\n",
       "</table>\n",
       "</div>"
      ],
      "text/plain": [
       "         Unnamed: 0         Total    ID_cliente\n",
       "count  41329.000000  41329.000000  41329.000000\n",
       "mean   20664.000000   1060.476605    483.257543\n",
       "std    11930.798974   1300.031764    274.810329\n",
       "min        0.000000      0.000000      0.000000\n",
       "25%    10332.000000    331.410000    242.000000\n",
       "50%    20664.000000    998.980000    476.000000\n",
       "75%    30996.000000   1000.000000    733.000000\n",
       "max    41328.000000  56000.000000    964.000000"
      ]
     },
     "execution_count": 13,
     "metadata": {},
     "output_type": "execute_result"
    }
   ],
   "source": [
    "comprobantes.describe()"
   ]
  },
  {
   "cell_type": "markdown",
   "metadata": {},
   "source": [
    "___"
   ]
  },
  {
   "cell_type": "markdown",
   "metadata": {},
   "source": [
    "# 4) ¿Qué es un dato outlier? ¿Cómo procedería al análisis del mismo?"
   ]
  },
  {
   "cell_type": "markdown",
   "metadata": {},
   "source": [
    "#### Un dato outlier es un dato que se encuentra muy alejado del resto de los datos, se lo conoce como anómalo. Para analizarlo, primero hay que ver si es un dato erroneo o no. Si es erroneo, se lo debe eliminar. Si no es erroneo, se lo debe analizar para ver si es un dato que se puede considerar como un outlier o no. Si es un outlier, se lo debe eliminar. Si no es un outlier, se lo debe dejar."
   ]
  },
  {
   "cell_type": "markdown",
   "metadata": {},
   "source": [
    "#### Un dato outlier es un dato que está fuera de la distribución de una variable. Muchas veces los valores outliers pueden ser datos mal imputados pero otras veces pueden aportar información importante sobre el caso. Por ejemplo en un caso de Fraude, los casos outliers pueden significar un patrón a analizar. En este dataset tenemos que el valor más cercano al valor máximo en el Valor Total a 10000000 es 56000 representando un 177% más respecto a este segundo valor."
   ]
  },
  {
   "cell_type": "markdown",
   "metadata": {},
   "source": [
    "___"
   ]
  },
  {
   "cell_type": "markdown",
   "metadata": {},
   "source": [
    "# 5) Cambie el nombre de las columnas a \"nro_comprobante\", \"fecha\",\"monto\",\"id_cliente\""
   ]
  },
  {
   "cell_type": "code",
   "execution_count": 14,
   "metadata": {},
   "outputs": [
    {
     "data": {
      "text/html": [
       "<div>\n",
       "<style scoped>\n",
       "    .dataframe tbody tr th:only-of-type {\n",
       "        vertical-align: middle;\n",
       "    }\n",
       "\n",
       "    .dataframe tbody tr th {\n",
       "        vertical-align: top;\n",
       "    }\n",
       "\n",
       "    .dataframe thead th {\n",
       "        text-align: right;\n",
       "    }\n",
       "</style>\n",
       "<table border=\"1\" class=\"dataframe\">\n",
       "  <thead>\n",
       "    <tr style=\"text-align: right;\">\n",
       "      <th></th>\n",
       "      <th>Unnamed: 0</th>\n",
       "      <th>Nro Comprobante</th>\n",
       "      <th>Fecha</th>\n",
       "      <th>Total</th>\n",
       "      <th>ID_cliente</th>\n",
       "    </tr>\n",
       "  </thead>\n",
       "  <tbody>\n",
       "    <tr>\n",
       "      <th>0</th>\n",
       "      <td>0</td>\n",
       "      <td>FAC B0001-00000001</td>\n",
       "      <td>2015-12-10</td>\n",
       "      <td>1.00</td>\n",
       "      <td>675.0</td>\n",
       "    </tr>\n",
       "    <tr>\n",
       "      <th>1</th>\n",
       "      <td>1</td>\n",
       "      <td>FAC B0001-00000002</td>\n",
       "      <td>2015-12-10</td>\n",
       "      <td>1.00</td>\n",
       "      <td>675.0</td>\n",
       "    </tr>\n",
       "    <tr>\n",
       "      <th>2</th>\n",
       "      <td>2</td>\n",
       "      <td>FAC B0001-00000003</td>\n",
       "      <td>2015-12-28</td>\n",
       "      <td>999.99</td>\n",
       "      <td>123.0</td>\n",
       "    </tr>\n",
       "    <tr>\n",
       "      <th>3</th>\n",
       "      <td>3</td>\n",
       "      <td>FAC B0001-00000004</td>\n",
       "      <td>2015-12-28</td>\n",
       "      <td>34.21</td>\n",
       "      <td>123.0</td>\n",
       "    </tr>\n",
       "    <tr>\n",
       "      <th>4</th>\n",
       "      <td>4</td>\n",
       "      <td>FAC B0001-00000005</td>\n",
       "      <td>2015-12-28</td>\n",
       "      <td>0.71</td>\n",
       "      <td>123.0</td>\n",
       "    </tr>\n",
       "    <tr>\n",
       "      <th>...</th>\n",
       "      <td>...</td>\n",
       "      <td>...</td>\n",
       "      <td>...</td>\n",
       "      <td>...</td>\n",
       "      <td>...</td>\n",
       "    </tr>\n",
       "    <tr>\n",
       "      <th>41324</th>\n",
       "      <td>41324</td>\n",
       "      <td>REC X0099-00006790</td>\n",
       "      <td>2018-09-04</td>\n",
       "      <td>2000.00</td>\n",
       "      <td>16.0</td>\n",
       "    </tr>\n",
       "    <tr>\n",
       "      <th>41325</th>\n",
       "      <td>41325</td>\n",
       "      <td>REC X0099-00006791</td>\n",
       "      <td>2018-09-04</td>\n",
       "      <td>1000.00</td>\n",
       "      <td>931.0</td>\n",
       "    </tr>\n",
       "    <tr>\n",
       "      <th>41326</th>\n",
       "      <td>41326</td>\n",
       "      <td>REC X0099-00006792</td>\n",
       "      <td>2018-09-04</td>\n",
       "      <td>2550.00</td>\n",
       "      <td>650.0</td>\n",
       "    </tr>\n",
       "    <tr>\n",
       "      <th>41327</th>\n",
       "      <td>41327</td>\n",
       "      <td>REC X0099-00006793</td>\n",
       "      <td>2018-09-04</td>\n",
       "      <td>2900.00</td>\n",
       "      <td>528.0</td>\n",
       "    </tr>\n",
       "    <tr>\n",
       "      <th>41328</th>\n",
       "      <td>41328</td>\n",
       "      <td>REC X0099-00006794</td>\n",
       "      <td>2018-09-04</td>\n",
       "      <td>2446.00</td>\n",
       "      <td>12.0</td>\n",
       "    </tr>\n",
       "  </tbody>\n",
       "</table>\n",
       "<p>41329 rows × 5 columns</p>\n",
       "</div>"
      ],
      "text/plain": [
       "       Unnamed: 0     Nro Comprobante       Fecha    Total  ID_cliente\n",
       "0               0  FAC B0001-00000001  2015-12-10     1.00       675.0\n",
       "1               1  FAC B0001-00000002  2015-12-10     1.00       675.0\n",
       "2               2  FAC B0001-00000003  2015-12-28   999.99       123.0\n",
       "3               3  FAC B0001-00000004  2015-12-28    34.21       123.0\n",
       "4               4  FAC B0001-00000005  2015-12-28     0.71       123.0\n",
       "...           ...                 ...         ...      ...         ...\n",
       "41324       41324  REC X0099-00006790  2018-09-04  2000.00        16.0\n",
       "41325       41325  REC X0099-00006791  2018-09-04  1000.00       931.0\n",
       "41326       41326  REC X0099-00006792  2018-09-04  2550.00       650.0\n",
       "41327       41327  REC X0099-00006793  2018-09-04  2900.00       528.0\n",
       "41328       41328  REC X0099-00006794  2018-09-04  2446.00        12.0\n",
       "\n",
       "[41329 rows x 5 columns]"
      ]
     },
     "execution_count": 14,
     "metadata": {},
     "output_type": "execute_result"
    }
   ],
   "source": [
    "comprobantes"
   ]
  },
  {
   "cell_type": "code",
   "execution_count": 15,
   "metadata": {},
   "outputs": [
    {
     "data": {
      "text/plain": [
       "Index(['Unnamed: 0', 'Nro Comprobante', 'Fecha', 'Total', 'ID_cliente'], dtype='object')"
      ]
     },
     "execution_count": 15,
     "metadata": {},
     "output_type": "execute_result"
    }
   ],
   "source": [
    "comprobantes.columns"
   ]
  },
  {
   "cell_type": "code",
   "execution_count": 16,
   "metadata": {},
   "outputs": [
    {
     "data": {
      "text/html": [
       "<div>\n",
       "<style scoped>\n",
       "    .dataframe tbody tr th:only-of-type {\n",
       "        vertical-align: middle;\n",
       "    }\n",
       "\n",
       "    .dataframe tbody tr th {\n",
       "        vertical-align: top;\n",
       "    }\n",
       "\n",
       "    .dataframe thead th {\n",
       "        text-align: right;\n",
       "    }\n",
       "</style>\n",
       "<table border=\"1\" class=\"dataframe\">\n",
       "  <thead>\n",
       "    <tr style=\"text-align: right;\">\n",
       "      <th></th>\n",
       "      <th>Unnamed: 0</th>\n",
       "      <th>nro_comprobante</th>\n",
       "      <th>fecha</th>\n",
       "      <th>monto</th>\n",
       "      <th>id_cliente</th>\n",
       "    </tr>\n",
       "  </thead>\n",
       "  <tbody>\n",
       "    <tr>\n",
       "      <th>0</th>\n",
       "      <td>0</td>\n",
       "      <td>FAC B0001-00000001</td>\n",
       "      <td>2015-12-10</td>\n",
       "      <td>1.00</td>\n",
       "      <td>675.0</td>\n",
       "    </tr>\n",
       "    <tr>\n",
       "      <th>1</th>\n",
       "      <td>1</td>\n",
       "      <td>FAC B0001-00000002</td>\n",
       "      <td>2015-12-10</td>\n",
       "      <td>1.00</td>\n",
       "      <td>675.0</td>\n",
       "    </tr>\n",
       "    <tr>\n",
       "      <th>2</th>\n",
       "      <td>2</td>\n",
       "      <td>FAC B0001-00000003</td>\n",
       "      <td>2015-12-28</td>\n",
       "      <td>999.99</td>\n",
       "      <td>123.0</td>\n",
       "    </tr>\n",
       "    <tr>\n",
       "      <th>3</th>\n",
       "      <td>3</td>\n",
       "      <td>FAC B0001-00000004</td>\n",
       "      <td>2015-12-28</td>\n",
       "      <td>34.21</td>\n",
       "      <td>123.0</td>\n",
       "    </tr>\n",
       "    <tr>\n",
       "      <th>4</th>\n",
       "      <td>4</td>\n",
       "      <td>FAC B0001-00000005</td>\n",
       "      <td>2015-12-28</td>\n",
       "      <td>0.71</td>\n",
       "      <td>123.0</td>\n",
       "    </tr>\n",
       "    <tr>\n",
       "      <th>...</th>\n",
       "      <td>...</td>\n",
       "      <td>...</td>\n",
       "      <td>...</td>\n",
       "      <td>...</td>\n",
       "      <td>...</td>\n",
       "    </tr>\n",
       "    <tr>\n",
       "      <th>41324</th>\n",
       "      <td>41324</td>\n",
       "      <td>REC X0099-00006790</td>\n",
       "      <td>2018-09-04</td>\n",
       "      <td>2000.00</td>\n",
       "      <td>16.0</td>\n",
       "    </tr>\n",
       "    <tr>\n",
       "      <th>41325</th>\n",
       "      <td>41325</td>\n",
       "      <td>REC X0099-00006791</td>\n",
       "      <td>2018-09-04</td>\n",
       "      <td>1000.00</td>\n",
       "      <td>931.0</td>\n",
       "    </tr>\n",
       "    <tr>\n",
       "      <th>41326</th>\n",
       "      <td>41326</td>\n",
       "      <td>REC X0099-00006792</td>\n",
       "      <td>2018-09-04</td>\n",
       "      <td>2550.00</td>\n",
       "      <td>650.0</td>\n",
       "    </tr>\n",
       "    <tr>\n",
       "      <th>41327</th>\n",
       "      <td>41327</td>\n",
       "      <td>REC X0099-00006793</td>\n",
       "      <td>2018-09-04</td>\n",
       "      <td>2900.00</td>\n",
       "      <td>528.0</td>\n",
       "    </tr>\n",
       "    <tr>\n",
       "      <th>41328</th>\n",
       "      <td>41328</td>\n",
       "      <td>REC X0099-00006794</td>\n",
       "      <td>2018-09-04</td>\n",
       "      <td>2446.00</td>\n",
       "      <td>12.0</td>\n",
       "    </tr>\n",
       "  </tbody>\n",
       "</table>\n",
       "<p>41329 rows × 5 columns</p>\n",
       "</div>"
      ],
      "text/plain": [
       "       Unnamed: 0     nro_comprobante       fecha    monto  id_cliente\n",
       "0               0  FAC B0001-00000001  2015-12-10     1.00       675.0\n",
       "1               1  FAC B0001-00000002  2015-12-10     1.00       675.0\n",
       "2               2  FAC B0001-00000003  2015-12-28   999.99       123.0\n",
       "3               3  FAC B0001-00000004  2015-12-28    34.21       123.0\n",
       "4               4  FAC B0001-00000005  2015-12-28     0.71       123.0\n",
       "...           ...                 ...         ...      ...         ...\n",
       "41324       41324  REC X0099-00006790  2018-09-04  2000.00        16.0\n",
       "41325       41325  REC X0099-00006791  2018-09-04  1000.00       931.0\n",
       "41326       41326  REC X0099-00006792  2018-09-04  2550.00       650.0\n",
       "41327       41327  REC X0099-00006793  2018-09-04  2900.00       528.0\n",
       "41328       41328  REC X0099-00006794  2018-09-04  2446.00        12.0\n",
       "\n",
       "[41329 rows x 5 columns]"
      ]
     },
     "execution_count": 16,
     "metadata": {},
     "output_type": "execute_result"
    }
   ],
   "source": [
    "comprobantes.rename(columns={\"Nro Comprobante\": \"nro_comprobante\", \"Fecha\": \"fecha\", \"Total\": \"monto\", \"ID_cliente\": \"id_cliente\"}, inplace=True)\n",
    "comprobantes"
   ]
  },
  {
   "cell_type": "markdown",
   "metadata": {},
   "source": [
    "___"
   ]
  },
  {
   "cell_type": "markdown",
   "metadata": {},
   "source": [
    "# 6) ¿Cuantos clientes únicos hay en el dataset?"
   ]
  },
  {
   "cell_type": "code",
   "execution_count": 17,
   "metadata": {},
   "outputs": [
    {
     "data": {
      "text/plain": [
       "965"
      ]
     },
     "execution_count": 17,
     "metadata": {},
     "output_type": "execute_result"
    }
   ],
   "source": [
    "comprobantes[\"id_cliente\"].nunique()"
   ]
  },
  {
   "cell_type": "markdown",
   "metadata": {},
   "source": [
    "____"
   ]
  },
  {
   "cell_type": "markdown",
   "metadata": {},
   "source": [
    "# 7) Cree una nueva columna que llamada “tipo” que consista en agarrar la columna “nro_comprobante” y separar el primer string dejando sólo si es recibo, factura, nota de débito o nota de crédito.\n",
    "\n",
    "Hints!\n",
    "a. .apply(lambda x:x.split(\" \")[0])"
   ]
  },
  {
   "cell_type": "code",
   "execution_count": 18,
   "metadata": {},
   "outputs": [],
   "source": [
    "def columna_tipo(x):\n",
    "    tipo = x.split(\" \")[0]\n",
    "    return tipo\n",
    "    \n",
    "\n",
    "comprobantes[\"tipo\"] = comprobantes['nro_comprobante'].apply(columna_tipo)"
   ]
  },
  {
   "cell_type": "code",
   "execution_count": 19,
   "metadata": {},
   "outputs": [
    {
     "data": {
      "text/html": [
       "<div>\n",
       "<style scoped>\n",
       "    .dataframe tbody tr th:only-of-type {\n",
       "        vertical-align: middle;\n",
       "    }\n",
       "\n",
       "    .dataframe tbody tr th {\n",
       "        vertical-align: top;\n",
       "    }\n",
       "\n",
       "    .dataframe thead th {\n",
       "        text-align: right;\n",
       "    }\n",
       "</style>\n",
       "<table border=\"1\" class=\"dataframe\">\n",
       "  <thead>\n",
       "    <tr style=\"text-align: right;\">\n",
       "      <th></th>\n",
       "      <th>Unnamed: 0</th>\n",
       "      <th>nro_comprobante</th>\n",
       "      <th>fecha</th>\n",
       "      <th>monto</th>\n",
       "      <th>id_cliente</th>\n",
       "      <th>tipo</th>\n",
       "    </tr>\n",
       "  </thead>\n",
       "  <tbody>\n",
       "    <tr>\n",
       "      <th>0</th>\n",
       "      <td>0</td>\n",
       "      <td>FAC B0001-00000001</td>\n",
       "      <td>2015-12-10</td>\n",
       "      <td>1.00</td>\n",
       "      <td>675.0</td>\n",
       "      <td>FAC</td>\n",
       "    </tr>\n",
       "    <tr>\n",
       "      <th>1</th>\n",
       "      <td>1</td>\n",
       "      <td>FAC B0001-00000002</td>\n",
       "      <td>2015-12-10</td>\n",
       "      <td>1.00</td>\n",
       "      <td>675.0</td>\n",
       "      <td>FAC</td>\n",
       "    </tr>\n",
       "    <tr>\n",
       "      <th>2</th>\n",
       "      <td>2</td>\n",
       "      <td>FAC B0001-00000003</td>\n",
       "      <td>2015-12-28</td>\n",
       "      <td>999.99</td>\n",
       "      <td>123.0</td>\n",
       "      <td>FAC</td>\n",
       "    </tr>\n",
       "    <tr>\n",
       "      <th>3</th>\n",
       "      <td>3</td>\n",
       "      <td>FAC B0001-00000004</td>\n",
       "      <td>2015-12-28</td>\n",
       "      <td>34.21</td>\n",
       "      <td>123.0</td>\n",
       "      <td>FAC</td>\n",
       "    </tr>\n",
       "    <tr>\n",
       "      <th>4</th>\n",
       "      <td>4</td>\n",
       "      <td>FAC B0001-00000005</td>\n",
       "      <td>2015-12-28</td>\n",
       "      <td>0.71</td>\n",
       "      <td>123.0</td>\n",
       "      <td>FAC</td>\n",
       "    </tr>\n",
       "    <tr>\n",
       "      <th>...</th>\n",
       "      <td>...</td>\n",
       "      <td>...</td>\n",
       "      <td>...</td>\n",
       "      <td>...</td>\n",
       "      <td>...</td>\n",
       "      <td>...</td>\n",
       "    </tr>\n",
       "    <tr>\n",
       "      <th>41324</th>\n",
       "      <td>41324</td>\n",
       "      <td>REC X0099-00006790</td>\n",
       "      <td>2018-09-04</td>\n",
       "      <td>2000.00</td>\n",
       "      <td>16.0</td>\n",
       "      <td>REC</td>\n",
       "    </tr>\n",
       "    <tr>\n",
       "      <th>41325</th>\n",
       "      <td>41325</td>\n",
       "      <td>REC X0099-00006791</td>\n",
       "      <td>2018-09-04</td>\n",
       "      <td>1000.00</td>\n",
       "      <td>931.0</td>\n",
       "      <td>REC</td>\n",
       "    </tr>\n",
       "    <tr>\n",
       "      <th>41326</th>\n",
       "      <td>41326</td>\n",
       "      <td>REC X0099-00006792</td>\n",
       "      <td>2018-09-04</td>\n",
       "      <td>2550.00</td>\n",
       "      <td>650.0</td>\n",
       "      <td>REC</td>\n",
       "    </tr>\n",
       "    <tr>\n",
       "      <th>41327</th>\n",
       "      <td>41327</td>\n",
       "      <td>REC X0099-00006793</td>\n",
       "      <td>2018-09-04</td>\n",
       "      <td>2900.00</td>\n",
       "      <td>528.0</td>\n",
       "      <td>REC</td>\n",
       "    </tr>\n",
       "    <tr>\n",
       "      <th>41328</th>\n",
       "      <td>41328</td>\n",
       "      <td>REC X0099-00006794</td>\n",
       "      <td>2018-09-04</td>\n",
       "      <td>2446.00</td>\n",
       "      <td>12.0</td>\n",
       "      <td>REC</td>\n",
       "    </tr>\n",
       "  </tbody>\n",
       "</table>\n",
       "<p>41329 rows × 6 columns</p>\n",
       "</div>"
      ],
      "text/plain": [
       "       Unnamed: 0     nro_comprobante       fecha    monto  id_cliente tipo\n",
       "0               0  FAC B0001-00000001  2015-12-10     1.00       675.0  FAC\n",
       "1               1  FAC B0001-00000002  2015-12-10     1.00       675.0  FAC\n",
       "2               2  FAC B0001-00000003  2015-12-28   999.99       123.0  FAC\n",
       "3               3  FAC B0001-00000004  2015-12-28    34.21       123.0  FAC\n",
       "4               4  FAC B0001-00000005  2015-12-28     0.71       123.0  FAC\n",
       "...           ...                 ...         ...      ...         ...  ...\n",
       "41324       41324  REC X0099-00006790  2018-09-04  2000.00        16.0  REC\n",
       "41325       41325  REC X0099-00006791  2018-09-04  1000.00       931.0  REC\n",
       "41326       41326  REC X0099-00006792  2018-09-04  2550.00       650.0  REC\n",
       "41327       41327  REC X0099-00006793  2018-09-04  2900.00       528.0  REC\n",
       "41328       41328  REC X0099-00006794  2018-09-04  2446.00        12.0  REC\n",
       "\n",
       "[41329 rows x 6 columns]"
      ]
     },
     "execution_count": 19,
     "metadata": {},
     "output_type": "execute_result"
    }
   ],
   "source": [
    "comprobantes"
   ]
  },
  {
   "cell_type": "markdown",
   "metadata": {},
   "source": [
    "___"
   ]
  },
  {
   "cell_type": "markdown",
   "metadata": {},
   "source": [
    "# 8) Tipos de Comprobante. Responda.\n",
    "\n",
    "a. Cuantos registros se tienen de cada uno?\n",
    "\n",
    "b. monto total de los recibos\n",
    "\n",
    "c. monto total de las notas de débito\n",
    "\n",
    "d. monto total de las notas de crédito\n",
    "\n",
    "e. monto total de lo facturado"
   ]
  },
  {
   "cell_type": "code",
   "execution_count": 20,
   "metadata": {},
   "outputs": [
    {
     "data": {
      "text/html": [
       "<div>\n",
       "<style scoped>\n",
       "    .dataframe tbody tr th:only-of-type {\n",
       "        vertical-align: middle;\n",
       "    }\n",
       "\n",
       "    .dataframe tbody tr th {\n",
       "        vertical-align: top;\n",
       "    }\n",
       "\n",
       "    .dataframe thead th {\n",
       "        text-align: right;\n",
       "    }\n",
       "</style>\n",
       "<table border=\"1\" class=\"dataframe\">\n",
       "  <thead>\n",
       "    <tr style=\"text-align: right;\">\n",
       "      <th></th>\n",
       "      <th>monto</th>\n",
       "    </tr>\n",
       "    <tr>\n",
       "      <th>tipo</th>\n",
       "      <th></th>\n",
       "    </tr>\n",
       "  </thead>\n",
       "  <tbody>\n",
       "    <tr>\n",
       "      <th>FAC</th>\n",
       "      <td>7598706.46</td>\n",
       "    </tr>\n",
       "    <tr>\n",
       "      <th>N/C</th>\n",
       "      <td>1335102.12</td>\n",
       "    </tr>\n",
       "    <tr>\n",
       "      <th>N/D</th>\n",
       "      <td>8204046.41</td>\n",
       "    </tr>\n",
       "    <tr>\n",
       "      <th>REC</th>\n",
       "      <td>26690582.63</td>\n",
       "    </tr>\n",
       "  </tbody>\n",
       "</table>\n",
       "</div>"
      ],
      "text/plain": [
       "            monto\n",
       "tipo             \n",
       "FAC    7598706.46\n",
       "N/C    1335102.12\n",
       "N/D    8204046.41\n",
       "REC   26690582.63"
      ]
     },
     "execution_count": 20,
     "metadata": {},
     "output_type": "execute_result"
    }
   ],
   "source": [
    "monto_total_por_tipo = comprobantes.groupby(\"tipo\").agg({\"monto\": \"sum\"})\n",
    "monto_total_por_tipo"
   ]
  },
  {
   "cell_type": "code",
   "execution_count": 21,
   "metadata": {},
   "outputs": [
    {
     "data": {
      "text/html": [
       "<div>\n",
       "<style scoped>\n",
       "    .dataframe tbody tr th:only-of-type {\n",
       "        vertical-align: middle;\n",
       "    }\n",
       "\n",
       "    .dataframe tbody tr th {\n",
       "        vertical-align: top;\n",
       "    }\n",
       "\n",
       "    .dataframe thead th {\n",
       "        text-align: right;\n",
       "    }\n",
       "</style>\n",
       "<table border=\"1\" class=\"dataframe\">\n",
       "  <thead>\n",
       "    <tr style=\"text-align: right;\">\n",
       "      <th></th>\n",
       "      <th>tipo</th>\n",
       "      <th>monto_total</th>\n",
       "      <th>cant_registros</th>\n",
       "    </tr>\n",
       "  </thead>\n",
       "  <tbody>\n",
       "    <tr>\n",
       "      <th>0</th>\n",
       "      <td>FAC</td>\n",
       "      <td>7598706.46</td>\n",
       "      <td>10974</td>\n",
       "    </tr>\n",
       "    <tr>\n",
       "      <th>1</th>\n",
       "      <td>N/C</td>\n",
       "      <td>1335102.12</td>\n",
       "      <td>2387</td>\n",
       "    </tr>\n",
       "    <tr>\n",
       "      <th>2</th>\n",
       "      <td>N/D</td>\n",
       "      <td>8204046.41</td>\n",
       "      <td>15762</td>\n",
       "    </tr>\n",
       "    <tr>\n",
       "      <th>3</th>\n",
       "      <td>REC</td>\n",
       "      <td>26690582.63</td>\n",
       "      <td>12206</td>\n",
       "    </tr>\n",
       "  </tbody>\n",
       "</table>\n",
       "</div>"
      ],
      "text/plain": [
       "  tipo  monto_total  cant_registros\n",
       "0  FAC   7598706.46           10974\n",
       "1  N/C   1335102.12            2387\n",
       "2  N/D   8204046.41           15762\n",
       "3  REC  26690582.63           12206"
      ]
     },
     "execution_count": 21,
     "metadata": {},
     "output_type": "execute_result"
    }
   ],
   "source": [
    "# B, C, D y E\n",
    "\n",
    "monto_total_por_tipo_y_cant_de_registros= comprobantes.groupby(\"tipo\", as_index=True).agg(monto_total = (\"monto\", \"sum\"),\n",
    "                                                                            cant_registros = (\"id_cliente\", \"count\") ).reset_index()\n",
    "\n",
    "monto_total_por_tipo_y_cant_de_registros\n"
   ]
  },
  {
   "cell_type": "markdown",
   "metadata": {},
   "source": [
    "____"
   ]
  },
  {
   "cell_type": "markdown",
   "metadata": {},
   "source": [
    "# 9) ¿Dé qué tipo de datos es la columna fecha? Pasarla a datetime"
   ]
  },
  {
   "cell_type": "code",
   "execution_count": 22,
   "metadata": {},
   "outputs": [],
   "source": [
    "comprobantes[\"fecha\"] = pd.to_datetime(comprobantes[\"fecha\"])"
   ]
  },
  {
   "cell_type": "code",
   "execution_count": 23,
   "metadata": {},
   "outputs": [
    {
     "data": {
      "text/plain": [
       "Unnamed: 0                  int64\n",
       "nro_comprobante            object\n",
       "fecha              datetime64[ns]\n",
       "monto                     float64\n",
       "id_cliente                float64\n",
       "tipo                       object\n",
       "dtype: object"
      ]
     },
     "execution_count": 23,
     "metadata": {},
     "output_type": "execute_result"
    }
   ],
   "source": [
    "comprobantes.dtypes"
   ]
  },
  {
   "cell_type": "markdown",
   "metadata": {},
   "source": [
    "___"
   ]
  },
  {
   "cell_type": "markdown",
   "metadata": {},
   "source": [
    "# 10) Crear la columna año-mes"
   ]
  },
  {
   "cell_type": "code",
   "execution_count": 24,
   "metadata": {},
   "outputs": [
    {
     "data": {
      "text/html": [
       "<div>\n",
       "<style scoped>\n",
       "    .dataframe tbody tr th:only-of-type {\n",
       "        vertical-align: middle;\n",
       "    }\n",
       "\n",
       "    .dataframe tbody tr th {\n",
       "        vertical-align: top;\n",
       "    }\n",
       "\n",
       "    .dataframe thead th {\n",
       "        text-align: right;\n",
       "    }\n",
       "</style>\n",
       "<table border=\"1\" class=\"dataframe\">\n",
       "  <thead>\n",
       "    <tr style=\"text-align: right;\">\n",
       "      <th></th>\n",
       "      <th>Unnamed: 0</th>\n",
       "      <th>nro_comprobante</th>\n",
       "      <th>fecha</th>\n",
       "      <th>monto</th>\n",
       "      <th>id_cliente</th>\n",
       "      <th>tipo</th>\n",
       "      <th>anio_mes</th>\n",
       "    </tr>\n",
       "  </thead>\n",
       "  <tbody>\n",
       "    <tr>\n",
       "      <th>0</th>\n",
       "      <td>0</td>\n",
       "      <td>FAC B0001-00000001</td>\n",
       "      <td>2015-12-10</td>\n",
       "      <td>1.00</td>\n",
       "      <td>675.0</td>\n",
       "      <td>FAC</td>\n",
       "      <td>2015-12</td>\n",
       "    </tr>\n",
       "    <tr>\n",
       "      <th>1</th>\n",
       "      <td>1</td>\n",
       "      <td>FAC B0001-00000002</td>\n",
       "      <td>2015-12-10</td>\n",
       "      <td>1.00</td>\n",
       "      <td>675.0</td>\n",
       "      <td>FAC</td>\n",
       "      <td>2015-12</td>\n",
       "    </tr>\n",
       "    <tr>\n",
       "      <th>2</th>\n",
       "      <td>2</td>\n",
       "      <td>FAC B0001-00000003</td>\n",
       "      <td>2015-12-28</td>\n",
       "      <td>999.99</td>\n",
       "      <td>123.0</td>\n",
       "      <td>FAC</td>\n",
       "      <td>2015-12</td>\n",
       "    </tr>\n",
       "    <tr>\n",
       "      <th>3</th>\n",
       "      <td>3</td>\n",
       "      <td>FAC B0001-00000004</td>\n",
       "      <td>2015-12-28</td>\n",
       "      <td>34.21</td>\n",
       "      <td>123.0</td>\n",
       "      <td>FAC</td>\n",
       "      <td>2015-12</td>\n",
       "    </tr>\n",
       "    <tr>\n",
       "      <th>4</th>\n",
       "      <td>4</td>\n",
       "      <td>FAC B0001-00000005</td>\n",
       "      <td>2015-12-28</td>\n",
       "      <td>0.71</td>\n",
       "      <td>123.0</td>\n",
       "      <td>FAC</td>\n",
       "      <td>2015-12</td>\n",
       "    </tr>\n",
       "    <tr>\n",
       "      <th>...</th>\n",
       "      <td>...</td>\n",
       "      <td>...</td>\n",
       "      <td>...</td>\n",
       "      <td>...</td>\n",
       "      <td>...</td>\n",
       "      <td>...</td>\n",
       "      <td>...</td>\n",
       "    </tr>\n",
       "    <tr>\n",
       "      <th>41324</th>\n",
       "      <td>41324</td>\n",
       "      <td>REC X0099-00006790</td>\n",
       "      <td>2018-09-04</td>\n",
       "      <td>2000.00</td>\n",
       "      <td>16.0</td>\n",
       "      <td>REC</td>\n",
       "      <td>2018-09</td>\n",
       "    </tr>\n",
       "    <tr>\n",
       "      <th>41325</th>\n",
       "      <td>41325</td>\n",
       "      <td>REC X0099-00006791</td>\n",
       "      <td>2018-09-04</td>\n",
       "      <td>1000.00</td>\n",
       "      <td>931.0</td>\n",
       "      <td>REC</td>\n",
       "      <td>2018-09</td>\n",
       "    </tr>\n",
       "    <tr>\n",
       "      <th>41326</th>\n",
       "      <td>41326</td>\n",
       "      <td>REC X0099-00006792</td>\n",
       "      <td>2018-09-04</td>\n",
       "      <td>2550.00</td>\n",
       "      <td>650.0</td>\n",
       "      <td>REC</td>\n",
       "      <td>2018-09</td>\n",
       "    </tr>\n",
       "    <tr>\n",
       "      <th>41327</th>\n",
       "      <td>41327</td>\n",
       "      <td>REC X0099-00006793</td>\n",
       "      <td>2018-09-04</td>\n",
       "      <td>2900.00</td>\n",
       "      <td>528.0</td>\n",
       "      <td>REC</td>\n",
       "      <td>2018-09</td>\n",
       "    </tr>\n",
       "    <tr>\n",
       "      <th>41328</th>\n",
       "      <td>41328</td>\n",
       "      <td>REC X0099-00006794</td>\n",
       "      <td>2018-09-04</td>\n",
       "      <td>2446.00</td>\n",
       "      <td>12.0</td>\n",
       "      <td>REC</td>\n",
       "      <td>2018-09</td>\n",
       "    </tr>\n",
       "  </tbody>\n",
       "</table>\n",
       "<p>41329 rows × 7 columns</p>\n",
       "</div>"
      ],
      "text/plain": [
       "       Unnamed: 0     nro_comprobante      fecha    monto  id_cliente tipo  \\\n",
       "0               0  FAC B0001-00000001 2015-12-10     1.00       675.0  FAC   \n",
       "1               1  FAC B0001-00000002 2015-12-10     1.00       675.0  FAC   \n",
       "2               2  FAC B0001-00000003 2015-12-28   999.99       123.0  FAC   \n",
       "3               3  FAC B0001-00000004 2015-12-28    34.21       123.0  FAC   \n",
       "4               4  FAC B0001-00000005 2015-12-28     0.71       123.0  FAC   \n",
       "...           ...                 ...        ...      ...         ...  ...   \n",
       "41324       41324  REC X0099-00006790 2018-09-04  2000.00        16.0  REC   \n",
       "41325       41325  REC X0099-00006791 2018-09-04  1000.00       931.0  REC   \n",
       "41326       41326  REC X0099-00006792 2018-09-04  2550.00       650.0  REC   \n",
       "41327       41327  REC X0099-00006793 2018-09-04  2900.00       528.0  REC   \n",
       "41328       41328  REC X0099-00006794 2018-09-04  2446.00        12.0  REC   \n",
       "\n",
       "      anio_mes  \n",
       "0      2015-12  \n",
       "1      2015-12  \n",
       "2      2015-12  \n",
       "3      2015-12  \n",
       "4      2015-12  \n",
       "...        ...  \n",
       "41324  2018-09  \n",
       "41325  2018-09  \n",
       "41326  2018-09  \n",
       "41327  2018-09  \n",
       "41328  2018-09  \n",
       "\n",
       "[41329 rows x 7 columns]"
      ]
     },
     "execution_count": 24,
     "metadata": {},
     "output_type": "execute_result"
    }
   ],
   "source": [
    "comprobantes[\"anio_mes\"] = comprobantes[\"fecha\"].dt.strftime(\"%Y-%m\")\n",
    "comprobantes"
   ]
  },
  {
   "cell_type": "markdown",
   "metadata": {},
   "source": [
    "___"
   ]
  },
  {
   "cell_type": "markdown",
   "metadata": {},
   "source": [
    "# 11) Sumar sólo lo cobrado (REC y N/D) y mostrar una tabla que tenga como indice fecha(año-mes) y columna monto_cobrado, cantidad_recibos. (group by)"
   ]
  },
  {
   "cell_type": "code",
   "execution_count": 25,
   "metadata": {},
   "outputs": [
    {
     "data": {
      "text/html": [
       "<div>\n",
       "<style scoped>\n",
       "    .dataframe tbody tr th:only-of-type {\n",
       "        vertical-align: middle;\n",
       "    }\n",
       "\n",
       "    .dataframe tbody tr th {\n",
       "        vertical-align: top;\n",
       "    }\n",
       "\n",
       "    .dataframe thead th {\n",
       "        text-align: right;\n",
       "    }\n",
       "</style>\n",
       "<table border=\"1\" class=\"dataframe\">\n",
       "  <thead>\n",
       "    <tr style=\"text-align: right;\">\n",
       "      <th></th>\n",
       "      <th>Unnamed: 0</th>\n",
       "      <th>nro_comprobante</th>\n",
       "      <th>fecha</th>\n",
       "      <th>monto</th>\n",
       "      <th>id_cliente</th>\n",
       "      <th>tipo</th>\n",
       "      <th>anio_mes</th>\n",
       "    </tr>\n",
       "  </thead>\n",
       "  <tbody>\n",
       "    <tr>\n",
       "      <th>13361</th>\n",
       "      <td>13361</td>\n",
       "      <td>N/D B0001-00000001</td>\n",
       "      <td>2016-01-12</td>\n",
       "      <td>66.16</td>\n",
       "      <td>536.0</td>\n",
       "      <td>N/D</td>\n",
       "      <td>2016-01</td>\n",
       "    </tr>\n",
       "    <tr>\n",
       "      <th>13362</th>\n",
       "      <td>13362</td>\n",
       "      <td>N/D B0001-00000002</td>\n",
       "      <td>2016-01-28</td>\n",
       "      <td>110.54</td>\n",
       "      <td>838.0</td>\n",
       "      <td>N/D</td>\n",
       "      <td>2016-01</td>\n",
       "    </tr>\n",
       "    <tr>\n",
       "      <th>13363</th>\n",
       "      <td>13363</td>\n",
       "      <td>N/D B0001-00000003</td>\n",
       "      <td>2016-02-05</td>\n",
       "      <td>16.46</td>\n",
       "      <td>536.0</td>\n",
       "      <td>N/D</td>\n",
       "      <td>2016-02</td>\n",
       "    </tr>\n",
       "    <tr>\n",
       "      <th>13364</th>\n",
       "      <td>13364</td>\n",
       "      <td>N/D B0001-00000004</td>\n",
       "      <td>2016-02-11</td>\n",
       "      <td>83.10</td>\n",
       "      <td>838.0</td>\n",
       "      <td>N/D</td>\n",
       "      <td>2016-02</td>\n",
       "    </tr>\n",
       "    <tr>\n",
       "      <th>13365</th>\n",
       "      <td>13365</td>\n",
       "      <td>N/D B0001-00000005</td>\n",
       "      <td>2016-02-16</td>\n",
       "      <td>49.99</td>\n",
       "      <td>801.0</td>\n",
       "      <td>N/D</td>\n",
       "      <td>2016-02</td>\n",
       "    </tr>\n",
       "    <tr>\n",
       "      <th>...</th>\n",
       "      <td>...</td>\n",
       "      <td>...</td>\n",
       "      <td>...</td>\n",
       "      <td>...</td>\n",
       "      <td>...</td>\n",
       "      <td>...</td>\n",
       "      <td>...</td>\n",
       "    </tr>\n",
       "    <tr>\n",
       "      <th>41324</th>\n",
       "      <td>41324</td>\n",
       "      <td>REC X0099-00006790</td>\n",
       "      <td>2018-09-04</td>\n",
       "      <td>2000.00</td>\n",
       "      <td>16.0</td>\n",
       "      <td>REC</td>\n",
       "      <td>2018-09</td>\n",
       "    </tr>\n",
       "    <tr>\n",
       "      <th>41325</th>\n",
       "      <td>41325</td>\n",
       "      <td>REC X0099-00006791</td>\n",
       "      <td>2018-09-04</td>\n",
       "      <td>1000.00</td>\n",
       "      <td>931.0</td>\n",
       "      <td>REC</td>\n",
       "      <td>2018-09</td>\n",
       "    </tr>\n",
       "    <tr>\n",
       "      <th>41326</th>\n",
       "      <td>41326</td>\n",
       "      <td>REC X0099-00006792</td>\n",
       "      <td>2018-09-04</td>\n",
       "      <td>2550.00</td>\n",
       "      <td>650.0</td>\n",
       "      <td>REC</td>\n",
       "      <td>2018-09</td>\n",
       "    </tr>\n",
       "    <tr>\n",
       "      <th>41327</th>\n",
       "      <td>41327</td>\n",
       "      <td>REC X0099-00006793</td>\n",
       "      <td>2018-09-04</td>\n",
       "      <td>2900.00</td>\n",
       "      <td>528.0</td>\n",
       "      <td>REC</td>\n",
       "      <td>2018-09</td>\n",
       "    </tr>\n",
       "    <tr>\n",
       "      <th>41328</th>\n",
       "      <td>41328</td>\n",
       "      <td>REC X0099-00006794</td>\n",
       "      <td>2018-09-04</td>\n",
       "      <td>2446.00</td>\n",
       "      <td>12.0</td>\n",
       "      <td>REC</td>\n",
       "      <td>2018-09</td>\n",
       "    </tr>\n",
       "  </tbody>\n",
       "</table>\n",
       "<p>27968 rows × 7 columns</p>\n",
       "</div>"
      ],
      "text/plain": [
       "       Unnamed: 0     nro_comprobante      fecha    monto  id_cliente tipo  \\\n",
       "13361       13361  N/D B0001-00000001 2016-01-12    66.16       536.0  N/D   \n",
       "13362       13362  N/D B0001-00000002 2016-01-28   110.54       838.0  N/D   \n",
       "13363       13363  N/D B0001-00000003 2016-02-05    16.46       536.0  N/D   \n",
       "13364       13364  N/D B0001-00000004 2016-02-11    83.10       838.0  N/D   \n",
       "13365       13365  N/D B0001-00000005 2016-02-16    49.99       801.0  N/D   \n",
       "...           ...                 ...        ...      ...         ...  ...   \n",
       "41324       41324  REC X0099-00006790 2018-09-04  2000.00        16.0  REC   \n",
       "41325       41325  REC X0099-00006791 2018-09-04  1000.00       931.0  REC   \n",
       "41326       41326  REC X0099-00006792 2018-09-04  2550.00       650.0  REC   \n",
       "41327       41327  REC X0099-00006793 2018-09-04  2900.00       528.0  REC   \n",
       "41328       41328  REC X0099-00006794 2018-09-04  2446.00        12.0  REC   \n",
       "\n",
       "      anio_mes  \n",
       "13361  2016-01  \n",
       "13362  2016-01  \n",
       "13363  2016-02  \n",
       "13364  2016-02  \n",
       "13365  2016-02  \n",
       "...        ...  \n",
       "41324  2018-09  \n",
       "41325  2018-09  \n",
       "41326  2018-09  \n",
       "41327  2018-09  \n",
       "41328  2018-09  \n",
       "\n",
       "[27968 rows x 7 columns]"
      ]
     },
     "execution_count": 25,
     "metadata": {},
     "output_type": "execute_result"
    }
   ],
   "source": [
    "comprobantes_cobrados = comprobantes[(comprobantes[\"tipo\"] == \"REC\") | (comprobantes[\"tipo\"] == \"N/D\")]\n",
    "comprobantes_cobrados"
   ]
  },
  {
   "cell_type": "code",
   "execution_count": 26,
   "metadata": {},
   "outputs": [
    {
     "data": {
      "text/html": [
       "<div>\n",
       "<style scoped>\n",
       "    .dataframe tbody tr th:only-of-type {\n",
       "        vertical-align: middle;\n",
       "    }\n",
       "\n",
       "    .dataframe tbody tr th {\n",
       "        vertical-align: top;\n",
       "    }\n",
       "\n",
       "    .dataframe thead th {\n",
       "        text-align: right;\n",
       "    }\n",
       "</style>\n",
       "<table border=\"1\" class=\"dataframe\">\n",
       "  <thead>\n",
       "    <tr style=\"text-align: right;\">\n",
       "      <th></th>\n",
       "      <th>suma_monto</th>\n",
       "      <th>cantidad_recibos</th>\n",
       "    </tr>\n",
       "    <tr>\n",
       "      <th>anio_mes</th>\n",
       "      <th></th>\n",
       "      <th></th>\n",
       "    </tr>\n",
       "  </thead>\n",
       "  <tbody>\n",
       "    <tr>\n",
       "      <th>2015-12</th>\n",
       "      <td>3339.00</td>\n",
       "      <td>4</td>\n",
       "    </tr>\n",
       "    <tr>\n",
       "      <th>2016-01</th>\n",
       "      <td>23217.27</td>\n",
       "      <td>24</td>\n",
       "    </tr>\n",
       "    <tr>\n",
       "      <th>2016-02</th>\n",
       "      <td>87138.09</td>\n",
       "      <td>61</td>\n",
       "    </tr>\n",
       "    <tr>\n",
       "      <th>2016-03</th>\n",
       "      <td>193843.65</td>\n",
       "      <td>158</td>\n",
       "    </tr>\n",
       "    <tr>\n",
       "      <th>2016-04</th>\n",
       "      <td>208850.76</td>\n",
       "      <td>171</td>\n",
       "    </tr>\n",
       "    <tr>\n",
       "      <th>...</th>\n",
       "      <td>...</td>\n",
       "      <td>...</td>\n",
       "    </tr>\n",
       "    <tr>\n",
       "      <th>2022-02</th>\n",
       "      <td>177288.65</td>\n",
       "      <td>189</td>\n",
       "    </tr>\n",
       "    <tr>\n",
       "      <th>2022-03</th>\n",
       "      <td>245495.68</td>\n",
       "      <td>209</td>\n",
       "    </tr>\n",
       "    <tr>\n",
       "      <th>2022-04</th>\n",
       "      <td>145510.59</td>\n",
       "      <td>148</td>\n",
       "    </tr>\n",
       "    <tr>\n",
       "      <th>2022-05</th>\n",
       "      <td>87518.58</td>\n",
       "      <td>106</td>\n",
       "    </tr>\n",
       "    <tr>\n",
       "      <th>2022-06</th>\n",
       "      <td>81386.59</td>\n",
       "      <td>88</td>\n",
       "    </tr>\n",
       "  </tbody>\n",
       "</table>\n",
       "<p>79 rows × 2 columns</p>\n",
       "</div>"
      ],
      "text/plain": [
       "          suma_monto  cantidad_recibos\n",
       "anio_mes                              \n",
       "2015-12      3339.00                 4\n",
       "2016-01     23217.27                24\n",
       "2016-02     87138.09                61\n",
       "2016-03    193843.65               158\n",
       "2016-04    208850.76               171\n",
       "...              ...               ...\n",
       "2022-02    177288.65               189\n",
       "2022-03    245495.68               209\n",
       "2022-04    145510.59               148\n",
       "2022-05     87518.58               106\n",
       "2022-06     81386.59                88\n",
       "\n",
       "[79 rows x 2 columns]"
      ]
     },
     "execution_count": 26,
     "metadata": {},
     "output_type": "execute_result"
    }
   ],
   "source": [
    "comprobantes_cobrados_por_mes = comprobantes_cobrados.groupby([\"anio_mes\"]).agg(suma_monto = (\"monto\", \"sum\"),\n",
    "                cantidad_recibos = (\"monto\", \"count\") )\n",
    "\n",
    "comprobantes_cobrados_por_mes"
   ]
  },
  {
   "cell_type": "markdown",
   "metadata": {},
   "source": [
    "___"
   ]
  },
  {
   "cell_type": "markdown",
   "metadata": {},
   "source": [
    "# 12) ¿Cuantos valores hay mayores a 60.000 de la columna monto en el dataset general?"
   ]
  },
  {
   "cell_type": "code",
   "execution_count": 27,
   "metadata": {},
   "outputs": [
    {
     "data": {
      "text/html": [
       "<div>\n",
       "<style scoped>\n",
       "    .dataframe tbody tr th:only-of-type {\n",
       "        vertical-align: middle;\n",
       "    }\n",
       "\n",
       "    .dataframe tbody tr th {\n",
       "        vertical-align: top;\n",
       "    }\n",
       "\n",
       "    .dataframe thead th {\n",
       "        text-align: right;\n",
       "    }\n",
       "</style>\n",
       "<table border=\"1\" class=\"dataframe\">\n",
       "  <thead>\n",
       "    <tr style=\"text-align: right;\">\n",
       "      <th></th>\n",
       "      <th>Unnamed: 0</th>\n",
       "      <th>nro_comprobante</th>\n",
       "      <th>fecha</th>\n",
       "      <th>monto</th>\n",
       "      <th>id_cliente</th>\n",
       "      <th>tipo</th>\n",
       "      <th>anio_mes</th>\n",
       "    </tr>\n",
       "  </thead>\n",
       "  <tbody>\n",
       "  </tbody>\n",
       "</table>\n",
       "</div>"
      ],
      "text/plain": [
       "Empty DataFrame\n",
       "Columns: [Unnamed: 0, nro_comprobante, fecha, monto, id_cliente, tipo, anio_mes]\n",
       "Index: []"
      ]
     },
     "execution_count": 27,
     "metadata": {},
     "output_type": "execute_result"
    }
   ],
   "source": [
    "comprobantes[comprobantes[\"monto\"]>60000]"
   ]
  },
  {
   "cell_type": "markdown",
   "metadata": {},
   "source": [
    "___"
   ]
  },
  {
   "cell_type": "markdown",
   "metadata": {},
   "source": [
    "# 13) ¿Cual es el valor máximo de la columna monto? ¿Debería eliminarlo? ¿Por qué? (en el dataset general)"
   ]
  },
  {
   "cell_type": "code",
   "execution_count": 28,
   "metadata": {},
   "outputs": [
    {
     "data": {
      "text/plain": [
       "56000.0"
      ]
     },
     "execution_count": 28,
     "metadata": {},
     "output_type": "execute_result"
    }
   ],
   "source": [
    "comprobantes[\"monto\"].max()"
   ]
  },
  {
   "cell_type": "code",
   "execution_count": 29,
   "metadata": {},
   "outputs": [
    {
     "data": {
      "text/plain": [
       "count    41329.000000\n",
       "mean      1060.476605\n",
       "std       1300.031764\n",
       "min          0.000000\n",
       "25%        331.410000\n",
       "50%        998.980000\n",
       "75%       1000.000000\n",
       "max      56000.000000\n",
       "Name: monto, dtype: float64"
      ]
     },
     "execution_count": 29,
     "metadata": {},
     "output_type": "execute_result"
    }
   ],
   "source": [
    "comprobantes[\"monto\"].describe()"
   ]
  },
  {
   "cell_type": "code",
   "execution_count": 30,
   "metadata": {},
   "outputs": [
    {
     "data": {
      "text/plain": [
       "<Axes: xlabel='monto'>"
      ]
     },
     "execution_count": 30,
     "metadata": {},
     "output_type": "execute_result"
    },
    {
     "data": {
      "image/png": "[encoded data removed]",
      "text/plain": [
       "<Figure size 640x480 with 1 Axes>"
      ]
     },
     "metadata": {},
     "output_type": "display_data"
    }
   ],
   "source": [
    "sns.boxplot(x=comprobantes[\"monto\"])"
   ]
  },
  {
   "cell_type": "markdown",
   "metadata": {},
   "source": [
    "#### Tendría en cuenta este valor máximo de monto, conocido como outlier (valor anómalo), ya que hay otros números que también tienen otros valores altos dentro del monto como por ejemplo el 60.000. Entonces, es por eso que no lo eliminaría."
   ]
  },
  {
   "cell_type": "markdown",
   "metadata": {},
   "source": [
    "____"
   ]
  },
  {
   "cell_type": "markdown",
   "metadata": {},
   "source": [
    "# 14) No tenga en cuenta el valor máximo para los siguientes análisis"
   ]
  },
  {
   "cell_type": "code",
   "execution_count": 31,
   "metadata": {},
   "outputs": [
    {
     "data": {
      "text/html": [
       "<div>\n",
       "<style scoped>\n",
       "    .dataframe tbody tr th:only-of-type {\n",
       "        vertical-align: middle;\n",
       "    }\n",
       "\n",
       "    .dataframe tbody tr th {\n",
       "        vertical-align: top;\n",
       "    }\n",
       "\n",
       "    .dataframe thead th {\n",
       "        text-align: right;\n",
       "    }\n",
       "</style>\n",
       "<table border=\"1\" class=\"dataframe\">\n",
       "  <thead>\n",
       "    <tr style=\"text-align: right;\">\n",
       "      <th></th>\n",
       "      <th>Unnamed: 0</th>\n",
       "      <th>nro_comprobante</th>\n",
       "      <th>fecha</th>\n",
       "      <th>monto</th>\n",
       "      <th>id_cliente</th>\n",
       "      <th>tipo</th>\n",
       "      <th>anio_mes</th>\n",
       "    </tr>\n",
       "  </thead>\n",
       "  <tbody>\n",
       "    <tr>\n",
       "      <th>0</th>\n",
       "      <td>0</td>\n",
       "      <td>FAC B0001-00000001</td>\n",
       "      <td>2015-12-10</td>\n",
       "      <td>1.00</td>\n",
       "      <td>675.0</td>\n",
       "      <td>FAC</td>\n",
       "      <td>2015-12</td>\n",
       "    </tr>\n",
       "    <tr>\n",
       "      <th>1</th>\n",
       "      <td>1</td>\n",
       "      <td>FAC B0001-00000002</td>\n",
       "      <td>2015-12-10</td>\n",
       "      <td>1.00</td>\n",
       "      <td>675.0</td>\n",
       "      <td>FAC</td>\n",
       "      <td>2015-12</td>\n",
       "    </tr>\n",
       "    <tr>\n",
       "      <th>2</th>\n",
       "      <td>2</td>\n",
       "      <td>FAC B0001-00000003</td>\n",
       "      <td>2015-12-28</td>\n",
       "      <td>999.99</td>\n",
       "      <td>123.0</td>\n",
       "      <td>FAC</td>\n",
       "      <td>2015-12</td>\n",
       "    </tr>\n",
       "    <tr>\n",
       "      <th>3</th>\n",
       "      <td>3</td>\n",
       "      <td>FAC B0001-00000004</td>\n",
       "      <td>2015-12-28</td>\n",
       "      <td>34.21</td>\n",
       "      <td>123.0</td>\n",
       "      <td>FAC</td>\n",
       "      <td>2015-12</td>\n",
       "    </tr>\n",
       "    <tr>\n",
       "      <th>4</th>\n",
       "      <td>4</td>\n",
       "      <td>FAC B0001-00000005</td>\n",
       "      <td>2015-12-28</td>\n",
       "      <td>0.71</td>\n",
       "      <td>123.0</td>\n",
       "      <td>FAC</td>\n",
       "      <td>2015-12</td>\n",
       "    </tr>\n",
       "    <tr>\n",
       "      <th>...</th>\n",
       "      <td>...</td>\n",
       "      <td>...</td>\n",
       "      <td>...</td>\n",
       "      <td>...</td>\n",
       "      <td>...</td>\n",
       "      <td>...</td>\n",
       "      <td>...</td>\n",
       "    </tr>\n",
       "    <tr>\n",
       "      <th>41324</th>\n",
       "      <td>41324</td>\n",
       "      <td>REC X0099-00006790</td>\n",
       "      <td>2018-09-04</td>\n",
       "      <td>2000.00</td>\n",
       "      <td>16.0</td>\n",
       "      <td>REC</td>\n",
       "      <td>2018-09</td>\n",
       "    </tr>\n",
       "    <tr>\n",
       "      <th>41325</th>\n",
       "      <td>41325</td>\n",
       "      <td>REC X0099-00006791</td>\n",
       "      <td>2018-09-04</td>\n",
       "      <td>1000.00</td>\n",
       "      <td>931.0</td>\n",
       "      <td>REC</td>\n",
       "      <td>2018-09</td>\n",
       "    </tr>\n",
       "    <tr>\n",
       "      <th>41326</th>\n",
       "      <td>41326</td>\n",
       "      <td>REC X0099-00006792</td>\n",
       "      <td>2018-09-04</td>\n",
       "      <td>2550.00</td>\n",
       "      <td>650.0</td>\n",
       "      <td>REC</td>\n",
       "      <td>2018-09</td>\n",
       "    </tr>\n",
       "    <tr>\n",
       "      <th>41327</th>\n",
       "      <td>41327</td>\n",
       "      <td>REC X0099-00006793</td>\n",
       "      <td>2018-09-04</td>\n",
       "      <td>2900.00</td>\n",
       "      <td>528.0</td>\n",
       "      <td>REC</td>\n",
       "      <td>2018-09</td>\n",
       "    </tr>\n",
       "    <tr>\n",
       "      <th>41328</th>\n",
       "      <td>41328</td>\n",
       "      <td>REC X0099-00006794</td>\n",
       "      <td>2018-09-04</td>\n",
       "      <td>2446.00</td>\n",
       "      <td>12.0</td>\n",
       "      <td>REC</td>\n",
       "      <td>2018-09</td>\n",
       "    </tr>\n",
       "  </tbody>\n",
       "</table>\n",
       "<p>41328 rows × 7 columns</p>\n",
       "</div>"
      ],
      "text/plain": [
       "       Unnamed: 0     nro_comprobante      fecha    monto  id_cliente tipo  \\\n",
       "0               0  FAC B0001-00000001 2015-12-10     1.00       675.0  FAC   \n",
       "1               1  FAC B0001-00000002 2015-12-10     1.00       675.0  FAC   \n",
       "2               2  FAC B0001-00000003 2015-12-28   999.99       123.0  FAC   \n",
       "3               3  FAC B0001-00000004 2015-12-28    34.21       123.0  FAC   \n",
       "4               4  FAC B0001-00000005 2015-12-28     0.71       123.0  FAC   \n",
       "...           ...                 ...        ...      ...         ...  ...   \n",
       "41324       41324  REC X0099-00006790 2018-09-04  2000.00        16.0  REC   \n",
       "41325       41325  REC X0099-00006791 2018-09-04  1000.00       931.0  REC   \n",
       "41326       41326  REC X0099-00006792 2018-09-04  2550.00       650.0  REC   \n",
       "41327       41327  REC X0099-00006793 2018-09-04  2900.00       528.0  REC   \n",
       "41328       41328  REC X0099-00006794 2018-09-04  2446.00        12.0  REC   \n",
       "\n",
       "      anio_mes  \n",
       "0      2015-12  \n",
       "1      2015-12  \n",
       "2      2015-12  \n",
       "3      2015-12  \n",
       "4      2015-12  \n",
       "...        ...  \n",
       "41324  2018-09  \n",
       "41325  2018-09  \n",
       "41326  2018-09  \n",
       "41327  2018-09  \n",
       "41328  2018-09  \n",
       "\n",
       "[41328 rows x 7 columns]"
      ]
     },
     "execution_count": 31,
     "metadata": {},
     "output_type": "execute_result"
    }
   ],
   "source": [
    "sin_valor_maximo = comprobantes[comprobantes[\"monto\"] < 56000]\n",
    "sin_valor_maximo"
   ]
  },
  {
   "cell_type": "code",
   "execution_count": 32,
   "metadata": {},
   "outputs": [
    {
     "data": {
      "text/plain": [
       "monto\n",
       "998.98     10219\n",
       "1000.00      593\n",
       "0.99         571\n",
       "2000.00      492\n",
       "1689.00      428\n",
       "           ...  \n",
       "61.12          1\n",
       "11.45          1\n",
       "77.37          1\n",
       "66.05          1\n",
       "3487.50        1\n",
       "Name: count, Length: 8683, dtype: int64"
      ]
     },
     "execution_count": 32,
     "metadata": {},
     "output_type": "execute_result"
    }
   ],
   "source": [
    "sin_valor_maximo[\"monto\"].value_counts()"
   ]
  },
  {
   "cell_type": "markdown",
   "metadata": {},
   "source": [
    "___"
   ]
  },
  {
   "cell_type": "markdown",
   "metadata": {},
   "source": [
    "# 15) En el total del dataset.\n",
    "\n",
    "a. Cuanto representa lo facturado sobre lo cobrado.\n",
    "\n",
    "b. Si sabe que lo facturado es el IVA ¿Tiene sentido? ¿Cómo lo interpretas?"
   ]
  },
  {
   "cell_type": "code",
   "execution_count": 33,
   "metadata": {},
   "outputs": [
    {
     "data": {
      "text/plain": [
       "21.811152359857612"
      ]
     },
     "execution_count": 33,
     "metadata": {},
     "output_type": "execute_result"
    }
   ],
   "source": [
    "# A) \n",
    "\n",
    "total_facturado_sobre_lo_cobrado = sin_valor_maximo[sin_valor_maximo[\"tipo\"] == \"FAC\"][\"monto\"].sum() / sin_valor_maximo[(sin_valor_maximo[\"tipo\"] == \"REC\") | (sin_valor_maximo[\"tipo\"] == \"N/D\")][\"monto\"].sum()\n",
    "total_facturado_sobre_lo_cobrado * 100"
   ]
  },
  {
   "cell_type": "code",
   "execution_count": 34,
   "metadata": {},
   "outputs": [],
   "source": [
    "# B) \n",
    "\n"
   ]
  },
  {
   "cell_type": "markdown",
   "metadata": {},
   "source": [
    "___"
   ]
  },
  {
   "cell_type": "markdown",
   "metadata": {},
   "source": [
    "____"
   ]
  },
  {
   "cell_type": "markdown",
   "metadata": {},
   "source": [
    "# 16) Dataset dolar:\n",
    "\n",
    "a. Repita puntos 1,2,3 ahora para este dataset\n",
    "\n",
    "b. Pasar a datetime la columna Fecha\n",
    "\n",
    "c. Crear año-mes"
   ]
  },
  {
   "cell_type": "code",
   "execution_count": 35,
   "metadata": {},
   "outputs": [
    {
     "data": {
      "text/html": [
       "<div>\n",
       "<style scoped>\n",
       "    .dataframe tbody tr th:only-of-type {\n",
       "        vertical-align: middle;\n",
       "    }\n",
       "\n",
       "    .dataframe tbody tr th {\n",
       "        vertical-align: top;\n",
       "    }\n",
       "\n",
       "    .dataframe thead th {\n",
       "        text-align: right;\n",
       "    }\n",
       "</style>\n",
       "<table border=\"1\" class=\"dataframe\">\n",
       "  <thead>\n",
       "    <tr style=\"text-align: right;\">\n",
       "      <th></th>\n",
       "      <th>Fecha</th>\n",
       "      <th>Compra</th>\n",
       "      <th>Venta</th>\n",
       "    </tr>\n",
       "  </thead>\n",
       "  <tbody>\n",
       "    <tr>\n",
       "      <th>0</th>\n",
       "      <td>15-07-2022</td>\n",
       "      <td>283,00</td>\n",
       "      <td>293,00</td>\n",
       "    </tr>\n",
       "    <tr>\n",
       "      <th>1</th>\n",
       "      <td>14-07-2022</td>\n",
       "      <td>279,00</td>\n",
       "      <td>289,00</td>\n",
       "    </tr>\n",
       "    <tr>\n",
       "      <th>2</th>\n",
       "      <td>13-07-2022</td>\n",
       "      <td>273,00</td>\n",
       "      <td>283,00</td>\n",
       "    </tr>\n",
       "    <tr>\n",
       "      <th>3</th>\n",
       "      <td>12-07-2022</td>\n",
       "      <td>262,00</td>\n",
       "      <td>272,00</td>\n",
       "    </tr>\n",
       "    <tr>\n",
       "      <th>4</th>\n",
       "      <td>11-07-2022</td>\n",
       "      <td>258,00</td>\n",
       "      <td>268,00</td>\n",
       "    </tr>\n",
       "    <tr>\n",
       "      <th>...</th>\n",
       "      <td>...</td>\n",
       "      <td>...</td>\n",
       "      <td>...</td>\n",
       "    </tr>\n",
       "    <tr>\n",
       "      <th>1758</th>\n",
       "      <td>22-06-2015</td>\n",
       "      <td>12,95</td>\n",
       "      <td>13,05</td>\n",
       "    </tr>\n",
       "    <tr>\n",
       "      <th>1759</th>\n",
       "      <td>19-06-2015</td>\n",
       "      <td>12,92</td>\n",
       "      <td>13,02</td>\n",
       "    </tr>\n",
       "    <tr>\n",
       "      <th>1760</th>\n",
       "      <td>18-06-2015</td>\n",
       "      <td>12,98</td>\n",
       "      <td>13,08</td>\n",
       "    </tr>\n",
       "    <tr>\n",
       "      <th>1761</th>\n",
       "      <td>17-06-2015</td>\n",
       "      <td>12,84</td>\n",
       "      <td>12,94</td>\n",
       "    </tr>\n",
       "    <tr>\n",
       "      <th>1762</th>\n",
       "      <td>16-06-2015</td>\n",
       "      <td>12,75</td>\n",
       "      <td>12,85</td>\n",
       "    </tr>\n",
       "  </tbody>\n",
       "</table>\n",
       "<p>1763 rows × 3 columns</p>\n",
       "</div>"
      ],
      "text/plain": [
       "           Fecha  Compra   Venta\n",
       "0     15-07-2022  283,00  293,00\n",
       "1     14-07-2022  279,00  289,00\n",
       "2     13-07-2022  273,00  283,00\n",
       "3     12-07-2022  262,00  272,00\n",
       "4     11-07-2022  258,00  268,00\n",
       "...          ...     ...     ...\n",
       "1758  22-06-2015   12,95   13,05\n",
       "1759  19-06-2015   12,92   13,02\n",
       "1760  18-06-2015   12,98   13,08\n",
       "1761  17-06-2015   12,84   12,94\n",
       "1762  16-06-2015   12,75   12,85\n",
       "\n",
       "[1763 rows x 3 columns]"
      ]
     },
     "execution_count": 35,
     "metadata": {},
     "output_type": "execute_result"
    }
   ],
   "source": [
    "dolarblue = pd.read_csv('/Users/lolonastri/Desktop/POO_UCEMA/modelos_primer_parcial/dolarblue_y_recibos/dolar_blue - Hoja 1.csv')\n",
    "dolarblue"
   ]
  },
  {
   "cell_type": "markdown",
   "metadata": {},
   "source": [
    "# A)"
   ]
  },
  {
   "cell_type": "code",
   "execution_count": 36,
   "metadata": {},
   "outputs": [
    {
     "data": {
      "text/plain": [
       "(1763, 3)"
      ]
     },
     "execution_count": 36,
     "metadata": {},
     "output_type": "execute_result"
    }
   ],
   "source": [
    "# 1) \n",
    "# A\n",
    "dolarblue.shape"
   ]
  },
  {
   "cell_type": "code",
   "execution_count": 37,
   "metadata": {},
   "outputs": [
    {
     "name": "stdout",
     "output_type": "stream",
     "text": [
      "Este dataset tiene 1763 filas y 3 columnas\n"
     ]
    }
   ],
   "source": [
    "print(\"Este dataset tiene \" + str(dolarblue.shape[0]) + \" filas y \" + str(dolarblue.shape[1]) + \" columnas\")"
   ]
  },
  {
   "cell_type": "code",
   "execution_count": 38,
   "metadata": {},
   "outputs": [
    {
     "data": {
      "text/plain": [
       "Fecha     object\n",
       "Compra    object\n",
       "Venta     object\n",
       "dtype: object"
      ]
     },
     "execution_count": 38,
     "metadata": {},
     "output_type": "execute_result"
    }
   ],
   "source": [
    "# B\n",
    "\n",
    "dolarblue.dtypes"
   ]
  },
  {
   "cell_type": "code",
   "execution_count": 39,
   "metadata": {},
   "outputs": [
    {
     "data": {
      "text/plain": [
       "Fecha     0\n",
       "Compra    0\n",
       "Venta     0\n",
       "dtype: int64"
      ]
     },
     "execution_count": 39,
     "metadata": {},
     "output_type": "execute_result"
    }
   ],
   "source": [
    "# 2) \n",
    "# A \n",
    "\n",
    "dolarblue.isna().sum()"
   ]
  },
  {
   "cell_type": "code",
   "execution_count": 40,
   "metadata": {},
   "outputs": [
    {
     "data": {
      "text/plain": [
       "Fecha     0.0\n",
       "Compra    0.0\n",
       "Venta     0.0\n",
       "dtype: float64"
      ]
     },
     "execution_count": 40,
     "metadata": {},
     "output_type": "execute_result"
    }
   ],
   "source": [
    "# B\n",
    "\n",
    "(dolarblue.isna().sum()/len(dolarblue)).round(6)"
   ]
  },
  {
   "cell_type": "code",
   "execution_count": 41,
   "metadata": {},
   "outputs": [
    {
     "data": {
      "text/html": [
       "<div>\n",
       "<style scoped>\n",
       "    .dataframe tbody tr th:only-of-type {\n",
       "        vertical-align: middle;\n",
       "    }\n",
       "\n",
       "    .dataframe tbody tr th {\n",
       "        vertical-align: top;\n",
       "    }\n",
       "\n",
       "    .dataframe thead th {\n",
       "        text-align: right;\n",
       "    }\n",
       "</style>\n",
       "<table border=\"1\" class=\"dataframe\">\n",
       "  <thead>\n",
       "    <tr style=\"text-align: right;\">\n",
       "      <th></th>\n",
       "      <th>Fecha</th>\n",
       "      <th>Compra</th>\n",
       "      <th>Venta</th>\n",
       "    </tr>\n",
       "  </thead>\n",
       "  <tbody>\n",
       "  </tbody>\n",
       "</table>\n",
       "</div>"
      ],
      "text/plain": [
       "Empty DataFrame\n",
       "Columns: [Fecha, Compra, Venta]\n",
       "Index: []"
      ]
     },
     "execution_count": 41,
     "metadata": {},
     "output_type": "execute_result"
    }
   ],
   "source": [
    "# C\n",
    "\n",
    "dolarblue[dolarblue.isna().any(axis=1)]"
   ]
  },
  {
   "cell_type": "code",
   "execution_count": 42,
   "metadata": {},
   "outputs": [
    {
     "data": {
      "text/html": [
       "<div>\n",
       "<style scoped>\n",
       "    .dataframe tbody tr th:only-of-type {\n",
       "        vertical-align: middle;\n",
       "    }\n",
       "\n",
       "    .dataframe tbody tr th {\n",
       "        vertical-align: top;\n",
       "    }\n",
       "\n",
       "    .dataframe thead th {\n",
       "        text-align: right;\n",
       "    }\n",
       "</style>\n",
       "<table border=\"1\" class=\"dataframe\">\n",
       "  <thead>\n",
       "    <tr style=\"text-align: right;\">\n",
       "      <th></th>\n",
       "      <th>Fecha</th>\n",
       "      <th>Compra</th>\n",
       "      <th>Venta</th>\n",
       "    </tr>\n",
       "  </thead>\n",
       "  <tbody>\n",
       "    <tr>\n",
       "      <th>count</th>\n",
       "      <td>1763</td>\n",
       "      <td>1763</td>\n",
       "      <td>1763</td>\n",
       "    </tr>\n",
       "    <tr>\n",
       "      <th>unique</th>\n",
       "      <td>1732</td>\n",
       "      <td>727</td>\n",
       "      <td>723</td>\n",
       "    </tr>\n",
       "    <tr>\n",
       "      <th>top</th>\n",
       "      <td>31-08-2021</td>\n",
       "      <td>197,00</td>\n",
       "      <td>151,00</td>\n",
       "    </tr>\n",
       "    <tr>\n",
       "      <th>freq</th>\n",
       "      <td>7</td>\n",
       "      <td>16</td>\n",
       "      <td>16</td>\n",
       "    </tr>\n",
       "  </tbody>\n",
       "</table>\n",
       "</div>"
      ],
      "text/plain": [
       "             Fecha  Compra   Venta\n",
       "count         1763    1763    1763\n",
       "unique        1732     727     723\n",
       "top     31-08-2021  197,00  151,00\n",
       "freq             7      16      16"
      ]
     },
     "execution_count": 42,
     "metadata": {},
     "output_type": "execute_result"
    }
   ],
   "source": [
    "# 3) \n",
    "\n",
    "dolarblue.describe()"
   ]
  },
  {
   "cell_type": "markdown",
   "metadata": {},
   "source": [
    "# B)"
   ]
  },
  {
   "cell_type": "code",
   "execution_count": 43,
   "metadata": {},
   "outputs": [
    {
     "name": "stderr",
     "output_type": "stream",
     "text": [
      "/var/folders/xx/hcklcr8s0rxd7p5fz63z342w0000gn/T/ipykernel_10208/1413261073.py:1: UserWarning: Parsing dates in %d-%m-%Y format when dayfirst=False (the default) was specified. Pass `dayfirst=True` or specify a format to silence this warning.\n",
      "  dolarblue[\"Fecha\"] = pd.to_datetime(dolarblue[\"Fecha\"])\n"
     ]
    }
   ],
   "source": [
    "dolarblue[\"Fecha\"] = pd.to_datetime(dolarblue[\"Fecha\"])"
   ]
  },
  {
   "cell_type": "markdown",
   "metadata": {},
   "source": [
    "# C)"
   ]
  },
  {
   "cell_type": "code",
   "execution_count": 57,
   "metadata": {},
   "outputs": [],
   "source": [
    "dolarblue[\"anio_mes\"] = dolarblue[\"Fecha\"].dt.strftime(\"%Y-%m\")"
   ]
  },
  {
   "cell_type": "code",
   "execution_count": 58,
   "metadata": {},
   "outputs": [
    {
     "data": {
      "text/html": [
       "<div>\n",
       "<style scoped>\n",
       "    .dataframe tbody tr th:only-of-type {\n",
       "        vertical-align: middle;\n",
       "    }\n",
       "\n",
       "    .dataframe tbody tr th {\n",
       "        vertical-align: top;\n",
       "    }\n",
       "\n",
       "    .dataframe thead th {\n",
       "        text-align: right;\n",
       "    }\n",
       "</style>\n",
       "<table border=\"1\" class=\"dataframe\">\n",
       "  <thead>\n",
       "    <tr style=\"text-align: right;\">\n",
       "      <th></th>\n",
       "      <th>Fecha</th>\n",
       "      <th>Compra</th>\n",
       "      <th>Venta</th>\n",
       "      <th>anio_mes</th>\n",
       "    </tr>\n",
       "  </thead>\n",
       "  <tbody>\n",
       "    <tr>\n",
       "      <th>0</th>\n",
       "      <td>2022-07-15</td>\n",
       "      <td>283,00</td>\n",
       "      <td>293.00</td>\n",
       "      <td>2022-07</td>\n",
       "    </tr>\n",
       "    <tr>\n",
       "      <th>1</th>\n",
       "      <td>2022-07-14</td>\n",
       "      <td>279,00</td>\n",
       "      <td>289.00</td>\n",
       "      <td>2022-07</td>\n",
       "    </tr>\n",
       "    <tr>\n",
       "      <th>2</th>\n",
       "      <td>2022-07-13</td>\n",
       "      <td>273,00</td>\n",
       "      <td>283.00</td>\n",
       "      <td>2022-07</td>\n",
       "    </tr>\n",
       "    <tr>\n",
       "      <th>3</th>\n",
       "      <td>2022-07-12</td>\n",
       "      <td>262,00</td>\n",
       "      <td>272.00</td>\n",
       "      <td>2022-07</td>\n",
       "    </tr>\n",
       "    <tr>\n",
       "      <th>4</th>\n",
       "      <td>2022-07-11</td>\n",
       "      <td>258,00</td>\n",
       "      <td>268.00</td>\n",
       "      <td>2022-07</td>\n",
       "    </tr>\n",
       "    <tr>\n",
       "      <th>...</th>\n",
       "      <td>...</td>\n",
       "      <td>...</td>\n",
       "      <td>...</td>\n",
       "      <td>...</td>\n",
       "    </tr>\n",
       "    <tr>\n",
       "      <th>1758</th>\n",
       "      <td>2015-06-22</td>\n",
       "      <td>12,95</td>\n",
       "      <td>13.05</td>\n",
       "      <td>2015-06</td>\n",
       "    </tr>\n",
       "    <tr>\n",
       "      <th>1759</th>\n",
       "      <td>2015-06-19</td>\n",
       "      <td>12,92</td>\n",
       "      <td>13.02</td>\n",
       "      <td>2015-06</td>\n",
       "    </tr>\n",
       "    <tr>\n",
       "      <th>1760</th>\n",
       "      <td>2015-06-18</td>\n",
       "      <td>12,98</td>\n",
       "      <td>13.08</td>\n",
       "      <td>2015-06</td>\n",
       "    </tr>\n",
       "    <tr>\n",
       "      <th>1761</th>\n",
       "      <td>2015-06-17</td>\n",
       "      <td>12,84</td>\n",
       "      <td>12.94</td>\n",
       "      <td>2015-06</td>\n",
       "    </tr>\n",
       "    <tr>\n",
       "      <th>1762</th>\n",
       "      <td>2015-06-16</td>\n",
       "      <td>12,75</td>\n",
       "      <td>12.85</td>\n",
       "      <td>2015-06</td>\n",
       "    </tr>\n",
       "  </tbody>\n",
       "</table>\n",
       "<p>1763 rows × 4 columns</p>\n",
       "</div>"
      ],
      "text/plain": [
       "          Fecha  Compra   Venta anio_mes\n",
       "0    2022-07-15  283,00  293.00  2022-07\n",
       "1    2022-07-14  279,00  289.00  2022-07\n",
       "2    2022-07-13  273,00  283.00  2022-07\n",
       "3    2022-07-12  262,00  272.00  2022-07\n",
       "4    2022-07-11  258,00  268.00  2022-07\n",
       "...         ...     ...     ...      ...\n",
       "1758 2015-06-22   12,95   13.05  2015-06\n",
       "1759 2015-06-19   12,92   13.02  2015-06\n",
       "1760 2015-06-18   12,98   13.08  2015-06\n",
       "1761 2015-06-17   12,84   12.94  2015-06\n",
       "1762 2015-06-16   12,75   12.85  2015-06\n",
       "\n",
       "[1763 rows x 4 columns]"
      ]
     },
     "execution_count": 58,
     "metadata": {},
     "output_type": "execute_result"
    }
   ],
   "source": [
    "dolarblue"
   ]
  },
  {
   "cell_type": "markdown",
   "metadata": {},
   "source": [
    "___"
   ]
  },
  {
   "cell_type": "markdown",
   "metadata": {},
   "source": [
    "# 17)  Cree un dataset del valor promedio de la venta del dólar por año-mes (groupby).(fijarse ejercicio siguiente en caso de que no de nada de output)"
   ]
  },
  {
   "cell_type": "code",
   "execution_count": 46,
   "metadata": {},
   "outputs": [
    {
     "data": {
      "text/plain": [
       "Fecha       datetime64[ns]\n",
       "Compra              object\n",
       "Venta               object\n",
       "anio_mes            object\n",
       "dtype: object"
      ]
     },
     "execution_count": 46,
     "metadata": {},
     "output_type": "execute_result"
    }
   ],
   "source": [
    "dolarblue.dtypes"
   ]
  },
  {
   "cell_type": "markdown",
   "metadata": {},
   "source": [
    "___"
   ]
  },
  {
   "cell_type": "markdown",
   "metadata": {},
   "source": [
    "# 18) En python pase la columna Dolar Venta a Float.\n",
    "\n",
    "(Hint en python dolar_df.Venta.apply(lambda x:x.replace(\",\",\".\"))))"
   ]
  },
  {
   "cell_type": "markdown",
   "metadata": {},
   "source": [
    "```python\n",
    "def reemplazar(x):\n",
    "    return x.replace(\",\", \".\")\n",
    "\n",
    "df['Venta'] = df['Venta'].apply(reemplazar)\n",
    "```"
   ]
  },
  {
   "cell_type": "code",
   "execution_count": 47,
   "metadata": {},
   "outputs": [],
   "source": [
    "dolarblue[\"Venta\"] = dolarblue[\"Venta\"].apply(lambda x:x.replace(\",\",\".\"))\n",
    "dolarblue[\"Venta\"] = dolarblue[\"Venta\"].astype(float)\n"
   ]
  },
  {
   "cell_type": "code",
   "execution_count": 48,
   "metadata": {},
   "outputs": [
    {
     "data": {
      "text/html": [
       "<div>\n",
       "<style scoped>\n",
       "    .dataframe tbody tr th:only-of-type {\n",
       "        vertical-align: middle;\n",
       "    }\n",
       "\n",
       "    .dataframe tbody tr th {\n",
       "        vertical-align: top;\n",
       "    }\n",
       "\n",
       "    .dataframe thead th {\n",
       "        text-align: right;\n",
       "    }\n",
       "</style>\n",
       "<table border=\"1\" class=\"dataframe\">\n",
       "  <thead>\n",
       "    <tr style=\"text-align: right;\">\n",
       "      <th></th>\n",
       "      <th>anio_mes</th>\n",
       "      <th>precio_dolar</th>\n",
       "    </tr>\n",
       "  </thead>\n",
       "  <tbody>\n",
       "    <tr>\n",
       "      <th>0</th>\n",
       "      <td>2015-06</td>\n",
       "      <td>13.213636</td>\n",
       "    </tr>\n",
       "    <tr>\n",
       "      <th>1</th>\n",
       "      <td>2015-07</td>\n",
       "      <td>14.226818</td>\n",
       "    </tr>\n",
       "    <tr>\n",
       "      <th>2</th>\n",
       "      <td>2015-08</td>\n",
       "      <td>15.236500</td>\n",
       "    </tr>\n",
       "    <tr>\n",
       "      <th>3</th>\n",
       "      <td>2015-09</td>\n",
       "      <td>15.754545</td>\n",
       "    </tr>\n",
       "    <tr>\n",
       "      <th>4</th>\n",
       "      <td>2015-10</td>\n",
       "      <td>15.869524</td>\n",
       "    </tr>\n",
       "    <tr>\n",
       "      <th>...</th>\n",
       "      <td>...</td>\n",
       "      <td>...</td>\n",
       "    </tr>\n",
       "    <tr>\n",
       "      <th>81</th>\n",
       "      <td>2022-03</td>\n",
       "      <td>201.666667</td>\n",
       "    </tr>\n",
       "    <tr>\n",
       "      <th>82</th>\n",
       "      <td>2022-04</td>\n",
       "      <td>199.736842</td>\n",
       "    </tr>\n",
       "    <tr>\n",
       "      <th>83</th>\n",
       "      <td>2022-05</td>\n",
       "      <td>204.350000</td>\n",
       "    </tr>\n",
       "    <tr>\n",
       "      <th>84</th>\n",
       "      <td>2022-06</td>\n",
       "      <td>218.450000</td>\n",
       "    </tr>\n",
       "    <tr>\n",
       "      <th>85</th>\n",
       "      <td>2022-07</td>\n",
       "      <td>267.363636</td>\n",
       "    </tr>\n",
       "  </tbody>\n",
       "</table>\n",
       "<p>86 rows × 2 columns</p>\n",
       "</div>"
      ],
      "text/plain": [
       "   anio_mes  precio_dolar\n",
       "0   2015-06     13.213636\n",
       "1   2015-07     14.226818\n",
       "2   2015-08     15.236500\n",
       "3   2015-09     15.754545\n",
       "4   2015-10     15.869524\n",
       "..      ...           ...\n",
       "81  2022-03    201.666667\n",
       "82  2022-04    199.736842\n",
       "83  2022-05    204.350000\n",
       "84  2022-06    218.450000\n",
       "85  2022-07    267.363636\n",
       "\n",
       "[86 rows x 2 columns]"
      ]
     },
     "execution_count": 48,
     "metadata": {},
     "output_type": "execute_result"
    }
   ],
   "source": [
    "dolar_df_mensual = dolarblue.groupby(\"anio_mes\").agg(precio_dolar = (\"Venta\", \"mean\")).reset_index()\n",
    "\n",
    "dolar_df_mensual"
   ]
  },
  {
   "cell_type": "markdown",
   "metadata": {},
   "source": [
    "___"
   ]
  },
  {
   "cell_type": "markdown",
   "metadata": {},
   "source": [
    "# 19) Cree un dataset que sea el resultado de hacer un merge/join entre el dataset agrupado de recibos_facts_debitos con el agrupado de dolar del punto anterior.\n",
    "\n",
    "(Hint en python pd.merge(rec_mensual, dolar_df_mensual,how=\"left\",\n",
    "left_index=True,right_index=True)"
   ]
  },
  {
   "cell_type": "code",
   "execution_count": 49,
   "metadata": {},
   "outputs": [
    {
     "data": {
      "text/html": [
       "<div>\n",
       "<style scoped>\n",
       "    .dataframe tbody tr th:only-of-type {\n",
       "        vertical-align: middle;\n",
       "    }\n",
       "\n",
       "    .dataframe tbody tr th {\n",
       "        vertical-align: top;\n",
       "    }\n",
       "\n",
       "    .dataframe thead th {\n",
       "        text-align: right;\n",
       "    }\n",
       "</style>\n",
       "<table border=\"1\" class=\"dataframe\">\n",
       "  <thead>\n",
       "    <tr style=\"text-align: right;\">\n",
       "      <th></th>\n",
       "      <th>suma_monto</th>\n",
       "      <th>cantidad_recibos</th>\n",
       "      <th>anio_mes</th>\n",
       "      <th>precio_dolar</th>\n",
       "    </tr>\n",
       "    <tr>\n",
       "      <th>anio_mes</th>\n",
       "      <th></th>\n",
       "      <th></th>\n",
       "      <th></th>\n",
       "      <th></th>\n",
       "    </tr>\n",
       "  </thead>\n",
       "  <tbody>\n",
       "    <tr>\n",
       "      <th>2015-12</th>\n",
       "      <td>3339.00</td>\n",
       "      <td>4</td>\n",
       "      <td>NaN</td>\n",
       "      <td>NaN</td>\n",
       "    </tr>\n",
       "    <tr>\n",
       "      <th>2016-01</th>\n",
       "      <td>23217.27</td>\n",
       "      <td>24</td>\n",
       "      <td>NaN</td>\n",
       "      <td>NaN</td>\n",
       "    </tr>\n",
       "    <tr>\n",
       "      <th>2016-02</th>\n",
       "      <td>87138.09</td>\n",
       "      <td>61</td>\n",
       "      <td>NaN</td>\n",
       "      <td>NaN</td>\n",
       "    </tr>\n",
       "    <tr>\n",
       "      <th>2016-03</th>\n",
       "      <td>193843.65</td>\n",
       "      <td>158</td>\n",
       "      <td>NaN</td>\n",
       "      <td>NaN</td>\n",
       "    </tr>\n",
       "    <tr>\n",
       "      <th>2016-04</th>\n",
       "      <td>208850.76</td>\n",
       "      <td>171</td>\n",
       "      <td>NaN</td>\n",
       "      <td>NaN</td>\n",
       "    </tr>\n",
       "    <tr>\n",
       "      <th>...</th>\n",
       "      <td>...</td>\n",
       "      <td>...</td>\n",
       "      <td>...</td>\n",
       "      <td>...</td>\n",
       "    </tr>\n",
       "    <tr>\n",
       "      <th>2022-02</th>\n",
       "      <td>177288.65</td>\n",
       "      <td>189</td>\n",
       "      <td>NaN</td>\n",
       "      <td>NaN</td>\n",
       "    </tr>\n",
       "    <tr>\n",
       "      <th>2022-03</th>\n",
       "      <td>245495.68</td>\n",
       "      <td>209</td>\n",
       "      <td>NaN</td>\n",
       "      <td>NaN</td>\n",
       "    </tr>\n",
       "    <tr>\n",
       "      <th>2022-04</th>\n",
       "      <td>145510.59</td>\n",
       "      <td>148</td>\n",
       "      <td>NaN</td>\n",
       "      <td>NaN</td>\n",
       "    </tr>\n",
       "    <tr>\n",
       "      <th>2022-05</th>\n",
       "      <td>87518.58</td>\n",
       "      <td>106</td>\n",
       "      <td>NaN</td>\n",
       "      <td>NaN</td>\n",
       "    </tr>\n",
       "    <tr>\n",
       "      <th>2022-06</th>\n",
       "      <td>81386.59</td>\n",
       "      <td>88</td>\n",
       "      <td>NaN</td>\n",
       "      <td>NaN</td>\n",
       "    </tr>\n",
       "  </tbody>\n",
       "</table>\n",
       "<p>79 rows × 4 columns</p>\n",
       "</div>"
      ],
      "text/plain": [
       "          suma_monto  cantidad_recibos anio_mes  precio_dolar\n",
       "anio_mes                                                     \n",
       "2015-12      3339.00                 4      NaN           NaN\n",
       "2016-01     23217.27                24      NaN           NaN\n",
       "2016-02     87138.09                61      NaN           NaN\n",
       "2016-03    193843.65               158      NaN           NaN\n",
       "2016-04    208850.76               171      NaN           NaN\n",
       "...              ...               ...      ...           ...\n",
       "2022-02    177288.65               189      NaN           NaN\n",
       "2022-03    245495.68               209      NaN           NaN\n",
       "2022-04    145510.59               148      NaN           NaN\n",
       "2022-05     87518.58               106      NaN           NaN\n",
       "2022-06     81386.59                88      NaN           NaN\n",
       "\n",
       "[79 rows x 4 columns]"
      ]
     },
     "execution_count": 49,
     "metadata": {},
     "output_type": "execute_result"
    }
   ],
   "source": [
    "df_mensual = pd.merge(comprobantes_cobrados_por_mes, dolar_df_mensual ,how=\"left\",left_index=True,right_index=True)\n",
    "df_mensual\n"
   ]
  },
  {
   "cell_type": "markdown",
   "metadata": {},
   "source": [
    "___"
   ]
  },
  {
   "cell_type": "markdown",
   "metadata": {},
   "source": [
    "# 20) Hacer un lineplot del total cobrado por año mes"
   ]
  },
  {
   "cell_type": "code",
   "execution_count": 50,
   "metadata": {},
   "outputs": [
    {
     "data": {
      "text/plain": [
       "<Axes: xlabel='anio_mes'>"
      ]
     },
     "execution_count": 50,
     "metadata": {},
     "output_type": "execute_result"
    },
    {
     "data": {
      "image/png": "[encoded data removed]",
      "text/plain": [
       "<Figure size 640x480 with 1 Axes>"
      ]
     },
     "metadata": {},
     "output_type": "display_data"
    }
   ],
   "source": [
    "df_mensual[\"suma_monto\"].plot()"
   ]
  },
  {
   "cell_type": "markdown",
   "metadata": {},
   "source": [
    "___"
   ]
  },
  {
   "cell_type": "markdown",
   "metadata": {},
   "source": [
    "# 21) Lineplot con clientes únicos por año mes en otro gráfico"
   ]
  },
  {
   "cell_type": "code",
   "execution_count": 51,
   "metadata": {},
   "outputs": [
    {
     "data": {
      "text/html": [
       "<div>\n",
       "<style scoped>\n",
       "    .dataframe tbody tr th:only-of-type {\n",
       "        vertical-align: middle;\n",
       "    }\n",
       "\n",
       "    .dataframe tbody tr th {\n",
       "        vertical-align: top;\n",
       "    }\n",
       "\n",
       "    .dataframe thead th {\n",
       "        text-align: right;\n",
       "    }\n",
       "</style>\n",
       "<table border=\"1\" class=\"dataframe\">\n",
       "  <thead>\n",
       "    <tr style=\"text-align: right;\">\n",
       "      <th></th>\n",
       "      <th>clientes_unicos</th>\n",
       "    </tr>\n",
       "    <tr>\n",
       "      <th>anio_mes</th>\n",
       "      <th></th>\n",
       "    </tr>\n",
       "  </thead>\n",
       "  <tbody>\n",
       "    <tr>\n",
       "      <th>2015-12</th>\n",
       "      <td>3</td>\n",
       "    </tr>\n",
       "    <tr>\n",
       "      <th>2016-01</th>\n",
       "      <td>17</td>\n",
       "    </tr>\n",
       "    <tr>\n",
       "      <th>2016-02</th>\n",
       "      <td>51</td>\n",
       "    </tr>\n",
       "    <tr>\n",
       "      <th>2016-03</th>\n",
       "      <td>107</td>\n",
       "    </tr>\n",
       "    <tr>\n",
       "      <th>2016-04</th>\n",
       "      <td>126</td>\n",
       "    </tr>\n",
       "    <tr>\n",
       "      <th>...</th>\n",
       "      <td>...</td>\n",
       "    </tr>\n",
       "    <tr>\n",
       "      <th>2022-02</th>\n",
       "      <td>44</td>\n",
       "    </tr>\n",
       "    <tr>\n",
       "      <th>2022-03</th>\n",
       "      <td>41</td>\n",
       "    </tr>\n",
       "    <tr>\n",
       "      <th>2022-04</th>\n",
       "      <td>35</td>\n",
       "    </tr>\n",
       "    <tr>\n",
       "      <th>2022-05</th>\n",
       "      <td>30</td>\n",
       "    </tr>\n",
       "    <tr>\n",
       "      <th>2022-06</th>\n",
       "      <td>24</td>\n",
       "    </tr>\n",
       "  </tbody>\n",
       "</table>\n",
       "<p>79 rows × 1 columns</p>\n",
       "</div>"
      ],
      "text/plain": [
       "          clientes_unicos\n",
       "anio_mes                 \n",
       "2015-12                 3\n",
       "2016-01                17\n",
       "2016-02                51\n",
       "2016-03               107\n",
       "2016-04               126\n",
       "...                   ...\n",
       "2022-02                44\n",
       "2022-03                41\n",
       "2022-04                35\n",
       "2022-05                30\n",
       "2022-06                24\n",
       "\n",
       "[79 rows x 1 columns]"
      ]
     },
     "execution_count": 51,
     "metadata": {},
     "output_type": "execute_result"
    }
   ],
   "source": [
    "clientes_unicos_por_mes = comprobantes.groupby(\"anio_mes\").agg(clientes_unicos = (\"id_cliente\", \"nunique\"))\n",
    "\n",
    "clientes_unicos_por_mes\n",
    "\n"
   ]
  },
  {
   "cell_type": "code",
   "execution_count": 52,
   "metadata": {},
   "outputs": [
    {
     "data": {
      "text/plain": [
       "<Axes: xlabel='anio_mes'>"
      ]
     },
     "execution_count": 52,
     "metadata": {},
     "output_type": "execute_result"
    },
    {
     "data": {
      "image/png": "[encoded data removed]",
      "text/plain": [
       "<Figure size 640x480 with 1 Axes>"
      ]
     },
     "metadata": {},
     "output_type": "display_data"
    }
   ],
   "source": [
    "clientes_unicos_por_mes[\"clientes_unicos\"].plot()"
   ]
  },
  {
   "cell_type": "markdown",
   "metadata": {},
   "source": [
    "___"
   ]
  },
  {
   "cell_type": "markdown",
   "metadata": {},
   "source": [
    "# 22) Poner ambas líneas en dos gráficos alineados en la misma columna"
   ]
  },
  {
   "cell_type": "code",
   "execution_count": 53,
   "metadata": {},
   "outputs": [
    {
     "data": {
      "image/png": "[encoded data removed]",
      "text/plain": [
       "<Figure size 1400x500 with 2 Axes>"
      ]
     },
     "metadata": {},
     "output_type": "display_data"
    }
   ],
   "source": [
    "# Destructuring initialization\n",
    "import matplotlib.pyplot as plt\n",
    "fig, axs = plt.subplots(1, 2, figsize=(14,5)) # axs is a (1,2) nd-array\n",
    "\n",
    "# First subplot\n",
    "axs[0].plot(clientes_unicos_por_mes[\"clientes_unicos\"], label=\"clientes únicos\")\n",
    "axs[0].set_title('Clientes unicos')\n",
    "axs[0].legend()\n",
    "# Second subplot\n",
    "axs[1].plot(df_mensual[\"suma_monto\"], label=\"Monto mensual\", c='orange')\n",
    "axs[1].set_title(\"Monto en pesos\")\n",
    "axs[1].legend()\n",
    "# Global figure methods\n",
    "plt.suptitle('Suma de monto vs clientes únicos')\n",
    "plt.show()"
   ]
  },
  {
   "cell_type": "markdown",
   "metadata": {},
   "source": [
    "___"
   ]
  },
  {
   "cell_type": "markdown",
   "metadata": {},
   "source": [
    "# 23) Haga otro gráfico que le parezca interesante. ¿Qué idea transmite con ese gráfico?"
   ]
  },
  {
   "cell_type": "markdown",
   "metadata": {},
   "source": [
    "___"
   ]
  },
  {
   "cell_type": "markdown",
   "metadata": {},
   "source": [
    "# 24) Imprima la ubicación de este notebook (el path)"
   ]
  },
  {
   "cell_type": "code",
   "execution_count": 54,
   "metadata": {},
   "outputs": [
    {
     "name": "stdout",
     "output_type": "stream",
     "text": [
      "/Users/lolonastri/Desktop/POO_UCEMA/modelos_primer_parcial/dolarblue_y_recibos\n"
     ]
    }
   ],
   "source": [
    "!pwd"
   ]
  },
  {
   "cell_type": "markdown",
   "metadata": {},
   "source": [
    "___"
   ]
  },
  {
   "cell_type": "markdown",
   "metadata": {},
   "source": [
    "# *_TEORÍA_*"
   ]
  },
  {
   "cell_type": "markdown",
   "metadata": {},
   "source": [
    "# 1) Teniendo en cuenta este dataset ¿Qué problema podrías resolver con Machine Learning?\n",
    "\n",
    "#### Dado que es una empresa que cobra préstamos y a esa dinero lo vuelve a colocar. Poder predecir cuanto dinero voy a cobrar mes a mes me permitiría tener una proyección clara de los fondos que voy a disponer para distintas estrategias financieras. Saber tambien cuanto dinero voy a cobrar los siguientes meses podría permitirme entnder a cuanto tiempo colocar el dinero, si lo coloco a un plazo muy largo y empiezo a cobrar menos, tal vez me quede sin dinero, si lo hago a muy corto plazo estimando que voy a cobrar mucho dinero podría también estar tomando un mala decisión."
   ]
  },
  {
   "cell_type": "markdown",
   "metadata": {},
   "source": [
    "# 2) En caso de embarcarse en una tarea de Machine Learning. Describa el proceso CRISPDM y expliquelo para este caso.\n",
    "\n",
    "#### El proceso CRISPDM tiene cómo etapas el entendimiento del negocio, el entendimiento de la data, la preparación o procesamiento, la evaluación y el deployment. En este caso habría que entender el valor económico de tener en claro que monto se va a cobrar para saber si justifica o no el modelo. Una vez entendido habría que buscar entender que columnas pueden favores a predecir cuanto se va a cobrar. ¿Los préstamos a cobrar están determinados por las condiciones macroeconómicas o también está determinado por cuantos préstamos se dieron los meses anteriores?. En caso de la preparación de la data en este caso habría que repetir eliminar los nulos y outliers. El modelo debería predecir una valor continuo, el monto a cobrar mensual. Para evaluarlo deberíamos hacer un back testing evaluando meses que conocemos sus resultados vs el valor del modelo. El deployment podría ser 1 vez al mes, no necesita ser real time."
   ]
  },
  {
   "cell_type": "markdown",
   "metadata": {},
   "source": [
    "# 3) ¿Qué decisión del negocio o tarea se podría automatizar o escalar? ¿Por qué?\n",
    "\n",
    "#### Podría automatizar la decisión de transferir al broker la cantidad de dinero a utilizar en estrategias y los plazos. Por otro lado cómo también tengo la data a nivel cliente podría predecir cuál es la probabilidad que un cliente individual pague el mes siguiente. Es analogo a los recibos totales pero a nivle individual. Podría automatizar un mensaje al cliente días previos al vencimiento de la cuota o un sistema de ranking para priorizar a cobradores de la empresa. Tendrían que llamar primer oa los clientes con mayor probabilidad de no pagar o menor probabilidad de pagar."
   ]
  }
 ],
 "metadata": {
  "kernelspec": {
   "display_name": "POO-env",
   "language": "python",
   "name": "python3"
  },
  "language_info": {
   "codemirror_mode": {
    "name": "ipython",
    "version": 3
   },
   "file_extension": ".py",
   "mimetype": "text/x-python",
   "name": "python",
   "nbconvert_exporter": "python",
   "pygments_lexer": "ipython3",
   "version": "3.11.4"
  },
  "orig_nbformat": 4
 },
 "nbformat": 4,
 "nbformat_minor": 2
}
